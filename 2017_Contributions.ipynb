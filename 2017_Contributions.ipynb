{
  "nbformat": 4,
  "nbformat_minor": 0,
  "metadata": {
    "colab": {
      "name": "2017_Contributions.ipynb",
      "provenance": [],
      "collapsed_sections": [],
      "authorship_tag": "ABX9TyO+qDOOpyKsjArR4V08I01W",
      "include_colab_link": true
    },
    "kernelspec": {
      "name": "python3",
      "display_name": "Python 3"
    },
    "language_info": {
      "name": "python"
    }
  },
  "cells": [
    {
      "cell_type": "markdown",
      "metadata": {
        "id": "view-in-github",
        "colab_type": "text"
      },
      "source": [
        "<a href=\"https://colab.research.google.com/github/ssheggrud/Mod_20_Project/blob/05_Riley/2017_Contributions.ipynb\" target=\"_parent\"><img src=\"https://colab.research.google.com/assets/colab-badge.svg\" alt=\"Open In Colab\"/></a>"
      ]
    },
    {
      "cell_type": "markdown",
      "metadata": {
        "id": "qo0_SOu8LIEc"
      },
      "source": [
        "## **2017 Indivdual Contributions**"
      ]
    },
    {
      "cell_type": "code",
      "metadata": {
        "colab": {
          "base_uri": "https://localhost:8080/"
        },
        "id": "ddn5mqQ0M_R3",
        "outputId": "ebd0c87f-bbda-45fe-bba8-7d56fa5e13d5"
      },
      "source": [
        "import os\n",
        "# Find the latest version of spark 3.0 from http://www.apache.org/dist/spark/ and enter as the spark version\n",
        "# For example:\n",
        "spark_version = 'spark-3.0.3'\n",
        "#spark_version = 'spark-2.4.8'\n",
        "os.environ['SPARK_VERSION']=spark_version\n",
        "\n",
        "# Install Spark and Java\n",
        "!apt-get update\n",
        "!apt-get install openjdk-11-jdk-headless -qq > /dev/null\n",
        "!wget -q http://www.apache.org/dist/spark/$SPARK_VERSION/$SPARK_VERSION-bin-hadoop2.7.tgz\n",
        "!tar xf $SPARK_VERSION-bin-hadoop2.7.tgz\n",
        "!pip install -q findspark\n",
        "\n",
        "# Set Environment Variables\n",
        "import os\n",
        "os.environ[\"JAVA_HOME\"] = \"/usr/lib/jvm/java-11-openjdk-amd64\"\n",
        "os.environ[\"SPARK_HOME\"] = f\"/content/{spark_version}-bin-hadoop2.7\"\n",
        "\n",
        "# Start a SparkSession\n",
        "import findspark\n",
        "findspark.init()\n",
        "\n",
        "import pandas as pd\n"
      ],
      "execution_count": 1,
      "outputs": [
        {
          "output_type": "stream",
          "name": "stdout",
          "text": [
            "Get:1 http://security.ubuntu.com/ubuntu bionic-security InRelease [88.7 kB]\n",
            "Ign:2 https://developer.download.nvidia.com/compute/cuda/repos/ubuntu1804/x86_64  InRelease\n",
            "Hit:3 https://cloud.r-project.org/bin/linux/ubuntu bionic-cran40/ InRelease\n",
            "Hit:4 http://ppa.launchpad.net/c2d4u.team/c2d4u4.0+/ubuntu bionic InRelease\n",
            "Hit:5 http://archive.ubuntu.com/ubuntu bionic InRelease\n",
            "Ign:6 https://developer.download.nvidia.com/compute/machine-learning/repos/ubuntu1804/x86_64  InRelease\n",
            "Hit:7 https://developer.download.nvidia.com/compute/cuda/repos/ubuntu1804/x86_64  Release\n",
            "Hit:8 https://developer.download.nvidia.com/compute/machine-learning/repos/ubuntu1804/x86_64  Release\n",
            "Hit:9 http://archive.ubuntu.com/ubuntu bionic-updates InRelease\n",
            "Hit:10 http://ppa.launchpad.net/cran/libgit2/ubuntu bionic InRelease\n",
            "Hit:11 http://archive.ubuntu.com/ubuntu bionic-backports InRelease\n",
            "Hit:12 http://ppa.launchpad.net/deadsnakes/ppa/ubuntu bionic InRelease\n",
            "Hit:13 http://ppa.launchpad.net/graphics-drivers/ppa/ubuntu bionic InRelease\n",
            "Fetched 88.7 kB in 5s (17.8 kB/s)\n",
            "Reading package lists... Done\n"
          ]
        }
      ]
    },
    {
      "cell_type": "code",
      "metadata": {
        "id": "jiP19KLKCpxR"
      },
      "source": [
        "import findspark\n",
        "findspark.add_packages('mysql:mysql-connector-java:8.0.11')"
      ],
      "execution_count": 2,
      "outputs": []
    },
    {
      "cell_type": "code",
      "metadata": {
        "colab": {
          "base_uri": "https://localhost:8080/"
        },
        "id": "B9Dd_JabNFZU",
        "outputId": "dc488419-3a72-44a2-eb4d-189aa8f669d3"
      },
      "source": [
        "# Download the Postgres driver that will allow Spark to interact with Postgres.\n",
        "!wget https://jdbc.postgresql.org/download/postgresql-42.2.16.jar"
      ],
      "execution_count": 3,
      "outputs": [
        {
          "output_type": "stream",
          "name": "stdout",
          "text": [
            "--2021-09-09 15:06:52--  https://jdbc.postgresql.org/download/postgresql-42.2.16.jar\n",
            "Resolving jdbc.postgresql.org (jdbc.postgresql.org)... 72.32.157.228, 2001:4800:3e1:1::228\n",
            "Connecting to jdbc.postgresql.org (jdbc.postgresql.org)|72.32.157.228|:443... connected.\n",
            "HTTP request sent, awaiting response... 200 OK\n",
            "Length: 1002883 (979K) [application/java-archive]\n",
            "Saving to: ‘postgresql-42.2.16.jar.2’\n",
            "\n",
            "postgresql-42.2.16. 100%[===================>] 979.38K  --.-KB/s    in 0.1s    \n",
            "\n",
            "2021-09-09 15:06:52 (6.52 MB/s) - ‘postgresql-42.2.16.jar.2’ saved [1002883/1002883]\n",
            "\n"
          ]
        }
      ]
    },
    {
      "cell_type": "code",
      "metadata": {
        "id": "VrvolWKMNFbe"
      },
      "source": [
        "# Start Spark session\n",
        "#from pyspark.sql import SparkSession\n",
        "#from pyspark.sql.functions import col\n",
        "#spark = SparkSession.builder.appName(\"FinalProject\").getOrCreate()"
      ],
      "execution_count": 4,
      "outputs": []
    },
    {
      "cell_type": "code",
      "metadata": {
        "id": "M9RnA4W6GDS6"
      },
      "source": [
        "from pyspark.sql import SparkSession\n",
        "spark = SparkSession.builder.appName(\"CloudETL\").config(\"spark.driver.extraClassPath\",\"/content/postgresql-42.2.16.jar\").getOrCreate()"
      ],
      "execution_count": 5,
      "outputs": []
    },
    {
      "cell_type": "code",
      "metadata": {
        "colab": {
          "base_uri": "https://localhost:8080/"
        },
        "id": "W2uxnkAjNFeD",
        "outputId": "912c3bc0-eb78-4f5b-9bf7-f1c904b73a3d"
      },
      "source": [
        "# Read in data from S3 Buckets\n",
        "from pyspark import SparkFiles\n",
        "url = \"https://databootcamp-final-05.s3.amazonaws.com/Resources/Individual+Contributions+2017+(X).csv\"\n",
        "spark.sparkContext.addFile(url)\n",
        "df = spark.read.csv(SparkFiles.get(\"Individual+Contributions+2017+(X).csv\"), sep=\",\", header=True)\n",
        "df.show()"
      ],
      "execution_count": 6,
      "outputs": [
        {
          "output_type": "stream",
          "name": "stdout",
          "text": [
            "+--------+--------+-------+--------+-------------------+---------+------+--------+------+----------+--------+----------+----------+------------------+------+-----+-------+---------+---------+------------------+-----+-----+------------------+--------------------+--------+------------------+-------------+--------+-----+---------+--------+----------+--------+----------------+--------+--------+--------+---------------+-----+------+----------+----------+----------+----------+--------+---------+---------+--------+---------+------+-------+----------+\n",
            "|ELECTION|OFFICECD|RECIPID|CANCLASS|          RECIPNAME|COMMITTEE|FILING|SCHEDULE|PAGENO|SEQUENCENO|   REFNO|      DATE|REFUNDDATE|              NAME|C_CODE|STRNO|STRNAME|APARTMENT|BOROUGHCD|              CITY|STATE|  ZIP|        OCCUPATION|             EMPNAME|EMPSTRNO|        EMPSTRNAME|      EMPCITY|EMPSTATE| AMNT|MATCHAMNT|PREVAMNT|PAY_METHOD|INTERMNO|      INTERMNAME|INTSTRNO|INTSTRNM|INTAPTNO|        INTCITY|INTST|INTZIP|INTEMPNAME|INTEMPSTNO|INTEMPSTNM|INTEMPCITY|INTEMPST|INTOCCUPA|PURPOSECD|EXEMPTCD|ADJTYPECD|RR_IND|SEG_IND|INT_C_CODE|\n",
            "+--------+--------+-------+--------+-------------------+---------+------+--------+------+----------+--------+----------+----------+------------------+------+-----+-------+---------+---------+------------------+-----+-----+------------------+--------------------+--------+------------------+-------------+--------+-----+---------+--------+----------+--------+----------------+--------+--------+--------+---------------+-----+------+----------+----------+----------+----------+--------+---------+---------+--------+---------+------+-------+----------+\n",
            "|    2017|       1|    326|       P|    de Blasio, Bill|        P|    10|     ABC|  null|      null|R0077664|  8/7/2017|      null|  A Hayes, Melinda|   IND| null|   null|     null|        K|          Brooklyn|   NY|11213|          Attorney|                 NYC|     350|        Jay Street|     Brooklyn|      NY|    5|        5|       0|         4|    null|            null|    null|    null|    null|           null| null|  null|      null|      null|      null|      null|    null|     null|     null|    null|     null|     N|      N|      null|\n",
            "|    2017|       1|     AU|       P|    Albanese, Sal F|        J|     6|     ABC|  null|      null|R0000066|12/16/2016|      null|A Mohamad, Mohamad|   IND| null|   null|     null|        Z|   Sparta Township|   NJ| 7871|         President|MAM Electric Corp...|    7025|        3rd Avenue|     Brooklyn|      NY|  250|        0|       0|         4|    null|            null|    null|    null|    null|           null| null|  null|      null|      null|      null|      null|    null|     null|     null|    null|     null|     N|      N|      null|\n",
            "|    2017|       1|   2071|       P|Malliotakis, Nicole|        H|    13|     ABC|  null|      null|R0015380| 9/20/2017|      null|   Aalbue, Raymond|   IND| null|   null|     null|        K|          Brooklyn|   NY|11209|           RETIRED|                null|    null|              null|         null|    null|  100|      100|       0|         4|    null|            null|    null|    null|    null|           null| null|  null|      null|      null|      null|      null|    null|     null|     null|    null|     null|     N|      N|      null|\n",
            "|    2017|       1|   2051|       P|   Slattery, Collin|        H|     9|     ABC|  null|      null|R0000103|  6/1/2017|      null|      Aaron, Allen|   IND| null|   null|     null|        Q|      Howard Beach|   NY|11414|             Pilot|   American Airlines|    null|              null|         null|    null|   50|       50|       0|         4|    null|            null|    null|    null|    null|           null| null|  null|      null|      null|      null|      null|    null|     null|     null|    null|     null|     N|      N|      null|\n",
            "|    2017|       1|   1958|      NP|Massey, Jr., Paul J|        H|     7|     ABC|  null|      null|R0003490| 2/16/2017|      null|     Aarons, David|   IND| null|   null|     null|        Z|Upper Saddle River|   NJ| 7458|               coo|        afd contract|     810|        7th Avenue|     New York|      NY| 1000|        0|       0|         4|      74|Brancato, Joseph|    null|    null|    null|Cortlandt Manor|   NY| 10567|   Gensler|      1700|  Broadway|  New York|      NY|Architect|     null|    null|     null|     N|      N|       IND|\n",
            "|    2017|       1|   1958|      NP|Massey, Jr., Paul J|        H|     7|     ABC|  null|      null|R0003552| 2/17/2017|      null|     Aarons, David|   IND| null|   null|     null|        Z|Upper Saddle River|   NJ| 7458|               coo|        afd contract|     810|        7th Avenue|     New York|      NY|  400|        0|    1000|         4|      74|Brancato, Joseph|    null|    null|    null|Cortlandt Manor|   NY| 10567|   Gensler|      1700|  Broadway|  New York|      NY|Architect|     null|    null|     null|     N|      N|       IND|\n",
            "|    2017|       1|   1958|      NP|Massey, Jr., Paul J|        H|     7|       M|  null|      null|R0003508| 2/16/2017| 2/17/2017|     Aarons, David|   IND| null|   null|     null|        Z|Upper Saddle River|   NJ| 7458|              null|                null|    null|              null|         null|    null|-1000|        0|       0|         0|    null|            null|    null|    null|    null|           null| null|  null|      null|      null|      null|      null|    null|     null|     null|    null|        2|     N|      N|      null|\n",
            "|    2017|       1|    326|       P|    de Blasio, Bill|        P|    14|     ABC|  null|      null|R0086664|10/23/2017|      null|   Aarons, Natasha|   IND| null|   null|     null|        M|          New York|   NY|10027| Marketing Manager|              Google|     111| 8th Avenue Google|     New York|      NY|  175|      175|       0|         4|    null|            null|    null|    null|    null|           null| null|  null|      null|      null|      null|      null|    null|     null|     null|    null|     null|     N|      N|      null|\n",
            "|    2017|       1|   1958|      NP|Massey, Jr., Paul J|        H|     7|     ABC|  null|      null|R0003492| 2/16/2017|      null|   Aarons, Richard|   IND| null|   null|     null|        Z|          Westwood|   NJ| 7675|               ceo|        afd contract|     810|        7th Avenue|     New York|      NY| 1000|        0|       0|         4|      74|Brancato, Joseph|    null|    null|    null|Cortlandt Manor|   NY| 10567|   Gensler|      1700|  Broadway|  New York|      NY|Architect|     null|    null|     null|     N|      N|       IND|\n",
            "|    2017|       1|   1958|      NP|Massey, Jr., Paul J|        H|     7|     ABC|  null|      null|R0003553| 2/17/2017|      null|   Aarons, Richard|   IND| null|   null|     null|        Z|          Westwood|   NJ| 7675|               ceo|        afd contract|     810|        7th Avenue|     New York|      NY|  400|        0|    1000|         4|      74|Brancato, Joseph|    null|    null|    null|Cortlandt Manor|   NY| 10567|   Gensler|      1700|  Broadway|  New York|      NY|Architect|     null|    null|     null|     N|      N|       IND|\n",
            "|    2017|       1|   1958|      NP|Massey, Jr., Paul J|        H|     7|       M|  null|      null|R0003509| 2/16/2017| 2/17/2017|   Aarons, Richard|   IND| null|   null|     null|        Z|          Westwood|   NJ| 7675|              null|                null|    null|              null|         null|    null|-1000|        0|       0|         0|    null|            null|    null|    null|    null|           null| null|  null|      null|      null|      null|      null|    null|     null|     null|    null|        2|     N|      N|      null|\n",
            "|    2017|       1|    326|       P|    de Blasio, Bill|        P|     5|     ABC|  null|      null|R0045134|  5/8/2016|      null|     Ababio, Carol|   IND| null|   null|     null|        Z|         Riverview|   FL|33579|         Owner/COO|       Self-employed|      68|           Jay St.|     Brooklyn|      NY|  175|        0|       0|         4|    null|            null|    null|    null|    null|           null| null|  null|      null|      null|      null|      null|    null|     null|     null|    null|     null|     N|      N|      null|\n",
            "|    2017|       1|   2071|       P|Malliotakis, Nicole|        H|    12|     ABC|  null|      null|R0013249| 9/15/2017|      null|    Abad, Roderick|   IND| null|   null|     null|        Q|           Jamaica|   NY|11435|          Security|     AlliedUniversal|     229|      West 36th St|     New York|      NY|   10|       10|       0|         4|    null|            null|    null|    null|    null|           null| null|  null|      null|      null|      null|      null|    null|     null|     null|    null|     null|     N|      N|      null|\n",
            "|    2017|       1|   2071|       P|Malliotakis, Nicole|        H|    14|     ABC|  null|      null|R0019836|10/12/2017|      null|    Abad, Roderick|   IND| null|   null|     null|        Q|           Jamaica|   NY|11435|          Security|     AlliedUniversal|     229|      West 36th St|     New York|      NY|   25|       25|      10|         4|    null|            null|    null|    null|    null|           null| null|  null|      null|      null|      null|      null|    null|     null|     null|    null|     null|     N|      N|      null|\n",
            "|    2017|       1|   2071|       P|Malliotakis, Nicole|        H|     9|     ABC|  null|      null|R0002777|  6/5/2017|      null|     Abadie, Elise|   IND| null|   null|     null|        M|          New York|   NY|10021|     Social Worker|       Self-Employed|     332|  East 69th Street|     New York|      NY|   50|       50|       0|         4|    null|            null|    null|    null|    null|           null| null|  null|      null|      null|      null|      null|    null|     null|     null|    null|     null|     N|      N|      null|\n",
            "|    2017|       1|    326|       P|    de Blasio, Bill|        P|     8|     ABC|  null|      null|R0068166| 5/11/2017|      null|     Abaring, Tara|   IND| null|   null|     null|        K|          Brooklyn|   NY|11225|Engagement Manager|    General Assembly|     902|Broadway 4th Floor|     New York|      NY|   50|       50|       0|         4|    null|            null|    null|    null|    null|           null| null|  null|      null|      null|      null|      null|    null|     null|     null|    null|     null|     N|      N|      null|\n",
            "|    2017|       1|    326|       P|    de Blasio, Bill|        P|     6|     ABC|  null|      null|R0049549| 11/5/2016|      null|      Abazi, Samir|   IND| null|   null|     null|        S|     Staten Island|   NY|10304|        Accountant|C&R Construction/...|      70|     Lafayette St.|Staten Island|      NY|   20|       20|       0|         4|    null|            null|    null|    null|    null|           null| null|  null|      null|      null|      null|      null|    null|     null|     null|    null|     null|     N|      N|      null|\n",
            "|    2017|       1|    326|       P|    de Blasio, Bill|        P|     9|     ABC|  null|      null|R0070597| 5/20/2017|      null|    Abbas, Malik G|   IND| null|   null|     null|        S|     Staten Island|   NY|10304|        Contractor|    KES Construction|      15|       Swan Street|Staten Island|      NY|  500|      175|       0|         2|    null|            null|    null|    null|    null|           null| null|  null|      null|      null|      null|      null|    null|     null|     null|    null|     null|     N|      N|      null|\n",
            "|    2017|       1|    326|       P|    de Blasio, Bill|        P|     6|     ABC|  null|      null|R0050179|11/13/2016|      null|      Abbas, Sadia|   IND| null|   null|     null|        M|          New York|   NY|10034|         Professor|  Rutgers University|    null|Rutgers University|       Newark|      NJ|   10|       10|       0|         4|    null|            null|    null|    null|    null|           null| null|  null|      null|      null|      null|      null|    null|     null|     null|    null|     null|     N|      N|      null|\n",
            "|    2017|       1|    326|       P|    de Blasio, Bill|        P|     7|     ABC|  null|      null|R0056165| 1/23/2017|      null|      Abbas, Sadia|   IND| null|   null|     null|        M|          New York|   NY|10034|         Professor|  Rutgers University|    null|Rutgers University|       Newark|      NJ|   27|       27|      10|         4|    null|            null|    null|    null|    null|           null| null|  null|      null|      null|      null|      null|    null|     null|     null|    null|     null|     N|      N|      null|\n",
            "+--------+--------+-------+--------+-------------------+---------+------+--------+------+----------+--------+----------+----------+------------------+------+-----+-------+---------+---------+------------------+-----+-----+------------------+--------------------+--------+------------------+-------------+--------+-----+---------+--------+----------+--------+----------------+--------+--------+--------+---------------+-----+------+----------+----------+----------+----------+--------+---------+---------+--------+---------+------+-------+----------+\n",
            "only showing top 20 rows\n",
            "\n"
          ]
        }
      ]
    },
    {
      "cell_type": "code",
      "metadata": {
        "colab": {
          "base_uri": "https://localhost:8080/"
        },
        "id": "e2cRNc4wNFgt",
        "outputId": "ac66ba31-a9ea-436a-ed33-629f7ad09849"
      },
      "source": [
        "# Remove multiple columns\n",
        "list = ['COMMITTEE', 'FILING', 'SCHEDULE', 'PAGENO', 'SEQUENCENO','REFNO', 'STRNO', 'STRNAME', 'APARTMENT', 'OCCUPATION', 'EMPNAME', 'EMPSTRNO', 'EMPSTRNAME',\n",
        "                'EMPCITY','REFUNDDATE','INTERMNO', 'INTERMNAME', 'INTSTRNO', 'INTSTRNM', 'INTSTRNM', 'INTAPTNO',\n",
        "                'INTCITY', 'INTST','INTZIP', 'INTEMPNAME', 'INTEMPSTNO', 'INTEMPSTNM', 'INTEMPCITY', 'INTEMPST', 'INTOCCUPA' ,'PURPOSECD', 'EXEMPTCD','ADJTYPECD', 'RR_IND', 'SEG_IND','INT_C_CODE'] \n",
        "df = df.drop(*list)\n",
        "df.show()"
      ],
      "execution_count": 7,
      "outputs": [
        {
          "output_type": "stream",
          "name": "stdout",
          "text": [
            "+--------+--------+-------+--------+-------------------+----------+------------------+------+---------+------------------+-----+-----+--------+-----+---------+--------+----------+\n",
            "|ELECTION|OFFICECD|RECIPID|CANCLASS|          RECIPNAME|      DATE|              NAME|C_CODE|BOROUGHCD|              CITY|STATE|  ZIP|EMPSTATE| AMNT|MATCHAMNT|PREVAMNT|PAY_METHOD|\n",
            "+--------+--------+-------+--------+-------------------+----------+------------------+------+---------+------------------+-----+-----+--------+-----+---------+--------+----------+\n",
            "|    2017|       1|    326|       P|    de Blasio, Bill|  8/7/2017|  A Hayes, Melinda|   IND|        K|          Brooklyn|   NY|11213|      NY|    5|        5|       0|         4|\n",
            "|    2017|       1|     AU|       P|    Albanese, Sal F|12/16/2016|A Mohamad, Mohamad|   IND|        Z|   Sparta Township|   NJ| 7871|      NY|  250|        0|       0|         4|\n",
            "|    2017|       1|   2071|       P|Malliotakis, Nicole| 9/20/2017|   Aalbue, Raymond|   IND|        K|          Brooklyn|   NY|11209|    null|  100|      100|       0|         4|\n",
            "|    2017|       1|   2051|       P|   Slattery, Collin|  6/1/2017|      Aaron, Allen|   IND|        Q|      Howard Beach|   NY|11414|    null|   50|       50|       0|         4|\n",
            "|    2017|       1|   1958|      NP|Massey, Jr., Paul J| 2/16/2017|     Aarons, David|   IND|        Z|Upper Saddle River|   NJ| 7458|      NY| 1000|        0|       0|         4|\n",
            "|    2017|       1|   1958|      NP|Massey, Jr., Paul J| 2/17/2017|     Aarons, David|   IND|        Z|Upper Saddle River|   NJ| 7458|      NY|  400|        0|    1000|         4|\n",
            "|    2017|       1|   1958|      NP|Massey, Jr., Paul J| 2/16/2017|     Aarons, David|   IND|        Z|Upper Saddle River|   NJ| 7458|    null|-1000|        0|       0|         0|\n",
            "|    2017|       1|    326|       P|    de Blasio, Bill|10/23/2017|   Aarons, Natasha|   IND|        M|          New York|   NY|10027|      NY|  175|      175|       0|         4|\n",
            "|    2017|       1|   1958|      NP|Massey, Jr., Paul J| 2/16/2017|   Aarons, Richard|   IND|        Z|          Westwood|   NJ| 7675|      NY| 1000|        0|       0|         4|\n",
            "|    2017|       1|   1958|      NP|Massey, Jr., Paul J| 2/17/2017|   Aarons, Richard|   IND|        Z|          Westwood|   NJ| 7675|      NY|  400|        0|    1000|         4|\n",
            "|    2017|       1|   1958|      NP|Massey, Jr., Paul J| 2/16/2017|   Aarons, Richard|   IND|        Z|          Westwood|   NJ| 7675|    null|-1000|        0|       0|         0|\n",
            "|    2017|       1|    326|       P|    de Blasio, Bill|  5/8/2016|     Ababio, Carol|   IND|        Z|         Riverview|   FL|33579|      NY|  175|        0|       0|         4|\n",
            "|    2017|       1|   2071|       P|Malliotakis, Nicole| 9/15/2017|    Abad, Roderick|   IND|        Q|           Jamaica|   NY|11435|      NY|   10|       10|       0|         4|\n",
            "|    2017|       1|   2071|       P|Malliotakis, Nicole|10/12/2017|    Abad, Roderick|   IND|        Q|           Jamaica|   NY|11435|      NY|   25|       25|      10|         4|\n",
            "|    2017|       1|   2071|       P|Malliotakis, Nicole|  6/5/2017|     Abadie, Elise|   IND|        M|          New York|   NY|10021|      NY|   50|       50|       0|         4|\n",
            "|    2017|       1|    326|       P|    de Blasio, Bill| 5/11/2017|     Abaring, Tara|   IND|        K|          Brooklyn|   NY|11225|      NY|   50|       50|       0|         4|\n",
            "|    2017|       1|    326|       P|    de Blasio, Bill| 11/5/2016|      Abazi, Samir|   IND|        S|     Staten Island|   NY|10304|      NY|   20|       20|       0|         4|\n",
            "|    2017|       1|    326|       P|    de Blasio, Bill| 5/20/2017|    Abbas, Malik G|   IND|        S|     Staten Island|   NY|10304|      NY|  500|      175|       0|         2|\n",
            "|    2017|       1|    326|       P|    de Blasio, Bill|11/13/2016|      Abbas, Sadia|   IND|        M|          New York|   NY|10034|      NJ|   10|       10|       0|         4|\n",
            "|    2017|       1|    326|       P|    de Blasio, Bill| 1/23/2017|      Abbas, Sadia|   IND|        M|          New York|   NY|10034|      NJ|   27|       27|      10|         4|\n",
            "+--------+--------+-------+--------+-------------------+----------+------------------+------+---------+------------------+-----+-----+--------+-----+---------+--------+----------+\n",
            "only showing top 20 rows\n",
            "\n"
          ]
        }
      ]
    },
    {
      "cell_type": "code",
      "metadata": {
        "colab": {
          "base_uri": "https://localhost:8080/"
        },
        "id": "g5aiRN5RNFjB",
        "outputId": "6eb92615-ae71-48ab-db0e-9d9c64532ff6"
      },
      "source": [
        "# check data types\n",
        "df.dtypes"
      ],
      "execution_count": 8,
      "outputs": [
        {
          "output_type": "execute_result",
          "data": {
            "text/plain": [
              "[('ELECTION', 'string'),\n",
              " ('OFFICECD', 'string'),\n",
              " ('RECIPID', 'string'),\n",
              " ('CANCLASS', 'string'),\n",
              " ('RECIPNAME', 'string'),\n",
              " ('DATE', 'string'),\n",
              " ('NAME', 'string'),\n",
              " ('C_CODE', 'string'),\n",
              " ('BOROUGHCD', 'string'),\n",
              " ('CITY', 'string'),\n",
              " ('STATE', 'string'),\n",
              " ('ZIP', 'string'),\n",
              " ('EMPSTATE', 'string'),\n",
              " ('AMNT', 'string'),\n",
              " ('MATCHAMNT', 'string'),\n",
              " ('PREVAMNT', 'string'),\n",
              " ('PAY_METHOD', 'string')]"
            ]
          },
          "metadata": {},
          "execution_count": 8
        }
      ]
    },
    {
      "cell_type": "code",
      "metadata": {
        "colab": {
          "base_uri": "https://localhost:8080/"
        },
        "id": "tIkq3wdqOzWV",
        "outputId": "e408a4a4-39c5-412d-fbed-de9d06ad8ceb"
      },
      "source": [
        "#Change column names\n",
        "df1 = df \\\n",
        ".withColumnRenamed(\"ELECTION\", \"Election\") \\\n",
        ".withColumnRenamed(\"RECIPID\", \"CandidateID\") \\\n",
        ".withColumnRenamed(\"RECIPNAME\", \"CandidateName\") \\\n",
        ".withColumnRenamed(\"DATE\", \"Date\") \\\n",
        ".withColumnRenamed(\"NAME\", \"Name\") \\\n",
        ".withColumnRenamed(\"C_CODE\", \"ContributerType\") \\\n",
        ".withColumnRenamed(\"BOROUGHCD\", \"BoroughName\") \\\n",
        ".withColumnRenamed(\"CITY\", \"City\") \\\n",
        ".withColumnRenamed(\"STATE\", \"State\") \\\n",
        ".withColumnRenamed(\"ZIP\", \"ZipCode\") \\\n",
        ".withColumnRenamed(\"EMPSTATE\", \"ContributionState\") \\\n",
        ".withColumnRenamed(\"AMNT\", \"Amount\") \\\n",
        ".withColumnRenamed(\"MATCHAMNT\", \"MatchAmt\") \\\n",
        ".withColumnRenamed(\"PREVAMNT\", \"PrevAmt\") \\\n",
        ".withColumnRenamed(\"PAY_METHOD\", \"PayMethod\") \n",
        "\n",
        "df1.printSchema()"
      ],
      "execution_count": 9,
      "outputs": [
        {
          "output_type": "stream",
          "name": "stdout",
          "text": [
            "root\n",
            " |-- Election: string (nullable = true)\n",
            " |-- OFFICECD: string (nullable = true)\n",
            " |-- CandidateID: string (nullable = true)\n",
            " |-- CANCLASS: string (nullable = true)\n",
            " |-- CandidateName: string (nullable = true)\n",
            " |-- Date: string (nullable = true)\n",
            " |-- Name: string (nullable = true)\n",
            " |-- ContributerType: string (nullable = true)\n",
            " |-- BoroughName: string (nullable = true)\n",
            " |-- City: string (nullable = true)\n",
            " |-- State: string (nullable = true)\n",
            " |-- ZipCode: string (nullable = true)\n",
            " |-- ContributionState: string (nullable = true)\n",
            " |-- Amount: string (nullable = true)\n",
            " |-- MatchAmt: string (nullable = true)\n",
            " |-- PrevAmt: string (nullable = true)\n",
            " |-- PayMethod: string (nullable = true)\n",
            "\n"
          ]
        }
      ]
    },
    {
      "cell_type": "code",
      "metadata": {
        "colab": {
          "base_uri": "https://localhost:8080/"
        },
        "id": "SyWn9dANSi5l",
        "outputId": "8ce5b154-2624-4af4-8080-c7734bf3c27c"
      },
      "source": [
        "# changing datatypes of columns\n",
        "df2 = df1 \\\n",
        "  .withColumn(\"Election\",df1[\"Election\"].cast(\"Integer\")) \\\n",
        "  .withColumn(\"OFFICECD\", df1[\"OFFICECD\"].cast(\"Integer\")) \\\n",
        "  .withColumn(\"CandidateID\", df1[\"CandidateID\"].cast(\"Integer\")) \\\n",
        "  .withColumn(\"ZipCode\", df1[\"ZipCode\"].cast(\"Integer\")) \\\n",
        "  .withColumn(\"Amount\", df1[\"Amount\"].cast(\"Float\")) \\\n",
        "  .withColumn(\"MatchAmt\", df1[\"MatchAmt\"].cast(\"Float\")) \\\n",
        "  .withColumn(\"PrevAmt\", df1[\"PrevAmt\"].cast(\"Float\")) \\\n",
        "  .withColumn(\"Date\", df1[\"Date\"].cast(\"Date\")) \\\n",
        "  \n",
        "df2.printSchema()"
      ],
      "execution_count": 10,
      "outputs": [
        {
          "output_type": "stream",
          "name": "stdout",
          "text": [
            "root\n",
            " |-- Election: integer (nullable = true)\n",
            " |-- OFFICECD: integer (nullable = true)\n",
            " |-- CandidateID: integer (nullable = true)\n",
            " |-- CANCLASS: string (nullable = true)\n",
            " |-- CandidateName: string (nullable = true)\n",
            " |-- Date: date (nullable = true)\n",
            " |-- Name: string (nullable = true)\n",
            " |-- ContributerType: string (nullable = true)\n",
            " |-- BoroughName: string (nullable = true)\n",
            " |-- City: string (nullable = true)\n",
            " |-- State: string (nullable = true)\n",
            " |-- ZipCode: integer (nullable = true)\n",
            " |-- ContributionState: string (nullable = true)\n",
            " |-- Amount: float (nullable = true)\n",
            " |-- MatchAmt: float (nullable = true)\n",
            " |-- PrevAmt: float (nullable = true)\n",
            " |-- PayMethod: string (nullable = true)\n",
            "\n"
          ]
        }
      ]
    },
    {
      "cell_type": "code",
      "metadata": {
        "id": "h1aCPuV3WPwC"
      },
      "source": [
        "#Change vaule name in ContributerType\n",
        "from pyspark.sql.functions import regexp_replace\n",
        "df3 = df2.withColumn('ContributerType', regexp_replace('ContributerType', 'CAN', 'Candidate')) \\\n",
        "  .withColumn('ContributerType', regexp_replace('ContributerType', 'CORP', 'Corporation')) \\\n",
        "  .withColumn('ContributerType', regexp_replace('ContributerType', 'EMPO', 'Labor Union')) \\\n",
        "  .withColumn('ContributerType', regexp_replace('ContributerType', 'FAM', 'Candidate Family')) \\\n",
        "  .withColumn('ContributerType', regexp_replace('ContributerType', 'IND', 'Individual')) \\\n",
        "  .withColumn('ContributerType', regexp_replace('ContributerType', 'PCOMZ', 'Party Committee')) \\\n",
        "  .withColumn('ContributerType', regexp_replace('ContributerType', 'ORG', 'Orgainization')) \\\n",
        "  .withColumn('ContributerType', regexp_replace('ContributerType', 'LLC', 'Limited Liability Company')) \\\n",
        "  .withColumn('ContributerType', regexp_replace('ContributerType', 'PCOMP', 'Political Action Committee')) \\\n",
        "  .withColumn('ContributerType', regexp_replace('ContributerType', 'SPO', 'Spouse')) \\\n",
        "  .withColumn('ContributerType', regexp_replace('ContributerType', 'OTHR', 'Other')) \\\n",
        "  .withColumn('ContributerType', regexp_replace('ContributerType', 'PCOMC', 'Candidate Committee')) \\\n",
        "  .withColumn('ContributerType', regexp_replace('ContributerType', 'PART', 'Individual')) \\\n"
      ],
      "execution_count": 11,
      "outputs": []
    },
    {
      "cell_type": "code",
      "metadata": {
        "id": "EDLKVpihXzJY"
      },
      "source": [
        "#Change Payment Method Name\n",
        "df4=df3.withColumn('PayMethod', regexp_replace('PayMethod','0','Unknown')) \\\n",
        "  .withColumn('PayMethod', regexp_replace('PayMethod','1','Cash')) \\\n",
        "  .withColumn('PayMethod', regexp_replace('PayMethod','2','Check')) \\\n",
        "  .withColumn('PayMethod', regexp_replace('PayMethod','3','Other')) \\\n",
        "  .withColumn('PayMethod', regexp_replace('PayMethod','4','Credit Card')) \\\n",
        "  .withColumn('PayMethod', regexp_replace('PayMethod','5','Money Order')) \\"
      ],
      "execution_count": 12,
      "outputs": []
    },
    {
      "cell_type": "code",
      "metadata": {
        "id": "fy4JAvyQWRl7"
      },
      "source": [
        "#Change Borough name\n",
        "from pyspark.sql.functions import regexp_replace\n",
        "df5 = df4.withColumn('BoroughName', regexp_replace('BoroughName', 'K', 'Brooklyn')) \\\n",
        "  .withColumn('BoroughName', regexp_replace('BoroughName', 'M', 'Manhattan')) \\\n",
        "  .withColumn('BoroughName', regexp_replace('BoroughName', 'Q', 'Queens')) \\\n",
        "  .withColumn('BoroughName', regexp_replace('BoroughName', 'S', 'Staten Island')) \\\n",
        "  .withColumn('BoroughName', regexp_replace('BoroughName', 'X', 'Bronx')) \\\n",
        "  .withColumn('BoroughName', regexp_replace('BoroughName', 'Z', 'Other')) \\\n"
      ],
      "execution_count": 13,
      "outputs": []
    },
    {
      "cell_type": "code",
      "metadata": {
        "colab": {
          "base_uri": "https://localhost:8080/"
        },
        "id": "fM_kC3ViNFqN",
        "outputId": "d50297ea-abe7-4aba-c9f0-f2ad3265fad5"
      },
      "source": [
        "#Call only Mayor (1) and particaptes (P) within Dataframe\n",
        "df6 = df5.filter((df5.OFFICECD==\"1\") & (df5.CANCLASS==\"P\"))\n",
        "df6.show()"
      ],
      "execution_count": 14,
      "outputs": [
        {
          "output_type": "stream",
          "name": "stdout",
          "text": [
            "+--------+--------+-----------+--------+-------------------+----+------------------+---------------+-------------+---------------+-----+-------+-----------------+------+--------+-------+-----------+\n",
            "|Election|OFFICECD|CandidateID|CANCLASS|      CandidateName|Date|              Name|ContributerType|  BoroughName|           City|State|ZipCode|ContributionState|Amount|MatchAmt|PrevAmt|  PayMethod|\n",
            "+--------+--------+-----------+--------+-------------------+----+------------------+---------------+-------------+---------------+-----+-------+-----------------+------+--------+-------+-----------+\n",
            "|    2017|       1|        326|       P|    de Blasio, Bill|null|  A Hayes, Melinda|     Individual|     Brooklyn|       Brooklyn|   NY|  11213|               NY|   5.0|     5.0|    0.0|Credit Card|\n",
            "|    2017|       1|       null|       P|    Albanese, Sal F|null|A Mohamad, Mohamad|     Individual|        Other|Sparta Township|   NJ|   7871|               NY| 250.0|     0.0|    0.0|Credit Card|\n",
            "|    2017|       1|       2071|       P|Malliotakis, Nicole|null|   Aalbue, Raymond|     Individual|     Brooklyn|       Brooklyn|   NY|  11209|             null| 100.0|   100.0|    0.0|Credit Card|\n",
            "|    2017|       1|       2051|       P|   Slattery, Collin|null|      Aaron, Allen|     Individual|       Queens|   Howard Beach|   NY|  11414|             null|  50.0|    50.0|    0.0|Credit Card|\n",
            "|    2017|       1|        326|       P|    de Blasio, Bill|null|   Aarons, Natasha|     Individual|    Manhattan|       New York|   NY|  10027|               NY| 175.0|   175.0|    0.0|Credit Card|\n",
            "|    2017|       1|        326|       P|    de Blasio, Bill|null|     Ababio, Carol|     Individual|        Other|      Riverview|   FL|  33579|               NY| 175.0|     0.0|    0.0|Credit Card|\n",
            "|    2017|       1|       2071|       P|Malliotakis, Nicole|null|    Abad, Roderick|     Individual|       Queens|        Jamaica|   NY|  11435|               NY|  10.0|    10.0|    0.0|Credit Card|\n",
            "|    2017|       1|       2071|       P|Malliotakis, Nicole|null|    Abad, Roderick|     Individual|       Queens|        Jamaica|   NY|  11435|               NY|  25.0|    25.0|   10.0|Credit Card|\n",
            "|    2017|       1|       2071|       P|Malliotakis, Nicole|null|     Abadie, Elise|     Individual|    Manhattan|       New York|   NY|  10021|               NY|  50.0|    50.0|    0.0|Credit Card|\n",
            "|    2017|       1|        326|       P|    de Blasio, Bill|null|     Abaring, Tara|     Individual|     Brooklyn|       Brooklyn|   NY|  11225|               NY|  50.0|    50.0|    0.0|Credit Card|\n",
            "|    2017|       1|        326|       P|    de Blasio, Bill|null|      Abazi, Samir|     Individual|Staten Island|  Staten Island|   NY|  10304|               NY|  20.0|    20.0|    0.0|Credit Card|\n",
            "|    2017|       1|        326|       P|    de Blasio, Bill|null|    Abbas, Malik G|     Individual|Staten Island|  Staten Island|   NY|  10304|               NY| 500.0|   175.0|    0.0|      Check|\n",
            "|    2017|       1|        326|       P|    de Blasio, Bill|null|      Abbas, Sadia|     Individual|    Manhattan|       New York|   NY|  10034|               NJ|  10.0|    10.0|    0.0|Credit Card|\n",
            "|    2017|       1|        326|       P|    de Blasio, Bill|null|      Abbas, Sadia|     Individual|    Manhattan|       New York|   NY|  10034|               NJ|  27.0|    27.0|   10.0|Credit Card|\n",
            "|    2017|       1|        326|       P|    de Blasio, Bill|null|      Abbas, Sadia|     Individual|    Manhattan|       New York|   NY|  10034|               NJ|  27.0|    27.0|   37.0|Credit Card|\n",
            "|    2017|       1|        326|       P|    de Blasio, Bill|null|     Abbas, Zagham|     Individual|        Other|       Copiague|   NY|  11726|             null| 100.0|     0.0|    0.0|       Cash|\n",
            "|    2017|       1|        326|       P|    de Blasio, Bill|null|     Abbas, Zagham|     Individual|        Other|       Copiague|   NY|  11726|             null| 100.0|     0.0|  100.0|      Check|\n",
            "|    2017|       1|       2071|       P|Malliotakis, Nicole|null|Abbatemarco, Frank|     Individual|Staten Island|  Staten Island|   NY|  10308|               NY|  25.0|     0.0|  850.0|Credit Card|\n",
            "|    2017|       1|       2071|       P|Malliotakis, Nicole|null|Abbatemarco, Frank|     Individual|Staten Island|  Staten Island|   NY|  10308|               NY|  25.0|     0.0|  975.0|Credit Card|\n",
            "|    2017|       1|       2071|       P|Malliotakis, Nicole|null|Abbatemarco, Frank|     Individual|Staten Island|  Staten Island|   NY|  10308|               NY|  50.0|     0.0|  925.0|Credit Card|\n",
            "+--------+--------+-----------+--------+-------------------+----+------------------+---------------+-------------+---------------+-----+-------+-----------------+------+--------+-------+-----------+\n",
            "only showing top 20 rows\n",
            "\n"
          ]
        }
      ]
    },
    {
      "cell_type": "code",
      "metadata": {
        "colab": {
          "base_uri": "https://localhost:8080/"
        },
        "id": "WmdLbDEzQAyc",
        "outputId": "7f392ee1-66c8-4d15-c8c2-918ed3b61d4f"
      },
      "source": [
        "#Check the above dataframe to make sure only unique values between the OFFICECD is 1 \n",
        "df6.select('OFFICECD').distinct().show()"
      ],
      "execution_count": 15,
      "outputs": [
        {
          "output_type": "stream",
          "name": "stdout",
          "text": [
            "+--------+\n",
            "|OFFICECD|\n",
            "+--------+\n",
            "|       1|\n",
            "+--------+\n",
            "\n"
          ]
        }
      ]
    },
    {
      "cell_type": "code",
      "metadata": {
        "colab": {
          "base_uri": "https://localhost:8080/"
        },
        "id": "4kbDs5ApZtEu",
        "outputId": "1db6d904-68be-49f7-b752-9ca23b1d3c24"
      },
      "source": [
        "#Drop OFFICECD and CANCLASS\n",
        "list2 = ['OFFICECD', 'CANCLASS'] \n",
        "df7 = df6.drop(*list2)\n",
        "df7.show()"
      ],
      "execution_count": 16,
      "outputs": [
        {
          "output_type": "stream",
          "name": "stdout",
          "text": [
            "+--------+-----------+-------------------+----+------------------+---------------+-------------+---------------+-----+-------+-----------------+------+--------+-------+-----------+\n",
            "|Election|CandidateID|      CandidateName|Date|              Name|ContributerType|  BoroughName|           City|State|ZipCode|ContributionState|Amount|MatchAmt|PrevAmt|  PayMethod|\n",
            "+--------+-----------+-------------------+----+------------------+---------------+-------------+---------------+-----+-------+-----------------+------+--------+-------+-----------+\n",
            "|    2017|        326|    de Blasio, Bill|null|  A Hayes, Melinda|     Individual|     Brooklyn|       Brooklyn|   NY|  11213|               NY|   5.0|     5.0|    0.0|Credit Card|\n",
            "|    2017|       null|    Albanese, Sal F|null|A Mohamad, Mohamad|     Individual|        Other|Sparta Township|   NJ|   7871|               NY| 250.0|     0.0|    0.0|Credit Card|\n",
            "|    2017|       2071|Malliotakis, Nicole|null|   Aalbue, Raymond|     Individual|     Brooklyn|       Brooklyn|   NY|  11209|             null| 100.0|   100.0|    0.0|Credit Card|\n",
            "|    2017|       2051|   Slattery, Collin|null|      Aaron, Allen|     Individual|       Queens|   Howard Beach|   NY|  11414|             null|  50.0|    50.0|    0.0|Credit Card|\n",
            "|    2017|        326|    de Blasio, Bill|null|   Aarons, Natasha|     Individual|    Manhattan|       New York|   NY|  10027|               NY| 175.0|   175.0|    0.0|Credit Card|\n",
            "|    2017|        326|    de Blasio, Bill|null|     Ababio, Carol|     Individual|        Other|      Riverview|   FL|  33579|               NY| 175.0|     0.0|    0.0|Credit Card|\n",
            "|    2017|       2071|Malliotakis, Nicole|null|    Abad, Roderick|     Individual|       Queens|        Jamaica|   NY|  11435|               NY|  10.0|    10.0|    0.0|Credit Card|\n",
            "|    2017|       2071|Malliotakis, Nicole|null|    Abad, Roderick|     Individual|       Queens|        Jamaica|   NY|  11435|               NY|  25.0|    25.0|   10.0|Credit Card|\n",
            "|    2017|       2071|Malliotakis, Nicole|null|     Abadie, Elise|     Individual|    Manhattan|       New York|   NY|  10021|               NY|  50.0|    50.0|    0.0|Credit Card|\n",
            "|    2017|        326|    de Blasio, Bill|null|     Abaring, Tara|     Individual|     Brooklyn|       Brooklyn|   NY|  11225|               NY|  50.0|    50.0|    0.0|Credit Card|\n",
            "|    2017|        326|    de Blasio, Bill|null|      Abazi, Samir|     Individual|Staten Island|  Staten Island|   NY|  10304|               NY|  20.0|    20.0|    0.0|Credit Card|\n",
            "|    2017|        326|    de Blasio, Bill|null|    Abbas, Malik G|     Individual|Staten Island|  Staten Island|   NY|  10304|               NY| 500.0|   175.0|    0.0|      Check|\n",
            "|    2017|        326|    de Blasio, Bill|null|      Abbas, Sadia|     Individual|    Manhattan|       New York|   NY|  10034|               NJ|  10.0|    10.0|    0.0|Credit Card|\n",
            "|    2017|        326|    de Blasio, Bill|null|      Abbas, Sadia|     Individual|    Manhattan|       New York|   NY|  10034|               NJ|  27.0|    27.0|   10.0|Credit Card|\n",
            "|    2017|        326|    de Blasio, Bill|null|      Abbas, Sadia|     Individual|    Manhattan|       New York|   NY|  10034|               NJ|  27.0|    27.0|   37.0|Credit Card|\n",
            "|    2017|        326|    de Blasio, Bill|null|     Abbas, Zagham|     Individual|        Other|       Copiague|   NY|  11726|             null| 100.0|     0.0|    0.0|       Cash|\n",
            "|    2017|        326|    de Blasio, Bill|null|     Abbas, Zagham|     Individual|        Other|       Copiague|   NY|  11726|             null| 100.0|     0.0|  100.0|      Check|\n",
            "|    2017|       2071|Malliotakis, Nicole|null|Abbatemarco, Frank|     Individual|Staten Island|  Staten Island|   NY|  10308|               NY|  25.0|     0.0|  850.0|Credit Card|\n",
            "|    2017|       2071|Malliotakis, Nicole|null|Abbatemarco, Frank|     Individual|Staten Island|  Staten Island|   NY|  10308|               NY|  25.0|     0.0|  975.0|Credit Card|\n",
            "|    2017|       2071|Malliotakis, Nicole|null|Abbatemarco, Frank|     Individual|Staten Island|  Staten Island|   NY|  10308|               NY|  50.0|     0.0|  925.0|Credit Card|\n",
            "+--------+-----------+-------------------+----+------------------+---------------+-------------+---------------+-----+-------+-----------------+------+--------+-------+-----------+\n",
            "only showing top 20 rows\n",
            "\n"
          ]
        }
      ]
    },
    {
      "cell_type": "code",
      "metadata": {
        "colab": {
          "base_uri": "https://localhost:8080/"
        },
        "id": "jKdRMcW-9mtO",
        "outputId": "c9072b27-27e8-4b1a-9c3e-295d0e765a8b"
      },
      "source": [
        "# ADD AMNT and MATCHAMNT PrevAmnt\n",
        "from pyspark.sql.functions import col\n",
        "clean_indivi_2017_df = df7.withColumn(\"TotalAmount\", col(\"Amount\")+col(\"MatchAmt\")+col('PrevAmt'))\n",
        "clean_indivi_2017_df.show()"
      ],
      "execution_count": 17,
      "outputs": [
        {
          "output_type": "stream",
          "name": "stdout",
          "text": [
            "+--------+-----------+-------------------+----+------------------+---------------+-------------+---------------+-----+-------+-----------------+------+--------+-------+-----------+-----------+\n",
            "|Election|CandidateID|      CandidateName|Date|              Name|ContributerType|  BoroughName|           City|State|ZipCode|ContributionState|Amount|MatchAmt|PrevAmt|  PayMethod|TotalAmount|\n",
            "+--------+-----------+-------------------+----+------------------+---------------+-------------+---------------+-----+-------+-----------------+------+--------+-------+-----------+-----------+\n",
            "|    2017|        326|    de Blasio, Bill|null|  A Hayes, Melinda|     Individual|     Brooklyn|       Brooklyn|   NY|  11213|               NY|   5.0|     5.0|    0.0|Credit Card|       10.0|\n",
            "|    2017|       null|    Albanese, Sal F|null|A Mohamad, Mohamad|     Individual|        Other|Sparta Township|   NJ|   7871|               NY| 250.0|     0.0|    0.0|Credit Card|      250.0|\n",
            "|    2017|       2071|Malliotakis, Nicole|null|   Aalbue, Raymond|     Individual|     Brooklyn|       Brooklyn|   NY|  11209|             null| 100.0|   100.0|    0.0|Credit Card|      200.0|\n",
            "|    2017|       2051|   Slattery, Collin|null|      Aaron, Allen|     Individual|       Queens|   Howard Beach|   NY|  11414|             null|  50.0|    50.0|    0.0|Credit Card|      100.0|\n",
            "|    2017|        326|    de Blasio, Bill|null|   Aarons, Natasha|     Individual|    Manhattan|       New York|   NY|  10027|               NY| 175.0|   175.0|    0.0|Credit Card|      350.0|\n",
            "|    2017|        326|    de Blasio, Bill|null|     Ababio, Carol|     Individual|        Other|      Riverview|   FL|  33579|               NY| 175.0|     0.0|    0.0|Credit Card|      175.0|\n",
            "|    2017|       2071|Malliotakis, Nicole|null|    Abad, Roderick|     Individual|       Queens|        Jamaica|   NY|  11435|               NY|  10.0|    10.0|    0.0|Credit Card|       20.0|\n",
            "|    2017|       2071|Malliotakis, Nicole|null|    Abad, Roderick|     Individual|       Queens|        Jamaica|   NY|  11435|               NY|  25.0|    25.0|   10.0|Credit Card|       60.0|\n",
            "|    2017|       2071|Malliotakis, Nicole|null|     Abadie, Elise|     Individual|    Manhattan|       New York|   NY|  10021|               NY|  50.0|    50.0|    0.0|Credit Card|      100.0|\n",
            "|    2017|        326|    de Blasio, Bill|null|     Abaring, Tara|     Individual|     Brooklyn|       Brooklyn|   NY|  11225|               NY|  50.0|    50.0|    0.0|Credit Card|      100.0|\n",
            "|    2017|        326|    de Blasio, Bill|null|      Abazi, Samir|     Individual|Staten Island|  Staten Island|   NY|  10304|               NY|  20.0|    20.0|    0.0|Credit Card|       40.0|\n",
            "|    2017|        326|    de Blasio, Bill|null|    Abbas, Malik G|     Individual|Staten Island|  Staten Island|   NY|  10304|               NY| 500.0|   175.0|    0.0|      Check|      675.0|\n",
            "|    2017|        326|    de Blasio, Bill|null|      Abbas, Sadia|     Individual|    Manhattan|       New York|   NY|  10034|               NJ|  10.0|    10.0|    0.0|Credit Card|       20.0|\n",
            "|    2017|        326|    de Blasio, Bill|null|      Abbas, Sadia|     Individual|    Manhattan|       New York|   NY|  10034|               NJ|  27.0|    27.0|   10.0|Credit Card|       64.0|\n",
            "|    2017|        326|    de Blasio, Bill|null|      Abbas, Sadia|     Individual|    Manhattan|       New York|   NY|  10034|               NJ|  27.0|    27.0|   37.0|Credit Card|       91.0|\n",
            "|    2017|        326|    de Blasio, Bill|null|     Abbas, Zagham|     Individual|        Other|       Copiague|   NY|  11726|             null| 100.0|     0.0|    0.0|       Cash|      100.0|\n",
            "|    2017|        326|    de Blasio, Bill|null|     Abbas, Zagham|     Individual|        Other|       Copiague|   NY|  11726|             null| 100.0|     0.0|  100.0|      Check|      200.0|\n",
            "|    2017|       2071|Malliotakis, Nicole|null|Abbatemarco, Frank|     Individual|Staten Island|  Staten Island|   NY|  10308|               NY|  25.0|     0.0|  850.0|Credit Card|      875.0|\n",
            "|    2017|       2071|Malliotakis, Nicole|null|Abbatemarco, Frank|     Individual|Staten Island|  Staten Island|   NY|  10308|               NY|  25.0|     0.0|  975.0|Credit Card|     1000.0|\n",
            "|    2017|       2071|Malliotakis, Nicole|null|Abbatemarco, Frank|     Individual|Staten Island|  Staten Island|   NY|  10308|               NY|  50.0|     0.0|  925.0|Credit Card|      975.0|\n",
            "+--------+-----------+-------------------+----+------------------+---------------+-------------+---------------+-----+-------+-----------------+------+--------+-------+-----------+-----------+\n",
            "only showing top 20 rows\n",
            "\n"
          ]
        }
      ]
    },
    {
      "cell_type": "code",
      "metadata": {
        "id": "oAV3a6jXmJTP"
      },
      "source": [
        "#clean_indivi_2017_df.toPandas().to_csv(\"Clean_Indivdual_2017.csv\", header=True)"
      ],
      "execution_count": 18,
      "outputs": []
    },
    {
      "cell_type": "markdown",
      "metadata": {
        "id": "1t7gDM4IKH8Y"
      },
      "source": [
        "## **2017 Committee Contributions**"
      ]
    },
    {
      "cell_type": "code",
      "metadata": {
        "id": "mCGEhe_bLOhK"
      },
      "source": [
        "#import os\n",
        "# Find the latest version of spark 3.0 from http://www.apache.org/dist/spark/ and enter as the spark version\n",
        "# For example:\n",
        "# spark_version = 'spark-3.0.3'\n",
        "#spark_version = 'spark-2.4.8'\n",
        "#os.environ['SPARK_VERSION']=spark_version\n",
        "\n",
        "# Install Spark and Java\n",
        "#!apt-get update\n",
        "#!apt-get install openjdk-11-jdk-headless -qq > /dev/null\n",
        "#!wget -q http://www.apache.org/dist/spark/$SPARK_VERSION/$SPARK_VERSION-bin-hadoop2.7.tgz\n",
        "#!tar xf $SPARK_VERSION-bin-hadoop2.7.tgz\n",
        "#!pip install -q findspark\n",
        "\n",
        "# Set Environment Variables\n",
        "#import os\n",
        "#os.environ[\"JAVA_HOME\"] = \"/usr/lib/jvm/java-11-openjdk-amd64\"\n",
        "#os.environ[\"SPARK_HOME\"] = f\"/content/{spark_version}-bin-hadoop2.7\"\n",
        "\n",
        "# Start a SparkSession\n",
        "#import findspark\n",
        "#findspark.init()"
      ],
      "execution_count": 19,
      "outputs": []
    },
    {
      "cell_type": "code",
      "metadata": {
        "id": "Wg1igvJ9LOhL"
      },
      "source": [
        "# Download the Postgres driver that will allow Spark to interact with Postgres.\n",
        "#!wget https://jdbc.postgresql.org/download/postgresql-42.2.16.jar"
      ],
      "execution_count": 20,
      "outputs": []
    },
    {
      "cell_type": "code",
      "metadata": {
        "id": "5fFtyDxuLOhL"
      },
      "source": [
        "# Start Spark session\n",
        "#0from pyspark.sql import SparkSession\n",
        "#from pyspark.sql.functions import col\n",
        "#spark = SparkSession.builder.appName(\"FinalProject\").getOrCreate()"
      ],
      "execution_count": 21,
      "outputs": []
    },
    {
      "cell_type": "code",
      "metadata": {
        "colab": {
          "base_uri": "https://localhost:8080/"
        },
        "id": "hraQT1VmLOhL",
        "outputId": "d90ba6d6-9eb9-48a2-f9e1-a3de8d400912"
      },
      "source": [
        "# Read in data from S3 Buckets\n",
        "from pyspark import SparkFiles\n",
        "url = \"https://databootcamp-final-05.s3.amazonaws.com/Resources/Committee+Contributions+2017+(X).csv\"\n",
        "spark.sparkContext.addFile(url)\n",
        "df = spark.read.csv(SparkFiles.get(\"Committee+Contributions+2017+(X).csv\"), sep=\",\", header=True)\n",
        "df.show()"
      ],
      "execution_count": 22,
      "outputs": [
        {
          "output_type": "stream",
          "name": "stdout",
          "text": [
            "+--------+--------+-------+--------+-------------------+---------+------+--------+------+----------+--------+----------+----------+--------------------+------+-----+-------+---------+---------+--------------+-----+-----+----------+-------+--------+----------+-------+--------+-----+---------+--------+----------+--------+----------+--------+--------+--------+-------+-----+------+----------+----------+----------+----------+--------+---------+---------+--------+---------+------+-------+----------+\n",
            "|ELECTION|OFFICECD|RECIPID|CANCLASS|          RECIPNAME|COMMITTEE|FILING|SCHEDULE|PAGENO|SEQUENCENO|   REFNO|      DATE|REFUNDDATE|                NAME|C_CODE|STRNO|STRNAME|APARTMENT|BOROUGHCD|          CITY|STATE|  ZIP|OCCUPATION|EMPNAME|EMPSTRNO|EMPSTRNAME|EMPCITY|EMPSTATE| AMNT|MATCHAMNT|PREVAMNT|PAY_METHOD|INTERMNO|INTERMNAME|INTSTRNO|INTSTRNM|INTAPTNO|INTCITY|INTST|INTZIP|INTEMPNAME|INTEMPSTNO|INTEMPSTNM|INTEMPCITY|INTEMPST|INTOCCUPA|PURPOSECD|EXEMPTCD|ADJTYPECD|RR_IND|SEG_IND|INT_C_CODE|\n",
            "+--------+--------+-------+--------+-------------------+---------+------+--------+------+----------+--------+----------+----------+--------------------+------+-----+-------+---------+---------+--------------+-----+-----+----------+-------+--------+----------+-------+--------+-----+---------+--------+----------+--------+----------+--------+--------+--------+-------+-----+------+----------+----------+----------+----------+--------+---------+---------+--------+---------+------+-------+----------+\n",
            "|    2017|       1|    326|       P|    de Blasio, Bill|        P|    12|     ABC|  null|      null|R0080872|  9/9/2017|      null|1199/SEIU NYS Pol...| PCOMP| null|   null|     null|        M|      New York|   NY|10108|      null|   null|    null|      null|   null|    null| 4950|        0|       0|         2|    null|      null|    null|    null|    null|   null| null|  null|      null|      null|      null|      null|    null|     null|     null|    null|     null|     N|      N|      null|\n",
            "|    2017|       1|    326|       P|    de Blasio, Bill|        P|     5|     ABC|  null|      null|R0047505|  7/8/2016|      null|     32BJ United ADF| PCOMP| null|   null|     null|        M|      New York|   NY|10011|      null|   null|    null|      null|   null|    null| 2500|        0|       0|         2|    null|      null|    null|    null|    null|   null| null|  null|      null|      null|      null|      null|    null|     null|     null|    null|     null|     N|      N|      null|\n",
            "|    2017|       1|    326|       P|    de Blasio, Bill|        P|     6|     ABC|  null|      null|R0054025| 1/11/2017|      null|     32BJ United ADF| PCOMP| null|   null|     null|        M|      New York|   NY|10011|      null|   null|    null|      null|   null|    null| 2450|        0|    2500|         2|    null|      null|    null|    null|    null|   null| null|  null|      null|      null|      null|      null|    null|     null|     null|    null|     null|     N|      N|      null|\n",
            "|    2017|       1|    326|       P|    de Blasio, Bill|        P|    12|     ABC|  null|      null|R0080877| 9/11/2017|      null|ACEC New York Cit...| PCOMP| null|   null|     null|        M|      New York|   NY|10018|      null|   null|    null|      null|   null|    null| 4950|        0|       0|         2|    null|      null|    null|    null|    null|   null| null|  null|      null|      null|      null|      null|    null|     null|     null|    null|     null|     N|      N|      null|\n",
            "|    2017|       1|    326|       P|    de Blasio, Bill|        P|    10|     ABC|  null|      null|R0077856|  8/7/2017|      null|  AFSCME DC 1707 PAC| PCOMP| null|   null|     null|        M|      New York|   NY|10013|      null|   null|    null|      null|   null|    null|  500|        0|       0|         2|    null|      null|    null|    null|    null|   null| null|  null|      null|      null|      null|      null|    null|     null|     null|    null|     null|     N|      N|      null|\n",
            "|    2017|       1|    326|       P|    de Blasio, Bill|        P|    15|     ABC|  null|      null|R0085303|10/25/2017|      null|  AFSCME DC 1707 PAC| PCOMP| null|   null|     null|        M|      New York|   NY|10013|      null|   null|    null|      null|   null|    null| 3000|        0|     500|         2|    null|      null|    null|    null|    null|   null| null|  null|      null|      null|      null|      null|    null|     null|     null|    null|     null|     N|      N|      null|\n",
            "|    2017|       1|    326|       P|    de Blasio, Bill|        P|    15|     ABC|  null|      null|R0088616| 11/8/2017|      null|AFSCME International|  EMPO| null|   null|     null|        Z|    Washington|   DC|20036|      null|   null|    null|      null|   null|    null| 4950|        0|       0|         2|    null|      null|    null|    null|    null|   null| null|  null|      null|      null|      null|      null|    null|     null|     null|    null|     null|     N|      N|      null|\n",
            "|    2017|       1|    326|       P|    de Blasio, Bill|        P|     6|     ABC|  null|      null|R0054039|  1/6/2017|      null|   AFSCME Local 1407|  EMPO| null|   null|     null|        M|      New York|   NY|10007|      null|   null|    null|      null|   null|    null| 1000|        0|       0|         2|    null|      null|    null|    null|    null|   null| null|  null|      null|      null|      null|      null|    null|     null|     null|    null|     null|     N|      N|      null|\n",
            "|    2017|       1|    326|       P|    de Blasio, Bill|        P|    15|     ABC|  null|      null|R0089923|11/15/2017|      null|        AFT Michigan|  EMPO| null|   null|     null|        Z|       Detroit|   MI|48207|      null|   null|    null|      null|   null|    null| 1000|        0|       0|         2|    null|      null|    null|    null|    null|   null| null|  null|      null|      null|      null|      null|    null|     null|     null|    null|     null|     N|      N|      null|\n",
            "|    2017|       1|    326|       P|    de Blasio, Bill|        P|    14|     ABC|  null|      null|R0084657|10/20/2017|      null|Amalgamated Trans...|  EMPO| null|   null|     null|        Q|Queens Village|   NY|11428|      null|   null|    null|      null|   null|    null| 2500|        0|       0|         2|    null|      null|    null|    null|    null|   null| null|  null|      null|      null|      null|      null|    null|     null|     null|    null|     null|     N|      N|      null|\n",
            "|    2017|       1|    326|       P|    de Blasio, Bill|        P|     5|     ABC|  null|      null|R0047919| 7/11/2016|      null|American Federati...|  EMPO| null|   null|     null|        Z|    Washington|   DC|20001|      null|   null|    null|      null|   null|    null| 4950|        0|       0|         2|    null|      null|    null|    null|    null|   null| null|  null|      null|      null|      null|      null|    null|     null|     null|    null|     null|     N|      N|      null|\n",
            "|    2017|       1|   2084|       P| Bashner, Richard S|        H|     9|     ABC|  null|      null|R0000213| 6/12/2017|      null|Article the Fifth...|  OTHR| null|   null|     null|        Z|       Yonkers|   NY|10705|      null|   null|    null|      null|   null|    null| 2500|        0|       0|         2|    null|      null|    null|    null|    null|   null| null|  null|      null|      null|      null|      null|    null|     null|     null|    null|     null|     N|      N|      null|\n",
            "|    2017|       1|   2071|       P|Malliotakis, Nicole|        H|     9|     ABC|  null|      null|R0007108| 7/10/2017|      null|Association of Su...|  OTHR| null|   null|     null|        M|      New York|   NY|10007|      null|   null|    null|      null|   null|    null|  500|        0|       0|         2|    null|      null|    null|    null|    null|   null| null|  null|      null|      null|      null|      null|    null|     null|     null|    null|     null|     N|      N|      null|\n",
            "|    2017|       1|    326|       P|    de Blasio, Bill|        P|    15|     ABC|  null|      null|R0088358| 11/2/2017|      null|Association of Th...|  EMPO| null|   null|     null|        M|      New York|   NY|10036|      null|   null|    null|      null|   null|    null|  400|        0|       0|         2|    null|      null|    null|    null|    null|   null| null|  null|      null|      null|      null|      null|    null|     null|     null|    null|     null|     N|      N|      null|\n",
            "|    2017|       1|    326|       P|    de Blasio, Bill|        P|     4|     ABC|  null|      null|R0043263|10/15/2015|      null|    ATU NY COPE Fund| PCOMP| null|   null|     null|        Z|    Washington|   DC|20016|      null|   null|    null|      null|   null|    null| 4950|        0|       0|         2|    null|      null|    null|    null|    null|   null| null|  null|      null|      null|      null|      null|    null|     null|     null|    null|     null|     N|      N|      null|\n",
            "|    2017|       1|   2071|       P|Malliotakis, Nicole|        H|    10|     ABC|  null|      null|R0008357| 7/20/2017|      null| Believe in New York| PCOMP| null|   null|     null|        Z|    RIDGEFIELD|   CT| 6877|      null|   null|    null|      null|   null|    null| 1000|        0|       0|         2|    null|      null|    null|    null|    null|   null| null|  null|      null|      null|      null|      null|    null|     null|     null|    null|     null|     N|      N|      null|\n",
            "|    2017|       1|   2071|       P|Malliotakis, Nicole|        H|    16|       M|  null|      null|R0015635| 7/20/2017| 9/21/2017| Believe in New York| PCOMP| null|   null|     null|        Z|    RIDGEFIELD|   CT| 6877|      null|   null|    null|      null|   null|    null|-1000|        0|       0|         0|    null|      null|    null|    null|    null|   null| null|  null|      null|      null|      null|      null|    null|     null|     null|    null|        2|     N|      N|      null|\n",
            "|    2017|       1|   2071|       P|Malliotakis, Nicole|        H|     9|     ABC|  null|      null|R0002906|  6/6/2017|      null|    Boyle for Senate|  OTHR| null|   null|     null|        Z|      BAYSHORE|   NY|11706|      null|   null|    null|      null|   null|    null|  500|        0|       0|         2|    null|      null|    null|    null|    null|   null| null|  null|      null|      null|      null|      null|    null|     null|     null|    null|     null|     N|      N|      null|\n",
            "|    2017|       1|   2071|       P|Malliotakis, Nicole|        H|    15|     ABC|  null|      null|R0024273|10/24/2017|      null| BRING BROOKLYN BACK| PCOMP| null|   null|     null|        Z|       MINEOLA|   NY|11501|      null|   null|    null|      null|   null|    null|  200|        0|       0|         2|    null|      null|    null|    null|    null|   null| null|  null|      null|      null|      null|      null|    null|     null|     null|    null|     null|     N|      N|      null|\n",
            "|    2017|       1|    326|       P|    de Blasio, Bill|        P|     5|     ABC|  null|      null|R0046900|  7/6/2016|      null|Building & Constr...| PCOMP| null|   null|     null|        M|      New York|   NY|10010|      null|   null|    null|      null|   null|    null| 2500|        0|       0|         2|    null|      null|    null|    null|    null|   null| null|  null|      null|      null|      null|      null|    null|     null|     null|    null|     null|     N|      N|      null|\n",
            "+--------+--------+-------+--------+-------------------+---------+------+--------+------+----------+--------+----------+----------+--------------------+------+-----+-------+---------+---------+--------------+-----+-----+----------+-------+--------+----------+-------+--------+-----+---------+--------+----------+--------+----------+--------+--------+--------+-------+-----+------+----------+----------+----------+----------+--------+---------+---------+--------+---------+------+-------+----------+\n",
            "only showing top 20 rows\n",
            "\n"
          ]
        }
      ]
    },
    {
      "cell_type": "code",
      "metadata": {
        "colab": {
          "base_uri": "https://localhost:8080/"
        },
        "id": "S-dAX_VzLOhL",
        "outputId": "9bda8d47-c9bb-4ac5-dbaf-5f432abb4837"
      },
      "source": [
        "# Remove multiple columns\n",
        "list = ['COMMITTEE', 'FILING', 'SCHEDULE', 'PAGENO', 'SEQUENCENO','REFNO', 'STRNO', 'STRNAME', 'APARTMENT', 'OCCUPATION', 'EMPNAME', 'EMPSTRNO', 'EMPSTRNAME',\n",
        "                'EMPCITY','REFUNDDATE','INTERMNO', 'INTERMNAME', 'INTSTRNO', 'INTSTRNM', 'INTSTRNM', 'INTAPTNO',\n",
        "                'INTCITY', 'INTST','INTZIP', 'INTEMPNAME', 'INTEMPSTNO', 'INTEMPSTNM', 'INTEMPCITY', 'INTEMPST', 'INTOCCUPA' ,'PURPOSECD', 'EXEMPTCD','ADJTYPECD', 'RR_IND', 'SEG_IND','INT_C_CODE'] \n",
        "df = df.drop(*list)\n",
        "df.show()"
      ],
      "execution_count": 23,
      "outputs": [
        {
          "output_type": "stream",
          "name": "stdout",
          "text": [
            "+--------+--------+-------+--------+-------------------+----------+--------------------+------+---------+--------------+-----+-----+--------+-----+---------+--------+----------+\n",
            "|ELECTION|OFFICECD|RECIPID|CANCLASS|          RECIPNAME|      DATE|                NAME|C_CODE|BOROUGHCD|          CITY|STATE|  ZIP|EMPSTATE| AMNT|MATCHAMNT|PREVAMNT|PAY_METHOD|\n",
            "+--------+--------+-------+--------+-------------------+----------+--------------------+------+---------+--------------+-----+-----+--------+-----+---------+--------+----------+\n",
            "|    2017|       1|    326|       P|    de Blasio, Bill|  9/9/2017|1199/SEIU NYS Pol...| PCOMP|        M|      New York|   NY|10108|    null| 4950|        0|       0|         2|\n",
            "|    2017|       1|    326|       P|    de Blasio, Bill|  7/8/2016|     32BJ United ADF| PCOMP|        M|      New York|   NY|10011|    null| 2500|        0|       0|         2|\n",
            "|    2017|       1|    326|       P|    de Blasio, Bill| 1/11/2017|     32BJ United ADF| PCOMP|        M|      New York|   NY|10011|    null| 2450|        0|    2500|         2|\n",
            "|    2017|       1|    326|       P|    de Blasio, Bill| 9/11/2017|ACEC New York Cit...| PCOMP|        M|      New York|   NY|10018|    null| 4950|        0|       0|         2|\n",
            "|    2017|       1|    326|       P|    de Blasio, Bill|  8/7/2017|  AFSCME DC 1707 PAC| PCOMP|        M|      New York|   NY|10013|    null|  500|        0|       0|         2|\n",
            "|    2017|       1|    326|       P|    de Blasio, Bill|10/25/2017|  AFSCME DC 1707 PAC| PCOMP|        M|      New York|   NY|10013|    null| 3000|        0|     500|         2|\n",
            "|    2017|       1|    326|       P|    de Blasio, Bill| 11/8/2017|AFSCME International|  EMPO|        Z|    Washington|   DC|20036|    null| 4950|        0|       0|         2|\n",
            "|    2017|       1|    326|       P|    de Blasio, Bill|  1/6/2017|   AFSCME Local 1407|  EMPO|        M|      New York|   NY|10007|    null| 1000|        0|       0|         2|\n",
            "|    2017|       1|    326|       P|    de Blasio, Bill|11/15/2017|        AFT Michigan|  EMPO|        Z|       Detroit|   MI|48207|    null| 1000|        0|       0|         2|\n",
            "|    2017|       1|    326|       P|    de Blasio, Bill|10/20/2017|Amalgamated Trans...|  EMPO|        Q|Queens Village|   NY|11428|    null| 2500|        0|       0|         2|\n",
            "|    2017|       1|    326|       P|    de Blasio, Bill| 7/11/2016|American Federati...|  EMPO|        Z|    Washington|   DC|20001|    null| 4950|        0|       0|         2|\n",
            "|    2017|       1|   2084|       P| Bashner, Richard S| 6/12/2017|Article the Fifth...|  OTHR|        Z|       Yonkers|   NY|10705|    null| 2500|        0|       0|         2|\n",
            "|    2017|       1|   2071|       P|Malliotakis, Nicole| 7/10/2017|Association of Su...|  OTHR|        M|      New York|   NY|10007|    null|  500|        0|       0|         2|\n",
            "|    2017|       1|    326|       P|    de Blasio, Bill| 11/2/2017|Association of Th...|  EMPO|        M|      New York|   NY|10036|    null|  400|        0|       0|         2|\n",
            "|    2017|       1|    326|       P|    de Blasio, Bill|10/15/2015|    ATU NY COPE Fund| PCOMP|        Z|    Washington|   DC|20016|    null| 4950|        0|       0|         2|\n",
            "|    2017|       1|   2071|       P|Malliotakis, Nicole| 7/20/2017| Believe in New York| PCOMP|        Z|    RIDGEFIELD|   CT| 6877|    null| 1000|        0|       0|         2|\n",
            "|    2017|       1|   2071|       P|Malliotakis, Nicole| 7/20/2017| Believe in New York| PCOMP|        Z|    RIDGEFIELD|   CT| 6877|    null|-1000|        0|       0|         0|\n",
            "|    2017|       1|   2071|       P|Malliotakis, Nicole|  6/6/2017|    Boyle for Senate|  OTHR|        Z|      BAYSHORE|   NY|11706|    null|  500|        0|       0|         2|\n",
            "|    2017|       1|   2071|       P|Malliotakis, Nicole|10/24/2017| BRING BROOKLYN BACK| PCOMP|        Z|       MINEOLA|   NY|11501|    null|  200|        0|       0|         2|\n",
            "|    2017|       1|    326|       P|    de Blasio, Bill|  7/6/2016|Building & Constr...| PCOMP|        M|      New York|   NY|10010|    null| 2500|        0|       0|         2|\n",
            "+--------+--------+-------+--------+-------------------+----------+--------------------+------+---------+--------------+-----+-----+--------+-----+---------+--------+----------+\n",
            "only showing top 20 rows\n",
            "\n"
          ]
        }
      ]
    },
    {
      "cell_type": "code",
      "metadata": {
        "colab": {
          "base_uri": "https://localhost:8080/"
        },
        "id": "btba2GO-LOhL",
        "outputId": "6c43ddb8-1fe9-4f51-86b5-5bc25aec7fda"
      },
      "source": [
        "# check data types\n",
        "df.dtypes"
      ],
      "execution_count": 24,
      "outputs": [
        {
          "output_type": "execute_result",
          "data": {
            "text/plain": [
              "[('ELECTION', 'string'),\n",
              " ('OFFICECD', 'string'),\n",
              " ('RECIPID', 'string'),\n",
              " ('CANCLASS', 'string'),\n",
              " ('RECIPNAME', 'string'),\n",
              " ('DATE', 'string'),\n",
              " ('NAME', 'string'),\n",
              " ('C_CODE', 'string'),\n",
              " ('BOROUGHCD', 'string'),\n",
              " ('CITY', 'string'),\n",
              " ('STATE', 'string'),\n",
              " ('ZIP', 'string'),\n",
              " ('EMPSTATE', 'string'),\n",
              " ('AMNT', 'string'),\n",
              " ('MATCHAMNT', 'string'),\n",
              " ('PREVAMNT', 'string'),\n",
              " ('PAY_METHOD', 'string')]"
            ]
          },
          "metadata": {},
          "execution_count": 24
        }
      ]
    },
    {
      "cell_type": "code",
      "metadata": {
        "colab": {
          "base_uri": "https://localhost:8080/"
        },
        "id": "U3HO9e01LOhL",
        "outputId": "ce50ef71-0b82-4879-f438-b38171c40ffc"
      },
      "source": [
        "#Change column names\n",
        "df1 = df \\\n",
        ".withColumnRenamed(\"ELECTION\", \"Election\") \\\n",
        ".withColumnRenamed(\"RECIPID\", \"CandidateID\") \\\n",
        ".withColumnRenamed(\"RECIPNAME\", \"CandidateName\") \\\n",
        ".withColumnRenamed(\"DATE\", \"Date\") \\\n",
        ".withColumnRenamed(\"NAME\", \"Name\") \\\n",
        ".withColumnRenamed(\"C_CODE\", \"ContributerType\") \\\n",
        ".withColumnRenamed(\"BOROUGHCD\", \"BoroughName\") \\\n",
        ".withColumnRenamed(\"CITY\", \"City\") \\\n",
        ".withColumnRenamed(\"STATE\", \"State\") \\\n",
        ".withColumnRenamed(\"ZIP\", \"ZipCode\") \\\n",
        ".withColumnRenamed(\"EMPSTATE\", \"ContributionState\") \\\n",
        ".withColumnRenamed(\"AMNT\", \"Amount\") \\\n",
        ".withColumnRenamed(\"MATCHAMNT\", \"MatchAmt\") \\\n",
        ".withColumnRenamed(\"PREVAMNT\", \"PrevAmt\") \\\n",
        ".withColumnRenamed(\"PAY_METHOD\", \"PayMethod\") \n",
        "\n",
        "df1.printSchema()"
      ],
      "execution_count": 25,
      "outputs": [
        {
          "output_type": "stream",
          "name": "stdout",
          "text": [
            "root\n",
            " |-- Election: string (nullable = true)\n",
            " |-- OFFICECD: string (nullable = true)\n",
            " |-- CandidateID: string (nullable = true)\n",
            " |-- CANCLASS: string (nullable = true)\n",
            " |-- CandidateName: string (nullable = true)\n",
            " |-- Date: string (nullable = true)\n",
            " |-- Name: string (nullable = true)\n",
            " |-- ContributerType: string (nullable = true)\n",
            " |-- BoroughName: string (nullable = true)\n",
            " |-- City: string (nullable = true)\n",
            " |-- State: string (nullable = true)\n",
            " |-- ZipCode: string (nullable = true)\n",
            " |-- ContributionState: string (nullable = true)\n",
            " |-- Amount: string (nullable = true)\n",
            " |-- MatchAmt: string (nullable = true)\n",
            " |-- PrevAmt: string (nullable = true)\n",
            " |-- PayMethod: string (nullable = true)\n",
            "\n"
          ]
        }
      ]
    },
    {
      "cell_type": "code",
      "metadata": {
        "colab": {
          "base_uri": "https://localhost:8080/"
        },
        "id": "NuvQvwOFLOhM",
        "outputId": "0570c4ce-fcd2-40ba-9d0c-15490cb7de53"
      },
      "source": [
        "# changing datatypes of columns\n",
        "df2 = df1 \\\n",
        "  .withColumn(\"Election\",df1[\"Election\"].cast(\"Integer\")) \\\n",
        "  .withColumn(\"OFFICECD\", df1[\"OFFICECD\"].cast(\"Integer\")) \\\n",
        "  .withColumn(\"CandidateID\", df1[\"CandidateID\"].cast(\"Integer\")) \\\n",
        "  .withColumn(\"ZipCode\", df1[\"ZipCode\"].cast(\"Integer\")) \\\n",
        "  .withColumn(\"Amount\", df1[\"Amount\"].cast(\"Float\")) \\\n",
        "  .withColumn(\"MatchAmt\", df1[\"MatchAmt\"].cast(\"Float\")) \\\n",
        "  .withColumn(\"PrevAmt\", df1[\"PrevAmt\"].cast(\"Float\")) \\\n",
        "  .withColumn(\"Date\", df1[\"Date\"].cast(\"Date\")) \\\n",
        "  \n",
        "df2.printSchema()"
      ],
      "execution_count": 26,
      "outputs": [
        {
          "output_type": "stream",
          "name": "stdout",
          "text": [
            "root\n",
            " |-- Election: integer (nullable = true)\n",
            " |-- OFFICECD: integer (nullable = true)\n",
            " |-- CandidateID: integer (nullable = true)\n",
            " |-- CANCLASS: string (nullable = true)\n",
            " |-- CandidateName: string (nullable = true)\n",
            " |-- Date: date (nullable = true)\n",
            " |-- Name: string (nullable = true)\n",
            " |-- ContributerType: string (nullable = true)\n",
            " |-- BoroughName: string (nullable = true)\n",
            " |-- City: string (nullable = true)\n",
            " |-- State: string (nullable = true)\n",
            " |-- ZipCode: integer (nullable = true)\n",
            " |-- ContributionState: string (nullable = true)\n",
            " |-- Amount: float (nullable = true)\n",
            " |-- MatchAmt: float (nullable = true)\n",
            " |-- PrevAmt: float (nullable = true)\n",
            " |-- PayMethod: string (nullable = true)\n",
            "\n"
          ]
        }
      ]
    },
    {
      "cell_type": "code",
      "metadata": {
        "id": "qa6S4he5LOhM"
      },
      "source": [
        "#Change vaule name in ContributerType\n",
        "from pyspark.sql.functions import regexp_replace\n",
        "df3 = df2.withColumn('ContributerType', regexp_replace('ContributerType', 'CAN', 'Candidate')) \\\n",
        "  .withColumn('ContributerType', regexp_replace('ContributerType', 'CORP', 'Corporation')) \\\n",
        "  .withColumn('ContributerType', regexp_replace('ContributerType', 'EMPO', 'Labor Union')) \\\n",
        "  .withColumn('ContributerType', regexp_replace('ContributerType', 'FAM', 'Candidate Family')) \\\n",
        "  .withColumn('ContributerType', regexp_replace('ContributerType', 'IND', 'Individual')) \\\n",
        "  .withColumn('ContributerType', regexp_replace('ContributerType', 'PCOMZ', 'Party Committee')) \\\n",
        "  .withColumn('ContributerType', regexp_replace('ContributerType', 'ORG', 'Orgainization')) \\\n",
        "  .withColumn('ContributerType', regexp_replace('ContributerType', 'LLC', 'Limited Liability Company')) \\\n",
        "  .withColumn('ContributerType', regexp_replace('ContributerType', 'PCOMP', 'Political Action Committee')) \\\n",
        "  .withColumn('ContributerType', regexp_replace('ContributerType', 'SPO', 'Spouse')) \\\n",
        "  .withColumn('ContributerType', regexp_replace('ContributerType', 'OTHR', 'Other')) \\\n",
        "  .withColumn('ContributerType', regexp_replace('ContributerType', 'PCOMC', 'Candidate Committee')) \\\n",
        "  .withColumn('ContributerType', regexp_replace('ContributerType', 'PART', 'Individual')) \\\n"
      ],
      "execution_count": 27,
      "outputs": []
    },
    {
      "cell_type": "code",
      "metadata": {
        "id": "HKU4a2YeLOhM"
      },
      "source": [
        "#Change Payment Method Name\n",
        "df4=df3.withColumn('PayMethod', regexp_replace('PayMethod','0','Unknown')) \\\n",
        "  .withColumn('PayMethod', regexp_replace('PayMethod','1','Cash')) \\\n",
        "  .withColumn('PayMethod', regexp_replace('PayMethod','2','Check')) \\\n",
        "  .withColumn('PayMethod', regexp_replace('PayMethod','3','Other')) \\\n",
        "  .withColumn('PayMethod', regexp_replace('PayMethod','4','Credit Card')) \\\n",
        "  .withColumn('PayMethod', regexp_replace('PayMethod','5','Money Order')) \\"
      ],
      "execution_count": 28,
      "outputs": []
    },
    {
      "cell_type": "code",
      "metadata": {
        "id": "trH99qC5LOhM"
      },
      "source": [
        "#Change Borough name\n",
        "from pyspark.sql.functions import regexp_replace\n",
        "df5 = df4.withColumn('BoroughName', regexp_replace('BoroughName', 'K', 'Brooklyn')) \\\n",
        "  .withColumn('BoroughName', regexp_replace('BoroughName', 'M', 'Manhattan')) \\\n",
        "  .withColumn('BoroughName', regexp_replace('BoroughName', 'Q', 'Queens')) \\\n",
        "  .withColumn('BoroughName', regexp_replace('BoroughName', 'S', 'Staten Island')) \\\n",
        "  .withColumn('BoroughName', regexp_replace('BoroughName', 'X', 'Bronx')) \\\n",
        "  .withColumn('BoroughName', regexp_replace('BoroughName', 'Z', 'Other')) \\\n"
      ],
      "execution_count": 29,
      "outputs": []
    },
    {
      "cell_type": "code",
      "metadata": {
        "colab": {
          "base_uri": "https://localhost:8080/"
        },
        "id": "wO9XHx_6LOhM",
        "outputId": "a7742f24-213b-4646-8176-67184f531a8e"
      },
      "source": [
        "#Call only Mayor (1) and particaptes (P) within Dataframe\n",
        "df6 = df5.filter((df5.OFFICECD==\"1\") & (df5.CANCLASS==\"P\"))\n",
        "df6.show()"
      ],
      "execution_count": 30,
      "outputs": [
        {
          "output_type": "stream",
          "name": "stdout",
          "text": [
            "+--------+--------+-----------+--------+-------------------+----+--------------------+--------------------+-----------+--------------+-----+-------+-----------------+-------+--------+-------+---------+\n",
            "|Election|OFFICECD|CandidateID|CANCLASS|      CandidateName|Date|                Name|     ContributerType|BoroughName|          City|State|ZipCode|ContributionState| Amount|MatchAmt|PrevAmt|PayMethod|\n",
            "+--------+--------+-----------+--------+-------------------+----+--------------------+--------------------+-----------+--------------+-----+-------+-----------------+-------+--------+-------+---------+\n",
            "|    2017|       1|        326|       P|    de Blasio, Bill|null|1199/SEIU NYS Pol...|Political Action ...|  Manhattan|      New York|   NY|  10108|             null| 4950.0|     0.0|    0.0|    Check|\n",
            "|    2017|       1|        326|       P|    de Blasio, Bill|null|     32BJ United ADF|Political Action ...|  Manhattan|      New York|   NY|  10011|             null| 2500.0|     0.0|    0.0|    Check|\n",
            "|    2017|       1|        326|       P|    de Blasio, Bill|null|     32BJ United ADF|Political Action ...|  Manhattan|      New York|   NY|  10011|             null| 2450.0|     0.0| 2500.0|    Check|\n",
            "|    2017|       1|        326|       P|    de Blasio, Bill|null|ACEC New York Cit...|Political Action ...|  Manhattan|      New York|   NY|  10018|             null| 4950.0|     0.0|    0.0|    Check|\n",
            "|    2017|       1|        326|       P|    de Blasio, Bill|null|  AFSCME DC 1707 PAC|Political Action ...|  Manhattan|      New York|   NY|  10013|             null|  500.0|     0.0|    0.0|    Check|\n",
            "|    2017|       1|        326|       P|    de Blasio, Bill|null|  AFSCME DC 1707 PAC|Political Action ...|  Manhattan|      New York|   NY|  10013|             null| 3000.0|     0.0|  500.0|    Check|\n",
            "|    2017|       1|        326|       P|    de Blasio, Bill|null|AFSCME International|         Labor Union|      Other|    Washington|   DC|  20036|             null| 4950.0|     0.0|    0.0|    Check|\n",
            "|    2017|       1|        326|       P|    de Blasio, Bill|null|   AFSCME Local 1407|         Labor Union|  Manhattan|      New York|   NY|  10007|             null| 1000.0|     0.0|    0.0|    Check|\n",
            "|    2017|       1|        326|       P|    de Blasio, Bill|null|        AFT Michigan|         Labor Union|      Other|       Detroit|   MI|  48207|             null| 1000.0|     0.0|    0.0|    Check|\n",
            "|    2017|       1|        326|       P|    de Blasio, Bill|null|Amalgamated Trans...|         Labor Union|     Queens|Queens Village|   NY|  11428|             null| 2500.0|     0.0|    0.0|    Check|\n",
            "|    2017|       1|        326|       P|    de Blasio, Bill|null|American Federati...|         Labor Union|      Other|    Washington|   DC|  20001|             null| 4950.0|     0.0|    0.0|    Check|\n",
            "|    2017|       1|       2084|       P| Bashner, Richard S|null|Article the Fifth...|               Other|      Other|       Yonkers|   NY|  10705|             null| 2500.0|     0.0|    0.0|    Check|\n",
            "|    2017|       1|       2071|       P|Malliotakis, Nicole|null|Association of Su...|               Other|  Manhattan|      New York|   NY|  10007|             null|  500.0|     0.0|    0.0|    Check|\n",
            "|    2017|       1|        326|       P|    de Blasio, Bill|null|Association of Th...|         Labor Union|  Manhattan|      New York|   NY|  10036|             null|  400.0|     0.0|    0.0|    Check|\n",
            "|    2017|       1|        326|       P|    de Blasio, Bill|null|    ATU NY COPE Fund|Political Action ...|      Other|    Washington|   DC|  20016|             null| 4950.0|     0.0|    0.0|    Check|\n",
            "|    2017|       1|       2071|       P|Malliotakis, Nicole|null| Believe in New York|Political Action ...|      Other|    RIDGEFIELD|   CT|   6877|             null| 1000.0|     0.0|    0.0|    Check|\n",
            "|    2017|       1|       2071|       P|Malliotakis, Nicole|null| Believe in New York|Political Action ...|      Other|    RIDGEFIELD|   CT|   6877|             null|-1000.0|     0.0|    0.0|  Unknown|\n",
            "|    2017|       1|       2071|       P|Malliotakis, Nicole|null|    Boyle for Senate|               Other|      Other|      BAYSHORE|   NY|  11706|             null|  500.0|     0.0|    0.0|    Check|\n",
            "|    2017|       1|       2071|       P|Malliotakis, Nicole|null| BRING BROOKLYN BACK|Political Action ...|      Other|       MINEOLA|   NY|  11501|             null|  200.0|     0.0|    0.0|    Check|\n",
            "|    2017|       1|        326|       P|    de Blasio, Bill|null|Building & Constr...|Political Action ...|  Manhattan|      New York|   NY|  10010|             null| 2500.0|     0.0|    0.0|    Check|\n",
            "+--------+--------+-----------+--------+-------------------+----+--------------------+--------------------+-----------+--------------+-----+-------+-----------------+-------+--------+-------+---------+\n",
            "only showing top 20 rows\n",
            "\n"
          ]
        }
      ]
    },
    {
      "cell_type": "code",
      "metadata": {
        "colab": {
          "base_uri": "https://localhost:8080/"
        },
        "id": "nEmNuKUFLOhM",
        "outputId": "24386bbd-6d2b-418a-fae3-1511aaba7c7e"
      },
      "source": [
        "#Check the above dataframe to make sure only unique values between the OFFICECD is 1 \n",
        "df6.select('OFFICECD').distinct().show()"
      ],
      "execution_count": 31,
      "outputs": [
        {
          "output_type": "stream",
          "name": "stdout",
          "text": [
            "+--------+\n",
            "|OFFICECD|\n",
            "+--------+\n",
            "|       1|\n",
            "+--------+\n",
            "\n"
          ]
        }
      ]
    },
    {
      "cell_type": "code",
      "metadata": {
        "colab": {
          "base_uri": "https://localhost:8080/"
        },
        "id": "Myx_AWPaLOhM",
        "outputId": "88db645a-4cfe-4fae-caf3-b5a4e3eaf130"
      },
      "source": [
        "#Drop OFFICECD and CANCLASS\n",
        "list2 = ['OFFICECD', 'CANCLASS'] \n",
        "df7 = df6.drop(*list2)\n",
        "df7.show()"
      ],
      "execution_count": 32,
      "outputs": [
        {
          "output_type": "stream",
          "name": "stdout",
          "text": [
            "+--------+-----------+-------------------+----+--------------------+--------------------+-----------+--------------+-----+-------+-----------------+-------+--------+-------+---------+\n",
            "|Election|CandidateID|      CandidateName|Date|                Name|     ContributerType|BoroughName|          City|State|ZipCode|ContributionState| Amount|MatchAmt|PrevAmt|PayMethod|\n",
            "+--------+-----------+-------------------+----+--------------------+--------------------+-----------+--------------+-----+-------+-----------------+-------+--------+-------+---------+\n",
            "|    2017|        326|    de Blasio, Bill|null|1199/SEIU NYS Pol...|Political Action ...|  Manhattan|      New York|   NY|  10108|             null| 4950.0|     0.0|    0.0|    Check|\n",
            "|    2017|        326|    de Blasio, Bill|null|     32BJ United ADF|Political Action ...|  Manhattan|      New York|   NY|  10011|             null| 2500.0|     0.0|    0.0|    Check|\n",
            "|    2017|        326|    de Blasio, Bill|null|     32BJ United ADF|Political Action ...|  Manhattan|      New York|   NY|  10011|             null| 2450.0|     0.0| 2500.0|    Check|\n",
            "|    2017|        326|    de Blasio, Bill|null|ACEC New York Cit...|Political Action ...|  Manhattan|      New York|   NY|  10018|             null| 4950.0|     0.0|    0.0|    Check|\n",
            "|    2017|        326|    de Blasio, Bill|null|  AFSCME DC 1707 PAC|Political Action ...|  Manhattan|      New York|   NY|  10013|             null|  500.0|     0.0|    0.0|    Check|\n",
            "|    2017|        326|    de Blasio, Bill|null|  AFSCME DC 1707 PAC|Political Action ...|  Manhattan|      New York|   NY|  10013|             null| 3000.0|     0.0|  500.0|    Check|\n",
            "|    2017|        326|    de Blasio, Bill|null|AFSCME International|         Labor Union|      Other|    Washington|   DC|  20036|             null| 4950.0|     0.0|    0.0|    Check|\n",
            "|    2017|        326|    de Blasio, Bill|null|   AFSCME Local 1407|         Labor Union|  Manhattan|      New York|   NY|  10007|             null| 1000.0|     0.0|    0.0|    Check|\n",
            "|    2017|        326|    de Blasio, Bill|null|        AFT Michigan|         Labor Union|      Other|       Detroit|   MI|  48207|             null| 1000.0|     0.0|    0.0|    Check|\n",
            "|    2017|        326|    de Blasio, Bill|null|Amalgamated Trans...|         Labor Union|     Queens|Queens Village|   NY|  11428|             null| 2500.0|     0.0|    0.0|    Check|\n",
            "|    2017|        326|    de Blasio, Bill|null|American Federati...|         Labor Union|      Other|    Washington|   DC|  20001|             null| 4950.0|     0.0|    0.0|    Check|\n",
            "|    2017|       2084| Bashner, Richard S|null|Article the Fifth...|               Other|      Other|       Yonkers|   NY|  10705|             null| 2500.0|     0.0|    0.0|    Check|\n",
            "|    2017|       2071|Malliotakis, Nicole|null|Association of Su...|               Other|  Manhattan|      New York|   NY|  10007|             null|  500.0|     0.0|    0.0|    Check|\n",
            "|    2017|        326|    de Blasio, Bill|null|Association of Th...|         Labor Union|  Manhattan|      New York|   NY|  10036|             null|  400.0|     0.0|    0.0|    Check|\n",
            "|    2017|        326|    de Blasio, Bill|null|    ATU NY COPE Fund|Political Action ...|      Other|    Washington|   DC|  20016|             null| 4950.0|     0.0|    0.0|    Check|\n",
            "|    2017|       2071|Malliotakis, Nicole|null| Believe in New York|Political Action ...|      Other|    RIDGEFIELD|   CT|   6877|             null| 1000.0|     0.0|    0.0|    Check|\n",
            "|    2017|       2071|Malliotakis, Nicole|null| Believe in New York|Political Action ...|      Other|    RIDGEFIELD|   CT|   6877|             null|-1000.0|     0.0|    0.0|  Unknown|\n",
            "|    2017|       2071|Malliotakis, Nicole|null|    Boyle for Senate|               Other|      Other|      BAYSHORE|   NY|  11706|             null|  500.0|     0.0|    0.0|    Check|\n",
            "|    2017|       2071|Malliotakis, Nicole|null| BRING BROOKLYN BACK|Political Action ...|      Other|       MINEOLA|   NY|  11501|             null|  200.0|     0.0|    0.0|    Check|\n",
            "|    2017|        326|    de Blasio, Bill|null|Building & Constr...|Political Action ...|  Manhattan|      New York|   NY|  10010|             null| 2500.0|     0.0|    0.0|    Check|\n",
            "+--------+-----------+-------------------+----+--------------------+--------------------+-----------+--------------+-----+-------+-----------------+-------+--------+-------+---------+\n",
            "only showing top 20 rows\n",
            "\n"
          ]
        }
      ]
    },
    {
      "cell_type": "code",
      "metadata": {
        "colab": {
          "base_uri": "https://localhost:8080/"
        },
        "id": "Uci_zuD5LOhM",
        "outputId": "d8458d63-6ff4-43e7-9f16-7669365d84c9"
      },
      "source": [
        "# ADD AMNT and MATCHAMNT PrevAmnt\n",
        "from pyspark.sql.functions import col\n",
        "clean_comm_2017_df = df7.withColumn(\"TotalAmount\", col(\"Amount\")+col(\"MatchAmt\")+col('PrevAmt'))\n",
        "clean_comm_2017_df.show()"
      ],
      "execution_count": 33,
      "outputs": [
        {
          "output_type": "stream",
          "name": "stdout",
          "text": [
            "+--------+-----------+-------------------+----+--------------------+--------------------+-----------+--------------+-----+-------+-----------------+-------+--------+-------+---------+-----------+\n",
            "|Election|CandidateID|      CandidateName|Date|                Name|     ContributerType|BoroughName|          City|State|ZipCode|ContributionState| Amount|MatchAmt|PrevAmt|PayMethod|TotalAmount|\n",
            "+--------+-----------+-------------------+----+--------------------+--------------------+-----------+--------------+-----+-------+-----------------+-------+--------+-------+---------+-----------+\n",
            "|    2017|        326|    de Blasio, Bill|null|1199/SEIU NYS Pol...|Political Action ...|  Manhattan|      New York|   NY|  10108|             null| 4950.0|     0.0|    0.0|    Check|     4950.0|\n",
            "|    2017|        326|    de Blasio, Bill|null|     32BJ United ADF|Political Action ...|  Manhattan|      New York|   NY|  10011|             null| 2500.0|     0.0|    0.0|    Check|     2500.0|\n",
            "|    2017|        326|    de Blasio, Bill|null|     32BJ United ADF|Political Action ...|  Manhattan|      New York|   NY|  10011|             null| 2450.0|     0.0| 2500.0|    Check|     4950.0|\n",
            "|    2017|        326|    de Blasio, Bill|null|ACEC New York Cit...|Political Action ...|  Manhattan|      New York|   NY|  10018|             null| 4950.0|     0.0|    0.0|    Check|     4950.0|\n",
            "|    2017|        326|    de Blasio, Bill|null|  AFSCME DC 1707 PAC|Political Action ...|  Manhattan|      New York|   NY|  10013|             null|  500.0|     0.0|    0.0|    Check|      500.0|\n",
            "|    2017|        326|    de Blasio, Bill|null|  AFSCME DC 1707 PAC|Political Action ...|  Manhattan|      New York|   NY|  10013|             null| 3000.0|     0.0|  500.0|    Check|     3500.0|\n",
            "|    2017|        326|    de Blasio, Bill|null|AFSCME International|         Labor Union|      Other|    Washington|   DC|  20036|             null| 4950.0|     0.0|    0.0|    Check|     4950.0|\n",
            "|    2017|        326|    de Blasio, Bill|null|   AFSCME Local 1407|         Labor Union|  Manhattan|      New York|   NY|  10007|             null| 1000.0|     0.0|    0.0|    Check|     1000.0|\n",
            "|    2017|        326|    de Blasio, Bill|null|        AFT Michigan|         Labor Union|      Other|       Detroit|   MI|  48207|             null| 1000.0|     0.0|    0.0|    Check|     1000.0|\n",
            "|    2017|        326|    de Blasio, Bill|null|Amalgamated Trans...|         Labor Union|     Queens|Queens Village|   NY|  11428|             null| 2500.0|     0.0|    0.0|    Check|     2500.0|\n",
            "|    2017|        326|    de Blasio, Bill|null|American Federati...|         Labor Union|      Other|    Washington|   DC|  20001|             null| 4950.0|     0.0|    0.0|    Check|     4950.0|\n",
            "|    2017|       2084| Bashner, Richard S|null|Article the Fifth...|               Other|      Other|       Yonkers|   NY|  10705|             null| 2500.0|     0.0|    0.0|    Check|     2500.0|\n",
            "|    2017|       2071|Malliotakis, Nicole|null|Association of Su...|               Other|  Manhattan|      New York|   NY|  10007|             null|  500.0|     0.0|    0.0|    Check|      500.0|\n",
            "|    2017|        326|    de Blasio, Bill|null|Association of Th...|         Labor Union|  Manhattan|      New York|   NY|  10036|             null|  400.0|     0.0|    0.0|    Check|      400.0|\n",
            "|    2017|        326|    de Blasio, Bill|null|    ATU NY COPE Fund|Political Action ...|      Other|    Washington|   DC|  20016|             null| 4950.0|     0.0|    0.0|    Check|     4950.0|\n",
            "|    2017|       2071|Malliotakis, Nicole|null| Believe in New York|Political Action ...|      Other|    RIDGEFIELD|   CT|   6877|             null| 1000.0|     0.0|    0.0|    Check|     1000.0|\n",
            "|    2017|       2071|Malliotakis, Nicole|null| Believe in New York|Political Action ...|      Other|    RIDGEFIELD|   CT|   6877|             null|-1000.0|     0.0|    0.0|  Unknown|    -1000.0|\n",
            "|    2017|       2071|Malliotakis, Nicole|null|    Boyle for Senate|               Other|      Other|      BAYSHORE|   NY|  11706|             null|  500.0|     0.0|    0.0|    Check|      500.0|\n",
            "|    2017|       2071|Malliotakis, Nicole|null| BRING BROOKLYN BACK|Political Action ...|      Other|       MINEOLA|   NY|  11501|             null|  200.0|     0.0|    0.0|    Check|      200.0|\n",
            "|    2017|        326|    de Blasio, Bill|null|Building & Constr...|Political Action ...|  Manhattan|      New York|   NY|  10010|             null| 2500.0|     0.0|    0.0|    Check|     2500.0|\n",
            "+--------+-----------+-------------------+----+--------------------+--------------------+-----------+--------------+-----+-------+-----------------+-------+--------+-------+---------+-----------+\n",
            "only showing top 20 rows\n",
            "\n"
          ]
        }
      ]
    },
    {
      "cell_type": "code",
      "metadata": {
        "id": "JP38ou7rs5hY"
      },
      "source": [
        "#Export to new CSV\n",
        "#clean_comm_2017_df.toPandas().to_csv(\"Clean_Committee_2017.csv\", header=True)"
      ],
      "execution_count": 34,
      "outputs": []
    },
    {
      "cell_type": "code",
      "metadata": {
        "id": "S3PsGBmTLOhN"
      },
      "source": [
        "# Store environmental variable\n",
        "from getpass import getpass\n",
        "#Configure settings for RDS\n",
        "mode = \"append\"\n",
        "jdbc_url=\"jdbc:postgresql://database-final.cjdbapst3wjf.us-east-1.rds.amazonaws.com:5432/postgres\"\n",
        "config = {\"user\":\"postgres\",\n",
        "          \"password\": \"FinalProject05\",\n",
        "          \"driver\":\"org.postgresql.Driver\"}"
      ],
      "execution_count": 35,
      "outputs": []
    },
    {
      "cell_type": "code",
      "metadata": {
        "id": "BJ4dBFJKSG5J"
      },
      "source": [
        "# Write DataFrame to active_user table in RDS\n",
        "clean_indivi_2017_df.write.jdbc(url=jdbc_url, table='sample_2017', mode=mode, properties=config)"
      ],
      "execution_count": 38,
      "outputs": []
    },
    {
      "cell_type": "code",
      "metadata": {
        "id": "SSpL71qCG1F2"
      },
      "source": [
        "# Write DataFrame to active_user table in RDS\n",
        "#clean_comm_2017_df.write.jdbc(url=jdbc_url, table='committee_2017', mode=mode, properties=config)"
      ],
      "execution_count": null,
      "outputs": []
    }
  ]
}