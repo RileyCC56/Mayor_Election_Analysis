{
  "nbformat": 4,
  "nbformat_minor": 0,
  "metadata": {
    "colab": {
      "name": "2013_Contributions.ipynb",
      "provenance": [],
      "authorship_tag": "ABX9TyNME29VCs5R3zLJ6y8hzqlj",
      "include_colab_link": true
    },
    "kernelspec": {
      "name": "python3",
      "display_name": "Python 3"
    },
    "language_info": {
      "name": "python"
    }
  },
  "cells": [
    {
      "cell_type": "markdown",
      "metadata": {
        "id": "view-in-github",
        "colab_type": "text"
      },
      "source": [
        "<a href=\"https://colab.research.google.com/github/ssheggrud/Mod_20_Project/blob/05_Riley/2013_Contributions.ipynb\" target=\"_parent\"><img src=\"https://colab.research.google.com/assets/colab-badge.svg\" alt=\"Open In Colab\"/></a>"
      ]
    },
    {
      "cell_type": "markdown",
      "metadata": {
        "id": "qo0_SOu8LIEc"
      },
      "source": [
        "## **2013 Indivdual Contributions**"
      ]
    },
    {
      "cell_type": "code",
      "metadata": {
        "colab": {
          "base_uri": "https://localhost:8080/"
        },
        "id": "ddn5mqQ0M_R3",
        "outputId": "858a1a60-d991-4081-a312-6638cda23d86"
      },
      "source": [
        "import os\n",
        "# Find the latest version of spark 3.0 from http://www.apache.org/dist/spark/ and enter as the spark version\n",
        "# For example:\n",
        "# spark_version = 'spark-3.0.3'\n",
        "spark_version = 'spark-2.4.8'\n",
        "os.environ['SPARK_VERSION']=spark_version\n",
        "\n",
        "# Install Spark and Java\n",
        "!apt-get update\n",
        "!apt-get install openjdk-11-jdk-headless -qq > /dev/null\n",
        "!wget -q http://www.apache.org/dist/spark/$SPARK_VERSION/$SPARK_VERSION-bin-hadoop2.7.tgz\n",
        "!tar xf $SPARK_VERSION-bin-hadoop2.7.tgz\n",
        "!pip install -q findspark\n",
        "\n",
        "# Set Environment Variables\n",
        "import os\n",
        "os.environ[\"JAVA_HOME\"] = \"/usr/lib/jvm/java-11-openjdk-amd64\"\n",
        "os.environ[\"SPARK_HOME\"] = f\"/content/{spark_version}-bin-hadoop2.7\"\n",
        "\n",
        "# Start a SparkSession\n",
        "import findspark\n",
        "findspark.init()"
      ],
      "execution_count": 1,
      "outputs": [
        {
          "output_type": "stream",
          "name": "stdout",
          "text": [
            "\r0% [Working]\r            \rGet:1 https://cloud.r-project.org/bin/linux/ubuntu bionic-cran40/ InRelease [3,626 B]\n",
            "\r0% [Connecting to archive.ubuntu.com (91.189.88.142)] [Connecting to security.u\r0% [Connecting to archive.ubuntu.com (91.189.88.142)] [Connecting to security.u\r0% [1 InRelease gpgv 3,626 B] [Connecting to archive.ubuntu.com (91.189.88.142)\r                                                                               \rIgn:2 https://developer.download.nvidia.com/compute/cuda/repos/ubuntu1804/x86_64  InRelease\n",
            "\r0% [1 InRelease gpgv 3,626 B] [Connecting to archive.ubuntu.com (91.189.88.142)\r                                                                               \rIgn:3 https://developer.download.nvidia.com/compute/machine-learning/repos/ubuntu1804/x86_64  InRelease\n",
            "\r0% [1 InRelease gpgv 3,626 B] [Connecting to archive.ubuntu.com (91.189.88.142)\r                                                                               \rGet:4 https://developer.download.nvidia.com/compute/cuda/repos/ubuntu1804/x86_64  Release [696 B]\n",
            "\r0% [1 InRelease gpgv 3,626 B] [Connecting to archive.ubuntu.com (91.189.88.142)\r0% [1 InRelease gpgv 3,626 B] [Connecting to archive.ubuntu.com (91.189.88.142)\r                                                                               \rHit:5 https://developer.download.nvidia.com/compute/machine-learning/repos/ubuntu1804/x86_64  Release\n",
            "Get:6 https://developer.download.nvidia.com/compute/cuda/repos/ubuntu1804/x86_64  Release.gpg [836 B]\n",
            "Get:7 http://security.ubuntu.com/ubuntu bionic-security InRelease [88.7 kB]\n",
            "Hit:8 http://archive.ubuntu.com/ubuntu bionic InRelease\n",
            "Get:9 http://ppa.launchpad.net/c2d4u.team/c2d4u4.0+/ubuntu bionic InRelease [15.9 kB]\n",
            "Get:10 http://archive.ubuntu.com/ubuntu bionic-updates InRelease [88.7 kB]\n",
            "Get:12 https://developer.download.nvidia.com/compute/cuda/repos/ubuntu1804/x86_64  Packages [700 kB]\n",
            "Hit:13 http://ppa.launchpad.net/cran/libgit2/ubuntu bionic InRelease\n",
            "Get:14 http://archive.ubuntu.com/ubuntu bionic-backports InRelease [74.6 kB]\n",
            "Hit:15 http://ppa.launchpad.net/deadsnakes/ppa/ubuntu bionic InRelease\n",
            "Hit:16 http://ppa.launchpad.net/graphics-drivers/ppa/ubuntu bionic InRelease\n",
            "Get:17 http://security.ubuntu.com/ubuntu bionic-security/main amd64 Packages [2,295 kB]\n",
            "Get:18 http://ppa.launchpad.net/c2d4u.team/c2d4u4.0+/ubuntu bionic/main Sources [1,796 kB]\n",
            "Get:19 http://archive.ubuntu.com/ubuntu bionic-updates/main amd64 Packages [2,755 kB]\n",
            "Get:20 http://ppa.launchpad.net/c2d4u.team/c2d4u4.0+/ubuntu bionic/main amd64 Packages [919 kB]\n",
            "Get:21 http://archive.ubuntu.com/ubuntu bionic-updates/universe amd64 Packages [2,202 kB]\n",
            "Get:22 http://archive.ubuntu.com/ubuntu bionic-updates/restricted amd64 Packages [594 kB]\n",
            "Fetched 11.5 MB in 5s (2,538 kB/s)\n",
            "Reading package lists... Done\n"
          ]
        }
      ]
    },
    {
      "cell_type": "code",
      "metadata": {
        "colab": {
          "base_uri": "https://localhost:8080/"
        },
        "id": "B9Dd_JabNFZU",
        "outputId": "51117237-f184-4755-aa79-0480a7f6532f"
      },
      "source": [
        "# Download the Postgres driver that will allow Spark to interact with Postgres.\n",
        "!wget https://jdbc.postgresql.org/download/postgresql-42.2.16.jar"
      ],
      "execution_count": 2,
      "outputs": [
        {
          "output_type": "stream",
          "name": "stdout",
          "text": [
            "--2021-09-07 18:48:48--  https://jdbc.postgresql.org/download/postgresql-42.2.16.jar\n",
            "Resolving jdbc.postgresql.org (jdbc.postgresql.org)... 72.32.157.228, 2001:4800:3e1:1::228\n",
            "Connecting to jdbc.postgresql.org (jdbc.postgresql.org)|72.32.157.228|:443... connected.\n",
            "HTTP request sent, awaiting response... 200 OK\n",
            "Length: 1002883 (979K) [application/java-archive]\n",
            "Saving to: ‘postgresql-42.2.16.jar’\n",
            "\n",
            "postgresql-42.2.16. 100%[===================>] 979.38K  4.93MB/s    in 0.2s    \n",
            "\n",
            "2021-09-07 18:48:49 (4.93 MB/s) - ‘postgresql-42.2.16.jar’ saved [1002883/1002883]\n",
            "\n"
          ]
        }
      ]
    },
    {
      "cell_type": "code",
      "metadata": {
        "id": "VrvolWKMNFbe"
      },
      "source": [
        "# Start Spark session\n",
        "from pyspark.sql import SparkSession\n",
        "from pyspark.sql.functions import col\n",
        "spark = SparkSession.builder.appName(\"FinalProject\").getOrCreate()"
      ],
      "execution_count": 3,
      "outputs": []
    },
    {
      "cell_type": "code",
      "metadata": {
        "colab": {
          "base_uri": "https://localhost:8080/"
        },
        "id": "W2uxnkAjNFeD",
        "outputId": "d9514008-5887-4e76-eda5-6447ea47dae9"
      },
      "source": [
        "# Read in data from S3 Buckets\n",
        "from pyspark import SparkFiles\n",
        "url = \"https://databootcamp-final-05.s3.amazonaws.com/Resources/Individual+Contributions+2013+(UF).csv\"\n",
        "spark.sparkContext.addFile(url)\n",
        "df = spark.read.csv(SparkFiles.get(\"Individual+Contributions+2013+(UF).csv\"), sep=\",\", header=True)\n",
        "df.show()"
      ],
      "execution_count": 4,
      "outputs": [
        {
          "output_type": "stream",
          "name": "stdout",
          "text": [
            "+--------+--------+-------+--------+------------------+---------+------+--------+------+----------+--------+---------+----------+-------------------+------+-----+-------+---------+---------+-----------------+-----+-----+--------------+--------------------+--------+------------------+---------------+--------+----+---------+--------+----------+--------+----------+--------+--------+--------+-------+-----+------+----------+----------+----------+----------+--------+---------+---------+--------+---------+------+-------+----------+\n",
            "|ELECTION|OFFICECD|RECIPID|CANCLASS|         RECIPNAME|COMMITTEE|FILING|SCHEDULE|PAGENO|SEQUENCENO|   REFNO|     DATE|REFUNDDATE|               NAME|C_CODE|STRNO|STRNAME|APARTMENT|BOROUGHCD|             CITY|STATE|  ZIP|    OCCUPATION|             EMPNAME|EMPSTRNO|        EMPSTRNAME|        EMPCITY|EMPSTATE|AMNT|MATCHAMNT|PREVAMNT|PAY_METHOD|INTERMNO|INTERMNAME|INTSTRNO|INTSTRNM|INTAPTNO|INTCITY|INTST|INTZIP|INTEMPNAME|INTEMPSTNO|INTEMPSTNM|INTEMPCITY|INTEMPST|INTOCCUPA|PURPOSECD|EXEMPTCD|ADJTYPECD|RR_IND|SEG_IND|INT_C_CODE|\n",
            "+--------+--------+-------+--------+------------------+---------+------+--------+------+----------+--------+---------+----------+-------------------+------+-----+-------+---------+---------+-----------------+-----+-----+--------------+--------------------+--------+------------------+---------------+--------+----+---------+--------+----------+--------+----------+--------+--------+--------+-------+-----+------+----------+----------+----------+----------+--------+---------+---------+--------+---------+------+-------+----------+\n",
            "|    2013|       5|   1008|       P|Peterson, Daniel P|        I|     5|     ABC|  null|      null|R0000018|3/11/2012|      null|   Haywood, David B|   IND| null|   null|     null|        X|            Bronx|   NY|10458|     President|          SnarkMedia|     151|      First Avenue|       New York|      NY|  20|       20|       0|         4|    null|      null|    null|    null|    null|   null| null|  null|      null|      null|      null|      null|    null|     null|     null|    null|     null|     N|      N|      null|\n",
            "|    2013|       5|   1008|       P|Peterson, Daniel P|        I|     5|     ABC|  null|      null|R0000021| 3/6/2012|      null|      Herlihy, Neil|   IND| null|   null|     null|        Z|       Hunnington|   NY|11746|       Retired|                null|    null|              null|           null|    null|  25|        0|       0|         2|    null|      null|    null|    null|    null|   null| null|  null|      null|      null|      null|      null|    null|     null|     null|    null|     null|     N|      N|      null|\n",
            "|    2013|       5|   1008|       P|Peterson, Daniel P|        I|     5|     ABC|  null|      null|R0000023| 3/5/2012|      null|       Iocca, Karen|   IND| null|   null|     null|        Z|           Hobken|   NJ| 7030|    Unemployed|                null|    null|              null|           null|    null|  25|        0|       0|         2|    null|      null|    null|    null|    null|   null| null|  null|      null|      null|      null|      null|    null|     null|     null|    null|     null|     N|      N|      null|\n",
            "|    2013|       5|   1008|       P|Peterson, Daniel P|        I|     5|     ABC|  null|      null|R0000025| 3/6/2012|      null|   Lewenberg, Ilana|   IND| null|   null|     null|        M|         New York|   NY|10065|Vice President|      Lewenberg, LLC|     184|  East 70th Street|       New York|      NY|  25|       25|       0|         2|    null|      null|    null|    null|    null|   null| null|  null|      null|      null|      null|      null|    null|     null|     null|    null|     null|     N|      N|      null|\n",
            "|    2013|       5|   1008|       P|Peterson, Daniel P|        I|     5|     ABC|  null|      null|R0000027| 3/5/2012|      null|     Tolani, Sanjay|   IND| null|   null|     null|        M|         New York|   NY|10023|Head of NA Ops|      3i Infotech WE|      55|      Broad Street|       New York|      NY| 200|      175|       0|         2|    null|      null|    null|    null|    null|   null| null|  null|      null|      null|      null|      null|    null|     null|     null|    null|     null|     N|      N|      null|\n",
            "|    2013|       5|   1008|       P|Peterson, Daniel P|        I|     5|     ABC|  null|      null|R0000031| 6/7/2012|      null|    Viguola, Louise|   IND| null|   null|     null|        Q|         Woodside|   NY|11377|       Manager|               Segal|     333|  West 34th Street|       New York|      NY|  60|       60|       0|         1|    null|      null|    null|    null|    null|   null| null|  null|      null|      null|      null|      null|    null|     null|     null|    null|     null|     N|      N|      null|\n",
            "|    2013|       5|   1008|       P|Peterson, Daniel P|        I|     5|     ABC|  null|      null|R0000033| 6/7/2012|      null|       Stone, Jared|   IND| null|   null|     null|        M|         New York|   NY|10028|       Student|                null|    null|              null|           null|    null|  40|       40|       0|         1|    null|      null|    null|    null|    null|   null| null|  null|      null|      null|      null|      null|    null|     null|     null|    null|     null|     N|      N|      null|\n",
            "|    2013|       5|   1008|       P|Peterson, Daniel P|        I|     5|     ABC|  null|      null|R0000036| 6/7/2012|      null|   Kronenberg, Mark|   IND| null|   null|     null|        Q|  Oakland Gardens|   NY|11364|      Director|     Math 1-2-3 Inc.|   48-30|      201st Street|Oakland Gardens|      NY|  25|       25|       0|         1|    null|      null|    null|    null|    null|   null| null|  null|      null|      null|      null|      null|    null|     null|     null|    null|     null|     N|      N|      null|\n",
            "|    2013|       5|   1008|       P|Peterson, Daniel P|        I|     5|     ABC|  null|      null|R0000038| 6/7/2012|      null|       Heslin, Owen|   IND| null|   null|     null|        X|            Bronx|   NY|10451|        Lawyer|       Self-Employed|    null|              null|          Bronx|      NY|  25|       25|      20|         1|    null|      null|    null|    null|    null|   null| null|  null|      null|      null|      null|      null|    null|     null|     null|    null|     null|     N|      N|      null|\n",
            "|    2013|       5|   1008|       P|Peterson, Daniel P|        I|     5|     ABC|  null|      null|R0000040| 6/7/2012|      null|      Perry, Gerard|   IND| null|   null|     null|        S|    Staten Island|   NY|10304|    Unemployed|                null|    null|              null|           null|    null|  25|       25|       0|         1|    null|      null|    null|    null|    null|   null| null|  null|      null|      null|      null|      null|    null|     null|     null|    null|     null|     N|      N|      null|\n",
            "|    2013|       5|   1008|       P|Peterson, Daniel P|        I|     5|     ABC|  null|      null|R0000042| 6/7/2012|      null|     Chandra, Ashok|   IND| null|   null|     null|        Q| Long Island City|   NY|11109|      Attorney|       Bloomberg LLP|     731|  Lexington Avenue|       New York|      NY|  25|       25|      60|         1|    null|      null|    null|    null|    null|   null| null|  null|      null|      null|      null|      null|    null|     null|     null|    null|     null|     N|      N|      null|\n",
            "|    2013|       5|   1008|       P|Peterson, Daniel P|        I|     5|     ABC|  null|      null|R0000046| 6/7/2012|      null|          Ashe, Dan|   IND| null|   null|     null|        Q| Long Island City|   NY|11109|        Lawyer|Patterson Belknap...|    1153|Avenue of Americas|       New York|      NY| 100|      100|       0|         2|    null|      null|    null|    null|    null|   null| null|  null|      null|      null|      null|      null|    null|     null|     null|    null|     null|     N|      N|      null|\n",
            "|    2013|       5|   1008|       P|Peterson, Daniel P|        I|     5|     ABC|  null|      null|R0000048|6/17/2012|      null|      Yurcan, Bryan|   IND| null|   null|     null|        Z|Hasbrouck Heights|   NJ| 7604|          null|                 VBM|     240|  West 35th Street|       New York|      NY|  20|        0|       0|         2|    null|      null|    null|    null|    null|   null| null|  null|      null|      null|      null|      null|    null|     null|     null|    null|     null|     N|      N|      null|\n",
            "|    2013|       5|   1008|       P|Peterson, Daniel P|        I|     5|     ABC|  null|      null|R0000050| 6/7/2012|      null|  Bigelow, Margaret|   IND| null|   null|     null|        Q|          Astoria|   NY|11103|  Adminstrator|New Leaf Venture ...|       7|      Times Square|       New York|      NY|  25|       25|       0|         2|    null|      null|    null|    null|    null|   null| null|  null|      null|      null|      null|      null|    null|     null|     null|    null|     null|     N|      N|      null|\n",
            "|    2013|       5|   1008|       P|Peterson, Daniel P|        I|     5|     ABC|  null|      null|R0000052| 6/7/2012|      null|       Lewis, Harry|   IND| null|   null|     null|        X|     Pelham Manor|   NY|10803|        Lawyer|       Self Employed|    null|              null|       New York|      NY| 100|      100|       0|         2|    null|      null|    null|    null|    null|   null| null|  null|      null|      null|      null|      null|    null|     null|     null|    null|     null|     N|      N|      null|\n",
            "|    2013|       5|   1008|       P|Peterson, Daniel P|        I|     5|     ABC|  null|      null|R0000053|3/13/2012|      null|       Heslin, Owen|   IND| null|   null|     null|        X|            Bronx|   NY|10451|        Lawyer|       Self-Employed|    null|              null|          Bronx|      NY|  20|       20|       0|         4|    null|      null|    null|    null|    null|   null| null|  null|      null|      null|      null|      null|    null|     null|     null|    null|     null|     N|      N|      null|\n",
            "|    2013|       5|   1008|       P|Peterson, Daniel P|        I|     5|     ABC|  null|      null|R0000055|3/15/2012|      null|      Rincker, Cari|   IND| null|   null|     null|        M|         New York|   NY|10024|        Lawyer|   Rincker Law, PLLC|     535|      Fifth Avenue|       New York|      NY|  30|       30|       0|         4|    null|      null|    null|    null|    null|   null| null|  null|      null|      null|      null|      null|    null|     null|     null|    null|     null|     N|      N|      null|\n",
            "|    2013|       5|   1008|       P|Peterson, Daniel P|        I|     5|     ABC|  null|      null|R0000057|3/19/2012|      null|  LaVerghetta, Dino|   IND| null|   null|     null|        M|         New York|   NY|10065|        Lawyer|Debevoise & Plimp...|     919|      Third Avenue|       New York|      NY|  50|       50|       0|         4|    null|      null|    null|    null|    null|   null| null|  null|      null|      null|      null|      null|    null|     null|     null|    null|     null|     N|      N|      null|\n",
            "|    2013|       5|   1008|       P|Peterson, Daniel P|        I|     5|     ABC|  null|      null|R0000059|4/11/2012|      null|     Chandra, Ashok|   IND| null|   null|     null|        Q| Long Island City|   NY|11109|      Attorney|       Bloomberg LLP|     731|  Lexington Avenue|       New York|      NY|  60|       60|       0|         4|    null|      null|    null|    null|    null|   null| null|  null|      null|      null|      null|      null|    null|     null|     null|    null|     null|     N|      N|      null|\n",
            "|    2013|       5|   1008|       P|Peterson, Daniel P|        I|     5|     ABC|  null|      null|R0000061|3/20/2012|      null|Greenberg, Samuel J|   IND| null|   null|     null|        Q|      Little Neck|   NY|11363|       Retired|  United States Navy|    null|              null|    Little Neck|      NY|  25|       25|       0|         4|    null|      null|    null|    null|    null|   null| null|  null|      null|      null|      null|      null|    null|     null|     null|    null|     null|     N|      N|      null|\n",
            "+--------+--------+-------+--------+------------------+---------+------+--------+------+----------+--------+---------+----------+-------------------+------+-----+-------+---------+---------+-----------------+-----+-----+--------------+--------------------+--------+------------------+---------------+--------+----+---------+--------+----------+--------+----------+--------+--------+--------+-------+-----+------+----------+----------+----------+----------+--------+---------+---------+--------+---------+------+-------+----------+\n",
            "only showing top 20 rows\n",
            "\n"
          ]
        }
      ]
    },
    {
      "cell_type": "code",
      "metadata": {
        "colab": {
          "base_uri": "https://localhost:8080/"
        },
        "id": "e2cRNc4wNFgt",
        "outputId": "b228946f-9d59-4271-9f67-4d508d234f7c"
      },
      "source": [
        "# Remove multiple columns\n",
        "list = ['COMMITTEE', 'FILING', 'SCHEDULE', 'PAGENO', 'SEQUENCENO','REFNO', 'STRNO', 'STRNAME', 'APARTMENT', 'OCCUPATION', 'EMPNAME', 'EMPSTRNO', 'EMPSTRNAME',\n",
        "                'EMPCITY','REFUNDDATE','INTERMNO', 'INTERMNAME', 'INTSTRNO', 'INTSTRNM', 'INTSTRNM', 'INTAPTNO',\n",
        "                'INTCITY', 'INTST','INTZIP', 'INTEMPNAME', 'INTEMPSTNO', 'INTEMPSTNM', 'INTEMPCITY', 'INTEMPST', 'INTOCCUPA' ,'PURPOSECD', 'EXEMPTCD','ADJTYPECD', 'RR_IND', 'SEG_IND','INT_C_CODE'] \n",
        "df = df.drop(*list)\n",
        "df.show()"
      ],
      "execution_count": 5,
      "outputs": [
        {
          "output_type": "stream",
          "name": "stdout",
          "text": [
            "+--------+--------+-------+--------+------------------+---------+-------------------+------+---------+-----------------+-----+-----+--------+----+---------+--------+----------+\n",
            "|ELECTION|OFFICECD|RECIPID|CANCLASS|         RECIPNAME|     DATE|               NAME|C_CODE|BOROUGHCD|             CITY|STATE|  ZIP|EMPSTATE|AMNT|MATCHAMNT|PREVAMNT|PAY_METHOD|\n",
            "+--------+--------+-------+--------+------------------+---------+-------------------+------+---------+-----------------+-----+-----+--------+----+---------+--------+----------+\n",
            "|    2013|       5|   1008|       P|Peterson, Daniel P|3/11/2012|   Haywood, David B|   IND|        X|            Bronx|   NY|10458|      NY|  20|       20|       0|         4|\n",
            "|    2013|       5|   1008|       P|Peterson, Daniel P| 3/6/2012|      Herlihy, Neil|   IND|        Z|       Hunnington|   NY|11746|    null|  25|        0|       0|         2|\n",
            "|    2013|       5|   1008|       P|Peterson, Daniel P| 3/5/2012|       Iocca, Karen|   IND|        Z|           Hobken|   NJ| 7030|    null|  25|        0|       0|         2|\n",
            "|    2013|       5|   1008|       P|Peterson, Daniel P| 3/6/2012|   Lewenberg, Ilana|   IND|        M|         New York|   NY|10065|      NY|  25|       25|       0|         2|\n",
            "|    2013|       5|   1008|       P|Peterson, Daniel P| 3/5/2012|     Tolani, Sanjay|   IND|        M|         New York|   NY|10023|      NY| 200|      175|       0|         2|\n",
            "|    2013|       5|   1008|       P|Peterson, Daniel P| 6/7/2012|    Viguola, Louise|   IND|        Q|         Woodside|   NY|11377|      NY|  60|       60|       0|         1|\n",
            "|    2013|       5|   1008|       P|Peterson, Daniel P| 6/7/2012|       Stone, Jared|   IND|        M|         New York|   NY|10028|    null|  40|       40|       0|         1|\n",
            "|    2013|       5|   1008|       P|Peterson, Daniel P| 6/7/2012|   Kronenberg, Mark|   IND|        Q|  Oakland Gardens|   NY|11364|      NY|  25|       25|       0|         1|\n",
            "|    2013|       5|   1008|       P|Peterson, Daniel P| 6/7/2012|       Heslin, Owen|   IND|        X|            Bronx|   NY|10451|      NY|  25|       25|      20|         1|\n",
            "|    2013|       5|   1008|       P|Peterson, Daniel P| 6/7/2012|      Perry, Gerard|   IND|        S|    Staten Island|   NY|10304|    null|  25|       25|       0|         1|\n",
            "|    2013|       5|   1008|       P|Peterson, Daniel P| 6/7/2012|     Chandra, Ashok|   IND|        Q| Long Island City|   NY|11109|      NY|  25|       25|      60|         1|\n",
            "|    2013|       5|   1008|       P|Peterson, Daniel P| 6/7/2012|          Ashe, Dan|   IND|        Q| Long Island City|   NY|11109|      NY| 100|      100|       0|         2|\n",
            "|    2013|       5|   1008|       P|Peterson, Daniel P|6/17/2012|      Yurcan, Bryan|   IND|        Z|Hasbrouck Heights|   NJ| 7604|      NY|  20|        0|       0|         2|\n",
            "|    2013|       5|   1008|       P|Peterson, Daniel P| 6/7/2012|  Bigelow, Margaret|   IND|        Q|          Astoria|   NY|11103|      NY|  25|       25|       0|         2|\n",
            "|    2013|       5|   1008|       P|Peterson, Daniel P| 6/7/2012|       Lewis, Harry|   IND|        X|     Pelham Manor|   NY|10803|      NY| 100|      100|       0|         2|\n",
            "|    2013|       5|   1008|       P|Peterson, Daniel P|3/13/2012|       Heslin, Owen|   IND|        X|            Bronx|   NY|10451|      NY|  20|       20|       0|         4|\n",
            "|    2013|       5|   1008|       P|Peterson, Daniel P|3/15/2012|      Rincker, Cari|   IND|        M|         New York|   NY|10024|      NY|  30|       30|       0|         4|\n",
            "|    2013|       5|   1008|       P|Peterson, Daniel P|3/19/2012|  LaVerghetta, Dino|   IND|        M|         New York|   NY|10065|      NY|  50|       50|       0|         4|\n",
            "|    2013|       5|   1008|       P|Peterson, Daniel P|4/11/2012|     Chandra, Ashok|   IND|        Q| Long Island City|   NY|11109|      NY|  60|       60|       0|         4|\n",
            "|    2013|       5|   1008|       P|Peterson, Daniel P|3/20/2012|Greenberg, Samuel J|   IND|        Q|      Little Neck|   NY|11363|      NY|  25|       25|       0|         4|\n",
            "+--------+--------+-------+--------+------------------+---------+-------------------+------+---------+-----------------+-----+-----+--------+----+---------+--------+----------+\n",
            "only showing top 20 rows\n",
            "\n"
          ]
        }
      ]
    },
    {
      "cell_type": "code",
      "metadata": {
        "colab": {
          "base_uri": "https://localhost:8080/"
        },
        "id": "g5aiRN5RNFjB",
        "outputId": "d7fab6fa-0585-42fc-ca8e-399389d055cb"
      },
      "source": [
        "# check data types\n",
        "df.dtypes"
      ],
      "execution_count": 6,
      "outputs": [
        {
          "output_type": "execute_result",
          "data": {
            "text/plain": [
              "[('ELECTION', 'string'),\n",
              " ('OFFICECD', 'string'),\n",
              " ('RECIPID', 'string'),\n",
              " ('CANCLASS', 'string'),\n",
              " ('RECIPNAME', 'string'),\n",
              " ('DATE', 'string'),\n",
              " ('NAME', 'string'),\n",
              " ('C_CODE', 'string'),\n",
              " ('BOROUGHCD', 'string'),\n",
              " ('CITY', 'string'),\n",
              " ('STATE', 'string'),\n",
              " ('ZIP', 'string'),\n",
              " ('EMPSTATE', 'string'),\n",
              " ('AMNT', 'string'),\n",
              " ('MATCHAMNT', 'string'),\n",
              " ('PREVAMNT', 'string'),\n",
              " ('PAY_METHOD', 'string')]"
            ]
          },
          "metadata": {},
          "execution_count": 6
        }
      ]
    },
    {
      "cell_type": "code",
      "metadata": {
        "colab": {
          "base_uri": "https://localhost:8080/"
        },
        "id": "tIkq3wdqOzWV",
        "outputId": "ae7a78c6-f18d-48af-ee61-b7fc2341c730"
      },
      "source": [
        "#Change column names\n",
        "df1 = df \\\n",
        ".withColumnRenamed(\"ELECTION\", \"Election\") \\\n",
        ".withColumnRenamed(\"RECIPID\", \"CandidateID\") \\\n",
        ".withColumnRenamed(\"RECIPNAME\", \"CandidateName\") \\\n",
        ".withColumnRenamed(\"DATE\", \"Date\") \\\n",
        ".withColumnRenamed(\"NAME\", \"Name\") \\\n",
        ".withColumnRenamed(\"C_CODE\", \"ContributerType\") \\\n",
        ".withColumnRenamed(\"BOROUGHCD\", \"BoroughName\") \\\n",
        ".withColumnRenamed(\"CITY\", \"City\") \\\n",
        ".withColumnRenamed(\"STATE\", \"State\") \\\n",
        ".withColumnRenamed(\"ZIP\", \"ZipCode\") \\\n",
        ".withColumnRenamed(\"EMPSTATE\", \"ContributionState\") \\\n",
        ".withColumnRenamed(\"AMNT\", \"Amount\") \\\n",
        ".withColumnRenamed(\"MATCHAMNT\", \"MatchAmt\") \\\n",
        ".withColumnRenamed(\"PREVAMNT\", \"PrevAmt\") \\\n",
        ".withColumnRenamed(\"PAY_METHOD\", \"PayMethod\") \n",
        "\n",
        "df1.printSchema()"
      ],
      "execution_count": 7,
      "outputs": [
        {
          "output_type": "stream",
          "name": "stdout",
          "text": [
            "root\n",
            " |-- Election: string (nullable = true)\n",
            " |-- OFFICECD: string (nullable = true)\n",
            " |-- CandidateID: string (nullable = true)\n",
            " |-- CANCLASS: string (nullable = true)\n",
            " |-- CandidateName: string (nullable = true)\n",
            " |-- Date: string (nullable = true)\n",
            " |-- Name: string (nullable = true)\n",
            " |-- ContributerType: string (nullable = true)\n",
            " |-- BoroughName: string (nullable = true)\n",
            " |-- City: string (nullable = true)\n",
            " |-- State: string (nullable = true)\n",
            " |-- ZipCode: string (nullable = true)\n",
            " |-- ContributionState: string (nullable = true)\n",
            " |-- Amount: string (nullable = true)\n",
            " |-- MatchAmt: string (nullable = true)\n",
            " |-- PrevAmt: string (nullable = true)\n",
            " |-- PayMethod: string (nullable = true)\n",
            "\n"
          ]
        }
      ]
    },
    {
      "cell_type": "code",
      "metadata": {
        "colab": {
          "base_uri": "https://localhost:8080/"
        },
        "id": "SyWn9dANSi5l",
        "outputId": "f1a80993-2508-401e-aecb-88a3e3465158"
      },
      "source": [
        "# changing datatypes of columns\n",
        "df2 = df1 \\\n",
        "  .withColumn(\"Election\",df1[\"Election\"].cast(\"Integer\")) \\\n",
        "  .withColumn(\"OFFICECD\", df1[\"OFFICECD\"].cast(\"Integer\")) \\\n",
        "  .withColumn(\"CandidateID\", df1[\"CandidateID\"].cast(\"Integer\")) \\\n",
        "  .withColumn(\"ZipCode\", df1[\"ZipCode\"].cast(\"Integer\")) \\\n",
        "  .withColumn(\"Amount\", df1[\"Amount\"].cast(\"Float\")) \\\n",
        "  .withColumn(\"MatchAmt\", df1[\"MatchAmt\"].cast(\"Float\")) \\\n",
        "  .withColumn(\"PrevAmt\", df1[\"PrevAmt\"].cast(\"Float\")) \\\n",
        "  .withColumn(\"Date\", df1[\"Date\"].cast(\"Date\")) \\\n",
        "  \n",
        "df2.printSchema()"
      ],
      "execution_count": 8,
      "outputs": [
        {
          "output_type": "stream",
          "name": "stdout",
          "text": [
            "root\n",
            " |-- Election: integer (nullable = true)\n",
            " |-- OFFICECD: integer (nullable = true)\n",
            " |-- CandidateID: integer (nullable = true)\n",
            " |-- CANCLASS: string (nullable = true)\n",
            " |-- CandidateName: string (nullable = true)\n",
            " |-- Date: date (nullable = true)\n",
            " |-- Name: string (nullable = true)\n",
            " |-- ContributerType: string (nullable = true)\n",
            " |-- BoroughName: string (nullable = true)\n",
            " |-- City: string (nullable = true)\n",
            " |-- State: string (nullable = true)\n",
            " |-- ZipCode: integer (nullable = true)\n",
            " |-- ContributionState: string (nullable = true)\n",
            " |-- Amount: float (nullable = true)\n",
            " |-- MatchAmt: float (nullable = true)\n",
            " |-- PrevAmt: float (nullable = true)\n",
            " |-- PayMethod: string (nullable = true)\n",
            "\n"
          ]
        }
      ]
    },
    {
      "cell_type": "code",
      "metadata": {
        "id": "h1aCPuV3WPwC"
      },
      "source": [
        "#Change vaule name in ContributerType\n",
        "from pyspark.sql.functions import regexp_replace\n",
        "df3 = df2.withColumn('ContributerType', regexp_replace('ContributerType', 'CAN', 'Candidate')) \\\n",
        "  .withColumn('ContributerType', regexp_replace('ContributerType', 'CORP', 'Corporation')) \\\n",
        "  .withColumn('ContributerType', regexp_replace('ContributerType', 'EMPO', 'Labor Union')) \\\n",
        "  .withColumn('ContributerType', regexp_replace('ContributerType', 'FAM', 'Candidate Family')) \\\n",
        "  .withColumn('ContributerType', regexp_replace('ContributerType', 'IND', 'Individual')) \\\n",
        "  .withColumn('ContributerType', regexp_replace('ContributerType', 'PCOMZ', 'Party Committee')) \\\n",
        "  .withColumn('ContributerType', regexp_replace('ContributerType', 'ORG', 'Orgainization')) \\\n",
        "  .withColumn('ContributerType', regexp_replace('ContributerType', 'LLC', 'Limited Liability Company')) \\\n",
        "  .withColumn('ContributerType', regexp_replace('ContributerType', 'PCOMP', 'Political Action Committee')) \\\n",
        "  .withColumn('ContributerType', regexp_replace('ContributerType', 'SPO', 'Spouse')) \\\n",
        "  .withColumn('ContributerType', regexp_replace('ContributerType', 'OTHR', 'Other')) \\\n",
        "  .withColumn('ContributerType', regexp_replace('ContributerType', 'PCOMC', 'Candidate Committee')) \\\n",
        "  .withColumn('ContributerType', regexp_replace('ContributerType', 'PART', 'Individual')) \\\n"
      ],
      "execution_count": 9,
      "outputs": []
    },
    {
      "cell_type": "code",
      "metadata": {
        "id": "EDLKVpihXzJY"
      },
      "source": [
        "#Change Payment Method Name\n",
        "df4=df3.withColumn('PayMethod', regexp_replace('PayMethod','0','Unknown')) \\\n",
        "  .withColumn('PayMethod', regexp_replace('PayMethod','1','Cash')) \\\n",
        "  .withColumn('PayMethod', regexp_replace('PayMethod','2','Check')) \\\n",
        "  .withColumn('PayMethod', regexp_replace('PayMethod','3','Other')) \\\n",
        "  .withColumn('PayMethod', regexp_replace('PayMethod','4','Credit Card')) \\\n",
        "  .withColumn('PayMethod', regexp_replace('PayMethod','5','Money Order')) \\"
      ],
      "execution_count": 10,
      "outputs": []
    },
    {
      "cell_type": "code",
      "metadata": {
        "id": "fy4JAvyQWRl7"
      },
      "source": [
        "#Change Borough name\n",
        "from pyspark.sql.functions import regexp_replace\n",
        "df5 = df4.withColumn('BoroughName', regexp_replace('BoroughName', 'K', 'Brooklyn')) \\\n",
        "  .withColumn('BoroughName', regexp_replace('BoroughName', 'M', 'Manhattan')) \\\n",
        "  .withColumn('BoroughName', regexp_replace('BoroughName', 'Q', 'Queens')) \\\n",
        "  .withColumn('BoroughName', regexp_replace('BoroughName', 'S', 'Staten Island')) \\\n",
        "  .withColumn('BoroughName', regexp_replace('BoroughName', 'X', 'Bronx')) \\\n",
        "  .withColumn('BoroughName', regexp_replace('BoroughName', 'Z', 'Other')) \\\n"
      ],
      "execution_count": 11,
      "outputs": []
    },
    {
      "cell_type": "code",
      "metadata": {
        "colab": {
          "base_uri": "https://localhost:8080/"
        },
        "id": "fM_kC3ViNFqN",
        "outputId": "57c42683-3766-4be6-8c53-da443219f8f3"
      },
      "source": [
        "#Call only Mayor (1) and particaptes (P) within Dataframe\n",
        "df6 = df5.filter((df5.OFFICECD==\"1\") & (df5.CANCLASS==\"P\"))\n",
        "df6.show()"
      ],
      "execution_count": 12,
      "outputs": [
        {
          "output_type": "stream",
          "name": "stdout",
          "text": [
            "+--------+--------+-----------+--------+--------------------+----+-------------------+---------------+-------------+--------------+-----+-------+-----------------+------+--------+-------+-----------+\n",
            "|Election|OFFICECD|CandidateID|CANCLASS|       CandidateName|Date|               Name|ContributerType|  BoroughName|          City|State|ZipCode|ContributionState|Amount|MatchAmt|PrevAmt|  PayMethod|\n",
            "+--------+--------+-----------+--------+--------------------+----+-------------------+---------------+-------------+--------------+-----+-------+-----------------+------+--------+-------+-----------+\n",
            "|    2013|       1|       1286|       P|Coenen, Jr., Kevin P|null|    Coenen, Kevin P|      Candidate|        Other|     Nesconset|   NY|  11767|               NY|  10.0|     0.0|    0.0|Credit Card|\n",
            "|    2013|       1|       1286|       P|Coenen, Jr., Kevin P|null|     Walter, Dorsey|     Individual|    Manhattan|      New York|   NY|  10150|             null| 175.0|   175.0|    0.0|Credit Card|\n",
            "|    2013|       1|       1286|       P|Coenen, Jr., Kevin P|null|    Coenen, Kevin P|      Candidate|        Other|     Nesconset|   NY|  11767|             null| -10.0|     0.0|    0.0|    Unknown|\n",
            "|    2013|       1|       1551|       P|     Marks, Philip A|null|      Marks, Philip|      Candidate|     Brooklyn|      Brooklyn|   NY|  11236|               NY| 400.0|   175.0|    0.0|      Check|\n",
            "|    2013|       1|       1551|       P|     Marks, Philip A|null|      Marks, Philip|      Candidate|     Brooklyn|      Brooklyn|   NY|  11236|               NY| 100.0|     0.0|  400.0|       Cash|\n",
            "|    2013|       1|       1639|       P|Berkowitz, Ceceil...|null|         Roc, Stacy|     Individual|        Other|     Uniondale|   NY|  11553|             null|  10.0|     0.0|    0.0|       Cash|\n",
            "|    2013|       1|       1639|       P|Berkowitz, Ceceil...|null|         He, Yufeng|     Individual|     Brooklyn|      Brooklyn|   NY|  11220|             null|  10.0|    10.0|    0.0|       Cash|\n",
            "|    2013|       1|       1639|       P|Berkowitz, Ceceil...|null|    Yaqoobi, Naseir|     Individual|        Other| Lake Hiawatha|   NJ|   7034|               NJ|  10.0|     0.0|    0.0|       Cash|\n",
            "|    2013|       1|       1639|       P|Berkowitz, Ceceil...|null|        Fung, Kevin|     Individual|        Bronx|         Bronx|   NY|  10461|             null|  10.0|    10.0|    0.0|       Cash|\n",
            "|    2013|       1|       1639|       P|Berkowitz, Ceceil...|null|Monroe, Christopher|     Individual|        Other|   Mt. Lebanon|   PA|  15228|               NJ|  10.0|     0.0|   10.0|Credit Card|\n",
            "|    2013|       1|       1639|       P|Berkowitz, Ceceil...|null|     Beegan, Daniel|     Individual|        Other|   Beech Grove|   IN|  46107|               IN|  10.0|     0.0|    0.0|Credit Card|\n",
            "|    2013|       1|       1639|       P|Berkowitz, Ceceil...|null|         Will, Eric|     Individual|        Other|     Knoxville|   TN|  37920|             null|  10.0|     0.0|    0.0|Credit Card|\n",
            "|    2013|       1|       1639|       P|Berkowitz, Ceceil...|null|         Will, Eric|     Individual|        Other|     Knoxville|   TN|  37920|             null|  10.0|     0.0|    0.0|Credit Card|\n",
            "|    2013|       1|       1639|       P|Berkowitz, Ceceil...|null|Monroe, Christopher|     Individual|        Other|   Mt. Lebanon|   PA|  15228|               NJ|  10.0|     0.0|    0.0|Credit Card|\n",
            "|    2013|       1|       1639|       P|Berkowitz, Ceceil...|null|      Judd, Timothy|     Individual|        Other|       Houston|   TX|  77018|             null|  10.0|     0.0|    0.0|Credit Card|\n",
            "|    2013|       1|       1639|       P|Berkowitz, Ceceil...|null|    Laohoo, William|     Individual|        Other|East Brunswick|   NJ|   8816|             null|  20.0|     0.0|    0.0|Credit Card|\n",
            "|    2013|       1|       1666|       P|    Salgado, Erick J|null|    Acevedo, Alexie|     Individual|        Other|     Brentwood|   NY|  11717|               NY| 100.0|     0.0|    0.0|       Cash|\n",
            "|    2013|       1|       1666|       P|    Salgado, Erick J|null|   Salgado, Erick J|      Candidate|Staten Island| Staten Island|   NY|  10302|               NJ|4000.0|   175.0|    0.0|      Check|\n",
            "|    2013|       1|       1666|       P|    Salgado, Erick J|null|     Vargas, Lucino|     Individual|     Brooklyn|      Brooklyn|   NY|  11220|               NJ| 500.0|   175.0|    0.0|      Check|\n",
            "|    2013|       1|       1666|       P|    Salgado, Erick J|null|    Torres, Marcial|     Individual|        Other|       Matawan|   NJ|   7747|               NJ| 500.0|     0.0|    0.0|      Check|\n",
            "+--------+--------+-----------+--------+--------------------+----+-------------------+---------------+-------------+--------------+-----+-------+-----------------+------+--------+-------+-----------+\n",
            "only showing top 20 rows\n",
            "\n"
          ]
        }
      ]
    },
    {
      "cell_type": "code",
      "metadata": {
        "colab": {
          "base_uri": "https://localhost:8080/"
        },
        "id": "WmdLbDEzQAyc",
        "outputId": "64a420aa-b9d6-4666-a12b-3fa25413ca28"
      },
      "source": [
        "#Check the above dataframe to make sure only unique values between the OFFICECD is 1 \n",
        "df6.select('OFFICECD').distinct().show()"
      ],
      "execution_count": 13,
      "outputs": [
        {
          "output_type": "stream",
          "name": "stdout",
          "text": [
            "+--------+\n",
            "|OFFICECD|\n",
            "+--------+\n",
            "|       1|\n",
            "+--------+\n",
            "\n"
          ]
        }
      ]
    },
    {
      "cell_type": "code",
      "metadata": {
        "colab": {
          "base_uri": "https://localhost:8080/"
        },
        "id": "4kbDs5ApZtEu",
        "outputId": "7b85c548-1474-4c59-9d31-1713d06d8d0c"
      },
      "source": [
        "#Drop OFFICECD and CANCLASS\n",
        "list2 = ['OFFICECD', 'CANCLASS'] \n",
        "df7 = df6.drop(*list2)\n",
        "df7.show()"
      ],
      "execution_count": 14,
      "outputs": [
        {
          "output_type": "stream",
          "name": "stdout",
          "text": [
            "+--------+-----------+--------------------+----+-------------------+---------------+-------------+--------------+-----+-------+-----------------+------+--------+-------+-----------+\n",
            "|Election|CandidateID|       CandidateName|Date|               Name|ContributerType|  BoroughName|          City|State|ZipCode|ContributionState|Amount|MatchAmt|PrevAmt|  PayMethod|\n",
            "+--------+-----------+--------------------+----+-------------------+---------------+-------------+--------------+-----+-------+-----------------+------+--------+-------+-----------+\n",
            "|    2013|       1286|Coenen, Jr., Kevin P|null|    Coenen, Kevin P|      Candidate|        Other|     Nesconset|   NY|  11767|               NY|  10.0|     0.0|    0.0|Credit Card|\n",
            "|    2013|       1286|Coenen, Jr., Kevin P|null|     Walter, Dorsey|     Individual|    Manhattan|      New York|   NY|  10150|             null| 175.0|   175.0|    0.0|Credit Card|\n",
            "|    2013|       1286|Coenen, Jr., Kevin P|null|    Coenen, Kevin P|      Candidate|        Other|     Nesconset|   NY|  11767|             null| -10.0|     0.0|    0.0|    Unknown|\n",
            "|    2013|       1551|     Marks, Philip A|null|      Marks, Philip|      Candidate|     Brooklyn|      Brooklyn|   NY|  11236|               NY| 400.0|   175.0|    0.0|      Check|\n",
            "|    2013|       1551|     Marks, Philip A|null|      Marks, Philip|      Candidate|     Brooklyn|      Brooklyn|   NY|  11236|               NY| 100.0|     0.0|  400.0|       Cash|\n",
            "|    2013|       1639|Berkowitz, Ceceil...|null|         Roc, Stacy|     Individual|        Other|     Uniondale|   NY|  11553|             null|  10.0|     0.0|    0.0|       Cash|\n",
            "|    2013|       1639|Berkowitz, Ceceil...|null|         He, Yufeng|     Individual|     Brooklyn|      Brooklyn|   NY|  11220|             null|  10.0|    10.0|    0.0|       Cash|\n",
            "|    2013|       1639|Berkowitz, Ceceil...|null|    Yaqoobi, Naseir|     Individual|        Other| Lake Hiawatha|   NJ|   7034|               NJ|  10.0|     0.0|    0.0|       Cash|\n",
            "|    2013|       1639|Berkowitz, Ceceil...|null|        Fung, Kevin|     Individual|        Bronx|         Bronx|   NY|  10461|             null|  10.0|    10.0|    0.0|       Cash|\n",
            "|    2013|       1639|Berkowitz, Ceceil...|null|Monroe, Christopher|     Individual|        Other|   Mt. Lebanon|   PA|  15228|               NJ|  10.0|     0.0|   10.0|Credit Card|\n",
            "|    2013|       1639|Berkowitz, Ceceil...|null|     Beegan, Daniel|     Individual|        Other|   Beech Grove|   IN|  46107|               IN|  10.0|     0.0|    0.0|Credit Card|\n",
            "|    2013|       1639|Berkowitz, Ceceil...|null|         Will, Eric|     Individual|        Other|     Knoxville|   TN|  37920|             null|  10.0|     0.0|    0.0|Credit Card|\n",
            "|    2013|       1639|Berkowitz, Ceceil...|null|         Will, Eric|     Individual|        Other|     Knoxville|   TN|  37920|             null|  10.0|     0.0|    0.0|Credit Card|\n",
            "|    2013|       1639|Berkowitz, Ceceil...|null|Monroe, Christopher|     Individual|        Other|   Mt. Lebanon|   PA|  15228|               NJ|  10.0|     0.0|    0.0|Credit Card|\n",
            "|    2013|       1639|Berkowitz, Ceceil...|null|      Judd, Timothy|     Individual|        Other|       Houston|   TX|  77018|             null|  10.0|     0.0|    0.0|Credit Card|\n",
            "|    2013|       1639|Berkowitz, Ceceil...|null|    Laohoo, William|     Individual|        Other|East Brunswick|   NJ|   8816|             null|  20.0|     0.0|    0.0|Credit Card|\n",
            "|    2013|       1666|    Salgado, Erick J|null|    Acevedo, Alexie|     Individual|        Other|     Brentwood|   NY|  11717|               NY| 100.0|     0.0|    0.0|       Cash|\n",
            "|    2013|       1666|    Salgado, Erick J|null|   Salgado, Erick J|      Candidate|Staten Island| Staten Island|   NY|  10302|               NJ|4000.0|   175.0|    0.0|      Check|\n",
            "|    2013|       1666|    Salgado, Erick J|null|     Vargas, Lucino|     Individual|     Brooklyn|      Brooklyn|   NY|  11220|               NJ| 500.0|   175.0|    0.0|      Check|\n",
            "|    2013|       1666|    Salgado, Erick J|null|    Torres, Marcial|     Individual|        Other|       Matawan|   NJ|   7747|               NJ| 500.0|     0.0|    0.0|      Check|\n",
            "+--------+-----------+--------------------+----+-------------------+---------------+-------------+--------------+-----+-------+-----------------+------+--------+-------+-----------+\n",
            "only showing top 20 rows\n",
            "\n"
          ]
        }
      ]
    },
    {
      "cell_type": "code",
      "metadata": {
        "colab": {
          "base_uri": "https://localhost:8080/"
        },
        "id": "jKdRMcW-9mtO",
        "outputId": "dfe9477c-af12-4430-bd47-38dbbaba0c53"
      },
      "source": [
        "# ADD AMNT and MATCHAMNT PrevAmnt\n",
        "from pyspark.sql.functions import col\n",
        "df8 = df7.withColumn(\"TotalAmount\", col(\"Amount\")+col(\"MatchAmt\")+col('PrevAmt'))\n",
        "df8.show()"
      ],
      "execution_count": 15,
      "outputs": [
        {
          "output_type": "stream",
          "name": "stdout",
          "text": [
            "+--------+-----------+--------------------+----+-------------------+---------------+-------------+--------------+-----+-------+-----------------+------+--------+-------+-----------+-----------+\n",
            "|Election|CandidateID|       CandidateName|Date|               Name|ContributerType|  BoroughName|          City|State|ZipCode|ContributionState|Amount|MatchAmt|PrevAmt|  PayMethod|TotalAmount|\n",
            "+--------+-----------+--------------------+----+-------------------+---------------+-------------+--------------+-----+-------+-----------------+------+--------+-------+-----------+-----------+\n",
            "|    2013|       1286|Coenen, Jr., Kevin P|null|    Coenen, Kevin P|      Candidate|        Other|     Nesconset|   NY|  11767|               NY|  10.0|     0.0|    0.0|Credit Card|       10.0|\n",
            "|    2013|       1286|Coenen, Jr., Kevin P|null|     Walter, Dorsey|     Individual|    Manhattan|      New York|   NY|  10150|             null| 175.0|   175.0|    0.0|Credit Card|      350.0|\n",
            "|    2013|       1286|Coenen, Jr., Kevin P|null|    Coenen, Kevin P|      Candidate|        Other|     Nesconset|   NY|  11767|             null| -10.0|     0.0|    0.0|    Unknown|      -10.0|\n",
            "|    2013|       1551|     Marks, Philip A|null|      Marks, Philip|      Candidate|     Brooklyn|      Brooklyn|   NY|  11236|               NY| 400.0|   175.0|    0.0|      Check|      575.0|\n",
            "|    2013|       1551|     Marks, Philip A|null|      Marks, Philip|      Candidate|     Brooklyn|      Brooklyn|   NY|  11236|               NY| 100.0|     0.0|  400.0|       Cash|      500.0|\n",
            "|    2013|       1639|Berkowitz, Ceceil...|null|         Roc, Stacy|     Individual|        Other|     Uniondale|   NY|  11553|             null|  10.0|     0.0|    0.0|       Cash|       10.0|\n",
            "|    2013|       1639|Berkowitz, Ceceil...|null|         He, Yufeng|     Individual|     Brooklyn|      Brooklyn|   NY|  11220|             null|  10.0|    10.0|    0.0|       Cash|       20.0|\n",
            "|    2013|       1639|Berkowitz, Ceceil...|null|    Yaqoobi, Naseir|     Individual|        Other| Lake Hiawatha|   NJ|   7034|               NJ|  10.0|     0.0|    0.0|       Cash|       10.0|\n",
            "|    2013|       1639|Berkowitz, Ceceil...|null|        Fung, Kevin|     Individual|        Bronx|         Bronx|   NY|  10461|             null|  10.0|    10.0|    0.0|       Cash|       20.0|\n",
            "|    2013|       1639|Berkowitz, Ceceil...|null|Monroe, Christopher|     Individual|        Other|   Mt. Lebanon|   PA|  15228|               NJ|  10.0|     0.0|   10.0|Credit Card|       20.0|\n",
            "|    2013|       1639|Berkowitz, Ceceil...|null|     Beegan, Daniel|     Individual|        Other|   Beech Grove|   IN|  46107|               IN|  10.0|     0.0|    0.0|Credit Card|       10.0|\n",
            "|    2013|       1639|Berkowitz, Ceceil...|null|         Will, Eric|     Individual|        Other|     Knoxville|   TN|  37920|             null|  10.0|     0.0|    0.0|Credit Card|       10.0|\n",
            "|    2013|       1639|Berkowitz, Ceceil...|null|         Will, Eric|     Individual|        Other|     Knoxville|   TN|  37920|             null|  10.0|     0.0|    0.0|Credit Card|       10.0|\n",
            "|    2013|       1639|Berkowitz, Ceceil...|null|Monroe, Christopher|     Individual|        Other|   Mt. Lebanon|   PA|  15228|               NJ|  10.0|     0.0|    0.0|Credit Card|       10.0|\n",
            "|    2013|       1639|Berkowitz, Ceceil...|null|      Judd, Timothy|     Individual|        Other|       Houston|   TX|  77018|             null|  10.0|     0.0|    0.0|Credit Card|       10.0|\n",
            "|    2013|       1639|Berkowitz, Ceceil...|null|    Laohoo, William|     Individual|        Other|East Brunswick|   NJ|   8816|             null|  20.0|     0.0|    0.0|Credit Card|       20.0|\n",
            "|    2013|       1666|    Salgado, Erick J|null|    Acevedo, Alexie|     Individual|        Other|     Brentwood|   NY|  11717|               NY| 100.0|     0.0|    0.0|       Cash|      100.0|\n",
            "|    2013|       1666|    Salgado, Erick J|null|   Salgado, Erick J|      Candidate|Staten Island| Staten Island|   NY|  10302|               NJ|4000.0|   175.0|    0.0|      Check|     4175.0|\n",
            "|    2013|       1666|    Salgado, Erick J|null|     Vargas, Lucino|     Individual|     Brooklyn|      Brooklyn|   NY|  11220|               NJ| 500.0|   175.0|    0.0|      Check|      675.0|\n",
            "|    2013|       1666|    Salgado, Erick J|null|    Torres, Marcial|     Individual|        Other|       Matawan|   NJ|   7747|               NJ| 500.0|     0.0|    0.0|      Check|      500.0|\n",
            "+--------+-----------+--------------------+----+-------------------+---------------+-------------+--------------+-----+-------+-----------------+------+--------+-------+-----------+-----------+\n",
            "only showing top 20 rows\n",
            "\n"
          ]
        }
      ]
    },
    {
      "cell_type": "markdown",
      "metadata": {
        "id": "1t7gDM4IKH8Y"
      },
      "source": [
        "## **2013 Committee Contributions**"
      ]
    },
    {
      "cell_type": "code",
      "metadata": {
        "id": "mCGEhe_bLOhK"
      },
      "source": [
        "#import os\n",
        "# Find the latest version of spark 3.0 from http://www.apache.org/dist/spark/ and enter as the spark version\n",
        "# For example:\n",
        "# spark_version = 'spark-3.0.3'\n",
        "#spark_version = 'spark-2.4.8'\n",
        "#os.environ['SPARK_VERSION']=spark_version\n",
        "\n",
        "# Install Spark and Java\n",
        "#!apt-get update\n",
        "#!apt-get install openjdk-11-jdk-headless -qq > /dev/null\n",
        "#!wget -q http://www.apache.org/dist/spark/$SPARK_VERSION/$SPARK_VERSION-bin-hadoop2.7.tgz\n",
        "#!tar xf $SPARK_VERSION-bin-hadoop2.7.tgz\n",
        "#!pip install -q findspark\n",
        "\n",
        "# Set Environment Variables\n",
        "#import os\n",
        "#os.environ[\"JAVA_HOME\"] = \"/usr/lib/jvm/java-11-openjdk-amd64\"\n",
        "#os.environ[\"SPARK_HOME\"] = f\"/content/{spark_version}-bin-hadoop2.7\"\n",
        "\n",
        "# Start a SparkSession\n",
        "#import findspark\n",
        "#findspark.init()"
      ],
      "execution_count": 16,
      "outputs": []
    },
    {
      "cell_type": "code",
      "metadata": {
        "id": "Wg1igvJ9LOhL"
      },
      "source": [
        "# Download the Postgres driver that will allow Spark to interact with Postgres.\n",
        "#!wget https://jdbc.postgresql.org/download/postgresql-42.2.16.jar"
      ],
      "execution_count": 17,
      "outputs": []
    },
    {
      "cell_type": "code",
      "metadata": {
        "id": "5fFtyDxuLOhL"
      },
      "source": [
        "# Start Spark session\n",
        "#0from pyspark.sql import SparkSession\n",
        "#from pyspark.sql.functions import col\n",
        "#spark = SparkSession.builder.appName(\"FinalProject\").getOrCreate()"
      ],
      "execution_count": 18,
      "outputs": []
    },
    {
      "cell_type": "code",
      "metadata": {
        "colab": {
          "base_uri": "https://localhost:8080/"
        },
        "id": "hraQT1VmLOhL",
        "outputId": "25a5608b-5fea-4535-b0eb-1d4e60d57b66"
      },
      "source": [
        "# Read in data from S3 Buckets\n",
        "from pyspark import SparkFiles\n",
        "url = \"https://databootcamp-final-05.s3.amazonaws.com/Resources/Committee+Contributions+2013+(UF).csv\"\n",
        "spark.sparkContext.addFile(url)\n",
        "df = spark.read.csv(SparkFiles.get(\"Committee+Contributions+2013+(UF).csv\"), sep=\",\", header=True)\n",
        "df.show()"
      ],
      "execution_count": 19,
      "outputs": [
        {
          "output_type": "stream",
          "name": "stdout",
          "text": [
            "+--------+--------+-------+--------+------------------+---------+------+--------+------+----------+--------+---------+----------+--------------------+------+-----+-------+---------+---------+------------+-----+-----+----------+-------+--------+----------+-------+--------+---------+---------+--------+----------+--------+------------+--------+--------+--------+--------+-----+------+--------------------+----------+-----------+----------+--------+-----------------+---------+--------+---------+------+-------+----------+\n",
            "|ELECTION|OFFICECD|RECIPID|CANCLASS|         RECIPNAME|COMMITTEE|FILING|SCHEDULE|PAGENO|SEQUENCENO|   REFNO|     DATE|REFUNDDATE|                NAME|C_CODE|STRNO|STRNAME|APARTMENT|BOROUGHCD|        CITY|STATE|  ZIP|OCCUPATION|EMPNAME|EMPSTRNO|EMPSTRNAME|EMPCITY|EMPSTATE|     AMNT|MATCHAMNT|PREVAMNT|PAY_METHOD|INTERMNO|  INTERMNAME|INTSTRNO|INTSTRNM|INTAPTNO| INTCITY|INTST|INTZIP|          INTEMPNAME|INTEMPSTNO| INTEMPSTNM|INTEMPCITY|INTEMPST|        INTOCCUPA|PURPOSECD|EXEMPTCD|ADJTYPECD|RR_IND|SEG_IND|INT_C_CODE|\n",
            "+--------+--------+-------+--------+------------------+---------+------+--------+------+----------+--------+---------+----------+--------------------+------+-----+-------+---------+---------+------------+-----+-----+----------+-------+--------+----------+-------+--------+---------+---------+--------+----------+--------+------------+--------+--------+--------+--------+-----+------+--------------------+----------+-----------+----------+--------+-----------------+---------+--------+---------+------+-------+----------+\n",
            "|    2013|       1|    204|       P|Quinn, Christine C|        M|     4|     ABC|  null|      null|R0011580|7/11/2011|      null|1199 SEIU PAC - N...| PCOMP| null|   null|     null|        M|    New York|   NY|10036|      null|   null|    null|      null|   null|    null|     1000|        0|       0|         2|    null|        null|    null|    null|    null|    null| null|  null|                null|      null|       null|      null|    null|             null|     null|    null|     null|     N|      N|      null|\n",
            "|    2013|       1|    204|       P|Quinn, Christine C|        M|     6|     ABC|  null|      null|R0018645|1/10/2013|      null|1199 SEIU PAC - N...| PCOMP| null|   null|     null|        M|    New York|   NY|10036|      null|   null|    null|      null|   null|    null|     3950|        0|    1000|         2|    null|        null|    null|    null|    null|    null| null|  null|                null|      null|       null|      null|    null|             null|     null|    null|     null|     N|      N|      null|\n",
            "|    2013|       1|    326|       P|   de Blasio, Bill|        N|     1|     ABC|  null|      null|R0005231|4/29/2010|      null|1199/SEIU NYS Pol...| PCOMP| null|   null|     null|        M|    New York|   NY|10036|      null|   null|    null|      null|   null|    null|     4950|        0|       0|         2|    null|        null|    null|    null|    null|    null| null|  null|                null|      null|       null|      null|    null|             null|     null|    null|     null|     N|      N|      null|\n",
            "|    2013|       1|    326|       P|   de Blasio, Bill|        N|    12|       D|  null|      null|R0028634| 9/8/2013|      null|1199/SEIU NYS Pol...| PCOMP| null|   null|     null|        M|    New York|   NY|10036|      null|   null|    null|      null|   null|    null| 19084.25|        0|       0|         0|    null|        null|    null|    null|    null|    null| null|  null|                null|      null|       null|      null|    null|             null|    OTHER|    null|     null|     N|   null|      null|\n",
            "|    2013|       1|    326|       P|   de Blasio, Bill|        N|    16|       D|  null|      null|R0042524| 9/8/2013|      null|1199/SEIU NYS Pol...| PCOMP| null|   null|     null|        M|    New York|   NY|10036|      null|   null|    null|      null|   null|    null|   168.31|        0|       0|         0|    null|        null|    null|    null|    null|    null| null|  null|                null|      null|       null|      null|    null|             null|    WAGES|    null|     null|     N|   null|      null|\n",
            "|    2013|       1|    326|       P|   de Blasio, Bill|        N|    16|       D|  null|      null|R0042526| 9/8/2013|      null|1199/SEIU NYS Pol...| PCOMP| null|   null|     null|        M|    New York|   NY|10036|      null|   null|    null|      null|   null|    null|       60|        0|       0|         0|    null|        null|    null|    null|    null|    null| null|  null|                null|      null|       null|      null|    null|             null|    PROFL|    null|     null|     N|   null|      null|\n",
            "|    2013|       1|    326|       P|   de Blasio, Bill|        N|    16|       M|  null|      null|R0028635| 9/8/2013|  9/9/2013|1199/SEIU NYS Pol...| PCOMP| null|   null|     null|        M|    New York|   NY|10036|      null|   null|    null|      null|   null|    null|-19084.25|        0|       0|         0|    null|        null|    null|    null|    null|    null| null|  null|                null|      null|       null|      null|    null|             null|     null|    null|        2|     N|      N|      null|\n",
            "|    2013|       1|    326|       P|   de Blasio, Bill|        N|    16|       M|  null|      null|R0042525| 9/8/2013|10/28/2013|1199/SEIU NYS Pol...| PCOMP| null|   null|     null|        M|    New York|   NY|10036|      null|   null|    null|      null|   null|    null|  -168.31|        0|       0|         0|    null|        null|    null|    null|    null|    null| null|  null|                null|      null|       null|      null|    null|             null|     null|    null|        2|     N|      N|      null|\n",
            "|    2013|       1|     FI|       P|       Liu, John C|        N|     3|     ABC|  null|      null|R0008939|7/11/2011|      null|1199SEIU NYS Poli...| PCOMP| null|   null|     null|        M|    New York|   NY|10036|      null|   null|    null|      null|   null|    null|      800|        0|       0|         2|    null|        null|    null|    null|    null|    null| null|  null|                null|      null|       null|      null|    null|             null|     null|    null|     null|     N|      N|      null|\n",
            "|    2013|       1|     FI|       P|       Liu, John C|        N|     4|     ABC|  null|      null|R0010257|1/11/2012|      null|1199SEIU NYS Poli...| PCOMP| null|   null|     null|        M|    New York|   NY|10036|      null|   null|    null|      null|   null|    null|     2500|        0|     800|         2|    null|        null|    null|    null|    null|    null| null|  null|                null|      null|       null|      null|    null|             null|     null|    null|     null|     N|      N|      null|\n",
            "|    2013|       1|     FI|       P|       Liu, John C|        N|     5|     ABC|  null|      null|R0012166|4/24/2012|      null|1199SEIU NYS Poli...| PCOMP| null|   null|     null|        M|    New York|   NY|10036|      null|   null|    null|      null|   null|    null|     1650|        0|    3300|         2|    null|        null|    null|    null|    null|    null| null|  null|                null|      null|       null|      null|    null|             null|     null|    null|     null|     N|      N|      null|\n",
            "|    2013|       1|   1757|      NP|    Person, Carl E|        H|    16|       N|  null|      null|R0000014|     null|      null|            123Print|  CORP| null|   null|     null|     null|   Frederick|   MD|21703|      null|   null|    null|      null|   null|    null|   115.95|        0|       0|         0|    null|        null|    null|    null|    null|    null| null|  null|                null|      null|       null|      null|    null|             null|     null|    null|     null|     N|      N|      null|\n",
            "|    2013|       1|     BB|       P| Weiner, Anthony D|        J|     1|     ABC|  null|      null|R0001858|7/11/2007|      null|   155 W 21st St LLC|   LLC| null|   null|     null|        Z|Lake Success|   NY|11042|      null|   null|    null|      null|   null|    null|     2000|        0|       0|         2|    null|        null|    null|    null|    null|    null| null|  null|                null|      null|       null|      null|    null|             null|     null|    null|     null|     N|      N|      null|\n",
            "|    2013|       1|     BB|       P| Weiner, Anthony D|        J|    16|       M|  null|      null|R0007358|7/11/2007| 3/11/2009|   155 W 21st St LLC|   LLC| null|   null|     null|        Z|Lake Success|   NY|11042|      null|   null|    null|      null|   null|    null|    -2000|        0|       0|         0|    null|        null|    null|    null|    null|    null| null|  null|                null|      null|       null|      null|    null|             null|     null|    null|        2|     N|      N|      null|\n",
            "|    2013|       1|     BB|       P| Weiner, Anthony D|        J|     1|     ABC|  null|      null|R0001860|7/11/2007|      null|    171 Mulberry LLC|   LLC| null|   null|     null|        M|    New York|   NY|10016|      null|   null|    null|      null|   null|    null|      500|        0|       0|         2|       6|Ross, Todd M|    null|    null|    null|New York|   NY| 10004|Ross Insurance Br...|       183|Madison Ave|  New York|      NY|Insurance Brokers|     null|    null|     null|     N|      N|       IND|\n",
            "|    2013|       1|     BB|       P| Weiner, Anthony D|        J|     1|     ABC|  null|      null|R0002276|7/23/2007|      null|1717 Dallas Partn...|   LLC| null|   null|     null|        Z|      Dallas|   TX|75201|      null|   null|    null|      null|   null|    null|     4950|        0|       0|         2|    null|        null|    null|    null|    null|    null| null|  null|                null|      null|       null|      null|    null|             null|     null|    null|     null|     N|      N|      null|\n",
            "|    2013|       1|     BB|       P| Weiner, Anthony D|        J|     1|     ABC|  null|      null|R0002281|7/23/2007|      null|1717 Main St Part...|   LLC| null|   null|     null|        Z|      Dallas|   TX|75201|      null|   null|    null|      null|   null|    null|     4950|        0|       0|         2|    null|        null|    null|    null|    null|    null| null|  null|                null|      null|       null|      null|    null|             null|     null|    null|     null|     N|      N|      null|\n",
            "|    2013|       1|     BB|       P| Weiner, Anthony D|        J|    16|       M|  null|      null|R0008221|7/23/2007|12/22/2010|1717 Main St Part...|   LLC| null|   null|     null|        Z|      Dallas|   TX|75201|      null|   null|    null|      null|   null|    null|    -4950|        0|       0|         0|    null|        null|    null|    null|    null|    null| null|  null|                null|      null|       null|      null|    null|             null|     null|    null|        2|     N|      N|      null|\n",
            "|    2013|       1|   1669|      NP|    Credico, Randy|        H|     8|     ABC|  null|      null|R0000104|1/14/2013|      null|220 WEST RESTAURA...|  CORP| null|   null|     null|        M|    New York|   NY|10019|      null|   null|    null|      null|   null|    null|      250|        0|       0|         2|    null|        null|    null|    null|    null|    null| null|  null|                null|      null|       null|      null|    null|             null|     null|    null|     null|     N|      N|      null|\n",
            "|    2013|       1|   1669|      NP|    Credico, Randy|        H|     8|       M|  null|      null|R0000152|1/14/2013| 1/22/2013|220 WEST RESTAURA...|  CORP| null|   null|     null|        M|    New York|   NY|10019|      null|   null|    null|      null|   null|    null|     -250|        0|       0|         0|    null|        null|    null|    null|    null|    null| null|  null|                null|      null|       null|      null|    null|             null|     null|    null|        2|     N|      N|      null|\n",
            "+--------+--------+-------+--------+------------------+---------+------+--------+------+----------+--------+---------+----------+--------------------+------+-----+-------+---------+---------+------------+-----+-----+----------+-------+--------+----------+-------+--------+---------+---------+--------+----------+--------+------------+--------+--------+--------+--------+-----+------+--------------------+----------+-----------+----------+--------+-----------------+---------+--------+---------+------+-------+----------+\n",
            "only showing top 20 rows\n",
            "\n"
          ]
        }
      ]
    },
    {
      "cell_type": "code",
      "metadata": {
        "colab": {
          "base_uri": "https://localhost:8080/"
        },
        "id": "S-dAX_VzLOhL",
        "outputId": "624ae82a-d918-4244-9343-abdff333da55"
      },
      "source": [
        "# Remove multiple columns\n",
        "list = ['COMMITTEE', 'FILING', 'SCHEDULE', 'PAGENO', 'SEQUENCENO','REFNO', 'STRNO', 'STRNAME', 'APARTMENT', 'OCCUPATION', 'EMPNAME', 'EMPSTRNO', 'EMPSTRNAME',\n",
        "                'EMPCITY','REFUNDDATE','INTERMNO', 'INTERMNAME', 'INTSTRNO', 'INTSTRNM', 'INTSTRNM', 'INTAPTNO',\n",
        "                'INTCITY', 'INTST','INTZIP', 'INTEMPNAME', 'INTEMPSTNO', 'INTEMPSTNM', 'INTEMPCITY', 'INTEMPST', 'INTOCCUPA' ,'PURPOSECD', 'EXEMPTCD','ADJTYPECD', 'RR_IND', 'SEG_IND','INT_C_CODE'] \n",
        "df = df.drop(*list)\n",
        "df.show()"
      ],
      "execution_count": 20,
      "outputs": [
        {
          "output_type": "stream",
          "name": "stdout",
          "text": [
            "+--------+--------+-------+--------+------------------+---------+--------------------+------+---------+------------+-----+-----+--------+---------+---------+--------+----------+\n",
            "|ELECTION|OFFICECD|RECIPID|CANCLASS|         RECIPNAME|     DATE|                NAME|C_CODE|BOROUGHCD|        CITY|STATE|  ZIP|EMPSTATE|     AMNT|MATCHAMNT|PREVAMNT|PAY_METHOD|\n",
            "+--------+--------+-------+--------+------------------+---------+--------------------+------+---------+------------+-----+-----+--------+---------+---------+--------+----------+\n",
            "|    2013|       1|    204|       P|Quinn, Christine C|7/11/2011|1199 SEIU PAC - N...| PCOMP|        M|    New York|   NY|10036|    null|     1000|        0|       0|         2|\n",
            "|    2013|       1|    204|       P|Quinn, Christine C|1/10/2013|1199 SEIU PAC - N...| PCOMP|        M|    New York|   NY|10036|    null|     3950|        0|    1000|         2|\n",
            "|    2013|       1|    326|       P|   de Blasio, Bill|4/29/2010|1199/SEIU NYS Pol...| PCOMP|        M|    New York|   NY|10036|    null|     4950|        0|       0|         2|\n",
            "|    2013|       1|    326|       P|   de Blasio, Bill| 9/8/2013|1199/SEIU NYS Pol...| PCOMP|        M|    New York|   NY|10036|    null| 19084.25|        0|       0|         0|\n",
            "|    2013|       1|    326|       P|   de Blasio, Bill| 9/8/2013|1199/SEIU NYS Pol...| PCOMP|        M|    New York|   NY|10036|    null|   168.31|        0|       0|         0|\n",
            "|    2013|       1|    326|       P|   de Blasio, Bill| 9/8/2013|1199/SEIU NYS Pol...| PCOMP|        M|    New York|   NY|10036|    null|       60|        0|       0|         0|\n",
            "|    2013|       1|    326|       P|   de Blasio, Bill| 9/8/2013|1199/SEIU NYS Pol...| PCOMP|        M|    New York|   NY|10036|    null|-19084.25|        0|       0|         0|\n",
            "|    2013|       1|    326|       P|   de Blasio, Bill| 9/8/2013|1199/SEIU NYS Pol...| PCOMP|        M|    New York|   NY|10036|    null|  -168.31|        0|       0|         0|\n",
            "|    2013|       1|     FI|       P|       Liu, John C|7/11/2011|1199SEIU NYS Poli...| PCOMP|        M|    New York|   NY|10036|    null|      800|        0|       0|         2|\n",
            "|    2013|       1|     FI|       P|       Liu, John C|1/11/2012|1199SEIU NYS Poli...| PCOMP|        M|    New York|   NY|10036|    null|     2500|        0|     800|         2|\n",
            "|    2013|       1|     FI|       P|       Liu, John C|4/24/2012|1199SEIU NYS Poli...| PCOMP|        M|    New York|   NY|10036|    null|     1650|        0|    3300|         2|\n",
            "|    2013|       1|   1757|      NP|    Person, Carl E|     null|            123Print|  CORP|     null|   Frederick|   MD|21703|    null|   115.95|        0|       0|         0|\n",
            "|    2013|       1|     BB|       P| Weiner, Anthony D|7/11/2007|   155 W 21st St LLC|   LLC|        Z|Lake Success|   NY|11042|    null|     2000|        0|       0|         2|\n",
            "|    2013|       1|     BB|       P| Weiner, Anthony D|7/11/2007|   155 W 21st St LLC|   LLC|        Z|Lake Success|   NY|11042|    null|    -2000|        0|       0|         0|\n",
            "|    2013|       1|     BB|       P| Weiner, Anthony D|7/11/2007|    171 Mulberry LLC|   LLC|        M|    New York|   NY|10016|    null|      500|        0|       0|         2|\n",
            "|    2013|       1|     BB|       P| Weiner, Anthony D|7/23/2007|1717 Dallas Partn...|   LLC|        Z|      Dallas|   TX|75201|    null|     4950|        0|       0|         2|\n",
            "|    2013|       1|     BB|       P| Weiner, Anthony D|7/23/2007|1717 Main St Part...|   LLC|        Z|      Dallas|   TX|75201|    null|     4950|        0|       0|         2|\n",
            "|    2013|       1|     BB|       P| Weiner, Anthony D|7/23/2007|1717 Main St Part...|   LLC|        Z|      Dallas|   TX|75201|    null|    -4950|        0|       0|         0|\n",
            "|    2013|       1|   1669|      NP|    Credico, Randy|1/14/2013|220 WEST RESTAURA...|  CORP|        M|    New York|   NY|10019|    null|      250|        0|       0|         2|\n",
            "|    2013|       1|   1669|      NP|    Credico, Randy|1/14/2013|220 WEST RESTAURA...|  CORP|        M|    New York|   NY|10019|    null|     -250|        0|       0|         0|\n",
            "+--------+--------+-------+--------+------------------+---------+--------------------+------+---------+------------+-----+-----+--------+---------+---------+--------+----------+\n",
            "only showing top 20 rows\n",
            "\n"
          ]
        }
      ]
    },
    {
      "cell_type": "code",
      "metadata": {
        "colab": {
          "base_uri": "https://localhost:8080/"
        },
        "id": "btba2GO-LOhL",
        "outputId": "258829dd-2a23-46d8-cd21-f2a501a3d679"
      },
      "source": [
        "# check data types\n",
        "df.dtypes"
      ],
      "execution_count": 21,
      "outputs": [
        {
          "output_type": "execute_result",
          "data": {
            "text/plain": [
              "[('ELECTION', 'string'),\n",
              " ('OFFICECD', 'string'),\n",
              " ('RECIPID', 'string'),\n",
              " ('CANCLASS', 'string'),\n",
              " ('RECIPNAME', 'string'),\n",
              " ('DATE', 'string'),\n",
              " ('NAME', 'string'),\n",
              " ('C_CODE', 'string'),\n",
              " ('BOROUGHCD', 'string'),\n",
              " ('CITY', 'string'),\n",
              " ('STATE', 'string'),\n",
              " ('ZIP', 'string'),\n",
              " ('EMPSTATE', 'string'),\n",
              " ('AMNT', 'string'),\n",
              " ('MATCHAMNT', 'string'),\n",
              " ('PREVAMNT', 'string'),\n",
              " ('PAY_METHOD', 'string')]"
            ]
          },
          "metadata": {},
          "execution_count": 21
        }
      ]
    },
    {
      "cell_type": "code",
      "metadata": {
        "colab": {
          "base_uri": "https://localhost:8080/"
        },
        "id": "U3HO9e01LOhL",
        "outputId": "83ba3281-a04c-46f4-f9f5-1fe6b2228b7d"
      },
      "source": [
        "#Change column names\n",
        "df1 = df \\\n",
        ".withColumnRenamed(\"ELECTION\", \"Election\") \\\n",
        ".withColumnRenamed(\"RECIPID\", \"CandidateID\") \\\n",
        ".withColumnRenamed(\"RECIPNAME\", \"CandidateName\") \\\n",
        ".withColumnRenamed(\"DATE\", \"Date\") \\\n",
        ".withColumnRenamed(\"NAME\", \"Name\") \\\n",
        ".withColumnRenamed(\"C_CODE\", \"ContributerType\") \\\n",
        ".withColumnRenamed(\"BOROUGHCD\", \"BoroughName\") \\\n",
        ".withColumnRenamed(\"CITY\", \"City\") \\\n",
        ".withColumnRenamed(\"STATE\", \"State\") \\\n",
        ".withColumnRenamed(\"ZIP\", \"ZipCode\") \\\n",
        ".withColumnRenamed(\"EMPSTATE\", \"ContributionState\") \\\n",
        ".withColumnRenamed(\"AMNT\", \"Amount\") \\\n",
        ".withColumnRenamed(\"MATCHAMNT\", \"MatchAmt\") \\\n",
        ".withColumnRenamed(\"PREVAMNT\", \"PrevAmt\") \\\n",
        ".withColumnRenamed(\"PAY_METHOD\", \"PayMethod\") \n",
        "\n",
        "df1.printSchema()"
      ],
      "execution_count": 22,
      "outputs": [
        {
          "output_type": "stream",
          "name": "stdout",
          "text": [
            "root\n",
            " |-- Election: string (nullable = true)\n",
            " |-- OFFICECD: string (nullable = true)\n",
            " |-- CandidateID: string (nullable = true)\n",
            " |-- CANCLASS: string (nullable = true)\n",
            " |-- CandidateName: string (nullable = true)\n",
            " |-- Date: string (nullable = true)\n",
            " |-- Name: string (nullable = true)\n",
            " |-- ContributerType: string (nullable = true)\n",
            " |-- BoroughName: string (nullable = true)\n",
            " |-- City: string (nullable = true)\n",
            " |-- State: string (nullable = true)\n",
            " |-- ZipCode: string (nullable = true)\n",
            " |-- ContributionState: string (nullable = true)\n",
            " |-- Amount: string (nullable = true)\n",
            " |-- MatchAmt: string (nullable = true)\n",
            " |-- PrevAmt: string (nullable = true)\n",
            " |-- PayMethod: string (nullable = true)\n",
            "\n"
          ]
        }
      ]
    },
    {
      "cell_type": "code",
      "metadata": {
        "colab": {
          "base_uri": "https://localhost:8080/"
        },
        "id": "NuvQvwOFLOhM",
        "outputId": "f27eb256-71d8-4ec6-a50e-f9064d531a7b"
      },
      "source": [
        "# changing datatypes of columns\n",
        "df2 = df1 \\\n",
        "  .withColumn(\"Election\",df1[\"Election\"].cast(\"Integer\")) \\\n",
        "  .withColumn(\"OFFICECD\", df1[\"OFFICECD\"].cast(\"Integer\")) \\\n",
        "  .withColumn(\"CandidateID\", df1[\"CandidateID\"].cast(\"Integer\")) \\\n",
        "  .withColumn(\"ZipCode\", df1[\"ZipCode\"].cast(\"Integer\")) \\\n",
        "  .withColumn(\"Amount\", df1[\"Amount\"].cast(\"Float\")) \\\n",
        "  .withColumn(\"MatchAmt\", df1[\"MatchAmt\"].cast(\"Float\")) \\\n",
        "  .withColumn(\"PrevAmt\", df1[\"PrevAmt\"].cast(\"Float\")) \\\n",
        "  .withColumn(\"Date\", df1[\"Date\"].cast(\"Date\")) \\\n",
        "  \n",
        "df2.printSchema()"
      ],
      "execution_count": 23,
      "outputs": [
        {
          "output_type": "stream",
          "name": "stdout",
          "text": [
            "root\n",
            " |-- Election: integer (nullable = true)\n",
            " |-- OFFICECD: integer (nullable = true)\n",
            " |-- CandidateID: integer (nullable = true)\n",
            " |-- CANCLASS: string (nullable = true)\n",
            " |-- CandidateName: string (nullable = true)\n",
            " |-- Date: date (nullable = true)\n",
            " |-- Name: string (nullable = true)\n",
            " |-- ContributerType: string (nullable = true)\n",
            " |-- BoroughName: string (nullable = true)\n",
            " |-- City: string (nullable = true)\n",
            " |-- State: string (nullable = true)\n",
            " |-- ZipCode: integer (nullable = true)\n",
            " |-- ContributionState: string (nullable = true)\n",
            " |-- Amount: float (nullable = true)\n",
            " |-- MatchAmt: float (nullable = true)\n",
            " |-- PrevAmt: float (nullable = true)\n",
            " |-- PayMethod: string (nullable = true)\n",
            "\n"
          ]
        }
      ]
    },
    {
      "cell_type": "code",
      "metadata": {
        "id": "qa6S4he5LOhM"
      },
      "source": [
        "#Change vaule name in ContributerType\n",
        "from pyspark.sql.functions import regexp_replace\n",
        "df3 = df2.withColumn('ContributerType', regexp_replace('ContributerType', 'CAN', 'Candidate')) \\\n",
        "  .withColumn('ContributerType', regexp_replace('ContributerType', 'CORP', 'Corporation')) \\\n",
        "  .withColumn('ContributerType', regexp_replace('ContributerType', 'EMPO', 'Labor Union')) \\\n",
        "  .withColumn('ContributerType', regexp_replace('ContributerType', 'FAM', 'Candidate Family')) \\\n",
        "  .withColumn('ContributerType', regexp_replace('ContributerType', 'IND', 'Individual')) \\\n",
        "  .withColumn('ContributerType', regexp_replace('ContributerType', 'PCOMZ', 'Party Committee')) \\\n",
        "  .withColumn('ContributerType', regexp_replace('ContributerType', 'ORG', 'Orgainization')) \\\n",
        "  .withColumn('ContributerType', regexp_replace('ContributerType', 'LLC', 'Limited Liability Company')) \\\n",
        "  .withColumn('ContributerType', regexp_replace('ContributerType', 'PCOMP', 'Political Action Committee')) \\\n",
        "  .withColumn('ContributerType', regexp_replace('ContributerType', 'SPO', 'Spouse')) \\\n",
        "  .withColumn('ContributerType', regexp_replace('ContributerType', 'OTHR', 'Other')) \\\n",
        "  .withColumn('ContributerType', regexp_replace('ContributerType', 'PCOMC', 'Candidate Committee')) \\\n",
        "  .withColumn('ContributerType', regexp_replace('ContributerType', 'PART', 'Individual')) \\\n"
      ],
      "execution_count": 24,
      "outputs": []
    },
    {
      "cell_type": "code",
      "metadata": {
        "id": "HKU4a2YeLOhM"
      },
      "source": [
        "#Change Payment Method Name\n",
        "df4=df3.withColumn('PayMethod', regexp_replace('PayMethod','0','Unknown')) \\\n",
        "  .withColumn('PayMethod', regexp_replace('PayMethod','1','Cash')) \\\n",
        "  .withColumn('PayMethod', regexp_replace('PayMethod','2','Check')) \\\n",
        "  .withColumn('PayMethod', regexp_replace('PayMethod','3','Other')) \\\n",
        "  .withColumn('PayMethod', regexp_replace('PayMethod','4','Credit Card')) \\\n",
        "  .withColumn('PayMethod', regexp_replace('PayMethod','5','Money Order')) \\"
      ],
      "execution_count": 25,
      "outputs": []
    },
    {
      "cell_type": "code",
      "metadata": {
        "id": "trH99qC5LOhM"
      },
      "source": [
        "#Change Borough name\n",
        "from pyspark.sql.functions import regexp_replace\n",
        "df5 = df4.withColumn('BoroughName', regexp_replace('BoroughName', 'K', 'Brooklyn')) \\\n",
        "  .withColumn('BoroughName', regexp_replace('BoroughName', 'M', 'Manhattan')) \\\n",
        "  .withColumn('BoroughName', regexp_replace('BoroughName', 'Q', 'Queens')) \\\n",
        "  .withColumn('BoroughName', regexp_replace('BoroughName', 'S', 'Staten Island')) \\\n",
        "  .withColumn('BoroughName', regexp_replace('BoroughName', 'X', 'Bronx')) \\\n",
        "  .withColumn('BoroughName', regexp_replace('BoroughName', 'Z', 'Other')) \\\n"
      ],
      "execution_count": 26,
      "outputs": []
    },
    {
      "cell_type": "code",
      "metadata": {
        "colab": {
          "base_uri": "https://localhost:8080/"
        },
        "id": "wO9XHx_6LOhM",
        "outputId": "6acf4ad8-ae8f-4228-febf-cd4a90c1b8e2"
      },
      "source": [
        "#Call only Mayor (1) and particaptes (P) within Dataframe\n",
        "df6 = df5.filter((df5.OFFICECD==\"1\") & (df5.CANCLASS==\"P\"))\n",
        "df6.show()"
      ],
      "execution_count": 27,
      "outputs": [
        {
          "output_type": "stream",
          "name": "stdout",
          "text": [
            "+--------+--------+-----------+--------+------------------+----+--------------------+--------------------+-----------+------------+-----+-------+-----------------+---------+--------+-------+---------+\n",
            "|Election|OFFICECD|CandidateID|CANCLASS|     CandidateName|Date|                Name|     ContributerType|BoroughName|        City|State|ZipCode|ContributionState|   Amount|MatchAmt|PrevAmt|PayMethod|\n",
            "+--------+--------+-----------+--------+------------------+----+--------------------+--------------------+-----------+------------+-----+-------+-----------------+---------+--------+-------+---------+\n",
            "|    2013|       1|        204|       P|Quinn, Christine C|null|1199 SEIU PAC - N...|Political Action ...|  Manhattan|    New York|   NY|  10036|             null|   1000.0|     0.0|    0.0|    Check|\n",
            "|    2013|       1|        204|       P|Quinn, Christine C|null|1199 SEIU PAC - N...|Political Action ...|  Manhattan|    New York|   NY|  10036|             null|   3950.0|     0.0| 1000.0|    Check|\n",
            "|    2013|       1|        326|       P|   de Blasio, Bill|null|1199/SEIU NYS Pol...|Political Action ...|  Manhattan|    New York|   NY|  10036|             null|   4950.0|     0.0|    0.0|    Check|\n",
            "|    2013|       1|        326|       P|   de Blasio, Bill|null|1199/SEIU NYS Pol...|Political Action ...|  Manhattan|    New York|   NY|  10036|             null| 19084.25|     0.0|    0.0|  Unknown|\n",
            "|    2013|       1|        326|       P|   de Blasio, Bill|null|1199/SEIU NYS Pol...|Political Action ...|  Manhattan|    New York|   NY|  10036|             null|   168.31|     0.0|    0.0|  Unknown|\n",
            "|    2013|       1|        326|       P|   de Blasio, Bill|null|1199/SEIU NYS Pol...|Political Action ...|  Manhattan|    New York|   NY|  10036|             null|     60.0|     0.0|    0.0|  Unknown|\n",
            "|    2013|       1|        326|       P|   de Blasio, Bill|null|1199/SEIU NYS Pol...|Political Action ...|  Manhattan|    New York|   NY|  10036|             null|-19084.25|     0.0|    0.0|  Unknown|\n",
            "|    2013|       1|        326|       P|   de Blasio, Bill|null|1199/SEIU NYS Pol...|Political Action ...|  Manhattan|    New York|   NY|  10036|             null|  -168.31|     0.0|    0.0|  Unknown|\n",
            "|    2013|       1|       null|       P|       Liu, John C|null|1199SEIU NYS Poli...|Political Action ...|  Manhattan|    New York|   NY|  10036|             null|    800.0|     0.0|    0.0|    Check|\n",
            "|    2013|       1|       null|       P|       Liu, John C|null|1199SEIU NYS Poli...|Political Action ...|  Manhattan|    New York|   NY|  10036|             null|   2500.0|     0.0|  800.0|    Check|\n",
            "|    2013|       1|       null|       P|       Liu, John C|null|1199SEIU NYS Poli...|Political Action ...|  Manhattan|    New York|   NY|  10036|             null|   1650.0|     0.0| 3300.0|    Check|\n",
            "|    2013|       1|       null|       P| Weiner, Anthony D|null|   155 W 21st St LLC|Limited Liability...|      Other|Lake Success|   NY|  11042|             null|   2000.0|     0.0|    0.0|    Check|\n",
            "|    2013|       1|       null|       P| Weiner, Anthony D|null|   155 W 21st St LLC|Limited Liability...|      Other|Lake Success|   NY|  11042|             null|  -2000.0|     0.0|    0.0|  Unknown|\n",
            "|    2013|       1|       null|       P| Weiner, Anthony D|null|    171 Mulberry LLC|Limited Liability...|  Manhattan|    New York|   NY|  10016|             null|    500.0|     0.0|    0.0|    Check|\n",
            "|    2013|       1|       null|       P| Weiner, Anthony D|null|1717 Dallas Partn...|Limited Liability...|      Other|      Dallas|   TX|  75201|             null|   4950.0|     0.0|    0.0|    Check|\n",
            "|    2013|       1|       null|       P| Weiner, Anthony D|null|1717 Main St Part...|Limited Liability...|      Other|      Dallas|   TX|  75201|             null|   4950.0|     0.0|    0.0|    Check|\n",
            "|    2013|       1|       null|       P| Weiner, Anthony D|null|1717 Main St Part...|Limited Liability...|      Other|      Dallas|   TX|  75201|             null|  -4950.0|     0.0|    0.0|  Unknown|\n",
            "|    2013|       1|       null|       P| Weiner, Anthony D|null|      30 Carmine LLC|Limited Liability...|  Manhattan|    New York|   NY|  10016|             null|    500.0|     0.0|    0.0|    Check|\n",
            "|    2013|       1|       null|       P| Weiner, Anthony D|null|39-08 103rd Stree...|Limited Liability...|  Manhattan|    New York|   NY|  10030|             null|   2000.0|     0.0|    0.0|    Check|\n",
            "|    2013|       1|       null|       P| Weiner, Anthony D|null|39-08 103rd Stree...|Limited Liability...|  Manhattan|    New York|   NY|  10030|             null|   4900.0|     0.0| 2000.0|    Check|\n",
            "+--------+--------+-----------+--------+------------------+----+--------------------+--------------------+-----------+------------+-----+-------+-----------------+---------+--------+-------+---------+\n",
            "only showing top 20 rows\n",
            "\n"
          ]
        }
      ]
    },
    {
      "cell_type": "code",
      "metadata": {
        "colab": {
          "base_uri": "https://localhost:8080/"
        },
        "id": "nEmNuKUFLOhM",
        "outputId": "5d577280-78c5-4871-bf8b-e313abad193e"
      },
      "source": [
        "#Check the above dataframe to make sure only unique values between the OFFICECD is 1 \n",
        "df6.select('OFFICECD').distinct().show()"
      ],
      "execution_count": 28,
      "outputs": [
        {
          "output_type": "stream",
          "name": "stdout",
          "text": [
            "+--------+\n",
            "|OFFICECD|\n",
            "+--------+\n",
            "|       1|\n",
            "+--------+\n",
            "\n"
          ]
        }
      ]
    },
    {
      "cell_type": "code",
      "metadata": {
        "colab": {
          "base_uri": "https://localhost:8080/"
        },
        "id": "Myx_AWPaLOhM",
        "outputId": "dde9d420-c1ee-4d8a-c616-31344aaf6e89"
      },
      "source": [
        "#Drop OFFICECD and CANCLASS\n",
        "list2 = ['OFFICECD', 'CANCLASS'] \n",
        "df7 = df6.drop(*list2)\n",
        "df7.show()"
      ],
      "execution_count": 29,
      "outputs": [
        {
          "output_type": "stream",
          "name": "stdout",
          "text": [
            "+--------+-----------+------------------+----+--------------------+--------------------+-----------+------------+-----+-------+-----------------+---------+--------+-------+---------+\n",
            "|Election|CandidateID|     CandidateName|Date|                Name|     ContributerType|BoroughName|        City|State|ZipCode|ContributionState|   Amount|MatchAmt|PrevAmt|PayMethod|\n",
            "+--------+-----------+------------------+----+--------------------+--------------------+-----------+------------+-----+-------+-----------------+---------+--------+-------+---------+\n",
            "|    2013|        204|Quinn, Christine C|null|1199 SEIU PAC - N...|Political Action ...|  Manhattan|    New York|   NY|  10036|             null|   1000.0|     0.0|    0.0|    Check|\n",
            "|    2013|        204|Quinn, Christine C|null|1199 SEIU PAC - N...|Political Action ...|  Manhattan|    New York|   NY|  10036|             null|   3950.0|     0.0| 1000.0|    Check|\n",
            "|    2013|        326|   de Blasio, Bill|null|1199/SEIU NYS Pol...|Political Action ...|  Manhattan|    New York|   NY|  10036|             null|   4950.0|     0.0|    0.0|    Check|\n",
            "|    2013|        326|   de Blasio, Bill|null|1199/SEIU NYS Pol...|Political Action ...|  Manhattan|    New York|   NY|  10036|             null| 19084.25|     0.0|    0.0|  Unknown|\n",
            "|    2013|        326|   de Blasio, Bill|null|1199/SEIU NYS Pol...|Political Action ...|  Manhattan|    New York|   NY|  10036|             null|   168.31|     0.0|    0.0|  Unknown|\n",
            "|    2013|        326|   de Blasio, Bill|null|1199/SEIU NYS Pol...|Political Action ...|  Manhattan|    New York|   NY|  10036|             null|     60.0|     0.0|    0.0|  Unknown|\n",
            "|    2013|        326|   de Blasio, Bill|null|1199/SEIU NYS Pol...|Political Action ...|  Manhattan|    New York|   NY|  10036|             null|-19084.25|     0.0|    0.0|  Unknown|\n",
            "|    2013|        326|   de Blasio, Bill|null|1199/SEIU NYS Pol...|Political Action ...|  Manhattan|    New York|   NY|  10036|             null|  -168.31|     0.0|    0.0|  Unknown|\n",
            "|    2013|       null|       Liu, John C|null|1199SEIU NYS Poli...|Political Action ...|  Manhattan|    New York|   NY|  10036|             null|    800.0|     0.0|    0.0|    Check|\n",
            "|    2013|       null|       Liu, John C|null|1199SEIU NYS Poli...|Political Action ...|  Manhattan|    New York|   NY|  10036|             null|   2500.0|     0.0|  800.0|    Check|\n",
            "|    2013|       null|       Liu, John C|null|1199SEIU NYS Poli...|Political Action ...|  Manhattan|    New York|   NY|  10036|             null|   1650.0|     0.0| 3300.0|    Check|\n",
            "|    2013|       null| Weiner, Anthony D|null|   155 W 21st St LLC|Limited Liability...|      Other|Lake Success|   NY|  11042|             null|   2000.0|     0.0|    0.0|    Check|\n",
            "|    2013|       null| Weiner, Anthony D|null|   155 W 21st St LLC|Limited Liability...|      Other|Lake Success|   NY|  11042|             null|  -2000.0|     0.0|    0.0|  Unknown|\n",
            "|    2013|       null| Weiner, Anthony D|null|    171 Mulberry LLC|Limited Liability...|  Manhattan|    New York|   NY|  10016|             null|    500.0|     0.0|    0.0|    Check|\n",
            "|    2013|       null| Weiner, Anthony D|null|1717 Dallas Partn...|Limited Liability...|      Other|      Dallas|   TX|  75201|             null|   4950.0|     0.0|    0.0|    Check|\n",
            "|    2013|       null| Weiner, Anthony D|null|1717 Main St Part...|Limited Liability...|      Other|      Dallas|   TX|  75201|             null|   4950.0|     0.0|    0.0|    Check|\n",
            "|    2013|       null| Weiner, Anthony D|null|1717 Main St Part...|Limited Liability...|      Other|      Dallas|   TX|  75201|             null|  -4950.0|     0.0|    0.0|  Unknown|\n",
            "|    2013|       null| Weiner, Anthony D|null|      30 Carmine LLC|Limited Liability...|  Manhattan|    New York|   NY|  10016|             null|    500.0|     0.0|    0.0|    Check|\n",
            "|    2013|       null| Weiner, Anthony D|null|39-08 103rd Stree...|Limited Liability...|  Manhattan|    New York|   NY|  10030|             null|   2000.0|     0.0|    0.0|    Check|\n",
            "|    2013|       null| Weiner, Anthony D|null|39-08 103rd Stree...|Limited Liability...|  Manhattan|    New York|   NY|  10030|             null|   4900.0|     0.0| 2000.0|    Check|\n",
            "+--------+-----------+------------------+----+--------------------+--------------------+-----------+------------+-----+-------+-----------------+---------+--------+-------+---------+\n",
            "only showing top 20 rows\n",
            "\n"
          ]
        }
      ]
    },
    {
      "cell_type": "code",
      "metadata": {
        "colab": {
          "base_uri": "https://localhost:8080/"
        },
        "id": "Uci_zuD5LOhM",
        "outputId": "4b11d208-37d8-456c-e9e7-88f0270478e5"
      },
      "source": [
        "# ADD AMNT and MATCHAMNT PrevAmnt\n",
        "from pyspark.sql.functions import col\n",
        "df8 = df7.withColumn(\"TotalAmount\", col(\"Amount\")+col(\"MatchAmt\")+col('PrevAmt'))\n",
        "df8.show()"
      ],
      "execution_count": 30,
      "outputs": [
        {
          "output_type": "stream",
          "name": "stdout",
          "text": [
            "+--------+-----------+------------------+----+--------------------+--------------------+-----------+------------+-----+-------+-----------------+---------+--------+-------+---------+-----------+\n",
            "|Election|CandidateID|     CandidateName|Date|                Name|     ContributerType|BoroughName|        City|State|ZipCode|ContributionState|   Amount|MatchAmt|PrevAmt|PayMethod|TotalAmount|\n",
            "+--------+-----------+------------------+----+--------------------+--------------------+-----------+------------+-----+-------+-----------------+---------+--------+-------+---------+-----------+\n",
            "|    2013|        204|Quinn, Christine C|null|1199 SEIU PAC - N...|Political Action ...|  Manhattan|    New York|   NY|  10036|             null|   1000.0|     0.0|    0.0|    Check|     1000.0|\n",
            "|    2013|        204|Quinn, Christine C|null|1199 SEIU PAC - N...|Political Action ...|  Manhattan|    New York|   NY|  10036|             null|   3950.0|     0.0| 1000.0|    Check|     4950.0|\n",
            "|    2013|        326|   de Blasio, Bill|null|1199/SEIU NYS Pol...|Political Action ...|  Manhattan|    New York|   NY|  10036|             null|   4950.0|     0.0|    0.0|    Check|     4950.0|\n",
            "|    2013|        326|   de Blasio, Bill|null|1199/SEIU NYS Pol...|Political Action ...|  Manhattan|    New York|   NY|  10036|             null| 19084.25|     0.0|    0.0|  Unknown|   19084.25|\n",
            "|    2013|        326|   de Blasio, Bill|null|1199/SEIU NYS Pol...|Political Action ...|  Manhattan|    New York|   NY|  10036|             null|   168.31|     0.0|    0.0|  Unknown|     168.31|\n",
            "|    2013|        326|   de Blasio, Bill|null|1199/SEIU NYS Pol...|Political Action ...|  Manhattan|    New York|   NY|  10036|             null|     60.0|     0.0|    0.0|  Unknown|       60.0|\n",
            "|    2013|        326|   de Blasio, Bill|null|1199/SEIU NYS Pol...|Political Action ...|  Manhattan|    New York|   NY|  10036|             null|-19084.25|     0.0|    0.0|  Unknown|  -19084.25|\n",
            "|    2013|        326|   de Blasio, Bill|null|1199/SEIU NYS Pol...|Political Action ...|  Manhattan|    New York|   NY|  10036|             null|  -168.31|     0.0|    0.0|  Unknown|    -168.31|\n",
            "|    2013|       null|       Liu, John C|null|1199SEIU NYS Poli...|Political Action ...|  Manhattan|    New York|   NY|  10036|             null|    800.0|     0.0|    0.0|    Check|      800.0|\n",
            "|    2013|       null|       Liu, John C|null|1199SEIU NYS Poli...|Political Action ...|  Manhattan|    New York|   NY|  10036|             null|   2500.0|     0.0|  800.0|    Check|     3300.0|\n",
            "|    2013|       null|       Liu, John C|null|1199SEIU NYS Poli...|Political Action ...|  Manhattan|    New York|   NY|  10036|             null|   1650.0|     0.0| 3300.0|    Check|     4950.0|\n",
            "|    2013|       null| Weiner, Anthony D|null|   155 W 21st St LLC|Limited Liability...|      Other|Lake Success|   NY|  11042|             null|   2000.0|     0.0|    0.0|    Check|     2000.0|\n",
            "|    2013|       null| Weiner, Anthony D|null|   155 W 21st St LLC|Limited Liability...|      Other|Lake Success|   NY|  11042|             null|  -2000.0|     0.0|    0.0|  Unknown|    -2000.0|\n",
            "|    2013|       null| Weiner, Anthony D|null|    171 Mulberry LLC|Limited Liability...|  Manhattan|    New York|   NY|  10016|             null|    500.0|     0.0|    0.0|    Check|      500.0|\n",
            "|    2013|       null| Weiner, Anthony D|null|1717 Dallas Partn...|Limited Liability...|      Other|      Dallas|   TX|  75201|             null|   4950.0|     0.0|    0.0|    Check|     4950.0|\n",
            "|    2013|       null| Weiner, Anthony D|null|1717 Main St Part...|Limited Liability...|      Other|      Dallas|   TX|  75201|             null|   4950.0|     0.0|    0.0|    Check|     4950.0|\n",
            "|    2013|       null| Weiner, Anthony D|null|1717 Main St Part...|Limited Liability...|      Other|      Dallas|   TX|  75201|             null|  -4950.0|     0.0|    0.0|  Unknown|    -4950.0|\n",
            "|    2013|       null| Weiner, Anthony D|null|      30 Carmine LLC|Limited Liability...|  Manhattan|    New York|   NY|  10016|             null|    500.0|     0.0|    0.0|    Check|      500.0|\n",
            "|    2013|       null| Weiner, Anthony D|null|39-08 103rd Stree...|Limited Liability...|  Manhattan|    New York|   NY|  10030|             null|   2000.0|     0.0|    0.0|    Check|     2000.0|\n",
            "|    2013|       null| Weiner, Anthony D|null|39-08 103rd Stree...|Limited Liability...|  Manhattan|    New York|   NY|  10030|             null|   4900.0|     0.0| 2000.0|    Check|     6900.0|\n",
            "+--------+-----------+------------------+----+--------------------+--------------------+-----------+------------+-----+-------+-----------------+---------+--------+-------+---------+-----------+\n",
            "only showing top 20 rows\n",
            "\n"
          ]
        }
      ]
    },
    {
      "cell_type": "code",
      "metadata": {
        "id": "S3PsGBmTLOhN"
      },
      "source": [
        ""
      ],
      "execution_count": 30,
      "outputs": []
    }
  ]
}