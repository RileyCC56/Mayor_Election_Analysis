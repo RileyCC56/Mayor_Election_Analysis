{
  "nbformat": 4,
  "nbformat_minor": 0,
  "metadata": {
    "colab": {
      "name": "Expenditures_2017.ipynb",
      "provenance": [],
      "collapsed_sections": [],
      "authorship_tag": "ABX9TyOIjxH8nuZ/1UiTGPMek7U3",
      "include_colab_link": true
    },
    "kernelspec": {
      "name": "python3",
      "display_name": "Python 3"
    },
    "language_info": {
      "name": "python"
    }
  },
  "cells": [
    {
      "cell_type": "markdown",
      "metadata": {
        "id": "view-in-github",
        "colab_type": "text"
      },
      "source": [
        "<a href=\"https://colab.research.google.com/github/ssheggrud/Mod_20_Project/blob/05_Riley/Expenditures_2017.ipynb\" target=\"_parent\"><img src=\"https://colab.research.google.com/assets/colab-badge.svg\" alt=\"Open In Colab\"/></a>"
      ]
    },
    {
      "cell_type": "code",
      "metadata": {
        "colab": {
          "base_uri": "https://localhost:8080/"
        },
        "id": "ddn5mqQ0M_R3",
        "outputId": "0c0bd1a4-eea5-40d3-be14-447646d48119"
      },
      "source": [
        "import os\n",
        "# Find the latest version of spark 3.0 from http://www.apache.org/dist/spark/ and enter as the spark version\n",
        "# For example:\n",
        "spark_version = 'spark-3.0.3'\n",
        "#spark_version = 'spark-2.4.8'\n",
        "os.environ['SPARK_VERSION']=spark_version\n",
        "\n",
        "# Install Spark and Java\n",
        "!apt-get update\n",
        "!apt-get install openjdk-11-jdk-headless -qq > /dev/null\n",
        "!wget -q http://www.apache.org/dist/spark/$SPARK_VERSION/$SPARK_VERSION-bin-hadoop2.7.tgz\n",
        "!tar xf $SPARK_VERSION-bin-hadoop2.7.tgz\n",
        "!pip install -q findspark\n",
        "\n",
        "# Set Environment Variables\n",
        "import os\n",
        "os.environ[\"JAVA_HOME\"] = \"/usr/lib/jvm/java-11-openjdk-amd64\"\n",
        "os.environ[\"SPARK_HOME\"] = f\"/content/{spark_version}-bin-hadoop2.7\"\n",
        "\n",
        "# Start a SparkSession\n",
        "import findspark\n",
        "findspark.init()\n",
        "\n",
        "import pandas as pd\n"
      ],
      "execution_count": 1,
      "outputs": [
        {
          "output_type": "stream",
          "name": "stdout",
          "text": [
            "Get:1 https://cloud.r-project.org/bin/linux/ubuntu bionic-cran40/ InRelease [3,626 B]\n",
            "Ign:2 https://developer.download.nvidia.com/compute/cuda/repos/ubuntu1804/x86_64  InRelease\n",
            "Get:3 http://ppa.launchpad.net/c2d4u.team/c2d4u4.0+/ubuntu bionic InRelease [15.9 kB]\n",
            "Get:4 http://security.ubuntu.com/ubuntu bionic-security InRelease [88.7 kB]\n",
            "Hit:5 http://archive.ubuntu.com/ubuntu bionic InRelease\n",
            "Get:6 http://archive.ubuntu.com/ubuntu bionic-updates InRelease [88.7 kB]\n",
            "Ign:7 https://developer.download.nvidia.com/compute/machine-learning/repos/ubuntu1804/x86_64  InRelease\n",
            "Get:8 https://developer.download.nvidia.com/compute/cuda/repos/ubuntu1804/x86_64  Release [696 B]\n",
            "Hit:9 https://developer.download.nvidia.com/compute/machine-learning/repos/ubuntu1804/x86_64  Release\n",
            "Get:10 https://developer.download.nvidia.com/compute/cuda/repos/ubuntu1804/x86_64  Release.gpg [836 B]\n",
            "Hit:11 http://ppa.launchpad.net/cran/libgit2/ubuntu bionic InRelease\n",
            "Get:12 http://ppa.launchpad.net/deadsnakes/ppa/ubuntu bionic InRelease [15.9 kB]\n",
            "Get:14 http://archive.ubuntu.com/ubuntu bionic-backports InRelease [74.6 kB]\n",
            "Get:15 https://developer.download.nvidia.com/compute/cuda/repos/ubuntu1804/x86_64  Packages [718 kB]\n",
            "Hit:16 http://ppa.launchpad.net/graphics-drivers/ppa/ubuntu bionic InRelease\n",
            "Get:17 http://security.ubuntu.com/ubuntu bionic-security/universe amd64 Packages [1,428 kB]\n",
            "Get:18 http://ppa.launchpad.net/c2d4u.team/c2d4u4.0+/ubuntu bionic/main Sources [1,799 kB]\n",
            "Get:19 http://archive.ubuntu.com/ubuntu bionic-updates/main amd64 Packages [2,760 kB]\n",
            "Get:20 http://security.ubuntu.com/ubuntu bionic-security/restricted amd64 Packages [567 kB]\n",
            "Get:21 http://security.ubuntu.com/ubuntu bionic-security/main amd64 Packages [2,324 kB]\n",
            "Get:22 http://archive.ubuntu.com/ubuntu bionic-updates/universe amd64 Packages [2,202 kB]\n",
            "Get:23 http://archive.ubuntu.com/ubuntu bionic-updates/restricted amd64 Packages [600 kB]\n",
            "Get:24 http://ppa.launchpad.net/c2d4u.team/c2d4u4.0+/ubuntu bionic/main amd64 Packages [921 kB]\n",
            "Get:25 http://ppa.launchpad.net/deadsnakes/ppa/ubuntu bionic/main amd64 Packages [40.8 kB]\n",
            "Fetched 13.6 MB in 7s (1,899 kB/s)\n",
            "Reading package lists... Done\n"
          ]
        }
      ]
    },
    {
      "cell_type": "code",
      "metadata": {
        "colab": {
          "base_uri": "https://localhost:8080/"
        },
        "id": "B9Dd_JabNFZU",
        "outputId": "257c508f-d927-426d-9a39-c0917a922cfa"
      },
      "source": [
        "# Download the Postgres driver that will allow Spark to interact with Postgres.\n",
        "!wget https://jdbc.postgresql.org/download/postgresql-42.2.16.jar"
      ],
      "execution_count": 2,
      "outputs": [
        {
          "output_type": "stream",
          "name": "stdout",
          "text": [
            "--2021-09-15 23:56:45--  https://jdbc.postgresql.org/download/postgresql-42.2.16.jar\n",
            "Resolving jdbc.postgresql.org (jdbc.postgresql.org)... 72.32.157.228, 2001:4800:3e1:1::228\n",
            "Connecting to jdbc.postgresql.org (jdbc.postgresql.org)|72.32.157.228|:443... connected.\n",
            "HTTP request sent, awaiting response... 200 OK\n",
            "Length: 1002883 (979K) [application/java-archive]\n",
            "Saving to: ‘postgresql-42.2.16.jar’\n",
            "\n",
            "postgresql-42.2.16. 100%[===================>] 979.38K  1.23MB/s    in 0.8s    \n",
            "\n",
            "2021-09-15 23:56:47 (1.23 MB/s) - ‘postgresql-42.2.16.jar’ saved [1002883/1002883]\n",
            "\n"
          ]
        }
      ]
    },
    {
      "cell_type": "code",
      "metadata": {
        "id": "VrvolWKMNFbe"
      },
      "source": [
        "# Start Spark session\n",
        "from pyspark.sql import SparkSession\n",
        "from pyspark.sql.functions import col\n",
        "spark = SparkSession.builder.appName(\"FinalProject\").getOrCreate()"
      ],
      "execution_count": 3,
      "outputs": []
    },
    {
      "cell_type": "code",
      "metadata": {
        "colab": {
          "base_uri": "https://localhost:8080/"
        },
        "id": "W2uxnkAjNFeD",
        "outputId": "7494c560-3730-4ed9-b689-989cbf942596"
      },
      "source": [
        "# Read in data from S3 Buckets\n",
        "from pyspark import SparkFiles\n",
        "url = \"https://databootcamp-final-05.s3.amazonaws.com/Resources/Expenditures+2017.csv\"\n",
        "spark.sparkContext.addFile(url)\n",
        "df = spark.read.csv(SparkFiles.get(\"Expenditures+2017.csv\"), sep=\",\", header=True)\n",
        "df.show()"
      ],
      "execution_count": 4,
      "outputs": [
        {
          "output_type": "stream",
          "name": "stdout",
          "text": [
            "+--------+--------+------+--------+-----------+---------+------+---------+------+--------+------+----------+--------+----------+----------+--------------------+------+-------+-----+-------+---------+--------------+-----+-----+----------+------+---------+----------------+--------------------+--------+------+-------+\n",
            "|ELECTION|OFFICECD|CANDID|CANCLASS|   CANDLAST|CANDFIRST|CANDMI|COMMITTEE|FILING|SCHEDULE|PAGENO|SEQUENCENO|   REFNO|  INV_DATE|      DATE|                NAME|C_CODE|ORG_IND|STRNO|STRNAME|APARTMENT|          CITY|STATE|  ZIP|PAY_METHOD|  AMNT|PURPOSECD|         PURPOSE|             EXPLAIN|EXEMPTCD|RR_IND|SEG_IND|\n",
            "+--------+--------+------+--------+-----------+---------+------+---------+------+--------+------+----------+--------+----------+----------+--------------------+------+-------+-----+-------+---------+--------------+-----+-----+----------+------+---------+----------------+--------------------+--------+------+-------+\n",
            "|    2017|       5|    D4|       P|   McMillan|    Jimmy|  null|        L|    16|       N|  null|      null|R0000161|      null| 2/26/2017|\tGlobal Office Se...|   LLC|      Y| null|   null|     null| Lawrenceville|   GA|30045|      null|  4910|    OTHER|Other: explntion|   Website & Hosting|    null|     N|      N|\n",
            "|    2017|       5|  2077|       P|      Green|   Rupert|  null|        H|    10|       F|  null|      null|R0000801|  8/3/2017|  8/3/2017| , British Petroleum|  OTHR|      Y| null|   null|     null|  Saint Albans|   NY|11412|   Unknown| 58.12|    PETIT| Petition Expns.|Gas gas for petition|    null|     N|      N|\n",
            "|    2017|       5|  2077|       P|      Green|   Rupert|  null|        H|    13|       F|  null|      null|R0000972| 9/30/2017| 9/30/2017| , British Petroleum|  OTHR|      Y| null|   null|     null|  Saint Albans|   NY|11412|   Unknown| 36.51|    OTHER|Other: explntion|      canvassing Gas|    null|     N|      N|\n",
            "|    2017|       5|  2077|       P|      Green|   Rupert|  null|        H|    14|       F|  null|      null|R0001087| 10/7/2017| 10/7/2017| , British Petroleum|  OTHR|      Y| null|   null|     null|  Saint Albans|   NY|11412|   Unknown| 35.99|    PETIT| Petition Expns.|        gas purchase|    null|     N|      N|\n",
            "|    2017|       5|  2077|       P|      Green|   Rupert|  null|        H|    14|       F|  null|      null|R0001291|10/18/2017|10/18/2017| , British Petroleum|  OTHR|      Y| null|   null|     null|  Saint Albans|   NY|11412|   Unknown|  41.7|    PETIT| Petition Expns.|        gas purchase|    null|     N|      N|\n",
            "|    2017|       5|  2077|       P|      Green|   Rupert|  null|        H|     9|       F|  null|      null|R0000461| 6/20/2017| 6/20/2017| , British Petroleum|  OTHR|      Y| null|   null|     null|  Saint Albans|   NY|11412|   Unknown| 59.57|    PETIT| Petition Expns.|Gas gas for petition|    null|     N|      N|\n",
            "|    2017|       5|  2077|       P|      Green|   Rupert|  null|        H|     9|       F|  null|      null|R0000494| 6/29/2017| 6/29/2017| , British Petroleum|  OTHR|      Y| null|   null|     null|  Saint Albans|   NY|11412|   Unknown| 52.18|    PETIT| Petition Expns.|    Gas for petition|    null|     N|      N|\n",
            "|    2017|       5|  1849|       P|  Concannon|   Joseph|     R|        K|    14|       F|  null|      null|R0001528|10/18/2017|10/18/2017|0007832 Queens Vi...|  CORP|      Y| null|   null|     null|Queens Village|   NY|11427|   Unknown|    25|    OTHER|Other: explntion|            Gas Card|    null|     N|      N|\n",
            "|    2017|       5|  1849|       P|  Concannon|   Joseph|     R|        K|    14|       F|  null|      null|R0001530|10/18/2017|10/18/2017|0007832 Queens Vi...|  CORP|      Y| null|   null|     null|Queens Village|   NY|11427|   Unknown|    25|    OTHER|Other: explntion|            Gas Card|    null|     N|      N|\n",
            "|    2017|       5|  1849|       P|  Concannon|   Joseph|     R|        K|    14|       F|  null|      null|R0001532|10/18/2017|10/18/2017|0007832 Queens Vi...|  CORP|      Y| null|   null|     null|Queens Village|   NY|11427|   Unknown|    25|    OTHER|Other: explntion|            Gas Card|    null|     N|      N|\n",
            "|    2017|       5|  1849|       P|  Concannon|   Joseph|     R|        K|    14|       F|  null|      null|R0001534|10/18/2017|10/18/2017|0007832 Queens Vi...|  CORP|      Y| null|   null|     null|Queens Village|   NY|11427|   Unknown|    25|    OTHER|Other: explntion|            Gas Card|    null|     N|      N|\n",
            "|    2017|       5|  1849|       P|  Concannon|   Joseph|     R|        K|    15|       F|  null|      null|R0001790| 11/2/2017| 11/2/2017|0007832 Queens Vi...|  CORP|      Y| null|   null|     null|Queens Village|   NY|11427|   Unknown| 32.76|    OTHER|Other: explntion|                 Gas|    null|     N|      N|\n",
            "|    2017|       5|  1930|       P|     Rivera|  Carlina|     L|        H|    14|       F|  null|      null|R0006756|10/15/2017|10/15/2017|   1&1 Internet Inc.|  CORP|      Y| null|   null|     null|  Chesterbrook|   PA|19087|   Unknown| 40.17|    OFFCE| Office Expenses|         Domain Host|    null|     N|      N|\n",
            "|    2017|       5|  1930|       P|     Rivera|  Carlina|     L|        H|     6|       F|  null|      null|R0001701|10/15/2016|10/15/2016|   1&1 Internet Inc.|  CORP|      Y| null|   null|     null|  Chesterbrook|   PA|19087|   Unknown| 20.17|    OFFCE| Office Expenses|         Domain Host|    null|     N|      N|\n",
            "|    2017|       5|  1930|       P|     Rivera|  Carlina|     L|        H|     6|       F|  null|      null|R0001989|11/15/2016|11/18/2016|   1&1 Internet Inc.|  CORP|      Y| null|   null|     null|  Chesterbrook|   PA|19087|   Unknown| 11.17|    OFFCE| Office Expenses|         Domain Host|    null|     N|      N|\n",
            "|    2017|       5|  1985|       P|    Beltzer|  Michael|  null|        H|     6|       F|  null|      null|R0000425| 12/8/2016|12/13/2016|   1&1 Internet Inc.|  CORP|      Y| null|   null|     null|  Chesterbrook|   PA|19087|   Unknown| 32.05|    PROFL|    Prof. Srvcs.|         Web Hosting|    null|     N|      N|\n",
            "|    2017|       5|  2009|       P|    Hormeku|   Mawuli|     K|        H|     9|       F|  null|      null|R0000933| 6/19/2017| 6/19/2017|       1-800-Flowers|  CORP|      Y| null|   null|     null|          null| null| null|   Unknown| 87.06|    OTHER|Other: explntion|               Gifts|    null|     N|      N|\n",
            "|    2017|       1|  1958|      NP|Massey, Jr.|     Paul|     J|        H|     8|       F|  null|      null|R0005483| 3/22/2017| 3/23/2017|    1-800Flowers.com|  CORP|      Y| null|   null|     null|   Carle Place|   NY|11514|   Unknown| 63.12|    OFFCE| Office Expenses|             Flowers|    null|     N|      N|\n",
            "|    2017|       1|  1958|      NP|Massey, Jr.|     Paul|     J|        H|     8|       F|  null|      null|R0005991|  4/6/2017| 4/10/2017|10 St. James Parking|  CORP|      Y| null|   null|     null|        Boston|   MA| 2116|   Unknown|    30|    FUNDR|     Fundraising|     Parking BOS 4/6|    null|     N|      N|\n",
            "|    2017|       1|   326|       P|  de Blasio|     Bill|  null|        P|    11|       F|  null|      null|R0080222| 7/21/2017| 8/14/2017|100 Chickens Prod...|  CORP|      Y| null|   null|     null|      Brooklyn|   NY|11201|   Unknown|518.72|    OFFCE| Office Expenses|           Utilities|    null|     N|      N|\n",
            "+--------+--------+------+--------+-----------+---------+------+---------+------+--------+------+----------+--------+----------+----------+--------------------+------+-------+-----+-------+---------+--------------+-----+-----+----------+------+---------+----------------+--------------------+--------+------+-------+\n",
            "only showing top 20 rows\n",
            "\n"
          ]
        }
      ]
    },
    {
      "cell_type": "code",
      "metadata": {
        "colab": {
          "base_uri": "https://localhost:8080/"
        },
        "id": "PauL98XATuOi",
        "outputId": "76b7fefd-7086-4ac8-c1c0-0023c5352c0b"
      },
      "source": [
        "df.columns"
      ],
      "execution_count": 5,
      "outputs": [
        {
          "output_type": "execute_result",
          "data": {
            "text/plain": [
              "['ELECTION',\n",
              " 'OFFICECD',\n",
              " 'CANDID',\n",
              " 'CANCLASS',\n",
              " 'CANDLAST',\n",
              " 'CANDFIRST',\n",
              " 'CANDMI',\n",
              " 'COMMITTEE',\n",
              " 'FILING',\n",
              " 'SCHEDULE',\n",
              " 'PAGENO',\n",
              " 'SEQUENCENO',\n",
              " 'REFNO',\n",
              " 'INV_DATE',\n",
              " 'DATE',\n",
              " 'NAME',\n",
              " 'C_CODE',\n",
              " 'ORG_IND',\n",
              " 'STRNO',\n",
              " 'STRNAME',\n",
              " 'APARTMENT',\n",
              " 'CITY',\n",
              " 'STATE',\n",
              " 'ZIP',\n",
              " 'PAY_METHOD',\n",
              " 'AMNT',\n",
              " 'PURPOSECD',\n",
              " 'PURPOSE',\n",
              " 'EXPLAIN',\n",
              " 'EXEMPTCD',\n",
              " 'RR_IND',\n",
              " 'SEG_IND']"
            ]
          },
          "metadata": {},
          "execution_count": 5
        }
      ]
    },
    {
      "cell_type": "code",
      "metadata": {
        "colab": {
          "base_uri": "https://localhost:8080/"
        },
        "id": "e2cRNc4wNFgt",
        "outputId": "ffa2c4ca-954c-4007-fd2f-5657cf1e9344"
      },
      "source": [
        "# Remove multiple columns\n",
        "list = ['CANDMI','COMMITTEE',\n",
        " 'FILING',\n",
        " 'SCHEDULE',\n",
        " 'PAGENO',\n",
        " 'SEQUENCENO',\n",
        " 'REFNO',\n",
        " 'INV_DATE',\n",
        " 'DATE',\n",
        " 'NAME',\n",
        " 'ORG_IND',\n",
        " 'STRNO',\n",
        " 'STRNAME',\n",
        " 'APARTMENT',\n",
        "  'EXPLAIN',\n",
        " 'EXEMPTCD',\n",
        " 'RR_IND',\n",
        " 'SEG_IND',\n",
        " 'PAY_METHOD'] \n",
        "df = df.drop(*list)\n",
        "df.show()"
      ],
      "execution_count": 6,
      "outputs": [
        {
          "output_type": "stream",
          "name": "stdout",
          "text": [
            "+--------+--------+------+--------+-----------+---------+------+--------------+-----+-----+------+---------+----------------+\n",
            "|ELECTION|OFFICECD|CANDID|CANCLASS|   CANDLAST|CANDFIRST|C_CODE|          CITY|STATE|  ZIP|  AMNT|PURPOSECD|         PURPOSE|\n",
            "+--------+--------+------+--------+-----------+---------+------+--------------+-----+-----+------+---------+----------------+\n",
            "|    2017|       5|    D4|       P|   McMillan|    Jimmy|   LLC| Lawrenceville|   GA|30045|  4910|    OTHER|Other: explntion|\n",
            "|    2017|       5|  2077|       P|      Green|   Rupert|  OTHR|  Saint Albans|   NY|11412| 58.12|    PETIT| Petition Expns.|\n",
            "|    2017|       5|  2077|       P|      Green|   Rupert|  OTHR|  Saint Albans|   NY|11412| 36.51|    OTHER|Other: explntion|\n",
            "|    2017|       5|  2077|       P|      Green|   Rupert|  OTHR|  Saint Albans|   NY|11412| 35.99|    PETIT| Petition Expns.|\n",
            "|    2017|       5|  2077|       P|      Green|   Rupert|  OTHR|  Saint Albans|   NY|11412|  41.7|    PETIT| Petition Expns.|\n",
            "|    2017|       5|  2077|       P|      Green|   Rupert|  OTHR|  Saint Albans|   NY|11412| 59.57|    PETIT| Petition Expns.|\n",
            "|    2017|       5|  2077|       P|      Green|   Rupert|  OTHR|  Saint Albans|   NY|11412| 52.18|    PETIT| Petition Expns.|\n",
            "|    2017|       5|  1849|       P|  Concannon|   Joseph|  CORP|Queens Village|   NY|11427|    25|    OTHER|Other: explntion|\n",
            "|    2017|       5|  1849|       P|  Concannon|   Joseph|  CORP|Queens Village|   NY|11427|    25|    OTHER|Other: explntion|\n",
            "|    2017|       5|  1849|       P|  Concannon|   Joseph|  CORP|Queens Village|   NY|11427|    25|    OTHER|Other: explntion|\n",
            "|    2017|       5|  1849|       P|  Concannon|   Joseph|  CORP|Queens Village|   NY|11427|    25|    OTHER|Other: explntion|\n",
            "|    2017|       5|  1849|       P|  Concannon|   Joseph|  CORP|Queens Village|   NY|11427| 32.76|    OTHER|Other: explntion|\n",
            "|    2017|       5|  1930|       P|     Rivera|  Carlina|  CORP|  Chesterbrook|   PA|19087| 40.17|    OFFCE| Office Expenses|\n",
            "|    2017|       5|  1930|       P|     Rivera|  Carlina|  CORP|  Chesterbrook|   PA|19087| 20.17|    OFFCE| Office Expenses|\n",
            "|    2017|       5|  1930|       P|     Rivera|  Carlina|  CORP|  Chesterbrook|   PA|19087| 11.17|    OFFCE| Office Expenses|\n",
            "|    2017|       5|  1985|       P|    Beltzer|  Michael|  CORP|  Chesterbrook|   PA|19087| 32.05|    PROFL|    Prof. Srvcs.|\n",
            "|    2017|       5|  2009|       P|    Hormeku|   Mawuli|  CORP|          null| null| null| 87.06|    OTHER|Other: explntion|\n",
            "|    2017|       1|  1958|      NP|Massey, Jr.|     Paul|  CORP|   Carle Place|   NY|11514| 63.12|    OFFCE| Office Expenses|\n",
            "|    2017|       1|  1958|      NP|Massey, Jr.|     Paul|  CORP|        Boston|   MA| 2116|    30|    FUNDR|     Fundraising|\n",
            "|    2017|       1|   326|       P|  de Blasio|     Bill|  CORP|      Brooklyn|   NY|11201|518.72|    OFFCE| Office Expenses|\n",
            "+--------+--------+------+--------+-----------+---------+------+--------------+-----+-----+------+---------+----------------+\n",
            "only showing top 20 rows\n",
            "\n"
          ]
        }
      ]
    },
    {
      "cell_type": "code",
      "metadata": {
        "id": "jQjgDTZeqqf1",
        "colab": {
          "base_uri": "https://localhost:8080/"
        },
        "outputId": "61f07235-c5ef-4427-ae62-f62d7165c6d7"
      },
      "source": [
        "#Combine the Candidate first and last name columns\n",
        "from pyspark.sql.functions import concat_ws\n",
        "df2 = df.withColumn(\"CandidateName\", concat_ws(\",\",\"CANDFIRST\",'CANDLAST'))\n",
        "df2.show()"
      ],
      "execution_count": 7,
      "outputs": [
        {
          "output_type": "stream",
          "name": "stdout",
          "text": [
            "+--------+--------+------+--------+-----------+---------+------+--------------+-----+-----+------+---------+----------------+----------------+\n",
            "|ELECTION|OFFICECD|CANDID|CANCLASS|   CANDLAST|CANDFIRST|C_CODE|          CITY|STATE|  ZIP|  AMNT|PURPOSECD|         PURPOSE|   CandidateName|\n",
            "+--------+--------+------+--------+-----------+---------+------+--------------+-----+-----+------+---------+----------------+----------------+\n",
            "|    2017|       5|    D4|       P|   McMillan|    Jimmy|   LLC| Lawrenceville|   GA|30045|  4910|    OTHER|Other: explntion|  Jimmy,McMillan|\n",
            "|    2017|       5|  2077|       P|      Green|   Rupert|  OTHR|  Saint Albans|   NY|11412| 58.12|    PETIT| Petition Expns.|    Rupert,Green|\n",
            "|    2017|       5|  2077|       P|      Green|   Rupert|  OTHR|  Saint Albans|   NY|11412| 36.51|    OTHER|Other: explntion|    Rupert,Green|\n",
            "|    2017|       5|  2077|       P|      Green|   Rupert|  OTHR|  Saint Albans|   NY|11412| 35.99|    PETIT| Petition Expns.|    Rupert,Green|\n",
            "|    2017|       5|  2077|       P|      Green|   Rupert|  OTHR|  Saint Albans|   NY|11412|  41.7|    PETIT| Petition Expns.|    Rupert,Green|\n",
            "|    2017|       5|  2077|       P|      Green|   Rupert|  OTHR|  Saint Albans|   NY|11412| 59.57|    PETIT| Petition Expns.|    Rupert,Green|\n",
            "|    2017|       5|  2077|       P|      Green|   Rupert|  OTHR|  Saint Albans|   NY|11412| 52.18|    PETIT| Petition Expns.|    Rupert,Green|\n",
            "|    2017|       5|  1849|       P|  Concannon|   Joseph|  CORP|Queens Village|   NY|11427|    25|    OTHER|Other: explntion|Joseph,Concannon|\n",
            "|    2017|       5|  1849|       P|  Concannon|   Joseph|  CORP|Queens Village|   NY|11427|    25|    OTHER|Other: explntion|Joseph,Concannon|\n",
            "|    2017|       5|  1849|       P|  Concannon|   Joseph|  CORP|Queens Village|   NY|11427|    25|    OTHER|Other: explntion|Joseph,Concannon|\n",
            "|    2017|       5|  1849|       P|  Concannon|   Joseph|  CORP|Queens Village|   NY|11427|    25|    OTHER|Other: explntion|Joseph,Concannon|\n",
            "|    2017|       5|  1849|       P|  Concannon|   Joseph|  CORP|Queens Village|   NY|11427| 32.76|    OTHER|Other: explntion|Joseph,Concannon|\n",
            "|    2017|       5|  1930|       P|     Rivera|  Carlina|  CORP|  Chesterbrook|   PA|19087| 40.17|    OFFCE| Office Expenses|  Carlina,Rivera|\n",
            "|    2017|       5|  1930|       P|     Rivera|  Carlina|  CORP|  Chesterbrook|   PA|19087| 20.17|    OFFCE| Office Expenses|  Carlina,Rivera|\n",
            "|    2017|       5|  1930|       P|     Rivera|  Carlina|  CORP|  Chesterbrook|   PA|19087| 11.17|    OFFCE| Office Expenses|  Carlina,Rivera|\n",
            "|    2017|       5|  1985|       P|    Beltzer|  Michael|  CORP|  Chesterbrook|   PA|19087| 32.05|    PROFL|    Prof. Srvcs.| Michael,Beltzer|\n",
            "|    2017|       5|  2009|       P|    Hormeku|   Mawuli|  CORP|          null| null| null| 87.06|    OTHER|Other: explntion|  Mawuli,Hormeku|\n",
            "|    2017|       1|  1958|      NP|Massey, Jr.|     Paul|  CORP|   Carle Place|   NY|11514| 63.12|    OFFCE| Office Expenses|Paul,Massey, Jr.|\n",
            "|    2017|       1|  1958|      NP|Massey, Jr.|     Paul|  CORP|        Boston|   MA| 2116|    30|    FUNDR|     Fundraising|Paul,Massey, Jr.|\n",
            "|    2017|       1|   326|       P|  de Blasio|     Bill|  CORP|      Brooklyn|   NY|11201|518.72|    OFFCE| Office Expenses|  Bill,de Blasio|\n",
            "+--------+--------+------+--------+-----------+---------+------+--------------+-----+-----+------+---------+----------------+----------------+\n",
            "only showing top 20 rows\n",
            "\n"
          ]
        }
      ]
    },
    {
      "cell_type": "code",
      "metadata": {
        "id": "qGVZ3I4hz1x6"
      },
      "source": [
        "#Rearrange column order\n",
        "df3=df2.select('ELECTION','OFFICECD', 'CANDID', 'CANCLASS', 'CandidateName', 'CANDLAST', 'CANDFIRST','C_CODE', 'CITY', 'STATE',  'ZIP', 'AMNT', 'PURPOSECD', 'PURPOSE')"
      ],
      "execution_count": 8,
      "outputs": []
    },
    {
      "cell_type": "code",
      "metadata": {
        "colab": {
          "base_uri": "https://localhost:8080/"
        },
        "id": "LAcxTotHz2t-",
        "outputId": "fdf40c36-e82c-4af7-ab2a-253584437622"
      },
      "source": [
        "#Drop OFFICECD and CANCLASS\n",
        "list1 = ['CANDLAST', 'CANDFIRST'] \n",
        "df4 = df3.drop(*list1)\n",
        "df4.show()"
      ],
      "execution_count": 9,
      "outputs": [
        {
          "output_type": "stream",
          "name": "stdout",
          "text": [
            "+--------+--------+------+--------+----------------+------+--------------+-----+-----+------+---------+----------------+\n",
            "|ELECTION|OFFICECD|CANDID|CANCLASS|   CandidateName|C_CODE|          CITY|STATE|  ZIP|  AMNT|PURPOSECD|         PURPOSE|\n",
            "+--------+--------+------+--------+----------------+------+--------------+-----+-----+------+---------+----------------+\n",
            "|    2017|       5|    D4|       P|  Jimmy,McMillan|   LLC| Lawrenceville|   GA|30045|  4910|    OTHER|Other: explntion|\n",
            "|    2017|       5|  2077|       P|    Rupert,Green|  OTHR|  Saint Albans|   NY|11412| 58.12|    PETIT| Petition Expns.|\n",
            "|    2017|       5|  2077|       P|    Rupert,Green|  OTHR|  Saint Albans|   NY|11412| 36.51|    OTHER|Other: explntion|\n",
            "|    2017|       5|  2077|       P|    Rupert,Green|  OTHR|  Saint Albans|   NY|11412| 35.99|    PETIT| Petition Expns.|\n",
            "|    2017|       5|  2077|       P|    Rupert,Green|  OTHR|  Saint Albans|   NY|11412|  41.7|    PETIT| Petition Expns.|\n",
            "|    2017|       5|  2077|       P|    Rupert,Green|  OTHR|  Saint Albans|   NY|11412| 59.57|    PETIT| Petition Expns.|\n",
            "|    2017|       5|  2077|       P|    Rupert,Green|  OTHR|  Saint Albans|   NY|11412| 52.18|    PETIT| Petition Expns.|\n",
            "|    2017|       5|  1849|       P|Joseph,Concannon|  CORP|Queens Village|   NY|11427|    25|    OTHER|Other: explntion|\n",
            "|    2017|       5|  1849|       P|Joseph,Concannon|  CORP|Queens Village|   NY|11427|    25|    OTHER|Other: explntion|\n",
            "|    2017|       5|  1849|       P|Joseph,Concannon|  CORP|Queens Village|   NY|11427|    25|    OTHER|Other: explntion|\n",
            "|    2017|       5|  1849|       P|Joseph,Concannon|  CORP|Queens Village|   NY|11427|    25|    OTHER|Other: explntion|\n",
            "|    2017|       5|  1849|       P|Joseph,Concannon|  CORP|Queens Village|   NY|11427| 32.76|    OTHER|Other: explntion|\n",
            "|    2017|       5|  1930|       P|  Carlina,Rivera|  CORP|  Chesterbrook|   PA|19087| 40.17|    OFFCE| Office Expenses|\n",
            "|    2017|       5|  1930|       P|  Carlina,Rivera|  CORP|  Chesterbrook|   PA|19087| 20.17|    OFFCE| Office Expenses|\n",
            "|    2017|       5|  1930|       P|  Carlina,Rivera|  CORP|  Chesterbrook|   PA|19087| 11.17|    OFFCE| Office Expenses|\n",
            "|    2017|       5|  1985|       P| Michael,Beltzer|  CORP|  Chesterbrook|   PA|19087| 32.05|    PROFL|    Prof. Srvcs.|\n",
            "|    2017|       5|  2009|       P|  Mawuli,Hormeku|  CORP|          null| null| null| 87.06|    OTHER|Other: explntion|\n",
            "|    2017|       1|  1958|      NP|Paul,Massey, Jr.|  CORP|   Carle Place|   NY|11514| 63.12|    OFFCE| Office Expenses|\n",
            "|    2017|       1|  1958|      NP|Paul,Massey, Jr.|  CORP|        Boston|   MA| 2116|    30|    FUNDR|     Fundraising|\n",
            "|    2017|       1|   326|       P|  Bill,de Blasio|  CORP|      Brooklyn|   NY|11201|518.72|    OFFCE| Office Expenses|\n",
            "+--------+--------+------+--------+----------------+------+--------------+-----+-----+------+---------+----------------+\n",
            "only showing top 20 rows\n",
            "\n"
          ]
        }
      ]
    },
    {
      "cell_type": "code",
      "metadata": {
        "colab": {
          "base_uri": "https://localhost:8080/"
        },
        "id": "g5aiRN5RNFjB",
        "outputId": "68c5a914-d9c1-4386-e667-af51774f6f7a"
      },
      "source": [
        "# check data types\n",
        "df4.dtypes"
      ],
      "execution_count": 10,
      "outputs": [
        {
          "output_type": "execute_result",
          "data": {
            "text/plain": [
              "[('ELECTION', 'string'),\n",
              " ('OFFICECD', 'string'),\n",
              " ('CANDID', 'string'),\n",
              " ('CANCLASS', 'string'),\n",
              " ('CandidateName', 'string'),\n",
              " ('C_CODE', 'string'),\n",
              " ('CITY', 'string'),\n",
              " ('STATE', 'string'),\n",
              " ('ZIP', 'string'),\n",
              " ('AMNT', 'string'),\n",
              " ('PURPOSECD', 'string'),\n",
              " ('PURPOSE', 'string')]"
            ]
          },
          "metadata": {},
          "execution_count": 10
        }
      ]
    },
    {
      "cell_type": "code",
      "metadata": {
        "colab": {
          "base_uri": "https://localhost:8080/"
        },
        "id": "sA6AAG4zYxSL",
        "outputId": "1fface84-c183-4d43-fcb9-4351f70c8ba1"
      },
      "source": [
        "df4.columns"
      ],
      "execution_count": 11,
      "outputs": [
        {
          "output_type": "execute_result",
          "data": {
            "text/plain": [
              "['ELECTION',\n",
              " 'OFFICECD',\n",
              " 'CANDID',\n",
              " 'CANCLASS',\n",
              " 'CandidateName',\n",
              " 'C_CODE',\n",
              " 'CITY',\n",
              " 'STATE',\n",
              " 'ZIP',\n",
              " 'AMNT',\n",
              " 'PURPOSECD',\n",
              " 'PURPOSE']"
            ]
          },
          "metadata": {},
          "execution_count": 11
        }
      ]
    },
    {
      "cell_type": "code",
      "metadata": {
        "colab": {
          "base_uri": "https://localhost:8080/"
        },
        "id": "tIkq3wdqOzWV",
        "outputId": "6ddf35a7-1dd7-4478-f006-e35bdd996f59"
      },
      "source": [
        "#Change column names\n",
        "df5 = df4 \\\n",
        ".withColumnRenamed(\"ELECTION\", \"Election\") \\\n",
        ".withColumnRenamed(\"CANDID\", \"CandidateID\") \\\n",
        ".withColumnRenamed(\"C_CODE\", \"ContributionType\") \\\n",
        ".withColumnRenamed(\"CITY\", \"City\") \\\n",
        ".withColumnRenamed(\"STATE\", \"State\") \\\n",
        ".withColumnRenamed(\"ZIP\", \"ZipCode\") \\\n",
        ".withColumnRenamed(\"AMNT\", \"Amount\") \\\n",
        ".withColumnRenamed(\"PURPOSECD\", \"PurposeCode\") \\\n",
        ".withColumnRenamed(\"PURPOSE\", \"Purpose\") \n",
        "\n",
        "df5.printSchema()"
      ],
      "execution_count": 12,
      "outputs": [
        {
          "output_type": "stream",
          "name": "stdout",
          "text": [
            "root\n",
            " |-- Election: string (nullable = true)\n",
            " |-- OFFICECD: string (nullable = true)\n",
            " |-- CandidateID: string (nullable = true)\n",
            " |-- CANCLASS: string (nullable = true)\n",
            " |-- CandidateName: string (nullable = false)\n",
            " |-- ContributionType: string (nullable = true)\n",
            " |-- City: string (nullable = true)\n",
            " |-- State: string (nullable = true)\n",
            " |-- ZipCode: string (nullable = true)\n",
            " |-- Amount: string (nullable = true)\n",
            " |-- PurposeCode: string (nullable = true)\n",
            " |-- Purpose: string (nullable = true)\n",
            "\n"
          ]
        }
      ]
    },
    {
      "cell_type": "code",
      "metadata": {
        "colab": {
          "base_uri": "https://localhost:8080/"
        },
        "id": "SyWn9dANSi5l",
        "outputId": "cc538e39-236e-42d3-9980-89d5dcdff64a"
      },
      "source": [
        "# changing datatypes of columns\n",
        "df6 = df5 \\\n",
        "  .withColumn(\"Election\",df5[\"Election\"].cast(\"Integer\")) \\\n",
        "  .withColumn(\"OFFICECD\", df5[\"OFFICECD\"].cast(\"Integer\")) \\\n",
        "  .withColumn(\"CandidateID\", df5[\"CandidateID\"].cast(\"Integer\")) \\\n",
        "  .withColumn(\"ZipCode\", df5[\"ZipCode\"].cast(\"Integer\")) \\\n",
        "  .withColumn(\"Amount\", df5[\"Amount\"].cast(\"Float\")) \\\n",
        "  \n",
        "df6.printSchema()"
      ],
      "execution_count": 13,
      "outputs": [
        {
          "output_type": "stream",
          "name": "stdout",
          "text": [
            "root\n",
            " |-- Election: integer (nullable = true)\n",
            " |-- OFFICECD: integer (nullable = true)\n",
            " |-- CandidateID: integer (nullable = true)\n",
            " |-- CANCLASS: string (nullable = true)\n",
            " |-- CandidateName: string (nullable = false)\n",
            " |-- ContributionType: string (nullable = true)\n",
            " |-- City: string (nullable = true)\n",
            " |-- State: string (nullable = true)\n",
            " |-- ZipCode: integer (nullable = true)\n",
            " |-- Amount: float (nullable = true)\n",
            " |-- PurposeCode: string (nullable = true)\n",
            " |-- Purpose: string (nullable = true)\n",
            "\n"
          ]
        }
      ]
    },
    {
      "cell_type": "code",
      "metadata": {
        "id": "h1aCPuV3WPwC"
      },
      "source": [
        "#Change vaule name in ContributerType\n",
        "from pyspark.sql.functions import regexp_replace\n",
        "df7 = df6.withColumn(\"ContributionType\", regexp_replace(\"ContributionType\", 'CAN', 'Candidate')) \\\n",
        "  .withColumn('ContributionType', regexp_replace(\"ContributionType\", 'CORP', 'Corporation')) \\\n",
        "  .withColumn('ContributionType', regexp_replace(\"ContributionType\", 'EMPO', 'Labor Union')) \\\n",
        "  .withColumn(\"ContributionType\", regexp_replace(\"ContributionType\", 'FAM', 'Candidate Family')) \\\n",
        "  .withColumn(\"ContributionType\", regexp_replace(\"ContributionType\", 'IND', 'Individual')) \\\n",
        "  .withColumn(\"ContributionType\", regexp_replace(\"ContributionType\", 'PCOMZ', 'Party Committee')) \\\n",
        "  .withColumn(\"ContributionType\", regexp_replace(\"ContributionType\", 'ORG', 'Orgainization')) \\\n",
        "  .withColumn(\"ContributionType\", regexp_replace(\"ContributionType\", 'LLC', 'Limited Liability Company')) \\\n",
        "  .withColumn(\"ContributionType\", regexp_replace(\"ContributionType\", 'PCOMP', 'Political Action Committee')) \\\n",
        "  .withColumn(\"ContributionType\", regexp_replace(\"ContributionType\", 'SPO', ' Candidates Spouse')) \\\n",
        "  .withColumn(\"ContributionType\", regexp_replace(\"ContributionType\", 'OTHR', 'Other')) \\\n",
        "  .withColumn(\"ContributionType\", regexp_replace(\"ContributionType\", 'PCOMC', 'Candidate Committee')) \\\n",
        "  .withColumn(\"ContributionType\", regexp_replace(\"ContributionType\", 'PART', 'Individual')) \\\n"
      ],
      "execution_count": 14,
      "outputs": []
    },
    {
      "cell_type": "code",
      "metadata": {
        "id": "fy4JAvyQWRl7"
      },
      "source": [
        "#Change Purpose Code value names\n",
        "from pyspark.sql.functions import regexp_replace\n",
        "df8 = df7.withColumn('PurposeCode', regexp_replace('PurposeCode', 'ADVAN', 'Advance Repayment')) \\\n",
        "  .withColumn('PurposeCode', regexp_replace('PurposeCode', 'CMAIL', 'Campaign Mail')) \\\n",
        "  .withColumn('PurposeCode', regexp_replace('PurposeCode', 'CMISC', 'Miscellaneous')) \\\n",
        "  .withColumn('PurposeCode', regexp_replace('PurposeCode', 'CNTRB', 'Political Contributions')) \\\n",
        "  .withColumn('PurposeCode', regexp_replace('PurposeCode', 'COMPL', 'Compliance Cost')) \\\n",
        "  .withColumn('PurposeCode', regexp_replace('PurposeCode', 'CONSL', 'Campaign Consultants')) \\\n",
        "  .withColumn('PurposeCode', regexp_replace('PurposeCode', 'CONSV', 'Constituent Services')) \\\n",
        "  .withColumn('PurposeCode', regexp_replace('PurposeCode', 'FUNDR', 'Fundraising')) \\\n",
        "  .withColumn('PurposeCode', regexp_replace('PurposeCode', 'INTER', 'Interest Expenses')) \\\n",
        "  .withColumn('PurposeCode', regexp_replace('PurposeCode', 'LITER', 'Campaign Literature')) \\\n",
        "  .withColumn('PurposeCode', regexp_replace('PurposeCode', 'NQUAL', 'Non Qualified Expenditures')) \\\n",
        "  .withColumn('PurposeCode', regexp_replace('PurposeCode', 'OFFCE', 'Office Expenses')) \\\n",
        "  .withColumn('PurposeCode', regexp_replace('PurposeCode', 'OTHER', 'Other')) \\\n",
        "  .withColumn('PurposeCode', regexp_replace('PurposeCode', 'PETIT', 'Petition Expenses')) \\\n",
        "  .withColumn('PurposeCode', regexp_replace('PurposeCode', 'POLLS', 'Polling Costs')) \\\n",
        "  .withColumn('PurposeCode', regexp_replace('PurposeCode', 'POSTA', 'Postal Expenses')) \\\n",
        "  .withColumn('PurposeCode', regexp_replace('PurposeCode', 'PRINT', 'Printing Expenses')) \\\n",
        "  .withColumn('PurposeCode', regexp_replace('PurposeCode', 'PROFL', 'Professional Services')) \\\n",
        "  .withColumn('PurposeCode', regexp_replace('PurposeCode', 'RADIO', 'Radio Ads')) \\\n",
        "  .withColumn('PurposeCode', regexp_replace('PurposeCode', 'RENTO', 'Office Rent')) \\\n",
        "  .withColumn('PurposeCode', regexp_replace('PurposeCode', 'TVADS', 'Television Ads')) \\\n",
        "  .withColumn('PurposeCode', regexp_replace('PurposeCode', 'UNKN', 'Unknown')) \\\n",
        "  .withColumn('PurposeCode', regexp_replace('PurposeCode', 'VOTER', 'Voter Registration')) \\\n",
        "  .withColumn('PurposeCode', regexp_replace('PurposeCode', 'WAGES', 'Campaign Workers Salaries')) \\"
      ],
      "execution_count": 15,
      "outputs": []
    },
    {
      "cell_type": "code",
      "metadata": {
        "id": "fM_kC3ViNFqN",
        "colab": {
          "base_uri": "https://localhost:8080/"
        },
        "outputId": "f1268d85-279f-4c79-bead-304c8ef6207c"
      },
      "source": [
        "#Call only Mayor (1) and particaptes (P) within Dataframe\n",
        "df9 = df8.filter((df6.OFFICECD==\"1\") & (df8.CANCLASS==\"P\"))\n",
        "df9.show()"
      ],
      "execution_count": 16,
      "outputs": [
        {
          "output_type": "stream",
          "name": "stdout",
          "text": [
            "+--------+--------+-----------+--------+------------------+----------------+----------------+-----+-------+-------+--------------------+----------------+\n",
            "|Election|OFFICECD|CandidateID|CANCLASS|     CandidateName|ContributionType|            City|State|ZipCode| Amount|         PurposeCode|         Purpose|\n",
            "+--------+--------+-----------+--------+------------------+----------------+----------------+-----+-------+-------+--------------------+----------------+\n",
            "|    2017|       1|        326|       P|    Bill,de Blasio|     Corporation|        Brooklyn|   NY|  11201| 518.72|     Office Expenses| Office Expenses|\n",
            "|    2017|       1|        326|       P|    Bill,de Blasio|     Corporation|        Brooklyn|   NY|  11201|1041.93|     Office Expenses| Office Expenses|\n",
            "|    2017|       1|        326|       P|    Bill,de Blasio|     Corporation|        Brooklyn|   NY|  11201| 1500.0|         Office Rent|     Office Rent|\n",
            "|    2017|       1|       2055|       P|Roque,De La Fuente|     Corporation|        New York|   NY|  10025| 6000.0|Professional Serv...|    Prof. Srvcs.|\n",
            "|    2017|       1|       2055|       P|Roque,De La Fuente|     Corporation|        New York|   NY|  10025| 6000.0|Professional Serv...|    Prof. Srvcs.|\n",
            "|    2017|       1|        326|       P|    Bill,de Blasio|     Corporation|        New York|   NY|  10128| 262.56|               Other|Other: explntion|\n",
            "|    2017|       1|        326|       P|    Bill,de Blasio|     Corporation|        Brooklyn|   NY|  11217|  800.0|         Fundraising|     Fundraising|\n",
            "|    2017|       1|        326|       P|    Bill,de Blasio|     Corporation|Long Island City|   NY|  11101| 1000.0|         Fundraising|     Fundraising|\n",
            "|    2017|       1|        326|       P|    Bill,de Blasio|     Corporation|        New York|   NY|  10016| 938.07|               Other|Other: explntion|\n",
            "|    2017|       1|        326|       P|    Bill,de Blasio|     Corporation|        New York|   NY|  10040|  21.33|               Other|Other: explntion|\n",
            "|    2017|       1|        326|       P|    Bill,de Blasio|     Corporation|        New York|   NY|  10040| 2000.0|         Fundraising|     Fundraising|\n",
            "|    2017|       1|       2054|       P|      Robert,Gangi|     Corporation|        New York|   NY|  10024| 780.35| Campaign Literature|     Campgn Lit.|\n",
            "|    2017|       1|       2054|       P|      Robert,Gangi|     Corporation|        New York|   NY|  10024| 887.33|               Other|Other: explntion|\n",
            "|    2017|       1|       2054|       P|      Robert,Gangi|     Corporation|        New York|   NY|  10024|  26.13|               Other|Other: explntion|\n",
            "|    2017|       1|       2054|       P|      Robert,Gangi|     Corporation|        New York|   NY|  10024|  915.0| Campaign Literature|     Campgn Lit.|\n",
            "|    2017|       1|       2054|       P|      Robert,Gangi|     Corporation|        New York|   NY|  10024|  437.0| Campaign Literature|     Campgn Lit.|\n",
            "|    2017|       1|       2054|       P|      Robert,Gangi|     Corporation|        New York|   NY|  10024|  330.0| Campaign Literature|     Campgn Lit.|\n",
            "|    2017|       1|       2054|       P|      Robert,Gangi|     Corporation|        New York|   NY|  10024|1330.45| Campaign Literature|     Campgn Lit.|\n",
            "|    2017|       1|        326|       P|    Bill,de Blasio|     Corporation|        New York|   NY|  10010|  63.35|               Other|Other: explntion|\n",
            "|    2017|       1|        326|       P|    Bill,de Blasio|     Corporation|        Brooklyn|   NY|  11205| 807.85|               Other|Other: explntion|\n",
            "+--------+--------+-----------+--------+------------------+----------------+----------------+-----+-------+-------+--------------------+----------------+\n",
            "only showing top 20 rows\n",
            "\n"
          ]
        }
      ]
    },
    {
      "cell_type": "code",
      "metadata": {
        "id": "WmdLbDEzQAyc",
        "colab": {
          "base_uri": "https://localhost:8080/"
        },
        "outputId": "f66053e7-70a9-4038-86b7-08b2b00ccf00"
      },
      "source": [
        "#Check the above dataframe to make sure only unique values between the OFFICECD is 1 \n",
        "df9.select('OFFICECD').distinct().show()"
      ],
      "execution_count": 17,
      "outputs": [
        {
          "output_type": "stream",
          "name": "stdout",
          "text": [
            "+--------+\n",
            "|OFFICECD|\n",
            "+--------+\n",
            "|       1|\n",
            "+--------+\n",
            "\n"
          ]
        }
      ]
    },
    {
      "cell_type": "code",
      "metadata": {
        "id": "4kbDs5ApZtEu",
        "colab": {
          "base_uri": "https://localhost:8080/"
        },
        "outputId": "29892004-332a-42dd-937b-2f1bffe6ae3f"
      },
      "source": [
        "#Drop OFFICECD and CANCLASS\n",
        "list2 = ['OFFICECD', 'CANCLASS'] \n",
        "Expenditures_2017_df = df9.drop(*list2)\n",
        "Expenditures_2017_df.show()"
      ],
      "execution_count": 18,
      "outputs": [
        {
          "output_type": "stream",
          "name": "stdout",
          "text": [
            "+--------+-----------+------------------+----------------+----------------+-----+-------+-------+--------------------+----------------+\n",
            "|Election|CandidateID|     CandidateName|ContributionType|            City|State|ZipCode| Amount|         PurposeCode|         Purpose|\n",
            "+--------+-----------+------------------+----------------+----------------+-----+-------+-------+--------------------+----------------+\n",
            "|    2017|        326|    Bill,de Blasio|     Corporation|        Brooklyn|   NY|  11201| 518.72|     Office Expenses| Office Expenses|\n",
            "|    2017|        326|    Bill,de Blasio|     Corporation|        Brooklyn|   NY|  11201|1041.93|     Office Expenses| Office Expenses|\n",
            "|    2017|        326|    Bill,de Blasio|     Corporation|        Brooklyn|   NY|  11201| 1500.0|         Office Rent|     Office Rent|\n",
            "|    2017|       2055|Roque,De La Fuente|     Corporation|        New York|   NY|  10025| 6000.0|Professional Serv...|    Prof. Srvcs.|\n",
            "|    2017|       2055|Roque,De La Fuente|     Corporation|        New York|   NY|  10025| 6000.0|Professional Serv...|    Prof. Srvcs.|\n",
            "|    2017|        326|    Bill,de Blasio|     Corporation|        New York|   NY|  10128| 262.56|               Other|Other: explntion|\n",
            "|    2017|        326|    Bill,de Blasio|     Corporation|        Brooklyn|   NY|  11217|  800.0|         Fundraising|     Fundraising|\n",
            "|    2017|        326|    Bill,de Blasio|     Corporation|Long Island City|   NY|  11101| 1000.0|         Fundraising|     Fundraising|\n",
            "|    2017|        326|    Bill,de Blasio|     Corporation|        New York|   NY|  10016| 938.07|               Other|Other: explntion|\n",
            "|    2017|        326|    Bill,de Blasio|     Corporation|        New York|   NY|  10040|  21.33|               Other|Other: explntion|\n",
            "|    2017|        326|    Bill,de Blasio|     Corporation|        New York|   NY|  10040| 2000.0|         Fundraising|     Fundraising|\n",
            "|    2017|       2054|      Robert,Gangi|     Corporation|        New York|   NY|  10024| 780.35| Campaign Literature|     Campgn Lit.|\n",
            "|    2017|       2054|      Robert,Gangi|     Corporation|        New York|   NY|  10024| 887.33|               Other|Other: explntion|\n",
            "|    2017|       2054|      Robert,Gangi|     Corporation|        New York|   NY|  10024|  26.13|               Other|Other: explntion|\n",
            "|    2017|       2054|      Robert,Gangi|     Corporation|        New York|   NY|  10024|  915.0| Campaign Literature|     Campgn Lit.|\n",
            "|    2017|       2054|      Robert,Gangi|     Corporation|        New York|   NY|  10024|  437.0| Campaign Literature|     Campgn Lit.|\n",
            "|    2017|       2054|      Robert,Gangi|     Corporation|        New York|   NY|  10024|  330.0| Campaign Literature|     Campgn Lit.|\n",
            "|    2017|       2054|      Robert,Gangi|     Corporation|        New York|   NY|  10024|1330.45| Campaign Literature|     Campgn Lit.|\n",
            "|    2017|        326|    Bill,de Blasio|     Corporation|        New York|   NY|  10010|  63.35|               Other|Other: explntion|\n",
            "|    2017|        326|    Bill,de Blasio|     Corporation|        Brooklyn|   NY|  11205| 807.85|               Other|Other: explntion|\n",
            "+--------+-----------+------------------+----------------+----------------+-----+-------+-------+--------------------+----------------+\n",
            "only showing top 20 rows\n",
            "\n"
          ]
        }
      ]
    },
    {
      "cell_type": "code",
      "metadata": {
        "id": "jKdRMcW-9mtO"
      },
      "source": [
        "#Export to new CSV\n",
        "#Expenditures_2017_df.toPandas().to_csv(\"Clean_Expenditures_2017.csv\", header=True)"
      ],
      "execution_count": 19,
      "outputs": []
    },
    {
      "cell_type": "code",
      "metadata": {
        "id": "0xHPGZ5gcKff"
      },
      "source": [
        "# Store environmental variable\n",
        "from getpass import getpass\n",
        "#Configure settings for RDS\n",
        "mode = \"append\"\n",
        "jdbc_url=\"jdbc:postgresql://database-final.cjdbapst3wjf.us-east-1.rds.amazonaws.com:5432/postgres\"\n",
        "config = {\"user\":\"postgres\",\n",
        "          \"password\": \"*****\",\n",
        "          \"driver\":\"org.postgresql.Driver\"}"
      ],
      "execution_count": 20,
      "outputs": []
    },
    {
      "cell_type": "code",
      "metadata": {
        "id": "7BSEgJlTcLrD",
        "colab": {
          "base_uri": "https://localhost:8080/",
          "height": 1000
        },
        "outputId": "53fce282-ba73-4565-ada2-2851a6959d3c"
      },
      "source": [
        "# Write DataFrame to active_user table in RDS\n",
        "Expenditures_2017_df.write.jdbc(url=jdbc_url, table='expenditures_2017', mode=mode, properties=config)"
      ],
      "execution_count": 21,
      "outputs": [
        {
          "output_type": "error",
          "ename": "Py4JJavaError",
          "evalue": "ignored",
          "traceback": [
            "\u001b[0;31m---------------------------------------------------------------------------\u001b[0m",
            "\u001b[0;31mPy4JJavaError\u001b[0m                             Traceback (most recent call last)",
            "\u001b[0;32m<ipython-input-21-419ff612fae8>\u001b[0m in \u001b[0;36m<module>\u001b[0;34m()\u001b[0m\n\u001b[1;32m      1\u001b[0m \u001b[0;31m# Write DataFrame to active_user table in RDS\u001b[0m\u001b[0;34m\u001b[0m\u001b[0;34m\u001b[0m\u001b[0;34m\u001b[0m\u001b[0m\n\u001b[0;32m----> 2\u001b[0;31m \u001b[0mExpenditures_2017_df\u001b[0m\u001b[0;34m.\u001b[0m\u001b[0mwrite\u001b[0m\u001b[0;34m.\u001b[0m\u001b[0mjdbc\u001b[0m\u001b[0;34m(\u001b[0m\u001b[0murl\u001b[0m\u001b[0;34m=\u001b[0m\u001b[0mjdbc_url\u001b[0m\u001b[0;34m,\u001b[0m \u001b[0mtable\u001b[0m\u001b[0;34m=\u001b[0m\u001b[0;34m'expenditures_2017'\u001b[0m\u001b[0;34m,\u001b[0m \u001b[0mmode\u001b[0m\u001b[0;34m=\u001b[0m\u001b[0mmode\u001b[0m\u001b[0;34m,\u001b[0m \u001b[0mproperties\u001b[0m\u001b[0;34m=\u001b[0m\u001b[0mconfig\u001b[0m\u001b[0;34m)\u001b[0m\u001b[0;34m\u001b[0m\u001b[0;34m\u001b[0m\u001b[0m\n\u001b[0m",
            "\u001b[0;32m/content/spark-3.0.3-bin-hadoop2.7/python/pyspark/sql/readwriter.py\u001b[0m in \u001b[0;36mjdbc\u001b[0;34m(self, url, table, mode, properties)\u001b[0m\n\u001b[1;32m   1083\u001b[0m         \u001b[0;32mfor\u001b[0m \u001b[0mk\u001b[0m \u001b[0;32min\u001b[0m \u001b[0mproperties\u001b[0m\u001b[0;34m:\u001b[0m\u001b[0;34m\u001b[0m\u001b[0;34m\u001b[0m\u001b[0m\n\u001b[1;32m   1084\u001b[0m             \u001b[0mjprop\u001b[0m\u001b[0;34m.\u001b[0m\u001b[0msetProperty\u001b[0m\u001b[0;34m(\u001b[0m\u001b[0mk\u001b[0m\u001b[0;34m,\u001b[0m \u001b[0mproperties\u001b[0m\u001b[0;34m[\u001b[0m\u001b[0mk\u001b[0m\u001b[0;34m]\u001b[0m\u001b[0;34m)\u001b[0m\u001b[0;34m\u001b[0m\u001b[0;34m\u001b[0m\u001b[0m\n\u001b[0;32m-> 1085\u001b[0;31m         \u001b[0mself\u001b[0m\u001b[0;34m.\u001b[0m\u001b[0mmode\u001b[0m\u001b[0;34m(\u001b[0m\u001b[0mmode\u001b[0m\u001b[0;34m)\u001b[0m\u001b[0;34m.\u001b[0m\u001b[0m_jwrite\u001b[0m\u001b[0;34m.\u001b[0m\u001b[0mjdbc\u001b[0m\u001b[0;34m(\u001b[0m\u001b[0murl\u001b[0m\u001b[0;34m,\u001b[0m \u001b[0mtable\u001b[0m\u001b[0;34m,\u001b[0m \u001b[0mjprop\u001b[0m\u001b[0;34m)\u001b[0m\u001b[0;34m\u001b[0m\u001b[0;34m\u001b[0m\u001b[0m\n\u001b[0m\u001b[1;32m   1086\u001b[0m \u001b[0;34m\u001b[0m\u001b[0m\n\u001b[1;32m   1087\u001b[0m \u001b[0;34m\u001b[0m\u001b[0m\n",
            "\u001b[0;32m/content/spark-3.0.3-bin-hadoop2.7/python/lib/py4j-0.10.9-src.zip/py4j/java_gateway.py\u001b[0m in \u001b[0;36m__call__\u001b[0;34m(self, *args)\u001b[0m\n\u001b[1;32m   1303\u001b[0m         \u001b[0manswer\u001b[0m \u001b[0;34m=\u001b[0m \u001b[0mself\u001b[0m\u001b[0;34m.\u001b[0m\u001b[0mgateway_client\u001b[0m\u001b[0;34m.\u001b[0m\u001b[0msend_command\u001b[0m\u001b[0;34m(\u001b[0m\u001b[0mcommand\u001b[0m\u001b[0;34m)\u001b[0m\u001b[0;34m\u001b[0m\u001b[0;34m\u001b[0m\u001b[0m\n\u001b[1;32m   1304\u001b[0m         return_value = get_return_value(\n\u001b[0;32m-> 1305\u001b[0;31m             answer, self.gateway_client, self.target_id, self.name)\n\u001b[0m\u001b[1;32m   1306\u001b[0m \u001b[0;34m\u001b[0m\u001b[0m\n\u001b[1;32m   1307\u001b[0m         \u001b[0;32mfor\u001b[0m \u001b[0mtemp_arg\u001b[0m \u001b[0;32min\u001b[0m \u001b[0mtemp_args\u001b[0m\u001b[0;34m:\u001b[0m\u001b[0;34m\u001b[0m\u001b[0;34m\u001b[0m\u001b[0m\n",
            "\u001b[0;32m/content/spark-3.0.3-bin-hadoop2.7/python/pyspark/sql/utils.py\u001b[0m in \u001b[0;36mdeco\u001b[0;34m(*a, **kw)\u001b[0m\n\u001b[1;32m    126\u001b[0m     \u001b[0;32mdef\u001b[0m \u001b[0mdeco\u001b[0m\u001b[0;34m(\u001b[0m\u001b[0;34m*\u001b[0m\u001b[0ma\u001b[0m\u001b[0;34m,\u001b[0m \u001b[0;34m**\u001b[0m\u001b[0mkw\u001b[0m\u001b[0;34m)\u001b[0m\u001b[0;34m:\u001b[0m\u001b[0;34m\u001b[0m\u001b[0;34m\u001b[0m\u001b[0m\n\u001b[1;32m    127\u001b[0m         \u001b[0;32mtry\u001b[0m\u001b[0;34m:\u001b[0m\u001b[0;34m\u001b[0m\u001b[0;34m\u001b[0m\u001b[0m\n\u001b[0;32m--> 128\u001b[0;31m             \u001b[0;32mreturn\u001b[0m \u001b[0mf\u001b[0m\u001b[0;34m(\u001b[0m\u001b[0;34m*\u001b[0m\u001b[0ma\u001b[0m\u001b[0;34m,\u001b[0m \u001b[0;34m**\u001b[0m\u001b[0mkw\u001b[0m\u001b[0;34m)\u001b[0m\u001b[0;34m\u001b[0m\u001b[0;34m\u001b[0m\u001b[0m\n\u001b[0m\u001b[1;32m    129\u001b[0m         \u001b[0;32mexcept\u001b[0m \u001b[0mpy4j\u001b[0m\u001b[0;34m.\u001b[0m\u001b[0mprotocol\u001b[0m\u001b[0;34m.\u001b[0m\u001b[0mPy4JJavaError\u001b[0m \u001b[0;32mas\u001b[0m \u001b[0me\u001b[0m\u001b[0;34m:\u001b[0m\u001b[0;34m\u001b[0m\u001b[0;34m\u001b[0m\u001b[0m\n\u001b[1;32m    130\u001b[0m             \u001b[0mconverted\u001b[0m \u001b[0;34m=\u001b[0m \u001b[0mconvert_exception\u001b[0m\u001b[0;34m(\u001b[0m\u001b[0me\u001b[0m\u001b[0;34m.\u001b[0m\u001b[0mjava_exception\u001b[0m\u001b[0;34m)\u001b[0m\u001b[0;34m\u001b[0m\u001b[0;34m\u001b[0m\u001b[0m\n",
            "\u001b[0;32m/content/spark-3.0.3-bin-hadoop2.7/python/lib/py4j-0.10.9-src.zip/py4j/protocol.py\u001b[0m in \u001b[0;36mget_return_value\u001b[0;34m(answer, gateway_client, target_id, name)\u001b[0m\n\u001b[1;32m    326\u001b[0m                 raise Py4JJavaError(\n\u001b[1;32m    327\u001b[0m                     \u001b[0;34m\"An error occurred while calling {0}{1}{2}.\\n\"\u001b[0m\u001b[0;34m.\u001b[0m\u001b[0;34m\u001b[0m\u001b[0;34m\u001b[0m\u001b[0m\n\u001b[0;32m--> 328\u001b[0;31m                     format(target_id, \".\", name), value)\n\u001b[0m\u001b[1;32m    329\u001b[0m             \u001b[0;32melse\u001b[0m\u001b[0;34m:\u001b[0m\u001b[0;34m\u001b[0m\u001b[0;34m\u001b[0m\u001b[0m\n\u001b[1;32m    330\u001b[0m                 raise Py4JError(\n",
            "\u001b[0;31mPy4JJavaError\u001b[0m: An error occurred while calling o219.jdbc.\n: java.lang.ClassNotFoundException: org.postgresql.Driver\n\tat java.base/java.net.URLClassLoader.findClass(URLClassLoader.java:471)\n\tat java.base/java.lang.ClassLoader.loadClass(ClassLoader.java:589)\n\tat java.base/java.lang.ClassLoader.loadClass(ClassLoader.java:522)\n\tat org.apache.spark.sql.execution.datasources.jdbc.DriverRegistry$.register(DriverRegistry.scala:45)\n\tat org.apache.spark.sql.execution.datasources.jdbc.JDBCOptions.$anonfun$driverClass$1(JDBCOptions.scala:99)\n\tat org.apache.spark.sql.execution.datasources.jdbc.JDBCOptions.$anonfun$driverClass$1$adapted(JDBCOptions.scala:99)\n\tat scala.Option.foreach(Option.scala:407)\n\tat org.apache.spark.sql.execution.datasources.jdbc.JDBCOptions.<init>(JDBCOptions.scala:99)\n\tat org.apache.spark.sql.execution.datasources.jdbc.JdbcOptionsInWrite.<init>(JDBCOptions.scala:194)\n\tat org.apache.spark.sql.execution.datasources.jdbc.JdbcOptionsInWrite.<init>(JDBCOptions.scala:198)\n\tat org.apache.spark.sql.execution.datasources.jdbc.JdbcRelationProvider.createRelation(JdbcRelationProvider.scala:45)\n\tat org.apache.spark.sql.execution.datasources.SaveIntoDataSourceCommand.run(SaveIntoDataSourceCommand.scala:46)\n\tat org.apache.spark.sql.execution.command.ExecutedCommandExec.sideEffectResult$lzycompute(commands.scala:70)\n\tat org.apache.spark.sql.execution.command.ExecutedCommandExec.sideEffectResult(commands.scala:68)\n\tat org.apache.spark.sql.execution.command.ExecutedCommandExec.doExecute(commands.scala:90)\n\tat org.apache.spark.sql.execution.SparkPlan.$anonfun$execute$1(SparkPlan.scala:180)\n\tat org.apache.spark.sql.execution.SparkPlan.$anonfun$executeQuery$1(SparkPlan.scala:218)\n\tat org.apache.spark.rdd.RDDOperationScope$.withScope(RDDOperationScope.scala:151)\n\tat org.apache.spark.sql.execution.SparkPlan.executeQuery(SparkPlan.scala:215)\n\tat org.apache.spark.sql.execution.SparkPlan.execute(SparkPlan.scala:176)\n\tat org.apache.spark.sql.execution.QueryExecution.toRdd$lzycompute(QueryExecution.scala:127)\n\tat org.apache.spark.sql.execution.QueryExecution.toRdd(QueryExecution.scala:126)\n\tat org.apache.spark.sql.DataFrameWriter.$anonfun$runCommand$1(DataFrameWriter.scala:962)\n\tat org.apache.spark.sql.execution.SQLExecution$.$anonfun$withNewExecutionId$5(SQLExecution.scala:100)\n\tat org.apache.spark.sql.execution.SQLExecution$.withSQLConfPropagated(SQLExecution.scala:160)\n\tat org.apache.spark.sql.execution.SQLExecution$.$anonfun$withNewExecutionId$1(SQLExecution.scala:87)\n\tat org.apache.spark.sql.SparkSession.withActive(SparkSession.scala:767)\n\tat org.apache.spark.sql.execution.SQLExecution$.withNewExecutionId(SQLExecution.scala:64)\n\tat org.apache.spark.sql.DataFrameWriter.runCommand(DataFrameWriter.scala:962)\n\tat org.apache.spark.sql.DataFrameWriter.saveToV1Source(DataFrameWriter.scala:414)\n\tat org.apache.spark.sql.DataFrameWriter.save(DataFrameWriter.scala:398)\n\tat org.apache.spark.sql.DataFrameWriter.jdbc(DataFrameWriter.scala:790)\n\tat java.base/jdk.internal.reflect.NativeMethodAccessorImpl.invoke0(Native Method)\n\tat java.base/jdk.internal.reflect.NativeMethodAccessorImpl.invoke(NativeMethodAccessorImpl.java:62)\n\tat java.base/jdk.internal.reflect.DelegatingMethodAccessorImpl.invoke(DelegatingMethodAccessorImpl.java:43)\n\tat java.base/java.lang.reflect.Method.invoke(Method.java:566)\n\tat py4j.reflection.MethodInvoker.invoke(MethodInvoker.java:244)\n\tat py4j.reflection.ReflectionEngine.invoke(ReflectionEngine.java:357)\n\tat py4j.Gateway.invoke(Gateway.java:282)\n\tat py4j.commands.AbstractCommand.invokeMethod(AbstractCommand.java:132)\n\tat py4j.commands.CallCommand.execute(CallCommand.java:79)\n\tat py4j.GatewayConnection.run(GatewayConnection.java:238)\n\tat java.base/java.lang.Thread.run(Thread.java:829)\n"
          ]
        }
      ]
    }
  ]
}