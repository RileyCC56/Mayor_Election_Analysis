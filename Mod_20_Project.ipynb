{
  "nbformat": 4,
  "nbformat_minor": 0,
  "metadata": {
    "colab": {
      "name": "Mod_20_Project.ipynb",
      "provenance": [],
      "authorship_tag": "ABX9TyNMeOJ3nS8L4Z/hppcw2Gmt",
      "include_colab_link": true
    },
    "kernelspec": {
      "name": "python3",
      "display_name": "Python 3"
    },
    "language_info": {
      "name": "python"
    }
  },
  "cells": [
    {
      "cell_type": "markdown",
      "metadata": {
        "id": "view-in-github",
        "colab_type": "text"
      },
      "source": [
        "<a href=\"https://colab.research.google.com/github/ssheggrud/Mod_20_Project/blob/05_Pooja/Mod_20_Project.ipynb\" target=\"_parent\"><img src=\"https://colab.research.google.com/assets/colab-badge.svg\" alt=\"Open In Colab\"/></a>"
      ]
    },
    {
      "cell_type": "code",
      "metadata": {
        "colab": {
          "base_uri": "https://localhost:8080/"
        },
        "id": "nvd88dI-G7eZ",
        "outputId": "c4215c42-95dd-4fbb-b414-bc93d33cd7ba"
      },
      "source": [
        "import os\n",
        "# Find the latest version of spark 3.0  from http://www-us.apache.org/dist/spark/ and enter as the spark version\n",
        "# For example:\n",
        "# spark_version = 'spark-3.0.2'\n",
        "spark_version = 'spark-3.0.3'\n",
        "os.environ['SPARK_VERSION']=spark_version\n",
        "\n",
        "# Install Spark and Java\n",
        "!apt-get update\n",
        "!apt-get install openjdk-11-jdk-headless -qq > /dev/null\n",
        "#!wget -q http://www-us.apache.org/dist/spark/$SPARK_VERSION/$SPARK_VERSION-bin-hadoop2.7.tgz\n",
        "!wget -q https://downloads.apache.org/spark/$SPARK_VERSION/$SPARK_VERSION-bin-hadoop2.7.tgz\n",
        "\n",
        "!tar xf $SPARK_VERSION-bin-hadoop2.7.tgz\n",
        "!pip install -q findspark\n",
        "\n",
        "# Set Environment Variables\n",
        "os.environ[\"JAVA_HOME\"] = \"/usr/lib/jvm/java-11-openjdk-amd64\"\n",
        "os.environ[\"SPARK_HOME\"] = f\"/content/{spark_version}-bin-hadoop2.7\"\n",
        "\n",
        "# Start a SparkSession\n",
        "import findspark\n",
        "findspark.init()"
      ],
      "execution_count": 1,
      "outputs": [
        {
          "output_type": "stream",
          "name": "stdout",
          "text": [
            "Get:1 https://cloud.r-project.org/bin/linux/ubuntu bionic-cran40/ InRelease [3,626 B]\n",
            "Ign:2 https://developer.download.nvidia.com/compute/cuda/repos/ubuntu1804/x86_64  InRelease\n",
            "Get:3 http://security.ubuntu.com/ubuntu bionic-security InRelease [88.7 kB]\n",
            "Ign:4 https://developer.download.nvidia.com/compute/machine-learning/repos/ubuntu1804/x86_64  InRelease\n",
            "Hit:5 http://archive.ubuntu.com/ubuntu bionic InRelease\n",
            "Hit:6 https://developer.download.nvidia.com/compute/cuda/repos/ubuntu1804/x86_64  Release\n",
            "Hit:7 https://developer.download.nvidia.com/compute/machine-learning/repos/ubuntu1804/x86_64  Release\n",
            "Hit:8 http://ppa.launchpad.net/c2d4u.team/c2d4u4.0+/ubuntu bionic InRelease\n",
            "Get:9 http://archive.ubuntu.com/ubuntu bionic-updates InRelease [88.7 kB]\n",
            "Hit:10 http://ppa.launchpad.net/cran/libgit2/ubuntu bionic InRelease\n",
            "Hit:11 http://ppa.launchpad.net/deadsnakes/ppa/ubuntu bionic InRelease\n",
            "Get:12 http://archive.ubuntu.com/ubuntu bionic-backports InRelease [74.6 kB]\n",
            "Hit:13 http://ppa.launchpad.net/graphics-drivers/ppa/ubuntu bionic InRelease\n",
            "Fetched 256 kB in 4s (72.2 kB/s)\n",
            "Reading package lists... Done\n"
          ]
        }
      ]
    },
    {
      "cell_type": "code",
      "metadata": {
        "id": "O0rHvHEAHG53"
      },
      "source": [
        "# Start Spark session\n",
        "from pyspark.sql import SparkSession\n",
        "spark = SparkSession.builder.appName(\"FinalProject\").getOrCreate()"
      ],
      "execution_count": 2,
      "outputs": []
    },
    {
      "cell_type": "code",
      "metadata": {
        "colab": {
          "base_uri": "https://localhost:8080/"
        },
        "id": "iuz4Xg_pHJyA",
        "outputId": "6ff12f8d-bb8a-4487-cc01-fc66bc5a169c"
      },
      "source": [
        "# Read in data from S3 Buckets\n",
        "from pyspark import SparkFiles\n",
        "url = \"https://databootcamp-final-05.s3.amazonaws.com/Resources/2005_expenditure.csv\"\n",
        "spark.sparkContext.addFile(url)\n",
        "df2 = spark.read.csv(SparkFiles.get(\"2005_expenditure.csv\"), sep=\",\", header=True)\n",
        "df2.show()"
      ],
      "execution_count": 3,
      "outputs": [
        {
          "output_type": "stream",
          "name": "stdout",
          "text": [
            "+--------+--------+------+--------+------------+---------+------+---------+------+--------+------+----------+--------+-------------------+-------------------+--------------------+------+-------+-----+--------------------+---------+--------------+-----+-----+----------+--------+---------+----------------+----------------+--------+------+-------+\n",
            "|ELECTION|OFFICECD|CANDID|CANCLASS|    CANDLAST|CANDFIRST|CANDMI|COMMITTEE|FILING|SCHEDULE|PAGENO|SEQUENCENO|   REFNO|           INV_DATE|               DATE|                NAME|C_CODE|ORG_IND|STRNO|             STRNAME|APARTMENT|          CITY|STATE|  ZIP|PAY_METHOD|    AMNT|PURPOSECD|         PURPOSE|         EXPLAIN|EXEMPTCD|RR_IND|SEG_IND|\n",
            "+--------+--------+------+--------+------------+---------+------+---------+------+--------+------+----------+--------+-------------------+-------------------+--------------------+------+-------+-----+--------------------+---------+--------------+-----+-----+----------+--------+---------+----------------+----------------+--------+------+-------+\n",
            "|    2005|       4|   206|       P|     Manzano|   Carlos|  null|        K|     5|       F|  null|      null|R0002883| 5/23/2004 00:00:00| 5/23/2004 00:00:00|\"1050\" Restaurant...|  CORP|      Y|  735|        Tenth Avenue|     null|      New York|   NY|10019|     Final|  918.00|    FUNDR|     Fundraising|   Catered Event|    null|     N|      N|\n",
            "|    2005|       4|    ED|       P|Carrion, Jr.|   Adolfo|  null|        J|     8|       F|  null|      null|R0005654| 4/25/2005 00:00:00| 4/25/2005 00:00:00|Somos El Futuro Inc.|  CORP|      Y|  355|      Lexington Ave.|    3RDFL|      New York|   NY|10017|     Final| 3200.00|    CNTRB| Polit Contribs.|   EVENT TICKETS|    null|     N|      N|\n",
            "|    2005|       4|    ED|       P|Carrion, Jr.|   Adolfo|  null|        J|     5|       F|  null|      null|R0004585|  6/9/2004 00:00:00|  6/9/2004 00:00:00|Somos El Futuro Inc.|  CORP|      Y|  355|      Lexington Ave.|    3RDFL|      New York|   NY|10017|     Final| 1500.00|    OTHER|Other: explntion|   EVENT TICKETS|    null|     N|      N|\n",
            "|    2005|       4|    BW|       P|   Moskowitz|      Eva|     S|        A|    10|       F|  null|      null|R0005335| 5/22/2005 00:00:00| 6/24/2005 00:00:00|   1-800-FLOWERS.com|  CORP|      Y| null|                null|     null|          null| null| null|     Final|   55.00|    OTHER|Other: explntion|         Flowers|    null|     N|      N|\n",
            "|    2005|       5|   232|       P|      Weprin|    David|     I|        K|    17|       F|  null|      null|R0002854| 3/11/2005 00:00:00| 3/11/2005 00:00:00|   1-800-Flowers.Com|  CORP|      Y| null|                null|     null|            NY|   NY| null|     Final|  103.00|    OTHER|Other: explntion|    Flowers/Sick|    null|     N|      N|\n",
            "|    2005|       5|   837|       P|    Nocerino|   Joseph|     R|        H|     8|       F|  null|      null|R0000332| 4/15/2005 00:00:00| 4/18/2005 00:00:00|    1-800-My-Buttons|  OTHR|      Y| 5703|   Red Bug Lake Road|      187|Winter Springs|   FL|32708|     Final|  210.00|    LITER|     Campgn Lit.|Campaign Buttons|    null|     N|      N|\n",
            "|    2005|       5|   837|       P|    Nocerino|   Joseph|     R|        H|     8|       F|  null|      null|R0000222|  4/1/2005 00:00:00|  4/1/2005 00:00:00|    1-800-My-Buttons|  OTHR|      Y| 5703|   Red Bug Lake Road|      187|Winter Springs|   FL|32708|     Final|  538.00|    LITER|     Campgn Lit.|Campaign Buttons|    null|     N|      N|\n",
            "|    2005|       5|   837|       P|    Nocerino|   Joseph|     R|        H|     8|       F|  null|      null|R0000233|  4/4/2005 00:00:00|  4/4/2005 00:00:00|    1-800-My-Buttons|  OTHR|      Y| 5703|   Red Bug Lake Road|      187|Winter Springs|   FL|32708|     Final|  372.00|    LITER|     Campgn Lit.|Campaign Buttons|    null|     N|      N|\n",
            "|    2005|       5|   837|       P|    Nocerino|   Joseph|     R|        H|     8|       F|  null|      null|R0000366| 4/22/2005 00:00:00| 4/22/2005 00:00:00|    1-800-My-Buttons|  OTHR|      Y| 5703|   Red Bug Lake Road|      187|Winter Springs|   FL|32708|     Final|  373.00|    LITER|     Campgn Lit.|Campaign Buttons|    null|     N|      N|\n",
            "|    2005|       1|    AY|       P|      Ferrer| Fernando|  null|        I|    17|       F|  null|      null|R0033156| 11/7/2005 00:00:00|12/19/2005 00:00:00|        101 Car Park|  CORP|      Y|  101|    West 23rd Street|     null|      New York|   NY|10011|     Final|   23.00|    OTHER|Other: explntion|         Parking|    null|     N|      N|\n",
            "|    2005|       1|    AY|       P|      Ferrer| Fernando|  null|        I|    10|       F|  null|      null|R0017612| 4/25/2005 00:00:00| 5/20/2005 00:00:00|1010 6th Avenue G...|  CORP|      Y| 1010|Avenue of the Ame...|     null|      New York|   NY|10018|     Final|   35.00|    OTHER|Other: explntion|         Parking|    null|     N|      N|\n",
            "|    2005|       2|   310|       P|      Siegel|   Norman|     H|        I|    17|       N|  null|      null|R0012355|               null|11/11/2005 00:00:00|           1010 WINS|  CORP|      Y|  888|          7th Avenue|     null|      New York|   NY|10106|      null|  222.00|    RADIO|      Radio Ads.|excessive refund|    null|     N|      N|\n",
            "|    2005|       2|   310|       P|      Siegel|   Norman|     H|        I|    13|       F|  null|      null|R0008509|  9/8/2005 00:00:00|  9/8/2005 00:00:00|           1010 WINS|  CORP|      Y|  888|          7th Avenue|     null|      New York|   NY|10106|     Final| 7931.00|    RADIO|      Radio Ads.|    ads 9/9-9/11|    null|     N|      N|\n",
            "|    2005|       2|   310|       P|      Siegel|   Norman|     H|        I|    17|       L|  null|      null|R0012244|  9/8/2005 00:00:00| 10/4/2005 00:00:00|           1010 WINS|  CORP|      Y|  888|          7th Avenue|     null|      New York|   NY|10106|      null|-1365.00|     null|            null|            null|    null|     N|      N|\n",
            "|    2005|       5|   420|      NP|      Comrie|    Leroy|     G|        K|    15|       F|  null|      null|R0002849|10/20/2005 00:00:00|10/24/2005 00:00:00|1020 Park Plaza D...|  CORP|      Y| 1020|        Cadman Plaza|     null|      Brooklyn|   NY|11203|     Final|   25.00|    OFFCE| Office Expenses|           foods|    null|     N|      N|\n",
            "|    2005|       5|   420|      NP|      Comrie|    Leroy|     G|        K|    16|       F|  null|      null|R0002930|10/26/2005 00:00:00|10/26/2005 00:00:00|1023 Mojito Cuban...|  CORP|      Y| null|                null|     null|      Brooklyn|   NY| null|     Final|   74.00|    OFFCE| Office Expenses|         meeting|    null|     N|      N|\n",
            "|    2005|       5|   860|       P|        Doty|  Cynthia|     L|        H|    13|       F|  null|      null|R0000955| 9/13/2005 00:00:00| 9/13/2005 00:00:00| 107 West Restaurant|  OTHR|      Y| 2787|            Broadway|     null|      New York|   NY|10025|     Final|  483.00|    OTHER|Other: explntion|   Wrap-Up Party|    null|     N|      N|\n",
            "|    2005|       2|   263|       P|     Gotbaum|    Betsy|     F|        J|    14|       F|  null|      null|R0009379| 8/23/2005 00:00:00| 8/23/2005 00:00:00|        109 CJK Corp|  OTHR|      Y|  109|    West 39th Street|     null|      New York|   NY|10018|     Final|    9.00|    OTHER|Other: explntion|       amex bill|    null|     N|      N|\n",
            "|    2005|       2|   263|       P|     Gotbaum|    Betsy|     F|        J|    14|       F|  null|      null|R0009381| 8/23/2005 00:00:00| 8/23/2005 00:00:00|        109 CJK Corp|  OTHR|      Y|  109|    West 39th Street|     null|      New York|   NY|10018|     Final|   52.00|    OTHER|Other: explntion|       amex bill|    null|     N|      N|\n",
            "|    2005|       2|   263|       P|     Gotbaum|    Betsy|     F|        J|    14|       F|  null|      null|R0009400| 8/26/2005 00:00:00| 8/26/2005 00:00:00|        109 CJK Corp|  OTHR|      Y|  109|    West 39th Street|     null|      New York|   NY|10018|     Final|   13.00|    OTHER|Other: explntion|       amex bill|    null|     N|      N|\n",
            "+--------+--------+------+--------+------------+---------+------+---------+------+--------+------+----------+--------+-------------------+-------------------+--------------------+------+-------+-----+--------------------+---------+--------------+-----+-----+----------+--------+---------+----------------+----------------+--------+------+-------+\n",
            "only showing top 20 rows\n",
            "\n"
          ]
        }
      ]
    },
    {
      "cell_type": "code",
      "metadata": {
        "id": "vXtBqyP44bGl"
      },
      "source": [
        "df3 = df2.filter((df2.OFFICECD==\"1\") & (df2.CANCLASS==\"P\"))"
      ],
      "execution_count": 15,
      "outputs": []
    },
    {
      "cell_type": "code",
      "metadata": {
        "colab": {
          "base_uri": "https://localhost:8080/"
        },
        "id": "esGK2U_D5N0M",
        "outputId": "265c077d-17d5-41cb-ea32-21fa4d829480"
      },
      "source": [
        "df3.show()"
      ],
      "execution_count": 16,
      "outputs": [
        {
          "output_type": "stream",
          "name": "stdout",
          "text": [
            "+--------+--------+------+--------+--------+----------+------+---------+------+--------+------+----------+--------+------------------+-------------------+--------------------+------+-------+-----+--------------------+---------+--------+-----+-----+----------+--------+---------+----------------+--------------------+--------+------+-------+\n",
            "|ELECTION|OFFICECD|CANDID|CANCLASS|CANDLAST| CANDFIRST|CANDMI|COMMITTEE|FILING|SCHEDULE|PAGENO|SEQUENCENO|   REFNO|          INV_DATE|               DATE|                NAME|C_CODE|ORG_IND|STRNO|             STRNAME|APARTMENT|    CITY|STATE|  ZIP|PAY_METHOD|    AMNT|PURPOSECD|         PURPOSE|             EXPLAIN|EXEMPTCD|RR_IND|SEG_IND|\n",
            "+--------+--------+------+--------+--------+----------+------+---------+------+--------+------+----------+--------+------------------+-------------------+--------------------+------+-------+-----+--------------------+---------+--------+-----+-----+----------+--------+---------+----------------+--------------------+--------+------+-------+\n",
            "|    2005|       1|    AY|       P|  Ferrer|  Fernando|  null|        I|    17|       F|  null|      null|R0033156|11/7/2005 00:00:00|12/19/2005 00:00:00|        101 Car Park|  CORP|      Y|  101|    West 23rd Street|     null|New York|   NY|10011|     Final|   23.00|    OTHER|Other: explntion|             Parking|    null|     N|      N|\n",
            "|    2005|       1|    AY|       P|  Ferrer|  Fernando|  null|        I|    10|       F|  null|      null|R0017612|4/25/2005 00:00:00| 5/20/2005 00:00:00|1010 6th Avenue G...|  CORP|      Y| 1010|Avenue of the Ame...|     null|New York|   NY|10018|     Final|   35.00|    OTHER|Other: explntion|             Parking|    null|     N|      N|\n",
            "|    2005|       1|    BB|       P|  Weiner|   Anthony|     D|        H|     7|       F|  null|      null|R0004624|2/23/2005 00:00:00| 2/23/2005 00:00:00|     110 William LLC|   LLC|      Y|  770|       Lexington Ave|     null|New York|   NY|10021|      Part| 4660.00|    RENTO|     Office Rent|Security Depost offi|    null|     N|      N|\n",
            "|    2005|       1|    BB|       P|  Weiner|   Anthony|     D|        H|     7|       F|  null|      null|R0004626|2/23/2005 00:00:00| 2/23/2005 00:00:00|     110 William LLC|   LLC|      Y|  770|       Lexington Ave|     null|New York|   NY|10021|      Part| 7363.00|    RENTO|     Office Rent|    March/April Rent|    null|     N|      N|\n",
            "|    2005|       1|    BB|       P|  Weiner|   Anthony|     D|        H|     7|       F|  null|      null|R0005109|2/23/2005 00:00:00| 2/23/2005 00:00:00|     110 William LLC|   LLC|      Y|  770|       Lexington Ave|     null|New York|   NY|10021|     Final|  340.00|    RENTO|     Office Rent|Office Security Depo|       C|     N|      N|\n",
            "|    2005|       1|    BB|       P|  Weiner|   Anthony|     D|        H|     7|       F|  null|      null|R0005111|2/23/2005 00:00:00| 2/23/2005 00:00:00|     110 William LLC|   LLC|      Y|  770|       Lexington Ave|     null|New York|   NY|10021|     Final|  537.00|    RENTO|     Office Rent|    March/April Rent|       C|     N|      N|\n",
            "|    2005|       1|    BB|       P|  Weiner|   Anthony|     D|        H|    17|       F|  null|      null|R0012722|10/1/2005 00:00:00| 11/1/2005 00:00:00|     110 William LLC|   LLC|      Y|  770|       Lexington Ave|     null|New York|   NY|10021|     Final| 4048.00|    RENTO|     Office Rent|                rent|    null|     N|      N|\n",
            "|    2005|       1|    BB|       P|  Weiner|   Anthony|     D|        H|    10|       F|  null|      null|R0008299| 7/6/2005 00:00:00|  7/6/2005 00:00:00|     110 William LLC|   LLC|      Y|  770|       Lexington Ave|     null|New York|   NY|10021|     Final| 4015.00|    RENTO|     Office Rent|                rent|    null|     N|      N|\n",
            "|    2005|       1|    BB|       P|  Weiner|   Anthony|     D|        H|    10|       F|  null|      null|R0007400| 6/9/2005 00:00:00|  6/9/2005 00:00:00|     110 William LLC|   LLC|      Y|  770|       Lexington Ave|     null|New York|   NY|10021|     Final| 6220.00|    RENTO|     Office Rent|   1st mo & security|    null|     N|      N|\n",
            "|    2005|       1|    BB|       P|  Weiner|   Anthony|     D|        H|    10|       F|  null|      null|R0007047|5/25/2005 00:00:00| 5/25/2005 00:00:00|     110 William LLC|   LLC|      Y|  770|       Lexington Ave|     null|New York|   NY|10021|     Final| 8004.00|    RENTO|     Office Rent|       rent 2 months|    null|     N|      N|\n",
            "|    2005|       1|    BB|       P|  Weiner|   Anthony|     D|        H|    11|       F|  null|      null|R0009691|7/30/2005 00:00:00|  8/3/2005 00:00:00|     110 William LLC|   LLC|      Y|  770|       Lexington Ave|     null|New York|   NY|10021|     Final| 4058.00|    RENTO|     Office Rent|                rent|    null|     N|      N|\n",
            "|    2005|       1|    BB|       P|  Weiner|   Anthony|     D|        H|    13|       F|  null|      null|R0011801|8/31/2005 00:00:00| 9/12/2005 00:00:00|     110 William LLC|   LLC|      Y|  770|       Lexington Ave|     null|New York|   NY|10021|     Final|11985.00|    RENTO|     Office Rent|                rent|    null|     N|      N|\n",
            "|    2005|       1|    BB|       P|  Weiner|   Anthony|     D|        H|    17|       L|  null|      null|R0012895|10/1/2005 00:00:00|12/30/2005 00:00:00|     110 William LLC|   LLC|      Y|  770|       Lexington Ave|     null|New York|   NY|10021|      null|-3555.00|     null|            null|                null|    null|     N|      N|\n",
            "|    2005|       1|    AY|       P|  Ferrer|  Fernando|  null|        I|    16|       F|  null|      null|R0030833|11/4/2005 00:00:00| 11/4/2005 00:00:00|           1199 SEIU|  EMPO|      Y|  310|    West 43rd Street|     null|New York|   NY|10036|     Final|   40.00|    RENTO|     Office Rent|        Office Space|    null|     N|      N|\n",
            "|    2005|       1|    AY|       P|  Ferrer|  Fernando|  null|        I|    17|       N|  null|      null|R0032374|              null|11/15/2005 00:00:00|           1199 SEIU|  EMPO|      Y|  310|    West 43rd Street|     null|New York|   NY|10036|      null|  800.00|    OTHER|Other: explntion|         List Rental|    null|     N|      N|\n",
            "|    2005|       1|    Y2|       P|  Miller|A. Gifford|  null|        H|    11|       F|  null|      null|R0019442|7/22/2005 00:00:00| 7/22/2005 00:00:00|150 Broadway NY A...|  PART|      Y|  150|            Broadway|     null|New York|   NY|10038|     Final| 4513.00|    RENTO|     Office Rent|      Rent & sec dep|       P|     N|      N|\n",
            "|    2005|       1|    Y2|       P|  Miller|A. Gifford|  null|        H|    11|       F|  null|      null|R0020008|7/21/2005 00:00:00| 7/21/2005 00:00:00|150 Broadway NY A...|  PART|      Y|  150|            Broadway|     null|New York|   NY|10038|     Final| 2257.00|    RENTO|     Office Rent|                rent|       P|     N|      N|\n",
            "|    2005|       1|    Y2|       P|  Miller|A. Gifford|  null|        H|    11|       F|  null|      null|R0020064| 8/1/2005 00:00:00|  8/1/2005 00:00:00|150 Broadway NY A...|  PART|      Y|  150|            Broadway|     null|New York|   NY|10038|      Part| 1674.00|    RENTO|     Office Rent|                rent|       P|     N|      N|\n",
            "|    2005|       1|    Y2|       P|  Miller|A. Gifford|  null|        H|    11|       F|  null|      null|R0020911| 8/1/2005 00:00:00|  8/1/2005 00:00:00|150 Broadway NY A...|  PART|      Y|  150|            Broadway|     null|New York|   NY|10038|     Final|  583.00|    OFFCE| Office Expenses|         Office Rent|    null|     N|      N|\n",
            "|    2005|       1|    Y2|       P|  Miller|A. Gifford|  null|        H|    13|       F|  null|      null|R0022711| 9/2/2005 00:00:00|  9/2/2005 00:00:00|150 Broadway NY A...|  PART|      Y|  150|            Broadway|     null|New York|   NY|10038|     Final|  978.00|    RENTO|     Office Rent|   Primary rent 9/05|    null|     N|      N|\n",
            "+--------+--------+------+--------+--------+----------+------+---------+------+--------+------+----------+--------+------------------+-------------------+--------------------+------+-------+-----+--------------------+---------+--------+-----+-----+----------+--------+---------+----------------+--------------------+--------+------+-------+\n",
            "only showing top 20 rows\n",
            "\n"
          ]
        }
      ]
    },
    {
      "cell_type": "code",
      "metadata": {
        "id": "0LFHT4Vg5PEV"
      },
      "source": [
        ""
      ],
      "execution_count": null,
      "outputs": []
    },
    {
      "cell_type": "code",
      "metadata": {
        "colab": {
          "base_uri": "https://localhost:8080/"
        },
        "id": "9PeNvM_FHP1c",
        "outputId": "9189c1c3-1dc3-4d18-d6e1-6986910f4da9"
      },
      "source": [
        "# Read in data from S3 Buckets\n",
        "from pyspark import SparkFiles\n",
        "url = \"https://databootcamp-final-05.s3.amazonaws.com/Resources/Individual_Contributions_2017_(X).csv\"\n",
        "spark.sparkContext.addFile(url)\n",
        "df3 = spark.read.csv(SparkFiles.get(\"Individual_Contributions_2017_(X).csv\"), sep=\",\", header=True)\n",
        "\n",
        "df3.show()"
      ],
      "execution_count": null,
      "outputs": [
        {
          "output_type": "stream",
          "name": "stdout",
          "text": [
            "+--------+--------+-------+--------+-------------------+---------+------+--------+------+----------+--------+----------+----------+------------------+------+-----+-------+---------+---------+------------------+-----+-----+------------------+--------------------+--------+------------------+-------------+--------+-----+---------+--------+----------+--------+----------------+--------+--------+--------+---------------+-----+------+----------+----------+----------+----------+--------+---------+---------+--------+---------+------+-------+----------+\n",
            "|ELECTION|OFFICECD|RECIPID|CANCLASS|          RECIPNAME|COMMITTEE|FILING|SCHEDULE|PAGENO|SEQUENCENO|   REFNO|      DATE|REFUNDDATE|              NAME|C_CODE|STRNO|STRNAME|APARTMENT|BOROUGHCD|              CITY|STATE|  ZIP|        OCCUPATION|             EMPNAME|EMPSTRNO|        EMPSTRNAME|      EMPCITY|EMPSTATE| AMNT|MATCHAMNT|PREVAMNT|PAY_METHOD|INTERMNO|      INTERMNAME|INTSTRNO|INTSTRNM|INTAPTNO|        INTCITY|INTST|INTZIP|INTEMPNAME|INTEMPSTNO|INTEMPSTNM|INTEMPCITY|INTEMPST|INTOCCUPA|PURPOSECD|EXEMPTCD|ADJTYPECD|RR_IND|SEG_IND|INT_C_CODE|\n",
            "+--------+--------+-------+--------+-------------------+---------+------+--------+------+----------+--------+----------+----------+------------------+------+-----+-------+---------+---------+------------------+-----+-----+------------------+--------------------+--------+------------------+-------------+--------+-----+---------+--------+----------+--------+----------------+--------+--------+--------+---------------+-----+------+----------+----------+----------+----------+--------+---------+---------+--------+---------+------+-------+----------+\n",
            "|    2017|       1|    326|       P|    de Blasio, Bill|        P|    10|     ABC|  null|      null|R0077664|  8/7/2017|      null|  A Hayes, Melinda|   IND| null|   null|     null|        K|          Brooklyn|   NY|11213|          Attorney|                 NYC|     350|        Jay Street|     Brooklyn|      NY|    5|        5|       0|         4|    null|            null|    null|    null|    null|           null| null|  null|      null|      null|      null|      null|    null|     null|     null|    null|     null|     N|      N|      null|\n",
            "|    2017|       1|     AU|       P|    Albanese, Sal F|        J|     6|     ABC|  null|      null|R0000066|12/16/2016|      null|A Mohamad, Mohamad|   IND| null|   null|     null|        Z|   Sparta Township|   NJ| 7871|         President|MAM Electric Corp...|    7025|        3rd Avenue|     Brooklyn|      NY|  250|        0|       0|         4|    null|            null|    null|    null|    null|           null| null|  null|      null|      null|      null|      null|    null|     null|     null|    null|     null|     N|      N|      null|\n",
            "|    2017|       1|   2071|       P|Malliotakis, Nicole|        H|    13|     ABC|  null|      null|R0015380| 9/20/2017|      null|   Aalbue, Raymond|   IND| null|   null|     null|        K|          Brooklyn|   NY|11209|           RETIRED|                null|    null|              null|         null|    null|  100|      100|       0|         4|    null|            null|    null|    null|    null|           null| null|  null|      null|      null|      null|      null|    null|     null|     null|    null|     null|     N|      N|      null|\n",
            "|    2017|       1|   2051|       P|   Slattery, Collin|        H|     9|     ABC|  null|      null|R0000103|  6/1/2017|      null|      Aaron, Allen|   IND| null|   null|     null|        Q|      Howard Beach|   NY|11414|             Pilot|   American Airlines|    null|              null|         null|    null|   50|       50|       0|         4|    null|            null|    null|    null|    null|           null| null|  null|      null|      null|      null|      null|    null|     null|     null|    null|     null|     N|      N|      null|\n",
            "|    2017|       1|   1958|      NP|Massey, Jr., Paul J|        H|     7|     ABC|  null|      null|R0003490| 2/16/2017|      null|     Aarons, David|   IND| null|   null|     null|        Z|Upper Saddle River|   NJ| 7458|               coo|        afd contract|     810|        7th Avenue|     New York|      NY| 1000|        0|       0|         4|      74|Brancato, Joseph|    null|    null|    null|Cortlandt Manor|   NY| 10567|   Gensler|      1700|  Broadway|  New York|      NY|Architect|     null|    null|     null|     N|      N|       IND|\n",
            "|    2017|       1|   1958|      NP|Massey, Jr., Paul J|        H|     7|     ABC|  null|      null|R0003552| 2/17/2017|      null|     Aarons, David|   IND| null|   null|     null|        Z|Upper Saddle River|   NJ| 7458|               coo|        afd contract|     810|        7th Avenue|     New York|      NY|  400|        0|    1000|         4|      74|Brancato, Joseph|    null|    null|    null|Cortlandt Manor|   NY| 10567|   Gensler|      1700|  Broadway|  New York|      NY|Architect|     null|    null|     null|     N|      N|       IND|\n",
            "|    2017|       1|   1958|      NP|Massey, Jr., Paul J|        H|     7|       M|  null|      null|R0003508| 2/16/2017| 2/17/2017|     Aarons, David|   IND| null|   null|     null|        Z|Upper Saddle River|   NJ| 7458|              null|                null|    null|              null|         null|    null|-1000|        0|       0|         0|    null|            null|    null|    null|    null|           null| null|  null|      null|      null|      null|      null|    null|     null|     null|    null|        2|     N|      N|      null|\n",
            "|    2017|       1|    326|       P|    de Blasio, Bill|        P|    14|     ABC|  null|      null|R0086664|10/23/2017|      null|   Aarons, Natasha|   IND| null|   null|     null|        M|          New York|   NY|10027| Marketing Manager|              Google|     111| 8th Avenue Google|     New York|      NY|  175|      175|       0|         4|    null|            null|    null|    null|    null|           null| null|  null|      null|      null|      null|      null|    null|     null|     null|    null|     null|     N|      N|      null|\n",
            "|    2017|       1|   1958|      NP|Massey, Jr., Paul J|        H|     7|     ABC|  null|      null|R0003492| 2/16/2017|      null|   Aarons, Richard|   IND| null|   null|     null|        Z|          Westwood|   NJ| 7675|               ceo|        afd contract|     810|        7th Avenue|     New York|      NY| 1000|        0|       0|         4|      74|Brancato, Joseph|    null|    null|    null|Cortlandt Manor|   NY| 10567|   Gensler|      1700|  Broadway|  New York|      NY|Architect|     null|    null|     null|     N|      N|       IND|\n",
            "|    2017|       1|   1958|      NP|Massey, Jr., Paul J|        H|     7|     ABC|  null|      null|R0003553| 2/17/2017|      null|   Aarons, Richard|   IND| null|   null|     null|        Z|          Westwood|   NJ| 7675|               ceo|        afd contract|     810|        7th Avenue|     New York|      NY|  400|        0|    1000|         4|      74|Brancato, Joseph|    null|    null|    null|Cortlandt Manor|   NY| 10567|   Gensler|      1700|  Broadway|  New York|      NY|Architect|     null|    null|     null|     N|      N|       IND|\n",
            "|    2017|       1|   1958|      NP|Massey, Jr., Paul J|        H|     7|       M|  null|      null|R0003509| 2/16/2017| 2/17/2017|   Aarons, Richard|   IND| null|   null|     null|        Z|          Westwood|   NJ| 7675|              null|                null|    null|              null|         null|    null|-1000|        0|       0|         0|    null|            null|    null|    null|    null|           null| null|  null|      null|      null|      null|      null|    null|     null|     null|    null|        2|     N|      N|      null|\n",
            "|    2017|       1|    326|       P|    de Blasio, Bill|        P|     5|     ABC|  null|      null|R0045134|  5/8/2016|      null|     Ababio, Carol|   IND| null|   null|     null|        Z|         Riverview|   FL|33579|         Owner/COO|       Self-employed|      68|           Jay St.|     Brooklyn|      NY|  175|        0|       0|         4|    null|            null|    null|    null|    null|           null| null|  null|      null|      null|      null|      null|    null|     null|     null|    null|     null|     N|      N|      null|\n",
            "|    2017|       1|   2071|       P|Malliotakis, Nicole|        H|    12|     ABC|  null|      null|R0013249| 9/15/2017|      null|    Abad, Roderick|   IND| null|   null|     null|        Q|           Jamaica|   NY|11435|          Security|     AlliedUniversal|     229|      West 36th St|     New York|      NY|   10|       10|       0|         4|    null|            null|    null|    null|    null|           null| null|  null|      null|      null|      null|      null|    null|     null|     null|    null|     null|     N|      N|      null|\n",
            "|    2017|       1|   2071|       P|Malliotakis, Nicole|        H|    14|     ABC|  null|      null|R0019836|10/12/2017|      null|    Abad, Roderick|   IND| null|   null|     null|        Q|           Jamaica|   NY|11435|          Security|     AlliedUniversal|     229|      West 36th St|     New York|      NY|   25|       25|      10|         4|    null|            null|    null|    null|    null|           null| null|  null|      null|      null|      null|      null|    null|     null|     null|    null|     null|     N|      N|      null|\n",
            "|    2017|       1|   2071|       P|Malliotakis, Nicole|        H|     9|     ABC|  null|      null|R0002777|  6/5/2017|      null|     Abadie, Elise|   IND| null|   null|     null|        M|          New York|   NY|10021|     Social Worker|       Self-Employed|     332|  East 69th Street|     New York|      NY|   50|       50|       0|         4|    null|            null|    null|    null|    null|           null| null|  null|      null|      null|      null|      null|    null|     null|     null|    null|     null|     N|      N|      null|\n",
            "|    2017|       1|    326|       P|    de Blasio, Bill|        P|     8|     ABC|  null|      null|R0068166| 5/11/2017|      null|     Abaring, Tara|   IND| null|   null|     null|        K|          Brooklyn|   NY|11225|Engagement Manager|    General Assembly|     902|Broadway 4th Floor|     New York|      NY|   50|       50|       0|         4|    null|            null|    null|    null|    null|           null| null|  null|      null|      null|      null|      null|    null|     null|     null|    null|     null|     N|      N|      null|\n",
            "|    2017|       1|    326|       P|    de Blasio, Bill|        P|     6|     ABC|  null|      null|R0049549| 11/5/2016|      null|      Abazi, Samir|   IND| null|   null|     null|        S|     Staten Island|   NY|10304|        Accountant|C&R Construction/...|      70|     Lafayette St.|Staten Island|      NY|   20|       20|       0|         4|    null|            null|    null|    null|    null|           null| null|  null|      null|      null|      null|      null|    null|     null|     null|    null|     null|     N|      N|      null|\n",
            "|    2017|       1|    326|       P|    de Blasio, Bill|        P|     9|     ABC|  null|      null|R0070597| 5/20/2017|      null|    Abbas, Malik G|   IND| null|   null|     null|        S|     Staten Island|   NY|10304|        Contractor|    KES Construction|      15|       Swan Street|Staten Island|      NY|  500|      175|       0|         2|    null|            null|    null|    null|    null|           null| null|  null|      null|      null|      null|      null|    null|     null|     null|    null|     null|     N|      N|      null|\n",
            "|    2017|       1|    326|       P|    de Blasio, Bill|        P|     6|     ABC|  null|      null|R0050179|11/13/2016|      null|      Abbas, Sadia|   IND| null|   null|     null|        M|          New York|   NY|10034|         Professor|  Rutgers University|    null|Rutgers University|       Newark|      NJ|   10|       10|       0|         4|    null|            null|    null|    null|    null|           null| null|  null|      null|      null|      null|      null|    null|     null|     null|    null|     null|     N|      N|      null|\n",
            "|    2017|       1|    326|       P|    de Blasio, Bill|        P|     7|     ABC|  null|      null|R0056165| 1/23/2017|      null|      Abbas, Sadia|   IND| null|   null|     null|        M|          New York|   NY|10034|         Professor|  Rutgers University|    null|Rutgers University|       Newark|      NJ|   27|       27|      10|         4|    null|            null|    null|    null|    null|           null| null|  null|      null|      null|      null|      null|    null|     null|     null|    null|     null|     N|      N|      null|\n",
            "+--------+--------+-------+--------+-------------------+---------+------+--------+------+----------+--------+----------+----------+------------------+------+-----+-------+---------+---------+------------------+-----+-----+------------------+--------------------+--------+------------------+-------------+--------+-----+---------+--------+----------+--------+----------------+--------+--------+--------+---------------+-----+------+----------+----------+----------+----------+--------+---------+---------+--------+---------+------+-------+----------+\n",
            "only showing top 20 rows\n",
            "\n"
          ]
        }
      ]
    }
  ]
}