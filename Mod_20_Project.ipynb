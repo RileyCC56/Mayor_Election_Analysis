{
  "nbformat": 4,
  "nbformat_minor": 0,
  "metadata": {
    "colab": {
      "name": "Mod_20_Project.ipynb",
      "provenance": [],
      "collapsed_sections": [],
      "authorship_tag": "ABX9TyM/GRGEfU2/5q0A+wbIxfo+",
      "include_colab_link": true
    },
    "kernelspec": {
      "name": "python3",
      "display_name": "Python 3"
    },
    "language_info": {
      "name": "python"
    }
  },
  "cells": [
    {
      "cell_type": "markdown",
      "metadata": {
        "id": "view-in-github",
        "colab_type": "text"
      },
      "source": [
        "<a href=\"https://colab.research.google.com/github/ssheggrud/Mod_20_Project/blob/05_Pooja/Mod_20_Project.ipynb\" target=\"_parent\"><img src=\"https://colab.research.google.com/assets/colab-badge.svg\" alt=\"Open In Colab\"/></a>"
      ]
    },
    {
      "cell_type": "code",
      "metadata": {
        "colab": {
          "base_uri": "https://localhost:8080/"
        },
        "id": "nvd88dI-G7eZ",
        "outputId": "5851ed45-93bb-49cb-87aa-99b39b3e5f70"
      },
      "source": [
        "import os\n",
        "# Find the latest version of spark 3.0  from http://www-us.apache.org/dist/spark/ and enter as the spark version\n",
        "# For example:\n",
        "# spark_version = 'spark-3.0.2'\n",
        "spark_version = 'spark-3.0.3'\n",
        "os.environ['SPARK_VERSION']=spark_version\n",
        "\n",
        "# Install Spark and Java\n",
        "!apt-get update\n",
        "!apt-get install openjdk-11-jdk-headless -qq > /dev/null\n",
        "#!wget -q http://www-us.apache.org/dist/spark/$SPARK_VERSION/$SPARK_VERSION-bin-hadoop2.7.tgz\n",
        "!wget -q https://downloads.apache.org/spark/$SPARK_VERSION/$SPARK_VERSION-bin-hadoop2.7.tgz\n",
        "\n",
        "!tar xf $SPARK_VERSION-bin-hadoop2.7.tgz\n",
        "!pip install -q findspark\n",
        "\n",
        "# Set Environment Variables\n",
        "os.environ[\"JAVA_HOME\"] = \"/usr/lib/jvm/java-11-openjdk-amd64\"\n",
        "os.environ[\"SPARK_HOME\"] = f\"/content/{spark_version}-bin-hadoop2.7\"\n",
        "\n",
        "# Start a SparkSession\n",
        "import findspark\n",
        "findspark.init()"
      ],
      "execution_count": null,
      "outputs": [
        {
          "output_type": "stream",
          "name": "stdout",
          "text": [
            "\r0% [Working]\r            \rGet:1 https://cloud.r-project.org/bin/linux/ubuntu bionic-cran40/ InRelease [3,626 B]\n",
            "\r0% [Connecting to archive.ubuntu.com] [Waiting for headers] [1 InRelease 0 B/3,\r0% [Connecting to archive.ubuntu.com] [Waiting for headers] [Connecting to ppa.\r                                                                               \rGet:2 http://security.ubuntu.com/ubuntu bionic-security InRelease [88.7 kB]\n",
            "Ign:3 https://developer.download.nvidia.com/compute/cuda/repos/ubuntu1804/x86_64  InRelease\n",
            "Ign:4 https://developer.download.nvidia.com/compute/machine-learning/repos/ubuntu1804/x86_64  InRelease\n",
            "Hit:5 http://ppa.launchpad.net/c2d4u.team/c2d4u4.0+/ubuntu bionic InRelease\n",
            "Hit:6 https://developer.download.nvidia.com/compute/cuda/repos/ubuntu1804/x86_64  Release\n",
            "Hit:7 https://developer.download.nvidia.com/compute/machine-learning/repos/ubuntu1804/x86_64  Release\n",
            "Hit:8 http://archive.ubuntu.com/ubuntu bionic InRelease\n",
            "Hit:9 http://ppa.launchpad.net/cran/libgit2/ubuntu bionic InRelease\n",
            "Get:10 http://archive.ubuntu.com/ubuntu bionic-updates InRelease [88.7 kB]\n",
            "Hit:11 http://ppa.launchpad.net/deadsnakes/ppa/ubuntu bionic InRelease\n",
            "Hit:12 http://ppa.launchpad.net/graphics-drivers/ppa/ubuntu bionic InRelease\n",
            "Get:13 http://archive.ubuntu.com/ubuntu bionic-backports InRelease [74.6 kB]\n",
            "Get:16 http://archive.ubuntu.com/ubuntu bionic-updates/main amd64 Packages [2,755 kB]\n",
            "Get:17 http://archive.ubuntu.com/ubuntu bionic-updates/universe amd64 Packages [2,202 kB]\n",
            "Fetched 5,213 kB in 3s (1,650 kB/s)\n",
            "Reading package lists... Done\n"
          ]
        }
      ]
    },
    {
      "cell_type": "code",
      "metadata": {
        "id": "O0rHvHEAHG53"
      },
      "source": [
        "# Start Spark session\n",
        "from pyspark.sql import SparkSession\n",
        "spark = SparkSession.builder.appName(\"FinalProject\").getOrCreate()"
      ],
      "execution_count": null,
      "outputs": []
    },
    {
      "cell_type": "code",
      "metadata": {
        "colab": {
          "base_uri": "https://localhost:8080/"
        },
        "id": "iuz4Xg_pHJyA",
        "outputId": "a0bd61c9-e1fa-4f2d-8c32-b62b9669c522"
      },
      "source": [
        "# Read in data from S3 Buckets\n",
        "#from pyspark import SparkFiles\n",
        "#url = \"https://databootcamp-final-05.s3.amazonaws.com/Resources/2005_expenditure.csv\"\n",
        "#df2 = spark.read.options(inferSchema='True',delimiter=',', header=True).csv(url)\n",
        "#df2.show()\n",
        "\n",
        "from pyspark import SparkFiles\n",
        "url = \"https://databootcamp-final-05.s3.amazonaws.com/Resources/Individual+Contributions+2013+(UF).csv\"\n",
        "spark.sparkContext.addFile(url)\n",
        "df = spark.read.csv(SparkFiles.get(\"Individual+Contributions+2013+(UF).csv\"), sep=\",\", header=True )\n",
        "df.show()"
      ],
      "execution_count": null,
      "outputs": [
        {
          "output_type": "stream",
          "name": "stdout",
          "text": [
            "+--------+--------+-------+--------+------------------+---------+------+--------+------+----------+--------+---------+----------+-------------------+------+-----+-------+---------+---------+-----------------+-----+-----+--------------+--------------------+--------+------------------+---------------+--------+----+---------+--------+----------+--------+----------+--------+--------+--------+-------+-----+------+----------+----------+----------+----------+--------+---------+---------+--------+---------+------+-------+----------+\n",
            "|ELECTION|OFFICECD|RECIPID|CANCLASS|         RECIPNAME|COMMITTEE|FILING|SCHEDULE|PAGENO|SEQUENCENO|   REFNO|     DATE|REFUNDDATE|               NAME|C_CODE|STRNO|STRNAME|APARTMENT|BOROUGHCD|             CITY|STATE|  ZIP|    OCCUPATION|             EMPNAME|EMPSTRNO|        EMPSTRNAME|        EMPCITY|EMPSTATE|AMNT|MATCHAMNT|PREVAMNT|PAY_METHOD|INTERMNO|INTERMNAME|INTSTRNO|INTSTRNM|INTAPTNO|INTCITY|INTST|INTZIP|INTEMPNAME|INTEMPSTNO|INTEMPSTNM|INTEMPCITY|INTEMPST|INTOCCUPA|PURPOSECD|EXEMPTCD|ADJTYPECD|RR_IND|SEG_IND|INT_C_CODE|\n",
            "+--------+--------+-------+--------+------------------+---------+------+--------+------+----------+--------+---------+----------+-------------------+------+-----+-------+---------+---------+-----------------+-----+-----+--------------+--------------------+--------+------------------+---------------+--------+----+---------+--------+----------+--------+----------+--------+--------+--------+-------+-----+------+----------+----------+----------+----------+--------+---------+---------+--------+---------+------+-------+----------+\n",
            "|    2013|       5|   1008|       P|Peterson, Daniel P|        I|     5|     ABC|  null|      null|R0000018|3/11/2012|      null|   Haywood, David B|   IND| null|   null|     null|        X|            Bronx|   NY|10458|     President|          SnarkMedia|     151|      First Avenue|       New York|      NY|  20|       20|       0|         4|    null|      null|    null|    null|    null|   null| null|  null|      null|      null|      null|      null|    null|     null|     null|    null|     null|     N|      N|      null|\n",
            "|    2013|       5|   1008|       P|Peterson, Daniel P|        I|     5|     ABC|  null|      null|R0000021| 3/6/2012|      null|      Herlihy, Neil|   IND| null|   null|     null|        Z|       Hunnington|   NY|11746|       Retired|                null|    null|              null|           null|    null|  25|        0|       0|         2|    null|      null|    null|    null|    null|   null| null|  null|      null|      null|      null|      null|    null|     null|     null|    null|     null|     N|      N|      null|\n",
            "|    2013|       5|   1008|       P|Peterson, Daniel P|        I|     5|     ABC|  null|      null|R0000023| 3/5/2012|      null|       Iocca, Karen|   IND| null|   null|     null|        Z|           Hobken|   NJ| 7030|    Unemployed|                null|    null|              null|           null|    null|  25|        0|       0|         2|    null|      null|    null|    null|    null|   null| null|  null|      null|      null|      null|      null|    null|     null|     null|    null|     null|     N|      N|      null|\n",
            "|    2013|       5|   1008|       P|Peterson, Daniel P|        I|     5|     ABC|  null|      null|R0000025| 3/6/2012|      null|   Lewenberg, Ilana|   IND| null|   null|     null|        M|         New York|   NY|10065|Vice President|      Lewenberg, LLC|     184|  East 70th Street|       New York|      NY|  25|       25|       0|         2|    null|      null|    null|    null|    null|   null| null|  null|      null|      null|      null|      null|    null|     null|     null|    null|     null|     N|      N|      null|\n",
            "|    2013|       5|   1008|       P|Peterson, Daniel P|        I|     5|     ABC|  null|      null|R0000027| 3/5/2012|      null|     Tolani, Sanjay|   IND| null|   null|     null|        M|         New York|   NY|10023|Head of NA Ops|      3i Infotech WE|      55|      Broad Street|       New York|      NY| 200|      175|       0|         2|    null|      null|    null|    null|    null|   null| null|  null|      null|      null|      null|      null|    null|     null|     null|    null|     null|     N|      N|      null|\n",
            "|    2013|       5|   1008|       P|Peterson, Daniel P|        I|     5|     ABC|  null|      null|R0000031| 6/7/2012|      null|    Viguola, Louise|   IND| null|   null|     null|        Q|         Woodside|   NY|11377|       Manager|               Segal|     333|  West 34th Street|       New York|      NY|  60|       60|       0|         1|    null|      null|    null|    null|    null|   null| null|  null|      null|      null|      null|      null|    null|     null|     null|    null|     null|     N|      N|      null|\n",
            "|    2013|       5|   1008|       P|Peterson, Daniel P|        I|     5|     ABC|  null|      null|R0000033| 6/7/2012|      null|       Stone, Jared|   IND| null|   null|     null|        M|         New York|   NY|10028|       Student|                null|    null|              null|           null|    null|  40|       40|       0|         1|    null|      null|    null|    null|    null|   null| null|  null|      null|      null|      null|      null|    null|     null|     null|    null|     null|     N|      N|      null|\n",
            "|    2013|       5|   1008|       P|Peterson, Daniel P|        I|     5|     ABC|  null|      null|R0000036| 6/7/2012|      null|   Kronenberg, Mark|   IND| null|   null|     null|        Q|  Oakland Gardens|   NY|11364|      Director|     Math 1-2-3 Inc.|   48-30|      201st Street|Oakland Gardens|      NY|  25|       25|       0|         1|    null|      null|    null|    null|    null|   null| null|  null|      null|      null|      null|      null|    null|     null|     null|    null|     null|     N|      N|      null|\n",
            "|    2013|       5|   1008|       P|Peterson, Daniel P|        I|     5|     ABC|  null|      null|R0000038| 6/7/2012|      null|       Heslin, Owen|   IND| null|   null|     null|        X|            Bronx|   NY|10451|        Lawyer|       Self-Employed|    null|              null|          Bronx|      NY|  25|       25|      20|         1|    null|      null|    null|    null|    null|   null| null|  null|      null|      null|      null|      null|    null|     null|     null|    null|     null|     N|      N|      null|\n",
            "|    2013|       5|   1008|       P|Peterson, Daniel P|        I|     5|     ABC|  null|      null|R0000040| 6/7/2012|      null|      Perry, Gerard|   IND| null|   null|     null|        S|    Staten Island|   NY|10304|    Unemployed|                null|    null|              null|           null|    null|  25|       25|       0|         1|    null|      null|    null|    null|    null|   null| null|  null|      null|      null|      null|      null|    null|     null|     null|    null|     null|     N|      N|      null|\n",
            "|    2013|       5|   1008|       P|Peterson, Daniel P|        I|     5|     ABC|  null|      null|R0000042| 6/7/2012|      null|     Chandra, Ashok|   IND| null|   null|     null|        Q| Long Island City|   NY|11109|      Attorney|       Bloomberg LLP|     731|  Lexington Avenue|       New York|      NY|  25|       25|      60|         1|    null|      null|    null|    null|    null|   null| null|  null|      null|      null|      null|      null|    null|     null|     null|    null|     null|     N|      N|      null|\n",
            "|    2013|       5|   1008|       P|Peterson, Daniel P|        I|     5|     ABC|  null|      null|R0000046| 6/7/2012|      null|          Ashe, Dan|   IND| null|   null|     null|        Q| Long Island City|   NY|11109|        Lawyer|Patterson Belknap...|    1153|Avenue of Americas|       New York|      NY| 100|      100|       0|         2|    null|      null|    null|    null|    null|   null| null|  null|      null|      null|      null|      null|    null|     null|     null|    null|     null|     N|      N|      null|\n",
            "|    2013|       5|   1008|       P|Peterson, Daniel P|        I|     5|     ABC|  null|      null|R0000048|6/17/2012|      null|      Yurcan, Bryan|   IND| null|   null|     null|        Z|Hasbrouck Heights|   NJ| 7604|          null|                 VBM|     240|  West 35th Street|       New York|      NY|  20|        0|       0|         2|    null|      null|    null|    null|    null|   null| null|  null|      null|      null|      null|      null|    null|     null|     null|    null|     null|     N|      N|      null|\n",
            "|    2013|       5|   1008|       P|Peterson, Daniel P|        I|     5|     ABC|  null|      null|R0000050| 6/7/2012|      null|  Bigelow, Margaret|   IND| null|   null|     null|        Q|          Astoria|   NY|11103|  Adminstrator|New Leaf Venture ...|       7|      Times Square|       New York|      NY|  25|       25|       0|         2|    null|      null|    null|    null|    null|   null| null|  null|      null|      null|      null|      null|    null|     null|     null|    null|     null|     N|      N|      null|\n",
            "|    2013|       5|   1008|       P|Peterson, Daniel P|        I|     5|     ABC|  null|      null|R0000052| 6/7/2012|      null|       Lewis, Harry|   IND| null|   null|     null|        X|     Pelham Manor|   NY|10803|        Lawyer|       Self Employed|    null|              null|       New York|      NY| 100|      100|       0|         2|    null|      null|    null|    null|    null|   null| null|  null|      null|      null|      null|      null|    null|     null|     null|    null|     null|     N|      N|      null|\n",
            "|    2013|       5|   1008|       P|Peterson, Daniel P|        I|     5|     ABC|  null|      null|R0000053|3/13/2012|      null|       Heslin, Owen|   IND| null|   null|     null|        X|            Bronx|   NY|10451|        Lawyer|       Self-Employed|    null|              null|          Bronx|      NY|  20|       20|       0|         4|    null|      null|    null|    null|    null|   null| null|  null|      null|      null|      null|      null|    null|     null|     null|    null|     null|     N|      N|      null|\n",
            "|    2013|       5|   1008|       P|Peterson, Daniel P|        I|     5|     ABC|  null|      null|R0000055|3/15/2012|      null|      Rincker, Cari|   IND| null|   null|     null|        M|         New York|   NY|10024|        Lawyer|   Rincker Law, PLLC|     535|      Fifth Avenue|       New York|      NY|  30|       30|       0|         4|    null|      null|    null|    null|    null|   null| null|  null|      null|      null|      null|      null|    null|     null|     null|    null|     null|     N|      N|      null|\n",
            "|    2013|       5|   1008|       P|Peterson, Daniel P|        I|     5|     ABC|  null|      null|R0000057|3/19/2012|      null|  LaVerghetta, Dino|   IND| null|   null|     null|        M|         New York|   NY|10065|        Lawyer|Debevoise & Plimp...|     919|      Third Avenue|       New York|      NY|  50|       50|       0|         4|    null|      null|    null|    null|    null|   null| null|  null|      null|      null|      null|      null|    null|     null|     null|    null|     null|     N|      N|      null|\n",
            "|    2013|       5|   1008|       P|Peterson, Daniel P|        I|     5|     ABC|  null|      null|R0000059|4/11/2012|      null|     Chandra, Ashok|   IND| null|   null|     null|        Q| Long Island City|   NY|11109|      Attorney|       Bloomberg LLP|     731|  Lexington Avenue|       New York|      NY|  60|       60|       0|         4|    null|      null|    null|    null|    null|   null| null|  null|      null|      null|      null|      null|    null|     null|     null|    null|     null|     N|      N|      null|\n",
            "|    2013|       5|   1008|       P|Peterson, Daniel P|        I|     5|     ABC|  null|      null|R0000061|3/20/2012|      null|Greenberg, Samuel J|   IND| null|   null|     null|        Q|      Little Neck|   NY|11363|       Retired|  United States Navy|    null|              null|    Little Neck|      NY|  25|       25|       0|         4|    null|      null|    null|    null|    null|   null| null|  null|      null|      null|      null|      null|    null|     null|     null|    null|     null|     N|      N|      null|\n",
            "+--------+--------+-------+--------+------------------+---------+------+--------+------+----------+--------+---------+----------+-------------------+------+-----+-------+---------+---------+-----------------+-----+-----+--------------+--------------------+--------+------------------+---------------+--------+----+---------+--------+----------+--------+----------+--------+--------+--------+-------+-----+------+----------+----------+----------+----------+--------+---------+---------+--------+---------+------+-------+----------+\n",
            "only showing top 20 rows\n",
            "\n"
          ]
        }
      ]
    },
    {
      "cell_type": "code",
      "metadata": {
        "colab": {
          "base_uri": "https://localhost:8080/"
        },
        "id": "Bmgs7_Du1aZ0",
        "outputId": "a12bd936-3f14-4258-bc2c-900c07585b81"
      },
      "source": [
        "df.dtypes"
      ],
      "execution_count": null,
      "outputs": [
        {
          "output_type": "execute_result",
          "data": {
            "text/plain": [
              "[('ELECTION', 'string'),\n",
              " ('OFFICECD', 'string'),\n",
              " ('RECIPID', 'string'),\n",
              " ('CANCLASS', 'string'),\n",
              " ('RECIPNAME', 'string'),\n",
              " ('COMMITTEE', 'string'),\n",
              " ('FILING', 'string'),\n",
              " ('SCHEDULE', 'string'),\n",
              " ('PAGENO', 'string'),\n",
              " ('SEQUENCENO', 'string'),\n",
              " ('REFNO', 'string'),\n",
              " ('DATE', 'string'),\n",
              " ('REFUNDDATE', 'string'),\n",
              " ('NAME', 'string'),\n",
              " ('C_CODE', 'string'),\n",
              " ('STRNO', 'string'),\n",
              " ('STRNAME', 'string'),\n",
              " ('APARTMENT', 'string'),\n",
              " ('BOROUGHCD', 'string'),\n",
              " ('CITY', 'string'),\n",
              " ('STATE', 'string'),\n",
              " ('ZIP', 'string'),\n",
              " ('OCCUPATION', 'string'),\n",
              " ('EMPNAME', 'string'),\n",
              " ('EMPSTRNO', 'string'),\n",
              " ('EMPSTRNAME', 'string'),\n",
              " ('EMPCITY', 'string'),\n",
              " ('EMPSTATE', 'string'),\n",
              " ('AMNT', 'string'),\n",
              " ('MATCHAMNT', 'string'),\n",
              " ('PREVAMNT', 'string'),\n",
              " ('PAY_METHOD', 'string'),\n",
              " ('INTERMNO', 'string'),\n",
              " ('INTERMNAME', 'string'),\n",
              " ('INTSTRNO', 'string'),\n",
              " ('INTSTRNM', 'string'),\n",
              " ('INTAPTNO', 'string'),\n",
              " ('INTCITY', 'string'),\n",
              " ('INTST', 'string'),\n",
              " ('INTZIP', 'string'),\n",
              " ('INTEMPNAME', 'string'),\n",
              " ('INTEMPSTNO', 'string'),\n",
              " ('INTEMPSTNM', 'string'),\n",
              " ('INTEMPCITY', 'string'),\n",
              " ('INTEMPST', 'string'),\n",
              " ('INTOCCUPA', 'string'),\n",
              " ('PURPOSECD', 'string'),\n",
              " ('EXEMPTCD', 'string'),\n",
              " ('ADJTYPECD', 'string'),\n",
              " ('RR_IND', 'string'),\n",
              " ('SEG_IND', 'string'),\n",
              " ('INT_C_CODE', 'string')]"
            ]
          },
          "metadata": {},
          "execution_count": 54
        }
      ]
    },
    {
      "cell_type": "code",
      "metadata": {
        "colab": {
          "base_uri": "https://localhost:8080/"
        },
        "id": "YmwP3jA730SB",
        "outputId": "66af194a-d108-4135-d689-e923b8991fe9"
      },
      "source": [
        "# Remove multiple columns\n",
        "list = ['COMMITTEE', 'FILING', 'SCHEDULE', 'PAGENO', 'SEQUENCENO','REFNO', 'STRNO', 'STRNAME', 'APARTMENT', 'OCCUPATION', 'EMPNAME', 'EMPSTRNO', 'EMPSTRNAME',\n",
        "                'EMPCITY','EMPSTATE','INTERMNO', 'INTERMNAME', 'INTSTRNO', 'INTSTRNM', 'INTSTRNM', 'INTAPTNO',\n",
        "                'INTCITY', 'INTST','INTZIP', 'INTEMPNAME', 'INTEMPSTNO', 'INTEMPSTNM', 'INTEMPCITY', 'INTEMPST', 'INTOCCUPA' ,'PURPOSECD', 'EXEMPTCD','ADJTYPECD', 'RR_IND', 'SEG_IND','INT_C_CODE'] \n",
        "df = df.drop(*list)\n",
        "df.show()"
      ],
      "execution_count": null,
      "outputs": [
        {
          "output_type": "stream",
          "name": "stdout",
          "text": [
            "+--------+--------+-------+--------+------------------+---------+----------+-------------------+------+---------+-----------------+-----+-----+----+---------+--------+----------+\n",
            "|ELECTION|OFFICECD|RECIPID|CANCLASS|         RECIPNAME|     DATE|REFUNDDATE|               NAME|C_CODE|BOROUGHCD|             CITY|STATE|  ZIP|AMNT|MATCHAMNT|PREVAMNT|PAY_METHOD|\n",
            "+--------+--------+-------+--------+------------------+---------+----------+-------------------+------+---------+-----------------+-----+-----+----+---------+--------+----------+\n",
            "|    2013|       5|   1008|       P|Peterson, Daniel P|3/11/2012|      null|   Haywood, David B|   IND|        X|            Bronx|   NY|10458|  20|       20|       0|         4|\n",
            "|    2013|       5|   1008|       P|Peterson, Daniel P| 3/6/2012|      null|      Herlihy, Neil|   IND|        Z|       Hunnington|   NY|11746|  25|        0|       0|         2|\n",
            "|    2013|       5|   1008|       P|Peterson, Daniel P| 3/5/2012|      null|       Iocca, Karen|   IND|        Z|           Hobken|   NJ| 7030|  25|        0|       0|         2|\n",
            "|    2013|       5|   1008|       P|Peterson, Daniel P| 3/6/2012|      null|   Lewenberg, Ilana|   IND|        M|         New York|   NY|10065|  25|       25|       0|         2|\n",
            "|    2013|       5|   1008|       P|Peterson, Daniel P| 3/5/2012|      null|     Tolani, Sanjay|   IND|        M|         New York|   NY|10023| 200|      175|       0|         2|\n",
            "|    2013|       5|   1008|       P|Peterson, Daniel P| 6/7/2012|      null|    Viguola, Louise|   IND|        Q|         Woodside|   NY|11377|  60|       60|       0|         1|\n",
            "|    2013|       5|   1008|       P|Peterson, Daniel P| 6/7/2012|      null|       Stone, Jared|   IND|        M|         New York|   NY|10028|  40|       40|       0|         1|\n",
            "|    2013|       5|   1008|       P|Peterson, Daniel P| 6/7/2012|      null|   Kronenberg, Mark|   IND|        Q|  Oakland Gardens|   NY|11364|  25|       25|       0|         1|\n",
            "|    2013|       5|   1008|       P|Peterson, Daniel P| 6/7/2012|      null|       Heslin, Owen|   IND|        X|            Bronx|   NY|10451|  25|       25|      20|         1|\n",
            "|    2013|       5|   1008|       P|Peterson, Daniel P| 6/7/2012|      null|      Perry, Gerard|   IND|        S|    Staten Island|   NY|10304|  25|       25|       0|         1|\n",
            "|    2013|       5|   1008|       P|Peterson, Daniel P| 6/7/2012|      null|     Chandra, Ashok|   IND|        Q| Long Island City|   NY|11109|  25|       25|      60|         1|\n",
            "|    2013|       5|   1008|       P|Peterson, Daniel P| 6/7/2012|      null|          Ashe, Dan|   IND|        Q| Long Island City|   NY|11109| 100|      100|       0|         2|\n",
            "|    2013|       5|   1008|       P|Peterson, Daniel P|6/17/2012|      null|      Yurcan, Bryan|   IND|        Z|Hasbrouck Heights|   NJ| 7604|  20|        0|       0|         2|\n",
            "|    2013|       5|   1008|       P|Peterson, Daniel P| 6/7/2012|      null|  Bigelow, Margaret|   IND|        Q|          Astoria|   NY|11103|  25|       25|       0|         2|\n",
            "|    2013|       5|   1008|       P|Peterson, Daniel P| 6/7/2012|      null|       Lewis, Harry|   IND|        X|     Pelham Manor|   NY|10803| 100|      100|       0|         2|\n",
            "|    2013|       5|   1008|       P|Peterson, Daniel P|3/13/2012|      null|       Heslin, Owen|   IND|        X|            Bronx|   NY|10451|  20|       20|       0|         4|\n",
            "|    2013|       5|   1008|       P|Peterson, Daniel P|3/15/2012|      null|      Rincker, Cari|   IND|        M|         New York|   NY|10024|  30|       30|       0|         4|\n",
            "|    2013|       5|   1008|       P|Peterson, Daniel P|3/19/2012|      null|  LaVerghetta, Dino|   IND|        M|         New York|   NY|10065|  50|       50|       0|         4|\n",
            "|    2013|       5|   1008|       P|Peterson, Daniel P|4/11/2012|      null|     Chandra, Ashok|   IND|        Q| Long Island City|   NY|11109|  60|       60|       0|         4|\n",
            "|    2013|       5|   1008|       P|Peterson, Daniel P|3/20/2012|      null|Greenberg, Samuel J|   IND|        Q|      Little Neck|   NY|11363|  25|       25|       0|         4|\n",
            "+--------+--------+-------+--------+------------------+---------+----------+-------------------+------+---------+-----------------+-----+-----+----+---------+--------+----------+\n",
            "only showing top 20 rows\n",
            "\n"
          ]
        }
      ]
    },
    {
      "cell_type": "code",
      "metadata": {
        "colab": {
          "base_uri": "https://localhost:8080/"
        },
        "id": "xDSOeFt6AKQu",
        "outputId": "ba60cd34-a15a-4bbd-979c-3788e5d92c4f"
      },
      "source": [
        "df1 = df \\\n",
        ".withColumnRenamed(\"ELECTION\", \"Election\") \\\n",
        ".withColumnRenamed(\"RECIPID\", \"CanId\") \\\n",
        ".withColumnRenamed(\"RECIPNAME\", \"CandidateName\") \\\n",
        ".withColumnRenamed(\"DATE\", \"Date\") \\\n",
        ".withColumnRenamed(\"NAME\", \"Name\") \\\n",
        ".withColumnRenamed(\"DATE\", \"Date\") \\\n",
        ".withColumnRenamed(\"C_CODE\", \"ContributerType\") \\\n",
        ".withColumnRenamed(\"BOROUGHCD\", \"BoroughName\") \\\n",
        ".withColumnRenamed(\"CITY\", \"City\") \\\n",
        ".withColumnRenamed(\"STATE\", \"State\") \\\n",
        ".withColumnRenamed(\"ZIP\", \"Zip\") \\\n",
        ".withColumnRenamed(\"AMNT\", \"Amount\") \\\n",
        ".withColumnRenamed(\"MATCHAMNT\", \"MatchAmt\") \\\n",
        ".withColumnRenamed(\"PREVAMNT\", \"PrevAmt\") \\\n",
        ".withColumnRenamed(\"PAY_METHOD\", \"PayMethod\") \n",
        "\n",
        "df1.printSchema()\n"
      ],
      "execution_count": null,
      "outputs": [
        {
          "output_type": "stream",
          "name": "stdout",
          "text": [
            "root\n",
            " |-- Election: string (nullable = true)\n",
            " |-- OFFICECD: string (nullable = true)\n",
            " |-- CanId: string (nullable = true)\n",
            " |-- CANCLASS: string (nullable = true)\n",
            " |-- CandidateName: string (nullable = true)\n",
            " |-- Date: string (nullable = true)\n",
            " |-- REFUNDDATE: string (nullable = true)\n",
            " |-- Name: string (nullable = true)\n",
            " |-- ContributerType: string (nullable = true)\n",
            " |-- BoroughName: string (nullable = true)\n",
            " |-- City: string (nullable = true)\n",
            " |-- State: string (nullable = true)\n",
            " |-- Zip: string (nullable = true)\n",
            " |-- Amount: string (nullable = true)\n",
            " |-- MatchAmt: string (nullable = true)\n",
            " |-- PrevAmt: string (nullable = true)\n",
            " |-- PayMethod: string (nullable = true)\n",
            "\n"
          ]
        }
      ]
    },
    {
      "cell_type": "code",
      "metadata": {
        "id": "pkQgdWxaGZJU"
      },
      "source": [
        "from datetime import datetime\n",
        "from pyspark.sql.functions import col, udf\n",
        "from pyspark.sql.types import DateType"
      ],
      "execution_count": null,
      "outputs": []
    },
    {
      "cell_type": "code",
      "metadata": {
        "id": "fSWTj4YSgv_J"
      },
      "source": [
        "# using lambda function to convert date col to datetype\n",
        "func =  udf (lambda x: datetime.strptime(x, '%m/%d/%Y'), DateType())"
      ],
      "execution_count": null,
      "outputs": []
    },
    {
      "cell_type": "code",
      "metadata": {
        "colab": {
          "base_uri": "https://localhost:8080/"
        },
        "id": "nAYEoWF64Vvs",
        "outputId": "c2c7f593-7602-449a-9b08-c2b0f200f133"
      },
      "source": [
        "# changing datatypes of columns\n",
        "df2 = df1.withColumn(\"Election\",df1[\"Election\"].cast(\"Integer\")) \\\n",
        "  .withColumn(\"OFFICECD\", df1[\"OFFICECD\"].cast(\"Integer\")) \\\n",
        "  .withColumn(\"CanId\", df1[\"CanId\"].cast(\"Integer\")) \\\n",
        "  .withColumn(\"Zip\", df1[\"Zip\"].cast(\"Integer\")) \\\n",
        "  .withColumn(\"Amount\", df1[\"Amount\"].cast(\"Float\")) \\\n",
        "  .withColumn(\"MatchAmt\", df1[\"MatchAmt\"].cast(\"Float\")) \\\n",
        "  .withColumn(\"PrevAmt\", df1[\"PrevAmt\"].cast(\"Float\")) \\\n",
        "  .withColumn('Date', func(col('Date'))) \\\n",
        "  .withColumn(\"REFUNDDATE\", df1[\"REFUNDDATE\"].cast(\"Date\")) \n",
        "  \n",
        "df2.printSchema()"
      ],
      "execution_count": null,
      "outputs": [
        {
          "output_type": "stream",
          "name": "stdout",
          "text": [
            "root\n",
            " |-- Election: integer (nullable = true)\n",
            " |-- OFFICECD: integer (nullable = true)\n",
            " |-- CanId: integer (nullable = true)\n",
            " |-- CANCLASS: string (nullable = true)\n",
            " |-- CandidateName: string (nullable = true)\n",
            " |-- Date: date (nullable = true)\n",
            " |-- REFUNDDATE: date (nullable = true)\n",
            " |-- Name: string (nullable = true)\n",
            " |-- ContributerType: string (nullable = true)\n",
            " |-- BoroughName: string (nullable = true)\n",
            " |-- City: string (nullable = true)\n",
            " |-- State: string (nullable = true)\n",
            " |-- Zip: integer (nullable = true)\n",
            " |-- Amount: float (nullable = true)\n",
            " |-- MatchAmt: float (nullable = true)\n",
            " |-- PrevAmt: float (nullable = true)\n",
            " |-- PayMethod: string (nullable = true)\n",
            "\n"
          ]
        }
      ]
    },
    {
      "cell_type": "code",
      "metadata": {
        "id": "vXtBqyP44bGl"
      },
      "source": [
        " df3 = df2.filter((df.OFFICECD==\"1\") & (df2.CANCLASS==\"P\"))"
      ],
      "execution_count": null,
      "outputs": []
    },
    {
      "cell_type": "code",
      "metadata": {
        "colab": {
          "base_uri": "https://localhost:8080/"
        },
        "id": "esGK2U_D5N0M",
        "outputId": "d0ee14b4-4909-4f8a-a4ef-2ac54a774327"
      },
      "source": [
        "df3.show()"
      ],
      "execution_count": null,
      "outputs": [
        {
          "output_type": "stream",
          "name": "stdout",
          "text": [
            "+--------+--------+-----+--------+--------------------+----------+----------+-------------------+---------------+-----------+--------------+-----+-----+------+--------+-------+---------+\n",
            "|Election|OFFICECD|CanId|CANCLASS|       CandidateName|      Date|REFUNDDATE|               Name|ContributerType|BoroughName|          City|State|  Zip|Amount|MatchAmt|PrevAmt|PayMethod|\n",
            "+--------+--------+-----+--------+--------------------+----------+----------+-------------------+---------------+-----------+--------------+-----+-----+------+--------+-------+---------+\n",
            "|    2013|       1| 1286|       P|Coenen, Jr., Kevin P|2013-01-25|      null|    Coenen, Kevin P|            CAN|          Z|     Nesconset|   NY|11767|  10.0|     0.0|    0.0|        4|\n",
            "|    2013|       1| 1286|       P|Coenen, Jr., Kevin P|2013-04-17|      null|     Walter, Dorsey|            IND|          M|      New York|   NY|10150| 175.0|   175.0|    0.0|        4|\n",
            "|    2013|       1| 1286|       P|Coenen, Jr., Kevin P|2013-01-25|      null|    Coenen, Kevin P|            CAN|          Z|     Nesconset|   NY|11767| -10.0|     0.0|    0.0|        0|\n",
            "|    2013|       1| 1551|       P|     Marks, Philip A|2012-02-13|      null|      Marks, Philip|            CAN|          K|      Brooklyn|   NY|11236| 400.0|   175.0|    0.0|        2|\n",
            "|    2013|       1| 1551|       P|     Marks, Philip A|2013-02-28|      null|      Marks, Philip|            CAN|          K|      Brooklyn|   NY|11236| 100.0|     0.0|  400.0|        1|\n",
            "|    2013|       1| 1639|       P|Berkowitz, Ceceil...|2013-05-24|      null|         Roc, Stacy|            IND|          Z|     Uniondale|   NY|11553|  10.0|     0.0|    0.0|        1|\n",
            "|    2013|       1| 1639|       P|Berkowitz, Ceceil...|2013-05-18|      null|         He, Yufeng|            IND|          K|      Brooklyn|   NY|11220|  10.0|    10.0|    0.0|        1|\n",
            "|    2013|       1| 1639|       P|Berkowitz, Ceceil...|2013-05-18|      null|    Yaqoobi, Naseir|            IND|          Z| Lake Hiawatha|   NJ| 7034|  10.0|     0.0|    0.0|        1|\n",
            "|    2013|       1| 1639|       P|Berkowitz, Ceceil...|2013-07-12|      null|        Fung, Kevin|            IND|          X|         Bronx|   NY|10461|  10.0|    10.0|    0.0|        1|\n",
            "|    2013|       1| 1639|       P|Berkowitz, Ceceil...|2013-08-01|      null|Monroe, Christopher|            IND|          Z|   Mt. Lebanon|   PA|15228|  10.0|     0.0|   10.0|        4|\n",
            "|    2013|       1| 1639|       P|Berkowitz, Ceceil...|2013-07-31|      null|     Beegan, Daniel|            IND|          Z|   Beech Grove|   IN|46107|  10.0|     0.0|    0.0|        4|\n",
            "|    2013|       1| 1639|       P|Berkowitz, Ceceil...|2013-07-29|      null|         Will, Eric|            IND|          Z|     Knoxville|   TN|37920|  10.0|     0.0|    0.0|        4|\n",
            "|    2013|       1| 1639|       P|Berkowitz, Ceceil...|2013-07-29|      null|         Will, Eric|            IND|          Z|     Knoxville|   TN|37920|  10.0|     0.0|    0.0|        4|\n",
            "|    2013|       1| 1639|       P|Berkowitz, Ceceil...|2013-07-29|      null|Monroe, Christopher|            IND|          Z|   Mt. Lebanon|   PA|15228|  10.0|     0.0|    0.0|        4|\n",
            "|    2013|       1| 1639|       P|Berkowitz, Ceceil...|2013-07-19|      null|      Judd, Timothy|            IND|          Z|       Houston|   TX|77018|  10.0|     0.0|    0.0|        4|\n",
            "|    2013|       1| 1639|       P|Berkowitz, Ceceil...|2013-07-19|      null|    Laohoo, William|            IND|          Z|East Brunswick|   NJ| 8816|  20.0|     0.0|    0.0|        4|\n",
            "|    2013|       1| 1666|       P|    Salgado, Erick J|2012-12-13|      null|    Acevedo, Alexie|            IND|          Z|     Brentwood|   NY|11717| 100.0|     0.0|    0.0|        1|\n",
            "|    2013|       1| 1666|       P|    Salgado, Erick J|2012-12-26|      null|   Salgado, Erick J|            CAN|          S| Staten Island|   NY|10302|4000.0|   175.0|    0.0|        2|\n",
            "|    2013|       1| 1666|       P|    Salgado, Erick J|2012-12-14|      null|     Vargas, Lucino|            IND|          K|      Brooklyn|   NY|11220| 500.0|   175.0|    0.0|        2|\n",
            "|    2013|       1| 1666|       P|    Salgado, Erick J|2012-12-13|      null|    Torres, Marcial|            IND|          Z|       Matawan|   NJ| 7747| 500.0|     0.0|    0.0|        2|\n",
            "+--------+--------+-----+--------+--------------------+----------+----------+-------------------+---------------+-----------+--------------+-----+-----+------+--------+-------+---------+\n",
            "only showing top 20 rows\n",
            "\n"
          ]
        }
      ]
    },
    {
      "cell_type": "code",
      "metadata": {
        "colab": {
          "base_uri": "https://localhost:8080/"
        },
        "id": "NtpO0e3Ziu6i",
        "outputId": "6e70cd86-34c1-4708-ec7f-b9d70bd0dc6d"
      },
      "source": [
        "df2.filter((df2.CanId == 1796)).show(100)"
      ],
      "execution_count": null,
      "outputs": [
        {
          "output_type": "stream",
          "name": "stdout",
          "text": [
            "+--------+--------+-----+--------+--------------+----------+----------+--------------------+---------------+-----------+-------------+-----+-----+------+--------+-------+---------+\n",
            "|Election|OFFICECD|CanId|CANCLASS| CandidateName|      Date|REFUNDDATE|                Name|ContributerType|BoroughName|         City|State|  Zip|Amount|MatchAmt|PrevAmt|PayMethod|\n",
            "+--------+--------+-----+--------+--------------+----------+----------+--------------------+---------------+-----------+-------------+-----+-----+------+--------+-------+---------+\n",
            "|    2013|       1| 1796|       P|Hidary, Jack D|2013-06-30|      null|        Tawil, Ralph|            IND|          Z|  Long Branch|   NJ| 7740|4950.0|     0.0|    0.0|        2|\n",
            "|    2013|       1| 1796|       P|Hidary, Jack D|2013-07-01|      null|         Tawil, Saul|            IND|          Z|      Elberon|   NJ| 7723|4950.0|     0.0|    0.0|        2|\n",
            "|    2013|       1| 1796|       P|Hidary, Jack D|2013-07-02|      null|       Ben Haim, Zvi|            IND|          K|     Brooklyn|   NY|11223|4950.0|     0.0|    0.0|        2|\n",
            "|    2013|       1| 1796|       P|Hidary, Jack D|2013-07-09|      null|     Franco, Abraham|            IND|          K|     Brooklyn|   NY|11230|1800.0|   175.0|    0.0|        2|\n",
            "|    2013|       1| 1796|       P|Hidary, Jack D|2013-07-08|      null|       Shalom, David|            IND|          K|     Brooklyn|   NY|11230|4950.0|   175.0|    0.0|        2|\n",
            "|    2013|       1| 1796|       P|Hidary, Jack D|2013-07-07|      null|     Tabush, Valerie|            IND|          Z|     Oakhurst|   NJ| 7766| 500.0|     0.0|    0.0|        2|\n",
            "|    2013|       1| 1796|       P|Hidary, Jack D|2013-07-08|      null|    Hidary, Benjamin|            IND|          M|     New York|   NY|10021| 175.0|   175.0|    0.0|        2|\n",
            "|    2013|       1| 1796|       P|Hidary, Jack D|2013-07-07|      null|          Beda, Leon|            IND|          K|     Brooklyn|   NY|11223| 175.0|   175.0|    0.0|        2|\n",
            "|    2013|       1| 1796|       P|Hidary, Jack D|2013-07-09|      null|     Matalon, Joseph|            IND|          K|     Brooklyn|   NY|11210| 175.0|   175.0|    0.0|        2|\n",
            "|    2013|       1| 1796|       P|Hidary, Jack D|2013-07-09|      null|      Matalon, Pearl|            IND|          K|     Brooklyn|   NY|11230| 175.0|   175.0|    0.0|        2|\n",
            "|    2013|       1| 1796|       P|Hidary, Jack D|2013-07-07|      null|    Matalon, Barbara|            IND|          K|     Brooklyn|   NY|11230| 175.0|   175.0|    0.0|        2|\n",
            "|    2013|       1| 1796|       P|Hidary, Jack D|2013-07-03|      null|       Matalon, Leah|            IND|          K|     Brooklyn|   NY|11230| 175.0|   175.0|    0.0|        2|\n",
            "|    2013|       1| 1796|       P|Hidary, Jack D|2013-07-08|      null|      Salem, Raymond|            IND|          K|     Brooklyn|   NY|11223|2425.0|   175.0|    0.0|        2|\n",
            "|    2013|       1| 1796|       P|Hidary, Jack D|2013-07-08|      null|      Mizrachi, Ezra|            IND|          K|     Brooklyn|   NY|11223| 175.0|   175.0|    0.0|        2|\n",
            "|    2013|       1| 1796|       P|Hidary, Jack D|2013-07-07|      null|          Cohen, Ely|            IND|       null|         null| null| null| 175.0|     0.0|    0.0|        2|\n",
            "|    2013|       1| 1796|       P|Hidary, Jack D|2013-07-09|      null|      Sutton, albert|            IND|          K|     Brooklyn|   NY|11230|2475.0|     0.0|    0.0|        2|\n",
            "|    2013|       1| 1796|       P|Hidary, Jack D|2013-07-09|      null|        salem, david|            IND|          K|     Brooklyn|   NY|11223| 175.0|   175.0|    0.0|        2|\n",
            "|    2013|       1| 1796|       P|Hidary, Jack D|2013-07-10|      null|       Novick, Ricky|            IND|          K|     Brooklyn|   NY|11230| 175.0|   175.0|    0.0|        2|\n",
            "|    2013|       1| 1796|       P|Hidary, Jack D|2013-07-28|      null|    Corbet, Kathleen|            IND|          Z|   New Canaan|   CT| 6840| 100.0|     0.0|    0.0|        4|\n",
            "|    2013|       1| 1796|       P|Hidary, Jack D|2013-07-18|      null| Farmaian, Teymour F|            IND|          Z|    Palo Alto|   CA|94301| 250.0|     0.0|    0.0|        4|\n",
            "|    2013|       1| 1796|       P|Hidary, Jack D|2013-07-28|      null|       Shapiro, Saul|            IND|          M|     New York|   NY|10128| 12.13|    12.0|    0.0|        4|\n",
            "|    2013|       1| 1796|       P|Hidary, Jack D|2013-07-28|      null|      Leo, Alexandra|            IND|          M|     New York|   NY|10003| 100.0|   100.0|    0.0|        4|\n",
            "|    2013|       1| 1796|       P|Hidary, Jack D|2013-07-28|      null|      Hoffman, Auren|            IND|          Z|San Francisco|   CA|94133| 100.0|     0.0|    0.0|        4|\n",
            "|    2013|       1| 1796|       P|Hidary, Jack D|2013-07-28|      null|     Devaney, Thomas|            IND|          Z|    Greenwich|   CT| 6830|  50.0|     0.0|    0.0|        4|\n",
            "|    2013|       1| 1796|       P|Hidary, Jack D|2013-07-28|      null|      Kumana, Sarosh|            IND|          Z|San Francisco|   CA|94117| 175.0|     0.0|    0.0|        4|\n",
            "|    2013|       1| 1796|       P|Hidary, Jack D|2013-07-28|      null|     Pereira, Andres|            IND|          M|     New York|   NY|10019| 100.0|   100.0|    0.0|        4|\n",
            "|    2013|       1| 1796|       P|Hidary, Jack D|2013-07-29|      null|      Khoudari, Miro|            IND|          M|     New York|   NY|10016| 100.0|   100.0|    0.0|        4|\n",
            "|    2013|       1| 1796|       P|Hidary, Jack D|2013-07-28|      null|     Mampre, Virgina|            IND|          Z|      Houston|   TX|77057|  25.0|     0.0|    0.0|        4|\n",
            "|    2013|       1| 1796|       P|Hidary, Jack D|2013-07-29|      null|    Silverman, David|            IND|          Z|    Dix Hills|   NY|11746| 100.0|     0.0|    0.0|        4|\n",
            "|    2013|       1| 1796|       P|Hidary, Jack D|2013-07-29|      null|    Weissman, Andrew|            IND|          K|     Brooklyn|   NY|11217| 500.0|   175.0|    0.0|        4|\n",
            "|    2013|       1| 1796|       P|Hidary, Jack D|2013-07-29|      null|        Holden, John|            IND|          Z|     Plymouth|   MN|55442|  50.0|     0.0|    0.0|        4|\n",
            "|    2013|       1| 1796|       P|Hidary, Jack D|2013-07-28|      null|       Spataro, Tery|            IND|          Z|      Gilbert|   AZ|85298| 100.0|     0.0|    0.0|        4|\n",
            "|    2013|       1| 1796|       P|Hidary, Jack D|2013-07-28|      null|      Reeker, Philip|            IND|          Z|   Washington|   DC|20016| 100.0|     0.0|    0.0|        4|\n",
            "|    2013|       1| 1796|       P|Hidary, Jack D|2013-07-28|      null|     Casares, Wences|            IND|          Z|     Woodside|   CA|94062| 100.0|     0.0|    0.0|        4|\n",
            "|    2013|       1| 1796|       P|Hidary, Jack D|2013-07-28|      null|    Marlin, Robert P|            IND|          Z|    Arlington|   MA| 2474|  50.0|     0.0|    0.0|        4|\n",
            "|    2013|       1| 1796|       P|Hidary, Jack D|2013-07-29|      null|      Titus, Richard|            IND|          Z|San Francisco|   CA|94114|  25.0|     0.0|    0.0|        4|\n",
            "|    2013|       1| 1796|       P|Hidary, Jack D|2013-07-28|      null|    Eddy, Randolph P|            IND|          M|     New York|   NY|10022| 250.0|   175.0|    0.0|        4|\n",
            "|    2013|       1| 1796|       P|Hidary, Jack D|2013-07-29|      null|      Arking, Morris|            IND|          K|     Brooklyn|   NY|11230|  10.0|    10.0|    0.0|        4|\n",
            "|    2013|       1| 1796|       P|Hidary, Jack D|2013-07-29|      null|Grigorescu-Ares, ...|            IND|          M|     New York|   NY|10128|  25.0|    25.0|    0.0|        4|\n",
            "|    2013|       1| 1796|       P|Hidary, Jack D|2013-07-28|      null|     Kidder, David S|            IND|          Z|   Mamaroneck|   NY|10543| 100.0|     0.0|    0.0|        4|\n",
            "|    2013|       1| 1796|       P|Hidary, Jack D|2013-07-29|      null|   Birnbaum, Merritt|            IND|          M|     New York|   NY|10075|  10.0|    10.0|    0.0|        4|\n",
            "|    2013|       1| 1796|       P|Hidary, Jack D|2013-07-29|      null|        Hedaya, Ezra|            IND|          K|     Brooklyn|   NY|11223|  25.0|    25.0|    0.0|        4|\n",
            "|    2013|       1| 1796|       P|Hidary, Jack D|2013-07-14|      null|       Benun, Joseph|            IND|          Z|         Deal|   NJ| 7723| 175.0|     0.0|    0.0|        4|\n",
            "|    2013|       1| 1796|       P|Hidary, Jack D|2013-07-29|      null|    Herzfeld, Baruch|            IND|          M|     New York|   NY|10002|  10.0|    10.0|    0.0|        4|\n",
            "|    2013|       1| 1796|       P|Hidary, Jack D|2013-07-29|      null|       Elwyn, Morgan|            IND|          Z|    Maplewood|   NJ| 7040| 175.0|     0.0|    0.0|        4|\n",
            "|    2013|       1| 1796|       P|Hidary, Jack D|2013-07-29|      null|        Chase, Jayni|            IND|          Z|      Bedford|   NY|10506| 500.0|     0.0|    0.0|        4|\n",
            "|    2013|       1| 1796|       P|Hidary, Jack D|2013-07-29|      null|      Haller, Melody|            IND|          Z|     San Jose|   CA|95140| 100.0|     0.0|    0.0|        4|\n",
            "|    2013|       1| 1796|       P|Hidary, Jack D|2013-07-16|      null|    Benedek, Michael|            IND|          M|     New York|   NY|10040|  54.0|    54.0|    0.0|        4|\n",
            "|    2013|       1| 1796|       P|Hidary, Jack D|2013-07-15|      null|       Adler, Joshua|            IND|          Z|          Rye|   NH| 3870| 175.0|     0.0|    0.0|        4|\n",
            "|    2013|       1| 1796|       P|Hidary, Jack D|2013-07-15|      null|      Choua, Clement|            IND|          K|     Brooklyn|   NY|11234| 100.0|   100.0|    0.0|        4|\n",
            "|    2013|       1| 1796|       P|Hidary, Jack D|2013-07-16|      null|  Gilchrist, Heather|            IND|          K|     Brooklyn|   NY|11217|  10.0|    10.0|    0.0|        4|\n",
            "|    2013|       1| 1796|       P|Hidary, Jack D|2013-07-15|      null|         Mullen, Tom|            IND|          K|     Brooklyn|   NY|11215|  25.0|    25.0|    0.0|        4|\n",
            "|    2013|       1| 1796|       P|Hidary, Jack D|2013-07-15|      null|        Weil, Nadine|            IND|          Z|San Francisco|   CA|94115|1000.0|     0.0|    0.0|        4|\n",
            "|    2013|       1| 1796|       P|Hidary, Jack D|2013-07-18|      null|      Dayan, Maurice|            IND|          K|     Brooklyn|   NY|11223|  10.0|    10.0|    0.0|        4|\n",
            "|    2013|       1| 1796|       P|Hidary, Jack D|2013-07-15|      null|       Benun, Joseph|            IND|          K|     Brooklyn|   NY|11223| 175.0|   175.0|    0.0|        4|\n",
            "|    2013|       1| 1796|       P|Hidary, Jack D|2013-07-15|      null|      Bogursky, Jeff|            IND|          M|     New York|   NY|10025|  50.0|    50.0|    0.0|        4|\n",
            "|    2013|       1| 1796|       P|Hidary, Jack D|2013-07-16|      null|     Nasrin, Abdolal|            IND|          M|     New York|   NY|10036|  50.0|    50.0|    0.0|        4|\n",
            "|    2013|       1| 1796|       P|Hidary, Jack D|2013-07-15|      null|Erickson Hee, Rachel|            IND|          M|     New York|   NY|10019| 250.0|   175.0|    0.0|        4|\n",
            "|    2013|       1| 1796|       P|Hidary, Jack D|2013-07-16|      null|      Hidary, Steven|            IND|          K|     Brooklyn|   NY|11230|1000.0|   175.0|    0.0|        2|\n",
            "|    2013|       1| 1796|       P|Hidary, Jack D|2013-07-14|      null|       Hanan, Martin|            IND|          M|     New York|   NY|10002|  50.0|    50.0|    0.0|        4|\n",
            "|    2013|       1| 1796|       P|Hidary, Jack D|2013-07-16|      null|     Matalon, Robert|            IND|          K|     Brooklyn|   NY|11230| 175.0|   175.0|    0.0|        2|\n",
            "|    2013|       1| 1796|       P|Hidary, Jack D|2013-07-16|      null|   Chehebar, Charles|            IND|          K|     Brooklyn|   NY|11223|  10.0|    10.0|    0.0|        4|\n",
            "|    2013|       1| 1796|       P|Hidary, Jack D|2013-07-16|      null|         Wong, Yimei|            IND|          Z|San Francisco|   CA|94119|  10.0|     0.0|    0.0|        4|\n",
            "|    2013|       1| 1796|       P|Hidary, Jack D|2013-07-10|      null|      Salem, Raymond|            IND|          K|     Brooklyn|   NY|11223|2000.0|     0.0| 2425.0|        2|\n",
            "|    2013|       1| 1796|       P|Hidary, Jack D|2013-07-09|      null|      Jemal, Issac S|            IND|          K|     Brooklyn|   NY|11230| 500.0|     0.0|    0.0|        2|\n",
            "|    2013|       1| 1796|       P|Hidary, Jack D|2013-07-11|      null|      Stephen, Dabah|            IND|          M|     New York|   NY|10065|2500.0|   175.0|    0.0|        2|\n",
            "|    2013|       1| 1796|       P|Hidary, Jack D|2013-07-16|      null|       Barry, Ronald|            IND|          K|     Brooklyn|   NY|11223| 175.0|   175.0|    0.0|        2|\n",
            "|    2013|       1| 1796|       P|Hidary, Jack D|2013-07-13|      null|       Shalom, Grace|            IND|          M|     New York|   NY|10013|  50.0|    50.0|    0.0|        4|\n",
            "|    2013|       1| 1796|       P|Hidary, Jack D|2013-07-09|      null|      Shalom, Vivian|            IND|          M|     New York|   NY|10022|4950.0|   175.0|    0.0|        2|\n",
            "|    2013|       1| 1796|       P|Hidary, Jack D|2013-07-13|      null|        Kaplan, Dina|            IND|          M|     New York|   NY|10011|  10.0|    10.0|    0.0|        4|\n",
            "|    2013|       1| 1796|       P|Hidary, Jack D|2013-07-16|      null|      Habert, Joseph|            IND|          K|     Brooklyn|   NY|11223|4950.0|   175.0|    0.0|        2|\n",
            "|    2013|       1| 1796|       P|Hidary, Jack D|2013-07-16|      null|        Matalon, Eli|            IND|          K|     Brooklyn|   NY|11210| 175.0|   175.0|    0.0|        2|\n",
            "|    2013|       1| 1796|       P|Hidary, Jack D|2013-07-07|      null|     Matalon, Albert|            IND|          K|     Brooklyn|   NY|11230| 175.0|     0.0|    0.0|        2|\n",
            "|    2013|       1| 1796|       P|Hidary, Jack D|2013-07-10|      null|      Salem, Isaac R|            IND|          K|     Brooklyn|   NY|11223| 175.0|   175.0|    0.0|        2|\n",
            "|    2013|       1| 1796|       P|Hidary, Jack D|2013-07-11|      null|      Kassin, Saul J|            IND|          Z|     Oakhurst|   NJ| 7755| 175.0|     0.0|    0.0|        2|\n",
            "|    2013|       1| 1796|       P|Hidary, Jack D|2013-07-16|      null|       Hazan, Edward|            IND|          K|     Brooklyn|   NY|11223|  10.0|    10.0|   10.0|        2|\n",
            "|    2013|       1| 1796|       P|Hidary, Jack D|2013-07-16|      null|      Hazan, Isaac A|            IND|          K|     Brooklyn|   NY|11230| 175.0|   175.0|    0.0|        2|\n",
            "|    2013|       1| 1796|       P|Hidary, Jack D|2013-07-11|      null|       Hazan, Edward|            IND|          K|     Brooklyn|   NY|11223|  10.0|    10.0|    0.0|        2|\n",
            "|    2013|       1| 1796|       P|Hidary, Jack D|2013-07-16|      null|        Dweck, David|            IND|          M|     New York|   NY|10013|4950.0|   175.0|    0.0|        2|\n",
            "|    2013|       1| 1796|       P|Hidary, Jack D|2013-07-17|      null|   Rothstein, Pamela|            IND|          K|     Brooklyn|   NY|11223| 175.0|     0.0|    0.0|        2|\n",
            "|    2013|       1| 1796|       P|Hidary, Jack D|2013-07-16|      null|    Ancona, Steven J|            IND|          M|     New York|   NY|10014|4950.0|   175.0|    0.0|        2|\n",
            "|    2013|       1| 1796|       P|Hidary, Jack D|2013-07-24|      null|Aronhime, Lawrence B|            IND|          Z|    Baltimore|   md|21209|  10.0|     0.0|    0.0|        2|\n",
            "|    2013|       1| 1796|       P|Hidary, Jack D|2013-07-12|      null|     Shamah, Maurice|            IND|          K|     Brooklyn|   NY|11230|4950.0|   175.0|    0.0|        2|\n",
            "|    2013|       1| 1796|       P|Hidary, Jack D|2013-07-24|      null|   Aronhime, Phyllis|            IND|          Z|   Pikesville|   MD|21208|  10.0|     0.0|    0.0|        2|\n",
            "|    2013|       1| 1796|       P|Hidary, Jack D|2013-07-16|      null|  Matalon, Michael R|            IND|          K|     Brooklyn|   NY|11210| 175.0|   175.0|    0.0|        2|\n",
            "|    2013|       1| 1796|       P|Hidary, Jack D|2013-07-10|      null|       Adjmi, Amin H|            IND|          K|     Brooklyn|   NY|11223| 175.0|     0.0|    0.0|        2|\n",
            "|    2013|       1| 1796|       P|Hidary, Jack D|2013-07-16|      null|     Matalon, Daniel|            IND|          K|     Brooklyn|   NY|11230| 175.0|   175.0|    0.0|        2|\n",
            "|    2013|       1| 1796|       P|Hidary, Jack D|2013-07-16|      null|     Matalon, Simcha|            IND|          K|     Brooklyn|   NY|11230| 175.0|   175.0|    0.0|        2|\n",
            "|    2013|       1| 1796|       P|Hidary, Jack D|2013-07-12|      null| Mizrachi, Abraham M|            IND|          K|     Brooklyn|   NY|11230|  10.0|    10.0|    0.0|        2|\n",
            "|    2013|       1| 1796|       P|Hidary, Jack D|2013-07-16|      null|     Matalon, Samuel|            IND|          K|     Brooklyn|   NY|11210| 175.0|   175.0|    0.0|        2|\n",
            "|    2013|       1| 1796|       P|Hidary, Jack D|2013-07-16|      null|      Maleh, Sabrina|            IND|          K|     Brooklyn|   NY|11223| 175.0|   175.0|    0.0|        2|\n",
            "|    2013|       1| 1796|       P|Hidary, Jack D|2013-07-15|      null|       Cohen, Yvonne|            IND|          K|     Brooklyn|   NY|11230| 175.0|   175.0|    0.0|        2|\n",
            "|    2013|       1| 1796|       P|Hidary, Jack D|2013-07-16|      null|         Cohen, Meir|            IND|          M|     New York|   NY|10065|4950.0|   175.0|    0.0|        2|\n",
            "|    2013|       1| 1796|       P|Hidary, Jack D|2013-07-16|      null|      Cayre, Stanley|            IND|          K|     Brooklyn|   NY|11223|2500.0|   175.0|    0.0|        2|\n",
            "|    2013|       1| 1796|       P|Hidary, Jack D|2013-07-16|      null|        Cayre, David|            IND|          M|     New York|   NY|10021|2500.0|   175.0|    0.0|        2|\n",
            "|    2013|       1| 1796|       P|Hidary, Jack D|2013-07-31|      null|   Fallas, Solomon M|            IND|          K|     Brooklyn|   NY|11223| 175.0|   175.0|    0.0|        2|\n",
            "|    2013|       1| 1796|       P|Hidary, Jack D|2013-07-16|      null|       Benun, Mark J|            IND|          K|     Brooklyn|   NY|11230|1000.0|   175.0| 1000.0|        2|\n",
            "|    2013|       1| 1796|       P|Hidary, Jack D|2013-07-02|      null|       Benun, Mark J|            IND|          K|     Brooklyn|   NY|11230|1000.0|     0.0|    0.0|        2|\n",
            "|    2013|       1| 1796|       P|Hidary, Jack D|2013-07-16|      null|      Chehebar, Jack|            IND|          K|     Brooklyn|   NY|11223|4900.0|   175.0|    0.0|        2|\n",
            "|    2013|       1| 1796|       P|Hidary, Jack D|2013-07-28|      null|   Mamiye, Abraham M|            IND|          K|     Brooklyn|   NY|11223| 175.0|   175.0|    0.0|        2|\n",
            "+--------+--------+-----+--------+--------------+----------+----------+--------------------+---------------+-----------+-------------+-----+-----+------+--------+-------+---------+\n",
            "only showing top 100 rows\n",
            "\n"
          ]
        }
      ]
    },
    {
      "cell_type": "code",
      "metadata": {
        "id": "0LFHT4Vg5PEV",
        "colab": {
          "base_uri": "https://localhost:8080/",
          "height": 698
        },
        "outputId": "5fff7cee-3ce8-4c89-d277-07f141a07795"
      },
      "source": [
        "from datetime import datetime\n",
        "from pyspark.sql.functions import col, udf\n",
        "from pyspark.sql.types import DateType\n",
        "df_spark=spark.createDataFrame([[\" \"],[\"10/24/2011\"]],[\"input\"])\n",
        "func =  udf (lambda x: datetime.strptime(x, '%m/%d/%Y'), DateType())\n",
        "\n",
        "df_spark1 = df_spark.withColumn('test', func(col('input')))\n",
        "#df_spark.select(col(\"input\"),to_date(col(\"input\"),\"MM-dd-yyyy\").alias(\"date\")) \\\n",
        "df_spark1.show()"
      ],
      "execution_count": null,
      "outputs": [
        {
          "output_type": "error",
          "ename": "PythonException",
          "evalue": "ignored",
          "traceback": [
            "\u001b[0;31m---------------------------------------------------------------------------\u001b[0m",
            "\u001b[0;31mPythonException\u001b[0m                           Traceback (most recent call last)",
            "\u001b[0;32m<ipython-input-64-24d7df4cc2ed>\u001b[0m in \u001b[0;36m<module>\u001b[0;34m()\u001b[0m\n\u001b[1;32m      7\u001b[0m \u001b[0mdf_spark1\u001b[0m \u001b[0;34m=\u001b[0m \u001b[0mdf_spark\u001b[0m\u001b[0;34m.\u001b[0m\u001b[0mwithColumn\u001b[0m\u001b[0;34m(\u001b[0m\u001b[0;34m'test'\u001b[0m\u001b[0;34m,\u001b[0m \u001b[0mfunc\u001b[0m\u001b[0;34m(\u001b[0m\u001b[0mcol\u001b[0m\u001b[0;34m(\u001b[0m\u001b[0;34m'input'\u001b[0m\u001b[0;34m)\u001b[0m\u001b[0;34m)\u001b[0m\u001b[0;34m)\u001b[0m\u001b[0;34m\u001b[0m\u001b[0;34m\u001b[0m\u001b[0m\n\u001b[1;32m      8\u001b[0m \u001b[0;31m#df_spark.select(col(\"input\"),to_date(col(\"input\"),\"MM-dd-yyyy\").alias(\"date\")) \\\u001b[0m\u001b[0;34m\u001b[0m\u001b[0;34m\u001b[0m\u001b[0;34m\u001b[0m\u001b[0m\n\u001b[0;32m----> 9\u001b[0;31m \u001b[0mdf_spark1\u001b[0m\u001b[0;34m.\u001b[0m\u001b[0mshow\u001b[0m\u001b[0;34m(\u001b[0m\u001b[0;34m)\u001b[0m\u001b[0;34m\u001b[0m\u001b[0;34m\u001b[0m\u001b[0m\n\u001b[0m",
            "\u001b[0;32m/content/spark-3.0.3-bin-hadoop2.7/python/pyspark/sql/dataframe.py\u001b[0m in \u001b[0;36mshow\u001b[0;34m(self, n, truncate, vertical)\u001b[0m\n\u001b[1;32m    438\u001b[0m         \"\"\"\n\u001b[1;32m    439\u001b[0m         \u001b[0;32mif\u001b[0m \u001b[0misinstance\u001b[0m\u001b[0;34m(\u001b[0m\u001b[0mtruncate\u001b[0m\u001b[0;34m,\u001b[0m \u001b[0mbool\u001b[0m\u001b[0;34m)\u001b[0m \u001b[0;32mand\u001b[0m \u001b[0mtruncate\u001b[0m\u001b[0;34m:\u001b[0m\u001b[0;34m\u001b[0m\u001b[0;34m\u001b[0m\u001b[0m\n\u001b[0;32m--> 440\u001b[0;31m             \u001b[0mprint\u001b[0m\u001b[0;34m(\u001b[0m\u001b[0mself\u001b[0m\u001b[0;34m.\u001b[0m\u001b[0m_jdf\u001b[0m\u001b[0;34m.\u001b[0m\u001b[0mshowString\u001b[0m\u001b[0;34m(\u001b[0m\u001b[0mn\u001b[0m\u001b[0;34m,\u001b[0m \u001b[0;36m20\u001b[0m\u001b[0;34m,\u001b[0m \u001b[0mvertical\u001b[0m\u001b[0;34m)\u001b[0m\u001b[0;34m)\u001b[0m\u001b[0;34m\u001b[0m\u001b[0;34m\u001b[0m\u001b[0m\n\u001b[0m\u001b[1;32m    441\u001b[0m         \u001b[0;32melse\u001b[0m\u001b[0;34m:\u001b[0m\u001b[0;34m\u001b[0m\u001b[0;34m\u001b[0m\u001b[0m\n\u001b[1;32m    442\u001b[0m             \u001b[0mprint\u001b[0m\u001b[0;34m(\u001b[0m\u001b[0mself\u001b[0m\u001b[0;34m.\u001b[0m\u001b[0m_jdf\u001b[0m\u001b[0;34m.\u001b[0m\u001b[0mshowString\u001b[0m\u001b[0;34m(\u001b[0m\u001b[0mn\u001b[0m\u001b[0;34m,\u001b[0m \u001b[0mint\u001b[0m\u001b[0;34m(\u001b[0m\u001b[0mtruncate\u001b[0m\u001b[0;34m)\u001b[0m\u001b[0;34m,\u001b[0m \u001b[0mvertical\u001b[0m\u001b[0;34m)\u001b[0m\u001b[0;34m)\u001b[0m\u001b[0;34m\u001b[0m\u001b[0;34m\u001b[0m\u001b[0m\n",
            "\u001b[0;32m/content/spark-3.0.3-bin-hadoop2.7/python/lib/py4j-0.10.9-src.zip/py4j/java_gateway.py\u001b[0m in \u001b[0;36m__call__\u001b[0;34m(self, *args)\u001b[0m\n\u001b[1;32m   1303\u001b[0m         \u001b[0manswer\u001b[0m \u001b[0;34m=\u001b[0m \u001b[0mself\u001b[0m\u001b[0;34m.\u001b[0m\u001b[0mgateway_client\u001b[0m\u001b[0;34m.\u001b[0m\u001b[0msend_command\u001b[0m\u001b[0;34m(\u001b[0m\u001b[0mcommand\u001b[0m\u001b[0;34m)\u001b[0m\u001b[0;34m\u001b[0m\u001b[0;34m\u001b[0m\u001b[0m\n\u001b[1;32m   1304\u001b[0m         return_value = get_return_value(\n\u001b[0;32m-> 1305\u001b[0;31m             answer, self.gateway_client, self.target_id, self.name)\n\u001b[0m\u001b[1;32m   1306\u001b[0m \u001b[0;34m\u001b[0m\u001b[0m\n\u001b[1;32m   1307\u001b[0m         \u001b[0;32mfor\u001b[0m \u001b[0mtemp_arg\u001b[0m \u001b[0;32min\u001b[0m \u001b[0mtemp_args\u001b[0m\u001b[0;34m:\u001b[0m\u001b[0;34m\u001b[0m\u001b[0;34m\u001b[0m\u001b[0m\n",
            "\u001b[0;32m/content/spark-3.0.3-bin-hadoop2.7/python/pyspark/sql/utils.py\u001b[0m in \u001b[0;36mdeco\u001b[0;34m(*a, **kw)\u001b[0m\n\u001b[1;32m    132\u001b[0m                 \u001b[0;31m# Hide where the exception came from that shows a non-Pythonic\u001b[0m\u001b[0;34m\u001b[0m\u001b[0;34m\u001b[0m\u001b[0;34m\u001b[0m\u001b[0m\n\u001b[1;32m    133\u001b[0m                 \u001b[0;31m# JVM exception message.\u001b[0m\u001b[0;34m\u001b[0m\u001b[0;34m\u001b[0m\u001b[0;34m\u001b[0m\u001b[0m\n\u001b[0;32m--> 134\u001b[0;31m                 \u001b[0mraise_from\u001b[0m\u001b[0;34m(\u001b[0m\u001b[0mconverted\u001b[0m\u001b[0;34m)\u001b[0m\u001b[0;34m\u001b[0m\u001b[0;34m\u001b[0m\u001b[0m\n\u001b[0m\u001b[1;32m    135\u001b[0m             \u001b[0;32melse\u001b[0m\u001b[0;34m:\u001b[0m\u001b[0;34m\u001b[0m\u001b[0;34m\u001b[0m\u001b[0m\n\u001b[1;32m    136\u001b[0m                 \u001b[0;32mraise\u001b[0m\u001b[0;34m\u001b[0m\u001b[0;34m\u001b[0m\u001b[0m\n",
            "\u001b[0;32m/content/spark-3.0.3-bin-hadoop2.7/python/pyspark/sql/utils.py\u001b[0m in \u001b[0;36mraise_from\u001b[0;34m(e)\u001b[0m\n",
            "\u001b[0;31mPythonException\u001b[0m: \n  An exception was thrown from the Python worker. Please see the stack trace below.\nTraceback (most recent call last):\n  File \"/content/spark-3.0.3-bin-hadoop2.7/python/lib/pyspark.zip/pyspark/worker.py\", line 605, in main\n    process()\n  File \"/content/spark-3.0.3-bin-hadoop2.7/python/lib/pyspark.zip/pyspark/worker.py\", line 597, in process\n    serializer.dump_stream(out_iter, outfile)\n  File \"/content/spark-3.0.3-bin-hadoop2.7/python/lib/pyspark.zip/pyspark/serializers.py\", line 223, in dump_stream\n    self.serializer.dump_stream(self._batched(iterator), stream)\n  File \"/content/spark-3.0.3-bin-hadoop2.7/python/lib/pyspark.zip/pyspark/serializers.py\", line 141, in dump_stream\n    for obj in iterator:\n  File \"/content/spark-3.0.3-bin-hadoop2.7/python/lib/pyspark.zip/pyspark/serializers.py\", line 212, in _batched\n    for item in iterator:\n  File \"/content/spark-3.0.3-bin-hadoop2.7/python/lib/pyspark.zip/pyspark/worker.py\", line 450, in mapper\n    result = tuple(f(*[a[o] for o in arg_offsets]) for (arg_offsets, f) in udfs)\n  File \"/content/spark-3.0.3-bin-hadoop2.7/python/lib/pyspark.zip/pyspark/worker.py\", line 450, in <genexpr>\n    result = tuple(f(*[a[o] for o in arg_offsets]) for (arg_offsets, f) in udfs)\n  File \"/content/spark-3.0.3-bin-hadoop2.7/python/lib/pyspark.zip/pyspark/worker.py\", line 88, in <lambda>\n    return lambda *a: toInternal(f(*a))\n  File \"/content/spark-3.0.3-bin-hadoop2.7/python/lib/pyspark.zip/pyspark/util.py\", line 107, in wrapper\n    return f(*args, **kwargs)\n  File \"<ipython-input-64-24d7df4cc2ed>\", line 5, in <lambda>\n  File \"/usr/lib/python3.7/_strptime.py\", line 577, in _strptime_datetime\n    tt, fraction, gmtoff_fraction = _strptime(data_string, format)\n  File \"/usr/lib/python3.7/_strptime.py\", line 359, in _strptime\n    (data_string, format))\nValueError: time data ' ' does not match format '%m/%d/%Y'\n"
          ]
        }
      ]
    },
    {
      "cell_type": "code",
      "metadata": {
        "id": "9PeNvM_FHP1c"
      },
      "source": [
        ""
      ],
      "execution_count": null,
      "outputs": []
    }
  ]
}