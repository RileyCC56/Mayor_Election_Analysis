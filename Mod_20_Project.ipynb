{
  "nbformat": 4,
  "nbformat_minor": 0,
  "metadata": {
    "colab": {
      "name": "Mod_20_Project.ipynb",
      "provenance": [],
      "collapsed_sections": [],
      "authorship_tag": "ABX9TyN1ccHMvAulzZj3xyV1HAju",
      "include_colab_link": true
    },
    "kernelspec": {
      "name": "python3",
      "display_name": "Python 3"
    },
    "language_info": {
      "name": "python"
    }
  },
  "cells": [
    {
      "cell_type": "markdown",
      "metadata": {
        "id": "view-in-github",
        "colab_type": "text"
      },
      "source": [
        "<a href=\"https://colab.research.google.com/github/ssheggrud/Mod_20_Project/blob/05_Pooja/Mod_20_Project.ipynb\" target=\"_parent\"><img src=\"https://colab.research.google.com/assets/colab-badge.svg\" alt=\"Open In Colab\"/></a>"
      ]
    },
    {
      "cell_type": "code",
      "metadata": {
        "colab": {
          "base_uri": "https://localhost:8080/"
        },
        "id": "nvd88dI-G7eZ",
        "outputId": "13e6ed11-89ee-461a-eb4a-15c776782d5e"
      },
      "source": [
        "import os\n",
        "# Find the latest version of spark 3.0  from http://www-us.apache.org/dist/spark/ and enter as the spark version\n",
        "# For example:\n",
        "# spark_version = 'spark-3.0.2'\n",
        "spark_version = 'spark-3.0.3'\n",
        "os.environ['SPARK_VERSION']=spark_version\n",
        "\n",
        "# Install Spark and Java\n",
        "!apt-get update\n",
        "!apt-get install openjdk-11-jdk-headless -qq > /dev/null\n",
        "#!wget -q http://www-us.apache.org/dist/spark/$SPARK_VERSION/$SPARK_VERSION-bin-hadoop2.7.tgz\n",
        "!wget -q https://downloads.apache.org/spark/$SPARK_VERSION/$SPARK_VERSION-bin-hadoop2.7.tgz\n",
        "\n",
        "!tar xf $SPARK_VERSION-bin-hadoop2.7.tgz\n",
        "!pip install -q findspark\n",
        "\n",
        "# Set Environment Variables\n",
        "os.environ[\"JAVA_HOME\"] = \"/usr/lib/jvm/java-11-openjdk-amd64\"\n",
        "os.environ[\"SPARK_HOME\"] = f\"/content/{spark_version}-bin-hadoop2.7\"\n",
        "\n",
        "# Start a SparkSession\n",
        "import findspark\n",
        "findspark.init()"
      ],
      "execution_count": 1,
      "outputs": [
        {
          "output_type": "stream",
          "name": "stdout",
          "text": [
            "\r0% [Working]\r            \rGet:1 http://security.ubuntu.com/ubuntu bionic-security InRelease [88.7 kB]\n",
            "Get:2 https://cloud.r-project.org/bin/linux/ubuntu bionic-cran40/ InRelease [3,626 B]\n",
            "Ign:3 https://developer.download.nvidia.com/compute/cuda/repos/ubuntu1804/x86_64  InRelease\n",
            "Hit:4 http://ppa.launchpad.net/c2d4u.team/c2d4u4.0+/ubuntu bionic InRelease\n",
            "Hit:5 http://archive.ubuntu.com/ubuntu bionic InRelease\n",
            "Ign:6 https://developer.download.nvidia.com/compute/machine-learning/repos/ubuntu1804/x86_64  InRelease\n",
            "Get:7 https://developer.download.nvidia.com/compute/cuda/repos/ubuntu1804/x86_64  Release [696 B]\n",
            "Hit:8 https://developer.download.nvidia.com/compute/machine-learning/repos/ubuntu1804/x86_64  Release\n",
            "Get:9 https://developer.download.nvidia.com/compute/cuda/repos/ubuntu1804/x86_64  Release.gpg [836 B]\n",
            "Get:10 http://archive.ubuntu.com/ubuntu bionic-updates InRelease [88.7 kB]\n",
            "Hit:11 http://ppa.launchpad.net/cran/libgit2/ubuntu bionic InRelease\n",
            "Hit:12 http://ppa.launchpad.net/deadsnakes/ppa/ubuntu bionic InRelease\n",
            "Get:13 http://archive.ubuntu.com/ubuntu bionic-backports InRelease [74.6 kB]\n",
            "Hit:14 http://ppa.launchpad.net/graphics-drivers/ppa/ubuntu bionic InRelease\n",
            "Get:16 https://developer.download.nvidia.com/compute/cuda/repos/ubuntu1804/x86_64  Packages [700 kB]\n",
            "Fetched 957 kB in 3s (281 kB/s)\n",
            "Reading package lists... Done\n"
          ]
        }
      ]
    },
    {
      "cell_type": "code",
      "metadata": {
        "id": "O0rHvHEAHG53"
      },
      "source": [
        "# Start Spark session\n",
        "from pyspark.sql import SparkSession\n",
        "spark = SparkSession.builder.appName(\"FinalProject\").getOrCreate()"
      ],
      "execution_count": 6,
      "outputs": []
    },
    {
      "cell_type": "code",
      "metadata": {
        "colab": {
          "base_uri": "https://localhost:8080/"
        },
        "id": "iuz4Xg_pHJyA",
        "outputId": "3a4d5591-914f-4546-9f58-983a5f2bedb4"
      },
      "source": [
        "# Read in data from S3 Buckets\n",
        "#from pyspark import SparkFiles\n",
        "#url = \"https://databootcamp-final-05.s3.amazonaws.com/Resources/2005_expenditure.csv\"\n",
        "#df2 = spark.read.options(inferSchema='True',delimiter=',', header=True).csv(url)\n",
        "#df2.show()\n",
        "\n",
        "from pyspark import SparkFiles\n",
        "url = \"https://databootcamp-final-05.s3.amazonaws.com/Resources/Individual+Contributions+2013+(UF).csv\"\n",
        "spark.sparkContext.addFile(url)\n",
        "df = spark.read.csv(SparkFiles.get(\"Individual+Contributions+2013+(UF).csv\"), sep=\",\", header=True )\n",
        "df.show()"
      ],
      "execution_count": 45,
      "outputs": [
        {
          "output_type": "stream",
          "name": "stdout",
          "text": [
            "+--------+--------+-------+--------+------------------+---------+------+--------+------+----------+--------+---------+----------+-------------------+------+-----+-------+---------+---------+-----------------+-----+-----+--------------+--------------------+--------+------------------+---------------+--------+----+---------+--------+----------+--------+----------+--------+--------+--------+-------+-----+------+----------+----------+----------+----------+--------+---------+---------+--------+---------+------+-------+----------+\n",
            "|ELECTION|OFFICECD|RECIPID|CANCLASS|         RECIPNAME|COMMITTEE|FILING|SCHEDULE|PAGENO|SEQUENCENO|   REFNO|     DATE|REFUNDDATE|               NAME|C_CODE|STRNO|STRNAME|APARTMENT|BOROUGHCD|             CITY|STATE|  ZIP|    OCCUPATION|             EMPNAME|EMPSTRNO|        EMPSTRNAME|        EMPCITY|EMPSTATE|AMNT|MATCHAMNT|PREVAMNT|PAY_METHOD|INTERMNO|INTERMNAME|INTSTRNO|INTSTRNM|INTAPTNO|INTCITY|INTST|INTZIP|INTEMPNAME|INTEMPSTNO|INTEMPSTNM|INTEMPCITY|INTEMPST|INTOCCUPA|PURPOSECD|EXEMPTCD|ADJTYPECD|RR_IND|SEG_IND|INT_C_CODE|\n",
            "+--------+--------+-------+--------+------------------+---------+------+--------+------+----------+--------+---------+----------+-------------------+------+-----+-------+---------+---------+-----------------+-----+-----+--------------+--------------------+--------+------------------+---------------+--------+----+---------+--------+----------+--------+----------+--------+--------+--------+-------+-----+------+----------+----------+----------+----------+--------+---------+---------+--------+---------+------+-------+----------+\n",
            "|    2013|       5|   1008|       P|Peterson, Daniel P|        I|     5|     ABC|  null|      null|R0000018|3/11/2012|      null|   Haywood, David B|   IND| null|   null|     null|        X|            Bronx|   NY|10458|     President|          SnarkMedia|     151|      First Avenue|       New York|      NY|  20|       20|       0|         4|    null|      null|    null|    null|    null|   null| null|  null|      null|      null|      null|      null|    null|     null|     null|    null|     null|     N|      N|      null|\n",
            "|    2013|       5|   1008|       P|Peterson, Daniel P|        I|     5|     ABC|  null|      null|R0000021| 3/6/2012|      null|      Herlihy, Neil|   IND| null|   null|     null|        Z|       Hunnington|   NY|11746|       Retired|                null|    null|              null|           null|    null|  25|        0|       0|         2|    null|      null|    null|    null|    null|   null| null|  null|      null|      null|      null|      null|    null|     null|     null|    null|     null|     N|      N|      null|\n",
            "|    2013|       5|   1008|       P|Peterson, Daniel P|        I|     5|     ABC|  null|      null|R0000023| 3/5/2012|      null|       Iocca, Karen|   IND| null|   null|     null|        Z|           Hobken|   NJ| 7030|    Unemployed|                null|    null|              null|           null|    null|  25|        0|       0|         2|    null|      null|    null|    null|    null|   null| null|  null|      null|      null|      null|      null|    null|     null|     null|    null|     null|     N|      N|      null|\n",
            "|    2013|       5|   1008|       P|Peterson, Daniel P|        I|     5|     ABC|  null|      null|R0000025| 3/6/2012|      null|   Lewenberg, Ilana|   IND| null|   null|     null|        M|         New York|   NY|10065|Vice President|      Lewenberg, LLC|     184|  East 70th Street|       New York|      NY|  25|       25|       0|         2|    null|      null|    null|    null|    null|   null| null|  null|      null|      null|      null|      null|    null|     null|     null|    null|     null|     N|      N|      null|\n",
            "|    2013|       5|   1008|       P|Peterson, Daniel P|        I|     5|     ABC|  null|      null|R0000027| 3/5/2012|      null|     Tolani, Sanjay|   IND| null|   null|     null|        M|         New York|   NY|10023|Head of NA Ops|      3i Infotech WE|      55|      Broad Street|       New York|      NY| 200|      175|       0|         2|    null|      null|    null|    null|    null|   null| null|  null|      null|      null|      null|      null|    null|     null|     null|    null|     null|     N|      N|      null|\n",
            "|    2013|       5|   1008|       P|Peterson, Daniel P|        I|     5|     ABC|  null|      null|R0000031| 6/7/2012|      null|    Viguola, Louise|   IND| null|   null|     null|        Q|         Woodside|   NY|11377|       Manager|               Segal|     333|  West 34th Street|       New York|      NY|  60|       60|       0|         1|    null|      null|    null|    null|    null|   null| null|  null|      null|      null|      null|      null|    null|     null|     null|    null|     null|     N|      N|      null|\n",
            "|    2013|       5|   1008|       P|Peterson, Daniel P|        I|     5|     ABC|  null|      null|R0000033| 6/7/2012|      null|       Stone, Jared|   IND| null|   null|     null|        M|         New York|   NY|10028|       Student|                null|    null|              null|           null|    null|  40|       40|       0|         1|    null|      null|    null|    null|    null|   null| null|  null|      null|      null|      null|      null|    null|     null|     null|    null|     null|     N|      N|      null|\n",
            "|    2013|       5|   1008|       P|Peterson, Daniel P|        I|     5|     ABC|  null|      null|R0000036| 6/7/2012|      null|   Kronenberg, Mark|   IND| null|   null|     null|        Q|  Oakland Gardens|   NY|11364|      Director|     Math 1-2-3 Inc.|   48-30|      201st Street|Oakland Gardens|      NY|  25|       25|       0|         1|    null|      null|    null|    null|    null|   null| null|  null|      null|      null|      null|      null|    null|     null|     null|    null|     null|     N|      N|      null|\n",
            "|    2013|       5|   1008|       P|Peterson, Daniel P|        I|     5|     ABC|  null|      null|R0000038| 6/7/2012|      null|       Heslin, Owen|   IND| null|   null|     null|        X|            Bronx|   NY|10451|        Lawyer|       Self-Employed|    null|              null|          Bronx|      NY|  25|       25|      20|         1|    null|      null|    null|    null|    null|   null| null|  null|      null|      null|      null|      null|    null|     null|     null|    null|     null|     N|      N|      null|\n",
            "|    2013|       5|   1008|       P|Peterson, Daniel P|        I|     5|     ABC|  null|      null|R0000040| 6/7/2012|      null|      Perry, Gerard|   IND| null|   null|     null|        S|    Staten Island|   NY|10304|    Unemployed|                null|    null|              null|           null|    null|  25|       25|       0|         1|    null|      null|    null|    null|    null|   null| null|  null|      null|      null|      null|      null|    null|     null|     null|    null|     null|     N|      N|      null|\n",
            "|    2013|       5|   1008|       P|Peterson, Daniel P|        I|     5|     ABC|  null|      null|R0000042| 6/7/2012|      null|     Chandra, Ashok|   IND| null|   null|     null|        Q| Long Island City|   NY|11109|      Attorney|       Bloomberg LLP|     731|  Lexington Avenue|       New York|      NY|  25|       25|      60|         1|    null|      null|    null|    null|    null|   null| null|  null|      null|      null|      null|      null|    null|     null|     null|    null|     null|     N|      N|      null|\n",
            "|    2013|       5|   1008|       P|Peterson, Daniel P|        I|     5|     ABC|  null|      null|R0000046| 6/7/2012|      null|          Ashe, Dan|   IND| null|   null|     null|        Q| Long Island City|   NY|11109|        Lawyer|Patterson Belknap...|    1153|Avenue of Americas|       New York|      NY| 100|      100|       0|         2|    null|      null|    null|    null|    null|   null| null|  null|      null|      null|      null|      null|    null|     null|     null|    null|     null|     N|      N|      null|\n",
            "|    2013|       5|   1008|       P|Peterson, Daniel P|        I|     5|     ABC|  null|      null|R0000048|6/17/2012|      null|      Yurcan, Bryan|   IND| null|   null|     null|        Z|Hasbrouck Heights|   NJ| 7604|          null|                 VBM|     240|  West 35th Street|       New York|      NY|  20|        0|       0|         2|    null|      null|    null|    null|    null|   null| null|  null|      null|      null|      null|      null|    null|     null|     null|    null|     null|     N|      N|      null|\n",
            "|    2013|       5|   1008|       P|Peterson, Daniel P|        I|     5|     ABC|  null|      null|R0000050| 6/7/2012|      null|  Bigelow, Margaret|   IND| null|   null|     null|        Q|          Astoria|   NY|11103|  Adminstrator|New Leaf Venture ...|       7|      Times Square|       New York|      NY|  25|       25|       0|         2|    null|      null|    null|    null|    null|   null| null|  null|      null|      null|      null|      null|    null|     null|     null|    null|     null|     N|      N|      null|\n",
            "|    2013|       5|   1008|       P|Peterson, Daniel P|        I|     5|     ABC|  null|      null|R0000052| 6/7/2012|      null|       Lewis, Harry|   IND| null|   null|     null|        X|     Pelham Manor|   NY|10803|        Lawyer|       Self Employed|    null|              null|       New York|      NY| 100|      100|       0|         2|    null|      null|    null|    null|    null|   null| null|  null|      null|      null|      null|      null|    null|     null|     null|    null|     null|     N|      N|      null|\n",
            "|    2013|       5|   1008|       P|Peterson, Daniel P|        I|     5|     ABC|  null|      null|R0000053|3/13/2012|      null|       Heslin, Owen|   IND| null|   null|     null|        X|            Bronx|   NY|10451|        Lawyer|       Self-Employed|    null|              null|          Bronx|      NY|  20|       20|       0|         4|    null|      null|    null|    null|    null|   null| null|  null|      null|      null|      null|      null|    null|     null|     null|    null|     null|     N|      N|      null|\n",
            "|    2013|       5|   1008|       P|Peterson, Daniel P|        I|     5|     ABC|  null|      null|R0000055|3/15/2012|      null|      Rincker, Cari|   IND| null|   null|     null|        M|         New York|   NY|10024|        Lawyer|   Rincker Law, PLLC|     535|      Fifth Avenue|       New York|      NY|  30|       30|       0|         4|    null|      null|    null|    null|    null|   null| null|  null|      null|      null|      null|      null|    null|     null|     null|    null|     null|     N|      N|      null|\n",
            "|    2013|       5|   1008|       P|Peterson, Daniel P|        I|     5|     ABC|  null|      null|R0000057|3/19/2012|      null|  LaVerghetta, Dino|   IND| null|   null|     null|        M|         New York|   NY|10065|        Lawyer|Debevoise & Plimp...|     919|      Third Avenue|       New York|      NY|  50|       50|       0|         4|    null|      null|    null|    null|    null|   null| null|  null|      null|      null|      null|      null|    null|     null|     null|    null|     null|     N|      N|      null|\n",
            "|    2013|       5|   1008|       P|Peterson, Daniel P|        I|     5|     ABC|  null|      null|R0000059|4/11/2012|      null|     Chandra, Ashok|   IND| null|   null|     null|        Q| Long Island City|   NY|11109|      Attorney|       Bloomberg LLP|     731|  Lexington Avenue|       New York|      NY|  60|       60|       0|         4|    null|      null|    null|    null|    null|   null| null|  null|      null|      null|      null|      null|    null|     null|     null|    null|     null|     N|      N|      null|\n",
            "|    2013|       5|   1008|       P|Peterson, Daniel P|        I|     5|     ABC|  null|      null|R0000061|3/20/2012|      null|Greenberg, Samuel J|   IND| null|   null|     null|        Q|      Little Neck|   NY|11363|       Retired|  United States Navy|    null|              null|    Little Neck|      NY|  25|       25|       0|         4|    null|      null|    null|    null|    null|   null| null|  null|      null|      null|      null|      null|    null|     null|     null|    null|     null|     N|      N|      null|\n",
            "+--------+--------+-------+--------+------------------+---------+------+--------+------+----------+--------+---------+----------+-------------------+------+-----+-------+---------+---------+-----------------+-----+-----+--------------+--------------------+--------+------------------+---------------+--------+----+---------+--------+----------+--------+----------+--------+--------+--------+-------+-----+------+----------+----------+----------+----------+--------+---------+---------+--------+---------+------+-------+----------+\n",
            "only showing top 20 rows\n",
            "\n"
          ]
        }
      ]
    },
    {
      "cell_type": "code",
      "metadata": {
        "colab": {
          "base_uri": "https://localhost:8080/"
        },
        "id": "Bmgs7_Du1aZ0",
        "outputId": "713eb5ae-a073-4b9c-8332-c4b521db6ba8"
      },
      "source": [
        "df.dtypes"
      ],
      "execution_count": 46,
      "outputs": [
        {
          "output_type": "execute_result",
          "data": {
            "text/plain": [
              "[('ELECTION', 'string'),\n",
              " ('OFFICECD', 'string'),\n",
              " ('RECIPID', 'string'),\n",
              " ('CANCLASS', 'string'),\n",
              " ('RECIPNAME', 'string'),\n",
              " ('COMMITTEE', 'string'),\n",
              " ('FILING', 'string'),\n",
              " ('SCHEDULE', 'string'),\n",
              " ('PAGENO', 'string'),\n",
              " ('SEQUENCENO', 'string'),\n",
              " ('REFNO', 'string'),\n",
              " ('DATE', 'string'),\n",
              " ('REFUNDDATE', 'string'),\n",
              " ('NAME', 'string'),\n",
              " ('C_CODE', 'string'),\n",
              " ('STRNO', 'string'),\n",
              " ('STRNAME', 'string'),\n",
              " ('APARTMENT', 'string'),\n",
              " ('BOROUGHCD', 'string'),\n",
              " ('CITY', 'string'),\n",
              " ('STATE', 'string'),\n",
              " ('ZIP', 'string'),\n",
              " ('OCCUPATION', 'string'),\n",
              " ('EMPNAME', 'string'),\n",
              " ('EMPSTRNO', 'string'),\n",
              " ('EMPSTRNAME', 'string'),\n",
              " ('EMPCITY', 'string'),\n",
              " ('EMPSTATE', 'string'),\n",
              " ('AMNT', 'string'),\n",
              " ('MATCHAMNT', 'string'),\n",
              " ('PREVAMNT', 'string'),\n",
              " ('PAY_METHOD', 'string'),\n",
              " ('INTERMNO', 'string'),\n",
              " ('INTERMNAME', 'string'),\n",
              " ('INTSTRNO', 'string'),\n",
              " ('INTSTRNM', 'string'),\n",
              " ('INTAPTNO', 'string'),\n",
              " ('INTCITY', 'string'),\n",
              " ('INTST', 'string'),\n",
              " ('INTZIP', 'string'),\n",
              " ('INTEMPNAME', 'string'),\n",
              " ('INTEMPSTNO', 'string'),\n",
              " ('INTEMPSTNM', 'string'),\n",
              " ('INTEMPCITY', 'string'),\n",
              " ('INTEMPST', 'string'),\n",
              " ('INTOCCUPA', 'string'),\n",
              " ('PURPOSECD', 'string'),\n",
              " ('EXEMPTCD', 'string'),\n",
              " ('ADJTYPECD', 'string'),\n",
              " ('RR_IND', 'string'),\n",
              " ('SEG_IND', 'string'),\n",
              " ('INT_C_CODE', 'string')]"
            ]
          },
          "metadata": {},
          "execution_count": 46
        }
      ]
    },
    {
      "cell_type": "code",
      "metadata": {
        "colab": {
          "base_uri": "https://localhost:8080/"
        },
        "id": "YmwP3jA730SB",
        "outputId": "9bc3810d-ccb6-44a6-ccf9-8c348b538d15"
      },
      "source": [
        "# Remove multiple columns\n",
        "list = ['COMMITTEE', 'FILING', 'SCHEDULE', 'PAGENO', 'SEQUENCENO','REFNO', 'STRNO', 'STRNAME', 'APARTMENT', 'OCCUPATION', 'EMPNAME', 'EMPSTRNO', 'EMPSTRNAME',\n",
        "                'EMPCITY','EMPSTATE','INTERMNO', 'INTERMNAME', 'INTSTRNO', 'INTSTRNM', 'INTSTRNM', 'INTAPTNO',\n",
        "                'INTCITY', 'INTST','INTZIP', 'INTEMPNAME', 'INTEMPSTNO', 'INTEMPSTNM', 'INTEMPCITY', 'INTEMPST', 'INTOCCUPA' ,'PURPOSECD', 'EXEMPTCD','ADJTYPECD', 'RR_IND', 'SEG_IND','INT_C_CODE'] \n",
        "df = df.drop(*list)\n",
        "df.show()"
      ],
      "execution_count": 47,
      "outputs": [
        {
          "output_type": "stream",
          "name": "stdout",
          "text": [
            "+--------+--------+-------+--------+------------------+---------+----------+-------------------+------+---------+-----------------+-----+-----+----+---------+--------+----------+\n",
            "|ELECTION|OFFICECD|RECIPID|CANCLASS|         RECIPNAME|     DATE|REFUNDDATE|               NAME|C_CODE|BOROUGHCD|             CITY|STATE|  ZIP|AMNT|MATCHAMNT|PREVAMNT|PAY_METHOD|\n",
            "+--------+--------+-------+--------+------------------+---------+----------+-------------------+------+---------+-----------------+-----+-----+----+---------+--------+----------+\n",
            "|    2013|       5|   1008|       P|Peterson, Daniel P|3/11/2012|      null|   Haywood, David B|   IND|        X|            Bronx|   NY|10458|  20|       20|       0|         4|\n",
            "|    2013|       5|   1008|       P|Peterson, Daniel P| 3/6/2012|      null|      Herlihy, Neil|   IND|        Z|       Hunnington|   NY|11746|  25|        0|       0|         2|\n",
            "|    2013|       5|   1008|       P|Peterson, Daniel P| 3/5/2012|      null|       Iocca, Karen|   IND|        Z|           Hobken|   NJ| 7030|  25|        0|       0|         2|\n",
            "|    2013|       5|   1008|       P|Peterson, Daniel P| 3/6/2012|      null|   Lewenberg, Ilana|   IND|        M|         New York|   NY|10065|  25|       25|       0|         2|\n",
            "|    2013|       5|   1008|       P|Peterson, Daniel P| 3/5/2012|      null|     Tolani, Sanjay|   IND|        M|         New York|   NY|10023| 200|      175|       0|         2|\n",
            "|    2013|       5|   1008|       P|Peterson, Daniel P| 6/7/2012|      null|    Viguola, Louise|   IND|        Q|         Woodside|   NY|11377|  60|       60|       0|         1|\n",
            "|    2013|       5|   1008|       P|Peterson, Daniel P| 6/7/2012|      null|       Stone, Jared|   IND|        M|         New York|   NY|10028|  40|       40|       0|         1|\n",
            "|    2013|       5|   1008|       P|Peterson, Daniel P| 6/7/2012|      null|   Kronenberg, Mark|   IND|        Q|  Oakland Gardens|   NY|11364|  25|       25|       0|         1|\n",
            "|    2013|       5|   1008|       P|Peterson, Daniel P| 6/7/2012|      null|       Heslin, Owen|   IND|        X|            Bronx|   NY|10451|  25|       25|      20|         1|\n",
            "|    2013|       5|   1008|       P|Peterson, Daniel P| 6/7/2012|      null|      Perry, Gerard|   IND|        S|    Staten Island|   NY|10304|  25|       25|       0|         1|\n",
            "|    2013|       5|   1008|       P|Peterson, Daniel P| 6/7/2012|      null|     Chandra, Ashok|   IND|        Q| Long Island City|   NY|11109|  25|       25|      60|         1|\n",
            "|    2013|       5|   1008|       P|Peterson, Daniel P| 6/7/2012|      null|          Ashe, Dan|   IND|        Q| Long Island City|   NY|11109| 100|      100|       0|         2|\n",
            "|    2013|       5|   1008|       P|Peterson, Daniel P|6/17/2012|      null|      Yurcan, Bryan|   IND|        Z|Hasbrouck Heights|   NJ| 7604|  20|        0|       0|         2|\n",
            "|    2013|       5|   1008|       P|Peterson, Daniel P| 6/7/2012|      null|  Bigelow, Margaret|   IND|        Q|          Astoria|   NY|11103|  25|       25|       0|         2|\n",
            "|    2013|       5|   1008|       P|Peterson, Daniel P| 6/7/2012|      null|       Lewis, Harry|   IND|        X|     Pelham Manor|   NY|10803| 100|      100|       0|         2|\n",
            "|    2013|       5|   1008|       P|Peterson, Daniel P|3/13/2012|      null|       Heslin, Owen|   IND|        X|            Bronx|   NY|10451|  20|       20|       0|         4|\n",
            "|    2013|       5|   1008|       P|Peterson, Daniel P|3/15/2012|      null|      Rincker, Cari|   IND|        M|         New York|   NY|10024|  30|       30|       0|         4|\n",
            "|    2013|       5|   1008|       P|Peterson, Daniel P|3/19/2012|      null|  LaVerghetta, Dino|   IND|        M|         New York|   NY|10065|  50|       50|       0|         4|\n",
            "|    2013|       5|   1008|       P|Peterson, Daniel P|4/11/2012|      null|     Chandra, Ashok|   IND|        Q| Long Island City|   NY|11109|  60|       60|       0|         4|\n",
            "|    2013|       5|   1008|       P|Peterson, Daniel P|3/20/2012|      null|Greenberg, Samuel J|   IND|        Q|      Little Neck|   NY|11363|  25|       25|       0|         4|\n",
            "+--------+--------+-------+--------+------------------+---------+----------+-------------------+------+---------+-----------------+-----+-----+----+---------+--------+----------+\n",
            "only showing top 20 rows\n",
            "\n"
          ]
        }
      ]
    },
    {
      "cell_type": "code",
      "metadata": {
        "colab": {
          "base_uri": "https://localhost:8080/"
        },
        "id": "xDSOeFt6AKQu",
        "outputId": "eacdbc53-4cb2-4ae0-9379-f134db9cb8cf"
      },
      "source": [
        "df1 = df \\\n",
        ".withColumnRenamed(\"ELECTION\", \"Election\") \\\n",
        ".withColumnRenamed(\"RECIPID\", \"CanId\") \\\n",
        ".withColumnRenamed(\"RECIPNAME\", \"CandidateName\") \\\n",
        ".withColumnRenamed(\"DATE\", \"Date\") \\\n",
        ".withColumnRenamed(\"NAME\", \"Name\") \\\n",
        ".withColumnRenamed(\"DATE\", \"Date\") \\\n",
        ".withColumnRenamed(\"C_CODE\", \"ContributerType\") \\\n",
        ".withColumnRenamed(\"BOROUGHCD\", \"BoroughName\") \\\n",
        ".withColumnRenamed(\"CITY\", \"City\") \\\n",
        ".withColumnRenamed(\"STATE\", \"State\") \\\n",
        ".withColumnRenamed(\"ZIP\", \"Zip\") \\\n",
        ".withColumnRenamed(\"AMNT\", \"Amount\") \\\n",
        ".withColumnRenamed(\"MATCHAMNT\", \"MatchAmt\") \\\n",
        ".withColumnRenamed(\"PREVAMNT\", \"PrevAmt\") \\\n",
        ".withColumnRenamed(\"PAY_METHOD\", \"PayMethod\") \n",
        "\n",
        "df1.printSchema()\n"
      ],
      "execution_count": 48,
      "outputs": [
        {
          "output_type": "stream",
          "name": "stdout",
          "text": [
            "root\n",
            " |-- Election: string (nullable = true)\n",
            " |-- OFFICECD: string (nullable = true)\n",
            " |-- CanId: string (nullable = true)\n",
            " |-- CANCLASS: string (nullable = true)\n",
            " |-- CandidateName: string (nullable = true)\n",
            " |-- Date: string (nullable = true)\n",
            " |-- REFUNDDATE: string (nullable = true)\n",
            " |-- Name: string (nullable = true)\n",
            " |-- ContributerType: string (nullable = true)\n",
            " |-- BoroughName: string (nullable = true)\n",
            " |-- City: string (nullable = true)\n",
            " |-- State: string (nullable = true)\n",
            " |-- Zip: string (nullable = true)\n",
            " |-- Amount: string (nullable = true)\n",
            " |-- MatchAmt: string (nullable = true)\n",
            " |-- PrevAmt: string (nullable = true)\n",
            " |-- PayMethod: string (nullable = true)\n",
            "\n"
          ]
        }
      ]
    },
    {
      "cell_type": "code",
      "metadata": {
        "colab": {
          "base_uri": "https://localhost:8080/"
        },
        "id": "nAYEoWF64Vvs",
        "outputId": "1a59b25d-f408-44fa-c3f4-7ed73b53d8ff"
      },
      "source": [
        "# changing datatypes of columns\n",
        "df2 = df1.withColumn(\"Election\",df1[\"Election\"].cast(\"Integer\")) \\\n",
        "  .withColumn(\"OFFICECD\", df1[\"OFFICECD\"].cast(\"Integer\")) \\\n",
        "  .withColumn(\"CanId\", df1[\"CanId\"].cast(\"Integer\")) \\\n",
        "  .withColumn(\"Zip\", df1[\"Zip\"].cast(\"Integer\")) \\\n",
        "  .withColumn(\"Amount\", df1[\"Amount\"].cast(\"Float\")) \\\n",
        "  .withColumn(\"MatchAmt\", df1[\"MatchAmt\"].cast(\"Float\")) \\\n",
        "  .withColumn(\"PrevAmt\", df1[\"PrevAmt\"].cast(\"Float\")) \\\n",
        "  .withColumn(\"Date\", df1[\"Date\"].cast(\"Date\")) \\\n",
        "  .withColumn(\"REFUNDDATE\", df1[\"REFUNDDATE\"].cast(\"Date\")) \n",
        "  \n",
        "df2.printSchema()"
      ],
      "execution_count": 53,
      "outputs": [
        {
          "output_type": "stream",
          "name": "stdout",
          "text": [
            "root\n",
            " |-- Election: integer (nullable = true)\n",
            " |-- OFFICECD: integer (nullable = true)\n",
            " |-- CanId: integer (nullable = true)\n",
            " |-- CANCLASS: string (nullable = true)\n",
            " |-- CandidateName: string (nullable = true)\n",
            " |-- Date: date (nullable = true)\n",
            " |-- REFUNDDATE: date (nullable = true)\n",
            " |-- Name: string (nullable = true)\n",
            " |-- ContributerType: string (nullable = true)\n",
            " |-- BoroughName: string (nullable = true)\n",
            " |-- City: string (nullable = true)\n",
            " |-- State: string (nullable = true)\n",
            " |-- Zip: integer (nullable = true)\n",
            " |-- Amount: float (nullable = true)\n",
            " |-- MatchAmt: float (nullable = true)\n",
            " |-- PrevAmt: float (nullable = true)\n",
            " |-- PayMethod: string (nullable = true)\n",
            "\n"
          ]
        }
      ]
    },
    {
      "cell_type": "code",
      "metadata": {
        "id": "vXtBqyP44bGl"
      },
      "source": [
        "df3 = df2.filter((df.OFFICECD==\"1\") & (df2.CANCLASS==\"P\"))"
      ],
      "execution_count": 54,
      "outputs": []
    },
    {
      "cell_type": "code",
      "metadata": {
        "colab": {
          "base_uri": "https://localhost:8080/"
        },
        "id": "esGK2U_D5N0M",
        "outputId": "1b7c6390-11f6-404f-9403-86fcac57f8b9"
      },
      "source": [
        "df3.show()"
      ],
      "execution_count": 55,
      "outputs": [
        {
          "output_type": "stream",
          "name": "stdout",
          "text": [
            "+--------+--------+-----+--------+--------------------+----+----------+-------------------+---------------+-----------+--------------+-----+-----+------+--------+-------+---------+\n",
            "|Election|OFFICECD|CanId|CANCLASS|       CandidateName|Date|REFUNDDATE|               Name|ContributerType|BoroughName|          City|State|  Zip|Amount|MatchAmt|PrevAmt|PayMethod|\n",
            "+--------+--------+-----+--------+--------------------+----+----------+-------------------+---------------+-----------+--------------+-----+-----+------+--------+-------+---------+\n",
            "|    2013|       1| 1286|       P|Coenen, Jr., Kevin P|null|      null|    Coenen, Kevin P|            CAN|          Z|     Nesconset|   NY|11767|  10.0|     0.0|    0.0|        4|\n",
            "|    2013|       1| 1286|       P|Coenen, Jr., Kevin P|null|      null|     Walter, Dorsey|            IND|          M|      New York|   NY|10150| 175.0|   175.0|    0.0|        4|\n",
            "|    2013|       1| 1286|       P|Coenen, Jr., Kevin P|null|      null|    Coenen, Kevin P|            CAN|          Z|     Nesconset|   NY|11767| -10.0|     0.0|    0.0|        0|\n",
            "|    2013|       1| 1551|       P|     Marks, Philip A|null|      null|      Marks, Philip|            CAN|          K|      Brooklyn|   NY|11236| 400.0|   175.0|    0.0|        2|\n",
            "|    2013|       1| 1551|       P|     Marks, Philip A|null|      null|      Marks, Philip|            CAN|          K|      Brooklyn|   NY|11236| 100.0|     0.0|  400.0|        1|\n",
            "|    2013|       1| 1639|       P|Berkowitz, Ceceil...|null|      null|         Roc, Stacy|            IND|          Z|     Uniondale|   NY|11553|  10.0|     0.0|    0.0|        1|\n",
            "|    2013|       1| 1639|       P|Berkowitz, Ceceil...|null|      null|         He, Yufeng|            IND|          K|      Brooklyn|   NY|11220|  10.0|    10.0|    0.0|        1|\n",
            "|    2013|       1| 1639|       P|Berkowitz, Ceceil...|null|      null|    Yaqoobi, Naseir|            IND|          Z| Lake Hiawatha|   NJ| 7034|  10.0|     0.0|    0.0|        1|\n",
            "|    2013|       1| 1639|       P|Berkowitz, Ceceil...|null|      null|        Fung, Kevin|            IND|          X|         Bronx|   NY|10461|  10.0|    10.0|    0.0|        1|\n",
            "|    2013|       1| 1639|       P|Berkowitz, Ceceil...|null|      null|Monroe, Christopher|            IND|          Z|   Mt. Lebanon|   PA|15228|  10.0|     0.0|   10.0|        4|\n",
            "|    2013|       1| 1639|       P|Berkowitz, Ceceil...|null|      null|     Beegan, Daniel|            IND|          Z|   Beech Grove|   IN|46107|  10.0|     0.0|    0.0|        4|\n",
            "|    2013|       1| 1639|       P|Berkowitz, Ceceil...|null|      null|         Will, Eric|            IND|          Z|     Knoxville|   TN|37920|  10.0|     0.0|    0.0|        4|\n",
            "|    2013|       1| 1639|       P|Berkowitz, Ceceil...|null|      null|         Will, Eric|            IND|          Z|     Knoxville|   TN|37920|  10.0|     0.0|    0.0|        4|\n",
            "|    2013|       1| 1639|       P|Berkowitz, Ceceil...|null|      null|Monroe, Christopher|            IND|          Z|   Mt. Lebanon|   PA|15228|  10.0|     0.0|    0.0|        4|\n",
            "|    2013|       1| 1639|       P|Berkowitz, Ceceil...|null|      null|      Judd, Timothy|            IND|          Z|       Houston|   TX|77018|  10.0|     0.0|    0.0|        4|\n",
            "|    2013|       1| 1639|       P|Berkowitz, Ceceil...|null|      null|    Laohoo, William|            IND|          Z|East Brunswick|   NJ| 8816|  20.0|     0.0|    0.0|        4|\n",
            "|    2013|       1| 1666|       P|    Salgado, Erick J|null|      null|    Acevedo, Alexie|            IND|          Z|     Brentwood|   NY|11717| 100.0|     0.0|    0.0|        1|\n",
            "|    2013|       1| 1666|       P|    Salgado, Erick J|null|      null|   Salgado, Erick J|            CAN|          S| Staten Island|   NY|10302|4000.0|   175.0|    0.0|        2|\n",
            "|    2013|       1| 1666|       P|    Salgado, Erick J|null|      null|     Vargas, Lucino|            IND|          K|      Brooklyn|   NY|11220| 500.0|   175.0|    0.0|        2|\n",
            "|    2013|       1| 1666|       P|    Salgado, Erick J|null|      null|    Torres, Marcial|            IND|          Z|       Matawan|   NJ| 7747| 500.0|     0.0|    0.0|        2|\n",
            "+--------+--------+-----+--------+--------------------+----+----------+-------------------+---------------+-----------+--------------+-----+-----+------+--------+-------+---------+\n",
            "only showing top 20 rows\n",
            "\n"
          ]
        }
      ]
    },
    {
      "cell_type": "code",
      "metadata": {
        "id": "0LFHT4Vg5PEV"
      },
      "source": [
        ""
      ],
      "execution_count": null,
      "outputs": []
    },
    {
      "cell_type": "code",
      "metadata": {
        "id": "9PeNvM_FHP1c"
      },
      "source": [
        ""
      ],
      "execution_count": 55,
      "outputs": []
    }
  ]
}