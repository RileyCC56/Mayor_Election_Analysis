{
  "nbformat": 4,
  "nbformat_minor": 0,
  "metadata": {
    "colab": {
      "name": "Expenditures_2021.ipynb",
      "provenance": [],
      "collapsed_sections": [],
      "authorship_tag": "ABX9TyMvpVIzq3R++xABfKQVsN86",
      "include_colab_link": true
    },
    "kernelspec": {
      "name": "python3",
      "display_name": "Python 3"
    },
    "language_info": {
      "name": "python"
    }
  },
  "cells": [
    {
      "cell_type": "markdown",
      "metadata": {
        "id": "view-in-github",
        "colab_type": "text"
      },
      "source": [
        "<a href=\"https://colab.research.google.com/github/ssheggrud/Mod_20_Project/blob/05_Riley/Expenditures_2021.ipynb\" target=\"_parent\"><img src=\"https://colab.research.google.com/assets/colab-badge.svg\" alt=\"Open In Colab\"/></a>"
      ]
    },
    {
      "cell_type": "code",
      "metadata": {
        "colab": {
          "base_uri": "https://localhost:8080/"
        },
        "id": "ddn5mqQ0M_R3",
        "outputId": "f5a47bf0-9fbc-42d3-cb42-e4c293999a74"
      },
      "source": [
        "import os\n",
        "# Find the latest version of spark 3.0 from http://www.apache.org/dist/spark/ and enter as the spark version\n",
        "# For example:\n",
        "spark_version = 'spark-3.0.3'\n",
        "#spark_version = 'spark-2.4.8'\n",
        "os.environ['SPARK_VERSION']=spark_version\n",
        "\n",
        "# Install Spark and Java\n",
        "!apt-get update\n",
        "!apt-get install openjdk-11-jdk-headless -qq > /dev/null\n",
        "!wget -q http://www.apache.org/dist/spark/$SPARK_VERSION/$SPARK_VERSION-bin-hadoop2.7.tgz\n",
        "!tar xf $SPARK_VERSION-bin-hadoop2.7.tgz\n",
        "!pip install -q findspark\n",
        "\n",
        "# Set Environment Variables\n",
        "import os\n",
        "os.environ[\"JAVA_HOME\"] = \"/usr/lib/jvm/java-11-openjdk-amd64\"\n",
        "os.environ[\"SPARK_HOME\"] = f\"/content/{spark_version}-bin-hadoop2.7\"\n",
        "\n",
        "# Start a SparkSession\n",
        "import findspark\n",
        "findspark.init()\n",
        "\n",
        "import pandas as pd\n"
      ],
      "execution_count": 1,
      "outputs": [
        {
          "output_type": "stream",
          "name": "stdout",
          "text": [
            "\r0% [Working]\r            \rHit:1 http://security.ubuntu.com/ubuntu bionic-security InRelease\n",
            "\r0% [Connecting to archive.ubuntu.com (91.189.88.152)] [Connected to cloud.r-pro\r                                                                               \rHit:2 https://cloud.r-project.org/bin/linux/ubuntu bionic-cran40/ InRelease\n",
            "\r0% [Connecting to archive.ubuntu.com (91.189.88.152)] [Connecting to ppa.launch\r0% [1 InRelease gpgv 88.7 kB] [Connecting to archive.ubuntu.com (91.189.88.152)\r                                                                               \rIgn:3 https://developer.download.nvidia.com/compute/cuda/repos/ubuntu1804/x86_64  InRelease\n",
            "\r                                                                               \r0% [1 InRelease gpgv 88.7 kB] [Waiting for headers] [Waiting for headers]\r                                                                         \rHit:4 http://ppa.launchpad.net/c2d4u.team/c2d4u4.0+/ubuntu bionic InRelease\n",
            "Ign:5 https://developer.download.nvidia.com/compute/machine-learning/repos/ubuntu1804/x86_64  InRelease\n",
            "Hit:6 https://developer.download.nvidia.com/compute/cuda/repos/ubuntu1804/x86_64  Release\n",
            "Hit:7 http://archive.ubuntu.com/ubuntu bionic InRelease\n",
            "Hit:8 https://developer.download.nvidia.com/compute/machine-learning/repos/ubuntu1804/x86_64  Release\n",
            "Hit:9 http://archive.ubuntu.com/ubuntu bionic-updates InRelease\n",
            "Hit:10 http://ppa.launchpad.net/cran/libgit2/ubuntu bionic InRelease\n",
            "Hit:11 http://archive.ubuntu.com/ubuntu bionic-backports InRelease\n",
            "Hit:12 http://ppa.launchpad.net/deadsnakes/ppa/ubuntu bionic InRelease\n",
            "Hit:13 http://ppa.launchpad.net/graphics-drivers/ppa/ubuntu bionic InRelease\n",
            "Reading package lists... Done\n"
          ]
        }
      ]
    },
    {
      "cell_type": "code",
      "metadata": {
        "colab": {
          "base_uri": "https://localhost:8080/"
        },
        "id": "B9Dd_JabNFZU",
        "outputId": "a48d35e6-6c7b-4434-f7d5-c848001f882d"
      },
      "source": [
        "# Download the Postgres driver that will allow Spark to interact with Postgres.\n",
        "!wget https://jdbc.postgresql.org/download/postgresql-42.2.16.jar"
      ],
      "execution_count": 2,
      "outputs": [
        {
          "output_type": "stream",
          "name": "stdout",
          "text": [
            "--2021-09-15 15:38:13--  https://jdbc.postgresql.org/download/postgresql-42.2.16.jar\n",
            "Resolving jdbc.postgresql.org (jdbc.postgresql.org)... 72.32.157.228, 2001:4800:3e1:1::228\n",
            "Connecting to jdbc.postgresql.org (jdbc.postgresql.org)|72.32.157.228|:443... connected.\n",
            "HTTP request sent, awaiting response... 200 OK\n",
            "Length: 1002883 (979K) [application/java-archive]\n",
            "Saving to: ‘postgresql-42.2.16.jar.1’\n",
            "\n",
            "postgresql-42.2.16. 100%[===================>] 979.38K  --.-KB/s    in 0.08s   \n",
            "\n",
            "2021-09-15 15:38:13 (11.4 MB/s) - ‘postgresql-42.2.16.jar.1’ saved [1002883/1002883]\n",
            "\n"
          ]
        }
      ]
    },
    {
      "cell_type": "code",
      "metadata": {
        "id": "VrvolWKMNFbe"
      },
      "source": [
        "# Start Spark session\n",
        "from pyspark.sql import SparkSession\n",
        "from pyspark.sql.functions import col\n",
        "spark = SparkSession.builder.appName(\"FinalProject\").getOrCreate()"
      ],
      "execution_count": 3,
      "outputs": []
    },
    {
      "cell_type": "code",
      "metadata": {
        "colab": {
          "base_uri": "https://localhost:8080/"
        },
        "id": "W2uxnkAjNFeD",
        "outputId": "14b6befc-c1e9-42cd-fa9c-2be321602c55"
      },
      "source": [
        "# Read in data from S3 Buckets\n",
        "from pyspark import SparkFiles\n",
        "url = \"https://databootcamp-final-05.s3.amazonaws.com/Resources/Expenditures+2021+(UF).csv\"\n",
        "spark.sparkContext.addFile(url)\n",
        "df = spark.read.csv(SparkFiles.get(\"Expenditures+2021+(UF).csv\"), sep=\",\", header=True)\n",
        "df.show()"
      ],
      "execution_count": 4,
      "outputs": [
        {
          "output_type": "stream",
          "name": "stdout",
          "text": [
            "+--------+--------+------+--------+--------+---------+------+---------+------+--------+------+----------+--------+---------+----------+--------------------+------+-------+-----+-------+---------+---------------+-----+-----+----------+--------+---------+----------------+-----------------+--------+------+-------+\n",
            "|ELECTION|OFFICECD|CANDID|CANCLASS|CANDLAST|CANDFIRST|CANDMI|COMMITTEE|FILING|SCHEDULE|PAGENO|SEQUENCENO|   REFNO| INV_DATE|      DATE|                NAME|C_CODE|ORG_IND|STRNO|STRNAME|APARTMENT|           CITY|STATE|  ZIP|PAY_METHOD|    AMNT|PURPOSECD|         PURPOSE|          EXPLAIN|EXEMPTCD|RR_IND|SEG_IND|\n",
            "+--------+--------+------+--------+--------+---------+------+---------+------+--------+------+----------+--------+---------+----------+--------------------+------+-------+-----+-------+---------+---------------+-----+-----+----------+--------+---------+----------------+-----------------+--------+------+-------+\n",
            "|    2021|       1|  2445|      NP| Francis|   Quanda|     S|        H|    11|       N|  null|      null|R0000330|     null|10/11/2020|             1 HOTEL|  CORP|      Y| null|   null|     null|       Brooklyn|   NY|11201|      null| 2001.16|    RENTO|     Office Rent|  rental location|    null|     N|      N|\n",
            "|    2021|      11|  2546|       P|    Yang|   Andrew|  null|        H|     9|       F|  null|      null|R0094567| 6/3/2021|  6/4/2021|    1-800flowers.com|  CORP|      Y| null|   null|     null|       Glendale|   NY|11385|   Unknown|   91.57|    OTHER|Other: explntion|          Flowers|    null|     N|      N|\n",
            "|    2021|      11|   148|       P|Stringer|    Scott|     M|        R|     8|       F|  null|      null|R0063906| 5/1/2021|  5/1/2021|115 Broadway Tena...|   LLC|      Y| null|   null|     null|       New York|   NY|10006|   Unknown| 3240.75|    RENTO|     Office Rent|             Rent|    null|     N|      N|\n",
            "|    2021|      11|   148|       P|Stringer|    Scott|     M|        R|     8|       F|  null|      null|R0066187| 5/4/2021|  5/4/2021|115 Broadway Tena...|   LLC|      Y| null|   null|     null|       New York|   NY|10006|   Unknown|13240.75|    RENTO|     Office Rent|             Rent|    null|     N|      N|\n",
            "|    2021|      11|   148|       P|Stringer|    Scott|     M|        R|     9|       F|  null|      null|R0070461| 6/1/2021|  6/7/2021|115 Broadway Tena...|   LLC|      Y| null|   null|     null|       New York|   NY|10006|   Unknown| 16762.5|    RENTO|     Office Rent|             Rent|    null|     N|      N|\n",
            "|    2021|      11|   148|       P|Stringer|    Scott|     M|        R|    11|       L|  null|      null|R0072010| 5/4/2021|  8/5/2021|115 Broadway Tena...|   LLC|      Y| null|   null|     null|       New York|   NY|10006|      null|  -10000|     null|            null|             null|    null|     N|      N|\n",
            "|    2021|      11|  2393|       P|   Wiley|     Maya|     D|        H|     8|       F|  null|      null|R0048292| 3/5/2021|  4/1/2021|1199 SEIU United ...| PCOMP|      Y| null|   null|     null|       New York|   NY|10036|   Unknown|    1500|    FUNDR|     Fundraising|Auditorium Rental|    null|     N|      N|\n",
            "|    2021|      11|  1545|       P|   Adams|     Eric|     L|        L|     9|       F|  null|      null|R0044751|5/26/2021| 5/31/2021|1389 Construction...|  CORP|      Y| null|   null|     null|       New York|   NY|10030|   Unknown|    4000|    RENTO|     Office Rent|    Office Rental|    null|     N|      N|\n",
            "|    2021|      11|   148|       P|Stringer|    Scott|     M|        R|    10|       F|  null|      null|R0071477|6/30/2021| 6/30/2021|       1800 Got Junk|  CORP|      Y| null|   null|     null|          Bronx|   NY|10451|   Unknown|  574.86|    PROFL|    Prof. Srvcs.|     Junk Removal|    null|     N|      N|\n",
            "|    2021|      11|  2546|       P|    Yang|   Andrew|  null|        H|    10|       F|  null|      null|R0104366| 7/1/2021|  7/1/2021|           1Password|  OTHR|      Y| null|   null|     null|Toronto, Canada| null| null|   Unknown|  529.97|    OFFCE| Office Expenses|   Cyber Security|    null|     N|      N|\n",
            "|    2021|      11|  2546|       P|    Yang|   Andrew|  null|        H|     7|       F|  null|      null|R0000685| 2/1/2021|  2/2/2021|           1Password|  OTHR|      Y| null|   null|     null|Toronto, Canada| null| null|   Unknown|  277.66|    OFFCE| Office Expenses|   Cyber Security|    null|     N|      N|\n",
            "|    2021|      11|  2546|       P|    Yang|   Andrew|  null|        H|     7|       F|  null|      null|R0037526| 3/1/2021|  3/2/2021|           1Password|  OTHR|      Y| null|   null|     null|Toronto, Canada| null| null|   Unknown|  369.74|    OFFCE| Office Expenses|   Cyber Security|    null|     N|      N|\n",
            "|    2021|      11|  2546|       P|    Yang|   Andrew|  null|        H|     8|       F|  null|      null|R0060767| 4/2/2021|  4/2/2021|           1Password|  OTHR|      Y| null|   null|     null|Toronto, Canada| null| null|   Unknown|   324.9|    OFFCE| Office Expenses|   Cyber Security|    null|     N|      N|\n",
            "|    2021|      11|  2546|       P|    Yang|   Andrew|  null|        H|     8|       F|  null|      null|R0069942| 5/1/2021|  5/3/2021|           1Password|  OTHR|      Y| null|   null|     null|Toronto, Canada| null| null|   Unknown|  463.28|    OFFCE| Office Expenses|   Cyber Security|    null|     N|      N|\n",
            "|    2021|      11|  2546|       P|    Yang|   Andrew|  null|        H|     9|       F|  null|      null|R0089688| 6/1/2021|  6/2/2021|           1Password|  OTHR|      Y| null|   null|     null|Toronto, Canada| null| null|   Unknown|  568.76|    OFFCE| Office Expenses|   Cyber Security|    null|     N|      N|\n",
            "|    2021|      11|  2366|       P|Pepitone|  William|  null|        H|    10|       F|  null|      null|R0001701|4/30/2021| 4/30/2021|2 Twins Digital P...|  CORP|      Y| null|   null|     null|  Staten Island|   NY|10312|   Unknown|  152.43|    OFFCE| Office Expenses|         Printing|    null|     N|      N|\n",
            "|    2021|      11|  2366|       P|Pepitone|  William|  null|        H|    10|       F|  null|      null|R0001721|5/14/2021| 5/14/2021|2 Twins Digital P...|  CORP|      Y| null|   null|     null|  Staten Island|   NY|10312|   Unknown|  1050.1|    OFFCE| Office Expenses|          Signage|    null|     N|      N|\n",
            "|    2021|      11|  2366|       P|Pepitone|  William|  null|        H|    10|       F|  null|      null|R0001733| 6/8/2021|  6/8/2021|2 Twins Digital P...|  CORP|      Y| null|   null|     null|  Staten Island|   NY|10312|   Unknown|   435.5|    OFFCE| Office Expenses|         Printing|    null|     N|      N|\n",
            "|    2021|      11|  2366|       P|Pepitone|  William|  null|        H|    10|       F|  null|      null|R0001735|6/14/2021| 6/14/2021|2 Twins Digital P...|  CORP|      Y| null|   null|     null|  Staten Island|   NY|10312|   Unknown|  152.43|    OFFCE| Office Expenses|         Printing|    null|     N|      N|\n",
            "|    2021|      11|  2366|       P|Pepitone|  William|  null|        H|    11|       F|  null|      null|R0002359| 8/5/2021|  8/5/2021|2 Twins Digital P...|  CORP|      Y| null|   null|     null|  Staten Island|   NY| null|   Unknown|  152.43|    LITER|     Campgn Lit.|       Palm Cards|    null|     N|      N|\n",
            "+--------+--------+------+--------+--------+---------+------+---------+------+--------+------+----------+--------+---------+----------+--------------------+------+-------+-----+-------+---------+---------------+-----+-----+----------+--------+---------+----------------+-----------------+--------+------+-------+\n",
            "only showing top 20 rows\n",
            "\n"
          ]
        }
      ]
    },
    {
      "cell_type": "code",
      "metadata": {
        "colab": {
          "base_uri": "https://localhost:8080/"
        },
        "id": "PauL98XATuOi",
        "outputId": "285b65c2-7396-4554-f6d3-7656e578571c"
      },
      "source": [
        "df.columns"
      ],
      "execution_count": 5,
      "outputs": [
        {
          "output_type": "execute_result",
          "data": {
            "text/plain": [
              "['ELECTION',\n",
              " 'OFFICECD',\n",
              " 'CANDID',\n",
              " 'CANCLASS',\n",
              " 'CANDLAST',\n",
              " 'CANDFIRST',\n",
              " 'CANDMI',\n",
              " 'COMMITTEE',\n",
              " 'FILING',\n",
              " 'SCHEDULE',\n",
              " 'PAGENO',\n",
              " 'SEQUENCENO',\n",
              " 'REFNO',\n",
              " 'INV_DATE',\n",
              " 'DATE',\n",
              " 'NAME',\n",
              " 'C_CODE',\n",
              " 'ORG_IND',\n",
              " 'STRNO',\n",
              " 'STRNAME',\n",
              " 'APARTMENT',\n",
              " 'CITY',\n",
              " 'STATE',\n",
              " 'ZIP',\n",
              " 'PAY_METHOD',\n",
              " 'AMNT',\n",
              " 'PURPOSECD',\n",
              " 'PURPOSE',\n",
              " 'EXPLAIN',\n",
              " 'EXEMPTCD',\n",
              " 'RR_IND',\n",
              " 'SEG_IND']"
            ]
          },
          "metadata": {},
          "execution_count": 5
        }
      ]
    },
    {
      "cell_type": "code",
      "metadata": {
        "colab": {
          "base_uri": "https://localhost:8080/"
        },
        "id": "e2cRNc4wNFgt",
        "outputId": "6a5cf0de-5634-4322-989b-ea931bfbb261"
      },
      "source": [
        "# Remove multiple columns\n",
        "list = ['CANDMI','COMMITTEE',\n",
        " 'FILING',\n",
        " 'SCHEDULE',\n",
        " 'PAGENO',\n",
        " 'SEQUENCENO',\n",
        " 'REFNO',\n",
        " 'INV_DATE',\n",
        " 'DATE',\n",
        " 'NAME',\n",
        " 'ORG_IND',\n",
        " 'STRNO',\n",
        " 'STRNAME',\n",
        " 'APARTMENT',\n",
        "  'EXPLAIN',\n",
        " 'EXEMPTCD',\n",
        " 'RR_IND',\n",
        " 'SEG_IND',\n",
        " 'PAY_METHOD'] \n",
        "df = df.drop(*list)\n",
        "df.show()"
      ],
      "execution_count": 6,
      "outputs": [
        {
          "output_type": "stream",
          "name": "stdout",
          "text": [
            "+--------+--------+------+--------+--------+---------+------+---------------+-----+-----+--------+---------+----------------+\n",
            "|ELECTION|OFFICECD|CANDID|CANCLASS|CANDLAST|CANDFIRST|C_CODE|           CITY|STATE|  ZIP|    AMNT|PURPOSECD|         PURPOSE|\n",
            "+--------+--------+------+--------+--------+---------+------+---------------+-----+-----+--------+---------+----------------+\n",
            "|    2021|       1|  2445|      NP| Francis|   Quanda|  CORP|       Brooklyn|   NY|11201| 2001.16|    RENTO|     Office Rent|\n",
            "|    2021|      11|  2546|       P|    Yang|   Andrew|  CORP|       Glendale|   NY|11385|   91.57|    OTHER|Other: explntion|\n",
            "|    2021|      11|   148|       P|Stringer|    Scott|   LLC|       New York|   NY|10006| 3240.75|    RENTO|     Office Rent|\n",
            "|    2021|      11|   148|       P|Stringer|    Scott|   LLC|       New York|   NY|10006|13240.75|    RENTO|     Office Rent|\n",
            "|    2021|      11|   148|       P|Stringer|    Scott|   LLC|       New York|   NY|10006| 16762.5|    RENTO|     Office Rent|\n",
            "|    2021|      11|   148|       P|Stringer|    Scott|   LLC|       New York|   NY|10006|  -10000|     null|            null|\n",
            "|    2021|      11|  2393|       P|   Wiley|     Maya| PCOMP|       New York|   NY|10036|    1500|    FUNDR|     Fundraising|\n",
            "|    2021|      11|  1545|       P|   Adams|     Eric|  CORP|       New York|   NY|10030|    4000|    RENTO|     Office Rent|\n",
            "|    2021|      11|   148|       P|Stringer|    Scott|  CORP|          Bronx|   NY|10451|  574.86|    PROFL|    Prof. Srvcs.|\n",
            "|    2021|      11|  2546|       P|    Yang|   Andrew|  OTHR|Toronto, Canada| null| null|  529.97|    OFFCE| Office Expenses|\n",
            "|    2021|      11|  2546|       P|    Yang|   Andrew|  OTHR|Toronto, Canada| null| null|  277.66|    OFFCE| Office Expenses|\n",
            "|    2021|      11|  2546|       P|    Yang|   Andrew|  OTHR|Toronto, Canada| null| null|  369.74|    OFFCE| Office Expenses|\n",
            "|    2021|      11|  2546|       P|    Yang|   Andrew|  OTHR|Toronto, Canada| null| null|   324.9|    OFFCE| Office Expenses|\n",
            "|    2021|      11|  2546|       P|    Yang|   Andrew|  OTHR|Toronto, Canada| null| null|  463.28|    OFFCE| Office Expenses|\n",
            "|    2021|      11|  2546|       P|    Yang|   Andrew|  OTHR|Toronto, Canada| null| null|  568.76|    OFFCE| Office Expenses|\n",
            "|    2021|      11|  2366|       P|Pepitone|  William|  CORP|  Staten Island|   NY|10312|  152.43|    OFFCE| Office Expenses|\n",
            "|    2021|      11|  2366|       P|Pepitone|  William|  CORP|  Staten Island|   NY|10312|  1050.1|    OFFCE| Office Expenses|\n",
            "|    2021|      11|  2366|       P|Pepitone|  William|  CORP|  Staten Island|   NY|10312|   435.5|    OFFCE| Office Expenses|\n",
            "|    2021|      11|  2366|       P|Pepitone|  William|  CORP|  Staten Island|   NY|10312|  152.43|    OFFCE| Office Expenses|\n",
            "|    2021|      11|  2366|       P|Pepitone|  William|  CORP|  Staten Island|   NY| null|  152.43|    LITER|     Campgn Lit.|\n",
            "+--------+--------+------+--------+--------+---------+------+---------------+-----+-----+--------+---------+----------------+\n",
            "only showing top 20 rows\n",
            "\n"
          ]
        }
      ]
    },
    {
      "cell_type": "code",
      "metadata": {
        "id": "jQjgDTZeqqf1",
        "colab": {
          "base_uri": "https://localhost:8080/"
        },
        "outputId": "72479e4c-ee2e-472c-e34b-d8d184b2d172"
      },
      "source": [
        "#Combine the Candidate first and last name columns\n",
        "from pyspark.sql.functions import concat_ws\n",
        "df2 = df.withColumn(\"CandidateName\", concat_ws(\",\",\"CANDFIRST\",'CANDLAST'))\n",
        "df2.show()"
      ],
      "execution_count": 7,
      "outputs": [
        {
          "output_type": "stream",
          "name": "stdout",
          "text": [
            "+--------+--------+------+--------+--------+---------+------+---------------+-----+-----+--------+---------+----------------+----------------+\n",
            "|ELECTION|OFFICECD|CANDID|CANCLASS|CANDLAST|CANDFIRST|C_CODE|           CITY|STATE|  ZIP|    AMNT|PURPOSECD|         PURPOSE|   CandidateName|\n",
            "+--------+--------+------+--------+--------+---------+------+---------------+-----+-----+--------+---------+----------------+----------------+\n",
            "|    2021|       1|  2445|      NP| Francis|   Quanda|  CORP|       Brooklyn|   NY|11201| 2001.16|    RENTO|     Office Rent|  Quanda,Francis|\n",
            "|    2021|      11|  2546|       P|    Yang|   Andrew|  CORP|       Glendale|   NY|11385|   91.57|    OTHER|Other: explntion|     Andrew,Yang|\n",
            "|    2021|      11|   148|       P|Stringer|    Scott|   LLC|       New York|   NY|10006| 3240.75|    RENTO|     Office Rent|  Scott,Stringer|\n",
            "|    2021|      11|   148|       P|Stringer|    Scott|   LLC|       New York|   NY|10006|13240.75|    RENTO|     Office Rent|  Scott,Stringer|\n",
            "|    2021|      11|   148|       P|Stringer|    Scott|   LLC|       New York|   NY|10006| 16762.5|    RENTO|     Office Rent|  Scott,Stringer|\n",
            "|    2021|      11|   148|       P|Stringer|    Scott|   LLC|       New York|   NY|10006|  -10000|     null|            null|  Scott,Stringer|\n",
            "|    2021|      11|  2393|       P|   Wiley|     Maya| PCOMP|       New York|   NY|10036|    1500|    FUNDR|     Fundraising|      Maya,Wiley|\n",
            "|    2021|      11|  1545|       P|   Adams|     Eric|  CORP|       New York|   NY|10030|    4000|    RENTO|     Office Rent|      Eric,Adams|\n",
            "|    2021|      11|   148|       P|Stringer|    Scott|  CORP|          Bronx|   NY|10451|  574.86|    PROFL|    Prof. Srvcs.|  Scott,Stringer|\n",
            "|    2021|      11|  2546|       P|    Yang|   Andrew|  OTHR|Toronto, Canada| null| null|  529.97|    OFFCE| Office Expenses|     Andrew,Yang|\n",
            "|    2021|      11|  2546|       P|    Yang|   Andrew|  OTHR|Toronto, Canada| null| null|  277.66|    OFFCE| Office Expenses|     Andrew,Yang|\n",
            "|    2021|      11|  2546|       P|    Yang|   Andrew|  OTHR|Toronto, Canada| null| null|  369.74|    OFFCE| Office Expenses|     Andrew,Yang|\n",
            "|    2021|      11|  2546|       P|    Yang|   Andrew|  OTHR|Toronto, Canada| null| null|   324.9|    OFFCE| Office Expenses|     Andrew,Yang|\n",
            "|    2021|      11|  2546|       P|    Yang|   Andrew|  OTHR|Toronto, Canada| null| null|  463.28|    OFFCE| Office Expenses|     Andrew,Yang|\n",
            "|    2021|      11|  2546|       P|    Yang|   Andrew|  OTHR|Toronto, Canada| null| null|  568.76|    OFFCE| Office Expenses|     Andrew,Yang|\n",
            "|    2021|      11|  2366|       P|Pepitone|  William|  CORP|  Staten Island|   NY|10312|  152.43|    OFFCE| Office Expenses|William,Pepitone|\n",
            "|    2021|      11|  2366|       P|Pepitone|  William|  CORP|  Staten Island|   NY|10312|  1050.1|    OFFCE| Office Expenses|William,Pepitone|\n",
            "|    2021|      11|  2366|       P|Pepitone|  William|  CORP|  Staten Island|   NY|10312|   435.5|    OFFCE| Office Expenses|William,Pepitone|\n",
            "|    2021|      11|  2366|       P|Pepitone|  William|  CORP|  Staten Island|   NY|10312|  152.43|    OFFCE| Office Expenses|William,Pepitone|\n",
            "|    2021|      11|  2366|       P|Pepitone|  William|  CORP|  Staten Island|   NY| null|  152.43|    LITER|     Campgn Lit.|William,Pepitone|\n",
            "+--------+--------+------+--------+--------+---------+------+---------------+-----+-----+--------+---------+----------------+----------------+\n",
            "only showing top 20 rows\n",
            "\n"
          ]
        }
      ]
    },
    {
      "cell_type": "code",
      "metadata": {
        "id": "qGVZ3I4hz1x6"
      },
      "source": [
        "#Rearrange column order\n",
        "df3=df2.select('ELECTION','OFFICECD', 'CANDID', 'CANCLASS', 'CandidateName', 'CANDLAST', 'CANDFIRST','C_CODE', 'CITY', 'STATE',  'ZIP', 'AMNT', 'PURPOSECD', 'PURPOSE')"
      ],
      "execution_count": 8,
      "outputs": []
    },
    {
      "cell_type": "code",
      "metadata": {
        "colab": {
          "base_uri": "https://localhost:8080/"
        },
        "id": "LAcxTotHz2t-",
        "outputId": "e0c060a5-3976-404c-88b5-a9ea4a2dab56"
      },
      "source": [
        "#Drop OFFICECD and CANCLASS\n",
        "list1 = ['CANDLAST', 'CANDFIRST'] \n",
        "df4 = df3.drop(*list1)\n",
        "df4.show()"
      ],
      "execution_count": 9,
      "outputs": [
        {
          "output_type": "stream",
          "name": "stdout",
          "text": [
            "+--------+--------+------+--------+----------------+------+---------------+-----+-----+--------+---------+----------------+\n",
            "|ELECTION|OFFICECD|CANDID|CANCLASS|   CandidateName|C_CODE|           CITY|STATE|  ZIP|    AMNT|PURPOSECD|         PURPOSE|\n",
            "+--------+--------+------+--------+----------------+------+---------------+-----+-----+--------+---------+----------------+\n",
            "|    2021|       1|  2445|      NP|  Quanda,Francis|  CORP|       Brooklyn|   NY|11201| 2001.16|    RENTO|     Office Rent|\n",
            "|    2021|      11|  2546|       P|     Andrew,Yang|  CORP|       Glendale|   NY|11385|   91.57|    OTHER|Other: explntion|\n",
            "|    2021|      11|   148|       P|  Scott,Stringer|   LLC|       New York|   NY|10006| 3240.75|    RENTO|     Office Rent|\n",
            "|    2021|      11|   148|       P|  Scott,Stringer|   LLC|       New York|   NY|10006|13240.75|    RENTO|     Office Rent|\n",
            "|    2021|      11|   148|       P|  Scott,Stringer|   LLC|       New York|   NY|10006| 16762.5|    RENTO|     Office Rent|\n",
            "|    2021|      11|   148|       P|  Scott,Stringer|   LLC|       New York|   NY|10006|  -10000|     null|            null|\n",
            "|    2021|      11|  2393|       P|      Maya,Wiley| PCOMP|       New York|   NY|10036|    1500|    FUNDR|     Fundraising|\n",
            "|    2021|      11|  1545|       P|      Eric,Adams|  CORP|       New York|   NY|10030|    4000|    RENTO|     Office Rent|\n",
            "|    2021|      11|   148|       P|  Scott,Stringer|  CORP|          Bronx|   NY|10451|  574.86|    PROFL|    Prof. Srvcs.|\n",
            "|    2021|      11|  2546|       P|     Andrew,Yang|  OTHR|Toronto, Canada| null| null|  529.97|    OFFCE| Office Expenses|\n",
            "|    2021|      11|  2546|       P|     Andrew,Yang|  OTHR|Toronto, Canada| null| null|  277.66|    OFFCE| Office Expenses|\n",
            "|    2021|      11|  2546|       P|     Andrew,Yang|  OTHR|Toronto, Canada| null| null|  369.74|    OFFCE| Office Expenses|\n",
            "|    2021|      11|  2546|       P|     Andrew,Yang|  OTHR|Toronto, Canada| null| null|   324.9|    OFFCE| Office Expenses|\n",
            "|    2021|      11|  2546|       P|     Andrew,Yang|  OTHR|Toronto, Canada| null| null|  463.28|    OFFCE| Office Expenses|\n",
            "|    2021|      11|  2546|       P|     Andrew,Yang|  OTHR|Toronto, Canada| null| null|  568.76|    OFFCE| Office Expenses|\n",
            "|    2021|      11|  2366|       P|William,Pepitone|  CORP|  Staten Island|   NY|10312|  152.43|    OFFCE| Office Expenses|\n",
            "|    2021|      11|  2366|       P|William,Pepitone|  CORP|  Staten Island|   NY|10312|  1050.1|    OFFCE| Office Expenses|\n",
            "|    2021|      11|  2366|       P|William,Pepitone|  CORP|  Staten Island|   NY|10312|   435.5|    OFFCE| Office Expenses|\n",
            "|    2021|      11|  2366|       P|William,Pepitone|  CORP|  Staten Island|   NY|10312|  152.43|    OFFCE| Office Expenses|\n",
            "|    2021|      11|  2366|       P|William,Pepitone|  CORP|  Staten Island|   NY| null|  152.43|    LITER|     Campgn Lit.|\n",
            "+--------+--------+------+--------+----------------+------+---------------+-----+-----+--------+---------+----------------+\n",
            "only showing top 20 rows\n",
            "\n"
          ]
        }
      ]
    },
    {
      "cell_type": "code",
      "metadata": {
        "colab": {
          "base_uri": "https://localhost:8080/"
        },
        "id": "g5aiRN5RNFjB",
        "outputId": "75eec931-2a10-49ff-e4f1-715d91fc3c2e"
      },
      "source": [
        "# check data types\n",
        "df4.dtypes"
      ],
      "execution_count": 10,
      "outputs": [
        {
          "output_type": "execute_result",
          "data": {
            "text/plain": [
              "[('ELECTION', 'string'),\n",
              " ('OFFICECD', 'string'),\n",
              " ('CANDID', 'string'),\n",
              " ('CANCLASS', 'string'),\n",
              " ('CandidateName', 'string'),\n",
              " ('C_CODE', 'string'),\n",
              " ('CITY', 'string'),\n",
              " ('STATE', 'string'),\n",
              " ('ZIP', 'string'),\n",
              " ('AMNT', 'string'),\n",
              " ('PURPOSECD', 'string'),\n",
              " ('PURPOSE', 'string')]"
            ]
          },
          "metadata": {},
          "execution_count": 10
        }
      ]
    },
    {
      "cell_type": "code",
      "metadata": {
        "colab": {
          "base_uri": "https://localhost:8080/"
        },
        "id": "sA6AAG4zYxSL",
        "outputId": "432d486e-2209-4f56-f0b5-26211f91fa85"
      },
      "source": [
        "df4.columns"
      ],
      "execution_count": 11,
      "outputs": [
        {
          "output_type": "execute_result",
          "data": {
            "text/plain": [
              "['ELECTION',\n",
              " 'OFFICECD',\n",
              " 'CANDID',\n",
              " 'CANCLASS',\n",
              " 'CandidateName',\n",
              " 'C_CODE',\n",
              " 'CITY',\n",
              " 'STATE',\n",
              " 'ZIP',\n",
              " 'AMNT',\n",
              " 'PURPOSECD',\n",
              " 'PURPOSE']"
            ]
          },
          "metadata": {},
          "execution_count": 11
        }
      ]
    },
    {
      "cell_type": "code",
      "metadata": {
        "colab": {
          "base_uri": "https://localhost:8080/"
        },
        "id": "tIkq3wdqOzWV",
        "outputId": "688f1718-20f1-49dc-8f59-92fc42a2e960"
      },
      "source": [
        "#Change column names\n",
        "df5 = df4 \\\n",
        ".withColumnRenamed(\"ELECTION\", \"Election\") \\\n",
        ".withColumnRenamed(\"CANDID\", \"CandidateID\") \\\n",
        ".withColumnRenamed(\"C_CODE\", \"ContributionType\") \\\n",
        ".withColumnRenamed(\"CITY\", \"City\") \\\n",
        ".withColumnRenamed(\"STATE\", \"State\") \\\n",
        ".withColumnRenamed(\"ZIP\", \"ZipCode\") \\\n",
        ".withColumnRenamed(\"AMNT\", \"Amount\") \\\n",
        ".withColumnRenamed(\"PURPOSECD\", \"PurposeCode\") \\\n",
        ".withColumnRenamed(\"PURPOSE\", \"Purpose\") \n",
        "\n",
        "df5.printSchema()"
      ],
      "execution_count": 12,
      "outputs": [
        {
          "output_type": "stream",
          "name": "stdout",
          "text": [
            "root\n",
            " |-- Election: string (nullable = true)\n",
            " |-- OFFICECD: string (nullable = true)\n",
            " |-- CandidateID: string (nullable = true)\n",
            " |-- CANCLASS: string (nullable = true)\n",
            " |-- CandidateName: string (nullable = false)\n",
            " |-- ContributionType: string (nullable = true)\n",
            " |-- City: string (nullable = true)\n",
            " |-- State: string (nullable = true)\n",
            " |-- ZipCode: string (nullable = true)\n",
            " |-- Amount: string (nullable = true)\n",
            " |-- PurposeCode: string (nullable = true)\n",
            " |-- Purpose: string (nullable = true)\n",
            "\n"
          ]
        }
      ]
    },
    {
      "cell_type": "code",
      "metadata": {
        "colab": {
          "base_uri": "https://localhost:8080/"
        },
        "id": "SyWn9dANSi5l",
        "outputId": "143b5547-35f2-4c13-8f58-8d9056360f98"
      },
      "source": [
        "# changing datatypes of columns\n",
        "df6 = df5 \\\n",
        "  .withColumn(\"Election\",df5[\"Election\"].cast(\"Integer\")) \\\n",
        "  .withColumn(\"OFFICECD\", df5[\"OFFICECD\"].cast(\"Integer\")) \\\n",
        "  .withColumn(\"CandidateID\", df5[\"CandidateID\"].cast(\"Integer\")) \\\n",
        "  .withColumn(\"ZipCode\", df5[\"ZipCode\"].cast(\"Integer\")) \\\n",
        "  .withColumn(\"Amount\", df5[\"Amount\"].cast(\"Float\")) \\\n",
        "  \n",
        "df6.printSchema()"
      ],
      "execution_count": 13,
      "outputs": [
        {
          "output_type": "stream",
          "name": "stdout",
          "text": [
            "root\n",
            " |-- Election: integer (nullable = true)\n",
            " |-- OFFICECD: integer (nullable = true)\n",
            " |-- CandidateID: integer (nullable = true)\n",
            " |-- CANCLASS: string (nullable = true)\n",
            " |-- CandidateName: string (nullable = false)\n",
            " |-- ContributionType: string (nullable = true)\n",
            " |-- City: string (nullable = true)\n",
            " |-- State: string (nullable = true)\n",
            " |-- ZipCode: integer (nullable = true)\n",
            " |-- Amount: float (nullable = true)\n",
            " |-- PurposeCode: string (nullable = true)\n",
            " |-- Purpose: string (nullable = true)\n",
            "\n"
          ]
        }
      ]
    },
    {
      "cell_type": "code",
      "metadata": {
        "id": "h1aCPuV3WPwC"
      },
      "source": [
        "#Change vaule name in ContributerType\n",
        "from pyspark.sql.functions import regexp_replace\n",
        "df7 = df6.withColumn(\"ContributionType\", regexp_replace(\"ContributionType\", 'CAN', 'Candidate')) \\\n",
        "  .withColumn('ContributionType', regexp_replace(\"ContributionType\", 'CORP', 'Corporation')) \\\n",
        "  .withColumn('ContributionType', regexp_replace(\"ContributionType\", 'EMPO', 'Labor Union')) \\\n",
        "  .withColumn(\"ContributionType\", regexp_replace(\"ContributionType\", 'FAM', 'Candidate Family')) \\\n",
        "  .withColumn(\"ContributionType\", regexp_replace(\"ContributionType\", 'IND', 'Individual')) \\\n",
        "  .withColumn(\"ContributionType\", regexp_replace(\"ContributionType\", 'PCOMZ', 'Party Committee')) \\\n",
        "  .withColumn(\"ContributionType\", regexp_replace(\"ContributionType\", 'ORG', 'Orgainization')) \\\n",
        "  .withColumn(\"ContributionType\", regexp_replace(\"ContributionType\", 'LLC', 'Limited Liability Company')) \\\n",
        "  .withColumn(\"ContributionType\", regexp_replace(\"ContributionType\", 'PCOMP', 'Political Action Committee')) \\\n",
        "  .withColumn(\"ContributionType\", regexp_replace(\"ContributionType\", 'SPO', ' Candidates Spouse')) \\\n",
        "  .withColumn(\"ContributionType\", regexp_replace(\"ContributionType\", 'OTHR', 'Other')) \\\n",
        "  .withColumn(\"ContributionType\", regexp_replace(\"ContributionType\", 'PCOMC', 'Candidate Committee')) \\\n",
        "  .withColumn(\"ContributionType\", regexp_replace(\"ContributionType\", 'PART', 'Individual')) \\\n"
      ],
      "execution_count": 14,
      "outputs": []
    },
    {
      "cell_type": "code",
      "metadata": {
        "id": "fy4JAvyQWRl7"
      },
      "source": [
        "#Change Purpose Code value names\n",
        "from pyspark.sql.functions import regexp_replace\n",
        "df8 = df7.withColumn('PurposeCode', regexp_replace('PurposeCode', 'ADVAN', 'Advance Repayment')) \\\n",
        "  .withColumn('PurposeCode', regexp_replace('PurposeCode', 'CMAIL', 'Campaign Mail')) \\\n",
        "  .withColumn('PurposeCode', regexp_replace('PurposeCode', 'CMISC', 'Miscellaneous')) \\\n",
        "  .withColumn('PurposeCode', regexp_replace('PurposeCode', 'CNTRB', 'Political Contributions')) \\\n",
        "  .withColumn('PurposeCode', regexp_replace('PurposeCode', 'COMPL', 'Compliance Cost')) \\\n",
        "  .withColumn('PurposeCode', regexp_replace('PurposeCode', 'CONSL', 'Campaign Consultants')) \\\n",
        "  .withColumn('PurposeCode', regexp_replace('PurposeCode', 'CONSV', 'Constituent Services')) \\\n",
        "  .withColumn('PurposeCode', regexp_replace('PurposeCode', 'FUNDR', 'Fundraising')) \\\n",
        "  .withColumn('PurposeCode', regexp_replace('PurposeCode', 'INTER', 'Interest Expenses')) \\\n",
        "  .withColumn('PurposeCode', regexp_replace('PurposeCode', 'LITER', 'Campaign Literature')) \\\n",
        "  .withColumn('PurposeCode', regexp_replace('PurposeCode', 'NQUAL', 'Non Qualified Expenditures')) \\\n",
        "  .withColumn('PurposeCode', regexp_replace('PurposeCode', 'OFFCE', 'Office Expenses')) \\\n",
        "  .withColumn('PurposeCode', regexp_replace('PurposeCode', 'OTHER', 'Other')) \\\n",
        "  .withColumn('PurposeCode', regexp_replace('PurposeCode', 'PETIT', 'Petition Expenses')) \\\n",
        "  .withColumn('PurposeCode', regexp_replace('PurposeCode', 'POLLS', 'Polling Costs')) \\\n",
        "  .withColumn('PurposeCode', regexp_replace('PurposeCode', 'POSTA', 'Postal Expenses')) \\\n",
        "  .withColumn('PurposeCode', regexp_replace('PurposeCode', 'PRINT', 'Printing Expenses')) \\\n",
        "  .withColumn('PurposeCode', regexp_replace('PurposeCode', 'PROFL', 'Professional Services')) \\\n",
        "  .withColumn('PurposeCode', regexp_replace('PurposeCode', 'RADIO', 'Radio Ads')) \\\n",
        "  .withColumn('PurposeCode', regexp_replace('PurposeCode', 'RENTO', 'Office Rent')) \\\n",
        "  .withColumn('PurposeCode', regexp_replace('PurposeCode', 'TVADS', 'Television Ads')) \\\n",
        "  .withColumn('PurposeCode', regexp_replace('PurposeCode', 'UNKN', 'Unknown')) \\\n",
        "  .withColumn('PurposeCode', regexp_replace('PurposeCode', 'VOTER', 'Voter Registration')) \\\n",
        "  .withColumn('PurposeCode', regexp_replace('PurposeCode', 'WAGES', 'Campaign Workers Salaries')) \\"
      ],
      "execution_count": 15,
      "outputs": []
    },
    {
      "cell_type": "code",
      "metadata": {
        "id": "fM_kC3ViNFqN",
        "colab": {
          "base_uri": "https://localhost:8080/"
        },
        "outputId": "33a2d6a2-a044-4301-ba3a-f76df7794c6f"
      },
      "source": [
        "#Call only Mayor (1) and particaptes (P) within Dataframe\n",
        "df9 = df8.filter((df6.OFFICECD==\"1\") & (df8.CANCLASS==\"P\"))\n",
        "df9.show()"
      ],
      "execution_count": 16,
      "outputs": [
        {
          "output_type": "stream",
          "name": "stdout",
          "text": [
            "+--------+--------+-----------+--------+----------------+--------------------+----------+-----+-------+------+--------------------+----------------+\n",
            "|Election|OFFICECD|CandidateID|CANCLASS|   CandidateName|    ContributionType|      City|State|ZipCode|Amount|         PurposeCode|         Purpose|\n",
            "+--------+--------+-----------+--------+----------------+--------------------+----------+-----+-------+------+--------------------+----------------+\n",
            "|    2021|       1|       1160|       P|  Ruben,Diaz Jr.|         Corporation|  New York|   NY|  10018|1300.0|         Fundraising|     Fundraising|\n",
            "|    2021|       1|       1160|       P|  Ruben,Diaz Jr.|         Corporation|  New York|   NY|  10018| 500.0|               Other|Other: explntion|\n",
            "|    2021|       1|       1160|       P|  Ruben,Diaz Jr.|Limited Liability...|     Bronx|   NY|  10472| 350.0|               Other|Other: explntion|\n",
            "|    2021|       1|       1991|       P|Aaron,Foldenauer|         Corporation|Somerville|   MA|   2144|  5.39|Professional Serv...|    Prof. Srvcs.|\n",
            "|    2021|       1|       1991|       P|Aaron,Foldenauer|         Corporation|Somerville|   MA|   2144| 16.13|Professional Serv...|    Prof. Srvcs.|\n",
            "|    2021|       1|       1991|       P|Aaron,Foldenauer|         Corporation|Somerville|   MA|   2144| 38.26|Professional Serv...|    Prof. Srvcs.|\n",
            "|    2021|       1|       1991|       P|Aaron,Foldenauer|         Corporation|Somerville|   MA|   2144| 27.76|Professional Serv...|    Prof. Srvcs.|\n",
            "|    2021|       1|       1991|       P|Aaron,Foldenauer|         Corporation|Somerville|   MA|   2144|  5.25|Professional Serv...|    Prof. Srvcs.|\n",
            "|    2021|       1|       1991|       P|Aaron,Foldenauer|         Corporation|Somerville|   MA|   2144|   3.0|Professional Serv...|    Prof. Srvcs.|\n",
            "|    2021|       1|       1991|       P|Aaron,Foldenauer|         Corporation|Somerville|   MA|   2144|  2.25|Professional Serv...|    Prof. Srvcs.|\n",
            "|    2021|       1|       1991|       P|Aaron,Foldenauer|         Corporation|Somerville|   MA|   2144| 26.78|Professional Serv...|    Prof. Srvcs.|\n",
            "|    2021|       1|       1991|       P|Aaron,Foldenauer|         Corporation|Somerville|   MA|   2144|  1.65|Professional Serv...|    Prof. Srvcs.|\n",
            "|    2021|       1|       1991|       P|Aaron,Foldenauer|         Corporation|Somerville|   MA|   2144|  4.88|Professional Serv...|    Prof. Srvcs.|\n",
            "|    2021|       1|       1991|       P|Aaron,Foldenauer|         Corporation|Somerville|   MA|   2144|   3.0|Professional Serv...|    Prof. Srvcs.|\n",
            "|    2021|       1|       1991|       P|Aaron,Foldenauer|         Corporation|Somerville|   MA|   2144|  1.49|Professional Serv...|    Prof. Srvcs.|\n",
            "|    2021|       1|       1991|       P|Aaron,Foldenauer|         Corporation|Somerville|   MA|   2144|  1.49|Professional Serv...|    Prof. Srvcs.|\n",
            "|    2021|       1|       1991|       P|Aaron,Foldenauer|         Corporation|Somerville|   MA|   2144|  5.24|Professional Serv...|    Prof. Srvcs.|\n",
            "|    2021|       1|       1991|       P|Aaron,Foldenauer|         Corporation|Somerville|   MA|   2144|  3.74|Professional Serv...|    Prof. Srvcs.|\n",
            "|    2021|       1|       1991|       P|Aaron,Foldenauer|         Corporation|Somerville|   MA|   2144| 13.64|Professional Serv...|    Prof. Srvcs.|\n",
            "|    2021|       1|       1991|       P|Aaron,Foldenauer|         Corporation|Somerville|   MA|   2144|  8.99|Professional Serv...|    Prof. Srvcs.|\n",
            "+--------+--------+-----------+--------+----------------+--------------------+----------+-----+-------+------+--------------------+----------------+\n",
            "only showing top 20 rows\n",
            "\n"
          ]
        }
      ]
    },
    {
      "cell_type": "code",
      "metadata": {
        "id": "WmdLbDEzQAyc",
        "colab": {
          "base_uri": "https://localhost:8080/"
        },
        "outputId": "3e88b872-1e87-4ba9-d58a-cf0c81a2dd38"
      },
      "source": [
        "#Check the above dataframe to make sure only unique values between the OFFICECD is 1 \n",
        "df9.select('OFFICECD').distinct().show()"
      ],
      "execution_count": 17,
      "outputs": [
        {
          "output_type": "stream",
          "name": "stdout",
          "text": [
            "+--------+\n",
            "|OFFICECD|\n",
            "+--------+\n",
            "|       1|\n",
            "+--------+\n",
            "\n"
          ]
        }
      ]
    },
    {
      "cell_type": "code",
      "metadata": {
        "id": "4kbDs5ApZtEu",
        "colab": {
          "base_uri": "https://localhost:8080/"
        },
        "outputId": "d46b3d3d-72f1-4290-becb-bc1094f70d44"
      },
      "source": [
        "#Drop OFFICECD and CANCLASS\n",
        "list2 = ['OFFICECD', 'CANCLASS'] \n",
        "Expenditures_2021_df = df9.drop(*list2)\n",
        "Expenditures_2021_df.show()"
      ],
      "execution_count": 18,
      "outputs": [
        {
          "output_type": "stream",
          "name": "stdout",
          "text": [
            "+--------+-----------+----------------+--------------------+----------+-----+-------+------+--------------------+----------------+\n",
            "|Election|CandidateID|   CandidateName|    ContributionType|      City|State|ZipCode|Amount|         PurposeCode|         Purpose|\n",
            "+--------+-----------+----------------+--------------------+----------+-----+-------+------+--------------------+----------------+\n",
            "|    2021|       1160|  Ruben,Diaz Jr.|         Corporation|  New York|   NY|  10018|1300.0|         Fundraising|     Fundraising|\n",
            "|    2021|       1160|  Ruben,Diaz Jr.|         Corporation|  New York|   NY|  10018| 500.0|               Other|Other: explntion|\n",
            "|    2021|       1160|  Ruben,Diaz Jr.|Limited Liability...|     Bronx|   NY|  10472| 350.0|               Other|Other: explntion|\n",
            "|    2021|       1991|Aaron,Foldenauer|         Corporation|Somerville|   MA|   2144|  5.39|Professional Serv...|    Prof. Srvcs.|\n",
            "|    2021|       1991|Aaron,Foldenauer|         Corporation|Somerville|   MA|   2144| 16.13|Professional Serv...|    Prof. Srvcs.|\n",
            "|    2021|       1991|Aaron,Foldenauer|         Corporation|Somerville|   MA|   2144| 38.26|Professional Serv...|    Prof. Srvcs.|\n",
            "|    2021|       1991|Aaron,Foldenauer|         Corporation|Somerville|   MA|   2144| 27.76|Professional Serv...|    Prof. Srvcs.|\n",
            "|    2021|       1991|Aaron,Foldenauer|         Corporation|Somerville|   MA|   2144|  5.25|Professional Serv...|    Prof. Srvcs.|\n",
            "|    2021|       1991|Aaron,Foldenauer|         Corporation|Somerville|   MA|   2144|   3.0|Professional Serv...|    Prof. Srvcs.|\n",
            "|    2021|       1991|Aaron,Foldenauer|         Corporation|Somerville|   MA|   2144|  2.25|Professional Serv...|    Prof. Srvcs.|\n",
            "|    2021|       1991|Aaron,Foldenauer|         Corporation|Somerville|   MA|   2144| 26.78|Professional Serv...|    Prof. Srvcs.|\n",
            "|    2021|       1991|Aaron,Foldenauer|         Corporation|Somerville|   MA|   2144|  1.65|Professional Serv...|    Prof. Srvcs.|\n",
            "|    2021|       1991|Aaron,Foldenauer|         Corporation|Somerville|   MA|   2144|  4.88|Professional Serv...|    Prof. Srvcs.|\n",
            "|    2021|       1991|Aaron,Foldenauer|         Corporation|Somerville|   MA|   2144|   3.0|Professional Serv...|    Prof. Srvcs.|\n",
            "|    2021|       1991|Aaron,Foldenauer|         Corporation|Somerville|   MA|   2144|  1.49|Professional Serv...|    Prof. Srvcs.|\n",
            "|    2021|       1991|Aaron,Foldenauer|         Corporation|Somerville|   MA|   2144|  1.49|Professional Serv...|    Prof. Srvcs.|\n",
            "|    2021|       1991|Aaron,Foldenauer|         Corporation|Somerville|   MA|   2144|  5.24|Professional Serv...|    Prof. Srvcs.|\n",
            "|    2021|       1991|Aaron,Foldenauer|         Corporation|Somerville|   MA|   2144|  3.74|Professional Serv...|    Prof. Srvcs.|\n",
            "|    2021|       1991|Aaron,Foldenauer|         Corporation|Somerville|   MA|   2144| 13.64|Professional Serv...|    Prof. Srvcs.|\n",
            "|    2021|       1991|Aaron,Foldenauer|         Corporation|Somerville|   MA|   2144|  8.99|Professional Serv...|    Prof. Srvcs.|\n",
            "+--------+-----------+----------------+--------------------+----------+-----+-------+------+--------------------+----------------+\n",
            "only showing top 20 rows\n",
            "\n"
          ]
        }
      ]
    },
    {
      "cell_type": "code",
      "metadata": {
        "id": "jKdRMcW-9mtO"
      },
      "source": [
        "#Export to new CSV\n",
        "#Expenditures_2021_df.toPandas().to_csv(\"Clean_Expenditures_2021.csv\", header=True)"
      ],
      "execution_count": 19,
      "outputs": []
    },
    {
      "cell_type": "code",
      "metadata": {
        "id": "0xHPGZ5gcKff"
      },
      "source": [
        "# Store environmental variable\n",
        "from getpass import getpass\n",
        "#Configure settings for RDS\n",
        "mode = \"append\"\n",
        "jdbc_url=\"jdbc:postgresql://database-final.cjdbapst3wjf.us-east-1.rds.amazonaws.com:5432/postgres\"\n",
        "config = {\"user\":\"postgres\",\n",
        "          \"password\": \"******\",\n",
        "          \"driver\":\"org.postgresql.Driver\"}"
      ],
      "execution_count": 20,
      "outputs": []
    },
    {
      "cell_type": "code",
      "metadata": {
        "id": "7BSEgJlTcLrD",
        "colab": {
          "base_uri": "https://localhost:8080/",
          "height": 1000
        },
        "outputId": "8ee1d03c-418b-43d2-f58e-f7d636667118"
      },
      "source": [
        "# Write DataFrame to active_user table in RDS\n",
        "Expenditures_2021_df.write.jdbc(url=jdbc_url, table='expenditures_2021', mode=mode, properties=config)"
      ],
      "execution_count": 21,
      "outputs": [
        {
          "output_type": "error",
          "ename": "Py4JJavaError",
          "evalue": "ignored",
          "traceback": [
            "\u001b[0;31m---------------------------------------------------------------------------\u001b[0m",
            "\u001b[0;31mPy4JJavaError\u001b[0m                             Traceback (most recent call last)",
            "\u001b[0;32m<ipython-input-21-be41da6d071d>\u001b[0m in \u001b[0;36m<module>\u001b[0;34m()\u001b[0m\n\u001b[1;32m      1\u001b[0m \u001b[0;31m# Write DataFrame to active_user table in RDS\u001b[0m\u001b[0;34m\u001b[0m\u001b[0;34m\u001b[0m\u001b[0;34m\u001b[0m\u001b[0m\n\u001b[0;32m----> 2\u001b[0;31m \u001b[0mExpenditures_2021_df\u001b[0m\u001b[0;34m.\u001b[0m\u001b[0mwrite\u001b[0m\u001b[0;34m.\u001b[0m\u001b[0mjdbc\u001b[0m\u001b[0;34m(\u001b[0m\u001b[0murl\u001b[0m\u001b[0;34m=\u001b[0m\u001b[0mjdbc_url\u001b[0m\u001b[0;34m,\u001b[0m \u001b[0mtable\u001b[0m\u001b[0;34m=\u001b[0m\u001b[0;34m'expenditures_2021'\u001b[0m\u001b[0;34m,\u001b[0m \u001b[0mmode\u001b[0m\u001b[0;34m=\u001b[0m\u001b[0mmode\u001b[0m\u001b[0;34m,\u001b[0m \u001b[0mproperties\u001b[0m\u001b[0;34m=\u001b[0m\u001b[0mconfig\u001b[0m\u001b[0;34m)\u001b[0m\u001b[0;34m\u001b[0m\u001b[0;34m\u001b[0m\u001b[0m\n\u001b[0m",
            "\u001b[0;32m/content/spark-3.0.3-bin-hadoop2.7/python/pyspark/sql/readwriter.py\u001b[0m in \u001b[0;36mjdbc\u001b[0;34m(self, url, table, mode, properties)\u001b[0m\n\u001b[1;32m   1083\u001b[0m         \u001b[0;32mfor\u001b[0m \u001b[0mk\u001b[0m \u001b[0;32min\u001b[0m \u001b[0mproperties\u001b[0m\u001b[0;34m:\u001b[0m\u001b[0;34m\u001b[0m\u001b[0;34m\u001b[0m\u001b[0m\n\u001b[1;32m   1084\u001b[0m             \u001b[0mjprop\u001b[0m\u001b[0;34m.\u001b[0m\u001b[0msetProperty\u001b[0m\u001b[0;34m(\u001b[0m\u001b[0mk\u001b[0m\u001b[0;34m,\u001b[0m \u001b[0mproperties\u001b[0m\u001b[0;34m[\u001b[0m\u001b[0mk\u001b[0m\u001b[0;34m]\u001b[0m\u001b[0;34m)\u001b[0m\u001b[0;34m\u001b[0m\u001b[0;34m\u001b[0m\u001b[0m\n\u001b[0;32m-> 1085\u001b[0;31m         \u001b[0mself\u001b[0m\u001b[0;34m.\u001b[0m\u001b[0mmode\u001b[0m\u001b[0;34m(\u001b[0m\u001b[0mmode\u001b[0m\u001b[0;34m)\u001b[0m\u001b[0;34m.\u001b[0m\u001b[0m_jwrite\u001b[0m\u001b[0;34m.\u001b[0m\u001b[0mjdbc\u001b[0m\u001b[0;34m(\u001b[0m\u001b[0murl\u001b[0m\u001b[0;34m,\u001b[0m \u001b[0mtable\u001b[0m\u001b[0;34m,\u001b[0m \u001b[0mjprop\u001b[0m\u001b[0;34m)\u001b[0m\u001b[0;34m\u001b[0m\u001b[0;34m\u001b[0m\u001b[0m\n\u001b[0m\u001b[1;32m   1086\u001b[0m \u001b[0;34m\u001b[0m\u001b[0m\n\u001b[1;32m   1087\u001b[0m \u001b[0;34m\u001b[0m\u001b[0m\n",
            "\u001b[0;32m/content/spark-3.0.3-bin-hadoop2.7/python/lib/py4j-0.10.9-src.zip/py4j/java_gateway.py\u001b[0m in \u001b[0;36m__call__\u001b[0;34m(self, *args)\u001b[0m\n\u001b[1;32m   1303\u001b[0m         \u001b[0manswer\u001b[0m \u001b[0;34m=\u001b[0m \u001b[0mself\u001b[0m\u001b[0;34m.\u001b[0m\u001b[0mgateway_client\u001b[0m\u001b[0;34m.\u001b[0m\u001b[0msend_command\u001b[0m\u001b[0;34m(\u001b[0m\u001b[0mcommand\u001b[0m\u001b[0;34m)\u001b[0m\u001b[0;34m\u001b[0m\u001b[0;34m\u001b[0m\u001b[0m\n\u001b[1;32m   1304\u001b[0m         return_value = get_return_value(\n\u001b[0;32m-> 1305\u001b[0;31m             answer, self.gateway_client, self.target_id, self.name)\n\u001b[0m\u001b[1;32m   1306\u001b[0m \u001b[0;34m\u001b[0m\u001b[0m\n\u001b[1;32m   1307\u001b[0m         \u001b[0;32mfor\u001b[0m \u001b[0mtemp_arg\u001b[0m \u001b[0;32min\u001b[0m \u001b[0mtemp_args\u001b[0m\u001b[0;34m:\u001b[0m\u001b[0;34m\u001b[0m\u001b[0;34m\u001b[0m\u001b[0m\n",
            "\u001b[0;32m/content/spark-3.0.3-bin-hadoop2.7/python/pyspark/sql/utils.py\u001b[0m in \u001b[0;36mdeco\u001b[0;34m(*a, **kw)\u001b[0m\n\u001b[1;32m    126\u001b[0m     \u001b[0;32mdef\u001b[0m \u001b[0mdeco\u001b[0m\u001b[0;34m(\u001b[0m\u001b[0;34m*\u001b[0m\u001b[0ma\u001b[0m\u001b[0;34m,\u001b[0m \u001b[0;34m**\u001b[0m\u001b[0mkw\u001b[0m\u001b[0;34m)\u001b[0m\u001b[0;34m:\u001b[0m\u001b[0;34m\u001b[0m\u001b[0;34m\u001b[0m\u001b[0m\n\u001b[1;32m    127\u001b[0m         \u001b[0;32mtry\u001b[0m\u001b[0;34m:\u001b[0m\u001b[0;34m\u001b[0m\u001b[0;34m\u001b[0m\u001b[0m\n\u001b[0;32m--> 128\u001b[0;31m             \u001b[0;32mreturn\u001b[0m \u001b[0mf\u001b[0m\u001b[0;34m(\u001b[0m\u001b[0;34m*\u001b[0m\u001b[0ma\u001b[0m\u001b[0;34m,\u001b[0m \u001b[0;34m**\u001b[0m\u001b[0mkw\u001b[0m\u001b[0;34m)\u001b[0m\u001b[0;34m\u001b[0m\u001b[0;34m\u001b[0m\u001b[0m\n\u001b[0m\u001b[1;32m    129\u001b[0m         \u001b[0;32mexcept\u001b[0m \u001b[0mpy4j\u001b[0m\u001b[0;34m.\u001b[0m\u001b[0mprotocol\u001b[0m\u001b[0;34m.\u001b[0m\u001b[0mPy4JJavaError\u001b[0m \u001b[0;32mas\u001b[0m \u001b[0me\u001b[0m\u001b[0;34m:\u001b[0m\u001b[0;34m\u001b[0m\u001b[0;34m\u001b[0m\u001b[0m\n\u001b[1;32m    130\u001b[0m             \u001b[0mconverted\u001b[0m \u001b[0;34m=\u001b[0m \u001b[0mconvert_exception\u001b[0m\u001b[0;34m(\u001b[0m\u001b[0me\u001b[0m\u001b[0;34m.\u001b[0m\u001b[0mjava_exception\u001b[0m\u001b[0;34m)\u001b[0m\u001b[0;34m\u001b[0m\u001b[0;34m\u001b[0m\u001b[0m\n",
            "\u001b[0;32m/content/spark-3.0.3-bin-hadoop2.7/python/lib/py4j-0.10.9-src.zip/py4j/protocol.py\u001b[0m in \u001b[0;36mget_return_value\u001b[0;34m(answer, gateway_client, target_id, name)\u001b[0m\n\u001b[1;32m    326\u001b[0m                 raise Py4JJavaError(\n\u001b[1;32m    327\u001b[0m                     \u001b[0;34m\"An error occurred while calling {0}{1}{2}.\\n\"\u001b[0m\u001b[0;34m.\u001b[0m\u001b[0;34m\u001b[0m\u001b[0;34m\u001b[0m\u001b[0m\n\u001b[0;32m--> 328\u001b[0;31m                     format(target_id, \".\", name), value)\n\u001b[0m\u001b[1;32m    329\u001b[0m             \u001b[0;32melse\u001b[0m\u001b[0;34m:\u001b[0m\u001b[0;34m\u001b[0m\u001b[0;34m\u001b[0m\u001b[0m\n\u001b[1;32m    330\u001b[0m                 raise Py4JError(\n",
            "\u001b[0;31mPy4JJavaError\u001b[0m: An error occurred while calling o219.jdbc.\n: java.lang.ClassNotFoundException: org.postgresql.Driver\n\tat java.base/java.net.URLClassLoader.findClass(URLClassLoader.java:471)\n\tat java.base/java.lang.ClassLoader.loadClass(ClassLoader.java:589)\n\tat java.base/java.lang.ClassLoader.loadClass(ClassLoader.java:522)\n\tat org.apache.spark.sql.execution.datasources.jdbc.DriverRegistry$.register(DriverRegistry.scala:45)\n\tat org.apache.spark.sql.execution.datasources.jdbc.JDBCOptions.$anonfun$driverClass$1(JDBCOptions.scala:99)\n\tat org.apache.spark.sql.execution.datasources.jdbc.JDBCOptions.$anonfun$driverClass$1$adapted(JDBCOptions.scala:99)\n\tat scala.Option.foreach(Option.scala:407)\n\tat org.apache.spark.sql.execution.datasources.jdbc.JDBCOptions.<init>(JDBCOptions.scala:99)\n\tat org.apache.spark.sql.execution.datasources.jdbc.JdbcOptionsInWrite.<init>(JDBCOptions.scala:194)\n\tat org.apache.spark.sql.execution.datasources.jdbc.JdbcOptionsInWrite.<init>(JDBCOptions.scala:198)\n\tat org.apache.spark.sql.execution.datasources.jdbc.JdbcRelationProvider.createRelation(JdbcRelationProvider.scala:45)\n\tat org.apache.spark.sql.execution.datasources.SaveIntoDataSourceCommand.run(SaveIntoDataSourceCommand.scala:46)\n\tat org.apache.spark.sql.execution.command.ExecutedCommandExec.sideEffectResult$lzycompute(commands.scala:70)\n\tat org.apache.spark.sql.execution.command.ExecutedCommandExec.sideEffectResult(commands.scala:68)\n\tat org.apache.spark.sql.execution.command.ExecutedCommandExec.doExecute(commands.scala:90)\n\tat org.apache.spark.sql.execution.SparkPlan.$anonfun$execute$1(SparkPlan.scala:180)\n\tat org.apache.spark.sql.execution.SparkPlan.$anonfun$executeQuery$1(SparkPlan.scala:218)\n\tat org.apache.spark.rdd.RDDOperationScope$.withScope(RDDOperationScope.scala:151)\n\tat org.apache.spark.sql.execution.SparkPlan.executeQuery(SparkPlan.scala:215)\n\tat org.apache.spark.sql.execution.SparkPlan.execute(SparkPlan.scala:176)\n\tat org.apache.spark.sql.execution.QueryExecution.toRdd$lzycompute(QueryExecution.scala:127)\n\tat org.apache.spark.sql.execution.QueryExecution.toRdd(QueryExecution.scala:126)\n\tat org.apache.spark.sql.DataFrameWriter.$anonfun$runCommand$1(DataFrameWriter.scala:962)\n\tat org.apache.spark.sql.execution.SQLExecution$.$anonfun$withNewExecutionId$5(SQLExecution.scala:100)\n\tat org.apache.spark.sql.execution.SQLExecution$.withSQLConfPropagated(SQLExecution.scala:160)\n\tat org.apache.spark.sql.execution.SQLExecution$.$anonfun$withNewExecutionId$1(SQLExecution.scala:87)\n\tat org.apache.spark.sql.SparkSession.withActive(SparkSession.scala:767)\n\tat org.apache.spark.sql.execution.SQLExecution$.withNewExecutionId(SQLExecution.scala:64)\n\tat org.apache.spark.sql.DataFrameWriter.runCommand(DataFrameWriter.scala:962)\n\tat org.apache.spark.sql.DataFrameWriter.saveToV1Source(DataFrameWriter.scala:414)\n\tat org.apache.spark.sql.DataFrameWriter.save(DataFrameWriter.scala:398)\n\tat org.apache.spark.sql.DataFrameWriter.jdbc(DataFrameWriter.scala:790)\n\tat java.base/jdk.internal.reflect.NativeMethodAccessorImpl.invoke0(Native Method)\n\tat java.base/jdk.internal.reflect.NativeMethodAccessorImpl.invoke(NativeMethodAccessorImpl.java:62)\n\tat java.base/jdk.internal.reflect.DelegatingMethodAccessorImpl.invoke(DelegatingMethodAccessorImpl.java:43)\n\tat java.base/java.lang.reflect.Method.invoke(Method.java:566)\n\tat py4j.reflection.MethodInvoker.invoke(MethodInvoker.java:244)\n\tat py4j.reflection.ReflectionEngine.invoke(ReflectionEngine.java:357)\n\tat py4j.Gateway.invoke(Gateway.java:282)\n\tat py4j.commands.AbstractCommand.invokeMethod(AbstractCommand.java:132)\n\tat py4j.commands.CallCommand.execute(CallCommand.java:79)\n\tat py4j.GatewayConnection.run(GatewayConnection.java:238)\n\tat java.base/java.lang.Thread.run(Thread.java:829)\n"
          ]
        }
      ]
    }
  ]
}