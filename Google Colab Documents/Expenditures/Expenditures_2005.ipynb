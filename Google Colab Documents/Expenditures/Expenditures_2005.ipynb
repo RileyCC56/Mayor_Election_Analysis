{
  "nbformat": 4,
  "nbformat_minor": 0,
  "metadata": {
    "colab": {
      "name": "Expenditures_2005.ipynb",
      "provenance": [],
      "authorship_tag": "ABX9TyPazxqNlmWP+lXcEElw50W+",
      "include_colab_link": true
    },
    "kernelspec": {
      "name": "python3",
      "display_name": "Python 3"
    },
    "language_info": {
      "name": "python"
    }
  },
  "cells": [
    {
      "cell_type": "markdown",
      "metadata": {
        "id": "view-in-github",
        "colab_type": "text"
      },
      "source": [
        "<a href=\"https://colab.research.google.com/github/ssheggrud/Mod_20_Project/blob/05_Riley/Expenditures_2005.ipynb\" target=\"_parent\"><img src=\"https://colab.research.google.com/assets/colab-badge.svg\" alt=\"Open In Colab\"/></a>"
      ]
    },
    {
      "cell_type": "code",
      "metadata": {
        "colab": {
          "base_uri": "https://localhost:8080/"
        },
        "id": "ddn5mqQ0M_R3",
        "outputId": "e7783973-d700-44e8-d622-c8aa6096b5ce"
      },
      "source": [
        "import os\n",
        "# Find the latest version of spark 3.0 from http://www.apache.org/dist/spark/ and enter as the spark version\n",
        "# For example:\n",
        "spark_version = 'spark-3.0.3'\n",
        "#spark_version = 'spark-2.4.8'\n",
        "os.environ['SPARK_VERSION']=spark_version\n",
        "\n",
        "# Install Spark and Java\n",
        "!apt-get update\n",
        "!apt-get install openjdk-11-jdk-headless -qq > /dev/null\n",
        "!wget -q http://www.apache.org/dist/spark/$SPARK_VERSION/$SPARK_VERSION-bin-hadoop2.7.tgz\n",
        "!tar xf $SPARK_VERSION-bin-hadoop2.7.tgz\n",
        "!pip install -q findspark\n",
        "\n",
        "# Set Environment Variables\n",
        "import os\n",
        "os.environ[\"JAVA_HOME\"] = \"/usr/lib/jvm/java-11-openjdk-amd64\"\n",
        "os.environ[\"SPARK_HOME\"] = f\"/content/{spark_version}-bin-hadoop2.7\"\n",
        "\n",
        "# Start a SparkSession\n",
        "import findspark\n",
        "findspark.init()\n",
        "\n",
        "import pandas as pd\n"
      ],
      "execution_count": 1,
      "outputs": [
        {
          "output_type": "stream",
          "name": "stdout",
          "text": [
            "\r0% [Working]\r            \rHit:1 http://security.ubuntu.com/ubuntu bionic-security InRelease\n",
            "Get:2 https://cloud.r-project.org/bin/linux/ubuntu bionic-cran40/ InRelease [3,626 B]\n",
            "Ign:3 https://developer.download.nvidia.com/compute/cuda/repos/ubuntu1804/x86_64  InRelease\n",
            "Hit:4 http://ppa.launchpad.net/c2d4u.team/c2d4u4.0+/ubuntu bionic InRelease\n",
            "Hit:5 http://archive.ubuntu.com/ubuntu bionic InRelease\n",
            "Ign:6 https://developer.download.nvidia.com/compute/machine-learning/repos/ubuntu1804/x86_64  InRelease\n",
            "Hit:7 https://developer.download.nvidia.com/compute/cuda/repos/ubuntu1804/x86_64  Release\n",
            "Hit:8 https://developer.download.nvidia.com/compute/machine-learning/repos/ubuntu1804/x86_64  Release\n",
            "Get:9 http://archive.ubuntu.com/ubuntu bionic-updates InRelease [88.7 kB]\n",
            "Hit:10 http://ppa.launchpad.net/cran/libgit2/ubuntu bionic InRelease\n",
            "Hit:11 http://ppa.launchpad.net/deadsnakes/ppa/ubuntu bionic InRelease\n",
            "Get:12 http://archive.ubuntu.com/ubuntu bionic-backports InRelease [74.6 kB]\n",
            "Hit:13 http://ppa.launchpad.net/graphics-drivers/ppa/ubuntu bionic InRelease\n",
            "Get:16 http://archive.ubuntu.com/ubuntu bionic-updates/universe amd64 Packages [2,202 kB]\n",
            "Get:17 http://archive.ubuntu.com/ubuntu bionic-updates/main amd64 Packages [2,760 kB]\n",
            "Fetched 5,128 kB in 4s (1,291 kB/s)\n",
            "Reading package lists... Done\n"
          ]
        }
      ]
    },
    {
      "cell_type": "code",
      "metadata": {
        "colab": {
          "base_uri": "https://localhost:8080/"
        },
        "id": "B9Dd_JabNFZU",
        "outputId": "89179c8a-bb9a-4079-90a3-ba9b08d486b4"
      },
      "source": [
        "# Download the Postgres driver that will allow Spark to interact with Postgres.\n",
        "!wget https://jdbc.postgresql.org/download/postgresql-42.2.16.jar"
      ],
      "execution_count": 2,
      "outputs": [
        {
          "output_type": "stream",
          "name": "stdout",
          "text": [
            "--2021-09-15 16:37:44--  https://jdbc.postgresql.org/download/postgresql-42.2.16.jar\n",
            "Resolving jdbc.postgresql.org (jdbc.postgresql.org)... 72.32.157.228, 2001:4800:3e1:1::228\n",
            "Connecting to jdbc.postgresql.org (jdbc.postgresql.org)|72.32.157.228|:443... connected.\n",
            "HTTP request sent, awaiting response... 200 OK\n",
            "Length: 1002883 (979K) [application/java-archive]\n",
            "Saving to: ‘postgresql-42.2.16.jar.1’\n",
            "\n",
            "postgresql-42.2.16. 100%[===================>] 979.38K  5.70MB/s    in 0.2s    \n",
            "\n",
            "2021-09-15 16:37:45 (5.70 MB/s) - ‘postgresql-42.2.16.jar.1’ saved [1002883/1002883]\n",
            "\n"
          ]
        }
      ]
    },
    {
      "cell_type": "code",
      "metadata": {
        "id": "VrvolWKMNFbe"
      },
      "source": [
        "# Start Spark session\n",
        "from pyspark.sql import SparkSession\n",
        "from pyspark.sql.functions import col\n",
        "spark = SparkSession.builder.appName(\"FinalProject\").getOrCreate()"
      ],
      "execution_count": 3,
      "outputs": []
    },
    {
      "cell_type": "code",
      "metadata": {
        "colab": {
          "base_uri": "https://localhost:8080/"
        },
        "id": "W2uxnkAjNFeD",
        "outputId": "022f1f51-e57f-47f9-84a7-77e35e9d381b"
      },
      "source": [
        "# Read in data from S3 Buckets\n",
        "from pyspark import SparkFiles\n",
        "url = \"https://databootcamp-final-05.s3.amazonaws.com/Resources/2005_expenditure.csv\"\n",
        "spark.sparkContext.addFile(url)\n",
        "df = spark.read.csv(SparkFiles.get(\"2005_expenditure.csv\"), sep=\",\", header=True)\n",
        "df.show()"
      ],
      "execution_count": 4,
      "outputs": [
        {
          "output_type": "stream",
          "name": "stdout",
          "text": [
            "+--------+--------+------+--------+------------+---------+------+---------+------+--------+------+----------+--------+-------------------+-------------------+--------------------+------+-------+-----+--------------------+---------+--------------+-----+-----+----------+--------+---------+----------------+----------------+--------+------+-------+\n",
            "|ELECTION|OFFICECD|CANDID|CANCLASS|    CANDLAST|CANDFIRST|CANDMI|COMMITTEE|FILING|SCHEDULE|PAGENO|SEQUENCENO|   REFNO|           INV_DATE|               DATE|                NAME|C_CODE|ORG_IND|STRNO|             STRNAME|APARTMENT|          CITY|STATE|  ZIP|PAY_METHOD|    AMNT|PURPOSECD|         PURPOSE|         EXPLAIN|EXEMPTCD|RR_IND|SEG_IND|\n",
            "+--------+--------+------+--------+------------+---------+------+---------+------+--------+------+----------+--------+-------------------+-------------------+--------------------+------+-------+-----+--------------------+---------+--------------+-----+-----+----------+--------+---------+----------------+----------------+--------+------+-------+\n",
            "|    2005|       4|   206|       P|     Manzano|   Carlos|  null|        K|     5|       F|  null|      null|R0002883| 5/23/2004 00:00:00| 5/23/2004 00:00:00|\"1050\" Restaurant...|  CORP|      Y|  735|        Tenth Avenue|     null|      New York|   NY|10019|     Final|  918.00|    FUNDR|     Fundraising|   Catered Event|    null|     N|      N|\n",
            "|    2005|       4|    ED|       P|Carrion, Jr.|   Adolfo|  null|        J|     8|       F|  null|      null|R0005654| 4/25/2005 00:00:00| 4/25/2005 00:00:00|Somos El Futuro Inc.|  CORP|      Y|  355|      Lexington Ave.|    3RDFL|      New York|   NY|10017|     Final| 3200.00|    CNTRB| Polit Contribs.|   EVENT TICKETS|    null|     N|      N|\n",
            "|    2005|       4|    ED|       P|Carrion, Jr.|   Adolfo|  null|        J|     5|       F|  null|      null|R0004585|  6/9/2004 00:00:00|  6/9/2004 00:00:00|Somos El Futuro Inc.|  CORP|      Y|  355|      Lexington Ave.|    3RDFL|      New York|   NY|10017|     Final| 1500.00|    OTHER|Other: explntion|   EVENT TICKETS|    null|     N|      N|\n",
            "|    2005|       4|    BW|       P|   Moskowitz|      Eva|     S|        A|    10|       F|  null|      null|R0005335| 5/22/2005 00:00:00| 6/24/2005 00:00:00|   1-800-FLOWERS.com|  CORP|      Y| null|                null|     null|          null| null| null|     Final|   55.00|    OTHER|Other: explntion|         Flowers|    null|     N|      N|\n",
            "|    2005|       5|   232|       P|      Weprin|    David|     I|        K|    17|       F|  null|      null|R0002854| 3/11/2005 00:00:00| 3/11/2005 00:00:00|   1-800-Flowers.Com|  CORP|      Y| null|                null|     null|            NY|   NY| null|     Final|  103.00|    OTHER|Other: explntion|    Flowers/Sick|    null|     N|      N|\n",
            "|    2005|       5|   837|       P|    Nocerino|   Joseph|     R|        H|     8|       F|  null|      null|R0000332| 4/15/2005 00:00:00| 4/18/2005 00:00:00|    1-800-My-Buttons|  OTHR|      Y| 5703|   Red Bug Lake Road|      187|Winter Springs|   FL|32708|     Final|  210.00|    LITER|     Campgn Lit.|Campaign Buttons|    null|     N|      N|\n",
            "|    2005|       5|   837|       P|    Nocerino|   Joseph|     R|        H|     8|       F|  null|      null|R0000222|  4/1/2005 00:00:00|  4/1/2005 00:00:00|    1-800-My-Buttons|  OTHR|      Y| 5703|   Red Bug Lake Road|      187|Winter Springs|   FL|32708|     Final|  538.00|    LITER|     Campgn Lit.|Campaign Buttons|    null|     N|      N|\n",
            "|    2005|       5|   837|       P|    Nocerino|   Joseph|     R|        H|     8|       F|  null|      null|R0000233|  4/4/2005 00:00:00|  4/4/2005 00:00:00|    1-800-My-Buttons|  OTHR|      Y| 5703|   Red Bug Lake Road|      187|Winter Springs|   FL|32708|     Final|  372.00|    LITER|     Campgn Lit.|Campaign Buttons|    null|     N|      N|\n",
            "|    2005|       5|   837|       P|    Nocerino|   Joseph|     R|        H|     8|       F|  null|      null|R0000366| 4/22/2005 00:00:00| 4/22/2005 00:00:00|    1-800-My-Buttons|  OTHR|      Y| 5703|   Red Bug Lake Road|      187|Winter Springs|   FL|32708|     Final|  373.00|    LITER|     Campgn Lit.|Campaign Buttons|    null|     N|      N|\n",
            "|    2005|       1|    AY|       P|      Ferrer| Fernando|  null|        I|    17|       F|  null|      null|R0033156| 11/7/2005 00:00:00|12/19/2005 00:00:00|        101 Car Park|  CORP|      Y|  101|    West 23rd Street|     null|      New York|   NY|10011|     Final|   23.00|    OTHER|Other: explntion|         Parking|    null|     N|      N|\n",
            "|    2005|       1|    AY|       P|      Ferrer| Fernando|  null|        I|    10|       F|  null|      null|R0017612| 4/25/2005 00:00:00| 5/20/2005 00:00:00|1010 6th Avenue G...|  CORP|      Y| 1010|Avenue of the Ame...|     null|      New York|   NY|10018|     Final|   35.00|    OTHER|Other: explntion|         Parking|    null|     N|      N|\n",
            "|    2005|       2|   310|       P|      Siegel|   Norman|     H|        I|    17|       N|  null|      null|R0012355|               null|11/11/2005 00:00:00|           1010 WINS|  CORP|      Y|  888|          7th Avenue|     null|      New York|   NY|10106|      null|  222.00|    RADIO|      Radio Ads.|excessive refund|    null|     N|      N|\n",
            "|    2005|       2|   310|       P|      Siegel|   Norman|     H|        I|    13|       F|  null|      null|R0008509|  9/8/2005 00:00:00|  9/8/2005 00:00:00|           1010 WINS|  CORP|      Y|  888|          7th Avenue|     null|      New York|   NY|10106|     Final| 7931.00|    RADIO|      Radio Ads.|    ads 9/9-9/11|    null|     N|      N|\n",
            "|    2005|       2|   310|       P|      Siegel|   Norman|     H|        I|    17|       L|  null|      null|R0012244|  9/8/2005 00:00:00| 10/4/2005 00:00:00|           1010 WINS|  CORP|      Y|  888|          7th Avenue|     null|      New York|   NY|10106|      null|-1365.00|     null|            null|            null|    null|     N|      N|\n",
            "|    2005|       5|   420|      NP|      Comrie|    Leroy|     G|        K|    15|       F|  null|      null|R0002849|10/20/2005 00:00:00|10/24/2005 00:00:00|1020 Park Plaza D...|  CORP|      Y| 1020|        Cadman Plaza|     null|      Brooklyn|   NY|11203|     Final|   25.00|    OFFCE| Office Expenses|           foods|    null|     N|      N|\n",
            "|    2005|       5|   420|      NP|      Comrie|    Leroy|     G|        K|    16|       F|  null|      null|R0002930|10/26/2005 00:00:00|10/26/2005 00:00:00|1023 Mojito Cuban...|  CORP|      Y| null|                null|     null|      Brooklyn|   NY| null|     Final|   74.00|    OFFCE| Office Expenses|         meeting|    null|     N|      N|\n",
            "|    2005|       5|   860|       P|        Doty|  Cynthia|     L|        H|    13|       F|  null|      null|R0000955| 9/13/2005 00:00:00| 9/13/2005 00:00:00| 107 West Restaurant|  OTHR|      Y| 2787|            Broadway|     null|      New York|   NY|10025|     Final|  483.00|    OTHER|Other: explntion|   Wrap-Up Party|    null|     N|      N|\n",
            "|    2005|       2|   263|       P|     Gotbaum|    Betsy|     F|        J|    14|       F|  null|      null|R0009379| 8/23/2005 00:00:00| 8/23/2005 00:00:00|        109 CJK Corp|  OTHR|      Y|  109|    West 39th Street|     null|      New York|   NY|10018|     Final|    9.00|    OTHER|Other: explntion|       amex bill|    null|     N|      N|\n",
            "|    2005|       2|   263|       P|     Gotbaum|    Betsy|     F|        J|    14|       F|  null|      null|R0009381| 8/23/2005 00:00:00| 8/23/2005 00:00:00|        109 CJK Corp|  OTHR|      Y|  109|    West 39th Street|     null|      New York|   NY|10018|     Final|   52.00|    OTHER|Other: explntion|       amex bill|    null|     N|      N|\n",
            "|    2005|       2|   263|       P|     Gotbaum|    Betsy|     F|        J|    14|       F|  null|      null|R0009400| 8/26/2005 00:00:00| 8/26/2005 00:00:00|        109 CJK Corp|  OTHR|      Y|  109|    West 39th Street|     null|      New York|   NY|10018|     Final|   13.00|    OTHER|Other: explntion|       amex bill|    null|     N|      N|\n",
            "+--------+--------+------+--------+------------+---------+------+---------+------+--------+------+----------+--------+-------------------+-------------------+--------------------+------+-------+-----+--------------------+---------+--------------+-----+-----+----------+--------+---------+----------------+----------------+--------+------+-------+\n",
            "only showing top 20 rows\n",
            "\n"
          ]
        }
      ]
    },
    {
      "cell_type": "code",
      "metadata": {
        "colab": {
          "base_uri": "https://localhost:8080/"
        },
        "id": "PauL98XATuOi",
        "outputId": "e7b6e895-3546-4388-8e5e-f69dcb0dd98b"
      },
      "source": [
        "df.columns"
      ],
      "execution_count": 5,
      "outputs": [
        {
          "output_type": "execute_result",
          "data": {
            "text/plain": [
              "['ELECTION',\n",
              " 'OFFICECD',\n",
              " 'CANDID',\n",
              " 'CANCLASS',\n",
              " 'CANDLAST',\n",
              " 'CANDFIRST',\n",
              " 'CANDMI',\n",
              " 'COMMITTEE',\n",
              " 'FILING',\n",
              " 'SCHEDULE',\n",
              " 'PAGENO',\n",
              " 'SEQUENCENO',\n",
              " 'REFNO',\n",
              " 'INV_DATE',\n",
              " 'DATE',\n",
              " 'NAME',\n",
              " 'C_CODE',\n",
              " 'ORG_IND',\n",
              " 'STRNO',\n",
              " 'STRNAME',\n",
              " 'APARTMENT',\n",
              " 'CITY',\n",
              " 'STATE',\n",
              " 'ZIP',\n",
              " 'PAY_METHOD',\n",
              " 'AMNT',\n",
              " 'PURPOSECD',\n",
              " 'PURPOSE',\n",
              " 'EXPLAIN',\n",
              " 'EXEMPTCD',\n",
              " 'RR_IND',\n",
              " 'SEG_IND']"
            ]
          },
          "metadata": {},
          "execution_count": 5
        }
      ]
    },
    {
      "cell_type": "code",
      "metadata": {
        "colab": {
          "base_uri": "https://localhost:8080/"
        },
        "id": "e2cRNc4wNFgt",
        "outputId": "b59bb997-849f-470c-a38d-f78ba7ba817b"
      },
      "source": [
        "# Remove multiple columns\n",
        "list = ['CANDMI','COMMITTEE',\n",
        " 'FILING',\n",
        " 'SCHEDULE',\n",
        " 'PAGENO',\n",
        " 'SEQUENCENO',\n",
        " 'REFNO',\n",
        " 'INV_DATE',\n",
        " 'DATE',\n",
        " 'NAME',\n",
        " 'ORG_IND',\n",
        " 'STRNO',\n",
        " 'STRNAME',\n",
        " 'APARTMENT',\n",
        "  'EXPLAIN',\n",
        " 'EXEMPTCD',\n",
        " 'RR_IND',\n",
        " 'SEG_IND',\n",
        " 'PAY_METHOD'] \n",
        "df = df.drop(*list)\n",
        "df.show()"
      ],
      "execution_count": 6,
      "outputs": [
        {
          "output_type": "stream",
          "name": "stdout",
          "text": [
            "+--------+--------+------+--------+------------+---------+------+--------------+-----+-----+--------+---------+----------------+\n",
            "|ELECTION|OFFICECD|CANDID|CANCLASS|    CANDLAST|CANDFIRST|C_CODE|          CITY|STATE|  ZIP|    AMNT|PURPOSECD|         PURPOSE|\n",
            "+--------+--------+------+--------+------------+---------+------+--------------+-----+-----+--------+---------+----------------+\n",
            "|    2005|       4|   206|       P|     Manzano|   Carlos|  CORP|      New York|   NY|10019|  918.00|    FUNDR|     Fundraising|\n",
            "|    2005|       4|    ED|       P|Carrion, Jr.|   Adolfo|  CORP|      New York|   NY|10017| 3200.00|    CNTRB| Polit Contribs.|\n",
            "|    2005|       4|    ED|       P|Carrion, Jr.|   Adolfo|  CORP|      New York|   NY|10017| 1500.00|    OTHER|Other: explntion|\n",
            "|    2005|       4|    BW|       P|   Moskowitz|      Eva|  CORP|          null| null| null|   55.00|    OTHER|Other: explntion|\n",
            "|    2005|       5|   232|       P|      Weprin|    David|  CORP|            NY|   NY| null|  103.00|    OTHER|Other: explntion|\n",
            "|    2005|       5|   837|       P|    Nocerino|   Joseph|  OTHR|Winter Springs|   FL|32708|  210.00|    LITER|     Campgn Lit.|\n",
            "|    2005|       5|   837|       P|    Nocerino|   Joseph|  OTHR|Winter Springs|   FL|32708|  538.00|    LITER|     Campgn Lit.|\n",
            "|    2005|       5|   837|       P|    Nocerino|   Joseph|  OTHR|Winter Springs|   FL|32708|  372.00|    LITER|     Campgn Lit.|\n",
            "|    2005|       5|   837|       P|    Nocerino|   Joseph|  OTHR|Winter Springs|   FL|32708|  373.00|    LITER|     Campgn Lit.|\n",
            "|    2005|       1|    AY|       P|      Ferrer| Fernando|  CORP|      New York|   NY|10011|   23.00|    OTHER|Other: explntion|\n",
            "|    2005|       1|    AY|       P|      Ferrer| Fernando|  CORP|      New York|   NY|10018|   35.00|    OTHER|Other: explntion|\n",
            "|    2005|       2|   310|       P|      Siegel|   Norman|  CORP|      New York|   NY|10106|  222.00|    RADIO|      Radio Ads.|\n",
            "|    2005|       2|   310|       P|      Siegel|   Norman|  CORP|      New York|   NY|10106| 7931.00|    RADIO|      Radio Ads.|\n",
            "|    2005|       2|   310|       P|      Siegel|   Norman|  CORP|      New York|   NY|10106|-1365.00|     null|            null|\n",
            "|    2005|       5|   420|      NP|      Comrie|    Leroy|  CORP|      Brooklyn|   NY|11203|   25.00|    OFFCE| Office Expenses|\n",
            "|    2005|       5|   420|      NP|      Comrie|    Leroy|  CORP|      Brooklyn|   NY| null|   74.00|    OFFCE| Office Expenses|\n",
            "|    2005|       5|   860|       P|        Doty|  Cynthia|  OTHR|      New York|   NY|10025|  483.00|    OTHER|Other: explntion|\n",
            "|    2005|       2|   263|       P|     Gotbaum|    Betsy|  OTHR|      New York|   NY|10018|    9.00|    OTHER|Other: explntion|\n",
            "|    2005|       2|   263|       P|     Gotbaum|    Betsy|  OTHR|      New York|   NY|10018|   52.00|    OTHER|Other: explntion|\n",
            "|    2005|       2|   263|       P|     Gotbaum|    Betsy|  OTHR|      New York|   NY|10018|   13.00|    OTHER|Other: explntion|\n",
            "+--------+--------+------+--------+------------+---------+------+--------------+-----+-----+--------+---------+----------------+\n",
            "only showing top 20 rows\n",
            "\n"
          ]
        }
      ]
    },
    {
      "cell_type": "code",
      "metadata": {
        "id": "jQjgDTZeqqf1",
        "colab": {
          "base_uri": "https://localhost:8080/"
        },
        "outputId": "9cac726f-778d-484b-fa76-88fafb95eede"
      },
      "source": [
        "#Combine the Candidate first and last name columns\n",
        "from pyspark.sql.functions import concat_ws\n",
        "df2 = df.withColumn(\"CandidateName\", concat_ws(\",\",\"CANDFIRST\",'CANDLAST'))\n",
        "df2.show()"
      ],
      "execution_count": 7,
      "outputs": [
        {
          "output_type": "stream",
          "name": "stdout",
          "text": [
            "+--------+--------+------+--------+------------+---------+------+--------------+-----+-----+--------+---------+----------------+-------------------+\n",
            "|ELECTION|OFFICECD|CANDID|CANCLASS|    CANDLAST|CANDFIRST|C_CODE|          CITY|STATE|  ZIP|    AMNT|PURPOSECD|         PURPOSE|      CandidateName|\n",
            "+--------+--------+------+--------+------------+---------+------+--------------+-----+-----+--------+---------+----------------+-------------------+\n",
            "|    2005|       4|   206|       P|     Manzano|   Carlos|  CORP|      New York|   NY|10019|  918.00|    FUNDR|     Fundraising|     Carlos,Manzano|\n",
            "|    2005|       4|    ED|       P|Carrion, Jr.|   Adolfo|  CORP|      New York|   NY|10017| 3200.00|    CNTRB| Polit Contribs.|Adolfo,Carrion, Jr.|\n",
            "|    2005|       4|    ED|       P|Carrion, Jr.|   Adolfo|  CORP|      New York|   NY|10017| 1500.00|    OTHER|Other: explntion|Adolfo,Carrion, Jr.|\n",
            "|    2005|       4|    BW|       P|   Moskowitz|      Eva|  CORP|          null| null| null|   55.00|    OTHER|Other: explntion|      Eva,Moskowitz|\n",
            "|    2005|       5|   232|       P|      Weprin|    David|  CORP|            NY|   NY| null|  103.00|    OTHER|Other: explntion|       David,Weprin|\n",
            "|    2005|       5|   837|       P|    Nocerino|   Joseph|  OTHR|Winter Springs|   FL|32708|  210.00|    LITER|     Campgn Lit.|    Joseph,Nocerino|\n",
            "|    2005|       5|   837|       P|    Nocerino|   Joseph|  OTHR|Winter Springs|   FL|32708|  538.00|    LITER|     Campgn Lit.|    Joseph,Nocerino|\n",
            "|    2005|       5|   837|       P|    Nocerino|   Joseph|  OTHR|Winter Springs|   FL|32708|  372.00|    LITER|     Campgn Lit.|    Joseph,Nocerino|\n",
            "|    2005|       5|   837|       P|    Nocerino|   Joseph|  OTHR|Winter Springs|   FL|32708|  373.00|    LITER|     Campgn Lit.|    Joseph,Nocerino|\n",
            "|    2005|       1|    AY|       P|      Ferrer| Fernando|  CORP|      New York|   NY|10011|   23.00|    OTHER|Other: explntion|    Fernando,Ferrer|\n",
            "|    2005|       1|    AY|       P|      Ferrer| Fernando|  CORP|      New York|   NY|10018|   35.00|    OTHER|Other: explntion|    Fernando,Ferrer|\n",
            "|    2005|       2|   310|       P|      Siegel|   Norman|  CORP|      New York|   NY|10106|  222.00|    RADIO|      Radio Ads.|      Norman,Siegel|\n",
            "|    2005|       2|   310|       P|      Siegel|   Norman|  CORP|      New York|   NY|10106| 7931.00|    RADIO|      Radio Ads.|      Norman,Siegel|\n",
            "|    2005|       2|   310|       P|      Siegel|   Norman|  CORP|      New York|   NY|10106|-1365.00|     null|            null|      Norman,Siegel|\n",
            "|    2005|       5|   420|      NP|      Comrie|    Leroy|  CORP|      Brooklyn|   NY|11203|   25.00|    OFFCE| Office Expenses|       Leroy,Comrie|\n",
            "|    2005|       5|   420|      NP|      Comrie|    Leroy|  CORP|      Brooklyn|   NY| null|   74.00|    OFFCE| Office Expenses|       Leroy,Comrie|\n",
            "|    2005|       5|   860|       P|        Doty|  Cynthia|  OTHR|      New York|   NY|10025|  483.00|    OTHER|Other: explntion|       Cynthia,Doty|\n",
            "|    2005|       2|   263|       P|     Gotbaum|    Betsy|  OTHR|      New York|   NY|10018|    9.00|    OTHER|Other: explntion|      Betsy,Gotbaum|\n",
            "|    2005|       2|   263|       P|     Gotbaum|    Betsy|  OTHR|      New York|   NY|10018|   52.00|    OTHER|Other: explntion|      Betsy,Gotbaum|\n",
            "|    2005|       2|   263|       P|     Gotbaum|    Betsy|  OTHR|      New York|   NY|10018|   13.00|    OTHER|Other: explntion|      Betsy,Gotbaum|\n",
            "+--------+--------+------+--------+------------+---------+------+--------------+-----+-----+--------+---------+----------------+-------------------+\n",
            "only showing top 20 rows\n",
            "\n"
          ]
        }
      ]
    },
    {
      "cell_type": "code",
      "metadata": {
        "id": "qGVZ3I4hz1x6"
      },
      "source": [
        "#Rearrange column order\n",
        "df3=df2.select('ELECTION','OFFICECD', 'CANDID', 'CANCLASS', 'CandidateName', 'CANDLAST', 'CANDFIRST','C_CODE', 'CITY', 'STATE',  'ZIP', 'AMNT', 'PURPOSECD', 'PURPOSE')"
      ],
      "execution_count": 8,
      "outputs": []
    },
    {
      "cell_type": "code",
      "metadata": {
        "colab": {
          "base_uri": "https://localhost:8080/"
        },
        "id": "LAcxTotHz2t-",
        "outputId": "5f556cd9-be77-40ad-a8e1-71656bd780d7"
      },
      "source": [
        "#Drop OFFICECD and CANCLASS\n",
        "list1 = ['CANDLAST', 'CANDFIRST'] \n",
        "df4 = df3.drop(*list1)\n",
        "df4.show()"
      ],
      "execution_count": 9,
      "outputs": [
        {
          "output_type": "stream",
          "name": "stdout",
          "text": [
            "+--------+--------+------+--------+-------------------+------+--------------+-----+-----+--------+---------+----------------+\n",
            "|ELECTION|OFFICECD|CANDID|CANCLASS|      CandidateName|C_CODE|          CITY|STATE|  ZIP|    AMNT|PURPOSECD|         PURPOSE|\n",
            "+--------+--------+------+--------+-------------------+------+--------------+-----+-----+--------+---------+----------------+\n",
            "|    2005|       4|   206|       P|     Carlos,Manzano|  CORP|      New York|   NY|10019|  918.00|    FUNDR|     Fundraising|\n",
            "|    2005|       4|    ED|       P|Adolfo,Carrion, Jr.|  CORP|      New York|   NY|10017| 3200.00|    CNTRB| Polit Contribs.|\n",
            "|    2005|       4|    ED|       P|Adolfo,Carrion, Jr.|  CORP|      New York|   NY|10017| 1500.00|    OTHER|Other: explntion|\n",
            "|    2005|       4|    BW|       P|      Eva,Moskowitz|  CORP|          null| null| null|   55.00|    OTHER|Other: explntion|\n",
            "|    2005|       5|   232|       P|       David,Weprin|  CORP|            NY|   NY| null|  103.00|    OTHER|Other: explntion|\n",
            "|    2005|       5|   837|       P|    Joseph,Nocerino|  OTHR|Winter Springs|   FL|32708|  210.00|    LITER|     Campgn Lit.|\n",
            "|    2005|       5|   837|       P|    Joseph,Nocerino|  OTHR|Winter Springs|   FL|32708|  538.00|    LITER|     Campgn Lit.|\n",
            "|    2005|       5|   837|       P|    Joseph,Nocerino|  OTHR|Winter Springs|   FL|32708|  372.00|    LITER|     Campgn Lit.|\n",
            "|    2005|       5|   837|       P|    Joseph,Nocerino|  OTHR|Winter Springs|   FL|32708|  373.00|    LITER|     Campgn Lit.|\n",
            "|    2005|       1|    AY|       P|    Fernando,Ferrer|  CORP|      New York|   NY|10011|   23.00|    OTHER|Other: explntion|\n",
            "|    2005|       1|    AY|       P|    Fernando,Ferrer|  CORP|      New York|   NY|10018|   35.00|    OTHER|Other: explntion|\n",
            "|    2005|       2|   310|       P|      Norman,Siegel|  CORP|      New York|   NY|10106|  222.00|    RADIO|      Radio Ads.|\n",
            "|    2005|       2|   310|       P|      Norman,Siegel|  CORP|      New York|   NY|10106| 7931.00|    RADIO|      Radio Ads.|\n",
            "|    2005|       2|   310|       P|      Norman,Siegel|  CORP|      New York|   NY|10106|-1365.00|     null|            null|\n",
            "|    2005|       5|   420|      NP|       Leroy,Comrie|  CORP|      Brooklyn|   NY|11203|   25.00|    OFFCE| Office Expenses|\n",
            "|    2005|       5|   420|      NP|       Leroy,Comrie|  CORP|      Brooklyn|   NY| null|   74.00|    OFFCE| Office Expenses|\n",
            "|    2005|       5|   860|       P|       Cynthia,Doty|  OTHR|      New York|   NY|10025|  483.00|    OTHER|Other: explntion|\n",
            "|    2005|       2|   263|       P|      Betsy,Gotbaum|  OTHR|      New York|   NY|10018|    9.00|    OTHER|Other: explntion|\n",
            "|    2005|       2|   263|       P|      Betsy,Gotbaum|  OTHR|      New York|   NY|10018|   52.00|    OTHER|Other: explntion|\n",
            "|    2005|       2|   263|       P|      Betsy,Gotbaum|  OTHR|      New York|   NY|10018|   13.00|    OTHER|Other: explntion|\n",
            "+--------+--------+------+--------+-------------------+------+--------------+-----+-----+--------+---------+----------------+\n",
            "only showing top 20 rows\n",
            "\n"
          ]
        }
      ]
    },
    {
      "cell_type": "code",
      "metadata": {
        "colab": {
          "base_uri": "https://localhost:8080/"
        },
        "id": "g5aiRN5RNFjB",
        "outputId": "1349e5de-a1eb-4c26-cb3e-56955c063727"
      },
      "source": [
        "# check data types\n",
        "df4.dtypes"
      ],
      "execution_count": 10,
      "outputs": [
        {
          "output_type": "execute_result",
          "data": {
            "text/plain": [
              "[('ELECTION', 'string'),\n",
              " ('OFFICECD', 'string'),\n",
              " ('CANDID', 'string'),\n",
              " ('CANCLASS', 'string'),\n",
              " ('CandidateName', 'string'),\n",
              " ('C_CODE', 'string'),\n",
              " ('CITY', 'string'),\n",
              " ('STATE', 'string'),\n",
              " ('ZIP', 'string'),\n",
              " ('AMNT', 'string'),\n",
              " ('PURPOSECD', 'string'),\n",
              " ('PURPOSE', 'string')]"
            ]
          },
          "metadata": {},
          "execution_count": 10
        }
      ]
    },
    {
      "cell_type": "code",
      "metadata": {
        "colab": {
          "base_uri": "https://localhost:8080/"
        },
        "id": "sA6AAG4zYxSL",
        "outputId": "8128e090-f5c1-4a25-9618-6ab9713e97d9"
      },
      "source": [
        "df4.columns"
      ],
      "execution_count": 11,
      "outputs": [
        {
          "output_type": "execute_result",
          "data": {
            "text/plain": [
              "['ELECTION',\n",
              " 'OFFICECD',\n",
              " 'CANDID',\n",
              " 'CANCLASS',\n",
              " 'CandidateName',\n",
              " 'C_CODE',\n",
              " 'CITY',\n",
              " 'STATE',\n",
              " 'ZIP',\n",
              " 'AMNT',\n",
              " 'PURPOSECD',\n",
              " 'PURPOSE']"
            ]
          },
          "metadata": {},
          "execution_count": 11
        }
      ]
    },
    {
      "cell_type": "code",
      "metadata": {
        "colab": {
          "base_uri": "https://localhost:8080/"
        },
        "id": "tIkq3wdqOzWV",
        "outputId": "ace25a13-2c38-4c66-af21-ba57a35aeb6b"
      },
      "source": [
        "#Change column names\n",
        "df5 = df4 \\\n",
        ".withColumnRenamed(\"ELECTION\", \"Election\") \\\n",
        ".withColumnRenamed(\"CANDID\", \"CandidateID\") \\\n",
        ".withColumnRenamed(\"C_CODE\", \"ContributionType\") \\\n",
        ".withColumnRenamed(\"CITY\", \"City\") \\\n",
        ".withColumnRenamed(\"STATE\", \"State\") \\\n",
        ".withColumnRenamed(\"ZIP\", \"ZipCode\") \\\n",
        ".withColumnRenamed(\"AMNT\", \"Amount\") \\\n",
        ".withColumnRenamed(\"PURPOSECD\", \"PurposeCode\") \\\n",
        ".withColumnRenamed(\"PURPOSE\", \"Purpose\") \n",
        "\n",
        "df5.printSchema()"
      ],
      "execution_count": 12,
      "outputs": [
        {
          "output_type": "stream",
          "name": "stdout",
          "text": [
            "root\n",
            " |-- Election: string (nullable = true)\n",
            " |-- OFFICECD: string (nullable = true)\n",
            " |-- CandidateID: string (nullable = true)\n",
            " |-- CANCLASS: string (nullable = true)\n",
            " |-- CandidateName: string (nullable = false)\n",
            " |-- ContributionType: string (nullable = true)\n",
            " |-- City: string (nullable = true)\n",
            " |-- State: string (nullable = true)\n",
            " |-- ZipCode: string (nullable = true)\n",
            " |-- Amount: string (nullable = true)\n",
            " |-- PurposeCode: string (nullable = true)\n",
            " |-- Purpose: string (nullable = true)\n",
            "\n"
          ]
        }
      ]
    },
    {
      "cell_type": "code",
      "metadata": {
        "colab": {
          "base_uri": "https://localhost:8080/"
        },
        "id": "SyWn9dANSi5l",
        "outputId": "6c2e395b-7ef5-4bbb-b7dc-93214f59bd55"
      },
      "source": [
        "# changing datatypes of columns\n",
        "df6 = df5 \\\n",
        "  .withColumn(\"Election\",df5[\"Election\"].cast(\"Integer\")) \\\n",
        "  .withColumn(\"OFFICECD\", df5[\"OFFICECD\"].cast(\"Integer\")) \\\n",
        "  .withColumn(\"ZipCode\", df5[\"ZipCode\"].cast(\"Integer\")) \\\n",
        "  .withColumn(\"Amount\", df5[\"Amount\"].cast(\"Float\")) \\\n",
        "  \n",
        "df6.printSchema()\n",
        "\n",
        "#Removed from above code as ID is INT and TEXT within CSV\n",
        "#.withColumn(\"CandidateID\", df5[\"CandidateID\"].cast(\"Integer\")) \\"
      ],
      "execution_count": 13,
      "outputs": [
        {
          "output_type": "stream",
          "name": "stdout",
          "text": [
            "root\n",
            " |-- Election: integer (nullable = true)\n",
            " |-- OFFICECD: integer (nullable = true)\n",
            " |-- CandidateID: string (nullable = true)\n",
            " |-- CANCLASS: string (nullable = true)\n",
            " |-- CandidateName: string (nullable = false)\n",
            " |-- ContributionType: string (nullable = true)\n",
            " |-- City: string (nullable = true)\n",
            " |-- State: string (nullable = true)\n",
            " |-- ZipCode: integer (nullable = true)\n",
            " |-- Amount: float (nullable = true)\n",
            " |-- PurposeCode: string (nullable = true)\n",
            " |-- Purpose: string (nullable = true)\n",
            "\n"
          ]
        }
      ]
    },
    {
      "cell_type": "code",
      "metadata": {
        "id": "h1aCPuV3WPwC"
      },
      "source": [
        "#Change vaule name in ContributerType\n",
        "from pyspark.sql.functions import regexp_replace\n",
        "df7 = df6.withColumn(\"ContributionType\", regexp_replace(\"ContributionType\", 'CAN', 'Candidate')) \\\n",
        "  .withColumn('ContributionType', regexp_replace(\"ContributionType\", 'CORP', 'Corporation')) \\\n",
        "  .withColumn('ContributionType', regexp_replace(\"ContributionType\", 'EMPO', 'Labor Union')) \\\n",
        "  .withColumn(\"ContributionType\", regexp_replace(\"ContributionType\", 'FAM', 'Candidate Family')) \\\n",
        "  .withColumn(\"ContributionType\", regexp_replace(\"ContributionType\", 'IND', 'Individual')) \\\n",
        "  .withColumn(\"ContributionType\", regexp_replace(\"ContributionType\", 'PCOMZ', 'Party Committee')) \\\n",
        "  .withColumn(\"ContributionType\", regexp_replace(\"ContributionType\", 'ORG', 'Orgainization')) \\\n",
        "  .withColumn(\"ContributionType\", regexp_replace(\"ContributionType\", 'LLC', 'Limited Liability Company')) \\\n",
        "  .withColumn(\"ContributionType\", regexp_replace(\"ContributionType\", 'PCOMP', 'Political Action Committee')) \\\n",
        "  .withColumn(\"ContributionType\", regexp_replace(\"ContributionType\", 'SPO', ' Candidates Spouse')) \\\n",
        "  .withColumn(\"ContributionType\", regexp_replace(\"ContributionType\", 'OTHR', 'Other')) \\\n",
        "  .withColumn(\"ContributionType\", regexp_replace(\"ContributionType\", 'PCOMC', 'Candidate Committee')) \\\n",
        "  .withColumn(\"ContributionType\", regexp_replace(\"ContributionType\", 'PART', 'Individual')) \\\n"
      ],
      "execution_count": 14,
      "outputs": []
    },
    {
      "cell_type": "code",
      "metadata": {
        "id": "fy4JAvyQWRl7"
      },
      "source": [
        "#Change Purpose Code value names\n",
        "from pyspark.sql.functions import regexp_replace\n",
        "df8 = df7.withColumn('PurposeCode', regexp_replace('PurposeCode', 'ADVAN', 'Advance Repayment')) \\\n",
        "  .withColumn('PurposeCode', regexp_replace('PurposeCode', 'CMAIL', 'Campaign Mail')) \\\n",
        "  .withColumn('PurposeCode', regexp_replace('PurposeCode', 'CMISC', 'Miscellaneous')) \\\n",
        "  .withColumn('PurposeCode', regexp_replace('PurposeCode', 'CNTRB', 'Political Contributions')) \\\n",
        "  .withColumn('PurposeCode', regexp_replace('PurposeCode', 'COMPL', 'Compliance Cost')) \\\n",
        "  .withColumn('PurposeCode', regexp_replace('PurposeCode', 'CONSL', 'Campaign Consultants')) \\\n",
        "  .withColumn('PurposeCode', regexp_replace('PurposeCode', 'CONSV', 'Constituent Services')) \\\n",
        "  .withColumn('PurposeCode', regexp_replace('PurposeCode', 'FUNDR', 'Fundraising')) \\\n",
        "  .withColumn('PurposeCode', regexp_replace('PurposeCode', 'INTER', 'Interest Expenses')) \\\n",
        "  .withColumn('PurposeCode', regexp_replace('PurposeCode', 'LITER', 'Campaign Literature')) \\\n",
        "  .withColumn('PurposeCode', regexp_replace('PurposeCode', 'NQUAL', 'Non Qualified Expenditures')) \\\n",
        "  .withColumn('PurposeCode', regexp_replace('PurposeCode', 'OFFCE', 'Office Expenses')) \\\n",
        "  .withColumn('PurposeCode', regexp_replace('PurposeCode', 'OTHER', 'Other')) \\\n",
        "  .withColumn('PurposeCode', regexp_replace('PurposeCode', 'PETIT', 'Petition Expenses')) \\\n",
        "  .withColumn('PurposeCode', regexp_replace('PurposeCode', 'POLLS', 'Polling Costs')) \\\n",
        "  .withColumn('PurposeCode', regexp_replace('PurposeCode', 'POSTA', 'Postal Expenses')) \\\n",
        "  .withColumn('PurposeCode', regexp_replace('PurposeCode', 'PRINT', 'Printing Expenses')) \\\n",
        "  .withColumn('PurposeCode', regexp_replace('PurposeCode', 'PROFL', 'Professional Services')) \\\n",
        "  .withColumn('PurposeCode', regexp_replace('PurposeCode', 'RADIO', 'Radio Ads')) \\\n",
        "  .withColumn('PurposeCode', regexp_replace('PurposeCode', 'RENTO', 'Office Rent')) \\\n",
        "  .withColumn('PurposeCode', regexp_replace('PurposeCode', 'TVADS', 'Television Ads')) \\\n",
        "  .withColumn('PurposeCode', regexp_replace('PurposeCode', 'UNKN', 'Unknown')) \\\n",
        "  .withColumn('PurposeCode', regexp_replace('PurposeCode', 'VOTER', 'Voter Registration')) \\\n",
        "  .withColumn('PurposeCode', regexp_replace('PurposeCode', 'WAGES', 'Campaign Workers Salaries')) \\"
      ],
      "execution_count": 15,
      "outputs": []
    },
    {
      "cell_type": "code",
      "metadata": {
        "id": "fM_kC3ViNFqN",
        "colab": {
          "base_uri": "https://localhost:8080/"
        },
        "outputId": "4f8c499d-24b0-4007-c583-407ce220cf7d"
      },
      "source": [
        "#Call only Mayor (1) and particaptes (P) within Dataframe\n",
        "df9 = df8.filter((df6.OFFICECD==\"1\") & (df8.CANCLASS==\"P\"))\n",
        "df9.show()"
      ],
      "execution_count": 16,
      "outputs": [
        {
          "output_type": "stream",
          "name": "stdout",
          "text": [
            "+--------+--------+-----------+--------+-----------------+--------------------+--------+-----+-------+-------+---------------+----------------+\n",
            "|Election|OFFICECD|CandidateID|CANCLASS|    CandidateName|    ContributionType|    City|State|ZipCode| Amount|    PurposeCode|         Purpose|\n",
            "+--------+--------+-----------+--------+-----------------+--------------------+--------+-----+-------+-------+---------------+----------------+\n",
            "|    2005|       1|         AY|       P|  Fernando,Ferrer|         Corporation|New York|   NY|  10011|   23.0|          Other|Other: explntion|\n",
            "|    2005|       1|         AY|       P|  Fernando,Ferrer|         Corporation|New York|   NY|  10018|   35.0|          Other|Other: explntion|\n",
            "|    2005|       1|         BB|       P|   Anthony,Weiner|Limited Liability...|New York|   NY|  10021| 4660.0|    Office Rent|     Office Rent|\n",
            "|    2005|       1|         BB|       P|   Anthony,Weiner|Limited Liability...|New York|   NY|  10021| 7363.0|    Office Rent|     Office Rent|\n",
            "|    2005|       1|         BB|       P|   Anthony,Weiner|Limited Liability...|New York|   NY|  10021|  340.0|    Office Rent|     Office Rent|\n",
            "|    2005|       1|         BB|       P|   Anthony,Weiner|Limited Liability...|New York|   NY|  10021|  537.0|    Office Rent|     Office Rent|\n",
            "|    2005|       1|         BB|       P|   Anthony,Weiner|Limited Liability...|New York|   NY|  10021| 4048.0|    Office Rent|     Office Rent|\n",
            "|    2005|       1|         BB|       P|   Anthony,Weiner|Limited Liability...|New York|   NY|  10021| 4015.0|    Office Rent|     Office Rent|\n",
            "|    2005|       1|         BB|       P|   Anthony,Weiner|Limited Liability...|New York|   NY|  10021| 6220.0|    Office Rent|     Office Rent|\n",
            "|    2005|       1|         BB|       P|   Anthony,Weiner|Limited Liability...|New York|   NY|  10021| 8004.0|    Office Rent|     Office Rent|\n",
            "|    2005|       1|         BB|       P|   Anthony,Weiner|Limited Liability...|New York|   NY|  10021| 4058.0|    Office Rent|     Office Rent|\n",
            "|    2005|       1|         BB|       P|   Anthony,Weiner|Limited Liability...|New York|   NY|  10021|11985.0|    Office Rent|     Office Rent|\n",
            "|    2005|       1|         BB|       P|   Anthony,Weiner|Limited Liability...|New York|   NY|  10021|-3555.0|           null|            null|\n",
            "|    2005|       1|         AY|       P|  Fernando,Ferrer|         Labor Union|New York|   NY|  10036|   40.0|    Office Rent|     Office Rent|\n",
            "|    2005|       1|         AY|       P|  Fernando,Ferrer|         Labor Union|New York|   NY|  10036|  800.0|          Other|Other: explntion|\n",
            "|    2005|       1|         Y2|       P|A. Gifford,Miller|          Individual|New York|   NY|  10038| 4513.0|    Office Rent|     Office Rent|\n",
            "|    2005|       1|         Y2|       P|A. Gifford,Miller|          Individual|New York|   NY|  10038| 2257.0|    Office Rent|     Office Rent|\n",
            "|    2005|       1|         Y2|       P|A. Gifford,Miller|          Individual|New York|   NY|  10038| 1674.0|    Office Rent|     Office Rent|\n",
            "|    2005|       1|         Y2|       P|A. Gifford,Miller|          Individual|New York|   NY|  10038|  583.0|Office Expenses| Office Expenses|\n",
            "|    2005|       1|         Y2|       P|A. Gifford,Miller|          Individual|New York|   NY|  10038|  978.0|    Office Rent|     Office Rent|\n",
            "+--------+--------+-----------+--------+-----------------+--------------------+--------+-----+-------+-------+---------------+----------------+\n",
            "only showing top 20 rows\n",
            "\n"
          ]
        }
      ]
    },
    {
      "cell_type": "code",
      "metadata": {
        "id": "WmdLbDEzQAyc",
        "colab": {
          "base_uri": "https://localhost:8080/"
        },
        "outputId": "991dadfc-6621-4248-a9f2-dcb30b748aae"
      },
      "source": [
        "#Check the above dataframe to make sure only unique values between the OFFICECD is 1 \n",
        "df9.select('OFFICECD').distinct().show()"
      ],
      "execution_count": 17,
      "outputs": [
        {
          "output_type": "stream",
          "name": "stdout",
          "text": [
            "+--------+\n",
            "|OFFICECD|\n",
            "+--------+\n",
            "|       1|\n",
            "+--------+\n",
            "\n"
          ]
        }
      ]
    },
    {
      "cell_type": "code",
      "metadata": {
        "id": "4kbDs5ApZtEu",
        "colab": {
          "base_uri": "https://localhost:8080/"
        },
        "outputId": "7cc42cb9-a1f1-43f8-ecc2-9d6cb07f8e4b"
      },
      "source": [
        "#Drop OFFICECD and CANCLASS\n",
        "list2 = ['OFFICECD', 'CANCLASS'] \n",
        "Expenditures_2005_df = df9.drop(*list2)\n",
        "Expenditures_2005_df.show()"
      ],
      "execution_count": 18,
      "outputs": [
        {
          "output_type": "stream",
          "name": "stdout",
          "text": [
            "+--------+-----------+-----------------+--------------------+--------+-----+-------+-------+---------------+----------------+\n",
            "|Election|CandidateID|    CandidateName|    ContributionType|    City|State|ZipCode| Amount|    PurposeCode|         Purpose|\n",
            "+--------+-----------+-----------------+--------------------+--------+-----+-------+-------+---------------+----------------+\n",
            "|    2005|         AY|  Fernando,Ferrer|         Corporation|New York|   NY|  10011|   23.0|          Other|Other: explntion|\n",
            "|    2005|         AY|  Fernando,Ferrer|         Corporation|New York|   NY|  10018|   35.0|          Other|Other: explntion|\n",
            "|    2005|         BB|   Anthony,Weiner|Limited Liability...|New York|   NY|  10021| 4660.0|    Office Rent|     Office Rent|\n",
            "|    2005|         BB|   Anthony,Weiner|Limited Liability...|New York|   NY|  10021| 7363.0|    Office Rent|     Office Rent|\n",
            "|    2005|         BB|   Anthony,Weiner|Limited Liability...|New York|   NY|  10021|  340.0|    Office Rent|     Office Rent|\n",
            "|    2005|         BB|   Anthony,Weiner|Limited Liability...|New York|   NY|  10021|  537.0|    Office Rent|     Office Rent|\n",
            "|    2005|         BB|   Anthony,Weiner|Limited Liability...|New York|   NY|  10021| 4048.0|    Office Rent|     Office Rent|\n",
            "|    2005|         BB|   Anthony,Weiner|Limited Liability...|New York|   NY|  10021| 4015.0|    Office Rent|     Office Rent|\n",
            "|    2005|         BB|   Anthony,Weiner|Limited Liability...|New York|   NY|  10021| 6220.0|    Office Rent|     Office Rent|\n",
            "|    2005|         BB|   Anthony,Weiner|Limited Liability...|New York|   NY|  10021| 8004.0|    Office Rent|     Office Rent|\n",
            "|    2005|         BB|   Anthony,Weiner|Limited Liability...|New York|   NY|  10021| 4058.0|    Office Rent|     Office Rent|\n",
            "|    2005|         BB|   Anthony,Weiner|Limited Liability...|New York|   NY|  10021|11985.0|    Office Rent|     Office Rent|\n",
            "|    2005|         BB|   Anthony,Weiner|Limited Liability...|New York|   NY|  10021|-3555.0|           null|            null|\n",
            "|    2005|         AY|  Fernando,Ferrer|         Labor Union|New York|   NY|  10036|   40.0|    Office Rent|     Office Rent|\n",
            "|    2005|         AY|  Fernando,Ferrer|         Labor Union|New York|   NY|  10036|  800.0|          Other|Other: explntion|\n",
            "|    2005|         Y2|A. Gifford,Miller|          Individual|New York|   NY|  10038| 4513.0|    Office Rent|     Office Rent|\n",
            "|    2005|         Y2|A. Gifford,Miller|          Individual|New York|   NY|  10038| 2257.0|    Office Rent|     Office Rent|\n",
            "|    2005|         Y2|A. Gifford,Miller|          Individual|New York|   NY|  10038| 1674.0|    Office Rent|     Office Rent|\n",
            "|    2005|         Y2|A. Gifford,Miller|          Individual|New York|   NY|  10038|  583.0|Office Expenses| Office Expenses|\n",
            "|    2005|         Y2|A. Gifford,Miller|          Individual|New York|   NY|  10038|  978.0|    Office Rent|     Office Rent|\n",
            "+--------+-----------+-----------------+--------------------+--------+-----+-------+-------+---------------+----------------+\n",
            "only showing top 20 rows\n",
            "\n"
          ]
        }
      ]
    },
    {
      "cell_type": "code",
      "metadata": {
        "id": "jKdRMcW-9mtO"
      },
      "source": [
        "#Export to new CSV\n",
        "Expenditures_2005_df.toPandas().to_csv(\"Clean_Expenditures_2005.csv\", header=True)"
      ],
      "execution_count": 22,
      "outputs": []
    },
    {
      "cell_type": "code",
      "metadata": {
        "id": "0xHPGZ5gcKff"
      },
      "source": [
        "# Store environmental variable\n",
        "from getpass import getpass\n",
        "#Configure settings for RDS\n",
        "mode = \"append\"\n",
        "jdbc_url=\"jdbc:postgresql://database-final.cjdbapst3wjf.us-east-1.rds.amazonaws.com:5432/postgres\"\n",
        "config = {\"user\":\"postgres\",\n",
        "          \"password\": \"88888\",\n",
        "          \"driver\":\"org.postgresql.Driver\"}"
      ],
      "execution_count": 20,
      "outputs": []
    },
    {
      "cell_type": "code",
      "metadata": {
        "id": "7BSEgJlTcLrD"
      },
      "source": [
        "# Write DataFrame to active_user table in RDS\n",
        "#Expenditures_2009_df.write.jdbc(url=jdbc_url, table='expenditures_2009', mode=mode, properties=config)"
      ],
      "execution_count": 21,
      "outputs": []
    }
  ]
}
