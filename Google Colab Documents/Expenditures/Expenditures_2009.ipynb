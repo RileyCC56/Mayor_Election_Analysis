{
  "nbformat": 4,
  "nbformat_minor": 0,
  "metadata": {
    "colab": {
      "name": "Expenditures_2009.ipynb",
      "provenance": [],
      "authorship_tag": "ABX9TyM6EsI2ewm65ne70cDaRk9j",
      "include_colab_link": true
    },
    "kernelspec": {
      "name": "python3",
      "display_name": "Python 3"
    },
    "language_info": {
      "name": "python"
    }
  },
  "cells": [
    {
      "cell_type": "markdown",
      "metadata": {
        "id": "view-in-github",
        "colab_type": "text"
      },
      "source": [
        "<a href=\"https://colab.research.google.com/github/ssheggrud/Mod_20_Project/blob/05_Riley/Expenditures_2009.ipynb\" target=\"_parent\"><img src=\"https://colab.research.google.com/assets/colab-badge.svg\" alt=\"Open In Colab\"/></a>"
      ]
    },
    {
      "cell_type": "code",
      "metadata": {
        "id": "VSsZfsY1LTvd"
      },
      "source": [
        ""
      ],
      "execution_count": null,
      "outputs": []
    },
    {
      "cell_type": "code",
      "metadata": {
        "colab": {
          "base_uri": "https://localhost:8080/"
        },
        "id": "ddn5mqQ0M_R3",
        "outputId": "7bd4b3a9-4ea5-47a2-cb34-d590802262ac"
      },
      "source": [
        "import os\n",
        "# Find the latest version of spark 3.0 from http://www.apache.org/dist/spark/ and enter as the spark version\n",
        "# For example:\n",
        "spark_version = 'spark-3.0.3'\n",
        "#spark_version = 'spark-2.4.8'\n",
        "os.environ['SPARK_VERSION']=spark_version\n",
        "\n",
        "# Install Spark and Java\n",
        "!apt-get update\n",
        "!apt-get install openjdk-11-jdk-headless -qq > /dev/null\n",
        "!wget -q http://www.apache.org/dist/spark/$SPARK_VERSION/$SPARK_VERSION-bin-hadoop2.7.tgz\n",
        "!tar xf $SPARK_VERSION-bin-hadoop2.7.tgz\n",
        "!pip install -q findspark\n",
        "\n",
        "# Set Environment Variables\n",
        "import os\n",
        "os.environ[\"JAVA_HOME\"] = \"/usr/lib/jvm/java-11-openjdk-amd64\"\n",
        "os.environ[\"SPARK_HOME\"] = f\"/content/{spark_version}-bin-hadoop2.7\"\n",
        "\n",
        "# Start a SparkSession\n",
        "import findspark\n",
        "findspark.init()\n",
        "\n",
        "import pandas as pd\n"
      ],
      "execution_count": 1,
      "outputs": [
        {
          "output_type": "stream",
          "name": "stdout",
          "text": [
            "\r0% [Working]\r            \rGet:1 https://cloud.r-project.org/bin/linux/ubuntu bionic-cran40/ InRelease [3,626 B]\n",
            "Ign:2 https://developer.download.nvidia.com/compute/cuda/repos/ubuntu1804/x86_64  InRelease\n",
            "Ign:3 https://developer.download.nvidia.com/compute/machine-learning/repos/ubuntu1804/x86_64  InRelease\n",
            "Get:4 https://developer.download.nvidia.com/compute/cuda/repos/ubuntu1804/x86_64  Release [696 B]\n",
            "Hit:5 https://developer.download.nvidia.com/compute/machine-learning/repos/ubuntu1804/x86_64  Release\n",
            "Get:6 https://developer.download.nvidia.com/compute/cuda/repos/ubuntu1804/x86_64  Release.gpg [836 B]\n",
            "Get:7 http://security.ubuntu.com/ubuntu bionic-security InRelease [88.7 kB]\n",
            "Hit:8 http://archive.ubuntu.com/ubuntu bionic InRelease\n",
            "Get:9 http://ppa.launchpad.net/c2d4u.team/c2d4u4.0+/ubuntu bionic InRelease [15.9 kB]\n",
            "Get:10 http://archive.ubuntu.com/ubuntu bionic-updates InRelease [88.7 kB]\n",
            "Hit:12 http://ppa.launchpad.net/cran/libgit2/ubuntu bionic InRelease\n",
            "Get:13 http://archive.ubuntu.com/ubuntu bionic-backports InRelease [74.6 kB]\n",
            "Get:14 http://ppa.launchpad.net/deadsnakes/ppa/ubuntu bionic InRelease [15.9 kB]\n",
            "Get:15 https://developer.download.nvidia.com/compute/cuda/repos/ubuntu1804/x86_64  Packages [718 kB]\n",
            "Hit:16 http://ppa.launchpad.net/graphics-drivers/ppa/ubuntu bionic InRelease\n",
            "Get:17 http://security.ubuntu.com/ubuntu bionic-security/main amd64 Packages [2,324 kB]\n",
            "Get:18 http://security.ubuntu.com/ubuntu bionic-security/restricted amd64 Packages [567 kB]\n",
            "Get:19 http://security.ubuntu.com/ubuntu bionic-security/universe amd64 Packages [1,428 kB]\n",
            "Get:20 http://ppa.launchpad.net/c2d4u.team/c2d4u4.0+/ubuntu bionic/main Sources [1,799 kB]\n",
            "Get:21 http://archive.ubuntu.com/ubuntu bionic-updates/main amd64 Packages [2,760 kB]\n",
            "Get:22 http://ppa.launchpad.net/c2d4u.team/c2d4u4.0+/ubuntu bionic/main amd64 Packages [921 kB]\n",
            "Get:23 http://archive.ubuntu.com/ubuntu bionic-updates/universe amd64 Packages [2,202 kB]\n",
            "Get:24 http://archive.ubuntu.com/ubuntu bionic-updates/restricted amd64 Packages [600 kB]\n",
            "Get:25 http://ppa.launchpad.net/deadsnakes/ppa/ubuntu bionic/main amd64 Packages [40.8 kB]\n",
            "Fetched 13.6 MB in 7s (1,898 kB/s)\n",
            "Reading package lists... Done\n"
          ]
        }
      ]
    },
    {
      "cell_type": "code",
      "metadata": {
        "colab": {
          "base_uri": "https://localhost:8080/"
        },
        "id": "B9Dd_JabNFZU",
        "outputId": "31100d75-ed3d-437f-85c1-965f21aab2e1"
      },
      "source": [
        "# Download the Postgres driver that will allow Spark to interact with Postgres.\n",
        "!wget https://jdbc.postgresql.org/download/postgresql-42.2.16.jar"
      ],
      "execution_count": 2,
      "outputs": [
        {
          "output_type": "stream",
          "name": "stdout",
          "text": [
            "--2021-09-15 15:59:31--  https://jdbc.postgresql.org/download/postgresql-42.2.16.jar\n",
            "Resolving jdbc.postgresql.org (jdbc.postgresql.org)... 72.32.157.228, 2001:4800:3e1:1::228\n",
            "Connecting to jdbc.postgresql.org (jdbc.postgresql.org)|72.32.157.228|:443... connected.\n",
            "HTTP request sent, awaiting response... 200 OK\n",
            "Length: 1002883 (979K) [application/java-archive]\n",
            "Saving to: ‘postgresql-42.2.16.jar’\n",
            "\n",
            "postgresql-42.2.16. 100%[===================>] 979.38K  4.13MB/s    in 0.2s    \n",
            "\n",
            "2021-09-15 15:59:32 (4.13 MB/s) - ‘postgresql-42.2.16.jar’ saved [1002883/1002883]\n",
            "\n"
          ]
        }
      ]
    },
    {
      "cell_type": "code",
      "metadata": {
        "id": "VrvolWKMNFbe"
      },
      "source": [
        "# Start Spark session\n",
        "from pyspark.sql import SparkSession\n",
        "from pyspark.sql.functions import col\n",
        "spark = SparkSession.builder.appName(\"FinalProject\").getOrCreate()"
      ],
      "execution_count": 3,
      "outputs": []
    },
    {
      "cell_type": "code",
      "metadata": {
        "colab": {
          "base_uri": "https://localhost:8080/"
        },
        "id": "W2uxnkAjNFeD",
        "outputId": "688ee127-842c-4d46-91c0-5c37b5f2006f"
      },
      "source": [
        "# Read in data from S3 Buckets\n",
        "from pyspark import SparkFiles\n",
        "url = \"https://databootcamp-final-05.s3.amazonaws.com/Resources/2009_expenditure.csv\"\n",
        "spark.sparkContext.addFile(url)\n",
        "df = spark.read.csv(SparkFiles.get(\"2009_expenditure.csv\"), sep=\",\", header=True)\n",
        "df.show()"
      ],
      "execution_count": 4,
      "outputs": [
        {
          "output_type": "stream",
          "name": "stdout",
          "text": [
            "+--------+--------+------+--------+--------+--------------+------+---------+------+--------+------+----------+--------+-------------------+-------------------+--------------------+------+-------+-----+-------------+---------+------------+-----+-----+----------+-------+---------+----------------+--------------------+--------+------+-------+\n",
            "|ELECTION|OFFICECD|CANDID|CANCLASS|CANDLAST|     CANDFIRST|CANDMI|COMMITTEE|FILING|SCHEDULE|PAGENO|SEQUENCENO|   REFNO|           INV_DATE|               DATE|                NAME|C_CODE|ORG_IND|STRNO|      STRNAME|APARTMENT|        CITY|STATE|  ZIP|PAY_METHOD|   AMNT|PURPOSECD|         PURPOSE|             EXPLAIN|EXEMPTCD|RR_IND|SEG_IND|\n",
            "+--------+--------+------+--------+--------+--------------+------+---------+------+--------+------+----------+--------+-------------------+-------------------+--------------------+------+-------+-----+-------------+---------+------------+-----+-----+----------+-------+---------+----------------+--------------------+--------+------+-------+\n",
            "|    2009|       5|   821|       P|   Vacca|         James|  null|        I|    15|       F|  null|      null|R0002981|10/26/2009 00:00:00| 11/1/2009 00:00:00|:Parkview Sports ...|  CORP|      Y| 5973|     Broadway|     null|       Bronx|   NY|10471|      Full|1235.00|    OTHER|Other: explntion|             Tshirts|    null|     N|      N|\n",
            "|    2009|       5|  1164|       P|  Lander|          Brad|     S|        H|     6|       F|  null|      null|R0001319| 12/2/2008 00:00:00|  1/9/2009 00:00:00|            @dvocacy|  CORP|      Y| 1001|G Streeet, NW|     null|  Washington|   DC|20001|      Full| 649.39|    CMAIL|    Campgn Mlngs|    e-mail addresses|    null|     N|      N|\n",
            "|    2009|       5|    60|       P|   Behar|Steven Anthony|  null|        H|     5|       F|  null|      null|R0000278| 3/27/2008 00:00:00| 3/27/2008 00:00:00| 1 & 1 Internet Inc.|  CORP|      Y|  701|     Lee Road|     null|Chesterbrook|   PA|19087|      Full|  17.47|    OFFCE| Office Expenses|    Internet Hosting|    null|     N|      N|\n",
            "|    2009|       5|  1246|       P| Leandre|       Jacques|     M|        H|    11|       F|  null|      null|R0001470| 7/31/2009 00:00:00|  8/3/2009 00:00:00| 1 & 1 Internet Inc.|  OTHR|      Y|  701|     Lee Road|      300|Chesterbrook|   PA|19087|      Full|  29.97|    OTHER|Other: explntion| Internet Domain Fee|    null|     N|      N|\n",
            "|    2009|       5|   405|       P|Hackshaw|          Rock|     H|        H|    13|       F|  null|      null|R0001370| 9/23/2009 00:00:00| 9/23/2009 00:00:00| 1 & 1 Internet Inc.|  CORP|      Y| null|         null|     null|        null| null| null|      Full|  29.97|    PROFL|    Prof. Srvcs.|             website|    null|     N|      N|\n",
            "|    2009|       5|  1232|       P|    Rice|        Jerome|     L|        H|    10|       F|  null|      null|R0000765|  4/2/2009 00:00:00|  4/2/2009 00:00:00| 1 & 1 Internet Inc.|  OTHR|      Y|  701|     Lee Road|      300|Chesterbrook|   PA|19087|      Full|  29.94|    OTHER|Other: explntion|  committee web site|    null|     N|      N|\n",
            "|    2009|       5|  1246|       P| Leandre|       Jacques|     M|        H|     9|       F|  null|      null|R0001258| 1/15/2009 00:00:00| 1/15/2009 00:00:00| 1 & 1 Internet Inc.|  OTHR|      Y|  701|     Lee Road|      300|Chesterbrook|   PA|19087|      Full|  29.97|    OTHER|Other: explntion|        Website host|    null|     N|      N|\n",
            "|    2009|       5|    60|       P|   Behar|Steven Anthony|  null|        H|     8|       F|  null|      null|R0000660| 3/22/2009 00:00:00| 3/27/2009 00:00:00| 1 & 1 Internet Inc.|  CORP|      Y|  701|     Lee Road|     null|Chesterbrook|   PA|19087|      Full|  29.97|    OTHER|Other: explntion|         Web hosting|    null|     N|      N|\n",
            "|    2009|       5|    60|       P|   Behar|Steven Anthony|  null|        H|     8|       F|  null|      null|R0000697| 3/27/2009 00:00:00| 3/27/2009 00:00:00| 1 & 1 Internet Inc.|  CORP|      Y|  701|     Lee Road|     null|Chesterbrook|   PA|19087|      Full|  29.97|    OTHER|Other: explntion|         Web Hosting|    null|     N|      N|\n",
            "|    2009|       5|   405|       P|Hackshaw|          Rock|     H|        H|     9|       F|  null|      null|R0000715| 6/26/2009 00:00:00| 6/26/2009 00:00:00| 1 & 1 Internet Inc.|  CORP|      Y| null|         null|     null|        null| null| null|      Full|  29.97|    LITER|     Campgn Lit.|    website building|    null|     N|      N|\n",
            "|    2009|       5|  1232|       P|    Rice|        Jerome|     L|        H|     6|       F|  null|      null|R0000113|  8/9/2008 00:00:00| 8/14/2008 00:00:00| 1 & 1 Internet Inc.|  OTHR|      Y|  701|     Lee Road|      300|Chesterbrook|   PA|19087|      Full|  29.94|    OTHER|Other: explntion|       Internet Site|    null|     N|      N|\n",
            "|    2009|       5|    60|       P|   Behar|Steven Anthony|  null|        H|     5|       F|  null|      null|R0000295| 6/26/2008 00:00:00| 6/26/2008 00:00:00| 1 & 1 Internet Inc.|  CORP|      Y|  701|     Lee Road|     null|Chesterbrook|   PA|19087|      Full|  17.47|    OTHER|Other: explntion|    Internet Hosting|    null|     N|      N|\n",
            "|    2009|       5|  1246|       P| Leandre|       Jacques|     M|        H|     8|       F|  null|      null|R0000925| 4/28/2009 00:00:00|  5/4/2009 00:00:00| 1 & 1 Internet Inc.|  OTHR|      Y|  701|     Lee Road|      300|Chesterbrook|   PA|19087|      Full|  29.97|    OTHER|Other: explntion|         Website Fee|    null|     N|      N|\n",
            "|    2009|       5|  1246|       P| Leandre|       Jacques|     M|        H|     7|       F|  null|      null|R0000798|  2/3/2009 00:00:00|  2/3/2009 00:00:00| 1 & 1 Internet Inc.|  OTHR|      Y|  701|     Lee Road|      300|Chesterbrook|   PA|19087|      Full|  29.97|    OTHER|Other: explntion| Online Contrib. Ser|    null|     N|      N|\n",
            "|    2009|       5|  1246|       P| Leandre|       Jacques|     M|        H|     6|       F|  null|      null|R0000531| 11/3/2008 00:00:00| 11/3/2008 00:00:00| 1 & 1 Internet Inc.|  OTHR|      Y|  701|     Lee Road|      300|Chesterbrook|   PA|19087|      Full|  29.97|    PROFL|    Prof. Srvcs.| Internet Domain Fee|    null|     N|      N|\n",
            "|    2009|       5|   405|       P|Hackshaw|          Rock|     H|        H|    16|       F|  null|      null|R0001492|12/24/2009 00:00:00|12/24/2009 00:00:00| 1 & 1 Internet Inc.|  CORP|      Y| null|         null|     null|        null| null| null|      Full|  29.97|    PROFL|    Prof. Srvcs.|             Website|    null|     N|      N|\n",
            "|    2009|       5|    60|       P|   Behar|Steven Anthony|  null|        H|     6|       F|  null|      null|R0000443| 9/26/2008 00:00:00| 9/26/2008 00:00:00| 1 & 1 Internet Inc.|  CORP|      Y|  701|     Lee Road|     null|Chesterbrook|   PA|19087|      Full|  17.47|    OTHER|Other: explntion|            Internet|    null|     N|      N|\n",
            "|    2009|       5|    60|       P|   Behar|Steven Anthony|  null|        H|     6|       F|  null|      null|R0000445|12/26/2008 00:00:00|12/26/2008 00:00:00| 1 & 1 Internet Inc.|  CORP|      Y|  701|     Lee Road|     null|Chesterbrook|   PA|19087|      Full|  78.97|    OTHER|Other: explntion|            Internet|    null|     N|      N|\n",
            "|    2009|       5|    60|       P|   Behar|Steven Anthony|  null|        H|     3|       F|  null|      null|R0000088|  3/5/2007 00:00:00|  3/5/2007 00:00:00| 1 & 1 Internet Inc.|  CORP|      Y|  701|     Lee Road|     null|Chesterbrook|   PA|19087|     Final|   6.00|    OTHER|Other: explntion|Register internet do|    null|     N|      N|\n",
            "|    2009|       5|    60|       P|   Behar|Steven Anthony|  null|        H|     4|       F|  null|      null|R0000172|12/23/2007 00:00:00|12/23/2007 00:00:00| 1 & 1 Internet Inc.|  CORP|      Y|  701|     Lee Road|     null|Chesterbrook|   PA|19087|      Full|  66.47|    OTHER|Other: explntion|        Website Host|    null|     N|      N|\n",
            "+--------+--------+------+--------+--------+--------------+------+---------+------+--------+------+----------+--------+-------------------+-------------------+--------------------+------+-------+-----+-------------+---------+------------+-----+-----+----------+-------+---------+----------------+--------------------+--------+------+-------+\n",
            "only showing top 20 rows\n",
            "\n"
          ]
        }
      ]
    },
    {
      "cell_type": "code",
      "metadata": {
        "colab": {
          "base_uri": "https://localhost:8080/"
        },
        "id": "PauL98XATuOi",
        "outputId": "e447044a-ad45-4195-f966-502f88508083"
      },
      "source": [
        "df.columns"
      ],
      "execution_count": 5,
      "outputs": [
        {
          "output_type": "execute_result",
          "data": {
            "text/plain": [
              "['ELECTION',\n",
              " 'OFFICECD',\n",
              " 'CANDID',\n",
              " 'CANCLASS',\n",
              " 'CANDLAST',\n",
              " 'CANDFIRST',\n",
              " 'CANDMI',\n",
              " 'COMMITTEE',\n",
              " 'FILING',\n",
              " 'SCHEDULE',\n",
              " 'PAGENO',\n",
              " 'SEQUENCENO',\n",
              " 'REFNO',\n",
              " 'INV_DATE',\n",
              " 'DATE',\n",
              " 'NAME',\n",
              " 'C_CODE',\n",
              " 'ORG_IND',\n",
              " 'STRNO',\n",
              " 'STRNAME',\n",
              " 'APARTMENT',\n",
              " 'CITY',\n",
              " 'STATE',\n",
              " 'ZIP',\n",
              " 'PAY_METHOD',\n",
              " 'AMNT',\n",
              " 'PURPOSECD',\n",
              " 'PURPOSE',\n",
              " 'EXPLAIN',\n",
              " 'EXEMPTCD',\n",
              " 'RR_IND',\n",
              " 'SEG_IND']"
            ]
          },
          "metadata": {},
          "execution_count": 5
        }
      ]
    },
    {
      "cell_type": "code",
      "metadata": {
        "colab": {
          "base_uri": "https://localhost:8080/"
        },
        "id": "e2cRNc4wNFgt",
        "outputId": "c0a24d95-f2da-4157-a37e-178a117dc517"
      },
      "source": [
        "# Remove multiple columns\n",
        "list = ['CANDMI','COMMITTEE',\n",
        " 'FILING',\n",
        " 'SCHEDULE',\n",
        " 'PAGENO',\n",
        " 'SEQUENCENO',\n",
        " 'REFNO',\n",
        " 'INV_DATE',\n",
        " 'DATE',\n",
        " 'NAME',\n",
        " 'ORG_IND',\n",
        " 'STRNO',\n",
        " 'STRNAME',\n",
        " 'APARTMENT',\n",
        "  'EXPLAIN',\n",
        " 'EXEMPTCD',\n",
        " 'RR_IND',\n",
        " 'SEG_IND',\n",
        " 'PAY_METHOD'] \n",
        "df = df.drop(*list)\n",
        "df.show()"
      ],
      "execution_count": 6,
      "outputs": [
        {
          "output_type": "stream",
          "name": "stdout",
          "text": [
            "+--------+--------+------+--------+--------+--------------+------+------------+-----+-----+-------+---------+----------------+\n",
            "|ELECTION|OFFICECD|CANDID|CANCLASS|CANDLAST|     CANDFIRST|C_CODE|        CITY|STATE|  ZIP|   AMNT|PURPOSECD|         PURPOSE|\n",
            "+--------+--------+------+--------+--------+--------------+------+------------+-----+-----+-------+---------+----------------+\n",
            "|    2009|       5|   821|       P|   Vacca|         James|  CORP|       Bronx|   NY|10471|1235.00|    OTHER|Other: explntion|\n",
            "|    2009|       5|  1164|       P|  Lander|          Brad|  CORP|  Washington|   DC|20001| 649.39|    CMAIL|    Campgn Mlngs|\n",
            "|    2009|       5|    60|       P|   Behar|Steven Anthony|  CORP|Chesterbrook|   PA|19087|  17.47|    OFFCE| Office Expenses|\n",
            "|    2009|       5|  1246|       P| Leandre|       Jacques|  OTHR|Chesterbrook|   PA|19087|  29.97|    OTHER|Other: explntion|\n",
            "|    2009|       5|   405|       P|Hackshaw|          Rock|  CORP|        null| null| null|  29.97|    PROFL|    Prof. Srvcs.|\n",
            "|    2009|       5|  1232|       P|    Rice|        Jerome|  OTHR|Chesterbrook|   PA|19087|  29.94|    OTHER|Other: explntion|\n",
            "|    2009|       5|  1246|       P| Leandre|       Jacques|  OTHR|Chesterbrook|   PA|19087|  29.97|    OTHER|Other: explntion|\n",
            "|    2009|       5|    60|       P|   Behar|Steven Anthony|  CORP|Chesterbrook|   PA|19087|  29.97|    OTHER|Other: explntion|\n",
            "|    2009|       5|    60|       P|   Behar|Steven Anthony|  CORP|Chesterbrook|   PA|19087|  29.97|    OTHER|Other: explntion|\n",
            "|    2009|       5|   405|       P|Hackshaw|          Rock|  CORP|        null| null| null|  29.97|    LITER|     Campgn Lit.|\n",
            "|    2009|       5|  1232|       P|    Rice|        Jerome|  OTHR|Chesterbrook|   PA|19087|  29.94|    OTHER|Other: explntion|\n",
            "|    2009|       5|    60|       P|   Behar|Steven Anthony|  CORP|Chesterbrook|   PA|19087|  17.47|    OTHER|Other: explntion|\n",
            "|    2009|       5|  1246|       P| Leandre|       Jacques|  OTHR|Chesterbrook|   PA|19087|  29.97|    OTHER|Other: explntion|\n",
            "|    2009|       5|  1246|       P| Leandre|       Jacques|  OTHR|Chesterbrook|   PA|19087|  29.97|    OTHER|Other: explntion|\n",
            "|    2009|       5|  1246|       P| Leandre|       Jacques|  OTHR|Chesterbrook|   PA|19087|  29.97|    PROFL|    Prof. Srvcs.|\n",
            "|    2009|       5|   405|       P|Hackshaw|          Rock|  CORP|        null| null| null|  29.97|    PROFL|    Prof. Srvcs.|\n",
            "|    2009|       5|    60|       P|   Behar|Steven Anthony|  CORP|Chesterbrook|   PA|19087|  17.47|    OTHER|Other: explntion|\n",
            "|    2009|       5|    60|       P|   Behar|Steven Anthony|  CORP|Chesterbrook|   PA|19087|  78.97|    OTHER|Other: explntion|\n",
            "|    2009|       5|    60|       P|   Behar|Steven Anthony|  CORP|Chesterbrook|   PA|19087|   6.00|    OTHER|Other: explntion|\n",
            "|    2009|       5|    60|       P|   Behar|Steven Anthony|  CORP|Chesterbrook|   PA|19087|  66.47|    OTHER|Other: explntion|\n",
            "+--------+--------+------+--------+--------+--------------+------+------------+-----+-----+-------+---------+----------------+\n",
            "only showing top 20 rows\n",
            "\n"
          ]
        }
      ]
    },
    {
      "cell_type": "code",
      "metadata": {
        "id": "jQjgDTZeqqf1",
        "colab": {
          "base_uri": "https://localhost:8080/"
        },
        "outputId": "63cb7672-7da5-4b61-e645-fcedeaa457cb"
      },
      "source": [
        "#Combine the Candidate first and last name columns\n",
        "from pyspark.sql.functions import concat_ws\n",
        "df2 = df.withColumn(\"CandidateName\", concat_ws(\",\",\"CANDFIRST\",'CANDLAST'))\n",
        "df2.show()"
      ],
      "execution_count": 7,
      "outputs": [
        {
          "output_type": "stream",
          "name": "stdout",
          "text": [
            "+--------+--------+------+--------+--------+--------------+------+------------+-----+-----+-------+---------+----------------+--------------------+\n",
            "|ELECTION|OFFICECD|CANDID|CANCLASS|CANDLAST|     CANDFIRST|C_CODE|        CITY|STATE|  ZIP|   AMNT|PURPOSECD|         PURPOSE|       CandidateName|\n",
            "+--------+--------+------+--------+--------+--------------+------+------------+-----+-----+-------+---------+----------------+--------------------+\n",
            "|    2009|       5|   821|       P|   Vacca|         James|  CORP|       Bronx|   NY|10471|1235.00|    OTHER|Other: explntion|         James,Vacca|\n",
            "|    2009|       5|  1164|       P|  Lander|          Brad|  CORP|  Washington|   DC|20001| 649.39|    CMAIL|    Campgn Mlngs|         Brad,Lander|\n",
            "|    2009|       5|    60|       P|   Behar|Steven Anthony|  CORP|Chesterbrook|   PA|19087|  17.47|    OFFCE| Office Expenses|Steven Anthony,Behar|\n",
            "|    2009|       5|  1246|       P| Leandre|       Jacques|  OTHR|Chesterbrook|   PA|19087|  29.97|    OTHER|Other: explntion|     Jacques,Leandre|\n",
            "|    2009|       5|   405|       P|Hackshaw|          Rock|  CORP|        null| null| null|  29.97|    PROFL|    Prof. Srvcs.|       Rock,Hackshaw|\n",
            "|    2009|       5|  1232|       P|    Rice|        Jerome|  OTHR|Chesterbrook|   PA|19087|  29.94|    OTHER|Other: explntion|         Jerome,Rice|\n",
            "|    2009|       5|  1246|       P| Leandre|       Jacques|  OTHR|Chesterbrook|   PA|19087|  29.97|    OTHER|Other: explntion|     Jacques,Leandre|\n",
            "|    2009|       5|    60|       P|   Behar|Steven Anthony|  CORP|Chesterbrook|   PA|19087|  29.97|    OTHER|Other: explntion|Steven Anthony,Behar|\n",
            "|    2009|       5|    60|       P|   Behar|Steven Anthony|  CORP|Chesterbrook|   PA|19087|  29.97|    OTHER|Other: explntion|Steven Anthony,Behar|\n",
            "|    2009|       5|   405|       P|Hackshaw|          Rock|  CORP|        null| null| null|  29.97|    LITER|     Campgn Lit.|       Rock,Hackshaw|\n",
            "|    2009|       5|  1232|       P|    Rice|        Jerome|  OTHR|Chesterbrook|   PA|19087|  29.94|    OTHER|Other: explntion|         Jerome,Rice|\n",
            "|    2009|       5|    60|       P|   Behar|Steven Anthony|  CORP|Chesterbrook|   PA|19087|  17.47|    OTHER|Other: explntion|Steven Anthony,Behar|\n",
            "|    2009|       5|  1246|       P| Leandre|       Jacques|  OTHR|Chesterbrook|   PA|19087|  29.97|    OTHER|Other: explntion|     Jacques,Leandre|\n",
            "|    2009|       5|  1246|       P| Leandre|       Jacques|  OTHR|Chesterbrook|   PA|19087|  29.97|    OTHER|Other: explntion|     Jacques,Leandre|\n",
            "|    2009|       5|  1246|       P| Leandre|       Jacques|  OTHR|Chesterbrook|   PA|19087|  29.97|    PROFL|    Prof. Srvcs.|     Jacques,Leandre|\n",
            "|    2009|       5|   405|       P|Hackshaw|          Rock|  CORP|        null| null| null|  29.97|    PROFL|    Prof. Srvcs.|       Rock,Hackshaw|\n",
            "|    2009|       5|    60|       P|   Behar|Steven Anthony|  CORP|Chesterbrook|   PA|19087|  17.47|    OTHER|Other: explntion|Steven Anthony,Behar|\n",
            "|    2009|       5|    60|       P|   Behar|Steven Anthony|  CORP|Chesterbrook|   PA|19087|  78.97|    OTHER|Other: explntion|Steven Anthony,Behar|\n",
            "|    2009|       5|    60|       P|   Behar|Steven Anthony|  CORP|Chesterbrook|   PA|19087|   6.00|    OTHER|Other: explntion|Steven Anthony,Behar|\n",
            "|    2009|       5|    60|       P|   Behar|Steven Anthony|  CORP|Chesterbrook|   PA|19087|  66.47|    OTHER|Other: explntion|Steven Anthony,Behar|\n",
            "+--------+--------+------+--------+--------+--------------+------+------------+-----+-----+-------+---------+----------------+--------------------+\n",
            "only showing top 20 rows\n",
            "\n"
          ]
        }
      ]
    },
    {
      "cell_type": "code",
      "metadata": {
        "id": "qGVZ3I4hz1x6"
      },
      "source": [
        "#Rearrange column order\n",
        "df3=df2.select('ELECTION','OFFICECD', 'CANDID', 'CANCLASS', 'CandidateName', 'CANDLAST', 'CANDFIRST','C_CODE', 'CITY', 'STATE',  'ZIP', 'AMNT', 'PURPOSECD', 'PURPOSE')"
      ],
      "execution_count": 8,
      "outputs": []
    },
    {
      "cell_type": "code",
      "metadata": {
        "colab": {
          "base_uri": "https://localhost:8080/"
        },
        "id": "LAcxTotHz2t-",
        "outputId": "4136cfbb-dc72-42f1-d9c6-dbdfa7d651ba"
      },
      "source": [
        "#Drop OFFICECD and CANCLASS\n",
        "list1 = ['CANDLAST', 'CANDFIRST'] \n",
        "df4 = df3.drop(*list1)\n",
        "df4.show()"
      ],
      "execution_count": 9,
      "outputs": [
        {
          "output_type": "stream",
          "name": "stdout",
          "text": [
            "+--------+--------+------+--------+--------------------+------+------------+-----+-----+-------+---------+----------------+\n",
            "|ELECTION|OFFICECD|CANDID|CANCLASS|       CandidateName|C_CODE|        CITY|STATE|  ZIP|   AMNT|PURPOSECD|         PURPOSE|\n",
            "+--------+--------+------+--------+--------------------+------+------------+-----+-----+-------+---------+----------------+\n",
            "|    2009|       5|   821|       P|         James,Vacca|  CORP|       Bronx|   NY|10471|1235.00|    OTHER|Other: explntion|\n",
            "|    2009|       5|  1164|       P|         Brad,Lander|  CORP|  Washington|   DC|20001| 649.39|    CMAIL|    Campgn Mlngs|\n",
            "|    2009|       5|    60|       P|Steven Anthony,Behar|  CORP|Chesterbrook|   PA|19087|  17.47|    OFFCE| Office Expenses|\n",
            "|    2009|       5|  1246|       P|     Jacques,Leandre|  OTHR|Chesterbrook|   PA|19087|  29.97|    OTHER|Other: explntion|\n",
            "|    2009|       5|   405|       P|       Rock,Hackshaw|  CORP|        null| null| null|  29.97|    PROFL|    Prof. Srvcs.|\n",
            "|    2009|       5|  1232|       P|         Jerome,Rice|  OTHR|Chesterbrook|   PA|19087|  29.94|    OTHER|Other: explntion|\n",
            "|    2009|       5|  1246|       P|     Jacques,Leandre|  OTHR|Chesterbrook|   PA|19087|  29.97|    OTHER|Other: explntion|\n",
            "|    2009|       5|    60|       P|Steven Anthony,Behar|  CORP|Chesterbrook|   PA|19087|  29.97|    OTHER|Other: explntion|\n",
            "|    2009|       5|    60|       P|Steven Anthony,Behar|  CORP|Chesterbrook|   PA|19087|  29.97|    OTHER|Other: explntion|\n",
            "|    2009|       5|   405|       P|       Rock,Hackshaw|  CORP|        null| null| null|  29.97|    LITER|     Campgn Lit.|\n",
            "|    2009|       5|  1232|       P|         Jerome,Rice|  OTHR|Chesterbrook|   PA|19087|  29.94|    OTHER|Other: explntion|\n",
            "|    2009|       5|    60|       P|Steven Anthony,Behar|  CORP|Chesterbrook|   PA|19087|  17.47|    OTHER|Other: explntion|\n",
            "|    2009|       5|  1246|       P|     Jacques,Leandre|  OTHR|Chesterbrook|   PA|19087|  29.97|    OTHER|Other: explntion|\n",
            "|    2009|       5|  1246|       P|     Jacques,Leandre|  OTHR|Chesterbrook|   PA|19087|  29.97|    OTHER|Other: explntion|\n",
            "|    2009|       5|  1246|       P|     Jacques,Leandre|  OTHR|Chesterbrook|   PA|19087|  29.97|    PROFL|    Prof. Srvcs.|\n",
            "|    2009|       5|   405|       P|       Rock,Hackshaw|  CORP|        null| null| null|  29.97|    PROFL|    Prof. Srvcs.|\n",
            "|    2009|       5|    60|       P|Steven Anthony,Behar|  CORP|Chesterbrook|   PA|19087|  17.47|    OTHER|Other: explntion|\n",
            "|    2009|       5|    60|       P|Steven Anthony,Behar|  CORP|Chesterbrook|   PA|19087|  78.97|    OTHER|Other: explntion|\n",
            "|    2009|       5|    60|       P|Steven Anthony,Behar|  CORP|Chesterbrook|   PA|19087|   6.00|    OTHER|Other: explntion|\n",
            "|    2009|       5|    60|       P|Steven Anthony,Behar|  CORP|Chesterbrook|   PA|19087|  66.47|    OTHER|Other: explntion|\n",
            "+--------+--------+------+--------+--------------------+------+------------+-----+-----+-------+---------+----------------+\n",
            "only showing top 20 rows\n",
            "\n"
          ]
        }
      ]
    },
    {
      "cell_type": "code",
      "metadata": {
        "colab": {
          "base_uri": "https://localhost:8080/"
        },
        "id": "g5aiRN5RNFjB",
        "outputId": "6defd977-7b76-4cfa-a8b3-ce65d06d8ec0"
      },
      "source": [
        "# check data types\n",
        "df4.dtypes"
      ],
      "execution_count": 10,
      "outputs": [
        {
          "output_type": "execute_result",
          "data": {
            "text/plain": [
              "[('ELECTION', 'string'),\n",
              " ('OFFICECD', 'string'),\n",
              " ('CANDID', 'string'),\n",
              " ('CANCLASS', 'string'),\n",
              " ('CandidateName', 'string'),\n",
              " ('C_CODE', 'string'),\n",
              " ('CITY', 'string'),\n",
              " ('STATE', 'string'),\n",
              " ('ZIP', 'string'),\n",
              " ('AMNT', 'string'),\n",
              " ('PURPOSECD', 'string'),\n",
              " ('PURPOSE', 'string')]"
            ]
          },
          "metadata": {},
          "execution_count": 10
        }
      ]
    },
    {
      "cell_type": "code",
      "metadata": {
        "colab": {
          "base_uri": "https://localhost:8080/"
        },
        "id": "sA6AAG4zYxSL",
        "outputId": "0c911ac6-8f97-4c40-b986-8ac38c38e6cd"
      },
      "source": [
        "df4.columns"
      ],
      "execution_count": 11,
      "outputs": [
        {
          "output_type": "execute_result",
          "data": {
            "text/plain": [
              "['ELECTION',\n",
              " 'OFFICECD',\n",
              " 'CANDID',\n",
              " 'CANCLASS',\n",
              " 'CandidateName',\n",
              " 'C_CODE',\n",
              " 'CITY',\n",
              " 'STATE',\n",
              " 'ZIP',\n",
              " 'AMNT',\n",
              " 'PURPOSECD',\n",
              " 'PURPOSE']"
            ]
          },
          "metadata": {},
          "execution_count": 11
        }
      ]
    },
    {
      "cell_type": "code",
      "metadata": {
        "colab": {
          "base_uri": "https://localhost:8080/"
        },
        "id": "tIkq3wdqOzWV",
        "outputId": "24512f69-fc94-4ffe-991a-8768aa446bc6"
      },
      "source": [
        "#Change column names\n",
        "df5 = df4 \\\n",
        ".withColumnRenamed(\"ELECTION\", \"Election\") \\\n",
        ".withColumnRenamed(\"CANDID\", \"CandidateID\") \\\n",
        ".withColumnRenamed(\"C_CODE\", \"ContributionType\") \\\n",
        ".withColumnRenamed(\"CITY\", \"City\") \\\n",
        ".withColumnRenamed(\"STATE\", \"State\") \\\n",
        ".withColumnRenamed(\"ZIP\", \"ZipCode\") \\\n",
        ".withColumnRenamed(\"AMNT\", \"Amount\") \\\n",
        ".withColumnRenamed(\"PURPOSECD\", \"PurposeCode\") \\\n",
        ".withColumnRenamed(\"PURPOSE\", \"Purpose\") \n",
        "\n",
        "df5.printSchema()"
      ],
      "execution_count": 12,
      "outputs": [
        {
          "output_type": "stream",
          "name": "stdout",
          "text": [
            "root\n",
            " |-- Election: string (nullable = true)\n",
            " |-- OFFICECD: string (nullable = true)\n",
            " |-- CandidateID: string (nullable = true)\n",
            " |-- CANCLASS: string (nullable = true)\n",
            " |-- CandidateName: string (nullable = false)\n",
            " |-- ContributionType: string (nullable = true)\n",
            " |-- City: string (nullable = true)\n",
            " |-- State: string (nullable = true)\n",
            " |-- ZipCode: string (nullable = true)\n",
            " |-- Amount: string (nullable = true)\n",
            " |-- PurposeCode: string (nullable = true)\n",
            " |-- Purpose: string (nullable = true)\n",
            "\n"
          ]
        }
      ]
    },
    {
      "cell_type": "code",
      "metadata": {
        "colab": {
          "base_uri": "https://localhost:8080/"
        },
        "id": "SyWn9dANSi5l",
        "outputId": "197d67b2-5ffd-4cc9-b5d7-58a0c22ff004"
      },
      "source": [
        "# changing datatypes of columns\n",
        "df6 = df5 \\\n",
        "  .withColumn(\"Election\",df5[\"Election\"].cast(\"Integer\")) \\\n",
        "  .withColumn(\"OFFICECD\", df5[\"OFFICECD\"].cast(\"Integer\")) \\\n",
        "  .withColumn(\"CandidateID\", df5[\"CandidateID\"].cast(\"Integer\")) \\\n",
        "  .withColumn(\"ZipCode\", df5[\"ZipCode\"].cast(\"Integer\")) \\\n",
        "  .withColumn(\"Amount\", df5[\"Amount\"].cast(\"Float\")) \\\n",
        "  \n",
        "df6.printSchema()"
      ],
      "execution_count": 13,
      "outputs": [
        {
          "output_type": "stream",
          "name": "stdout",
          "text": [
            "root\n",
            " |-- Election: integer (nullable = true)\n",
            " |-- OFFICECD: integer (nullable = true)\n",
            " |-- CandidateID: integer (nullable = true)\n",
            " |-- CANCLASS: string (nullable = true)\n",
            " |-- CandidateName: string (nullable = false)\n",
            " |-- ContributionType: string (nullable = true)\n",
            " |-- City: string (nullable = true)\n",
            " |-- State: string (nullable = true)\n",
            " |-- ZipCode: integer (nullable = true)\n",
            " |-- Amount: float (nullable = true)\n",
            " |-- PurposeCode: string (nullable = true)\n",
            " |-- Purpose: string (nullable = true)\n",
            "\n"
          ]
        }
      ]
    },
    {
      "cell_type": "code",
      "metadata": {
        "id": "h1aCPuV3WPwC"
      },
      "source": [
        "#Change vaule name in ContributerType\n",
        "from pyspark.sql.functions import regexp_replace\n",
        "df7 = df6.withColumn(\"ContributionType\", regexp_replace(\"ContributionType\", 'CAN', 'Candidate')) \\\n",
        "  .withColumn('ContributionType', regexp_replace(\"ContributionType\", 'CORP', 'Corporation')) \\\n",
        "  .withColumn('ContributionType', regexp_replace(\"ContributionType\", 'EMPO', 'Labor Union')) \\\n",
        "  .withColumn(\"ContributionType\", regexp_replace(\"ContributionType\", 'FAM', 'Candidate Family')) \\\n",
        "  .withColumn(\"ContributionType\", regexp_replace(\"ContributionType\", 'IND', 'Individual')) \\\n",
        "  .withColumn(\"ContributionType\", regexp_replace(\"ContributionType\", 'PCOMZ', 'Party Committee')) \\\n",
        "  .withColumn(\"ContributionType\", regexp_replace(\"ContributionType\", 'ORG', 'Orgainization')) \\\n",
        "  .withColumn(\"ContributionType\", regexp_replace(\"ContributionType\", 'LLC', 'Limited Liability Company')) \\\n",
        "  .withColumn(\"ContributionType\", regexp_replace(\"ContributionType\", 'PCOMP', 'Political Action Committee')) \\\n",
        "  .withColumn(\"ContributionType\", regexp_replace(\"ContributionType\", 'SPO', ' Candidates Spouse')) \\\n",
        "  .withColumn(\"ContributionType\", regexp_replace(\"ContributionType\", 'OTHR', 'Other')) \\\n",
        "  .withColumn(\"ContributionType\", regexp_replace(\"ContributionType\", 'PCOMC', 'Candidate Committee')) \\\n",
        "  .withColumn(\"ContributionType\", regexp_replace(\"ContributionType\", 'PART', 'Individual')) \\\n"
      ],
      "execution_count": 14,
      "outputs": []
    },
    {
      "cell_type": "code",
      "metadata": {
        "id": "fy4JAvyQWRl7"
      },
      "source": [
        "#Change Purpose Code value names\n",
        "from pyspark.sql.functions import regexp_replace\n",
        "df8 = df7.withColumn('PurposeCode', regexp_replace('PurposeCode', 'ADVAN', 'Advance Repayment')) \\\n",
        "  .withColumn('PurposeCode', regexp_replace('PurposeCode', 'CMAIL', 'Campaign Mail')) \\\n",
        "  .withColumn('PurposeCode', regexp_replace('PurposeCode', 'CMISC', 'Miscellaneous')) \\\n",
        "  .withColumn('PurposeCode', regexp_replace('PurposeCode', 'CNTRB', 'Political Contributions')) \\\n",
        "  .withColumn('PurposeCode', regexp_replace('PurposeCode', 'COMPL', 'Compliance Cost')) \\\n",
        "  .withColumn('PurposeCode', regexp_replace('PurposeCode', 'CONSL', 'Campaign Consultants')) \\\n",
        "  .withColumn('PurposeCode', regexp_replace('PurposeCode', 'CONSV', 'Constituent Services')) \\\n",
        "  .withColumn('PurposeCode', regexp_replace('PurposeCode', 'FUNDR', 'Fundraising')) \\\n",
        "  .withColumn('PurposeCode', regexp_replace('PurposeCode', 'INTER', 'Interest Expenses')) \\\n",
        "  .withColumn('PurposeCode', regexp_replace('PurposeCode', 'LITER', 'Campaign Literature')) \\\n",
        "  .withColumn('PurposeCode', regexp_replace('PurposeCode', 'NQUAL', 'Non Qualified Expenditures')) \\\n",
        "  .withColumn('PurposeCode', regexp_replace('PurposeCode', 'OFFCE', 'Office Expenses')) \\\n",
        "  .withColumn('PurposeCode', regexp_replace('PurposeCode', 'OTHER', 'Other')) \\\n",
        "  .withColumn('PurposeCode', regexp_replace('PurposeCode', 'PETIT', 'Petition Expenses')) \\\n",
        "  .withColumn('PurposeCode', regexp_replace('PurposeCode', 'POLLS', 'Polling Costs')) \\\n",
        "  .withColumn('PurposeCode', regexp_replace('PurposeCode', 'POSTA', 'Postal Expenses')) \\\n",
        "  .withColumn('PurposeCode', regexp_replace('PurposeCode', 'PRINT', 'Printing Expenses')) \\\n",
        "  .withColumn('PurposeCode', regexp_replace('PurposeCode', 'PROFL', 'Professional Services')) \\\n",
        "  .withColumn('PurposeCode', regexp_replace('PurposeCode', 'RADIO', 'Radio Ads')) \\\n",
        "  .withColumn('PurposeCode', regexp_replace('PurposeCode', 'RENTO', 'Office Rent')) \\\n",
        "  .withColumn('PurposeCode', regexp_replace('PurposeCode', 'TVADS', 'Television Ads')) \\\n",
        "  .withColumn('PurposeCode', regexp_replace('PurposeCode', 'UNKN', 'Unknown')) \\\n",
        "  .withColumn('PurposeCode', regexp_replace('PurposeCode', 'VOTER', 'Voter Registration')) \\\n",
        "  .withColumn('PurposeCode', regexp_replace('PurposeCode', 'WAGES', 'Campaign Workers Salaries')) \\"
      ],
      "execution_count": 15,
      "outputs": []
    },
    {
      "cell_type": "code",
      "metadata": {
        "id": "fM_kC3ViNFqN",
        "colab": {
          "base_uri": "https://localhost:8080/"
        },
        "outputId": "2133016f-64b9-45fe-86e7-4bd7d34002fc"
      },
      "source": [
        "#Call only Mayor (1) and particaptes (P) within Dataframe\n",
        "df9 = df8.filter((df6.OFFICECD==\"1\") & (df8.CANCLASS==\"P\"))\n",
        "df9.show()"
      ],
      "execution_count": 16,
      "outputs": [
        {
          "output_type": "stream",
          "name": "stdout",
          "text": [
            "+--------+--------+-----------+--------+--------------------+--------------------+-------------+-----+-------+-------+-----------------+----------------+\n",
            "|Election|OFFICECD|CandidateID|CANCLASS|       CandidateName|    ContributionType|         City|State|ZipCode| Amount|      PurposeCode|         Purpose|\n",
            "+--------+--------+-----------+--------+--------------------+--------------------+-------------+-----+-------+-------+-----------------+----------------+\n",
            "|    2009|       1|        260|       P|William,Thompson,...|         Corporation|     New York|   NY|  10007|  38.55|            Other|Other: explntion|\n",
            "|    2009|       1|        260|       P|William,Thompson,...|         Corporation|     New York|   NY|  10007|   49.0|            Other|Other: explntion|\n",
            "|    2009|       1|       1286|       P|        Kevin,Coenen|Limited Liability...|     New York|   NY|  10106|   30.0|            Other|Other: explntion|\n",
            "|    2009|       1|       1286|       P|        Kevin,Coenen|Limited Liability...|     New York|   NY|  10106|   30.0|            Other|Other: explntion|\n",
            "|    2009|       1|        260|       P|William,Thompson,...|         Corporation|Beverly Hills|   CA|   null|   21.0|            Other|Other: explntion|\n",
            "|    2009|       1|        260|       P|William,Thompson,...|         Corporation|     New York|   NY|  10022| 962.85|      Fundraising|     Fundraising|\n",
            "|    2009|       1|        260|       P|William,Thompson,...|         Corporation|     New York|   NY|  10022| 1905.0|      Fundraising|     Fundraising|\n",
            "|    2009|       1|        260|       P|William,Thompson,...|         Corporation|     New York|   NY|  10003|  600.0|      Fundraising|     Fundraising|\n",
            "|    2009|       1|        260|       P|William,Thompson,...|Limited Liability...|      Astoria|   NY|  11106|  100.0|   Television Ads| Television Ads.|\n",
            "|    2009|       1|        260|       P|William,Thompson,...|     Party Committee|     Brooklyn|   NY|  11234|  150.0|Printing Expenses|       Print Ads|\n",
            "|    2009|       1|         51|       P|         Tony,Avella|         Corporation|   Whitestone|   NY|  11357|1029.57|      Fundraising|     Fundraising|\n",
            "|    2009|       1|        260|       P|William,Thompson,...|         Corporation|     Lawrence|   NY|  11559|  400.0|Printing Expenses|       Print Ads|\n",
            "|    2009|       1|        260|       P|William,Thompson,...|         Corporation|     Lawrence|   NY|  11559|  400.0|Printing Expenses|       Print Ads|\n",
            "|    2009|       1|        260|       P|William,Thompson,...|     Party Committee|       Queens|   NY|  11364|  150.0|Printing Expenses|       Print Ads|\n",
            "|    2009|       1|        260|       P|William,Thompson,...|     Party Committee|       Queens|   NY|  11364|  200.0|Printing Expenses|       Print Ads|\n",
            "|    2009|       1|        260|       P|William,Thompson,...|         Corporation|     New York|   NY|  10004| 883.99|            Other|Other: explntion|\n",
            "|    2009|       1|        260|       P|William,Thompson,...|         Corporation|     New York|   NY|  10003|   54.0|            Other|Other: explntion|\n",
            "|    2009|       1|        260|       P|William,Thompson,...|         Corporation|       Albany|   NY|  12207| 753.39|      Fundraising|     Fundraising|\n",
            "|    2009|       1|        260|       P|William,Thompson,...|         Corporation|     New York|   NY|  10040|  400.0|            Other|Other: explntion|\n",
            "|    2009|       1|        260|       P|William,Thompson,...|         Corporation|     New York|   NY|  10019|   35.0|            Other|Other: explntion|\n",
            "+--------+--------+-----------+--------+--------------------+--------------------+-------------+-----+-------+-------+-----------------+----------------+\n",
            "only showing top 20 rows\n",
            "\n"
          ]
        }
      ]
    },
    {
      "cell_type": "code",
      "metadata": {
        "id": "WmdLbDEzQAyc",
        "colab": {
          "base_uri": "https://localhost:8080/"
        },
        "outputId": "bfb374db-0166-4a0a-cc94-13cf0e78322f"
      },
      "source": [
        "#Check the above dataframe to make sure only unique values between the OFFICECD is 1 \n",
        "df9.select('OFFICECD').distinct().show()"
      ],
      "execution_count": 17,
      "outputs": [
        {
          "output_type": "stream",
          "name": "stdout",
          "text": [
            "+--------+\n",
            "|OFFICECD|\n",
            "+--------+\n",
            "|       1|\n",
            "+--------+\n",
            "\n"
          ]
        }
      ]
    },
    {
      "cell_type": "code",
      "metadata": {
        "id": "4kbDs5ApZtEu",
        "colab": {
          "base_uri": "https://localhost:8080/"
        },
        "outputId": "bd85d516-d9c5-47a1-ed2f-4bf6dd8f749e"
      },
      "source": [
        "#Drop OFFICECD and CANCLASS\n",
        "list2 = ['OFFICECD', 'CANCLASS'] \n",
        "Expenditures_2009_df = df9.drop(*list2)\n",
        "Expenditures_2009_df.show()"
      ],
      "execution_count": 18,
      "outputs": [
        {
          "output_type": "stream",
          "name": "stdout",
          "text": [
            "+--------+-----------+--------------------+--------------------+-------------+-----+-------+-------+-----------------+----------------+\n",
            "|Election|CandidateID|       CandidateName|    ContributionType|         City|State|ZipCode| Amount|      PurposeCode|         Purpose|\n",
            "+--------+-----------+--------------------+--------------------+-------------+-----+-------+-------+-----------------+----------------+\n",
            "|    2009|        260|William,Thompson,...|         Corporation|     New York|   NY|  10007|  38.55|            Other|Other: explntion|\n",
            "|    2009|        260|William,Thompson,...|         Corporation|     New York|   NY|  10007|   49.0|            Other|Other: explntion|\n",
            "|    2009|       1286|        Kevin,Coenen|Limited Liability...|     New York|   NY|  10106|   30.0|            Other|Other: explntion|\n",
            "|    2009|       1286|        Kevin,Coenen|Limited Liability...|     New York|   NY|  10106|   30.0|            Other|Other: explntion|\n",
            "|    2009|        260|William,Thompson,...|         Corporation|Beverly Hills|   CA|   null|   21.0|            Other|Other: explntion|\n",
            "|    2009|        260|William,Thompson,...|         Corporation|     New York|   NY|  10022| 962.85|      Fundraising|     Fundraising|\n",
            "|    2009|        260|William,Thompson,...|         Corporation|     New York|   NY|  10022| 1905.0|      Fundraising|     Fundraising|\n",
            "|    2009|        260|William,Thompson,...|         Corporation|     New York|   NY|  10003|  600.0|      Fundraising|     Fundraising|\n",
            "|    2009|        260|William,Thompson,...|Limited Liability...|      Astoria|   NY|  11106|  100.0|   Television Ads| Television Ads.|\n",
            "|    2009|        260|William,Thompson,...|     Party Committee|     Brooklyn|   NY|  11234|  150.0|Printing Expenses|       Print Ads|\n",
            "|    2009|         51|         Tony,Avella|         Corporation|   Whitestone|   NY|  11357|1029.57|      Fundraising|     Fundraising|\n",
            "|    2009|        260|William,Thompson,...|         Corporation|     Lawrence|   NY|  11559|  400.0|Printing Expenses|       Print Ads|\n",
            "|    2009|        260|William,Thompson,...|         Corporation|     Lawrence|   NY|  11559|  400.0|Printing Expenses|       Print Ads|\n",
            "|    2009|        260|William,Thompson,...|     Party Committee|       Queens|   NY|  11364|  150.0|Printing Expenses|       Print Ads|\n",
            "|    2009|        260|William,Thompson,...|     Party Committee|       Queens|   NY|  11364|  200.0|Printing Expenses|       Print Ads|\n",
            "|    2009|        260|William,Thompson,...|         Corporation|     New York|   NY|  10004| 883.99|            Other|Other: explntion|\n",
            "|    2009|        260|William,Thompson,...|         Corporation|     New York|   NY|  10003|   54.0|            Other|Other: explntion|\n",
            "|    2009|        260|William,Thompson,...|         Corporation|       Albany|   NY|  12207| 753.39|      Fundraising|     Fundraising|\n",
            "|    2009|        260|William,Thompson,...|         Corporation|     New York|   NY|  10040|  400.0|            Other|Other: explntion|\n",
            "|    2009|        260|William,Thompson,...|         Corporation|     New York|   NY|  10019|   35.0|            Other|Other: explntion|\n",
            "+--------+-----------+--------------------+--------------------+-------------+-----+-------+-------+-----------------+----------------+\n",
            "only showing top 20 rows\n",
            "\n"
          ]
        }
      ]
    },
    {
      "cell_type": "code",
      "metadata": {
        "id": "jKdRMcW-9mtO"
      },
      "source": [
        "#Export to new CSV\n",
        "Expenditures_2009_df.toPandas().to_csv(\"Clean_Expenditures_2009.csv\", header=True)"
      ],
      "execution_count": 22,
      "outputs": []
    },
    {
      "cell_type": "code",
      "metadata": {
        "id": "0xHPGZ5gcKff"
      },
      "source": [
        "# Store environmental variable\n",
        "from getpass import getpass\n",
        "#Configure settings for RDS\n",
        "mode = \"append\"\n",
        "jdbc_url=\"jdbc:postgresql://database-final.cjdbapst3wjf.us-east-1.rds.amazonaws.com:5432/postgres\"\n",
        "config = {\"user\":\"postgres\",\n",
        "          \"password\": \"88888\",\n",
        "          \"driver\":\"org.postgresql.Driver\"}"
      ],
      "execution_count": 20,
      "outputs": []
    },
    {
      "cell_type": "code",
      "metadata": {
        "id": "7BSEgJlTcLrD"
      },
      "source": [
        "# Write DataFrame to active_user table in RDS\n",
        "#Expenditures_2009_df.write.jdbc(url=jdbc_url, table='expenditures_2009', mode=mode, properties=config)"
      ],
      "execution_count": 21,
      "outputs": []
    }
  ]
}