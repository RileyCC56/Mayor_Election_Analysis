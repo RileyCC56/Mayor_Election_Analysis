{
  "nbformat": 4,
  "nbformat_minor": 0,
  "metadata": {
    "colab": {
      "name": "Copy2 of Challenge_Test.ipynb",
      "provenance": [],
      "collapsed_sections": [],
      "authorship_tag": "ABX9TyPB4ANOyT2/Rnip1pI+iBBT",
      "include_colab_link": true
    },
    "kernelspec": {
      "name": "python3",
      "display_name": "Python 3"
    },
    "language_info": {
      "name": "python"
    }
  },
  "cells": [
    {
      "cell_type": "markdown",
      "metadata": {
        "id": "view-in-github",
        "colab_type": "text"
      },
      "source": [
        "<a href=\"https://colab.research.google.com/github/ssheggrud/Mod_20_Project/blob/05_Riley/Copy2_of_Challenge_Test.ipynb\" target=\"_parent\"><img src=\"https://colab.research.google.com/assets/colab-badge.svg\" alt=\"Open In Colab\"/></a>"
      ]
    },
    {
      "cell_type": "code",
      "metadata": {
        "colab": {
          "base_uri": "https://localhost:8080/"
        },
        "id": "8YdY34kyytgK",
        "outputId": "fd881abe-7022-4a08-9605-d248adc376e6"
      },
      "source": [
        "import os\n",
        "# Find the latest version of spark 3.0 from http://www.apache.org/dist/spark/ and enter as the spark version\n",
        "# For example:\n",
        "# spark_version = 'spark-3.0.3'\n",
        "spark_version = 'spark-2.4.8'\n",
        "os.environ['SPARK_VERSION']=spark_version\n",
        "\n",
        "# Install Spark and Java\n",
        "!apt-get update\n",
        "!apt-get install openjdk-11-jdk-headless -qq > /dev/null\n",
        "!wget -q http://www.apache.org/dist/spark/$SPARK_VERSION/$SPARK_VERSION-bin-hadoop2.7.tgz\n",
        "!tar xf $SPARK_VERSION-bin-hadoop2.7.tgz\n",
        "!pip install -q findspark\n",
        "\n",
        "# Set Environment Variables\n",
        "import os\n",
        "os.environ[\"JAVA_HOME\"] = \"/usr/lib/jvm/java-11-openjdk-amd64\"\n",
        "os.environ[\"SPARK_HOME\"] = f\"/content/{spark_version}-bin-hadoop2.7\"\n",
        "\n",
        "# Start a SparkSession\n",
        "import findspark\n",
        "findspark.init()"
      ],
      "execution_count": null,
      "outputs": [
        {
          "output_type": "stream",
          "name": "stdout",
          "text": [
            "\r0% [Working]\r            \rGet:1 http://security.ubuntu.com/ubuntu bionic-security InRelease [88.7 kB]\n",
            "\r0% [Connecting to archive.ubuntu.com (91.189.88.142)] [1 InRelease 14.2 kB/88.7\r                                                                               \rHit:2 https://cloud.r-project.org/bin/linux/ubuntu bionic-cran40/ InRelease\n",
            "\r0% [Connecting to archive.ubuntu.com (91.189.88.142)] [1 InRelease 14.2 kB/88.7\r0% [2 InRelease gpgv 3,626 B] [Connecting to archive.ubuntu.com (91.189.88.142)\r0% [2 InRelease gpgv 3,626 B] [Waiting for headers] [Waiting for headers] [Wait\r                                                                               \rIgn:3 https://developer.download.nvidia.com/compute/cuda/repos/ubuntu1804/x86_64  InRelease\n",
            "\r0% [2 InRelease gpgv 3,626 B] [Waiting for headers] [Waiting for headers] [Wait\r                                                                               \rHit:4 http://ppa.launchpad.net/c2d4u.team/c2d4u4.0+/ubuntu bionic InRelease\n",
            "\r0% [2 InRelease gpgv 3,626 B] [Waiting for headers] [Connecting to ppa.launchpa\r                                                                               \rHit:5 http://archive.ubuntu.com/ubuntu bionic InRelease\n",
            "\r0% [2 InRelease gpgv 3,626 B] [Waiting for headers] [Connecting to ppa.launchpa\r                                                                               \rIgn:6 https://developer.download.nvidia.com/compute/machine-learning/repos/ubuntu1804/x86_64  InRelease\n",
            "\r0% [2 InRelease gpgv 3,626 B] [Waiting for headers] [Connecting to ppa.launchpa\r                                                                               \rHit:7 https://developer.download.nvidia.com/compute/cuda/repos/ubuntu1804/x86_64  Release\n",
            "Hit:8 https://developer.download.nvidia.com/compute/machine-learning/repos/ubuntu1804/x86_64  Release\n",
            "Get:9 http://archive.ubuntu.com/ubuntu bionic-updates InRelease [88.7 kB]\n",
            "Hit:10 http://ppa.launchpad.net/cran/libgit2/ubuntu bionic InRelease\n",
            "Hit:11 http://ppa.launchpad.net/deadsnakes/ppa/ubuntu bionic InRelease\n",
            "Get:12 http://archive.ubuntu.com/ubuntu bionic-backports InRelease [74.6 kB]\n",
            "Hit:13 http://ppa.launchpad.net/graphics-drivers/ppa/ubuntu bionic InRelease\n",
            "Fetched 252 kB in 3s (99.2 kB/s)\n",
            "Reading package lists... Done\n"
          ]
        }
      ]
    },
    {
      "cell_type": "code",
      "metadata": {
        "colab": {
          "base_uri": "https://localhost:8080/"
        },
        "id": "A7rScTFqz-95",
        "outputId": "6181bd27-b2e1-440a-fca2-3c1fc28ebfc4"
      },
      "source": [
        "# Download the Postgres driver that will allow Spark to interact with Postgres.\n",
        "!wget https://jdbc.postgresql.org/download/postgresql-42.2.16.jar"
      ],
      "execution_count": null,
      "outputs": [
        {
          "output_type": "stream",
          "name": "stdout",
          "text": [
            "--2021-09-02 15:26:07--  https://jdbc.postgresql.org/download/postgresql-42.2.16.jar\n",
            "Resolving jdbc.postgresql.org (jdbc.postgresql.org)... 72.32.157.228, 2001:4800:3e1:1::228\n",
            "Connecting to jdbc.postgresql.org (jdbc.postgresql.org)|72.32.157.228|:443... connected.\n",
            "HTTP request sent, awaiting response... 200 OK\n",
            "Length: 1002883 (979K) [application/java-archive]\n",
            "Saving to: ‘postgresql-42.2.16.jar.3’\n",
            "\n",
            "postgresql-42.2.16. 100%[===================>] 979.38K  5.70MB/s    in 0.2s    \n",
            "\n",
            "2021-09-02 15:26:07 (5.70 MB/s) - ‘postgresql-42.2.16.jar.3’ saved [1002883/1002883]\n",
            "\n"
          ]
        }
      ]
    },
    {
      "cell_type": "code",
      "metadata": {
        "id": "fmoRqOY_z_AE"
      },
      "source": [
        "# Start Spark session\n",
        "from pyspark.sql import SparkSession\n",
        "spark = SparkSession.builder.appName(\"FinalProject\").getOrCreate()"
      ],
      "execution_count": null,
      "outputs": []
    },
    {
      "cell_type": "code",
      "metadata": {
        "id": "8IAOroGPz_Cm"
      },
      "source": [
        "# Read in data from S3 Buckets\n",
        "from pyspark import SparkFiles\n",
        "url = \"https://databootcamp-final-05.s3.amazonaws.com/Resources/Individual+Contributions+2013+(UF).csv\"\n",
        "spark.sparkContext.addFile(url)\n",
        "df = spark.read.csv(SparkFiles.get(\"Individual+Contributions+2013+(UF).csv\"), sep=\",\", header=True)\n",
        "df.show()"
      ],
      "execution_count": null,
      "outputs": []
    },
    {
      "cell_type": "code",
      "metadata": {
        "colab": {
          "base_uri": "https://localhost:8080/"
        },
        "id": "zyomFunrHmfz",
        "outputId": "141cbbe4-5370-4d46-e72b-08b3bfc5a54c"
      },
      "source": [
        "df.show()"
      ],
      "execution_count": null,
      "outputs": [
        {
          "output_type": "stream",
          "name": "stdout",
          "text": [
            "+--------+--------+-------+--------+------------------+---------+------+--------+------+----------+--------+---------+----------+-------------------+------+-----+-------+---------+---------+-----------------+-----+-----+--------------+--------------------+--------+------------------+---------------+--------+----+---------+--------+----------+--------+----------+--------+--------+--------+-------+-----+------+----------+----------+----------+----------+--------+---------+---------+--------+---------+------+-------+----------+\n",
            "|ELECTION|OFFICECD|RECIPID|CANCLASS|         RECIPNAME|COMMITTEE|FILING|SCHEDULE|PAGENO|SEQUENCENO|   REFNO|     DATE|REFUNDDATE|               NAME|C_CODE|STRNO|STRNAME|APARTMENT|BOROUGHCD|             CITY|STATE|  ZIP|    OCCUPATION|             EMPNAME|EMPSTRNO|        EMPSTRNAME|        EMPCITY|EMPSTATE|AMNT|MATCHAMNT|PREVAMNT|PAY_METHOD|INTERMNO|INTERMNAME|INTSTRNO|INTSTRNM|INTAPTNO|INTCITY|INTST|INTZIP|INTEMPNAME|INTEMPSTNO|INTEMPSTNM|INTEMPCITY|INTEMPST|INTOCCUPA|PURPOSECD|EXEMPTCD|ADJTYPECD|RR_IND|SEG_IND|INT_C_CODE|\n",
            "+--------+--------+-------+--------+------------------+---------+------+--------+------+----------+--------+---------+----------+-------------------+------+-----+-------+---------+---------+-----------------+-----+-----+--------------+--------------------+--------+------------------+---------------+--------+----+---------+--------+----------+--------+----------+--------+--------+--------+-------+-----+------+----------+----------+----------+----------+--------+---------+---------+--------+---------+------+-------+----------+\n",
            "|    2013|       5|   1008|       P|Peterson, Daniel P|        I|     5|     ABC|  null|      null|R0000018|3/11/2012|      null|   Haywood, David B|   IND| null|   null|     null|        X|            Bronx|   NY|10458|     President|          SnarkMedia|     151|      First Avenue|       New York|      NY|  20|       20|       0|         4|    null|      null|    null|    null|    null|   null| null|  null|      null|      null|      null|      null|    null|     null|     null|    null|     null|     N|      N|      null|\n",
            "|    2013|       5|   1008|       P|Peterson, Daniel P|        I|     5|     ABC|  null|      null|R0000021| 3/6/2012|      null|      Herlihy, Neil|   IND| null|   null|     null|        Z|       Hunnington|   NY|11746|       Retired|                null|    null|              null|           null|    null|  25|        0|       0|         2|    null|      null|    null|    null|    null|   null| null|  null|      null|      null|      null|      null|    null|     null|     null|    null|     null|     N|      N|      null|\n",
            "|    2013|       5|   1008|       P|Peterson, Daniel P|        I|     5|     ABC|  null|      null|R0000023| 3/5/2012|      null|       Iocca, Karen|   IND| null|   null|     null|        Z|           Hobken|   NJ| 7030|    Unemployed|                null|    null|              null|           null|    null|  25|        0|       0|         2|    null|      null|    null|    null|    null|   null| null|  null|      null|      null|      null|      null|    null|     null|     null|    null|     null|     N|      N|      null|\n",
            "|    2013|       5|   1008|       P|Peterson, Daniel P|        I|     5|     ABC|  null|      null|R0000025| 3/6/2012|      null|   Lewenberg, Ilana|   IND| null|   null|     null|        M|         New York|   NY|10065|Vice President|      Lewenberg, LLC|     184|  East 70th Street|       New York|      NY|  25|       25|       0|         2|    null|      null|    null|    null|    null|   null| null|  null|      null|      null|      null|      null|    null|     null|     null|    null|     null|     N|      N|      null|\n",
            "|    2013|       5|   1008|       P|Peterson, Daniel P|        I|     5|     ABC|  null|      null|R0000027| 3/5/2012|      null|     Tolani, Sanjay|   IND| null|   null|     null|        M|         New York|   NY|10023|Head of NA Ops|      3i Infotech WE|      55|      Broad Street|       New York|      NY| 200|      175|       0|         2|    null|      null|    null|    null|    null|   null| null|  null|      null|      null|      null|      null|    null|     null|     null|    null|     null|     N|      N|      null|\n",
            "|    2013|       5|   1008|       P|Peterson, Daniel P|        I|     5|     ABC|  null|      null|R0000031| 6/7/2012|      null|    Viguola, Louise|   IND| null|   null|     null|        Q|         Woodside|   NY|11377|       Manager|               Segal|     333|  West 34th Street|       New York|      NY|  60|       60|       0|         1|    null|      null|    null|    null|    null|   null| null|  null|      null|      null|      null|      null|    null|     null|     null|    null|     null|     N|      N|      null|\n",
            "|    2013|       5|   1008|       P|Peterson, Daniel P|        I|     5|     ABC|  null|      null|R0000033| 6/7/2012|      null|       Stone, Jared|   IND| null|   null|     null|        M|         New York|   NY|10028|       Student|                null|    null|              null|           null|    null|  40|       40|       0|         1|    null|      null|    null|    null|    null|   null| null|  null|      null|      null|      null|      null|    null|     null|     null|    null|     null|     N|      N|      null|\n",
            "|    2013|       5|   1008|       P|Peterson, Daniel P|        I|     5|     ABC|  null|      null|R0000036| 6/7/2012|      null|   Kronenberg, Mark|   IND| null|   null|     null|        Q|  Oakland Gardens|   NY|11364|      Director|     Math 1-2-3 Inc.|   48-30|      201st Street|Oakland Gardens|      NY|  25|       25|       0|         1|    null|      null|    null|    null|    null|   null| null|  null|      null|      null|      null|      null|    null|     null|     null|    null|     null|     N|      N|      null|\n",
            "|    2013|       5|   1008|       P|Peterson, Daniel P|        I|     5|     ABC|  null|      null|R0000038| 6/7/2012|      null|       Heslin, Owen|   IND| null|   null|     null|        X|            Bronx|   NY|10451|        Lawyer|       Self-Employed|    null|              null|          Bronx|      NY|  25|       25|      20|         1|    null|      null|    null|    null|    null|   null| null|  null|      null|      null|      null|      null|    null|     null|     null|    null|     null|     N|      N|      null|\n",
            "|    2013|       5|   1008|       P|Peterson, Daniel P|        I|     5|     ABC|  null|      null|R0000040| 6/7/2012|      null|      Perry, Gerard|   IND| null|   null|     null|        S|    Staten Island|   NY|10304|    Unemployed|                null|    null|              null|           null|    null|  25|       25|       0|         1|    null|      null|    null|    null|    null|   null| null|  null|      null|      null|      null|      null|    null|     null|     null|    null|     null|     N|      N|      null|\n",
            "|    2013|       5|   1008|       P|Peterson, Daniel P|        I|     5|     ABC|  null|      null|R0000042| 6/7/2012|      null|     Chandra, Ashok|   IND| null|   null|     null|        Q| Long Island City|   NY|11109|      Attorney|       Bloomberg LLP|     731|  Lexington Avenue|       New York|      NY|  25|       25|      60|         1|    null|      null|    null|    null|    null|   null| null|  null|      null|      null|      null|      null|    null|     null|     null|    null|     null|     N|      N|      null|\n",
            "|    2013|       5|   1008|       P|Peterson, Daniel P|        I|     5|     ABC|  null|      null|R0000046| 6/7/2012|      null|          Ashe, Dan|   IND| null|   null|     null|        Q| Long Island City|   NY|11109|        Lawyer|Patterson Belknap...|    1153|Avenue of Americas|       New York|      NY| 100|      100|       0|         2|    null|      null|    null|    null|    null|   null| null|  null|      null|      null|      null|      null|    null|     null|     null|    null|     null|     N|      N|      null|\n",
            "|    2013|       5|   1008|       P|Peterson, Daniel P|        I|     5|     ABC|  null|      null|R0000048|6/17/2012|      null|      Yurcan, Bryan|   IND| null|   null|     null|        Z|Hasbrouck Heights|   NJ| 7604|          null|                 VBM|     240|  West 35th Street|       New York|      NY|  20|        0|       0|         2|    null|      null|    null|    null|    null|   null| null|  null|      null|      null|      null|      null|    null|     null|     null|    null|     null|     N|      N|      null|\n",
            "|    2013|       5|   1008|       P|Peterson, Daniel P|        I|     5|     ABC|  null|      null|R0000050| 6/7/2012|      null|  Bigelow, Margaret|   IND| null|   null|     null|        Q|          Astoria|   NY|11103|  Adminstrator|New Leaf Venture ...|       7|      Times Square|       New York|      NY|  25|       25|       0|         2|    null|      null|    null|    null|    null|   null| null|  null|      null|      null|      null|      null|    null|     null|     null|    null|     null|     N|      N|      null|\n",
            "|    2013|       5|   1008|       P|Peterson, Daniel P|        I|     5|     ABC|  null|      null|R0000052| 6/7/2012|      null|       Lewis, Harry|   IND| null|   null|     null|        X|     Pelham Manor|   NY|10803|        Lawyer|       Self Employed|    null|              null|       New York|      NY| 100|      100|       0|         2|    null|      null|    null|    null|    null|   null| null|  null|      null|      null|      null|      null|    null|     null|     null|    null|     null|     N|      N|      null|\n",
            "|    2013|       5|   1008|       P|Peterson, Daniel P|        I|     5|     ABC|  null|      null|R0000053|3/13/2012|      null|       Heslin, Owen|   IND| null|   null|     null|        X|            Bronx|   NY|10451|        Lawyer|       Self-Employed|    null|              null|          Bronx|      NY|  20|       20|       0|         4|    null|      null|    null|    null|    null|   null| null|  null|      null|      null|      null|      null|    null|     null|     null|    null|     null|     N|      N|      null|\n",
            "|    2013|       5|   1008|       P|Peterson, Daniel P|        I|     5|     ABC|  null|      null|R0000055|3/15/2012|      null|      Rincker, Cari|   IND| null|   null|     null|        M|         New York|   NY|10024|        Lawyer|   Rincker Law, PLLC|     535|      Fifth Avenue|       New York|      NY|  30|       30|       0|         4|    null|      null|    null|    null|    null|   null| null|  null|      null|      null|      null|      null|    null|     null|     null|    null|     null|     N|      N|      null|\n",
            "|    2013|       5|   1008|       P|Peterson, Daniel P|        I|     5|     ABC|  null|      null|R0000057|3/19/2012|      null|  LaVerghetta, Dino|   IND| null|   null|     null|        M|         New York|   NY|10065|        Lawyer|Debevoise & Plimp...|     919|      Third Avenue|       New York|      NY|  50|       50|       0|         4|    null|      null|    null|    null|    null|   null| null|  null|      null|      null|      null|      null|    null|     null|     null|    null|     null|     N|      N|      null|\n",
            "|    2013|       5|   1008|       P|Peterson, Daniel P|        I|     5|     ABC|  null|      null|R0000059|4/11/2012|      null|     Chandra, Ashok|   IND| null|   null|     null|        Q| Long Island City|   NY|11109|      Attorney|       Bloomberg LLP|     731|  Lexington Avenue|       New York|      NY|  60|       60|       0|         4|    null|      null|    null|    null|    null|   null| null|  null|      null|      null|      null|      null|    null|     null|     null|    null|     null|     N|      N|      null|\n",
            "|    2013|       5|   1008|       P|Peterson, Daniel P|        I|     5|     ABC|  null|      null|R0000061|3/20/2012|      null|Greenberg, Samuel J|   IND| null|   null|     null|        Q|      Little Neck|   NY|11363|       Retired|  United States Navy|    null|              null|    Little Neck|      NY|  25|       25|       0|         4|    null|      null|    null|    null|    null|   null| null|  null|      null|      null|      null|      null|    null|     null|     null|    null|     null|     N|      N|      null|\n",
            "+--------+--------+-------+--------+------------------+---------+------+--------+------+----------+--------+---------+----------+-------------------+------+-----+-------+---------+---------+-----------------+-----+-----+--------------+--------------------+--------+------------------+---------------+--------+----+---------+--------+----------+--------+----------+--------+--------+--------+-------+-----+------+----------+----------+----------+----------+--------+---------+---------+--------+---------+------+-------+----------+\n",
            "only showing top 20 rows\n",
            "\n"
          ]
        }
      ]
    },
    {
      "cell_type": "code",
      "metadata": {
        "colab": {
          "base_uri": "https://localhost:8080/"
        },
        "id": "DSobY3GVPGRa",
        "outputId": "66efbdaa-2b5c-4402-d660-38526f17a5d9"
      },
      "source": [
        "# Remove multiple columns in a go\n",
        "list = ['COMMITTEE', 'FILING', 'SCHEDULE', 'PAGENO', 'SEQUENCENO','REFNO', 'STRNO', 'STRNAME', 'APARTMENT', 'OCCUPATION', 'EMPNAME', 'EMPSTRNO', 'EMPSTRNAME',\n",
        "                'EMPCITY', 'EMPSTATE', 'PREVAMNT',  'PAY_METHOD','INTERMNO', 'INTERMNAME', 'INTSTRNO', 'INTSTRNM', 'INTSTRNM', 'INTAPTNO',\n",
        "                'INTCITY', 'INTST','INTZIP', 'INTEMPNAME', 'INTEMPSTNO', 'INTEMPSTNM', 'INTEMPCITY', 'INTEMPST', 'INTOCCUPA' ,'PURPOSECD', 'EXEMPTCD','ADJTYPECD', 'RR_IND', 'SEG_IND','INT_C_CODE'] \n",
        "df = df.drop(*list)\n",
        "df.show()"
      ],
      "execution_count": null,
      "outputs": [
        {
          "output_type": "stream",
          "name": "stdout",
          "text": [
            "+--------+--------+-------+--------+------------------+---------+----------+-------------------+------+---------+-----------------+-----+-----+----+---------+\n",
            "|ELECTION|OFFICECD|RECIPID|CANCLASS|         RECIPNAME|     DATE|REFUNDDATE|               NAME|C_CODE|BOROUGHCD|             CITY|STATE|  ZIP|AMNT|MATCHAMNT|\n",
            "+--------+--------+-------+--------+------------------+---------+----------+-------------------+------+---------+-----------------+-----+-----+----+---------+\n",
            "|    2013|       5|   1008|       P|Peterson, Daniel P|3/11/2012|      null|   Haywood, David B|   IND|        X|            Bronx|   NY|10458|  20|       20|\n",
            "|    2013|       5|   1008|       P|Peterson, Daniel P| 3/6/2012|      null|      Herlihy, Neil|   IND|        Z|       Hunnington|   NY|11746|  25|        0|\n",
            "|    2013|       5|   1008|       P|Peterson, Daniel P| 3/5/2012|      null|       Iocca, Karen|   IND|        Z|           Hobken|   NJ| 7030|  25|        0|\n",
            "|    2013|       5|   1008|       P|Peterson, Daniel P| 3/6/2012|      null|   Lewenberg, Ilana|   IND|        M|         New York|   NY|10065|  25|       25|\n",
            "|    2013|       5|   1008|       P|Peterson, Daniel P| 3/5/2012|      null|     Tolani, Sanjay|   IND|        M|         New York|   NY|10023| 200|      175|\n",
            "|    2013|       5|   1008|       P|Peterson, Daniel P| 6/7/2012|      null|    Viguola, Louise|   IND|        Q|         Woodside|   NY|11377|  60|       60|\n",
            "|    2013|       5|   1008|       P|Peterson, Daniel P| 6/7/2012|      null|       Stone, Jared|   IND|        M|         New York|   NY|10028|  40|       40|\n",
            "|    2013|       5|   1008|       P|Peterson, Daniel P| 6/7/2012|      null|   Kronenberg, Mark|   IND|        Q|  Oakland Gardens|   NY|11364|  25|       25|\n",
            "|    2013|       5|   1008|       P|Peterson, Daniel P| 6/7/2012|      null|       Heslin, Owen|   IND|        X|            Bronx|   NY|10451|  25|       25|\n",
            "|    2013|       5|   1008|       P|Peterson, Daniel P| 6/7/2012|      null|      Perry, Gerard|   IND|        S|    Staten Island|   NY|10304|  25|       25|\n",
            "|    2013|       5|   1008|       P|Peterson, Daniel P| 6/7/2012|      null|     Chandra, Ashok|   IND|        Q| Long Island City|   NY|11109|  25|       25|\n",
            "|    2013|       5|   1008|       P|Peterson, Daniel P| 6/7/2012|      null|          Ashe, Dan|   IND|        Q| Long Island City|   NY|11109| 100|      100|\n",
            "|    2013|       5|   1008|       P|Peterson, Daniel P|6/17/2012|      null|      Yurcan, Bryan|   IND|        Z|Hasbrouck Heights|   NJ| 7604|  20|        0|\n",
            "|    2013|       5|   1008|       P|Peterson, Daniel P| 6/7/2012|      null|  Bigelow, Margaret|   IND|        Q|          Astoria|   NY|11103|  25|       25|\n",
            "|    2013|       5|   1008|       P|Peterson, Daniel P| 6/7/2012|      null|       Lewis, Harry|   IND|        X|     Pelham Manor|   NY|10803| 100|      100|\n",
            "|    2013|       5|   1008|       P|Peterson, Daniel P|3/13/2012|      null|       Heslin, Owen|   IND|        X|            Bronx|   NY|10451|  20|       20|\n",
            "|    2013|       5|   1008|       P|Peterson, Daniel P|3/15/2012|      null|      Rincker, Cari|   IND|        M|         New York|   NY|10024|  30|       30|\n",
            "|    2013|       5|   1008|       P|Peterson, Daniel P|3/19/2012|      null|  LaVerghetta, Dino|   IND|        M|         New York|   NY|10065|  50|       50|\n",
            "|    2013|       5|   1008|       P|Peterson, Daniel P|4/11/2012|      null|     Chandra, Ashok|   IND|        Q| Long Island City|   NY|11109|  60|       60|\n",
            "|    2013|       5|   1008|       P|Peterson, Daniel P|3/20/2012|      null|Greenberg, Samuel J|   IND|        Q|      Little Neck|   NY|11363|  25|       25|\n",
            "+--------+--------+-------+--------+------------------+---------+----------+-------------------+------+---------+-----------------+-----+-----+----+---------+\n",
            "only showing top 20 rows\n",
            "\n"
          ]
        }
      ]
    },
    {
      "cell_type": "code",
      "metadata": {
        "colab": {
          "base_uri": "https://localhost:8080/"
        },
        "id": "ZeLinNVHPGWZ",
        "outputId": "b7586d93-4527-44b6-844d-6f21a9003446"
      },
      "source": [
        "df.dtypes"
      ],
      "execution_count": null,
      "outputs": [
        {
          "output_type": "execute_result",
          "data": {
            "text/plain": [
              "[('ELECTION', 'string'),\n",
              " ('OFFICECD', 'string'),\n",
              " ('RECIPID', 'string'),\n",
              " ('CANCLASS', 'string'),\n",
              " ('RECIPNAME', 'string'),\n",
              " ('DATE', 'string'),\n",
              " ('REFUNDDATE', 'string'),\n",
              " ('NAME', 'string'),\n",
              " ('C_CODE', 'string'),\n",
              " ('BOROUGHCD', 'string'),\n",
              " ('CITY', 'string'),\n",
              " ('STATE', 'string'),\n",
              " ('ZIP', 'string'),\n",
              " ('EMPCITY', 'string'),\n",
              " ('AMNT', 'string'),\n",
              " ('MATCHAMNT', 'string')]"
            ]
          },
          "metadata": {},
          "execution_count": 10
        }
      ]
    },
    {
      "cell_type": "code",
      "metadata": {
        "id": "dx4OqDJVbdis"
      },
      "source": [
        ""
      ],
      "execution_count": null,
      "outputs": []
    },
    {
      "cell_type": "code",
      "metadata": {
        "id": "yWAVgPYRPGT2"
      },
      "source": [
        ""
      ],
      "execution_count": null,
      "outputs": []
    },
    {
      "cell_type": "code",
      "metadata": {
        "id": "P_psvEnePGYt"
      },
      "source": [
        ""
      ],
      "execution_count": null,
      "outputs": []
    }
  ]
}