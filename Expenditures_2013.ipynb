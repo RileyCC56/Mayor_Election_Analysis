{
  "nbformat": 4,
  "nbformat_minor": 0,
  "metadata": {
    "colab": {
      "name": "Expenditures_2013.ipynb",
      "provenance": [],
      "authorship_tag": "ABX9TyNHpcAyNgP7xNZwo+dsLQOw",
      "include_colab_link": true
    },
    "kernelspec": {
      "name": "python3",
      "display_name": "Python 3"
    },
    "language_info": {
      "name": "python"
    }
  },
  "cells": [
    {
      "cell_type": "markdown",
      "metadata": {
        "id": "view-in-github",
        "colab_type": "text"
      },
      "source": [
        "<a href=\"https://colab.research.google.com/github/ssheggrud/Mod_20_Project/blob/05_Riley/Expenditures_2013.ipynb\" target=\"_parent\"><img src=\"https://colab.research.google.com/assets/colab-badge.svg\" alt=\"Open In Colab\"/></a>"
      ]
    },
    {
      "cell_type": "code",
      "metadata": {
        "colab": {
          "base_uri": "https://localhost:8080/"
        },
        "id": "ddn5mqQ0M_R3",
        "outputId": "0741e9f5-75c3-4169-c178-408bc460fbb9"
      },
      "source": [
        "import os\n",
        "# Find the latest version of spark 3.0 from http://www.apache.org/dist/spark/ and enter as the spark version\n",
        "# For example:\n",
        "spark_version = 'spark-3.0.3'\n",
        "#spark_version = 'spark-2.4.8'\n",
        "os.environ['SPARK_VERSION']=spark_version\n",
        "\n",
        "# Install Spark and Java\n",
        "!apt-get update\n",
        "!apt-get install openjdk-11-jdk-headless -qq > /dev/null\n",
        "!wget -q http://www.apache.org/dist/spark/$SPARK_VERSION/$SPARK_VERSION-bin-hadoop2.7.tgz\n",
        "!tar xf $SPARK_VERSION-bin-hadoop2.7.tgz\n",
        "!pip install -q findspark\n",
        "\n",
        "# Set Environment Variables\n",
        "import os\n",
        "os.environ[\"JAVA_HOME\"] = \"/usr/lib/jvm/java-11-openjdk-amd64\"\n",
        "os.environ[\"SPARK_HOME\"] = f\"/content/{spark_version}-bin-hadoop2.7\"\n",
        "\n",
        "# Start a SparkSession\n",
        "import findspark\n",
        "findspark.init()\n",
        "\n",
        "import pandas as pd\n"
      ],
      "execution_count": 1,
      "outputs": [
        {
          "output_type": "stream",
          "name": "stdout",
          "text": [
            "Get:1 http://security.ubuntu.com/ubuntu bionic-security InRelease [88.7 kB]\n",
            "Ign:2 https://developer.download.nvidia.com/compute/cuda/repos/ubuntu1804/x86_64  InRelease\n",
            "Hit:3 http://archive.ubuntu.com/ubuntu bionic InRelease\n",
            "Get:4 http://ppa.launchpad.net/c2d4u.team/c2d4u4.0+/ubuntu bionic InRelease [15.9 kB]\n",
            "Get:5 https://cloud.r-project.org/bin/linux/ubuntu bionic-cran40/ InRelease [3,626 B]\n",
            "Ign:6 https://developer.download.nvidia.com/compute/machine-learning/repos/ubuntu1804/x86_64  InRelease\n",
            "Get:7 https://developer.download.nvidia.com/compute/cuda/repos/ubuntu1804/x86_64  Release [696 B]\n",
            "Hit:8 https://developer.download.nvidia.com/compute/machine-learning/repos/ubuntu1804/x86_64  Release\n",
            "Get:9 http://archive.ubuntu.com/ubuntu bionic-updates InRelease [88.7 kB]\n",
            "Get:10 https://developer.download.nvidia.com/compute/cuda/repos/ubuntu1804/x86_64  Release.gpg [836 B]\n",
            "Hit:11 http://ppa.launchpad.net/cran/libgit2/ubuntu bionic InRelease\n",
            "Get:12 http://archive.ubuntu.com/ubuntu bionic-backports InRelease [74.6 kB]\n",
            "Get:13 http://ppa.launchpad.net/deadsnakes/ppa/ubuntu bionic InRelease [15.9 kB]\n",
            "Get:14 http://security.ubuntu.com/ubuntu bionic-security/universe amd64 Packages [1,428 kB]\n",
            "Hit:15 http://ppa.launchpad.net/graphics-drivers/ppa/ubuntu bionic InRelease\n",
            "Get:16 http://security.ubuntu.com/ubuntu bionic-security/restricted amd64 Packages [567 kB]\n",
            "Get:17 http://security.ubuntu.com/ubuntu bionic-security/main amd64 Packages [2,324 kB]\n",
            "Get:19 http://ppa.launchpad.net/c2d4u.team/c2d4u4.0+/ubuntu bionic/main Sources [1,799 kB]\n",
            "Get:20 https://developer.download.nvidia.com/compute/cuda/repos/ubuntu1804/x86_64  Packages [717 kB]\n",
            "Get:21 http://ppa.launchpad.net/c2d4u.team/c2d4u4.0+/ubuntu bionic/main amd64 Packages [921 kB]\n",
            "Get:22 http://archive.ubuntu.com/ubuntu bionic-updates/restricted amd64 Packages [600 kB]\n",
            "Get:23 http://archive.ubuntu.com/ubuntu bionic-updates/universe amd64 Packages [2,202 kB]\n",
            "Get:24 http://archive.ubuntu.com/ubuntu bionic-updates/main amd64 Packages [2,760 kB]\n",
            "Get:25 http://ppa.launchpad.net/deadsnakes/ppa/ubuntu bionic/main amd64 Packages [40.8 kB]\n",
            "Fetched 13.6 MB in 7s (2,096 kB/s)\n",
            "Reading package lists... Done\n"
          ]
        }
      ]
    },
    {
      "cell_type": "code",
      "metadata": {
        "colab": {
          "base_uri": "https://localhost:8080/"
        },
        "id": "B9Dd_JabNFZU",
        "outputId": "e0750057-6702-4f1f-c102-8203f2abb42f"
      },
      "source": [
        "# Download the Postgres driver that will allow Spark to interact with Postgres.\n",
        "!wget https://jdbc.postgresql.org/download/postgresql-42.2.16.jar"
      ],
      "execution_count": 2,
      "outputs": [
        {
          "output_type": "stream",
          "name": "stdout",
          "text": [
            "--2021-09-15 15:50:35--  https://jdbc.postgresql.org/download/postgresql-42.2.16.jar\n",
            "Resolving jdbc.postgresql.org (jdbc.postgresql.org)... 72.32.157.228, 2001:4800:3e1:1::228\n",
            "Connecting to jdbc.postgresql.org (jdbc.postgresql.org)|72.32.157.228|:443... connected.\n",
            "HTTP request sent, awaiting response... 200 OK\n",
            "Length: 1002883 (979K) [application/java-archive]\n",
            "Saving to: ‘postgresql-42.2.16.jar’\n",
            "\n",
            "postgresql-42.2.16. 100%[===================>] 979.38K  --.-KB/s    in 0.1s    \n",
            "\n",
            "2021-09-15 15:50:35 (6.64 MB/s) - ‘postgresql-42.2.16.jar’ saved [1002883/1002883]\n",
            "\n"
          ]
        }
      ]
    },
    {
      "cell_type": "code",
      "metadata": {
        "id": "VrvolWKMNFbe"
      },
      "source": [
        "# Start Spark session\n",
        "from pyspark.sql import SparkSession\n",
        "from pyspark.sql.functions import col\n",
        "spark = SparkSession.builder.appName(\"FinalProject\").getOrCreate()"
      ],
      "execution_count": 3,
      "outputs": []
    },
    {
      "cell_type": "code",
      "metadata": {
        "colab": {
          "base_uri": "https://localhost:8080/"
        },
        "id": "W2uxnkAjNFeD",
        "outputId": "e47c0086-5ba9-45bd-f9fb-49327a69c133"
      },
      "source": [
        "# Read in data from S3 Buckets\n",
        "from pyspark import SparkFiles\n",
        "url = \"https://databootcamp-final-05.s3.amazonaws.com/Resources/Expenditures+2013+(UF).csv\"\n",
        "spark.sparkContext.addFile(url)\n",
        "df = spark.read.csv(SparkFiles.get(\"Expenditures+2013+(UF).csv\"), sep=\",\", header=True)\n",
        "df.show()"
      ],
      "execution_count": 4,
      "outputs": [
        {
          "output_type": "stream",
          "name": "stdout",
          "text": [
            "+--------+--------+------+--------+-------------+---------+------+---------+------+--------+------+----------+--------+----------+----------+--------------------+------+-------+-----+-------+---------+------------+-----+-----+----------+------+---------+----------------+--------------------+--------+------+-------+\n",
            "|ELECTION|OFFICECD|CANDID|CANCLASS|     CANDLAST|CANDFIRST|CANDMI|COMMITTEE|FILING|SCHEDULE|PAGENO|SEQUENCENO|   REFNO|  INV_DATE|      DATE|                NAME|C_CODE|ORG_IND|STRNO|STRNAME|APARTMENT|        CITY|STATE|  ZIP|PAY_METHOD|  AMNT|PURPOSECD|         PURPOSE|             EXPLAIN|EXEMPTCD|RR_IND|SEG_IND|\n",
            "+--------+--------+------+--------+-------------+---------+------+---------+------+--------+------+----------+--------+----------+----------+--------------------+------+-------+-----+-------+---------+------------+-----+-----+----------+------+---------+----------------+--------------------+--------+------+-------+\n",
            "|    2013|       5|  1722|       P|     Similien|     Jean|     H|        H|     9|       F|  null|      null|R0000598| 5/25/2013| 5/25/2013|                null|  null|      Y| null|   null|     null|        null| null| null|   Unknown| 114.9|    OFFCE| Office Expenses|           INK&TONER|     ALA|     N|      N|\n",
            "|    2013|       5|   716|       P|         King|   Erlene|     J|        K|    16|       N|  null|      null|R0000725|      null| 11/4/2013|            $.99 USA|  CORP|      Y| null|   null|     null|    Brooklyn|   NY|11210|      null|     4|    OFFCE| Office Expenses|  Construction Paper|    null|     N|      N|\n",
            "|    2013|       1|  1752|       P| Laurel-Smith|  Abiodun|  null|        H|    13|       F|  null|      null|R0000257|  9/7/2013|  9/7/2013|07-Sam Ash-Main, ...|  CORP|      Y| null|   null|     null|    New York|   NY|10001|   Unknown| 54.43|    OFFCE| Office Expenses|          iPad clamp|    null|     N|      N|\n",
            "|    2013|       5|   353|       P|    Rodriguez|   Ydanis|     A|        L|    12|       F|  null|      null|R0003273| 9/11/2013| 9/14/2013|   1 &1 INTERNET INC|  CORP|      Y| null|   null|     null|CHESTERBROOK|   PA|19087|   Unknown| 20.97|    OTHER|Other: explntion|             Website|    null|     N|      N|\n",
            "|    2013|       5|   353|       P|    Rodriguez|   Ydanis|     A|        L|     5|       F|  null|      null|R0001836| 3/12/2012| 3/12/2012|   1 &1 INTERNET INC|  CORP|      Y| null|   null|     null|CHESTERBROOK|   PA|19087|      Full| 29.45|    OTHER|Other: explntion|        Web page fee|    null|     N|      N|\n",
            "|    2013|       5|   353|       P|    Rodriguez|   Ydanis|     A|        L|     5|       F|  null|      null|R0001921| 6/15/2012| 6/15/2012|   1 &1 INTERNET INC|  CORP|      Y| null|   null|     null|CHESTERBROOK|   PA|19087|      Full| 10.47|    LITER|     Campgn Lit.|        Website rent|    null|     N|      N|\n",
            "|    2013|       5|   353|       P|    Rodriguez|   Ydanis|     A|        L|     6|       F|  null|      null|R0001957| 9/11/2012| 9/12/2012|   1 &1 INTERNET INC|  CORP|      Y| null|   null|     null|CHESTERBROOK|   PA|19087|   Unknown| 10.47|    OTHER|Other: explntion|             Website|    null|     N|      N|\n",
            "|    2013|       5|   353|       P|    Rodriguez|   Ydanis|     A|        L|     6|       F|  null|      null|R0001974|12/11/2012|12/15/2012|   1 &1 INTERNET INC|  CORP|      Y| null|   null|     null|CHESTERBROOK|   PA|19087|   Unknown| 26.45|    PROFL|    Prof. Srvcs.|          Web rental|    null|     N|      N|\n",
            "|    2013|       5|   353|       P|    Rodriguez|   Ydanis|     A|        L|     7|       F|  null|      null|R0002192| 3/10/2013| 3/10/2013|   1 &1 INTERNET INC|  CORP|      Y| null|   null|     null|CHESTERBROOK|   PA|19087|   Unknown| 40.95|    PROFL|    Prof. Srvcs.|             Website|    null|     N|      N|\n",
            "|    2013|       5|   353|       P|    Rodriguez|   Ydanis|     A|        L|     9|       F|  null|      null|R0002346| 6/11/2013| 6/15/2013|   1 &1 INTERNET INC|  CORP|      Y| null|   null|     null|CHESTERBROOK|   PA|19087|   Unknown| 20.97|    CONSL| Campgn Consuls.|          Web rental|    null|     N|      N|\n",
            "|    2013|       5|   353|       P|    Rodriguez|   Ydanis|     A|        L|    16|       N|  null|      null|R0003345|      null|12/11/2013|   1 &1 INTERNET INC|  CORP|      Y| null|   null|     null|CHESTERBROOK|   PA|19087|      null| 50.95|    OTHER|Other: explntion|             website|    null|     N|      N|\n",
            "|    2013|       5|   353|       P|    Rodriguez|   Ydanis|     A|        L|    16|       N|  null|      null|R0003346|      null|12/11/2013|   1 &1 INTERNET INC|  CORP|      Y| null|   null|     null|CHESTERBROOK|   PA|19087|      null| 50.95|    OTHER|Other: explntion|             website|    null|     N|      N|\n",
            "|    2013|       1|   260|       P|Thompson, Jr.|  William|     C|        L|    10|       F|  null|      null|R0029259| 12/5/2011| 1/17/2012|1 Columbus Place ...|  CORP|      Y| null|   null|     null|    New York|   NY|10019|   Unknown|  19.8|    OTHER|Other: explntion|      Travel/Parking|    null|     N|      N|\n",
            "|    2013|       5|    M2|       P|        Pabon|    Julio|  null|        H|    16|       F|  null|      null|R0001312|  4/3/2013|  4/3/2013|           1-2-Print|  OTHR|      Y| null|   null|     null| Schweinfurt|   UK| null|   Unknown|    82|    LITER|     Campgn Lit.|Printing for literat|    null|     N|      N|\n",
            "|    2013|       5|  1204|       P|        Levin|  Stephen|     T|        J|     6|       F|  null|      null|R0000964|12/20/2012|12/20/2012|       1-800 Flowers|  CORP|      Y| null|   null|     null| Carle Place|   NY|11514|      Full| 59.86|    OTHER|Other: explntion|  Berevement Flowers|    null|     N|      N|\n",
            "|    2013|       5|  1227|       P|     Williams|  Jumaane|     D|        J|     8|       F|  null|      null|R0001858| 3/11/2011| 3/11/2011|       1-800 Flowers|  CORP|      Y| null|   null|     null|   Ridgewood|   NY|11385|   Unknown|212.29|    OTHER|Other: explntion| Bereavement Flowers|    null|     N|      N|\n",
            "|    2013|       1|    ED|      NP| Carrion, Jr.|   Adolfo|  null|        L|     8|       F|  null|      null|R0006052| 4/25/2013| 4/25/2013|       1-800-Flowers|  CORP|      Y| null|   null|     null| Carle Place|   NY|11514|   Unknown| 83.83|    OTHER|Other: explntion|     Funeral-flowers|    null|     N|      N|\n",
            "|    2013|       4|   805|       P|       Lappin|  Jessica|     S|        J|    12|       F|  null|      null|R0006631| 9/12/2013| 9/16/2013|      1-800-GOT-JUNK|  CORP|      Y| null|   null|     null|    New York|   NY|10001|   Unknown| 977.7|    OFFCE| Office Expenses|            Cleanout|    null|     N|      N|\n",
            "|    2013|       4|   399|       P|       Brewer|     Gale|     A|        M|    12|       F|  null|      null|R0004408| 9/13/2013| 9/13/2013|     1-800-GOT-JUNK?|  CORP|      Y| null|   null|     null|    New York|   NY|10001|   Unknown|977.64|    OFFCE| Office Expenses| Removal-paper, etc.|    null|     N|      N|\n",
            "|    2013|       5|  1547|       P|    Barksdale|   Alicia|     D|        H|     7|       F|  null|      null|R0000291|  2/7/2013|  2/7/2013|      1-800-Printing|  CORP|      Y| null|   null|     null|    Brooklyn|   NY|11218|   Unknown|848.14|    LITER|     Campgn Lit.|            printing|    null|     N|      N|\n",
            "+--------+--------+------+--------+-------------+---------+------+---------+------+--------+------+----------+--------+----------+----------+--------------------+------+-------+-----+-------+---------+------------+-----+-----+----------+------+---------+----------------+--------------------+--------+------+-------+\n",
            "only showing top 20 rows\n",
            "\n"
          ]
        }
      ]
    },
    {
      "cell_type": "code",
      "metadata": {
        "colab": {
          "base_uri": "https://localhost:8080/"
        },
        "id": "PauL98XATuOi",
        "outputId": "c292e89c-128f-4937-e016-b122a02bd5ea"
      },
      "source": [
        "df.columns"
      ],
      "execution_count": 5,
      "outputs": [
        {
          "output_type": "execute_result",
          "data": {
            "text/plain": [
              "['ELECTION',\n",
              " 'OFFICECD',\n",
              " 'CANDID',\n",
              " 'CANCLASS',\n",
              " 'CANDLAST',\n",
              " 'CANDFIRST',\n",
              " 'CANDMI',\n",
              " 'COMMITTEE',\n",
              " 'FILING',\n",
              " 'SCHEDULE',\n",
              " 'PAGENO',\n",
              " 'SEQUENCENO',\n",
              " 'REFNO',\n",
              " 'INV_DATE',\n",
              " 'DATE',\n",
              " 'NAME',\n",
              " 'C_CODE',\n",
              " 'ORG_IND',\n",
              " 'STRNO',\n",
              " 'STRNAME',\n",
              " 'APARTMENT',\n",
              " 'CITY',\n",
              " 'STATE',\n",
              " 'ZIP',\n",
              " 'PAY_METHOD',\n",
              " 'AMNT',\n",
              " 'PURPOSECD',\n",
              " 'PURPOSE',\n",
              " 'EXPLAIN',\n",
              " 'EXEMPTCD',\n",
              " 'RR_IND',\n",
              " 'SEG_IND']"
            ]
          },
          "metadata": {},
          "execution_count": 5
        }
      ]
    },
    {
      "cell_type": "code",
      "metadata": {
        "colab": {
          "base_uri": "https://localhost:8080/"
        },
        "id": "e2cRNc4wNFgt",
        "outputId": "40858f6d-8ae7-4f60-926e-16306e42818c"
      },
      "source": [
        "# Remove multiple columns\n",
        "list = ['CANDMI','COMMITTEE',\n",
        " 'FILING',\n",
        " 'SCHEDULE',\n",
        " 'PAGENO',\n",
        " 'SEQUENCENO',\n",
        " 'REFNO',\n",
        " 'INV_DATE',\n",
        " 'DATE',\n",
        " 'NAME',\n",
        " 'ORG_IND',\n",
        " 'STRNO',\n",
        " 'STRNAME',\n",
        " 'APARTMENT',\n",
        "  'EXPLAIN',\n",
        " 'EXEMPTCD',\n",
        " 'RR_IND',\n",
        " 'SEG_IND',\n",
        " 'PAY_METHOD'] \n",
        "df = df.drop(*list)\n",
        "df.show()"
      ],
      "execution_count": 6,
      "outputs": [
        {
          "output_type": "stream",
          "name": "stdout",
          "text": [
            "+--------+--------+------+--------+-------------+---------+------+------------+-----+-----+------+---------+----------------+\n",
            "|ELECTION|OFFICECD|CANDID|CANCLASS|     CANDLAST|CANDFIRST|C_CODE|        CITY|STATE|  ZIP|  AMNT|PURPOSECD|         PURPOSE|\n",
            "+--------+--------+------+--------+-------------+---------+------+------------+-----+-----+------+---------+----------------+\n",
            "|    2013|       5|  1722|       P|     Similien|     Jean|  null|        null| null| null| 114.9|    OFFCE| Office Expenses|\n",
            "|    2013|       5|   716|       P|         King|   Erlene|  CORP|    Brooklyn|   NY|11210|     4|    OFFCE| Office Expenses|\n",
            "|    2013|       1|  1752|       P| Laurel-Smith|  Abiodun|  CORP|    New York|   NY|10001| 54.43|    OFFCE| Office Expenses|\n",
            "|    2013|       5|   353|       P|    Rodriguez|   Ydanis|  CORP|CHESTERBROOK|   PA|19087| 20.97|    OTHER|Other: explntion|\n",
            "|    2013|       5|   353|       P|    Rodriguez|   Ydanis|  CORP|CHESTERBROOK|   PA|19087| 29.45|    OTHER|Other: explntion|\n",
            "|    2013|       5|   353|       P|    Rodriguez|   Ydanis|  CORP|CHESTERBROOK|   PA|19087| 10.47|    LITER|     Campgn Lit.|\n",
            "|    2013|       5|   353|       P|    Rodriguez|   Ydanis|  CORP|CHESTERBROOK|   PA|19087| 10.47|    OTHER|Other: explntion|\n",
            "|    2013|       5|   353|       P|    Rodriguez|   Ydanis|  CORP|CHESTERBROOK|   PA|19087| 26.45|    PROFL|    Prof. Srvcs.|\n",
            "|    2013|       5|   353|       P|    Rodriguez|   Ydanis|  CORP|CHESTERBROOK|   PA|19087| 40.95|    PROFL|    Prof. Srvcs.|\n",
            "|    2013|       5|   353|       P|    Rodriguez|   Ydanis|  CORP|CHESTERBROOK|   PA|19087| 20.97|    CONSL| Campgn Consuls.|\n",
            "|    2013|       5|   353|       P|    Rodriguez|   Ydanis|  CORP|CHESTERBROOK|   PA|19087| 50.95|    OTHER|Other: explntion|\n",
            "|    2013|       5|   353|       P|    Rodriguez|   Ydanis|  CORP|CHESTERBROOK|   PA|19087| 50.95|    OTHER|Other: explntion|\n",
            "|    2013|       1|   260|       P|Thompson, Jr.|  William|  CORP|    New York|   NY|10019|  19.8|    OTHER|Other: explntion|\n",
            "|    2013|       5|    M2|       P|        Pabon|    Julio|  OTHR| Schweinfurt|   UK| null|    82|    LITER|     Campgn Lit.|\n",
            "|    2013|       5|  1204|       P|        Levin|  Stephen|  CORP| Carle Place|   NY|11514| 59.86|    OTHER|Other: explntion|\n",
            "|    2013|       5|  1227|       P|     Williams|  Jumaane|  CORP|   Ridgewood|   NY|11385|212.29|    OTHER|Other: explntion|\n",
            "|    2013|       1|    ED|      NP| Carrion, Jr.|   Adolfo|  CORP| Carle Place|   NY|11514| 83.83|    OTHER|Other: explntion|\n",
            "|    2013|       4|   805|       P|       Lappin|  Jessica|  CORP|    New York|   NY|10001| 977.7|    OFFCE| Office Expenses|\n",
            "|    2013|       4|   399|       P|       Brewer|     Gale|  CORP|    New York|   NY|10001|977.64|    OFFCE| Office Expenses|\n",
            "|    2013|       5|  1547|       P|    Barksdale|   Alicia|  CORP|    Brooklyn|   NY|11218|848.14|    LITER|     Campgn Lit.|\n",
            "+--------+--------+------+--------+-------------+---------+------+------------+-----+-----+------+---------+----------------+\n",
            "only showing top 20 rows\n",
            "\n"
          ]
        }
      ]
    },
    {
      "cell_type": "code",
      "metadata": {
        "id": "jQjgDTZeqqf1",
        "colab": {
          "base_uri": "https://localhost:8080/"
        },
        "outputId": "217761a6-6366-4037-9f42-89af63f757d7"
      },
      "source": [
        "#Combine the Candidate first and last name columns\n",
        "from pyspark.sql.functions import concat_ws\n",
        "df2 = df.withColumn(\"CandidateName\", concat_ws(\",\",\"CANDFIRST\",'CANDLAST'))\n",
        "df2.show()"
      ],
      "execution_count": 7,
      "outputs": [
        {
          "output_type": "stream",
          "name": "stdout",
          "text": [
            "+--------+--------+------+--------+-------------+---------+------+------------+-----+-----+------+---------+----------------+--------------------+\n",
            "|ELECTION|OFFICECD|CANDID|CANCLASS|     CANDLAST|CANDFIRST|C_CODE|        CITY|STATE|  ZIP|  AMNT|PURPOSECD|         PURPOSE|       CandidateName|\n",
            "+--------+--------+------+--------+-------------+---------+------+------------+-----+-----+------+---------+----------------+--------------------+\n",
            "|    2013|       5|  1722|       P|     Similien|     Jean|  null|        null| null| null| 114.9|    OFFCE| Office Expenses|       Jean,Similien|\n",
            "|    2013|       5|   716|       P|         King|   Erlene|  CORP|    Brooklyn|   NY|11210|     4|    OFFCE| Office Expenses|         Erlene,King|\n",
            "|    2013|       1|  1752|       P| Laurel-Smith|  Abiodun|  CORP|    New York|   NY|10001| 54.43|    OFFCE| Office Expenses|Abiodun,Laurel-Smith|\n",
            "|    2013|       5|   353|       P|    Rodriguez|   Ydanis|  CORP|CHESTERBROOK|   PA|19087| 20.97|    OTHER|Other: explntion|    Ydanis,Rodriguez|\n",
            "|    2013|       5|   353|       P|    Rodriguez|   Ydanis|  CORP|CHESTERBROOK|   PA|19087| 29.45|    OTHER|Other: explntion|    Ydanis,Rodriguez|\n",
            "|    2013|       5|   353|       P|    Rodriguez|   Ydanis|  CORP|CHESTERBROOK|   PA|19087| 10.47|    LITER|     Campgn Lit.|    Ydanis,Rodriguez|\n",
            "|    2013|       5|   353|       P|    Rodriguez|   Ydanis|  CORP|CHESTERBROOK|   PA|19087| 10.47|    OTHER|Other: explntion|    Ydanis,Rodriguez|\n",
            "|    2013|       5|   353|       P|    Rodriguez|   Ydanis|  CORP|CHESTERBROOK|   PA|19087| 26.45|    PROFL|    Prof. Srvcs.|    Ydanis,Rodriguez|\n",
            "|    2013|       5|   353|       P|    Rodriguez|   Ydanis|  CORP|CHESTERBROOK|   PA|19087| 40.95|    PROFL|    Prof. Srvcs.|    Ydanis,Rodriguez|\n",
            "|    2013|       5|   353|       P|    Rodriguez|   Ydanis|  CORP|CHESTERBROOK|   PA|19087| 20.97|    CONSL| Campgn Consuls.|    Ydanis,Rodriguez|\n",
            "|    2013|       5|   353|       P|    Rodriguez|   Ydanis|  CORP|CHESTERBROOK|   PA|19087| 50.95|    OTHER|Other: explntion|    Ydanis,Rodriguez|\n",
            "|    2013|       5|   353|       P|    Rodriguez|   Ydanis|  CORP|CHESTERBROOK|   PA|19087| 50.95|    OTHER|Other: explntion|    Ydanis,Rodriguez|\n",
            "|    2013|       1|   260|       P|Thompson, Jr.|  William|  CORP|    New York|   NY|10019|  19.8|    OTHER|Other: explntion|William,Thompson,...|\n",
            "|    2013|       5|    M2|       P|        Pabon|    Julio|  OTHR| Schweinfurt|   UK| null|    82|    LITER|     Campgn Lit.|         Julio,Pabon|\n",
            "|    2013|       5|  1204|       P|        Levin|  Stephen|  CORP| Carle Place|   NY|11514| 59.86|    OTHER|Other: explntion|       Stephen,Levin|\n",
            "|    2013|       5|  1227|       P|     Williams|  Jumaane|  CORP|   Ridgewood|   NY|11385|212.29|    OTHER|Other: explntion|    Jumaane,Williams|\n",
            "|    2013|       1|    ED|      NP| Carrion, Jr.|   Adolfo|  CORP| Carle Place|   NY|11514| 83.83|    OTHER|Other: explntion| Adolfo,Carrion, Jr.|\n",
            "|    2013|       4|   805|       P|       Lappin|  Jessica|  CORP|    New York|   NY|10001| 977.7|    OFFCE| Office Expenses|      Jessica,Lappin|\n",
            "|    2013|       4|   399|       P|       Brewer|     Gale|  CORP|    New York|   NY|10001|977.64|    OFFCE| Office Expenses|         Gale,Brewer|\n",
            "|    2013|       5|  1547|       P|    Barksdale|   Alicia|  CORP|    Brooklyn|   NY|11218|848.14|    LITER|     Campgn Lit.|    Alicia,Barksdale|\n",
            "+--------+--------+------+--------+-------------+---------+------+------------+-----+-----+------+---------+----------------+--------------------+\n",
            "only showing top 20 rows\n",
            "\n"
          ]
        }
      ]
    },
    {
      "cell_type": "code",
      "metadata": {
        "id": "qGVZ3I4hz1x6"
      },
      "source": [
        "#Rearrange column order\n",
        "df3=df2.select('ELECTION','OFFICECD', 'CANDID', 'CANCLASS', 'CandidateName', 'CANDLAST', 'CANDFIRST','C_CODE', 'CITY', 'STATE',  'ZIP', 'AMNT', 'PURPOSECD', 'PURPOSE')"
      ],
      "execution_count": 8,
      "outputs": []
    },
    {
      "cell_type": "code",
      "metadata": {
        "colab": {
          "base_uri": "https://localhost:8080/"
        },
        "id": "LAcxTotHz2t-",
        "outputId": "72689057-3bf4-48af-ae85-6bcf30302f93"
      },
      "source": [
        "#Drop OFFICECD and CANCLASS\n",
        "list1 = ['CANDLAST', 'CANDFIRST'] \n",
        "df4 = df3.drop(*list1)\n",
        "df4.show()"
      ],
      "execution_count": 9,
      "outputs": [
        {
          "output_type": "stream",
          "name": "stdout",
          "text": [
            "+--------+--------+------+--------+--------------------+------+------------+-----+-----+------+---------+----------------+\n",
            "|ELECTION|OFFICECD|CANDID|CANCLASS|       CandidateName|C_CODE|        CITY|STATE|  ZIP|  AMNT|PURPOSECD|         PURPOSE|\n",
            "+--------+--------+------+--------+--------------------+------+------------+-----+-----+------+---------+----------------+\n",
            "|    2013|       5|  1722|       P|       Jean,Similien|  null|        null| null| null| 114.9|    OFFCE| Office Expenses|\n",
            "|    2013|       5|   716|       P|         Erlene,King|  CORP|    Brooklyn|   NY|11210|     4|    OFFCE| Office Expenses|\n",
            "|    2013|       1|  1752|       P|Abiodun,Laurel-Smith|  CORP|    New York|   NY|10001| 54.43|    OFFCE| Office Expenses|\n",
            "|    2013|       5|   353|       P|    Ydanis,Rodriguez|  CORP|CHESTERBROOK|   PA|19087| 20.97|    OTHER|Other: explntion|\n",
            "|    2013|       5|   353|       P|    Ydanis,Rodriguez|  CORP|CHESTERBROOK|   PA|19087| 29.45|    OTHER|Other: explntion|\n",
            "|    2013|       5|   353|       P|    Ydanis,Rodriguez|  CORP|CHESTERBROOK|   PA|19087| 10.47|    LITER|     Campgn Lit.|\n",
            "|    2013|       5|   353|       P|    Ydanis,Rodriguez|  CORP|CHESTERBROOK|   PA|19087| 10.47|    OTHER|Other: explntion|\n",
            "|    2013|       5|   353|       P|    Ydanis,Rodriguez|  CORP|CHESTERBROOK|   PA|19087| 26.45|    PROFL|    Prof. Srvcs.|\n",
            "|    2013|       5|   353|       P|    Ydanis,Rodriguez|  CORP|CHESTERBROOK|   PA|19087| 40.95|    PROFL|    Prof. Srvcs.|\n",
            "|    2013|       5|   353|       P|    Ydanis,Rodriguez|  CORP|CHESTERBROOK|   PA|19087| 20.97|    CONSL| Campgn Consuls.|\n",
            "|    2013|       5|   353|       P|    Ydanis,Rodriguez|  CORP|CHESTERBROOK|   PA|19087| 50.95|    OTHER|Other: explntion|\n",
            "|    2013|       5|   353|       P|    Ydanis,Rodriguez|  CORP|CHESTERBROOK|   PA|19087| 50.95|    OTHER|Other: explntion|\n",
            "|    2013|       1|   260|       P|William,Thompson,...|  CORP|    New York|   NY|10019|  19.8|    OTHER|Other: explntion|\n",
            "|    2013|       5|    M2|       P|         Julio,Pabon|  OTHR| Schweinfurt|   UK| null|    82|    LITER|     Campgn Lit.|\n",
            "|    2013|       5|  1204|       P|       Stephen,Levin|  CORP| Carle Place|   NY|11514| 59.86|    OTHER|Other: explntion|\n",
            "|    2013|       5|  1227|       P|    Jumaane,Williams|  CORP|   Ridgewood|   NY|11385|212.29|    OTHER|Other: explntion|\n",
            "|    2013|       1|    ED|      NP| Adolfo,Carrion, Jr.|  CORP| Carle Place|   NY|11514| 83.83|    OTHER|Other: explntion|\n",
            "|    2013|       4|   805|       P|      Jessica,Lappin|  CORP|    New York|   NY|10001| 977.7|    OFFCE| Office Expenses|\n",
            "|    2013|       4|   399|       P|         Gale,Brewer|  CORP|    New York|   NY|10001|977.64|    OFFCE| Office Expenses|\n",
            "|    2013|       5|  1547|       P|    Alicia,Barksdale|  CORP|    Brooklyn|   NY|11218|848.14|    LITER|     Campgn Lit.|\n",
            "+--------+--------+------+--------+--------------------+------+------------+-----+-----+------+---------+----------------+\n",
            "only showing top 20 rows\n",
            "\n"
          ]
        }
      ]
    },
    {
      "cell_type": "code",
      "metadata": {
        "colab": {
          "base_uri": "https://localhost:8080/"
        },
        "id": "g5aiRN5RNFjB",
        "outputId": "c3ba034f-03fb-4f2c-9a79-6bb78d3fb54e"
      },
      "source": [
        "# check data types\n",
        "df4.dtypes"
      ],
      "execution_count": 10,
      "outputs": [
        {
          "output_type": "execute_result",
          "data": {
            "text/plain": [
              "[('ELECTION', 'string'),\n",
              " ('OFFICECD', 'string'),\n",
              " ('CANDID', 'string'),\n",
              " ('CANCLASS', 'string'),\n",
              " ('CandidateName', 'string'),\n",
              " ('C_CODE', 'string'),\n",
              " ('CITY', 'string'),\n",
              " ('STATE', 'string'),\n",
              " ('ZIP', 'string'),\n",
              " ('AMNT', 'string'),\n",
              " ('PURPOSECD', 'string'),\n",
              " ('PURPOSE', 'string')]"
            ]
          },
          "metadata": {},
          "execution_count": 10
        }
      ]
    },
    {
      "cell_type": "code",
      "metadata": {
        "colab": {
          "base_uri": "https://localhost:8080/"
        },
        "id": "sA6AAG4zYxSL",
        "outputId": "5b187d91-88c1-48db-eace-7db00dc10758"
      },
      "source": [
        "df4.columns"
      ],
      "execution_count": 11,
      "outputs": [
        {
          "output_type": "execute_result",
          "data": {
            "text/plain": [
              "['ELECTION',\n",
              " 'OFFICECD',\n",
              " 'CANDID',\n",
              " 'CANCLASS',\n",
              " 'CandidateName',\n",
              " 'C_CODE',\n",
              " 'CITY',\n",
              " 'STATE',\n",
              " 'ZIP',\n",
              " 'AMNT',\n",
              " 'PURPOSECD',\n",
              " 'PURPOSE']"
            ]
          },
          "metadata": {},
          "execution_count": 11
        }
      ]
    },
    {
      "cell_type": "code",
      "metadata": {
        "colab": {
          "base_uri": "https://localhost:8080/"
        },
        "id": "tIkq3wdqOzWV",
        "outputId": "8e75d231-783e-420b-92b9-944aca336240"
      },
      "source": [
        "#Change column names\n",
        "df5 = df4 \\\n",
        ".withColumnRenamed(\"ELECTION\", \"Election\") \\\n",
        ".withColumnRenamed(\"CANDID\", \"CandidateID\") \\\n",
        ".withColumnRenamed(\"C_CODE\", \"ContributionType\") \\\n",
        ".withColumnRenamed(\"CITY\", \"City\") \\\n",
        ".withColumnRenamed(\"STATE\", \"State\") \\\n",
        ".withColumnRenamed(\"ZIP\", \"ZipCode\") \\\n",
        ".withColumnRenamed(\"AMNT\", \"Amount\") \\\n",
        ".withColumnRenamed(\"PURPOSECD\", \"PurposeCode\") \\\n",
        ".withColumnRenamed(\"PURPOSE\", \"Purpose\") \n",
        "\n",
        "df5.printSchema()"
      ],
      "execution_count": 12,
      "outputs": [
        {
          "output_type": "stream",
          "name": "stdout",
          "text": [
            "root\n",
            " |-- Election: string (nullable = true)\n",
            " |-- OFFICECD: string (nullable = true)\n",
            " |-- CandidateID: string (nullable = true)\n",
            " |-- CANCLASS: string (nullable = true)\n",
            " |-- CandidateName: string (nullable = false)\n",
            " |-- ContributionType: string (nullable = true)\n",
            " |-- City: string (nullable = true)\n",
            " |-- State: string (nullable = true)\n",
            " |-- ZipCode: string (nullable = true)\n",
            " |-- Amount: string (nullable = true)\n",
            " |-- PurposeCode: string (nullable = true)\n",
            " |-- Purpose: string (nullable = true)\n",
            "\n"
          ]
        }
      ]
    },
    {
      "cell_type": "code",
      "metadata": {
        "colab": {
          "base_uri": "https://localhost:8080/"
        },
        "id": "SyWn9dANSi5l",
        "outputId": "2d779d56-94a3-479c-e40d-0a22bd814472"
      },
      "source": [
        "# changing datatypes of columns\n",
        "df6 = df5 \\\n",
        "  .withColumn(\"Election\",df5[\"Election\"].cast(\"Integer\")) \\\n",
        "  .withColumn(\"OFFICECD\", df5[\"OFFICECD\"].cast(\"Integer\")) \\\n",
        "  .withColumn(\"CandidateID\", df5[\"CandidateID\"].cast(\"Integer\")) \\\n",
        "  .withColumn(\"ZipCode\", df5[\"ZipCode\"].cast(\"Integer\")) \\\n",
        "  .withColumn(\"Amount\", df5[\"Amount\"].cast(\"Float\")) \\\n",
        "  \n",
        "df6.printSchema()"
      ],
      "execution_count": 13,
      "outputs": [
        {
          "output_type": "stream",
          "name": "stdout",
          "text": [
            "root\n",
            " |-- Election: integer (nullable = true)\n",
            " |-- OFFICECD: integer (nullable = true)\n",
            " |-- CandidateID: integer (nullable = true)\n",
            " |-- CANCLASS: string (nullable = true)\n",
            " |-- CandidateName: string (nullable = false)\n",
            " |-- ContributionType: string (nullable = true)\n",
            " |-- City: string (nullable = true)\n",
            " |-- State: string (nullable = true)\n",
            " |-- ZipCode: integer (nullable = true)\n",
            " |-- Amount: float (nullable = true)\n",
            " |-- PurposeCode: string (nullable = true)\n",
            " |-- Purpose: string (nullable = true)\n",
            "\n"
          ]
        }
      ]
    },
    {
      "cell_type": "code",
      "metadata": {
        "id": "h1aCPuV3WPwC"
      },
      "source": [
        "#Change vaule name in ContributerType\n",
        "from pyspark.sql.functions import regexp_replace\n",
        "df7 = df6.withColumn(\"ContributionType\", regexp_replace(\"ContributionType\", 'CAN', 'Candidate')) \\\n",
        "  .withColumn('ContributionType', regexp_replace(\"ContributionType\", 'CORP', 'Corporation')) \\\n",
        "  .withColumn('ContributionType', regexp_replace(\"ContributionType\", 'EMPO', 'Labor Union')) \\\n",
        "  .withColumn(\"ContributionType\", regexp_replace(\"ContributionType\", 'FAM', 'Candidate Family')) \\\n",
        "  .withColumn(\"ContributionType\", regexp_replace(\"ContributionType\", 'IND', 'Individual')) \\\n",
        "  .withColumn(\"ContributionType\", regexp_replace(\"ContributionType\", 'PCOMZ', 'Party Committee')) \\\n",
        "  .withColumn(\"ContributionType\", regexp_replace(\"ContributionType\", 'ORG', 'Orgainization')) \\\n",
        "  .withColumn(\"ContributionType\", regexp_replace(\"ContributionType\", 'LLC', 'Limited Liability Company')) \\\n",
        "  .withColumn(\"ContributionType\", regexp_replace(\"ContributionType\", 'PCOMP', 'Political Action Committee')) \\\n",
        "  .withColumn(\"ContributionType\", regexp_replace(\"ContributionType\", 'SPO', ' Candidates Spouse')) \\\n",
        "  .withColumn(\"ContributionType\", regexp_replace(\"ContributionType\", 'OTHR', 'Other')) \\\n",
        "  .withColumn(\"ContributionType\", regexp_replace(\"ContributionType\", 'PCOMC', 'Candidate Committee')) \\\n",
        "  .withColumn(\"ContributionType\", regexp_replace(\"ContributionType\", 'PART', 'Individual')) \\\n"
      ],
      "execution_count": 14,
      "outputs": []
    },
    {
      "cell_type": "code",
      "metadata": {
        "id": "fy4JAvyQWRl7"
      },
      "source": [
        "#Change Purpose Code value names\n",
        "from pyspark.sql.functions import regexp_replace\n",
        "df8 = df7.withColumn('PurposeCode', regexp_replace('PurposeCode', 'ADVAN', 'Advance Repayment')) \\\n",
        "  .withColumn('PurposeCode', regexp_replace('PurposeCode', 'CMAIL', 'Campaign Mail')) \\\n",
        "  .withColumn('PurposeCode', regexp_replace('PurposeCode', 'CMISC', 'Miscellaneous')) \\\n",
        "  .withColumn('PurposeCode', regexp_replace('PurposeCode', 'CNTRB', 'Political Contributions')) \\\n",
        "  .withColumn('PurposeCode', regexp_replace('PurposeCode', 'COMPL', 'Compliance Cost')) \\\n",
        "  .withColumn('PurposeCode', regexp_replace('PurposeCode', 'CONSL', 'Campaign Consultants')) \\\n",
        "  .withColumn('PurposeCode', regexp_replace('PurposeCode', 'CONSV', 'Constituent Services')) \\\n",
        "  .withColumn('PurposeCode', regexp_replace('PurposeCode', 'FUNDR', 'Fundraising')) \\\n",
        "  .withColumn('PurposeCode', regexp_replace('PurposeCode', 'INTER', 'Interest Expenses')) \\\n",
        "  .withColumn('PurposeCode', regexp_replace('PurposeCode', 'LITER', 'Campaign Literature')) \\\n",
        "  .withColumn('PurposeCode', regexp_replace('PurposeCode', 'NQUAL', 'Non Qualified Expenditures')) \\\n",
        "  .withColumn('PurposeCode', regexp_replace('PurposeCode', 'OFFCE', 'Office Expenses')) \\\n",
        "  .withColumn('PurposeCode', regexp_replace('PurposeCode', 'OTHER', 'Other')) \\\n",
        "  .withColumn('PurposeCode', regexp_replace('PurposeCode', 'PETIT', 'Petition Expenses')) \\\n",
        "  .withColumn('PurposeCode', regexp_replace('PurposeCode', 'POLLS', 'Polling Costs')) \\\n",
        "  .withColumn('PurposeCode', regexp_replace('PurposeCode', 'POSTA', 'Postal Expenses')) \\\n",
        "  .withColumn('PurposeCode', regexp_replace('PurposeCode', 'PRINT', 'Printing Expenses')) \\\n",
        "  .withColumn('PurposeCode', regexp_replace('PurposeCode', 'PROFL', 'Professional Services')) \\\n",
        "  .withColumn('PurposeCode', regexp_replace('PurposeCode', 'RADIO', 'Radio Ads')) \\\n",
        "  .withColumn('PurposeCode', regexp_replace('PurposeCode', 'RENTO', 'Office Rent')) \\\n",
        "  .withColumn('PurposeCode', regexp_replace('PurposeCode', 'TVADS', 'Television Ads')) \\\n",
        "  .withColumn('PurposeCode', regexp_replace('PurposeCode', 'UNKN', 'Unknown')) \\\n",
        "  .withColumn('PurposeCode', regexp_replace('PurposeCode', 'VOTER', 'Voter Registration')) \\\n",
        "  .withColumn('PurposeCode', regexp_replace('PurposeCode', 'WAGES', 'Campaign Workers Salaries')) \\"
      ],
      "execution_count": 15,
      "outputs": []
    },
    {
      "cell_type": "code",
      "metadata": {
        "id": "fM_kC3ViNFqN",
        "colab": {
          "base_uri": "https://localhost:8080/"
        },
        "outputId": "3fdf5861-caf2-431f-e310-6d1c558d0453"
      },
      "source": [
        "#Call only Mayor (1) and particaptes (P) within Dataframe\n",
        "df9 = df8.filter((df6.OFFICECD==\"1\") & (df8.CANCLASS==\"P\"))\n",
        "df9.show()"
      ],
      "execution_count": 16,
      "outputs": [
        {
          "output_type": "stream",
          "name": "stdout",
          "text": [
            "+--------+--------+-----------+--------+--------------------+--------------------+--------+-----+-------+--------+--------------------+----------------+\n",
            "|Election|OFFICECD|CandidateID|CANCLASS|       CandidateName|    ContributionType|    City|State|ZipCode|  Amount|         PurposeCode|         Purpose|\n",
            "+--------+--------+-----------+--------+--------------------+--------------------+--------+-----+-------+--------+--------------------+----------------+\n",
            "|    2013|       1|       1752|       P|Abiodun,Laurel-Smith|         Corporation|New York|   NY|  10001|   54.43|     Office Expenses| Office Expenses|\n",
            "|    2013|       1|        260|       P|William,Thompson,...|         Corporation|New York|   NY|  10019|    19.8|               Other|Other: explntion|\n",
            "|    2013|       1|       null|       P|            John,Liu|Limited Liability...|Flushing|   NY|  11355|   110.0|     Office Expenses| Office Expenses|\n",
            "|    2013|       1|       null|       P|            John,Liu|Limited Liability...|Flushing|   NY|  11355|   250.0|         Fundraising|     Fundraising|\n",
            "|    2013|       1|        260|       P|William,Thompson,...|Limited Liability...|New York|   NY|  10018|   57.01|               Other|Other: explntion|\n",
            "|    2013|       1|        260|       P|William,Thompson,...|Limited Liability...|New York|   NY|  10018|    39.0|               Other|Other: explntion|\n",
            "|    2013|       1|        260|       P|William,Thompson,...|Limited Liability...|New York|   NY|  10018|    64.0|               Other|Other: explntion|\n",
            "|    2013|       1|        260|       P|William,Thompson,...|Limited Liability...|New York|   NY|  10018|   93.02|               Other|Other: explntion|\n",
            "|    2013|       1|        260|       P|William,Thompson,...|Limited Liability...|New York|   NY|  10018|    79.0|               Other|Other: explntion|\n",
            "|    2013|       1|        260|       P|William,Thompson,...|Limited Liability...|New York|   NY|  10018|  512.04|               Other|Other: explntion|\n",
            "|    2013|       1|        260|       P|William,Thompson,...|         Corporation|New York|   NY|  10026|    46.0|               Other|Other: explntion|\n",
            "|    2013|       1|        260|       P|William,Thompson,...|         Corporation|New York|   NY|  10026|   88.72|               Other|Other: explntion|\n",
            "|    2013|       1|        260|       P|William,Thompson,...|         Corporation|New York|   NY|  10036|    22.0|               Other|Other: explntion|\n",
            "|    2013|       1|        326|       P|      Bill,de Blasio|Political Action ...|New York|   NY|  10036|19084.25|               Other|Other: explntion|\n",
            "|    2013|       1|        326|       P|      Bill,de Blasio|Political Action ...|New York|   NY|  10036|  168.31|Campaign Workers ...| Campgn Wrkrs $$|\n",
            "|    2013|       1|        326|       P|      Bill,de Blasio|Political Action ...|New York|   NY|  10036|    60.0|Professional Serv...|    Prof. Srvcs.|\n",
            "|    2013|       1|       null|       P|        Sal,Albanese|         Corporation|    null| null|   null|  122.39|     Office Expenses| Office Expenses|\n",
            "|    2013|       1|       null|       P|        Sal,Albanese|         Corporation|    null| null|   null|    20.0|Professional Serv...|    Prof. Srvcs.|\n",
            "|    2013|       1|        260|       P|William,Thompson,...|         Corporation|New York|   NY|  10019|    22.0|               Other|Other: explntion|\n",
            "|    2013|       1|        260|       P|William,Thompson,...|         Corporation|New York|   NY|  10019|    34.0|               Other|Other: explntion|\n",
            "+--------+--------+-----------+--------+--------------------+--------------------+--------+-----+-------+--------+--------------------+----------------+\n",
            "only showing top 20 rows\n",
            "\n"
          ]
        }
      ]
    },
    {
      "cell_type": "code",
      "metadata": {
        "id": "WmdLbDEzQAyc",
        "colab": {
          "base_uri": "https://localhost:8080/"
        },
        "outputId": "ea625452-93a7-4b79-91a7-05fcae565dd1"
      },
      "source": [
        "#Check the above dataframe to make sure only unique values between the OFFICECD is 1 \n",
        "df9.select('OFFICECD').distinct().show()"
      ],
      "execution_count": 17,
      "outputs": [
        {
          "output_type": "stream",
          "name": "stdout",
          "text": [
            "+--------+\n",
            "|OFFICECD|\n",
            "+--------+\n",
            "|       1|\n",
            "+--------+\n",
            "\n"
          ]
        }
      ]
    },
    {
      "cell_type": "code",
      "metadata": {
        "id": "4kbDs5ApZtEu",
        "colab": {
          "base_uri": "https://localhost:8080/"
        },
        "outputId": "8f3cd9ec-3293-4f24-e742-adb7faf9078b"
      },
      "source": [
        "#Drop OFFICECD and CANCLASS\n",
        "list2 = ['OFFICECD', 'CANCLASS'] \n",
        "Expenditures_2013_df = df9.drop(*list2)\n",
        "Expenditures_2013_df.show()"
      ],
      "execution_count": 18,
      "outputs": [
        {
          "output_type": "stream",
          "name": "stdout",
          "text": [
            "+--------+-----------+--------------------+--------------------+--------+-----+-------+--------+--------------------+----------------+\n",
            "|Election|CandidateID|       CandidateName|    ContributionType|    City|State|ZipCode|  Amount|         PurposeCode|         Purpose|\n",
            "+--------+-----------+--------------------+--------------------+--------+-----+-------+--------+--------------------+----------------+\n",
            "|    2013|       1752|Abiodun,Laurel-Smith|         Corporation|New York|   NY|  10001|   54.43|     Office Expenses| Office Expenses|\n",
            "|    2013|        260|William,Thompson,...|         Corporation|New York|   NY|  10019|    19.8|               Other|Other: explntion|\n",
            "|    2013|       null|            John,Liu|Limited Liability...|Flushing|   NY|  11355|   110.0|     Office Expenses| Office Expenses|\n",
            "|    2013|       null|            John,Liu|Limited Liability...|Flushing|   NY|  11355|   250.0|         Fundraising|     Fundraising|\n",
            "|    2013|        260|William,Thompson,...|Limited Liability...|New York|   NY|  10018|   57.01|               Other|Other: explntion|\n",
            "|    2013|        260|William,Thompson,...|Limited Liability...|New York|   NY|  10018|    39.0|               Other|Other: explntion|\n",
            "|    2013|        260|William,Thompson,...|Limited Liability...|New York|   NY|  10018|    64.0|               Other|Other: explntion|\n",
            "|    2013|        260|William,Thompson,...|Limited Liability...|New York|   NY|  10018|   93.02|               Other|Other: explntion|\n",
            "|    2013|        260|William,Thompson,...|Limited Liability...|New York|   NY|  10018|    79.0|               Other|Other: explntion|\n",
            "|    2013|        260|William,Thompson,...|Limited Liability...|New York|   NY|  10018|  512.04|               Other|Other: explntion|\n",
            "|    2013|        260|William,Thompson,...|         Corporation|New York|   NY|  10026|    46.0|               Other|Other: explntion|\n",
            "|    2013|        260|William,Thompson,...|         Corporation|New York|   NY|  10026|   88.72|               Other|Other: explntion|\n",
            "|    2013|        260|William,Thompson,...|         Corporation|New York|   NY|  10036|    22.0|               Other|Other: explntion|\n",
            "|    2013|        326|      Bill,de Blasio|Political Action ...|New York|   NY|  10036|19084.25|               Other|Other: explntion|\n",
            "|    2013|        326|      Bill,de Blasio|Political Action ...|New York|   NY|  10036|  168.31|Campaign Workers ...| Campgn Wrkrs $$|\n",
            "|    2013|        326|      Bill,de Blasio|Political Action ...|New York|   NY|  10036|    60.0|Professional Serv...|    Prof. Srvcs.|\n",
            "|    2013|       null|        Sal,Albanese|         Corporation|    null| null|   null|  122.39|     Office Expenses| Office Expenses|\n",
            "|    2013|       null|        Sal,Albanese|         Corporation|    null| null|   null|    20.0|Professional Serv...|    Prof. Srvcs.|\n",
            "|    2013|        260|William,Thompson,...|         Corporation|New York|   NY|  10019|    22.0|               Other|Other: explntion|\n",
            "|    2013|        260|William,Thompson,...|         Corporation|New York|   NY|  10019|    34.0|               Other|Other: explntion|\n",
            "+--------+-----------+--------------------+--------------------+--------+-----+-------+--------+--------------------+----------------+\n",
            "only showing top 20 rows\n",
            "\n"
          ]
        }
      ]
    },
    {
      "cell_type": "code",
      "metadata": {
        "id": "jKdRMcW-9mtO"
      },
      "source": [
        "#Export to new CSV\n",
        "#Expenditures_2013_df.toPandas().to_csv(\"Clean_Expenditures_2013.csv\", header=True)"
      ],
      "execution_count": 19,
      "outputs": []
    },
    {
      "cell_type": "code",
      "metadata": {
        "id": "0xHPGZ5gcKff"
      },
      "source": [
        "# Store environmental variable\n",
        "from getpass import getpass\n",
        "#Configure settings for RDS\n",
        "mode = \"append\"\n",
        "jdbc_url=\"jdbc:postgresql://database-final.cjdbapst3wjf.us-east-1.rds.amazonaws.com:5432/postgres\"\n",
        "config = {\"user\":\"postgres\",\n",
        "          \"password\": \"88888\",\n",
        "          \"driver\":\"org.postgresql.Driver\"}"
      ],
      "execution_count": 20,
      "outputs": []
    },
    {
      "cell_type": "code",
      "metadata": {
        "id": "7BSEgJlTcLrD",
        "colab": {
          "base_uri": "https://localhost:8080/",
          "height": 1000
        },
        "outputId": "61e17444-773b-4029-a42e-b56b62c03b0b"
      },
      "source": [
        "# Write DataFrame to active_user table in RDS\n",
        "Expenditures_2013_df.write.jdbc(url=jdbc_url, table='expenditures_2013', mode=mode, properties=config)"
      ],
      "execution_count": 21,
      "outputs": [
        {
          "output_type": "error",
          "ename": "Py4JJavaError",
          "evalue": "ignored",
          "traceback": [
            "\u001b[0;31m---------------------------------------------------------------------------\u001b[0m",
            "\u001b[0;31mPy4JJavaError\u001b[0m                             Traceback (most recent call last)",
            "\u001b[0;32m<ipython-input-21-af5dc47db401>\u001b[0m in \u001b[0;36m<module>\u001b[0;34m()\u001b[0m\n\u001b[1;32m      1\u001b[0m \u001b[0;31m# Write DataFrame to active_user table in RDS\u001b[0m\u001b[0;34m\u001b[0m\u001b[0;34m\u001b[0m\u001b[0;34m\u001b[0m\u001b[0m\n\u001b[0;32m----> 2\u001b[0;31m \u001b[0mExpenditures_2013_df\u001b[0m\u001b[0;34m.\u001b[0m\u001b[0mwrite\u001b[0m\u001b[0;34m.\u001b[0m\u001b[0mjdbc\u001b[0m\u001b[0;34m(\u001b[0m\u001b[0murl\u001b[0m\u001b[0;34m=\u001b[0m\u001b[0mjdbc_url\u001b[0m\u001b[0;34m,\u001b[0m \u001b[0mtable\u001b[0m\u001b[0;34m=\u001b[0m\u001b[0;34m'expenditures_2013'\u001b[0m\u001b[0;34m,\u001b[0m \u001b[0mmode\u001b[0m\u001b[0;34m=\u001b[0m\u001b[0mmode\u001b[0m\u001b[0;34m,\u001b[0m \u001b[0mproperties\u001b[0m\u001b[0;34m=\u001b[0m\u001b[0mconfig\u001b[0m\u001b[0;34m)\u001b[0m\u001b[0;34m\u001b[0m\u001b[0;34m\u001b[0m\u001b[0m\n\u001b[0m",
            "\u001b[0;32m/content/spark-3.0.3-bin-hadoop2.7/python/pyspark/sql/readwriter.py\u001b[0m in \u001b[0;36mjdbc\u001b[0;34m(self, url, table, mode, properties)\u001b[0m\n\u001b[1;32m   1083\u001b[0m         \u001b[0;32mfor\u001b[0m \u001b[0mk\u001b[0m \u001b[0;32min\u001b[0m \u001b[0mproperties\u001b[0m\u001b[0;34m:\u001b[0m\u001b[0;34m\u001b[0m\u001b[0;34m\u001b[0m\u001b[0m\n\u001b[1;32m   1084\u001b[0m             \u001b[0mjprop\u001b[0m\u001b[0;34m.\u001b[0m\u001b[0msetProperty\u001b[0m\u001b[0;34m(\u001b[0m\u001b[0mk\u001b[0m\u001b[0;34m,\u001b[0m \u001b[0mproperties\u001b[0m\u001b[0;34m[\u001b[0m\u001b[0mk\u001b[0m\u001b[0;34m]\u001b[0m\u001b[0;34m)\u001b[0m\u001b[0;34m\u001b[0m\u001b[0;34m\u001b[0m\u001b[0m\n\u001b[0;32m-> 1085\u001b[0;31m         \u001b[0mself\u001b[0m\u001b[0;34m.\u001b[0m\u001b[0mmode\u001b[0m\u001b[0;34m(\u001b[0m\u001b[0mmode\u001b[0m\u001b[0;34m)\u001b[0m\u001b[0;34m.\u001b[0m\u001b[0m_jwrite\u001b[0m\u001b[0;34m.\u001b[0m\u001b[0mjdbc\u001b[0m\u001b[0;34m(\u001b[0m\u001b[0murl\u001b[0m\u001b[0;34m,\u001b[0m \u001b[0mtable\u001b[0m\u001b[0;34m,\u001b[0m \u001b[0mjprop\u001b[0m\u001b[0;34m)\u001b[0m\u001b[0;34m\u001b[0m\u001b[0;34m\u001b[0m\u001b[0m\n\u001b[0m\u001b[1;32m   1086\u001b[0m \u001b[0;34m\u001b[0m\u001b[0m\n\u001b[1;32m   1087\u001b[0m \u001b[0;34m\u001b[0m\u001b[0m\n",
            "\u001b[0;32m/content/spark-3.0.3-bin-hadoop2.7/python/lib/py4j-0.10.9-src.zip/py4j/java_gateway.py\u001b[0m in \u001b[0;36m__call__\u001b[0;34m(self, *args)\u001b[0m\n\u001b[1;32m   1303\u001b[0m         \u001b[0manswer\u001b[0m \u001b[0;34m=\u001b[0m \u001b[0mself\u001b[0m\u001b[0;34m.\u001b[0m\u001b[0mgateway_client\u001b[0m\u001b[0;34m.\u001b[0m\u001b[0msend_command\u001b[0m\u001b[0;34m(\u001b[0m\u001b[0mcommand\u001b[0m\u001b[0;34m)\u001b[0m\u001b[0;34m\u001b[0m\u001b[0;34m\u001b[0m\u001b[0m\n\u001b[1;32m   1304\u001b[0m         return_value = get_return_value(\n\u001b[0;32m-> 1305\u001b[0;31m             answer, self.gateway_client, self.target_id, self.name)\n\u001b[0m\u001b[1;32m   1306\u001b[0m \u001b[0;34m\u001b[0m\u001b[0m\n\u001b[1;32m   1307\u001b[0m         \u001b[0;32mfor\u001b[0m \u001b[0mtemp_arg\u001b[0m \u001b[0;32min\u001b[0m \u001b[0mtemp_args\u001b[0m\u001b[0;34m:\u001b[0m\u001b[0;34m\u001b[0m\u001b[0;34m\u001b[0m\u001b[0m\n",
            "\u001b[0;32m/content/spark-3.0.3-bin-hadoop2.7/python/pyspark/sql/utils.py\u001b[0m in \u001b[0;36mdeco\u001b[0;34m(*a, **kw)\u001b[0m\n\u001b[1;32m    126\u001b[0m     \u001b[0;32mdef\u001b[0m \u001b[0mdeco\u001b[0m\u001b[0;34m(\u001b[0m\u001b[0;34m*\u001b[0m\u001b[0ma\u001b[0m\u001b[0;34m,\u001b[0m \u001b[0;34m**\u001b[0m\u001b[0mkw\u001b[0m\u001b[0;34m)\u001b[0m\u001b[0;34m:\u001b[0m\u001b[0;34m\u001b[0m\u001b[0;34m\u001b[0m\u001b[0m\n\u001b[1;32m    127\u001b[0m         \u001b[0;32mtry\u001b[0m\u001b[0;34m:\u001b[0m\u001b[0;34m\u001b[0m\u001b[0;34m\u001b[0m\u001b[0m\n\u001b[0;32m--> 128\u001b[0;31m             \u001b[0;32mreturn\u001b[0m \u001b[0mf\u001b[0m\u001b[0;34m(\u001b[0m\u001b[0;34m*\u001b[0m\u001b[0ma\u001b[0m\u001b[0;34m,\u001b[0m \u001b[0;34m**\u001b[0m\u001b[0mkw\u001b[0m\u001b[0;34m)\u001b[0m\u001b[0;34m\u001b[0m\u001b[0;34m\u001b[0m\u001b[0m\n\u001b[0m\u001b[1;32m    129\u001b[0m         \u001b[0;32mexcept\u001b[0m \u001b[0mpy4j\u001b[0m\u001b[0;34m.\u001b[0m\u001b[0mprotocol\u001b[0m\u001b[0;34m.\u001b[0m\u001b[0mPy4JJavaError\u001b[0m \u001b[0;32mas\u001b[0m \u001b[0me\u001b[0m\u001b[0;34m:\u001b[0m\u001b[0;34m\u001b[0m\u001b[0;34m\u001b[0m\u001b[0m\n\u001b[1;32m    130\u001b[0m             \u001b[0mconverted\u001b[0m \u001b[0;34m=\u001b[0m \u001b[0mconvert_exception\u001b[0m\u001b[0;34m(\u001b[0m\u001b[0me\u001b[0m\u001b[0;34m.\u001b[0m\u001b[0mjava_exception\u001b[0m\u001b[0;34m)\u001b[0m\u001b[0;34m\u001b[0m\u001b[0;34m\u001b[0m\u001b[0m\n",
            "\u001b[0;32m/content/spark-3.0.3-bin-hadoop2.7/python/lib/py4j-0.10.9-src.zip/py4j/protocol.py\u001b[0m in \u001b[0;36mget_return_value\u001b[0;34m(answer, gateway_client, target_id, name)\u001b[0m\n\u001b[1;32m    326\u001b[0m                 raise Py4JJavaError(\n\u001b[1;32m    327\u001b[0m                     \u001b[0;34m\"An error occurred while calling {0}{1}{2}.\\n\"\u001b[0m\u001b[0;34m.\u001b[0m\u001b[0;34m\u001b[0m\u001b[0;34m\u001b[0m\u001b[0m\n\u001b[0;32m--> 328\u001b[0;31m                     format(target_id, \".\", name), value)\n\u001b[0m\u001b[1;32m    329\u001b[0m             \u001b[0;32melse\u001b[0m\u001b[0;34m:\u001b[0m\u001b[0;34m\u001b[0m\u001b[0;34m\u001b[0m\u001b[0m\n\u001b[1;32m    330\u001b[0m                 raise Py4JError(\n",
            "\u001b[0;31mPy4JJavaError\u001b[0m: An error occurred while calling o225.jdbc.\n: java.lang.ClassNotFoundException: org.postgresql.Driver\n\tat java.base/java.net.URLClassLoader.findClass(URLClassLoader.java:471)\n\tat java.base/java.lang.ClassLoader.loadClass(ClassLoader.java:589)\n\tat java.base/java.lang.ClassLoader.loadClass(ClassLoader.java:522)\n\tat org.apache.spark.sql.execution.datasources.jdbc.DriverRegistry$.register(DriverRegistry.scala:45)\n\tat org.apache.spark.sql.execution.datasources.jdbc.JDBCOptions.$anonfun$driverClass$1(JDBCOptions.scala:99)\n\tat org.apache.spark.sql.execution.datasources.jdbc.JDBCOptions.$anonfun$driverClass$1$adapted(JDBCOptions.scala:99)\n\tat scala.Option.foreach(Option.scala:407)\n\tat org.apache.spark.sql.execution.datasources.jdbc.JDBCOptions.<init>(JDBCOptions.scala:99)\n\tat org.apache.spark.sql.execution.datasources.jdbc.JdbcOptionsInWrite.<init>(JDBCOptions.scala:194)\n\tat org.apache.spark.sql.execution.datasources.jdbc.JdbcOptionsInWrite.<init>(JDBCOptions.scala:198)\n\tat org.apache.spark.sql.execution.datasources.jdbc.JdbcRelationProvider.createRelation(JdbcRelationProvider.scala:45)\n\tat org.apache.spark.sql.execution.datasources.SaveIntoDataSourceCommand.run(SaveIntoDataSourceCommand.scala:46)\n\tat org.apache.spark.sql.execution.command.ExecutedCommandExec.sideEffectResult$lzycompute(commands.scala:70)\n\tat org.apache.spark.sql.execution.command.ExecutedCommandExec.sideEffectResult(commands.scala:68)\n\tat org.apache.spark.sql.execution.command.ExecutedCommandExec.doExecute(commands.scala:90)\n\tat org.apache.spark.sql.execution.SparkPlan.$anonfun$execute$1(SparkPlan.scala:180)\n\tat org.apache.spark.sql.execution.SparkPlan.$anonfun$executeQuery$1(SparkPlan.scala:218)\n\tat org.apache.spark.rdd.RDDOperationScope$.withScope(RDDOperationScope.scala:151)\n\tat org.apache.spark.sql.execution.SparkPlan.executeQuery(SparkPlan.scala:215)\n\tat org.apache.spark.sql.execution.SparkPlan.execute(SparkPlan.scala:176)\n\tat org.apache.spark.sql.execution.QueryExecution.toRdd$lzycompute(QueryExecution.scala:127)\n\tat org.apache.spark.sql.execution.QueryExecution.toRdd(QueryExecution.scala:126)\n\tat org.apache.spark.sql.DataFrameWriter.$anonfun$runCommand$1(DataFrameWriter.scala:962)\n\tat org.apache.spark.sql.execution.SQLExecution$.$anonfun$withNewExecutionId$5(SQLExecution.scala:100)\n\tat org.apache.spark.sql.execution.SQLExecution$.withSQLConfPropagated(SQLExecution.scala:160)\n\tat org.apache.spark.sql.execution.SQLExecution$.$anonfun$withNewExecutionId$1(SQLExecution.scala:87)\n\tat org.apache.spark.sql.SparkSession.withActive(SparkSession.scala:767)\n\tat org.apache.spark.sql.execution.SQLExecution$.withNewExecutionId(SQLExecution.scala:64)\n\tat org.apache.spark.sql.DataFrameWriter.runCommand(DataFrameWriter.scala:962)\n\tat org.apache.spark.sql.DataFrameWriter.saveToV1Source(DataFrameWriter.scala:414)\n\tat org.apache.spark.sql.DataFrameWriter.save(DataFrameWriter.scala:398)\n\tat org.apache.spark.sql.DataFrameWriter.jdbc(DataFrameWriter.scala:790)\n\tat java.base/jdk.internal.reflect.NativeMethodAccessorImpl.invoke0(Native Method)\n\tat java.base/jdk.internal.reflect.NativeMethodAccessorImpl.invoke(NativeMethodAccessorImpl.java:62)\n\tat java.base/jdk.internal.reflect.DelegatingMethodAccessorImpl.invoke(DelegatingMethodAccessorImpl.java:43)\n\tat java.base/java.lang.reflect.Method.invoke(Method.java:566)\n\tat py4j.reflection.MethodInvoker.invoke(MethodInvoker.java:244)\n\tat py4j.reflection.ReflectionEngine.invoke(ReflectionEngine.java:357)\n\tat py4j.Gateway.invoke(Gateway.java:282)\n\tat py4j.commands.AbstractCommand.invokeMethod(AbstractCommand.java:132)\n\tat py4j.commands.CallCommand.execute(CallCommand.java:79)\n\tat py4j.GatewayConnection.run(GatewayConnection.java:238)\n\tat java.base/java.lang.Thread.run(Thread.java:829)\n"
          ]
        }
      ]
    }
  ]
}