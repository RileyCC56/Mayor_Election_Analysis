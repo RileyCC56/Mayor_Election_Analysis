{
 "cells": [
  {
   "cell_type": "code",
   "execution_count": 2,
   "id": "d61af5fa",
   "metadata": {},
   "outputs": [],
   "source": [
    "# Initial imports\n",
    "from path import Path\n",
    "from sklearn import tree\n",
    "from sklearn.preprocessing import StandardScaler\n",
    "from sklearn.model_selection import train_test_split\n",
    "from sklearn.metrics import confusion_matrix, accuracy_score, classification_report\n",
    "import pandas as pd\n",
    "import numpy as np"
   ]
  },
  {
   "cell_type": "code",
   "execution_count": 3,
   "id": "91f9151a",
   "metadata": {},
   "outputs": [
    {
     "data": {
      "text/html": [
       "<div>\n",
       "<style scoped>\n",
       "    .dataframe tbody tr th:only-of-type {\n",
       "        vertical-align: middle;\n",
       "    }\n",
       "\n",
       "    .dataframe tbody tr th {\n",
       "        vertical-align: top;\n",
       "    }\n",
       "\n",
       "    .dataframe thead th {\n",
       "        text-align: right;\n",
       "    }\n",
       "</style>\n",
       "<table border=\"1\" class=\"dataframe\">\n",
       "  <thead>\n",
       "    <tr style=\"text-align: right;\">\n",
       "      <th></th>\n",
       "      <th>Election</th>\n",
       "      <th>CandidateID</th>\n",
       "      <th>Date</th>\n",
       "      <th>ContributerType</th>\n",
       "      <th>City</th>\n",
       "      <th>State</th>\n",
       "      <th>ZipCode</th>\n",
       "      <th>Amount</th>\n",
       "      <th>MatchAmt</th>\n",
       "      <th>PrevAmt</th>\n",
       "      <th>TotalAmount</th>\n",
       "      <th>Expenditure Amount</th>\n",
       "      <th>Purpose Code</th>\n",
       "      <th>Purpose</th>\n",
       "    </tr>\n",
       "    <tr>\n",
       "      <th>CandidateName</th>\n",
       "      <th></th>\n",
       "      <th></th>\n",
       "      <th></th>\n",
       "      <th></th>\n",
       "      <th></th>\n",
       "      <th></th>\n",
       "      <th></th>\n",
       "      <th></th>\n",
       "      <th></th>\n",
       "      <th></th>\n",
       "      <th></th>\n",
       "      <th></th>\n",
       "      <th></th>\n",
       "      <th></th>\n",
       "    </tr>\n",
       "  </thead>\n",
       "  <tbody>\n",
       "    <tr>\n",
       "      <th>Abiodun,Laurel-Smith</th>\n",
       "      <td>2013</td>\n",
       "      <td>1752</td>\n",
       "      <td>NaN</td>\n",
       "      <td>Corporation</td>\n",
       "      <td>New York</td>\n",
       "      <td>NY</td>\n",
       "      <td>10001.0</td>\n",
       "      <td>NaN</td>\n",
       "      <td>NaN</td>\n",
       "      <td>NaN</td>\n",
       "      <td>NaN</td>\n",
       "      <td>54.43</td>\n",
       "      <td>Office Expenses</td>\n",
       "      <td>Office Expenses</td>\n",
       "    </tr>\n",
       "    <tr>\n",
       "      <th>William,Thompson, Jr.</th>\n",
       "      <td>2013</td>\n",
       "      <td>260</td>\n",
       "      <td>NaN</td>\n",
       "      <td>Corporation</td>\n",
       "      <td>New York</td>\n",
       "      <td>NY</td>\n",
       "      <td>10019.0</td>\n",
       "      <td>NaN</td>\n",
       "      <td>NaN</td>\n",
       "      <td>NaN</td>\n",
       "      <td>NaN</td>\n",
       "      <td>19.80</td>\n",
       "      <td>Other</td>\n",
       "      <td>Other: explntion</td>\n",
       "    </tr>\n",
       "    <tr>\n",
       "      <th>John,Liu</th>\n",
       "      <td>2013</td>\n",
       "      <td>NaN</td>\n",
       "      <td>NaN</td>\n",
       "      <td>Limited Liability Company</td>\n",
       "      <td>Flushing</td>\n",
       "      <td>NY</td>\n",
       "      <td>11355.0</td>\n",
       "      <td>NaN</td>\n",
       "      <td>NaN</td>\n",
       "      <td>NaN</td>\n",
       "      <td>NaN</td>\n",
       "      <td>110.00</td>\n",
       "      <td>Office Expenses</td>\n",
       "      <td>Office Expenses</td>\n",
       "    </tr>\n",
       "    <tr>\n",
       "      <th>John,Liu</th>\n",
       "      <td>2013</td>\n",
       "      <td>NaN</td>\n",
       "      <td>NaN</td>\n",
       "      <td>Limited Liability Company</td>\n",
       "      <td>Flushing</td>\n",
       "      <td>NY</td>\n",
       "      <td>11355.0</td>\n",
       "      <td>NaN</td>\n",
       "      <td>NaN</td>\n",
       "      <td>NaN</td>\n",
       "      <td>NaN</td>\n",
       "      <td>250.00</td>\n",
       "      <td>Fundraising</td>\n",
       "      <td>Fundraising</td>\n",
       "    </tr>\n",
       "    <tr>\n",
       "      <th>William,Thompson, Jr.</th>\n",
       "      <td>2013</td>\n",
       "      <td>260</td>\n",
       "      <td>NaN</td>\n",
       "      <td>Limited Liability Company</td>\n",
       "      <td>New York</td>\n",
       "      <td>NY</td>\n",
       "      <td>10018.0</td>\n",
       "      <td>NaN</td>\n",
       "      <td>NaN</td>\n",
       "      <td>NaN</td>\n",
       "      <td>NaN</td>\n",
       "      <td>57.01</td>\n",
       "      <td>Other</td>\n",
       "      <td>Other: explntion</td>\n",
       "    </tr>\n",
       "  </tbody>\n",
       "</table>\n",
       "</div>"
      ],
      "text/plain": [
       "                       Election CandidateID Date            ContributerType  \\\n",
       "CandidateName                                                                 \n",
       "Abiodun,Laurel-Smith       2013        1752  NaN                Corporation   \n",
       "William,Thompson, Jr.      2013         260  NaN                Corporation   \n",
       "John,Liu                   2013         NaN  NaN  Limited Liability Company   \n",
       "John,Liu                   2013         NaN  NaN  Limited Liability Company   \n",
       "William,Thompson, Jr.      2013         260  NaN  Limited Liability Company   \n",
       "\n",
       "                           City State  ZipCode  Amount  MatchAmt  PrevAmt  \\\n",
       "CandidateName                                                               \n",
       "Abiodun,Laurel-Smith   New York    NY  10001.0     NaN       NaN      NaN   \n",
       "William,Thompson, Jr.  New York    NY  10019.0     NaN       NaN      NaN   \n",
       "John,Liu               Flushing    NY  11355.0     NaN       NaN      NaN   \n",
       "John,Liu               Flushing    NY  11355.0     NaN       NaN      NaN   \n",
       "William,Thompson, Jr.  New York    NY  10018.0     NaN       NaN      NaN   \n",
       "\n",
       "                       TotalAmount  Expenditure Amount     Purpose Code  \\\n",
       "CandidateName                                                             \n",
       "Abiodun,Laurel-Smith           NaN               54.43  Office Expenses   \n",
       "William,Thompson, Jr.          NaN               19.80            Other   \n",
       "John,Liu                       NaN              110.00  Office Expenses   \n",
       "John,Liu                       NaN              250.00      Fundraising   \n",
       "William,Thompson, Jr.          NaN               57.01            Other   \n",
       "\n",
       "                                Purpose  \n",
       "CandidateName                            \n",
       "Abiodun,Laurel-Smith    Office Expenses  \n",
       "William,Thompson, Jr.  Other: explntion  \n",
       "John,Liu                Office Expenses  \n",
       "John,Liu                    Fundraising  \n",
       "William,Thompson, Jr.  Other: explntion  "
      ]
     },
     "execution_count": 3,
     "metadata": {},
     "output_type": "execute_result"
    }
   ],
   "source": [
    "file = '../Resources/2013_TEST Merge.csv'\n",
    "IC_2013 = pd.read_csv(file,index_col='CandidateName')\n",
    "uncleaned = pd.read_csv(file,index_col=False)\n",
    "IC_2013.head()"
   ]
  },
  {
   "cell_type": "code",
   "execution_count": 5,
   "id": "0b5f4eb7",
   "metadata": {},
   "outputs": [],
   "source": [
    "IC_2013['ZipCode'] = IC_2013['ZipCode'].apply(str)"
   ]
  },
  {
   "cell_type": "code",
   "execution_count": 8,
   "id": "bcb552e2",
   "metadata": {},
   "outputs": [
    {
     "data": {
      "text/html": [
       "<div>\n",
       "<style scoped>\n",
       "    .dataframe tbody tr th:only-of-type {\n",
       "        vertical-align: middle;\n",
       "    }\n",
       "\n",
       "    .dataframe tbody tr th {\n",
       "        vertical-align: top;\n",
       "    }\n",
       "\n",
       "    .dataframe thead th {\n",
       "        text-align: right;\n",
       "    }\n",
       "</style>\n",
       "<table border=\"1\" class=\"dataframe\">\n",
       "  <thead>\n",
       "    <tr style=\"text-align: right;\">\n",
       "      <th></th>\n",
       "      <th>Amount</th>\n",
       "      <th>MatchAmt</th>\n",
       "      <th>TotalAmount</th>\n",
       "      <th>Expenditure Amount</th>\n",
       "    </tr>\n",
       "    <tr>\n",
       "      <th>CandidateName</th>\n",
       "      <th></th>\n",
       "      <th></th>\n",
       "      <th></th>\n",
       "      <th></th>\n",
       "    </tr>\n",
       "  </thead>\n",
       "  <tbody>\n",
       "    <tr>\n",
       "      <th>de Blasio, Bill</th>\n",
       "      <td>11073226.59</td>\n",
       "      <td>926504.0</td>\n",
       "      <td>1.497036e+07</td>\n",
       "      <td>0.00</td>\n",
       "    </tr>\n",
       "    <tr>\n",
       "      <th>Quinn, Christine C</th>\n",
       "      <td>8206058.97</td>\n",
       "      <td>689206.0</td>\n",
       "      <td>1.209154e+07</td>\n",
       "      <td>0.00</td>\n",
       "    </tr>\n",
       "    <tr>\n",
       "      <th>Thompson, Jr., William C</th>\n",
       "      <td>4911412.70</td>\n",
       "      <td>417722.0</td>\n",
       "      <td>6.111452e+06</td>\n",
       "      <td>0.00</td>\n",
       "    </tr>\n",
       "    <tr>\n",
       "      <th>Lhota, Joseph J</th>\n",
       "      <td>3534348.21</td>\n",
       "      <td>592210.0</td>\n",
       "      <td>4.981273e+06</td>\n",
       "      <td>0.00</td>\n",
       "    </tr>\n",
       "    <tr>\n",
       "      <th>Hidary, Jack D</th>\n",
       "      <td>589596.67</td>\n",
       "      <td>75302.0</td>\n",
       "      <td>6.760667e+05</td>\n",
       "      <td>0.00</td>\n",
       "    </tr>\n",
       "    <tr>\n",
       "      <th>Salgado, Erick J</th>\n",
       "      <td>363565.09</td>\n",
       "      <td>41929.0</td>\n",
       "      <td>4.948541e+05</td>\n",
       "      <td>0.00</td>\n",
       "    </tr>\n",
       "    <tr>\n",
       "      <th>Liu, John C</th>\n",
       "      <td>239200.00</td>\n",
       "      <td>0.0</td>\n",
       "      <td>4.045000e+05</td>\n",
       "      <td>0.00</td>\n",
       "    </tr>\n",
       "    <tr>\n",
       "      <th>Weiner, Anthony D</th>\n",
       "      <td>225088.74</td>\n",
       "      <td>0.0</td>\n",
       "      <td>2.301887e+05</td>\n",
       "      <td>0.00</td>\n",
       "    </tr>\n",
       "    <tr>\n",
       "      <th>Albanese, Sal F</th>\n",
       "      <td>27178.00</td>\n",
       "      <td>0.0</td>\n",
       "      <td>3.092800e+04</td>\n",
       "      <td>0.00</td>\n",
       "    </tr>\n",
       "    <tr>\n",
       "      <th>Laurel-Smith, Abiodun</th>\n",
       "      <td>3970.00</td>\n",
       "      <td>175.0</td>\n",
       "      <td>1.219500e+04</td>\n",
       "      <td>0.00</td>\n",
       "    </tr>\n",
       "    <tr>\n",
       "      <th>Broady-Fernandez, Hilda K</th>\n",
       "      <td>1535.00</td>\n",
       "      <td>581.0</td>\n",
       "      <td>2.241000e+03</td>\n",
       "      <td>0.00</td>\n",
       "    </tr>\n",
       "    <tr>\n",
       "      <th>Marks, Philip A</th>\n",
       "      <td>500.00</td>\n",
       "      <td>175.0</td>\n",
       "      <td>1.075000e+03</td>\n",
       "      <td>0.00</td>\n",
       "    </tr>\n",
       "    <tr>\n",
       "      <th>Coenen, Jr., Kevin P</th>\n",
       "      <td>175.00</td>\n",
       "      <td>175.0</td>\n",
       "      <td>3.500000e+02</td>\n",
       "      <td>0.00</td>\n",
       "    </tr>\n",
       "    <tr>\n",
       "      <th>Berkowitz, Ceceilia J</th>\n",
       "      <td>120.00</td>\n",
       "      <td>20.0</td>\n",
       "      <td>1.500000e+02</td>\n",
       "      <td>0.00</td>\n",
       "    </tr>\n",
       "    <tr>\n",
       "      <th>Sal,Albanese</th>\n",
       "      <td>0.00</td>\n",
       "      <td>0.0</td>\n",
       "      <td>0.000000e+00</td>\n",
       "      <td>328574.48</td>\n",
       "    </tr>\n",
       "    <tr>\n",
       "      <th>Philip,Marks</th>\n",
       "      <td>0.00</td>\n",
       "      <td>0.0</td>\n",
       "      <td>0.000000e+00</td>\n",
       "      <td>417.65</td>\n",
       "    </tr>\n",
       "    <tr>\n",
       "      <th>William,Thompson, Jr.</th>\n",
       "      <td>0.00</td>\n",
       "      <td>0.0</td>\n",
       "      <td>0.000000e+00</td>\n",
       "      <td>6749485.80</td>\n",
       "    </tr>\n",
       "    <tr>\n",
       "      <th>Abiodun,Laurel-Smith</th>\n",
       "      <td>0.00</td>\n",
       "      <td>0.0</td>\n",
       "      <td>0.000000e+00</td>\n",
       "      <td>279649.75</td>\n",
       "    </tr>\n",
       "    <tr>\n",
       "      <th>Kevin,Coenen, Jr.</th>\n",
       "      <td>0.00</td>\n",
       "      <td>0.0</td>\n",
       "      <td>0.000000e+00</td>\n",
       "      <td>848.44</td>\n",
       "    </tr>\n",
       "    <tr>\n",
       "      <th>John,Liu</th>\n",
       "      <td>0.00</td>\n",
       "      <td>0.0</td>\n",
       "      <td>0.000000e+00</td>\n",
       "      <td>3454200.70</td>\n",
       "    </tr>\n",
       "    <tr>\n",
       "      <th>Jack,Hidary</th>\n",
       "      <td>0.00</td>\n",
       "      <td>0.0</td>\n",
       "      <td>0.000000e+00</td>\n",
       "      <td>749664.42</td>\n",
       "    </tr>\n",
       "    <tr>\n",
       "      <th>Hilda,Broady-Fernandez</th>\n",
       "      <td>0.00</td>\n",
       "      <td>0.0</td>\n",
       "      <td>0.000000e+00</td>\n",
       "      <td>7311.61</td>\n",
       "    </tr>\n",
       "    <tr>\n",
       "      <th>Erick,Salgado</th>\n",
       "      <td>0.00</td>\n",
       "      <td>0.0</td>\n",
       "      <td>0.000000e+00</td>\n",
       "      <td>447905.84</td>\n",
       "    </tr>\n",
       "    <tr>\n",
       "      <th>Christine,Quinn</th>\n",
       "      <td>0.00</td>\n",
       "      <td>0.0</td>\n",
       "      <td>0.000000e+00</td>\n",
       "      <td>6869544.16</td>\n",
       "    </tr>\n",
       "    <tr>\n",
       "      <th>Ceceilia,Berkowitz</th>\n",
       "      <td>0.00</td>\n",
       "      <td>0.0</td>\n",
       "      <td>0.000000e+00</td>\n",
       "      <td>375.00</td>\n",
       "    </tr>\n",
       "    <tr>\n",
       "      <th>Bill,de Blasio</th>\n",
       "      <td>0.00</td>\n",
       "      <td>0.0</td>\n",
       "      <td>0.000000e+00</td>\n",
       "      <td>13567559.19</td>\n",
       "    </tr>\n",
       "    <tr>\n",
       "      <th>Anthony,Weiner</th>\n",
       "      <td>0.00</td>\n",
       "      <td>0.0</td>\n",
       "      <td>0.000000e+00</td>\n",
       "      <td>6724576.94</td>\n",
       "    </tr>\n",
       "    <tr>\n",
       "      <th>Joseph,Lhota</th>\n",
       "      <td>0.00</td>\n",
       "      <td>0.0</td>\n",
       "      <td>0.000000e+00</td>\n",
       "      <td>6557477.99</td>\n",
       "    </tr>\n",
       "  </tbody>\n",
       "</table>\n",
       "</div>"
      ],
      "text/plain": [
       "                                Amount  MatchAmt   TotalAmount  \\\n",
       "CandidateName                                                    \n",
       "de Blasio, Bill            11073226.59  926504.0  1.497036e+07   \n",
       "Quinn, Christine C          8206058.97  689206.0  1.209154e+07   \n",
       "Thompson, Jr., William C    4911412.70  417722.0  6.111452e+06   \n",
       "Lhota, Joseph J             3534348.21  592210.0  4.981273e+06   \n",
       "Hidary, Jack D               589596.67   75302.0  6.760667e+05   \n",
       "Salgado, Erick J             363565.09   41929.0  4.948541e+05   \n",
       "Liu, John C                  239200.00       0.0  4.045000e+05   \n",
       "Weiner, Anthony D            225088.74       0.0  2.301887e+05   \n",
       "Albanese, Sal F               27178.00       0.0  3.092800e+04   \n",
       "Laurel-Smith, Abiodun          3970.00     175.0  1.219500e+04   \n",
       "Broady-Fernandez, Hilda K      1535.00     581.0  2.241000e+03   \n",
       "Marks, Philip A                 500.00     175.0  1.075000e+03   \n",
       "Coenen, Jr., Kevin P            175.00     175.0  3.500000e+02   \n",
       "Berkowitz, Ceceilia J           120.00      20.0  1.500000e+02   \n",
       "Sal,Albanese                      0.00       0.0  0.000000e+00   \n",
       "Philip,Marks                      0.00       0.0  0.000000e+00   \n",
       "William,Thompson, Jr.             0.00       0.0  0.000000e+00   \n",
       "Abiodun,Laurel-Smith              0.00       0.0  0.000000e+00   \n",
       "Kevin,Coenen, Jr.                 0.00       0.0  0.000000e+00   \n",
       "John,Liu                          0.00       0.0  0.000000e+00   \n",
       "Jack,Hidary                       0.00       0.0  0.000000e+00   \n",
       "Hilda,Broady-Fernandez            0.00       0.0  0.000000e+00   \n",
       "Erick,Salgado                     0.00       0.0  0.000000e+00   \n",
       "Christine,Quinn                   0.00       0.0  0.000000e+00   \n",
       "Ceceilia,Berkowitz                0.00       0.0  0.000000e+00   \n",
       "Bill,de Blasio                    0.00       0.0  0.000000e+00   \n",
       "Anthony,Weiner                    0.00       0.0  0.000000e+00   \n",
       "Joseph,Lhota                      0.00       0.0  0.000000e+00   \n",
       "\n",
       "                           Expenditure Amount  \n",
       "CandidateName                                  \n",
       "de Blasio, Bill                          0.00  \n",
       "Quinn, Christine C                       0.00  \n",
       "Thompson, Jr., William C                 0.00  \n",
       "Lhota, Joseph J                          0.00  \n",
       "Hidary, Jack D                           0.00  \n",
       "Salgado, Erick J                         0.00  \n",
       "Liu, John C                              0.00  \n",
       "Weiner, Anthony D                        0.00  \n",
       "Albanese, Sal F                          0.00  \n",
       "Laurel-Smith, Abiodun                    0.00  \n",
       "Broady-Fernandez, Hilda K                0.00  \n",
       "Marks, Philip A                          0.00  \n",
       "Coenen, Jr., Kevin P                     0.00  \n",
       "Berkowitz, Ceceilia J                    0.00  \n",
       "Sal,Albanese                        328574.48  \n",
       "Philip,Marks                           417.65  \n",
       "William,Thompson, Jr.              6749485.80  \n",
       "Abiodun,Laurel-Smith                279649.75  \n",
       "Kevin,Coenen, Jr.                      848.44  \n",
       "John,Liu                           3454200.70  \n",
       "Jack,Hidary                         749664.42  \n",
       "Hilda,Broady-Fernandez                7311.61  \n",
       "Erick,Salgado                       447905.84  \n",
       "Christine,Quinn                    6869544.16  \n",
       "Ceceilia,Berkowitz                     375.00  \n",
       "Bill,de Blasio                    13567559.19  \n",
       "Anthony,Weiner                     6724576.94  \n",
       "Joseph,Lhota                       6557477.99  "
      ]
     },
     "execution_count": 8,
     "metadata": {},
     "output_type": "execute_result"
    }
   ],
   "source": [
    "IC_2013_df = IC_2013.drop(columns=['CandidateID','Election','PrevAmt'])\n",
    "total_groupby = IC_2013_df.groupby(['CandidateName']).sum(['TotalAmount']).sort_values('TotalAmount',ascending=False)\n",
    "total_groupby "
   ]
  },
  {
   "cell_type": "code",
   "execution_count": 9,
   "id": "7454a10b",
   "metadata": {},
   "outputs": [
    {
     "data": {
      "text/plain": [
       "<AxesSubplot:xlabel='CandidateName'>"
      ]
     },
     "execution_count": 9,
     "metadata": {},
     "output_type": "execute_result"
    },
    {
     "data": {
      "image/png": "[encoded data removed]",
      "text/plain": [
       "<Figure size 432x288 with 1 Axes>"
      ]
     },
     "metadata": {
      "needs_background": "light"
     },
     "output_type": "display_data"
    }
   ],
   "source": [
    "total_groupby.plot.bar()"
   ]
  },
  {
   "cell_type": "code",
   "execution_count": 10,
   "id": "4332f61b",
   "metadata": {},
   "outputs": [
    {
     "data": {
      "text/html": [
       "<div>\n",
       "<style scoped>\n",
       "    .dataframe tbody tr th:only-of-type {\n",
       "        vertical-align: middle;\n",
       "    }\n",
       "\n",
       "    .dataframe tbody tr th {\n",
       "        vertical-align: top;\n",
       "    }\n",
       "\n",
       "    .dataframe thead th {\n",
       "        text-align: right;\n",
       "    }\n",
       "</style>\n",
       "<table border=\"1\" class=\"dataframe\">\n",
       "  <thead>\n",
       "    <tr style=\"text-align: right;\">\n",
       "      <th></th>\n",
       "      <th>Date</th>\n",
       "      <th>ContributerType</th>\n",
       "      <th>City</th>\n",
       "      <th>State</th>\n",
       "      <th>ZipCode</th>\n",
       "      <th>Amount</th>\n",
       "      <th>MatchAmt</th>\n",
       "      <th>TotalAmount</th>\n",
       "      <th>Expenditure Amount</th>\n",
       "      <th>Purpose Code</th>\n",
       "      <th>Purpose</th>\n",
       "      <th>Outcome</th>\n",
       "    </tr>\n",
       "    <tr>\n",
       "      <th>CandidateName</th>\n",
       "      <th></th>\n",
       "      <th></th>\n",
       "      <th></th>\n",
       "      <th></th>\n",
       "      <th></th>\n",
       "      <th></th>\n",
       "      <th></th>\n",
       "      <th></th>\n",
       "      <th></th>\n",
       "      <th></th>\n",
       "      <th></th>\n",
       "      <th></th>\n",
       "    </tr>\n",
       "  </thead>\n",
       "  <tbody>\n",
       "    <tr>\n",
       "      <th>Abiodun,Laurel-Smith</th>\n",
       "      <td>NaN</td>\n",
       "      <td>Corporation</td>\n",
       "      <td>New York</td>\n",
       "      <td>NY</td>\n",
       "      <td>10001.0</td>\n",
       "      <td>NaN</td>\n",
       "      <td>NaN</td>\n",
       "      <td>NaN</td>\n",
       "      <td>54.43</td>\n",
       "      <td>Office Expenses</td>\n",
       "      <td>Office Expenses</td>\n",
       "      <td>L</td>\n",
       "    </tr>\n",
       "    <tr>\n",
       "      <th>William,Thompson, Jr.</th>\n",
       "      <td>NaN</td>\n",
       "      <td>Corporation</td>\n",
       "      <td>New York</td>\n",
       "      <td>NY</td>\n",
       "      <td>10019.0</td>\n",
       "      <td>NaN</td>\n",
       "      <td>NaN</td>\n",
       "      <td>NaN</td>\n",
       "      <td>19.80</td>\n",
       "      <td>Other</td>\n",
       "      <td>Other: explntion</td>\n",
       "      <td>L</td>\n",
       "    </tr>\n",
       "    <tr>\n",
       "      <th>John,Liu</th>\n",
       "      <td>NaN</td>\n",
       "      <td>Limited Liability Company</td>\n",
       "      <td>Flushing</td>\n",
       "      <td>NY</td>\n",
       "      <td>11355.0</td>\n",
       "      <td>NaN</td>\n",
       "      <td>NaN</td>\n",
       "      <td>NaN</td>\n",
       "      <td>110.00</td>\n",
       "      <td>Office Expenses</td>\n",
       "      <td>Office Expenses</td>\n",
       "      <td>L</td>\n",
       "    </tr>\n",
       "    <tr>\n",
       "      <th>John,Liu</th>\n",
       "      <td>NaN</td>\n",
       "      <td>Limited Liability Company</td>\n",
       "      <td>Flushing</td>\n",
       "      <td>NY</td>\n",
       "      <td>11355.0</td>\n",
       "      <td>NaN</td>\n",
       "      <td>NaN</td>\n",
       "      <td>NaN</td>\n",
       "      <td>250.00</td>\n",
       "      <td>Fundraising</td>\n",
       "      <td>Fundraising</td>\n",
       "      <td>L</td>\n",
       "    </tr>\n",
       "    <tr>\n",
       "      <th>William,Thompson, Jr.</th>\n",
       "      <td>NaN</td>\n",
       "      <td>Limited Liability Company</td>\n",
       "      <td>New York</td>\n",
       "      <td>NY</td>\n",
       "      <td>10018.0</td>\n",
       "      <td>NaN</td>\n",
       "      <td>NaN</td>\n",
       "      <td>NaN</td>\n",
       "      <td>57.01</td>\n",
       "      <td>Other</td>\n",
       "      <td>Other: explntion</td>\n",
       "      <td>L</td>\n",
       "    </tr>\n",
       "  </tbody>\n",
       "</table>\n",
       "</div>"
      ],
      "text/plain": [
       "                      Date            ContributerType      City State  \\\n",
       "CandidateName                                                           \n",
       "Abiodun,Laurel-Smith   NaN                Corporation  New York    NY   \n",
       "William,Thompson, Jr.  NaN                Corporation  New York    NY   \n",
       "John,Liu               NaN  Limited Liability Company  Flushing    NY   \n",
       "John,Liu               NaN  Limited Liability Company  Flushing    NY   \n",
       "William,Thompson, Jr.  NaN  Limited Liability Company  New York    NY   \n",
       "\n",
       "                       ZipCode  Amount  MatchAmt  TotalAmount  \\\n",
       "CandidateName                                                   \n",
       "Abiodun,Laurel-Smith   10001.0     NaN       NaN          NaN   \n",
       "William,Thompson, Jr.  10019.0     NaN       NaN          NaN   \n",
       "John,Liu               11355.0     NaN       NaN          NaN   \n",
       "John,Liu               11355.0     NaN       NaN          NaN   \n",
       "William,Thompson, Jr.  10018.0     NaN       NaN          NaN   \n",
       "\n",
       "                       Expenditure Amount     Purpose Code           Purpose  \\\n",
       "CandidateName                                                                  \n",
       "Abiodun,Laurel-Smith                54.43  Office Expenses   Office Expenses   \n",
       "William,Thompson, Jr.               19.80            Other  Other: explntion   \n",
       "John,Liu                           110.00  Office Expenses   Office Expenses   \n",
       "John,Liu                           250.00      Fundraising       Fundraising   \n",
       "William,Thompson, Jr.               57.01            Other  Other: explntion   \n",
       "\n",
       "                      Outcome  \n",
       "CandidateName                  \n",
       "Abiodun,Laurel-Smith        L  \n",
       "William,Thompson, Jr.       L  \n",
       "John,Liu                    L  \n",
       "John,Liu                    L  \n",
       "William,Thompson, Jr.       L  "
      ]
     },
     "execution_count": 10,
     "metadata": {},
     "output_type": "execute_result"
    }
   ],
   "source": [
    "outcome = []\n",
    "for i in uncleaned['CandidateName']:\n",
    "    if i == 'de Blasio, Bill':\n",
    "        outcome.append('W')\n",
    "    else:\n",
    "        outcome.append('L')\n",
    "\n",
    "IC_2013_df['Outcome'] = outcome\n",
    "IC_2013_df.head()"
   ]
  },
  {
   "cell_type": "code",
   "execution_count": 11,
   "id": "b98c315d",
   "metadata": {},
   "outputs": [
    {
     "data": {
      "text/plain": [
       "<AxesSubplot:xlabel='ContributerType'>"
      ]
     },
     "execution_count": 11,
     "metadata": {},
     "output_type": "execute_result"
    },
    {
     "data": {
      "image/png": "[encoded data removed]",
      "text/plain": [
       "<Figure size 432x288 with 1 Axes>"
      ]
     },
     "metadata": {
      "needs_background": "light"
     },
     "output_type": "display_data"
    }
   ],
   "source": [
    "Cont_groupby = IC_2013_df.groupby(['ContributerType']).sum(['TotalAmount']).sort_values('TotalAmount',ascending=False)\n",
    "Cont_groupby.plot.bar()"
   ]
  },
  {
   "cell_type": "code",
   "execution_count": 12,
   "id": "997591fe",
   "metadata": {},
   "outputs": [
    {
     "data": {
      "text/html": [
       "<div>\n",
       "<style scoped>\n",
       "    .dataframe tbody tr th:only-of-type {\n",
       "        vertical-align: middle;\n",
       "    }\n",
       "\n",
       "    .dataframe tbody tr th {\n",
       "        vertical-align: top;\n",
       "    }\n",
       "\n",
       "    .dataframe thead th {\n",
       "        text-align: right;\n",
       "    }\n",
       "</style>\n",
       "<table border=\"1\" class=\"dataframe\">\n",
       "  <thead>\n",
       "    <tr style=\"text-align: right;\">\n",
       "      <th></th>\n",
       "      <th>Date</th>\n",
       "      <th>ContributerType</th>\n",
       "      <th>City</th>\n",
       "      <th>State</th>\n",
       "      <th>ZipCode</th>\n",
       "      <th>Amount</th>\n",
       "      <th>MatchAmt</th>\n",
       "      <th>TotalAmount</th>\n",
       "      <th>Expenditure Amount</th>\n",
       "      <th>Purpose Code</th>\n",
       "      <th>Purpose</th>\n",
       "      <th>Outcome</th>\n",
       "    </tr>\n",
       "    <tr>\n",
       "      <th>CandidateName</th>\n",
       "      <th></th>\n",
       "      <th></th>\n",
       "      <th></th>\n",
       "      <th></th>\n",
       "      <th></th>\n",
       "      <th></th>\n",
       "      <th></th>\n",
       "      <th></th>\n",
       "      <th></th>\n",
       "      <th></th>\n",
       "      <th></th>\n",
       "      <th></th>\n",
       "    </tr>\n",
       "  </thead>\n",
       "  <tbody>\n",
       "    <tr>\n",
       "      <th>Abiodun,Laurel-Smith</th>\n",
       "      <td>NaT</td>\n",
       "      <td>Corporation</td>\n",
       "      <td>New York</td>\n",
       "      <td>NY</td>\n",
       "      <td>10001.0</td>\n",
       "      <td>NaN</td>\n",
       "      <td>NaN</td>\n",
       "      <td>NaN</td>\n",
       "      <td>54.43</td>\n",
       "      <td>Office Expenses</td>\n",
       "      <td>Office Expenses</td>\n",
       "      <td>L</td>\n",
       "    </tr>\n",
       "    <tr>\n",
       "      <th>William,Thompson, Jr.</th>\n",
       "      <td>NaT</td>\n",
       "      <td>Corporation</td>\n",
       "      <td>New York</td>\n",
       "      <td>NY</td>\n",
       "      <td>10019.0</td>\n",
       "      <td>NaN</td>\n",
       "      <td>NaN</td>\n",
       "      <td>NaN</td>\n",
       "      <td>19.80</td>\n",
       "      <td>Other</td>\n",
       "      <td>Other: explntion</td>\n",
       "      <td>L</td>\n",
       "    </tr>\n",
       "    <tr>\n",
       "      <th>John,Liu</th>\n",
       "      <td>NaT</td>\n",
       "      <td>Limited Liability Company</td>\n",
       "      <td>Flushing</td>\n",
       "      <td>NY</td>\n",
       "      <td>11355.0</td>\n",
       "      <td>NaN</td>\n",
       "      <td>NaN</td>\n",
       "      <td>NaN</td>\n",
       "      <td>110.00</td>\n",
       "      <td>Office Expenses</td>\n",
       "      <td>Office Expenses</td>\n",
       "      <td>L</td>\n",
       "    </tr>\n",
       "    <tr>\n",
       "      <th>John,Liu</th>\n",
       "      <td>NaT</td>\n",
       "      <td>Limited Liability Company</td>\n",
       "      <td>Flushing</td>\n",
       "      <td>NY</td>\n",
       "      <td>11355.0</td>\n",
       "      <td>NaN</td>\n",
       "      <td>NaN</td>\n",
       "      <td>NaN</td>\n",
       "      <td>250.00</td>\n",
       "      <td>Fundraising</td>\n",
       "      <td>Fundraising</td>\n",
       "      <td>L</td>\n",
       "    </tr>\n",
       "    <tr>\n",
       "      <th>William,Thompson, Jr.</th>\n",
       "      <td>NaT</td>\n",
       "      <td>Limited Liability Company</td>\n",
       "      <td>New York</td>\n",
       "      <td>NY</td>\n",
       "      <td>10018.0</td>\n",
       "      <td>NaN</td>\n",
       "      <td>NaN</td>\n",
       "      <td>NaN</td>\n",
       "      <td>57.01</td>\n",
       "      <td>Other</td>\n",
       "      <td>Other: explntion</td>\n",
       "      <td>L</td>\n",
       "    </tr>\n",
       "  </tbody>\n",
       "</table>\n",
       "</div>"
      ],
      "text/plain": [
       "                      Date            ContributerType      City State  \\\n",
       "CandidateName                                                           \n",
       "Abiodun,Laurel-Smith   NaT                Corporation  New York    NY   \n",
       "William,Thompson, Jr.  NaT                Corporation  New York    NY   \n",
       "John,Liu               NaT  Limited Liability Company  Flushing    NY   \n",
       "John,Liu               NaT  Limited Liability Company  Flushing    NY   \n",
       "William,Thompson, Jr.  NaT  Limited Liability Company  New York    NY   \n",
       "\n",
       "                       ZipCode  Amount  MatchAmt  TotalAmount  \\\n",
       "CandidateName                                                   \n",
       "Abiodun,Laurel-Smith   10001.0     NaN       NaN          NaN   \n",
       "William,Thompson, Jr.  10019.0     NaN       NaN          NaN   \n",
       "John,Liu               11355.0     NaN       NaN          NaN   \n",
       "John,Liu               11355.0     NaN       NaN          NaN   \n",
       "William,Thompson, Jr.  10018.0     NaN       NaN          NaN   \n",
       "\n",
       "                       Expenditure Amount     Purpose Code           Purpose  \\\n",
       "CandidateName                                                                  \n",
       "Abiodun,Laurel-Smith                54.43  Office Expenses   Office Expenses   \n",
       "William,Thompson, Jr.               19.80            Other  Other: explntion   \n",
       "John,Liu                           110.00  Office Expenses   Office Expenses   \n",
       "John,Liu                           250.00      Fundraising       Fundraising   \n",
       "William,Thompson, Jr.               57.01            Other  Other: explntion   \n",
       "\n",
       "                      Outcome  \n",
       "CandidateName                  \n",
       "Abiodun,Laurel-Smith        L  \n",
       "William,Thompson, Jr.       L  \n",
       "John,Liu                    L  \n",
       "John,Liu                    L  \n",
       "William,Thompson, Jr.       L  "
      ]
     },
     "execution_count": 12,
     "metadata": {},
     "output_type": "execute_result"
    }
   ],
   "source": [
    "IC_2013_df['Date'] = pd.to_datetime(IC_2013_df['Date'])\n",
    "IC_2013_df.head()"
   ]
  },
  {
   "cell_type": "code",
   "execution_count": 13,
   "id": "bead26a9",
   "metadata": {},
   "outputs": [
    {
     "data": {
      "text/plain": [
       "Date                  60937\n",
       "ContributerType       60937\n",
       "City                  60937\n",
       "State                 60937\n",
       "ZipCode               60937\n",
       "Amount                60937\n",
       "MatchAmt              60937\n",
       "TotalAmount           60937\n",
       "Expenditure Amount    60937\n",
       "Purpose Code          60937\n",
       "Purpose               60937\n",
       "Outcome               60937\n",
       "dtype: int64"
      ]
     },
     "execution_count": 13,
     "metadata": {},
     "output_type": "execute_result"
    }
   ],
   "source": [
    "IC_2013_df.isnull().count()"
   ]
  },
  {
   "cell_type": "code",
   "execution_count": 15,
   "id": "5d535b3d",
   "metadata": {},
   "outputs": [
    {
     "data": {
      "text/html": [
       "<div>\n",
       "<style scoped>\n",
       "    .dataframe tbody tr th:only-of-type {\n",
       "        vertical-align: middle;\n",
       "    }\n",
       "\n",
       "    .dataframe tbody tr th {\n",
       "        vertical-align: top;\n",
       "    }\n",
       "\n",
       "    .dataframe thead th {\n",
       "        text-align: right;\n",
       "    }\n",
       "</style>\n",
       "<table border=\"1\" class=\"dataframe\">\n",
       "  <thead>\n",
       "    <tr style=\"text-align: right;\">\n",
       "      <th></th>\n",
       "      <th>Date</th>\n",
       "      <th>ContributerType</th>\n",
       "      <th>City</th>\n",
       "      <th>State</th>\n",
       "      <th>ZipCode</th>\n",
       "      <th>Amount</th>\n",
       "      <th>MatchAmt</th>\n",
       "      <th>TotalAmount</th>\n",
       "      <th>Expenditure Amount</th>\n",
       "      <th>Purpose Code</th>\n",
       "      <th>Purpose</th>\n",
       "      <th>Outcome</th>\n",
       "    </tr>\n",
       "    <tr>\n",
       "      <th>CandidateName</th>\n",
       "      <th></th>\n",
       "      <th></th>\n",
       "      <th></th>\n",
       "      <th></th>\n",
       "      <th></th>\n",
       "      <th></th>\n",
       "      <th></th>\n",
       "      <th></th>\n",
       "      <th></th>\n",
       "      <th></th>\n",
       "      <th></th>\n",
       "      <th></th>\n",
       "    </tr>\n",
       "  </thead>\n",
       "  <tbody>\n",
       "    <tr>\n",
       "      <th>Abiodun,Laurel-Smith</th>\n",
       "      <td>1.000000</td>\n",
       "      <td>0.416667</td>\n",
       "      <td>0.606016</td>\n",
       "      <td>0.54</td>\n",
       "      <td>0.000000</td>\n",
       "      <td>1.0</td>\n",
       "      <td>1.0</td>\n",
       "      <td>1.0</td>\n",
       "      <td>0.257058</td>\n",
       "      <td>0.368421</td>\n",
       "      <td>0.333333</td>\n",
       "      <td>0.0</td>\n",
       "    </tr>\n",
       "    <tr>\n",
       "      <th>William,Thompson, Jr.</th>\n",
       "      <td>0.102751</td>\n",
       "      <td>0.416667</td>\n",
       "      <td>0.606016</td>\n",
       "      <td>0.54</td>\n",
       "      <td>0.006336</td>\n",
       "      <td>1.0</td>\n",
       "      <td>1.0</td>\n",
       "      <td>1.0</td>\n",
       "      <td>0.110473</td>\n",
       "      <td>0.473684</td>\n",
       "      <td>0.444444</td>\n",
       "      <td>0.0</td>\n",
       "    </tr>\n",
       "    <tr>\n",
       "      <th>John,Liu</th>\n",
       "      <td>0.102682</td>\n",
       "      <td>0.666667</td>\n",
       "      <td>0.289802</td>\n",
       "      <td>0.54</td>\n",
       "      <td>0.129180</td>\n",
       "      <td>1.0</td>\n",
       "      <td>1.0</td>\n",
       "      <td>1.0</td>\n",
       "      <td>0.387065</td>\n",
       "      <td>0.368421</td>\n",
       "      <td>0.333333</td>\n",
       "      <td>0.0</td>\n",
       "    </tr>\n",
       "    <tr>\n",
       "      <th>John,Liu</th>\n",
       "      <td>0.102613</td>\n",
       "      <td>0.666667</td>\n",
       "      <td>0.289802</td>\n",
       "      <td>0.54</td>\n",
       "      <td>0.129180</td>\n",
       "      <td>1.0</td>\n",
       "      <td>1.0</td>\n",
       "      <td>1.0</td>\n",
       "      <td>0.534307</td>\n",
       "      <td>0.315789</td>\n",
       "      <td>0.277778</td>\n",
       "      <td>0.0</td>\n",
       "    </tr>\n",
       "    <tr>\n",
       "      <th>William,Thompson, Jr.</th>\n",
       "      <td>0.102545</td>\n",
       "      <td>0.666667</td>\n",
       "      <td>0.606016</td>\n",
       "      <td>0.54</td>\n",
       "      <td>0.005984</td>\n",
       "      <td>1.0</td>\n",
       "      <td>1.0</td>\n",
       "      <td>1.0</td>\n",
       "      <td>0.266907</td>\n",
       "      <td>0.473684</td>\n",
       "      <td>0.444444</td>\n",
       "      <td>0.0</td>\n",
       "    </tr>\n",
       "  </tbody>\n",
       "</table>\n",
       "</div>"
      ],
      "text/plain": [
       "                           Date  ContributerType      City  State   ZipCode  \\\n",
       "CandidateName                                                                 \n",
       "Abiodun,Laurel-Smith   1.000000         0.416667  0.606016   0.54  0.000000   \n",
       "William,Thompson, Jr.  0.102751         0.416667  0.606016   0.54  0.006336   \n",
       "John,Liu               0.102682         0.666667  0.289802   0.54  0.129180   \n",
       "John,Liu               0.102613         0.666667  0.289802   0.54  0.129180   \n",
       "William,Thompson, Jr.  0.102545         0.666667  0.606016   0.54  0.005984   \n",
       "\n",
       "                       Amount  MatchAmt  TotalAmount  Expenditure Amount  \\\n",
       "CandidateName                                                              \n",
       "Abiodun,Laurel-Smith      1.0       1.0          1.0            0.257058   \n",
       "William,Thompson, Jr.     1.0       1.0          1.0            0.110473   \n",
       "John,Liu                  1.0       1.0          1.0            0.387065   \n",
       "John,Liu                  1.0       1.0          1.0            0.534307   \n",
       "William,Thompson, Jr.     1.0       1.0          1.0            0.266907   \n",
       "\n",
       "                       Purpose Code   Purpose  Outcome  \n",
       "CandidateName                                           \n",
       "Abiodun,Laurel-Smith       0.368421  0.333333      0.0  \n",
       "William,Thompson, Jr.      0.473684  0.444444      0.0  \n",
       "John,Liu                   0.368421  0.333333      0.0  \n",
       "John,Liu                   0.315789  0.277778      0.0  \n",
       "William,Thompson, Jr.      0.473684  0.444444      0.0  "
      ]
     },
     "execution_count": 15,
     "metadata": {},
     "output_type": "execute_result"
    }
   ],
   "source": [
    "from sklearn.preprocessing import LabelEncoder\n",
    "from sklearn.preprocessing import MinMaxScaler\n",
    "from sklearn.neighbors import KNeighborsClassifier\n",
    "from sklearn.feature_selection import SelectKBest, chi2\n",
    "IC_2013_df_enc = IC_2013_df.copy()\n",
    "le = LabelEncoder()\n",
    "IC_2013_df_enc['Date'] = le.fit_transform(IC_2013_df['Date'])\n",
    "IC_2013_df_enc['ContributerType'] = le.fit_transform(IC_2013_df['ContributerType'])\n",
    "IC_2013_df_enc['City'] = le.fit_transform(IC_2013_df['City'])\n",
    "IC_2013_df_enc['Amount'] = le.fit_transform(IC_2013_df['Amount'])\n",
    "IC_2013_df_enc['State'] = le.fit_transform(IC_2013_df['State'])\n",
    "IC_2013_df_enc['ZipCode'] = le.fit_transform(IC_2013_df['ZipCode'])\n",
    "IC_2013_df_enc['MatchAmt'] = le.fit_transform(IC_2013_df['MatchAmt'])\n",
    "IC_2013_df_enc['TotalAmount'] = le.fit_transform(IC_2013_df['TotalAmount'])\n",
    "IC_2013_df_enc['Outcome'] = le.fit_transform(IC_2013_df['Outcome'])\n",
    "IC_2013_df_enc['Expenditure Amount'] = le.fit_transform(IC_2013_df['Expenditure Amount'])\n",
    "IC_2013_df_enc['Purpose Code'] = le.fit_transform(IC_2013_df['Purpose Code'])\n",
    "IC_2013_df_enc['Purpose'] = le.fit_transform(IC_2013_df['Purpose'])\n",
    "scaler = MinMaxScaler(feature_range=(0, 1))\n",
    "features = list(IC_2013_df_enc.columns)\n",
    "IC_2013_df_enc[features] = scaler.fit_transform(IC_2013_df_enc[features])\n",
    "IC_2013_df_enc.head()"
   ]
  },
  {
   "cell_type": "code",
   "execution_count": 16,
   "id": "93dcf9e7",
   "metadata": {},
   "outputs": [],
   "source": [
    "X = IC_2013_df_enc.drop('Outcome',axis = 1)"
   ]
  },
  {
   "cell_type": "code",
   "execution_count": 17,
   "id": "2a6377e5",
   "metadata": {},
   "outputs": [],
   "source": [
    "y = IC_2013_df_enc['Outcome']"
   ]
  },
  {
   "cell_type": "code",
   "execution_count": 18,
   "id": "cf8c4300",
   "metadata": {},
   "outputs": [
    {
     "data": {
      "text/plain": [
       "0.0    43667\n",
       "1.0    17270\n",
       "Name: Outcome, dtype: int64"
      ]
     },
     "execution_count": 18,
     "metadata": {},
     "output_type": "execute_result"
    }
   ],
   "source": [
    "# Check the balance of our target values\n",
    "y.value_counts()"
   ]
  },
  {
   "cell_type": "code",
   "execution_count": 19,
   "id": "6f63954f",
   "metadata": {},
   "outputs": [],
   "source": [
    "from sklearn.model_selection import train_test_split\n",
    "X_train, X_test, y_train, y_test = train_test_split(X, y, random_state=1)"
   ]
  },
  {
   "cell_type": "code",
   "execution_count": 20,
   "id": "0a20ac03",
   "metadata": {},
   "outputs": [],
   "source": [
    "# Resample the training data with the BalancedRandomForestClassifier\n",
    "# YOUR CODE HERE\n",
    "\n",
    "from imblearn.ensemble import BalancedRandomForestClassifier\n",
    "random_forest = BalancedRandomForestClassifier(n_estimators = 100,random_state = 1)\n",
    "random_forest = random_forest.fit(X_train, y_train)"
   ]
  },
  {
   "cell_type": "code",
   "execution_count": 21,
   "id": "ca2cec49",
   "metadata": {
    "scrolled": true
   },
   "outputs": [
    {
     "data": {
      "text/plain": [
       "0.8314200032209003"
      ]
     },
     "execution_count": 21,
     "metadata": {},
     "output_type": "execute_result"
    }
   ],
   "source": [
    "# Calculated the balanced accuracy score\n",
    "# YOUR CODE HERE\n",
    "from sklearn.metrics import balanced_accuracy_score\n",
    "y_pred = random_forest.predict(X_test)\n",
    "balanced_accuracy_score(y_test, y_pred)"
   ]
  },
  {
   "cell_type": "code",
   "execution_count": 22,
   "id": "389c19f1",
   "metadata": {},
   "outputs": [
    {
     "data": {
      "text/plain": [
       "array([[8865, 2076],\n",
       "       [ 633, 3661]])"
      ]
     },
     "execution_count": 22,
     "metadata": {},
     "output_type": "execute_result"
    }
   ],
   "source": [
    "# Display the confusion matrix\n",
    "# YOUR CODE HERE\n",
    "# Display the confusion matrix\n",
    "from sklearn.metrics import confusion_matrix\n",
    "confusion_matrix(y_test, y_pred)"
   ]
  },
  {
   "cell_type": "code",
   "execution_count": 23,
   "id": "0258723c",
   "metadata": {},
   "outputs": [
    {
     "name": "stdout",
     "output_type": "stream",
     "text": [
      "                   pre       rec       spe        f1       geo       iba       sup\n",
      "\n",
      "        0.0       0.93      0.81      0.85      0.87      0.83      0.69     10941\n",
      "        1.0       0.64      0.85      0.81      0.73      0.83      0.69      4294\n",
      "\n",
      "avg / total       0.85      0.82      0.84      0.83      0.83      0.69     15235\n",
      "\n"
     ]
    }
   ],
   "source": [
    "from imblearn.metrics import classification_report_imbalanced\n",
    "print(classification_report_imbalanced(y_test, y_pred))"
   ]
  },
  {
   "cell_type": "code",
   "execution_count": 20,
   "id": "a1b7baeb",
   "metadata": {},
   "outputs": [
    {
     "data": {
      "text/html": [
       "<div>\n",
       "<style scoped>\n",
       "    .dataframe tbody tr th:only-of-type {\n",
       "        vertical-align: middle;\n",
       "    }\n",
       "\n",
       "    .dataframe tbody tr th {\n",
       "        vertical-align: top;\n",
       "    }\n",
       "\n",
       "    .dataframe thead th {\n",
       "        text-align: right;\n",
       "    }\n",
       "</style>\n",
       "<table border=\"1\" class=\"dataframe\">\n",
       "  <thead>\n",
       "    <tr style=\"text-align: right;\">\n",
       "      <th></th>\n",
       "      <th>Date</th>\n",
       "      <th>ContributerType</th>\n",
       "      <th>City</th>\n",
       "      <th>State</th>\n",
       "      <th>ZipCode</th>\n",
       "      <th>Amount</th>\n",
       "      <th>MatchAmt</th>\n",
       "      <th>TotalAmount</th>\n",
       "      <th>Outcome</th>\n",
       "    </tr>\n",
       "    <tr>\n",
       "      <th>CandidateName</th>\n",
       "      <th></th>\n",
       "      <th></th>\n",
       "      <th></th>\n",
       "      <th></th>\n",
       "      <th></th>\n",
       "      <th></th>\n",
       "      <th></th>\n",
       "      <th></th>\n",
       "      <th></th>\n",
       "    </tr>\n",
       "  </thead>\n",
       "  <tbody>\n",
       "    <tr>\n",
       "      <th>Coenen, Jr., Kevin P</th>\n",
       "      <td>0.788584</td>\n",
       "      <td>0.0</td>\n",
       "      <td>0.596285</td>\n",
       "      <td>0.536842</td>\n",
       "      <td>0.190547</td>\n",
       "      <td>0.218412</td>\n",
       "      <td>0.0</td>\n",
       "      <td>0.126967</td>\n",
       "      <td>0.0</td>\n",
       "    </tr>\n",
       "    <tr>\n",
       "      <th>Coenen, Jr., Kevin P</th>\n",
       "      <td>0.846371</td>\n",
       "      <td>0.4</td>\n",
       "      <td>0.606520</td>\n",
       "      <td>0.536842</td>\n",
       "      <td>0.026424</td>\n",
       "      <td>0.440433</td>\n",
       "      <td>1.0</td>\n",
       "      <td>0.422875</td>\n",
       "      <td>0.0</td>\n",
       "    </tr>\n",
       "    <tr>\n",
       "      <th>Coenen, Jr., Kevin P</th>\n",
       "      <td>0.788584</td>\n",
       "      <td>0.0</td>\n",
       "      <td>0.596285</td>\n",
       "      <td>0.536842</td>\n",
       "      <td>0.190547</td>\n",
       "      <td>0.189531</td>\n",
       "      <td>0.0</td>\n",
       "      <td>0.111228</td>\n",
       "      <td>0.0</td>\n",
       "    </tr>\n",
       "    <tr>\n",
       "      <th>Marks, Philip A</th>\n",
       "      <td>0.572234</td>\n",
       "      <td>0.0</td>\n",
       "      <td>0.111069</td>\n",
       "      <td>0.536842</td>\n",
       "      <td>0.121697</td>\n",
       "      <td>0.561372</td>\n",
       "      <td>1.0</td>\n",
       "      <td>0.504722</td>\n",
       "      <td>0.0</td>\n",
       "    </tr>\n",
       "    <tr>\n",
       "      <th>Marks, Philip A</th>\n",
       "      <td>0.812544</td>\n",
       "      <td>0.0</td>\n",
       "      <td>0.111069</td>\n",
       "      <td>0.536842</td>\n",
       "      <td>0.121697</td>\n",
       "      <td>0.373646</td>\n",
       "      <td>0.0</td>\n",
       "      <td>0.484785</td>\n",
       "      <td>0.0</td>\n",
       "    </tr>\n",
       "  </tbody>\n",
       "</table>\n",
       "</div>"
      ],
      "text/plain": [
       "                          Date  ContributerType      City     State   ZipCode  \\\n",
       "CandidateName                                                                   \n",
       "Coenen, Jr., Kevin P  0.788584              0.0  0.596285  0.536842  0.190547   \n",
       "Coenen, Jr., Kevin P  0.846371              0.4  0.606520  0.536842  0.026424   \n",
       "Coenen, Jr., Kevin P  0.788584              0.0  0.596285  0.536842  0.190547   \n",
       "Marks, Philip A       0.572234              0.0  0.111069  0.536842  0.121697   \n",
       "Marks, Philip A       0.812544              0.0  0.111069  0.536842  0.121697   \n",
       "\n",
       "                        Amount  MatchAmt  TotalAmount  Outcome  \n",
       "CandidateName                                                   \n",
       "Coenen, Jr., Kevin P  0.218412       0.0     0.126967      0.0  \n",
       "Coenen, Jr., Kevin P  0.440433       1.0     0.422875      0.0  \n",
       "Coenen, Jr., Kevin P  0.189531       0.0     0.111228      0.0  \n",
       "Marks, Philip A       0.561372       1.0     0.504722      0.0  \n",
       "Marks, Philip A       0.373646       0.0     0.484785      0.0  "
      ]
     },
     "execution_count": 20,
     "metadata": {},
     "output_type": "execute_result"
    }
   ],
   "source": [
    "IC_2013_df_enc.head()"
   ]
  },
  {
   "cell_type": "code",
   "execution_count": 21,
   "id": "9aa5e936",
   "metadata": {},
   "outputs": [],
   "source": [
    "X_ContributerType = IC_2013_df_enc.drop(['Outcome','Date','City','State','ZipCode','Amount','MatchAmt','TotalAmount'],axis = 1)\n",
    "y_ContributerType = IC_2013_df_enc['Outcome']"
   ]
  },
  {
   "cell_type": "code",
   "execution_count": 22,
   "id": "524c8e54",
   "metadata": {},
   "outputs": [],
   "source": [
    "from sklearn.model_selection import train_test_split\n",
    "X_train, X_test, y_train, y_test = train_test_split(X_ContributerType, y_ContributerType, random_state=1)"
   ]
  },
  {
   "cell_type": "code",
   "execution_count": 23,
   "id": "40dae88c",
   "metadata": {},
   "outputs": [],
   "source": [
    "# Resample the training data with the BalancedRandomForestClassifier\n",
    "# YOUR CODE HERE\n",
    "\n",
    "from imblearn.ensemble import BalancedRandomForestClassifier\n",
    "random_forest = BalancedRandomForestClassifier(n_estimators = 100,random_state = 1)\n",
    "random_forest = random_forest.fit(X_train, y_train)"
   ]
  },
  {
   "cell_type": "code",
   "execution_count": 24,
   "id": "94671400",
   "metadata": {},
   "outputs": [
    {
     "data": {
      "text/plain": [
       "0.5065262377160307"
      ]
     },
     "execution_count": 24,
     "metadata": {},
     "output_type": "execute_result"
    }
   ],
   "source": [
    "# Calculated the balanced accuracy score\n",
    "# YOUR CODE HERE\n",
    "from sklearn.metrics import balanced_accuracy_score\n",
    "y_pred = random_forest.predict(X_test)\n",
    "balanced_accuracy_score(y_test, y_pred)"
   ]
  },
  {
   "cell_type": "code",
   "execution_count": 25,
   "id": "18f1efbf",
   "metadata": {},
   "outputs": [
    {
     "data": {
      "text/plain": [
       "array([[ 105, 7532],\n",
       "       [   3, 4305]])"
      ]
     },
     "execution_count": 25,
     "metadata": {},
     "output_type": "execute_result"
    }
   ],
   "source": [
    "# Display the confusion matrix\n",
    "# YOUR CODE HERE\n",
    "# Display the confusion matrix\n",
    "from sklearn.metrics import confusion_matrix\n",
    "confusion_matrix(y_test, y_pred)"
   ]
  },
  {
   "cell_type": "code",
   "execution_count": 26,
   "id": "7bbf8667",
   "metadata": {},
   "outputs": [
    {
     "name": "stdout",
     "output_type": "stream",
     "text": [
      "                   pre       rec       spe        f1       geo       iba       sup\n",
      "\n",
      "        0.0       0.97      0.01      1.00      0.03      0.12      0.01      7637\n",
      "        1.0       0.36      1.00      0.01      0.53      0.12      0.02      4308\n",
      "\n",
      "avg / total       0.75      0.37      0.64      0.21      0.12      0.01     11945\n",
      "\n"
     ]
    }
   ],
   "source": [
    "from imblearn.metrics import classification_report_imbalanced\n",
    "print(classification_report_imbalanced(y_test, y_pred))"
   ]
  },
  {
   "cell_type": "code",
   "execution_count": 27,
   "id": "2c481eee",
   "metadata": {},
   "outputs": [],
   "source": [
    "X_City = IC_2013_df_enc.drop(['Outcome','Date','ContributerType','State','ZipCode','Amount','MatchAmt','TotalAmount'],axis = 1)\n",
    "y_City = IC_2013_df_enc['Outcome']"
   ]
  },
  {
   "cell_type": "code",
   "execution_count": 28,
   "id": "700ad47a",
   "metadata": {},
   "outputs": [],
   "source": [
    "from sklearn.model_selection import train_test_split\n",
    "X_train, X_test, y_train, y_test = train_test_split(X_City, y_City, random_state=1)"
   ]
  },
  {
   "cell_type": "code",
   "execution_count": 29,
   "id": "6e2a39c4",
   "metadata": {},
   "outputs": [],
   "source": [
    "# Resample the training data with the BalancedRandomForestClassifier\n",
    "# YOUR CODE HERE\n",
    "\n",
    "from imblearn.ensemble import BalancedRandomForestClassifier\n",
    "random_forest = BalancedRandomForestClassifier(n_estimators = 100,random_state = 1)\n",
    "random_forest = random_forest.fit(X_train, y_train)"
   ]
  },
  {
   "cell_type": "code",
   "execution_count": 30,
   "id": "ab91aa46",
   "metadata": {},
   "outputs": [
    {
     "data": {
      "text/plain": [
       "0.6085476512054822"
      ]
     },
     "execution_count": 30,
     "metadata": {},
     "output_type": "execute_result"
    }
   ],
   "source": [
    "# Calculated the balanced accuracy score\n",
    "# YOUR CODE HERE\n",
    "from sklearn.metrics import balanced_accuracy_score\n",
    "y_pred = random_forest.predict(X_test)\n",
    "balanced_accuracy_score(y_test, y_pred)"
   ]
  },
  {
   "cell_type": "code",
   "execution_count": 31,
   "id": "d8c8f0e7",
   "metadata": {},
   "outputs": [
    {
     "data": {
      "text/plain": [
       "array([[5285, 2352],\n",
       "       [2046, 2262]])"
      ]
     },
     "execution_count": 31,
     "metadata": {},
     "output_type": "execute_result"
    }
   ],
   "source": [
    "# Display the confusion matrix\n",
    "# YOUR CODE HERE\n",
    "# Display the confusion matrix\n",
    "from sklearn.metrics import confusion_matrix\n",
    "confusion_matrix(y_test, y_pred)"
   ]
  },
  {
   "cell_type": "code",
   "execution_count": 32,
   "id": "519e50ce",
   "metadata": {},
   "outputs": [
    {
     "name": "stdout",
     "output_type": "stream",
     "text": [
      "                   pre       rec       spe        f1       geo       iba       sup\n",
      "\n",
      "        0.0       0.72      0.69      0.53      0.71      0.60      0.37      7637\n",
      "        1.0       0.49      0.53      0.69      0.51      0.60      0.36      4308\n",
      "\n",
      "avg / total       0.64      0.63      0.59      0.63      0.60      0.37     11945\n",
      "\n"
     ]
    }
   ],
   "source": [
    "from imblearn.metrics import classification_report_imbalanced\n",
    "print(classification_report_imbalanced(y_test, y_pred))"
   ]
  },
  {
   "cell_type": "code",
   "execution_count": 33,
   "id": "71205e28",
   "metadata": {},
   "outputs": [
    {
     "data": {
      "text/html": [
       "<div>\n",
       "<style scoped>\n",
       "    .dataframe tbody tr th:only-of-type {\n",
       "        vertical-align: middle;\n",
       "    }\n",
       "\n",
       "    .dataframe tbody tr th {\n",
       "        vertical-align: top;\n",
       "    }\n",
       "\n",
       "    .dataframe thead th {\n",
       "        text-align: right;\n",
       "    }\n",
       "</style>\n",
       "<table border=\"1\" class=\"dataframe\">\n",
       "  <thead>\n",
       "    <tr style=\"text-align: right;\">\n",
       "      <th></th>\n",
       "      <th>Date</th>\n",
       "      <th>ContributerType</th>\n",
       "      <th>City</th>\n",
       "      <th>State</th>\n",
       "      <th>ZipCode</th>\n",
       "      <th>Amount</th>\n",
       "      <th>MatchAmt</th>\n",
       "      <th>TotalAmount</th>\n",
       "      <th>Outcome</th>\n",
       "    </tr>\n",
       "    <tr>\n",
       "      <th>CandidateName</th>\n",
       "      <th></th>\n",
       "      <th></th>\n",
       "      <th></th>\n",
       "      <th></th>\n",
       "      <th></th>\n",
       "      <th></th>\n",
       "      <th></th>\n",
       "      <th></th>\n",
       "      <th></th>\n",
       "    </tr>\n",
       "  </thead>\n",
       "  <tbody>\n",
       "    <tr>\n",
       "      <th>de Blasio, Bill</th>\n",
       "      <td>0.334038</td>\n",
       "      <td>0.4</td>\n",
       "      <td>0.606520</td>\n",
       "      <td>0.536842</td>\n",
       "      <td>0.008932</td>\n",
       "      <td>0.489170</td>\n",
       "      <td>1.0</td>\n",
       "      <td>0.460651</td>\n",
       "      <td>1.0</td>\n",
       "    </tr>\n",
       "    <tr>\n",
       "      <th>de Blasio, Bill</th>\n",
       "      <td>0.335447</td>\n",
       "      <td>0.4</td>\n",
       "      <td>0.606520</td>\n",
       "      <td>0.536842</td>\n",
       "      <td>0.008932</td>\n",
       "      <td>0.489170</td>\n",
       "      <td>1.0</td>\n",
       "      <td>0.460651</td>\n",
       "      <td>1.0</td>\n",
       "    </tr>\n",
       "    <tr>\n",
       "      <th>de Blasio, Bill</th>\n",
       "      <td>0.334038</td>\n",
       "      <td>0.4</td>\n",
       "      <td>0.973844</td>\n",
       "      <td>0.536842</td>\n",
       "      <td>0.167845</td>\n",
       "      <td>0.489170</td>\n",
       "      <td>0.0</td>\n",
       "      <td>0.364113</td>\n",
       "      <td>1.0</td>\n",
       "    </tr>\n",
       "    <tr>\n",
       "      <th>de Blasio, Bill</th>\n",
       "      <td>0.338266</td>\n",
       "      <td>0.4</td>\n",
       "      <td>0.111069</td>\n",
       "      <td>0.536842</td>\n",
       "      <td>0.109044</td>\n",
       "      <td>0.489170</td>\n",
       "      <td>1.0</td>\n",
       "      <td>0.460651</td>\n",
       "      <td>1.0</td>\n",
       "    </tr>\n",
       "    <tr>\n",
       "      <th>de Blasio, Bill</th>\n",
       "      <td>0.324172</td>\n",
       "      <td>0.4</td>\n",
       "      <td>0.606520</td>\n",
       "      <td>0.536842</td>\n",
       "      <td>0.008560</td>\n",
       "      <td>0.583032</td>\n",
       "      <td>1.0</td>\n",
       "      <td>0.530955</td>\n",
       "      <td>1.0</td>\n",
       "    </tr>\n",
       "    <tr>\n",
       "      <th>...</th>\n",
       "      <td>...</td>\n",
       "      <td>...</td>\n",
       "      <td>...</td>\n",
       "      <td>...</td>\n",
       "      <td>...</td>\n",
       "      <td>...</td>\n",
       "      <td>...</td>\n",
       "      <td>...</td>\n",
       "      <td>...</td>\n",
       "    </tr>\n",
       "    <tr>\n",
       "      <th>de Blasio, Bill</th>\n",
       "      <td>0.983087</td>\n",
       "      <td>0.9</td>\n",
       "      <td>0.358226</td>\n",
       "      <td>0.494737</td>\n",
       "      <td>0.752512</td>\n",
       "      <td>0.837545</td>\n",
       "      <td>0.0</td>\n",
       "      <td>0.733473</td>\n",
       "      <td>1.0</td>\n",
       "    </tr>\n",
       "    <tr>\n",
       "      <th>de Blasio, Bill</th>\n",
       "      <td>0.969697</td>\n",
       "      <td>0.9</td>\n",
       "      <td>0.289234</td>\n",
       "      <td>0.536842</td>\n",
       "      <td>0.131745</td>\n",
       "      <td>0.583032</td>\n",
       "      <td>0.0</td>\n",
       "      <td>0.484785</td>\n",
       "      <td>1.0</td>\n",
       "    </tr>\n",
       "    <tr>\n",
       "      <th>de Blasio, Bill</th>\n",
       "      <td>0.964059</td>\n",
       "      <td>0.9</td>\n",
       "      <td>0.011372</td>\n",
       "      <td>0.536842</td>\n",
       "      <td>0.228508</td>\n",
       "      <td>0.989170</td>\n",
       "      <td>0.0</td>\n",
       "      <td>0.884575</td>\n",
       "      <td>1.0</td>\n",
       "    </tr>\n",
       "    <tr>\n",
       "      <th>de Blasio, Bill</th>\n",
       "      <td>0.971811</td>\n",
       "      <td>0.9</td>\n",
       "      <td>0.937074</td>\n",
       "      <td>0.136842</td>\n",
       "      <td>0.353554</td>\n",
       "      <td>0.678700</td>\n",
       "      <td>0.0</td>\n",
       "      <td>0.588667</td>\n",
       "      <td>1.0</td>\n",
       "    </tr>\n",
       "    <tr>\n",
       "      <th>de Blasio, Bill</th>\n",
       "      <td>0.978154</td>\n",
       "      <td>0.9</td>\n",
       "      <td>0.937074</td>\n",
       "      <td>0.136842</td>\n",
       "      <td>0.353554</td>\n",
       "      <td>0.787004</td>\n",
       "      <td>0.0</td>\n",
       "      <td>0.767051</td>\n",
       "      <td>1.0</td>\n",
       "    </tr>\n",
       "  </tbody>\n",
       "</table>\n",
       "<p>17270 rows × 9 columns</p>\n",
       "</div>"
      ],
      "text/plain": [
       "                     Date  ContributerType      City     State   ZipCode  \\\n",
       "CandidateName                                                              \n",
       "de Blasio, Bill  0.334038              0.4  0.606520  0.536842  0.008932   \n",
       "de Blasio, Bill  0.335447              0.4  0.606520  0.536842  0.008932   \n",
       "de Blasio, Bill  0.334038              0.4  0.973844  0.536842  0.167845   \n",
       "de Blasio, Bill  0.338266              0.4  0.111069  0.536842  0.109044   \n",
       "de Blasio, Bill  0.324172              0.4  0.606520  0.536842  0.008560   \n",
       "...                   ...              ...       ...       ...       ...   \n",
       "de Blasio, Bill  0.983087              0.9  0.358226  0.494737  0.752512   \n",
       "de Blasio, Bill  0.969697              0.9  0.289234  0.536842  0.131745   \n",
       "de Blasio, Bill  0.964059              0.9  0.011372  0.536842  0.228508   \n",
       "de Blasio, Bill  0.971811              0.9  0.937074  0.136842  0.353554   \n",
       "de Blasio, Bill  0.978154              0.9  0.937074  0.136842  0.353554   \n",
       "\n",
       "                   Amount  MatchAmt  TotalAmount  Outcome  \n",
       "CandidateName                                              \n",
       "de Blasio, Bill  0.489170       1.0     0.460651      1.0  \n",
       "de Blasio, Bill  0.489170       1.0     0.460651      1.0  \n",
       "de Blasio, Bill  0.489170       0.0     0.364113      1.0  \n",
       "de Blasio, Bill  0.489170       1.0     0.460651      1.0  \n",
       "de Blasio, Bill  0.583032       1.0     0.530955      1.0  \n",
       "...                   ...       ...          ...      ...  \n",
       "de Blasio, Bill  0.837545       0.0     0.733473      1.0  \n",
       "de Blasio, Bill  0.583032       0.0     0.484785      1.0  \n",
       "de Blasio, Bill  0.989170       0.0     0.884575      1.0  \n",
       "de Blasio, Bill  0.678700       0.0     0.588667      1.0  \n",
       "de Blasio, Bill  0.787004       0.0     0.767051      1.0  \n",
       "\n",
       "[17270 rows x 9 columns]"
      ]
     },
     "execution_count": 33,
     "metadata": {},
     "output_type": "execute_result"
    }
   ],
   "source": [
    "IC_2013_df_enc.loc[IC_2013_df_enc['Outcome']==1]"
   ]
  },
  {
   "cell_type": "code",
   "execution_count": 34,
   "id": "9be19541",
   "metadata": {},
   "outputs": [],
   "source": [
    "X_State = IC_2013_df_enc.drop(['Outcome','Date','ContributerType','City','ZipCode','Amount','MatchAmt','TotalAmount'],axis = 1)\n",
    "y_State = IC_2013_df_enc['Outcome']"
   ]
  },
  {
   "cell_type": "code",
   "execution_count": 35,
   "id": "83df8194",
   "metadata": {},
   "outputs": [],
   "source": [
    "from sklearn.model_selection import train_test_split\n",
    "X_train, X_test, y_train, y_test = train_test_split(X_State, y_State, random_state=1)"
   ]
  },
  {
   "cell_type": "code",
   "execution_count": 36,
   "id": "ed3a8806",
   "metadata": {},
   "outputs": [],
   "source": [
    "# Resample the training data with the BalancedRandomForestClassifier\n",
    "# YOUR CODE HERE\n",
    "\n",
    "from imblearn.ensemble import BalancedRandomForestClassifier\n",
    "random_forest = BalancedRandomForestClassifier(n_estimators = 100,random_state = 1)\n",
    "random_forest = random_forest.fit(X_train, y_train)"
   ]
  },
  {
   "cell_type": "code",
   "execution_count": 37,
   "id": "58a9e93e",
   "metadata": {},
   "outputs": [
    {
     "data": {
      "text/plain": [
       "0.5160605882104775"
      ]
     },
     "execution_count": 37,
     "metadata": {},
     "output_type": "execute_result"
    }
   ],
   "source": [
    "# Calculated the balanced accuracy score\n",
    "# YOUR CODE HERE\n",
    "from sklearn.metrics import balanced_accuracy_score\n",
    "y_pred = random_forest.predict(X_test)\n",
    "balanced_accuracy_score(y_test, y_pred)"
   ]
  },
  {
   "cell_type": "code",
   "execution_count": 38,
   "id": "e337eb0a",
   "metadata": {},
   "outputs": [
    {
     "data": {
      "text/plain": [
       "array([[ 981, 6656],\n",
       "       [ 415, 3893]])"
      ]
     },
     "execution_count": 38,
     "metadata": {},
     "output_type": "execute_result"
    }
   ],
   "source": [
    "# Display the confusion matrix\n",
    "# YOUR CODE HERE\n",
    "# Display the confusion matrix\n",
    "from sklearn.metrics import confusion_matrix\n",
    "confusion_matrix(y_test, y_pred)"
   ]
  },
  {
   "cell_type": "code",
   "execution_count": 39,
   "id": "794ede33",
   "metadata": {},
   "outputs": [
    {
     "name": "stdout",
     "output_type": "stream",
     "text": [
      "                   pre       rec       spe        f1       geo       iba       sup\n",
      "\n",
      "        0.0       0.70      0.13      0.90      0.22      0.34      0.11      7637\n",
      "        1.0       0.37      0.90      0.13      0.52      0.34      0.13      4308\n",
      "\n",
      "avg / total       0.58      0.41      0.62      0.33      0.34      0.11     11945\n",
      "\n"
     ]
    }
   ],
   "source": [
    "from imblearn.metrics import classification_report_imbalanced\n",
    "print(classification_report_imbalanced(y_test, y_pred))"
   ]
  },
  {
   "cell_type": "code",
   "execution_count": 40,
   "id": "2e20eb50",
   "metadata": {},
   "outputs": [
    {
     "data": {
      "text/html": [
       "<div>\n",
       "<style scoped>\n",
       "    .dataframe tbody tr th:only-of-type {\n",
       "        vertical-align: middle;\n",
       "    }\n",
       "\n",
       "    .dataframe tbody tr th {\n",
       "        vertical-align: top;\n",
       "    }\n",
       "\n",
       "    .dataframe thead th {\n",
       "        text-align: right;\n",
       "    }\n",
       "</style>\n",
       "<table border=\"1\" class=\"dataframe\">\n",
       "  <thead>\n",
       "    <tr style=\"text-align: right;\">\n",
       "      <th></th>\n",
       "      <th>Date</th>\n",
       "      <th>ContributerType</th>\n",
       "      <th>City</th>\n",
       "      <th>State</th>\n",
       "      <th>ZipCode</th>\n",
       "      <th>Amount</th>\n",
       "      <th>MatchAmt</th>\n",
       "      <th>TotalAmount</th>\n",
       "      <th>Outcome</th>\n",
       "    </tr>\n",
       "    <tr>\n",
       "      <th>CandidateName</th>\n",
       "      <th></th>\n",
       "      <th></th>\n",
       "      <th></th>\n",
       "      <th></th>\n",
       "      <th></th>\n",
       "      <th></th>\n",
       "      <th></th>\n",
       "      <th></th>\n",
       "      <th></th>\n",
       "    </tr>\n",
       "  </thead>\n",
       "  <tbody>\n",
       "    <tr>\n",
       "      <th>Coenen, Jr., Kevin P</th>\n",
       "      <td>0.788584</td>\n",
       "      <td>0.0</td>\n",
       "      <td>0.596285</td>\n",
       "      <td>0.536842</td>\n",
       "      <td>0.190547</td>\n",
       "      <td>0.218412</td>\n",
       "      <td>0.0</td>\n",
       "      <td>0.126967</td>\n",
       "      <td>0.0</td>\n",
       "    </tr>\n",
       "  </tbody>\n",
       "</table>\n",
       "</div>"
      ],
      "text/plain": [
       "                          Date  ContributerType      City     State   ZipCode  \\\n",
       "CandidateName                                                                   \n",
       "Coenen, Jr., Kevin P  0.788584              0.0  0.596285  0.536842  0.190547   \n",
       "\n",
       "                        Amount  MatchAmt  TotalAmount  Outcome  \n",
       "CandidateName                                                   \n",
       "Coenen, Jr., Kevin P  0.218412       0.0     0.126967      0.0  "
      ]
     },
     "execution_count": 40,
     "metadata": {},
     "output_type": "execute_result"
    }
   ],
   "source": [
    "IC_2013_df_enc.head(1)"
   ]
  },
  {
   "cell_type": "code",
   "execution_count": 41,
   "id": "599c921a",
   "metadata": {},
   "outputs": [],
   "source": [
    "X_ZipCode = IC_2013_df_enc.drop(['Outcome','Date','ContributerType','State','Amount','MatchAmt','TotalAmount'],axis = 1)\n",
    "y_ZipCode = IC_2013_df_enc['Outcome']"
   ]
  },
  {
   "cell_type": "code",
   "execution_count": 42,
   "id": "d2f50c57",
   "metadata": {},
   "outputs": [],
   "source": [
    "from sklearn.model_selection import train_test_split\n",
    "X_train, X_test, y_train, y_test = train_test_split(X_ZipCode, y_ZipCode, random_state=1)"
   ]
  },
  {
   "cell_type": "code",
   "execution_count": 43,
   "id": "c9118273",
   "metadata": {},
   "outputs": [],
   "source": [
    "# Resample the training data with the BalancedRandomForestClassifier\n",
    "# YOUR CODE HERE\n",
    "\n",
    "from imblearn.ensemble import BalancedRandomForestClassifier\n",
    "random_forest = BalancedRandomForestClassifier(n_estimators = 100,random_state = 1)\n",
    "random_forest = random_forest.fit(X_train, y_train)"
   ]
  },
  {
   "cell_type": "code",
   "execution_count": 44,
   "id": "19ef8593",
   "metadata": {},
   "outputs": [
    {
     "data": {
      "text/plain": [
       "0.6362096292678621"
      ]
     },
     "execution_count": 44,
     "metadata": {},
     "output_type": "execute_result"
    }
   ],
   "source": [
    "# Calculated the balanced accuracy score\n",
    "# YOUR CODE HERE\n",
    "from sklearn.metrics import balanced_accuracy_score\n",
    "y_pred = random_forest.predict(X_test)\n",
    "balanced_accuracy_score(y_test, y_pred)"
   ]
  },
  {
   "cell_type": "code",
   "execution_count": 45,
   "id": "89e86942",
   "metadata": {},
   "outputs": [
    {
     "data": {
      "text/plain": [
       "array([[4947, 2690],\n",
       "       [1617, 2691]])"
      ]
     },
     "execution_count": 45,
     "metadata": {},
     "output_type": "execute_result"
    }
   ],
   "source": [
    "# Display the confusion matrix\n",
    "# YOUR CODE HERE\n",
    "# Display the confusion matrix\n",
    "from sklearn.metrics import confusion_matrix\n",
    "confusion_matrix(y_test, y_pred)"
   ]
  },
  {
   "cell_type": "code",
   "execution_count": 46,
   "id": "ea0af735",
   "metadata": {},
   "outputs": [
    {
     "name": "stdout",
     "output_type": "stream",
     "text": [
      "                   pre       rec       spe        f1       geo       iba       sup\n",
      "\n",
      "        0.0       0.75      0.65      0.62      0.70      0.64      0.41      7637\n",
      "        1.0       0.50      0.62      0.65      0.56      0.64      0.40      4308\n",
      "\n",
      "avg / total       0.66      0.64      0.63      0.65      0.64      0.40     11945\n",
      "\n"
     ]
    }
   ],
   "source": [
    "from imblearn.metrics import classification_report_imbalanced\n",
    "print(classification_report_imbalanced(y_test, y_pred))"
   ]
  },
  {
   "cell_type": "code",
   "execution_count": 47,
   "id": "109cad76",
   "metadata": {},
   "outputs": [
    {
     "data": {
      "text/html": [
       "<div>\n",
       "<style scoped>\n",
       "    .dataframe tbody tr th:only-of-type {\n",
       "        vertical-align: middle;\n",
       "    }\n",
       "\n",
       "    .dataframe tbody tr th {\n",
       "        vertical-align: top;\n",
       "    }\n",
       "\n",
       "    .dataframe thead th {\n",
       "        text-align: right;\n",
       "    }\n",
       "</style>\n",
       "<table border=\"1\" class=\"dataframe\">\n",
       "  <thead>\n",
       "    <tr style=\"text-align: right;\">\n",
       "      <th></th>\n",
       "      <th>Date</th>\n",
       "      <th>ContributerType</th>\n",
       "      <th>City</th>\n",
       "      <th>State</th>\n",
       "      <th>ZipCode</th>\n",
       "      <th>Amount</th>\n",
       "      <th>MatchAmt</th>\n",
       "      <th>TotalAmount</th>\n",
       "      <th>Outcome</th>\n",
       "    </tr>\n",
       "    <tr>\n",
       "      <th>CandidateName</th>\n",
       "      <th></th>\n",
       "      <th></th>\n",
       "      <th></th>\n",
       "      <th></th>\n",
       "      <th></th>\n",
       "      <th></th>\n",
       "      <th></th>\n",
       "      <th></th>\n",
       "      <th></th>\n",
       "    </tr>\n",
       "  </thead>\n",
       "  <tbody>\n",
       "    <tr>\n",
       "      <th>Coenen, Jr., Kevin P</th>\n",
       "      <td>0.788584</td>\n",
       "      <td>0.0</td>\n",
       "      <td>0.596285</td>\n",
       "      <td>0.536842</td>\n",
       "      <td>0.190547</td>\n",
       "      <td>0.218412</td>\n",
       "      <td>0.0</td>\n",
       "      <td>0.126967</td>\n",
       "      <td>0.0</td>\n",
       "    </tr>\n",
       "    <tr>\n",
       "      <th>Coenen, Jr., Kevin P</th>\n",
       "      <td>0.846371</td>\n",
       "      <td>0.4</td>\n",
       "      <td>0.606520</td>\n",
       "      <td>0.536842</td>\n",
       "      <td>0.026424</td>\n",
       "      <td>0.440433</td>\n",
       "      <td>1.0</td>\n",
       "      <td>0.422875</td>\n",
       "      <td>0.0</td>\n",
       "    </tr>\n",
       "    <tr>\n",
       "      <th>Coenen, Jr., Kevin P</th>\n",
       "      <td>0.788584</td>\n",
       "      <td>0.0</td>\n",
       "      <td>0.596285</td>\n",
       "      <td>0.536842</td>\n",
       "      <td>0.190547</td>\n",
       "      <td>0.189531</td>\n",
       "      <td>0.0</td>\n",
       "      <td>0.111228</td>\n",
       "      <td>0.0</td>\n",
       "    </tr>\n",
       "    <tr>\n",
       "      <th>Marks, Philip A</th>\n",
       "      <td>0.572234</td>\n",
       "      <td>0.0</td>\n",
       "      <td>0.111069</td>\n",
       "      <td>0.536842</td>\n",
       "      <td>0.121697</td>\n",
       "      <td>0.561372</td>\n",
       "      <td>1.0</td>\n",
       "      <td>0.504722</td>\n",
       "      <td>0.0</td>\n",
       "    </tr>\n",
       "    <tr>\n",
       "      <th>Marks, Philip A</th>\n",
       "      <td>0.812544</td>\n",
       "      <td>0.0</td>\n",
       "      <td>0.111069</td>\n",
       "      <td>0.536842</td>\n",
       "      <td>0.121697</td>\n",
       "      <td>0.373646</td>\n",
       "      <td>0.0</td>\n",
       "      <td>0.484785</td>\n",
       "      <td>0.0</td>\n",
       "    </tr>\n",
       "  </tbody>\n",
       "</table>\n",
       "</div>"
      ],
      "text/plain": [
       "                          Date  ContributerType      City     State   ZipCode  \\\n",
       "CandidateName                                                                   \n",
       "Coenen, Jr., Kevin P  0.788584              0.0  0.596285  0.536842  0.190547   \n",
       "Coenen, Jr., Kevin P  0.846371              0.4  0.606520  0.536842  0.026424   \n",
       "Coenen, Jr., Kevin P  0.788584              0.0  0.596285  0.536842  0.190547   \n",
       "Marks, Philip A       0.572234              0.0  0.111069  0.536842  0.121697   \n",
       "Marks, Philip A       0.812544              0.0  0.111069  0.536842  0.121697   \n",
       "\n",
       "                        Amount  MatchAmt  TotalAmount  Outcome  \n",
       "CandidateName                                                   \n",
       "Coenen, Jr., Kevin P  0.218412       0.0     0.126967      0.0  \n",
       "Coenen, Jr., Kevin P  0.440433       1.0     0.422875      0.0  \n",
       "Coenen, Jr., Kevin P  0.189531       0.0     0.111228      0.0  \n",
       "Marks, Philip A       0.561372       1.0     0.504722      0.0  \n",
       "Marks, Philip A       0.373646       0.0     0.484785      0.0  "
      ]
     },
     "execution_count": 47,
     "metadata": {},
     "output_type": "execute_result"
    }
   ],
   "source": [
    "IC_2013_df_enc.head()"
   ]
  },
  {
   "cell_type": "code",
   "execution_count": 48,
   "id": "9e8be566",
   "metadata": {},
   "outputs": [],
   "source": [
    "X_Amount = IC_2013_df_enc.drop(['Outcome','Date','ContributerType','State','ZipCode','MatchAmt','TotalAmount'],axis = 1)\n",
    "y_Amount = IC_2013_df_enc['Outcome']"
   ]
  },
  {
   "cell_type": "code",
   "execution_count": 49,
   "id": "0c9a3448",
   "metadata": {},
   "outputs": [],
   "source": [
    "from sklearn.model_selection import train_test_split\n",
    "X_train, X_test, y_train, y_test = train_test_split(X_Amount, y_Amount, random_state=1)"
   ]
  },
  {
   "cell_type": "code",
   "execution_count": 50,
   "id": "e3cbd767",
   "metadata": {},
   "outputs": [],
   "source": [
    "# Resample the training data with the BalancedRandomForestClassifier\n",
    "# YOUR CODE HERE\n",
    "\n",
    "from imblearn.ensemble import BalancedRandomForestClassifier\n",
    "random_forest = BalancedRandomForestClassifier(n_estimators = 100,random_state = 1)\n",
    "random_forest = random_forest.fit(X_train, y_train)"
   ]
  },
  {
   "cell_type": "code",
   "execution_count": 51,
   "id": "d3a375c4",
   "metadata": {},
   "outputs": [
    {
     "data": {
      "text/plain": [
       "0.6296625862046537"
      ]
     },
     "execution_count": 51,
     "metadata": {},
     "output_type": "execute_result"
    }
   ],
   "source": [
    "# Calculated the balanced accuracy score\n",
    "# YOUR CODE HERE\n",
    "from sklearn.metrics import balanced_accuracy_score\n",
    "y_pred = random_forest.predict(X_test)\n",
    "balanced_accuracy_score(y_test, y_pred)"
   ]
  },
  {
   "cell_type": "code",
   "execution_count": 52,
   "id": "bfd087f4",
   "metadata": {},
   "outputs": [
    {
     "data": {
      "text/plain": [
       "array([[4808, 2829],\n",
       "       [1595, 2713]])"
      ]
     },
     "execution_count": 52,
     "metadata": {},
     "output_type": "execute_result"
    }
   ],
   "source": [
    "# Display the confusion matrix\n",
    "# YOUR CODE HERE\n",
    "# Display the confusion matrix\n",
    "from sklearn.metrics import confusion_matrix\n",
    "confusion_matrix(y_test, y_pred)"
   ]
  },
  {
   "cell_type": "code",
   "execution_count": 53,
   "id": "26c7eb75",
   "metadata": {},
   "outputs": [
    {
     "name": "stdout",
     "output_type": "stream",
     "text": [
      "                   pre       rec       spe        f1       geo       iba       sup\n",
      "\n",
      "        0.0       0.75      0.63      0.63      0.68      0.63      0.40      7637\n",
      "        1.0       0.49      0.63      0.63      0.55      0.63      0.40      4308\n",
      "\n",
      "avg / total       0.66      0.63      0.63      0.64      0.63      0.40     11945\n",
      "\n"
     ]
    }
   ],
   "source": [
    "from imblearn.metrics import classification_report_imbalanced\n",
    "print(classification_report_imbalanced(y_test, y_pred))"
   ]
  },
  {
   "cell_type": "code",
   "execution_count": 54,
   "id": "b636e9ef",
   "metadata": {},
   "outputs": [],
   "source": [
    "X_MatchAmt = IC_2013_df_enc.drop(['Outcome','Date','ContributerType','State','ZipCode','Amount','TotalAmount'],axis = 1)\n",
    "y_MatchAmt = IC_2013_df_enc['Outcome']"
   ]
  },
  {
   "cell_type": "code",
   "execution_count": 55,
   "id": "c05569c7",
   "metadata": {},
   "outputs": [],
   "source": [
    "from sklearn.model_selection import train_test_split\n",
    "X_train, X_test, y_train, y_test = train_test_split(X_MatchAmt, y_MatchAmt, random_state=1)"
   ]
  },
  {
   "cell_type": "code",
   "execution_count": 56,
   "id": "a30d08c2",
   "metadata": {},
   "outputs": [],
   "source": [
    "# Resample the training data with the BalancedRandomForestClassifier\n",
    "# YOUR CODE HERE\n",
    "\n",
    "from imblearn.ensemble import BalancedRandomForestClassifier\n",
    "random_forest = BalancedRandomForestClassifier(n_estimators = 100,random_state = 1)\n",
    "random_forest = random_forest.fit(X_train, y_train)"
   ]
  },
  {
   "cell_type": "code",
   "execution_count": 57,
   "id": "1a540fb1",
   "metadata": {},
   "outputs": [
    {
     "data": {
      "text/plain": [
       "0.628367928264014"
      ]
     },
     "execution_count": 57,
     "metadata": {},
     "output_type": "execute_result"
    }
   ],
   "source": [
    "# Calculated the balanced accuracy score\n",
    "# YOUR CODE HERE\n",
    "from sklearn.metrics import balanced_accuracy_score\n",
    "y_pred = random_forest.predict(X_test)\n",
    "balanced_accuracy_score(y_test, y_pred)"
   ]
  },
  {
   "cell_type": "code",
   "execution_count": 58,
   "id": "9d44d534",
   "metadata": {},
   "outputs": [
    {
     "data": {
      "text/plain": [
       "array([[4946, 2691],\n",
       "       [1684, 2624]])"
      ]
     },
     "execution_count": 58,
     "metadata": {},
     "output_type": "execute_result"
    }
   ],
   "source": [
    "# Display the confusion matrix\n",
    "# YOUR CODE HERE\n",
    "# Display the confusion matrix\n",
    "from sklearn.metrics import confusion_matrix\n",
    "confusion_matrix(y_test, y_pred)"
   ]
  },
  {
   "cell_type": "code",
   "execution_count": 59,
   "id": "d8c8dba5",
   "metadata": {},
   "outputs": [],
   "source": [
    "X_TotalAmount = IC_2013_df_enc.drop(['Outcome','Date','ContributerType','State','ZipCode','MatchAmt','Amount'],axis = 1)\n",
    "y_TotalAmount = IC_2013_df_enc['Outcome']"
   ]
  },
  {
   "cell_type": "code",
   "execution_count": 60,
   "id": "bc302625",
   "metadata": {},
   "outputs": [],
   "source": [
    "from sklearn.model_selection import train_test_split\n",
    "X_train, X_test, y_train, y_test = train_test_split(X_TotalAmount, y_TotalAmount, random_state=1)"
   ]
  },
  {
   "cell_type": "code",
   "execution_count": 61,
   "id": "db26a7d5",
   "metadata": {},
   "outputs": [],
   "source": [
    "# Resample the training data with the BalancedRandomForestClassifier\n",
    "# YOUR CODE HERE\n",
    "\n",
    "from imblearn.ensemble import BalancedRandomForestClassifier\n",
    "random_forest = BalancedRandomForestClassifier(n_estimators = 100,random_state = 1)\n",
    "random_forest = random_forest.fit(X_train, y_train)"
   ]
  },
  {
   "cell_type": "code",
   "execution_count": 62,
   "id": "5054c39b",
   "metadata": {},
   "outputs": [
    {
     "data": {
      "text/plain": [
       "0.6148064437062928"
      ]
     },
     "execution_count": 62,
     "metadata": {},
     "output_type": "execute_result"
    }
   ],
   "source": [
    "# Calculated the balanced accuracy score\n",
    "# YOUR CODE HERE\n",
    "from sklearn.metrics import balanced_accuracy_score\n",
    "y_pred = random_forest.predict(X_test)\n",
    "balanced_accuracy_score(y_test, y_pred)"
   ]
  },
  {
   "cell_type": "code",
   "execution_count": 63,
   "id": "e2564c7f",
   "metadata": {},
   "outputs": [
    {
     "data": {
      "text/plain": [
       "array([[4886, 2751],\n",
       "       [1767, 2541]])"
      ]
     },
     "execution_count": 63,
     "metadata": {},
     "output_type": "execute_result"
    }
   ],
   "source": [
    "# Display the confusion matrix\n",
    "# YOUR CODE HERE\n",
    "# Display the confusion matrix\n",
    "from sklearn.metrics import confusion_matrix\n",
    "confusion_matrix(y_test, y_pred)"
   ]
  },
  {
   "cell_type": "code",
   "execution_count": 64,
   "id": "9ca3c6a5",
   "metadata": {},
   "outputs": [
    {
     "name": "stdout",
     "output_type": "stream",
     "text": [
      "                   pre       rec       spe        f1       geo       iba       sup\n",
      "\n",
      "        0.0       0.73      0.64      0.59      0.68      0.61      0.38      7637\n",
      "        1.0       0.48      0.59      0.64      0.53      0.61      0.38      4308\n",
      "\n",
      "avg / total       0.64      0.62      0.61      0.63      0.61      0.38     11945\n",
      "\n"
     ]
    }
   ],
   "source": [
    "from imblearn.metrics import classification_report_imbalanced\n",
    "print(classification_report_imbalanced(y_test, y_pred))"
   ]
  },
  {
   "cell_type": "code",
   "execution_count": 65,
   "id": "9edaacad",
   "metadata": {},
   "outputs": [],
   "source": [
    "X_Total_Zip = IC_2013_df_enc.drop(['Outcome','Date','ContributerType','State','MatchAmt','Amount'],axis = 1)\n",
    "y_Total_Zip = IC_2013_df_enc['Outcome']"
   ]
  },
  {
   "cell_type": "code",
   "execution_count": 66,
   "id": "fbf65d81",
   "metadata": {},
   "outputs": [],
   "source": [
    "from sklearn.model_selection import train_test_split\n",
    "X_train, X_test, y_train, y_test = train_test_split(X_Total_Zip, y_Total_Zip, random_state=1)"
   ]
  },
  {
   "cell_type": "code",
   "execution_count": 67,
   "id": "ae41c69b",
   "metadata": {},
   "outputs": [],
   "source": [
    "# Resample the training data with the BalancedRandomForestClassifier\n",
    "# YOUR CODE HERE\n",
    "\n",
    "from imblearn.ensemble import BalancedRandomForestClassifier\n",
    "random_forest = BalancedRandomForestClassifier(n_estimators = 100,random_state = 1)\n",
    "random_forest = random_forest.fit(X_train, y_train)"
   ]
  },
  {
   "cell_type": "code",
   "execution_count": 68,
   "id": "ef4fc186",
   "metadata": {},
   "outputs": [
    {
     "data": {
      "text/plain": [
       "0.6370964021004617"
      ]
     },
     "execution_count": 68,
     "metadata": {},
     "output_type": "execute_result"
    }
   ],
   "source": [
    "# Calculated the balanced accuracy score\n",
    "# YOUR CODE HERE\n",
    "from sklearn.metrics import balanced_accuracy_score\n",
    "y_pred = random_forest.predict(X_test)\n",
    "balanced_accuracy_score(y_test, y_pred)"
   ]
  },
  {
   "cell_type": "code",
   "execution_count": 69,
   "id": "374fc798",
   "metadata": {},
   "outputs": [
    {
     "data": {
      "text/plain": [
       "array([[5035, 2602],\n",
       "       [1659, 2649]])"
      ]
     },
     "execution_count": 69,
     "metadata": {},
     "output_type": "execute_result"
    }
   ],
   "source": [
    "# Display the confusion matrix\n",
    "# YOUR CODE HERE\n",
    "# Display the confusion matrix\n",
    "from sklearn.metrics import confusion_matrix\n",
    "confusion_matrix(y_test, y_pred)"
   ]
  },
  {
   "cell_type": "code",
   "execution_count": 70,
   "id": "e6f53dfb",
   "metadata": {},
   "outputs": [
    {
     "name": "stdout",
     "output_type": "stream",
     "text": [
      "                   pre       rec       spe        f1       geo       iba       sup\n",
      "\n",
      "        0.0       0.75      0.66      0.61      0.70      0.64      0.41      7637\n",
      "        1.0       0.50      0.61      0.66      0.55      0.64      0.40      4308\n",
      "\n",
      "avg / total       0.66      0.64      0.63      0.65      0.64      0.41     11945\n",
      "\n"
     ]
    }
   ],
   "source": [
    "from imblearn.metrics import classification_report_imbalanced\n",
    "print(classification_report_imbalanced(y_test, y_pred))"
   ]
  },
  {
   "cell_type": "code",
   "execution_count": 71,
   "id": "c00cb1a7",
   "metadata": {},
   "outputs": [
    {
     "data": {
      "text/plain": [
       "Date               0\n",
       "ContributerType    0\n",
       "City               0\n",
       "State              0\n",
       "ZipCode            0\n",
       "Amount             0\n",
       "MatchAmt           0\n",
       "TotalAmount        0\n",
       "Outcome            0\n",
       "dtype: int64"
      ]
     },
     "execution_count": 71,
     "metadata": {},
     "output_type": "execute_result"
    }
   ],
   "source": [
    "# IC_2013_df = IC_2013_df.dropna()\n",
    "# IC_2013_df.isnull().sum()"
   ]
  },
  {
   "cell_type": "code",
   "execution_count": 24,
   "id": "0e879423",
   "metadata": {},
   "outputs": [
    {
     "data": {
      "text/plain": [
       "Index(['Date', 'ContributerType', 'City', 'State', 'ZipCode', 'Amount',\n",
       "       'MatchAmt', 'TotalAmount', 'Expenditure Amount', 'Purpose Code',\n",
       "       'Purpose', 'Outcome'],\n",
       "      dtype='object')"
      ]
     },
     "execution_count": 24,
     "metadata": {},
     "output_type": "execute_result"
    }
   ],
   "source": [
    "IC_2013_df_enc.columns"
   ]
  },
  {
   "cell_type": "code",
   "execution_count": 43,
   "id": "e92f3d79",
   "metadata": {},
   "outputs": [],
   "source": [
    "X_exp = IC_2013_df_enc.drop(['Outcome','Date','City','ContributerType','State','ZipCode','MatchAmt','Amount','MatchAmt','TotalAmount','Purpose'],axis = 1)\n"
   ]
  },
  {
   "cell_type": "code",
   "execution_count": 44,
   "id": "9a2300d4",
   "metadata": {},
   "outputs": [],
   "source": [
    "y_exp = IC_2013_df_enc['Outcome']"
   ]
  },
  {
   "cell_type": "code",
   "execution_count": 45,
   "id": "e7661cd2",
   "metadata": {},
   "outputs": [],
   "source": [
    "from sklearn.model_selection import train_test_split\n",
    "X_train, X_test, y_train, y_test = train_test_split(X_exp, y_exp, random_state=1)"
   ]
  },
  {
   "cell_type": "code",
   "execution_count": 46,
   "id": "2c614a94",
   "metadata": {},
   "outputs": [],
   "source": [
    "# Resample the training data with the BalancedRandomForestClassifier\n",
    "# YOUR CODE HERE\n",
    "\n",
    "from imblearn.ensemble import BalancedRandomForestClassifier\n",
    "random_forest = BalancedRandomForestClassifier(n_estimators = 100,random_state = 1)\n",
    "random_forest = random_forest.fit(X_train, y_train)"
   ]
  },
  {
   "cell_type": "code",
   "execution_count": 47,
   "id": "24c366dc",
   "metadata": {},
   "outputs": [
    {
     "data": {
      "text/plain": [
       "0.6554702495201535"
      ]
     },
     "execution_count": 47,
     "metadata": {},
     "output_type": "execute_result"
    }
   ],
   "source": [
    "# Calculated the balanced accuracy score\n",
    "# YOUR CODE HERE\n",
    "from sklearn.metrics import balanced_accuracy_score\n",
    "y_pred = random_forest.predict(X_test)\n",
    "balanced_accuracy_score(y_test, y_pred)"
   ]
  },
  {
   "cell_type": "code",
   "execution_count": 48,
   "id": "b70193b2",
   "metadata": {},
   "outputs": [
    {
     "data": {
      "text/plain": [
       "array([[3402, 7539],\n",
       "       [   0, 4294]])"
      ]
     },
     "execution_count": 48,
     "metadata": {},
     "output_type": "execute_result"
    }
   ],
   "source": [
    "# Display the confusion matrix\n",
    "# YOUR CODE HERE\n",
    "# Display the confusion matrix\n",
    "from sklearn.metrics import confusion_matrix\n",
    "confusion_matrix(y_test, y_pred)"
   ]
  },
  {
   "cell_type": "code",
   "execution_count": 49,
   "id": "240ad9be",
   "metadata": {},
   "outputs": [
    {
     "name": "stdout",
     "output_type": "stream",
     "text": [
      "                   pre       rec       spe        f1       geo       iba       sup\n",
      "\n",
      "        0.0       1.00      0.31      1.00      0.47      0.56      0.29     10941\n",
      "        1.0       0.36      1.00      0.31      0.53      0.56      0.33      4294\n",
      "\n",
      "avg / total       0.82      0.51      0.81      0.49      0.56      0.30     15235\n",
      "\n"
     ]
    }
   ],
   "source": [
    "from imblearn.metrics import classification_report_imbalanced\n",
    "print(classification_report_imbalanced(y_test, y_pred))"
   ]
  },
  {
   "cell_type": "code",
   "execution_count": null,
   "id": "c84fd471",
   "metadata": {},
   "outputs": [],
   "source": []
  }
 ],
 "metadata": {
  "kernelspec": {
   "display_name": "mlenv",
   "language": "python",
   "name": "mlenv"
  },
  "language_info": {
   "codemirror_mode": {
    "name": "ipython",
    "version": 3
   },
   "file_extension": ".py",
   "mimetype": "text/x-python",
   "name": "python",
   "nbconvert_exporter": "python",
   "pygments_lexer": "ipython3",
   "version": "3.7.10"
  }
 },
 "nbformat": 4,
 "nbformat_minor": 5
}
