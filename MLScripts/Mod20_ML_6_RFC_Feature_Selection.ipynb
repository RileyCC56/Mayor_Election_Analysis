{
 "cells": [
  {
   "cell_type": "code",
   "execution_count": 322,
   "id": "d61af5fa",
   "metadata": {},
   "outputs": [],
   "source": [
    "# Initial imports\n",
    "from path import Path\n",
    "from sklearn import tree\n",
    "from sklearn.preprocessing import StandardScaler\n",
    "from sklearn.model_selection import train_test_split\n",
    "from sklearn.metrics import confusion_matrix, accuracy_score, classification_report\n",
    "import pandas as pd\n",
    "import numpy as np"
   ]
  },
  {
   "cell_type": "code",
   "execution_count": 323,
   "id": "91f9151a",
   "metadata": {},
   "outputs": [
    {
     "data": {
      "text/html": [
       "<div>\n",
       "<style scoped>\n",
       "    .dataframe tbody tr th:only-of-type {\n",
       "        vertical-align: middle;\n",
       "    }\n",
       "\n",
       "    .dataframe tbody tr th {\n",
       "        vertical-align: top;\n",
       "    }\n",
       "\n",
       "    .dataframe thead th {\n",
       "        text-align: right;\n",
       "    }\n",
       "</style>\n",
       "<table border=\"1\" class=\"dataframe\">\n",
       "  <thead>\n",
       "    <tr style=\"text-align: right;\">\n",
       "      <th></th>\n",
       "      <th>Unnamed: 0</th>\n",
       "      <th>Election</th>\n",
       "      <th>CandidateID</th>\n",
       "      <th>Date</th>\n",
       "      <th>Name</th>\n",
       "      <th>ContributerType</th>\n",
       "      <th>BoroughName</th>\n",
       "      <th>City</th>\n",
       "      <th>State</th>\n",
       "      <th>ZipCode</th>\n",
       "      <th>ContributionState</th>\n",
       "      <th>Amount</th>\n",
       "      <th>MatchAmt</th>\n",
       "      <th>PrevAmt</th>\n",
       "      <th>PayMethod</th>\n",
       "      <th>TotalAmount</th>\n",
       "    </tr>\n",
       "    <tr>\n",
       "      <th>CandidateName</th>\n",
       "      <th></th>\n",
       "      <th></th>\n",
       "      <th></th>\n",
       "      <th></th>\n",
       "      <th></th>\n",
       "      <th></th>\n",
       "      <th></th>\n",
       "      <th></th>\n",
       "      <th></th>\n",
       "      <th></th>\n",
       "      <th></th>\n",
       "      <th></th>\n",
       "      <th></th>\n",
       "      <th></th>\n",
       "      <th></th>\n",
       "      <th></th>\n",
       "    </tr>\n",
       "  </thead>\n",
       "  <tbody>\n",
       "    <tr>\n",
       "      <th>Quinn, Christine C</th>\n",
       "      <td>0</td>\n",
       "      <td>2013</td>\n",
       "      <td>204</td>\n",
       "      <td>2011-07-11</td>\n",
       "      <td>1199 SEIU PAC - NYS PA Fund</td>\n",
       "      <td>Political Action Committee</td>\n",
       "      <td>Manhattan</td>\n",
       "      <td>New York</td>\n",
       "      <td>NY</td>\n",
       "      <td>10036.0</td>\n",
       "      <td>NaN</td>\n",
       "      <td>1000.00</td>\n",
       "      <td>0.0</td>\n",
       "      <td>0.0</td>\n",
       "      <td>Check</td>\n",
       "      <td>1000.00</td>\n",
       "    </tr>\n",
       "    <tr>\n",
       "      <th>Quinn, Christine C</th>\n",
       "      <td>1</td>\n",
       "      <td>2013</td>\n",
       "      <td>204</td>\n",
       "      <td>2013-01-10</td>\n",
       "      <td>1199 SEIU PAC - NYS PA Fund</td>\n",
       "      <td>Political Action Committee</td>\n",
       "      <td>Manhattan</td>\n",
       "      <td>New York</td>\n",
       "      <td>NY</td>\n",
       "      <td>10036.0</td>\n",
       "      <td>NaN</td>\n",
       "      <td>3950.00</td>\n",
       "      <td>0.0</td>\n",
       "      <td>1000.0</td>\n",
       "      <td>Check</td>\n",
       "      <td>4950.00</td>\n",
       "    </tr>\n",
       "    <tr>\n",
       "      <th>de Blasio, Bill</th>\n",
       "      <td>2</td>\n",
       "      <td>2013</td>\n",
       "      <td>326</td>\n",
       "      <td>2010-04-29</td>\n",
       "      <td>1199/SEIU NYS Pol. Action Fund</td>\n",
       "      <td>Political Action Committee</td>\n",
       "      <td>Manhattan</td>\n",
       "      <td>New York</td>\n",
       "      <td>NY</td>\n",
       "      <td>10036.0</td>\n",
       "      <td>NaN</td>\n",
       "      <td>4950.00</td>\n",
       "      <td>0.0</td>\n",
       "      <td>0.0</td>\n",
       "      <td>Check</td>\n",
       "      <td>4950.00</td>\n",
       "    </tr>\n",
       "    <tr>\n",
       "      <th>de Blasio, Bill</th>\n",
       "      <td>3</td>\n",
       "      <td>2013</td>\n",
       "      <td>326</td>\n",
       "      <td>2013-09-08</td>\n",
       "      <td>1199/SEIU NYS Pol. Action Fund</td>\n",
       "      <td>Political Action Committee</td>\n",
       "      <td>Manhattan</td>\n",
       "      <td>New York</td>\n",
       "      <td>NY</td>\n",
       "      <td>10036.0</td>\n",
       "      <td>NaN</td>\n",
       "      <td>19084.25</td>\n",
       "      <td>0.0</td>\n",
       "      <td>0.0</td>\n",
       "      <td>Unknown</td>\n",
       "      <td>19084.25</td>\n",
       "    </tr>\n",
       "    <tr>\n",
       "      <th>de Blasio, Bill</th>\n",
       "      <td>4</td>\n",
       "      <td>2013</td>\n",
       "      <td>326</td>\n",
       "      <td>2013-09-08</td>\n",
       "      <td>1199/SEIU NYS Pol. Action Fund</td>\n",
       "      <td>Political Action Committee</td>\n",
       "      <td>Manhattan</td>\n",
       "      <td>New York</td>\n",
       "      <td>NY</td>\n",
       "      <td>10036.0</td>\n",
       "      <td>NaN</td>\n",
       "      <td>168.31</td>\n",
       "      <td>0.0</td>\n",
       "      <td>0.0</td>\n",
       "      <td>Unknown</td>\n",
       "      <td>168.31</td>\n",
       "    </tr>\n",
       "  </tbody>\n",
       "</table>\n",
       "</div>"
      ],
      "text/plain": [
       "                    Unnamed: 0  Election  CandidateID        Date  \\\n",
       "CandidateName                                                       \n",
       "Quinn, Christine C           0      2013          204  2011-07-11   \n",
       "Quinn, Christine C           1      2013          204  2013-01-10   \n",
       "de Blasio, Bill              2      2013          326  2010-04-29   \n",
       "de Blasio, Bill              3      2013          326  2013-09-08   \n",
       "de Blasio, Bill              4      2013          326  2013-09-08   \n",
       "\n",
       "                                              Name  \\\n",
       "CandidateName                                        \n",
       "Quinn, Christine C     1199 SEIU PAC - NYS PA Fund   \n",
       "Quinn, Christine C     1199 SEIU PAC - NYS PA Fund   \n",
       "de Blasio, Bill     1199/SEIU NYS Pol. Action Fund   \n",
       "de Blasio, Bill     1199/SEIU NYS Pol. Action Fund   \n",
       "de Blasio, Bill     1199/SEIU NYS Pol. Action Fund   \n",
       "\n",
       "                               ContributerType BoroughName      City State  \\\n",
       "CandidateName                                                                \n",
       "Quinn, Christine C  Political Action Committee   Manhattan  New York    NY   \n",
       "Quinn, Christine C  Political Action Committee   Manhattan  New York    NY   \n",
       "de Blasio, Bill     Political Action Committee   Manhattan  New York    NY   \n",
       "de Blasio, Bill     Political Action Committee   Manhattan  New York    NY   \n",
       "de Blasio, Bill     Political Action Committee   Manhattan  New York    NY   \n",
       "\n",
       "                    ZipCode  ContributionState    Amount  MatchAmt  PrevAmt  \\\n",
       "CandidateName                                                                 \n",
       "Quinn, Christine C  10036.0                NaN   1000.00       0.0      0.0   \n",
       "Quinn, Christine C  10036.0                NaN   3950.00       0.0   1000.0   \n",
       "de Blasio, Bill     10036.0                NaN   4950.00       0.0      0.0   \n",
       "de Blasio, Bill     10036.0                NaN  19084.25       0.0      0.0   \n",
       "de Blasio, Bill     10036.0                NaN    168.31       0.0      0.0   \n",
       "\n",
       "                   PayMethod  TotalAmount  \n",
       "CandidateName                              \n",
       "Quinn, Christine C     Check      1000.00  \n",
       "Quinn, Christine C     Check      4950.00  \n",
       "de Blasio, Bill        Check      4950.00  \n",
       "de Blasio, Bill      Unknown     19084.25  \n",
       "de Blasio, Bill      Unknown       168.31  "
      ]
     },
     "execution_count": 323,
     "metadata": {},
     "output_type": "execute_result"
    }
   ],
   "source": [
    "file = '../Resources/Clean_Committee_2013.csv'\n",
    "IC_2013 = pd.read_csv(file,index_col='CandidateName')\n",
    "uncleaned = pd.read_csv(file,index_col=False)\n",
    "IC_2013.head()"
   ]
  },
  {
   "cell_type": "code",
   "execution_count": 324,
   "id": "0b5f4eb7",
   "metadata": {},
   "outputs": [],
   "source": [
    "IC_2013['ZipCode'] = IC_2013['ZipCode'].apply(str)"
   ]
  },
  {
   "cell_type": "code",
   "execution_count": 325,
   "id": "24e2e603",
   "metadata": {},
   "outputs": [
    {
     "data": {
      "text/plain": [
       "array(['Political Action Committee', 'Other', 'Labor Union',\n",
       "       'Corporation', 'Limited Liability Company', 'Party Committee',\n",
       "       'Individual', 'Candidate Committee'], dtype=object)"
      ]
     },
     "execution_count": 325,
     "metadata": {},
     "output_type": "execute_result"
    }
   ],
   "source": [
    "IC_2013['ContributerType'].unique()"
   ]
  },
  {
   "cell_type": "code",
   "execution_count": 326,
   "id": "bcb552e2",
   "metadata": {},
   "outputs": [
    {
     "data": {
      "text/html": [
       "<div>\n",
       "<style scoped>\n",
       "    .dataframe tbody tr th:only-of-type {\n",
       "        vertical-align: middle;\n",
       "    }\n",
       "\n",
       "    .dataframe tbody tr th {\n",
       "        vertical-align: top;\n",
       "    }\n",
       "\n",
       "    .dataframe thead th {\n",
       "        text-align: right;\n",
       "    }\n",
       "</style>\n",
       "<table border=\"1\" class=\"dataframe\">\n",
       "  <thead>\n",
       "    <tr style=\"text-align: right;\">\n",
       "      <th></th>\n",
       "      <th>Amount</th>\n",
       "      <th>MatchAmt</th>\n",
       "      <th>TotalAmount</th>\n",
       "    </tr>\n",
       "    <tr>\n",
       "      <th>CandidateName</th>\n",
       "      <th></th>\n",
       "      <th></th>\n",
       "      <th></th>\n",
       "    </tr>\n",
       "  </thead>\n",
       "  <tbody>\n",
       "    <tr>\n",
       "      <th>de Blasio, Bill</th>\n",
       "      <td>484230.90</td>\n",
       "      <td>0.0</td>\n",
       "      <td>654345.90</td>\n",
       "    </tr>\n",
       "    <tr>\n",
       "      <th>Quinn, Christine C</th>\n",
       "      <td>299681.86</td>\n",
       "      <td>0.0</td>\n",
       "      <td>465581.86</td>\n",
       "    </tr>\n",
       "    <tr>\n",
       "      <th>Thompson, Jr., William C</th>\n",
       "      <td>208002.13</td>\n",
       "      <td>0.0</td>\n",
       "      <td>278359.13</td>\n",
       "    </tr>\n",
       "    <tr>\n",
       "      <th>Lhota, Joseph J</th>\n",
       "      <td>41414.00</td>\n",
       "      <td>0.0</td>\n",
       "      <td>41414.00</td>\n",
       "    </tr>\n",
       "    <tr>\n",
       "      <th>Hidary, Jack D</th>\n",
       "      <td>1500.00</td>\n",
       "      <td>0.0</td>\n",
       "      <td>2500.00</td>\n",
       "    </tr>\n",
       "    <tr>\n",
       "      <th>Salgado, Erick J</th>\n",
       "      <td>675.00</td>\n",
       "      <td>0.0</td>\n",
       "      <td>675.00</td>\n",
       "    </tr>\n",
       "  </tbody>\n",
       "</table>\n",
       "</div>"
      ],
      "text/plain": [
       "                             Amount  MatchAmt  TotalAmount\n",
       "CandidateName                                             \n",
       "de Blasio, Bill           484230.90       0.0    654345.90\n",
       "Quinn, Christine C        299681.86       0.0    465581.86\n",
       "Thompson, Jr., William C  208002.13       0.0    278359.13\n",
       "Lhota, Joseph J            41414.00       0.0     41414.00\n",
       "Hidary, Jack D              1500.00       0.0      2500.00\n",
       "Salgado, Erick J             675.00       0.0       675.00"
      ]
     },
     "execution_count": 326,
     "metadata": {},
     "output_type": "execute_result"
    }
   ],
   "source": [
    "IC_2013_df = IC_2013.drop(columns=['ContributionState','PayMethod','Name','CandidateID','Unnamed: 0','Election','BoroughName','PrevAmt'])\n",
    "total_groupby = IC_2013_df.groupby(['CandidateName']).sum(['TotalAmount']).sort_values('TotalAmount',ascending=False)\n",
    "total_groupby "
   ]
  },
  {
   "cell_type": "code",
   "execution_count": 327,
   "id": "7454a10b",
   "metadata": {},
   "outputs": [
    {
     "data": {
      "text/plain": [
       "<AxesSubplot:xlabel='CandidateName'>"
      ]
     },
     "execution_count": 327,
     "metadata": {},
     "output_type": "execute_result"
    },
    {
     "data": {
      "image/png": "[encoded data removed]",
      "text/plain": [
       "<Figure size 432x288 with 1 Axes>"
      ]
     },
     "metadata": {
      "needs_background": "light"
     },
     "output_type": "display_data"
    }
   ],
   "source": [
    "total_groupby.plot.bar()"
   ]
  },
  {
   "cell_type": "code",
   "execution_count": 328,
   "id": "4332f61b",
   "metadata": {},
   "outputs": [
    {
     "data": {
      "text/html": [
       "<div>\n",
       "<style scoped>\n",
       "    .dataframe tbody tr th:only-of-type {\n",
       "        vertical-align: middle;\n",
       "    }\n",
       "\n",
       "    .dataframe tbody tr th {\n",
       "        vertical-align: top;\n",
       "    }\n",
       "\n",
       "    .dataframe thead th {\n",
       "        text-align: right;\n",
       "    }\n",
       "</style>\n",
       "<table border=\"1\" class=\"dataframe\">\n",
       "  <thead>\n",
       "    <tr style=\"text-align: right;\">\n",
       "      <th></th>\n",
       "      <th>Date</th>\n",
       "      <th>ContributerType</th>\n",
       "      <th>City</th>\n",
       "      <th>State</th>\n",
       "      <th>ZipCode</th>\n",
       "      <th>Amount</th>\n",
       "      <th>MatchAmt</th>\n",
       "      <th>TotalAmount</th>\n",
       "      <th>Outcome</th>\n",
       "    </tr>\n",
       "    <tr>\n",
       "      <th>CandidateName</th>\n",
       "      <th></th>\n",
       "      <th></th>\n",
       "      <th></th>\n",
       "      <th></th>\n",
       "      <th></th>\n",
       "      <th></th>\n",
       "      <th></th>\n",
       "      <th></th>\n",
       "      <th></th>\n",
       "    </tr>\n",
       "  </thead>\n",
       "  <tbody>\n",
       "    <tr>\n",
       "      <th>Quinn, Christine C</th>\n",
       "      <td>2011-07-11</td>\n",
       "      <td>Political Action Committee</td>\n",
       "      <td>New York</td>\n",
       "      <td>NY</td>\n",
       "      <td>10036.0</td>\n",
       "      <td>1000.00</td>\n",
       "      <td>0.0</td>\n",
       "      <td>1000.00</td>\n",
       "      <td>L</td>\n",
       "    </tr>\n",
       "    <tr>\n",
       "      <th>Quinn, Christine C</th>\n",
       "      <td>2013-01-10</td>\n",
       "      <td>Political Action Committee</td>\n",
       "      <td>New York</td>\n",
       "      <td>NY</td>\n",
       "      <td>10036.0</td>\n",
       "      <td>3950.00</td>\n",
       "      <td>0.0</td>\n",
       "      <td>4950.00</td>\n",
       "      <td>L</td>\n",
       "    </tr>\n",
       "    <tr>\n",
       "      <th>de Blasio, Bill</th>\n",
       "      <td>2010-04-29</td>\n",
       "      <td>Political Action Committee</td>\n",
       "      <td>New York</td>\n",
       "      <td>NY</td>\n",
       "      <td>10036.0</td>\n",
       "      <td>4950.00</td>\n",
       "      <td>0.0</td>\n",
       "      <td>4950.00</td>\n",
       "      <td>W</td>\n",
       "    </tr>\n",
       "    <tr>\n",
       "      <th>de Blasio, Bill</th>\n",
       "      <td>2013-09-08</td>\n",
       "      <td>Political Action Committee</td>\n",
       "      <td>New York</td>\n",
       "      <td>NY</td>\n",
       "      <td>10036.0</td>\n",
       "      <td>19084.25</td>\n",
       "      <td>0.0</td>\n",
       "      <td>19084.25</td>\n",
       "      <td>W</td>\n",
       "    </tr>\n",
       "    <tr>\n",
       "      <th>de Blasio, Bill</th>\n",
       "      <td>2013-09-08</td>\n",
       "      <td>Political Action Committee</td>\n",
       "      <td>New York</td>\n",
       "      <td>NY</td>\n",
       "      <td>10036.0</td>\n",
       "      <td>168.31</td>\n",
       "      <td>0.0</td>\n",
       "      <td>168.31</td>\n",
       "      <td>W</td>\n",
       "    </tr>\n",
       "  </tbody>\n",
       "</table>\n",
       "</div>"
      ],
      "text/plain": [
       "                          Date             ContributerType      City State  \\\n",
       "CandidateName                                                                \n",
       "Quinn, Christine C  2011-07-11  Political Action Committee  New York    NY   \n",
       "Quinn, Christine C  2013-01-10  Political Action Committee  New York    NY   \n",
       "de Blasio, Bill     2010-04-29  Political Action Committee  New York    NY   \n",
       "de Blasio, Bill     2013-09-08  Political Action Committee  New York    NY   \n",
       "de Blasio, Bill     2013-09-08  Political Action Committee  New York    NY   \n",
       "\n",
       "                    ZipCode    Amount  MatchAmt  TotalAmount Outcome  \n",
       "CandidateName                                                         \n",
       "Quinn, Christine C  10036.0   1000.00       0.0      1000.00       L  \n",
       "Quinn, Christine C  10036.0   3950.00       0.0      4950.00       L  \n",
       "de Blasio, Bill     10036.0   4950.00       0.0      4950.00       W  \n",
       "de Blasio, Bill     10036.0  19084.25       0.0     19084.25       W  \n",
       "de Blasio, Bill     10036.0    168.31       0.0       168.31       W  "
      ]
     },
     "execution_count": 328,
     "metadata": {},
     "output_type": "execute_result"
    }
   ],
   "source": [
    "outcome = []\n",
    "for i in uncleaned['CandidateName']:\n",
    "    if i == 'de Blasio, Bill':\n",
    "        outcome.append('W')\n",
    "    else:\n",
    "        outcome.append('L')\n",
    "\n",
    "IC_2013_df['Outcome'] = outcome\n",
    "IC_2013_df.head()"
   ]
  },
  {
   "cell_type": "code",
   "execution_count": 329,
   "id": "997591fe",
   "metadata": {},
   "outputs": [
    {
     "data": {
      "text/html": [
       "<div>\n",
       "<style scoped>\n",
       "    .dataframe tbody tr th:only-of-type {\n",
       "        vertical-align: middle;\n",
       "    }\n",
       "\n",
       "    .dataframe tbody tr th {\n",
       "        vertical-align: top;\n",
       "    }\n",
       "\n",
       "    .dataframe thead th {\n",
       "        text-align: right;\n",
       "    }\n",
       "</style>\n",
       "<table border=\"1\" class=\"dataframe\">\n",
       "  <thead>\n",
       "    <tr style=\"text-align: right;\">\n",
       "      <th></th>\n",
       "      <th>Date</th>\n",
       "      <th>ContributerType</th>\n",
       "      <th>City</th>\n",
       "      <th>State</th>\n",
       "      <th>ZipCode</th>\n",
       "      <th>Amount</th>\n",
       "      <th>MatchAmt</th>\n",
       "      <th>TotalAmount</th>\n",
       "      <th>Outcome</th>\n",
       "    </tr>\n",
       "    <tr>\n",
       "      <th>CandidateName</th>\n",
       "      <th></th>\n",
       "      <th></th>\n",
       "      <th></th>\n",
       "      <th></th>\n",
       "      <th></th>\n",
       "      <th></th>\n",
       "      <th></th>\n",
       "      <th></th>\n",
       "      <th></th>\n",
       "    </tr>\n",
       "  </thead>\n",
       "  <tbody>\n",
       "    <tr>\n",
       "      <th>Quinn, Christine C</th>\n",
       "      <td>2011-07-11</td>\n",
       "      <td>Political Action Committee</td>\n",
       "      <td>New York</td>\n",
       "      <td>NY</td>\n",
       "      <td>10036.0</td>\n",
       "      <td>1000.00</td>\n",
       "      <td>0.0</td>\n",
       "      <td>1000.00</td>\n",
       "      <td>L</td>\n",
       "    </tr>\n",
       "    <tr>\n",
       "      <th>Quinn, Christine C</th>\n",
       "      <td>2013-01-10</td>\n",
       "      <td>Political Action Committee</td>\n",
       "      <td>New York</td>\n",
       "      <td>NY</td>\n",
       "      <td>10036.0</td>\n",
       "      <td>3950.00</td>\n",
       "      <td>0.0</td>\n",
       "      <td>4950.00</td>\n",
       "      <td>L</td>\n",
       "    </tr>\n",
       "    <tr>\n",
       "      <th>de Blasio, Bill</th>\n",
       "      <td>2010-04-29</td>\n",
       "      <td>Political Action Committee</td>\n",
       "      <td>New York</td>\n",
       "      <td>NY</td>\n",
       "      <td>10036.0</td>\n",
       "      <td>4950.00</td>\n",
       "      <td>0.0</td>\n",
       "      <td>4950.00</td>\n",
       "      <td>W</td>\n",
       "    </tr>\n",
       "    <tr>\n",
       "      <th>de Blasio, Bill</th>\n",
       "      <td>2013-09-08</td>\n",
       "      <td>Political Action Committee</td>\n",
       "      <td>New York</td>\n",
       "      <td>NY</td>\n",
       "      <td>10036.0</td>\n",
       "      <td>19084.25</td>\n",
       "      <td>0.0</td>\n",
       "      <td>19084.25</td>\n",
       "      <td>W</td>\n",
       "    </tr>\n",
       "    <tr>\n",
       "      <th>de Blasio, Bill</th>\n",
       "      <td>2013-09-08</td>\n",
       "      <td>Political Action Committee</td>\n",
       "      <td>New York</td>\n",
       "      <td>NY</td>\n",
       "      <td>10036.0</td>\n",
       "      <td>168.31</td>\n",
       "      <td>0.0</td>\n",
       "      <td>168.31</td>\n",
       "      <td>W</td>\n",
       "    </tr>\n",
       "  </tbody>\n",
       "</table>\n",
       "</div>"
      ],
      "text/plain": [
       "                         Date             ContributerType      City State  \\\n",
       "CandidateName                                                               \n",
       "Quinn, Christine C 2011-07-11  Political Action Committee  New York    NY   \n",
       "Quinn, Christine C 2013-01-10  Political Action Committee  New York    NY   \n",
       "de Blasio, Bill    2010-04-29  Political Action Committee  New York    NY   \n",
       "de Blasio, Bill    2013-09-08  Political Action Committee  New York    NY   \n",
       "de Blasio, Bill    2013-09-08  Political Action Committee  New York    NY   \n",
       "\n",
       "                    ZipCode    Amount  MatchAmt  TotalAmount Outcome  \n",
       "CandidateName                                                         \n",
       "Quinn, Christine C  10036.0   1000.00       0.0      1000.00       L  \n",
       "Quinn, Christine C  10036.0   3950.00       0.0      4950.00       L  \n",
       "de Blasio, Bill     10036.0   4950.00       0.0      4950.00       W  \n",
       "de Blasio, Bill     10036.0  19084.25       0.0     19084.25       W  \n",
       "de Blasio, Bill     10036.0    168.31       0.0       168.31       W  "
      ]
     },
     "execution_count": 329,
     "metadata": {},
     "output_type": "execute_result"
    }
   ],
   "source": [
    "IC_2013_df['Date'] = pd.to_datetime(IC_2013_df['Date'])\n",
    "IC_2013_df.head()"
   ]
  },
  {
   "cell_type": "code",
   "execution_count": 330,
   "id": "bead26a9",
   "metadata": {},
   "outputs": [
    {
     "data": {
      "text/plain": [
       "Date               732\n",
       "ContributerType    732\n",
       "City               732\n",
       "State              732\n",
       "ZipCode            732\n",
       "Amount             732\n",
       "MatchAmt           732\n",
       "TotalAmount        732\n",
       "Outcome            732\n",
       "dtype: int64"
      ]
     },
     "execution_count": 330,
     "metadata": {},
     "output_type": "execute_result"
    }
   ],
   "source": [
    "IC_2013_df.isnull().count()"
   ]
  },
  {
   "cell_type": "code",
   "execution_count": 331,
   "id": "57f57d8e",
   "metadata": {},
   "outputs": [],
   "source": [
    "# IC_2013_df = IC_2013_df.dropna()\n",
    "# IC_2013_df.isnull().sum()"
   ]
  },
  {
   "cell_type": "code",
   "execution_count": 332,
   "id": "5d535b3d",
   "metadata": {},
   "outputs": [
    {
     "data": {
      "text/html": [
       "<div>\n",
       "<style scoped>\n",
       "    .dataframe tbody tr th:only-of-type {\n",
       "        vertical-align: middle;\n",
       "    }\n",
       "\n",
       "    .dataframe tbody tr th {\n",
       "        vertical-align: top;\n",
       "    }\n",
       "\n",
       "    .dataframe thead th {\n",
       "        text-align: right;\n",
       "    }\n",
       "</style>\n",
       "<table border=\"1\" class=\"dataframe\">\n",
       "  <thead>\n",
       "    <tr style=\"text-align: right;\">\n",
       "      <th></th>\n",
       "      <th>Date</th>\n",
       "      <th>ContributerType</th>\n",
       "      <th>City</th>\n",
       "      <th>State</th>\n",
       "      <th>ZipCode</th>\n",
       "      <th>Amount</th>\n",
       "      <th>MatchAmt</th>\n",
       "      <th>TotalAmount</th>\n",
       "      <th>Outcome</th>\n",
       "    </tr>\n",
       "    <tr>\n",
       "      <th>CandidateName</th>\n",
       "      <th></th>\n",
       "      <th></th>\n",
       "      <th></th>\n",
       "      <th></th>\n",
       "      <th></th>\n",
       "      <th></th>\n",
       "      <th></th>\n",
       "      <th></th>\n",
       "      <th></th>\n",
       "    </tr>\n",
       "  </thead>\n",
       "  <tbody>\n",
       "    <tr>\n",
       "      <th>Quinn, Christine C</th>\n",
       "      <td>136</td>\n",
       "      <td>7</td>\n",
       "      <td>54</td>\n",
       "      <td>18</td>\n",
       "      <td>20</td>\n",
       "      <td>51</td>\n",
       "      <td>0</td>\n",
       "      <td>51</td>\n",
       "      <td>0</td>\n",
       "    </tr>\n",
       "    <tr>\n",
       "      <th>Quinn, Christine C</th>\n",
       "      <td>210</td>\n",
       "      <td>7</td>\n",
       "      <td>54</td>\n",
       "      <td>18</td>\n",
       "      <td>20</td>\n",
       "      <td>77</td>\n",
       "      <td>0</td>\n",
       "      <td>99</td>\n",
       "      <td>0</td>\n",
       "    </tr>\n",
       "    <tr>\n",
       "      <th>de Blasio, Bill</th>\n",
       "      <td>58</td>\n",
       "      <td>7</td>\n",
       "      <td>54</td>\n",
       "      <td>18</td>\n",
       "      <td>20</td>\n",
       "      <td>84</td>\n",
       "      <td>0</td>\n",
       "      <td>99</td>\n",
       "      <td>1</td>\n",
       "    </tr>\n",
       "    <tr>\n",
       "      <th>de Blasio, Bill</th>\n",
       "      <td>262</td>\n",
       "      <td>7</td>\n",
       "      <td>54</td>\n",
       "      <td>18</td>\n",
       "      <td>20</td>\n",
       "      <td>86</td>\n",
       "      <td>0</td>\n",
       "      <td>117</td>\n",
       "      <td>1</td>\n",
       "    </tr>\n",
       "    <tr>\n",
       "      <th>de Blasio, Bill</th>\n",
       "      <td>262</td>\n",
       "      <td>7</td>\n",
       "      <td>54</td>\n",
       "      <td>18</td>\n",
       "      <td>20</td>\n",
       "      <td>32</td>\n",
       "      <td>0</td>\n",
       "      <td>32</td>\n",
       "      <td>1</td>\n",
       "    </tr>\n",
       "  </tbody>\n",
       "</table>\n",
       "</div>"
      ],
      "text/plain": [
       "                    Date  ContributerType  City  State  ZipCode  Amount  \\\n",
       "CandidateName                                                             \n",
       "Quinn, Christine C   136                7    54     18       20      51   \n",
       "Quinn, Christine C   210                7    54     18       20      77   \n",
       "de Blasio, Bill       58                7    54     18       20      84   \n",
       "de Blasio, Bill      262                7    54     18       20      86   \n",
       "de Blasio, Bill      262                7    54     18       20      32   \n",
       "\n",
       "                    MatchAmt  TotalAmount  Outcome  \n",
       "CandidateName                                       \n",
       "Quinn, Christine C         0           51        0  \n",
       "Quinn, Christine C         0           99        0  \n",
       "de Blasio, Bill            0           99        1  \n",
       "de Blasio, Bill            0          117        1  \n",
       "de Blasio, Bill            0           32        1  "
      ]
     },
     "execution_count": 332,
     "metadata": {},
     "output_type": "execute_result"
    }
   ],
   "source": [
    "from sklearn.preprocessing import LabelEncoder\n",
    "from sklearn.preprocessing import MinMaxScaler\n",
    "from sklearn.neighbors import KNeighborsClassifier\n",
    "from sklearn.feature_selection import SelectKBest, chi2\n",
    "IC_2013_df_enc = IC_2013_df.copy()\n",
    "le = LabelEncoder()\n",
    "IC_2013_df_enc['Date'] = le.fit_transform(IC_2013_df['Date'])\n",
    "IC_2013_df_enc['ContributerType'] = le.fit_transform(IC_2013_df['ContributerType'])\n",
    "IC_2013_df_enc['City'] = le.fit_transform(IC_2013_df['City'])\n",
    "IC_2013_df_enc['Amount'] = le.fit_transform(IC_2013_df['Amount'])\n",
    "IC_2013_df_enc['State'] = le.fit_transform(IC_2013_df['State'])\n",
    "IC_2013_df_enc['ZipCode'] = le.fit_transform(IC_2013_df['ZipCode'])\n",
    "IC_2013_df_enc['MatchAmt'] = le.fit_transform(IC_2013_df['MatchAmt'])\n",
    "# IC_2013_df_enc['PrevAmt'] = le.fit_transform(IC_2013_df['PrevAmt'])\n",
    "IC_2013_df_enc['TotalAmount'] = le.fit_transform(IC_2013_df['TotalAmount'])\n",
    "IC_2013_df_enc['Outcome'] = le.fit_transform(IC_2013_df['Outcome'])\n",
    "IC_2013_df_enc.head()"
   ]
  },
  {
   "cell_type": "code",
   "execution_count": 333,
   "id": "93dcf9e7",
   "metadata": {},
   "outputs": [],
   "source": [
    "X = IC_2013_df_enc.drop('Outcome',axis = 1)"
   ]
  },
  {
   "cell_type": "code",
   "execution_count": 334,
   "id": "2a6377e5",
   "metadata": {},
   "outputs": [],
   "source": [
    "y = IC_2013_df_enc['Outcome']"
   ]
  },
  {
   "cell_type": "code",
   "execution_count": 335,
   "id": "cf8c4300",
   "metadata": {},
   "outputs": [
    {
     "data": {
      "text/plain": [
       "0    416\n",
       "1    316\n",
       "Name: Outcome, dtype: int64"
      ]
     },
     "execution_count": 335,
     "metadata": {},
     "output_type": "execute_result"
    }
   ],
   "source": [
    "# Check the balance of our target values\n",
    "y.value_counts()"
   ]
  },
  {
   "cell_type": "code",
   "execution_count": 336,
   "id": "6f63954f",
   "metadata": {},
   "outputs": [],
   "source": [
    "from sklearn.model_selection import train_test_split\n",
    "X_train, X_test, y_train, y_test = train_test_split(X, y, random_state=1)"
   ]
  },
  {
   "cell_type": "code",
   "execution_count": 337,
   "id": "0a20ac03",
   "metadata": {},
   "outputs": [],
   "source": [
    "# Resample the training data with the BalancedRandomForestClassifier\n",
    "# YOUR CODE HERE\n",
    "\n",
    "from imblearn.ensemble import BalancedRandomForestClassifier\n",
    "random_forest = BalancedRandomForestClassifier(n_estimators = 100,random_state = 1)\n",
    "random_forest = random_forest.fit(X_train, y_train)"
   ]
  },
  {
   "cell_type": "code",
   "execution_count": 338,
   "id": "ca2cec49",
   "metadata": {
    "scrolled": true
   },
   "outputs": [
    {
     "data": {
      "text/plain": [
       "0.7025925024342745"
      ]
     },
     "execution_count": 338,
     "metadata": {},
     "output_type": "execute_result"
    }
   ],
   "source": [
    "# Calculated the balanced accuracy score\n",
    "# YOUR CODE HERE\n",
    "from sklearn.metrics import balanced_accuracy_score\n",
    "y_pred = random_forest.predict(X_test)\n",
    "balanced_accuracy_score(y_test, y_pred)"
   ]
  },
  {
   "cell_type": "code",
   "execution_count": 339,
   "id": "389c19f1",
   "metadata": {},
   "outputs": [
    {
     "data": {
      "text/plain": [
       "array([[79, 25],\n",
       "       [28, 51]])"
      ]
     },
     "execution_count": 339,
     "metadata": {},
     "output_type": "execute_result"
    }
   ],
   "source": [
    "# Display the confusion matrix\n",
    "# YOUR CODE HERE\n",
    "# Display the confusion matrix\n",
    "from sklearn.metrics import confusion_matrix\n",
    "confusion_matrix(y_test, y_pred)"
   ]
  },
  {
   "cell_type": "code",
   "execution_count": 340,
   "id": "0258723c",
   "metadata": {},
   "outputs": [
    {
     "name": "stdout",
     "output_type": "stream",
     "text": [
      "                   pre       rec       spe        f1       geo       iba       sup\n",
      "\n",
      "          0       0.74      0.76      0.65      0.75      0.70      0.50       104\n",
      "          1       0.67      0.65      0.76      0.66      0.70      0.48        79\n",
      "\n",
      "avg / total       0.71      0.71      0.69      0.71      0.70      0.49       183\n",
      "\n"
     ]
    }
   ],
   "source": [
    "from imblearn.metrics import classification_report_imbalanced\n",
    "print(classification_report_imbalanced(y_test, y_pred))"
   ]
  },
  {
   "cell_type": "code",
   "execution_count": 341,
   "id": "a1b7baeb",
   "metadata": {},
   "outputs": [
    {
     "data": {
      "text/html": [
       "<div>\n",
       "<style scoped>\n",
       "    .dataframe tbody tr th:only-of-type {\n",
       "        vertical-align: middle;\n",
       "    }\n",
       "\n",
       "    .dataframe tbody tr th {\n",
       "        vertical-align: top;\n",
       "    }\n",
       "\n",
       "    .dataframe thead th {\n",
       "        text-align: right;\n",
       "    }\n",
       "</style>\n",
       "<table border=\"1\" class=\"dataframe\">\n",
       "  <thead>\n",
       "    <tr style=\"text-align: right;\">\n",
       "      <th></th>\n",
       "      <th>Date</th>\n",
       "      <th>ContributerType</th>\n",
       "      <th>City</th>\n",
       "      <th>State</th>\n",
       "      <th>ZipCode</th>\n",
       "      <th>Amount</th>\n",
       "      <th>MatchAmt</th>\n",
       "      <th>TotalAmount</th>\n",
       "      <th>Outcome</th>\n",
       "    </tr>\n",
       "    <tr>\n",
       "      <th>CandidateName</th>\n",
       "      <th></th>\n",
       "      <th></th>\n",
       "      <th></th>\n",
       "      <th></th>\n",
       "      <th></th>\n",
       "      <th></th>\n",
       "      <th></th>\n",
       "      <th></th>\n",
       "      <th></th>\n",
       "    </tr>\n",
       "  </thead>\n",
       "  <tbody>\n",
       "    <tr>\n",
       "      <th>Quinn, Christine C</th>\n",
       "      <td>136</td>\n",
       "      <td>7</td>\n",
       "      <td>54</td>\n",
       "      <td>18</td>\n",
       "      <td>20</td>\n",
       "      <td>51</td>\n",
       "      <td>0</td>\n",
       "      <td>51</td>\n",
       "      <td>0</td>\n",
       "    </tr>\n",
       "    <tr>\n",
       "      <th>Quinn, Christine C</th>\n",
       "      <td>210</td>\n",
       "      <td>7</td>\n",
       "      <td>54</td>\n",
       "      <td>18</td>\n",
       "      <td>20</td>\n",
       "      <td>77</td>\n",
       "      <td>0</td>\n",
       "      <td>99</td>\n",
       "      <td>0</td>\n",
       "    </tr>\n",
       "    <tr>\n",
       "      <th>de Blasio, Bill</th>\n",
       "      <td>58</td>\n",
       "      <td>7</td>\n",
       "      <td>54</td>\n",
       "      <td>18</td>\n",
       "      <td>20</td>\n",
       "      <td>84</td>\n",
       "      <td>0</td>\n",
       "      <td>99</td>\n",
       "      <td>1</td>\n",
       "    </tr>\n",
       "    <tr>\n",
       "      <th>de Blasio, Bill</th>\n",
       "      <td>262</td>\n",
       "      <td>7</td>\n",
       "      <td>54</td>\n",
       "      <td>18</td>\n",
       "      <td>20</td>\n",
       "      <td>86</td>\n",
       "      <td>0</td>\n",
       "      <td>117</td>\n",
       "      <td>1</td>\n",
       "    </tr>\n",
       "    <tr>\n",
       "      <th>de Blasio, Bill</th>\n",
       "      <td>262</td>\n",
       "      <td>7</td>\n",
       "      <td>54</td>\n",
       "      <td>18</td>\n",
       "      <td>20</td>\n",
       "      <td>32</td>\n",
       "      <td>0</td>\n",
       "      <td>32</td>\n",
       "      <td>1</td>\n",
       "    </tr>\n",
       "  </tbody>\n",
       "</table>\n",
       "</div>"
      ],
      "text/plain": [
       "                    Date  ContributerType  City  State  ZipCode  Amount  \\\n",
       "CandidateName                                                             \n",
       "Quinn, Christine C   136                7    54     18       20      51   \n",
       "Quinn, Christine C   210                7    54     18       20      77   \n",
       "de Blasio, Bill       58                7    54     18       20      84   \n",
       "de Blasio, Bill      262                7    54     18       20      86   \n",
       "de Blasio, Bill      262                7    54     18       20      32   \n",
       "\n",
       "                    MatchAmt  TotalAmount  Outcome  \n",
       "CandidateName                                       \n",
       "Quinn, Christine C         0           51        0  \n",
       "Quinn, Christine C         0           99        0  \n",
       "de Blasio, Bill            0           99        1  \n",
       "de Blasio, Bill            0          117        1  \n",
       "de Blasio, Bill            0           32        1  "
      ]
     },
     "execution_count": 341,
     "metadata": {},
     "output_type": "execute_result"
    }
   ],
   "source": [
    "IC_2013_df_enc.head()"
   ]
  },
  {
   "cell_type": "code",
   "execution_count": 342,
   "id": "9aa5e936",
   "metadata": {},
   "outputs": [],
   "source": [
    "X_ContributerType = IC_2013_df_enc.drop(['Outcome','Date','City','State','ZipCode','Amount','MatchAmt','TotalAmount'],axis = 1)\n",
    "y_ContributerType = IC_2013_df_enc['Outcome']"
   ]
  },
  {
   "cell_type": "code",
   "execution_count": 343,
   "id": "524c8e54",
   "metadata": {},
   "outputs": [],
   "source": [
    "from sklearn.model_selection import train_test_split\n",
    "X_train, X_test, y_train, y_test = train_test_split(X_ContributerType, y_ContributerType, random_state=1)"
   ]
  },
  {
   "cell_type": "code",
   "execution_count": 344,
   "id": "40dae88c",
   "metadata": {},
   "outputs": [],
   "source": [
    "# Resample the training data with the BalancedRandomForestClassifier\n",
    "# YOUR CODE HERE\n",
    "\n",
    "from imblearn.ensemble import BalancedRandomForestClassifier\n",
    "random_forest = BalancedRandomForestClassifier(n_estimators = 100,random_state = 1)\n",
    "random_forest = random_forest.fit(X_train, y_train)"
   ]
  },
  {
   "cell_type": "code",
   "execution_count": 345,
   "id": "94671400",
   "metadata": {},
   "outputs": [
    {
     "data": {
      "text/plain": [
       "0.563595423563778"
      ]
     },
     "execution_count": 345,
     "metadata": {},
     "output_type": "execute_result"
    }
   ],
   "source": [
    "# Calculated the balanced accuracy score\n",
    "# YOUR CODE HERE\n",
    "from sklearn.metrics import balanced_accuracy_score\n",
    "y_pred = random_forest.predict(X_test)\n",
    "balanced_accuracy_score(y_test, y_pred)"
   ]
  },
  {
   "cell_type": "code",
   "execution_count": 346,
   "id": "18f1efbf",
   "metadata": {},
   "outputs": [
    {
     "data": {
      "text/plain": [
       "array([[83, 21],\n",
       "       [53, 26]])"
      ]
     },
     "execution_count": 346,
     "metadata": {},
     "output_type": "execute_result"
    }
   ],
   "source": [
    "# Display the confusion matrix\n",
    "# YOUR CODE HERE\n",
    "# Display the confusion matrix\n",
    "from sklearn.metrics import confusion_matrix\n",
    "confusion_matrix(y_test, y_pred)"
   ]
  },
  {
   "cell_type": "code",
   "execution_count": 347,
   "id": "7bbf8667",
   "metadata": {},
   "outputs": [
    {
     "name": "stdout",
     "output_type": "stream",
     "text": [
      "                   pre       rec       spe        f1       geo       iba       sup\n",
      "\n",
      "          0       0.61      0.80      0.33      0.69      0.51      0.27       104\n",
      "          1       0.55      0.33      0.80      0.41      0.51      0.25        79\n",
      "\n",
      "avg / total       0.59      0.60      0.53      0.57      0.51      0.26       183\n",
      "\n"
     ]
    }
   ],
   "source": [
    "from imblearn.metrics import classification_report_imbalanced\n",
    "print(classification_report_imbalanced(y_test, y_pred))"
   ]
  },
  {
   "cell_type": "code",
   "execution_count": 348,
   "id": "2c481eee",
   "metadata": {},
   "outputs": [],
   "source": [
    "X_City = IC_2013_df_enc.drop(['Outcome','Date','ContributerType','State','ZipCode','Amount','MatchAmt','TotalAmount'],axis = 1)\n",
    "y_City = IC_2013_df_enc['Outcome']"
   ]
  },
  {
   "cell_type": "code",
   "execution_count": 349,
   "id": "700ad47a",
   "metadata": {},
   "outputs": [],
   "source": [
    "from sklearn.model_selection import train_test_split\n",
    "X_train, X_test, y_train, y_test = train_test_split(X_City, y_City, random_state=1)"
   ]
  },
  {
   "cell_type": "code",
   "execution_count": 350,
   "id": "6e2a39c4",
   "metadata": {},
   "outputs": [],
   "source": [
    "# Resample the training data with the BalancedRandomForestClassifier\n",
    "# YOUR CODE HERE\n",
    "\n",
    "from imblearn.ensemble import BalancedRandomForestClassifier\n",
    "random_forest = BalancedRandomForestClassifier(n_estimators = 100,random_state = 1)\n",
    "random_forest = random_forest.fit(X_train, y_train)"
   ]
  },
  {
   "cell_type": "code",
   "execution_count": 351,
   "id": "ab91aa46",
   "metadata": {},
   "outputs": [
    {
     "data": {
      "text/plain": [
       "0.4751095423563778"
      ]
     },
     "execution_count": 351,
     "metadata": {},
     "output_type": "execute_result"
    }
   ],
   "source": [
    "# Calculated the balanced accuracy score\n",
    "# YOUR CODE HERE\n",
    "from sklearn.metrics import balanced_accuracy_score\n",
    "y_pred = random_forest.predict(X_test)\n",
    "balanced_accuracy_score(y_test, y_pred)"
   ]
  },
  {
   "cell_type": "code",
   "execution_count": 352,
   "id": "d8c8f0e7",
   "metadata": {},
   "outputs": [
    {
     "data": {
      "text/plain": [
       "array([[33, 71],\n",
       "       [29, 50]])"
      ]
     },
     "execution_count": 352,
     "metadata": {},
     "output_type": "execute_result"
    }
   ],
   "source": [
    "# Display the confusion matrix\n",
    "# YOUR CODE HERE\n",
    "# Display the confusion matrix\n",
    "from sklearn.metrics import confusion_matrix\n",
    "confusion_matrix(y_test, y_pred)"
   ]
  },
  {
   "cell_type": "code",
   "execution_count": 353,
   "id": "519e50ce",
   "metadata": {},
   "outputs": [
    {
     "name": "stdout",
     "output_type": "stream",
     "text": [
      "                   pre       rec       spe        f1       geo       iba       sup\n",
      "\n",
      "          0       0.53      0.32      0.63      0.40      0.45      0.19       104\n",
      "          1       0.41      0.63      0.32      0.50      0.45      0.21        79\n",
      "\n",
      "avg / total       0.48      0.45      0.50      0.44      0.45      0.20       183\n",
      "\n"
     ]
    }
   ],
   "source": [
    "from imblearn.metrics import classification_report_imbalanced\n",
    "print(classification_report_imbalanced(y_test, y_pred))"
   ]
  },
  {
   "cell_type": "code",
   "execution_count": 354,
   "id": "71205e28",
   "metadata": {},
   "outputs": [
    {
     "data": {
      "text/html": [
       "<div>\n",
       "<style scoped>\n",
       "    .dataframe tbody tr th:only-of-type {\n",
       "        vertical-align: middle;\n",
       "    }\n",
       "\n",
       "    .dataframe tbody tr th {\n",
       "        vertical-align: top;\n",
       "    }\n",
       "\n",
       "    .dataframe thead th {\n",
       "        text-align: right;\n",
       "    }\n",
       "</style>\n",
       "<table border=\"1\" class=\"dataframe\">\n",
       "  <thead>\n",
       "    <tr style=\"text-align: right;\">\n",
       "      <th></th>\n",
       "      <th>Date</th>\n",
       "      <th>ContributerType</th>\n",
       "      <th>City</th>\n",
       "      <th>State</th>\n",
       "      <th>ZipCode</th>\n",
       "      <th>Amount</th>\n",
       "      <th>MatchAmt</th>\n",
       "      <th>TotalAmount</th>\n",
       "      <th>Outcome</th>\n",
       "    </tr>\n",
       "    <tr>\n",
       "      <th>CandidateName</th>\n",
       "      <th></th>\n",
       "      <th></th>\n",
       "      <th></th>\n",
       "      <th></th>\n",
       "      <th></th>\n",
       "      <th></th>\n",
       "      <th></th>\n",
       "      <th></th>\n",
       "      <th></th>\n",
       "    </tr>\n",
       "  </thead>\n",
       "  <tbody>\n",
       "    <tr>\n",
       "      <th>Quinn, Christine C</th>\n",
       "      <td>136</td>\n",
       "      <td>7</td>\n",
       "      <td>54</td>\n",
       "      <td>18</td>\n",
       "      <td>20</td>\n",
       "      <td>51</td>\n",
       "      <td>0</td>\n",
       "      <td>51</td>\n",
       "      <td>0</td>\n",
       "    </tr>\n",
       "    <tr>\n",
       "      <th>Quinn, Christine C</th>\n",
       "      <td>210</td>\n",
       "      <td>7</td>\n",
       "      <td>54</td>\n",
       "      <td>18</td>\n",
       "      <td>20</td>\n",
       "      <td>77</td>\n",
       "      <td>0</td>\n",
       "      <td>99</td>\n",
       "      <td>0</td>\n",
       "    </tr>\n",
       "    <tr>\n",
       "      <th>de Blasio, Bill</th>\n",
       "      <td>58</td>\n",
       "      <td>7</td>\n",
       "      <td>54</td>\n",
       "      <td>18</td>\n",
       "      <td>20</td>\n",
       "      <td>84</td>\n",
       "      <td>0</td>\n",
       "      <td>99</td>\n",
       "      <td>1</td>\n",
       "    </tr>\n",
       "    <tr>\n",
       "      <th>de Blasio, Bill</th>\n",
       "      <td>262</td>\n",
       "      <td>7</td>\n",
       "      <td>54</td>\n",
       "      <td>18</td>\n",
       "      <td>20</td>\n",
       "      <td>86</td>\n",
       "      <td>0</td>\n",
       "      <td>117</td>\n",
       "      <td>1</td>\n",
       "    </tr>\n",
       "    <tr>\n",
       "      <th>de Blasio, Bill</th>\n",
       "      <td>262</td>\n",
       "      <td>7</td>\n",
       "      <td>54</td>\n",
       "      <td>18</td>\n",
       "      <td>20</td>\n",
       "      <td>32</td>\n",
       "      <td>0</td>\n",
       "      <td>32</td>\n",
       "      <td>1</td>\n",
       "    </tr>\n",
       "  </tbody>\n",
       "</table>\n",
       "</div>"
      ],
      "text/plain": [
       "                    Date  ContributerType  City  State  ZipCode  Amount  \\\n",
       "CandidateName                                                             \n",
       "Quinn, Christine C   136                7    54     18       20      51   \n",
       "Quinn, Christine C   210                7    54     18       20      77   \n",
       "de Blasio, Bill       58                7    54     18       20      84   \n",
       "de Blasio, Bill      262                7    54     18       20      86   \n",
       "de Blasio, Bill      262                7    54     18       20      32   \n",
       "\n",
       "                    MatchAmt  TotalAmount  Outcome  \n",
       "CandidateName                                       \n",
       "Quinn, Christine C         0           51        0  \n",
       "Quinn, Christine C         0           99        0  \n",
       "de Blasio, Bill            0           99        1  \n",
       "de Blasio, Bill            0          117        1  \n",
       "de Blasio, Bill            0           32        1  "
      ]
     },
     "execution_count": 354,
     "metadata": {},
     "output_type": "execute_result"
    }
   ],
   "source": [
    "IC_2013_df_enc.head()"
   ]
  },
  {
   "cell_type": "code",
   "execution_count": 355,
   "id": "9be19541",
   "metadata": {},
   "outputs": [],
   "source": [
    "X_State = IC_2013_df_enc.drop(['Outcome','Date','ContributerType','City','ZipCode','Amount','MatchAmt','TotalAmount'],axis = 1)\n",
    "y_State = IC_2013_df_enc['Outcome']"
   ]
  },
  {
   "cell_type": "code",
   "execution_count": 356,
   "id": "83df8194",
   "metadata": {},
   "outputs": [],
   "source": [
    "from sklearn.model_selection import train_test_split\n",
    "X_train, X_test, y_train, y_test = train_test_split(X_State, y_State, random_state=1)"
   ]
  },
  {
   "cell_type": "code",
   "execution_count": 357,
   "id": "ed3a8806",
   "metadata": {},
   "outputs": [],
   "source": [
    "# Resample the training data with the BalancedRandomForestClassifier\n",
    "# YOUR CODE HERE\n",
    "\n",
    "from imblearn.ensemble import BalancedRandomForestClassifier\n",
    "random_forest = BalancedRandomForestClassifier(n_estimators = 100,random_state = 1)\n",
    "random_forest = random_forest.fit(X_train, y_train)"
   ]
  },
  {
   "cell_type": "code",
   "execution_count": 358,
   "id": "58a9e93e",
   "metadata": {},
   "outputs": [
    {
     "data": {
      "text/plain": [
       "0.4883763388510224"
      ]
     },
     "execution_count": 358,
     "metadata": {},
     "output_type": "execute_result"
    }
   ],
   "source": [
    "# Calculated the balanced accuracy score\n",
    "# YOUR CODE HERE\n",
    "from sklearn.metrics import balanced_accuracy_score\n",
    "y_pred = random_forest.predict(X_test)\n",
    "balanced_accuracy_score(y_test, y_pred)"
   ]
  },
  {
   "cell_type": "code",
   "execution_count": 359,
   "id": "e337eb0a",
   "metadata": {},
   "outputs": [
    {
     "data": {
      "text/plain": [
       "array([[95,  9],\n",
       "       [74,  5]])"
      ]
     },
     "execution_count": 359,
     "metadata": {},
     "output_type": "execute_result"
    }
   ],
   "source": [
    "# Display the confusion matrix\n",
    "# YOUR CODE HERE\n",
    "# Display the confusion matrix\n",
    "from sklearn.metrics import confusion_matrix\n",
    "confusion_matrix(y_test, y_pred)"
   ]
  },
  {
   "cell_type": "code",
   "execution_count": 360,
   "id": "794ede33",
   "metadata": {},
   "outputs": [
    {
     "name": "stdout",
     "output_type": "stream",
     "text": [
      "                   pre       rec       spe        f1       geo       iba       sup\n",
      "\n",
      "          0       0.56      0.91      0.06      0.70      0.24      0.06       104\n",
      "          1       0.36      0.06      0.91      0.11      0.24      0.05        79\n",
      "\n",
      "avg / total       0.47      0.55      0.43      0.44      0.24      0.06       183\n",
      "\n"
     ]
    }
   ],
   "source": [
    "from imblearn.metrics import classification_report_imbalanced\n",
    "print(classification_report_imbalanced(y_test, y_pred))"
   ]
  },
  {
   "cell_type": "code",
   "execution_count": 361,
   "id": "2e20eb50",
   "metadata": {},
   "outputs": [
    {
     "data": {
      "text/html": [
       "<div>\n",
       "<style scoped>\n",
       "    .dataframe tbody tr th:only-of-type {\n",
       "        vertical-align: middle;\n",
       "    }\n",
       "\n",
       "    .dataframe tbody tr th {\n",
       "        vertical-align: top;\n",
       "    }\n",
       "\n",
       "    .dataframe thead th {\n",
       "        text-align: right;\n",
       "    }\n",
       "</style>\n",
       "<table border=\"1\" class=\"dataframe\">\n",
       "  <thead>\n",
       "    <tr style=\"text-align: right;\">\n",
       "      <th></th>\n",
       "      <th>Date</th>\n",
       "      <th>ContributerType</th>\n",
       "      <th>City</th>\n",
       "      <th>State</th>\n",
       "      <th>ZipCode</th>\n",
       "      <th>Amount</th>\n",
       "      <th>MatchAmt</th>\n",
       "      <th>TotalAmount</th>\n",
       "      <th>Outcome</th>\n",
       "    </tr>\n",
       "    <tr>\n",
       "      <th>CandidateName</th>\n",
       "      <th></th>\n",
       "      <th></th>\n",
       "      <th></th>\n",
       "      <th></th>\n",
       "      <th></th>\n",
       "      <th></th>\n",
       "      <th></th>\n",
       "      <th></th>\n",
       "      <th></th>\n",
       "    </tr>\n",
       "  </thead>\n",
       "  <tbody>\n",
       "    <tr>\n",
       "      <th>Quinn, Christine C</th>\n",
       "      <td>136</td>\n",
       "      <td>7</td>\n",
       "      <td>54</td>\n",
       "      <td>18</td>\n",
       "      <td>20</td>\n",
       "      <td>51</td>\n",
       "      <td>0</td>\n",
       "      <td>51</td>\n",
       "      <td>0</td>\n",
       "    </tr>\n",
       "  </tbody>\n",
       "</table>\n",
       "</div>"
      ],
      "text/plain": [
       "                    Date  ContributerType  City  State  ZipCode  Amount  \\\n",
       "CandidateName                                                             \n",
       "Quinn, Christine C   136                7    54     18       20      51   \n",
       "\n",
       "                    MatchAmt  TotalAmount  Outcome  \n",
       "CandidateName                                       \n",
       "Quinn, Christine C         0           51        0  "
      ]
     },
     "execution_count": 361,
     "metadata": {},
     "output_type": "execute_result"
    }
   ],
   "source": [
    "IC_2013_df_enc.head(1)"
   ]
  },
  {
   "cell_type": "code",
   "execution_count": 362,
   "id": "599c921a",
   "metadata": {},
   "outputs": [],
   "source": [
    "X_ZipCode = IC_2013_df_enc.drop(['Outcome','Date','ContributerType','State','Amount','MatchAmt','TotalAmount'],axis = 1)\n",
    "y_ZipCode = IC_2013_df_enc['Outcome']"
   ]
  },
  {
   "cell_type": "code",
   "execution_count": 363,
   "id": "d2f50c57",
   "metadata": {},
   "outputs": [],
   "source": [
    "from sklearn.model_selection import train_test_split\n",
    "X_train, X_test, y_train, y_test = train_test_split(X_ZipCode, y_ZipCode, random_state=1)"
   ]
  },
  {
   "cell_type": "code",
   "execution_count": 364,
   "id": "c9118273",
   "metadata": {},
   "outputs": [],
   "source": [
    "# Resample the training data with the BalancedRandomForestClassifier\n",
    "# YOUR CODE HERE\n",
    "\n",
    "from imblearn.ensemble import BalancedRandomForestClassifier\n",
    "random_forest = BalancedRandomForestClassifier(n_estimators = 100,random_state = 1)\n",
    "random_forest = random_forest.fit(X_train, y_train)"
   ]
  },
  {
   "cell_type": "code",
   "execution_count": 365,
   "id": "19ef8593",
   "metadata": {},
   "outputs": [
    {
     "data": {
      "text/plain": [
       "0.5444255111976631"
      ]
     },
     "execution_count": 365,
     "metadata": {},
     "output_type": "execute_result"
    }
   ],
   "source": [
    "# Calculated the balanced accuracy score\n",
    "# YOUR CODE HERE\n",
    "from sklearn.metrics import balanced_accuracy_score\n",
    "y_pred = random_forest.predict(X_test)\n",
    "balanced_accuracy_score(y_test, y_pred)"
   ]
  },
  {
   "cell_type": "code",
   "execution_count": 366,
   "id": "89e86942",
   "metadata": {},
   "outputs": [
    {
     "data": {
      "text/plain": [
       "array([[54, 50],\n",
       "       [34, 45]])"
      ]
     },
     "execution_count": 366,
     "metadata": {},
     "output_type": "execute_result"
    }
   ],
   "source": [
    "# Display the confusion matrix\n",
    "# YOUR CODE HERE\n",
    "# Display the confusion matrix\n",
    "from sklearn.metrics import confusion_matrix\n",
    "confusion_matrix(y_test, y_pred)"
   ]
  },
  {
   "cell_type": "code",
   "execution_count": 367,
   "id": "ea0af735",
   "metadata": {},
   "outputs": [
    {
     "name": "stdout",
     "output_type": "stream",
     "text": [
      "                   pre       rec       spe        f1       geo       iba       sup\n",
      "\n",
      "          0       0.61      0.52      0.57      0.56      0.54      0.29       104\n",
      "          1       0.47      0.57      0.52      0.52      0.54      0.30        79\n",
      "\n",
      "avg / total       0.55      0.54      0.55      0.54      0.54      0.30       183\n",
      "\n"
     ]
    }
   ],
   "source": [
    "from imblearn.metrics import classification_report_imbalanced\n",
    "print(classification_report_imbalanced(y_test, y_pred))"
   ]
  },
  {
   "cell_type": "code",
   "execution_count": 368,
   "id": "109cad76",
   "metadata": {},
   "outputs": [
    {
     "data": {
      "text/html": [
       "<div>\n",
       "<style scoped>\n",
       "    .dataframe tbody tr th:only-of-type {\n",
       "        vertical-align: middle;\n",
       "    }\n",
       "\n",
       "    .dataframe tbody tr th {\n",
       "        vertical-align: top;\n",
       "    }\n",
       "\n",
       "    .dataframe thead th {\n",
       "        text-align: right;\n",
       "    }\n",
       "</style>\n",
       "<table border=\"1\" class=\"dataframe\">\n",
       "  <thead>\n",
       "    <tr style=\"text-align: right;\">\n",
       "      <th></th>\n",
       "      <th>Date</th>\n",
       "      <th>ContributerType</th>\n",
       "      <th>City</th>\n",
       "      <th>State</th>\n",
       "      <th>ZipCode</th>\n",
       "      <th>Amount</th>\n",
       "      <th>MatchAmt</th>\n",
       "      <th>TotalAmount</th>\n",
       "      <th>Outcome</th>\n",
       "    </tr>\n",
       "    <tr>\n",
       "      <th>CandidateName</th>\n",
       "      <th></th>\n",
       "      <th></th>\n",
       "      <th></th>\n",
       "      <th></th>\n",
       "      <th></th>\n",
       "      <th></th>\n",
       "      <th></th>\n",
       "      <th></th>\n",
       "      <th></th>\n",
       "    </tr>\n",
       "  </thead>\n",
       "  <tbody>\n",
       "    <tr>\n",
       "      <th>Quinn, Christine C</th>\n",
       "      <td>136</td>\n",
       "      <td>7</td>\n",
       "      <td>54</td>\n",
       "      <td>18</td>\n",
       "      <td>20</td>\n",
       "      <td>51</td>\n",
       "      <td>0</td>\n",
       "      <td>51</td>\n",
       "      <td>0</td>\n",
       "    </tr>\n",
       "    <tr>\n",
       "      <th>Quinn, Christine C</th>\n",
       "      <td>210</td>\n",
       "      <td>7</td>\n",
       "      <td>54</td>\n",
       "      <td>18</td>\n",
       "      <td>20</td>\n",
       "      <td>77</td>\n",
       "      <td>0</td>\n",
       "      <td>99</td>\n",
       "      <td>0</td>\n",
       "    </tr>\n",
       "    <tr>\n",
       "      <th>de Blasio, Bill</th>\n",
       "      <td>58</td>\n",
       "      <td>7</td>\n",
       "      <td>54</td>\n",
       "      <td>18</td>\n",
       "      <td>20</td>\n",
       "      <td>84</td>\n",
       "      <td>0</td>\n",
       "      <td>99</td>\n",
       "      <td>1</td>\n",
       "    </tr>\n",
       "    <tr>\n",
       "      <th>de Blasio, Bill</th>\n",
       "      <td>262</td>\n",
       "      <td>7</td>\n",
       "      <td>54</td>\n",
       "      <td>18</td>\n",
       "      <td>20</td>\n",
       "      <td>86</td>\n",
       "      <td>0</td>\n",
       "      <td>117</td>\n",
       "      <td>1</td>\n",
       "    </tr>\n",
       "    <tr>\n",
       "      <th>de Blasio, Bill</th>\n",
       "      <td>262</td>\n",
       "      <td>7</td>\n",
       "      <td>54</td>\n",
       "      <td>18</td>\n",
       "      <td>20</td>\n",
       "      <td>32</td>\n",
       "      <td>0</td>\n",
       "      <td>32</td>\n",
       "      <td>1</td>\n",
       "    </tr>\n",
       "  </tbody>\n",
       "</table>\n",
       "</div>"
      ],
      "text/plain": [
       "                    Date  ContributerType  City  State  ZipCode  Amount  \\\n",
       "CandidateName                                                             \n",
       "Quinn, Christine C   136                7    54     18       20      51   \n",
       "Quinn, Christine C   210                7    54     18       20      77   \n",
       "de Blasio, Bill       58                7    54     18       20      84   \n",
       "de Blasio, Bill      262                7    54     18       20      86   \n",
       "de Blasio, Bill      262                7    54     18       20      32   \n",
       "\n",
       "                    MatchAmt  TotalAmount  Outcome  \n",
       "CandidateName                                       \n",
       "Quinn, Christine C         0           51        0  \n",
       "Quinn, Christine C         0           99        0  \n",
       "de Blasio, Bill            0           99        1  \n",
       "de Blasio, Bill            0          117        1  \n",
       "de Blasio, Bill            0           32        1  "
      ]
     },
     "execution_count": 368,
     "metadata": {},
     "output_type": "execute_result"
    }
   ],
   "source": [
    "IC_2013_df_enc.head()"
   ]
  },
  {
   "cell_type": "code",
   "execution_count": 369,
   "id": "9e8be566",
   "metadata": {},
   "outputs": [],
   "source": [
    "X_Amount = IC_2013_df_enc.drop(['Outcome','Date','ContributerType','State','ZipCode','MatchAmt','TotalAmount'],axis = 1)\n",
    "y_Amount = IC_2013_df_enc['Outcome']"
   ]
  },
  {
   "cell_type": "code",
   "execution_count": 370,
   "id": "0c9a3448",
   "metadata": {},
   "outputs": [],
   "source": [
    "from sklearn.model_selection import train_test_split\n",
    "X_train, X_test, y_train, y_test = train_test_split(X_Amount, y_Amount, random_state=1)"
   ]
  },
  {
   "cell_type": "code",
   "execution_count": 371,
   "id": "e3cbd767",
   "metadata": {},
   "outputs": [],
   "source": [
    "# Resample the training data with the BalancedRandomForestClassifier\n",
    "# YOUR CODE HERE\n",
    "\n",
    "from imblearn.ensemble import BalancedRandomForestClassifier\n",
    "random_forest = BalancedRandomForestClassifier(n_estimators = 100,random_state = 1)\n",
    "random_forest = random_forest.fit(X_train, y_train)"
   ]
  },
  {
   "cell_type": "code",
   "execution_count": 372,
   "id": "d3a375c4",
   "metadata": {},
   "outputs": [
    {
     "data": {
      "text/plain": [
       "0.5011562804284324"
      ]
     },
     "execution_count": 372,
     "metadata": {},
     "output_type": "execute_result"
    }
   ],
   "source": [
    "# Calculated the balanced accuracy score\n",
    "# YOUR CODE HERE\n",
    "from sklearn.metrics import balanced_accuracy_score\n",
    "y_pred = random_forest.predict(X_test)\n",
    "balanced_accuracy_score(y_test, y_pred)"
   ]
  },
  {
   "cell_type": "code",
   "execution_count": 373,
   "id": "bfd087f4",
   "metadata": {},
   "outputs": [
    {
     "data": {
      "text/plain": [
       "array([[45, 59],\n",
       "       [34, 45]])"
      ]
     },
     "execution_count": 373,
     "metadata": {},
     "output_type": "execute_result"
    }
   ],
   "source": [
    "# Display the confusion matrix\n",
    "# YOUR CODE HERE\n",
    "# Display the confusion matrix\n",
    "from sklearn.metrics import confusion_matrix\n",
    "confusion_matrix(y_test, y_pred)"
   ]
  },
  {
   "cell_type": "code",
   "execution_count": 374,
   "id": "26c7eb75",
   "metadata": {},
   "outputs": [
    {
     "name": "stdout",
     "output_type": "stream",
     "text": [
      "                   pre       rec       spe        f1       geo       iba       sup\n",
      "\n",
      "          0       0.57      0.43      0.57      0.49      0.50      0.24       104\n",
      "          1       0.43      0.57      0.43      0.49      0.50      0.25        79\n",
      "\n",
      "avg / total       0.51      0.49      0.51      0.49      0.50      0.25       183\n",
      "\n"
     ]
    }
   ],
   "source": [
    "from imblearn.metrics import classification_report_imbalanced\n",
    "print(classification_report_imbalanced(y_test, y_pred))"
   ]
  },
  {
   "cell_type": "code",
   "execution_count": 375,
   "id": "b636e9ef",
   "metadata": {},
   "outputs": [],
   "source": [
    "X_MatchAmt = IC_2013_df_enc.drop(['Outcome','Date','ContributerType','State','ZipCode','Amount','TotalAmount'],axis = 1)\n",
    "y_MatchAmt = IC_2013_df_enc['Outcome']"
   ]
  },
  {
   "cell_type": "code",
   "execution_count": 376,
   "id": "c05569c7",
   "metadata": {},
   "outputs": [],
   "source": [
    "from sklearn.model_selection import train_test_split\n",
    "X_train, X_test, y_train, y_test = train_test_split(X_MatchAmt, y_MatchAmt, random_state=1)"
   ]
  },
  {
   "cell_type": "code",
   "execution_count": 377,
   "id": "a30d08c2",
   "metadata": {},
   "outputs": [],
   "source": [
    "# Resample the training data with the BalancedRandomForestClassifier\n",
    "# YOUR CODE HERE\n",
    "\n",
    "from imblearn.ensemble import BalancedRandomForestClassifier\n",
    "random_forest = BalancedRandomForestClassifier(n_estimators = 100,random_state = 1)\n",
    "random_forest = random_forest.fit(X_train, y_train)"
   ]
  },
  {
   "cell_type": "code",
   "execution_count": 378,
   "id": "1a540fb1",
   "metadata": {},
   "outputs": [
    {
     "data": {
      "text/plain": [
       "0.4751095423563778"
      ]
     },
     "execution_count": 378,
     "metadata": {},
     "output_type": "execute_result"
    }
   ],
   "source": [
    "# Calculated the balanced accuracy score\n",
    "# YOUR CODE HERE\n",
    "from sklearn.metrics import balanced_accuracy_score\n",
    "y_pred = random_forest.predict(X_test)\n",
    "balanced_accuracy_score(y_test, y_pred)"
   ]
  },
  {
   "cell_type": "code",
   "execution_count": 379,
   "id": "9d44d534",
   "metadata": {},
   "outputs": [
    {
     "data": {
      "text/plain": [
       "array([[33, 71],\n",
       "       [29, 50]])"
      ]
     },
     "execution_count": 379,
     "metadata": {},
     "output_type": "execute_result"
    }
   ],
   "source": [
    "# Display the confusion matrix\n",
    "# YOUR CODE HERE\n",
    "# Display the confusion matrix\n",
    "from sklearn.metrics import confusion_matrix\n",
    "confusion_matrix(y_test, y_pred)"
   ]
  },
  {
   "cell_type": "code",
   "execution_count": 380,
   "id": "d8c8dba5",
   "metadata": {},
   "outputs": [],
   "source": [
    "X_TotalAmount = IC_2013_df_enc.drop(['Outcome','Date','ContributerType','State','ZipCode','MatchAmt','Amount'],axis = 1)\n",
    "y_TotalAmount = IC_2013_df_enc['Outcome']"
   ]
  },
  {
   "cell_type": "code",
   "execution_count": 381,
   "id": "bc302625",
   "metadata": {},
   "outputs": [],
   "source": [
    "from sklearn.model_selection import train_test_split\n",
    "X_train, X_test, y_train, y_test = train_test_split(X_TotalAmount, y_TotalAmount, random_state=1)"
   ]
  },
  {
   "cell_type": "code",
   "execution_count": 382,
   "id": "db26a7d5",
   "metadata": {},
   "outputs": [],
   "source": [
    "# Resample the training data with the BalancedRandomForestClassifier\n",
    "# YOUR CODE HERE\n",
    "\n",
    "from imblearn.ensemble import BalancedRandomForestClassifier\n",
    "random_forest = BalancedRandomForestClassifier(n_estimators = 100,random_state = 1)\n",
    "random_forest = random_forest.fit(X_train, y_train)"
   ]
  },
  {
   "cell_type": "code",
   "execution_count": 383,
   "id": "5054c39b",
   "metadata": {},
   "outputs": [
    {
     "data": {
      "text/plain": [
       "0.49251460564751703"
      ]
     },
     "execution_count": 383,
     "metadata": {},
     "output_type": "execute_result"
    }
   ],
   "source": [
    "# Calculated the balanced accuracy score\n",
    "# YOUR CODE HERE\n",
    "from sklearn.metrics import balanced_accuracy_score\n",
    "y_pred = random_forest.predict(X_test)\n",
    "balanced_accuracy_score(y_test, y_pred)"
   ]
  },
  {
   "cell_type": "code",
   "execution_count": 384,
   "id": "e2564c7f",
   "metadata": {},
   "outputs": [
    {
     "data": {
      "text/plain": [
       "array([[59, 45],\n",
       "       [46, 33]])"
      ]
     },
     "execution_count": 384,
     "metadata": {},
     "output_type": "execute_result"
    }
   ],
   "source": [
    "# Display the confusion matrix\n",
    "# YOUR CODE HERE\n",
    "# Display the confusion matrix\n",
    "from sklearn.metrics import confusion_matrix\n",
    "confusion_matrix(y_test, y_pred)"
   ]
  },
  {
   "cell_type": "code",
   "execution_count": 385,
   "id": "8b261b13",
   "metadata": {},
   "outputs": [
    {
     "name": "stdout",
     "output_type": "stream",
     "text": [
      "                   pre       rec       spe        f1       geo       iba       sup\n",
      "\n",
      "          0       0.56      0.57      0.42      0.56      0.49      0.24       104\n",
      "          1       0.42      0.42      0.57      0.42      0.49      0.23        79\n",
      "\n",
      "avg / total       0.50      0.50      0.48      0.50      0.49      0.24       183\n",
      "\n"
     ]
    }
   ],
   "source": [
    "from imblearn.metrics import classification_report_imbalanced\n",
    "print(classification_report_imbalanced(y_test, y_pred))"
   ]
  },
  {
   "cell_type": "code",
   "execution_count": 386,
   "id": "9edaacad",
   "metadata": {},
   "outputs": [],
   "source": [
    "X_Total_Zip = IC_2013_df_enc.drop(['Outcome','Date','ContributerType','State','MatchAmt','Amount'],axis = 1)\n",
    "y_Total_Zip = IC_2013_df_enc['Outcome']"
   ]
  },
  {
   "cell_type": "code",
   "execution_count": 387,
   "id": "a00b9e1c",
   "metadata": {},
   "outputs": [],
   "source": [
    "from sklearn.model_selection import train_test_split\n",
    "X_train, X_test, y_train, y_test = train_test_split(X_Total_Zip, y_Total_Zip, random_state=1)"
   ]
  },
  {
   "cell_type": "code",
   "execution_count": 388,
   "id": "093044ff",
   "metadata": {},
   "outputs": [],
   "source": [
    "# Resample the training data with the BalancedRandomForestClassifier\n",
    "# YOUR CODE HERE\n",
    "\n",
    "from imblearn.ensemble import BalancedRandomForestClassifier\n",
    "random_forest = BalancedRandomForestClassifier(n_estimators = 100,random_state = 1)\n",
    "random_forest = random_forest.fit(X_train, y_train)"
   ]
  },
  {
   "cell_type": "code",
   "execution_count": 389,
   "id": "c74b7d17",
   "metadata": {},
   "outputs": [
    {
     "data": {
      "text/plain": [
       "0.4631815968841285"
      ]
     },
     "execution_count": 389,
     "metadata": {},
     "output_type": "execute_result"
    }
   ],
   "source": [
    "# Calculated the balanced accuracy score\n",
    "# YOUR CODE HERE\n",
    "from sklearn.metrics import balanced_accuracy_score\n",
    "y_pred = random_forest.predict(X_test)\n",
    "balanced_accuracy_score(y_test, y_pred)"
   ]
  },
  {
   "cell_type": "code",
   "execution_count": 390,
   "id": "39437509",
   "metadata": {},
   "outputs": [
    {
     "data": {
      "text/plain": [
       "array([[45, 59],\n",
       "       [40, 39]])"
      ]
     },
     "execution_count": 390,
     "metadata": {},
     "output_type": "execute_result"
    }
   ],
   "source": [
    "# Display the confusion matrix\n",
    "# YOUR CODE HERE\n",
    "# Display the confusion matrix\n",
    "from sklearn.metrics import confusion_matrix\n",
    "confusion_matrix(y_test, y_pred)"
   ]
  },
  {
   "cell_type": "code",
   "execution_count": 391,
   "id": "c729e403",
   "metadata": {},
   "outputs": [
    {
     "name": "stdout",
     "output_type": "stream",
     "text": [
      "                   pre       rec       spe        f1       geo       iba       sup\n",
      "\n",
      "          0       0.53      0.43      0.49      0.48      0.46      0.21       104\n",
      "          1       0.40      0.49      0.43      0.44      0.46      0.21        79\n",
      "\n",
      "avg / total       0.47      0.46      0.47      0.46      0.46      0.21       183\n",
      "\n"
     ]
    }
   ],
   "source": [
    "from imblearn.metrics import classification_report_imbalanced\n",
    "print(classification_report_imbalanced(y_test, y_pred))"
   ]
  },
  {
   "cell_type": "code",
   "execution_count": 392,
   "id": "611b1ed1",
   "metadata": {},
   "outputs": [],
   "source": [
    "X = IC_2013_df_enc.drop('Outcome',axis = 1)"
   ]
  },
  {
   "cell_type": "code",
   "execution_count": 393,
   "id": "d463aacd",
   "metadata": {},
   "outputs": [],
   "source": [
    "y = IC_2013_df_enc['Outcome']"
   ]
  },
  {
   "cell_type": "code",
   "execution_count": 394,
   "id": "ed3b93a1",
   "metadata": {},
   "outputs": [],
   "source": [
    "from sklearn.model_selection import train_test_split\n",
    "X_train, X_test, y_train, y_test = train_test_split(X, y, random_state=1)"
   ]
  },
  {
   "cell_type": "code",
   "execution_count": 395,
   "id": "a2216196",
   "metadata": {},
   "outputs": [],
   "source": [
    "# Resample the training data with the BalancedRandomForestClassifier\n",
    "# YOUR CODE HERE\n",
    "\n",
    "from imblearn.ensemble import BalancedRandomForestClassifier\n",
    "random_forest = BalancedRandomForestClassifier(n_estimators = 100,random_state = 1)\n",
    "random_forest = random_forest.fit(X_train, y_train)"
   ]
  },
  {
   "cell_type": "code",
   "execution_count": 396,
   "id": "172d3522",
   "metadata": {},
   "outputs": [
    {
     "data": {
      "text/plain": [
       "0.7025925024342745"
      ]
     },
     "execution_count": 396,
     "metadata": {},
     "output_type": "execute_result"
    }
   ],
   "source": [
    "# Calculated the balanced accuracy score\n",
    "# YOUR CODE HERE\n",
    "from sklearn.metrics import balanced_accuracy_score\n",
    "y_pred = random_forest.predict(X_test)\n",
    "balanced_accuracy_score(y_test, y_pred)"
   ]
  },
  {
   "cell_type": "code",
   "execution_count": 397,
   "id": "d7d266e5",
   "metadata": {},
   "outputs": [
    {
     "data": {
      "text/plain": [
       "array([[79, 25],\n",
       "       [28, 51]])"
      ]
     },
     "execution_count": 397,
     "metadata": {},
     "output_type": "execute_result"
    }
   ],
   "source": [
    "# Display the confusion matrix\n",
    "# YOUR CODE HERE\n",
    "# Display the confusion matrix\n",
    "from sklearn.metrics import confusion_matrix\n",
    "confusion_matrix(y_test, y_pred)"
   ]
  },
  {
   "cell_type": "code",
   "execution_count": 398,
   "id": "ee151af7",
   "metadata": {},
   "outputs": [
    {
     "name": "stdout",
     "output_type": "stream",
     "text": [
      "                   pre       rec       spe        f1       geo       iba       sup\n",
      "\n",
      "          0       0.74      0.76      0.65      0.75      0.70      0.50       104\n",
      "          1       0.67      0.65      0.76      0.66      0.70      0.48        79\n",
      "\n",
      "avg / total       0.71      0.71      0.69      0.71      0.70      0.49       183\n",
      "\n"
     ]
    }
   ],
   "source": [
    "from imblearn.metrics import classification_report_imbalanced\n",
    "print(classification_report_imbalanced(y_test, y_pred))"
   ]
  },
  {
   "cell_type": "code",
   "execution_count": null,
   "id": "8bfda3c2",
   "metadata": {},
   "outputs": [],
   "source": []
  }
 ],
 "metadata": {
  "kernelspec": {
   "display_name": "mlenv",
   "language": "python",
   "name": "mlenv"
  },
  "language_info": {
   "codemirror_mode": {
    "name": "ipython",
    "version": 3
   },
   "file_extension": ".py",
   "mimetype": "text/x-python",
   "name": "python",
   "nbconvert_exporter": "python",
   "pygments_lexer": "ipython3",
   "version": "3.7.10"
  }
 },
 "nbformat": 4,
 "nbformat_minor": 5
}
