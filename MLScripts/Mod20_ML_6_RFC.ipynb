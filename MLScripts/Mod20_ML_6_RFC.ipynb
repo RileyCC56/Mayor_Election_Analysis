{
 "cells": [
  {
   "cell_type": "code",
   "execution_count": 175,
   "id": "d61af5fa",
   "metadata": {},
   "outputs": [],
   "source": [
    "# Initial imports\n",
    "from path import Path\n",
    "from sklearn import tree\n",
    "from sklearn.preprocessing import StandardScaler\n",
    "from sklearn.model_selection import train_test_split\n",
    "from sklearn.metrics import confusion_matrix, accuracy_score, classification_report\n",
    "import pandas as pd\n",
    "import numpy as np"
   ]
  },
  {
   "cell_type": "code",
   "execution_count": 176,
   "id": "91f9151a",
   "metadata": {},
   "outputs": [
    {
     "name": "stderr",
     "output_type": "stream",
     "text": [
      "/Users/Abir/.local/lib/python3.7/site-packages/IPython/core/interactiveshell.py:3441: DtypeWarning: Columns (2) have mixed types.Specify dtype option on import or set low_memory=False.\n",
      "  exec(code_obj, self.user_global_ns, self.user_ns)\n"
     ]
    },
    {
     "data": {
      "text/html": [
       "<div>\n",
       "<style scoped>\n",
       "    .dataframe tbody tr th:only-of-type {\n",
       "        vertical-align: middle;\n",
       "    }\n",
       "\n",
       "    .dataframe tbody tr th {\n",
       "        vertical-align: top;\n",
       "    }\n",
       "\n",
       "    .dataframe thead th {\n",
       "        text-align: right;\n",
       "    }\n",
       "</style>\n",
       "<table border=\"1\" class=\"dataframe\">\n",
       "  <thead>\n",
       "    <tr style=\"text-align: right;\">\n",
       "      <th></th>\n",
       "      <th>Unnamed: 0</th>\n",
       "      <th>Election</th>\n",
       "      <th>CandidateID</th>\n",
       "      <th>Date</th>\n",
       "      <th>Name</th>\n",
       "      <th>ContributerType</th>\n",
       "      <th>BoroughName</th>\n",
       "      <th>City</th>\n",
       "      <th>State</th>\n",
       "      <th>ZipCode</th>\n",
       "      <th>ContributionState</th>\n",
       "      <th>Amount</th>\n",
       "      <th>MatchAmt</th>\n",
       "      <th>PrevAmt</th>\n",
       "      <th>PayMethod</th>\n",
       "      <th>TotalAmount</th>\n",
       "    </tr>\n",
       "    <tr>\n",
       "      <th>CandidateName</th>\n",
       "      <th></th>\n",
       "      <th></th>\n",
       "      <th></th>\n",
       "      <th></th>\n",
       "      <th></th>\n",
       "      <th></th>\n",
       "      <th></th>\n",
       "      <th></th>\n",
       "      <th></th>\n",
       "      <th></th>\n",
       "      <th></th>\n",
       "      <th></th>\n",
       "      <th></th>\n",
       "      <th></th>\n",
       "      <th></th>\n",
       "      <th></th>\n",
       "    </tr>\n",
       "  </thead>\n",
       "  <tbody>\n",
       "    <tr>\n",
       "      <th>Coenen, Jr., Kevin P</th>\n",
       "      <td>0</td>\n",
       "      <td>2013</td>\n",
       "      <td>1286</td>\n",
       "      <td>1/25/2013</td>\n",
       "      <td>Coenen, Kevin P</td>\n",
       "      <td>Candidate</td>\n",
       "      <td>Other</td>\n",
       "      <td>Nesconset</td>\n",
       "      <td>NY</td>\n",
       "      <td>11767.0</td>\n",
       "      <td>NY</td>\n",
       "      <td>10.0</td>\n",
       "      <td>0.0</td>\n",
       "      <td>0.0</td>\n",
       "      <td>Credit Card</td>\n",
       "      <td>10.0</td>\n",
       "    </tr>\n",
       "    <tr>\n",
       "      <th>Coenen, Jr., Kevin P</th>\n",
       "      <td>1</td>\n",
       "      <td>2013</td>\n",
       "      <td>1286</td>\n",
       "      <td>4/17/2013</td>\n",
       "      <td>Walter, Dorsey</td>\n",
       "      <td>Individual</td>\n",
       "      <td>Manhattan</td>\n",
       "      <td>New York</td>\n",
       "      <td>NY</td>\n",
       "      <td>10150.0</td>\n",
       "      <td>NaN</td>\n",
       "      <td>175.0</td>\n",
       "      <td>175.0</td>\n",
       "      <td>0.0</td>\n",
       "      <td>Credit Card</td>\n",
       "      <td>350.0</td>\n",
       "    </tr>\n",
       "    <tr>\n",
       "      <th>Coenen, Jr., Kevin P</th>\n",
       "      <td>2</td>\n",
       "      <td>2013</td>\n",
       "      <td>1286</td>\n",
       "      <td>1/25/2013</td>\n",
       "      <td>Coenen, Kevin P</td>\n",
       "      <td>Candidate</td>\n",
       "      <td>Other</td>\n",
       "      <td>Nesconset</td>\n",
       "      <td>NY</td>\n",
       "      <td>11767.0</td>\n",
       "      <td>NaN</td>\n",
       "      <td>-10.0</td>\n",
       "      <td>0.0</td>\n",
       "      <td>0.0</td>\n",
       "      <td>Unknown</td>\n",
       "      <td>-10.0</td>\n",
       "    </tr>\n",
       "    <tr>\n",
       "      <th>Marks, Philip A</th>\n",
       "      <td>3</td>\n",
       "      <td>2013</td>\n",
       "      <td>1551</td>\n",
       "      <td>2/13/2012</td>\n",
       "      <td>Marks, Philip</td>\n",
       "      <td>Candidate</td>\n",
       "      <td>Brooklyn</td>\n",
       "      <td>Brooklyn</td>\n",
       "      <td>NY</td>\n",
       "      <td>11236.0</td>\n",
       "      <td>NY</td>\n",
       "      <td>400.0</td>\n",
       "      <td>175.0</td>\n",
       "      <td>0.0</td>\n",
       "      <td>Check</td>\n",
       "      <td>575.0</td>\n",
       "    </tr>\n",
       "    <tr>\n",
       "      <th>Marks, Philip A</th>\n",
       "      <td>4</td>\n",
       "      <td>2013</td>\n",
       "      <td>1551</td>\n",
       "      <td>2/28/2013</td>\n",
       "      <td>Marks, Philip</td>\n",
       "      <td>Candidate</td>\n",
       "      <td>Brooklyn</td>\n",
       "      <td>Brooklyn</td>\n",
       "      <td>NY</td>\n",
       "      <td>11236.0</td>\n",
       "      <td>NY</td>\n",
       "      <td>100.0</td>\n",
       "      <td>0.0</td>\n",
       "      <td>400.0</td>\n",
       "      <td>Cash</td>\n",
       "      <td>500.0</td>\n",
       "    </tr>\n",
       "  </tbody>\n",
       "</table>\n",
       "</div>"
      ],
      "text/plain": [
       "                      Unnamed: 0  Election CandidateID       Date  \\\n",
       "CandidateName                                                       \n",
       "Coenen, Jr., Kevin P           0      2013        1286  1/25/2013   \n",
       "Coenen, Jr., Kevin P           1      2013        1286  4/17/2013   \n",
       "Coenen, Jr., Kevin P           2      2013        1286  1/25/2013   \n",
       "Marks, Philip A                3      2013        1551  2/13/2012   \n",
       "Marks, Philip A                4      2013        1551  2/28/2013   \n",
       "\n",
       "                                 Name ContributerType BoroughName       City  \\\n",
       "CandidateName                                                                  \n",
       "Coenen, Jr., Kevin P  Coenen, Kevin P       Candidate       Other  Nesconset   \n",
       "Coenen, Jr., Kevin P   Walter, Dorsey      Individual   Manhattan   New York   \n",
       "Coenen, Jr., Kevin P  Coenen, Kevin P       Candidate       Other  Nesconset   \n",
       "Marks, Philip A         Marks, Philip       Candidate    Brooklyn   Brooklyn   \n",
       "Marks, Philip A         Marks, Philip       Candidate    Brooklyn   Brooklyn   \n",
       "\n",
       "                     State  ZipCode ContributionState  Amount  MatchAmt  \\\n",
       "CandidateName                                                             \n",
       "Coenen, Jr., Kevin P    NY  11767.0                NY    10.0       0.0   \n",
       "Coenen, Jr., Kevin P    NY  10150.0               NaN   175.0     175.0   \n",
       "Coenen, Jr., Kevin P    NY  11767.0               NaN   -10.0       0.0   \n",
       "Marks, Philip A         NY  11236.0                NY   400.0     175.0   \n",
       "Marks, Philip A         NY  11236.0                NY   100.0       0.0   \n",
       "\n",
       "                      PrevAmt    PayMethod  TotalAmount  \n",
       "CandidateName                                            \n",
       "Coenen, Jr., Kevin P      0.0  Credit Card         10.0  \n",
       "Coenen, Jr., Kevin P      0.0  Credit Card        350.0  \n",
       "Coenen, Jr., Kevin P      0.0      Unknown        -10.0  \n",
       "Marks, Philip A           0.0        Check        575.0  \n",
       "Marks, Philip A         400.0         Cash        500.0  "
      ]
     },
     "execution_count": 176,
     "metadata": {},
     "output_type": "execute_result"
    }
   ],
   "source": [
    "file = '../Resources/Contributions_2013.csv'\n",
    "IC_2013 = pd.read_csv(file,index_col='CandidateName')\n",
    "uncleaned = pd.read_csv(file,index_col=False)\n",
    "IC_2013.head()"
   ]
  },
  {
   "cell_type": "code",
   "execution_count": 177,
   "id": "0b5f4eb7",
   "metadata": {},
   "outputs": [],
   "source": [
    "IC_2013['ZipCode'] = IC_2013['ZipCode'].apply(str)"
   ]
  },
  {
   "cell_type": "code",
   "execution_count": 178,
   "id": "bcb552e2",
   "metadata": {},
   "outputs": [
    {
     "data": {
      "text/html": [
       "<div>\n",
       "<style scoped>\n",
       "    .dataframe tbody tr th:only-of-type {\n",
       "        vertical-align: middle;\n",
       "    }\n",
       "\n",
       "    .dataframe tbody tr th {\n",
       "        vertical-align: top;\n",
       "    }\n",
       "\n",
       "    .dataframe thead th {\n",
       "        text-align: right;\n",
       "    }\n",
       "</style>\n",
       "<table border=\"1\" class=\"dataframe\">\n",
       "  <thead>\n",
       "    <tr style=\"text-align: right;\">\n",
       "      <th></th>\n",
       "      <th>Amount</th>\n",
       "      <th>MatchAmt</th>\n",
       "      <th>TotalAmount</th>\n",
       "    </tr>\n",
       "    <tr>\n",
       "      <th>CandidateName</th>\n",
       "      <th></th>\n",
       "      <th></th>\n",
       "      <th></th>\n",
       "    </tr>\n",
       "  </thead>\n",
       "  <tbody>\n",
       "    <tr>\n",
       "      <th>de Blasio, Bill</th>\n",
       "      <td>11073226.59</td>\n",
       "      <td>926504.0</td>\n",
       "      <td>1.497036e+07</td>\n",
       "    </tr>\n",
       "    <tr>\n",
       "      <th>Quinn, Christine C</th>\n",
       "      <td>8206058.97</td>\n",
       "      <td>689206.0</td>\n",
       "      <td>1.209154e+07</td>\n",
       "    </tr>\n",
       "    <tr>\n",
       "      <th>Thompson, Jr., William C</th>\n",
       "      <td>4911412.70</td>\n",
       "      <td>417722.0</td>\n",
       "      <td>6.111452e+06</td>\n",
       "    </tr>\n",
       "    <tr>\n",
       "      <th>Lhota, Joseph J</th>\n",
       "      <td>3534348.21</td>\n",
       "      <td>592210.0</td>\n",
       "      <td>4.981273e+06</td>\n",
       "    </tr>\n",
       "    <tr>\n",
       "      <th>Hidary, Jack D</th>\n",
       "      <td>589596.67</td>\n",
       "      <td>75302.0</td>\n",
       "      <td>6.760667e+05</td>\n",
       "    </tr>\n",
       "    <tr>\n",
       "      <th>Salgado, Erick J</th>\n",
       "      <td>363565.09</td>\n",
       "      <td>41929.0</td>\n",
       "      <td>4.948541e+05</td>\n",
       "    </tr>\n",
       "    <tr>\n",
       "      <th>Liu, John C</th>\n",
       "      <td>239200.00</td>\n",
       "      <td>0.0</td>\n",
       "      <td>4.045000e+05</td>\n",
       "    </tr>\n",
       "    <tr>\n",
       "      <th>Weiner, Anthony D</th>\n",
       "      <td>225088.74</td>\n",
       "      <td>0.0</td>\n",
       "      <td>2.301887e+05</td>\n",
       "    </tr>\n",
       "    <tr>\n",
       "      <th>Albanese, Sal F</th>\n",
       "      <td>27178.00</td>\n",
       "      <td>0.0</td>\n",
       "      <td>3.092800e+04</td>\n",
       "    </tr>\n",
       "    <tr>\n",
       "      <th>Laurel-Smith, Abiodun</th>\n",
       "      <td>3970.00</td>\n",
       "      <td>175.0</td>\n",
       "      <td>1.219500e+04</td>\n",
       "    </tr>\n",
       "    <tr>\n",
       "      <th>Broady-Fernandez, Hilda K</th>\n",
       "      <td>1535.00</td>\n",
       "      <td>581.0</td>\n",
       "      <td>2.241000e+03</td>\n",
       "    </tr>\n",
       "    <tr>\n",
       "      <th>Marks, Philip A</th>\n",
       "      <td>500.00</td>\n",
       "      <td>175.0</td>\n",
       "      <td>1.075000e+03</td>\n",
       "    </tr>\n",
       "    <tr>\n",
       "      <th>Coenen, Jr., Kevin P</th>\n",
       "      <td>175.00</td>\n",
       "      <td>175.0</td>\n",
       "      <td>3.500000e+02</td>\n",
       "    </tr>\n",
       "    <tr>\n",
       "      <th>Berkowitz, Ceceilia J</th>\n",
       "      <td>120.00</td>\n",
       "      <td>20.0</td>\n",
       "      <td>1.500000e+02</td>\n",
       "    </tr>\n",
       "  </tbody>\n",
       "</table>\n",
       "</div>"
      ],
      "text/plain": [
       "                                Amount  MatchAmt   TotalAmount\n",
       "CandidateName                                                 \n",
       "de Blasio, Bill            11073226.59  926504.0  1.497036e+07\n",
       "Quinn, Christine C          8206058.97  689206.0  1.209154e+07\n",
       "Thompson, Jr., William C    4911412.70  417722.0  6.111452e+06\n",
       "Lhota, Joseph J             3534348.21  592210.0  4.981273e+06\n",
       "Hidary, Jack D               589596.67   75302.0  6.760667e+05\n",
       "Salgado, Erick J             363565.09   41929.0  4.948541e+05\n",
       "Liu, John C                  239200.00       0.0  4.045000e+05\n",
       "Weiner, Anthony D            225088.74       0.0  2.301887e+05\n",
       "Albanese, Sal F               27178.00       0.0  3.092800e+04\n",
       "Laurel-Smith, Abiodun          3970.00     175.0  1.219500e+04\n",
       "Broady-Fernandez, Hilda K      1535.00     581.0  2.241000e+03\n",
       "Marks, Philip A                 500.00     175.0  1.075000e+03\n",
       "Coenen, Jr., Kevin P            175.00     175.0  3.500000e+02\n",
       "Berkowitz, Ceceilia J           120.00      20.0  1.500000e+02"
      ]
     },
     "execution_count": 178,
     "metadata": {},
     "output_type": "execute_result"
    }
   ],
   "source": [
    "IC_2013_df = IC_2013.drop(columns=['ContributionState','PayMethod','Name','CandidateID','Unnamed: 0','Election','BoroughName','PrevAmt'])\n",
    "total_groupby = IC_2013_df.groupby(['CandidateName']).sum(['TotalAmount']).sort_values('TotalAmount',ascending=False)\n",
    "total_groupby "
   ]
  },
  {
   "cell_type": "code",
   "execution_count": 179,
   "id": "7454a10b",
   "metadata": {},
   "outputs": [
    {
     "data": {
      "text/plain": [
       "<AxesSubplot:xlabel='CandidateName'>"
      ]
     },
     "execution_count": 179,
     "metadata": {},
     "output_type": "execute_result"
    },
    {
     "data": {
      "image/png": "[encoded data removed]",
      "text/plain": [
       "<Figure size 432x288 with 1 Axes>"
      ]
     },
     "metadata": {
      "needs_background": "light"
     },
     "output_type": "display_data"
    }
   ],
   "source": [
    "total_groupby.plot.bar()"
   ]
  },
  {
   "cell_type": "code",
   "execution_count": 180,
   "id": "4332f61b",
   "metadata": {},
   "outputs": [
    {
     "data": {
      "text/html": [
       "<div>\n",
       "<style scoped>\n",
       "    .dataframe tbody tr th:only-of-type {\n",
       "        vertical-align: middle;\n",
       "    }\n",
       "\n",
       "    .dataframe tbody tr th {\n",
       "        vertical-align: top;\n",
       "    }\n",
       "\n",
       "    .dataframe thead th {\n",
       "        text-align: right;\n",
       "    }\n",
       "</style>\n",
       "<table border=\"1\" class=\"dataframe\">\n",
       "  <thead>\n",
       "    <tr style=\"text-align: right;\">\n",
       "      <th></th>\n",
       "      <th>Date</th>\n",
       "      <th>ContributerType</th>\n",
       "      <th>City</th>\n",
       "      <th>State</th>\n",
       "      <th>ZipCode</th>\n",
       "      <th>Amount</th>\n",
       "      <th>MatchAmt</th>\n",
       "      <th>TotalAmount</th>\n",
       "      <th>Outcome</th>\n",
       "    </tr>\n",
       "    <tr>\n",
       "      <th>CandidateName</th>\n",
       "      <th></th>\n",
       "      <th></th>\n",
       "      <th></th>\n",
       "      <th></th>\n",
       "      <th></th>\n",
       "      <th></th>\n",
       "      <th></th>\n",
       "      <th></th>\n",
       "      <th></th>\n",
       "    </tr>\n",
       "  </thead>\n",
       "  <tbody>\n",
       "    <tr>\n",
       "      <th>Coenen, Jr., Kevin P</th>\n",
       "      <td>1/25/2013</td>\n",
       "      <td>Candidate</td>\n",
       "      <td>Nesconset</td>\n",
       "      <td>NY</td>\n",
       "      <td>11767.0</td>\n",
       "      <td>10.0</td>\n",
       "      <td>0.0</td>\n",
       "      <td>10.0</td>\n",
       "      <td>L</td>\n",
       "    </tr>\n",
       "    <tr>\n",
       "      <th>Coenen, Jr., Kevin P</th>\n",
       "      <td>4/17/2013</td>\n",
       "      <td>Individual</td>\n",
       "      <td>New York</td>\n",
       "      <td>NY</td>\n",
       "      <td>10150.0</td>\n",
       "      <td>175.0</td>\n",
       "      <td>175.0</td>\n",
       "      <td>350.0</td>\n",
       "      <td>L</td>\n",
       "    </tr>\n",
       "    <tr>\n",
       "      <th>Coenen, Jr., Kevin P</th>\n",
       "      <td>1/25/2013</td>\n",
       "      <td>Candidate</td>\n",
       "      <td>Nesconset</td>\n",
       "      <td>NY</td>\n",
       "      <td>11767.0</td>\n",
       "      <td>-10.0</td>\n",
       "      <td>0.0</td>\n",
       "      <td>-10.0</td>\n",
       "      <td>L</td>\n",
       "    </tr>\n",
       "    <tr>\n",
       "      <th>Marks, Philip A</th>\n",
       "      <td>2/13/2012</td>\n",
       "      <td>Candidate</td>\n",
       "      <td>Brooklyn</td>\n",
       "      <td>NY</td>\n",
       "      <td>11236.0</td>\n",
       "      <td>400.0</td>\n",
       "      <td>175.0</td>\n",
       "      <td>575.0</td>\n",
       "      <td>L</td>\n",
       "    </tr>\n",
       "    <tr>\n",
       "      <th>Marks, Philip A</th>\n",
       "      <td>2/28/2013</td>\n",
       "      <td>Candidate</td>\n",
       "      <td>Brooklyn</td>\n",
       "      <td>NY</td>\n",
       "      <td>11236.0</td>\n",
       "      <td>100.0</td>\n",
       "      <td>0.0</td>\n",
       "      <td>500.0</td>\n",
       "      <td>L</td>\n",
       "    </tr>\n",
       "  </tbody>\n",
       "</table>\n",
       "</div>"
      ],
      "text/plain": [
       "                           Date ContributerType       City State  ZipCode  \\\n",
       "CandidateName                                                               \n",
       "Coenen, Jr., Kevin P  1/25/2013       Candidate  Nesconset    NY  11767.0   \n",
       "Coenen, Jr., Kevin P  4/17/2013      Individual   New York    NY  10150.0   \n",
       "Coenen, Jr., Kevin P  1/25/2013       Candidate  Nesconset    NY  11767.0   \n",
       "Marks, Philip A       2/13/2012       Candidate   Brooklyn    NY  11236.0   \n",
       "Marks, Philip A       2/28/2013       Candidate   Brooklyn    NY  11236.0   \n",
       "\n",
       "                      Amount  MatchAmt  TotalAmount Outcome  \n",
       "CandidateName                                                \n",
       "Coenen, Jr., Kevin P    10.0       0.0         10.0       L  \n",
       "Coenen, Jr., Kevin P   175.0     175.0        350.0       L  \n",
       "Coenen, Jr., Kevin P   -10.0       0.0        -10.0       L  \n",
       "Marks, Philip A        400.0     175.0        575.0       L  \n",
       "Marks, Philip A        100.0       0.0        500.0       L  "
      ]
     },
     "execution_count": 180,
     "metadata": {},
     "output_type": "execute_result"
    }
   ],
   "source": [
    "outcome = []\n",
    "for i in uncleaned['CandidateName']:\n",
    "    if i == 'de Blasio, Bill':\n",
    "        outcome.append('W')\n",
    "    else:\n",
    "        outcome.append('L')\n",
    "\n",
    "IC_2013_df['Outcome'] = outcome\n",
    "IC_2013_df.head()"
   ]
  },
  {
   "cell_type": "code",
   "execution_count": 181,
   "id": "997591fe",
   "metadata": {},
   "outputs": [
    {
     "data": {
      "text/html": [
       "<div>\n",
       "<style scoped>\n",
       "    .dataframe tbody tr th:only-of-type {\n",
       "        vertical-align: middle;\n",
       "    }\n",
       "\n",
       "    .dataframe tbody tr th {\n",
       "        vertical-align: top;\n",
       "    }\n",
       "\n",
       "    .dataframe thead th {\n",
       "        text-align: right;\n",
       "    }\n",
       "</style>\n",
       "<table border=\"1\" class=\"dataframe\">\n",
       "  <thead>\n",
       "    <tr style=\"text-align: right;\">\n",
       "      <th></th>\n",
       "      <th>Date</th>\n",
       "      <th>ContributerType</th>\n",
       "      <th>City</th>\n",
       "      <th>State</th>\n",
       "      <th>ZipCode</th>\n",
       "      <th>Amount</th>\n",
       "      <th>MatchAmt</th>\n",
       "      <th>TotalAmount</th>\n",
       "      <th>Outcome</th>\n",
       "    </tr>\n",
       "    <tr>\n",
       "      <th>CandidateName</th>\n",
       "      <th></th>\n",
       "      <th></th>\n",
       "      <th></th>\n",
       "      <th></th>\n",
       "      <th></th>\n",
       "      <th></th>\n",
       "      <th></th>\n",
       "      <th></th>\n",
       "      <th></th>\n",
       "    </tr>\n",
       "  </thead>\n",
       "  <tbody>\n",
       "    <tr>\n",
       "      <th>Coenen, Jr., Kevin P</th>\n",
       "      <td>2013-01-25</td>\n",
       "      <td>Candidate</td>\n",
       "      <td>Nesconset</td>\n",
       "      <td>NY</td>\n",
       "      <td>11767.0</td>\n",
       "      <td>10.0</td>\n",
       "      <td>0.0</td>\n",
       "      <td>10.0</td>\n",
       "      <td>L</td>\n",
       "    </tr>\n",
       "    <tr>\n",
       "      <th>Coenen, Jr., Kevin P</th>\n",
       "      <td>2013-04-17</td>\n",
       "      <td>Individual</td>\n",
       "      <td>New York</td>\n",
       "      <td>NY</td>\n",
       "      <td>10150.0</td>\n",
       "      <td>175.0</td>\n",
       "      <td>175.0</td>\n",
       "      <td>350.0</td>\n",
       "      <td>L</td>\n",
       "    </tr>\n",
       "    <tr>\n",
       "      <th>Coenen, Jr., Kevin P</th>\n",
       "      <td>2013-01-25</td>\n",
       "      <td>Candidate</td>\n",
       "      <td>Nesconset</td>\n",
       "      <td>NY</td>\n",
       "      <td>11767.0</td>\n",
       "      <td>-10.0</td>\n",
       "      <td>0.0</td>\n",
       "      <td>-10.0</td>\n",
       "      <td>L</td>\n",
       "    </tr>\n",
       "    <tr>\n",
       "      <th>Marks, Philip A</th>\n",
       "      <td>2012-02-13</td>\n",
       "      <td>Candidate</td>\n",
       "      <td>Brooklyn</td>\n",
       "      <td>NY</td>\n",
       "      <td>11236.0</td>\n",
       "      <td>400.0</td>\n",
       "      <td>175.0</td>\n",
       "      <td>575.0</td>\n",
       "      <td>L</td>\n",
       "    </tr>\n",
       "    <tr>\n",
       "      <th>Marks, Philip A</th>\n",
       "      <td>2013-02-28</td>\n",
       "      <td>Candidate</td>\n",
       "      <td>Brooklyn</td>\n",
       "      <td>NY</td>\n",
       "      <td>11236.0</td>\n",
       "      <td>100.0</td>\n",
       "      <td>0.0</td>\n",
       "      <td>500.0</td>\n",
       "      <td>L</td>\n",
       "    </tr>\n",
       "  </tbody>\n",
       "</table>\n",
       "</div>"
      ],
      "text/plain": [
       "                           Date ContributerType       City State  ZipCode  \\\n",
       "CandidateName                                                               \n",
       "Coenen, Jr., Kevin P 2013-01-25       Candidate  Nesconset    NY  11767.0   \n",
       "Coenen, Jr., Kevin P 2013-04-17      Individual   New York    NY  10150.0   \n",
       "Coenen, Jr., Kevin P 2013-01-25       Candidate  Nesconset    NY  11767.0   \n",
       "Marks, Philip A      2012-02-13       Candidate   Brooklyn    NY  11236.0   \n",
       "Marks, Philip A      2013-02-28       Candidate   Brooklyn    NY  11236.0   \n",
       "\n",
       "                      Amount  MatchAmt  TotalAmount Outcome  \n",
       "CandidateName                                                \n",
       "Coenen, Jr., Kevin P    10.0       0.0         10.0       L  \n",
       "Coenen, Jr., Kevin P   175.0     175.0        350.0       L  \n",
       "Coenen, Jr., Kevin P   -10.0       0.0        -10.0       L  \n",
       "Marks, Philip A        400.0     175.0        575.0       L  \n",
       "Marks, Philip A        100.0       0.0        500.0       L  "
      ]
     },
     "execution_count": 181,
     "metadata": {},
     "output_type": "execute_result"
    }
   ],
   "source": [
    "IC_2013_df['Date'] = pd.to_datetime(IC_2013_df['Date'])\n",
    "IC_2013_df.head()"
   ]
  },
  {
   "cell_type": "code",
   "execution_count": 182,
   "id": "bead26a9",
   "metadata": {},
   "outputs": [
    {
     "data": {
      "text/plain": [
       "Date               47777\n",
       "ContributerType    47777\n",
       "City               47777\n",
       "State              47777\n",
       "ZipCode            47777\n",
       "Amount             47777\n",
       "MatchAmt           47777\n",
       "TotalAmount        47777\n",
       "Outcome            47777\n",
       "dtype: int64"
      ]
     },
     "execution_count": 182,
     "metadata": {},
     "output_type": "execute_result"
    }
   ],
   "source": [
    "IC_2013_df.isnull().count()"
   ]
  },
  {
   "cell_type": "code",
   "execution_count": 183,
   "id": "57f57d8e",
   "metadata": {},
   "outputs": [],
   "source": [
    "# IC_2013_df = IC_2013_df.dropna()\n",
    "# IC_2013_df.isnull().sum()"
   ]
  },
  {
   "cell_type": "code",
   "execution_count": 184,
   "id": "5d535b3d",
   "metadata": {},
   "outputs": [
    {
     "data": {
      "text/html": [
       "<div>\n",
       "<style scoped>\n",
       "    .dataframe tbody tr th:only-of-type {\n",
       "        vertical-align: middle;\n",
       "    }\n",
       "\n",
       "    .dataframe tbody tr th {\n",
       "        vertical-align: top;\n",
       "    }\n",
       "\n",
       "    .dataframe thead th {\n",
       "        text-align: right;\n",
       "    }\n",
       "</style>\n",
       "<table border=\"1\" class=\"dataframe\">\n",
       "  <thead>\n",
       "    <tr style=\"text-align: right;\">\n",
       "      <th></th>\n",
       "      <th>Date</th>\n",
       "      <th>ContributerType</th>\n",
       "      <th>City</th>\n",
       "      <th>State</th>\n",
       "      <th>ZipCode</th>\n",
       "      <th>Amount</th>\n",
       "      <th>MatchAmt</th>\n",
       "      <th>TotalAmount</th>\n",
       "      <th>Outcome</th>\n",
       "    </tr>\n",
       "    <tr>\n",
       "      <th>CandidateName</th>\n",
       "      <th></th>\n",
       "      <th></th>\n",
       "      <th></th>\n",
       "      <th></th>\n",
       "      <th></th>\n",
       "      <th></th>\n",
       "      <th></th>\n",
       "      <th></th>\n",
       "      <th></th>\n",
       "    </tr>\n",
       "  </thead>\n",
       "  <tbody>\n",
       "    <tr>\n",
       "      <th>Coenen, Jr., Kevin P</th>\n",
       "      <td>1119</td>\n",
       "      <td>0</td>\n",
       "      <td>1573</td>\n",
       "      <td>51</td>\n",
       "      <td>512</td>\n",
       "      <td>121</td>\n",
       "      <td>0</td>\n",
       "      <td>121</td>\n",
       "      <td>0</td>\n",
       "    </tr>\n",
       "    <tr>\n",
       "      <th>Coenen, Jr., Kevin P</th>\n",
       "      <td>1201</td>\n",
       "      <td>4</td>\n",
       "      <td>1600</td>\n",
       "      <td>51</td>\n",
       "      <td>71</td>\n",
       "      <td>244</td>\n",
       "      <td>95</td>\n",
       "      <td>403</td>\n",
       "      <td>0</td>\n",
       "    </tr>\n",
       "    <tr>\n",
       "      <th>Coenen, Jr., Kevin P</th>\n",
       "      <td>1119</td>\n",
       "      <td>0</td>\n",
       "      <td>1573</td>\n",
       "      <td>51</td>\n",
       "      <td>512</td>\n",
       "      <td>105</td>\n",
       "      <td>0</td>\n",
       "      <td>106</td>\n",
       "      <td>0</td>\n",
       "    </tr>\n",
       "    <tr>\n",
       "      <th>Marks, Philip A</th>\n",
       "      <td>812</td>\n",
       "      <td>0</td>\n",
       "      <td>293</td>\n",
       "      <td>51</td>\n",
       "      <td>327</td>\n",
       "      <td>311</td>\n",
       "      <td>95</td>\n",
       "      <td>481</td>\n",
       "      <td>0</td>\n",
       "    </tr>\n",
       "    <tr>\n",
       "      <th>Marks, Philip A</th>\n",
       "      <td>1153</td>\n",
       "      <td>0</td>\n",
       "      <td>293</td>\n",
       "      <td>51</td>\n",
       "      <td>327</td>\n",
       "      <td>207</td>\n",
       "      <td>0</td>\n",
       "      <td>462</td>\n",
       "      <td>0</td>\n",
       "    </tr>\n",
       "  </tbody>\n",
       "</table>\n",
       "</div>"
      ],
      "text/plain": [
       "                      Date  ContributerType  City  State  ZipCode  Amount  \\\n",
       "CandidateName                                                               \n",
       "Coenen, Jr., Kevin P  1119                0  1573     51      512     121   \n",
       "Coenen, Jr., Kevin P  1201                4  1600     51       71     244   \n",
       "Coenen, Jr., Kevin P  1119                0  1573     51      512     105   \n",
       "Marks, Philip A        812                0   293     51      327     311   \n",
       "Marks, Philip A       1153                0   293     51      327     207   \n",
       "\n",
       "                      MatchAmt  TotalAmount  Outcome  \n",
       "CandidateName                                         \n",
       "Coenen, Jr., Kevin P         0          121        0  \n",
       "Coenen, Jr., Kevin P        95          403        0  \n",
       "Coenen, Jr., Kevin P         0          106        0  \n",
       "Marks, Philip A             95          481        0  \n",
       "Marks, Philip A              0          462        0  "
      ]
     },
     "execution_count": 184,
     "metadata": {},
     "output_type": "execute_result"
    }
   ],
   "source": [
    "from sklearn.preprocessing import LabelEncoder\n",
    "from sklearn.preprocessing import MinMaxScaler\n",
    "from sklearn.neighbors import KNeighborsClassifier\n",
    "from sklearn.feature_selection import SelectKBest, chi2\n",
    "IC_2013_df_enc = IC_2013_df.copy()\n",
    "le = LabelEncoder()\n",
    "IC_2013_df_enc['Date'] = le.fit_transform(IC_2013_df['Date'])\n",
    "IC_2013_df_enc['ContributerType'] = le.fit_transform(IC_2013_df['ContributerType'])\n",
    "IC_2013_df_enc['City'] = le.fit_transform(IC_2013_df['City'])\n",
    "IC_2013_df_enc['Amount'] = le.fit_transform(IC_2013_df['Amount'])\n",
    "IC_2013_df_enc['State'] = le.fit_transform(IC_2013_df['State'])\n",
    "IC_2013_df_enc['ZipCode'] = le.fit_transform(IC_2013_df['ZipCode'])\n",
    "IC_2013_df_enc['MatchAmt'] = le.fit_transform(IC_2013_df['MatchAmt'])\n",
    "# IC_2013_df_enc['PrevAmt'] = le.fit_transform(IC_2013_df['PrevAmt'])\n",
    "IC_2013_df_enc['TotalAmount'] = le.fit_transform(IC_2013_df['TotalAmount'])\n",
    "IC_2013_df_enc['Outcome'] = le.fit_transform(IC_2013_df['Outcome'])\n",
    "IC_2013_df_enc.head()"
   ]
  },
  {
   "cell_type": "code",
   "execution_count": 185,
   "id": "93dcf9e7",
   "metadata": {},
   "outputs": [],
   "source": [
    "X = IC_2013_df_enc.drop('Outcome',axis = 1)"
   ]
  },
  {
   "cell_type": "code",
   "execution_count": 186,
   "id": "2a6377e5",
   "metadata": {},
   "outputs": [],
   "source": [
    "y = IC_2013_df_enc['Outcome']"
   ]
  },
  {
   "cell_type": "code",
   "execution_count": 187,
   "id": "cf8c4300",
   "metadata": {},
   "outputs": [
    {
     "data": {
      "text/plain": [
       "0    30507\n",
       "1    17270\n",
       "Name: Outcome, dtype: int64"
      ]
     },
     "execution_count": 187,
     "metadata": {},
     "output_type": "execute_result"
    }
   ],
   "source": [
    "# Check the balance of our target values\n",
    "y.value_counts()"
   ]
  },
  {
   "cell_type": "code",
   "execution_count": 188,
   "id": "6f63954f",
   "metadata": {},
   "outputs": [],
   "source": [
    "from sklearn.model_selection import train_test_split\n",
    "X_train, X_test, y_train, y_test = train_test_split(X, y, random_state=1)"
   ]
  },
  {
   "cell_type": "code",
   "execution_count": 189,
   "id": "0a20ac03",
   "metadata": {},
   "outputs": [],
   "source": [
    "# Resample the training data with the BalancedRandomForestClassifier\n",
    "# YOUR CODE HERE\n",
    "\n",
    "from imblearn.ensemble import BalancedRandomForestClassifier\n",
    "random_forest = BalancedRandomForestClassifier(n_estimators = 100,random_state = 1)\n",
    "random_forest = random_forest.fit(X_train, y_train)"
   ]
  },
  {
   "cell_type": "code",
   "execution_count": 190,
   "id": "ca2cec49",
   "metadata": {
    "scrolled": true
   },
   "outputs": [
    {
     "data": {
      "text/plain": [
       "0.7898317383884278"
      ]
     },
     "execution_count": 190,
     "metadata": {},
     "output_type": "execute_result"
    }
   ],
   "source": [
    "# Calculated the balanced accuracy score\n",
    "# YOUR CODE HERE\n",
    "from sklearn.metrics import balanced_accuracy_score\n",
    "y_pred = random_forest.predict(X_test)\n",
    "balanced_accuracy_score(y_test, y_pred)"
   ]
  },
  {
   "cell_type": "code",
   "execution_count": 191,
   "id": "389c19f1",
   "metadata": {},
   "outputs": [
    {
     "data": {
      "text/plain": [
       "array([[6033, 1604],\n",
       "       [ 906, 3402]])"
      ]
     },
     "execution_count": 191,
     "metadata": {},
     "output_type": "execute_result"
    }
   ],
   "source": [
    "# Display the confusion matrix\n",
    "# YOUR CODE HERE\n",
    "# Display the confusion matrix\n",
    "from sklearn.metrics import confusion_matrix\n",
    "confusion_matrix(y_test, y_pred)"
   ]
  },
  {
   "cell_type": "code",
   "execution_count": 192,
   "id": "0258723c",
   "metadata": {},
   "outputs": [
    {
     "name": "stdout",
     "output_type": "stream",
     "text": [
      "                   pre       rec       spe        f1       geo       iba       sup\n",
      "\n",
      "          0       0.87      0.79      0.79      0.83      0.79      0.62      7637\n",
      "          1       0.68      0.79      0.79      0.73      0.79      0.62      4308\n",
      "\n",
      "avg / total       0.80      0.79      0.79      0.79      0.79      0.62     11945\n",
      "\n"
     ]
    }
   ],
   "source": [
    "from imblearn.metrics import classification_report_imbalanced\n",
    "print(classification_report_imbalanced(y_test, y_pred))"
   ]
  },
  {
   "cell_type": "code",
   "execution_count": 193,
   "id": "a1b7baeb",
   "metadata": {},
   "outputs": [
    {
     "data": {
      "text/html": [
       "<div>\n",
       "<style scoped>\n",
       "    .dataframe tbody tr th:only-of-type {\n",
       "        vertical-align: middle;\n",
       "    }\n",
       "\n",
       "    .dataframe tbody tr th {\n",
       "        vertical-align: top;\n",
       "    }\n",
       "\n",
       "    .dataframe thead th {\n",
       "        text-align: right;\n",
       "    }\n",
       "</style>\n",
       "<table border=\"1\" class=\"dataframe\">\n",
       "  <thead>\n",
       "    <tr style=\"text-align: right;\">\n",
       "      <th></th>\n",
       "      <th>Date</th>\n",
       "      <th>ContributerType</th>\n",
       "      <th>City</th>\n",
       "      <th>State</th>\n",
       "      <th>ZipCode</th>\n",
       "      <th>Amount</th>\n",
       "      <th>MatchAmt</th>\n",
       "      <th>TotalAmount</th>\n",
       "      <th>Outcome</th>\n",
       "    </tr>\n",
       "    <tr>\n",
       "      <th>CandidateName</th>\n",
       "      <th></th>\n",
       "      <th></th>\n",
       "      <th></th>\n",
       "      <th></th>\n",
       "      <th></th>\n",
       "      <th></th>\n",
       "      <th></th>\n",
       "      <th></th>\n",
       "      <th></th>\n",
       "    </tr>\n",
       "  </thead>\n",
       "  <tbody>\n",
       "    <tr>\n",
       "      <th>Coenen, Jr., Kevin P</th>\n",
       "      <td>1119</td>\n",
       "      <td>0</td>\n",
       "      <td>1573</td>\n",
       "      <td>51</td>\n",
       "      <td>512</td>\n",
       "      <td>121</td>\n",
       "      <td>0</td>\n",
       "      <td>121</td>\n",
       "      <td>0</td>\n",
       "    </tr>\n",
       "    <tr>\n",
       "      <th>Coenen, Jr., Kevin P</th>\n",
       "      <td>1201</td>\n",
       "      <td>4</td>\n",
       "      <td>1600</td>\n",
       "      <td>51</td>\n",
       "      <td>71</td>\n",
       "      <td>244</td>\n",
       "      <td>95</td>\n",
       "      <td>403</td>\n",
       "      <td>0</td>\n",
       "    </tr>\n",
       "    <tr>\n",
       "      <th>Coenen, Jr., Kevin P</th>\n",
       "      <td>1119</td>\n",
       "      <td>0</td>\n",
       "      <td>1573</td>\n",
       "      <td>51</td>\n",
       "      <td>512</td>\n",
       "      <td>105</td>\n",
       "      <td>0</td>\n",
       "      <td>106</td>\n",
       "      <td>0</td>\n",
       "    </tr>\n",
       "    <tr>\n",
       "      <th>Marks, Philip A</th>\n",
       "      <td>812</td>\n",
       "      <td>0</td>\n",
       "      <td>293</td>\n",
       "      <td>51</td>\n",
       "      <td>327</td>\n",
       "      <td>311</td>\n",
       "      <td>95</td>\n",
       "      <td>481</td>\n",
       "      <td>0</td>\n",
       "    </tr>\n",
       "    <tr>\n",
       "      <th>Marks, Philip A</th>\n",
       "      <td>1153</td>\n",
       "      <td>0</td>\n",
       "      <td>293</td>\n",
       "      <td>51</td>\n",
       "      <td>327</td>\n",
       "      <td>207</td>\n",
       "      <td>0</td>\n",
       "      <td>462</td>\n",
       "      <td>0</td>\n",
       "    </tr>\n",
       "  </tbody>\n",
       "</table>\n",
       "</div>"
      ],
      "text/plain": [
       "                      Date  ContributerType  City  State  ZipCode  Amount  \\\n",
       "CandidateName                                                               \n",
       "Coenen, Jr., Kevin P  1119                0  1573     51      512     121   \n",
       "Coenen, Jr., Kevin P  1201                4  1600     51       71     244   \n",
       "Coenen, Jr., Kevin P  1119                0  1573     51      512     105   \n",
       "Marks, Philip A        812                0   293     51      327     311   \n",
       "Marks, Philip A       1153                0   293     51      327     207   \n",
       "\n",
       "                      MatchAmt  TotalAmount  Outcome  \n",
       "CandidateName                                         \n",
       "Coenen, Jr., Kevin P         0          121        0  \n",
       "Coenen, Jr., Kevin P        95          403        0  \n",
       "Coenen, Jr., Kevin P         0          106        0  \n",
       "Marks, Philip A             95          481        0  \n",
       "Marks, Philip A              0          462        0  "
      ]
     },
     "execution_count": 193,
     "metadata": {},
     "output_type": "execute_result"
    }
   ],
   "source": [
    "IC_2013_df_enc.head()"
   ]
  },
  {
   "cell_type": "code",
   "execution_count": 194,
   "id": "6809c792",
   "metadata": {},
   "outputs": [],
   "source": [
    "X_ContributerType = IC_2013_df_enc.drop(['Outcome','Date','City','State','ZipCode','Amount','MatchAmt','TotalAmount'],axis = 1)\n",
    "y_ContributerType = IC_2013_df_enc['Outcome']"
   ]
  },
  {
   "cell_type": "code",
   "execution_count": 195,
   "id": "bc258d81",
   "metadata": {},
   "outputs": [],
   "source": [
    "from sklearn.model_selection import train_test_split\n",
    "X_train, X_test, y_train, y_test = train_test_split(X_ContributerType, y_ContributerType, random_state=1)"
   ]
  },
  {
   "cell_type": "code",
   "execution_count": 196,
   "id": "5e4ce281",
   "metadata": {},
   "outputs": [],
   "source": [
    "# Resample the training data with the BalancedRandomForestClassifier\n",
    "# YOUR CODE HERE\n",
    "\n",
    "from imblearn.ensemble import BalancedRandomForestClassifier\n",
    "random_forest = BalancedRandomForestClassifier(n_estimators = 100,random_state = 1)\n",
    "random_forest = random_forest.fit(X_train, y_train)"
   ]
  },
  {
   "cell_type": "code",
   "execution_count": 197,
   "id": "ae9298d4",
   "metadata": {},
   "outputs": [
    {
     "data": {
      "text/plain": [
       "0.5065262377160307"
      ]
     },
     "execution_count": 197,
     "metadata": {},
     "output_type": "execute_result"
    }
   ],
   "source": [
    "# Calculated the balanced accuracy score\n",
    "# YOUR CODE HERE\n",
    "from sklearn.metrics import balanced_accuracy_score\n",
    "y_pred = random_forest.predict(X_test)\n",
    "balanced_accuracy_score(y_test, y_pred)"
   ]
  },
  {
   "cell_type": "code",
   "execution_count": 198,
   "id": "eab80f95",
   "metadata": {},
   "outputs": [
    {
     "data": {
      "text/plain": [
       "array([[ 105, 7532],\n",
       "       [   3, 4305]])"
      ]
     },
     "execution_count": 198,
     "metadata": {},
     "output_type": "execute_result"
    }
   ],
   "source": [
    "# Display the confusion matrix\n",
    "# YOUR CODE HERE\n",
    "# Display the confusion matrix\n",
    "from sklearn.metrics import confusion_matrix\n",
    "confusion_matrix(y_test, y_pred)"
   ]
  },
  {
   "cell_type": "code",
   "execution_count": 199,
   "id": "222028d0",
   "metadata": {},
   "outputs": [
    {
     "name": "stdout",
     "output_type": "stream",
     "text": [
      "                   pre       rec       spe        f1       geo       iba       sup\n",
      "\n",
      "          0       0.97      0.01      1.00      0.03      0.12      0.01      7637\n",
      "          1       0.36      1.00      0.01      0.53      0.12      0.02      4308\n",
      "\n",
      "avg / total       0.75      0.37      0.64      0.21      0.12      0.01     11945\n",
      "\n"
     ]
    }
   ],
   "source": [
    "from imblearn.metrics import classification_report_imbalanced\n",
    "print(classification_report_imbalanced(y_test, y_pred))"
   ]
  },
  {
   "cell_type": "code",
   "execution_count": 200,
   "id": "bf1e97cb",
   "metadata": {},
   "outputs": [],
   "source": [
    "X_City = IC_2013_df_enc.drop(['Outcome','Date','ContributerType','State','ZipCode','Amount','MatchAmt','TotalAmount'],axis = 1)\n",
    "y_City = IC_2013_df_enc['Outcome']"
   ]
  },
  {
   "cell_type": "code",
   "execution_count": 201,
   "id": "5c270996",
   "metadata": {},
   "outputs": [],
   "source": [
    "from sklearn.model_selection import train_test_split\n",
    "X_train, X_test, y_train, y_test = train_test_split(X_City, y_City, random_state=1)"
   ]
  },
  {
   "cell_type": "code",
   "execution_count": 202,
   "id": "3a7d6d12",
   "metadata": {},
   "outputs": [],
   "source": [
    "# Resample the training data with the BalancedRandomForestClassifier\n",
    "# YOUR CODE HERE\n",
    "\n",
    "from imblearn.ensemble import BalancedRandomForestClassifier\n",
    "random_forest = BalancedRandomForestClassifier(n_estimators = 100,random_state = 1)\n",
    "random_forest = random_forest.fit(X_train, y_train)"
   ]
  },
  {
   "cell_type": "code",
   "execution_count": 203,
   "id": "47fb3e0b",
   "metadata": {},
   "outputs": [
    {
     "data": {
      "text/plain": [
       "0.6083006465979717"
      ]
     },
     "execution_count": 203,
     "metadata": {},
     "output_type": "execute_result"
    }
   ],
   "source": [
    "# Calculated the balanced accuracy score\n",
    "# YOUR CODE HERE\n",
    "from sklearn.metrics import balanced_accuracy_score\n",
    "y_pred = random_forest.predict(X_test)\n",
    "balanced_accuracy_score(y_test, y_pred)"
   ]
  },
  {
   "cell_type": "code",
   "execution_count": 204,
   "id": "d68ed203",
   "metadata": {},
   "outputs": [
    {
     "data": {
      "text/plain": [
       "array([[5283, 2354],\n",
       "       [2047, 2261]])"
      ]
     },
     "execution_count": 204,
     "metadata": {},
     "output_type": "execute_result"
    }
   ],
   "source": [
    "# Display the confusion matrix\n",
    "# YOUR CODE HERE\n",
    "# Display the confusion matrix\n",
    "from sklearn.metrics import confusion_matrix\n",
    "confusion_matrix(y_test, y_pred)"
   ]
  },
  {
   "cell_type": "code",
   "execution_count": 205,
   "id": "0aabafde",
   "metadata": {},
   "outputs": [
    {
     "name": "stdout",
     "output_type": "stream",
     "text": [
      "                   pre       rec       spe        f1       geo       iba       sup\n",
      "\n",
      "          0       0.72      0.69      0.52      0.71      0.60      0.37      7637\n",
      "          1       0.49      0.52      0.69      0.51      0.60      0.36      4308\n",
      "\n",
      "avg / total       0.64      0.63      0.59      0.63      0.60      0.36     11945\n",
      "\n"
     ]
    }
   ],
   "source": [
    "from imblearn.metrics import classification_report_imbalanced\n",
    "print(classification_report_imbalanced(y_test, y_pred))"
   ]
  },
  {
   "cell_type": "code",
   "execution_count": 206,
   "id": "f9b4fbc0",
   "metadata": {},
   "outputs": [
    {
     "data": {
      "text/html": [
       "<div>\n",
       "<style scoped>\n",
       "    .dataframe tbody tr th:only-of-type {\n",
       "        vertical-align: middle;\n",
       "    }\n",
       "\n",
       "    .dataframe tbody tr th {\n",
       "        vertical-align: top;\n",
       "    }\n",
       "\n",
       "    .dataframe thead th {\n",
       "        text-align: right;\n",
       "    }\n",
       "</style>\n",
       "<table border=\"1\" class=\"dataframe\">\n",
       "  <thead>\n",
       "    <tr style=\"text-align: right;\">\n",
       "      <th></th>\n",
       "      <th>Date</th>\n",
       "      <th>ContributerType</th>\n",
       "      <th>City</th>\n",
       "      <th>State</th>\n",
       "      <th>ZipCode</th>\n",
       "      <th>Amount</th>\n",
       "      <th>MatchAmt</th>\n",
       "      <th>TotalAmount</th>\n",
       "      <th>Outcome</th>\n",
       "    </tr>\n",
       "    <tr>\n",
       "      <th>CandidateName</th>\n",
       "      <th></th>\n",
       "      <th></th>\n",
       "      <th></th>\n",
       "      <th></th>\n",
       "      <th></th>\n",
       "      <th></th>\n",
       "      <th></th>\n",
       "      <th></th>\n",
       "      <th></th>\n",
       "    </tr>\n",
       "  </thead>\n",
       "  <tbody>\n",
       "    <tr>\n",
       "      <th>Coenen, Jr., Kevin P</th>\n",
       "      <td>1119</td>\n",
       "      <td>0</td>\n",
       "      <td>1573</td>\n",
       "      <td>51</td>\n",
       "      <td>512</td>\n",
       "      <td>121</td>\n",
       "      <td>0</td>\n",
       "      <td>121</td>\n",
       "      <td>0</td>\n",
       "    </tr>\n",
       "    <tr>\n",
       "      <th>Coenen, Jr., Kevin P</th>\n",
       "      <td>1201</td>\n",
       "      <td>4</td>\n",
       "      <td>1600</td>\n",
       "      <td>51</td>\n",
       "      <td>71</td>\n",
       "      <td>244</td>\n",
       "      <td>95</td>\n",
       "      <td>403</td>\n",
       "      <td>0</td>\n",
       "    </tr>\n",
       "    <tr>\n",
       "      <th>Coenen, Jr., Kevin P</th>\n",
       "      <td>1119</td>\n",
       "      <td>0</td>\n",
       "      <td>1573</td>\n",
       "      <td>51</td>\n",
       "      <td>512</td>\n",
       "      <td>105</td>\n",
       "      <td>0</td>\n",
       "      <td>106</td>\n",
       "      <td>0</td>\n",
       "    </tr>\n",
       "    <tr>\n",
       "      <th>Marks, Philip A</th>\n",
       "      <td>812</td>\n",
       "      <td>0</td>\n",
       "      <td>293</td>\n",
       "      <td>51</td>\n",
       "      <td>327</td>\n",
       "      <td>311</td>\n",
       "      <td>95</td>\n",
       "      <td>481</td>\n",
       "      <td>0</td>\n",
       "    </tr>\n",
       "    <tr>\n",
       "      <th>Marks, Philip A</th>\n",
       "      <td>1153</td>\n",
       "      <td>0</td>\n",
       "      <td>293</td>\n",
       "      <td>51</td>\n",
       "      <td>327</td>\n",
       "      <td>207</td>\n",
       "      <td>0</td>\n",
       "      <td>462</td>\n",
       "      <td>0</td>\n",
       "    </tr>\n",
       "  </tbody>\n",
       "</table>\n",
       "</div>"
      ],
      "text/plain": [
       "                      Date  ContributerType  City  State  ZipCode  Amount  \\\n",
       "CandidateName                                                               \n",
       "Coenen, Jr., Kevin P  1119                0  1573     51      512     121   \n",
       "Coenen, Jr., Kevin P  1201                4  1600     51       71     244   \n",
       "Coenen, Jr., Kevin P  1119                0  1573     51      512     105   \n",
       "Marks, Philip A        812                0   293     51      327     311   \n",
       "Marks, Philip A       1153                0   293     51      327     207   \n",
       "\n",
       "                      MatchAmt  TotalAmount  Outcome  \n",
       "CandidateName                                         \n",
       "Coenen, Jr., Kevin P         0          121        0  \n",
       "Coenen, Jr., Kevin P        95          403        0  \n",
       "Coenen, Jr., Kevin P         0          106        0  \n",
       "Marks, Philip A             95          481        0  \n",
       "Marks, Philip A              0          462        0  "
      ]
     },
     "execution_count": 206,
     "metadata": {},
     "output_type": "execute_result"
    }
   ],
   "source": [
    "IC_2013_df_enc.head()"
   ]
  },
  {
   "cell_type": "code",
   "execution_count": 207,
   "id": "1892c0dc",
   "metadata": {},
   "outputs": [],
   "source": [
    "X_State = IC_2013_df_enc.drop(['Outcome','Date','ContributerType','City','ZipCode','Amount','MatchAmt','TotalAmount'],axis = 1)\n",
    "y_State = IC_2013_df_enc['Outcome']"
   ]
  },
  {
   "cell_type": "code",
   "execution_count": 208,
   "id": "c9179164",
   "metadata": {},
   "outputs": [],
   "source": [
    "from sklearn.model_selection import train_test_split\n",
    "X_train, X_test, y_train, y_test = train_test_split(X_State, y_State, random_state=1)"
   ]
  },
  {
   "cell_type": "code",
   "execution_count": 209,
   "id": "c8f54715",
   "metadata": {},
   "outputs": [],
   "source": [
    "# Resample the training data with the BalancedRandomForestClassifier\n",
    "# YOUR CODE HERE\n",
    "\n",
    "from imblearn.ensemble import BalancedRandomForestClassifier\n",
    "random_forest = BalancedRandomForestClassifier(n_estimators = 100,random_state = 1)\n",
    "random_forest = random_forest.fit(X_train, y_train)"
   ]
  },
  {
   "cell_type": "code",
   "execution_count": 210,
   "id": "d14aeb62",
   "metadata": {},
   "outputs": [
    {
     "data": {
      "text/plain": [
       "0.5157123987954357"
      ]
     },
     "execution_count": 210,
     "metadata": {},
     "output_type": "execute_result"
    }
   ],
   "source": [
    "# Calculated the balanced accuracy score\n",
    "# YOUR CODE HERE\n",
    "from sklearn.metrics import balanced_accuracy_score\n",
    "y_pred = random_forest.predict(X_test)\n",
    "balanced_accuracy_score(y_test, y_pred)"
   ]
  },
  {
   "cell_type": "code",
   "execution_count": 211,
   "id": "181d6e47",
   "metadata": {},
   "outputs": [
    {
     "data": {
      "text/plain": [
       "array([[ 981, 6656],\n",
       "       [ 418, 3890]])"
      ]
     },
     "execution_count": 211,
     "metadata": {},
     "output_type": "execute_result"
    }
   ],
   "source": [
    "# Display the confusion matrix\n",
    "# YOUR CODE HERE\n",
    "# Display the confusion matrix\n",
    "from sklearn.metrics import confusion_matrix\n",
    "confusion_matrix(y_test, y_pred)"
   ]
  },
  {
   "cell_type": "code",
   "execution_count": 212,
   "id": "6916aae7",
   "metadata": {},
   "outputs": [
    {
     "name": "stdout",
     "output_type": "stream",
     "text": [
      "                   pre       rec       spe        f1       geo       iba       sup\n",
      "\n",
      "          0       0.70      0.13      0.90      0.22      0.34      0.11      7637\n",
      "          1       0.37      0.90      0.13      0.52      0.34      0.12      4308\n",
      "\n",
      "avg / total       0.58      0.41      0.62      0.33      0.34      0.11     11945\n",
      "\n"
     ]
    }
   ],
   "source": [
    "from imblearn.metrics import classification_report_imbalanced\n",
    "print(classification_report_imbalanced(y_test, y_pred))"
   ]
  },
  {
   "cell_type": "code",
   "execution_count": 213,
   "id": "01ea29a1",
   "metadata": {},
   "outputs": [
    {
     "data": {
      "text/html": [
       "<div>\n",
       "<style scoped>\n",
       "    .dataframe tbody tr th:only-of-type {\n",
       "        vertical-align: middle;\n",
       "    }\n",
       "\n",
       "    .dataframe tbody tr th {\n",
       "        vertical-align: top;\n",
       "    }\n",
       "\n",
       "    .dataframe thead th {\n",
       "        text-align: right;\n",
       "    }\n",
       "</style>\n",
       "<table border=\"1\" class=\"dataframe\">\n",
       "  <thead>\n",
       "    <tr style=\"text-align: right;\">\n",
       "      <th></th>\n",
       "      <th>Date</th>\n",
       "      <th>ContributerType</th>\n",
       "      <th>City</th>\n",
       "      <th>State</th>\n",
       "      <th>ZipCode</th>\n",
       "      <th>Amount</th>\n",
       "      <th>MatchAmt</th>\n",
       "      <th>TotalAmount</th>\n",
       "      <th>Outcome</th>\n",
       "    </tr>\n",
       "    <tr>\n",
       "      <th>CandidateName</th>\n",
       "      <th></th>\n",
       "      <th></th>\n",
       "      <th></th>\n",
       "      <th></th>\n",
       "      <th></th>\n",
       "      <th></th>\n",
       "      <th></th>\n",
       "      <th></th>\n",
       "      <th></th>\n",
       "    </tr>\n",
       "  </thead>\n",
       "  <tbody>\n",
       "    <tr>\n",
       "      <th>Coenen, Jr., Kevin P</th>\n",
       "      <td>1119</td>\n",
       "      <td>0</td>\n",
       "      <td>1573</td>\n",
       "      <td>51</td>\n",
       "      <td>512</td>\n",
       "      <td>121</td>\n",
       "      <td>0</td>\n",
       "      <td>121</td>\n",
       "      <td>0</td>\n",
       "    </tr>\n",
       "  </tbody>\n",
       "</table>\n",
       "</div>"
      ],
      "text/plain": [
       "                      Date  ContributerType  City  State  ZipCode  Amount  \\\n",
       "CandidateName                                                               \n",
       "Coenen, Jr., Kevin P  1119                0  1573     51      512     121   \n",
       "\n",
       "                      MatchAmt  TotalAmount  Outcome  \n",
       "CandidateName                                         \n",
       "Coenen, Jr., Kevin P         0          121        0  "
      ]
     },
     "execution_count": 213,
     "metadata": {},
     "output_type": "execute_result"
    }
   ],
   "source": [
    "IC_2013_df_enc.head(1)"
   ]
  },
  {
   "cell_type": "code",
   "execution_count": 215,
   "id": "3a52b6a1",
   "metadata": {},
   "outputs": [],
   "source": [
    "X_ZipCode = IC_2013_df_enc.drop(['Outcome','Date','ContributerType','State','Amount','MatchAmt','TotalAmount'],axis = 1)\n",
    "y_ZipCode = IC_2013_df_enc['Outcome']"
   ]
  },
  {
   "cell_type": "code",
   "execution_count": 217,
   "id": "725cae9e",
   "metadata": {},
   "outputs": [],
   "source": [
    "from sklearn.model_selection import train_test_split\n",
    "X_train, X_test, y_train, y_test = train_test_split(X_ZipCode, y_ZipCode, random_state=1)"
   ]
  },
  {
   "cell_type": "code",
   "execution_count": 218,
   "id": "a955f61c",
   "metadata": {},
   "outputs": [],
   "source": [
    "# Resample the training data with the BalancedRandomForestClassifier\n",
    "# YOUR CODE HERE\n",
    "\n",
    "from imblearn.ensemble import BalancedRandomForestClassifier\n",
    "random_forest = BalancedRandomForestClassifier(n_estimators = 100,random_state = 1)\n",
    "random_forest = random_forest.fit(X_train, y_train)"
   ]
  },
  {
   "cell_type": "code",
   "execution_count": 219,
   "id": "c323acda",
   "metadata": {},
   "outputs": [
    {
     "data": {
      "text/plain": [
       "0.6364417555445566"
      ]
     },
     "execution_count": 219,
     "metadata": {},
     "output_type": "execute_result"
    }
   ],
   "source": [
    "# Calculated the balanced accuracy score\n",
    "# YOUR CODE HERE\n",
    "from sklearn.metrics import balanced_accuracy_score\n",
    "y_pred = random_forest.predict(X_test)\n",
    "balanced_accuracy_score(y_test, y_pred)"
   ]
  },
  {
   "cell_type": "code",
   "execution_count": 220,
   "id": "38cc539c",
   "metadata": {},
   "outputs": [
    {
     "data": {
      "text/plain": [
       "array([[4947, 2690],\n",
       "       [1615, 2693]])"
      ]
     },
     "execution_count": 220,
     "metadata": {},
     "output_type": "execute_result"
    }
   ],
   "source": [
    "# Display the confusion matrix\n",
    "# YOUR CODE HERE\n",
    "# Display the confusion matrix\n",
    "from sklearn.metrics import confusion_matrix\n",
    "confusion_matrix(y_test, y_pred)"
   ]
  },
  {
   "cell_type": "code",
   "execution_count": 221,
   "id": "144e5e54",
   "metadata": {},
   "outputs": [
    {
     "name": "stdout",
     "output_type": "stream",
     "text": [
      "                   pre       rec       spe        f1       geo       iba       sup\n",
      "\n",
      "          0       0.75      0.65      0.63      0.70      0.64      0.41      7637\n",
      "          1       0.50      0.63      0.65      0.56      0.64      0.40      4308\n",
      "\n",
      "avg / total       0.66      0.64      0.63      0.65      0.64      0.41     11945\n",
      "\n"
     ]
    }
   ],
   "source": [
    "from imblearn.metrics import classification_report_imbalanced\n",
    "print(classification_report_imbalanced(y_test, y_pred))"
   ]
  },
  {
   "cell_type": "code",
   "execution_count": 222,
   "id": "f143febd",
   "metadata": {},
   "outputs": [
    {
     "data": {
      "text/html": [
       "<div>\n",
       "<style scoped>\n",
       "    .dataframe tbody tr th:only-of-type {\n",
       "        vertical-align: middle;\n",
       "    }\n",
       "\n",
       "    .dataframe tbody tr th {\n",
       "        vertical-align: top;\n",
       "    }\n",
       "\n",
       "    .dataframe thead th {\n",
       "        text-align: right;\n",
       "    }\n",
       "</style>\n",
       "<table border=\"1\" class=\"dataframe\">\n",
       "  <thead>\n",
       "    <tr style=\"text-align: right;\">\n",
       "      <th></th>\n",
       "      <th>Date</th>\n",
       "      <th>ContributerType</th>\n",
       "      <th>City</th>\n",
       "      <th>State</th>\n",
       "      <th>ZipCode</th>\n",
       "      <th>Amount</th>\n",
       "      <th>MatchAmt</th>\n",
       "      <th>TotalAmount</th>\n",
       "      <th>Outcome</th>\n",
       "    </tr>\n",
       "    <tr>\n",
       "      <th>CandidateName</th>\n",
       "      <th></th>\n",
       "      <th></th>\n",
       "      <th></th>\n",
       "      <th></th>\n",
       "      <th></th>\n",
       "      <th></th>\n",
       "      <th></th>\n",
       "      <th></th>\n",
       "      <th></th>\n",
       "    </tr>\n",
       "  </thead>\n",
       "  <tbody>\n",
       "    <tr>\n",
       "      <th>Coenen, Jr., Kevin P</th>\n",
       "      <td>1119</td>\n",
       "      <td>0</td>\n",
       "      <td>1573</td>\n",
       "      <td>51</td>\n",
       "      <td>512</td>\n",
       "      <td>121</td>\n",
       "      <td>0</td>\n",
       "      <td>121</td>\n",
       "      <td>0</td>\n",
       "    </tr>\n",
       "    <tr>\n",
       "      <th>Coenen, Jr., Kevin P</th>\n",
       "      <td>1201</td>\n",
       "      <td>4</td>\n",
       "      <td>1600</td>\n",
       "      <td>51</td>\n",
       "      <td>71</td>\n",
       "      <td>244</td>\n",
       "      <td>95</td>\n",
       "      <td>403</td>\n",
       "      <td>0</td>\n",
       "    </tr>\n",
       "    <tr>\n",
       "      <th>Coenen, Jr., Kevin P</th>\n",
       "      <td>1119</td>\n",
       "      <td>0</td>\n",
       "      <td>1573</td>\n",
       "      <td>51</td>\n",
       "      <td>512</td>\n",
       "      <td>105</td>\n",
       "      <td>0</td>\n",
       "      <td>106</td>\n",
       "      <td>0</td>\n",
       "    </tr>\n",
       "    <tr>\n",
       "      <th>Marks, Philip A</th>\n",
       "      <td>812</td>\n",
       "      <td>0</td>\n",
       "      <td>293</td>\n",
       "      <td>51</td>\n",
       "      <td>327</td>\n",
       "      <td>311</td>\n",
       "      <td>95</td>\n",
       "      <td>481</td>\n",
       "      <td>0</td>\n",
       "    </tr>\n",
       "    <tr>\n",
       "      <th>Marks, Philip A</th>\n",
       "      <td>1153</td>\n",
       "      <td>0</td>\n",
       "      <td>293</td>\n",
       "      <td>51</td>\n",
       "      <td>327</td>\n",
       "      <td>207</td>\n",
       "      <td>0</td>\n",
       "      <td>462</td>\n",
       "      <td>0</td>\n",
       "    </tr>\n",
       "  </tbody>\n",
       "</table>\n",
       "</div>"
      ],
      "text/plain": [
       "                      Date  ContributerType  City  State  ZipCode  Amount  \\\n",
       "CandidateName                                                               \n",
       "Coenen, Jr., Kevin P  1119                0  1573     51      512     121   \n",
       "Coenen, Jr., Kevin P  1201                4  1600     51       71     244   \n",
       "Coenen, Jr., Kevin P  1119                0  1573     51      512     105   \n",
       "Marks, Philip A        812                0   293     51      327     311   \n",
       "Marks, Philip A       1153                0   293     51      327     207   \n",
       "\n",
       "                      MatchAmt  TotalAmount  Outcome  \n",
       "CandidateName                                         \n",
       "Coenen, Jr., Kevin P         0          121        0  \n",
       "Coenen, Jr., Kevin P        95          403        0  \n",
       "Coenen, Jr., Kevin P         0          106        0  \n",
       "Marks, Philip A             95          481        0  \n",
       "Marks, Philip A              0          462        0  "
      ]
     },
     "execution_count": 222,
     "metadata": {},
     "output_type": "execute_result"
    }
   ],
   "source": [
    "IC_2013_df_enc.head()"
   ]
  },
  {
   "cell_type": "code",
   "execution_count": 224,
   "id": "49907e7c",
   "metadata": {},
   "outputs": [],
   "source": [
    "X_Amount = IC_2013_df_enc.drop(['Outcome','Date','ContributerType','State','ZipCode','MatchAmt','TotalAmount'],axis = 1)\n",
    "y_Amount = IC_2013_df_enc['Outcome']"
   ]
  },
  {
   "cell_type": "code",
   "execution_count": 225,
   "id": "cc07d834",
   "metadata": {},
   "outputs": [],
   "source": [
    "from sklearn.model_selection import train_test_split\n",
    "X_train, X_test, y_train, y_test = train_test_split(X_Amount, y_Amount, random_state=1)"
   ]
  },
  {
   "cell_type": "code",
   "execution_count": 226,
   "id": "5d965f4f",
   "metadata": {},
   "outputs": [],
   "source": [
    "# Resample the training data with the BalancedRandomForestClassifier\n",
    "# YOUR CODE HERE\n",
    "\n",
    "from imblearn.ensemble import BalancedRandomForestClassifier\n",
    "random_forest = BalancedRandomForestClassifier(n_estimators = 100,random_state = 1)\n",
    "random_forest = random_forest.fit(X_train, y_train)"
   ]
  },
  {
   "cell_type": "code",
   "execution_count": 227,
   "id": "9b85fb02",
   "metadata": {},
   "outputs": [
    {
     "data": {
      "text/plain": [
       "0.6292489260550302"
      ]
     },
     "execution_count": 227,
     "metadata": {},
     "output_type": "execute_result"
    }
   ],
   "source": [
    "# Calculated the balanced accuracy score\n",
    "# YOUR CODE HERE\n",
    "from sklearn.metrics import balanced_accuracy_score\n",
    "y_pred = random_forest.predict(X_test)\n",
    "balanced_accuracy_score(y_test, y_pred)"
   ]
  },
  {
   "cell_type": "code",
   "execution_count": 228,
   "id": "1ec7358a",
   "metadata": {},
   "outputs": [
    {
     "data": {
      "text/plain": [
       "array([[4807, 2830],\n",
       "       [1598, 2710]])"
      ]
     },
     "execution_count": 228,
     "metadata": {},
     "output_type": "execute_result"
    }
   ],
   "source": [
    "# Display the confusion matrix\n",
    "# YOUR CODE HERE\n",
    "# Display the confusion matrix\n",
    "from sklearn.metrics import confusion_matrix\n",
    "confusion_matrix(y_test, y_pred)"
   ]
  },
  {
   "cell_type": "code",
   "execution_count": 229,
   "id": "c634abb8",
   "metadata": {},
   "outputs": [
    {
     "name": "stdout",
     "output_type": "stream",
     "text": [
      "                   pre       rec       spe        f1       geo       iba       sup\n",
      "\n",
      "          0       0.75      0.63      0.63      0.68      0.63      0.40      7637\n",
      "          1       0.49      0.63      0.63      0.55      0.63      0.40      4308\n",
      "\n",
      "avg / total       0.66      0.63      0.63      0.64      0.63      0.40     11945\n",
      "\n"
     ]
    }
   ],
   "source": [
    "from imblearn.metrics import classification_report_imbalanced\n",
    "print(classification_report_imbalanced(y_test, y_pred))"
   ]
  },
  {
   "cell_type": "code",
   "execution_count": 230,
   "id": "96bcc8da",
   "metadata": {},
   "outputs": [],
   "source": [
    "X_MatchAmt = IC_2013_df_enc.drop(['Outcome','Date','ContributerType','State','ZipCode','Amount','TotalAmount'],axis = 1)\n",
    "y_MatchAmt = IC_2013_df_enc['Outcome']"
   ]
  },
  {
   "cell_type": "code",
   "execution_count": 231,
   "id": "73059755",
   "metadata": {},
   "outputs": [],
   "source": [
    "from sklearn.model_selection import train_test_split\n",
    "X_train, X_test, y_train, y_test = train_test_split(X_MatchAmt, y_MatchAmt, random_state=1)"
   ]
  },
  {
   "cell_type": "code",
   "execution_count": 232,
   "id": "c6655c22",
   "metadata": {},
   "outputs": [],
   "source": [
    "# Resample the training data with the BalancedRandomForestClassifier\n",
    "# YOUR CODE HERE\n",
    "\n",
    "from imblearn.ensemble import BalancedRandomForestClassifier\n",
    "random_forest = BalancedRandomForestClassifier(n_estimators = 100,random_state = 1)\n",
    "random_forest = random_forest.fit(X_train, y_train)"
   ]
  },
  {
   "cell_type": "code",
   "execution_count": 233,
   "id": "d7437342",
   "metadata": {},
   "outputs": [
    {
     "data": {
      "text/plain": [
       "0.6281209236565034"
      ]
     },
     "execution_count": 233,
     "metadata": {},
     "output_type": "execute_result"
    }
   ],
   "source": [
    "# Calculated the balanced accuracy score\n",
    "# YOUR CODE HERE\n",
    "from sklearn.metrics import balanced_accuracy_score\n",
    "y_pred = random_forest.predict(X_test)\n",
    "balanced_accuracy_score(y_test, y_pred)"
   ]
  },
  {
   "cell_type": "code",
   "execution_count": 234,
   "id": "ded78041",
   "metadata": {},
   "outputs": [
    {
     "data": {
      "text/plain": [
       "array([[4944, 2693],\n",
       "       [1685, 2623]])"
      ]
     },
     "execution_count": 234,
     "metadata": {},
     "output_type": "execute_result"
    }
   ],
   "source": [
    "# Display the confusion matrix\n",
    "# YOUR CODE HERE\n",
    "# Display the confusion matrix\n",
    "from sklearn.metrics import confusion_matrix\n",
    "confusion_matrix(y_test, y_pred)"
   ]
  },
  {
   "cell_type": "code",
   "execution_count": 235,
   "id": "f79a06ee",
   "metadata": {},
   "outputs": [],
   "source": [
    "X_TotalAmount = IC_2013_df_enc.drop(['Outcome','Date','ContributerType','State','ZipCode','MatchAmt','Amount'],axis = 1)\n",
    "y_TotalAmount = IC_2013_df_enc['Outcome']"
   ]
  },
  {
   "cell_type": "code",
   "execution_count": 236,
   "id": "050ecccc",
   "metadata": {},
   "outputs": [],
   "source": [
    "from sklearn.model_selection import train_test_split\n",
    "X_train, X_test, y_train, y_test = train_test_split(X_TotalAmount, y_TotalAmount, random_state=1)"
   ]
  },
  {
   "cell_type": "code",
   "execution_count": 237,
   "id": "5fe846cc",
   "metadata": {},
   "outputs": [],
   "source": [
    "# Resample the training data with the BalancedRandomForestClassifier\n",
    "# YOUR CODE HERE\n",
    "\n",
    "from imblearn.ensemble import BalancedRandomForestClassifier\n",
    "random_forest = BalancedRandomForestClassifier(n_estimators = 100,random_state = 1)\n",
    "random_forest = random_forest.fit(X_train, y_train)"
   ]
  },
  {
   "cell_type": "code",
   "execution_count": 238,
   "id": "c29b5a06",
   "metadata": {},
   "outputs": [
    {
     "data": {
      "text/plain": [
       "0.6149076285138241"
      ]
     },
     "execution_count": 238,
     "metadata": {},
     "output_type": "execute_result"
    }
   ],
   "source": [
    "# Calculated the balanced accuracy score\n",
    "# YOUR CODE HERE\n",
    "from sklearn.metrics import balanced_accuracy_score\n",
    "y_pred = random_forest.predict(X_test)\n",
    "balanced_accuracy_score(y_test, y_pred)"
   ]
  },
  {
   "cell_type": "code",
   "execution_count": 239,
   "id": "f89ad6f2",
   "metadata": {},
   "outputs": [
    {
     "data": {
      "text/plain": [
       "array([[4884, 2753],\n",
       "       [1765, 2543]])"
      ]
     },
     "execution_count": 239,
     "metadata": {},
     "output_type": "execute_result"
    }
   ],
   "source": [
    "# Display the confusion matrix\n",
    "# YOUR CODE HERE\n",
    "# Display the confusion matrix\n",
    "from sklearn.metrics import confusion_matrix\n",
    "confusion_matrix(y_test, y_pred)"
   ]
  },
  {
   "cell_type": "code",
   "execution_count": null,
   "id": "67020fa3",
   "metadata": {},
   "outputs": [],
   "source": []
  }
 ],
 "metadata": {
  "kernelspec": {
   "display_name": "mlenv",
   "language": "python",
   "name": "mlenv"
  },
  "language_info": {
   "codemirror_mode": {
    "name": "ipython",
    "version": 3
   },
   "file_extension": ".py",
   "mimetype": "text/x-python",
   "name": "python",
   "nbconvert_exporter": "python",
   "pygments_lexer": "ipython3",
   "version": "3.7.10"
  }
 },
 "nbformat": 4,
 "nbformat_minor": 5
}
