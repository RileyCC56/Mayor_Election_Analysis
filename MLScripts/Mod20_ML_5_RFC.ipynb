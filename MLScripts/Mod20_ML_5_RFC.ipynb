{
 "cells": [
  {
   "cell_type": "code",
   "execution_count": 3,
   "id": "d7a75349",
   "metadata": {},
   "outputs": [],
   "source": [
    "# Initial imports\n",
    "from path import Path\n",
    "from sklearn import tree\n",
    "from sklearn.preprocessing import StandardScaler\n",
    "from sklearn.model_selection import train_test_split\n",
    "from sklearn.metrics import confusion_matrix, accuracy_score, classification_report\n",
    "import pandas as pd\n",
    "import numpy as np"
   ]
  },
  {
   "cell_type": "code",
   "execution_count": 4,
   "id": "72725dff",
   "metadata": {},
   "outputs": [
    {
     "name": "stderr",
     "output_type": "stream",
     "text": [
      "/Users/Abir/.local/lib/python3.7/site-packages/IPython/core/interactiveshell.py:3441: DtypeWarning: Columns (2) have mixed types.Specify dtype option on import or set low_memory=False.\n",
      "  exec(code_obj, self.user_global_ns, self.user_ns)\n"
     ]
    },
    {
     "data": {
      "text/html": [
       "<div>\n",
       "<style scoped>\n",
       "    .dataframe tbody tr th:only-of-type {\n",
       "        vertical-align: middle;\n",
       "    }\n",
       "\n",
       "    .dataframe tbody tr th {\n",
       "        vertical-align: top;\n",
       "    }\n",
       "\n",
       "    .dataframe thead th {\n",
       "        text-align: right;\n",
       "    }\n",
       "</style>\n",
       "<table border=\"1\" class=\"dataframe\">\n",
       "  <thead>\n",
       "    <tr style=\"text-align: right;\">\n",
       "      <th></th>\n",
       "      <th>Unnamed: 0</th>\n",
       "      <th>Election</th>\n",
       "      <th>CandidateID</th>\n",
       "      <th>Date</th>\n",
       "      <th>Name</th>\n",
       "      <th>ContributerType</th>\n",
       "      <th>BoroughName</th>\n",
       "      <th>City</th>\n",
       "      <th>State</th>\n",
       "      <th>ZipCode</th>\n",
       "      <th>ContributionState</th>\n",
       "      <th>Amount</th>\n",
       "      <th>MatchAmt</th>\n",
       "      <th>PrevAmt</th>\n",
       "      <th>PayMethod</th>\n",
       "      <th>TotalAmount</th>\n",
       "    </tr>\n",
       "    <tr>\n",
       "      <th>CandidateName</th>\n",
       "      <th></th>\n",
       "      <th></th>\n",
       "      <th></th>\n",
       "      <th></th>\n",
       "      <th></th>\n",
       "      <th></th>\n",
       "      <th></th>\n",
       "      <th></th>\n",
       "      <th></th>\n",
       "      <th></th>\n",
       "      <th></th>\n",
       "      <th></th>\n",
       "      <th></th>\n",
       "      <th></th>\n",
       "      <th></th>\n",
       "      <th></th>\n",
       "    </tr>\n",
       "  </thead>\n",
       "  <tbody>\n",
       "    <tr>\n",
       "      <th>Coenen, Jr., Kevin P</th>\n",
       "      <td>0</td>\n",
       "      <td>2013</td>\n",
       "      <td>1286</td>\n",
       "      <td>1/25/2013</td>\n",
       "      <td>Coenen, Kevin P</td>\n",
       "      <td>Candidate</td>\n",
       "      <td>Other</td>\n",
       "      <td>Nesconset</td>\n",
       "      <td>NY</td>\n",
       "      <td>11767.0</td>\n",
       "      <td>NY</td>\n",
       "      <td>10.0</td>\n",
       "      <td>0.0</td>\n",
       "      <td>0.0</td>\n",
       "      <td>Credit Card</td>\n",
       "      <td>10.0</td>\n",
       "    </tr>\n",
       "    <tr>\n",
       "      <th>Coenen, Jr., Kevin P</th>\n",
       "      <td>1</td>\n",
       "      <td>2013</td>\n",
       "      <td>1286</td>\n",
       "      <td>4/17/2013</td>\n",
       "      <td>Walter, Dorsey</td>\n",
       "      <td>Individual</td>\n",
       "      <td>Manhattan</td>\n",
       "      <td>New York</td>\n",
       "      <td>NY</td>\n",
       "      <td>10150.0</td>\n",
       "      <td>NaN</td>\n",
       "      <td>175.0</td>\n",
       "      <td>175.0</td>\n",
       "      <td>0.0</td>\n",
       "      <td>Credit Card</td>\n",
       "      <td>350.0</td>\n",
       "    </tr>\n",
       "    <tr>\n",
       "      <th>Coenen, Jr., Kevin P</th>\n",
       "      <td>2</td>\n",
       "      <td>2013</td>\n",
       "      <td>1286</td>\n",
       "      <td>1/25/2013</td>\n",
       "      <td>Coenen, Kevin P</td>\n",
       "      <td>Candidate</td>\n",
       "      <td>Other</td>\n",
       "      <td>Nesconset</td>\n",
       "      <td>NY</td>\n",
       "      <td>11767.0</td>\n",
       "      <td>NaN</td>\n",
       "      <td>-10.0</td>\n",
       "      <td>0.0</td>\n",
       "      <td>0.0</td>\n",
       "      <td>Unknown</td>\n",
       "      <td>-10.0</td>\n",
       "    </tr>\n",
       "    <tr>\n",
       "      <th>Marks, Philip A</th>\n",
       "      <td>3</td>\n",
       "      <td>2013</td>\n",
       "      <td>1551</td>\n",
       "      <td>2/13/2012</td>\n",
       "      <td>Marks, Philip</td>\n",
       "      <td>Candidate</td>\n",
       "      <td>Brooklyn</td>\n",
       "      <td>Brooklyn</td>\n",
       "      <td>NY</td>\n",
       "      <td>11236.0</td>\n",
       "      <td>NY</td>\n",
       "      <td>400.0</td>\n",
       "      <td>175.0</td>\n",
       "      <td>0.0</td>\n",
       "      <td>Check</td>\n",
       "      <td>575.0</td>\n",
       "    </tr>\n",
       "    <tr>\n",
       "      <th>Marks, Philip A</th>\n",
       "      <td>4</td>\n",
       "      <td>2013</td>\n",
       "      <td>1551</td>\n",
       "      <td>2/28/2013</td>\n",
       "      <td>Marks, Philip</td>\n",
       "      <td>Candidate</td>\n",
       "      <td>Brooklyn</td>\n",
       "      <td>Brooklyn</td>\n",
       "      <td>NY</td>\n",
       "      <td>11236.0</td>\n",
       "      <td>NY</td>\n",
       "      <td>100.0</td>\n",
       "      <td>0.0</td>\n",
       "      <td>400.0</td>\n",
       "      <td>Cash</td>\n",
       "      <td>500.0</td>\n",
       "    </tr>\n",
       "  </tbody>\n",
       "</table>\n",
       "</div>"
      ],
      "text/plain": [
       "                      Unnamed: 0  Election CandidateID       Date  \\\n",
       "CandidateName                                                       \n",
       "Coenen, Jr., Kevin P           0      2013        1286  1/25/2013   \n",
       "Coenen, Jr., Kevin P           1      2013        1286  4/17/2013   \n",
       "Coenen, Jr., Kevin P           2      2013        1286  1/25/2013   \n",
       "Marks, Philip A                3      2013        1551  2/13/2012   \n",
       "Marks, Philip A                4      2013        1551  2/28/2013   \n",
       "\n",
       "                                 Name ContributerType BoroughName       City  \\\n",
       "CandidateName                                                                  \n",
       "Coenen, Jr., Kevin P  Coenen, Kevin P       Candidate       Other  Nesconset   \n",
       "Coenen, Jr., Kevin P   Walter, Dorsey      Individual   Manhattan   New York   \n",
       "Coenen, Jr., Kevin P  Coenen, Kevin P       Candidate       Other  Nesconset   \n",
       "Marks, Philip A         Marks, Philip       Candidate    Brooklyn   Brooklyn   \n",
       "Marks, Philip A         Marks, Philip       Candidate    Brooklyn   Brooklyn   \n",
       "\n",
       "                     State  ZipCode ContributionState  Amount  MatchAmt  \\\n",
       "CandidateName                                                             \n",
       "Coenen, Jr., Kevin P    NY  11767.0                NY    10.0       0.0   \n",
       "Coenen, Jr., Kevin P    NY  10150.0               NaN   175.0     175.0   \n",
       "Coenen, Jr., Kevin P    NY  11767.0               NaN   -10.0       0.0   \n",
       "Marks, Philip A         NY  11236.0                NY   400.0     175.0   \n",
       "Marks, Philip A         NY  11236.0                NY   100.0       0.0   \n",
       "\n",
       "                      PrevAmt    PayMethod  TotalAmount  \n",
       "CandidateName                                            \n",
       "Coenen, Jr., Kevin P      0.0  Credit Card         10.0  \n",
       "Coenen, Jr., Kevin P      0.0  Credit Card        350.0  \n",
       "Coenen, Jr., Kevin P      0.0      Unknown        -10.0  \n",
       "Marks, Philip A           0.0        Check        575.0  \n",
       "Marks, Philip A         400.0         Cash        500.0  "
      ]
     },
     "execution_count": 4,
     "metadata": {},
     "output_type": "execute_result"
    }
   ],
   "source": [
    "file = '../Resources/Contributions_2013.csv'\n",
    "IC_2017 = pd.read_csv(file,index_col='CandidateName')\n",
    "uncleaned = pd.read_csv(file,index_col=False)\n",
    "IC_2017.head()"
   ]
  },
  {
   "cell_type": "code",
   "execution_count": 5,
   "id": "c88ae78d",
   "metadata": {},
   "outputs": [
    {
     "data": {
      "text/plain": [
       "Index(['Unnamed: 0', 'Election', 'CandidateID', 'Date', 'Name',\n",
       "       'ContributerType', 'BoroughName', 'City', 'State', 'ZipCode',\n",
       "       'ContributionState', 'Amount', 'MatchAmt', 'PrevAmt', 'PayMethod',\n",
       "       'TotalAmount'],\n",
       "      dtype='object')"
      ]
     },
     "execution_count": 5,
     "metadata": {},
     "output_type": "execute_result"
    }
   ],
   "source": [
    "IC_2017.columns"
   ]
  },
  {
   "cell_type": "code",
   "execution_count": 6,
   "id": "df811b51",
   "metadata": {},
   "outputs": [],
   "source": [
    "IC_2017['ZipCode'] = IC_2017['ZipCode'].apply(str)"
   ]
  },
  {
   "cell_type": "code",
   "execution_count": 7,
   "id": "81d9c568",
   "metadata": {},
   "outputs": [
    {
     "data": {
      "text/plain": [
       "<bound method DataFrame.groupby of                                 Amount  MatchAmt     PrevAmt   TotalAmount\n",
       "CandidateName                                                             \n",
       "Albanese, Sal F               27178.00       0.0     3750.00  3.092800e+04\n",
       "Berkowitz, Ceceilia J           120.00      20.0       10.00  1.500000e+02\n",
       "Broady-Fernandez, Hilda K      1535.00     581.0      125.00  2.241000e+03\n",
       "Coenen, Jr., Kevin P            175.00     175.0        0.00  3.500000e+02\n",
       "Hidary, Jack D               589596.67   75302.0    11168.00  6.760667e+05\n",
       "Laurel-Smith, Abiodun          3970.00     175.0     8050.00  1.219500e+04\n",
       "Lhota, Joseph J             3534348.21  592210.0   854714.80  4.981273e+06\n",
       "Liu, John C                  239200.00       0.0   165300.00  4.045000e+05\n",
       "Marks, Philip A                 500.00     175.0      400.00  1.075000e+03\n",
       "Quinn, Christine C          8206058.97  689206.0  3196277.98  1.209154e+07\n",
       "Salgado, Erick J             363565.09   41929.0    89360.00  4.948541e+05\n",
       "Thompson, Jr., William C    4911412.70  417722.0   782317.00  6.111452e+06\n",
       "Weiner, Anthony D            225088.74       0.0     5100.00  2.301887e+05\n",
       "de Blasio, Bill            11073226.59  926504.0  2970633.25  1.497036e+07>"
      ]
     },
     "execution_count": 7,
     "metadata": {},
     "output_type": "execute_result"
    }
   ],
   "source": [
    "IC_2017_df = IC_2017.drop(columns=['ContributionState','PayMethod','Name','CandidateID','Unnamed: 0','Election','BoroughName'])\n",
    "IC_2017_df.groupby(['CandidateName']).sum(['TotalAmount']).groupby"
   ]
  },
  {
   "cell_type": "code",
   "execution_count": 8,
   "id": "8c5eb104",
   "metadata": {
    "scrolled": true
   },
   "outputs": [
    {
     "data": {
      "text/html": [
       "<div>\n",
       "<style scoped>\n",
       "    .dataframe tbody tr th:only-of-type {\n",
       "        vertical-align: middle;\n",
       "    }\n",
       "\n",
       "    .dataframe tbody tr th {\n",
       "        vertical-align: top;\n",
       "    }\n",
       "\n",
       "    .dataframe thead th {\n",
       "        text-align: right;\n",
       "    }\n",
       "</style>\n",
       "<table border=\"1\" class=\"dataframe\">\n",
       "  <thead>\n",
       "    <tr style=\"text-align: right;\">\n",
       "      <th></th>\n",
       "      <th>Date</th>\n",
       "      <th>ContributerType</th>\n",
       "      <th>City</th>\n",
       "      <th>State</th>\n",
       "      <th>ZipCode</th>\n",
       "      <th>Amount</th>\n",
       "      <th>MatchAmt</th>\n",
       "      <th>PrevAmt</th>\n",
       "      <th>TotalAmount</th>\n",
       "      <th>Outcome</th>\n",
       "    </tr>\n",
       "    <tr>\n",
       "      <th>CandidateName</th>\n",
       "      <th></th>\n",
       "      <th></th>\n",
       "      <th></th>\n",
       "      <th></th>\n",
       "      <th></th>\n",
       "      <th></th>\n",
       "      <th></th>\n",
       "      <th></th>\n",
       "      <th></th>\n",
       "      <th></th>\n",
       "    </tr>\n",
       "  </thead>\n",
       "  <tbody>\n",
       "    <tr>\n",
       "      <th>Coenen, Jr., Kevin P</th>\n",
       "      <td>1/25/2013</td>\n",
       "      <td>Candidate</td>\n",
       "      <td>Nesconset</td>\n",
       "      <td>NY</td>\n",
       "      <td>11767.0</td>\n",
       "      <td>10.0</td>\n",
       "      <td>0.0</td>\n",
       "      <td>0.0</td>\n",
       "      <td>10.0</td>\n",
       "      <td>L</td>\n",
       "    </tr>\n",
       "    <tr>\n",
       "      <th>Coenen, Jr., Kevin P</th>\n",
       "      <td>4/17/2013</td>\n",
       "      <td>Individual</td>\n",
       "      <td>New York</td>\n",
       "      <td>NY</td>\n",
       "      <td>10150.0</td>\n",
       "      <td>175.0</td>\n",
       "      <td>175.0</td>\n",
       "      <td>0.0</td>\n",
       "      <td>350.0</td>\n",
       "      <td>L</td>\n",
       "    </tr>\n",
       "    <tr>\n",
       "      <th>Coenen, Jr., Kevin P</th>\n",
       "      <td>1/25/2013</td>\n",
       "      <td>Candidate</td>\n",
       "      <td>Nesconset</td>\n",
       "      <td>NY</td>\n",
       "      <td>11767.0</td>\n",
       "      <td>-10.0</td>\n",
       "      <td>0.0</td>\n",
       "      <td>0.0</td>\n",
       "      <td>-10.0</td>\n",
       "      <td>L</td>\n",
       "    </tr>\n",
       "    <tr>\n",
       "      <th>Marks, Philip A</th>\n",
       "      <td>2/13/2012</td>\n",
       "      <td>Candidate</td>\n",
       "      <td>Brooklyn</td>\n",
       "      <td>NY</td>\n",
       "      <td>11236.0</td>\n",
       "      <td>400.0</td>\n",
       "      <td>175.0</td>\n",
       "      <td>0.0</td>\n",
       "      <td>575.0</td>\n",
       "      <td>L</td>\n",
       "    </tr>\n",
       "    <tr>\n",
       "      <th>Marks, Philip A</th>\n",
       "      <td>2/28/2013</td>\n",
       "      <td>Candidate</td>\n",
       "      <td>Brooklyn</td>\n",
       "      <td>NY</td>\n",
       "      <td>11236.0</td>\n",
       "      <td>100.0</td>\n",
       "      <td>0.0</td>\n",
       "      <td>400.0</td>\n",
       "      <td>500.0</td>\n",
       "      <td>L</td>\n",
       "    </tr>\n",
       "  </tbody>\n",
       "</table>\n",
       "</div>"
      ],
      "text/plain": [
       "                           Date ContributerType       City State  ZipCode  \\\n",
       "CandidateName                                                               \n",
       "Coenen, Jr., Kevin P  1/25/2013       Candidate  Nesconset    NY  11767.0   \n",
       "Coenen, Jr., Kevin P  4/17/2013      Individual   New York    NY  10150.0   \n",
       "Coenen, Jr., Kevin P  1/25/2013       Candidate  Nesconset    NY  11767.0   \n",
       "Marks, Philip A       2/13/2012       Candidate   Brooklyn    NY  11236.0   \n",
       "Marks, Philip A       2/28/2013       Candidate   Brooklyn    NY  11236.0   \n",
       "\n",
       "                      Amount  MatchAmt  PrevAmt  TotalAmount Outcome  \n",
       "CandidateName                                                         \n",
       "Coenen, Jr., Kevin P    10.0       0.0      0.0         10.0       L  \n",
       "Coenen, Jr., Kevin P   175.0     175.0      0.0        350.0       L  \n",
       "Coenen, Jr., Kevin P   -10.0       0.0      0.0        -10.0       L  \n",
       "Marks, Philip A        400.0     175.0      0.0        575.0       L  \n",
       "Marks, Philip A        100.0       0.0    400.0        500.0       L  "
      ]
     },
     "execution_count": 8,
     "metadata": {},
     "output_type": "execute_result"
    }
   ],
   "source": [
    "outcome = []\n",
    "for i in uncleaned['CandidateName']:\n",
    "    if i == 'de Blasio, Bill':\n",
    "        outcome.append('W')\n",
    "    else:\n",
    "        outcome.append('L')\n",
    "\n",
    "IC_2017_df['Outcome'] = outcome\n",
    "IC_2017_df.head()"
   ]
  },
  {
   "cell_type": "code",
   "execution_count": 9,
   "id": "d4f067d4",
   "metadata": {},
   "outputs": [
    {
     "data": {
      "text/plain": [
       "Date               0\n",
       "ContributerType    0\n",
       "City               0\n",
       "State              0\n",
       "ZipCode            0\n",
       "Amount             0\n",
       "MatchAmt           0\n",
       "PrevAmt            0\n",
       "TotalAmount        0\n",
       "Outcome            0\n",
       "dtype: int64"
      ]
     },
     "execution_count": 9,
     "metadata": {},
     "output_type": "execute_result"
    }
   ],
   "source": [
    "IC_2017_df = IC_2017_df.dropna()\n",
    "IC_2017_df.isnull().sum()"
   ]
  },
  {
   "cell_type": "code",
   "execution_count": 10,
   "id": "bd1ecd68",
   "metadata": {},
   "outputs": [
    {
     "data": {
      "text/plain": [
       "array(['Candidate', 'Individual', 'Candidate Family', 'Other',\n",
       "       'Political Action Committee', 'Limited Liability Company',\n",
       "       'Labor Union', 'Spouse', 'Candidate Committee', 'Corporation',\n",
       "       'Party Committee'], dtype=object)"
      ]
     },
     "execution_count": 10,
     "metadata": {},
     "output_type": "execute_result"
    }
   ],
   "source": [
    "IC_2017_df['ContributerType'].unique()"
   ]
  },
  {
   "cell_type": "code",
   "execution_count": 11,
   "id": "fd18621e",
   "metadata": {},
   "outputs": [],
   "source": [
    "X = IC_2017_df.drop('Outcome',axis = 1)\n",
    "X = pd.get_dummies(X)"
   ]
  },
  {
   "cell_type": "code",
   "execution_count": 12,
   "id": "d9098b76",
   "metadata": {},
   "outputs": [],
   "source": [
    "y = IC_2017_df['Outcome']"
   ]
  },
  {
   "cell_type": "code",
   "execution_count": 21,
   "id": "acef2fd6",
   "metadata": {},
   "outputs": [
    {
     "data": {
      "text/plain": [
       "(47597, 6838)"
      ]
     },
     "execution_count": 21,
     "metadata": {},
     "output_type": "execute_result"
    }
   ],
   "source": [
    "X.shape"
   ]
  },
  {
   "cell_type": "code",
   "execution_count": 13,
   "id": "695fdb1f",
   "metadata": {},
   "outputs": [
    {
     "data": {
      "text/plain": [
       "L    30435\n",
       "W    17162\n",
       "Name: Outcome, dtype: int64"
      ]
     },
     "execution_count": 13,
     "metadata": {},
     "output_type": "execute_result"
    }
   ],
   "source": [
    "# Check the balance of our target values\n",
    "y.value_counts()"
   ]
  },
  {
   "cell_type": "code",
   "execution_count": 14,
   "id": "ae26736f",
   "metadata": {},
   "outputs": [],
   "source": [
    "from sklearn.model_selection import train_test_split\n",
    "X_train, X_test, y_train, y_test = train_test_split(X, y, random_state=1)"
   ]
  },
  {
   "cell_type": "code",
   "execution_count": 15,
   "id": "d21c577e",
   "metadata": {},
   "outputs": [],
   "source": [
    "# Resample the training data with the BalancedRandomForestClassifier\n",
    "# YOUR CODE HERE\n",
    "\n",
    "from imblearn.ensemble import BalancedRandomForestClassifier\n",
    "random_forest = BalancedRandomForestClassifier(n_estimators = 100,random_state = 1)\n",
    "random_forest = random_forest.fit(X_train, y_train)"
   ]
  },
  {
   "cell_type": "code",
   "execution_count": 23,
   "id": "3cdc5cd8",
   "metadata": {},
   "outputs": [
    {
     "data": {
      "text/html": [
       "<div>\n",
       "<style scoped>\n",
       "    .dataframe tbody tr th:only-of-type {\n",
       "        vertical-align: middle;\n",
       "    }\n",
       "\n",
       "    .dataframe tbody tr th {\n",
       "        vertical-align: top;\n",
       "    }\n",
       "\n",
       "    .dataframe thead th {\n",
       "        text-align: right;\n",
       "    }\n",
       "</style>\n",
       "<table border=\"1\" class=\"dataframe\">\n",
       "  <thead>\n",
       "    <tr style=\"text-align: right;\">\n",
       "      <th></th>\n",
       "      <th>Amount</th>\n",
       "      <th>MatchAmt</th>\n",
       "      <th>PrevAmt</th>\n",
       "      <th>TotalAmount</th>\n",
       "      <th>Date_1/1/2012</th>\n",
       "      <th>Date_1/1/2013</th>\n",
       "      <th>Date_1/10/2007</th>\n",
       "      <th>Date_1/10/2008</th>\n",
       "      <th>Date_1/10/2010</th>\n",
       "      <th>Date_1/10/2011</th>\n",
       "      <th>...</th>\n",
       "      <th>ZipCode_99201.0</th>\n",
       "      <th>ZipCode_99352.0</th>\n",
       "      <th>ZipCode_99354.0</th>\n",
       "      <th>ZipCode_99516.0</th>\n",
       "      <th>ZipCode_99520.0</th>\n",
       "      <th>ZipCode_99577.0</th>\n",
       "      <th>ZipCode_99801.0</th>\n",
       "      <th>ZipCode_99802.0</th>\n",
       "      <th>ZipCode_99999.0</th>\n",
       "      <th>ZipCode_nan</th>\n",
       "    </tr>\n",
       "    <tr>\n",
       "      <th>CandidateName</th>\n",
       "      <th></th>\n",
       "      <th></th>\n",
       "      <th></th>\n",
       "      <th></th>\n",
       "      <th></th>\n",
       "      <th></th>\n",
       "      <th></th>\n",
       "      <th></th>\n",
       "      <th></th>\n",
       "      <th></th>\n",
       "      <th></th>\n",
       "      <th></th>\n",
       "      <th></th>\n",
       "      <th></th>\n",
       "      <th></th>\n",
       "      <th></th>\n",
       "      <th></th>\n",
       "      <th></th>\n",
       "      <th></th>\n",
       "      <th></th>\n",
       "      <th></th>\n",
       "    </tr>\n",
       "  </thead>\n",
       "  <tbody>\n",
       "    <tr>\n",
       "      <th>de Blasio, Bill</th>\n",
       "      <td>6.0</td>\n",
       "      <td>0.0</td>\n",
       "      <td>0.0</td>\n",
       "      <td>6.0</td>\n",
       "      <td>0</td>\n",
       "      <td>0</td>\n",
       "      <td>0</td>\n",
       "      <td>0</td>\n",
       "      <td>0</td>\n",
       "      <td>0</td>\n",
       "      <td>...</td>\n",
       "      <td>0</td>\n",
       "      <td>0</td>\n",
       "      <td>0</td>\n",
       "      <td>0</td>\n",
       "      <td>0</td>\n",
       "      <td>0</td>\n",
       "      <td>0</td>\n",
       "      <td>0</td>\n",
       "      <td>0</td>\n",
       "      <td>0</td>\n",
       "    </tr>\n",
       "    <tr>\n",
       "      <th>Thompson, Jr., William C</th>\n",
       "      <td>4950.0</td>\n",
       "      <td>175.0</td>\n",
       "      <td>0.0</td>\n",
       "      <td>5125.0</td>\n",
       "      <td>0</td>\n",
       "      <td>0</td>\n",
       "      <td>0</td>\n",
       "      <td>0</td>\n",
       "      <td>0</td>\n",
       "      <td>0</td>\n",
       "      <td>...</td>\n",
       "      <td>0</td>\n",
       "      <td>0</td>\n",
       "      <td>0</td>\n",
       "      <td>0</td>\n",
       "      <td>0</td>\n",
       "      <td>0</td>\n",
       "      <td>0</td>\n",
       "      <td>0</td>\n",
       "      <td>0</td>\n",
       "      <td>0</td>\n",
       "    </tr>\n",
       "    <tr>\n",
       "      <th>Quinn, Christine C</th>\n",
       "      <td>500.0</td>\n",
       "      <td>0.0</td>\n",
       "      <td>0.0</td>\n",
       "      <td>500.0</td>\n",
       "      <td>0</td>\n",
       "      <td>0</td>\n",
       "      <td>0</td>\n",
       "      <td>0</td>\n",
       "      <td>0</td>\n",
       "      <td>0</td>\n",
       "      <td>...</td>\n",
       "      <td>0</td>\n",
       "      <td>0</td>\n",
       "      <td>0</td>\n",
       "      <td>0</td>\n",
       "      <td>0</td>\n",
       "      <td>0</td>\n",
       "      <td>0</td>\n",
       "      <td>0</td>\n",
       "      <td>0</td>\n",
       "      <td>0</td>\n",
       "    </tr>\n",
       "    <tr>\n",
       "      <th>Lhota, Joseph J</th>\n",
       "      <td>50.0</td>\n",
       "      <td>50.0</td>\n",
       "      <td>0.0</td>\n",
       "      <td>100.0</td>\n",
       "      <td>0</td>\n",
       "      <td>0</td>\n",
       "      <td>0</td>\n",
       "      <td>0</td>\n",
       "      <td>0</td>\n",
       "      <td>0</td>\n",
       "      <td>...</td>\n",
       "      <td>0</td>\n",
       "      <td>0</td>\n",
       "      <td>0</td>\n",
       "      <td>0</td>\n",
       "      <td>0</td>\n",
       "      <td>0</td>\n",
       "      <td>0</td>\n",
       "      <td>0</td>\n",
       "      <td>0</td>\n",
       "      <td>0</td>\n",
       "    </tr>\n",
       "    <tr>\n",
       "      <th>Lhota, Joseph J</th>\n",
       "      <td>-175.0</td>\n",
       "      <td>0.0</td>\n",
       "      <td>0.0</td>\n",
       "      <td>-175.0</td>\n",
       "      <td>0</td>\n",
       "      <td>0</td>\n",
       "      <td>0</td>\n",
       "      <td>0</td>\n",
       "      <td>0</td>\n",
       "      <td>0</td>\n",
       "      <td>...</td>\n",
       "      <td>0</td>\n",
       "      <td>0</td>\n",
       "      <td>0</td>\n",
       "      <td>0</td>\n",
       "      <td>0</td>\n",
       "      <td>0</td>\n",
       "      <td>0</td>\n",
       "      <td>0</td>\n",
       "      <td>0</td>\n",
       "      <td>0</td>\n",
       "    </tr>\n",
       "  </tbody>\n",
       "</table>\n",
       "<p>5 rows × 6838 columns</p>\n",
       "</div>"
      ],
      "text/plain": [
       "                          Amount  MatchAmt  PrevAmt  TotalAmount  \\\n",
       "CandidateName                                                      \n",
       "de Blasio, Bill              6.0       0.0      0.0          6.0   \n",
       "Thompson, Jr., William C  4950.0     175.0      0.0       5125.0   \n",
       "Quinn, Christine C         500.0       0.0      0.0        500.0   \n",
       "Lhota, Joseph J             50.0      50.0      0.0        100.0   \n",
       "Lhota, Joseph J           -175.0       0.0      0.0       -175.0   \n",
       "\n",
       "                          Date_1/1/2012  Date_1/1/2013  Date_1/10/2007  \\\n",
       "CandidateName                                                            \n",
       "de Blasio, Bill                       0              0               0   \n",
       "Thompson, Jr., William C              0              0               0   \n",
       "Quinn, Christine C                    0              0               0   \n",
       "Lhota, Joseph J                       0              0               0   \n",
       "Lhota, Joseph J                       0              0               0   \n",
       "\n",
       "                          Date_1/10/2008  Date_1/10/2010  Date_1/10/2011  ...  \\\n",
       "CandidateName                                                             ...   \n",
       "de Blasio, Bill                        0               0               0  ...   \n",
       "Thompson, Jr., William C               0               0               0  ...   \n",
       "Quinn, Christine C                     0               0               0  ...   \n",
       "Lhota, Joseph J                        0               0               0  ...   \n",
       "Lhota, Joseph J                        0               0               0  ...   \n",
       "\n",
       "                          ZipCode_99201.0  ZipCode_99352.0  ZipCode_99354.0  \\\n",
       "CandidateName                                                                 \n",
       "de Blasio, Bill                         0                0                0   \n",
       "Thompson, Jr., William C                0                0                0   \n",
       "Quinn, Christine C                      0                0                0   \n",
       "Lhota, Joseph J                         0                0                0   \n",
       "Lhota, Joseph J                         0                0                0   \n",
       "\n",
       "                          ZipCode_99516.0  ZipCode_99520.0  ZipCode_99577.0  \\\n",
       "CandidateName                                                                 \n",
       "de Blasio, Bill                         0                0                0   \n",
       "Thompson, Jr., William C                0                0                0   \n",
       "Quinn, Christine C                      0                0                0   \n",
       "Lhota, Joseph J                         0                0                0   \n",
       "Lhota, Joseph J                         0                0                0   \n",
       "\n",
       "                          ZipCode_99801.0  ZipCode_99802.0  ZipCode_99999.0  \\\n",
       "CandidateName                                                                 \n",
       "de Blasio, Bill                         0                0                0   \n",
       "Thompson, Jr., William C                0                0                0   \n",
       "Quinn, Christine C                      0                0                0   \n",
       "Lhota, Joseph J                         0                0                0   \n",
       "Lhota, Joseph J                         0                0                0   \n",
       "\n",
       "                          ZipCode_nan  \n",
       "CandidateName                          \n",
       "de Blasio, Bill                     0  \n",
       "Thompson, Jr., William C            0  \n",
       "Quinn, Christine C                  0  \n",
       "Lhota, Joseph J                     0  \n",
       "Lhota, Joseph J                     0  \n",
       "\n",
       "[5 rows x 6838 columns]"
      ]
     },
     "execution_count": 23,
     "metadata": {},
     "output_type": "execute_result"
    }
   ],
   "source": [
    "X_train.head()"
   ]
  },
  {
   "cell_type": "code",
   "execution_count": 32,
   "id": "cb368723",
   "metadata": {},
   "outputs": [
    {
     "data": {
      "text/plain": [
       "array([5.76548794e-02, 2.61491708e-02, 2.57638436e-02, ...,\n",
       "       3.36621830e-06, 1.21984495e-05, 4.09514639e-04])"
      ]
     },
     "execution_count": 32,
     "metadata": {},
     "output_type": "execute_result"
    }
   ],
   "source": [
    "random_forest.feature_importances_"
   ]
  },
  {
   "cell_type": "code",
   "execution_count": null,
   "id": "91b4cd23",
   "metadata": {},
   "outputs": [],
   "source": []
  },
  {
   "cell_type": "code",
   "execution_count": 30,
   "id": "6b1c91d6",
   "metadata": {},
   "outputs": [
    {
     "data": {
      "text/plain": [
       "0.8008064939083069"
      ]
     },
     "execution_count": 30,
     "metadata": {},
     "output_type": "execute_result"
    }
   ],
   "source": [
    "# Calculated the balanced accuracy score\n",
    "# YOUR CODE HERE\n",
    "from sklearn.metrics import balanced_accuracy_score\n",
    "y_pred = random_forest.predict(X_test)\n",
    "balanced_accuracy_score(y_test, y_pred)"
   ]
  },
  {
   "cell_type": "code",
   "execution_count": 17,
   "id": "ca68a3c4",
   "metadata": {},
   "outputs": [
    {
     "data": {
      "text/plain": [
       "array([[6282, 1352],\n",
       "       [ 944, 3322]])"
      ]
     },
     "execution_count": 17,
     "metadata": {},
     "output_type": "execute_result"
    }
   ],
   "source": [
    "# Display the confusion matrix\n",
    "# YOUR CODE HERE\n",
    "# Display the confusion matrix\n",
    "from sklearn.metrics import confusion_matrix\n",
    "confusion_matrix(y_test, y_pred)"
   ]
  },
  {
   "cell_type": "code",
   "execution_count": 18,
   "id": "c434f343",
   "metadata": {},
   "outputs": [
    {
     "name": "stdout",
     "output_type": "stream",
     "text": [
      "                   pre       rec       spe        f1       geo       iba       sup\n",
      "\n",
      "          L       0.87      0.82      0.78      0.85      0.80      0.64      7634\n",
      "          W       0.71      0.78      0.82      0.74      0.80      0.64      4266\n",
      "\n",
      "avg / total       0.81      0.81      0.79      0.81      0.80      0.64     11900\n",
      "\n"
     ]
    }
   ],
   "source": [
    "from imblearn.metrics import classification_report_imbalanced\n",
    "print(classification_report_imbalanced(y_test, y_pred))"
   ]
  },
  {
   "cell_type": "code",
   "execution_count": null,
   "id": "f929765e",
   "metadata": {},
   "outputs": [],
   "source": []
  }
 ],
 "metadata": {
  "kernelspec": {
   "display_name": "mlenv",
   "language": "python",
   "name": "mlenv"
  },
  "language_info": {
   "codemirror_mode": {
    "name": "ipython",
    "version": 3
   },
   "file_extension": ".py",
   "mimetype": "text/x-python",
   "name": "python",
   "nbconvert_exporter": "python",
   "pygments_lexer": "ipython3",
   "version": "3.7.10"
  }
 },
 "nbformat": 4,
 "nbformat_minor": 5
}
