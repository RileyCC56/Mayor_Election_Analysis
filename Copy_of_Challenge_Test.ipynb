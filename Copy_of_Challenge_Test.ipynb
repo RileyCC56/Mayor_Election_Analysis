{
  "nbformat": 4,
  "nbformat_minor": 0,
  "metadata": {
    "colab": {
      "name": "Copy of Challenge_Test.ipynb",
      "provenance": [],
      "collapsed_sections": [],
      "authorship_tag": "ABX9TyPZBXu68wEUVG9725OiF7G/",
      "include_colab_link": true
    },
    "kernelspec": {
      "name": "python3",
      "display_name": "Python 3"
    },
    "language_info": {
      "name": "python"
    }
  },
  "cells": [
    {
      "cell_type": "markdown",
      "metadata": {
        "id": "view-in-github",
        "colab_type": "text"
      },
      "source": [
        "<a href=\"https://colab.research.google.com/github/ssheggrud/Mod_20_Project/blob/05_Riley/Copy_of_Challenge_Test.ipynb\" target=\"_parent\"><img src=\"https://colab.research.google.com/assets/colab-badge.svg\" alt=\"Open In Colab\"/></a>"
      ]
    },
    {
      "cell_type": "code",
      "metadata": {
        "colab": {
          "base_uri": "https://localhost:8080/"
        },
        "id": "8YdY34kyytgK",
        "outputId": "03189fe8-3a12-49e5-cf3a-efb208bfa112"
      },
      "source": [
        "import os\n",
        "# Find the latest version of spark 3.0 from http://www.apache.org/dist/spark/ and enter as the spark version\n",
        "# For example:\n",
        "# spark_version = 'spark-3.0.3'\n",
        "spark_version = 'spark-2.4.8'\n",
        "os.environ['SPARK_VERSION']=spark_version\n",
        "\n",
        "# Install Spark and Java\n",
        "!apt-get update\n",
        "!apt-get install openjdk-11-jdk-headless -qq > /dev/null\n",
        "!wget -q http://www.apache.org/dist/spark/$SPARK_VERSION/$SPARK_VERSION-bin-hadoop2.7.tgz\n",
        "!tar xf $SPARK_VERSION-bin-hadoop2.7.tgz\n",
        "!pip install -q findspark\n",
        "\n",
        "# Set Environment Variables\n",
        "import os\n",
        "os.environ[\"JAVA_HOME\"] = \"/usr/lib/jvm/java-11-openjdk-amd64\"\n",
        "os.environ[\"SPARK_HOME\"] = f\"/content/{spark_version}-bin-hadoop2.7\"\n",
        "\n",
        "# Start a SparkSession\n",
        "import findspark\n",
        "findspark.init()"
      ],
      "execution_count": 1,
      "outputs": [
        {
          "output_type": "stream",
          "name": "stdout",
          "text": [
            "Hit:1 https://cloud.r-project.org/bin/linux/ubuntu bionic-cran40/ InRelease\n",
            "Ign:2 https://developer.download.nvidia.com/compute/cuda/repos/ubuntu1804/x86_64  InRelease\n",
            "Get:3 http://security.ubuntu.com/ubuntu bionic-security InRelease [88.7 kB]\n",
            "Ign:4 https://developer.download.nvidia.com/compute/machine-learning/repos/ubuntu1804/x86_64  InRelease\n",
            "Hit:5 https://developer.download.nvidia.com/compute/cuda/repos/ubuntu1804/x86_64  Release\n",
            "Hit:6 https://developer.download.nvidia.com/compute/machine-learning/repos/ubuntu1804/x86_64  Release\n",
            "Hit:7 http://ppa.launchpad.net/c2d4u.team/c2d4u4.0+/ubuntu bionic InRelease\n",
            "Hit:9 http://archive.ubuntu.com/ubuntu bionic InRelease\n",
            "Hit:11 http://ppa.launchpad.net/cran/libgit2/ubuntu bionic InRelease\n",
            "Get:12 http://archive.ubuntu.com/ubuntu bionic-updates InRelease [88.7 kB]\n",
            "Hit:13 http://ppa.launchpad.net/deadsnakes/ppa/ubuntu bionic InRelease\n",
            "Get:14 http://archive.ubuntu.com/ubuntu bionic-backports InRelease [74.6 kB]\n",
            "Hit:15 http://ppa.launchpad.net/graphics-drivers/ppa/ubuntu bionic InRelease\n",
            "Fetched 252 kB in 2s (102 kB/s)\n",
            "Reading package lists... Done\n"
          ]
        }
      ]
    },
    {
      "cell_type": "code",
      "metadata": {
        "colab": {
          "base_uri": "https://localhost:8080/"
        },
        "id": "A7rScTFqz-95",
        "outputId": "808b4f02-44f2-4af8-b1dc-f659374baf07"
      },
      "source": [
        "# Download the Postgres driver that will allow Spark to interact with Postgres.\n",
        "!wget https://jdbc.postgresql.org/download/postgresql-42.2.16.jar"
      ],
      "execution_count": 2,
      "outputs": [
        {
          "output_type": "stream",
          "name": "stdout",
          "text": [
            "--2021-09-03 02:52:55--  https://jdbc.postgresql.org/download/postgresql-42.2.16.jar\n",
            "Resolving jdbc.postgresql.org (jdbc.postgresql.org)... 72.32.157.228, 2001:4800:3e1:1::228\n",
            "Connecting to jdbc.postgresql.org (jdbc.postgresql.org)|72.32.157.228|:443... connected.\n",
            "HTTP request sent, awaiting response... 200 OK\n",
            "Length: 1002883 (979K) [application/java-archive]\n",
            "Saving to: ‘postgresql-42.2.16.jar.1’\n",
            "\n",
            "postgresql-42.2.16. 100%[===================>] 979.38K  1.22MB/s    in 0.8s    \n",
            "\n",
            "2021-09-03 02:52:56 (1.22 MB/s) - ‘postgresql-42.2.16.jar.1’ saved [1002883/1002883]\n",
            "\n"
          ]
        }
      ]
    },
    {
      "cell_type": "code",
      "metadata": {
        "id": "fmoRqOY_z_AE"
      },
      "source": [
        "# Start Spark session\n",
        "from pyspark.sql import SparkSession\n",
        "spark = SparkSession.builder.appName(\"FinalProject\").getOrCreate()"
      ],
      "execution_count": 3,
      "outputs": []
    },
    {
      "cell_type": "code",
      "metadata": {
        "id": "8IAOroGPz_Cm"
      },
      "source": [
        "# Read in data from S3 Buckets\n",
        "from pyspark import SparkFiles\n",
        "url = \"https://databootcamp-final-05.s3.amazonaws.com/Resources/Individual+Contributions+2013+(UF).csv\"\n",
        "spark.sparkContext.addFile(url)\n",
        "df = spark.read.csv(SparkFiles.get(\"Individual+Contributions+2013+(UF).csv\"), sep=\",\", header=True)\n"
      ],
      "execution_count": 4,
      "outputs": []
    },
    {
      "cell_type": "code",
      "metadata": {
        "colab": {
          "base_uri": "https://localhost:8080/"
        },
        "id": "h9PuxqGFPGOw",
        "outputId": "18dc017b-db58-414c-841d-89776f97eac9"
      },
      "source": [
        "# Remove multiple columns\n",
        "list = ['COMMITTEE', 'FILING', 'SCHEDULE', 'PAGENO', 'SEQUENCENO','REFNO', 'STRNO', 'STRNAME', 'APARTMENT', 'OCCUPATION', 'EMPNAME', 'EMPSTRNO', 'EMPSTRNAME',\n",
        "                'EMPCITY', 'EMPSTATE', 'PREVAMNT', 'REFUNDDATE', 'PAY_METHOD','INTERMNO', 'INTERMNAME', 'INTSTRNO', 'INTSTRNM', 'INTSTRNM', 'INTAPTNO',\n",
        "                'INTCITY', 'INTST','INTZIP', 'INTEMPNAME', 'INTEMPSTNO', 'INTEMPSTNM', 'INTEMPCITY', 'INTEMPST', 'INTOCCUPA' ,'PURPOSECD', 'EXEMPTCD','ADJTYPECD', 'RR_IND', 'SEG_IND','INT_C_CODE'] \n",
        "df = df.drop(*list)\n",
        "df.show()"
      ],
      "execution_count": 5,
      "outputs": [
        {
          "output_type": "stream",
          "name": "stdout",
          "text": [
            "+--------+--------+-------+--------+------------------+---------+-------------------+------+---------+-----------------+-----+-----+----+---------+\n",
            "|ELECTION|OFFICECD|RECIPID|CANCLASS|         RECIPNAME|     DATE|               NAME|C_CODE|BOROUGHCD|             CITY|STATE|  ZIP|AMNT|MATCHAMNT|\n",
            "+--------+--------+-------+--------+------------------+---------+-------------------+------+---------+-----------------+-----+-----+----+---------+\n",
            "|    2013|       5|   1008|       P|Peterson, Daniel P|3/11/2012|   Haywood, David B|   IND|        X|            Bronx|   NY|10458|  20|       20|\n",
            "|    2013|       5|   1008|       P|Peterson, Daniel P| 3/6/2012|      Herlihy, Neil|   IND|        Z|       Hunnington|   NY|11746|  25|        0|\n",
            "|    2013|       5|   1008|       P|Peterson, Daniel P| 3/5/2012|       Iocca, Karen|   IND|        Z|           Hobken|   NJ| 7030|  25|        0|\n",
            "|    2013|       5|   1008|       P|Peterson, Daniel P| 3/6/2012|   Lewenberg, Ilana|   IND|        M|         New York|   NY|10065|  25|       25|\n",
            "|    2013|       5|   1008|       P|Peterson, Daniel P| 3/5/2012|     Tolani, Sanjay|   IND|        M|         New York|   NY|10023| 200|      175|\n",
            "|    2013|       5|   1008|       P|Peterson, Daniel P| 6/7/2012|    Viguola, Louise|   IND|        Q|         Woodside|   NY|11377|  60|       60|\n",
            "|    2013|       5|   1008|       P|Peterson, Daniel P| 6/7/2012|       Stone, Jared|   IND|        M|         New York|   NY|10028|  40|       40|\n",
            "|    2013|       5|   1008|       P|Peterson, Daniel P| 6/7/2012|   Kronenberg, Mark|   IND|        Q|  Oakland Gardens|   NY|11364|  25|       25|\n",
            "|    2013|       5|   1008|       P|Peterson, Daniel P| 6/7/2012|       Heslin, Owen|   IND|        X|            Bronx|   NY|10451|  25|       25|\n",
            "|    2013|       5|   1008|       P|Peterson, Daniel P| 6/7/2012|      Perry, Gerard|   IND|        S|    Staten Island|   NY|10304|  25|       25|\n",
            "|    2013|       5|   1008|       P|Peterson, Daniel P| 6/7/2012|     Chandra, Ashok|   IND|        Q| Long Island City|   NY|11109|  25|       25|\n",
            "|    2013|       5|   1008|       P|Peterson, Daniel P| 6/7/2012|          Ashe, Dan|   IND|        Q| Long Island City|   NY|11109| 100|      100|\n",
            "|    2013|       5|   1008|       P|Peterson, Daniel P|6/17/2012|      Yurcan, Bryan|   IND|        Z|Hasbrouck Heights|   NJ| 7604|  20|        0|\n",
            "|    2013|       5|   1008|       P|Peterson, Daniel P| 6/7/2012|  Bigelow, Margaret|   IND|        Q|          Astoria|   NY|11103|  25|       25|\n",
            "|    2013|       5|   1008|       P|Peterson, Daniel P| 6/7/2012|       Lewis, Harry|   IND|        X|     Pelham Manor|   NY|10803| 100|      100|\n",
            "|    2013|       5|   1008|       P|Peterson, Daniel P|3/13/2012|       Heslin, Owen|   IND|        X|            Bronx|   NY|10451|  20|       20|\n",
            "|    2013|       5|   1008|       P|Peterson, Daniel P|3/15/2012|      Rincker, Cari|   IND|        M|         New York|   NY|10024|  30|       30|\n",
            "|    2013|       5|   1008|       P|Peterson, Daniel P|3/19/2012|  LaVerghetta, Dino|   IND|        M|         New York|   NY|10065|  50|       50|\n",
            "|    2013|       5|   1008|       P|Peterson, Daniel P|4/11/2012|     Chandra, Ashok|   IND|        Q| Long Island City|   NY|11109|  60|       60|\n",
            "|    2013|       5|   1008|       P|Peterson, Daniel P|3/20/2012|Greenberg, Samuel J|   IND|        Q|      Little Neck|   NY|11363|  25|       25|\n",
            "+--------+--------+-------+--------+------------------+---------+-------------------+------+---------+-----------------+-----+-----+----+---------+\n",
            "only showing top 20 rows\n",
            "\n"
          ]
        }
      ]
    },
    {
      "cell_type": "code",
      "metadata": {
        "colab": {
          "base_uri": "https://localhost:8080/"
        },
        "id": "UxzfxlfInNzW",
        "outputId": "ca792775-90f4-471f-8aad-3cde43b6f25d"
      },
      "source": [
        "df.select('OFFICECD').distinct().show()\n"
      ],
      "execution_count": 7,
      "outputs": [
        {
          "output_type": "stream",
          "name": "stdout",
          "text": [
            "+--------+\n",
            "|OFFICECD|\n",
            "+--------+\n",
            "|       3|\n",
            "|       5|\n",
            "|       6|\n",
            "|       1|\n",
            "|       4|\n",
            "|       2|\n",
            "|      IS|\n",
            "+--------+\n",
            "\n"
          ]
        }
      ]
    },
    {
      "cell_type": "code",
      "metadata": {
        "colab": {
          "base_uri": "https://localhost:8080/"
        },
        "id": "fndmuJcanN11",
        "outputId": "0259e4f9-c076-4749-9f80-6c0cd0dbf5a3"
      },
      "source": [
        "\n",
        "df.sample(withReplacement=False,\n",
        "          fraction = 0.005,\n",
        "          seed = 101).show()"
      ],
      "execution_count": 8,
      "outputs": [
        {
          "output_type": "stream",
          "name": "stdout",
          "text": [
            "+--------+--------+-------+--------+------------------+----------+-------------------+------+---------+----------------+-----+-----+----+---------+\n",
            "|ELECTION|OFFICECD|RECIPID|CANCLASS|         RECIPNAME|      DATE|               NAME|C_CODE|BOROUGHCD|            CITY|STATE|  ZIP|AMNT|MATCHAMNT|\n",
            "+--------+--------+-------+--------+------------------+----------+-------------------+------+---------+----------------+-----+-----+----+---------+\n",
            "|    2013|       5|   1008|       P|Peterson, Daniel P| 1/18/2013|    Caliri, Maryann|   IND|        M|        New York|   NY|10016|  50|       50|\n",
            "|    2013|       5|   1008|       P|Peterson, Daniel P| 5/17/2013|  Matthews, Cynthia|   IND|        M|        New York|   NY|10075|  21|       21|\n",
            "|    2013|       5|   1008|       P|Peterson, Daniel P| 7/11/2013|   Kelly, Anthony J|   IND|        Q|        Flushing|   NY|11358| 100|      100|\n",
            "|    2013|       5|   1068|       P|    Ulrich, Eric A| 6/25/2013|Harrygin, Rudranath|   IND|        Q|South Ozone Park|   NY|11420| 200|      175|\n",
            "|    2013|       5|   1075|      NP|   Dromm, Daniel P|  6/6/2010|    Murphy, David A|   IND|        K|        Brooklyn|   NY|11230|  50|        0|\n",
            "|    2013|       5|   1075|      NP|   Dromm, Daniel P| 3/13/2012|   Stathis, Maureen|   IND|        Q|       Sunnyside|   NY|11104|  50|        0|\n",
            "|    2013|       5|   1075|      NP|   Dromm, Daniel P|  6/1/2012|    Hossain, Kazi M|   IND|        Q|        Elmhurst|   NY|11373| 100|        0|\n",
            "|    2013|       5|   1075|      NP|   Dromm, Daniel P|  6/1/2012|    Makuen, Carolyn|   IND|        Z|       Hartsdale|   NY|10530| 100|        0|\n",
            "|    2013|       5|   1075|      NP|   Dromm, Daniel P|  6/8/2012|      Fleshler, Dan|   IND|        Q| Jackson Heights|   NY|11372| 300|        0|\n",
            "|    2013|       5|   1075|      NP|   Dromm, Daniel P|11/30/2012|     Son, Dong Heui|   IND|        Z|      Great Neck|   NY|11020| 100|        0|\n",
            "|    2013|       5|   1075|      NP|   Dromm, Daniel P| 4/12/2013|   Woolever, Laurie|   IND|        Q| Jackson Heights|   NY|11372|  75|        0|\n",
            "|    2013|       5|   1075|      NP|   Dromm, Daniel P|  6/2/2013| Kao, Donald Thomas|   IND|        M|        New York|   NY|10009| 100|        0|\n",
            "|    2013|       5|   1075|      NP|   Dromm, Daniel P| 2/27/2013|   Zambrano, Martha|   IND|        Q|          Corona|   NY|11368|  50|        0|\n",
            "|    2013|       5|   1075|      NP|   Dromm, Daniel P|  3/7/2013|   Cecere, Lorraine|   IND|        Q|          Queens|   NY|11372| 100|        0|\n",
            "|    2013|       5|   1084|       P| Hamilton, Jesse E| 2/22/2013|       Sherman, Ken|   IND|        K|        Brooklyn|   NY|11234| 125|      125|\n",
            "|    2013|       5|   1084|       P| Hamilton, Jesse E| 3/11/2013|   Johnson, Kenneth|   IND|        X|           Bronx|   NY|10469| 175|      175|\n",
            "|    2013|       5|   1086|       P|   Eugene, Mathieu|  5/1/2011|  Jordonne, Willy J|   IND|        Z|       Manhasset|   NY|11030| 100|        0|\n",
            "|    2013|       5|   1086|       P|   Eugene, Mathieu|  5/1/2011|    Nasir, Muhammad|   IND|        K|        Brooklyn|   NY|11230| 100|        0|\n",
            "|    2013|       6|   1092|      UN|   Quiroz, Alfonso|12/27/2007| McMahon, Cynthia S|   IND|        Z|         Chicago|   IL|60628|  35|        0|\n",
            "|    2013|       6|   1092|      UN|   Quiroz, Alfonso| 6/29/2007|      Molina, Edwin|   IND|        K|        Brooklyn|   NY|11210| 100|      100|\n",
            "+--------+--------+-------+--------+------------------+----------+-------------------+------+---------+----------------+-----+-----+----+---------+\n",
            "only showing top 20 rows\n",
            "\n"
          ]
        }
      ]
    },
    {
      "cell_type": "code",
      "metadata": {
        "colab": {
          "base_uri": "https://localhost:8080/"
        },
        "id": "6XMxU6D0qKua",
        "outputId": "da13326c-a7d7-4426-acf2-e58c9a7c1951"
      },
      "source": [
        "df2 = df.sample(withReplacement=False,\n",
        "          fraction = 0.005,\n",
        "          seed = 101).show()"
      ],
      "execution_count": 9,
      "outputs": [
        {
          "output_type": "stream",
          "name": "stdout",
          "text": [
            "+--------+--------+-------+--------+------------------+----------+-------------------+------+---------+----------------+-----+-----+----+---------+\n",
            "|ELECTION|OFFICECD|RECIPID|CANCLASS|         RECIPNAME|      DATE|               NAME|C_CODE|BOROUGHCD|            CITY|STATE|  ZIP|AMNT|MATCHAMNT|\n",
            "+--------+--------+-------+--------+------------------+----------+-------------------+------+---------+----------------+-----+-----+----+---------+\n",
            "|    2013|       5|   1008|       P|Peterson, Daniel P| 1/18/2013|    Caliri, Maryann|   IND|        M|        New York|   NY|10016|  50|       50|\n",
            "|    2013|       5|   1008|       P|Peterson, Daniel P| 5/17/2013|  Matthews, Cynthia|   IND|        M|        New York|   NY|10075|  21|       21|\n",
            "|    2013|       5|   1008|       P|Peterson, Daniel P| 7/11/2013|   Kelly, Anthony J|   IND|        Q|        Flushing|   NY|11358| 100|      100|\n",
            "|    2013|       5|   1068|       P|    Ulrich, Eric A| 6/25/2013|Harrygin, Rudranath|   IND|        Q|South Ozone Park|   NY|11420| 200|      175|\n",
            "|    2013|       5|   1075|      NP|   Dromm, Daniel P|  6/6/2010|    Murphy, David A|   IND|        K|        Brooklyn|   NY|11230|  50|        0|\n",
            "|    2013|       5|   1075|      NP|   Dromm, Daniel P| 3/13/2012|   Stathis, Maureen|   IND|        Q|       Sunnyside|   NY|11104|  50|        0|\n",
            "|    2013|       5|   1075|      NP|   Dromm, Daniel P|  6/1/2012|    Hossain, Kazi M|   IND|        Q|        Elmhurst|   NY|11373| 100|        0|\n",
            "|    2013|       5|   1075|      NP|   Dromm, Daniel P|  6/1/2012|    Makuen, Carolyn|   IND|        Z|       Hartsdale|   NY|10530| 100|        0|\n",
            "|    2013|       5|   1075|      NP|   Dromm, Daniel P|  6/8/2012|      Fleshler, Dan|   IND|        Q| Jackson Heights|   NY|11372| 300|        0|\n",
            "|    2013|       5|   1075|      NP|   Dromm, Daniel P|11/30/2012|     Son, Dong Heui|   IND|        Z|      Great Neck|   NY|11020| 100|        0|\n",
            "|    2013|       5|   1075|      NP|   Dromm, Daniel P| 4/12/2013|   Woolever, Laurie|   IND|        Q| Jackson Heights|   NY|11372|  75|        0|\n",
            "|    2013|       5|   1075|      NP|   Dromm, Daniel P|  6/2/2013| Kao, Donald Thomas|   IND|        M|        New York|   NY|10009| 100|        0|\n",
            "|    2013|       5|   1075|      NP|   Dromm, Daniel P| 2/27/2013|   Zambrano, Martha|   IND|        Q|          Corona|   NY|11368|  50|        0|\n",
            "|    2013|       5|   1075|      NP|   Dromm, Daniel P|  3/7/2013|   Cecere, Lorraine|   IND|        Q|          Queens|   NY|11372| 100|        0|\n",
            "|    2013|       5|   1084|       P| Hamilton, Jesse E| 2/22/2013|       Sherman, Ken|   IND|        K|        Brooklyn|   NY|11234| 125|      125|\n",
            "|    2013|       5|   1084|       P| Hamilton, Jesse E| 3/11/2013|   Johnson, Kenneth|   IND|        X|           Bronx|   NY|10469| 175|      175|\n",
            "|    2013|       5|   1086|       P|   Eugene, Mathieu|  5/1/2011|  Jordonne, Willy J|   IND|        Z|       Manhasset|   NY|11030| 100|        0|\n",
            "|    2013|       5|   1086|       P|   Eugene, Mathieu|  5/1/2011|    Nasir, Muhammad|   IND|        K|        Brooklyn|   NY|11230| 100|        0|\n",
            "|    2013|       6|   1092|      UN|   Quiroz, Alfonso|12/27/2007| McMahon, Cynthia S|   IND|        Z|         Chicago|   IL|60628|  35|        0|\n",
            "|    2013|       6|   1092|      UN|   Quiroz, Alfonso| 6/29/2007|      Molina, Edwin|   IND|        K|        Brooklyn|   NY|11210| 100|      100|\n",
            "+--------+--------+-------+--------+------------------+----------+-------------------+------+---------+----------------+-----+-----+----+---------+\n",
            "only showing top 20 rows\n",
            "\n"
          ]
        }
      ]
    },
    {
      "cell_type": "code",
      "metadata": {
        "colab": {
          "base_uri": "https://localhost:8080/",
          "height": 212
        },
        "id": "OAlorPYStgm4",
        "outputId": "e23cbe56-d80c-4980-dc5f-714eae9be5d5"
      },
      "source": [
        "import pyspark.sql.functions\n",
        "  \n",
        "df2 = df2.filter(df2.OFFICECD ==1)\n",
        "df2.show()\n"
      ],
      "execution_count": 15,
      "outputs": [
        {
          "output_type": "error",
          "ename": "AttributeError",
          "evalue": "ignored",
          "traceback": [
            "\u001b[0;31m---------------------------------------------------------------------------\u001b[0m",
            "\u001b[0;31mAttributeError\u001b[0m                            Traceback (most recent call last)",
            "\u001b[0;32m<ipython-input-15-49852f7c8124>\u001b[0m in \u001b[0;36m<module>\u001b[0;34m()\u001b[0m\n\u001b[1;32m      1\u001b[0m \u001b[0;32mimport\u001b[0m \u001b[0mpyspark\u001b[0m\u001b[0;34m.\u001b[0m\u001b[0msql\u001b[0m\u001b[0;34m.\u001b[0m\u001b[0mfunctions\u001b[0m\u001b[0;34m\u001b[0m\u001b[0;34m\u001b[0m\u001b[0m\n\u001b[1;32m      2\u001b[0m \u001b[0;34m\u001b[0m\u001b[0m\n\u001b[0;32m----> 3\u001b[0;31m \u001b[0mdf2\u001b[0m \u001b[0;34m=\u001b[0m \u001b[0mdf2\u001b[0m\u001b[0;34m.\u001b[0m\u001b[0mfilter\u001b[0m\u001b[0;34m(\u001b[0m\u001b[0mdf2\u001b[0m\u001b[0;34m.\u001b[0m\u001b[0mOFFICECD\u001b[0m \u001b[0;34m==\u001b[0m\u001b[0;36m1\u001b[0m\u001b[0;34m)\u001b[0m\u001b[0;34m\u001b[0m\u001b[0;34m\u001b[0m\u001b[0m\n\u001b[0m\u001b[1;32m      4\u001b[0m \u001b[0mdf2\u001b[0m\u001b[0;34m.\u001b[0m\u001b[0mshow\u001b[0m\u001b[0;34m(\u001b[0m\u001b[0;34m)\u001b[0m\u001b[0;34m\u001b[0m\u001b[0;34m\u001b[0m\u001b[0m\n",
            "\u001b[0;31mAttributeError\u001b[0m: 'NoneType' object has no attribute 'filter'"
          ]
        }
      ]
    }
  ]
}