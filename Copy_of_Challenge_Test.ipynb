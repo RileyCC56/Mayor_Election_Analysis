{
  "nbformat": 4,
  "nbformat_minor": 0,
  "metadata": {
    "colab": {
      "name": "Copy of Challenge_Test.ipynb",
      "provenance": [],
      "collapsed_sections": [],
      "authorship_tag": "ABX9TyMp85buL3+kx+OOgGkGfkIn",
      "include_colab_link": true
    },
    "kernelspec": {
      "name": "python3",
      "display_name": "Python 3"
    },
    "language_info": {
      "name": "python"
    }
  },
  "cells": [
    {
      "cell_type": "markdown",
      "metadata": {
        "id": "view-in-github",
        "colab_type": "text"
      },
      "source": [
        "<a href=\"https://colab.research.google.com/github/ssheggrud/Mod_20_Project/blob/05_Riley/Copy_of_Challenge_Test.ipynb\" target=\"_parent\"><img src=\"https://colab.research.google.com/assets/colab-badge.svg\" alt=\"Open In Colab\"/></a>"
      ]
    },
    {
      "cell_type": "code",
      "metadata": {
        "colab": {
          "base_uri": "https://localhost:8080/"
        },
        "id": "8YdY34kyytgK",
        "outputId": "9b0a0672-f5ef-4d46-c362-1523425ea813"
      },
      "source": [
        "import os\n",
        "# Find the latest version of spark 3.0 from http://www.apache.org/dist/spark/ and enter as the spark version\n",
        "# For example:\n",
        "# spark_version = 'spark-3.0.3'\n",
        "spark_version = 'spark-2.4.8'\n",
        "os.environ['SPARK_VERSION']=spark_version\n",
        "\n",
        "# Install Spark and Java\n",
        "!apt-get update\n",
        "!apt-get install openjdk-11-jdk-headless -qq > /dev/null\n",
        "!wget -q http://www.apache.org/dist/spark/$SPARK_VERSION/$SPARK_VERSION-bin-hadoop2.7.tgz\n",
        "!tar xf $SPARK_VERSION-bin-hadoop2.7.tgz\n",
        "!pip install -q findspark\n",
        "\n",
        "# Set Environment Variables\n",
        "import os\n",
        "os.environ[\"JAVA_HOME\"] = \"/usr/lib/jvm/java-11-openjdk-amd64\"\n",
        "os.environ[\"SPARK_HOME\"] = f\"/content/{spark_version}-bin-hadoop2.7\"\n",
        "\n",
        "# Start a SparkSession\n",
        "import findspark\n",
        "findspark.init()"
      ],
      "execution_count": 1,
      "outputs": [
        {
          "output_type": "stream",
          "name": "stdout",
          "text": [
            "\r0% [Working]\r            \rHit:1 https://cloud.r-project.org/bin/linux/ubuntu bionic-cran40/ InRelease\n",
            "\r0% [Connecting to archive.ubuntu.com (91.189.88.142)] [Connecting to security.u\r0% [1 InRelease gpgv 3,626 B] [Connecting to archive.ubuntu.com (91.189.88.142)\r                                                                               \rIgn:2 https://developer.download.nvidia.com/compute/cuda/repos/ubuntu1804/x86_64  InRelease\n",
            "\r0% [1 InRelease gpgv 3,626 B] [Connecting to archive.ubuntu.com (91.189.88.142)\r                                                                               \rIgn:3 https://developer.download.nvidia.com/compute/machine-learning/repos/ubuntu1804/x86_64  InRelease\n",
            "\r0% [1 InRelease gpgv 3,626 B] [Waiting for headers] [Connecting to security.ubu\r                                                                               \rHit:4 https://developer.download.nvidia.com/compute/cuda/repos/ubuntu1804/x86_64  Release\n",
            "Hit:5 https://developer.download.nvidia.com/compute/machine-learning/repos/ubuntu1804/x86_64  Release\n",
            "Hit:6 http://ppa.launchpad.net/c2d4u.team/c2d4u4.0+/ubuntu bionic InRelease\n",
            "Hit:7 http://archive.ubuntu.com/ubuntu bionic InRelease\n",
            "Hit:8 http://security.ubuntu.com/ubuntu bionic-security InRelease\n",
            "Hit:9 http://archive.ubuntu.com/ubuntu bionic-updates InRelease\n",
            "Hit:11 http://ppa.launchpad.net/cran/libgit2/ubuntu bionic InRelease\n",
            "Hit:12 http://archive.ubuntu.com/ubuntu bionic-backports InRelease\n",
            "Hit:14 http://ppa.launchpad.net/deadsnakes/ppa/ubuntu bionic InRelease\n",
            "Hit:15 http://ppa.launchpad.net/graphics-drivers/ppa/ubuntu bionic InRelease\n",
            "Reading package lists... Done\n"
          ]
        }
      ]
    },
    {
      "cell_type": "code",
      "metadata": {
        "colab": {
          "base_uri": "https://localhost:8080/"
        },
        "id": "A7rScTFqz-95",
        "outputId": "659d5443-b849-4eee-b672-f525612c43b8"
      },
      "source": [
        "# Download the Postgres driver that will allow Spark to interact with Postgres.\n",
        "!wget https://jdbc.postgresql.org/download/postgresql-42.2.16.jar"
      ],
      "execution_count": 2,
      "outputs": [
        {
          "output_type": "stream",
          "name": "stdout",
          "text": [
            "--2021-09-03 19:57:27--  https://jdbc.postgresql.org/download/postgresql-42.2.16.jar\n",
            "Resolving jdbc.postgresql.org (jdbc.postgresql.org)... 72.32.157.228, 2001:4800:3e1:1::228\n",
            "Connecting to jdbc.postgresql.org (jdbc.postgresql.org)|72.32.157.228|:443... connected.\n",
            "HTTP request sent, awaiting response... 200 OK\n",
            "Length: 1002883 (979K) [application/java-archive]\n",
            "Saving to: ‘postgresql-42.2.16.jar.4’\n",
            "\n",
            "postgresql-42.2.16. 100%[===================>] 979.38K  3.97MB/s    in 0.2s    \n",
            "\n",
            "2021-09-03 19:57:27 (3.97 MB/s) - ‘postgresql-42.2.16.jar.4’ saved [1002883/1002883]\n",
            "\n"
          ]
        }
      ]
    },
    {
      "cell_type": "code",
      "metadata": {
        "id": "fmoRqOY_z_AE"
      },
      "source": [
        "# Start Spark session\n",
        "from pyspark.sql import SparkSession\n",
        "spark = SparkSession.builder.appName(\"FinalProject\").getOrCreate()"
      ],
      "execution_count": 3,
      "outputs": []
    },
    {
      "cell_type": "code",
      "metadata": {
        "id": "8IAOroGPz_Cm"
      },
      "source": [
        "# Read in data from S3 Buckets\n",
        "from pyspark import SparkFiles\n",
        "url = \"https://databootcamp-final-05.s3.amazonaws.com/Resources/Individual+Contributions+2013+(UF).csv\"\n",
        "spark.sparkContext.addFile(url)\n",
        "df = spark.read.csv(SparkFiles.get(\"Individual+Contributions+2013+(UF).csv\"), sep=\",\", header=True)\n"
      ],
      "execution_count": 4,
      "outputs": []
    },
    {
      "cell_type": "code",
      "metadata": {
        "colab": {
          "base_uri": "https://localhost:8080/"
        },
        "id": "h9PuxqGFPGOw",
        "outputId": "cfcbf744-3eea-4a22-d733-4b42d3bbd319"
      },
      "source": [
        "# Remove multiple columns\n",
        "list = ['COMMITTEE', 'FILING', 'SCHEDULE', 'PAGENO', 'SEQUENCENO','REFNO', 'STRNO', 'STRNAME', 'APARTMENT', 'OCCUPATION', 'EMPNAME', 'EMPSTRNO', 'EMPSTRNAME',\n",
        "                'EMPCITY', 'EMPSTATE', 'PREVAMNT', 'REFUNDDATE', 'PAY_METHOD','INTERMNO', 'INTERMNAME', 'INTSTRNO', 'INTSTRNM', 'INTSTRNM', 'INTAPTNO',\n",
        "                'INTCITY', 'INTST','INTZIP', 'INTEMPNAME', 'INTEMPSTNO', 'INTEMPSTNM', 'INTEMPCITY', 'INTEMPST', 'INTOCCUPA' ,'PURPOSECD', 'EXEMPTCD','ADJTYPECD', 'RR_IND', 'SEG_IND','INT_C_CODE'] \n",
        "df = df.drop(*list)\n",
        "df.show()"
      ],
      "execution_count": 5,
      "outputs": [
        {
          "output_type": "stream",
          "name": "stdout",
          "text": [
            "+--------+--------+-------+--------+------------------+---------+-------------------+------+---------+-----------------+-----+-----+----+---------+\n",
            "|ELECTION|OFFICECD|RECIPID|CANCLASS|         RECIPNAME|     DATE|               NAME|C_CODE|BOROUGHCD|             CITY|STATE|  ZIP|AMNT|MATCHAMNT|\n",
            "+--------+--------+-------+--------+------------------+---------+-------------------+------+---------+-----------------+-----+-----+----+---------+\n",
            "|    2013|       5|   1008|       P|Peterson, Daniel P|3/11/2012|   Haywood, David B|   IND|        X|            Bronx|   NY|10458|  20|       20|\n",
            "|    2013|       5|   1008|       P|Peterson, Daniel P| 3/6/2012|      Herlihy, Neil|   IND|        Z|       Hunnington|   NY|11746|  25|        0|\n",
            "|    2013|       5|   1008|       P|Peterson, Daniel P| 3/5/2012|       Iocca, Karen|   IND|        Z|           Hobken|   NJ| 7030|  25|        0|\n",
            "|    2013|       5|   1008|       P|Peterson, Daniel P| 3/6/2012|   Lewenberg, Ilana|   IND|        M|         New York|   NY|10065|  25|       25|\n",
            "|    2013|       5|   1008|       P|Peterson, Daniel P| 3/5/2012|     Tolani, Sanjay|   IND|        M|         New York|   NY|10023| 200|      175|\n",
            "|    2013|       5|   1008|       P|Peterson, Daniel P| 6/7/2012|    Viguola, Louise|   IND|        Q|         Woodside|   NY|11377|  60|       60|\n",
            "|    2013|       5|   1008|       P|Peterson, Daniel P| 6/7/2012|       Stone, Jared|   IND|        M|         New York|   NY|10028|  40|       40|\n",
            "|    2013|       5|   1008|       P|Peterson, Daniel P| 6/7/2012|   Kronenberg, Mark|   IND|        Q|  Oakland Gardens|   NY|11364|  25|       25|\n",
            "|    2013|       5|   1008|       P|Peterson, Daniel P| 6/7/2012|       Heslin, Owen|   IND|        X|            Bronx|   NY|10451|  25|       25|\n",
            "|    2013|       5|   1008|       P|Peterson, Daniel P| 6/7/2012|      Perry, Gerard|   IND|        S|    Staten Island|   NY|10304|  25|       25|\n",
            "|    2013|       5|   1008|       P|Peterson, Daniel P| 6/7/2012|     Chandra, Ashok|   IND|        Q| Long Island City|   NY|11109|  25|       25|\n",
            "|    2013|       5|   1008|       P|Peterson, Daniel P| 6/7/2012|          Ashe, Dan|   IND|        Q| Long Island City|   NY|11109| 100|      100|\n",
            "|    2013|       5|   1008|       P|Peterson, Daniel P|6/17/2012|      Yurcan, Bryan|   IND|        Z|Hasbrouck Heights|   NJ| 7604|  20|        0|\n",
            "|    2013|       5|   1008|       P|Peterson, Daniel P| 6/7/2012|  Bigelow, Margaret|   IND|        Q|          Astoria|   NY|11103|  25|       25|\n",
            "|    2013|       5|   1008|       P|Peterson, Daniel P| 6/7/2012|       Lewis, Harry|   IND|        X|     Pelham Manor|   NY|10803| 100|      100|\n",
            "|    2013|       5|   1008|       P|Peterson, Daniel P|3/13/2012|       Heslin, Owen|   IND|        X|            Bronx|   NY|10451|  20|       20|\n",
            "|    2013|       5|   1008|       P|Peterson, Daniel P|3/15/2012|      Rincker, Cari|   IND|        M|         New York|   NY|10024|  30|       30|\n",
            "|    2013|       5|   1008|       P|Peterson, Daniel P|3/19/2012|  LaVerghetta, Dino|   IND|        M|         New York|   NY|10065|  50|       50|\n",
            "|    2013|       5|   1008|       P|Peterson, Daniel P|4/11/2012|     Chandra, Ashok|   IND|        Q| Long Island City|   NY|11109|  60|       60|\n",
            "|    2013|       5|   1008|       P|Peterson, Daniel P|3/20/2012|Greenberg, Samuel J|   IND|        Q|      Little Neck|   NY|11363|  25|       25|\n",
            "+--------+--------+-------+--------+------------------+---------+-------------------+------+---------+-----------------+-----+-----+----+---------+\n",
            "only showing top 20 rows\n",
            "\n"
          ]
        }
      ]
    },
    {
      "cell_type": "code",
      "metadata": {
        "colab": {
          "base_uri": "https://localhost:8080/"
        },
        "id": "RWHWxv_f62bB",
        "outputId": "24a2b8b3-e2cd-4010-bb3b-cb1fdb250e5e"
      },
      "source": [
        "df.select('C_CODE').distinct().show(truncate=False)"
      ],
      "execution_count": 6,
      "outputs": [
        {
          "output_type": "stream",
          "name": "stdout",
          "text": [
            "+------+\n",
            "|C_CODE|\n",
            "+------+\n",
            "|EMPO  |\n",
            "|PCOMZ |\n",
            "|null  |\n",
            "|FAM   |\n",
            "|ORG   |\n",
            "|LLC   |\n",
            "|PCOMP |\n",
            "|CAN   |\n",
            "|SPO   |\n",
            "|OTHR  |\n",
            "|PCOMC |\n",
            "|IND   |\n",
            "|CORP  |\n",
            "|PART  |\n",
            "+------+\n",
            "\n"
          ]
        }
      ]
    },
    {
      "cell_type": "code",
      "metadata": {
        "id": "kaNtRRQ30MWc"
      },
      "source": [
        "from pyspark.sql.functions import regexp_replace\n",
        "df1 = df.withColumn('C_CODE', regexp_replace('C_CODE', 'CAN', 'Candidate')) \\\n",
        "  .withColumn('C_CODE', regexp_replace('C_CODE', 'CORP', 'Corporation')) \\\n",
        "  .withColumn('C_CODE', regexp_replace('C_CODE', 'EMPO', 'Labor Union')) \\\n",
        "  .withColumn('C_CODE', regexp_replace('C_CODE', 'FAM', 'Candidate Family')) \\\n",
        "  .withColumn('C_CODE', regexp_replace('C_CODE', 'IND', 'Individual')) \\\n",
        "\n",
        "#from pyspark.sql.functions import regexp_replace\n",
        "#df.withColumn('C_CODE', regexp_replace('Contributor_Type', 'IND', 'Individual')) \\\n",
        " # .show(truncate=False)"
      ],
      "execution_count": 12,
      "outputs": []
    },
    {
      "cell_type": "code",
      "metadata": {
        "colab": {
          "base_uri": "https://localhost:8080/"
        },
        "id": "M8MvD51f0MZO",
        "outputId": "4aed6998-6d79-406e-802c-7e75081657e6"
      },
      "source": [
        "#Check the CANCLASS is only P\n",
        "df1.select('C_CODE').distinct().show(truncate=False)"
      ],
      "execution_count": 13,
      "outputs": [
        {
          "output_type": "stream",
          "name": "stdout",
          "text": [
            "+----------------+\n",
            "|C_CODE          |\n",
            "+----------------+\n",
            "|PCOMZ           |\n",
            "|Labor Union     |\n",
            "|null            |\n",
            "|Individual      |\n",
            "|ORG             |\n",
            "|Candidate Family|\n",
            "|LLC             |\n",
            "|Candidate       |\n",
            "|PCOMP           |\n",
            "|SPO             |\n",
            "|Corporation     |\n",
            "|OTHR            |\n",
            "|PCOMC           |\n",
            "|PART            |\n",
            "+----------------+\n",
            "\n"
          ]
        }
      ]
    },
    {
      "cell_type": "code",
      "metadata": {
        "id": "WoEt0eDFQFwi"
      },
      "source": [
        "df3 = df1.filter((df1.OFFICECD==\"1\") & (df1.CANCLASS==\"P\"))"
      ],
      "execution_count": 14,
      "outputs": []
    },
    {
      "cell_type": "code",
      "metadata": {
        "colab": {
          "base_uri": "https://localhost:8080/"
        },
        "id": "B9iPDdi0QFy6",
        "outputId": "0eb0d03a-738a-4c8b-b88b-3f799ab9ee90"
      },
      "source": [
        "df3.show()"
      ],
      "execution_count": 15,
      "outputs": [
        {
          "output_type": "stream",
          "name": "stdout",
          "text": [
            "+--------+--------+-------+--------+--------------------+----------+-------------------+----------+---------+--------------+-----+-----+----+---------+\n",
            "|ELECTION|OFFICECD|RECIPID|CANCLASS|           RECIPNAME|      DATE|               NAME|    C_CODE|BOROUGHCD|          CITY|STATE|  ZIP|AMNT|MATCHAMNT|\n",
            "+--------+--------+-------+--------+--------------------+----------+-------------------+----------+---------+--------------+-----+-----+----+---------+\n",
            "|    2013|       1|   1286|       P|Coenen, Jr., Kevin P| 1/25/2013|    Coenen, Kevin P| Candidate|        Z|     Nesconset|   NY|11767|  10|        0|\n",
            "|    2013|       1|   1286|       P|Coenen, Jr., Kevin P| 4/17/2013|     Walter, Dorsey|Individual|        M|      New York|   NY|10150| 175|      175|\n",
            "|    2013|       1|   1286|       P|Coenen, Jr., Kevin P| 1/25/2013|    Coenen, Kevin P| Candidate|        Z|     Nesconset|   NY|11767| -10|        0|\n",
            "|    2013|       1|   1551|       P|     Marks, Philip A| 2/13/2012|      Marks, Philip| Candidate|        K|      Brooklyn|   NY|11236| 400|      175|\n",
            "|    2013|       1|   1551|       P|     Marks, Philip A| 2/28/2013|      Marks, Philip| Candidate|        K|      Brooklyn|   NY|11236| 100|        0|\n",
            "|    2013|       1|   1639|       P|Berkowitz, Ceceil...| 5/24/2013|         Roc, Stacy|Individual|        Z|     Uniondale|   NY|11553|  10|        0|\n",
            "|    2013|       1|   1639|       P|Berkowitz, Ceceil...| 5/18/2013|         He, Yufeng|Individual|        K|      Brooklyn|   NY|11220|  10|       10|\n",
            "|    2013|       1|   1639|       P|Berkowitz, Ceceil...| 5/18/2013|    Yaqoobi, Naseir|Individual|        Z| Lake Hiawatha|   NJ| 7034|  10|        0|\n",
            "|    2013|       1|   1639|       P|Berkowitz, Ceceil...| 7/12/2013|        Fung, Kevin|Individual|        X|         Bronx|   NY|10461|  10|       10|\n",
            "|    2013|       1|   1639|       P|Berkowitz, Ceceil...|  8/1/2013|Monroe, Christopher|Individual|        Z|   Mt. Lebanon|   PA|15228|  10|        0|\n",
            "|    2013|       1|   1639|       P|Berkowitz, Ceceil...| 7/31/2013|     Beegan, Daniel|Individual|        Z|   Beech Grove|   IN|46107|  10|        0|\n",
            "|    2013|       1|   1639|       P|Berkowitz, Ceceil...| 7/29/2013|         Will, Eric|Individual|        Z|     Knoxville|   TN|37920|  10|        0|\n",
            "|    2013|       1|   1639|       P|Berkowitz, Ceceil...| 7/29/2013|         Will, Eric|Individual|        Z|     Knoxville|   TN|37920|  10|        0|\n",
            "|    2013|       1|   1639|       P|Berkowitz, Ceceil...| 7/29/2013|Monroe, Christopher|Individual|        Z|   Mt. Lebanon|   PA|15228|  10|        0|\n",
            "|    2013|       1|   1639|       P|Berkowitz, Ceceil...| 7/19/2013|      Judd, Timothy|Individual|        Z|       Houston|   TX|77018|  10|        0|\n",
            "|    2013|       1|   1639|       P|Berkowitz, Ceceil...| 7/19/2013|    Laohoo, William|Individual|        Z|East Brunswick|   NJ| 8816|  20|        0|\n",
            "|    2013|       1|   1666|       P|    Salgado, Erick J|12/13/2012|    Acevedo, Alexie|Individual|        Z|     Brentwood|   NY|11717| 100|        0|\n",
            "|    2013|       1|   1666|       P|    Salgado, Erick J|12/26/2012|   Salgado, Erick J| Candidate|        S| Staten Island|   NY|10302|4000|      175|\n",
            "|    2013|       1|   1666|       P|    Salgado, Erick J|12/14/2012|     Vargas, Lucino|Individual|        K|      Brooklyn|   NY|11220| 500|      175|\n",
            "|    2013|       1|   1666|       P|    Salgado, Erick J|12/13/2012|    Torres, Marcial|Individual|        Z|       Matawan|   NJ| 7747| 500|        0|\n",
            "+--------+--------+-------+--------+--------------------+----------+-------------------+----------+---------+--------------+-----+-----+----+---------+\n",
            "only showing top 20 rows\n",
            "\n"
          ]
        }
      ]
    },
    {
      "cell_type": "code",
      "metadata": {
        "colab": {
          "base_uri": "https://localhost:8080/"
        },
        "id": "Rvb8aFx-QR6g",
        "outputId": "7c4ac6ad-ac78-4fbe-cb5b-7e311a0126a9"
      },
      "source": [
        "df3.select('C_CODE').distinct().show(truncate=False)"
      ],
      "execution_count": 16,
      "outputs": [
        {
          "output_type": "stream",
          "name": "stdout",
          "text": [
            "+----------------+\n",
            "|C_CODE          |\n",
            "+----------------+\n",
            "|PCOMZ           |\n",
            "|Labor Union     |\n",
            "|Individual      |\n",
            "|Candidate Family|\n",
            "|LLC             |\n",
            "|Candidate       |\n",
            "|PCOMP           |\n",
            "|SPO             |\n",
            "|Corporation     |\n",
            "|OTHR            |\n",
            "|PCOMC           |\n",
            "|PART            |\n",
            "+----------------+\n",
            "\n"
          ]
        }
      ]
    }
  ]
}