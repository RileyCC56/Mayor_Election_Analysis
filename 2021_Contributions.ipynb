{
  "nbformat": 4,
  "nbformat_minor": 0,
  "metadata": {
    "colab": {
      "name": "2021_Contributions.ipynb",
      "provenance": [],
      "collapsed_sections": [],
      "authorship_tag": "ABX9TyM/ONnx0X4IROjwRnvH3mla",
      "include_colab_link": true
    },
    "kernelspec": {
      "name": "python3",
      "display_name": "Python 3"
    },
    "language_info": {
      "name": "python"
    }
  },
  "cells": [
    {
      "cell_type": "markdown",
      "metadata": {
        "id": "view-in-github",
        "colab_type": "text"
      },
      "source": [
        "<a href=\"https://colab.research.google.com/github/ssheggrud/Mod_20_Project/blob/05_Riley/2021_Contributions.ipynb\" target=\"_parent\"><img src=\"https://colab.research.google.com/assets/colab-badge.svg\" alt=\"Open In Colab\"/></a>"
      ]
    },
    {
      "cell_type": "markdown",
      "metadata": {
        "id": "qo0_SOu8LIEc"
      },
      "source": [
        "## **2021 Indivdual Contributions**"
      ]
    },
    {
      "cell_type": "code",
      "metadata": {
        "colab": {
          "base_uri": "https://localhost:8080/"
        },
        "id": "ddn5mqQ0M_R3",
        "outputId": "e56378b4-9eb9-4806-c0ef-6448c879753d"
      },
      "source": [
        "import os\n",
        "# Find the latest version of spark 3.0 from http://www.apache.org/dist/spark/ and enter as the spark version\n",
        "# For example:\n",
        "spark_version = 'spark-3.0.3'\n",
        "#spark_version = 'spark-2.4.8'\n",
        "os.environ['SPARK_VERSION']=spark_version\n",
        "\n",
        "# Install Spark and Java\n",
        "!apt-get update\n",
        "!apt-get install openjdk-11-jdk-headless -qq > /dev/null\n",
        "!wget -q http://www.apache.org/dist/spark/$SPARK_VERSION/$SPARK_VERSION-bin-hadoop2.7.tgz\n",
        "!tar xf $SPARK_VERSION-bin-hadoop2.7.tgz\n",
        "!pip install -q findspark\n",
        "\n",
        "# Set Environment Variables\n",
        "import os\n",
        "os.environ[\"JAVA_HOME\"] = \"/usr/lib/jvm/java-11-openjdk-amd64\"\n",
        "os.environ[\"SPARK_HOME\"] = f\"/content/{spark_version}-bin-hadoop2.7\"\n",
        "\n",
        "# Start a SparkSession\n",
        "import findspark\n",
        "findspark.init()\n",
        "\n",
        "import pandas as pd\n"
      ],
      "execution_count": 1,
      "outputs": [
        {
          "output_type": "stream",
          "name": "stdout",
          "text": [
            "\r0% [Working]\r            \rGet:1 http://security.ubuntu.com/ubuntu bionic-security InRelease [88.7 kB]\n",
            "\r0% [Connecting to archive.ubuntu.com (91.189.88.142)] [1 InRelease 14.2 kB/88.7\r0% [Connecting to archive.ubuntu.com (91.189.88.142)] [Connected to cloud.r-pro\r0% [1 InRelease gpgv 88.7 kB] [Waiting for headers] [Connected to cloud.r-proje\r                                                                               \rGet:2 https://cloud.r-project.org/bin/linux/ubuntu bionic-cran40/ InRelease [3,626 B]\n",
            "Ign:3 https://developer.download.nvidia.com/compute/cuda/repos/ubuntu1804/x86_64  InRelease\n",
            "Hit:4 http://archive.ubuntu.com/ubuntu bionic InRelease\n",
            "Get:5 http://ppa.launchpad.net/c2d4u.team/c2d4u4.0+/ubuntu bionic InRelease [15.9 kB]\n",
            "Ign:6 https://developer.download.nvidia.com/compute/machine-learning/repos/ubuntu1804/x86_64  InRelease\n",
            "Get:7 https://developer.download.nvidia.com/compute/cuda/repos/ubuntu1804/x86_64  Release [696 B]\n",
            "Hit:8 https://developer.download.nvidia.com/compute/machine-learning/repos/ubuntu1804/x86_64  Release\n",
            "Get:9 https://developer.download.nvidia.com/compute/cuda/repos/ubuntu1804/x86_64  Release.gpg [836 B]\n",
            "Get:10 http://archive.ubuntu.com/ubuntu bionic-updates InRelease [88.7 kB]\n",
            "Get:11 http://security.ubuntu.com/ubuntu bionic-security/main amd64 Packages [2,324 kB]\n",
            "Hit:12 http://ppa.launchpad.net/cran/libgit2/ubuntu bionic InRelease\n",
            "Get:13 http://archive.ubuntu.com/ubuntu bionic-backports InRelease [74.6 kB]\n",
            "Get:14 http://security.ubuntu.com/ubuntu bionic-security/universe amd64 Packages [1,428 kB]\n",
            "Get:15 http://ppa.launchpad.net/deadsnakes/ppa/ubuntu bionic InRelease [15.9 kB]\n",
            "Get:16 http://security.ubuntu.com/ubuntu bionic-security/restricted amd64 Packages [567 kB]\n",
            "Hit:17 http://ppa.launchpad.net/graphics-drivers/ppa/ubuntu bionic InRelease\n",
            "Get:19 https://developer.download.nvidia.com/compute/cuda/repos/ubuntu1804/x86_64  Packages [717 kB]\n",
            "Get:20 http://ppa.launchpad.net/c2d4u.team/c2d4u4.0+/ubuntu bionic/main Sources [1,799 kB]\n",
            "Get:21 http://archive.ubuntu.com/ubuntu bionic-updates/universe amd64 Packages [2,202 kB]\n",
            "Get:22 http://ppa.launchpad.net/c2d4u.team/c2d4u4.0+/ubuntu bionic/main amd64 Packages [921 kB]\n",
            "Get:23 http://archive.ubuntu.com/ubuntu bionic-updates/main amd64 Packages [2,760 kB]\n",
            "Get:24 http://archive.ubuntu.com/ubuntu bionic-updates/restricted amd64 Packages [600 kB]\n",
            "Get:25 http://ppa.launchpad.net/deadsnakes/ppa/ubuntu bionic/main amd64 Packages [40.8 kB]\n",
            "Fetched 13.6 MB in 4s (3,693 kB/s)\n",
            "Reading package lists... Done\n"
          ]
        }
      ]
    },
    {
      "cell_type": "code",
      "metadata": {
        "id": "jiP19KLKCpxR"
      },
      "source": [
        "import findspark\n",
        "findspark.add_packages('mysql:mysql-connector-java:8.0.11')"
      ],
      "execution_count": 2,
      "outputs": []
    },
    {
      "cell_type": "code",
      "metadata": {
        "colab": {
          "base_uri": "https://localhost:8080/"
        },
        "id": "B9Dd_JabNFZU",
        "outputId": "ed7a8dbc-c2cf-453f-9c7b-822b4e7c8273"
      },
      "source": [
        "# Download the Postgres driver that will allow Spark to interact with Postgres.\n",
        "!wget https://jdbc.postgresql.org/download/postgresql-42.2.16.jar"
      ],
      "execution_count": 3,
      "outputs": [
        {
          "output_type": "stream",
          "name": "stdout",
          "text": [
            "--2021-09-13 14:45:54--  https://jdbc.postgresql.org/download/postgresql-42.2.16.jar\n",
            "Resolving jdbc.postgresql.org (jdbc.postgresql.org)... 72.32.157.228, 2001:4800:3e1:1::228\n",
            "Connecting to jdbc.postgresql.org (jdbc.postgresql.org)|72.32.157.228|:443... connected.\n",
            "HTTP request sent, awaiting response... 200 OK\n",
            "Length: 1002883 (979K) [application/java-archive]\n",
            "Saving to: ‘postgresql-42.2.16.jar’\n",
            "\n",
            "postgresql-42.2.16. 100%[===================>] 979.38K  --.-KB/s    in 0.1s    \n",
            "\n",
            "2021-09-13 14:45:54 (6.61 MB/s) - ‘postgresql-42.2.16.jar’ saved [1002883/1002883]\n",
            "\n"
          ]
        }
      ]
    },
    {
      "cell_type": "code",
      "metadata": {
        "id": "VrvolWKMNFbe"
      },
      "source": [
        "# Start Spark session\n",
        "#from pyspark.sql import SparkSession\n",
        "#from pyspark.sql.functions import col\n",
        "#spark = SparkSession.builder.appName(\"FinalProject\").getOrCreate()"
      ],
      "execution_count": 4,
      "outputs": []
    },
    {
      "cell_type": "code",
      "metadata": {
        "id": "M9RnA4W6GDS6"
      },
      "source": [
        "from pyspark.sql import SparkSession\n",
        "spark = SparkSession.builder.appName(\"CloudETL\").config(\"spark.driver.extraClassPath\",\"/content/postgresql-42.2.16.jar\").getOrCreate()"
      ],
      "execution_count": 5,
      "outputs": []
    },
    {
      "cell_type": "code",
      "metadata": {
        "colab": {
          "base_uri": "https://localhost:8080/"
        },
        "id": "W2uxnkAjNFeD",
        "outputId": "98b75043-3d03-47b7-8713-59423c3cb0f6"
      },
      "source": [
        "# Read in data from S3 Buckets\n",
        "from pyspark import SparkFiles\n",
        "url = \"https://databootcamp-final-05.s3.amazonaws.com/Resources/Individual+Contributions+2021+(UF).csv\"\n",
        "spark.sparkContext.addFile(url)\n",
        "df = spark.read.csv(SparkFiles.get(\"Individual+Contributions+2021+(UF).csv\"), sep=\",\", header=True)\n",
        "df.show()"
      ],
      "execution_count": 6,
      "outputs": [
        {
          "output_type": "stream",
          "name": "stdout",
          "text": [
            "+--------+--------+-------+--------+------------------+---------+------+--------+------+----------+--------+---------+----------+--------------------+------+-----+-------+---------+---------+-----------+-----+---------+--------------------+--------------------+------------------+--------------------+-----------+------------------+--------+---------+--------+----------+--------+----------+--------+--------+--------+-------+-----+------+----------+----------+----------+----------+--------+---------+---------+--------+---------+------+-------+----------+\n",
            "|ELECTION|OFFICECD|RECIPID|CANCLASS|         RECIPNAME|COMMITTEE|FILING|SCHEDULE|PAGENO|SEQUENCENO|   REFNO|     DATE|REFUNDDATE|                NAME|C_CODE|STRNO|STRNAME|APARTMENT|BOROUGHCD|       CITY|STATE|      ZIP|          OCCUPATION|             EMPNAME|          EMPSTRNO|          EMPSTRNAME|    EMPCITY|          EMPSTATE|    AMNT|MATCHAMNT|PREVAMNT|PAY_METHOD|INTERMNO|INTERMNAME|INTSTRNO|INTSTRNM|INTAPTNO|INTCITY|INTST|INTZIP|INTEMPNAME|INTEMPSTNO|INTEMPSTNM|INTEMPCITY|INTEMPST|INTOCCUPA|PURPOSECD|EXEMPTCD|ADJTYPECD|RR_IND|SEG_IND|INT_C_CODE|\n",
            "+--------+--------+-------+--------+------------------+---------+------+--------+------+----------+--------+---------+----------+--------------------+------+-----+-------+---------+---------+-----------+-----+---------+--------------------+--------------------+------------------+--------------------+-----------+------------------+--------+---------+--------+----------+--------+----------+--------+--------+--------+-------+-----+------+----------+----------+----------+----------+--------+---------+---------+--------+---------+------+-------+----------+\n",
            "|    2021|       1|   2563|       P|Tirschwell, Sara A|        H|     7|     ABC|  null|      null|R0000209| 3/6/2021|      null|       \"\"\"Dombrowski|  null| Ray\"|    IND|     null|     null|       null| null|Haverford|                  PA|               19041|Turnaround Manager|    Alvarez & Marsal|       null|600 Madison Avenue|New York|       NY|    2000|         0|       0|         4|    null|    null|    null|   null| null|  null|      null|      null|      null|      null|    null|     null|     null|    null|     null|  null|   null|         N|\n",
            "|    2021|      11|   2546|       P|      Yang, Andrew|        H|     7|     ABC|  null|      null|R0046417| 3/8/2021|      null|     A ANGELO, WENDY|   IND| null|   null|     null|        Z|   MARATHON|   WI|    54448|        Not Employed|        Not Employed|            145265|         SQUIRREL LN|   MARATHON|                WI|       5|        0|       0|         4|    null|      null|    null|    null|    null|   null| null|  null|      null|      null|      null|      null|    null|     null|     null|    null|     null|     N|      N|      null|\n",
            "|    2021|      11|   2242|       P|   Morales, Dianne|        H|     7|     ABC|  null|      null|R0023033|2/20/2021|      null|  A Chealander, Lynn|   IND| null|   null|     null|        M|   New York|   NY|    10009|     product manager|               Xandr|                28|    WEST 23RD STREET|   New York|                NY|      50|       50|       0|         4|    null|      null|    null|    null|    null|   null| null|  null|      null|      null|      null|      null|    null|     null|     null|    null|     null|     N|      N|      null|\n",
            "|    2021|      11|   2242|       P|   Morales, Dianne|        H|     7|     ABC|  null|      null|R0031088| 3/7/2021|      null|  A Chealander, Lynn|   IND| null|   null|     null|        M|   New York|   NY|    10009|     product manager|               Xandr|                28|    WEST 23RD STREET|   New York|                NY|      52|       52|      50|         4|    null|      null|    null|    null|    null|   null| null|  null|      null|      null|      null|      null|    null|     null|     null|    null|     null|     N|      N|      null|\n",
            "|    2021|      11|   2546|       P|      Yang, Andrew|        H|     7|     ABC|  null|      null|R0030844|1/23/2021|      null|A Garcia-Borg, Ol...|   IND| null|   null|     null|        K|   brooklyn|   NY|    11222|  Software developer|       Looking Glass|               190|        West St. #18|   Brooklyn|                NY|      25|       25|       0|         4|    null|      null|    null|    null|    null|   null| null|  null|      null|      null|      null|      null|    null|     null|     null|    null|     null|     N|      N|      null|\n",
            "|    2021|      11|   2546|       P|      Yang, Andrew|        H|     7|     ABC|  null|      null|R0046990| 3/9/2021|      null|     A Gracia, Kelly|   IND| null|   null|     null|        K|   Brooklyn|   NY|    11232|        Not Employed|        Not Employed|               862| 43rd Street Apt. 4C|   Brooklyn|                NY|     100|      100|       0|         4|    null|      null|    null|    null|    null|   null| null|  null|      null|      null|      null|      null|    null|     null|     null|    null|     null|     N|      N|      null|\n",
            "|    2021|      11|   2546|       P|      Yang, Andrew|        H|    10|     ABC|  null|      null|R0099132|6/14/2021|      null|   A Guarino, Joseph|   IND| null|   null|     null|        Z|  Scarsdale|   NY|    10583|           Executive|             Ketchum|               146|           Bell Road|  Scarsdale|                NY|      50|        0|       0|         4|    null|      null|    null|    null|    null|   null| null|  null|      null|      null|      null|      null|    null|     null|     null|    null|     null|     N|      N|      null|\n",
            "|    2021|      11|   2242|       P|   Morales, Dianne|        H|     8|     ABC|  null|      null|R0047669|5/17/2021|      null|    A Kast, Gretchen|   IND| null|   null|     null|        K|   Brooklyn|   NY|    11233|Senior Marketing ...|Blue House Sales ...|              1835|       7th Street NW| Washington|                DC|      20|       20|       0|         4|    null|      null|    null|    null|    null|   null| null|  null|      null|      null|      null|      null|    null|     null|     null|    null|     null|     N|      N|      null|\n",
            "|    2021|       1|   2470|      NP|McGuire, Raymond J|        H|     8|     ABC|  null|      null|R0024265|3/22/2021|      null| A Robertson, Ernest|   IND| null|   null|     null|        M|   New York|   NY|    10037|             Dentist|Harlem Center for...|              null|470 Malcolm X Blv...|   New York|                NY|     500|        0|       0|         4|    null|      null|    null|    null|    null|   null| null|  null|      null|      null|      null|      null|    null|     null|     null|    null|     null|     N|      N|      null|\n",
            "|    2021|      11|   2546|       P|      Yang, Andrew|        H|     7|     ABC|  null|      null|R0002817|1/31/2021|      null|       A Rys, Thomas|   IND| null|   null|     null|        Z|       ERIE|   PA|    16505|        Not Employed|        Not Employed|               225|       INDIANA DRIVE|       ERIE|                PA|      25|        0|      25|         4|    null|      null|    null|    null|    null|   null| null|  null|      null|      null|      null|      null|    null|     null|     null|    null|     null|     N|      N|      null|\n",
            "|    2021|      11|   2546|       P|      Yang, Andrew|        H|     7|     ABC|  null|      null|R0009989|1/19/2021|      null|       A Rys, Thomas|   IND| null|   null|     null|        Z|       ERIE|   PA|    16505|        Not Employed|        Not Employed|               225|       INDIANA DRIVE|       ERIE|                PA|      25|        0|       0|         4|    null|      null|    null|    null|    null|   null| null|  null|      null|      null|      null|      null|    null|     null|     null|    null|     null|     N|      N|      null|\n",
            "|    2021|      11|   2546|       P|      Yang, Andrew|        H|     7|     ABC|  null|      null|R0021798|2/15/2021|      null|       A Rys, Thomas|   IND| null|   null|     null|        Z|       ERIE|   PA|    16505|        Not Employed|        Not Employed|               225|       INDIANA DRIVE|       ERIE|                PA|      10|        0|      50|         4|    null|      null|    null|    null|    null|   null| null|  null|      null|      null|      null|      null|    null|     null|     null|    null|     null|     N|      N|      null|\n",
            "|    2021|      11|   2546|       P|      Yang, Andrew|        H|     8|     ABC|  null|      null|R0055004|3/15/2021|      null|       A Rys, Thomas|   IND| null|   null|     null|        Z|       ERIE|   PA|    16505|        Not Employed|        Not Employed|               225|       INDIANA DRIVE|       ERIE|                PA|      10|        0|      60|         4|    null|      null|    null|    null|    null|   null| null|  null|      null|      null|      null|      null|    null|     null|     null|    null|     null|     N|      N|      null|\n",
            "|    2021|      11|   2546|       P|      Yang, Andrew|        H|     8|     ABC|  null|      null|R0065630|4/15/2021|      null|       A Rys, Thomas|   IND| null|   null|     null|        Z|       ERIE|   PA|    16505|        Not Employed|        Not Employed|               225|       INDIANA DRIVE|       ERIE|                PA|      10|        0|      70|         4|    null|      null|    null|    null|    null|   null| null|  null|      null|      null|      null|      null|    null|     null|     null|    null|     null|     N|      N|      null|\n",
            "|    2021|      11|   2393|       P|     Wiley, Maya D|        H|     9|     ABC|  null|      null|R0085079| 6/7/2021|      null|        A Toth, Kate|   IND| null|   null|     null|        Z|  Montclair|   NJ|     7042|  Executive Director|Judson Memorial C...|               239|         Thompson St|   New York|                NY|      50|        0|       0|         4|    null|      null|    null|    null|    null|   null| null|  null|      null|      null|      null|      null|    null|     null|     null|    null|     null|     N|      N|      null|\n",
            "|    2021|      11|   2242|       P|   Morales, Dianne|        H|     9|     ABC|  null|      null|R0054325| 6/2/2021|      null|    A Velez, Vanessa|   IND| null|   null|     null|        Z|    Bayonne|   NJ|     7002|    higher education|               Other|               875|     Broadway Apt 3B|         3b|              null|   31.04|        0|       0|         4|    null|      null|    null|    null|    null|   null| null|  null|      null|      null|      null|      null|    null|     null|     null|    null|     null|     N|      N|      null|\n",
            "|    2021|      11|   2618|       P|     Sliwa, Curtis|        H|    10|     ABC|  null|      null|R0021378| 7/3/2021|      null|         A, CATHLEEN|   IND| null|   null|     null|        Z|  Aquebogue|   NY|    11931|             RETIRED|             RETIRED|              null|                null|       null|              null|      25|        0|       0|         4|    null|      null|    null|    null|    null|   null| null|  null|      null|      null|      null|      null|    null|     null|     null|    null|     null|     N|      N|      null|\n",
            "|    2021|      11|    148|       P| Stringer, Scott M|        R|     1|     ABC|  null|      null|R0030204| 3/4/2018|      null|            A, Koedt|   IND| null|   null|     null|        M|   New York|   NY|    10025|                Self|       Self Employed|               210|     West 101 Street|   New York|                NY|      25|        0|       0|         4|    null|      null|    null|    null|    null|   null| null|  null|      null|      null|      null|      null|    null|     null|     null|    null|     null|     N|      N|      null|\n",
            "|    2021|      11|   2618|       P|     Sliwa, Curtis|        H|     8|     ABC|  null|      null|R0008251|5/11/2021|      null|             A, Paul|   IND| null|   null|     null|        Z|    Medford|   NY|    11763|             Retired|             Retired|                 1|         Main Street|    Medford|                NY|      10|        0|       0|         4|    null|      null|    null|    null|    null|   null| null|  null|      null|      null|      null|      null|    null|     null|     null|    null|     null|     N|      N|      null|\n",
            "|    2021|      11|   2546|       P|      Yang, Andrew|        H|     7|     ABC|  null|      null|R0049355|3/10/2021|      null|     A. Johnson, Dan|   IND| null|   null|     null|        Z|Lindenhurst|   NY|    11757|        Not Employed|        Not Employed|               191|   South 14th Street|Lindenhurst|                NY|       5|        0|       0|         4|    null|      null|    null|    null|    null|   null| null|  null|      null|      null|      null|      null|    null|     null|     null|    null|     null|     N|      N|      null|\n",
            "+--------+--------+-------+--------+------------------+---------+------+--------+------+----------+--------+---------+----------+--------------------+------+-----+-------+---------+---------+-----------+-----+---------+--------------------+--------------------+------------------+--------------------+-----------+------------------+--------+---------+--------+----------+--------+----------+--------+--------+--------+-------+-----+------+----------+----------+----------+----------+--------+---------+---------+--------+---------+------+-------+----------+\n",
            "only showing top 20 rows\n",
            "\n"
          ]
        }
      ]
    },
    {
      "cell_type": "code",
      "metadata": {
        "colab": {
          "base_uri": "https://localhost:8080/"
        },
        "id": "e2cRNc4wNFgt",
        "outputId": "99615db7-07bf-426b-ff6f-01ca658777b1"
      },
      "source": [
        "# Remove multiple columns\n",
        "list = ['COMMITTEE', 'FILING', 'SCHEDULE', 'PAGENO', 'SEQUENCENO','REFNO', 'STRNO', 'STRNAME', 'APARTMENT', 'OCCUPATION', 'EMPNAME', 'EMPSTRNO', 'EMPSTRNAME',\n",
        "                'EMPCITY','INTERMNO', 'REFUNDDATE', 'INTERMNAME', 'INTSTRNO', 'INTSTRNM', 'INTSTRNM', 'INTAPTNO',\n",
        "                'INTCITY', 'INTST','INTZIP', 'INTEMPNAME', 'INTEMPSTNO', 'INTEMPSTNM', 'INTEMPCITY', 'INTEMPST', 'INTOCCUPA' ,'PURPOSECD', 'EXEMPTCD','ADJTYPECD', 'RR_IND', 'SEG_IND','INT_C_CODE'] \n",
        "df = df.drop(*list)\n",
        "df.show()"
      ],
      "execution_count": 7,
      "outputs": [
        {
          "output_type": "stream",
          "name": "stdout",
          "text": [
            "+--------+--------+-------+--------+------------------+---------+--------------------+------+---------+-----------+-----+---------+------------------+--------+---------+--------+----------+\n",
            "|ELECTION|OFFICECD|RECIPID|CANCLASS|         RECIPNAME|     DATE|                NAME|C_CODE|BOROUGHCD|       CITY|STATE|      ZIP|          EMPSTATE|    AMNT|MATCHAMNT|PREVAMNT|PAY_METHOD|\n",
            "+--------+--------+-------+--------+------------------+---------+--------------------+------+---------+-----------+-----+---------+------------------+--------+---------+--------+----------+\n",
            "|    2021|       1|   2563|       P|Tirschwell, Sara A| 3/6/2021|       \"\"\"Dombrowski|  null|     null|       null| null|Haverford|600 Madison Avenue|New York|       NY|    2000|         0|\n",
            "|    2021|      11|   2546|       P|      Yang, Andrew| 3/8/2021|     A ANGELO, WENDY|   IND|        Z|   MARATHON|   WI|    54448|                WI|       5|        0|       0|         4|\n",
            "|    2021|      11|   2242|       P|   Morales, Dianne|2/20/2021|  A Chealander, Lynn|   IND|        M|   New York|   NY|    10009|                NY|      50|       50|       0|         4|\n",
            "|    2021|      11|   2242|       P|   Morales, Dianne| 3/7/2021|  A Chealander, Lynn|   IND|        M|   New York|   NY|    10009|                NY|      52|       52|      50|         4|\n",
            "|    2021|      11|   2546|       P|      Yang, Andrew|1/23/2021|A Garcia-Borg, Ol...|   IND|        K|   brooklyn|   NY|    11222|                NY|      25|       25|       0|         4|\n",
            "|    2021|      11|   2546|       P|      Yang, Andrew| 3/9/2021|     A Gracia, Kelly|   IND|        K|   Brooklyn|   NY|    11232|                NY|     100|      100|       0|         4|\n",
            "|    2021|      11|   2546|       P|      Yang, Andrew|6/14/2021|   A Guarino, Joseph|   IND|        Z|  Scarsdale|   NY|    10583|                NY|      50|        0|       0|         4|\n",
            "|    2021|      11|   2242|       P|   Morales, Dianne|5/17/2021|    A Kast, Gretchen|   IND|        K|   Brooklyn|   NY|    11233|                DC|      20|       20|       0|         4|\n",
            "|    2021|       1|   2470|      NP|McGuire, Raymond J|3/22/2021| A Robertson, Ernest|   IND|        M|   New York|   NY|    10037|                NY|     500|        0|       0|         4|\n",
            "|    2021|      11|   2546|       P|      Yang, Andrew|1/31/2021|       A Rys, Thomas|   IND|        Z|       ERIE|   PA|    16505|                PA|      25|        0|      25|         4|\n",
            "|    2021|      11|   2546|       P|      Yang, Andrew|1/19/2021|       A Rys, Thomas|   IND|        Z|       ERIE|   PA|    16505|                PA|      25|        0|       0|         4|\n",
            "|    2021|      11|   2546|       P|      Yang, Andrew|2/15/2021|       A Rys, Thomas|   IND|        Z|       ERIE|   PA|    16505|                PA|      10|        0|      50|         4|\n",
            "|    2021|      11|   2546|       P|      Yang, Andrew|3/15/2021|       A Rys, Thomas|   IND|        Z|       ERIE|   PA|    16505|                PA|      10|        0|      60|         4|\n",
            "|    2021|      11|   2546|       P|      Yang, Andrew|4/15/2021|       A Rys, Thomas|   IND|        Z|       ERIE|   PA|    16505|                PA|      10|        0|      70|         4|\n",
            "|    2021|      11|   2393|       P|     Wiley, Maya D| 6/7/2021|        A Toth, Kate|   IND|        Z|  Montclair|   NJ|     7042|                NY|      50|        0|       0|         4|\n",
            "|    2021|      11|   2242|       P|   Morales, Dianne| 6/2/2021|    A Velez, Vanessa|   IND|        Z|    Bayonne|   NJ|     7002|              null|   31.04|        0|       0|         4|\n",
            "|    2021|      11|   2618|       P|     Sliwa, Curtis| 7/3/2021|         A, CATHLEEN|   IND|        Z|  Aquebogue|   NY|    11931|              null|      25|        0|       0|         4|\n",
            "|    2021|      11|    148|       P| Stringer, Scott M| 3/4/2018|            A, Koedt|   IND|        M|   New York|   NY|    10025|                NY|      25|        0|       0|         4|\n",
            "|    2021|      11|   2618|       P|     Sliwa, Curtis|5/11/2021|             A, Paul|   IND|        Z|    Medford|   NY|    11763|                NY|      10|        0|       0|         4|\n",
            "|    2021|      11|   2546|       P|      Yang, Andrew|3/10/2021|     A. Johnson, Dan|   IND|        Z|Lindenhurst|   NY|    11757|                NY|       5|        0|       0|         4|\n",
            "+--------+--------+-------+--------+------------------+---------+--------------------+------+---------+-----------+-----+---------+------------------+--------+---------+--------+----------+\n",
            "only showing top 20 rows\n",
            "\n"
          ]
        }
      ]
    },
    {
      "cell_type": "code",
      "metadata": {
        "colab": {
          "base_uri": "https://localhost:8080/"
        },
        "id": "g5aiRN5RNFjB",
        "outputId": "b7617c5e-0f56-4988-fae5-471fe03f855a"
      },
      "source": [
        "# check data types\n",
        "df.dtypes"
      ],
      "execution_count": 8,
      "outputs": [
        {
          "output_type": "execute_result",
          "data": {
            "text/plain": [
              "[('ELECTION', 'string'),\n",
              " ('OFFICECD', 'string'),\n",
              " ('RECIPID', 'string'),\n",
              " ('CANCLASS', 'string'),\n",
              " ('RECIPNAME', 'string'),\n",
              " ('DATE', 'string'),\n",
              " ('NAME', 'string'),\n",
              " ('C_CODE', 'string'),\n",
              " ('BOROUGHCD', 'string'),\n",
              " ('CITY', 'string'),\n",
              " ('STATE', 'string'),\n",
              " ('ZIP', 'string'),\n",
              " ('EMPSTATE', 'string'),\n",
              " ('AMNT', 'string'),\n",
              " ('MATCHAMNT', 'string'),\n",
              " ('PREVAMNT', 'string'),\n",
              " ('PAY_METHOD', 'string')]"
            ]
          },
          "metadata": {},
          "execution_count": 8
        }
      ]
    },
    {
      "cell_type": "code",
      "metadata": {
        "colab": {
          "base_uri": "https://localhost:8080/"
        },
        "id": "tIkq3wdqOzWV",
        "outputId": "a7d94f80-c64f-4d47-a1f6-89e025931ee6"
      },
      "source": [
        "#Change column names\n",
        "df1 = df \\\n",
        ".withColumnRenamed(\"ELECTION\", \"Election\") \\\n",
        ".withColumnRenamed(\"RECIPID\", \"CandidateID\") \\\n",
        ".withColumnRenamed(\"RECIPNAME\", \"CandidateName\") \\\n",
        ".withColumnRenamed(\"DATE\", \"Date\") \\\n",
        ".withColumnRenamed(\"NAME\", \"Name\") \\\n",
        ".withColumnRenamed(\"C_CODE\", \"ContributerType\") \\\n",
        ".withColumnRenamed(\"BOROUGHCD\", \"BoroughName\") \\\n",
        ".withColumnRenamed(\"CITY\", \"City\") \\\n",
        ".withColumnRenamed(\"STATE\", \"State\") \\\n",
        ".withColumnRenamed(\"ZIP\", \"ZipCode\") \\\n",
        ".withColumnRenamed(\"EMPSTATE\", \"ContributionState\") \\\n",
        ".withColumnRenamed(\"AMNT\", \"Amount\") \\\n",
        ".withColumnRenamed(\"MATCHAMNT\", \"MatchAmt\") \\\n",
        ".withColumnRenamed(\"PREVAMNT\", \"PrevAmt\") \\\n",
        ".withColumnRenamed(\"PAY_METHOD\", \"PayMethod\")\n",
        "\n",
        "\n",
        "df1.printSchema()"
      ],
      "execution_count": 9,
      "outputs": [
        {
          "output_type": "stream",
          "name": "stdout",
          "text": [
            "root\n",
            " |-- Election: string (nullable = true)\n",
            " |-- OFFICECD: string (nullable = true)\n",
            " |-- CandidateID: string (nullable = true)\n",
            " |-- CANCLASS: string (nullable = true)\n",
            " |-- CandidateName: string (nullable = true)\n",
            " |-- Date: string (nullable = true)\n",
            " |-- Name: string (nullable = true)\n",
            " |-- ContributerType: string (nullable = true)\n",
            " |-- BoroughName: string (nullable = true)\n",
            " |-- City: string (nullable = true)\n",
            " |-- State: string (nullable = true)\n",
            " |-- ZipCode: string (nullable = true)\n",
            " |-- ContributionState: string (nullable = true)\n",
            " |-- Amount: string (nullable = true)\n",
            " |-- MatchAmt: string (nullable = true)\n",
            " |-- PrevAmt: string (nullable = true)\n",
            " |-- PayMethod: string (nullable = true)\n",
            "\n"
          ]
        }
      ]
    },
    {
      "cell_type": "code",
      "metadata": {
        "id": "5p5HwOCEjlsd"
      },
      "source": [
        "from datetime import datetime\n",
        "from pyspark.sql.functions import col, udf\n",
        "from pyspark.sql.types import DateType"
      ],
      "execution_count": 10,
      "outputs": []
    },
    {
      "cell_type": "code",
      "metadata": {
        "colab": {
          "base_uri": "https://localhost:8080/"
        },
        "id": "dbyFIRMwjlzM",
        "outputId": "cfeff9f0-6696-40d8-c459-27a9b39893d1"
      },
      "source": [
        "# using lambda function to convert date col to datetype\n",
        "# changing datatypes of columns\n",
        "func =  udf (lambda x: datetime.strptime(x, '%m/%d/%Y'), DateType())\n",
        "df2 = df1.withColumn(\"Election\", df1[\"Election\"].cast(\"Integer\")) \\\n",
        "  .withColumn(\"OFFICECD\", df1[\"OFFICECD\"].cast(\"Integer\")) \\\n",
        "  .withColumn(\"CandidateID\", df1[\"CandidateID\"].cast(\"Integer\")) \\\n",
        "  .withColumn(\"ZipCode\", df1[\"ZipCode\"].cast(\"Integer\")) \\\n",
        "  .withColumn(\"Amount\", df1[\"Amount\"].cast(\"Float\")) \\\n",
        "  .withColumn(\"MatchAmt\", df1[\"MatchAmt\"].cast(\"Float\")) \\\n",
        "  .withColumn(\"PrevAmt\", df1[\"PrevAmt\"].cast(\"Float\")) \\\n",
        "  .withColumn('Date', func(col('Date')))\n",
        "df2.printSchema()"
      ],
      "execution_count": 11,
      "outputs": [
        {
          "output_type": "stream",
          "name": "stdout",
          "text": [
            "root\n",
            " |-- Election: integer (nullable = true)\n",
            " |-- OFFICECD: integer (nullable = true)\n",
            " |-- CandidateID: integer (nullable = true)\n",
            " |-- CANCLASS: string (nullable = true)\n",
            " |-- CandidateName: string (nullable = true)\n",
            " |-- Date: date (nullable = true)\n",
            " |-- Name: string (nullable = true)\n",
            " |-- ContributerType: string (nullable = true)\n",
            " |-- BoroughName: string (nullable = true)\n",
            " |-- City: string (nullable = true)\n",
            " |-- State: string (nullable = true)\n",
            " |-- ZipCode: integer (nullable = true)\n",
            " |-- ContributionState: string (nullable = true)\n",
            " |-- Amount: float (nullable = true)\n",
            " |-- MatchAmt: float (nullable = true)\n",
            " |-- PrevAmt: float (nullable = true)\n",
            " |-- PayMethod: string (nullable = true)\n",
            "\n"
          ]
        }
      ]
    },
    {
      "cell_type": "code",
      "metadata": {
        "id": "h1aCPuV3WPwC"
      },
      "source": [
        "#Change vaule name in ContributerType\n",
        "from pyspark.sql.functions import regexp_replace\n",
        "df3 = df2.withColumn('ContributerType', regexp_replace('ContributerType', 'CAN', 'Candidate')) \\\n",
        "  .withColumn('ContributerType', regexp_replace('ContributerType', 'CORP', 'Corporation')) \\\n",
        "  .withColumn('ContributerType', regexp_replace('ContributerType', 'EMPO', 'Labor Union')) \\\n",
        "  .withColumn('ContributerType', regexp_replace('ContributerType', 'FAM', 'Candidate Family')) \\\n",
        "  .withColumn('ContributerType', regexp_replace('ContributerType', 'IND', 'Individual')) \\\n",
        "  .withColumn('ContributerType', regexp_replace('ContributerType', 'PCOMZ', 'Party Committee')) \\\n",
        "  .withColumn('ContributerType', regexp_replace('ContributerType', 'ORG', 'Orgainization')) \\\n",
        "  .withColumn('ContributerType', regexp_replace('ContributerType', 'LLC', 'Limited Liability Company')) \\\n",
        "  .withColumn('ContributerType', regexp_replace('ContributerType', 'PCOMP', 'Political Action Committee')) \\\n",
        "  .withColumn('ContributerType', regexp_replace('ContributerType', 'SPO', 'Spouse')) \\\n",
        "  .withColumn('ContributerType', regexp_replace('ContributerType', 'OTHR', 'Other')) \\\n",
        "  .withColumn('ContributerType', regexp_replace('ContributerType', 'PCOMC', 'Candidate Committee')) \\\n",
        "  .withColumn('ContributerType', regexp_replace('ContributerType', 'PART', 'Individual')) \\\n"
      ],
      "execution_count": 12,
      "outputs": []
    },
    {
      "cell_type": "code",
      "metadata": {
        "id": "EDLKVpihXzJY"
      },
      "source": [
        "#Change Payment Method Name\n",
        "df4=df3.withColumn('PayMethod', regexp_replace('PayMethod','0','Unknown')) \\\n",
        "  .withColumn('PayMethod', regexp_replace('PayMethod','1','Cash')) \\\n",
        "  .withColumn('PayMethod', regexp_replace('PayMethod','2','Check')) \\\n",
        "  .withColumn('PayMethod', regexp_replace('PayMethod','3','Other')) \\\n",
        "  .withColumn('PayMethod', regexp_replace('PayMethod','4','Credit Card')) \\\n",
        "  .withColumn('PayMethod', regexp_replace('PayMethod','5','Money Order')) \\"
      ],
      "execution_count": 13,
      "outputs": []
    },
    {
      "cell_type": "code",
      "metadata": {
        "id": "fy4JAvyQWRl7"
      },
      "source": [
        "#Change Borough name\n",
        "from pyspark.sql.functions import regexp_replace\n",
        "df5 = df4.withColumn('BoroughName', regexp_replace('BoroughName', 'K', 'Brooklyn')) \\\n",
        "  .withColumn('BoroughName', regexp_replace('BoroughName', 'M', 'Manhattan')) \\\n",
        "  .withColumn('BoroughName', regexp_replace('BoroughName', 'Q', 'Queens')) \\\n",
        "  .withColumn('BoroughName', regexp_replace('BoroughName', 'S', 'Staten Island')) \\\n",
        "  .withColumn('BoroughName', regexp_replace('BoroughName', 'X', 'Bronx')) \\\n",
        "  .withColumn('BoroughName', regexp_replace('BoroughName', 'Z', 'Other')) \\\n"
      ],
      "execution_count": 14,
      "outputs": []
    },
    {
      "cell_type": "code",
      "metadata": {
        "colab": {
          "base_uri": "https://localhost:8080/"
        },
        "id": "fM_kC3ViNFqN",
        "outputId": "4d07c8f9-b8bc-45ab-fa5e-b2134c9259c9"
      },
      "source": [
        "#Call only Mayor (1) and particaptes (P) within Dataframe\n",
        "df6 = df5.filter((df5.OFFICECD==\"1\") & (df5.CANCLASS==\"P\"))\n",
        "df6.show()"
      ],
      "execution_count": 15,
      "outputs": [
        {
          "output_type": "stream",
          "name": "stdout",
          "text": [
            "+--------+--------+-----------+--------+------------------+----------+--------------------+---------------+-----------+-----------+-----+-------+------------------+------+--------+-------+-----------+\n",
            "|Election|OFFICECD|CandidateID|CANCLASS|     CandidateName|      Date|                Name|ContributerType|BoroughName|       City|State|ZipCode| ContributionState|Amount|MatchAmt|PrevAmt|  PayMethod|\n",
            "+--------+--------+-----------+--------+------------------+----------+--------------------+---------------+-----------+-----------+-----+-------+------------------+------+--------+-------+-----------+\n",
            "|    2021|       1|       2563|       P|Tirschwell, Sara A|2021-03-06|       \"\"\"Dombrowski|           null|       null|       null| null|   null|600 Madison Avenue|  null|    null| 2000.0|    Unknown|\n",
            "|    2021|       1|       2303|       P|    Donovan, Shaun|2020-10-08|       Aaron, Amanda|     Individual|   Brooklyn|   Brooklyn|   NY|  11215|                NY| 100.0|     0.0|    0.0|Credit Card|\n",
            "|    2021|       1|       1160|       P|   Diaz Jr., Ruben|2018-06-26|Abakporo, Theophi...|     Individual|   Brooklyn|   Brooklyn|   NY|  11236|                NY| 250.0|     0.0|    0.0|      Check|\n",
            "|    2021|       1|       1160|       P|   Diaz Jr., Ruben|2018-06-26|Abakporo, Theophi...|     Individual|   Brooklyn|   Brooklyn|   NY|  11236|              null|-250.0|     0.0|    0.0|    Unknown|\n",
            "|    2021|       1|       2303|       P|    Donovan, Shaun|2021-01-06|   abbatiello, frank|     Individual|      Other|  Uniondale|   NY|  11553|                NY| 500.0|     0.0|    0.0|Credit Card|\n",
            "|    2021|       1|       2303|       P|    Donovan, Shaun|2021-02-24|       Abbey, Leslie|     Individual|  Manhattan|   New York|   NY|  10013|                NY| 250.0|     0.0|    0.0|Credit Card|\n",
            "|    2021|       1|       1160|       P|   Diaz Jr., Ruben|2018-12-12|    Abbott, Marshall|     Individual|  Manhattan|   New York|   NY|  10003|                TN|2500.0|   175.0|    0.0|Credit Card|\n",
            "|    2021|       1|       1160|       P|   Diaz Jr., Ruben|2019-09-24|   Abdallah, Ahmad S|     Individual|   Brooklyn|   Brooklyn|   NY|  11231|                NY| 200.0|     0.0|    0.0|      Check|\n",
            "|    2021|       1|       1160|       P|   Diaz Jr., Ruben|2019-09-24|   Abdallah, Ahmad S|     Individual|   Brooklyn|   Brooklyn|   NY|  11231|              null|-200.0|     0.0|    0.0|    Unknown|\n",
            "|    2021|       1|       1160|       P|   Diaz Jr., Ruben|2019-04-02|      Abdallh, Waael|     Individual|     Queens|    Astoria|   NY|  11105|                NY|  25.0|     0.0|    0.0|Credit Card|\n",
            "|    2021|       1|       1160|       P|   Diaz Jr., Ruben|2019-04-02|      Abdallh, Waael|     Individual|     Queens|    Astoria|   NY|  11105|              null| -25.0|     0.0|    0.0|    Unknown|\n",
            "|    2021|       1|       2303|       P|    Donovan, Shaun|2021-03-07|         Abel, David|     Individual|      Other|Los Angeles|   CA|  90017|                CA| 200.0|     0.0|    0.0|Credit Card|\n",
            "|    2021|       1|       2303|       P|    Donovan, Shaun|2021-02-11|         Abend, Mike|     Individual|  Manhattan|   New York|   NY|  10012|                NY|  30.0|    30.0|    0.0|Credit Card|\n",
            "|    2021|       1|       2279|       P|   Sutton, Loree K|2020-07-26|        Abene, Donna|     Individual|      Other|   Westwood|   NJ|   7677|              null|  20.0|     0.0|    0.0|Credit Card|\n",
            "|    2021|       1|       2563|       P|Tirschwell, Sara A|2021-04-22|        ABITOL, ARIE|     Individual|     Queens|    Jamaica|   NY|  11427|                NY|  25.0|     0.0|    0.0|Credit Card|\n",
            "|    2021|       1|       2303|       P|    Donovan, Shaun|2021-01-05|     Aboelnaga, Mona|     Individual|      Other| Water Mill|   NY|  11976|                NY| 250.0|     0.0|    0.0|Credit Card|\n",
            "|    2021|       1|       1160|       P|   Diaz Jr., Ruben|2018-07-12|      Aboufares, Ali|     Individual|  Manhattan|   New York|   NY|  10282|                NY| 500.0|     0.0|    0.0|Credit Card|\n",
            "|    2021|       1|       1160|       P|   Diaz Jr., Ruben|2018-07-12|      Aboufares, Ali|     Individual|  Manhattan|   New York|   NY|  10282|              null|-500.0|     0.0|    0.0|    Unknown|\n",
            "|    2021|       1|       2303|       P|    Donovan, Shaun|2021-03-08|     Abraham, Laurie|     Individual|   Brooklyn|   Brooklyn|   NY|  11225|                NY| 100.0|   100.0|    0.0|Credit Card|\n",
            "|    2021|       1|       2303|       P|    Donovan, Shaun|2021-02-21|       Abrahams, Jed|     Individual|  Manhattan|   New York|   NY|  10024|                NY| 100.0|   100.0|    0.0|Credit Card|\n",
            "+--------+--------+-----------+--------+------------------+----------+--------------------+---------------+-----------+-----------+-----+-------+------------------+------+--------+-------+-----------+\n",
            "only showing top 20 rows\n",
            "\n"
          ]
        }
      ]
    },
    {
      "cell_type": "code",
      "metadata": {
        "colab": {
          "base_uri": "https://localhost:8080/"
        },
        "id": "WmdLbDEzQAyc",
        "outputId": "c93e803e-cc28-4616-db43-878d8e56ec54"
      },
      "source": [
        "#Check the above dataframe to make sure only unique values between the OFFICECD is 1 \n",
        "df6.select('OFFICECD').distinct().show()"
      ],
      "execution_count": 16,
      "outputs": [
        {
          "output_type": "stream",
          "name": "stdout",
          "text": [
            "+--------+\n",
            "|OFFICECD|\n",
            "+--------+\n",
            "|       1|\n",
            "+--------+\n",
            "\n"
          ]
        }
      ]
    },
    {
      "cell_type": "code",
      "metadata": {
        "colab": {
          "base_uri": "https://localhost:8080/"
        },
        "id": "4kbDs5ApZtEu",
        "outputId": "09f73a18-0d09-45ba-acb4-9166427946b2"
      },
      "source": [
        "#Drop OFFICECD and CANCLASS\n",
        "list2 = ['OFFICECD', 'CANCLASS'] \n",
        "df7 = df6.drop(*list2)\n",
        "df7.show()"
      ],
      "execution_count": 17,
      "outputs": [
        {
          "output_type": "stream",
          "name": "stdout",
          "text": [
            "+--------+-----------+------------------+----------+--------------------+---------------+-----------+-----------+-----+-------+------------------+------+--------+-------+-----------+\n",
            "|Election|CandidateID|     CandidateName|      Date|                Name|ContributerType|BoroughName|       City|State|ZipCode| ContributionState|Amount|MatchAmt|PrevAmt|  PayMethod|\n",
            "+--------+-----------+------------------+----------+--------------------+---------------+-----------+-----------+-----+-------+------------------+------+--------+-------+-----------+\n",
            "|    2021|       2563|Tirschwell, Sara A|2021-03-06|       \"\"\"Dombrowski|           null|       null|       null| null|   null|600 Madison Avenue|  null|    null| 2000.0|    Unknown|\n",
            "|    2021|       2303|    Donovan, Shaun|2020-10-08|       Aaron, Amanda|     Individual|   Brooklyn|   Brooklyn|   NY|  11215|                NY| 100.0|     0.0|    0.0|Credit Card|\n",
            "|    2021|       1160|   Diaz Jr., Ruben|2018-06-26|Abakporo, Theophi...|     Individual|   Brooklyn|   Brooklyn|   NY|  11236|                NY| 250.0|     0.0|    0.0|      Check|\n",
            "|    2021|       1160|   Diaz Jr., Ruben|2018-06-26|Abakporo, Theophi...|     Individual|   Brooklyn|   Brooklyn|   NY|  11236|              null|-250.0|     0.0|    0.0|    Unknown|\n",
            "|    2021|       2303|    Donovan, Shaun|2021-01-06|   abbatiello, frank|     Individual|      Other|  Uniondale|   NY|  11553|                NY| 500.0|     0.0|    0.0|Credit Card|\n",
            "|    2021|       2303|    Donovan, Shaun|2021-02-24|       Abbey, Leslie|     Individual|  Manhattan|   New York|   NY|  10013|                NY| 250.0|     0.0|    0.0|Credit Card|\n",
            "|    2021|       1160|   Diaz Jr., Ruben|2018-12-12|    Abbott, Marshall|     Individual|  Manhattan|   New York|   NY|  10003|                TN|2500.0|   175.0|    0.0|Credit Card|\n",
            "|    2021|       1160|   Diaz Jr., Ruben|2019-09-24|   Abdallah, Ahmad S|     Individual|   Brooklyn|   Brooklyn|   NY|  11231|                NY| 200.0|     0.0|    0.0|      Check|\n",
            "|    2021|       1160|   Diaz Jr., Ruben|2019-09-24|   Abdallah, Ahmad S|     Individual|   Brooklyn|   Brooklyn|   NY|  11231|              null|-200.0|     0.0|    0.0|    Unknown|\n",
            "|    2021|       1160|   Diaz Jr., Ruben|2019-04-02|      Abdallh, Waael|     Individual|     Queens|    Astoria|   NY|  11105|                NY|  25.0|     0.0|    0.0|Credit Card|\n",
            "|    2021|       1160|   Diaz Jr., Ruben|2019-04-02|      Abdallh, Waael|     Individual|     Queens|    Astoria|   NY|  11105|              null| -25.0|     0.0|    0.0|    Unknown|\n",
            "|    2021|       2303|    Donovan, Shaun|2021-03-07|         Abel, David|     Individual|      Other|Los Angeles|   CA|  90017|                CA| 200.0|     0.0|    0.0|Credit Card|\n",
            "|    2021|       2303|    Donovan, Shaun|2021-02-11|         Abend, Mike|     Individual|  Manhattan|   New York|   NY|  10012|                NY|  30.0|    30.0|    0.0|Credit Card|\n",
            "|    2021|       2279|   Sutton, Loree K|2020-07-26|        Abene, Donna|     Individual|      Other|   Westwood|   NJ|   7677|              null|  20.0|     0.0|    0.0|Credit Card|\n",
            "|    2021|       2563|Tirschwell, Sara A|2021-04-22|        ABITOL, ARIE|     Individual|     Queens|    Jamaica|   NY|  11427|                NY|  25.0|     0.0|    0.0|Credit Card|\n",
            "|    2021|       2303|    Donovan, Shaun|2021-01-05|     Aboelnaga, Mona|     Individual|      Other| Water Mill|   NY|  11976|                NY| 250.0|     0.0|    0.0|Credit Card|\n",
            "|    2021|       1160|   Diaz Jr., Ruben|2018-07-12|      Aboufares, Ali|     Individual|  Manhattan|   New York|   NY|  10282|                NY| 500.0|     0.0|    0.0|Credit Card|\n",
            "|    2021|       1160|   Diaz Jr., Ruben|2018-07-12|      Aboufares, Ali|     Individual|  Manhattan|   New York|   NY|  10282|              null|-500.0|     0.0|    0.0|    Unknown|\n",
            "|    2021|       2303|    Donovan, Shaun|2021-03-08|     Abraham, Laurie|     Individual|   Brooklyn|   Brooklyn|   NY|  11225|                NY| 100.0|   100.0|    0.0|Credit Card|\n",
            "|    2021|       2303|    Donovan, Shaun|2021-02-21|       Abrahams, Jed|     Individual|  Manhattan|   New York|   NY|  10024|                NY| 100.0|   100.0|    0.0|Credit Card|\n",
            "+--------+-----------+------------------+----------+--------------------+---------------+-----------+-----------+-----+-------+------------------+------+--------+-------+-----------+\n",
            "only showing top 20 rows\n",
            "\n"
          ]
        }
      ]
    },
    {
      "cell_type": "code",
      "metadata": {
        "id": "j4uude7r_d_-"
      },
      "source": [
        "#Filter Dataframe removing the null CandidateID values\n",
        "df8 = df7.filter(df7.CandidateID.isNotNull())"
      ],
      "execution_count": 18,
      "outputs": []
    },
    {
      "cell_type": "code",
      "metadata": {
        "colab": {
          "base_uri": "https://localhost:8080/"
        },
        "id": "jKdRMcW-9mtO",
        "outputId": "92d29cf1-e56f-48d4-f58e-ebe1bcd8a4eb"
      },
      "source": [
        "# ADD AMNT and MATCHAMNT PrevAmnt\n",
        "from pyspark.sql.functions import col\n",
        "clean_indiv_2021_df = df8.withColumn(\"TotalAmount\", col(\"Amount\")+col(\"MatchAmt\")+col('PrevAmt'))\n",
        "clean_indiv_2021_df.show()"
      ],
      "execution_count": 19,
      "outputs": [
        {
          "output_type": "stream",
          "name": "stdout",
          "text": [
            "+--------+-----------+------------------+----------+--------------------+---------------+-----------+-----------+-----+-------+------------------+------+--------+-------+-----------+-----------+\n",
            "|Election|CandidateID|     CandidateName|      Date|                Name|ContributerType|BoroughName|       City|State|ZipCode| ContributionState|Amount|MatchAmt|PrevAmt|  PayMethod|TotalAmount|\n",
            "+--------+-----------+------------------+----------+--------------------+---------------+-----------+-----------+-----+-------+------------------+------+--------+-------+-----------+-----------+\n",
            "|    2021|       2563|Tirschwell, Sara A|2021-03-06|       \"\"\"Dombrowski|           null|       null|       null| null|   null|600 Madison Avenue|  null|    null| 2000.0|    Unknown|       null|\n",
            "|    2021|       2303|    Donovan, Shaun|2020-10-08|       Aaron, Amanda|     Individual|   Brooklyn|   Brooklyn|   NY|  11215|                NY| 100.0|     0.0|    0.0|Credit Card|      100.0|\n",
            "|    2021|       1160|   Diaz Jr., Ruben|2018-06-26|Abakporo, Theophi...|     Individual|   Brooklyn|   Brooklyn|   NY|  11236|                NY| 250.0|     0.0|    0.0|      Check|      250.0|\n",
            "|    2021|       1160|   Diaz Jr., Ruben|2018-06-26|Abakporo, Theophi...|     Individual|   Brooklyn|   Brooklyn|   NY|  11236|              null|-250.0|     0.0|    0.0|    Unknown|     -250.0|\n",
            "|    2021|       2303|    Donovan, Shaun|2021-01-06|   abbatiello, frank|     Individual|      Other|  Uniondale|   NY|  11553|                NY| 500.0|     0.0|    0.0|Credit Card|      500.0|\n",
            "|    2021|       2303|    Donovan, Shaun|2021-02-24|       Abbey, Leslie|     Individual|  Manhattan|   New York|   NY|  10013|                NY| 250.0|     0.0|    0.0|Credit Card|      250.0|\n",
            "|    2021|       1160|   Diaz Jr., Ruben|2018-12-12|    Abbott, Marshall|     Individual|  Manhattan|   New York|   NY|  10003|                TN|2500.0|   175.0|    0.0|Credit Card|     2675.0|\n",
            "|    2021|       1160|   Diaz Jr., Ruben|2019-09-24|   Abdallah, Ahmad S|     Individual|   Brooklyn|   Brooklyn|   NY|  11231|                NY| 200.0|     0.0|    0.0|      Check|      200.0|\n",
            "|    2021|       1160|   Diaz Jr., Ruben|2019-09-24|   Abdallah, Ahmad S|     Individual|   Brooklyn|   Brooklyn|   NY|  11231|              null|-200.0|     0.0|    0.0|    Unknown|     -200.0|\n",
            "|    2021|       1160|   Diaz Jr., Ruben|2019-04-02|      Abdallh, Waael|     Individual|     Queens|    Astoria|   NY|  11105|                NY|  25.0|     0.0|    0.0|Credit Card|       25.0|\n",
            "|    2021|       1160|   Diaz Jr., Ruben|2019-04-02|      Abdallh, Waael|     Individual|     Queens|    Astoria|   NY|  11105|              null| -25.0|     0.0|    0.0|    Unknown|      -25.0|\n",
            "|    2021|       2303|    Donovan, Shaun|2021-03-07|         Abel, David|     Individual|      Other|Los Angeles|   CA|  90017|                CA| 200.0|     0.0|    0.0|Credit Card|      200.0|\n",
            "|    2021|       2303|    Donovan, Shaun|2021-02-11|         Abend, Mike|     Individual|  Manhattan|   New York|   NY|  10012|                NY|  30.0|    30.0|    0.0|Credit Card|       60.0|\n",
            "|    2021|       2279|   Sutton, Loree K|2020-07-26|        Abene, Donna|     Individual|      Other|   Westwood|   NJ|   7677|              null|  20.0|     0.0|    0.0|Credit Card|       20.0|\n",
            "|    2021|       2563|Tirschwell, Sara A|2021-04-22|        ABITOL, ARIE|     Individual|     Queens|    Jamaica|   NY|  11427|                NY|  25.0|     0.0|    0.0|Credit Card|       25.0|\n",
            "|    2021|       2303|    Donovan, Shaun|2021-01-05|     Aboelnaga, Mona|     Individual|      Other| Water Mill|   NY|  11976|                NY| 250.0|     0.0|    0.0|Credit Card|      250.0|\n",
            "|    2021|       1160|   Diaz Jr., Ruben|2018-07-12|      Aboufares, Ali|     Individual|  Manhattan|   New York|   NY|  10282|                NY| 500.0|     0.0|    0.0|Credit Card|      500.0|\n",
            "|    2021|       1160|   Diaz Jr., Ruben|2018-07-12|      Aboufares, Ali|     Individual|  Manhattan|   New York|   NY|  10282|              null|-500.0|     0.0|    0.0|    Unknown|     -500.0|\n",
            "|    2021|       2303|    Donovan, Shaun|2021-03-08|     Abraham, Laurie|     Individual|   Brooklyn|   Brooklyn|   NY|  11225|                NY| 100.0|   100.0|    0.0|Credit Card|      200.0|\n",
            "|    2021|       2303|    Donovan, Shaun|2021-02-21|       Abrahams, Jed|     Individual|  Manhattan|   New York|   NY|  10024|                NY| 100.0|   100.0|    0.0|Credit Card|      200.0|\n",
            "+--------+-----------+------------------+----------+--------------------+---------------+-----------+-----------+-----+-------+------------------+------+--------+-------+-----------+-----------+\n",
            "only showing top 20 rows\n",
            "\n"
          ]
        }
      ]
    },
    {
      "cell_type": "code",
      "metadata": {
        "id": "oAV3a6jXmJTP"
      },
      "source": [
        "#Export to Clean CSV\n",
        "#clean_indiv_2021_df.toPandas().to_csv(\"Clean_Indivdual_2021.csv\", header=True)"
      ],
      "execution_count": 20,
      "outputs": []
    },
    {
      "cell_type": "markdown",
      "metadata": {
        "id": "1t7gDM4IKH8Y"
      },
      "source": [
        "## **2021 Committee Contributions**"
      ]
    },
    {
      "cell_type": "code",
      "metadata": {
        "colab": {
          "base_uri": "https://localhost:8080/"
        },
        "id": "hraQT1VmLOhL",
        "outputId": "be2fc8f2-c31f-4a33-d639-00342fc80cd6"
      },
      "source": [
        "# Read in data from S3 Buckets\n",
        "from pyspark import SparkFiles\n",
        "url = \"https://databootcamp-final-05.s3.amazonaws.com/Resources/Committee+Contributions+2021+(UF).csv\"\n",
        "spark.sparkContext.addFile(url)\n",
        "df = spark.read.csv(SparkFiles.get(\"Committee+Contributions+2021+(UF).csv\"), sep=\",\", header=True)\n",
        "df.show()"
      ],
      "execution_count": 21,
      "outputs": [
        {
          "output_type": "stream",
          "name": "stdout",
          "text": [
            "+--------+--------+-------+--------+--------------------+---------+------+--------+------+----------+--------+----------+----------+--------------------+------+-----+-------+---------+---------+---------------+-----+-----+----------+-------------+--------+-------------------+--------+--------+------+---------+--------+----------+--------+----------+--------+--------+--------+-------+-----+------+----------+----------+----------+----------+--------+---------+---------+--------+---------+------+-------+----------+\n",
            "|ELECTION|OFFICECD|RECIPID|CANCLASS|           RECIPNAME|COMMITTEE|FILING|SCHEDULE|PAGENO|SEQUENCENO|   REFNO|      DATE|REFUNDDATE|                NAME|C_CODE|STRNO|STRNAME|APARTMENT|BOROUGHCD|           CITY|STATE|  ZIP|OCCUPATION|      EMPNAME|EMPSTRNO|         EMPSTRNAME| EMPCITY|EMPSTATE|  AMNT|MATCHAMNT|PREVAMNT|PAY_METHOD|INTERMNO|INTERMNAME|INTSTRNO|INTSTRNM|INTAPTNO|INTCITY|INTST|INTZIP|INTEMPNAME|INTEMPSTNO|INTEMPSTNM|INTEMPCITY|INTEMPST|INTOCCUPA|PURPOSECD|EXEMPTCD|ADJTYPECD|RR_IND|SEG_IND|INT_C_CODE|\n",
            "+--------+--------+-------+--------+--------------------+---------+------+--------+------+----------+--------+----------+----------+--------------------+------+-----+-------+---------+---------+---------------+-----+-----+----------+-------------+--------+-------------------+--------+--------+------+---------+--------+----------+--------+----------+--------+--------+--------+-------+-----+------+----------+----------+----------+----------+--------+---------+---------+--------+---------+------+-------+----------+\n",
            "|    2021|      11|   2393|       P|       Wiley, Maya D|        H|     7|     ABC|  null|      null|R0045094| 3/11/2021|      null|1199 SEIU United ...| PCOMP| null|   null|     null|        M|       New York|   NY|10036|      null|         null|    null|               null|    null|    null|  2000|        0|       0|         3|    null|      null|    null|    null|    null|   null| null|  null|      null|      null|      null|      null|    null|     null|     null|    null|     null|     N|      N|      null|\n",
            "|    2021|      11|   2393|       P|       Wiley, Maya D|        H|     9|     ABC|  null|      null|R0080017|  6/3/2021|      null| 504 Democratic Club|  OTHR| null|   null|     null|        M|       New York|   NY|10016|      null|         null|    null|               null|    null|    null|   504|        0|       0|         2|    null|      null|    null|    null|    null|   null| null|  null|      null|      null|      null|      null|    null|     null|     null|    null|     null|     N|      N|      null|\n",
            "|    2021|      11|   2393|       P|       Wiley, Maya D|        H|    10|       M|  null|      null|R0099617|  6/3/2021|  7/1/2021| 504 Democratic Club|  OTHR| null|   null|     null|        M|       New York|   NY|10016|      null|         null|    null|               null|    null|    null|  -504|        0|       0|         0|    null|      null|    null|    null|    null|   null| null|  null|      null|      null|      null|      null|    null|     null|     null|    null|        2|     N|      N|      null|\n",
            "|    2021|      11|   2546|       P|        Yang, Andrew|        H|     7|     ABC|  null|      null|R0005657| 1/29/2021|      null|798 Habitat Inc, Liu|  CORP| null|   null|     null|        Q|    Little Neck|   NY|11363|Contractor|Self Employed|    3914|little neck parkway|New York|      NY| 10.28|        0|     100|         4|    null|      null|    null|    null|    null|   null| null|  null|      null|      null|      null|      null|    null|     null|     null|    null|     null|     N|      N|      null|\n",
            "|    2021|      11|   2546|       P|        Yang, Andrew|        H|     7|     ABC|  null|      null|R0028964| 1/13/2021|      null|798 Habitat Inc, Liu|  CORP| null|   null|     null|        Q|    Little Neck|   NY|11363|Contractor|Self Employed|    3914|little neck parkway|New York|      NY|   100|        0|       0|         4|    null|      null|    null|    null|    null|   null| null|  null|      null|      null|      null|      null|    null|     null|     null|    null|     null|     N|      N|      null|\n",
            "|    2021|      11|   2546|       P|        Yang, Andrew|        H|     7|       M|  null|      null|R0053469| 1/13/2021| 3/11/2021|798 Habitat Inc, Liu|  CORP| null|   null|     null|        Q|    Little Neck|   NY|11363|      null|         null|    null|               null|    null|    null|  -100|        0|       0|         0|    null|      null|    null|    null|    null|   null| null|  null|      null|      null|      null|      null|    null|     null|     null|    null|        2|     N|      N|      null|\n",
            "|    2021|      11|   2546|       P|        Yang, Andrew|        H|     7|       M|  null|      null|R0053470| 1/29/2021| 3/11/2021|798 Habitat Inc, Liu|  CORP| null|   null|     null|        Q|    Little Neck|   NY|11363|      null|         null|    null|               null|    null|    null|-10.28|        0|       0|         0|    null|      null|    null|    null|    null|   null| null|  null|      null|      null|      null|      null|    null|     null|     null|    null|        2|     N|      N|      null|\n",
            "|    2021|      11|    148|       P|   Stringer, Scott M|        R|     2|     ABC|  null|      null|R0034369|10/26/2018|      null|ACEC New York Cit...| PCOMP| null|   null|     null|        M|       New York|   NY|10018|      null|         null|    null|               null|    null|    null|  3950|        0|       0|         2|    null|      null|    null|    null|    null|   null| null|  null|      null|      null|      null|      null|    null|     null|     null|    null|     null|     N|      N|      null|\n",
            "|    2021|      11|    148|       P|   Stringer, Scott M|        R|     3|       M|  null|      null|R0038892|10/26/2018| 1/10/2019|ACEC New York Cit...| PCOMP| null|   null|     null|        M|       New York|   NY|10018|      null|         null|    null|               null|    null|    null|  -850|        0|       0|         0|    null|      null|    null|    null|    null|   null| null|  null|      null|      null|      null|      null|    null|     null|     null|    null|        2|     N|      N|      null|\n",
            "|    2021|      11|    148|       P|   Stringer, Scott M|        R|     4|       M|  null|      null|R0042768|10/26/2018|  1/8/2020|ACEC New York Cit...| PCOMP| null|   null|     null|        M|       New York|   NY|10018|      null|         null|    null|               null|    null|    null| -1100|        0|       0|         0|    null|      null|    null|    null|    null|   null| null|  null|      null|      null|      null|      null|    null|     null|     null|    null|        2|     N|      N|      null|\n",
            "|    2021|      11|   1545|       P|       Adams, Eric L|        L|    11|     ABC|  null|      null|R0059525|  8/3/2021|      null|ACEC NEW YORK CIT...| PCOMP| null|   null|     null|        M|       New York|   NY|10018|      null|         null|    null|               null|    null|    null|  2000|        0|       0|         2|    null|      null|    null|    null|    null|   null| null|  null|      null|      null|      null|      null|    null|     null|     null|    null|     null|     N|      N|      null|\n",
            "|    2021|      11|    148|       P|   Stringer, Scott M|        R|     8|     ABC|  null|      null|R0060213| 3/23/2021|      null|AIA New York Poli...| PCOMP| null|   null|     null|        M|       New York|   NY|10012|      null|         null|    null|               null|    null|    null|  1000|        0|       0|         2|    null|      null|    null|    null|    null|   null| null|  null|      null|      null|      null|      null|    null|     null|     null|    null|     null|     N|      N|      null|\n",
            "|    2021|      11|    148|       P|   Stringer, Scott M|        R|     8|     ABC|  null|      null|R0065208|  5/4/2021|      null|Allied Printing T...|  EMPO| null|   null|     null|        Z|          Union|   NJ| 7083|      null|         null|    null|               null|    null|    null|  2000|        0|       0|         2|    null|      null|    null|    null|    null|   null| null|  null|      null|      null|      null|      null|    null|     null|     null|    null|     null|     N|      N|      null|\n",
            "|    2021|      11|   1545|       P|       Adams, Eric L|        L|     8|     ABC|  null|      null|R0034795| 4/30/2021|      null|American Federati...|  EMPO| null|   null|     null|        M|       New York|   NY|10007|      null|         null|    null|               null|    null|    null|   500|        0|       0|         2|    null|      null|    null|    null|    null|   null| null|  null|      null|      null|      null|      null|    null|     null|     null|    null|     null|     N|      N|      null|\n",
            "|    2021|      11|   1545|       P|       Adams, Eric L|        L|    11|     ABC|  null|      null|R0061298| 8/15/2021|      null|     AMOA-NY PAC INC| PCOMP| null|   null|     null|        Q|       Woodside|   NY|11377|      null|         null|    null|               null|    null|    null|  1000|        0|       0|         2|    null|      null|    null|    null|    null|   null| null|  null|      null|      null|      null|      null|    null|     null|     null|    null|     null|     N|      N|      null|\n",
            "|    2021|      11|    148|       P|   Stringer, Scott M|        R|     6|     ABC|  null|      null|R0053096| 1/11/2021|      null|ATU New York Cope...| PCOMP| null|   null|     null|        Z|  Silver Spring|   MD|20903|      null|         null|    null|               null|    null|    null|   750|        0|       0|         2|    null|      null|    null|    null|    null|   null| null|  null|      null|      null|      null|      null|    null|     null|     null|    null|     null|     N|      N|      null|\n",
            "|    2021|      11|   1545|       P|       Adams, Eric L|        L|     6|     ABC|  null|      null|R0029534| 1/11/2021|      null|ATU New York Cope...| PCOMP| null|   null|     null|        Z|  Silver Spring|   MD|20903|      null|         null|    null|               null|    null|    null|   750|        0|       0|         2|    null|      null|    null|    null|    null|   null| null|  null|      null|      null|      null|      null|    null|     null|     null|    null|     null|     N|      N|      null|\n",
            "|    2021|      11|   1752|       P|Laurel-Smith, Abb...|        K|     8|       M|  null|      null|R0000282|  3/2/2021| 5/10/2021|       Bagels & More|  OTHR| null|   null|     null|        K|       Brooklyn|   NY|11206|      null|         null|    null|               null|    null|    null|  -400|        0|       0|         0|    null|      null|    null|    null|    null|   null| null|  null|      null|      null|      null|      null|    null|     null|     null|    null|        2|     N|      N|      null|\n",
            "|    2021|      11|    148|       P|   Stringer, Scott M|        R|    10|     ABC|  null|      null|R0071315| 6/22/2021|      null|Bricklayers & All...| PCOMP| null|   null|     null|        Q|Long Island Cit|   NY|11101|      null|         null|    null|               null|    null|    null|  1500|        0|       0|         2|    null|      null|    null|    null|    null|   null| null|  null|      null|      null|      null|      null|    null|     null|     null|    null|     null|     N|      N|      null|\n",
            "|    2021|      11|    148|       P|   Stringer, Scott M|        R|     2|     ABC|  null|      null|R0034292| 9/20/2018|      null|Building and Cons...| PCOMP| null|   null|     null|        M|       New York|   NY|10010|      null|         null|    null|               null|    null|    null|  3000|        0|       0|         2|    null|      null|    null|    null|    null|   null| null|  null|      null|      null|      null|      null|    null|     null|     null|    null|     null|     N|      N|      null|\n",
            "+--------+--------+-------+--------+--------------------+---------+------+--------+------+----------+--------+----------+----------+--------------------+------+-----+-------+---------+---------+---------------+-----+-----+----------+-------------+--------+-------------------+--------+--------+------+---------+--------+----------+--------+----------+--------+--------+--------+-------+-----+------+----------+----------+----------+----------+--------+---------+---------+--------+---------+------+-------+----------+\n",
            "only showing top 20 rows\n",
            "\n"
          ]
        }
      ]
    },
    {
      "cell_type": "code",
      "metadata": {
        "colab": {
          "base_uri": "https://localhost:8080/"
        },
        "id": "S-dAX_VzLOhL",
        "outputId": "e393794e-f4f4-41c8-e2c3-2e302a408900"
      },
      "source": [
        "# Remove multiple columns\n",
        "list = ['COMMITTEE', 'FILING', 'SCHEDULE', 'PAGENO', 'SEQUENCENO','REFNO', 'STRNO', 'STRNAME', 'APARTMENT', 'OCCUPATION', 'EMPNAME', 'EMPSTRNO', 'EMPSTRNAME',\n",
        "                'EMPCITY','REFUNDDATE','INTERMNO', 'INTERMNAME', 'INTSTRNO', 'INTSTRNM', 'INTSTRNM', 'INTAPTNO',\n",
        "                'INTCITY', 'INTST','INTZIP', 'INTEMPNAME', 'INTEMPSTNO', 'INTEMPSTNM', 'INTEMPCITY', 'INTEMPST', 'INTOCCUPA' ,'PURPOSECD', 'EXEMPTCD','ADJTYPECD', 'RR_IND', 'SEG_IND','INT_C_CODE'] \n",
        "df = df.drop(*list)\n",
        "df.show()"
      ],
      "execution_count": 22,
      "outputs": [
        {
          "output_type": "stream",
          "name": "stdout",
          "text": [
            "+--------+--------+-------+--------+--------------------+----------+--------------------+------+---------+---------------+-----+-----+--------+------+---------+--------+----------+\n",
            "|ELECTION|OFFICECD|RECIPID|CANCLASS|           RECIPNAME|      DATE|                NAME|C_CODE|BOROUGHCD|           CITY|STATE|  ZIP|EMPSTATE|  AMNT|MATCHAMNT|PREVAMNT|PAY_METHOD|\n",
            "+--------+--------+-------+--------+--------------------+----------+--------------------+------+---------+---------------+-----+-----+--------+------+---------+--------+----------+\n",
            "|    2021|      11|   2393|       P|       Wiley, Maya D| 3/11/2021|1199 SEIU United ...| PCOMP|        M|       New York|   NY|10036|    null|  2000|        0|       0|         3|\n",
            "|    2021|      11|   2393|       P|       Wiley, Maya D|  6/3/2021| 504 Democratic Club|  OTHR|        M|       New York|   NY|10016|    null|   504|        0|       0|         2|\n",
            "|    2021|      11|   2393|       P|       Wiley, Maya D|  6/3/2021| 504 Democratic Club|  OTHR|        M|       New York|   NY|10016|    null|  -504|        0|       0|         0|\n",
            "|    2021|      11|   2546|       P|        Yang, Andrew| 1/29/2021|798 Habitat Inc, Liu|  CORP|        Q|    Little Neck|   NY|11363|      NY| 10.28|        0|     100|         4|\n",
            "|    2021|      11|   2546|       P|        Yang, Andrew| 1/13/2021|798 Habitat Inc, Liu|  CORP|        Q|    Little Neck|   NY|11363|      NY|   100|        0|       0|         4|\n",
            "|    2021|      11|   2546|       P|        Yang, Andrew| 1/13/2021|798 Habitat Inc, Liu|  CORP|        Q|    Little Neck|   NY|11363|    null|  -100|        0|       0|         0|\n",
            "|    2021|      11|   2546|       P|        Yang, Andrew| 1/29/2021|798 Habitat Inc, Liu|  CORP|        Q|    Little Neck|   NY|11363|    null|-10.28|        0|       0|         0|\n",
            "|    2021|      11|    148|       P|   Stringer, Scott M|10/26/2018|ACEC New York Cit...| PCOMP|        M|       New York|   NY|10018|    null|  3950|        0|       0|         2|\n",
            "|    2021|      11|    148|       P|   Stringer, Scott M|10/26/2018|ACEC New York Cit...| PCOMP|        M|       New York|   NY|10018|    null|  -850|        0|       0|         0|\n",
            "|    2021|      11|    148|       P|   Stringer, Scott M|10/26/2018|ACEC New York Cit...| PCOMP|        M|       New York|   NY|10018|    null| -1100|        0|       0|         0|\n",
            "|    2021|      11|   1545|       P|       Adams, Eric L|  8/3/2021|ACEC NEW YORK CIT...| PCOMP|        M|       New York|   NY|10018|    null|  2000|        0|       0|         2|\n",
            "|    2021|      11|    148|       P|   Stringer, Scott M| 3/23/2021|AIA New York Poli...| PCOMP|        M|       New York|   NY|10012|    null|  1000|        0|       0|         2|\n",
            "|    2021|      11|    148|       P|   Stringer, Scott M|  5/4/2021|Allied Printing T...|  EMPO|        Z|          Union|   NJ| 7083|    null|  2000|        0|       0|         2|\n",
            "|    2021|      11|   1545|       P|       Adams, Eric L| 4/30/2021|American Federati...|  EMPO|        M|       New York|   NY|10007|    null|   500|        0|       0|         2|\n",
            "|    2021|      11|   1545|       P|       Adams, Eric L| 8/15/2021|     AMOA-NY PAC INC| PCOMP|        Q|       Woodside|   NY|11377|    null|  1000|        0|       0|         2|\n",
            "|    2021|      11|    148|       P|   Stringer, Scott M| 1/11/2021|ATU New York Cope...| PCOMP|        Z|  Silver Spring|   MD|20903|    null|   750|        0|       0|         2|\n",
            "|    2021|      11|   1545|       P|       Adams, Eric L| 1/11/2021|ATU New York Cope...| PCOMP|        Z|  Silver Spring|   MD|20903|    null|   750|        0|       0|         2|\n",
            "|    2021|      11|   1752|       P|Laurel-Smith, Abb...|  3/2/2021|       Bagels & More|  OTHR|        K|       Brooklyn|   NY|11206|    null|  -400|        0|       0|         0|\n",
            "|    2021|      11|    148|       P|   Stringer, Scott M| 6/22/2021|Bricklayers & All...| PCOMP|        Q|Long Island Cit|   NY|11101|    null|  1500|        0|       0|         2|\n",
            "|    2021|      11|    148|       P|   Stringer, Scott M| 9/20/2018|Building and Cons...| PCOMP|        M|       New York|   NY|10010|    null|  3000|        0|       0|         2|\n",
            "+--------+--------+-------+--------+--------------------+----------+--------------------+------+---------+---------------+-----+-----+--------+------+---------+--------+----------+\n",
            "only showing top 20 rows\n",
            "\n"
          ]
        }
      ]
    },
    {
      "cell_type": "code",
      "metadata": {
        "colab": {
          "base_uri": "https://localhost:8080/"
        },
        "id": "btba2GO-LOhL",
        "outputId": "f8a773f7-c5b3-4463-98e2-a512dcbc8ed8"
      },
      "source": [
        "# check data types\n",
        "df.dtypes"
      ],
      "execution_count": 23,
      "outputs": [
        {
          "output_type": "execute_result",
          "data": {
            "text/plain": [
              "[('ELECTION', 'string'),\n",
              " ('OFFICECD', 'string'),\n",
              " ('RECIPID', 'string'),\n",
              " ('CANCLASS', 'string'),\n",
              " ('RECIPNAME', 'string'),\n",
              " ('DATE', 'string'),\n",
              " ('NAME', 'string'),\n",
              " ('C_CODE', 'string'),\n",
              " ('BOROUGHCD', 'string'),\n",
              " ('CITY', 'string'),\n",
              " ('STATE', 'string'),\n",
              " ('ZIP', 'string'),\n",
              " ('EMPSTATE', 'string'),\n",
              " ('AMNT', 'string'),\n",
              " ('MATCHAMNT', 'string'),\n",
              " ('PREVAMNT', 'string'),\n",
              " ('PAY_METHOD', 'string')]"
            ]
          },
          "metadata": {},
          "execution_count": 23
        }
      ]
    },
    {
      "cell_type": "code",
      "metadata": {
        "colab": {
          "base_uri": "https://localhost:8080/"
        },
        "id": "U3HO9e01LOhL",
        "outputId": "b6a18d41-9e3b-4458-c46e-f57c63c60bcc"
      },
      "source": [
        "#Change column names\n",
        "df1 = df \\\n",
        ".withColumnRenamed(\"ELECTION\", \"Election\") \\\n",
        ".withColumnRenamed(\"RECIPID\", \"CandidateID\") \\\n",
        ".withColumnRenamed(\"RECIPNAME\", \"CandidateName\") \\\n",
        ".withColumnRenamed(\"DATE\", \"Date\") \\\n",
        ".withColumnRenamed(\"NAME\", \"Name\") \\\n",
        ".withColumnRenamed(\"C_CODE\", \"ContributerType\") \\\n",
        ".withColumnRenamed(\"BOROUGHCD\", \"BoroughName\") \\\n",
        ".withColumnRenamed(\"CITY\", \"City\") \\\n",
        ".withColumnRenamed(\"STATE\", \"State\") \\\n",
        ".withColumnRenamed(\"ZIP\", \"ZipCode\") \\\n",
        ".withColumnRenamed(\"EMPSTATE\", \"ContributionState\") \\\n",
        ".withColumnRenamed(\"AMNT\", \"Amount\") \\\n",
        ".withColumnRenamed(\"MATCHAMNT\", \"MatchAmt\") \\\n",
        ".withColumnRenamed(\"PREVAMNT\", \"PrevAmt\") \\\n",
        ".withColumnRenamed(\"PAY_METHOD\", \"PayMethod\") \n",
        "\n",
        "df1.printSchema()"
      ],
      "execution_count": 24,
      "outputs": [
        {
          "output_type": "stream",
          "name": "stdout",
          "text": [
            "root\n",
            " |-- Election: string (nullable = true)\n",
            " |-- OFFICECD: string (nullable = true)\n",
            " |-- CandidateID: string (nullable = true)\n",
            " |-- CANCLASS: string (nullable = true)\n",
            " |-- CandidateName: string (nullable = true)\n",
            " |-- Date: string (nullable = true)\n",
            " |-- Name: string (nullable = true)\n",
            " |-- ContributerType: string (nullable = true)\n",
            " |-- BoroughName: string (nullable = true)\n",
            " |-- City: string (nullable = true)\n",
            " |-- State: string (nullable = true)\n",
            " |-- ZipCode: string (nullable = true)\n",
            " |-- ContributionState: string (nullable = true)\n",
            " |-- Amount: string (nullable = true)\n",
            " |-- MatchAmt: string (nullable = true)\n",
            " |-- PrevAmt: string (nullable = true)\n",
            " |-- PayMethod: string (nullable = true)\n",
            "\n"
          ]
        }
      ]
    },
    {
      "cell_type": "code",
      "metadata": {
        "id": "SAf4vA_5jTRM"
      },
      "source": [
        "from datetime import datetime\n",
        "from pyspark.sql.functions import col, udf\n",
        "from pyspark.sql.types import DateType"
      ],
      "execution_count": 25,
      "outputs": []
    },
    {
      "cell_type": "code",
      "metadata": {
        "colab": {
          "base_uri": "https://localhost:8080/"
        },
        "id": "o8pcOHEWjVfK",
        "outputId": "05c46129-46b8-45f8-8707-dc02145519da"
      },
      "source": [
        "# using lambda function to convert date col to datetype\n",
        "# changing datatypes of columns\n",
        "func =  udf (lambda x: datetime.strptime(x, '%m/%d/%Y'), DateType())\n",
        "df2 = df1.withColumn(\"Election\",df1[\"Election\"].cast(\"Integer\")) \\\n",
        "  .withColumn(\"OFFICECD\", df1[\"OFFICECD\"].cast(\"Integer\")) \\\n",
        "  .withColumn(\"CandidateID\", df1[\"CandidateID\"].cast(\"Integer\")) \\\n",
        "  .withColumn(\"ZipCode\", df1[\"ZipCode\"].cast(\"Integer\")) \\\n",
        "  .withColumn(\"Amount\", df1[\"Amount\"].cast(\"Float\")) \\\n",
        "  .withColumn(\"MatchAmt\", df1[\"MatchAmt\"].cast(\"Float\")) \\\n",
        "  .withColumn(\"PrevAmt\", df1[\"PrevAmt\"].cast(\"Float\")) \\\n",
        "  .withColumn('Date', func(col('Date')))\n",
        "df2.printSchema()"
      ],
      "execution_count": 26,
      "outputs": [
        {
          "output_type": "stream",
          "name": "stdout",
          "text": [
            "root\n",
            " |-- Election: integer (nullable = true)\n",
            " |-- OFFICECD: integer (nullable = true)\n",
            " |-- CandidateID: integer (nullable = true)\n",
            " |-- CANCLASS: string (nullable = true)\n",
            " |-- CandidateName: string (nullable = true)\n",
            " |-- Date: date (nullable = true)\n",
            " |-- Name: string (nullable = true)\n",
            " |-- ContributerType: string (nullable = true)\n",
            " |-- BoroughName: string (nullable = true)\n",
            " |-- City: string (nullable = true)\n",
            " |-- State: string (nullable = true)\n",
            " |-- ZipCode: integer (nullable = true)\n",
            " |-- ContributionState: string (nullable = true)\n",
            " |-- Amount: float (nullable = true)\n",
            " |-- MatchAmt: float (nullable = true)\n",
            " |-- PrevAmt: float (nullable = true)\n",
            " |-- PayMethod: string (nullable = true)\n",
            "\n"
          ]
        }
      ]
    },
    {
      "cell_type": "code",
      "metadata": {
        "id": "qa6S4he5LOhM"
      },
      "source": [
        "#Change vaule name in ContributerType\n",
        "from pyspark.sql.functions import regexp_replace\n",
        "df3 = df2.withColumn('ContributerType', regexp_replace('ContributerType', 'CAN', 'Candidate')) \\\n",
        "  .withColumn('ContributerType', regexp_replace('ContributerType', 'CORP', 'Corporation')) \\\n",
        "  .withColumn('ContributerType', regexp_replace('ContributerType', 'EMPO', 'Labor Union')) \\\n",
        "  .withColumn('ContributerType', regexp_replace('ContributerType', 'FAM', 'Candidate Family')) \\\n",
        "  .withColumn('ContributerType', regexp_replace('ContributerType', 'IND', 'Individual')) \\\n",
        "  .withColumn('ContributerType', regexp_replace('ContributerType', 'PCOMZ', 'Party Committee')) \\\n",
        "  .withColumn('ContributerType', regexp_replace('ContributerType', 'ORG', 'Orgainization')) \\\n",
        "  .withColumn('ContributerType', regexp_replace('ContributerType', 'LLC', 'Limited Liability Company')) \\\n",
        "  .withColumn('ContributerType', regexp_replace('ContributerType', 'PCOMP', 'Political Action Committee')) \\\n",
        "  .withColumn('ContributerType', regexp_replace('ContributerType', 'SPO', 'Spouse')) \\\n",
        "  .withColumn('ContributerType', regexp_replace('ContributerType', 'OTHR', 'Other')) \\\n",
        "  .withColumn('ContributerType', regexp_replace('ContributerType', 'PCOMC', 'Candidate Committee')) \\\n",
        "  .withColumn('ContributerType', regexp_replace('ContributerType', 'PART', 'Individual')) \\\n"
      ],
      "execution_count": 27,
      "outputs": []
    },
    {
      "cell_type": "code",
      "metadata": {
        "id": "HKU4a2YeLOhM"
      },
      "source": [
        "#Change Payment Method Name\n",
        "df4=df3.withColumn('PayMethod', regexp_replace('PayMethod','0','Unknown')) \\\n",
        "  .withColumn('PayMethod', regexp_replace('PayMethod','1','Cash')) \\\n",
        "  .withColumn('PayMethod', regexp_replace('PayMethod','2','Check')) \\\n",
        "  .withColumn('PayMethod', regexp_replace('PayMethod','3','Other')) \\\n",
        "  .withColumn('PayMethod', regexp_replace('PayMethod','4','Credit Card')) \\\n",
        "  .withColumn('PayMethod', regexp_replace('PayMethod','5','Money Order')) \\"
      ],
      "execution_count": 28,
      "outputs": []
    },
    {
      "cell_type": "code",
      "metadata": {
        "id": "trH99qC5LOhM"
      },
      "source": [
        "#Change Borough name\n",
        "from pyspark.sql.functions import regexp_replace\n",
        "df5 = df4.withColumn('BoroughName', regexp_replace('BoroughName', 'K', 'Brooklyn')) \\\n",
        "  .withColumn('BoroughName', regexp_replace('BoroughName', 'M', 'Manhattan')) \\\n",
        "  .withColumn('BoroughName', regexp_replace('BoroughName', 'Q', 'Queens')) \\\n",
        "  .withColumn('BoroughName', regexp_replace('BoroughName', 'S', 'Staten Island')) \\\n",
        "  .withColumn('BoroughName', regexp_replace('BoroughName', 'X', 'Bronx')) \\\n",
        "  .withColumn('BoroughName', regexp_replace('BoroughName', 'Z', 'Other')) \\\n"
      ],
      "execution_count": 29,
      "outputs": []
    },
    {
      "cell_type": "code",
      "metadata": {
        "colab": {
          "base_uri": "https://localhost:8080/"
        },
        "id": "wO9XHx_6LOhM",
        "outputId": "375720e5-6a6d-4dab-be6c-6b56697a5672"
      },
      "source": [
        "#Call only Mayor (1) and particaptes (P) within Dataframe\n",
        "df6 = df5.filter((df5.OFFICECD==\"1\") & (df5.CANCLASS==\"P\"))\n",
        "df6.show()"
      ],
      "execution_count": 30,
      "outputs": [
        {
          "output_type": "stream",
          "name": "stdout",
          "text": [
            "+--------+--------+-----------+--------+---------------+----------+--------------------+--------------------+-----------+----------------+-----+-------+-----------------+------+--------+-------+---------+\n",
            "|Election|OFFICECD|CandidateID|CANCLASS|  CandidateName|      Date|                Name|     ContributerType|BoroughName|            City|State|ZipCode|ContributionState|Amount|MatchAmt|PrevAmt|PayMethod|\n",
            "+--------+--------+-----------+--------+---------------+----------+--------------------+--------------------+-----------+----------------+-----+-------+-----------------+------+--------+-------+---------+\n",
            "|    2021|       1|       1160|       P|Diaz Jr., Ruben|2018-05-03|  Cozen O'Connor PAC|Political Action ...|      Other|    Philadelphia|   PA|  19103|             null|1000.0|     0.0|    0.0|    Check|\n",
            "|    2021|       1|       1160|       P|Diaz Jr., Ruben|2018-05-03|             D&M PAC|Political Action ...|  Manhattan|        New York|   NY|  10158|             null| 500.0|     0.0|    0.0|    Check|\n",
            "|    2021|       1|       1160|       P|Diaz Jr., Ruben|2019-07-10|             D&M PAC|Political Action ...|  Manhattan|        New York|   NY|  10158|             null| 500.0|     0.0|  500.0|    Check|\n",
            "|    2021|       1|       1160|       P|Diaz Jr., Ruben|2019-10-26|              EISPAC|Political Action ...|  Manhattan|        New York|   NY|  10017|             null| 500.0|     0.0|    0.0|    Check|\n",
            "|    2021|       1|       1160|       P|Diaz Jr., Ruben|2019-07-09|Federal Express N...|Political Action ...|      Other|         Memphis|   TN|  38120|             null|1000.0|     0.0|    0.0|    Check|\n",
            "|    2021|       1|       1160|       P|Diaz Jr., Ruben|2018-05-21|JPMorgan Chase & ...|Political Action ...|      Other|      Washington|   DC|  20004|             null|1000.0|     0.0|    0.0|    Check|\n",
            "|    2021|       1|       1160|       P|Diaz Jr., Ruben|2018-05-30|New Yorkers for P...|Political Action ...|  Manhattan|        New York|   NY|  10001|             null|2500.0|     0.0|    0.0|    Check|\n",
            "|    2021|       1|       1160|       P|Diaz Jr., Ruben|2019-06-14|New Yorkers for P...|Political Action ...|  Manhattan|        New York|   NY|  10001|             null|1000.0|     0.0| 2500.0|    Check|\n",
            "|    2021|       1|       1160|       P|Diaz Jr., Ruben|2018-05-09|NYC District Coun...|Political Action ...|  Manhattan|        New York|   NY|  10014|             null|1000.0|     0.0|    0.0|    Check|\n",
            "|    2021|       1|       1160|       P|Diaz Jr., Ruben|2018-06-26|         Oilheat PAC|Political Action ...|  Manhattan|        New York|   NY|  10122|             null|1000.0|     0.0|    0.0|    Check|\n",
            "|    2021|       1|       1160|       P|Diaz Jr., Ruben|2018-05-08|Plumbers Local Un...|Political Action ...|      Other|Long Island City|   NY|  11101|             null|1000.0|     0.0|    0.0|    Check|\n",
            "|    2021|       1|       1160|       P|Diaz Jr., Ruben|2018-10-26|RPAC of New York ...|Political Action ...|      Other|          Albany|   NY|  12210|             null| 500.0|     0.0|    0.0|    Check|\n",
            "|    2021|       1|       1160|       P|Diaz Jr., Ruben|2019-10-26|RPAC of New York ...|Political Action ...|      Other|          Albany|   NY|  12210|             null| 500.0|     0.0|  500.0|    Check|\n",
            "|    2021|       1|       1160|       P|Diaz Jr., Ruben|2018-05-17| Speaker Heastie PAC|Political Action ...|      Other|    New Rochelle|   NY|  10805|             null|4784.5|     0.0|    0.0|    Check|\n",
            "|    2021|       1|       1160|       P|Diaz Jr., Ruben|2019-10-26|Steamfitters Loca...|Political Action ...|     Queens|Long Island City|   NY|  11101|             null| 250.0|     0.0|    0.0|    Check|\n",
            "|    2021|       1|       1160|       P|Diaz Jr., Ruben|2018-05-03|Taxpayers for an ...|Political Action ...|  Manhattan|        New York|   NY|  10022|             null|1000.0|     0.0|    0.0|    Check|\n",
            "|    2021|       1|       1160|       P|Diaz Jr., Ruben|2018-06-08|Taxpayers for an ...|Political Action ...|  Manhattan|        New York|   NY|  10022|             null|1000.0|     0.0| 1000.0|    Check|\n",
            "|    2021|       1|       1160|       P|Diaz Jr., Ruben|2019-06-02|Taxpayers for an ...|Political Action ...|  Manhattan|        New York|   NY|  10022|             null|1000.0|     0.0| 2000.0|    Check|\n",
            "|    2021|       1|       1160|       P|Diaz Jr., Ruben|2018-07-09|           Tempo 802|Political Action ...|  Manhattan|        New York|   NY|  10036|             null| 500.0|     0.0|    0.0|    Check|\n",
            "|    2021|       1|       1160|       P|Diaz Jr., Ruben|2018-05-03|Uniformed Fire Of...|Political Action ...|  Manhattan|   New york city|   NY|  10038|             null| 500.0|     0.0|    0.0|    Check|\n",
            "+--------+--------+-----------+--------+---------------+----------+--------------------+--------------------+-----------+----------------+-----+-------+-----------------+------+--------+-------+---------+\n",
            "only showing top 20 rows\n",
            "\n"
          ]
        }
      ]
    },
    {
      "cell_type": "code",
      "metadata": {
        "colab": {
          "base_uri": "https://localhost:8080/"
        },
        "id": "nEmNuKUFLOhM",
        "outputId": "78813b6f-bf8b-4ed9-c31d-38a3d1509afc"
      },
      "source": [
        "#Check the above dataframe to make sure only unique values between the OFFICECD is 1 \n",
        "df6.select('OFFICECD').distinct().show()"
      ],
      "execution_count": 31,
      "outputs": [
        {
          "output_type": "stream",
          "name": "stdout",
          "text": [
            "+--------+\n",
            "|OFFICECD|\n",
            "+--------+\n",
            "|       1|\n",
            "+--------+\n",
            "\n"
          ]
        }
      ]
    },
    {
      "cell_type": "code",
      "metadata": {
        "colab": {
          "base_uri": "https://localhost:8080/"
        },
        "id": "Myx_AWPaLOhM",
        "outputId": "172dd545-2dbb-46c0-dc1d-6298b62cb6c0"
      },
      "source": [
        "#Drop OFFICECD and CANCLASS\n",
        "list2 = ['OFFICECD', 'CANCLASS'] \n",
        "df7 = df6.drop(*list2)\n",
        "df7.show()"
      ],
      "execution_count": 32,
      "outputs": [
        {
          "output_type": "stream",
          "name": "stdout",
          "text": [
            "+--------+-----------+---------------+----------+--------------------+--------------------+-----------+----------------+-----+-------+-----------------+------+--------+-------+---------+\n",
            "|Election|CandidateID|  CandidateName|      Date|                Name|     ContributerType|BoroughName|            City|State|ZipCode|ContributionState|Amount|MatchAmt|PrevAmt|PayMethod|\n",
            "+--------+-----------+---------------+----------+--------------------+--------------------+-----------+----------------+-----+-------+-----------------+------+--------+-------+---------+\n",
            "|    2021|       1160|Diaz Jr., Ruben|2018-05-03|  Cozen O'Connor PAC|Political Action ...|      Other|    Philadelphia|   PA|  19103|             null|1000.0|     0.0|    0.0|    Check|\n",
            "|    2021|       1160|Diaz Jr., Ruben|2018-05-03|             D&M PAC|Political Action ...|  Manhattan|        New York|   NY|  10158|             null| 500.0|     0.0|    0.0|    Check|\n",
            "|    2021|       1160|Diaz Jr., Ruben|2019-07-10|             D&M PAC|Political Action ...|  Manhattan|        New York|   NY|  10158|             null| 500.0|     0.0|  500.0|    Check|\n",
            "|    2021|       1160|Diaz Jr., Ruben|2019-10-26|              EISPAC|Political Action ...|  Manhattan|        New York|   NY|  10017|             null| 500.0|     0.0|    0.0|    Check|\n",
            "|    2021|       1160|Diaz Jr., Ruben|2019-07-09|Federal Express N...|Political Action ...|      Other|         Memphis|   TN|  38120|             null|1000.0|     0.0|    0.0|    Check|\n",
            "|    2021|       1160|Diaz Jr., Ruben|2018-05-21|JPMorgan Chase & ...|Political Action ...|      Other|      Washington|   DC|  20004|             null|1000.0|     0.0|    0.0|    Check|\n",
            "|    2021|       1160|Diaz Jr., Ruben|2018-05-30|New Yorkers for P...|Political Action ...|  Manhattan|        New York|   NY|  10001|             null|2500.0|     0.0|    0.0|    Check|\n",
            "|    2021|       1160|Diaz Jr., Ruben|2019-06-14|New Yorkers for P...|Political Action ...|  Manhattan|        New York|   NY|  10001|             null|1000.0|     0.0| 2500.0|    Check|\n",
            "|    2021|       1160|Diaz Jr., Ruben|2018-05-09|NYC District Coun...|Political Action ...|  Manhattan|        New York|   NY|  10014|             null|1000.0|     0.0|    0.0|    Check|\n",
            "|    2021|       1160|Diaz Jr., Ruben|2018-06-26|         Oilheat PAC|Political Action ...|  Manhattan|        New York|   NY|  10122|             null|1000.0|     0.0|    0.0|    Check|\n",
            "|    2021|       1160|Diaz Jr., Ruben|2018-05-08|Plumbers Local Un...|Political Action ...|      Other|Long Island City|   NY|  11101|             null|1000.0|     0.0|    0.0|    Check|\n",
            "|    2021|       1160|Diaz Jr., Ruben|2018-10-26|RPAC of New York ...|Political Action ...|      Other|          Albany|   NY|  12210|             null| 500.0|     0.0|    0.0|    Check|\n",
            "|    2021|       1160|Diaz Jr., Ruben|2019-10-26|RPAC of New York ...|Political Action ...|      Other|          Albany|   NY|  12210|             null| 500.0|     0.0|  500.0|    Check|\n",
            "|    2021|       1160|Diaz Jr., Ruben|2018-05-17| Speaker Heastie PAC|Political Action ...|      Other|    New Rochelle|   NY|  10805|             null|4784.5|     0.0|    0.0|    Check|\n",
            "|    2021|       1160|Diaz Jr., Ruben|2019-10-26|Steamfitters Loca...|Political Action ...|     Queens|Long Island City|   NY|  11101|             null| 250.0|     0.0|    0.0|    Check|\n",
            "|    2021|       1160|Diaz Jr., Ruben|2018-05-03|Taxpayers for an ...|Political Action ...|  Manhattan|        New York|   NY|  10022|             null|1000.0|     0.0|    0.0|    Check|\n",
            "|    2021|       1160|Diaz Jr., Ruben|2018-06-08|Taxpayers for an ...|Political Action ...|  Manhattan|        New York|   NY|  10022|             null|1000.0|     0.0| 1000.0|    Check|\n",
            "|    2021|       1160|Diaz Jr., Ruben|2019-06-02|Taxpayers for an ...|Political Action ...|  Manhattan|        New York|   NY|  10022|             null|1000.0|     0.0| 2000.0|    Check|\n",
            "|    2021|       1160|Diaz Jr., Ruben|2018-07-09|           Tempo 802|Political Action ...|  Manhattan|        New York|   NY|  10036|             null| 500.0|     0.0|    0.0|    Check|\n",
            "|    2021|       1160|Diaz Jr., Ruben|2018-05-03|Uniformed Fire Of...|Political Action ...|  Manhattan|   New york city|   NY|  10038|             null| 500.0|     0.0|    0.0|    Check|\n",
            "+--------+-----------+---------------+----------+--------------------+--------------------+-----------+----------------+-----+-------+-----------------+------+--------+-------+---------+\n",
            "only showing top 20 rows\n",
            "\n"
          ]
        }
      ]
    },
    {
      "cell_type": "code",
      "metadata": {
        "id": "OEu2eqWaDg1J"
      },
      "source": [
        "#Filter Dataframe removing the null CandidateID values\n",
        "df8 = df7.filter(df7.CandidateID.isNotNull())"
      ],
      "execution_count": 33,
      "outputs": []
    },
    {
      "cell_type": "code",
      "metadata": {
        "colab": {
          "base_uri": "https://localhost:8080/"
        },
        "id": "Uci_zuD5LOhM",
        "outputId": "fb14d795-cc0e-4cb0-b49f-d9bf5fceb9fe"
      },
      "source": [
        "# ADD AMNT and MATCHAMNT PrevAmnt\n",
        "from pyspark.sql.functions import col\n",
        "clean_comm_2021_df = df8.withColumn(\"TotalAmount\", col(\"Amount\")+col(\"MatchAmt\")+col('PrevAmt'))\n",
        "clean_comm_2021_df.show()"
      ],
      "execution_count": 34,
      "outputs": [
        {
          "output_type": "stream",
          "name": "stdout",
          "text": [
            "+--------+-----------+---------------+----------+--------------------+--------------------+-----------+----------------+-----+-------+-----------------+------+--------+-------+---------+-----------+\n",
            "|Election|CandidateID|  CandidateName|      Date|                Name|     ContributerType|BoroughName|            City|State|ZipCode|ContributionState|Amount|MatchAmt|PrevAmt|PayMethod|TotalAmount|\n",
            "+--------+-----------+---------------+----------+--------------------+--------------------+-----------+----------------+-----+-------+-----------------+------+--------+-------+---------+-----------+\n",
            "|    2021|       1160|Diaz Jr., Ruben|2018-05-03|  Cozen O'Connor PAC|Political Action ...|      Other|    Philadelphia|   PA|  19103|             null|1000.0|     0.0|    0.0|    Check|     1000.0|\n",
            "|    2021|       1160|Diaz Jr., Ruben|2018-05-03|             D&M PAC|Political Action ...|  Manhattan|        New York|   NY|  10158|             null| 500.0|     0.0|    0.0|    Check|      500.0|\n",
            "|    2021|       1160|Diaz Jr., Ruben|2019-07-10|             D&M PAC|Political Action ...|  Manhattan|        New York|   NY|  10158|             null| 500.0|     0.0|  500.0|    Check|     1000.0|\n",
            "|    2021|       1160|Diaz Jr., Ruben|2019-10-26|              EISPAC|Political Action ...|  Manhattan|        New York|   NY|  10017|             null| 500.0|     0.0|    0.0|    Check|      500.0|\n",
            "|    2021|       1160|Diaz Jr., Ruben|2019-07-09|Federal Express N...|Political Action ...|      Other|         Memphis|   TN|  38120|             null|1000.0|     0.0|    0.0|    Check|     1000.0|\n",
            "|    2021|       1160|Diaz Jr., Ruben|2018-05-21|JPMorgan Chase & ...|Political Action ...|      Other|      Washington|   DC|  20004|             null|1000.0|     0.0|    0.0|    Check|     1000.0|\n",
            "|    2021|       1160|Diaz Jr., Ruben|2018-05-30|New Yorkers for P...|Political Action ...|  Manhattan|        New York|   NY|  10001|             null|2500.0|     0.0|    0.0|    Check|     2500.0|\n",
            "|    2021|       1160|Diaz Jr., Ruben|2019-06-14|New Yorkers for P...|Political Action ...|  Manhattan|        New York|   NY|  10001|             null|1000.0|     0.0| 2500.0|    Check|     3500.0|\n",
            "|    2021|       1160|Diaz Jr., Ruben|2018-05-09|NYC District Coun...|Political Action ...|  Manhattan|        New York|   NY|  10014|             null|1000.0|     0.0|    0.0|    Check|     1000.0|\n",
            "|    2021|       1160|Diaz Jr., Ruben|2018-06-26|         Oilheat PAC|Political Action ...|  Manhattan|        New York|   NY|  10122|             null|1000.0|     0.0|    0.0|    Check|     1000.0|\n",
            "|    2021|       1160|Diaz Jr., Ruben|2018-05-08|Plumbers Local Un...|Political Action ...|      Other|Long Island City|   NY|  11101|             null|1000.0|     0.0|    0.0|    Check|     1000.0|\n",
            "|    2021|       1160|Diaz Jr., Ruben|2018-10-26|RPAC of New York ...|Political Action ...|      Other|          Albany|   NY|  12210|             null| 500.0|     0.0|    0.0|    Check|      500.0|\n",
            "|    2021|       1160|Diaz Jr., Ruben|2019-10-26|RPAC of New York ...|Political Action ...|      Other|          Albany|   NY|  12210|             null| 500.0|     0.0|  500.0|    Check|     1000.0|\n",
            "|    2021|       1160|Diaz Jr., Ruben|2018-05-17| Speaker Heastie PAC|Political Action ...|      Other|    New Rochelle|   NY|  10805|             null|4784.5|     0.0|    0.0|    Check|     4784.5|\n",
            "|    2021|       1160|Diaz Jr., Ruben|2019-10-26|Steamfitters Loca...|Political Action ...|     Queens|Long Island City|   NY|  11101|             null| 250.0|     0.0|    0.0|    Check|      250.0|\n",
            "|    2021|       1160|Diaz Jr., Ruben|2018-05-03|Taxpayers for an ...|Political Action ...|  Manhattan|        New York|   NY|  10022|             null|1000.0|     0.0|    0.0|    Check|     1000.0|\n",
            "|    2021|       1160|Diaz Jr., Ruben|2018-06-08|Taxpayers for an ...|Political Action ...|  Manhattan|        New York|   NY|  10022|             null|1000.0|     0.0| 1000.0|    Check|     2000.0|\n",
            "|    2021|       1160|Diaz Jr., Ruben|2019-06-02|Taxpayers for an ...|Political Action ...|  Manhattan|        New York|   NY|  10022|             null|1000.0|     0.0| 2000.0|    Check|     3000.0|\n",
            "|    2021|       1160|Diaz Jr., Ruben|2018-07-09|           Tempo 802|Political Action ...|  Manhattan|        New York|   NY|  10036|             null| 500.0|     0.0|    0.0|    Check|      500.0|\n",
            "|    2021|       1160|Diaz Jr., Ruben|2018-05-03|Uniformed Fire Of...|Political Action ...|  Manhattan|   New york city|   NY|  10038|             null| 500.0|     0.0|    0.0|    Check|      500.0|\n",
            "+--------+-----------+---------------+----------+--------------------+--------------------+-----------+----------------+-----+-------+-----------------+------+--------+-------+---------+-----------+\n",
            "only showing top 20 rows\n",
            "\n"
          ]
        }
      ]
    },
    {
      "cell_type": "code",
      "metadata": {
        "id": "JP38ou7rs5hY"
      },
      "source": [
        "#Export to new CSV\n",
        "#clean_comm_2021_df.toPandas().to_csv(\"Clean_Committee_2021.csv\", header=True)"
      ],
      "execution_count": 35,
      "outputs": []
    },
    {
      "cell_type": "code",
      "metadata": {
        "id": "S3PsGBmTLOhN"
      },
      "source": [
        "# Store environmental variable\n",
        "from getpass import getpass\n",
        "#Configure settings for RDS\n",
        "mode = \"append\"\n",
        "jdbc_url=\"jdbc:postgresql://database-final.cjdbapst3wjf.us-east-1.rds.amazonaws.com:5432/postgres\"\n",
        "config = {\"user\":\"postgres\",\n",
        "          \"password\": \"FinalProject05\",\n",
        "          \"driver\":\"org.postgresql.Driver\"}"
      ],
      "execution_count": 38,
      "outputs": []
    },
    {
      "cell_type": "code",
      "metadata": {
        "id": "BJ4dBFJKSG5J"
      },
      "source": [
        "# Write DataFrame to active_user table in RDS\n",
        "clean_indiv_2021_df.write.jdbc(url=jdbc_url, table='individual_2021', mode=mode, properties=config)"
      ],
      "execution_count": 39,
      "outputs": []
    },
    {
      "cell_type": "code",
      "metadata": {
        "id": "SSpL71qCG1F2"
      },
      "source": [
        "# Write DataFrame to active_user table in RDS\n",
        "#clean_comm_2021_df.write.jdbc(url=jdbc_url, table='committee_2021', mode=mode, properties=config)"
      ],
      "execution_count": null,
      "outputs": []
    }
  ]
}