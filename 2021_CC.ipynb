{
  "nbformat": 4,
  "nbformat_minor": 0,
  "metadata": {
    "colab": {
      "name": "2021_CC.ipynb",
      "provenance": [],
      "collapsed_sections": [],
      "authorship_tag": "ABX9TyOQb+xzAqDxQO6olMdx65oE",
      "include_colab_link": true
    },
    "kernelspec": {
      "name": "python3",
      "display_name": "Python 3"
    },
    "language_info": {
      "name": "python"
    }
  },
  "cells": [
    {
      "cell_type": "markdown",
      "metadata": {
        "id": "view-in-github",
        "colab_type": "text"
      },
      "source": [
        "<a href=\"https://colab.research.google.com/github/ssheggrud/Mod_20_Project/blob/05_Pooja/2021_CC.ipynb\" target=\"_parent\"><img src=\"https://colab.research.google.com/assets/colab-badge.svg\" alt=\"Open In Colab\"/></a>"
      ]
    },
    {
      "cell_type": "code",
      "metadata": {
        "colab": {
          "base_uri": "https://localhost:8080/"
        },
        "id": "nvd88dI-G7eZ",
        "outputId": "a03d1e88-5d57-4ee2-f260-ec08a9d0775d"
      },
      "source": [
        "import os\n",
        "# Find the latest version of spark 3.0  from http://www-us.apache.org/dist/spark/ and enter as the spark version\n",
        "# For example:\n",
        "# spark_version = 'spark-3.0.2'\n",
        "spark_version = 'spark-3.0.3'\n",
        "os.environ['SPARK_VERSION']=spark_version\n",
        "\n",
        "# Install Spark and Java\n",
        "!apt-get update\n",
        "!apt-get install openjdk-11-jdk-headless -qq > /dev/null\n",
        "#!wget -q http://www-us.apache.org/dist/spark/$SPARK_VERSION/$SPARK_VERSION-bin-hadoop2.7.tgz\n",
        "!wget -q https://downloads.apache.org/spark/$SPARK_VERSION/$SPARK_VERSION-bin-hadoop2.7.tgz\n",
        "\n",
        "!tar xf $SPARK_VERSION-bin-hadoop2.7.tgz\n",
        "!pip install -q findspark\n",
        "\n",
        "# Set Environment Variables\n",
        "os.environ[\"JAVA_HOME\"] = \"/usr/lib/jvm/java-11-openjdk-amd64\"\n",
        "os.environ[\"SPARK_HOME\"] = f\"/content/{spark_version}-bin-hadoop2.7\"\n",
        "\n",
        "# Start a SparkSession\n",
        "import findspark\n",
        "findspark.init()"
      ],
      "execution_count": null,
      "outputs": [
        {
          "output_type": "stream",
          "name": "stdout",
          "text": [
            "\r0% [Working]\r            \rGet:1 http://ppa.launchpad.net/c2d4u.team/c2d4u4.0+/ubuntu bionic InRelease [15.9 kB]\n",
            "\r0% [Waiting for headers] [Connecting to security.ubuntu.com (91.189.91.38)] [Co\r                                                                               \rHit:2 http://archive.ubuntu.com/ubuntu bionic InRelease\n",
            "\r0% [Connecting to security.ubuntu.com (91.189.91.38)] [Connecting to cloud.r-pr\r                                                                               \rGet:3 http://archive.ubuntu.com/ubuntu bionic-updates InRelease [88.7 kB]\n",
            "\r                                                                               \rGet:4 http://archive.ubuntu.com/ubuntu bionic-backports InRelease [74.6 kB]\n",
            "\r                                                                               \rGet:5 http://security.ubuntu.com/ubuntu bionic-security InRelease [88.7 kB]\n",
            "\r                                                                               \rGet:6 https://cloud.r-project.org/bin/linux/ubuntu bionic-cran40/ InRelease [3,626 B]\n",
            "\r                                                                               \rHit:7 http://ppa.launchpad.net/cran/libgit2/ubuntu bionic InRelease\n",
            "\r                                                                               \rHit:8 http://ppa.launchpad.net/deadsnakes/ppa/ubuntu bionic InRelease\n",
            "\r                                                                               \rHit:9 http://ppa.launchpad.net/graphics-drivers/ppa/ubuntu bionic InRelease\n",
            "Ign:10 https://developer.download.nvidia.com/compute/cuda/repos/ubuntu1804/x86_64  InRelease\n",
            "Ign:11 https://developer.download.nvidia.com/compute/machine-learning/repos/ubuntu1804/x86_64  InRelease\n",
            "Get:12 https://developer.download.nvidia.com/compute/cuda/repos/ubuntu1804/x86_64  Release [696 B]\n",
            "Hit:13 https://developer.download.nvidia.com/compute/machine-learning/repos/ubuntu1804/x86_64  Release\n",
            "Get:14 https://developer.download.nvidia.com/compute/cuda/repos/ubuntu1804/x86_64  Release.gpg [836 B]\n",
            "Get:15 http://archive.ubuntu.com/ubuntu bionic-updates/main amd64 Packages [2,731 kB]\n",
            "Get:16 http://archive.ubuntu.com/ubuntu bionic-updates/universe amd64 Packages [2,200 kB]\n",
            "Get:17 http://ppa.launchpad.net/c2d4u.team/c2d4u4.0+/ubuntu bionic/main Sources [1,796 kB]\n",
            "Get:18 http://ppa.launchpad.net/c2d4u.team/c2d4u4.0+/ubuntu bionic/main amd64 Packages [919 kB]\n",
            "Get:20 https://developer.download.nvidia.com/compute/cuda/repos/ubuntu1804/x86_64  Packages [700 kB]\n",
            "Get:21 http://security.ubuntu.com/ubuntu bionic-security/main amd64 Packages [2,295 kB]\n",
            "Fetched 10.9 MB in 4s (2,586 kB/s)\n",
            "Reading package lists... Done\n"
          ]
        }
      ]
    },
    {
      "cell_type": "code",
      "metadata": {
        "id": "O0rHvHEAHG53"
      },
      "source": [
        "# Start Spark session\n",
        "from pyspark.sql import SparkSession\n",
        "spark = SparkSession.builder.appName(\"FinalProject\").getOrCreate()"
      ],
      "execution_count": null,
      "outputs": []
    },
    {
      "cell_type": "code",
      "metadata": {
        "colab": {
          "base_uri": "https://localhost:8080/"
        },
        "id": "iuz4Xg_pHJyA",
        "outputId": "105417d3-9176-467d-d45f-cae6112a0467"
      },
      "source": [
        "# Read in data from S3 Buckets\n",
        "#from pyspark import SparkFiles\n",
        "#url = \"https://databootcamp-final-05.s3.amazonaws.com/Resources/2005_expenditure.csv\"\n",
        "#df2 = spark.read.options(inferSchema='True',delimiter=',', header=True).csv(url)\n",
        "#df2.show()\n",
        "\n",
        "from pyspark import SparkFiles\n",
        "url = \"https://databootcamp-final-05.s3.amazonaws.com/Resources/Committee+Contributions+2021+(UF).csv\"\n",
        "spark.sparkContext.addFile(url)\n",
        "df = spark.read.csv(SparkFiles.get(\"Committee+Contributions+2021+(UF).csv\"), sep=\",\", header=True )\n",
        "df.show()"
      ],
      "execution_count": null,
      "outputs": [
        {
          "output_type": "stream",
          "name": "stdout",
          "text": [
            "+--------+--------+-------+--------+------------------+---------+------+--------+------+----------+--------+---------+----------+--------------------+------+-----+-------+---------+---------+------------+-----+-----+----------+-------+--------+----------+-------+--------+---------+---------+--------+----------+--------+------------+--------+--------+--------+--------+-----+------+--------------------+----------+-----------+----------+--------+-----------------+---------+--------+---------+------+-------+----------+\n",
            "|ELECTION|OFFICECD|RECIPID|CANCLASS|         RECIPNAME|COMMITTEE|FILING|SCHEDULE|PAGENO|SEQUENCENO|   REFNO|     DATE|REFUNDDATE|                NAME|C_CODE|STRNO|STRNAME|APARTMENT|BOROUGHCD|        CITY|STATE|  ZIP|OCCUPATION|EMPNAME|EMPSTRNO|EMPSTRNAME|EMPCITY|EMPSTATE|     AMNT|MATCHAMNT|PREVAMNT|PAY_METHOD|INTERMNO|  INTERMNAME|INTSTRNO|INTSTRNM|INTAPTNO| INTCITY|INTST|INTZIP|          INTEMPNAME|INTEMPSTNO| INTEMPSTNM|INTEMPCITY|INTEMPST|        INTOCCUPA|PURPOSECD|EXEMPTCD|ADJTYPECD|RR_IND|SEG_IND|INT_C_CODE|\n",
            "+--------+--------+-------+--------+------------------+---------+------+--------+------+----------+--------+---------+----------+--------------------+------+-----+-------+---------+---------+------------+-----+-----+----------+-------+--------+----------+-------+--------+---------+---------+--------+----------+--------+------------+--------+--------+--------+--------+-----+------+--------------------+----------+-----------+----------+--------+-----------------+---------+--------+---------+------+-------+----------+\n",
            "|    2013|       1|    204|       P|Quinn, Christine C|        M|     4|     ABC|  null|      null|R0011580|7/11/2011|      null|1199 SEIU PAC - N...| PCOMP| null|   null|     null|        M|    New York|   NY|10036|      null|   null|    null|      null|   null|    null|     1000|        0|       0|         2|    null|        null|    null|    null|    null|    null| null|  null|                null|      null|       null|      null|    null|             null|     null|    null|     null|     N|      N|      null|\n",
            "|    2013|       1|    204|       P|Quinn, Christine C|        M|     6|     ABC|  null|      null|R0018645|1/10/2013|      null|1199 SEIU PAC - N...| PCOMP| null|   null|     null|        M|    New York|   NY|10036|      null|   null|    null|      null|   null|    null|     3950|        0|    1000|         2|    null|        null|    null|    null|    null|    null| null|  null|                null|      null|       null|      null|    null|             null|     null|    null|     null|     N|      N|      null|\n",
            "|    2013|       1|    326|       P|   de Blasio, Bill|        N|     1|     ABC|  null|      null|R0005231|4/29/2010|      null|1199/SEIU NYS Pol...| PCOMP| null|   null|     null|        M|    New York|   NY|10036|      null|   null|    null|      null|   null|    null|     4950|        0|       0|         2|    null|        null|    null|    null|    null|    null| null|  null|                null|      null|       null|      null|    null|             null|     null|    null|     null|     N|      N|      null|\n",
            "|    2013|       1|    326|       P|   de Blasio, Bill|        N|    12|       D|  null|      null|R0028634| 9/8/2013|      null|1199/SEIU NYS Pol...| PCOMP| null|   null|     null|        M|    New York|   NY|10036|      null|   null|    null|      null|   null|    null| 19084.25|        0|       0|         0|    null|        null|    null|    null|    null|    null| null|  null|                null|      null|       null|      null|    null|             null|    OTHER|    null|     null|     N|   null|      null|\n",
            "|    2013|       1|    326|       P|   de Blasio, Bill|        N|    16|       D|  null|      null|R0042524| 9/8/2013|      null|1199/SEIU NYS Pol...| PCOMP| null|   null|     null|        M|    New York|   NY|10036|      null|   null|    null|      null|   null|    null|   168.31|        0|       0|         0|    null|        null|    null|    null|    null|    null| null|  null|                null|      null|       null|      null|    null|             null|    WAGES|    null|     null|     N|   null|      null|\n",
            "|    2013|       1|    326|       P|   de Blasio, Bill|        N|    16|       D|  null|      null|R0042526| 9/8/2013|      null|1199/SEIU NYS Pol...| PCOMP| null|   null|     null|        M|    New York|   NY|10036|      null|   null|    null|      null|   null|    null|       60|        0|       0|         0|    null|        null|    null|    null|    null|    null| null|  null|                null|      null|       null|      null|    null|             null|    PROFL|    null|     null|     N|   null|      null|\n",
            "|    2013|       1|    326|       P|   de Blasio, Bill|        N|    16|       M|  null|      null|R0028635| 9/8/2013|  9/9/2013|1199/SEIU NYS Pol...| PCOMP| null|   null|     null|        M|    New York|   NY|10036|      null|   null|    null|      null|   null|    null|-19084.25|        0|       0|         0|    null|        null|    null|    null|    null|    null| null|  null|                null|      null|       null|      null|    null|             null|     null|    null|        2|     N|      N|      null|\n",
            "|    2013|       1|    326|       P|   de Blasio, Bill|        N|    16|       M|  null|      null|R0042525| 9/8/2013|10/28/2013|1199/SEIU NYS Pol...| PCOMP| null|   null|     null|        M|    New York|   NY|10036|      null|   null|    null|      null|   null|    null|  -168.31|        0|       0|         0|    null|        null|    null|    null|    null|    null| null|  null|                null|      null|       null|      null|    null|             null|     null|    null|        2|     N|      N|      null|\n",
            "|    2013|       1|     FI|       P|       Liu, John C|        N|     3|     ABC|  null|      null|R0008939|7/11/2011|      null|1199SEIU NYS Poli...| PCOMP| null|   null|     null|        M|    New York|   NY|10036|      null|   null|    null|      null|   null|    null|      800|        0|       0|         2|    null|        null|    null|    null|    null|    null| null|  null|                null|      null|       null|      null|    null|             null|     null|    null|     null|     N|      N|      null|\n",
            "|    2013|       1|     FI|       P|       Liu, John C|        N|     4|     ABC|  null|      null|R0010257|1/11/2012|      null|1199SEIU NYS Poli...| PCOMP| null|   null|     null|        M|    New York|   NY|10036|      null|   null|    null|      null|   null|    null|     2500|        0|     800|         2|    null|        null|    null|    null|    null|    null| null|  null|                null|      null|       null|      null|    null|             null|     null|    null|     null|     N|      N|      null|\n",
            "|    2013|       1|     FI|       P|       Liu, John C|        N|     5|     ABC|  null|      null|R0012166|4/24/2012|      null|1199SEIU NYS Poli...| PCOMP| null|   null|     null|        M|    New York|   NY|10036|      null|   null|    null|      null|   null|    null|     1650|        0|    3300|         2|    null|        null|    null|    null|    null|    null| null|  null|                null|      null|       null|      null|    null|             null|     null|    null|     null|     N|      N|      null|\n",
            "|    2013|       1|   1757|      NP|    Person, Carl E|        H|    16|       N|  null|      null|R0000014|     null|      null|            123Print|  CORP| null|   null|     null|     null|   Frederick|   MD|21703|      null|   null|    null|      null|   null|    null|   115.95|        0|       0|         0|    null|        null|    null|    null|    null|    null| null|  null|                null|      null|       null|      null|    null|             null|     null|    null|     null|     N|      N|      null|\n",
            "|    2013|       1|     BB|       P| Weiner, Anthony D|        J|     1|     ABC|  null|      null|R0001858|7/11/2007|      null|   155 W 21st St LLC|   LLC| null|   null|     null|        Z|Lake Success|   NY|11042|      null|   null|    null|      null|   null|    null|     2000|        0|       0|         2|    null|        null|    null|    null|    null|    null| null|  null|                null|      null|       null|      null|    null|             null|     null|    null|     null|     N|      N|      null|\n",
            "|    2013|       1|     BB|       P| Weiner, Anthony D|        J|    16|       M|  null|      null|R0007358|7/11/2007| 3/11/2009|   155 W 21st St LLC|   LLC| null|   null|     null|        Z|Lake Success|   NY|11042|      null|   null|    null|      null|   null|    null|    -2000|        0|       0|         0|    null|        null|    null|    null|    null|    null| null|  null|                null|      null|       null|      null|    null|             null|     null|    null|        2|     N|      N|      null|\n",
            "|    2013|       1|     BB|       P| Weiner, Anthony D|        J|     1|     ABC|  null|      null|R0001860|7/11/2007|      null|    171 Mulberry LLC|   LLC| null|   null|     null|        M|    New York|   NY|10016|      null|   null|    null|      null|   null|    null|      500|        0|       0|         2|       6|Ross, Todd M|    null|    null|    null|New York|   NY| 10004|Ross Insurance Br...|       183|Madison Ave|  New York|      NY|Insurance Brokers|     null|    null|     null|     N|      N|       IND|\n",
            "|    2013|       1|     BB|       P| Weiner, Anthony D|        J|     1|     ABC|  null|      null|R0002276|7/23/2007|      null|1717 Dallas Partn...|   LLC| null|   null|     null|        Z|      Dallas|   TX|75201|      null|   null|    null|      null|   null|    null|     4950|        0|       0|         2|    null|        null|    null|    null|    null|    null| null|  null|                null|      null|       null|      null|    null|             null|     null|    null|     null|     N|      N|      null|\n",
            "|    2013|       1|     BB|       P| Weiner, Anthony D|        J|     1|     ABC|  null|      null|R0002281|7/23/2007|      null|1717 Main St Part...|   LLC| null|   null|     null|        Z|      Dallas|   TX|75201|      null|   null|    null|      null|   null|    null|     4950|        0|       0|         2|    null|        null|    null|    null|    null|    null| null|  null|                null|      null|       null|      null|    null|             null|     null|    null|     null|     N|      N|      null|\n",
            "|    2013|       1|     BB|       P| Weiner, Anthony D|        J|    16|       M|  null|      null|R0008221|7/23/2007|12/22/2010|1717 Main St Part...|   LLC| null|   null|     null|        Z|      Dallas|   TX|75201|      null|   null|    null|      null|   null|    null|    -4950|        0|       0|         0|    null|        null|    null|    null|    null|    null| null|  null|                null|      null|       null|      null|    null|             null|     null|    null|        2|     N|      N|      null|\n",
            "|    2013|       1|   1669|      NP|    Credico, Randy|        H|     8|     ABC|  null|      null|R0000104|1/14/2013|      null|220 WEST RESTAURA...|  CORP| null|   null|     null|        M|    New York|   NY|10019|      null|   null|    null|      null|   null|    null|      250|        0|       0|         2|    null|        null|    null|    null|    null|    null| null|  null|                null|      null|       null|      null|    null|             null|     null|    null|     null|     N|      N|      null|\n",
            "|    2013|       1|   1669|      NP|    Credico, Randy|        H|     8|       M|  null|      null|R0000152|1/14/2013| 1/22/2013|220 WEST RESTAURA...|  CORP| null|   null|     null|        M|    New York|   NY|10019|      null|   null|    null|      null|   null|    null|     -250|        0|       0|         0|    null|        null|    null|    null|    null|    null| null|  null|                null|      null|       null|      null|    null|             null|     null|    null|        2|     N|      N|      null|\n",
            "+--------+--------+-------+--------+------------------+---------+------+--------+------+----------+--------+---------+----------+--------------------+------+-----+-------+---------+---------+------------+-----+-----+----------+-------+--------+----------+-------+--------+---------+---------+--------+----------+--------+------------+--------+--------+--------+--------+-----+------+--------------------+----------+-----------+----------+--------+-----------------+---------+--------+---------+------+-------+----------+\n",
            "only showing top 20 rows\n",
            "\n"
          ]
        }
      ]
    },
    {
      "cell_type": "code",
      "metadata": {
        "colab": {
          "base_uri": "https://localhost:8080/"
        },
        "id": "Bmgs7_Du1aZ0",
        "outputId": "0d3e9539-4526-4849-bf57-818cdaa9626b"
      },
      "source": [
        "df.dtypes"
      ],
      "execution_count": null,
      "outputs": [
        {
          "output_type": "execute_result",
          "data": {
            "text/plain": [
              "[('ELECTION', 'string'),\n",
              " ('OFFICECD', 'string'),\n",
              " ('RECIPID', 'string'),\n",
              " ('CANCLASS', 'string'),\n",
              " ('RECIPNAME', 'string'),\n",
              " ('COMMITTEE', 'string'),\n",
              " ('FILING', 'string'),\n",
              " ('SCHEDULE', 'string'),\n",
              " ('PAGENO', 'string'),\n",
              " ('SEQUENCENO', 'string'),\n",
              " ('REFNO', 'string'),\n",
              " ('DATE', 'string'),\n",
              " ('REFUNDDATE', 'string'),\n",
              " ('NAME', 'string'),\n",
              " ('C_CODE', 'string'),\n",
              " ('STRNO', 'string'),\n",
              " ('STRNAME', 'string'),\n",
              " ('APARTMENT', 'string'),\n",
              " ('BOROUGHCD', 'string'),\n",
              " ('CITY', 'string'),\n",
              " ('STATE', 'string'),\n",
              " ('ZIP', 'string'),\n",
              " ('OCCUPATION', 'string'),\n",
              " ('EMPNAME', 'string'),\n",
              " ('EMPSTRNO', 'string'),\n",
              " ('EMPSTRNAME', 'string'),\n",
              " ('EMPCITY', 'string'),\n",
              " ('EMPSTATE', 'string'),\n",
              " ('AMNT', 'string'),\n",
              " ('MATCHAMNT', 'string'),\n",
              " ('PREVAMNT', 'string'),\n",
              " ('PAY_METHOD', 'string'),\n",
              " ('INTERMNO', 'string'),\n",
              " ('INTERMNAME', 'string'),\n",
              " ('INTSTRNO', 'string'),\n",
              " ('INTSTRNM', 'string'),\n",
              " ('INTAPTNO', 'string'),\n",
              " ('INTCITY', 'string'),\n",
              " ('INTST', 'string'),\n",
              " ('INTZIP', 'string'),\n",
              " ('INTEMPNAME', 'string'),\n",
              " ('INTEMPSTNO', 'string'),\n",
              " ('INTEMPSTNM', 'string'),\n",
              " ('INTEMPCITY', 'string'),\n",
              " ('INTEMPST', 'string'),\n",
              " ('INTOCCUPA', 'string'),\n",
              " ('PURPOSECD', 'string'),\n",
              " ('EXEMPTCD', 'string'),\n",
              " ('ADJTYPECD', 'string'),\n",
              " ('RR_IND', 'string'),\n",
              " ('SEG_IND', 'string'),\n",
              " ('INT_C_CODE', 'string')]"
            ]
          },
          "metadata": {},
          "execution_count": 56
        }
      ]
    },
    {
      "cell_type": "code",
      "metadata": {
        "colab": {
          "base_uri": "https://localhost:8080/"
        },
        "id": "YmwP3jA730SB",
        "outputId": "65852d7b-75d7-4b3f-e132-ef0370cdab1c"
      },
      "source": [
        "# Remove multiple columns\n",
        "list = ['COMMITTEE', 'FILING', 'SCHEDULE', 'PAGENO', 'SEQUENCENO','REFNO', 'STRNO', 'STRNAME', 'APARTMENT', 'OCCUPATION', 'EMPNAME', 'EMPSTRNO', 'EMPSTRNAME',\n",
        "                'EMPCITY','REFUNDDATE','INTERMNO', 'INTERMNAME', 'INTSTRNO', 'INTSTRNM', 'INTSTRNM', 'INTAPTNO',\n",
        "                'INTCITY', 'INTST','INTZIP', 'INTEMPNAME', 'INTEMPSTNO', 'INTEMPSTNM', 'INTEMPCITY', 'INTEMPST', 'INTOCCUPA' ,'PURPOSECD', 'EXEMPTCD','ADJTYPECD', 'RR_IND', 'SEG_IND','INT_C_CODE'] \n",
        "df = df.drop(*list)\n",
        "df.show()"
      ],
      "execution_count": null,
      "outputs": [
        {
          "output_type": "stream",
          "name": "stdout",
          "text": [
            "+--------+--------+-------+--------+------------------+---------+--------------------+------+---------+------------+-----+-----+--------+---------+---------+--------+----------+\n",
            "|ELECTION|OFFICECD|RECIPID|CANCLASS|         RECIPNAME|     DATE|                NAME|C_CODE|BOROUGHCD|        CITY|STATE|  ZIP|EMPSTATE|     AMNT|MATCHAMNT|PREVAMNT|PAY_METHOD|\n",
            "+--------+--------+-------+--------+------------------+---------+--------------------+------+---------+------------+-----+-----+--------+---------+---------+--------+----------+\n",
            "|    2013|       1|    204|       P|Quinn, Christine C|7/11/2011|1199 SEIU PAC - N...| PCOMP|        M|    New York|   NY|10036|    null|     1000|        0|       0|         2|\n",
            "|    2013|       1|    204|       P|Quinn, Christine C|1/10/2013|1199 SEIU PAC - N...| PCOMP|        M|    New York|   NY|10036|    null|     3950|        0|    1000|         2|\n",
            "|    2013|       1|    326|       P|   de Blasio, Bill|4/29/2010|1199/SEIU NYS Pol...| PCOMP|        M|    New York|   NY|10036|    null|     4950|        0|       0|         2|\n",
            "|    2013|       1|    326|       P|   de Blasio, Bill| 9/8/2013|1199/SEIU NYS Pol...| PCOMP|        M|    New York|   NY|10036|    null| 19084.25|        0|       0|         0|\n",
            "|    2013|       1|    326|       P|   de Blasio, Bill| 9/8/2013|1199/SEIU NYS Pol...| PCOMP|        M|    New York|   NY|10036|    null|   168.31|        0|       0|         0|\n",
            "|    2013|       1|    326|       P|   de Blasio, Bill| 9/8/2013|1199/SEIU NYS Pol...| PCOMP|        M|    New York|   NY|10036|    null|       60|        0|       0|         0|\n",
            "|    2013|       1|    326|       P|   de Blasio, Bill| 9/8/2013|1199/SEIU NYS Pol...| PCOMP|        M|    New York|   NY|10036|    null|-19084.25|        0|       0|         0|\n",
            "|    2013|       1|    326|       P|   de Blasio, Bill| 9/8/2013|1199/SEIU NYS Pol...| PCOMP|        M|    New York|   NY|10036|    null|  -168.31|        0|       0|         0|\n",
            "|    2013|       1|     FI|       P|       Liu, John C|7/11/2011|1199SEIU NYS Poli...| PCOMP|        M|    New York|   NY|10036|    null|      800|        0|       0|         2|\n",
            "|    2013|       1|     FI|       P|       Liu, John C|1/11/2012|1199SEIU NYS Poli...| PCOMP|        M|    New York|   NY|10036|    null|     2500|        0|     800|         2|\n",
            "|    2013|       1|     FI|       P|       Liu, John C|4/24/2012|1199SEIU NYS Poli...| PCOMP|        M|    New York|   NY|10036|    null|     1650|        0|    3300|         2|\n",
            "|    2013|       1|   1757|      NP|    Person, Carl E|     null|            123Print|  CORP|     null|   Frederick|   MD|21703|    null|   115.95|        0|       0|         0|\n",
            "|    2013|       1|     BB|       P| Weiner, Anthony D|7/11/2007|   155 W 21st St LLC|   LLC|        Z|Lake Success|   NY|11042|    null|     2000|        0|       0|         2|\n",
            "|    2013|       1|     BB|       P| Weiner, Anthony D|7/11/2007|   155 W 21st St LLC|   LLC|        Z|Lake Success|   NY|11042|    null|    -2000|        0|       0|         0|\n",
            "|    2013|       1|     BB|       P| Weiner, Anthony D|7/11/2007|    171 Mulberry LLC|   LLC|        M|    New York|   NY|10016|    null|      500|        0|       0|         2|\n",
            "|    2013|       1|     BB|       P| Weiner, Anthony D|7/23/2007|1717 Dallas Partn...|   LLC|        Z|      Dallas|   TX|75201|    null|     4950|        0|       0|         2|\n",
            "|    2013|       1|     BB|       P| Weiner, Anthony D|7/23/2007|1717 Main St Part...|   LLC|        Z|      Dallas|   TX|75201|    null|     4950|        0|       0|         2|\n",
            "|    2013|       1|     BB|       P| Weiner, Anthony D|7/23/2007|1717 Main St Part...|   LLC|        Z|      Dallas|   TX|75201|    null|    -4950|        0|       0|         0|\n",
            "|    2013|       1|   1669|      NP|    Credico, Randy|1/14/2013|220 WEST RESTAURA...|  CORP|        M|    New York|   NY|10019|    null|      250|        0|       0|         2|\n",
            "|    2013|       1|   1669|      NP|    Credico, Randy|1/14/2013|220 WEST RESTAURA...|  CORP|        M|    New York|   NY|10019|    null|     -250|        0|       0|         0|\n",
            "+--------+--------+-------+--------+------------------+---------+--------------------+------+---------+------------+-----+-----+--------+---------+---------+--------+----------+\n",
            "only showing top 20 rows\n",
            "\n"
          ]
        }
      ]
    },
    {
      "cell_type": "code",
      "metadata": {
        "colab": {
          "base_uri": "https://localhost:8080/"
        },
        "id": "MLAumBmX3nnF",
        "outputId": "a09212a6-83f6-4ddd-8321-5644c25c7c4a"
      },
      "source": [
        "df.select('RECIPID').distinct().show()"
      ],
      "execution_count": null,
      "outputs": [
        {
          "output_type": "stream",
          "name": "stdout",
          "text": [
            "+-------+\n",
            "|RECIPID|\n",
            "+-------+\n",
            "|   1669|\n",
            "|     FI|\n",
            "|    647|\n",
            "|   1518|\n",
            "|   1605|\n",
            "|     AU|\n",
            "|    326|\n",
            "|   1796|\n",
            "|    204|\n",
            "|   1666|\n",
            "|   1690|\n",
            "|    260|\n",
            "|     ED|\n",
            "|     BB|\n",
            "|   1757|\n",
            "+-------+\n",
            "\n"
          ]
        }
      ]
    },
    {
      "cell_type": "code",
      "metadata": {
        "colab": {
          "base_uri": "https://localhost:8080/",
          "height": 181
        },
        "id": "Ebm2l9JOLbtQ",
        "outputId": "1eda7048-0488-4b60-df99-3d203a439891"
      },
      "source": [
        "#df1 = df.filter(df.DATE.isNull())\n",
        "#df1.select(when(df.DATE.isnull(),\"0\").alias(\"Date\")).show()"
      ],
      "execution_count": null,
      "outputs": [
        {
          "output_type": "error",
          "ename": "TypeError",
          "evalue": "ignored",
          "traceback": [
            "\u001b[0;31m---------------------------------------------------------------------------\u001b[0m",
            "\u001b[0;31mTypeError\u001b[0m                                 Traceback (most recent call last)",
            "\u001b[0;32m<ipython-input-110-b25b4e325b61>\u001b[0m in \u001b[0;36m<module>\u001b[0;34m()\u001b[0m\n\u001b[1;32m      1\u001b[0m \u001b[0mdf1\u001b[0m \u001b[0;34m=\u001b[0m \u001b[0mdf\u001b[0m\u001b[0;34m.\u001b[0m\u001b[0mfilter\u001b[0m\u001b[0;34m(\u001b[0m\u001b[0mdf\u001b[0m\u001b[0;34m.\u001b[0m\u001b[0mDATE\u001b[0m\u001b[0;34m.\u001b[0m\u001b[0misNull\u001b[0m\u001b[0;34m(\u001b[0m\u001b[0;34m)\u001b[0m\u001b[0;34m)\u001b[0m\u001b[0;34m\u001b[0m\u001b[0;34m\u001b[0m\u001b[0m\n\u001b[0;32m----> 2\u001b[0;31m \u001b[0mdf1\u001b[0m\u001b[0;34m.\u001b[0m\u001b[0mselect\u001b[0m\u001b[0;34m(\u001b[0m\u001b[0mwhen\u001b[0m\u001b[0;34m(\u001b[0m\u001b[0mdf\u001b[0m\u001b[0;34m.\u001b[0m\u001b[0mDATE\u001b[0m\u001b[0;34m.\u001b[0m\u001b[0misnull\u001b[0m\u001b[0;34m(\u001b[0m\u001b[0;34m)\u001b[0m\u001b[0;34m,\u001b[0m\u001b[0;34m\"0\"\u001b[0m\u001b[0;34m)\u001b[0m\u001b[0;34m.\u001b[0m\u001b[0malias\u001b[0m\u001b[0;34m(\u001b[0m\u001b[0;34m\"Date\"\u001b[0m\u001b[0;34m)\u001b[0m\u001b[0;34m)\u001b[0m\u001b[0;34m.\u001b[0m\u001b[0mshow\u001b[0m\u001b[0;34m(\u001b[0m\u001b[0;34m)\u001b[0m\u001b[0;34m\u001b[0m\u001b[0;34m\u001b[0m\u001b[0m\n\u001b[0m",
            "\u001b[0;31mTypeError\u001b[0m: 'Column' object is not callable"
          ]
        }
      ]
    },
    {
      "cell_type": "code",
      "metadata": {
        "colab": {
          "base_uri": "https://localhost:8080/"
        },
        "id": "4o5qzVqITzbt",
        "outputId": "5ad5d0c0-20ca-4067-b8e2-8ba886ba6d2d"
      },
      "source": [
        "#df1.show()"
      ],
      "execution_count": null,
      "outputs": [
        {
          "output_type": "stream",
          "name": "stdout",
          "text": [
            "+--------+--------+-------+--------+---------------+----+--------------------+------+---------+-----------+-----+-----+--------+------+---------+--------+----------+\n",
            "|ELECTION|OFFICECD|RECIPID|CANCLASS|      RECIPNAME|DATE|                NAME|C_CODE|BOROUGHCD|       CITY|STATE|  ZIP|EMPSTATE|  AMNT|MATCHAMNT|PREVAMNT|PAY_METHOD|\n",
            "+--------+--------+-------+--------+---------------+----+--------------------+------+---------+-----------+-----+-----+--------+------+---------+--------+----------+\n",
            "|    2013|       1|   1757|      NP| Person, Carl E|null|            123Print|  CORP|     null|  Frederick|   MD|21703|    null|115.95|        0|       0|         0|\n",
            "|    2013|       1|   1757|      NP| Person, Carl E|null|3dna Corporation,...|  CORP|     null|Los Angeles|   CA|90013|    null|    19|        0|       0|         0|\n",
            "|    2013|       1|   1757|      NP| Person, Carl E|null|       Dreamhost.com|  CORP|     null|       Brea|   CA|92821|    null| 49.75|        0|       0|         0|\n",
            "|    2013|       1|   1757|      NP| Person, Carl E|null|Metropolitan Tran...|  OTHR|     null|   New York|   NY|10004|    null| 40.66|        0|       0|         0|\n",
            "|    2013|       1|   1757|      NP| Person, Carl E|null|NYC Board of Elec...|  OTHR|     null|   New York|   NY|10004|    null|   200|        0|       0|         0|\n",
            "|    2013|       1|   1757|      NP| Person, Carl E|null|Taxi & Limousine ...|  OTHR|     null|   New York|   NY|10004|    null|    46|        0|       0|         0|\n",
            "|    2013|       1|     AU|       P|Albanese, Sal F|null|                USPS|  CORP|     null|   Brooklyn|   NY|11209|    null|    78|        0|       0|         0|\n",
            "+--------+--------+-------+--------+---------------+----+--------------------+------+---------+-----------+-----+-----+--------+------+---------+--------+----------+\n",
            "\n"
          ]
        }
      ]
    },
    {
      "cell_type": "code",
      "metadata": {
        "colab": {
          "base_uri": "https://localhost:8080/"
        },
        "id": "xDSOeFt6AKQu",
        "outputId": "4a69aaee-e989-4918-aa14-bdfa9f3057e6"
      },
      "source": [
        "df1 = df \\\n",
        ".withColumnRenamed(\"ELECTION\", \"Election\") \\\n",
        ".withColumnRenamed(\"RECIPID\", \"CandidateID\") \\\n",
        ".withColumnRenamed(\"RECIPNAME\", \"CandidateName\") \\\n",
        ".withColumnRenamed(\"DATE\", \"Date\") \\\n",
        ".withColumnRenamed(\"NAME\", \"Name\") \\\n",
        ".withColumnRenamed(\"C_CODE\", \"ContributerType\") \\\n",
        ".withColumnRenamed(\"BOROUGHCD\", \"BoroughName\") \\\n",
        ".withColumnRenamed(\"CITY\", \"City\") \\\n",
        ".withColumnRenamed(\"STATE\", \"State\") \\\n",
        ".withColumnRenamed(\"ZIP\", \"ZipCode\") \\\n",
        ".withColumnRenamed(\"EMPSTATE\", \"ContributionState\") \\\n",
        ".withColumnRenamed(\"AMNT\", \"Amount\") \\\n",
        ".withColumnRenamed(\"MATCHAMNT\", \"MatchAmt\") \\\n",
        ".withColumnRenamed(\"PREVAMNT\", \"PrevAmt\") \\\n",
        ".withColumnRenamed(\"PAY_METHOD\", \"PayMethod\") \n",
        "\n",
        "df1.printSchema()"
      ],
      "execution_count": null,
      "outputs": [
        {
          "output_type": "stream",
          "name": "stdout",
          "text": [
            "root\n",
            " |-- Election: string (nullable = true)\n",
            " |-- OFFICECD: string (nullable = true)\n",
            " |-- CandidateID: string (nullable = true)\n",
            " |-- CANCLASS: string (nullable = true)\n",
            " |-- CandidateName: string (nullable = true)\n",
            " |-- Date: string (nullable = true)\n",
            " |-- Name: string (nullable = true)\n",
            " |-- ContributerType: string (nullable = true)\n",
            " |-- BoroughName: string (nullable = true)\n",
            " |-- City: string (nullable = true)\n",
            " |-- State: string (nullable = true)\n",
            " |-- ZipCode: string (nullable = true)\n",
            " |-- ContributionState: string (nullable = true)\n",
            " |-- Amount: string (nullable = true)\n",
            " |-- MatchAmt: string (nullable = true)\n",
            " |-- PrevAmt: string (nullable = true)\n",
            " |-- PayMethod: string (nullable = true)\n",
            "\n"
          ]
        }
      ]
    },
    {
      "cell_type": "code",
      "metadata": {
        "colab": {
          "base_uri": "https://localhost:8080/"
        },
        "id": "nAYEoWF64Vvs",
        "outputId": "48d9cdf5-1469-48bf-9a9c-9f7ba84d4f8c"
      },
      "source": [
        "# changing datatypes of columns\n",
        "df2 = df1 \\\n",
        "  .withColumn(\"Election\",df1[\"Election\"].cast(\"Integer\")) \\\n",
        "  .withColumn(\"OFFICECD\", df1[\"OFFICECD\"].cast(\"Integer\")) \\\n",
        "  .withColumn(\"CandidateID\", df1[\"CandidateID\"].cast(\"Integer\")) \\\n",
        "  .withColumn(\"ZipCode\", df1[\"ZipCode\"].cast(\"Integer\")) \\\n",
        "  .withColumn(\"Amount\", df1[\"Amount\"].cast(\"Float\")) \\\n",
        "  .withColumn(\"MatchAmt\", df1[\"MatchAmt\"].cast(\"Float\")) \\\n",
        "  .withColumn(\"PrevAmt\", df1[\"PrevAmt\"].cast(\"Float\")) \\\n",
        "  \n",
        "df2.printSchema()"
      ],
      "execution_count": null,
      "outputs": [
        {
          "output_type": "stream",
          "name": "stdout",
          "text": [
            "root\n",
            " |-- Election: integer (nullable = true)\n",
            " |-- OFFICECD: integer (nullable = true)\n",
            " |-- CandidateID: integer (nullable = true)\n",
            " |-- CANCLASS: string (nullable = true)\n",
            " |-- CandidateName: string (nullable = true)\n",
            " |-- Date: string (nullable = true)\n",
            " |-- Name: string (nullable = true)\n",
            " |-- ContributerType: string (nullable = true)\n",
            " |-- BoroughName: string (nullable = true)\n",
            " |-- City: string (nullable = true)\n",
            " |-- State: string (nullable = true)\n",
            " |-- ZipCode: integer (nullable = true)\n",
            " |-- ContributionState: string (nullable = true)\n",
            " |-- Amount: float (nullable = true)\n",
            " |-- MatchAmt: float (nullable = true)\n",
            " |-- PrevAmt: float (nullable = true)\n",
            " |-- PayMethod: string (nullable = true)\n",
            "\n"
          ]
        }
      ]
    },
    {
      "cell_type": "code",
      "metadata": {
        "colab": {
          "base_uri": "https://localhost:8080/",
          "height": 290
        },
        "id": "80qdtEE-62nN",
        "outputId": "98236531-4c1d-4c54-919d-683124985c83"
      },
      "source": [
        "# converting column from string to datetime\n",
        "#from datetime import datetime\n",
        "#from pyspark.sql.functions import col, udf, when, unix_timestamp\n",
        "#from pyspark.sql.types import DateType\n",
        "\n",
        "#df2.select(when(df2['Date'].isNull(), \"\").df2['Date'].alias(\"New_Date\")).collect()\n",
        "\n",
        "#df2 = df2 \\\n",
        "#.withColumn(\"Date\",when((df2.Date.isNull()) ,\"\")).show()\n",
        "#.withColumn('Date_Formatted',when((df2[\"Date\"].isNull() | (df2[\"Date\"] == '')) ,'0')\\\n",
        "#.otherwise(to_date(str(df2.Date),\"MM-dd-yyyy\")))\\\n",
        "#.show()\n",
        "#df2.select(df2[\"Date\"],to_date(df2[\"Date\"],\"MM-dd-yyyy\")).show()"
      ],
      "execution_count": null,
      "outputs": [
        {
          "output_type": "error",
          "ename": "AnalysisException",
          "evalue": "ignored",
          "traceback": [
            "\u001b[0;31m---------------------------------------------------------------------------\u001b[0m",
            "\u001b[0;31mAnalysisException\u001b[0m                         Traceback (most recent call last)",
            "\u001b[0;32m<ipython-input-96-e7c1a9ef858a>\u001b[0m in \u001b[0;36m<module>\u001b[0;34m()\u001b[0m\n\u001b[1;32m      4\u001b[0m \u001b[0;32mfrom\u001b[0m \u001b[0mpyspark\u001b[0m\u001b[0;34m.\u001b[0m\u001b[0msql\u001b[0m\u001b[0;34m.\u001b[0m\u001b[0mtypes\u001b[0m \u001b[0;32mimport\u001b[0m \u001b[0mDateType\u001b[0m\u001b[0;34m\u001b[0m\u001b[0;34m\u001b[0m\u001b[0m\n\u001b[1;32m      5\u001b[0m \u001b[0;34m\u001b[0m\u001b[0m\n\u001b[0;32m----> 6\u001b[0;31m \u001b[0mdf2\u001b[0m\u001b[0;34m.\u001b[0m\u001b[0mselect\u001b[0m\u001b[0;34m(\u001b[0m\u001b[0mwhen\u001b[0m\u001b[0;34m(\u001b[0m\u001b[0mdf2\u001b[0m\u001b[0;34m[\u001b[0m\u001b[0;34m'Date'\u001b[0m\u001b[0;34m]\u001b[0m\u001b[0;34m.\u001b[0m\u001b[0misNull\u001b[0m\u001b[0;34m(\u001b[0m\u001b[0;34m)\u001b[0m\u001b[0;34m,\u001b[0m \u001b[0;34m\"\"\u001b[0m\u001b[0;34m)\u001b[0m\u001b[0;34m.\u001b[0m\u001b[0mdf2\u001b[0m\u001b[0;34m[\u001b[0m\u001b[0;34m'Date'\u001b[0m\u001b[0;34m]\u001b[0m\u001b[0;34m.\u001b[0m\u001b[0malias\u001b[0m\u001b[0;34m(\u001b[0m\u001b[0;34m\"New_Date\"\u001b[0m\u001b[0;34m)\u001b[0m\u001b[0;34m)\u001b[0m\u001b[0;34m.\u001b[0m\u001b[0mcollect\u001b[0m\u001b[0;34m(\u001b[0m\u001b[0;34m)\u001b[0m\u001b[0;34m\u001b[0m\u001b[0;34m\u001b[0m\u001b[0m\n\u001b[0m\u001b[1;32m      7\u001b[0m \u001b[0;34m\u001b[0m\u001b[0m\n\u001b[1;32m      8\u001b[0m \u001b[0;31m#df2 = df2 \\\u001b[0m\u001b[0;34m\u001b[0m\u001b[0;34m\u001b[0m\u001b[0;34m\u001b[0m\u001b[0m\n",
            "\u001b[0;32m/content/spark-3.0.3-bin-hadoop2.7/python/pyspark/sql/dataframe.py\u001b[0m in \u001b[0;36mselect\u001b[0;34m(self, *cols)\u001b[0m\n\u001b[1;32m   1419\u001b[0m         \u001b[0;34m[\u001b[0m\u001b[0mRow\u001b[0m\u001b[0;34m(\u001b[0m\u001b[0mname\u001b[0m\u001b[0;34m=\u001b[0m\u001b[0;34mu'Alice'\u001b[0m\u001b[0;34m,\u001b[0m \u001b[0mage\u001b[0m\u001b[0;34m=\u001b[0m\u001b[0;36m12\u001b[0m\u001b[0;34m)\u001b[0m\u001b[0;34m,\u001b[0m \u001b[0mRow\u001b[0m\u001b[0;34m(\u001b[0m\u001b[0mname\u001b[0m\u001b[0;34m=\u001b[0m\u001b[0;34mu'Bob'\u001b[0m\u001b[0;34m,\u001b[0m \u001b[0mage\u001b[0m\u001b[0;34m=\u001b[0m\u001b[0;36m15\u001b[0m\u001b[0;34m)\u001b[0m\u001b[0;34m]\u001b[0m\u001b[0;34m\u001b[0m\u001b[0;34m\u001b[0m\u001b[0m\n\u001b[1;32m   1420\u001b[0m         \"\"\"\n\u001b[0;32m-> 1421\u001b[0;31m         \u001b[0mjdf\u001b[0m \u001b[0;34m=\u001b[0m \u001b[0mself\u001b[0m\u001b[0;34m.\u001b[0m\u001b[0m_jdf\u001b[0m\u001b[0;34m.\u001b[0m\u001b[0mselect\u001b[0m\u001b[0;34m(\u001b[0m\u001b[0mself\u001b[0m\u001b[0;34m.\u001b[0m\u001b[0m_jcols\u001b[0m\u001b[0;34m(\u001b[0m\u001b[0;34m*\u001b[0m\u001b[0mcols\u001b[0m\u001b[0;34m)\u001b[0m\u001b[0;34m)\u001b[0m\u001b[0;34m\u001b[0m\u001b[0;34m\u001b[0m\u001b[0m\n\u001b[0m\u001b[1;32m   1422\u001b[0m         \u001b[0;32mreturn\u001b[0m \u001b[0mDataFrame\u001b[0m\u001b[0;34m(\u001b[0m\u001b[0mjdf\u001b[0m\u001b[0;34m,\u001b[0m \u001b[0mself\u001b[0m\u001b[0;34m.\u001b[0m\u001b[0msql_ctx\u001b[0m\u001b[0;34m)\u001b[0m\u001b[0;34m\u001b[0m\u001b[0;34m\u001b[0m\u001b[0m\n\u001b[1;32m   1423\u001b[0m \u001b[0;34m\u001b[0m\u001b[0m\n",
            "\u001b[0;32m/content/spark-3.0.3-bin-hadoop2.7/python/lib/py4j-0.10.9-src.zip/py4j/java_gateway.py\u001b[0m in \u001b[0;36m__call__\u001b[0;34m(self, *args)\u001b[0m\n\u001b[1;32m   1303\u001b[0m         \u001b[0manswer\u001b[0m \u001b[0;34m=\u001b[0m \u001b[0mself\u001b[0m\u001b[0;34m.\u001b[0m\u001b[0mgateway_client\u001b[0m\u001b[0;34m.\u001b[0m\u001b[0msend_command\u001b[0m\u001b[0;34m(\u001b[0m\u001b[0mcommand\u001b[0m\u001b[0;34m)\u001b[0m\u001b[0;34m\u001b[0m\u001b[0;34m\u001b[0m\u001b[0m\n\u001b[1;32m   1304\u001b[0m         return_value = get_return_value(\n\u001b[0;32m-> 1305\u001b[0;31m             answer, self.gateway_client, self.target_id, self.name)\n\u001b[0m\u001b[1;32m   1306\u001b[0m \u001b[0;34m\u001b[0m\u001b[0m\n\u001b[1;32m   1307\u001b[0m         \u001b[0;32mfor\u001b[0m \u001b[0mtemp_arg\u001b[0m \u001b[0;32min\u001b[0m \u001b[0mtemp_args\u001b[0m\u001b[0;34m:\u001b[0m\u001b[0;34m\u001b[0m\u001b[0;34m\u001b[0m\u001b[0m\n",
            "\u001b[0;32m/content/spark-3.0.3-bin-hadoop2.7/python/pyspark/sql/utils.py\u001b[0m in \u001b[0;36mdeco\u001b[0;34m(*a, **kw)\u001b[0m\n\u001b[1;32m    132\u001b[0m                 \u001b[0;31m# Hide where the exception came from that shows a non-Pythonic\u001b[0m\u001b[0;34m\u001b[0m\u001b[0;34m\u001b[0m\u001b[0;34m\u001b[0m\u001b[0m\n\u001b[1;32m    133\u001b[0m                 \u001b[0;31m# JVM exception message.\u001b[0m\u001b[0;34m\u001b[0m\u001b[0;34m\u001b[0m\u001b[0;34m\u001b[0m\u001b[0m\n\u001b[0;32m--> 134\u001b[0;31m                 \u001b[0mraise_from\u001b[0m\u001b[0;34m(\u001b[0m\u001b[0mconverted\u001b[0m\u001b[0;34m)\u001b[0m\u001b[0;34m\u001b[0m\u001b[0;34m\u001b[0m\u001b[0m\n\u001b[0m\u001b[1;32m    135\u001b[0m             \u001b[0;32melse\u001b[0m\u001b[0;34m:\u001b[0m\u001b[0;34m\u001b[0m\u001b[0;34m\u001b[0m\u001b[0m\n\u001b[1;32m    136\u001b[0m                 \u001b[0;32mraise\u001b[0m\u001b[0;34m\u001b[0m\u001b[0;34m\u001b[0m\u001b[0m\n",
            "\u001b[0;32m/content/spark-3.0.3-bin-hadoop2.7/python/pyspark/sql/utils.py\u001b[0m in \u001b[0;36mraise_from\u001b[0;34m(e)\u001b[0m\n",
            "\u001b[0;31mAnalysisException\u001b[0m: Can't extract value from CASE WHEN isnull(Date#6940) THEN  END: need struct type but got string;"
          ]
        }
      ]
    },
    {
      "cell_type": "code",
      "metadata": {
        "id": "P4diRQphoL8y"
      },
      "source": [
        "#Change vaule name in ContributerType\n",
        "from pyspark.sql.functions import regexp_replace\n",
        "df3 = df2.withColumn('ContributerType', regexp_replace('ContributerType', 'CAN', 'Candidate')) \\\n",
        "  .withColumn('ContributerType', regexp_replace('ContributerType', 'CORP', 'Corporation')) \\\n",
        "  .withColumn('ContributerType', regexp_replace('ContributerType', 'EMPO', 'Labor Union')) \\\n",
        "  .withColumn('ContributerType', regexp_replace('ContributerType', 'FAM', 'Candidate Family')) \\\n",
        "  .withColumn('ContributerType', regexp_replace('ContributerType', 'IND', 'Individual')) \\\n",
        "  .withColumn('ContributerType', regexp_replace('ContributerType', 'PCOMZ', 'Party Committee')) \\\n",
        "  .withColumn('ContributerType', regexp_replace('ContributerType', 'ORG', 'Orgainization')) \\\n",
        "  .withColumn('ContributerType', regexp_replace('ContributerType', 'LLC', 'Limited Liability Company')) \\\n",
        "  .withColumn('ContributerType', regexp_replace('ContributerType', 'PCOMP', 'Political Action Committee')) \\\n",
        "  .withColumn('ContributerType', regexp_replace('ContributerType', 'SPO', 'Spouse')) \\\n",
        "  .withColumn('ContributerType', regexp_replace('ContributerType', 'OTHR', 'Other')) \\\n",
        "  .withColumn('ContributerType', regexp_replace('ContributerType', 'PCOMC', 'Candidate Committee')) \\\n",
        "  .withColumn('ContributerType', regexp_replace('ContributerType', 'PART', 'Individual')) \\"
      ],
      "execution_count": null,
      "outputs": []
    },
    {
      "cell_type": "code",
      "metadata": {
        "id": "kqoiJ-hFo2Ck"
      },
      "source": [
        "#Change Payment Method Name\n",
        "df4=df3.withColumn('PayMethod', regexp_replace('PayMethod','0','Unknown')) \\\n",
        "  .withColumn('PayMethod', regexp_replace('PayMethod','1','Cash')) \\\n",
        "  .withColumn('PayMethod', regexp_replace('PayMethod','2','Check')) \\\n",
        "  .withColumn('PayMethod', regexp_replace('PayMethod','3','Other')) \\\n",
        "  .withColumn('PayMethod', regexp_replace('PayMethod','4','Credit Card')) \\\n",
        "  .withColumn('PayMethod', regexp_replace('PayMethod','5','Money Order')) \\"
      ],
      "execution_count": null,
      "outputs": []
    },
    {
      "cell_type": "code",
      "metadata": {
        "id": "3Ix7r4Z0o4vq"
      },
      "source": [
        "#Change Borough name\n",
        "from pyspark.sql.functions import regexp_replace\n",
        "df5 = df4.withColumn('BoroughName', regexp_replace('BoroughName', 'K', 'Brooklyn')) \\\n",
        "  .withColumn('BoroughName', regexp_replace('BoroughName', 'M', 'Manhattan')) \\\n",
        "  .withColumn('BoroughName', regexp_replace('BoroughName', 'Q', 'Queens')) \\\n",
        "  .withColumn('BoroughName', regexp_replace('BoroughName', 'S', 'Staten Island')) \\\n",
        "  .withColumn('BoroughName', regexp_replace('BoroughName', 'X', 'Bronx')) \\\n",
        "  .withColumn('BoroughName', regexp_replace('BoroughName', 'Z', 'Other')) \\"
      ],
      "execution_count": null,
      "outputs": []
    },
    {
      "cell_type": "code",
      "metadata": {
        "id": "vXtBqyP44bGl",
        "colab": {
          "base_uri": "https://localhost:8080/"
        },
        "outputId": "36b38cce-cd79-47f7-fae3-a0afc8712973"
      },
      "source": [
        "df6 = df5.filter((df5.OFFICECD==\"1\") & (df5.CANCLASS==\"P\"))\n",
        "df6.show()"
      ],
      "execution_count": null,
      "outputs": [
        {
          "output_type": "stream",
          "name": "stdout",
          "text": [
            "+--------+--------+-----------+--------+------------------+----+--------------------+--------------------+-----------+------------+-----+-------+-----------------+---------+--------+-------+---------+\n",
            "|Election|OFFICECD|CandidateID|CANCLASS|     CandidateName|Date|                Name|     ContributerType|BoroughName|        City|State|ZipCode|ContributionState|   Amount|MatchAmt|PrevAmt|PayMethod|\n",
            "+--------+--------+-----------+--------+------------------+----+--------------------+--------------------+-----------+------------+-----+-------+-----------------+---------+--------+-------+---------+\n",
            "|    2013|       1|        204|       P|Quinn, Christine C|null|1199 SEIU PAC - N...|Political Action ...|  Manhattan|    New York|   NY|  10036|             null|   1000.0|     0.0|    0.0|    Check|\n",
            "|    2013|       1|        204|       P|Quinn, Christine C|null|1199 SEIU PAC - N...|Political Action ...|  Manhattan|    New York|   NY|  10036|             null|   3950.0|     0.0| 1000.0|    Check|\n",
            "|    2013|       1|        326|       P|   de Blasio, Bill|null|1199/SEIU NYS Pol...|Political Action ...|  Manhattan|    New York|   NY|  10036|             null|   4950.0|     0.0|    0.0|    Check|\n",
            "|    2013|       1|        326|       P|   de Blasio, Bill|null|1199/SEIU NYS Pol...|Political Action ...|  Manhattan|    New York|   NY|  10036|             null| 19084.25|     0.0|    0.0|  Unknown|\n",
            "|    2013|       1|        326|       P|   de Blasio, Bill|null|1199/SEIU NYS Pol...|Political Action ...|  Manhattan|    New York|   NY|  10036|             null|   168.31|     0.0|    0.0|  Unknown|\n",
            "|    2013|       1|        326|       P|   de Blasio, Bill|null|1199/SEIU NYS Pol...|Political Action ...|  Manhattan|    New York|   NY|  10036|             null|     60.0|     0.0|    0.0|  Unknown|\n",
            "|    2013|       1|        326|       P|   de Blasio, Bill|null|1199/SEIU NYS Pol...|Political Action ...|  Manhattan|    New York|   NY|  10036|             null|-19084.25|     0.0|    0.0|  Unknown|\n",
            "|    2013|       1|        326|       P|   de Blasio, Bill|null|1199/SEIU NYS Pol...|Political Action ...|  Manhattan|    New York|   NY|  10036|             null|  -168.31|     0.0|    0.0|  Unknown|\n",
            "|    2013|       1|       null|       P|       Liu, John C|null|1199SEIU NYS Poli...|Political Action ...|  Manhattan|    New York|   NY|  10036|             null|    800.0|     0.0|    0.0|    Check|\n",
            "|    2013|       1|       null|       P|       Liu, John C|null|1199SEIU NYS Poli...|Political Action ...|  Manhattan|    New York|   NY|  10036|             null|   2500.0|     0.0|  800.0|    Check|\n",
            "|    2013|       1|       null|       P|       Liu, John C|null|1199SEIU NYS Poli...|Political Action ...|  Manhattan|    New York|   NY|  10036|             null|   1650.0|     0.0| 3300.0|    Check|\n",
            "|    2013|       1|       null|       P| Weiner, Anthony D|null|   155 W 21st St LLC|Limited Liability...|      Other|Lake Success|   NY|  11042|             null|   2000.0|     0.0|    0.0|    Check|\n",
            "|    2013|       1|       null|       P| Weiner, Anthony D|null|   155 W 21st St LLC|Limited Liability...|      Other|Lake Success|   NY|  11042|             null|  -2000.0|     0.0|    0.0|  Unknown|\n",
            "|    2013|       1|       null|       P| Weiner, Anthony D|null|    171 Mulberry LLC|Limited Liability...|  Manhattan|    New York|   NY|  10016|             null|    500.0|     0.0|    0.0|    Check|\n",
            "|    2013|       1|       null|       P| Weiner, Anthony D|null|1717 Dallas Partn...|Limited Liability...|      Other|      Dallas|   TX|  75201|             null|   4950.0|     0.0|    0.0|    Check|\n",
            "|    2013|       1|       null|       P| Weiner, Anthony D|null|1717 Main St Part...|Limited Liability...|      Other|      Dallas|   TX|  75201|             null|   4950.0|     0.0|    0.0|    Check|\n",
            "|    2013|       1|       null|       P| Weiner, Anthony D|null|1717 Main St Part...|Limited Liability...|      Other|      Dallas|   TX|  75201|             null|  -4950.0|     0.0|    0.0|  Unknown|\n",
            "|    2013|       1|       null|       P| Weiner, Anthony D|null|      30 Carmine LLC|Limited Liability...|  Manhattan|    New York|   NY|  10016|             null|    500.0|     0.0|    0.0|    Check|\n",
            "|    2013|       1|       null|       P| Weiner, Anthony D|null|39-08 103rd Stree...|Limited Liability...|  Manhattan|    New York|   NY|  10030|             null|   2000.0|     0.0|    0.0|    Check|\n",
            "|    2013|       1|       null|       P| Weiner, Anthony D|null|39-08 103rd Stree...|Limited Liability...|  Manhattan|    New York|   NY|  10030|             null|   4900.0|     0.0| 2000.0|    Check|\n",
            "+--------+--------+-----------+--------+------------------+----+--------------------+--------------------+-----------+------------+-----+-------+-----------------+---------+--------+-------+---------+\n",
            "only showing top 20 rows\n",
            "\n"
          ]
        }
      ]
    },
    {
      "cell_type": "code",
      "metadata": {
        "id": "0LFHT4Vg5PEV",
        "colab": {
          "base_uri": "https://localhost:8080/"
        },
        "outputId": "ec000ef9-7924-4b2f-f502-8b1e829f55c1"
      },
      "source": [
        "#Check the above dataframe to make sure only unique values between the OFFICECD is 1 \n",
        "df6.select('OFFICECD').distinct().show()\n"
      ],
      "execution_count": null,
      "outputs": [
        {
          "output_type": "stream",
          "name": "stdout",
          "text": [
            "+--------+\n",
            "|OFFICECD|\n",
            "+--------+\n",
            "|       1|\n",
            "+--------+\n",
            "\n"
          ]
        }
      ]
    },
    {
      "cell_type": "code",
      "metadata": {
        "colab": {
          "base_uri": "https://localhost:8080/"
        },
        "id": "W64T2ctjpCeH",
        "outputId": "ac6945e3-b220-430a-8591-a16b7c27ded0"
      },
      "source": [
        "#Drop OFFICECD and CANCLASS\n",
        "list2 = ['OFFICECD', 'CANCLASS'] \n",
        "df7 = df6.drop(*list2)\n",
        "df7.show()"
      ],
      "execution_count": null,
      "outputs": [
        {
          "output_type": "stream",
          "name": "stdout",
          "text": [
            "+--------+-----------+------------------+----+--------------------+--------------------+-----------+------------+-----+-------+-----------------+---------+--------+-------+---------+\n",
            "|Election|CandidateID|     CandidateName|Date|                Name|     ContributerType|BoroughName|        City|State|ZipCode|ContributionState|   Amount|MatchAmt|PrevAmt|PayMethod|\n",
            "+--------+-----------+------------------+----+--------------------+--------------------+-----------+------------+-----+-------+-----------------+---------+--------+-------+---------+\n",
            "|    2013|        204|Quinn, Christine C|null|1199 SEIU PAC - N...|Political Action ...|  Manhattan|    New York|   NY|  10036|             null|   1000.0|     0.0|    0.0|    Check|\n",
            "|    2013|        204|Quinn, Christine C|null|1199 SEIU PAC - N...|Political Action ...|  Manhattan|    New York|   NY|  10036|             null|   3950.0|     0.0| 1000.0|    Check|\n",
            "|    2013|        326|   de Blasio, Bill|null|1199/SEIU NYS Pol...|Political Action ...|  Manhattan|    New York|   NY|  10036|             null|   4950.0|     0.0|    0.0|    Check|\n",
            "|    2013|        326|   de Blasio, Bill|null|1199/SEIU NYS Pol...|Political Action ...|  Manhattan|    New York|   NY|  10036|             null| 19084.25|     0.0|    0.0|  Unknown|\n",
            "|    2013|        326|   de Blasio, Bill|null|1199/SEIU NYS Pol...|Political Action ...|  Manhattan|    New York|   NY|  10036|             null|   168.31|     0.0|    0.0|  Unknown|\n",
            "|    2013|        326|   de Blasio, Bill|null|1199/SEIU NYS Pol...|Political Action ...|  Manhattan|    New York|   NY|  10036|             null|     60.0|     0.0|    0.0|  Unknown|\n",
            "|    2013|        326|   de Blasio, Bill|null|1199/SEIU NYS Pol...|Political Action ...|  Manhattan|    New York|   NY|  10036|             null|-19084.25|     0.0|    0.0|  Unknown|\n",
            "|    2013|        326|   de Blasio, Bill|null|1199/SEIU NYS Pol...|Political Action ...|  Manhattan|    New York|   NY|  10036|             null|  -168.31|     0.0|    0.0|  Unknown|\n",
            "|    2013|       null|       Liu, John C|null|1199SEIU NYS Poli...|Political Action ...|  Manhattan|    New York|   NY|  10036|             null|    800.0|     0.0|    0.0|    Check|\n",
            "|    2013|       null|       Liu, John C|null|1199SEIU NYS Poli...|Political Action ...|  Manhattan|    New York|   NY|  10036|             null|   2500.0|     0.0|  800.0|    Check|\n",
            "|    2013|       null|       Liu, John C|null|1199SEIU NYS Poli...|Political Action ...|  Manhattan|    New York|   NY|  10036|             null|   1650.0|     0.0| 3300.0|    Check|\n",
            "|    2013|       null| Weiner, Anthony D|null|   155 W 21st St LLC|Limited Liability...|      Other|Lake Success|   NY|  11042|             null|   2000.0|     0.0|    0.0|    Check|\n",
            "|    2013|       null| Weiner, Anthony D|null|   155 W 21st St LLC|Limited Liability...|      Other|Lake Success|   NY|  11042|             null|  -2000.0|     0.0|    0.0|  Unknown|\n",
            "|    2013|       null| Weiner, Anthony D|null|    171 Mulberry LLC|Limited Liability...|  Manhattan|    New York|   NY|  10016|             null|    500.0|     0.0|    0.0|    Check|\n",
            "|    2013|       null| Weiner, Anthony D|null|1717 Dallas Partn...|Limited Liability...|      Other|      Dallas|   TX|  75201|             null|   4950.0|     0.0|    0.0|    Check|\n",
            "|    2013|       null| Weiner, Anthony D|null|1717 Main St Part...|Limited Liability...|      Other|      Dallas|   TX|  75201|             null|   4950.0|     0.0|    0.0|    Check|\n",
            "|    2013|       null| Weiner, Anthony D|null|1717 Main St Part...|Limited Liability...|      Other|      Dallas|   TX|  75201|             null|  -4950.0|     0.0|    0.0|  Unknown|\n",
            "|    2013|       null| Weiner, Anthony D|null|      30 Carmine LLC|Limited Liability...|  Manhattan|    New York|   NY|  10016|             null|    500.0|     0.0|    0.0|    Check|\n",
            "|    2013|       null| Weiner, Anthony D|null|39-08 103rd Stree...|Limited Liability...|  Manhattan|    New York|   NY|  10030|             null|   2000.0|     0.0|    0.0|    Check|\n",
            "|    2013|       null| Weiner, Anthony D|null|39-08 103rd Stree...|Limited Liability...|  Manhattan|    New York|   NY|  10030|             null|   4900.0|     0.0| 2000.0|    Check|\n",
            "+--------+-----------+------------------+----+--------------------+--------------------+-----------+------------+-----+-------+-----------------+---------+--------+-------+---------+\n",
            "only showing top 20 rows\n",
            "\n"
          ]
        }
      ]
    },
    {
      "cell_type": "code",
      "metadata": {
        "id": "9PeNvM_FHP1c",
        "colab": {
          "base_uri": "https://localhost:8080/"
        },
        "outputId": "1655b197-8cd3-4e17-b209-1a234728555f"
      },
      "source": [
        "# ADD AMNT , MATCHAMNT & PrevAmnt\n",
        "from pyspark.sql.functions import col\n",
        "df8 = df7.withColumn(\"TotalAmount\", col(\"Amount\")+col(\"MatchAmt\")+col('PrevAmt'))\n",
        "df8.show()"
      ],
      "execution_count": null,
      "outputs": [
        {
          "output_type": "stream",
          "name": "stdout",
          "text": [
            "+--------+-----------+------------------+----+--------------------+--------------------+-----------+------------+-----+-------+-----------------+---------+--------+-------+---------+-----------+\n",
            "|Election|CandidateID|     CandidateName|Date|                Name|     ContributerType|BoroughName|        City|State|ZipCode|ContributionState|   Amount|MatchAmt|PrevAmt|PayMethod|TotalAmount|\n",
            "+--------+-----------+------------------+----+--------------------+--------------------+-----------+------------+-----+-------+-----------------+---------+--------+-------+---------+-----------+\n",
            "|    2013|        204|Quinn, Christine C|null|1199 SEIU PAC - N...|Political Action ...|  Manhattan|    New York|   NY|  10036|             null|   1000.0|     0.0|    0.0|    Check|     1000.0|\n",
            "|    2013|        204|Quinn, Christine C|null|1199 SEIU PAC - N...|Political Action ...|  Manhattan|    New York|   NY|  10036|             null|   3950.0|     0.0| 1000.0|    Check|     4950.0|\n",
            "|    2013|        326|   de Blasio, Bill|null|1199/SEIU NYS Pol...|Political Action ...|  Manhattan|    New York|   NY|  10036|             null|   4950.0|     0.0|    0.0|    Check|     4950.0|\n",
            "|    2013|        326|   de Blasio, Bill|null|1199/SEIU NYS Pol...|Political Action ...|  Manhattan|    New York|   NY|  10036|             null| 19084.25|     0.0|    0.0|  Unknown|   19084.25|\n",
            "|    2013|        326|   de Blasio, Bill|null|1199/SEIU NYS Pol...|Political Action ...|  Manhattan|    New York|   NY|  10036|             null|   168.31|     0.0|    0.0|  Unknown|     168.31|\n",
            "|    2013|        326|   de Blasio, Bill|null|1199/SEIU NYS Pol...|Political Action ...|  Manhattan|    New York|   NY|  10036|             null|     60.0|     0.0|    0.0|  Unknown|       60.0|\n",
            "|    2013|        326|   de Blasio, Bill|null|1199/SEIU NYS Pol...|Political Action ...|  Manhattan|    New York|   NY|  10036|             null|-19084.25|     0.0|    0.0|  Unknown|  -19084.25|\n",
            "|    2013|        326|   de Blasio, Bill|null|1199/SEIU NYS Pol...|Political Action ...|  Manhattan|    New York|   NY|  10036|             null|  -168.31|     0.0|    0.0|  Unknown|    -168.31|\n",
            "|    2013|       null|       Liu, John C|null|1199SEIU NYS Poli...|Political Action ...|  Manhattan|    New York|   NY|  10036|             null|    800.0|     0.0|    0.0|    Check|      800.0|\n",
            "|    2013|       null|       Liu, John C|null|1199SEIU NYS Poli...|Political Action ...|  Manhattan|    New York|   NY|  10036|             null|   2500.0|     0.0|  800.0|    Check|     3300.0|\n",
            "|    2013|       null|       Liu, John C|null|1199SEIU NYS Poli...|Political Action ...|  Manhattan|    New York|   NY|  10036|             null|   1650.0|     0.0| 3300.0|    Check|     4950.0|\n",
            "|    2013|       null| Weiner, Anthony D|null|   155 W 21st St LLC|Limited Liability...|      Other|Lake Success|   NY|  11042|             null|   2000.0|     0.0|    0.0|    Check|     2000.0|\n",
            "|    2013|       null| Weiner, Anthony D|null|   155 W 21st St LLC|Limited Liability...|      Other|Lake Success|   NY|  11042|             null|  -2000.0|     0.0|    0.0|  Unknown|    -2000.0|\n",
            "|    2013|       null| Weiner, Anthony D|null|    171 Mulberry LLC|Limited Liability...|  Manhattan|    New York|   NY|  10016|             null|    500.0|     0.0|    0.0|    Check|      500.0|\n",
            "|    2013|       null| Weiner, Anthony D|null|1717 Dallas Partn...|Limited Liability...|      Other|      Dallas|   TX|  75201|             null|   4950.0|     0.0|    0.0|    Check|     4950.0|\n",
            "|    2013|       null| Weiner, Anthony D|null|1717 Main St Part...|Limited Liability...|      Other|      Dallas|   TX|  75201|             null|   4950.0|     0.0|    0.0|    Check|     4950.0|\n",
            "|    2013|       null| Weiner, Anthony D|null|1717 Main St Part...|Limited Liability...|      Other|      Dallas|   TX|  75201|             null|  -4950.0|     0.0|    0.0|  Unknown|    -4950.0|\n",
            "|    2013|       null| Weiner, Anthony D|null|      30 Carmine LLC|Limited Liability...|  Manhattan|    New York|   NY|  10016|             null|    500.0|     0.0|    0.0|    Check|      500.0|\n",
            "|    2013|       null| Weiner, Anthony D|null|39-08 103rd Stree...|Limited Liability...|  Manhattan|    New York|   NY|  10030|             null|   2000.0|     0.0|    0.0|    Check|     2000.0|\n",
            "|    2013|       null| Weiner, Anthony D|null|39-08 103rd Stree...|Limited Liability...|  Manhattan|    New York|   NY|  10030|             null|   4900.0|     0.0| 2000.0|    Check|     6900.0|\n",
            "+--------+-----------+------------------+----+--------------------+--------------------+-----------+------------+-----+-------+-----------------+---------+--------+-------+---------+-----------+\n",
            "only showing top 20 rows\n",
            "\n"
          ]
        }
      ]
    },
    {
      "cell_type": "code",
      "metadata": {
        "id": "q0Q6qrsfpLhv"
      },
      "source": [
        "df6.select('ContributerType').distinct().show()"
      ],
      "execution_count": null,
      "outputs": []
    },
    {
      "cell_type": "code",
      "metadata": {
        "id": "deiUs-5tqqaF"
      },
      "source": [
        "df6.select('PayMethod').distinct().show()"
      ],
      "execution_count": null,
      "outputs": []
    },
    {
      "cell_type": "code",
      "metadata": {
        "id": "RR4c5unWq21f"
      },
      "source": [
        "df6.select('BoroughName').distinct().show()"
      ],
      "execution_count": null,
      "outputs": []
    }
  ]
}