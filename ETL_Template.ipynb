{
  "nbformat": 4,
  "nbformat_minor": 0,
  "metadata": {
    "colab": {
      "name": "ETL Template.ipynb",
      "provenance": [],
      "collapsed_sections": [],
      "authorship_tag": "ABX9TyNi4Wgj6ht4ay9+zNN34jGG",
      "include_colab_link": true
    },
    "kernelspec": {
      "name": "python3",
      "display_name": "Python 3"
    },
    "language_info": {
      "name": "python"
    }
  },
  "cells": [
    {
      "cell_type": "markdown",
      "metadata": {
        "id": "view-in-github",
        "colab_type": "text"
      },
      "source": [
        "<a href=\"https://colab.research.google.com/github/ssheggrud/Mod_20_Project/blob/05_Riley/ETL_Template.ipynb\" target=\"_parent\"><img src=\"https://colab.research.google.com/assets/colab-badge.svg\" alt=\"Open In Colab\"/></a>"
      ]
    },
    {
      "cell_type": "code",
      "metadata": {
        "colab": {
          "base_uri": "https://localhost:8080/"
        },
        "id": "ddn5mqQ0M_R3",
        "outputId": "e0af3b50-413f-40cf-fdaa-ec9554ad2253"
      },
      "source": [
        "import os\n",
        "# Find the latest version of spark 3.0 from http://www.apache.org/dist/spark/ and enter as the spark version\n",
        "# For example:\n",
        "# spark_version = 'spark-3.0.3'\n",
        "spark_version = 'spark-2.4.8'\n",
        "os.environ['SPARK_VERSION']=spark_version\n",
        "\n",
        "# Install Spark and Java\n",
        "!apt-get update\n",
        "!apt-get install openjdk-11-jdk-headless -qq > /dev/null\n",
        "!wget -q http://www.apache.org/dist/spark/$SPARK_VERSION/$SPARK_VERSION-bin-hadoop2.7.tgz\n",
        "!tar xf $SPARK_VERSION-bin-hadoop2.7.tgz\n",
        "!pip install -q findspark\n",
        "\n",
        "# Set Environment Variables\n",
        "import os\n",
        "os.environ[\"JAVA_HOME\"] = \"/usr/lib/jvm/java-11-openjdk-amd64\"\n",
        "os.environ[\"SPARK_HOME\"] = f\"/content/{spark_version}-bin-hadoop2.7\"\n",
        "\n",
        "# Start a SparkSession\n",
        "import findspark\n",
        "findspark.init()"
      ],
      "execution_count": 1,
      "outputs": [
        {
          "output_type": "stream",
          "name": "stdout",
          "text": [
            "\r0% [Working]\r            \rHit:1 http://security.ubuntu.com/ubuntu bionic-security InRelease\n",
            "\r0% [Connecting to archive.ubuntu.com (91.189.88.152)] [Connected to cloud.r-pro\r0% [1 InRelease gpgv 88.7 kB] [Connecting to archive.ubuntu.com (91.189.88.152)\r                                                                               \rIgn:2 https://developer.download.nvidia.com/compute/cuda/repos/ubuntu1804/x86_64  InRelease\n",
            "Hit:3 https://cloud.r-project.org/bin/linux/ubuntu bionic-cran40/ InRelease\n",
            "Ign:4 https://developer.download.nvidia.com/compute/machine-learning/repos/ubuntu1804/x86_64  InRelease\n",
            "Hit:5 http://archive.ubuntu.com/ubuntu bionic InRelease\n",
            "Hit:6 https://developer.download.nvidia.com/compute/cuda/repos/ubuntu1804/x86_64  Release\n",
            "Hit:7 http://ppa.launchpad.net/c2d4u.team/c2d4u4.0+/ubuntu bionic InRelease\n",
            "Hit:8 https://developer.download.nvidia.com/compute/machine-learning/repos/ubuntu1804/x86_64  Release\n",
            "Hit:9 http://archive.ubuntu.com/ubuntu bionic-updates InRelease\n",
            "Hit:10 http://archive.ubuntu.com/ubuntu bionic-backports InRelease\n",
            "Hit:11 http://ppa.launchpad.net/cran/libgit2/ubuntu bionic InRelease\n",
            "Hit:12 http://ppa.launchpad.net/deadsnakes/ppa/ubuntu bionic InRelease\n",
            "Hit:13 http://ppa.launchpad.net/graphics-drivers/ppa/ubuntu bionic InRelease\n",
            "Reading package lists... Done\n"
          ]
        }
      ]
    },
    {
      "cell_type": "code",
      "metadata": {
        "colab": {
          "base_uri": "https://localhost:8080/"
        },
        "id": "B9Dd_JabNFZU",
        "outputId": "6517789a-bed2-4d45-abb4-87748e1feee0"
      },
      "source": [
        "# Download the Postgres driver that will allow Spark to interact with Postgres.\n",
        "!wget https://jdbc.postgresql.org/download/postgresql-42.2.16.jar"
      ],
      "execution_count": 2,
      "outputs": [
        {
          "output_type": "stream",
          "name": "stdout",
          "text": [
            "--2021-09-03 21:04:49--  https://jdbc.postgresql.org/download/postgresql-42.2.16.jar\n",
            "Resolving jdbc.postgresql.org (jdbc.postgresql.org)... 72.32.157.228, 2001:4800:3e1:1::228\n",
            "Connecting to jdbc.postgresql.org (jdbc.postgresql.org)|72.32.157.228|:443... connected.\n",
            "HTTP request sent, awaiting response... 200 OK\n",
            "Length: 1002883 (979K) [application/java-archive]\n",
            "Saving to: ‘postgresql-42.2.16.jar.1’\n",
            "\n",
            "postgresql-42.2.16. 100%[===================>] 979.38K  5.41MB/s    in 0.2s    \n",
            "\n",
            "2021-09-03 21:04:50 (5.41 MB/s) - ‘postgresql-42.2.16.jar.1’ saved [1002883/1002883]\n",
            "\n"
          ]
        }
      ]
    },
    {
      "cell_type": "code",
      "metadata": {
        "id": "VrvolWKMNFbe"
      },
      "source": [
        "# Start Spark session\n",
        "from pyspark.sql import SparkSession\n",
        "from pyspark.sql.functions import col\n",
        "spark = SparkSession.builder.appName(\"FinalProject\").getOrCreate()"
      ],
      "execution_count": 3,
      "outputs": []
    },
    {
      "cell_type": "code",
      "metadata": {
        "colab": {
          "base_uri": "https://localhost:8080/"
        },
        "id": "W2uxnkAjNFeD",
        "outputId": "619298bd-6dec-4cdc-fada-af2ab40baf8e"
      },
      "source": [
        "# Read in data from S3 Buckets\n",
        "from pyspark import SparkFiles\n",
        "url = \"https://databootcamp-final-05.s3.amazonaws.com/Resources/Individual+Contributions+2013+(UF).csv\"\n",
        "spark.sparkContext.addFile(url)\n",
        "df = spark.read.csv(SparkFiles.get(\"Individual+Contributions+2013+(UF).csv\"), sep=\",\", header=True)\n",
        "df.show()"
      ],
      "execution_count": 4,
      "outputs": [
        {
          "output_type": "stream",
          "name": "stdout",
          "text": [
            "+--------+--------+-------+--------+------------------+---------+------+--------+------+----------+--------+---------+----------+-------------------+------+-----+-------+---------+---------+-----------------+-----+-----+--------------+--------------------+--------+------------------+---------------+--------+----+---------+--------+----------+--------+----------+--------+--------+--------+-------+-----+------+----------+----------+----------+----------+--------+---------+---------+--------+---------+------+-------+----------+\n",
            "|ELECTION|OFFICECD|RECIPID|CANCLASS|         RECIPNAME|COMMITTEE|FILING|SCHEDULE|PAGENO|SEQUENCENO|   REFNO|     DATE|REFUNDDATE|               NAME|C_CODE|STRNO|STRNAME|APARTMENT|BOROUGHCD|             CITY|STATE|  ZIP|    OCCUPATION|             EMPNAME|EMPSTRNO|        EMPSTRNAME|        EMPCITY|EMPSTATE|AMNT|MATCHAMNT|PREVAMNT|PAY_METHOD|INTERMNO|INTERMNAME|INTSTRNO|INTSTRNM|INTAPTNO|INTCITY|INTST|INTZIP|INTEMPNAME|INTEMPSTNO|INTEMPSTNM|INTEMPCITY|INTEMPST|INTOCCUPA|PURPOSECD|EXEMPTCD|ADJTYPECD|RR_IND|SEG_IND|INT_C_CODE|\n",
            "+--------+--------+-------+--------+------------------+---------+------+--------+------+----------+--------+---------+----------+-------------------+------+-----+-------+---------+---------+-----------------+-----+-----+--------------+--------------------+--------+------------------+---------------+--------+----+---------+--------+----------+--------+----------+--------+--------+--------+-------+-----+------+----------+----------+----------+----------+--------+---------+---------+--------+---------+------+-------+----------+\n",
            "|    2013|       5|   1008|       P|Peterson, Daniel P|        I|     5|     ABC|  null|      null|R0000018|3/11/2012|      null|   Haywood, David B|   IND| null|   null|     null|        X|            Bronx|   NY|10458|     President|          SnarkMedia|     151|      First Avenue|       New York|      NY|  20|       20|       0|         4|    null|      null|    null|    null|    null|   null| null|  null|      null|      null|      null|      null|    null|     null|     null|    null|     null|     N|      N|      null|\n",
            "|    2013|       5|   1008|       P|Peterson, Daniel P|        I|     5|     ABC|  null|      null|R0000021| 3/6/2012|      null|      Herlihy, Neil|   IND| null|   null|     null|        Z|       Hunnington|   NY|11746|       Retired|                null|    null|              null|           null|    null|  25|        0|       0|         2|    null|      null|    null|    null|    null|   null| null|  null|      null|      null|      null|      null|    null|     null|     null|    null|     null|     N|      N|      null|\n",
            "|    2013|       5|   1008|       P|Peterson, Daniel P|        I|     5|     ABC|  null|      null|R0000023| 3/5/2012|      null|       Iocca, Karen|   IND| null|   null|     null|        Z|           Hobken|   NJ| 7030|    Unemployed|                null|    null|              null|           null|    null|  25|        0|       0|         2|    null|      null|    null|    null|    null|   null| null|  null|      null|      null|      null|      null|    null|     null|     null|    null|     null|     N|      N|      null|\n",
            "|    2013|       5|   1008|       P|Peterson, Daniel P|        I|     5|     ABC|  null|      null|R0000025| 3/6/2012|      null|   Lewenberg, Ilana|   IND| null|   null|     null|        M|         New York|   NY|10065|Vice President|      Lewenberg, LLC|     184|  East 70th Street|       New York|      NY|  25|       25|       0|         2|    null|      null|    null|    null|    null|   null| null|  null|      null|      null|      null|      null|    null|     null|     null|    null|     null|     N|      N|      null|\n",
            "|    2013|       5|   1008|       P|Peterson, Daniel P|        I|     5|     ABC|  null|      null|R0000027| 3/5/2012|      null|     Tolani, Sanjay|   IND| null|   null|     null|        M|         New York|   NY|10023|Head of NA Ops|      3i Infotech WE|      55|      Broad Street|       New York|      NY| 200|      175|       0|         2|    null|      null|    null|    null|    null|   null| null|  null|      null|      null|      null|      null|    null|     null|     null|    null|     null|     N|      N|      null|\n",
            "|    2013|       5|   1008|       P|Peterson, Daniel P|        I|     5|     ABC|  null|      null|R0000031| 6/7/2012|      null|    Viguola, Louise|   IND| null|   null|     null|        Q|         Woodside|   NY|11377|       Manager|               Segal|     333|  West 34th Street|       New York|      NY|  60|       60|       0|         1|    null|      null|    null|    null|    null|   null| null|  null|      null|      null|      null|      null|    null|     null|     null|    null|     null|     N|      N|      null|\n",
            "|    2013|       5|   1008|       P|Peterson, Daniel P|        I|     5|     ABC|  null|      null|R0000033| 6/7/2012|      null|       Stone, Jared|   IND| null|   null|     null|        M|         New York|   NY|10028|       Student|                null|    null|              null|           null|    null|  40|       40|       0|         1|    null|      null|    null|    null|    null|   null| null|  null|      null|      null|      null|      null|    null|     null|     null|    null|     null|     N|      N|      null|\n",
            "|    2013|       5|   1008|       P|Peterson, Daniel P|        I|     5|     ABC|  null|      null|R0000036| 6/7/2012|      null|   Kronenberg, Mark|   IND| null|   null|     null|        Q|  Oakland Gardens|   NY|11364|      Director|     Math 1-2-3 Inc.|   48-30|      201st Street|Oakland Gardens|      NY|  25|       25|       0|         1|    null|      null|    null|    null|    null|   null| null|  null|      null|      null|      null|      null|    null|     null|     null|    null|     null|     N|      N|      null|\n",
            "|    2013|       5|   1008|       P|Peterson, Daniel P|        I|     5|     ABC|  null|      null|R0000038| 6/7/2012|      null|       Heslin, Owen|   IND| null|   null|     null|        X|            Bronx|   NY|10451|        Lawyer|       Self-Employed|    null|              null|          Bronx|      NY|  25|       25|      20|         1|    null|      null|    null|    null|    null|   null| null|  null|      null|      null|      null|      null|    null|     null|     null|    null|     null|     N|      N|      null|\n",
            "|    2013|       5|   1008|       P|Peterson, Daniel P|        I|     5|     ABC|  null|      null|R0000040| 6/7/2012|      null|      Perry, Gerard|   IND| null|   null|     null|        S|    Staten Island|   NY|10304|    Unemployed|                null|    null|              null|           null|    null|  25|       25|       0|         1|    null|      null|    null|    null|    null|   null| null|  null|      null|      null|      null|      null|    null|     null|     null|    null|     null|     N|      N|      null|\n",
            "|    2013|       5|   1008|       P|Peterson, Daniel P|        I|     5|     ABC|  null|      null|R0000042| 6/7/2012|      null|     Chandra, Ashok|   IND| null|   null|     null|        Q| Long Island City|   NY|11109|      Attorney|       Bloomberg LLP|     731|  Lexington Avenue|       New York|      NY|  25|       25|      60|         1|    null|      null|    null|    null|    null|   null| null|  null|      null|      null|      null|      null|    null|     null|     null|    null|     null|     N|      N|      null|\n",
            "|    2013|       5|   1008|       P|Peterson, Daniel P|        I|     5|     ABC|  null|      null|R0000046| 6/7/2012|      null|          Ashe, Dan|   IND| null|   null|     null|        Q| Long Island City|   NY|11109|        Lawyer|Patterson Belknap...|    1153|Avenue of Americas|       New York|      NY| 100|      100|       0|         2|    null|      null|    null|    null|    null|   null| null|  null|      null|      null|      null|      null|    null|     null|     null|    null|     null|     N|      N|      null|\n",
            "|    2013|       5|   1008|       P|Peterson, Daniel P|        I|     5|     ABC|  null|      null|R0000048|6/17/2012|      null|      Yurcan, Bryan|   IND| null|   null|     null|        Z|Hasbrouck Heights|   NJ| 7604|          null|                 VBM|     240|  West 35th Street|       New York|      NY|  20|        0|       0|         2|    null|      null|    null|    null|    null|   null| null|  null|      null|      null|      null|      null|    null|     null|     null|    null|     null|     N|      N|      null|\n",
            "|    2013|       5|   1008|       P|Peterson, Daniel P|        I|     5|     ABC|  null|      null|R0000050| 6/7/2012|      null|  Bigelow, Margaret|   IND| null|   null|     null|        Q|          Astoria|   NY|11103|  Adminstrator|New Leaf Venture ...|       7|      Times Square|       New York|      NY|  25|       25|       0|         2|    null|      null|    null|    null|    null|   null| null|  null|      null|      null|      null|      null|    null|     null|     null|    null|     null|     N|      N|      null|\n",
            "|    2013|       5|   1008|       P|Peterson, Daniel P|        I|     5|     ABC|  null|      null|R0000052| 6/7/2012|      null|       Lewis, Harry|   IND| null|   null|     null|        X|     Pelham Manor|   NY|10803|        Lawyer|       Self Employed|    null|              null|       New York|      NY| 100|      100|       0|         2|    null|      null|    null|    null|    null|   null| null|  null|      null|      null|      null|      null|    null|     null|     null|    null|     null|     N|      N|      null|\n",
            "|    2013|       5|   1008|       P|Peterson, Daniel P|        I|     5|     ABC|  null|      null|R0000053|3/13/2012|      null|       Heslin, Owen|   IND| null|   null|     null|        X|            Bronx|   NY|10451|        Lawyer|       Self-Employed|    null|              null|          Bronx|      NY|  20|       20|       0|         4|    null|      null|    null|    null|    null|   null| null|  null|      null|      null|      null|      null|    null|     null|     null|    null|     null|     N|      N|      null|\n",
            "|    2013|       5|   1008|       P|Peterson, Daniel P|        I|     5|     ABC|  null|      null|R0000055|3/15/2012|      null|      Rincker, Cari|   IND| null|   null|     null|        M|         New York|   NY|10024|        Lawyer|   Rincker Law, PLLC|     535|      Fifth Avenue|       New York|      NY|  30|       30|       0|         4|    null|      null|    null|    null|    null|   null| null|  null|      null|      null|      null|      null|    null|     null|     null|    null|     null|     N|      N|      null|\n",
            "|    2013|       5|   1008|       P|Peterson, Daniel P|        I|     5|     ABC|  null|      null|R0000057|3/19/2012|      null|  LaVerghetta, Dino|   IND| null|   null|     null|        M|         New York|   NY|10065|        Lawyer|Debevoise & Plimp...|     919|      Third Avenue|       New York|      NY|  50|       50|       0|         4|    null|      null|    null|    null|    null|   null| null|  null|      null|      null|      null|      null|    null|     null|     null|    null|     null|     N|      N|      null|\n",
            "|    2013|       5|   1008|       P|Peterson, Daniel P|        I|     5|     ABC|  null|      null|R0000059|4/11/2012|      null|     Chandra, Ashok|   IND| null|   null|     null|        Q| Long Island City|   NY|11109|      Attorney|       Bloomberg LLP|     731|  Lexington Avenue|       New York|      NY|  60|       60|       0|         4|    null|      null|    null|    null|    null|   null| null|  null|      null|      null|      null|      null|    null|     null|     null|    null|     null|     N|      N|      null|\n",
            "|    2013|       5|   1008|       P|Peterson, Daniel P|        I|     5|     ABC|  null|      null|R0000061|3/20/2012|      null|Greenberg, Samuel J|   IND| null|   null|     null|        Q|      Little Neck|   NY|11363|       Retired|  United States Navy|    null|              null|    Little Neck|      NY|  25|       25|       0|         4|    null|      null|    null|    null|    null|   null| null|  null|      null|      null|      null|      null|    null|     null|     null|    null|     null|     N|      N|      null|\n",
            "+--------+--------+-------+--------+------------------+---------+------+--------+------+----------+--------+---------+----------+-------------------+------+-----+-------+---------+---------+-----------------+-----+-----+--------------+--------------------+--------+------------------+---------------+--------+----+---------+--------+----------+--------+----------+--------+--------+--------+-------+-----+------+----------+----------+----------+----------+--------+---------+---------+--------+---------+------+-------+----------+\n",
            "only showing top 20 rows\n",
            "\n"
          ]
        }
      ]
    },
    {
      "cell_type": "code",
      "metadata": {
        "colab": {
          "base_uri": "https://localhost:8080/"
        },
        "id": "e2cRNc4wNFgt",
        "outputId": "f4233247-f488-44bc-daa5-e6c595a68f2f"
      },
      "source": [
        "# Remove multiple columns\n",
        "list = ['COMMITTEE', 'FILING', 'SCHEDULE', 'PAGENO', 'SEQUENCENO','REFNO', 'STRNO', 'STRNAME', 'APARTMENT', 'OCCUPATION', 'EMPNAME', 'EMPSTRNO', 'EMPSTRNAME',\n",
        "                'EMPCITY','REFUNDDATE','INTERMNO', 'INTERMNAME', 'INTSTRNO', 'INTSTRNM', 'INTSTRNM', 'INTAPTNO',\n",
        "                'INTCITY', 'INTST','INTZIP', 'INTEMPNAME', 'INTEMPSTNO', 'INTEMPSTNM', 'INTEMPCITY', 'INTEMPST', 'INTOCCUPA' ,'PURPOSECD', 'EXEMPTCD','ADJTYPECD', 'RR_IND', 'SEG_IND','INT_C_CODE'] \n",
        "df = df.drop(*list)\n",
        "df.show()"
      ],
      "execution_count": 5,
      "outputs": [
        {
          "output_type": "stream",
          "name": "stdout",
          "text": [
            "+--------+--------+-------+--------+------------------+---------+-------------------+------+---------+-----------------+-----+-----+--------+----+---------+--------+----------+\n",
            "|ELECTION|OFFICECD|RECIPID|CANCLASS|         RECIPNAME|     DATE|               NAME|C_CODE|BOROUGHCD|             CITY|STATE|  ZIP|EMPSTATE|AMNT|MATCHAMNT|PREVAMNT|PAY_METHOD|\n",
            "+--------+--------+-------+--------+------------------+---------+-------------------+------+---------+-----------------+-----+-----+--------+----+---------+--------+----------+\n",
            "|    2013|       5|   1008|       P|Peterson, Daniel P|3/11/2012|   Haywood, David B|   IND|        X|            Bronx|   NY|10458|      NY|  20|       20|       0|         4|\n",
            "|    2013|       5|   1008|       P|Peterson, Daniel P| 3/6/2012|      Herlihy, Neil|   IND|        Z|       Hunnington|   NY|11746|    null|  25|        0|       0|         2|\n",
            "|    2013|       5|   1008|       P|Peterson, Daniel P| 3/5/2012|       Iocca, Karen|   IND|        Z|           Hobken|   NJ| 7030|    null|  25|        0|       0|         2|\n",
            "|    2013|       5|   1008|       P|Peterson, Daniel P| 3/6/2012|   Lewenberg, Ilana|   IND|        M|         New York|   NY|10065|      NY|  25|       25|       0|         2|\n",
            "|    2013|       5|   1008|       P|Peterson, Daniel P| 3/5/2012|     Tolani, Sanjay|   IND|        M|         New York|   NY|10023|      NY| 200|      175|       0|         2|\n",
            "|    2013|       5|   1008|       P|Peterson, Daniel P| 6/7/2012|    Viguola, Louise|   IND|        Q|         Woodside|   NY|11377|      NY|  60|       60|       0|         1|\n",
            "|    2013|       5|   1008|       P|Peterson, Daniel P| 6/7/2012|       Stone, Jared|   IND|        M|         New York|   NY|10028|    null|  40|       40|       0|         1|\n",
            "|    2013|       5|   1008|       P|Peterson, Daniel P| 6/7/2012|   Kronenberg, Mark|   IND|        Q|  Oakland Gardens|   NY|11364|      NY|  25|       25|       0|         1|\n",
            "|    2013|       5|   1008|       P|Peterson, Daniel P| 6/7/2012|       Heslin, Owen|   IND|        X|            Bronx|   NY|10451|      NY|  25|       25|      20|         1|\n",
            "|    2013|       5|   1008|       P|Peterson, Daniel P| 6/7/2012|      Perry, Gerard|   IND|        S|    Staten Island|   NY|10304|    null|  25|       25|       0|         1|\n",
            "|    2013|       5|   1008|       P|Peterson, Daniel P| 6/7/2012|     Chandra, Ashok|   IND|        Q| Long Island City|   NY|11109|      NY|  25|       25|      60|         1|\n",
            "|    2013|       5|   1008|       P|Peterson, Daniel P| 6/7/2012|          Ashe, Dan|   IND|        Q| Long Island City|   NY|11109|      NY| 100|      100|       0|         2|\n",
            "|    2013|       5|   1008|       P|Peterson, Daniel P|6/17/2012|      Yurcan, Bryan|   IND|        Z|Hasbrouck Heights|   NJ| 7604|      NY|  20|        0|       0|         2|\n",
            "|    2013|       5|   1008|       P|Peterson, Daniel P| 6/7/2012|  Bigelow, Margaret|   IND|        Q|          Astoria|   NY|11103|      NY|  25|       25|       0|         2|\n",
            "|    2013|       5|   1008|       P|Peterson, Daniel P| 6/7/2012|       Lewis, Harry|   IND|        X|     Pelham Manor|   NY|10803|      NY| 100|      100|       0|         2|\n",
            "|    2013|       5|   1008|       P|Peterson, Daniel P|3/13/2012|       Heslin, Owen|   IND|        X|            Bronx|   NY|10451|      NY|  20|       20|       0|         4|\n",
            "|    2013|       5|   1008|       P|Peterson, Daniel P|3/15/2012|      Rincker, Cari|   IND|        M|         New York|   NY|10024|      NY|  30|       30|       0|         4|\n",
            "|    2013|       5|   1008|       P|Peterson, Daniel P|3/19/2012|  LaVerghetta, Dino|   IND|        M|         New York|   NY|10065|      NY|  50|       50|       0|         4|\n",
            "|    2013|       5|   1008|       P|Peterson, Daniel P|4/11/2012|     Chandra, Ashok|   IND|        Q| Long Island City|   NY|11109|      NY|  60|       60|       0|         4|\n",
            "|    2013|       5|   1008|       P|Peterson, Daniel P|3/20/2012|Greenberg, Samuel J|   IND|        Q|      Little Neck|   NY|11363|      NY|  25|       25|       0|         4|\n",
            "+--------+--------+-------+--------+------------------+---------+-------------------+------+---------+-----------------+-----+-----+--------+----+---------+--------+----------+\n",
            "only showing top 20 rows\n",
            "\n"
          ]
        }
      ]
    },
    {
      "cell_type": "code",
      "metadata": {
        "colab": {
          "base_uri": "https://localhost:8080/"
        },
        "id": "g5aiRN5RNFjB",
        "outputId": "9c7f9395-7665-423e-f4f2-02cc7088c297"
      },
      "source": [
        "# check data types\n",
        "df.dtypes"
      ],
      "execution_count": 6,
      "outputs": [
        {
          "output_type": "execute_result",
          "data": {
            "text/plain": [
              "[('ELECTION', 'string'),\n",
              " ('OFFICECD', 'string'),\n",
              " ('RECIPID', 'string'),\n",
              " ('CANCLASS', 'string'),\n",
              " ('RECIPNAME', 'string'),\n",
              " ('DATE', 'string'),\n",
              " ('NAME', 'string'),\n",
              " ('C_CODE', 'string'),\n",
              " ('BOROUGHCD', 'string'),\n",
              " ('CITY', 'string'),\n",
              " ('STATE', 'string'),\n",
              " ('ZIP', 'string'),\n",
              " ('EMPSTATE', 'string'),\n",
              " ('AMNT', 'string'),\n",
              " ('MATCHAMNT', 'string'),\n",
              " ('PREVAMNT', 'string'),\n",
              " ('PAY_METHOD', 'string')]"
            ]
          },
          "metadata": {},
          "execution_count": 6
        }
      ]
    },
    {
      "cell_type": "code",
      "metadata": {
        "colab": {
          "base_uri": "https://localhost:8080/"
        },
        "id": "tIkq3wdqOzWV",
        "outputId": "af8c1fd2-a322-4117-e0a4-a166175e7314"
      },
      "source": [
        "#Change data types\n",
        "df1 = df \\\n",
        ".withColumnRenamed(\"ELECTION\", \"Election\") \\\n",
        ".withColumnRenamed(\"RECIPID\", \"CandidateID\") \\\n",
        ".withColumnRenamed(\"RECIPNAME\", \"CandidateName\") \\\n",
        ".withColumnRenamed(\"DATE\", \"Date\") \\\n",
        ".withColumnRenamed(\"NAME\", \"Name\") \\\n",
        ".withColumnRenamed(\"C_CODE\", \"ContributerType\") \\\n",
        ".withColumnRenamed(\"BOROUGHCD\", \"BoroughName\") \\\n",
        ".withColumnRenamed(\"CITY\", \"City\") \\\n",
        ".withColumnRenamed(\"STATE\", \"State\") \\\n",
        ".withColumnRenamed(\"ZIP\", \"ZipCode\") \\\n",
        ".withColumnRenamed(\"EMPSTATE\", \"ContributionState\") \\\n",
        ".withColumnRenamed(\"AMNT\", \"Amount\") \\\n",
        ".withColumnRenamed(\"MATCHAMNT\", \"MatchAmt\") \\\n",
        ".withColumnRenamed(\"PREVAMNT\", \"PrevAmt\") \\\n",
        ".withColumnRenamed(\"PAY_METHOD\", \"PayMethod\") \n",
        "\n",
        "df1.printSchema()"
      ],
      "execution_count": 7,
      "outputs": [
        {
          "output_type": "stream",
          "name": "stdout",
          "text": [
            "root\n",
            " |-- Election: string (nullable = true)\n",
            " |-- OFFICECD: string (nullable = true)\n",
            " |-- CandidateID: string (nullable = true)\n",
            " |-- CANCLASS: string (nullable = true)\n",
            " |-- CandidateName: string (nullable = true)\n",
            " |-- Date: string (nullable = true)\n",
            " |-- Name: string (nullable = true)\n",
            " |-- ContributerType: string (nullable = true)\n",
            " |-- BoroughName: string (nullable = true)\n",
            " |-- City: string (nullable = true)\n",
            " |-- State: string (nullable = true)\n",
            " |-- ZipCode: string (nullable = true)\n",
            " |-- ContributionState: string (nullable = true)\n",
            " |-- Amount: string (nullable = true)\n",
            " |-- MatchAmt: string (nullable = true)\n",
            " |-- PrevAmt: string (nullable = true)\n",
            " |-- PayMethod: string (nullable = true)\n",
            "\n"
          ]
        }
      ]
    },
    {
      "cell_type": "code",
      "metadata": {
        "colab": {
          "base_uri": "https://localhost:8080/"
        },
        "id": "SyWn9dANSi5l",
        "outputId": "e11612fb-269c-461f-bd8c-e8fd04798c42"
      },
      "source": [
        "# changing datatypes of columns\n",
        "df2 = df1 \\\n",
        "  .withColumn(\"Election\",df1[\"Election\"].cast(\"Integer\")) \\\n",
        "  .withColumn(\"OFFICECD\", df1[\"OFFICECD\"].cast(\"Integer\")) \\\n",
        "  .withColumn(\"CandidateID\", df1[\"CandidateID\"].cast(\"Integer\")) \\\n",
        "  .withColumn(\"ZipCode\", df1[\"ZipCode\"].cast(\"Integer\")) \\\n",
        "  .withColumn(\"Amount\", df1[\"Amount\"].cast(\"Float\")) \\\n",
        "  .withColumn(\"MatchAmt\", df1[\"MatchAmt\"].cast(\"Float\")) \\\n",
        "  .withColumn(\"PrevAmt\", df1[\"PrevAmt\"].cast(\"Float\")) \\\n",
        "  .withColumn(\"Date\", df1[\"Date\"].cast(\"Date\")) \\\n",
        "  #.withColumn(\"REFUNDDATE\", df1[\"REFUNDDATE\"].cast(\"Date\")) \n",
        "  \n",
        "df2.printSchema()"
      ],
      "execution_count": 10,
      "outputs": [
        {
          "output_type": "stream",
          "name": "stdout",
          "text": [
            "root\n",
            " |-- Election: integer (nullable = true)\n",
            " |-- OFFICECD: integer (nullable = true)\n",
            " |-- CandidateID: integer (nullable = true)\n",
            " |-- CANCLASS: string (nullable = true)\n",
            " |-- CandidateName: string (nullable = true)\n",
            " |-- Date: date (nullable = true)\n",
            " |-- Name: string (nullable = true)\n",
            " |-- ContributerType: string (nullable = true)\n",
            " |-- BoroughName: string (nullable = true)\n",
            " |-- City: string (nullable = true)\n",
            " |-- State: string (nullable = true)\n",
            " |-- ZipCode: integer (nullable = true)\n",
            " |-- ContributionState: string (nullable = true)\n",
            " |-- Amount: float (nullable = true)\n",
            " |-- MatchAmt: float (nullable = true)\n",
            " |-- PrevAmt: float (nullable = true)\n",
            " |-- PayMethod: string (nullable = true)\n",
            "\n"
          ]
        }
      ]
    },
    {
      "cell_type": "code",
      "metadata": {
        "id": "h1aCPuV3WPwC"
      },
      "source": [
        "#Change vaule name in ContributerType\n",
        "from pyspark.sql.functions import regexp_replace\n",
        "df3 = df2.withColumn('ContributerType', regexp_replace('ContributerType', 'CAN', 'Candidate')) \\\n",
        "  .withColumn('ContributerType', regexp_replace('ContributerType', 'CORP', 'Corporation')) \\\n",
        "  .withColumn('ContributerType', regexp_replace('ContributerType', 'EMPO', 'Labor Union')) \\\n",
        "  .withColumn('ContributerType', regexp_replace('ContributerType', 'FAM', 'Candidate Family')) \\\n",
        "  .withColumn('ContributerType', regexp_replace('ContributerType', 'IND', 'Individual')) \\\n",
        "  .withColumn('ContributerType', regexp_replace('ContributerType', 'PCOMZ', 'Party Committee')) \\\n",
        "  .withColumn('ContributerType', regexp_replace('ContributerType', 'ORG', 'Orgainization')) \\\n",
        "  .withColumn('ContributerType', regexp_replace('ContributerType', 'LLC', 'Limited Liability Company')) \\\n",
        "  .withColumn('ContributerType', regexp_replace('ContributerType', 'PCOMP', 'Political Action Committee')) \\\n",
        "  .withColumn('ContributerType', regexp_replace('ContributerType', 'SPO', 'Spouse')) \\\n",
        "  .withColumn('ContributerType', regexp_replace('ContributerType', 'OTHR', 'Other')) \\\n",
        "  .withColumn('ContributerType', regexp_replace('ContributerType', 'PCOMC', 'Candidate Committee')) \\\n",
        "  .withColumn('ContributerType', regexp_replace('ContributerType', 'PART', 'Individual')) \\\n"
      ],
      "execution_count": 11,
      "outputs": []
    },
    {
      "cell_type": "code",
      "metadata": {
        "id": "fy4JAvyQWRl7"
      },
      "source": [
        "#Change Borough name\n",
        "from pyspark.sql.functions import regexp_replace\n",
        "df4 = df3.withColumn('BoroughName', regexp_replace('BoroughName', 'K', 'Brooklyn')) \\\n",
        "  .withColumn('BoroughName', regexp_replace('BoroughName', 'M', 'Manhattan')) \\\n",
        "  .withColumn('BoroughName', regexp_replace('BoroughName', 'Q', 'Queens')) \\\n",
        "  .withColumn('BoroughName', regexp_replace('BoroughName', 'S', 'Staten Island')) \\\n",
        "  .withColumn('BoroughName', regexp_replace('BoroughName', 'X', 'Bronx')) \\\n",
        "  .withColumn('BoroughName', regexp_replace('BoroughName', 'Z', 'Other')) \\\n"
      ],
      "execution_count": 12,
      "outputs": []
    },
    {
      "cell_type": "code",
      "metadata": {
        "colab": {
          "base_uri": "https://localhost:8080/"
        },
        "id": "fM_kC3ViNFqN",
        "outputId": "124e2c4d-b88b-44ff-95e1-96ac69013be4"
      },
      "source": [
        "#Call only Mayor (1) and particaptes (P) within Dataframe\n",
        "df5 = df4.filter((df4.OFFICECD==\"1\") & (df4.CANCLASS==\"P\"))\n",
        "df5.show()\n"
      ],
      "execution_count": 13,
      "outputs": [
        {
          "output_type": "stream",
          "name": "stdout",
          "text": [
            "+--------+--------+-----------+--------+--------------------+----+-------------------+---------------+-------------+--------------+-----+-------+-----------------+------+--------+-------+---------+\n",
            "|Election|OFFICECD|CandidateID|CANCLASS|       CandidateName|Date|               Name|ContributerType|  BoroughName|          City|State|ZipCode|ContributionState|Amount|MatchAmt|PrevAmt|PayMethod|\n",
            "+--------+--------+-----------+--------+--------------------+----+-------------------+---------------+-------------+--------------+-----+-------+-----------------+------+--------+-------+---------+\n",
            "|    2013|       1|       1286|       P|Coenen, Jr., Kevin P|null|    Coenen, Kevin P|      Candidate|        Other|     Nesconset|   NY|  11767|               NY|  10.0|     0.0|    0.0|        4|\n",
            "|    2013|       1|       1286|       P|Coenen, Jr., Kevin P|null|     Walter, Dorsey|     Individual|    Manhattan|      New York|   NY|  10150|             null| 175.0|   175.0|    0.0|        4|\n",
            "|    2013|       1|       1286|       P|Coenen, Jr., Kevin P|null|    Coenen, Kevin P|      Candidate|        Other|     Nesconset|   NY|  11767|             null| -10.0|     0.0|    0.0|        0|\n",
            "|    2013|       1|       1551|       P|     Marks, Philip A|null|      Marks, Philip|      Candidate|     Brooklyn|      Brooklyn|   NY|  11236|               NY| 400.0|   175.0|    0.0|        2|\n",
            "|    2013|       1|       1551|       P|     Marks, Philip A|null|      Marks, Philip|      Candidate|     Brooklyn|      Brooklyn|   NY|  11236|               NY| 100.0|     0.0|  400.0|        1|\n",
            "|    2013|       1|       1639|       P|Berkowitz, Ceceil...|null|         Roc, Stacy|     Individual|        Other|     Uniondale|   NY|  11553|             null|  10.0|     0.0|    0.0|        1|\n",
            "|    2013|       1|       1639|       P|Berkowitz, Ceceil...|null|         He, Yufeng|     Individual|     Brooklyn|      Brooklyn|   NY|  11220|             null|  10.0|    10.0|    0.0|        1|\n",
            "|    2013|       1|       1639|       P|Berkowitz, Ceceil...|null|    Yaqoobi, Naseir|     Individual|        Other| Lake Hiawatha|   NJ|   7034|               NJ|  10.0|     0.0|    0.0|        1|\n",
            "|    2013|       1|       1639|       P|Berkowitz, Ceceil...|null|        Fung, Kevin|     Individual|        Bronx|         Bronx|   NY|  10461|             null|  10.0|    10.0|    0.0|        1|\n",
            "|    2013|       1|       1639|       P|Berkowitz, Ceceil...|null|Monroe, Christopher|     Individual|        Other|   Mt. Lebanon|   PA|  15228|               NJ|  10.0|     0.0|   10.0|        4|\n",
            "|    2013|       1|       1639|       P|Berkowitz, Ceceil...|null|     Beegan, Daniel|     Individual|        Other|   Beech Grove|   IN|  46107|               IN|  10.0|     0.0|    0.0|        4|\n",
            "|    2013|       1|       1639|       P|Berkowitz, Ceceil...|null|         Will, Eric|     Individual|        Other|     Knoxville|   TN|  37920|             null|  10.0|     0.0|    0.0|        4|\n",
            "|    2013|       1|       1639|       P|Berkowitz, Ceceil...|null|         Will, Eric|     Individual|        Other|     Knoxville|   TN|  37920|             null|  10.0|     0.0|    0.0|        4|\n",
            "|    2013|       1|       1639|       P|Berkowitz, Ceceil...|null|Monroe, Christopher|     Individual|        Other|   Mt. Lebanon|   PA|  15228|               NJ|  10.0|     0.0|    0.0|        4|\n",
            "|    2013|       1|       1639|       P|Berkowitz, Ceceil...|null|      Judd, Timothy|     Individual|        Other|       Houston|   TX|  77018|             null|  10.0|     0.0|    0.0|        4|\n",
            "|    2013|       1|       1639|       P|Berkowitz, Ceceil...|null|    Laohoo, William|     Individual|        Other|East Brunswick|   NJ|   8816|             null|  20.0|     0.0|    0.0|        4|\n",
            "|    2013|       1|       1666|       P|    Salgado, Erick J|null|    Acevedo, Alexie|     Individual|        Other|     Brentwood|   NY|  11717|               NY| 100.0|     0.0|    0.0|        1|\n",
            "|    2013|       1|       1666|       P|    Salgado, Erick J|null|   Salgado, Erick J|      Candidate|Staten Island| Staten Island|   NY|  10302|               NJ|4000.0|   175.0|    0.0|        2|\n",
            "|    2013|       1|       1666|       P|    Salgado, Erick J|null|     Vargas, Lucino|     Individual|     Brooklyn|      Brooklyn|   NY|  11220|               NJ| 500.0|   175.0|    0.0|        2|\n",
            "|    2013|       1|       1666|       P|    Salgado, Erick J|null|    Torres, Marcial|     Individual|        Other|       Matawan|   NJ|   7747|               NJ| 500.0|     0.0|    0.0|        2|\n",
            "+--------+--------+-----------+--------+--------------------+----+-------------------+---------------+-------------+--------------+-----+-------+-----------------+------+--------+-------+---------+\n",
            "only showing top 20 rows\n",
            "\n"
          ]
        }
      ]
    },
    {
      "cell_type": "code",
      "metadata": {
        "colab": {
          "base_uri": "https://localhost:8080/"
        },
        "id": "WmdLbDEzQAyc",
        "outputId": "7e37b9bf-d433-491a-9848-0bc1f01726b9"
      },
      "source": [
        "#Check the above dataframe to make sure only unique values between the OFFICECD is 1 \n",
        "df5.select('OFFICECD').distinct().show()"
      ],
      "execution_count": 14,
      "outputs": [
        {
          "output_type": "stream",
          "name": "stdout",
          "text": [
            "+--------+\n",
            "|OFFICECD|\n",
            "+--------+\n",
            "|       1|\n",
            "+--------+\n",
            "\n"
          ]
        }
      ]
    },
    {
      "cell_type": "code",
      "metadata": {
        "colab": {
          "base_uri": "https://localhost:8080/"
        },
        "id": "4kbDs5ApZtEu",
        "outputId": "ecb40e92-be30-4199-ed6a-317199c64c65"
      },
      "source": [
        "#Drop OFFICECD and CANCLASS\n",
        "list2 = ['OFFICECD', 'CANCLASS'] \n",
        "df6 = df5.drop(*list2)\n",
        "df6.show()"
      ],
      "execution_count": 15,
      "outputs": [
        {
          "output_type": "stream",
          "name": "stdout",
          "text": [
            "+--------+-----------+--------------------+----+-------------------+---------------+-------------+--------------+-----+-------+-----------------+------+--------+-------+---------+\n",
            "|Election|CandidateID|       CandidateName|Date|               Name|ContributerType|  BoroughName|          City|State|ZipCode|ContributionState|Amount|MatchAmt|PrevAmt|PayMethod|\n",
            "+--------+-----------+--------------------+----+-------------------+---------------+-------------+--------------+-----+-------+-----------------+------+--------+-------+---------+\n",
            "|    2013|       1286|Coenen, Jr., Kevin P|null|    Coenen, Kevin P|      Candidate|        Other|     Nesconset|   NY|  11767|               NY|  10.0|     0.0|    0.0|        4|\n",
            "|    2013|       1286|Coenen, Jr., Kevin P|null|     Walter, Dorsey|     Individual|    Manhattan|      New York|   NY|  10150|             null| 175.0|   175.0|    0.0|        4|\n",
            "|    2013|       1286|Coenen, Jr., Kevin P|null|    Coenen, Kevin P|      Candidate|        Other|     Nesconset|   NY|  11767|             null| -10.0|     0.0|    0.0|        0|\n",
            "|    2013|       1551|     Marks, Philip A|null|      Marks, Philip|      Candidate|     Brooklyn|      Brooklyn|   NY|  11236|               NY| 400.0|   175.0|    0.0|        2|\n",
            "|    2013|       1551|     Marks, Philip A|null|      Marks, Philip|      Candidate|     Brooklyn|      Brooklyn|   NY|  11236|               NY| 100.0|     0.0|  400.0|        1|\n",
            "|    2013|       1639|Berkowitz, Ceceil...|null|         Roc, Stacy|     Individual|        Other|     Uniondale|   NY|  11553|             null|  10.0|     0.0|    0.0|        1|\n",
            "|    2013|       1639|Berkowitz, Ceceil...|null|         He, Yufeng|     Individual|     Brooklyn|      Brooklyn|   NY|  11220|             null|  10.0|    10.0|    0.0|        1|\n",
            "|    2013|       1639|Berkowitz, Ceceil...|null|    Yaqoobi, Naseir|     Individual|        Other| Lake Hiawatha|   NJ|   7034|               NJ|  10.0|     0.0|    0.0|        1|\n",
            "|    2013|       1639|Berkowitz, Ceceil...|null|        Fung, Kevin|     Individual|        Bronx|         Bronx|   NY|  10461|             null|  10.0|    10.0|    0.0|        1|\n",
            "|    2013|       1639|Berkowitz, Ceceil...|null|Monroe, Christopher|     Individual|        Other|   Mt. Lebanon|   PA|  15228|               NJ|  10.0|     0.0|   10.0|        4|\n",
            "|    2013|       1639|Berkowitz, Ceceil...|null|     Beegan, Daniel|     Individual|        Other|   Beech Grove|   IN|  46107|               IN|  10.0|     0.0|    0.0|        4|\n",
            "|    2013|       1639|Berkowitz, Ceceil...|null|         Will, Eric|     Individual|        Other|     Knoxville|   TN|  37920|             null|  10.0|     0.0|    0.0|        4|\n",
            "|    2013|       1639|Berkowitz, Ceceil...|null|         Will, Eric|     Individual|        Other|     Knoxville|   TN|  37920|             null|  10.0|     0.0|    0.0|        4|\n",
            "|    2013|       1639|Berkowitz, Ceceil...|null|Monroe, Christopher|     Individual|        Other|   Mt. Lebanon|   PA|  15228|               NJ|  10.0|     0.0|    0.0|        4|\n",
            "|    2013|       1639|Berkowitz, Ceceil...|null|      Judd, Timothy|     Individual|        Other|       Houston|   TX|  77018|             null|  10.0|     0.0|    0.0|        4|\n",
            "|    2013|       1639|Berkowitz, Ceceil...|null|    Laohoo, William|     Individual|        Other|East Brunswick|   NJ|   8816|             null|  20.0|     0.0|    0.0|        4|\n",
            "|    2013|       1666|    Salgado, Erick J|null|    Acevedo, Alexie|     Individual|        Other|     Brentwood|   NY|  11717|               NY| 100.0|     0.0|    0.0|        1|\n",
            "|    2013|       1666|    Salgado, Erick J|null|   Salgado, Erick J|      Candidate|Staten Island| Staten Island|   NY|  10302|               NJ|4000.0|   175.0|    0.0|        2|\n",
            "|    2013|       1666|    Salgado, Erick J|null|     Vargas, Lucino|     Individual|     Brooklyn|      Brooklyn|   NY|  11220|               NJ| 500.0|   175.0|    0.0|        2|\n",
            "|    2013|       1666|    Salgado, Erick J|null|    Torres, Marcial|     Individual|        Other|       Matawan|   NJ|   7747|               NJ| 500.0|     0.0|    0.0|        2|\n",
            "+--------+-----------+--------------------+----+-------------------+---------------+-------------+--------------+-----+-------+-----------------+------+--------+-------+---------+\n",
            "only showing top 20 rows\n",
            "\n"
          ]
        }
      ]
    },
    {
      "cell_type": "code",
      "metadata": {
        "colab": {
          "base_uri": "https://localhost:8080/"
        },
        "id": "jKdRMcW-9mtO",
        "outputId": "148e01eb-219e-410f-9c24-d51be492845e"
      },
      "source": [
        "# ADD AMNT and MATCHAMNT\n",
        "from pyspark.sql.functions import col\n",
        "df7 = df6.withColumn(\"TotalAmount\", col(\"Amount\")+col(\"MatchAmt\")+col('PrevAmt'))\n",
        "df7.show()"
      ],
      "execution_count": 17,
      "outputs": [
        {
          "output_type": "stream",
          "name": "stdout",
          "text": [
            "+--------+-----------+--------------------+----+-------------------+---------------+-------------+--------------+-----+-------+-----------------+------+--------+-------+---------+-----------+\n",
            "|Election|CandidateID|       CandidateName|Date|               Name|ContributerType|  BoroughName|          City|State|ZipCode|ContributionState|Amount|MatchAmt|PrevAmt|PayMethod|TotalAmount|\n",
            "+--------+-----------+--------------------+----+-------------------+---------------+-------------+--------------+-----+-------+-----------------+------+--------+-------+---------+-----------+\n",
            "|    2013|       1286|Coenen, Jr., Kevin P|null|    Coenen, Kevin P|      Candidate|        Other|     Nesconset|   NY|  11767|               NY|  10.0|     0.0|    0.0|        4|       10.0|\n",
            "|    2013|       1286|Coenen, Jr., Kevin P|null|     Walter, Dorsey|     Individual|    Manhattan|      New York|   NY|  10150|             null| 175.0|   175.0|    0.0|        4|      350.0|\n",
            "|    2013|       1286|Coenen, Jr., Kevin P|null|    Coenen, Kevin P|      Candidate|        Other|     Nesconset|   NY|  11767|             null| -10.0|     0.0|    0.0|        0|      -10.0|\n",
            "|    2013|       1551|     Marks, Philip A|null|      Marks, Philip|      Candidate|     Brooklyn|      Brooklyn|   NY|  11236|               NY| 400.0|   175.0|    0.0|        2|      575.0|\n",
            "|    2013|       1551|     Marks, Philip A|null|      Marks, Philip|      Candidate|     Brooklyn|      Brooklyn|   NY|  11236|               NY| 100.0|     0.0|  400.0|        1|      500.0|\n",
            "|    2013|       1639|Berkowitz, Ceceil...|null|         Roc, Stacy|     Individual|        Other|     Uniondale|   NY|  11553|             null|  10.0|     0.0|    0.0|        1|       10.0|\n",
            "|    2013|       1639|Berkowitz, Ceceil...|null|         He, Yufeng|     Individual|     Brooklyn|      Brooklyn|   NY|  11220|             null|  10.0|    10.0|    0.0|        1|       20.0|\n",
            "|    2013|       1639|Berkowitz, Ceceil...|null|    Yaqoobi, Naseir|     Individual|        Other| Lake Hiawatha|   NJ|   7034|               NJ|  10.0|     0.0|    0.0|        1|       10.0|\n",
            "|    2013|       1639|Berkowitz, Ceceil...|null|        Fung, Kevin|     Individual|        Bronx|         Bronx|   NY|  10461|             null|  10.0|    10.0|    0.0|        1|       20.0|\n",
            "|    2013|       1639|Berkowitz, Ceceil...|null|Monroe, Christopher|     Individual|        Other|   Mt. Lebanon|   PA|  15228|               NJ|  10.0|     0.0|   10.0|        4|       20.0|\n",
            "|    2013|       1639|Berkowitz, Ceceil...|null|     Beegan, Daniel|     Individual|        Other|   Beech Grove|   IN|  46107|               IN|  10.0|     0.0|    0.0|        4|       10.0|\n",
            "|    2013|       1639|Berkowitz, Ceceil...|null|         Will, Eric|     Individual|        Other|     Knoxville|   TN|  37920|             null|  10.0|     0.0|    0.0|        4|       10.0|\n",
            "|    2013|       1639|Berkowitz, Ceceil...|null|         Will, Eric|     Individual|        Other|     Knoxville|   TN|  37920|             null|  10.0|     0.0|    0.0|        4|       10.0|\n",
            "|    2013|       1639|Berkowitz, Ceceil...|null|Monroe, Christopher|     Individual|        Other|   Mt. Lebanon|   PA|  15228|               NJ|  10.0|     0.0|    0.0|        4|       10.0|\n",
            "|    2013|       1639|Berkowitz, Ceceil...|null|      Judd, Timothy|     Individual|        Other|       Houston|   TX|  77018|             null|  10.0|     0.0|    0.0|        4|       10.0|\n",
            "|    2013|       1639|Berkowitz, Ceceil...|null|    Laohoo, William|     Individual|        Other|East Brunswick|   NJ|   8816|             null|  20.0|     0.0|    0.0|        4|       20.0|\n",
            "|    2013|       1666|    Salgado, Erick J|null|    Acevedo, Alexie|     Individual|        Other|     Brentwood|   NY|  11717|               NY| 100.0|     0.0|    0.0|        1|      100.0|\n",
            "|    2013|       1666|    Salgado, Erick J|null|   Salgado, Erick J|      Candidate|Staten Island| Staten Island|   NY|  10302|               NJ|4000.0|   175.0|    0.0|        2|     4175.0|\n",
            "|    2013|       1666|    Salgado, Erick J|null|     Vargas, Lucino|     Individual|     Brooklyn|      Brooklyn|   NY|  11220|               NJ| 500.0|   175.0|    0.0|        2|      675.0|\n",
            "|    2013|       1666|    Salgado, Erick J|null|    Torres, Marcial|     Individual|        Other|       Matawan|   NJ|   7747|               NJ| 500.0|     0.0|    0.0|        2|      500.0|\n",
            "+--------+-----------+--------------------+----+-------------------+---------------+-------------+--------------+-----+-------+-----------------+------+--------+-------+---------+-----------+\n",
            "only showing top 20 rows\n",
            "\n"
          ]
        }
      ]
    },
    {
      "cell_type": "code",
      "metadata": {
        "id": "1uhZ5dAC9Vou"
      },
      "source": [
        ""
      ],
      "execution_count": null,
      "outputs": []
    }
  ]
}