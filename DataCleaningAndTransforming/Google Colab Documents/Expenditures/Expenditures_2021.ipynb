{
  "nbformat": 4,
  "nbformat_minor": 0,
  "metadata": {
    "colab": {
      "name": "Expenditures_2021.ipynb",
      "provenance": [],
      "collapsed_sections": [],
      "authorship_tag": "ABX9TyMljjmt66iIrNDUXri18F+g",
      "include_colab_link": true
    },
    "kernelspec": {
      "name": "python3",
      "display_name": "Python 3"
    },
    "language_info": {
      "name": "python"
    }
  },
  "cells": [
    {
      "cell_type": "markdown",
      "metadata": {
        "id": "view-in-github",
        "colab_type": "text"
      },
      "source": [
        "<a href=\"https://colab.research.google.com/github/ssheggrud/Mod_20_Project/blob/05_Riley/Expenditures_2021.ipynb\" target=\"_parent\"><img src=\"https://colab.research.google.com/assets/colab-badge.svg\" alt=\"Open In Colab\"/></a>"
      ]
    },
    {
      "cell_type": "code",
      "metadata": {
        "colab": {
          "base_uri": "https://localhost:8080/"
        },
        "id": "ddn5mqQ0M_R3",
        "outputId": "25495425-ac76-4f9a-e2e7-89961e06f507"
      },
      "source": [
        "import os\n",
        "# Find the latest version of spark 3.0 from http://www.apache.org/dist/spark/ and enter as the spark version\n",
        "# For example:\n",
        "spark_version = 'spark-3.0.3'\n",
        "#spark_version = 'spark-2.4.8'\n",
        "os.environ['SPARK_VERSION']=spark_version\n",
        "\n",
        "# Install Spark and Java\n",
        "!apt-get update\n",
        "!apt-get install openjdk-11-jdk-headless -qq > /dev/null\n",
        "!wget -q http://www.apache.org/dist/spark/$SPARK_VERSION/$SPARK_VERSION-bin-hadoop2.7.tgz\n",
        "!tar xf $SPARK_VERSION-bin-hadoop2.7.tgz\n",
        "!pip install -q findspark\n",
        "\n",
        "# Set Environment Variables\n",
        "import os\n",
        "os.environ[\"JAVA_HOME\"] = \"/usr/lib/jvm/java-11-openjdk-amd64\"\n",
        "os.environ[\"SPARK_HOME\"] = f\"/content/{spark_version}-bin-hadoop2.7\"\n",
        "\n",
        "# Start a SparkSession\n",
        "import findspark\n",
        "findspark.init()\n",
        "\n",
        "import pandas as pd\n"
      ],
      "execution_count": 1,
      "outputs": [
        {
          "output_type": "stream",
          "name": "stdout",
          "text": [
            "\r0% [Working]\r            \rGet:1 https://cloud.r-project.org/bin/linux/ubuntu bionic-cran40/ InRelease [3,626 B]\n",
            "\r0% [Connecting to archive.ubuntu.com (91.189.88.142)] [Waiting for headers] [1 \r0% [Connecting to archive.ubuntu.com (91.189.88.142)] [Waiting for headers] [Wa\r                                                                               \rGet:2 http://security.ubuntu.com/ubuntu bionic-security InRelease [88.7 kB]\n",
            "Ign:3 https://developer.download.nvidia.com/compute/cuda/repos/ubuntu1804/x86_64  InRelease\n",
            "Get:4 http://ppa.launchpad.net/c2d4u.team/c2d4u4.0+/ubuntu bionic InRelease [15.9 kB]\n",
            "Ign:5 https://developer.download.nvidia.com/compute/machine-learning/repos/ubuntu1804/x86_64  InRelease\n",
            "Hit:6 https://developer.download.nvidia.com/compute/cuda/repos/ubuntu1804/x86_64  Release\n",
            "Hit:7 http://archive.ubuntu.com/ubuntu bionic InRelease\n",
            "Hit:8 https://developer.download.nvidia.com/compute/machine-learning/repos/ubuntu1804/x86_64  Release\n",
            "Get:9 http://archive.ubuntu.com/ubuntu bionic-updates InRelease [88.7 kB]\n",
            "Get:10 https://cloud.r-project.org/bin/linux/ubuntu bionic-cran40/ Packages [67.4 kB]\n",
            "Hit:11 http://ppa.launchpad.net/cran/libgit2/ubuntu bionic InRelease\n",
            "Hit:12 http://ppa.launchpad.net/deadsnakes/ppa/ubuntu bionic InRelease\n",
            "Get:13 http://security.ubuntu.com/ubuntu bionic-security/universe amd64 Packages [1,428 kB]\n",
            "Get:14 http://archive.ubuntu.com/ubuntu bionic-backports InRelease [74.6 kB]\n",
            "Get:15 http://security.ubuntu.com/ubuntu bionic-security/main amd64 Packages [2,326 kB]\n",
            "Hit:16 http://ppa.launchpad.net/graphics-drivers/ppa/ubuntu bionic InRelease\n",
            "Get:19 http://ppa.launchpad.net/c2d4u.team/c2d4u4.0+/ubuntu bionic/main Sources [1,802 kB]\n",
            "Get:20 http://archive.ubuntu.com/ubuntu bionic-updates/main amd64 Packages [2,761 kB]\n",
            "Get:21 http://ppa.launchpad.net/c2d4u.team/c2d4u4.0+/ubuntu bionic/main amd64 Packages [922 kB]\n",
            "Get:22 http://archive.ubuntu.com/ubuntu bionic-updates/universe amd64 Packages [2,202 kB]\n",
            "Fetched 11.8 MB in 5s (2,601 kB/s)\n",
            "Reading package lists... Done\n"
          ]
        }
      ]
    },
    {
      "cell_type": "code",
      "metadata": {
        "colab": {
          "base_uri": "https://localhost:8080/"
        },
        "id": "B9Dd_JabNFZU",
        "outputId": "ceb8f652-3f95-4313-821b-c56c2e30a6a4"
      },
      "source": [
        "# Download the Postgres driver that will allow Spark to interact with Postgres.\n",
        "!wget https://jdbc.postgresql.org/download/postgresql-42.2.16.jar"
      ],
      "execution_count": 2,
      "outputs": [
        {
          "output_type": "stream",
          "name": "stdout",
          "text": [
            "--2021-09-19 23:28:44--  https://jdbc.postgresql.org/download/postgresql-42.2.16.jar\n",
            "Resolving jdbc.postgresql.org (jdbc.postgresql.org)... 72.32.157.228, 2001:4800:3e1:1::228\n",
            "Connecting to jdbc.postgresql.org (jdbc.postgresql.org)|72.32.157.228|:443... connected.\n",
            "HTTP request sent, awaiting response... 200 OK\n",
            "Length: 1002883 (979K) [application/java-archive]\n",
            "Saving to: ‘postgresql-42.2.16.jar’\n",
            "\n",
            "\rpostgresql-42.2.16.   0%[                    ]       0  --.-KB/s               \rpostgresql-42.2.16. 100%[===================>] 979.38K  --.-KB/s    in 0.09s   \n",
            "\n",
            "2021-09-19 23:28:45 (11.1 MB/s) - ‘postgresql-42.2.16.jar’ saved [1002883/1002883]\n",
            "\n"
          ]
        }
      ]
    },
    {
      "cell_type": "code",
      "metadata": {
        "id": "VrvolWKMNFbe"
      },
      "source": [
        "# Start Spark session\n",
        "from pyspark.sql import SparkSession\n",
        "from pyspark.sql.functions import col\n",
        "spark = SparkSession.builder.appName(\"FinalProject\").getOrCreate()"
      ],
      "execution_count": 3,
      "outputs": []
    },
    {
      "cell_type": "code",
      "metadata": {
        "colab": {
          "base_uri": "https://localhost:8080/"
        },
        "id": "W2uxnkAjNFeD",
        "outputId": "c2ff744b-2304-4c29-a219-ee94d8ecee7c"
      },
      "source": [
        "# Read in data from S3 Buckets\n",
        "from pyspark import SparkFiles\n",
        "url = \"https://databootcamp-final-05.s3.amazonaws.com/Resources/Expenditures+2021+(UF).csv\"\n",
        "spark.sparkContext.addFile(url)\n",
        "df = spark.read.csv(SparkFiles.get(\"Expenditures+2021+(UF).csv\"), sep=\",\", header=True)\n",
        "df.show()"
      ],
      "execution_count": 4,
      "outputs": [
        {
          "output_type": "stream",
          "name": "stdout",
          "text": [
            "+--------+--------+------+--------+--------+---------+------+---------+------+--------+------+----------+--------+---------+----------+--------------------+------+-------+-----+-------+---------+---------------+-----+-----+----------+--------+---------+----------------+-----------------+--------+------+-------+\n",
            "|ELECTION|OFFICECD|CANDID|CANCLASS|CANDLAST|CANDFIRST|CANDMI|COMMITTEE|FILING|SCHEDULE|PAGENO|SEQUENCENO|   REFNO| INV_DATE|      DATE|                NAME|C_CODE|ORG_IND|STRNO|STRNAME|APARTMENT|           CITY|STATE|  ZIP|PAY_METHOD|    AMNT|PURPOSECD|         PURPOSE|          EXPLAIN|EXEMPTCD|RR_IND|SEG_IND|\n",
            "+--------+--------+------+--------+--------+---------+------+---------+------+--------+------+----------+--------+---------+----------+--------------------+------+-------+-----+-------+---------+---------------+-----+-----+----------+--------+---------+----------------+-----------------+--------+------+-------+\n",
            "|    2021|       1|  2445|      NP| Francis|   Quanda|     S|        H|    11|       N|  null|      null|R0000330|     null|10/11/2020|             1 HOTEL|  CORP|      Y| null|   null|     null|       Brooklyn|   NY|11201|      null| 2001.16|    RENTO|     Office Rent|  rental location|    null|     N|      N|\n",
            "|    2021|      11|  2546|       P|    Yang|   Andrew|  null|        H|     9|       F|  null|      null|R0094567| 6/3/2021|  6/4/2021|    1-800flowers.com|  CORP|      Y| null|   null|     null|       Glendale|   NY|11385|   Unknown|   91.57|    OTHER|Other: explntion|          Flowers|    null|     N|      N|\n",
            "|    2021|      11|   148|       P|Stringer|    Scott|     M|        R|     8|       F|  null|      null|R0063906| 5/1/2021|  5/1/2021|115 Broadway Tena...|   LLC|      Y| null|   null|     null|       New York|   NY|10006|   Unknown| 3240.75|    RENTO|     Office Rent|             Rent|    null|     N|      N|\n",
            "|    2021|      11|   148|       P|Stringer|    Scott|     M|        R|     8|       F|  null|      null|R0066187| 5/4/2021|  5/4/2021|115 Broadway Tena...|   LLC|      Y| null|   null|     null|       New York|   NY|10006|   Unknown|13240.75|    RENTO|     Office Rent|             Rent|    null|     N|      N|\n",
            "|    2021|      11|   148|       P|Stringer|    Scott|     M|        R|     9|       F|  null|      null|R0070461| 6/1/2021|  6/7/2021|115 Broadway Tena...|   LLC|      Y| null|   null|     null|       New York|   NY|10006|   Unknown| 16762.5|    RENTO|     Office Rent|             Rent|    null|     N|      N|\n",
            "|    2021|      11|   148|       P|Stringer|    Scott|     M|        R|    11|       L|  null|      null|R0072010| 5/4/2021|  8/5/2021|115 Broadway Tena...|   LLC|      Y| null|   null|     null|       New York|   NY|10006|      null|  -10000|     null|            null|             null|    null|     N|      N|\n",
            "|    2021|      11|  2393|       P|   Wiley|     Maya|     D|        H|     8|       F|  null|      null|R0048292| 3/5/2021|  4/1/2021|1199 SEIU United ...| PCOMP|      Y| null|   null|     null|       New York|   NY|10036|   Unknown|    1500|    FUNDR|     Fundraising|Auditorium Rental|    null|     N|      N|\n",
            "|    2021|      11|  1545|       P|   Adams|     Eric|     L|        L|     9|       F|  null|      null|R0044751|5/26/2021| 5/31/2021|1389 Construction...|  CORP|      Y| null|   null|     null|       New York|   NY|10030|   Unknown|    4000|    RENTO|     Office Rent|    Office Rental|    null|     N|      N|\n",
            "|    2021|      11|   148|       P|Stringer|    Scott|     M|        R|    10|       F|  null|      null|R0071477|6/30/2021| 6/30/2021|       1800 Got Junk|  CORP|      Y| null|   null|     null|          Bronx|   NY|10451|   Unknown|  574.86|    PROFL|    Prof. Srvcs.|     Junk Removal|    null|     N|      N|\n",
            "|    2021|      11|  2546|       P|    Yang|   Andrew|  null|        H|    10|       F|  null|      null|R0104366| 7/1/2021|  7/1/2021|           1Password|  OTHR|      Y| null|   null|     null|Toronto, Canada| null| null|   Unknown|  529.97|    OFFCE| Office Expenses|   Cyber Security|    null|     N|      N|\n",
            "|    2021|      11|  2546|       P|    Yang|   Andrew|  null|        H|     7|       F|  null|      null|R0000685| 2/1/2021|  2/2/2021|           1Password|  OTHR|      Y| null|   null|     null|Toronto, Canada| null| null|   Unknown|  277.66|    OFFCE| Office Expenses|   Cyber Security|    null|     N|      N|\n",
            "|    2021|      11|  2546|       P|    Yang|   Andrew|  null|        H|     7|       F|  null|      null|R0037526| 3/1/2021|  3/2/2021|           1Password|  OTHR|      Y| null|   null|     null|Toronto, Canada| null| null|   Unknown|  369.74|    OFFCE| Office Expenses|   Cyber Security|    null|     N|      N|\n",
            "|    2021|      11|  2546|       P|    Yang|   Andrew|  null|        H|     8|       F|  null|      null|R0060767| 4/2/2021|  4/2/2021|           1Password|  OTHR|      Y| null|   null|     null|Toronto, Canada| null| null|   Unknown|   324.9|    OFFCE| Office Expenses|   Cyber Security|    null|     N|      N|\n",
            "|    2021|      11|  2546|       P|    Yang|   Andrew|  null|        H|     8|       F|  null|      null|R0069942| 5/1/2021|  5/3/2021|           1Password|  OTHR|      Y| null|   null|     null|Toronto, Canada| null| null|   Unknown|  463.28|    OFFCE| Office Expenses|   Cyber Security|    null|     N|      N|\n",
            "|    2021|      11|  2546|       P|    Yang|   Andrew|  null|        H|     9|       F|  null|      null|R0089688| 6/1/2021|  6/2/2021|           1Password|  OTHR|      Y| null|   null|     null|Toronto, Canada| null| null|   Unknown|  568.76|    OFFCE| Office Expenses|   Cyber Security|    null|     N|      N|\n",
            "|    2021|      11|  2366|       P|Pepitone|  William|  null|        H|    10|       F|  null|      null|R0001701|4/30/2021| 4/30/2021|2 Twins Digital P...|  CORP|      Y| null|   null|     null|  Staten Island|   NY|10312|   Unknown|  152.43|    OFFCE| Office Expenses|         Printing|    null|     N|      N|\n",
            "|    2021|      11|  2366|       P|Pepitone|  William|  null|        H|    10|       F|  null|      null|R0001721|5/14/2021| 5/14/2021|2 Twins Digital P...|  CORP|      Y| null|   null|     null|  Staten Island|   NY|10312|   Unknown|  1050.1|    OFFCE| Office Expenses|          Signage|    null|     N|      N|\n",
            "|    2021|      11|  2366|       P|Pepitone|  William|  null|        H|    10|       F|  null|      null|R0001733| 6/8/2021|  6/8/2021|2 Twins Digital P...|  CORP|      Y| null|   null|     null|  Staten Island|   NY|10312|   Unknown|   435.5|    OFFCE| Office Expenses|         Printing|    null|     N|      N|\n",
            "|    2021|      11|  2366|       P|Pepitone|  William|  null|        H|    10|       F|  null|      null|R0001735|6/14/2021| 6/14/2021|2 Twins Digital P...|  CORP|      Y| null|   null|     null|  Staten Island|   NY|10312|   Unknown|  152.43|    OFFCE| Office Expenses|         Printing|    null|     N|      N|\n",
            "|    2021|      11|  2366|       P|Pepitone|  William|  null|        H|    11|       F|  null|      null|R0002359| 8/5/2021|  8/5/2021|2 Twins Digital P...|  CORP|      Y| null|   null|     null|  Staten Island|   NY| null|   Unknown|  152.43|    LITER|     Campgn Lit.|       Palm Cards|    null|     N|      N|\n",
            "+--------+--------+------+--------+--------+---------+------+---------+------+--------+------+----------+--------+---------+----------+--------------------+------+-------+-----+-------+---------+---------------+-----+-----+----------+--------+---------+----------------+-----------------+--------+------+-------+\n",
            "only showing top 20 rows\n",
            "\n"
          ]
        }
      ]
    },
    {
      "cell_type": "code",
      "metadata": {
        "colab": {
          "base_uri": "https://localhost:8080/"
        },
        "id": "PauL98XATuOi",
        "outputId": "de2e258e-2b61-42c7-9951-4fe493cffdd9"
      },
      "source": [
        "df.columns"
      ],
      "execution_count": 5,
      "outputs": [
        {
          "output_type": "execute_result",
          "data": {
            "text/plain": [
              "['ELECTION',\n",
              " 'OFFICECD',\n",
              " 'CANDID',\n",
              " 'CANCLASS',\n",
              " 'CANDLAST',\n",
              " 'CANDFIRST',\n",
              " 'CANDMI',\n",
              " 'COMMITTEE',\n",
              " 'FILING',\n",
              " 'SCHEDULE',\n",
              " 'PAGENO',\n",
              " 'SEQUENCENO',\n",
              " 'REFNO',\n",
              " 'INV_DATE',\n",
              " 'DATE',\n",
              " 'NAME',\n",
              " 'C_CODE',\n",
              " 'ORG_IND',\n",
              " 'STRNO',\n",
              " 'STRNAME',\n",
              " 'APARTMENT',\n",
              " 'CITY',\n",
              " 'STATE',\n",
              " 'ZIP',\n",
              " 'PAY_METHOD',\n",
              " 'AMNT',\n",
              " 'PURPOSECD',\n",
              " 'PURPOSE',\n",
              " 'EXPLAIN',\n",
              " 'EXEMPTCD',\n",
              " 'RR_IND',\n",
              " 'SEG_IND']"
            ]
          },
          "metadata": {},
          "execution_count": 5
        }
      ]
    },
    {
      "cell_type": "code",
      "metadata": {
        "colab": {
          "base_uri": "https://localhost:8080/"
        },
        "id": "e2cRNc4wNFgt",
        "outputId": "7fe1e6a3-3c73-403a-925f-f2f1c52d72f7"
      },
      "source": [
        "# Remove multiple columns\n",
        "list = ['CANDMI','COMMITTEE',\n",
        " 'FILING',\n",
        " 'SCHEDULE',\n",
        " 'PAGENO',\n",
        " 'SEQUENCENO',\n",
        " 'REFNO',\n",
        " 'INV_DATE',\n",
        " 'NAME',\n",
        " 'ORG_IND',\n",
        " 'STRNO',\n",
        " 'STRNAME',\n",
        " 'APARTMENT',\n",
        "  'EXPLAIN',\n",
        " 'EXEMPTCD',\n",
        " 'RR_IND',\n",
        " 'SEG_IND',\n",
        " 'PAY_METHOD'] \n",
        "df = df.drop(*list)\n",
        "df.show()"
      ],
      "execution_count": 6,
      "outputs": [
        {
          "output_type": "stream",
          "name": "stdout",
          "text": [
            "+--------+--------+------+--------+--------+---------+----------+------+---------------+-----+-----+--------+---------+----------------+\n",
            "|ELECTION|OFFICECD|CANDID|CANCLASS|CANDLAST|CANDFIRST|      DATE|C_CODE|           CITY|STATE|  ZIP|    AMNT|PURPOSECD|         PURPOSE|\n",
            "+--------+--------+------+--------+--------+---------+----------+------+---------------+-----+-----+--------+---------+----------------+\n",
            "|    2021|       1|  2445|      NP| Francis|   Quanda|10/11/2020|  CORP|       Brooklyn|   NY|11201| 2001.16|    RENTO|     Office Rent|\n",
            "|    2021|      11|  2546|       P|    Yang|   Andrew|  6/4/2021|  CORP|       Glendale|   NY|11385|   91.57|    OTHER|Other: explntion|\n",
            "|    2021|      11|   148|       P|Stringer|    Scott|  5/1/2021|   LLC|       New York|   NY|10006| 3240.75|    RENTO|     Office Rent|\n",
            "|    2021|      11|   148|       P|Stringer|    Scott|  5/4/2021|   LLC|       New York|   NY|10006|13240.75|    RENTO|     Office Rent|\n",
            "|    2021|      11|   148|       P|Stringer|    Scott|  6/7/2021|   LLC|       New York|   NY|10006| 16762.5|    RENTO|     Office Rent|\n",
            "|    2021|      11|   148|       P|Stringer|    Scott|  8/5/2021|   LLC|       New York|   NY|10006|  -10000|     null|            null|\n",
            "|    2021|      11|  2393|       P|   Wiley|     Maya|  4/1/2021| PCOMP|       New York|   NY|10036|    1500|    FUNDR|     Fundraising|\n",
            "|    2021|      11|  1545|       P|   Adams|     Eric| 5/31/2021|  CORP|       New York|   NY|10030|    4000|    RENTO|     Office Rent|\n",
            "|    2021|      11|   148|       P|Stringer|    Scott| 6/30/2021|  CORP|          Bronx|   NY|10451|  574.86|    PROFL|    Prof. Srvcs.|\n",
            "|    2021|      11|  2546|       P|    Yang|   Andrew|  7/1/2021|  OTHR|Toronto, Canada| null| null|  529.97|    OFFCE| Office Expenses|\n",
            "|    2021|      11|  2546|       P|    Yang|   Andrew|  2/2/2021|  OTHR|Toronto, Canada| null| null|  277.66|    OFFCE| Office Expenses|\n",
            "|    2021|      11|  2546|       P|    Yang|   Andrew|  3/2/2021|  OTHR|Toronto, Canada| null| null|  369.74|    OFFCE| Office Expenses|\n",
            "|    2021|      11|  2546|       P|    Yang|   Andrew|  4/2/2021|  OTHR|Toronto, Canada| null| null|   324.9|    OFFCE| Office Expenses|\n",
            "|    2021|      11|  2546|       P|    Yang|   Andrew|  5/3/2021|  OTHR|Toronto, Canada| null| null|  463.28|    OFFCE| Office Expenses|\n",
            "|    2021|      11|  2546|       P|    Yang|   Andrew|  6/2/2021|  OTHR|Toronto, Canada| null| null|  568.76|    OFFCE| Office Expenses|\n",
            "|    2021|      11|  2366|       P|Pepitone|  William| 4/30/2021|  CORP|  Staten Island|   NY|10312|  152.43|    OFFCE| Office Expenses|\n",
            "|    2021|      11|  2366|       P|Pepitone|  William| 5/14/2021|  CORP|  Staten Island|   NY|10312|  1050.1|    OFFCE| Office Expenses|\n",
            "|    2021|      11|  2366|       P|Pepitone|  William|  6/8/2021|  CORP|  Staten Island|   NY|10312|   435.5|    OFFCE| Office Expenses|\n",
            "|    2021|      11|  2366|       P|Pepitone|  William| 6/14/2021|  CORP|  Staten Island|   NY|10312|  152.43|    OFFCE| Office Expenses|\n",
            "|    2021|      11|  2366|       P|Pepitone|  William|  8/5/2021|  CORP|  Staten Island|   NY| null|  152.43|    LITER|     Campgn Lit.|\n",
            "+--------+--------+------+--------+--------+---------+----------+------+---------------+-----+-----+--------+---------+----------------+\n",
            "only showing top 20 rows\n",
            "\n"
          ]
        }
      ]
    },
    {
      "cell_type": "code",
      "metadata": {
        "id": "jQjgDTZeqqf1",
        "colab": {
          "base_uri": "https://localhost:8080/"
        },
        "outputId": "f18401b5-dee6-4c27-bad3-2e05bfa33665"
      },
      "source": [
        "#Combine the Candidate first and last name columns\n",
        "from pyspark.sql.functions import concat_ws\n",
        "df2 = df.withColumn(\"CandidateName\", concat_ws(\",\",\"CANDFIRST\",'CANDLAST'))\n",
        "df2.show()"
      ],
      "execution_count": 7,
      "outputs": [
        {
          "output_type": "stream",
          "name": "stdout",
          "text": [
            "+--------+--------+------+--------+--------+---------+----------+------+---------------+-----+-----+--------+---------+----------------+----------------+\n",
            "|ELECTION|OFFICECD|CANDID|CANCLASS|CANDLAST|CANDFIRST|      DATE|C_CODE|           CITY|STATE|  ZIP|    AMNT|PURPOSECD|         PURPOSE|   CandidateName|\n",
            "+--------+--------+------+--------+--------+---------+----------+------+---------------+-----+-----+--------+---------+----------------+----------------+\n",
            "|    2021|       1|  2445|      NP| Francis|   Quanda|10/11/2020|  CORP|       Brooklyn|   NY|11201| 2001.16|    RENTO|     Office Rent|  Quanda,Francis|\n",
            "|    2021|      11|  2546|       P|    Yang|   Andrew|  6/4/2021|  CORP|       Glendale|   NY|11385|   91.57|    OTHER|Other: explntion|     Andrew,Yang|\n",
            "|    2021|      11|   148|       P|Stringer|    Scott|  5/1/2021|   LLC|       New York|   NY|10006| 3240.75|    RENTO|     Office Rent|  Scott,Stringer|\n",
            "|    2021|      11|   148|       P|Stringer|    Scott|  5/4/2021|   LLC|       New York|   NY|10006|13240.75|    RENTO|     Office Rent|  Scott,Stringer|\n",
            "|    2021|      11|   148|       P|Stringer|    Scott|  6/7/2021|   LLC|       New York|   NY|10006| 16762.5|    RENTO|     Office Rent|  Scott,Stringer|\n",
            "|    2021|      11|   148|       P|Stringer|    Scott|  8/5/2021|   LLC|       New York|   NY|10006|  -10000|     null|            null|  Scott,Stringer|\n",
            "|    2021|      11|  2393|       P|   Wiley|     Maya|  4/1/2021| PCOMP|       New York|   NY|10036|    1500|    FUNDR|     Fundraising|      Maya,Wiley|\n",
            "|    2021|      11|  1545|       P|   Adams|     Eric| 5/31/2021|  CORP|       New York|   NY|10030|    4000|    RENTO|     Office Rent|      Eric,Adams|\n",
            "|    2021|      11|   148|       P|Stringer|    Scott| 6/30/2021|  CORP|          Bronx|   NY|10451|  574.86|    PROFL|    Prof. Srvcs.|  Scott,Stringer|\n",
            "|    2021|      11|  2546|       P|    Yang|   Andrew|  7/1/2021|  OTHR|Toronto, Canada| null| null|  529.97|    OFFCE| Office Expenses|     Andrew,Yang|\n",
            "|    2021|      11|  2546|       P|    Yang|   Andrew|  2/2/2021|  OTHR|Toronto, Canada| null| null|  277.66|    OFFCE| Office Expenses|     Andrew,Yang|\n",
            "|    2021|      11|  2546|       P|    Yang|   Andrew|  3/2/2021|  OTHR|Toronto, Canada| null| null|  369.74|    OFFCE| Office Expenses|     Andrew,Yang|\n",
            "|    2021|      11|  2546|       P|    Yang|   Andrew|  4/2/2021|  OTHR|Toronto, Canada| null| null|   324.9|    OFFCE| Office Expenses|     Andrew,Yang|\n",
            "|    2021|      11|  2546|       P|    Yang|   Andrew|  5/3/2021|  OTHR|Toronto, Canada| null| null|  463.28|    OFFCE| Office Expenses|     Andrew,Yang|\n",
            "|    2021|      11|  2546|       P|    Yang|   Andrew|  6/2/2021|  OTHR|Toronto, Canada| null| null|  568.76|    OFFCE| Office Expenses|     Andrew,Yang|\n",
            "|    2021|      11|  2366|       P|Pepitone|  William| 4/30/2021|  CORP|  Staten Island|   NY|10312|  152.43|    OFFCE| Office Expenses|William,Pepitone|\n",
            "|    2021|      11|  2366|       P|Pepitone|  William| 5/14/2021|  CORP|  Staten Island|   NY|10312|  1050.1|    OFFCE| Office Expenses|William,Pepitone|\n",
            "|    2021|      11|  2366|       P|Pepitone|  William|  6/8/2021|  CORP|  Staten Island|   NY|10312|   435.5|    OFFCE| Office Expenses|William,Pepitone|\n",
            "|    2021|      11|  2366|       P|Pepitone|  William| 6/14/2021|  CORP|  Staten Island|   NY|10312|  152.43|    OFFCE| Office Expenses|William,Pepitone|\n",
            "|    2021|      11|  2366|       P|Pepitone|  William|  8/5/2021|  CORP|  Staten Island|   NY| null|  152.43|    LITER|     Campgn Lit.|William,Pepitone|\n",
            "+--------+--------+------+--------+--------+---------+----------+------+---------------+-----+-----+--------+---------+----------------+----------------+\n",
            "only showing top 20 rows\n",
            "\n"
          ]
        }
      ]
    },
    {
      "cell_type": "code",
      "metadata": {
        "id": "qGVZ3I4hz1x6"
      },
      "source": [
        "#Rearrange column order\n",
        "df3=df2.select('ELECTION','OFFICECD', 'CANDID', 'CANCLASS', 'CandidateName', 'CANDLAST', 'CANDFIRST','C_CODE', \"DATE\", 'CITY', 'STATE',  'ZIP', 'AMNT', 'PURPOSECD', 'PURPOSE')\n"
      ],
      "execution_count": 8,
      "outputs": []
    },
    {
      "cell_type": "code",
      "metadata": {
        "colab": {
          "base_uri": "https://localhost:8080/"
        },
        "id": "LAcxTotHz2t-",
        "outputId": "f51e31c1-a766-4de0-be62-e2442ea60516"
      },
      "source": [
        "#Drop OFFICECD and CANCLASS\n",
        "list1 = ['CANDLAST', 'CANDFIRST'] \n",
        "df4 = df3.drop(*list1)\n",
        "df4.show()"
      ],
      "execution_count": 9,
      "outputs": [
        {
          "output_type": "stream",
          "name": "stdout",
          "text": [
            "+--------+--------+------+--------+----------------+------+----------+---------------+-----+-----+--------+---------+----------------+\n",
            "|ELECTION|OFFICECD|CANDID|CANCLASS|   CandidateName|C_CODE|      DATE|           CITY|STATE|  ZIP|    AMNT|PURPOSECD|         PURPOSE|\n",
            "+--------+--------+------+--------+----------------+------+----------+---------------+-----+-----+--------+---------+----------------+\n",
            "|    2021|       1|  2445|      NP|  Quanda,Francis|  CORP|10/11/2020|       Brooklyn|   NY|11201| 2001.16|    RENTO|     Office Rent|\n",
            "|    2021|      11|  2546|       P|     Andrew,Yang|  CORP|  6/4/2021|       Glendale|   NY|11385|   91.57|    OTHER|Other: explntion|\n",
            "|    2021|      11|   148|       P|  Scott,Stringer|   LLC|  5/1/2021|       New York|   NY|10006| 3240.75|    RENTO|     Office Rent|\n",
            "|    2021|      11|   148|       P|  Scott,Stringer|   LLC|  5/4/2021|       New York|   NY|10006|13240.75|    RENTO|     Office Rent|\n",
            "|    2021|      11|   148|       P|  Scott,Stringer|   LLC|  6/7/2021|       New York|   NY|10006| 16762.5|    RENTO|     Office Rent|\n",
            "|    2021|      11|   148|       P|  Scott,Stringer|   LLC|  8/5/2021|       New York|   NY|10006|  -10000|     null|            null|\n",
            "|    2021|      11|  2393|       P|      Maya,Wiley| PCOMP|  4/1/2021|       New York|   NY|10036|    1500|    FUNDR|     Fundraising|\n",
            "|    2021|      11|  1545|       P|      Eric,Adams|  CORP| 5/31/2021|       New York|   NY|10030|    4000|    RENTO|     Office Rent|\n",
            "|    2021|      11|   148|       P|  Scott,Stringer|  CORP| 6/30/2021|          Bronx|   NY|10451|  574.86|    PROFL|    Prof. Srvcs.|\n",
            "|    2021|      11|  2546|       P|     Andrew,Yang|  OTHR|  7/1/2021|Toronto, Canada| null| null|  529.97|    OFFCE| Office Expenses|\n",
            "|    2021|      11|  2546|       P|     Andrew,Yang|  OTHR|  2/2/2021|Toronto, Canada| null| null|  277.66|    OFFCE| Office Expenses|\n",
            "|    2021|      11|  2546|       P|     Andrew,Yang|  OTHR|  3/2/2021|Toronto, Canada| null| null|  369.74|    OFFCE| Office Expenses|\n",
            "|    2021|      11|  2546|       P|     Andrew,Yang|  OTHR|  4/2/2021|Toronto, Canada| null| null|   324.9|    OFFCE| Office Expenses|\n",
            "|    2021|      11|  2546|       P|     Andrew,Yang|  OTHR|  5/3/2021|Toronto, Canada| null| null|  463.28|    OFFCE| Office Expenses|\n",
            "|    2021|      11|  2546|       P|     Andrew,Yang|  OTHR|  6/2/2021|Toronto, Canada| null| null|  568.76|    OFFCE| Office Expenses|\n",
            "|    2021|      11|  2366|       P|William,Pepitone|  CORP| 4/30/2021|  Staten Island|   NY|10312|  152.43|    OFFCE| Office Expenses|\n",
            "|    2021|      11|  2366|       P|William,Pepitone|  CORP| 5/14/2021|  Staten Island|   NY|10312|  1050.1|    OFFCE| Office Expenses|\n",
            "|    2021|      11|  2366|       P|William,Pepitone|  CORP|  6/8/2021|  Staten Island|   NY|10312|   435.5|    OFFCE| Office Expenses|\n",
            "|    2021|      11|  2366|       P|William,Pepitone|  CORP| 6/14/2021|  Staten Island|   NY|10312|  152.43|    OFFCE| Office Expenses|\n",
            "|    2021|      11|  2366|       P|William,Pepitone|  CORP|  8/5/2021|  Staten Island|   NY| null|  152.43|    LITER|     Campgn Lit.|\n",
            "+--------+--------+------+--------+----------------+------+----------+---------------+-----+-----+--------+---------+----------------+\n",
            "only showing top 20 rows\n",
            "\n"
          ]
        }
      ]
    },
    {
      "cell_type": "code",
      "metadata": {
        "colab": {
          "base_uri": "https://localhost:8080/"
        },
        "id": "g5aiRN5RNFjB",
        "outputId": "d2aefef5-5146-4f75-fb51-93adf0481480"
      },
      "source": [
        "# check data types\n",
        "df4.dtypes"
      ],
      "execution_count": 10,
      "outputs": [
        {
          "output_type": "execute_result",
          "data": {
            "text/plain": [
              "[('ELECTION', 'string'),\n",
              " ('OFFICECD', 'string'),\n",
              " ('CANDID', 'string'),\n",
              " ('CANCLASS', 'string'),\n",
              " ('CandidateName', 'string'),\n",
              " ('C_CODE', 'string'),\n",
              " ('DATE', 'string'),\n",
              " ('CITY', 'string'),\n",
              " ('STATE', 'string'),\n",
              " ('ZIP', 'string'),\n",
              " ('AMNT', 'string'),\n",
              " ('PURPOSECD', 'string'),\n",
              " ('PURPOSE', 'string')]"
            ]
          },
          "metadata": {},
          "execution_count": 10
        }
      ]
    },
    {
      "cell_type": "code",
      "metadata": {
        "colab": {
          "base_uri": "https://localhost:8080/"
        },
        "id": "sA6AAG4zYxSL",
        "outputId": "88b57c8b-0def-4630-d91c-8ae48a6d068b"
      },
      "source": [
        "df4.columns"
      ],
      "execution_count": 11,
      "outputs": [
        {
          "output_type": "execute_result",
          "data": {
            "text/plain": [
              "['ELECTION',\n",
              " 'OFFICECD',\n",
              " 'CANDID',\n",
              " 'CANCLASS',\n",
              " 'CandidateName',\n",
              " 'C_CODE',\n",
              " 'DATE',\n",
              " 'CITY',\n",
              " 'STATE',\n",
              " 'ZIP',\n",
              " 'AMNT',\n",
              " 'PURPOSECD',\n",
              " 'PURPOSE']"
            ]
          },
          "metadata": {},
          "execution_count": 11
        }
      ]
    },
    {
      "cell_type": "code",
      "metadata": {
        "colab": {
          "base_uri": "https://localhost:8080/"
        },
        "id": "tIkq3wdqOzWV",
        "outputId": "ead6ec28-4425-45ac-8932-4594a2a5dca7"
      },
      "source": [
        "#Change column names\n",
        "df5 = df4 \\\n",
        ".withColumnRenamed(\"ELECTION\", \"Election\") \\\n",
        ".withColumnRenamed(\"CANDID\", \"CandidateID\") \\\n",
        ".withColumnRenamed(\"C_CODE\", \"ContributionType\") \\\n",
        ".withColumnRenamed(\"CITY\", \"City\") \\\n",
        ".withColumnRenamed(\"DATE\", \"Date\") \\\n",
        ".withColumnRenamed(\"STATE\", \"State\") \\\n",
        ".withColumnRenamed(\"ZIP\", \"ZipCode\") \\\n",
        ".withColumnRenamed(\"AMNT\", \"Amount\") \\\n",
        ".withColumnRenamed(\"PURPOSECD\", \"PurposeCode\") \\\n",
        ".withColumnRenamed(\"PURPOSE\", \"Purpose\") \n",
        "\n",
        "df5.printSchema()"
      ],
      "execution_count": 12,
      "outputs": [
        {
          "output_type": "stream",
          "name": "stdout",
          "text": [
            "root\n",
            " |-- Election: string (nullable = true)\n",
            " |-- OFFICECD: string (nullable = true)\n",
            " |-- CandidateID: string (nullable = true)\n",
            " |-- CANCLASS: string (nullable = true)\n",
            " |-- CandidateName: string (nullable = false)\n",
            " |-- ContributionType: string (nullable = true)\n",
            " |-- Date: string (nullable = true)\n",
            " |-- City: string (nullable = true)\n",
            " |-- State: string (nullable = true)\n",
            " |-- ZipCode: string (nullable = true)\n",
            " |-- Amount: string (nullable = true)\n",
            " |-- PurposeCode: string (nullable = true)\n",
            " |-- Purpose: string (nullable = true)\n",
            "\n"
          ]
        }
      ]
    },
    {
      "cell_type": "code",
      "metadata": {
        "colab": {
          "base_uri": "https://localhost:8080/"
        },
        "id": "SyWn9dANSi5l",
        "outputId": "1fa31142-84fe-4179-beb1-5bdba4c3e82a"
      },
      "source": [
        "# changing datatypes of columns\n",
        "df6 = df5 \\\n",
        "  .withColumn(\"Election\",df5[\"Election\"].cast(\"Integer\")) \\\n",
        "  .withColumn(\"OFFICECD\", df5[\"OFFICECD\"].cast(\"Integer\")) \\\n",
        "  .withColumn(\"CandidateID\", df5[\"CandidateID\"].cast(\"Integer\")) \\\n",
        "  .withColumn(\"ZipCode\", df5[\"ZipCode\"].cast(\"Integer\")) \\\n",
        "  .withColumn(\"Amount\", df5[\"Amount\"].cast(\"Integer\")) \\\n",
        "  \n",
        "df6.printSchema()"
      ],
      "execution_count": 13,
      "outputs": [
        {
          "output_type": "stream",
          "name": "stdout",
          "text": [
            "root\n",
            " |-- Election: integer (nullable = true)\n",
            " |-- OFFICECD: integer (nullable = true)\n",
            " |-- CandidateID: integer (nullable = true)\n",
            " |-- CANCLASS: string (nullable = true)\n",
            " |-- CandidateName: string (nullable = false)\n",
            " |-- ContributionType: string (nullable = true)\n",
            " |-- Date: string (nullable = true)\n",
            " |-- City: string (nullable = true)\n",
            " |-- State: string (nullable = true)\n",
            " |-- ZipCode: integer (nullable = true)\n",
            " |-- Amount: integer (nullable = true)\n",
            " |-- PurposeCode: string (nullable = true)\n",
            " |-- Purpose: string (nullable = true)\n",
            "\n"
          ]
        }
      ]
    },
    {
      "cell_type": "code",
      "metadata": {
        "id": "h1aCPuV3WPwC"
      },
      "source": [
        "#Change vaule name in ContributerType\n",
        "from pyspark.sql.functions import regexp_replace\n",
        "df7 = df6.withColumn(\"ContributionType\", regexp_replace(\"ContributionType\", 'CAN', 'Candidate')) \\\n",
        "  .withColumn('ContributionType', regexp_replace(\"ContributionType\", 'CORP', 'Corporation')) \\\n",
        "  .withColumn('ContributionType', regexp_replace(\"ContributionType\", 'EMPO', 'Labor Union')) \\\n",
        "  .withColumn(\"ContributionType\", regexp_replace(\"ContributionType\", 'FAM', 'Candidate Family')) \\\n",
        "  .withColumn(\"ContributionType\", regexp_replace(\"ContributionType\", 'IND', 'Individual')) \\\n",
        "  .withColumn(\"ContributionType\", regexp_replace(\"ContributionType\", 'PCOMZ', 'Party Committee')) \\\n",
        "  .withColumn(\"ContributionType\", regexp_replace(\"ContributionType\", 'ORG', 'Orgainization')) \\\n",
        "  .withColumn(\"ContributionType\", regexp_replace(\"ContributionType\", 'LLC', 'Limited Liability Company')) \\\n",
        "  .withColumn(\"ContributionType\", regexp_replace(\"ContributionType\", 'PCOMP', 'Political Action Committee')) \\\n",
        "  .withColumn(\"ContributionType\", regexp_replace(\"ContributionType\", 'SPO', ' Candidates Spouse')) \\\n",
        "  .withColumn(\"ContributionType\", regexp_replace(\"ContributionType\", 'OTHR', 'Other')) \\\n",
        "  .withColumn(\"ContributionType\", regexp_replace(\"ContributionType\", 'PCOMC', 'Candidate Committee')) \\\n",
        "  .withColumn(\"ContributionType\", regexp_replace(\"ContributionType\", 'PART', 'Individual')) \\\n"
      ],
      "execution_count": 14,
      "outputs": []
    },
    {
      "cell_type": "code",
      "metadata": {
        "id": "fy4JAvyQWRl7"
      },
      "source": [
        "#Change Purpose Code value names\n",
        "from pyspark.sql.functions import regexp_replace\n",
        "df8 = df7.withColumn('PurposeCode', regexp_replace('PurposeCode', 'ADVAN', 'Advance Repayment')) \\\n",
        "  .withColumn('PurposeCode', regexp_replace('PurposeCode', 'CMAIL', 'Campaign Mail')) \\\n",
        "  .withColumn('PurposeCode', regexp_replace('PurposeCode', 'CMISC', 'Miscellaneous')) \\\n",
        "  .withColumn('PurposeCode', regexp_replace('PurposeCode', 'CNTRB', 'Political Contributions')) \\\n",
        "  .withColumn('PurposeCode', regexp_replace('PurposeCode', 'COMPL', 'Compliance Cost')) \\\n",
        "  .withColumn('PurposeCode', regexp_replace('PurposeCode', 'CONSL', 'Campaign Consultants')) \\\n",
        "  .withColumn('PurposeCode', regexp_replace('PurposeCode', 'CONSV', 'Constituent Services')) \\\n",
        "  .withColumn('PurposeCode', regexp_replace('PurposeCode', 'FUNDR', 'Fundraising')) \\\n",
        "  .withColumn('PurposeCode', regexp_replace('PurposeCode', 'INTER', 'Interest Expenses')) \\\n",
        "  .withColumn('PurposeCode', regexp_replace('PurposeCode', 'LITER', 'Campaign Literature')) \\\n",
        "  .withColumn('PurposeCode', regexp_replace('PurposeCode', 'NQUAL', 'Non Qualified Expenditures')) \\\n",
        "  .withColumn('PurposeCode', regexp_replace('PurposeCode', 'OFFCE', 'Office Expenses')) \\\n",
        "  .withColumn('PurposeCode', regexp_replace('PurposeCode', 'OTHER', 'Other')) \\\n",
        "  .withColumn('PurposeCode', regexp_replace('PurposeCode', 'PETIT', 'Petition Expenses')) \\\n",
        "  .withColumn('PurposeCode', regexp_replace('PurposeCode', 'POLLS', 'Polling Costs')) \\\n",
        "  .withColumn('PurposeCode', regexp_replace('PurposeCode', 'POSTA', 'Postal Expenses')) \\\n",
        "  .withColumn('PurposeCode', regexp_replace('PurposeCode', 'PRINT', 'Printing Expenses')) \\\n",
        "  .withColumn('PurposeCode', regexp_replace('PurposeCode', 'PROFL', 'Professional Services')) \\\n",
        "  .withColumn('PurposeCode', regexp_replace('PurposeCode', 'RADIO', 'Radio Ads')) \\\n",
        "  .withColumn('PurposeCode', regexp_replace('PurposeCode', 'RENTO', 'Office Rent')) \\\n",
        "  .withColumn('PurposeCode', regexp_replace('PurposeCode', 'TVADS', 'Television Ads')) \\\n",
        "  .withColumn('PurposeCode', regexp_replace('PurposeCode', 'UNKN', 'Unknown')) \\\n",
        "  .withColumn('PurposeCode', regexp_replace('PurposeCode', 'VOTER', 'Voter Registration')) \\\n",
        "  .withColumn('PurposeCode', regexp_replace('PurposeCode', 'WAGES', 'Campaign Workers Salaries')) \\"
      ],
      "execution_count": 15,
      "outputs": []
    },
    {
      "cell_type": "code",
      "metadata": {
        "id": "fM_kC3ViNFqN",
        "colab": {
          "base_uri": "https://localhost:8080/"
        },
        "outputId": "a861b801-e52b-4eab-a1ca-7d6e62859aee"
      },
      "source": [
        "#Call only Mayor (1) and particaptes (P) within Dataframe\n",
        "df9 = df8.filter((df8.CANCLASS==\"P\"))\n",
        "df9.show()"
      ],
      "execution_count": 16,
      "outputs": [
        {
          "output_type": "stream",
          "name": "stdout",
          "text": [
            "+--------+--------+-----------+--------+----------------+--------------------+---------+---------------+-----+-------+------+--------------------+----------------+\n",
            "|Election|OFFICECD|CandidateID|CANCLASS|   CandidateName|    ContributionType|     Date|           City|State|ZipCode|Amount|         PurposeCode|         Purpose|\n",
            "+--------+--------+-----------+--------+----------------+--------------------+---------+---------------+-----+-------+------+--------------------+----------------+\n",
            "|    2021|      11|       2546|       P|     Andrew,Yang|         Corporation| 6/4/2021|       Glendale|   NY|  11385|    91|               Other|Other: explntion|\n",
            "|    2021|      11|        148|       P|  Scott,Stringer|Limited Liability...| 5/1/2021|       New York|   NY|  10006|  3240|         Office Rent|     Office Rent|\n",
            "|    2021|      11|        148|       P|  Scott,Stringer|Limited Liability...| 5/4/2021|       New York|   NY|  10006| 13240|         Office Rent|     Office Rent|\n",
            "|    2021|      11|        148|       P|  Scott,Stringer|Limited Liability...| 6/7/2021|       New York|   NY|  10006| 16762|         Office Rent|     Office Rent|\n",
            "|    2021|      11|        148|       P|  Scott,Stringer|Limited Liability...| 8/5/2021|       New York|   NY|  10006|-10000|                null|            null|\n",
            "|    2021|      11|       2393|       P|      Maya,Wiley|Political Action ...| 4/1/2021|       New York|   NY|  10036|  1500|         Fundraising|     Fundraising|\n",
            "|    2021|      11|       1545|       P|      Eric,Adams|         Corporation|5/31/2021|       New York|   NY|  10030|  4000|         Office Rent|     Office Rent|\n",
            "|    2021|      11|        148|       P|  Scott,Stringer|         Corporation|6/30/2021|          Bronx|   NY|  10451|   574|Professional Serv...|    Prof. Srvcs.|\n",
            "|    2021|      11|       2546|       P|     Andrew,Yang|               Other| 7/1/2021|Toronto, Canada| null|   null|   529|     Office Expenses| Office Expenses|\n",
            "|    2021|      11|       2546|       P|     Andrew,Yang|               Other| 2/2/2021|Toronto, Canada| null|   null|   277|     Office Expenses| Office Expenses|\n",
            "|    2021|      11|       2546|       P|     Andrew,Yang|               Other| 3/2/2021|Toronto, Canada| null|   null|   369|     Office Expenses| Office Expenses|\n",
            "|    2021|      11|       2546|       P|     Andrew,Yang|               Other| 4/2/2021|Toronto, Canada| null|   null|   324|     Office Expenses| Office Expenses|\n",
            "|    2021|      11|       2546|       P|     Andrew,Yang|               Other| 5/3/2021|Toronto, Canada| null|   null|   463|     Office Expenses| Office Expenses|\n",
            "|    2021|      11|       2546|       P|     Andrew,Yang|               Other| 6/2/2021|Toronto, Canada| null|   null|   568|     Office Expenses| Office Expenses|\n",
            "|    2021|      11|       2366|       P|William,Pepitone|         Corporation|4/30/2021|  Staten Island|   NY|  10312|   152|     Office Expenses| Office Expenses|\n",
            "|    2021|      11|       2366|       P|William,Pepitone|         Corporation|5/14/2021|  Staten Island|   NY|  10312|  1050|     Office Expenses| Office Expenses|\n",
            "|    2021|      11|       2366|       P|William,Pepitone|         Corporation| 6/8/2021|  Staten Island|   NY|  10312|   435|     Office Expenses| Office Expenses|\n",
            "|    2021|      11|       2366|       P|William,Pepitone|         Corporation|6/14/2021|  Staten Island|   NY|  10312|   152|     Office Expenses| Office Expenses|\n",
            "|    2021|      11|       2366|       P|William,Pepitone|         Corporation| 8/5/2021|  Staten Island|   NY|   null|   152| Campaign Literature|     Campgn Lit.|\n",
            "|    2021|      11|       2366|       P|William,Pepitone|         Corporation|8/19/2021|  Staten Island|   NY|   null|   816| Campaign Literature|     Campgn Lit.|\n",
            "+--------+--------+-----------+--------+----------------+--------------------+---------+---------------+-----+-------+------+--------------------+----------------+\n",
            "only showing top 20 rows\n",
            "\n"
          ]
        }
      ]
    },
    {
      "cell_type": "code",
      "metadata": {
        "id": "WmdLbDEzQAyc",
        "colab": {
          "base_uri": "https://localhost:8080/"
        },
        "outputId": "1bb807bb-34e0-4ceb-bfec-169bd7841013"
      },
      "source": [
        "#Check the above dataframe to make sure only unique values between the OFFICECD is 1 \n",
        "df9.select('OFFICECD').distinct().show()"
      ],
      "execution_count": 17,
      "outputs": [
        {
          "output_type": "stream",
          "name": "stdout",
          "text": [
            "+--------+\n",
            "|OFFICECD|\n",
            "+--------+\n",
            "|       1|\n",
            "|      11|\n",
            "+--------+\n",
            "\n"
          ]
        }
      ]
    },
    {
      "cell_type": "code",
      "metadata": {
        "id": "zj62k5TKYtet"
      },
      "source": [
        "#Replace Replace 0 for null on only Amount column \n",
        "df10 = df9.na.fill(value=0,subset=[\"Amount\"])"
      ],
      "execution_count": 18,
      "outputs": []
    },
    {
      "cell_type": "code",
      "metadata": {
        "id": "4kbDs5ApZtEu",
        "colab": {
          "base_uri": "https://localhost:8080/"
        },
        "outputId": "b9a3eb58-4837-4e21-f63c-a6bfd9685f85"
      },
      "source": [
        "#Drop OFFICECD and CANCLASS\n",
        "list2 = ['OFFICECD', 'CANCLASS'] \n",
        "Expenditures_2021_df = df10.drop(*list2)\n",
        "Expenditures_2021_df.show()"
      ],
      "execution_count": 19,
      "outputs": [
        {
          "output_type": "stream",
          "name": "stdout",
          "text": [
            "+--------+-----------+----------------+--------------------+---------+---------------+-----+-------+------+--------------------+----------------+\n",
            "|Election|CandidateID|   CandidateName|    ContributionType|     Date|           City|State|ZipCode|Amount|         PurposeCode|         Purpose|\n",
            "+--------+-----------+----------------+--------------------+---------+---------------+-----+-------+------+--------------------+----------------+\n",
            "|    2021|       2546|     Andrew,Yang|         Corporation| 6/4/2021|       Glendale|   NY|  11385|    91|               Other|Other: explntion|\n",
            "|    2021|        148|  Scott,Stringer|Limited Liability...| 5/1/2021|       New York|   NY|  10006|  3240|         Office Rent|     Office Rent|\n",
            "|    2021|        148|  Scott,Stringer|Limited Liability...| 5/4/2021|       New York|   NY|  10006| 13240|         Office Rent|     Office Rent|\n",
            "|    2021|        148|  Scott,Stringer|Limited Liability...| 6/7/2021|       New York|   NY|  10006| 16762|         Office Rent|     Office Rent|\n",
            "|    2021|        148|  Scott,Stringer|Limited Liability...| 8/5/2021|       New York|   NY|  10006|-10000|                null|            null|\n",
            "|    2021|       2393|      Maya,Wiley|Political Action ...| 4/1/2021|       New York|   NY|  10036|  1500|         Fundraising|     Fundraising|\n",
            "|    2021|       1545|      Eric,Adams|         Corporation|5/31/2021|       New York|   NY|  10030|  4000|         Office Rent|     Office Rent|\n",
            "|    2021|        148|  Scott,Stringer|         Corporation|6/30/2021|          Bronx|   NY|  10451|   574|Professional Serv...|    Prof. Srvcs.|\n",
            "|    2021|       2546|     Andrew,Yang|               Other| 7/1/2021|Toronto, Canada| null|   null|   529|     Office Expenses| Office Expenses|\n",
            "|    2021|       2546|     Andrew,Yang|               Other| 2/2/2021|Toronto, Canada| null|   null|   277|     Office Expenses| Office Expenses|\n",
            "|    2021|       2546|     Andrew,Yang|               Other| 3/2/2021|Toronto, Canada| null|   null|   369|     Office Expenses| Office Expenses|\n",
            "|    2021|       2546|     Andrew,Yang|               Other| 4/2/2021|Toronto, Canada| null|   null|   324|     Office Expenses| Office Expenses|\n",
            "|    2021|       2546|     Andrew,Yang|               Other| 5/3/2021|Toronto, Canada| null|   null|   463|     Office Expenses| Office Expenses|\n",
            "|    2021|       2546|     Andrew,Yang|               Other| 6/2/2021|Toronto, Canada| null|   null|   568|     Office Expenses| Office Expenses|\n",
            "|    2021|       2366|William,Pepitone|         Corporation|4/30/2021|  Staten Island|   NY|  10312|   152|     Office Expenses| Office Expenses|\n",
            "|    2021|       2366|William,Pepitone|         Corporation|5/14/2021|  Staten Island|   NY|  10312|  1050|     Office Expenses| Office Expenses|\n",
            "|    2021|       2366|William,Pepitone|         Corporation| 6/8/2021|  Staten Island|   NY|  10312|   435|     Office Expenses| Office Expenses|\n",
            "|    2021|       2366|William,Pepitone|         Corporation|6/14/2021|  Staten Island|   NY|  10312|   152|     Office Expenses| Office Expenses|\n",
            "|    2021|       2366|William,Pepitone|         Corporation| 8/5/2021|  Staten Island|   NY|   null|   152| Campaign Literature|     Campgn Lit.|\n",
            "|    2021|       2366|William,Pepitone|         Corporation|8/19/2021|  Staten Island|   NY|   null|   816| Campaign Literature|     Campgn Lit.|\n",
            "+--------+-----------+----------------+--------------------+---------+---------------+-----+-------+------+--------------------+----------------+\n",
            "only showing top 20 rows\n",
            "\n"
          ]
        }
      ]
    },
    {
      "cell_type": "code",
      "metadata": {
        "id": "jKdRMcW-9mtO"
      },
      "source": [
        "#Export to new CSV\n",
        "Expenditures_2021_df.toPandas().to_csv(\"Clean_Expenditures_2021.csv\", header=True)"
      ],
      "execution_count": 20,
      "outputs": []
    },
    {
      "cell_type": "code",
      "metadata": {
        "id": "0xHPGZ5gcKff"
      },
      "source": [
        "# Store environmental variable\n",
        "from getpass import getpass\n",
        "#Configure settings for RDS\n",
        "mode = \"append\"\n",
        "jdbc_url=\"jdbc:postgresql://database-final.cjdbapst3wjf.us-east-1.rds.amazonaws.com:5432/postgres\"\n",
        "config = {\"user\":\"postgres\",\n",
        "          \"password\": \"******\",\n",
        "          \"driver\":\"org.postgresql.Driver\"}"
      ],
      "execution_count": 21,
      "outputs": []
    },
    {
      "cell_type": "code",
      "metadata": {
        "id": "7BSEgJlTcLrD"
      },
      "source": [
        "# Write DataFrame to active_user table in RDS\n",
        "#Expenditures_2021_df.write.jdbc(url=jdbc_url, table='expenditures_2021', mode=mode, properties=config)"
      ],
      "execution_count": 22,
      "outputs": []
    }
  ]
}