{
  "nbformat": 4,
  "nbformat_minor": 0,
  "metadata": {
    "colab": {
      "name": "2009_Contributions.ipynb",
      "provenance": [],
      "collapsed_sections": [],
      "authorship_tag": "ABX9TyP/QC0AqSnxr2eMlB/efAYP",
      "include_colab_link": true
    },
    "kernelspec": {
      "name": "python3",
      "display_name": "Python 3"
    },
    "language_info": {
      "name": "python"
    }
  },
  "cells": [
    {
      "cell_type": "markdown",
      "metadata": {
        "id": "view-in-github",
        "colab_type": "text"
      },
      "source": [
        "<a href=\"https://colab.research.google.com/github/ssheggrud/Mod_20_Project/blob/05_Riley/2009_Contributions.ipynb\" target=\"_parent\"><img src=\"https://colab.research.google.com/assets/colab-badge.svg\" alt=\"Open In Colab\"/></a>"
      ]
    },
    {
      "cell_type": "markdown",
      "metadata": {
        "id": "qo0_SOu8LIEc"
      },
      "source": [
        "## **2009 Indivdual Contributions**"
      ]
    },
    {
      "cell_type": "code",
      "metadata": {
        "colab": {
          "base_uri": "https://localhost:8080/"
        },
        "id": "ddn5mqQ0M_R3",
        "outputId": "0c225ccf-ffc6-42c1-833c-ad751745d2a7"
      },
      "source": [
        "import os\n",
        "# Find the latest version of spark 3.0 from http://www.apache.org/dist/spark/ and enter as the spark version\n",
        "# For example:\n",
        "spark_version = 'spark-3.0.3'\n",
        "#spark_version = 'spark-2.4.8'\n",
        "os.environ['SPARK_VERSION']=spark_version\n",
        "\n",
        "# Install Spark and Java\n",
        "!apt-get update\n",
        "!apt-get install openjdk-11-jdk-headless -qq > /dev/null\n",
        "!wget -q http://www.apache.org/dist/spark/$SPARK_VERSION/$SPARK_VERSION-bin-hadoop2.7.tgz\n",
        "!tar xf $SPARK_VERSION-bin-hadoop2.7.tgz\n",
        "!pip install -q findspark\n",
        "\n",
        "# Set Environment Variables\n",
        "import os\n",
        "os.environ[\"JAVA_HOME\"] = \"/usr/lib/jvm/java-11-openjdk-amd64\"\n",
        "os.environ[\"SPARK_HOME\"] = f\"/content/{spark_version}-bin-hadoop2.7\"\n",
        "\n",
        "# Start a SparkSession\n",
        "import findspark\n",
        "findspark.init()\n",
        "\n",
        "import pandas as pd\n"
      ],
      "execution_count": 1,
      "outputs": [
        {
          "output_type": "stream",
          "name": "stdout",
          "text": [
            "\r0% [Working]\r            \rHit:1 http://security.ubuntu.com/ubuntu bionic-security InRelease\n",
            "\r0% [Connecting to archive.ubuntu.com (91.189.88.152)] [Connecting to cloud.r-pr\r0% [1 InRelease gpgv 88.7 kB] [Connecting to archive.ubuntu.com (91.189.88.152)\r                                                                               \rIgn:2 https://developer.download.nvidia.com/compute/cuda/repos/ubuntu1804/x86_64  InRelease\n",
            "Hit:3 https://cloud.r-project.org/bin/linux/ubuntu bionic-cran40/ InRelease\n",
            "Hit:4 http://ppa.launchpad.net/c2d4u.team/c2d4u4.0+/ubuntu bionic InRelease\n",
            "Ign:5 https://developer.download.nvidia.com/compute/machine-learning/repos/ubuntu1804/x86_64  InRelease\n",
            "Hit:6 https://developer.download.nvidia.com/compute/cuda/repos/ubuntu1804/x86_64  Release\n",
            "Hit:7 http://archive.ubuntu.com/ubuntu bionic InRelease\n",
            "Hit:8 https://developer.download.nvidia.com/compute/machine-learning/repos/ubuntu1804/x86_64  Release\n",
            "Hit:9 http://archive.ubuntu.com/ubuntu bionic-updates InRelease\n",
            "Hit:10 http://archive.ubuntu.com/ubuntu bionic-backports InRelease\n",
            "Hit:12 http://ppa.launchpad.net/cran/libgit2/ubuntu bionic InRelease\n",
            "Hit:14 http://ppa.launchpad.net/deadsnakes/ppa/ubuntu bionic InRelease\n",
            "Hit:15 http://ppa.launchpad.net/graphics-drivers/ppa/ubuntu bionic InRelease\n",
            "Reading package lists... Done\n"
          ]
        }
      ]
    },
    {
      "cell_type": "code",
      "metadata": {
        "id": "jiP19KLKCpxR"
      },
      "source": [
        "import findspark\n",
        "findspark.add_packages('mysql:mysql-connector-java:8.0.11')"
      ],
      "execution_count": 2,
      "outputs": []
    },
    {
      "cell_type": "code",
      "metadata": {
        "colab": {
          "base_uri": "https://localhost:8080/"
        },
        "id": "B9Dd_JabNFZU",
        "outputId": "8879c682-bf6b-4bf5-f5d0-6c3c68dafc59"
      },
      "source": [
        "# Download the Postgres driver that will allow Spark to interact with Postgres.\n",
        "!wget https://jdbc.postgresql.org/download/postgresql-42.2.16.jar"
      ],
      "execution_count": 3,
      "outputs": [
        {
          "output_type": "stream",
          "name": "stdout",
          "text": [
            "--2021-09-17 19:10:01--  https://jdbc.postgresql.org/download/postgresql-42.2.16.jar\n",
            "Resolving jdbc.postgresql.org (jdbc.postgresql.org)... 72.32.157.228, 2001:4800:3e1:1::228\n",
            "Connecting to jdbc.postgresql.org (jdbc.postgresql.org)|72.32.157.228|:443... connected.\n",
            "HTTP request sent, awaiting response... 200 OK\n",
            "Length: 1002883 (979K) [application/java-archive]\n",
            "Saving to: ‘postgresql-42.2.16.jar.6’\n",
            "\n",
            "postgresql-42.2.16. 100%[===================>] 979.38K  2.10MB/s    in 0.5s    \n",
            "\n",
            "2021-09-17 19:10:02 (2.10 MB/s) - ‘postgresql-42.2.16.jar.6’ saved [1002883/1002883]\n",
            "\n"
          ]
        }
      ]
    },
    {
      "cell_type": "code",
      "metadata": {
        "id": "VrvolWKMNFbe"
      },
      "source": [
        "# Start Spark session\n",
        "#from pyspark.sql import SparkSession\n",
        "#from pyspark.sql.functions import col\n",
        "#spark = SparkSession.builder.appName(\"FinalProject\").getOrCreate()"
      ],
      "execution_count": 4,
      "outputs": []
    },
    {
      "cell_type": "code",
      "metadata": {
        "id": "M9RnA4W6GDS6"
      },
      "source": [
        "from pyspark.sql import SparkSession\n",
        "spark = SparkSession.builder.appName(\"CloudETL\").config(\"spark.driver.extraClassPath\",\"/content/postgresql-42.2.16.jar\").getOrCreate()"
      ],
      "execution_count": 5,
      "outputs": []
    },
    {
      "cell_type": "code",
      "metadata": {
        "colab": {
          "base_uri": "https://localhost:8080/"
        },
        "id": "W2uxnkAjNFeD",
        "outputId": "cd23f1b6-225f-4392-9ace-2e3a559f7497"
      },
      "source": [
        "# Read in data from S3 Buckets\n",
        "from pyspark import SparkFiles\n",
        "url = \"https://databootcamp-final-05.s3.amazonaws.com/Resources/Individual+Contributions+2009.csv\"\n",
        "spark.sparkContext.addFile(url)\n",
        "df = spark.read.csv(SparkFiles.get(\"Individual+Contributions+2009.csv\"), sep=\",\", header=True)\n",
        "df.show()"
      ],
      "execution_count": 6,
      "outputs": [
        {
          "output_type": "stream",
          "name": "stdout",
          "text": [
            "+--------+--------+-------+--------+--------------------+---------+------+--------+------+----------+--------+----------+----------+-------------------+------+-----+-------+---------+---------+------------+-----+-----+------------------+--------------------+--------+-------------------+------------+--------+---------+---------+--------+----------+--------+----------+--------+--------+--------+-------+-----+------+----------+----------+----------+----------+--------+---------+---------+--------+---------+------+-------+----------+\n",
            "|ELECTION|OFFICECD|RECIPID|CANCLASS|           RECIPNAME|COMMITTEE|FILING|SCHEDULE|PAGENO|SEQUENCENO|   REFNO|      DATE|REFUNDDATE|               NAME|C_CODE|STRNO|STRNAME|APARTMENT|BOROUGHCD|        CITY|STATE|  ZIP|        OCCUPATION|             EMPNAME|EMPSTRNO|         EMPSTRNAME|     EMPCITY|EMPSTATE|     AMNT|MATCHAMNT|PREVAMNT|PAY_METHOD|INTERMNO|INTERMNAME|INTSTRNO|INTSTRNM|INTAPTNO|INTCITY|INTST|INTZIP|INTEMPNAME|INTEMPSTNO|INTEMPSTNM|INTEMPCITY|INTEMPST|INTOCCUPA|PURPOSECD|EXEMPTCD|ADJTYPECD|RR_IND|SEG_IND|INT_C_CODE|\n",
            "+--------+--------+-------+--------+--------------------+---------+------+--------+------+----------+--------+----------+----------+-------------------+------+-----+-------+---------+---------+------------+-----+-----+------------------+--------------------+--------+-------------------+------------+--------+---------+---------+--------+----------+--------+----------+--------+--------+--------+-------+-----+------+----------+----------+----------+----------+--------+---------+---------+--------+---------+------+-------+----------+\n",
            "|    2009|       1|   1264|      NP|Catsimatidis, John A|        H|     6|     ABC|  null|      null|R0000019|  9/5/2008|      null| Catsimatidis, John|   CAN| null|   null|     null|        M|    New York|   NY|10065|               CEO|     Red Apple Group|     823|    Eleventh Avenue|    New York|      NY|   100000|        0|       0|         3|    null|      null|    null|    null|    null|   null| null|  null|      null|      null|      null|      null|    null|     null|     null|    null|     null|     N|      N|      null|\n",
            "|    2009|       1|   1264|      NP|Catsimatidis, John A|        H|     6|     ABC|  null|      null|R0000020|12/12/2008|      null| Catsimatidis, John|   CAN| null|   null|     null|        M|    New York|   NY|10065|               CEO|     Red Apple Group|     823|    Eleventh Avenue|    New York|      NY|    35000|        0|  100000|         3|    null|      null|    null|    null|    null|   null| null|  null|      null|      null|      null|      null|    null|     null|     null|    null|     null|     N|      N|      null|\n",
            "|    2009|       1|   1264|      NP|Catsimatidis, John A|        H|     9|     ABC|  null|      null|R0000224| 7/10/2009|      null| Catsimatidis, John|   CAN| null|   null|     null|        M|    New York|   NY|10065|               CEO|     Red Apple Group|     823|    Eleventh Avenue|    New York|      NY|143891.61|        0|  135000|         3|    null|      null|    null|    null|    null|   null| null|  null|      null|      null|      null|      null|    null|     null|     null|    null|     null|     N|      N|      null|\n",
            "|    2009|       1|   1264|      NP|Catsimatidis, John A|        H|     6|       D|  null|      null|R0000105|  9/4/2008|      null| Catsimatidis, John|   CAN| null|   null|     null|        M|    New York|   NY|10065|               CEO|     Red Apple Group|     823|    Eleventh Avenue|    New York|      NY|   837.59|        0|       0|         0|    null|      null|    null|    null|    null|   null| null|  null|      null|      null|      null|      null|    null|     null|    OTHER|    null|     null|     N|   null|      null|\n",
            "|    2009|       1|   1264|      NP|Catsimatidis, John A|        H|     6|       D|  null|      null|R0000114|  1/9/2009|      null| Catsimatidis, John|   CAN| null|   null|     null|        M|    New York|   NY|10065|               CEO|     Red Apple Group|     823|    Eleventh Avenue|    New York|      NY|     6000|        0|       0|         0|    null|      null|    null|    null|    null|   null| null|  null|      null|      null|      null|      null|    null|     null|    OFFCE|    null|     null|     N|   null|      null|\n",
            "|    2009|       1|   1264|      NP|Catsimatidis, John A|        H|     7|       D|  null|      null|R0000151| 3/11/2009|      null| Catsimatidis, John|   CAN| null|   null|     null|        M|    New York|   NY|10065|               CEO|     Red Apple Group|     823|    Eleventh Avenue|    New York|      NY|     2000|        0|       0|         0|    null|      null|    null|    null|    null|   null| null|  null|      null|      null|      null|      null|    null|     null|    RENTO|    null|     null|     N|   null|      null|\n",
            "|    2009|       1|   1264|      NP|Catsimatidis, John A|        H|     8|       D|  null|      null|R0000181| 5/11/2009|      null| Catsimatidis, John|   CAN| null|   null|     null|        M|    New York|   NY|10065|               CEO|     Red Apple Group|     823|    Eleventh Avenue|    New York|      NY|     2000|        0|       0|         0|    null|      null|    null|    null|    null|   null| null|  null|      null|      null|      null|      null|    null|     null|    RENTO|    null|     null|     N|   null|      null|\n",
            "|    2009|       1|   1264|      NP|Catsimatidis, John A|        H|     9|       D|  null|      null|R0000206| 7/10/2009|      null| Catsimatidis, John|   CAN| null|   null|     null|        M|    New York|   NY|10065|               CEO|     Red Apple Group|     823|    Eleventh Avenue|    New York|      NY|     2000|        0|       0|         0|    null|      null|    null|    null|    null|   null| null|  null|      null|      null|      null|      null|    null|     null|    RENTO|    null|     null|     N|   null|      null|\n",
            "|    2009|       1|   1264|      NP|Catsimatidis, John A|        H|     6|       D|  null|      null|R0000104|  9/4/2008|      null|Catsimatidis, Margo|   FAM| null|   null|     null|        M|    New York|   NY|10065|         Executive|Gristedes Superma...|     823|        11th Avenue|    New York|      NY|     4950|        0|       0|         0|    null|      null|    null|    null|    null|   null| null|  null|      null|      null|      null|      null|    null|     null|    OTHER|    null|     null|     N|   null|      null|\n",
            "|    2009|       1|   1266|       P|Joiner-Eiland, Ty...|        H|     7|     ABC|  null|      null|R0000019|10/16/2008|      null|  Eiland, Tyrrell L|   CAN| null|   null|     null|        Z|Port Chester|   NY|10573|Executive Director|Tyrrell Eiland Fo...|     235|South Regent Street|Port Chester|      NY|        9|        0|       0|         1|    null|      null|    null|    null|    null|   null| null|  null|      null|      null|      null|      null|    null|     null|     null|    null|     null|     N|      N|      null|\n",
            "|    2009|       1|   1286|       P|Coenen, Jr., Kevin P|        H|     8|     ABC|  null|      null|R0000098| 4/27/2009|      null|    Coenen, Kevin P|   CAN| null|   null|     null|        Z|   Nesconset|   NY|11767|       Firefighter|     FDNY City of NY|       9|   MetroTech Center|    Brooklyn|      NY|      200|        0|       0|         1|    null|      null|    null|    null|    null|   null| null|  null|      null|      null|      null|      null|    null|     null|     null|    null|     null|     N|      N|      null|\n",
            "|    2009|       1|   1286|       P|Coenen, Jr., Kevin P|        H|     9|       D|  null|      null|R0000135|  6/4/2009|      null|    Coenen, Kevin P|   CAN| null|   null|     null|        Z|   Nesconset|   NY|11767|       Firefighter|     FDNY City of NY|       9|   MetroTech Center|    Brooklyn|      NY|     46.1|        0|       0|         0|    null|      null|    null|    null|    null|   null| null|  null|      null|      null|      null|      null|    null|     null|    OTHER|    null|     null|     N|   null|      null|\n",
            "|    2009|       1|   1286|       P|Coenen, Jr., Kevin P|        H|     8|       M|  null|      null|R0000099| 4/27/2009|  5/1/2009|    Coenen, Kevin P|   CAN| null|   null|     null|        Z|   Nesconset|   NY|11767|              null|                null|    null|               null|        null|    null|     -200|        0|       0|         0|    null|      null|    null|    null|    null|   null| null|  null|      null|      null|      null|      null|    null|     null|     null|    null|        2|     N|      N|      null|\n",
            "|    2009|       1|   1286|       P|Coenen, Jr., Kevin P|        H|    12|       N|  null|      null|R0000017|      null|      null|    Coenen, Kevin P|   CAN| null|   null|     null|     null|   Nesconset|   NY|11767|              null|                null|    null|               null|        null|    null|    575.7|        0|       0|         0|    null|      null|    null|    null|    null|   null| null|  null|      null|      null|      null|      null|    null|     null|     null|    null|     null|     N|      N|      null|\n",
            "|    2009|       1|   1317|       P|        Talen, Billy|        H|     7|     ABC|  null|      null|R0000019| 2/20/2009|      null|     Talen, William|   CAN| null|   null|     null|        K|    Brooklyn|   NY|11218|              null|                null|      65|    East 3rd Street|    Brooklyn|      NY|      500|      175|       0|         2|    null|      null|    null|    null|    null|   null| null|  null|      null|      null|      null|      null|    null|     null|     null|    null|     null|     N|      N|      null|\n",
            "|    2009|       1|   1317|       P|        Talen, Billy|        H|     7|     ABC|  null|      null|R0000027| 2/25/2009|      null|    Mattera, Gloria|   IND| null|   null|     null|        K|    Brooklyn|   NY|11215|  Program Director|Bellevue Hospital...|     462|       First Avenue|    New York|      NY|      175|      175|       0|         2|    null|      null|    null|    null|    null|   null| null|  null|      null|      null|      null|      null|    null|     null|     null|    null|     null|     N|      N|      null|\n",
            "|    2009|       1|   1317|       P|        Talen, Billy|        H|     7|     ABC|  null|      null|R0000029| 2/25/2009|      null|       Read, Mark W|   IND| null|   null|     null|        K|    Brooklyn|   NY|11238| Adjunct Professor| New York University|     715|           Broadway|    New York|      NY|      175|      175|       0|         2|    null|      null|    null|    null|    null|   null| null|  null|      null|      null|      null|      null|    null|     null|     null|    null|     null|     N|      N|      null|\n",
            "|    2009|       1|   1317|       P|        Talen, Billy|        H|     7|     ABC|  null|      null|R0000031|  3/2/2009|      null| Emperor, Michael D|   IND| null|   null|     null|        K|    Brooklyn|   NY|11209|    Office Manager|Bob Altavilla Int...|     411|       Fifth Avenue|    New York|      NY|      175|      175|       0|         4|    null|      null|    null|    null|    null|   null| null|  null|      null|      null|      null|      null|    null|     null|     null|    null|     null|     N|      N|      null|\n",
            "|    2009|       1|   1317|       P|        Talen, Billy|        H|     7|     ABC|  null|      null|R0000033|  3/2/2009|      null| DeFilippo, Michael|   IND| null|   null|     null|        Z|      Newark|   NJ| 7101|          Engineer|             CUNY-TV|     365|       Fifth Avenue|    New York|      NY|       20|        0|       0|         4|    null|      null|    null|    null|    null|   null| null|  null|      null|      null|      null|      null|    null|     null|     null|    null|     null|     N|      N|      null|\n",
            "|    2009|       1|   1317|       P|        Talen, Billy|        H|     7|     ABC|  null|      null|R0000035|  3/2/2009|      null|      Baker, Brandy|   IND| null|   null|     null|        Z|   Baltimore|   MD|21218|              none|             Student|     605|   East 37th Street|   Baltimore|      MD|      100|        0|       0|         4|    null|      null|    null|    null|    null|   null| null|  null|      null|      null|      null|      null|    null|     null|     null|    null|     null|     N|      N|      null|\n",
            "+--------+--------+-------+--------+--------------------+---------+------+--------+------+----------+--------+----------+----------+-------------------+------+-----+-------+---------+---------+------------+-----+-----+------------------+--------------------+--------+-------------------+------------+--------+---------+---------+--------+----------+--------+----------+--------+--------+--------+-------+-----+------+----------+----------+----------+----------+--------+---------+---------+--------+---------+------+-------+----------+\n",
            "only showing top 20 rows\n",
            "\n"
          ]
        }
      ]
    },
    {
      "cell_type": "code",
      "metadata": {
        "colab": {
          "base_uri": "https://localhost:8080/"
        },
        "id": "e2cRNc4wNFgt",
        "outputId": "bf16b55d-79df-4c29-9d76-8c2ea1df992c"
      },
      "source": [
        "# Remove multiple columns\n",
        "list = ['COMMITTEE', 'FILING', 'SCHEDULE', 'PAGENO', 'SEQUENCENO','REFNO', 'STRNO', 'STRNAME', 'APARTMENT', 'OCCUPATION', 'EMPNAME', 'EMPSTRNO', 'EMPSTRNAME',\n",
        "                'EMPCITY','INTERMNO', 'REFUNDDATE', 'INTERMNAME', 'INTSTRNO', 'INTSTRNM', 'INTSTRNM', 'INTAPTNO',\n",
        "                'INTCITY', 'INTST','INTZIP', 'INTEMPNAME', 'INTEMPSTNO', 'INTEMPSTNM', 'INTEMPCITY', 'INTEMPST', 'INTOCCUPA' ,'PURPOSECD', 'EXEMPTCD','ADJTYPECD', 'RR_IND', 'SEG_IND','INT_C_CODE'] \n",
        "df = df.drop(*list)\n",
        "df.show()"
      ],
      "execution_count": 7,
      "outputs": [
        {
          "output_type": "stream",
          "name": "stdout",
          "text": [
            "+--------+--------+-------+--------+--------------------+----------+-------------------+------+---------+------------+-----+-----+--------+---------+---------+--------+----------+\n",
            "|ELECTION|OFFICECD|RECIPID|CANCLASS|           RECIPNAME|      DATE|               NAME|C_CODE|BOROUGHCD|        CITY|STATE|  ZIP|EMPSTATE|     AMNT|MATCHAMNT|PREVAMNT|PAY_METHOD|\n",
            "+--------+--------+-------+--------+--------------------+----------+-------------------+------+---------+------------+-----+-----+--------+---------+---------+--------+----------+\n",
            "|    2009|       1|   1264|      NP|Catsimatidis, John A|  9/5/2008| Catsimatidis, John|   CAN|        M|    New York|   NY|10065|      NY|   100000|        0|       0|         3|\n",
            "|    2009|       1|   1264|      NP|Catsimatidis, John A|12/12/2008| Catsimatidis, John|   CAN|        M|    New York|   NY|10065|      NY|    35000|        0|  100000|         3|\n",
            "|    2009|       1|   1264|      NP|Catsimatidis, John A| 7/10/2009| Catsimatidis, John|   CAN|        M|    New York|   NY|10065|      NY|143891.61|        0|  135000|         3|\n",
            "|    2009|       1|   1264|      NP|Catsimatidis, John A|  9/4/2008| Catsimatidis, John|   CAN|        M|    New York|   NY|10065|      NY|   837.59|        0|       0|         0|\n",
            "|    2009|       1|   1264|      NP|Catsimatidis, John A|  1/9/2009| Catsimatidis, John|   CAN|        M|    New York|   NY|10065|      NY|     6000|        0|       0|         0|\n",
            "|    2009|       1|   1264|      NP|Catsimatidis, John A| 3/11/2009| Catsimatidis, John|   CAN|        M|    New York|   NY|10065|      NY|     2000|        0|       0|         0|\n",
            "|    2009|       1|   1264|      NP|Catsimatidis, John A| 5/11/2009| Catsimatidis, John|   CAN|        M|    New York|   NY|10065|      NY|     2000|        0|       0|         0|\n",
            "|    2009|       1|   1264|      NP|Catsimatidis, John A| 7/10/2009| Catsimatidis, John|   CAN|        M|    New York|   NY|10065|      NY|     2000|        0|       0|         0|\n",
            "|    2009|       1|   1264|      NP|Catsimatidis, John A|  9/4/2008|Catsimatidis, Margo|   FAM|        M|    New York|   NY|10065|      NY|     4950|        0|       0|         0|\n",
            "|    2009|       1|   1266|       P|Joiner-Eiland, Ty...|10/16/2008|  Eiland, Tyrrell L|   CAN|        Z|Port Chester|   NY|10573|      NY|        9|        0|       0|         1|\n",
            "|    2009|       1|   1286|       P|Coenen, Jr., Kevin P| 4/27/2009|    Coenen, Kevin P|   CAN|        Z|   Nesconset|   NY|11767|      NY|      200|        0|       0|         1|\n",
            "|    2009|       1|   1286|       P|Coenen, Jr., Kevin P|  6/4/2009|    Coenen, Kevin P|   CAN|        Z|   Nesconset|   NY|11767|      NY|     46.1|        0|       0|         0|\n",
            "|    2009|       1|   1286|       P|Coenen, Jr., Kevin P| 4/27/2009|    Coenen, Kevin P|   CAN|        Z|   Nesconset|   NY|11767|    null|     -200|        0|       0|         0|\n",
            "|    2009|       1|   1286|       P|Coenen, Jr., Kevin P|      null|    Coenen, Kevin P|   CAN|     null|   Nesconset|   NY|11767|    null|    575.7|        0|       0|         0|\n",
            "|    2009|       1|   1317|       P|        Talen, Billy| 2/20/2009|     Talen, William|   CAN|        K|    Brooklyn|   NY|11218|      NY|      500|      175|       0|         2|\n",
            "|    2009|       1|   1317|       P|        Talen, Billy| 2/25/2009|    Mattera, Gloria|   IND|        K|    Brooklyn|   NY|11215|      NY|      175|      175|       0|         2|\n",
            "|    2009|       1|   1317|       P|        Talen, Billy| 2/25/2009|       Read, Mark W|   IND|        K|    Brooklyn|   NY|11238|      NY|      175|      175|       0|         2|\n",
            "|    2009|       1|   1317|       P|        Talen, Billy|  3/2/2009| Emperor, Michael D|   IND|        K|    Brooklyn|   NY|11209|      NY|      175|      175|       0|         4|\n",
            "|    2009|       1|   1317|       P|        Talen, Billy|  3/2/2009| DeFilippo, Michael|   IND|        Z|      Newark|   NJ| 7101|      NY|       20|        0|       0|         4|\n",
            "|    2009|       1|   1317|       P|        Talen, Billy|  3/2/2009|      Baker, Brandy|   IND|        Z|   Baltimore|   MD|21218|      MD|      100|        0|       0|         4|\n",
            "+--------+--------+-------+--------+--------------------+----------+-------------------+------+---------+------------+-----+-----+--------+---------+---------+--------+----------+\n",
            "only showing top 20 rows\n",
            "\n"
          ]
        }
      ]
    },
    {
      "cell_type": "code",
      "metadata": {
        "colab": {
          "base_uri": "https://localhost:8080/"
        },
        "id": "g5aiRN5RNFjB",
        "outputId": "92d9cd40-010d-4fb8-bc98-d6f0cb89d585"
      },
      "source": [
        "# check data types\n",
        "df.dtypes"
      ],
      "execution_count": 8,
      "outputs": [
        {
          "output_type": "execute_result",
          "data": {
            "text/plain": [
              "[('ELECTION', 'string'),\n",
              " ('OFFICECD', 'string'),\n",
              " ('RECIPID', 'string'),\n",
              " ('CANCLASS', 'string'),\n",
              " ('RECIPNAME', 'string'),\n",
              " ('DATE', 'string'),\n",
              " ('NAME', 'string'),\n",
              " ('C_CODE', 'string'),\n",
              " ('BOROUGHCD', 'string'),\n",
              " ('CITY', 'string'),\n",
              " ('STATE', 'string'),\n",
              " ('ZIP', 'string'),\n",
              " ('EMPSTATE', 'string'),\n",
              " ('AMNT', 'string'),\n",
              " ('MATCHAMNT', 'string'),\n",
              " ('PREVAMNT', 'string'),\n",
              " ('PAY_METHOD', 'string')]"
            ]
          },
          "metadata": {},
          "execution_count": 8
        }
      ]
    },
    {
      "cell_type": "code",
      "metadata": {
        "colab": {
          "base_uri": "https://localhost:8080/"
        },
        "id": "tIkq3wdqOzWV",
        "outputId": "5fd5ee27-3bd3-4bc4-adad-0f49c52915c6"
      },
      "source": [
        "#Change column names\n",
        "df1 = df \\\n",
        ".withColumnRenamed(\"ELECTION\", \"Election\") \\\n",
        ".withColumnRenamed(\"RECIPID\", \"CandidateID\") \\\n",
        ".withColumnRenamed(\"RECIPNAME\", \"CandidateName\") \\\n",
        ".withColumnRenamed(\"DATE\", \"Date\") \\\n",
        ".withColumnRenamed(\"NAME\", \"Name\") \\\n",
        ".withColumnRenamed(\"C_CODE\", \"ContributorType\") \\\n",
        ".withColumnRenamed(\"BOROUGHCD\", \"BoroughName\") \\\n",
        ".withColumnRenamed(\"CITY\", \"City\") \\\n",
        ".withColumnRenamed(\"STATE\", \"State\") \\\n",
        ".withColumnRenamed(\"ZIP\", \"ZipCode\") \\\n",
        ".withColumnRenamed(\"EMPSTATE\", \"ContributionState\") \\\n",
        ".withColumnRenamed(\"AMNT\", \"Amount\") \\\n",
        ".withColumnRenamed(\"MATCHAMNT\", \"MatchAmt\") \\\n",
        ".withColumnRenamed(\"PREVAMNT\", \"PrevAmt\") \\\n",
        ".withColumnRenamed(\"PAY_METHOD\", \"PayMethod\")\n",
        "\n",
        "\n",
        "df1.printSchema()"
      ],
      "execution_count": 9,
      "outputs": [
        {
          "output_type": "stream",
          "name": "stdout",
          "text": [
            "root\n",
            " |-- Election: string (nullable = true)\n",
            " |-- OFFICECD: string (nullable = true)\n",
            " |-- CandidateID: string (nullable = true)\n",
            " |-- CANCLASS: string (nullable = true)\n",
            " |-- CandidateName: string (nullable = true)\n",
            " |-- Date: string (nullable = true)\n",
            " |-- Name: string (nullable = true)\n",
            " |-- ContributorType: string (nullable = true)\n",
            " |-- BoroughName: string (nullable = true)\n",
            " |-- City: string (nullable = true)\n",
            " |-- State: string (nullable = true)\n",
            " |-- ZipCode: string (nullable = true)\n",
            " |-- ContributionState: string (nullable = true)\n",
            " |-- Amount: string (nullable = true)\n",
            " |-- MatchAmt: string (nullable = true)\n",
            " |-- PrevAmt: string (nullable = true)\n",
            " |-- PayMethod: string (nullable = true)\n",
            "\n"
          ]
        }
      ]
    },
    {
      "cell_type": "code",
      "metadata": {
        "id": "5p5HwOCEjlsd"
      },
      "source": [
        "from datetime import datetime\n",
        "from pyspark.sql.functions import col, udf\n",
        "from pyspark.sql.types import DateType"
      ],
      "execution_count": 38,
      "outputs": []
    },
    {
      "cell_type": "code",
      "metadata": {
        "id": "4N80PjUtNdei"
      },
      "source": [
        "# using lambda function to convert date col to datetype\n",
        "# changing datatypes of columns\n",
        "func =  udf (lambda x: datetime.strptime(x, '%m/%d/%Y'), DateType())"
      ],
      "execution_count": 39,
      "outputs": []
    },
    {
      "cell_type": "code",
      "metadata": {
        "colab": {
          "base_uri": "https://localhost:8080/"
        },
        "id": "dbyFIRMwjlzM",
        "outputId": "62a97e68-391d-4daf-959a-8909f0f00fd3"
      },
      "source": [
        "#df2 = df1.withColumn(\"Election\", df1[\"Election\"].cast(\"Integer\")) \\\n",
        "  #.withColumn(\"ZipCode\", df1[\"ZipCode\"].cast(\"Integer\")) \\\n",
        "  #.withColumn(\"Amount\", df1[\"Amount\"].cast(\"Float\")) \\\n",
        "  #.withColumn(\"MatchAmt\", df1[\"MatchAmt\"].cast(\"Float\")) \\\n",
        "  #.withColumn(\"PrevAmt\", df1[\"PrevAmt\"].cast(\"Float\")) \\\n",
        "  #.withColumn('Date', func(col('Date')))\n",
        "\n",
        "#df2.printSchema()\n",
        "\n",
        "\n",
        "#Keep Candidate ID as string\n",
        "  #.withColumn(\"CandidateID\", df1[\"CandidateID\"].cast(\"Integer\")) \\"
      ],
      "execution_count": 44,
      "outputs": [
        {
          "output_type": "stream",
          "name": "stdout",
          "text": [
            "root\n",
            " |-- Election: integer (nullable = true)\n",
            " |-- OFFICECD: string (nullable = true)\n",
            " |-- CandidateID: string (nullable = true)\n",
            " |-- CANCLASS: string (nullable = true)\n",
            " |-- CandidateName: string (nullable = true)\n",
            " |-- Date: date (nullable = true)\n",
            " |-- Name: string (nullable = true)\n",
            " |-- ContributorType: string (nullable = true)\n",
            " |-- BoroughName: string (nullable = true)\n",
            " |-- City: string (nullable = true)\n",
            " |-- State: string (nullable = true)\n",
            " |-- ZipCode: integer (nullable = true)\n",
            " |-- ContributionState: string (nullable = true)\n",
            " |-- Amount: float (nullable = true)\n",
            " |-- MatchAmt: float (nullable = true)\n",
            " |-- PrevAmt: float (nullable = true)\n",
            " |-- PayMethod: string (nullable = true)\n",
            "\n"
          ]
        }
      ]
    },
    {
      "cell_type": "code",
      "metadata": {
        "colab": {
          "base_uri": "https://localhost:8080/"
        },
        "id": "E9HT0HFtNC-P",
        "outputId": "2e9a9d36-9e99-4014-b879-adf52b597384"
      },
      "source": [
        "df1.show()"
      ],
      "execution_count": 45,
      "outputs": [
        {
          "output_type": "stream",
          "name": "stdout",
          "text": [
            "+--------+--------+-----------+--------+--------------------+----------+-------------------+---------------+-----------+------------+-----+-------+-----------------+---------+--------+-------+---------+\n",
            "|Election|OFFICECD|CandidateID|CANCLASS|       CandidateName|      Date|               Name|ContributorType|BoroughName|        City|State|ZipCode|ContributionState|   Amount|MatchAmt|PrevAmt|PayMethod|\n",
            "+--------+--------+-----------+--------+--------------------+----------+-------------------+---------------+-----------+------------+-----+-------+-----------------+---------+--------+-------+---------+\n",
            "|    2009|       1|       1264|      NP|Catsimatidis, John A|  9/5/2008| Catsimatidis, John|            CAN|          M|    New York|   NY|  10065|               NY|   100000|       0|      0|        3|\n",
            "|    2009|       1|       1264|      NP|Catsimatidis, John A|12/12/2008| Catsimatidis, John|            CAN|          M|    New York|   NY|  10065|               NY|    35000|       0| 100000|        3|\n",
            "|    2009|       1|       1264|      NP|Catsimatidis, John A| 7/10/2009| Catsimatidis, John|            CAN|          M|    New York|   NY|  10065|               NY|143891.61|       0| 135000|        3|\n",
            "|    2009|       1|       1264|      NP|Catsimatidis, John A|  9/4/2008| Catsimatidis, John|            CAN|          M|    New York|   NY|  10065|               NY|   837.59|       0|      0|        0|\n",
            "|    2009|       1|       1264|      NP|Catsimatidis, John A|  1/9/2009| Catsimatidis, John|            CAN|          M|    New York|   NY|  10065|               NY|     6000|       0|      0|        0|\n",
            "|    2009|       1|       1264|      NP|Catsimatidis, John A| 3/11/2009| Catsimatidis, John|            CAN|          M|    New York|   NY|  10065|               NY|     2000|       0|      0|        0|\n",
            "|    2009|       1|       1264|      NP|Catsimatidis, John A| 5/11/2009| Catsimatidis, John|            CAN|          M|    New York|   NY|  10065|               NY|     2000|       0|      0|        0|\n",
            "|    2009|       1|       1264|      NP|Catsimatidis, John A| 7/10/2009| Catsimatidis, John|            CAN|          M|    New York|   NY|  10065|               NY|     2000|       0|      0|        0|\n",
            "|    2009|       1|       1264|      NP|Catsimatidis, John A|  9/4/2008|Catsimatidis, Margo|            FAM|          M|    New York|   NY|  10065|               NY|     4950|       0|      0|        0|\n",
            "|    2009|       1|       1266|       P|Joiner-Eiland, Ty...|10/16/2008|  Eiland, Tyrrell L|            CAN|          Z|Port Chester|   NY|  10573|               NY|        9|       0|      0|        1|\n",
            "|    2009|       1|       1286|       P|Coenen, Jr., Kevin P| 4/27/2009|    Coenen, Kevin P|            CAN|          Z|   Nesconset|   NY|  11767|               NY|      200|       0|      0|        1|\n",
            "|    2009|       1|       1286|       P|Coenen, Jr., Kevin P|  6/4/2009|    Coenen, Kevin P|            CAN|          Z|   Nesconset|   NY|  11767|               NY|     46.1|       0|      0|        0|\n",
            "|    2009|       1|       1286|       P|Coenen, Jr., Kevin P| 4/27/2009|    Coenen, Kevin P|            CAN|          Z|   Nesconset|   NY|  11767|             null|     -200|       0|      0|        0|\n",
            "|    2009|       1|       1286|       P|Coenen, Jr., Kevin P|      null|    Coenen, Kevin P|            CAN|       null|   Nesconset|   NY|  11767|             null|    575.7|       0|      0|        0|\n",
            "|    2009|       1|       1317|       P|        Talen, Billy| 2/20/2009|     Talen, William|            CAN|          K|    Brooklyn|   NY|  11218|               NY|      500|     175|      0|        2|\n",
            "|    2009|       1|       1317|       P|        Talen, Billy| 2/25/2009|    Mattera, Gloria|            IND|          K|    Brooklyn|   NY|  11215|               NY|      175|     175|      0|        2|\n",
            "|    2009|       1|       1317|       P|        Talen, Billy| 2/25/2009|       Read, Mark W|            IND|          K|    Brooklyn|   NY|  11238|               NY|      175|     175|      0|        2|\n",
            "|    2009|       1|       1317|       P|        Talen, Billy|  3/2/2009| Emperor, Michael D|            IND|          K|    Brooklyn|   NY|  11209|               NY|      175|     175|      0|        4|\n",
            "|    2009|       1|       1317|       P|        Talen, Billy|  3/2/2009| DeFilippo, Michael|            IND|          Z|      Newark|   NJ|   7101|               NY|       20|       0|      0|        4|\n",
            "|    2009|       1|       1317|       P|        Talen, Billy|  3/2/2009|      Baker, Brandy|            IND|          Z|   Baltimore|   MD|  21218|               MD|      100|       0|      0|        4|\n",
            "+--------+--------+-----------+--------+--------------------+----------+-------------------+---------------+-----------+------------+-----+-------+-----------------+---------+--------+-------+---------+\n",
            "only showing top 20 rows\n",
            "\n"
          ]
        }
      ]
    },
    {
      "cell_type": "code",
      "metadata": {
        "id": "h1aCPuV3WPwC"
      },
      "source": [
        "#Change vaule name in ContributerType\n",
        "from pyspark.sql.functions import regexp_replace\n",
        "df3 = df1.withColumn('ContributorType', regexp_replace('ContributorType', 'CAN', 'Candidate')) \\\n",
        "  .withColumn('ContributorType', regexp_replace('ContributorType', 'CORP', 'Corporation')) \\\n",
        "  .withColumn('ContributorType', regexp_replace('ContributorType', 'EMPO', 'Labor Union')) \\\n",
        "  .withColumn('ContributorType', regexp_replace('ContributorType', 'FAM', 'Candidate Family')) \\\n",
        "  .withColumn('ContributorType', regexp_replace('ContributorType', 'IND', 'Individual')) \\\n",
        "  .withColumn('ContributorType', regexp_replace('ContributorType', 'PCOMZ', 'Party Committee')) \\\n",
        "  .withColumn('ContributorType', regexp_replace('ContributorType', 'ORG', 'Orgainization')) \\\n",
        "  .withColumn('ContributorType', regexp_replace('ContributorType', 'LLC', 'Limited Liability Company')) \\\n",
        "  .withColumn('ContributorType', regexp_replace('ContributorType', 'PCOMP', 'Political Action Committee')) \\\n",
        "  .withColumn('ContributorType', regexp_replace('ContributorType', 'SPO', 'Spouse')) \\\n",
        "  .withColumn('ContributorType', regexp_replace('ContributorType', 'OTHR', 'Other')) \\\n",
        "  .withColumn('ContributorType', regexp_replace('ContributorType', 'PCOMC', 'Candidate Committee')) \\\n",
        "  .withColumn('ContributorType', regexp_replace('ContributorType', 'PART', 'Individual')) \\\n"
      ],
      "execution_count": 46,
      "outputs": []
    },
    {
      "cell_type": "code",
      "metadata": {
        "id": "EDLKVpihXzJY"
      },
      "source": [
        "#Change Payment Method Name\n",
        "df4=df3.withColumn('PayMethod', regexp_replace('PayMethod','0','Unknown')) \\\n",
        "  .withColumn('PayMethod', regexp_replace('PayMethod','1','Cash')) \\\n",
        "  .withColumn('PayMethod', regexp_replace('PayMethod','2','Check')) \\\n",
        "  .withColumn('PayMethod', regexp_replace('PayMethod','3','Other')) \\\n",
        "  .withColumn('PayMethod', regexp_replace('PayMethod','4','Credit Card')) \\\n",
        "  .withColumn('PayMethod', regexp_replace('PayMethod','5','Money Order')) \\"
      ],
      "execution_count": 47,
      "outputs": []
    },
    {
      "cell_type": "code",
      "metadata": {
        "id": "fy4JAvyQWRl7"
      },
      "source": [
        "#Change Borough name\n",
        "from pyspark.sql.functions import regexp_replace\n",
        "df5 = df4.withColumn('BoroughName', regexp_replace('BoroughName', 'K', 'Brooklyn')) \\\n",
        "  .withColumn('BoroughName', regexp_replace('BoroughName', 'M', 'Manhattan')) \\\n",
        "  .withColumn('BoroughName', regexp_replace('BoroughName', 'Q', 'Queens')) \\\n",
        "  .withColumn('BoroughName', regexp_replace('BoroughName', 'S', 'Staten Island')) \\\n",
        "  .withColumn('BoroughName', regexp_replace('BoroughName', 'X', 'Bronx')) \\\n",
        "  .withColumn('BoroughName', regexp_replace('BoroughName', 'Z', 'Other')) \\\n"
      ],
      "execution_count": 48,
      "outputs": []
    },
    {
      "cell_type": "code",
      "metadata": {
        "colab": {
          "base_uri": "https://localhost:8080/"
        },
        "id": "qyLQZKxLzFJb",
        "outputId": "0c8e8dc7-7dc1-484f-8cab-f865bf52a0ce"
      },
      "source": [
        "df5.show()"
      ],
      "execution_count": 49,
      "outputs": [
        {
          "output_type": "stream",
          "name": "stdout",
          "text": [
            "+--------+--------+-----------+--------+--------------------+----------+-------------------+----------------+-----------+------------+-----+-------+-----------------+---------+--------+-------+-----------+\n",
            "|Election|OFFICECD|CandidateID|CANCLASS|       CandidateName|      Date|               Name| ContributorType|BoroughName|        City|State|ZipCode|ContributionState|   Amount|MatchAmt|PrevAmt|  PayMethod|\n",
            "+--------+--------+-----------+--------+--------------------+----------+-------------------+----------------+-----------+------------+-----+-------+-----------------+---------+--------+-------+-----------+\n",
            "|    2009|       1|       1264|      NP|Catsimatidis, John A|  9/5/2008| Catsimatidis, John|       Candidate|  Manhattan|    New York|   NY|  10065|               NY|   100000|       0|      0|      Other|\n",
            "|    2009|       1|       1264|      NP|Catsimatidis, John A|12/12/2008| Catsimatidis, John|       Candidate|  Manhattan|    New York|   NY|  10065|               NY|    35000|       0| 100000|      Other|\n",
            "|    2009|       1|       1264|      NP|Catsimatidis, John A| 7/10/2009| Catsimatidis, John|       Candidate|  Manhattan|    New York|   NY|  10065|               NY|143891.61|       0| 135000|      Other|\n",
            "|    2009|       1|       1264|      NP|Catsimatidis, John A|  9/4/2008| Catsimatidis, John|       Candidate|  Manhattan|    New York|   NY|  10065|               NY|   837.59|       0|      0|    Unknown|\n",
            "|    2009|       1|       1264|      NP|Catsimatidis, John A|  1/9/2009| Catsimatidis, John|       Candidate|  Manhattan|    New York|   NY|  10065|               NY|     6000|       0|      0|    Unknown|\n",
            "|    2009|       1|       1264|      NP|Catsimatidis, John A| 3/11/2009| Catsimatidis, John|       Candidate|  Manhattan|    New York|   NY|  10065|               NY|     2000|       0|      0|    Unknown|\n",
            "|    2009|       1|       1264|      NP|Catsimatidis, John A| 5/11/2009| Catsimatidis, John|       Candidate|  Manhattan|    New York|   NY|  10065|               NY|     2000|       0|      0|    Unknown|\n",
            "|    2009|       1|       1264|      NP|Catsimatidis, John A| 7/10/2009| Catsimatidis, John|       Candidate|  Manhattan|    New York|   NY|  10065|               NY|     2000|       0|      0|    Unknown|\n",
            "|    2009|       1|       1264|      NP|Catsimatidis, John A|  9/4/2008|Catsimatidis, Margo|Candidate Family|  Manhattan|    New York|   NY|  10065|               NY|     4950|       0|      0|    Unknown|\n",
            "|    2009|       1|       1266|       P|Joiner-Eiland, Ty...|10/16/2008|  Eiland, Tyrrell L|       Candidate|      Other|Port Chester|   NY|  10573|               NY|        9|       0|      0|       Cash|\n",
            "|    2009|       1|       1286|       P|Coenen, Jr., Kevin P| 4/27/2009|    Coenen, Kevin P|       Candidate|      Other|   Nesconset|   NY|  11767|               NY|      200|       0|      0|       Cash|\n",
            "|    2009|       1|       1286|       P|Coenen, Jr., Kevin P|  6/4/2009|    Coenen, Kevin P|       Candidate|      Other|   Nesconset|   NY|  11767|               NY|     46.1|       0|      0|    Unknown|\n",
            "|    2009|       1|       1286|       P|Coenen, Jr., Kevin P| 4/27/2009|    Coenen, Kevin P|       Candidate|      Other|   Nesconset|   NY|  11767|             null|     -200|       0|      0|    Unknown|\n",
            "|    2009|       1|       1286|       P|Coenen, Jr., Kevin P|      null|    Coenen, Kevin P|       Candidate|       null|   Nesconset|   NY|  11767|             null|    575.7|       0|      0|    Unknown|\n",
            "|    2009|       1|       1317|       P|        Talen, Billy| 2/20/2009|     Talen, William|       Candidate|   Brooklyn|    Brooklyn|   NY|  11218|               NY|      500|     175|      0|      Check|\n",
            "|    2009|       1|       1317|       P|        Talen, Billy| 2/25/2009|    Mattera, Gloria|      Individual|   Brooklyn|    Brooklyn|   NY|  11215|               NY|      175|     175|      0|      Check|\n",
            "|    2009|       1|       1317|       P|        Talen, Billy| 2/25/2009|       Read, Mark W|      Individual|   Brooklyn|    Brooklyn|   NY|  11238|               NY|      175|     175|      0|      Check|\n",
            "|    2009|       1|       1317|       P|        Talen, Billy|  3/2/2009| Emperor, Michael D|      Individual|   Brooklyn|    Brooklyn|   NY|  11209|               NY|      175|     175|      0|Credit Card|\n",
            "|    2009|       1|       1317|       P|        Talen, Billy|  3/2/2009| DeFilippo, Michael|      Individual|      Other|      Newark|   NJ|   7101|               NY|       20|       0|      0|Credit Card|\n",
            "|    2009|       1|       1317|       P|        Talen, Billy|  3/2/2009|      Baker, Brandy|      Individual|      Other|   Baltimore|   MD|  21218|               MD|      100|       0|      0|Credit Card|\n",
            "+--------+--------+-----------+--------+--------------------+----------+-------------------+----------------+-----------+------------+-----+-------+-----------------+---------+--------+-------+-----------+\n",
            "only showing top 20 rows\n",
            "\n"
          ]
        }
      ]
    },
    {
      "cell_type": "code",
      "metadata": {
        "id": "fM_kC3ViNFqN"
      },
      "source": [
        "#Call only Mayor (1) and particaptes (P) within Dataframe\n",
        "#df6 = df5.filter(df5.OFFICECD==\"1\").show()"
      ],
      "execution_count": null,
      "outputs": []
    },
    {
      "cell_type": "code",
      "metadata": {
        "id": "WmdLbDEzQAyc",
        "colab": {
          "base_uri": "https://localhost:8080/"
        },
        "outputId": "bb2e151a-3aab-4afd-eb2a-6f1b16a5ed3f"
      },
      "source": [
        "#Check the above dataframe to make sure only unique values between the OFFICECD is 1 \n",
        "df5.select('OFFICECD').distinct().show()"
      ],
      "execution_count": 50,
      "outputs": [
        {
          "output_type": "stream",
          "name": "stdout",
          "text": [
            "+--------+\n",
            "|OFFICECD|\n",
            "+--------+\n",
            "|       1|\n",
            "+--------+\n",
            "\n"
          ]
        }
      ]
    },
    {
      "cell_type": "code",
      "metadata": {
        "id": "4kbDs5ApZtEu",
        "colab": {
          "base_uri": "https://localhost:8080/"
        },
        "outputId": "705dd303-2945-4347-d783-ea0c0ae70888"
      },
      "source": [
        "#Drop OFFICECD and CANCLASS\n",
        "list2 = ['OFFICECD', 'CANCLASS'] \n",
        "df6 = df5.drop(*list2)\n",
        "df6.show()"
      ],
      "execution_count": 51,
      "outputs": [
        {
          "output_type": "stream",
          "name": "stdout",
          "text": [
            "+--------+-----------+--------------------+----------+-------------------+----------------+-----------+------------+-----+-------+-----------------+---------+--------+-------+-----------+\n",
            "|Election|CandidateID|       CandidateName|      Date|               Name| ContributorType|BoroughName|        City|State|ZipCode|ContributionState|   Amount|MatchAmt|PrevAmt|  PayMethod|\n",
            "+--------+-----------+--------------------+----------+-------------------+----------------+-----------+------------+-----+-------+-----------------+---------+--------+-------+-----------+\n",
            "|    2009|       1264|Catsimatidis, John A|  9/5/2008| Catsimatidis, John|       Candidate|  Manhattan|    New York|   NY|  10065|               NY|   100000|       0|      0|      Other|\n",
            "|    2009|       1264|Catsimatidis, John A|12/12/2008| Catsimatidis, John|       Candidate|  Manhattan|    New York|   NY|  10065|               NY|    35000|       0| 100000|      Other|\n",
            "|    2009|       1264|Catsimatidis, John A| 7/10/2009| Catsimatidis, John|       Candidate|  Manhattan|    New York|   NY|  10065|               NY|143891.61|       0| 135000|      Other|\n",
            "|    2009|       1264|Catsimatidis, John A|  9/4/2008| Catsimatidis, John|       Candidate|  Manhattan|    New York|   NY|  10065|               NY|   837.59|       0|      0|    Unknown|\n",
            "|    2009|       1264|Catsimatidis, John A|  1/9/2009| Catsimatidis, John|       Candidate|  Manhattan|    New York|   NY|  10065|               NY|     6000|       0|      0|    Unknown|\n",
            "|    2009|       1264|Catsimatidis, John A| 3/11/2009| Catsimatidis, John|       Candidate|  Manhattan|    New York|   NY|  10065|               NY|     2000|       0|      0|    Unknown|\n",
            "|    2009|       1264|Catsimatidis, John A| 5/11/2009| Catsimatidis, John|       Candidate|  Manhattan|    New York|   NY|  10065|               NY|     2000|       0|      0|    Unknown|\n",
            "|    2009|       1264|Catsimatidis, John A| 7/10/2009| Catsimatidis, John|       Candidate|  Manhattan|    New York|   NY|  10065|               NY|     2000|       0|      0|    Unknown|\n",
            "|    2009|       1264|Catsimatidis, John A|  9/4/2008|Catsimatidis, Margo|Candidate Family|  Manhattan|    New York|   NY|  10065|               NY|     4950|       0|      0|    Unknown|\n",
            "|    2009|       1266|Joiner-Eiland, Ty...|10/16/2008|  Eiland, Tyrrell L|       Candidate|      Other|Port Chester|   NY|  10573|               NY|        9|       0|      0|       Cash|\n",
            "|    2009|       1286|Coenen, Jr., Kevin P| 4/27/2009|    Coenen, Kevin P|       Candidate|      Other|   Nesconset|   NY|  11767|               NY|      200|       0|      0|       Cash|\n",
            "|    2009|       1286|Coenen, Jr., Kevin P|  6/4/2009|    Coenen, Kevin P|       Candidate|      Other|   Nesconset|   NY|  11767|               NY|     46.1|       0|      0|    Unknown|\n",
            "|    2009|       1286|Coenen, Jr., Kevin P| 4/27/2009|    Coenen, Kevin P|       Candidate|      Other|   Nesconset|   NY|  11767|             null|     -200|       0|      0|    Unknown|\n",
            "|    2009|       1286|Coenen, Jr., Kevin P|      null|    Coenen, Kevin P|       Candidate|       null|   Nesconset|   NY|  11767|             null|    575.7|       0|      0|    Unknown|\n",
            "|    2009|       1317|        Talen, Billy| 2/20/2009|     Talen, William|       Candidate|   Brooklyn|    Brooklyn|   NY|  11218|               NY|      500|     175|      0|      Check|\n",
            "|    2009|       1317|        Talen, Billy| 2/25/2009|    Mattera, Gloria|      Individual|   Brooklyn|    Brooklyn|   NY|  11215|               NY|      175|     175|      0|      Check|\n",
            "|    2009|       1317|        Talen, Billy| 2/25/2009|       Read, Mark W|      Individual|   Brooklyn|    Brooklyn|   NY|  11238|               NY|      175|     175|      0|      Check|\n",
            "|    2009|       1317|        Talen, Billy|  3/2/2009| Emperor, Michael D|      Individual|   Brooklyn|    Brooklyn|   NY|  11209|               NY|      175|     175|      0|Credit Card|\n",
            "|    2009|       1317|        Talen, Billy|  3/2/2009| DeFilippo, Michael|      Individual|      Other|      Newark|   NJ|   7101|               NY|       20|       0|      0|Credit Card|\n",
            "|    2009|       1317|        Talen, Billy|  3/2/2009|      Baker, Brandy|      Individual|      Other|   Baltimore|   MD|  21218|               MD|      100|       0|      0|Credit Card|\n",
            "+--------+-----------+--------------------+----------+-------------------+----------------+-----------+------------+-----+-------+-----------------+---------+--------+-------+-----------+\n",
            "only showing top 20 rows\n",
            "\n"
          ]
        }
      ]
    },
    {
      "cell_type": "code",
      "metadata": {
        "id": "j4uude7r_d_-"
      },
      "source": [
        "#Filter Dataframe removing the null CandidateID values\n",
        "df7 = df6.filter(df6.CandidateID.isNotNull())"
      ],
      "execution_count": 52,
      "outputs": []
    },
    {
      "cell_type": "code",
      "metadata": {
        "id": "jKdRMcW-9mtO",
        "colab": {
          "base_uri": "https://localhost:8080/"
        },
        "outputId": "56733578-9806-4128-bc06-ade65f8de696"
      },
      "source": [
        "# ADD AMNT and MATCHAMNT PrevAmnt\n",
        "from pyspark.sql.functions import col\n",
        "clean_indiv_2009_df = df7.withColumn(\"TotalAmount\", col(\"Amount\")+col(\"MatchAmt\")+col('PrevAmt'))\n",
        "clean_indiv_2009_df.show()"
      ],
      "execution_count": 54,
      "outputs": [
        {
          "output_type": "stream",
          "name": "stdout",
          "text": [
            "+--------+-----------+--------------------+----------+-------------------+----------------+-----------+------------+-----+-------+-----------------+---------+--------+-------+-----------+-----------+\n",
            "|Election|CandidateID|       CandidateName|      Date|               Name| ContributorType|BoroughName|        City|State|ZipCode|ContributionState|   Amount|MatchAmt|PrevAmt|  PayMethod|TotalAmount|\n",
            "+--------+-----------+--------------------+----------+-------------------+----------------+-----------+------------+-----+-------+-----------------+---------+--------+-------+-----------+-----------+\n",
            "|    2009|       1264|Catsimatidis, John A|  9/5/2008| Catsimatidis, John|       Candidate|  Manhattan|    New York|   NY|  10065|               NY|   100000|       0|      0|      Other|   100000.0|\n",
            "|    2009|       1264|Catsimatidis, John A|12/12/2008| Catsimatidis, John|       Candidate|  Manhattan|    New York|   NY|  10065|               NY|    35000|       0| 100000|      Other|   135000.0|\n",
            "|    2009|       1264|Catsimatidis, John A| 7/10/2009| Catsimatidis, John|       Candidate|  Manhattan|    New York|   NY|  10065|               NY|143891.61|       0| 135000|      Other|  278891.61|\n",
            "|    2009|       1264|Catsimatidis, John A|  9/4/2008| Catsimatidis, John|       Candidate|  Manhattan|    New York|   NY|  10065|               NY|   837.59|       0|      0|    Unknown|     837.59|\n",
            "|    2009|       1264|Catsimatidis, John A|  1/9/2009| Catsimatidis, John|       Candidate|  Manhattan|    New York|   NY|  10065|               NY|     6000|       0|      0|    Unknown|     6000.0|\n",
            "|    2009|       1264|Catsimatidis, John A| 3/11/2009| Catsimatidis, John|       Candidate|  Manhattan|    New York|   NY|  10065|               NY|     2000|       0|      0|    Unknown|     2000.0|\n",
            "|    2009|       1264|Catsimatidis, John A| 5/11/2009| Catsimatidis, John|       Candidate|  Manhattan|    New York|   NY|  10065|               NY|     2000|       0|      0|    Unknown|     2000.0|\n",
            "|    2009|       1264|Catsimatidis, John A| 7/10/2009| Catsimatidis, John|       Candidate|  Manhattan|    New York|   NY|  10065|               NY|     2000|       0|      0|    Unknown|     2000.0|\n",
            "|    2009|       1264|Catsimatidis, John A|  9/4/2008|Catsimatidis, Margo|Candidate Family|  Manhattan|    New York|   NY|  10065|               NY|     4950|       0|      0|    Unknown|     4950.0|\n",
            "|    2009|       1266|Joiner-Eiland, Ty...|10/16/2008|  Eiland, Tyrrell L|       Candidate|      Other|Port Chester|   NY|  10573|               NY|        9|       0|      0|       Cash|        9.0|\n",
            "|    2009|       1286|Coenen, Jr., Kevin P| 4/27/2009|    Coenen, Kevin P|       Candidate|      Other|   Nesconset|   NY|  11767|               NY|      200|       0|      0|       Cash|      200.0|\n",
            "|    2009|       1286|Coenen, Jr., Kevin P|  6/4/2009|    Coenen, Kevin P|       Candidate|      Other|   Nesconset|   NY|  11767|               NY|     46.1|       0|      0|    Unknown|       46.1|\n",
            "|    2009|       1286|Coenen, Jr., Kevin P| 4/27/2009|    Coenen, Kevin P|       Candidate|      Other|   Nesconset|   NY|  11767|             null|     -200|       0|      0|    Unknown|     -200.0|\n",
            "|    2009|       1286|Coenen, Jr., Kevin P|      null|    Coenen, Kevin P|       Candidate|       null|   Nesconset|   NY|  11767|             null|    575.7|       0|      0|    Unknown|      575.7|\n",
            "|    2009|       1317|        Talen, Billy| 2/20/2009|     Talen, William|       Candidate|   Brooklyn|    Brooklyn|   NY|  11218|               NY|      500|     175|      0|      Check|      675.0|\n",
            "|    2009|       1317|        Talen, Billy| 2/25/2009|    Mattera, Gloria|      Individual|   Brooklyn|    Brooklyn|   NY|  11215|               NY|      175|     175|      0|      Check|      350.0|\n",
            "|    2009|       1317|        Talen, Billy| 2/25/2009|       Read, Mark W|      Individual|   Brooklyn|    Brooklyn|   NY|  11238|               NY|      175|     175|      0|      Check|      350.0|\n",
            "|    2009|       1317|        Talen, Billy|  3/2/2009| Emperor, Michael D|      Individual|   Brooklyn|    Brooklyn|   NY|  11209|               NY|      175|     175|      0|Credit Card|      350.0|\n",
            "|    2009|       1317|        Talen, Billy|  3/2/2009| DeFilippo, Michael|      Individual|      Other|      Newark|   NJ|   7101|               NY|       20|       0|      0|Credit Card|       20.0|\n",
            "|    2009|       1317|        Talen, Billy|  3/2/2009|      Baker, Brandy|      Individual|      Other|   Baltimore|   MD|  21218|               MD|      100|       0|      0|Credit Card|      100.0|\n",
            "+--------+-----------+--------------------+----------+-------------------+----------------+-----------+------------+-----+-------+-----------------+---------+--------+-------+-----------+-----------+\n",
            "only showing top 20 rows\n",
            "\n"
          ]
        }
      ]
    },
    {
      "cell_type": "code",
      "metadata": {
        "id": "oAV3a6jXmJTP"
      },
      "source": [
        "#Export to Clean CSV\n",
        "#clean_indiv_2009_df.toPandas().to_csv(\"Clean_Indivdual_2009.csv\", header=True)"
      ],
      "execution_count": null,
      "outputs": []
    },
    {
      "cell_type": "markdown",
      "metadata": {
        "id": "1t7gDM4IKH8Y"
      },
      "source": [
        "## **2009 Committee Contributions**"
      ]
    },
    {
      "cell_type": "code",
      "metadata": {
        "id": "hraQT1VmLOhL",
        "colab": {
          "base_uri": "https://localhost:8080/"
        },
        "outputId": "d43230c9-24b9-4ad5-e35d-dd499a9f1b30"
      },
      "source": [
        "# Read in data from S3 Buckets\n",
        "from pyspark import SparkFiles\n",
        "url = \"https://databootcamp-final-05.s3.amazonaws.com/Resources/Committee+Contributions+2009+(X).csv\"\n",
        "spark.sparkContext.addFile(url)\n",
        "df = spark.read.csv(SparkFiles.get(\"Committee+Contributions+2009+(X).csv\"), sep=\",\", header=True)\n",
        "df.show()"
      ],
      "execution_count": 55,
      "outputs": [
        {
          "output_type": "stream",
          "name": "stdout",
          "text": [
            "+--------+--------+-------+--------+--------------------+---------+------+--------+------+----------+--------+----------+----------+--------------------+------+-----+-------+---------+---------+----------+-----+-----+----------+-------+--------+----------+-------+--------+-----+---------+--------+----------+--------+----------+--------+--------+--------+-------+-----+------+----------+----------+----------+----------+--------+---------+---------+--------+---------+------+-------+----------+\n",
            "|ELECTION|OFFICECD|RECIPID|CANCLASS|           RECIPNAME|COMMITTEE|FILING|SCHEDULE|PAGENO|SEQUENCENO|   REFNO|      DATE|REFUNDDATE|                NAME|C_CODE|STRNO|STRNAME|APARTMENT|BOROUGHCD|      CITY|STATE|  ZIP|OCCUPATION|EMPNAME|EMPSTRNO|EMPSTRNAME|EMPCITY|EMPSTATE| AMNT|MATCHAMNT|PREVAMNT|PAY_METHOD|INTERMNO|INTERMNAME|INTSTRNO|INTSTRNM|INTAPTNO|INTCITY|INTST|INTZIP|INTEMPNAME|INTEMPSTNO|INTEMPSTNM|INTEMPCITY|INTEMPST|INTOCCUPA|PURPOSECD|EXEMPTCD|ADJTYPECD|RR_IND|SEG_IND|INT_C_CODE|\n",
            "+--------+--------+-------+--------+--------------------+---------+------+--------+------+----------+--------+----------+----------+--------------------+------+-----+-------+---------+---------+----------+-----+-----+----------+-------+--------+----------+-------+--------+-----+---------+--------+----------+--------+----------+--------+--------+--------+-------+-----+------+----------+----------+----------+----------+--------+---------+---------+--------+---------+------+-------+----------+\n",
            "|    2009|       1|    260|       P|Thompson, Jr., Wi...|        K|     4|     ABC|  null|      null|R0012964| 12/1/2007|      null|1 Christopher Rea...|   LLC| null|   null|     null|        M|  New York|   NY|10014|      null|   null|    null|      null|   null|    null| 1000|        0|       0|         2|    null|      null|    null|    null|    null|   null| null|  null|      null|      null|      null|      null|    null|     null|     null|    null|     null|     N|      N|      null|\n",
            "|    2009|       1|    260|       P|Thompson, Jr., Wi...|        K|     1|     ABC|  null|      null|R0001965|  6/3/2006|      null|1199 SEIU NYS Pol...| PCOMP| null|   null|     null|        M|  New York|   NY|10036|      null|   null|    null|      null|   null|    null| 4950|        0|       0|         2|    null|      null|    null|    null|    null|   null| null|  null|      null|      null|      null|      null|    null|     null|     null|    null|     null|     N|      N|      null|\n",
            "|    2009|       1|     51|       P|        Avella, Tony|        K|     4|     ABC|  null|      null|R0001623|10/29/2007|      null|126th Place Realt...|   LLC| null|   null|     null|        Q|  Flushing|   NY|11368|      null|   null|    null|      null|   null|    null|  500|        0|       0|         2|    null|      null|    null|    null|    null|   null| null|  null|      null|      null|      null|      null|    null|     null|     null|    null|     null|     N|      N|      null|\n",
            "|    2009|       1|    260|       P|Thompson, Jr., Wi...|        K|     2|     ABC|  null|      null|R0003504|11/18/2006|      null|126th Place Realt...|   LLC| null|   null|     null|        Q|    Queens|   NY|11368|      null|   null|    null|      null|   null|    null| 1000|        0|       0|         2|    null|      null|    null|    null|    null|   null| null|  null|      null|      null|      null|      null|    null|     null|     null|    null|     null|     N|      N|      null|\n",
            "|    2009|       1|     51|       P|        Avella, Tony|        K|     2|     ABC|  null|      null|R0000537| 10/5/2006|      null|151-45 Sixth Rd W...|   LLC| null|   null|     null|        M|  New York|   NY|10022|      null|   null|    null|      null|   null|    null|  500|        0|       0|         2|    null|      null|    null|    null|    null|   null| null|  null|      null|      null|      null|      null|    null|     null|     null|    null|     null|     N|      N|      null|\n",
            "|    2009|       1|     51|       P|        Avella, Tony|        K|     2|     ABC|  null|      null|R0000871|11/20/2006|      null|151-45 Sixth Rd W...|   LLC| null|   null|     null|        M|  New York|   NY|10022|      null|   null|    null|      null|   null|    null|  500|        0|     500|         2|    null|      null|    null|    null|    null|   null| null|  null|      null|      null|      null|      null|    null|     null|     null|    null|     null|     N|      N|      null|\n",
            "|    2009|       1|    260|       P|Thompson, Jr., Wi...|        K|     2|     ABC|  null|      null|R0003386|11/11/2006|      null|21st Century Part...|  PART| null|   null|     null|        Z|    Dallas|   TX|75201|      null|   null|    null|      null|   null|    null| 3000|        0|       0|         2|    null|      null|    null|    null|    null|   null| null|  null|      null|      null|      null|      null|    null|     null|     null|    null|     null|     N|      N|      null|\n",
            "|    2009|       1|    260|       P|Thompson, Jr., Wi...|        K|     4|     ABC|  null|      null|R0012362| 10/6/2007|      null|         225 Oak LLC|   LLC| null|   null|     null|        M|  New York|   NY|10028|      null|   null|    null|      null|   null|    null| 1000|        0|       0|         2|    null|      null|    null|    null|    null|   null| null|  null|      null|      null|      null|      null|    null|     null|     null|    null|     null|     N|      N|      null|\n",
            "|    2009|       1|    260|       P|Thompson, Jr., Wi...|        K|     1|     ABC|  null|      null|R0002123|  6/9/2006|      null|260-261 Madison A...|   LLC| null|   null|     null|     null|  New York|   NY| null|      null|   null|    null|      null|   null|    null| 5000|        0|       0|         2|    null|      null|    null|    null|    null|   null| null|  null|      null|      null|      null|      null|    null|     null|     null|    null|     null|     N|      N|      null|\n",
            "|    2009|       1|    260|       P|Thompson, Jr., Wi...|        K|     2|       M|  null|      null|R0002671|  6/9/2006| 7/12/2006|260-261 Madison A...|   LLC| null|   null|     null|     null|  New York|   NY| null|      null|   null|    null|      null|   null|    null|  -50|        0|       0|         0|    null|      null|    null|    null|    null|   null| null|  null|      null|      null|      null|      null|    null|     null|     null|    null|        2|     N|      N|      null|\n",
            "|    2009|       1|     51|       P|        Avella, Tony|        K|     4|     ABC|  null|      null|R0001381| 9/18/2007|      null|346 West 46th Rea...|   LLC| null|   null|     null|        M|  New York|   NY|10036|      null|   null|    null|      null|   null|    null| 2000|        0|       0|         2|    null|      null|    null|    null|    null|   null| null|  null|      null|      null|      null|      null|    null|     null|     null|    null|     null|     N|      N|      null|\n",
            "|    2009|       1|     51|       P|        Avella, Tony|        K|     3|     ABC|  null|      null|R0001271| 6/25/2007|      null|34th Avenue Realt...|   LLC| null|   null|     null|        Q|  Flushing|   NY|11368|      null|   null|    null|      null|   null|    null|  250|        0|       0|         2|    null|      null|    null|    null|    null|   null| null|  null|      null|      null|      null|      null|    null|     null|     null|    null|     null|     N|      N|      null|\n",
            "|    2009|       1|     51|       P|        Avella, Tony|        K|     4|     ABC|  null|      null|R0001621|10/29/2007|      null|34th Avenue Realt...|   LLC| null|   null|     null|        Q|  Flushing|   NY|11368|      null|   null|    null|      null|   null|    null|  500|        0|     250|         2|    null|      null|    null|    null|    null|   null| null|  null|      null|      null|      null|      null|    null|     null|     null|    null|     null|     N|      N|      null|\n",
            "|    2009|       1|    260|       P|Thompson, Jr., Wi...|        K|     4|     ABC|  null|      null|R0012364| 10/6/2007|      null|39-08 103rd Stree...|   LLC| null|   null|     null|        M|  New York|   NY|10030|      null|   null|    null|      null|   null|    null| 1000|        0|       0|         2|    null|      null|    null|    null|    null|   null| null|  null|      null|      null|      null|      null|    null|     null|     null|    null|     null|     N|      N|      null|\n",
            "|    2009|       1|    260|       P|Thompson, Jr., Wi...|        K|     2|     ABC|  null|      null|R0002928| 10/7/2006|      null|      53 West 46 LLC|   LLC| null|   null|     null|        Z|Louisville|   KY|40220|      null|   null|    null|      null|   null|    null| 2000|        0|       0|         2|    null|      null|    null|    null|    null|   null| null|  null|      null|      null|      null|      null|    null|     null|     null|    null|     null|     N|      N|      null|\n",
            "|    2009|       1|    260|       P|Thompson, Jr., Wi...|        K|     2|     ABC|  null|      null|R0003547|11/23/2006|      null|      53 West 46 LLC|   LLC| null|   null|     null|        Z|Louisville|   KY|40220|      null|   null|    null|      null|   null|    null| 4000|        0|    2000|         2|    null|      null|    null|    null|    null|   null| null|  null|      null|      null|      null|      null|    null|     null|     null|    null|     null|     N|      N|      null|\n",
            "|    2009|       1|    260|       P|Thompson, Jr., Wi...|        K|     2|       M|  null|      null|R0003548|11/23/2006|12/20/2006|      53 West 46 LLC|   LLC| null|   null|     null|        Z|Louisville|   KY|40220|      null|   null|    null|      null|   null|    null|-1050|        0|       0|         0|    null|      null|    null|    null|    null|   null| null|  null|      null|      null|      null|      null|    null|     null|     null|    null|        2|     N|      N|      null|\n",
            "|    2009|       1|     51|       P|        Avella, Tony|        K|     2|     ABC|  null|      null|R0000685|10/16/2006|      null|      53 West 46 LLC|   LLC| null|   null|     null|        Z|Louisville|   KY|40220|      null|   null|    null|      null|   null|    null| 1000|        0|       0|         2|    null|      null|    null|    null|    null|   null| null|  null|      null|      null|      null|      null|    null|     null|     null|    null|     null|     N|      N|      null|\n",
            "|    2009|       1|    260|       P|Thompson, Jr., Wi...|        K|     1|     ABC|  null|      null|R0002167| 6/17/2006|      null|  ABO Build-PAC Inc.| PCOMP| null|   null|     null|        M|  New York|   NY|10038|      null|   null|    null|      null|   null|    null| 2500|        0|       0|         2|    null|      null|    null|    null|    null|   null| null|  null|      null|      null|      null|      null|    null|     null|     null|    null|     null|     N|      N|      null|\n",
            "|    2009|       1|    260|       P|Thompson, Jr., Wi...|        K|     2|     ABC|  null|      null|R0003368| 11/4/2006|      null|ACEC New York Cit...| PCOMP| null|   null|     null|        M|  New York|   NY|10165|      null|   null|    null|      null|   null|    null| 1000|        0|       0|         2|    null|      null|    null|    null|    null|   null| null|  null|      null|      null|      null|      null|    null|     null|     null|    null|     null|     N|      N|      null|\n",
            "+--------+--------+-------+--------+--------------------+---------+------+--------+------+----------+--------+----------+----------+--------------------+------+-----+-------+---------+---------+----------+-----+-----+----------+-------+--------+----------+-------+--------+-----+---------+--------+----------+--------+----------+--------+--------+--------+-------+-----+------+----------+----------+----------+----------+--------+---------+---------+--------+---------+------+-------+----------+\n",
            "only showing top 20 rows\n",
            "\n"
          ]
        }
      ]
    },
    {
      "cell_type": "code",
      "metadata": {
        "id": "S-dAX_VzLOhL",
        "colab": {
          "base_uri": "https://localhost:8080/"
        },
        "outputId": "e92799d3-e360-40e3-ba4a-989c08c2a86c"
      },
      "source": [
        "# Remove multiple columns\n",
        "list = ['COMMITTEE', 'FILING', 'SCHEDULE', 'PAGENO', 'SEQUENCENO','REFNO', 'STRNO', 'STRNAME', 'APARTMENT', 'OCCUPATION', 'EMPNAME', 'EMPSTRNO', 'EMPSTRNAME',\n",
        "                'EMPCITY','REFUNDDATE','INTERMNO', 'INTERMNAME', 'INTSTRNO', 'INTSTRNM', 'INTSTRNM', 'INTAPTNO',\n",
        "                'INTCITY', 'INTST','INTZIP', 'INTEMPNAME', 'INTEMPSTNO', 'INTEMPSTNM', 'INTEMPCITY', 'INTEMPST', 'INTOCCUPA' ,'PURPOSECD', 'EXEMPTCD','ADJTYPECD', 'RR_IND', 'SEG_IND','INT_C_CODE'] \n",
        "df = df.drop(*list)\n",
        "df.show()"
      ],
      "execution_count": 56,
      "outputs": [
        {
          "output_type": "stream",
          "name": "stdout",
          "text": [
            "+--------+--------+-------+--------+--------------------+----------+--------------------+------+---------+----------+-----+-----+--------+-----+---------+--------+----------+\n",
            "|ELECTION|OFFICECD|RECIPID|CANCLASS|           RECIPNAME|      DATE|                NAME|C_CODE|BOROUGHCD|      CITY|STATE|  ZIP|EMPSTATE| AMNT|MATCHAMNT|PREVAMNT|PAY_METHOD|\n",
            "+--------+--------+-------+--------+--------------------+----------+--------------------+------+---------+----------+-----+-----+--------+-----+---------+--------+----------+\n",
            "|    2009|       1|    260|       P|Thompson, Jr., Wi...| 12/1/2007|1 Christopher Rea...|   LLC|        M|  New York|   NY|10014|    null| 1000|        0|       0|         2|\n",
            "|    2009|       1|    260|       P|Thompson, Jr., Wi...|  6/3/2006|1199 SEIU NYS Pol...| PCOMP|        M|  New York|   NY|10036|    null| 4950|        0|       0|         2|\n",
            "|    2009|       1|     51|       P|        Avella, Tony|10/29/2007|126th Place Realt...|   LLC|        Q|  Flushing|   NY|11368|    null|  500|        0|       0|         2|\n",
            "|    2009|       1|    260|       P|Thompson, Jr., Wi...|11/18/2006|126th Place Realt...|   LLC|        Q|    Queens|   NY|11368|    null| 1000|        0|       0|         2|\n",
            "|    2009|       1|     51|       P|        Avella, Tony| 10/5/2006|151-45 Sixth Rd W...|   LLC|        M|  New York|   NY|10022|    null|  500|        0|       0|         2|\n",
            "|    2009|       1|     51|       P|        Avella, Tony|11/20/2006|151-45 Sixth Rd W...|   LLC|        M|  New York|   NY|10022|    null|  500|        0|     500|         2|\n",
            "|    2009|       1|    260|       P|Thompson, Jr., Wi...|11/11/2006|21st Century Part...|  PART|        Z|    Dallas|   TX|75201|    null| 3000|        0|       0|         2|\n",
            "|    2009|       1|    260|       P|Thompson, Jr., Wi...| 10/6/2007|         225 Oak LLC|   LLC|        M|  New York|   NY|10028|    null| 1000|        0|       0|         2|\n",
            "|    2009|       1|    260|       P|Thompson, Jr., Wi...|  6/9/2006|260-261 Madison A...|   LLC|     null|  New York|   NY| null|    null| 5000|        0|       0|         2|\n",
            "|    2009|       1|    260|       P|Thompson, Jr., Wi...|  6/9/2006|260-261 Madison A...|   LLC|     null|  New York|   NY| null|    null|  -50|        0|       0|         0|\n",
            "|    2009|       1|     51|       P|        Avella, Tony| 9/18/2007|346 West 46th Rea...|   LLC|        M|  New York|   NY|10036|    null| 2000|        0|       0|         2|\n",
            "|    2009|       1|     51|       P|        Avella, Tony| 6/25/2007|34th Avenue Realt...|   LLC|        Q|  Flushing|   NY|11368|    null|  250|        0|       0|         2|\n",
            "|    2009|       1|     51|       P|        Avella, Tony|10/29/2007|34th Avenue Realt...|   LLC|        Q|  Flushing|   NY|11368|    null|  500|        0|     250|         2|\n",
            "|    2009|       1|    260|       P|Thompson, Jr., Wi...| 10/6/2007|39-08 103rd Stree...|   LLC|        M|  New York|   NY|10030|    null| 1000|        0|       0|         2|\n",
            "|    2009|       1|    260|       P|Thompson, Jr., Wi...| 10/7/2006|      53 West 46 LLC|   LLC|        Z|Louisville|   KY|40220|    null| 2000|        0|       0|         2|\n",
            "|    2009|       1|    260|       P|Thompson, Jr., Wi...|11/23/2006|      53 West 46 LLC|   LLC|        Z|Louisville|   KY|40220|    null| 4000|        0|    2000|         2|\n",
            "|    2009|       1|    260|       P|Thompson, Jr., Wi...|11/23/2006|      53 West 46 LLC|   LLC|        Z|Louisville|   KY|40220|    null|-1050|        0|       0|         0|\n",
            "|    2009|       1|     51|       P|        Avella, Tony|10/16/2006|      53 West 46 LLC|   LLC|        Z|Louisville|   KY|40220|    null| 1000|        0|       0|         2|\n",
            "|    2009|       1|    260|       P|Thompson, Jr., Wi...| 6/17/2006|  ABO Build-PAC Inc.| PCOMP|        M|  New York|   NY|10038|    null| 2500|        0|       0|         2|\n",
            "|    2009|       1|    260|       P|Thompson, Jr., Wi...| 11/4/2006|ACEC New York Cit...| PCOMP|        M|  New York|   NY|10165|    null| 1000|        0|       0|         2|\n",
            "+--------+--------+-------+--------+--------------------+----------+--------------------+------+---------+----------+-----+-----+--------+-----+---------+--------+----------+\n",
            "only showing top 20 rows\n",
            "\n"
          ]
        }
      ]
    },
    {
      "cell_type": "code",
      "metadata": {
        "id": "btba2GO-LOhL",
        "colab": {
          "base_uri": "https://localhost:8080/"
        },
        "outputId": "3d04efe8-1013-4b75-a2e4-a35d95b27930"
      },
      "source": [
        "# check data types\n",
        "df.dtypes"
      ],
      "execution_count": 57,
      "outputs": [
        {
          "output_type": "execute_result",
          "data": {
            "text/plain": [
              "[('ELECTION', 'string'),\n",
              " ('OFFICECD', 'string'),\n",
              " ('RECIPID', 'string'),\n",
              " ('CANCLASS', 'string'),\n",
              " ('RECIPNAME', 'string'),\n",
              " ('DATE', 'string'),\n",
              " ('NAME', 'string'),\n",
              " ('C_CODE', 'string'),\n",
              " ('BOROUGHCD', 'string'),\n",
              " ('CITY', 'string'),\n",
              " ('STATE', 'string'),\n",
              " ('ZIP', 'string'),\n",
              " ('EMPSTATE', 'string'),\n",
              " ('AMNT', 'string'),\n",
              " ('MATCHAMNT', 'string'),\n",
              " ('PREVAMNT', 'string'),\n",
              " ('PAY_METHOD', 'string')]"
            ]
          },
          "metadata": {},
          "execution_count": 57
        }
      ]
    },
    {
      "cell_type": "code",
      "metadata": {
        "id": "U3HO9e01LOhL",
        "colab": {
          "base_uri": "https://localhost:8080/"
        },
        "outputId": "45cd729c-4a31-479a-8fb6-8a928c3b75f4"
      },
      "source": [
        "#Change column names\n",
        "df1 = df \\\n",
        ".withColumnRenamed(\"ELECTION\", \"Election\") \\\n",
        ".withColumnRenamed(\"RECIPID\", \"CandidateID\") \\\n",
        ".withColumnRenamed(\"RECIPNAME\", \"CandidateName\") \\\n",
        ".withColumnRenamed(\"DATE\", \"Date\") \\\n",
        ".withColumnRenamed(\"NAME\", \"Name\") \\\n",
        ".withColumnRenamed(\"C_CODE\", \"ContributorType\") \\\n",
        ".withColumnRenamed(\"BOROUGHCD\", \"BoroughName\") \\\n",
        ".withColumnRenamed(\"CITY\", \"City\") \\\n",
        ".withColumnRenamed(\"STATE\", \"State\") \\\n",
        ".withColumnRenamed(\"ZIP\", \"ZipCode\") \\\n",
        ".withColumnRenamed(\"EMPSTATE\", \"ContributionState\") \\\n",
        ".withColumnRenamed(\"AMNT\", \"Amount\") \\\n",
        ".withColumnRenamed(\"MATCHAMNT\", \"MatchAmt\") \\\n",
        ".withColumnRenamed(\"PREVAMNT\", \"PrevAmt\") \\\n",
        ".withColumnRenamed(\"PAY_METHOD\", \"PayMethod\") \n",
        "\n",
        "df1.printSchema()"
      ],
      "execution_count": 58,
      "outputs": [
        {
          "output_type": "stream",
          "name": "stdout",
          "text": [
            "root\n",
            " |-- Election: string (nullable = true)\n",
            " |-- OFFICECD: string (nullable = true)\n",
            " |-- CandidateID: string (nullable = true)\n",
            " |-- CANCLASS: string (nullable = true)\n",
            " |-- CandidateName: string (nullable = true)\n",
            " |-- Date: string (nullable = true)\n",
            " |-- Name: string (nullable = true)\n",
            " |-- ContributorType: string (nullable = true)\n",
            " |-- BoroughName: string (nullable = true)\n",
            " |-- City: string (nullable = true)\n",
            " |-- State: string (nullable = true)\n",
            " |-- ZipCode: string (nullable = true)\n",
            " |-- ContributionState: string (nullable = true)\n",
            " |-- Amount: string (nullable = true)\n",
            " |-- MatchAmt: string (nullable = true)\n",
            " |-- PrevAmt: string (nullable = true)\n",
            " |-- PayMethod: string (nullable = true)\n",
            "\n"
          ]
        }
      ]
    },
    {
      "cell_type": "code",
      "metadata": {
        "id": "SAf4vA_5jTRM"
      },
      "source": [
        "from datetime import datetime\n",
        "from pyspark.sql.functions import col, udf\n",
        "from pyspark.sql.types import DateType"
      ],
      "execution_count": 59,
      "outputs": []
    },
    {
      "cell_type": "code",
      "metadata": {
        "id": "o8pcOHEWjVfK",
        "colab": {
          "base_uri": "https://localhost:8080/"
        },
        "outputId": "6cc4dd95-a448-470b-9ac1-d424f59d5406"
      },
      "source": [
        "# using lambda function to convert date col to datetype\n",
        "# changing datatypes of columns\n",
        "func =  udf (lambda x: datetime.strptime(x, '%m/%d/%Y'), DateType())\n",
        "df2 = df1.withColumn(\"Election\",df1[\"Election\"].cast(\"Integer\")) \\\n",
        "  .withColumn(\"OFFICECD\", df1[\"OFFICECD\"].cast(\"Integer\")) \\\n",
        "  .withColumn(\"ZipCode\", df1[\"ZipCode\"].cast(\"Integer\")) \\\n",
        "  .withColumn(\"Amount\", df1[\"Amount\"].cast(\"Float\")) \\\n",
        "  .withColumn(\"MatchAmt\", df1[\"MatchAmt\"].cast(\"Float\")) \\\n",
        "  .withColumn(\"PrevAmt\", df1[\"PrevAmt\"].cast(\"Float\")) \\\n",
        "  .withColumn('Date', func(col('Date')))\n",
        "df2.printSchema()\n",
        "\n",
        "#  .withColumn(\"CandidateID\", df1[\"CandidateID\"].cast(\"Integer\")) \\"
      ],
      "execution_count": 60,
      "outputs": [
        {
          "output_type": "stream",
          "name": "stdout",
          "text": [
            "root\n",
            " |-- Election: integer (nullable = true)\n",
            " |-- OFFICECD: integer (nullable = true)\n",
            " |-- CandidateID: string (nullable = true)\n",
            " |-- CANCLASS: string (nullable = true)\n",
            " |-- CandidateName: string (nullable = true)\n",
            " |-- Date: date (nullable = true)\n",
            " |-- Name: string (nullable = true)\n",
            " |-- ContributorType: string (nullable = true)\n",
            " |-- BoroughName: string (nullable = true)\n",
            " |-- City: string (nullable = true)\n",
            " |-- State: string (nullable = true)\n",
            " |-- ZipCode: integer (nullable = true)\n",
            " |-- ContributionState: string (nullable = true)\n",
            " |-- Amount: float (nullable = true)\n",
            " |-- MatchAmt: float (nullable = true)\n",
            " |-- PrevAmt: float (nullable = true)\n",
            " |-- PayMethod: string (nullable = true)\n",
            "\n"
          ]
        }
      ]
    },
    {
      "cell_type": "code",
      "metadata": {
        "id": "qa6S4he5LOhM"
      },
      "source": [
        "#Change vaule name in ContributerType\n",
        "from pyspark.sql.functions import regexp_replace\n",
        "df3 = df2.withColumn('ContributorType', regexp_replace('ContributorType', 'CAN', 'Candidate')) \\\n",
        "  .withColumn('ContributorType', regexp_replace('ContributorType', 'CORP', 'Corporation')) \\\n",
        "  .withColumn('ContributorType', regexp_replace('ContributorType', 'EMPO', 'Labor Union')) \\\n",
        "  .withColumn('ContributorType', regexp_replace('ContributorType', 'FAM', 'Candidate Family')) \\\n",
        "  .withColumn('ContributorType', regexp_replace('ContributorType', 'IND', 'Individual')) \\\n",
        "  .withColumn('ContributorType', regexp_replace('ContributorType', 'PCOMZ', 'Party Committee')) \\\n",
        "  .withColumn('ContributorType', regexp_replace('ContributorType', 'ORG', 'Orgainization')) \\\n",
        "  .withColumn('ContributorType', regexp_replace('ContributorType', 'LLC', 'Limited Liability Company')) \\\n",
        "  .withColumn('ContributorType', regexp_replace('ContributorType', 'PCOMP', 'Political Action Committee')) \\\n",
        "  .withColumn('ContributorType', regexp_replace('ContributorType', 'SPO', 'Spouse')) \\\n",
        "  .withColumn('ContributorType', regexp_replace('ContributorType', 'OTHR', 'Other')) \\\n",
        "  .withColumn('ContributorType', regexp_replace('ContributorType', 'PCOMC', 'Candidate Committee')) \\\n",
        "  .withColumn('ContributorType', regexp_replace('ContributorType', 'PART', 'Individual')) \\\n"
      ],
      "execution_count": 61,
      "outputs": []
    },
    {
      "cell_type": "code",
      "metadata": {
        "id": "HKU4a2YeLOhM"
      },
      "source": [
        "#Change Payment Method Name\n",
        "df4=df3.withColumn('PayMethod', regexp_replace('PayMethod','0','Unknown')) \\\n",
        "  .withColumn('PayMethod', regexp_replace('PayMethod','1','Cash')) \\\n",
        "  .withColumn('PayMethod', regexp_replace('PayMethod','2','Check')) \\\n",
        "  .withColumn('PayMethod', regexp_replace('PayMethod','3','Other')) \\\n",
        "  .withColumn('PayMethod', regexp_replace('PayMethod','4','Credit Card')) \\\n",
        "  .withColumn('PayMethod', regexp_replace('PayMethod','5','Money Order')) \\"
      ],
      "execution_count": 62,
      "outputs": []
    },
    {
      "cell_type": "code",
      "metadata": {
        "id": "trH99qC5LOhM"
      },
      "source": [
        "#Change Borough name\n",
        "from pyspark.sql.functions import regexp_replace\n",
        "df5 = df4.withColumn('BoroughName', regexp_replace('BoroughName', 'K', 'Brooklyn')) \\\n",
        "  .withColumn('BoroughName', regexp_replace('BoroughName', 'M', 'Manhattan')) \\\n",
        "  .withColumn('BoroughName', regexp_replace('BoroughName', 'Q', 'Queens')) \\\n",
        "  .withColumn('BoroughName', regexp_replace('BoroughName', 'S', 'Staten Island')) \\\n",
        "  .withColumn('BoroughName', regexp_replace('BoroughName', 'X', 'Bronx')) \\\n",
        "  .withColumn('BoroughName', regexp_replace('BoroughName', 'Z', 'Other')) \\\n"
      ],
      "execution_count": 63,
      "outputs": []
    },
    {
      "cell_type": "code",
      "metadata": {
        "id": "nEmNuKUFLOhM",
        "colab": {
          "base_uri": "https://localhost:8080/"
        },
        "outputId": "f12a5240-1843-43fd-dd50-2b8974ceac76"
      },
      "source": [
        "#Check the above dataframe to make sure only unique values between the OFFICECD is 1 \n",
        "df5.select('OFFICECD').distinct().show()"
      ],
      "execution_count": 65,
      "outputs": [
        {
          "output_type": "stream",
          "name": "stdout",
          "text": [
            "+--------+\n",
            "|OFFICECD|\n",
            "+--------+\n",
            "|       1|\n",
            "+--------+\n",
            "\n"
          ]
        }
      ]
    },
    {
      "cell_type": "code",
      "metadata": {
        "id": "Myx_AWPaLOhM",
        "colab": {
          "base_uri": "https://localhost:8080/"
        },
        "outputId": "05d76062-f786-4fb4-f379-e6304f187183"
      },
      "source": [
        "#Drop OFFICECD and CANCLASS\n",
        "list2 = ['OFFICECD', 'CANCLASS'] \n",
        "df7 = df5.drop(*list2)\n",
        "df7.show()"
      ],
      "execution_count": 67,
      "outputs": [
        {
          "output_type": "stream",
          "name": "stdout",
          "text": [
            "+--------+-----------+--------------------+----------+--------------------+--------------------+-----------+----------+-----+-------+-----------------+-------+--------+-------+---------+\n",
            "|Election|CandidateID|       CandidateName|      Date|                Name|     ContributorType|BoroughName|      City|State|ZipCode|ContributionState| Amount|MatchAmt|PrevAmt|PayMethod|\n",
            "+--------+-----------+--------------------+----------+--------------------+--------------------+-----------+----------+-----+-------+-----------------+-------+--------+-------+---------+\n",
            "|    2009|        260|Thompson, Jr., Wi...|2007-12-01|1 Christopher Rea...|Limited Liability...|  Manhattan|  New York|   NY|  10014|             null| 1000.0|     0.0|    0.0|    Check|\n",
            "|    2009|        260|Thompson, Jr., Wi...|2006-06-03|1199 SEIU NYS Pol...|Political Action ...|  Manhattan|  New York|   NY|  10036|             null| 4950.0|     0.0|    0.0|    Check|\n",
            "|    2009|         51|        Avella, Tony|2007-10-29|126th Place Realt...|Limited Liability...|     Queens|  Flushing|   NY|  11368|             null|  500.0|     0.0|    0.0|    Check|\n",
            "|    2009|        260|Thompson, Jr., Wi...|2006-11-18|126th Place Realt...|Limited Liability...|     Queens|    Queens|   NY|  11368|             null| 1000.0|     0.0|    0.0|    Check|\n",
            "|    2009|         51|        Avella, Tony|2006-10-05|151-45 Sixth Rd W...|Limited Liability...|  Manhattan|  New York|   NY|  10022|             null|  500.0|     0.0|    0.0|    Check|\n",
            "|    2009|         51|        Avella, Tony|2006-11-20|151-45 Sixth Rd W...|Limited Liability...|  Manhattan|  New York|   NY|  10022|             null|  500.0|     0.0|  500.0|    Check|\n",
            "|    2009|        260|Thompson, Jr., Wi...|2006-11-11|21st Century Part...|          Individual|      Other|    Dallas|   TX|  75201|             null| 3000.0|     0.0|    0.0|    Check|\n",
            "|    2009|        260|Thompson, Jr., Wi...|2007-10-06|         225 Oak LLC|Limited Liability...|  Manhattan|  New York|   NY|  10028|             null| 1000.0|     0.0|    0.0|    Check|\n",
            "|    2009|        260|Thompson, Jr., Wi...|2006-06-09|260-261 Madison A...|Limited Liability...|       null|  New York|   NY|   null|             null| 5000.0|     0.0|    0.0|    Check|\n",
            "|    2009|        260|Thompson, Jr., Wi...|2006-06-09|260-261 Madison A...|Limited Liability...|       null|  New York|   NY|   null|             null|  -50.0|     0.0|    0.0|  Unknown|\n",
            "|    2009|         51|        Avella, Tony|2007-09-18|346 West 46th Rea...|Limited Liability...|  Manhattan|  New York|   NY|  10036|             null| 2000.0|     0.0|    0.0|    Check|\n",
            "|    2009|         51|        Avella, Tony|2007-06-25|34th Avenue Realt...|Limited Liability...|     Queens|  Flushing|   NY|  11368|             null|  250.0|     0.0|    0.0|    Check|\n",
            "|    2009|         51|        Avella, Tony|2007-10-29|34th Avenue Realt...|Limited Liability...|     Queens|  Flushing|   NY|  11368|             null|  500.0|     0.0|  250.0|    Check|\n",
            "|    2009|        260|Thompson, Jr., Wi...|2007-10-06|39-08 103rd Stree...|Limited Liability...|  Manhattan|  New York|   NY|  10030|             null| 1000.0|     0.0|    0.0|    Check|\n",
            "|    2009|        260|Thompson, Jr., Wi...|2006-10-07|      53 West 46 LLC|Limited Liability...|      Other|Louisville|   KY|  40220|             null| 2000.0|     0.0|    0.0|    Check|\n",
            "|    2009|        260|Thompson, Jr., Wi...|2006-11-23|      53 West 46 LLC|Limited Liability...|      Other|Louisville|   KY|  40220|             null| 4000.0|     0.0| 2000.0|    Check|\n",
            "|    2009|        260|Thompson, Jr., Wi...|2006-11-23|      53 West 46 LLC|Limited Liability...|      Other|Louisville|   KY|  40220|             null|-1050.0|     0.0|    0.0|  Unknown|\n",
            "|    2009|         51|        Avella, Tony|2006-10-16|      53 West 46 LLC|Limited Liability...|      Other|Louisville|   KY|  40220|             null| 1000.0|     0.0|    0.0|    Check|\n",
            "|    2009|        260|Thompson, Jr., Wi...|2006-06-17|  ABO Build-PAC Inc.|Political Action ...|  Manhattan|  New York|   NY|  10038|             null| 2500.0|     0.0|    0.0|    Check|\n",
            "|    2009|        260|Thompson, Jr., Wi...|2006-11-04|ACEC New York Cit...|Political Action ...|  Manhattan|  New York|   NY|  10165|             null| 1000.0|     0.0|    0.0|    Check|\n",
            "+--------+-----------+--------------------+----------+--------------------+--------------------+-----------+----------+-----+-------+-----------------+-------+--------+-------+---------+\n",
            "only showing top 20 rows\n",
            "\n"
          ]
        }
      ]
    },
    {
      "cell_type": "code",
      "metadata": {
        "id": "OEu2eqWaDg1J"
      },
      "source": [
        "#Filter Dataframe removing the null CandidateID values\n",
        "df8 = df7.filter(df7.CandidateID.isNotNull())"
      ],
      "execution_count": 68,
      "outputs": []
    },
    {
      "cell_type": "code",
      "metadata": {
        "id": "Uci_zuD5LOhM",
        "colab": {
          "base_uri": "https://localhost:8080/"
        },
        "outputId": "a6c33474-f905-40f0-b920-689c4c41ab25"
      },
      "source": [
        "# ADD AMNT and MATCHAMNT PrevAmnt\n",
        "from pyspark.sql.functions import col\n",
        "clean_comm_2009_df = df8.withColumn(\"TotalAmount\", col(\"Amount\")+col(\"MatchAmt\")+col('PrevAmt'))\n",
        "clean_comm_2009_df.show()"
      ],
      "execution_count": 69,
      "outputs": [
        {
          "output_type": "stream",
          "name": "stdout",
          "text": [
            "+--------+-----------+--------------------+----------+--------------------+--------------------+-----------+----------+-----+-------+-----------------+-------+--------+-------+---------+-----------+\n",
            "|Election|CandidateID|       CandidateName|      Date|                Name|     ContributorType|BoroughName|      City|State|ZipCode|ContributionState| Amount|MatchAmt|PrevAmt|PayMethod|TotalAmount|\n",
            "+--------+-----------+--------------------+----------+--------------------+--------------------+-----------+----------+-----+-------+-----------------+-------+--------+-------+---------+-----------+\n",
            "|    2009|        260|Thompson, Jr., Wi...|2007-12-01|1 Christopher Rea...|Limited Liability...|  Manhattan|  New York|   NY|  10014|             null| 1000.0|     0.0|    0.0|    Check|     1000.0|\n",
            "|    2009|        260|Thompson, Jr., Wi...|2006-06-03|1199 SEIU NYS Pol...|Political Action ...|  Manhattan|  New York|   NY|  10036|             null| 4950.0|     0.0|    0.0|    Check|     4950.0|\n",
            "|    2009|         51|        Avella, Tony|2007-10-29|126th Place Realt...|Limited Liability...|     Queens|  Flushing|   NY|  11368|             null|  500.0|     0.0|    0.0|    Check|      500.0|\n",
            "|    2009|        260|Thompson, Jr., Wi...|2006-11-18|126th Place Realt...|Limited Liability...|     Queens|    Queens|   NY|  11368|             null| 1000.0|     0.0|    0.0|    Check|     1000.0|\n",
            "|    2009|         51|        Avella, Tony|2006-10-05|151-45 Sixth Rd W...|Limited Liability...|  Manhattan|  New York|   NY|  10022|             null|  500.0|     0.0|    0.0|    Check|      500.0|\n",
            "|    2009|         51|        Avella, Tony|2006-11-20|151-45 Sixth Rd W...|Limited Liability...|  Manhattan|  New York|   NY|  10022|             null|  500.0|     0.0|  500.0|    Check|     1000.0|\n",
            "|    2009|        260|Thompson, Jr., Wi...|2006-11-11|21st Century Part...|          Individual|      Other|    Dallas|   TX|  75201|             null| 3000.0|     0.0|    0.0|    Check|     3000.0|\n",
            "|    2009|        260|Thompson, Jr., Wi...|2007-10-06|         225 Oak LLC|Limited Liability...|  Manhattan|  New York|   NY|  10028|             null| 1000.0|     0.0|    0.0|    Check|     1000.0|\n",
            "|    2009|        260|Thompson, Jr., Wi...|2006-06-09|260-261 Madison A...|Limited Liability...|       null|  New York|   NY|   null|             null| 5000.0|     0.0|    0.0|    Check|     5000.0|\n",
            "|    2009|        260|Thompson, Jr., Wi...|2006-06-09|260-261 Madison A...|Limited Liability...|       null|  New York|   NY|   null|             null|  -50.0|     0.0|    0.0|  Unknown|      -50.0|\n",
            "|    2009|         51|        Avella, Tony|2007-09-18|346 West 46th Rea...|Limited Liability...|  Manhattan|  New York|   NY|  10036|             null| 2000.0|     0.0|    0.0|    Check|     2000.0|\n",
            "|    2009|         51|        Avella, Tony|2007-06-25|34th Avenue Realt...|Limited Liability...|     Queens|  Flushing|   NY|  11368|             null|  250.0|     0.0|    0.0|    Check|      250.0|\n",
            "|    2009|         51|        Avella, Tony|2007-10-29|34th Avenue Realt...|Limited Liability...|     Queens|  Flushing|   NY|  11368|             null|  500.0|     0.0|  250.0|    Check|      750.0|\n",
            "|    2009|        260|Thompson, Jr., Wi...|2007-10-06|39-08 103rd Stree...|Limited Liability...|  Manhattan|  New York|   NY|  10030|             null| 1000.0|     0.0|    0.0|    Check|     1000.0|\n",
            "|    2009|        260|Thompson, Jr., Wi...|2006-10-07|      53 West 46 LLC|Limited Liability...|      Other|Louisville|   KY|  40220|             null| 2000.0|     0.0|    0.0|    Check|     2000.0|\n",
            "|    2009|        260|Thompson, Jr., Wi...|2006-11-23|      53 West 46 LLC|Limited Liability...|      Other|Louisville|   KY|  40220|             null| 4000.0|     0.0| 2000.0|    Check|     6000.0|\n",
            "|    2009|        260|Thompson, Jr., Wi...|2006-11-23|      53 West 46 LLC|Limited Liability...|      Other|Louisville|   KY|  40220|             null|-1050.0|     0.0|    0.0|  Unknown|    -1050.0|\n",
            "|    2009|         51|        Avella, Tony|2006-10-16|      53 West 46 LLC|Limited Liability...|      Other|Louisville|   KY|  40220|             null| 1000.0|     0.0|    0.0|    Check|     1000.0|\n",
            "|    2009|        260|Thompson, Jr., Wi...|2006-06-17|  ABO Build-PAC Inc.|Political Action ...|  Manhattan|  New York|   NY|  10038|             null| 2500.0|     0.0|    0.0|    Check|     2500.0|\n",
            "|    2009|        260|Thompson, Jr., Wi...|2006-11-04|ACEC New York Cit...|Political Action ...|  Manhattan|  New York|   NY|  10165|             null| 1000.0|     0.0|    0.0|    Check|     1000.0|\n",
            "+--------+-----------+--------------------+----------+--------------------+--------------------+-----------+----------+-----+-------+-----------------+-------+--------+-------+---------+-----------+\n",
            "only showing top 20 rows\n",
            "\n"
          ]
        }
      ]
    },
    {
      "cell_type": "code",
      "metadata": {
        "id": "1ckKHE1GsikP",
        "colab": {
          "base_uri": "https://localhost:8080/"
        },
        "outputId": "c7eb0967-5934-483d-ac24-320a6f93d8f4"
      },
      "source": [
        "# import modules\n",
        "from pyspark.sql import SparkSession\n",
        "import functools\n",
        "  \n",
        "# explicit function\n",
        "def unionAll(dfs):\n",
        "    return functools.reduce(lambda clean_indiv_2009_df, clean_comm_2009_df: clean_indiv_2009_df.union(clean_comm_2009_df.select(clean_indiv_2009_df.columns)), dfs)\n",
        "\n",
        "unioned_df = unionAll([clean_indiv_2009_df, clean_comm_2009_df])\n",
        "unioned_df.show()"
      ],
      "execution_count": 70,
      "outputs": [
        {
          "output_type": "stream",
          "name": "stdout",
          "text": [
            "+--------+-----------+--------------------+----------+-------------------+----------------+-----------+------------+-----+-------+-----------------+---------+--------+-------+-----------+-----------+\n",
            "|Election|CandidateID|       CandidateName|      Date|               Name| ContributorType|BoroughName|        City|State|ZipCode|ContributionState|   Amount|MatchAmt|PrevAmt|  PayMethod|TotalAmount|\n",
            "+--------+-----------+--------------------+----------+-------------------+----------------+-----------+------------+-----+-------+-----------------+---------+--------+-------+-----------+-----------+\n",
            "|    2009|       1264|Catsimatidis, John A|  9/5/2008| Catsimatidis, John|       Candidate|  Manhattan|    New York|   NY|  10065|               NY|   100000|       0|      0|      Other|   100000.0|\n",
            "|    2009|       1264|Catsimatidis, John A|12/12/2008| Catsimatidis, John|       Candidate|  Manhattan|    New York|   NY|  10065|               NY|    35000|       0| 100000|      Other|   135000.0|\n",
            "|    2009|       1264|Catsimatidis, John A| 7/10/2009| Catsimatidis, John|       Candidate|  Manhattan|    New York|   NY|  10065|               NY|143891.61|       0| 135000|      Other|  278891.61|\n",
            "|    2009|       1264|Catsimatidis, John A|  9/4/2008| Catsimatidis, John|       Candidate|  Manhattan|    New York|   NY|  10065|               NY|   837.59|       0|      0|    Unknown|     837.59|\n",
            "|    2009|       1264|Catsimatidis, John A|  1/9/2009| Catsimatidis, John|       Candidate|  Manhattan|    New York|   NY|  10065|               NY|     6000|       0|      0|    Unknown|     6000.0|\n",
            "|    2009|       1264|Catsimatidis, John A| 3/11/2009| Catsimatidis, John|       Candidate|  Manhattan|    New York|   NY|  10065|               NY|     2000|       0|      0|    Unknown|     2000.0|\n",
            "|    2009|       1264|Catsimatidis, John A| 5/11/2009| Catsimatidis, John|       Candidate|  Manhattan|    New York|   NY|  10065|               NY|     2000|       0|      0|    Unknown|     2000.0|\n",
            "|    2009|       1264|Catsimatidis, John A| 7/10/2009| Catsimatidis, John|       Candidate|  Manhattan|    New York|   NY|  10065|               NY|     2000|       0|      0|    Unknown|     2000.0|\n",
            "|    2009|       1264|Catsimatidis, John A|  9/4/2008|Catsimatidis, Margo|Candidate Family|  Manhattan|    New York|   NY|  10065|               NY|     4950|       0|      0|    Unknown|     4950.0|\n",
            "|    2009|       1266|Joiner-Eiland, Ty...|10/16/2008|  Eiland, Tyrrell L|       Candidate|      Other|Port Chester|   NY|  10573|               NY|        9|       0|      0|       Cash|        9.0|\n",
            "|    2009|       1286|Coenen, Jr., Kevin P| 4/27/2009|    Coenen, Kevin P|       Candidate|      Other|   Nesconset|   NY|  11767|               NY|      200|       0|      0|       Cash|      200.0|\n",
            "|    2009|       1286|Coenen, Jr., Kevin P|  6/4/2009|    Coenen, Kevin P|       Candidate|      Other|   Nesconset|   NY|  11767|               NY|     46.1|       0|      0|    Unknown|       46.1|\n",
            "|    2009|       1286|Coenen, Jr., Kevin P| 4/27/2009|    Coenen, Kevin P|       Candidate|      Other|   Nesconset|   NY|  11767|             null|     -200|       0|      0|    Unknown|     -200.0|\n",
            "|    2009|       1286|Coenen, Jr., Kevin P|      null|    Coenen, Kevin P|       Candidate|       null|   Nesconset|   NY|  11767|             null|    575.7|       0|      0|    Unknown|      575.7|\n",
            "|    2009|       1317|        Talen, Billy| 2/20/2009|     Talen, William|       Candidate|   Brooklyn|    Brooklyn|   NY|  11218|               NY|      500|     175|      0|      Check|      675.0|\n",
            "|    2009|       1317|        Talen, Billy| 2/25/2009|    Mattera, Gloria|      Individual|   Brooklyn|    Brooklyn|   NY|  11215|               NY|      175|     175|      0|      Check|      350.0|\n",
            "|    2009|       1317|        Talen, Billy| 2/25/2009|       Read, Mark W|      Individual|   Brooklyn|    Brooklyn|   NY|  11238|               NY|      175|     175|      0|      Check|      350.0|\n",
            "|    2009|       1317|        Talen, Billy|  3/2/2009| Emperor, Michael D|      Individual|   Brooklyn|    Brooklyn|   NY|  11209|               NY|      175|     175|      0|Credit Card|      350.0|\n",
            "|    2009|       1317|        Talen, Billy|  3/2/2009| DeFilippo, Michael|      Individual|      Other|      Newark|   NJ|   7101|               NY|       20|       0|      0|Credit Card|       20.0|\n",
            "|    2009|       1317|        Talen, Billy|  3/2/2009|      Baker, Brandy|      Individual|      Other|   Baltimore|   MD|  21218|               MD|      100|       0|      0|Credit Card|      100.0|\n",
            "+--------+-----------+--------------------+----------+-------------------+----------------+-----------+------------+-----+-------+-----------------+---------+--------+-------+-----------+-----------+\n",
            "only showing top 20 rows\n",
            "\n"
          ]
        }
      ]
    },
    {
      "cell_type": "code",
      "metadata": {
        "id": "IGEpb3gUslGO"
      },
      "source": [
        "unioned_df.toPandas().to_csv(\"Contributions_2009.csv\", header=True)"
      ],
      "execution_count": 71,
      "outputs": []
    },
    {
      "cell_type": "code",
      "metadata": {
        "id": "JP38ou7rs5hY"
      },
      "source": [
        "#Export to new CSV\n",
        "#clean_comm_2009_df.toPandas().to_csv(\"Clean_Committee_2009.csv\", header=True)"
      ],
      "execution_count": null,
      "outputs": []
    },
    {
      "cell_type": "code",
      "metadata": {
        "id": "S3PsGBmTLOhN"
      },
      "source": [
        "# Store environmental variable\n",
        "from getpass import getpass\n",
        "#Configure settings for RDS\n",
        "mode = \"append\"\n",
        "jdbc_url=\"jdbc:postgresql://database-final.cjdbapst3wjf.us-east-1.rds.amazonaws.com:5432/postgres\"\n",
        "config = {\"user\":\"postgres\",\n",
        "          \"password\": \"*******\",\n",
        "          \"driver\":\"org.postgresql.Driver\"}"
      ],
      "execution_count": null,
      "outputs": []
    },
    {
      "cell_type": "code",
      "metadata": {
        "id": "BJ4dBFJKSG5J"
      },
      "source": [
        "# Write DataFrame to active_user table in RDS\n",
        "#clean_indiv_2009_df.write.jdbc(url=jdbc_url, table='individual_2009', mode=mode, properties=config)"
      ],
      "execution_count": null,
      "outputs": []
    },
    {
      "cell_type": "code",
      "metadata": {
        "id": "SSpL71qCG1F2"
      },
      "source": [
        "# Write DataFrame to active_user table in RDS\n",
        "#clean_comm_2009_df.write.jdbc(url=jdbc_url, table='committee_2009', mode=mode, properties=config)"
      ],
      "execution_count": null,
      "outputs": []
    }
  ]
}
