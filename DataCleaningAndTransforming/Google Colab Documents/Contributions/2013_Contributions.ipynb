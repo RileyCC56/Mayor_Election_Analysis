{
  "nbformat": 4,
  "nbformat_minor": 0,
  "metadata": {
    "colab": {
      "name": "2013_Contributions.ipynb",
      "provenance": [],
      "collapsed_sections": [],
      "authorship_tag": "ABX9TyP7jH78DZiVC5pfKCH82Ck9",
      "include_colab_link": true
    },
    "kernelspec": {
      "name": "python3",
      "display_name": "Python 3"
    },
    "language_info": {
      "name": "python"
    }
  },
  "cells": [
    {
      "cell_type": "markdown",
      "metadata": {
        "id": "view-in-github",
        "colab_type": "text"
      },
      "source": [
        "<a href=\"https://colab.research.google.com/github/ssheggrud/Mod_20_Project/blob/05_Riley/2013_Contributions.ipynb\" target=\"_parent\"><img src=\"https://colab.research.google.com/assets/colab-badge.svg\" alt=\"Open In Colab\"/></a>"
      ]
    },
    {
      "cell_type": "markdown",
      "metadata": {
        "id": "qo0_SOu8LIEc"
      },
      "source": [
        "## **2013 Indivdual Contributions**"
      ]
    },
    {
      "cell_type": "code",
      "metadata": {
        "colab": {
          "base_uri": "https://localhost:8080/"
        },
        "id": "ddn5mqQ0M_R3",
        "outputId": "cbb8bace-d7dc-4a0c-f3d5-cade5f846cdb"
      },
      "source": [
        "import os\n",
        "# Find the latest version of spark 3.0 from http://www.apache.org/dist/spark/ and enter as the spark version\n",
        "# For example:\n",
        "spark_version = 'spark-3.0.3'\n",
        "#spark_version = 'spark-2.4.8'\n",
        "os.environ['SPARK_VERSION']=spark_version\n",
        "\n",
        "# Install Spark and Java\n",
        "!apt-get update\n",
        "!apt-get install openjdk-11-jdk-headless -qq > /dev/null\n",
        "!wget -q http://www.apache.org/dist/spark/$SPARK_VERSION/$SPARK_VERSION-bin-hadoop2.7.tgz\n",
        "!tar xf $SPARK_VERSION-bin-hadoop2.7.tgz\n",
        "!pip install -q findspark\n",
        "\n",
        "# Set Environment Variables\n",
        "import os\n",
        "os.environ[\"JAVA_HOME\"] = \"/usr/lib/jvm/java-11-openjdk-amd64\"\n",
        "os.environ[\"SPARK_HOME\"] = f\"/content/{spark_version}-bin-hadoop2.7\"\n",
        "\n",
        "# Start a SparkSession\n",
        "import findspark\n",
        "findspark.init()\n",
        "\n",
        "import pandas as pd\n"
      ],
      "execution_count": 1,
      "outputs": [
        {
          "output_type": "stream",
          "name": "stdout",
          "text": [
            "\r0% [Working]\r            \rHit:1 http://security.ubuntu.com/ubuntu bionic-security InRelease\n",
            "Ign:2 https://developer.download.nvidia.com/compute/cuda/repos/ubuntu1804/x86_64  InRelease\n",
            "Hit:3 http://ppa.launchpad.net/c2d4u.team/c2d4u4.0+/ubuntu bionic InRelease\n",
            "Ign:4 https://developer.download.nvidia.com/compute/machine-learning/repos/ubuntu1804/x86_64  InRelease\n",
            "Hit:5 https://developer.download.nvidia.com/compute/cuda/repos/ubuntu1804/x86_64  Release\n",
            "Hit:6 http://archive.ubuntu.com/ubuntu bionic InRelease\n",
            "Hit:7 https://developer.download.nvidia.com/compute/machine-learning/repos/ubuntu1804/x86_64  Release\n",
            "Hit:8 http://archive.ubuntu.com/ubuntu bionic-updates InRelease\n",
            "Hit:9 http://ppa.launchpad.net/cran/libgit2/ubuntu bionic InRelease\n",
            "Hit:10 http://archive.ubuntu.com/ubuntu bionic-backports InRelease\n",
            "Hit:11 https://cloud.r-project.org/bin/linux/ubuntu bionic-cran40/ InRelease\n",
            "Hit:12 http://ppa.launchpad.net/deadsnakes/ppa/ubuntu bionic InRelease\n",
            "Hit:13 http://ppa.launchpad.net/graphics-drivers/ppa/ubuntu bionic InRelease\n",
            "Reading package lists... Done\n"
          ]
        }
      ]
    },
    {
      "cell_type": "code",
      "metadata": {
        "id": "jiP19KLKCpxR"
      },
      "source": [
        "import findspark\n",
        "findspark.add_packages('mysql:mysql-connector-java:8.0.11')"
      ],
      "execution_count": 2,
      "outputs": []
    },
    {
      "cell_type": "code",
      "metadata": {
        "colab": {
          "base_uri": "https://localhost:8080/"
        },
        "id": "B9Dd_JabNFZU",
        "outputId": "ba1b1eaf-3c14-4f7c-854b-b541b999bcb9"
      },
      "source": [
        "# Download the Postgres driver that will allow Spark to interact with Postgres.\n",
        "!wget https://jdbc.postgresql.org/download/postgresql-42.2.16.jar"
      ],
      "execution_count": 3,
      "outputs": [
        {
          "output_type": "stream",
          "name": "stdout",
          "text": [
            "--2021-09-14 23:03:58--  https://jdbc.postgresql.org/download/postgresql-42.2.16.jar\n",
            "Resolving jdbc.postgresql.org (jdbc.postgresql.org)... 72.32.157.228, 2001:4800:3e1:1::228\n",
            "Connecting to jdbc.postgresql.org (jdbc.postgresql.org)|72.32.157.228|:443... connected.\n",
            "HTTP request sent, awaiting response... 200 OK\n",
            "Length: 1002883 (979K) [application/java-archive]\n",
            "Saving to: ‘postgresql-42.2.16.jar.1’\n",
            "\n",
            "postgresql-42.2.16. 100%[===================>] 979.38K  --.-KB/s    in 0.1s    \n",
            "\n",
            "2021-09-14 23:03:59 (9.92 MB/s) - ‘postgresql-42.2.16.jar.1’ saved [1002883/1002883]\n",
            "\n"
          ]
        }
      ]
    },
    {
      "cell_type": "code",
      "metadata": {
        "id": "VrvolWKMNFbe"
      },
      "source": [
        "# Start Spark session\n",
        "#from pyspark.sql import SparkSession\n",
        "#from pyspark.sql.functions import col\n",
        "#spark = SparkSession.builder.appName(\"FinalProject\").getOrCreate()"
      ],
      "execution_count": 4,
      "outputs": []
    },
    {
      "cell_type": "code",
      "metadata": {
        "id": "M9RnA4W6GDS6"
      },
      "source": [
        "from pyspark.sql import SparkSession\n",
        "spark = SparkSession.builder.appName(\"CloudETL\").config(\"spark.driver.extraClassPath\",\"/content/postgresql-42.2.16.jar\").getOrCreate()"
      ],
      "execution_count": 5,
      "outputs": []
    },
    {
      "cell_type": "code",
      "metadata": {
        "colab": {
          "base_uri": "https://localhost:8080/"
        },
        "id": "W2uxnkAjNFeD",
        "outputId": "81a99eb8-f6dd-4269-e12d-f1f61002fb79"
      },
      "source": [
        "# Read in data from S3 Buckets\n",
        "from pyspark import SparkFiles\n",
        "url = \"https://databootcamp-final-05.s3.amazonaws.com/Resources/Individual+Contributions+2013+(UF).csv\"\n",
        "spark.sparkContext.addFile(url)\n",
        "df = spark.read.csv(SparkFiles.get(\"Individual+Contributions+2013+(UF).csv\"), sep=\",\", header=True)\n",
        "df.show()"
      ],
      "execution_count": 6,
      "outputs": [
        {
          "output_type": "stream",
          "name": "stdout",
          "text": [
            "+--------+--------+-------+--------+------------------+---------+------+--------+------+----------+--------+---------+----------+-------------------+------+-----+-------+---------+---------+-----------------+-----+-----+--------------+--------------------+--------+------------------+---------------+--------+----+---------+--------+----------+--------+----------+--------+--------+--------+-------+-----+------+----------+----------+----------+----------+--------+---------+---------+--------+---------+------+-------+----------+\n",
            "|ELECTION|OFFICECD|RECIPID|CANCLASS|         RECIPNAME|COMMITTEE|FILING|SCHEDULE|PAGENO|SEQUENCENO|   REFNO|     DATE|REFUNDDATE|               NAME|C_CODE|STRNO|STRNAME|APARTMENT|BOROUGHCD|             CITY|STATE|  ZIP|    OCCUPATION|             EMPNAME|EMPSTRNO|        EMPSTRNAME|        EMPCITY|EMPSTATE|AMNT|MATCHAMNT|PREVAMNT|PAY_METHOD|INTERMNO|INTERMNAME|INTSTRNO|INTSTRNM|INTAPTNO|INTCITY|INTST|INTZIP|INTEMPNAME|INTEMPSTNO|INTEMPSTNM|INTEMPCITY|INTEMPST|INTOCCUPA|PURPOSECD|EXEMPTCD|ADJTYPECD|RR_IND|SEG_IND|INT_C_CODE|\n",
            "+--------+--------+-------+--------+------------------+---------+------+--------+------+----------+--------+---------+----------+-------------------+------+-----+-------+---------+---------+-----------------+-----+-----+--------------+--------------------+--------+------------------+---------------+--------+----+---------+--------+----------+--------+----------+--------+--------+--------+-------+-----+------+----------+----------+----------+----------+--------+---------+---------+--------+---------+------+-------+----------+\n",
            "|    2013|       5|   1008|       P|Peterson, Daniel P|        I|     5|     ABC|  null|      null|R0000018|3/11/2012|      null|   Haywood, David B|   IND| null|   null|     null|        X|            Bronx|   NY|10458|     President|          SnarkMedia|     151|      First Avenue|       New York|      NY|  20|       20|       0|         4|    null|      null|    null|    null|    null|   null| null|  null|      null|      null|      null|      null|    null|     null|     null|    null|     null|     N|      N|      null|\n",
            "|    2013|       5|   1008|       P|Peterson, Daniel P|        I|     5|     ABC|  null|      null|R0000021| 3/6/2012|      null|      Herlihy, Neil|   IND| null|   null|     null|        Z|       Hunnington|   NY|11746|       Retired|                null|    null|              null|           null|    null|  25|        0|       0|         2|    null|      null|    null|    null|    null|   null| null|  null|      null|      null|      null|      null|    null|     null|     null|    null|     null|     N|      N|      null|\n",
            "|    2013|       5|   1008|       P|Peterson, Daniel P|        I|     5|     ABC|  null|      null|R0000023| 3/5/2012|      null|       Iocca, Karen|   IND| null|   null|     null|        Z|           Hobken|   NJ| 7030|    Unemployed|                null|    null|              null|           null|    null|  25|        0|       0|         2|    null|      null|    null|    null|    null|   null| null|  null|      null|      null|      null|      null|    null|     null|     null|    null|     null|     N|      N|      null|\n",
            "|    2013|       5|   1008|       P|Peterson, Daniel P|        I|     5|     ABC|  null|      null|R0000025| 3/6/2012|      null|   Lewenberg, Ilana|   IND| null|   null|     null|        M|         New York|   NY|10065|Vice President|      Lewenberg, LLC|     184|  East 70th Street|       New York|      NY|  25|       25|       0|         2|    null|      null|    null|    null|    null|   null| null|  null|      null|      null|      null|      null|    null|     null|     null|    null|     null|     N|      N|      null|\n",
            "|    2013|       5|   1008|       P|Peterson, Daniel P|        I|     5|     ABC|  null|      null|R0000027| 3/5/2012|      null|     Tolani, Sanjay|   IND| null|   null|     null|        M|         New York|   NY|10023|Head of NA Ops|      3i Infotech WE|      55|      Broad Street|       New York|      NY| 200|      175|       0|         2|    null|      null|    null|    null|    null|   null| null|  null|      null|      null|      null|      null|    null|     null|     null|    null|     null|     N|      N|      null|\n",
            "|    2013|       5|   1008|       P|Peterson, Daniel P|        I|     5|     ABC|  null|      null|R0000031| 6/7/2012|      null|    Viguola, Louise|   IND| null|   null|     null|        Q|         Woodside|   NY|11377|       Manager|               Segal|     333|  West 34th Street|       New York|      NY|  60|       60|       0|         1|    null|      null|    null|    null|    null|   null| null|  null|      null|      null|      null|      null|    null|     null|     null|    null|     null|     N|      N|      null|\n",
            "|    2013|       5|   1008|       P|Peterson, Daniel P|        I|     5|     ABC|  null|      null|R0000033| 6/7/2012|      null|       Stone, Jared|   IND| null|   null|     null|        M|         New York|   NY|10028|       Student|                null|    null|              null|           null|    null|  40|       40|       0|         1|    null|      null|    null|    null|    null|   null| null|  null|      null|      null|      null|      null|    null|     null|     null|    null|     null|     N|      N|      null|\n",
            "|    2013|       5|   1008|       P|Peterson, Daniel P|        I|     5|     ABC|  null|      null|R0000036| 6/7/2012|      null|   Kronenberg, Mark|   IND| null|   null|     null|        Q|  Oakland Gardens|   NY|11364|      Director|     Math 1-2-3 Inc.|   48-30|      201st Street|Oakland Gardens|      NY|  25|       25|       0|         1|    null|      null|    null|    null|    null|   null| null|  null|      null|      null|      null|      null|    null|     null|     null|    null|     null|     N|      N|      null|\n",
            "|    2013|       5|   1008|       P|Peterson, Daniel P|        I|     5|     ABC|  null|      null|R0000038| 6/7/2012|      null|       Heslin, Owen|   IND| null|   null|     null|        X|            Bronx|   NY|10451|        Lawyer|       Self-Employed|    null|              null|          Bronx|      NY|  25|       25|      20|         1|    null|      null|    null|    null|    null|   null| null|  null|      null|      null|      null|      null|    null|     null|     null|    null|     null|     N|      N|      null|\n",
            "|    2013|       5|   1008|       P|Peterson, Daniel P|        I|     5|     ABC|  null|      null|R0000040| 6/7/2012|      null|      Perry, Gerard|   IND| null|   null|     null|        S|    Staten Island|   NY|10304|    Unemployed|                null|    null|              null|           null|    null|  25|       25|       0|         1|    null|      null|    null|    null|    null|   null| null|  null|      null|      null|      null|      null|    null|     null|     null|    null|     null|     N|      N|      null|\n",
            "|    2013|       5|   1008|       P|Peterson, Daniel P|        I|     5|     ABC|  null|      null|R0000042| 6/7/2012|      null|     Chandra, Ashok|   IND| null|   null|     null|        Q| Long Island City|   NY|11109|      Attorney|       Bloomberg LLP|     731|  Lexington Avenue|       New York|      NY|  25|       25|      60|         1|    null|      null|    null|    null|    null|   null| null|  null|      null|      null|      null|      null|    null|     null|     null|    null|     null|     N|      N|      null|\n",
            "|    2013|       5|   1008|       P|Peterson, Daniel P|        I|     5|     ABC|  null|      null|R0000046| 6/7/2012|      null|          Ashe, Dan|   IND| null|   null|     null|        Q| Long Island City|   NY|11109|        Lawyer|Patterson Belknap...|    1153|Avenue of Americas|       New York|      NY| 100|      100|       0|         2|    null|      null|    null|    null|    null|   null| null|  null|      null|      null|      null|      null|    null|     null|     null|    null|     null|     N|      N|      null|\n",
            "|    2013|       5|   1008|       P|Peterson, Daniel P|        I|     5|     ABC|  null|      null|R0000048|6/17/2012|      null|      Yurcan, Bryan|   IND| null|   null|     null|        Z|Hasbrouck Heights|   NJ| 7604|          null|                 VBM|     240|  West 35th Street|       New York|      NY|  20|        0|       0|         2|    null|      null|    null|    null|    null|   null| null|  null|      null|      null|      null|      null|    null|     null|     null|    null|     null|     N|      N|      null|\n",
            "|    2013|       5|   1008|       P|Peterson, Daniel P|        I|     5|     ABC|  null|      null|R0000050| 6/7/2012|      null|  Bigelow, Margaret|   IND| null|   null|     null|        Q|          Astoria|   NY|11103|  Adminstrator|New Leaf Venture ...|       7|      Times Square|       New York|      NY|  25|       25|       0|         2|    null|      null|    null|    null|    null|   null| null|  null|      null|      null|      null|      null|    null|     null|     null|    null|     null|     N|      N|      null|\n",
            "|    2013|       5|   1008|       P|Peterson, Daniel P|        I|     5|     ABC|  null|      null|R0000052| 6/7/2012|      null|       Lewis, Harry|   IND| null|   null|     null|        X|     Pelham Manor|   NY|10803|        Lawyer|       Self Employed|    null|              null|       New York|      NY| 100|      100|       0|         2|    null|      null|    null|    null|    null|   null| null|  null|      null|      null|      null|      null|    null|     null|     null|    null|     null|     N|      N|      null|\n",
            "|    2013|       5|   1008|       P|Peterson, Daniel P|        I|     5|     ABC|  null|      null|R0000053|3/13/2012|      null|       Heslin, Owen|   IND| null|   null|     null|        X|            Bronx|   NY|10451|        Lawyer|       Self-Employed|    null|              null|          Bronx|      NY|  20|       20|       0|         4|    null|      null|    null|    null|    null|   null| null|  null|      null|      null|      null|      null|    null|     null|     null|    null|     null|     N|      N|      null|\n",
            "|    2013|       5|   1008|       P|Peterson, Daniel P|        I|     5|     ABC|  null|      null|R0000055|3/15/2012|      null|      Rincker, Cari|   IND| null|   null|     null|        M|         New York|   NY|10024|        Lawyer|   Rincker Law, PLLC|     535|      Fifth Avenue|       New York|      NY|  30|       30|       0|         4|    null|      null|    null|    null|    null|   null| null|  null|      null|      null|      null|      null|    null|     null|     null|    null|     null|     N|      N|      null|\n",
            "|    2013|       5|   1008|       P|Peterson, Daniel P|        I|     5|     ABC|  null|      null|R0000057|3/19/2012|      null|  LaVerghetta, Dino|   IND| null|   null|     null|        M|         New York|   NY|10065|        Lawyer|Debevoise & Plimp...|     919|      Third Avenue|       New York|      NY|  50|       50|       0|         4|    null|      null|    null|    null|    null|   null| null|  null|      null|      null|      null|      null|    null|     null|     null|    null|     null|     N|      N|      null|\n",
            "|    2013|       5|   1008|       P|Peterson, Daniel P|        I|     5|     ABC|  null|      null|R0000059|4/11/2012|      null|     Chandra, Ashok|   IND| null|   null|     null|        Q| Long Island City|   NY|11109|      Attorney|       Bloomberg LLP|     731|  Lexington Avenue|       New York|      NY|  60|       60|       0|         4|    null|      null|    null|    null|    null|   null| null|  null|      null|      null|      null|      null|    null|     null|     null|    null|     null|     N|      N|      null|\n",
            "|    2013|       5|   1008|       P|Peterson, Daniel P|        I|     5|     ABC|  null|      null|R0000061|3/20/2012|      null|Greenberg, Samuel J|   IND| null|   null|     null|        Q|      Little Neck|   NY|11363|       Retired|  United States Navy|    null|              null|    Little Neck|      NY|  25|       25|       0|         4|    null|      null|    null|    null|    null|   null| null|  null|      null|      null|      null|      null|    null|     null|     null|    null|     null|     N|      N|      null|\n",
            "+--------+--------+-------+--------+------------------+---------+------+--------+------+----------+--------+---------+----------+-------------------+------+-----+-------+---------+---------+-----------------+-----+-----+--------------+--------------------+--------+------------------+---------------+--------+----+---------+--------+----------+--------+----------+--------+--------+--------+-------+-----+------+----------+----------+----------+----------+--------+---------+---------+--------+---------+------+-------+----------+\n",
            "only showing top 20 rows\n",
            "\n"
          ]
        }
      ]
    },
    {
      "cell_type": "code",
      "metadata": {
        "colab": {
          "base_uri": "https://localhost:8080/"
        },
        "id": "e2cRNc4wNFgt",
        "outputId": "7fd0f6c3-340d-43f5-aa08-a301b63b787d"
      },
      "source": [
        "# Remove multiple columns\n",
        "list = ['COMMITTEE', 'FILING', 'SCHEDULE', 'PAGENO', 'SEQUENCENO','REFNO', 'STRNO', 'STRNAME', 'APARTMENT', 'OCCUPATION', 'EMPNAME', 'EMPSTRNO', 'EMPSTRNAME',\n",
        "                'EMPCITY','INTERMNO', 'REFUNDDATE', 'INTERMNAME', 'INTSTRNO', 'INTSTRNM', 'INTSTRNM', 'INTAPTNO',\n",
        "                'INTCITY', 'INTST','INTZIP', 'INTEMPNAME', 'INTEMPSTNO', 'INTEMPSTNM', 'INTEMPCITY', 'INTEMPST', 'INTOCCUPA' ,'PURPOSECD', 'EXEMPTCD','ADJTYPECD', 'RR_IND', 'SEG_IND','INT_C_CODE'] \n",
        "df = df.drop(*list)\n",
        "df.show()"
      ],
      "execution_count": 7,
      "outputs": [
        {
          "output_type": "stream",
          "name": "stdout",
          "text": [
            "+--------+--------+-------+--------+------------------+---------+-------------------+------+---------+-----------------+-----+-----+--------+----+---------+--------+----------+\n",
            "|ELECTION|OFFICECD|RECIPID|CANCLASS|         RECIPNAME|     DATE|               NAME|C_CODE|BOROUGHCD|             CITY|STATE|  ZIP|EMPSTATE|AMNT|MATCHAMNT|PREVAMNT|PAY_METHOD|\n",
            "+--------+--------+-------+--------+------------------+---------+-------------------+------+---------+-----------------+-----+-----+--------+----+---------+--------+----------+\n",
            "|    2013|       5|   1008|       P|Peterson, Daniel P|3/11/2012|   Haywood, David B|   IND|        X|            Bronx|   NY|10458|      NY|  20|       20|       0|         4|\n",
            "|    2013|       5|   1008|       P|Peterson, Daniel P| 3/6/2012|      Herlihy, Neil|   IND|        Z|       Hunnington|   NY|11746|    null|  25|        0|       0|         2|\n",
            "|    2013|       5|   1008|       P|Peterson, Daniel P| 3/5/2012|       Iocca, Karen|   IND|        Z|           Hobken|   NJ| 7030|    null|  25|        0|       0|         2|\n",
            "|    2013|       5|   1008|       P|Peterson, Daniel P| 3/6/2012|   Lewenberg, Ilana|   IND|        M|         New York|   NY|10065|      NY|  25|       25|       0|         2|\n",
            "|    2013|       5|   1008|       P|Peterson, Daniel P| 3/5/2012|     Tolani, Sanjay|   IND|        M|         New York|   NY|10023|      NY| 200|      175|       0|         2|\n",
            "|    2013|       5|   1008|       P|Peterson, Daniel P| 6/7/2012|    Viguola, Louise|   IND|        Q|         Woodside|   NY|11377|      NY|  60|       60|       0|         1|\n",
            "|    2013|       5|   1008|       P|Peterson, Daniel P| 6/7/2012|       Stone, Jared|   IND|        M|         New York|   NY|10028|    null|  40|       40|       0|         1|\n",
            "|    2013|       5|   1008|       P|Peterson, Daniel P| 6/7/2012|   Kronenberg, Mark|   IND|        Q|  Oakland Gardens|   NY|11364|      NY|  25|       25|       0|         1|\n",
            "|    2013|       5|   1008|       P|Peterson, Daniel P| 6/7/2012|       Heslin, Owen|   IND|        X|            Bronx|   NY|10451|      NY|  25|       25|      20|         1|\n",
            "|    2013|       5|   1008|       P|Peterson, Daniel P| 6/7/2012|      Perry, Gerard|   IND|        S|    Staten Island|   NY|10304|    null|  25|       25|       0|         1|\n",
            "|    2013|       5|   1008|       P|Peterson, Daniel P| 6/7/2012|     Chandra, Ashok|   IND|        Q| Long Island City|   NY|11109|      NY|  25|       25|      60|         1|\n",
            "|    2013|       5|   1008|       P|Peterson, Daniel P| 6/7/2012|          Ashe, Dan|   IND|        Q| Long Island City|   NY|11109|      NY| 100|      100|       0|         2|\n",
            "|    2013|       5|   1008|       P|Peterson, Daniel P|6/17/2012|      Yurcan, Bryan|   IND|        Z|Hasbrouck Heights|   NJ| 7604|      NY|  20|        0|       0|         2|\n",
            "|    2013|       5|   1008|       P|Peterson, Daniel P| 6/7/2012|  Bigelow, Margaret|   IND|        Q|          Astoria|   NY|11103|      NY|  25|       25|       0|         2|\n",
            "|    2013|       5|   1008|       P|Peterson, Daniel P| 6/7/2012|       Lewis, Harry|   IND|        X|     Pelham Manor|   NY|10803|      NY| 100|      100|       0|         2|\n",
            "|    2013|       5|   1008|       P|Peterson, Daniel P|3/13/2012|       Heslin, Owen|   IND|        X|            Bronx|   NY|10451|      NY|  20|       20|       0|         4|\n",
            "|    2013|       5|   1008|       P|Peterson, Daniel P|3/15/2012|      Rincker, Cari|   IND|        M|         New York|   NY|10024|      NY|  30|       30|       0|         4|\n",
            "|    2013|       5|   1008|       P|Peterson, Daniel P|3/19/2012|  LaVerghetta, Dino|   IND|        M|         New York|   NY|10065|      NY|  50|       50|       0|         4|\n",
            "|    2013|       5|   1008|       P|Peterson, Daniel P|4/11/2012|     Chandra, Ashok|   IND|        Q| Long Island City|   NY|11109|      NY|  60|       60|       0|         4|\n",
            "|    2013|       5|   1008|       P|Peterson, Daniel P|3/20/2012|Greenberg, Samuel J|   IND|        Q|      Little Neck|   NY|11363|      NY|  25|       25|       0|         4|\n",
            "+--------+--------+-------+--------+------------------+---------+-------------------+------+---------+-----------------+-----+-----+--------+----+---------+--------+----------+\n",
            "only showing top 20 rows\n",
            "\n"
          ]
        }
      ]
    },
    {
      "cell_type": "code",
      "metadata": {
        "colab": {
          "base_uri": "https://localhost:8080/"
        },
        "id": "g5aiRN5RNFjB",
        "outputId": "8cc14e2a-0424-4104-c7fe-46441825e22a"
      },
      "source": [
        "# check data types\n",
        "df.dtypes"
      ],
      "execution_count": 8,
      "outputs": [
        {
          "output_type": "execute_result",
          "data": {
            "text/plain": [
              "[('ELECTION', 'string'),\n",
              " ('OFFICECD', 'string'),\n",
              " ('RECIPID', 'string'),\n",
              " ('CANCLASS', 'string'),\n",
              " ('RECIPNAME', 'string'),\n",
              " ('DATE', 'string'),\n",
              " ('NAME', 'string'),\n",
              " ('C_CODE', 'string'),\n",
              " ('BOROUGHCD', 'string'),\n",
              " ('CITY', 'string'),\n",
              " ('STATE', 'string'),\n",
              " ('ZIP', 'string'),\n",
              " ('EMPSTATE', 'string'),\n",
              " ('AMNT', 'string'),\n",
              " ('MATCHAMNT', 'string'),\n",
              " ('PREVAMNT', 'string'),\n",
              " ('PAY_METHOD', 'string')]"
            ]
          },
          "metadata": {},
          "execution_count": 8
        }
      ]
    },
    {
      "cell_type": "code",
      "metadata": {
        "colab": {
          "base_uri": "https://localhost:8080/"
        },
        "id": "tIkq3wdqOzWV",
        "outputId": "57ffb222-6b2d-4aa9-f418-fe94889a821f"
      },
      "source": [
        "#Change column names\n",
        "df1 = df \\\n",
        ".withColumnRenamed(\"ELECTION\", \"Election\") \\\n",
        ".withColumnRenamed(\"RECIPID\", \"CandidateID\") \\\n",
        ".withColumnRenamed(\"RECIPNAME\", \"CandidateName\") \\\n",
        ".withColumnRenamed(\"DATE\", \"Date\") \\\n",
        ".withColumnRenamed(\"NAME\", \"Name\") \\\n",
        ".withColumnRenamed(\"C_CODE\", \"ContributerType\") \\\n",
        ".withColumnRenamed(\"BOROUGHCD\", \"BoroughName\") \\\n",
        ".withColumnRenamed(\"CITY\", \"City\") \\\n",
        ".withColumnRenamed(\"STATE\", \"State\") \\\n",
        ".withColumnRenamed(\"ZIP\", \"ZipCode\") \\\n",
        ".withColumnRenamed(\"EMPSTATE\", \"ContributionState\") \\\n",
        ".withColumnRenamed(\"AMNT\", \"Amount\") \\\n",
        ".withColumnRenamed(\"MATCHAMNT\", \"MatchAmt\") \\\n",
        ".withColumnRenamed(\"PREVAMNT\", \"PrevAmt\") \\\n",
        ".withColumnRenamed(\"PAY_METHOD\", \"PayMethod\")\n",
        "\n",
        "\n",
        "df1.printSchema()"
      ],
      "execution_count": 9,
      "outputs": [
        {
          "output_type": "stream",
          "name": "stdout",
          "text": [
            "root\n",
            " |-- Election: string (nullable = true)\n",
            " |-- OFFICECD: string (nullable = true)\n",
            " |-- CandidateID: string (nullable = true)\n",
            " |-- CANCLASS: string (nullable = true)\n",
            " |-- CandidateName: string (nullable = true)\n",
            " |-- Date: string (nullable = true)\n",
            " |-- Name: string (nullable = true)\n",
            " |-- ContributerType: string (nullable = true)\n",
            " |-- BoroughName: string (nullable = true)\n",
            " |-- City: string (nullable = true)\n",
            " |-- State: string (nullable = true)\n",
            " |-- ZipCode: string (nullable = true)\n",
            " |-- ContributionState: string (nullable = true)\n",
            " |-- Amount: string (nullable = true)\n",
            " |-- MatchAmt: string (nullable = true)\n",
            " |-- PrevAmt: string (nullable = true)\n",
            " |-- PayMethod: string (nullable = true)\n",
            "\n"
          ]
        }
      ]
    },
    {
      "cell_type": "code",
      "metadata": {
        "id": "5p5HwOCEjlsd"
      },
      "source": [
        "from datetime import datetime\n",
        "from pyspark.sql.functions import col, udf\n",
        "from pyspark.sql.types import DateType"
      ],
      "execution_count": 10,
      "outputs": []
    },
    {
      "cell_type": "code",
      "metadata": {
        "colab": {
          "base_uri": "https://localhost:8080/"
        },
        "id": "dbyFIRMwjlzM",
        "outputId": "3ac7d749-bbed-4c69-9ba1-e04ae088137a"
      },
      "source": [
        "# using lambda function to convert date col to datetype\n",
        "# changing datatypes of columns\n",
        "func =  udf (lambda x: datetime.strptime(x, '%m/%d/%Y'), DateType())\n",
        "df2 = df1.withColumn(\"Election\", df1[\"Election\"].cast(\"Integer\")) \\\n",
        "  .withColumn(\"OFFICECD\", df1[\"OFFICECD\"].cast(\"Integer\")) \\\n",
        "  .withColumn(\"CandidateID\", df1[\"CandidateID\"].cast(\"Integer\")) \\\n",
        "  .withColumn(\"ZipCode\", df1[\"ZipCode\"].cast(\"Integer\")) \\\n",
        "  .withColumn(\"Amount\", df1[\"Amount\"].cast(\"Float\")) \\\n",
        "  .withColumn(\"MatchAmt\", df1[\"MatchAmt\"].cast(\"Float\")) \\\n",
        "  .withColumn(\"PrevAmt\", df1[\"PrevAmt\"].cast(\"Float\")) \\\n",
        "  .withColumn('Date', func(col('Date')))\n",
        "df2.printSchema()"
      ],
      "execution_count": 11,
      "outputs": [
        {
          "output_type": "stream",
          "name": "stdout",
          "text": [
            "root\n",
            " |-- Election: integer (nullable = true)\n",
            " |-- OFFICECD: integer (nullable = true)\n",
            " |-- CandidateID: integer (nullable = true)\n",
            " |-- CANCLASS: string (nullable = true)\n",
            " |-- CandidateName: string (nullable = true)\n",
            " |-- Date: date (nullable = true)\n",
            " |-- Name: string (nullable = true)\n",
            " |-- ContributerType: string (nullable = true)\n",
            " |-- BoroughName: string (nullable = true)\n",
            " |-- City: string (nullable = true)\n",
            " |-- State: string (nullable = true)\n",
            " |-- ZipCode: integer (nullable = true)\n",
            " |-- ContributionState: string (nullable = true)\n",
            " |-- Amount: float (nullable = true)\n",
            " |-- MatchAmt: float (nullable = true)\n",
            " |-- PrevAmt: float (nullable = true)\n",
            " |-- PayMethod: string (nullable = true)\n",
            "\n"
          ]
        }
      ]
    },
    {
      "cell_type": "code",
      "metadata": {
        "id": "h1aCPuV3WPwC"
      },
      "source": [
        "#Change vaule name in ContributerType\n",
        "from pyspark.sql.functions import regexp_replace\n",
        "df3 = df2.withColumn('ContributerType', regexp_replace('ContributerType', 'CAN', 'Candidate')) \\\n",
        "  .withColumn('ContributerType', regexp_replace('ContributerType', 'CORP', 'Corporation')) \\\n",
        "  .withColumn('ContributerType', regexp_replace('ContributerType', 'EMPO', 'Labor Union')) \\\n",
        "  .withColumn('ContributerType', regexp_replace('ContributerType', 'FAM', 'Candidate Family')) \\\n",
        "  .withColumn('ContributerType', regexp_replace('ContributerType', 'IND', 'Individual')) \\\n",
        "  .withColumn('ContributerType', regexp_replace('ContributerType', 'PCOMZ', 'Party Committee')) \\\n",
        "  .withColumn('ContributerType', regexp_replace('ContributerType', 'ORG', 'Orgainization')) \\\n",
        "  .withColumn('ContributerType', regexp_replace('ContributerType', 'LLC', 'Limited Liability Company')) \\\n",
        "  .withColumn('ContributerType', regexp_replace('ContributerType', 'PCOMP', 'Political Action Committee')) \\\n",
        "  .withColumn('ContributerType', regexp_replace('ContributerType', 'SPO', 'Spouse')) \\\n",
        "  .withColumn('ContributerType', regexp_replace('ContributerType', 'OTHR', 'Other')) \\\n",
        "  .withColumn('ContributerType', regexp_replace('ContributerType', 'PCOMC', 'Candidate Committee')) \\\n",
        "  .withColumn('ContributerType', regexp_replace('ContributerType', 'PART', 'Individual')) \\\n"
      ],
      "execution_count": 12,
      "outputs": []
    },
    {
      "cell_type": "code",
      "metadata": {
        "id": "EDLKVpihXzJY"
      },
      "source": [
        "#Change Payment Method Name\n",
        "df4=df3.withColumn('PayMethod', regexp_replace('PayMethod','0','Unknown')) \\\n",
        "  .withColumn('PayMethod', regexp_replace('PayMethod','1','Cash')) \\\n",
        "  .withColumn('PayMethod', regexp_replace('PayMethod','2','Check')) \\\n",
        "  .withColumn('PayMethod', regexp_replace('PayMethod','3','Other')) \\\n",
        "  .withColumn('PayMethod', regexp_replace('PayMethod','4','Credit Card')) \\\n",
        "  .withColumn('PayMethod', regexp_replace('PayMethod','5','Money Order')) \\"
      ],
      "execution_count": 13,
      "outputs": []
    },
    {
      "cell_type": "code",
      "metadata": {
        "id": "fy4JAvyQWRl7"
      },
      "source": [
        "#Change Borough name\n",
        "from pyspark.sql.functions import regexp_replace\n",
        "df5 = df4.withColumn('BoroughName', regexp_replace('BoroughName', 'K', 'Brooklyn')) \\\n",
        "  .withColumn('BoroughName', regexp_replace('BoroughName', 'M', 'Manhattan')) \\\n",
        "  .withColumn('BoroughName', regexp_replace('BoroughName', 'Q', 'Queens')) \\\n",
        "  .withColumn('BoroughName', regexp_replace('BoroughName', 'S', 'Staten Island')) \\\n",
        "  .withColumn('BoroughName', regexp_replace('BoroughName', 'X', 'Bronx')) \\\n",
        "  .withColumn('BoroughName', regexp_replace('BoroughName', 'Z', 'Other')) \\\n"
      ],
      "execution_count": 14,
      "outputs": []
    },
    {
      "cell_type": "code",
      "metadata": {
        "colab": {
          "base_uri": "https://localhost:8080/"
        },
        "id": "fM_kC3ViNFqN",
        "outputId": "562c7436-9026-4618-9cb9-92cd2d6c594b"
      },
      "source": [
        "#Call only Mayor (1) and particaptes (P) within Dataframe\n",
        "df6 = df5.filter((df5.OFFICECD==\"1\") & (df5.CANCLASS==\"P\"))\n",
        "df6.show()"
      ],
      "execution_count": 15,
      "outputs": [
        {
          "output_type": "stream",
          "name": "stdout",
          "text": [
            "+--------+--------+-----------+--------+--------------------+----------+-------------------+---------------+-------------+--------------+-----+-------+-----------------+------+--------+-------+-----------+\n",
            "|Election|OFFICECD|CandidateID|CANCLASS|       CandidateName|      Date|               Name|ContributerType|  BoroughName|          City|State|ZipCode|ContributionState|Amount|MatchAmt|PrevAmt|  PayMethod|\n",
            "+--------+--------+-----------+--------+--------------------+----------+-------------------+---------------+-------------+--------------+-----+-------+-----------------+------+--------+-------+-----------+\n",
            "|    2013|       1|       1286|       P|Coenen, Jr., Kevin P|2013-01-25|    Coenen, Kevin P|      Candidate|        Other|     Nesconset|   NY|  11767|               NY|  10.0|     0.0|    0.0|Credit Card|\n",
            "|    2013|       1|       1286|       P|Coenen, Jr., Kevin P|2013-04-17|     Walter, Dorsey|     Individual|    Manhattan|      New York|   NY|  10150|             null| 175.0|   175.0|    0.0|Credit Card|\n",
            "|    2013|       1|       1286|       P|Coenen, Jr., Kevin P|2013-01-25|    Coenen, Kevin P|      Candidate|        Other|     Nesconset|   NY|  11767|             null| -10.0|     0.0|    0.0|    Unknown|\n",
            "|    2013|       1|       1551|       P|     Marks, Philip A|2012-02-13|      Marks, Philip|      Candidate|     Brooklyn|      Brooklyn|   NY|  11236|               NY| 400.0|   175.0|    0.0|      Check|\n",
            "|    2013|       1|       1551|       P|     Marks, Philip A|2013-02-28|      Marks, Philip|      Candidate|     Brooklyn|      Brooklyn|   NY|  11236|               NY| 100.0|     0.0|  400.0|       Cash|\n",
            "|    2013|       1|       1639|       P|Berkowitz, Ceceil...|2013-05-24|         Roc, Stacy|     Individual|        Other|     Uniondale|   NY|  11553|             null|  10.0|     0.0|    0.0|       Cash|\n",
            "|    2013|       1|       1639|       P|Berkowitz, Ceceil...|2013-05-18|         He, Yufeng|     Individual|     Brooklyn|      Brooklyn|   NY|  11220|             null|  10.0|    10.0|    0.0|       Cash|\n",
            "|    2013|       1|       1639|       P|Berkowitz, Ceceil...|2013-05-18|    Yaqoobi, Naseir|     Individual|        Other| Lake Hiawatha|   NJ|   7034|               NJ|  10.0|     0.0|    0.0|       Cash|\n",
            "|    2013|       1|       1639|       P|Berkowitz, Ceceil...|2013-07-12|        Fung, Kevin|     Individual|        Bronx|         Bronx|   NY|  10461|             null|  10.0|    10.0|    0.0|       Cash|\n",
            "|    2013|       1|       1639|       P|Berkowitz, Ceceil...|2013-08-01|Monroe, Christopher|     Individual|        Other|   Mt. Lebanon|   PA|  15228|               NJ|  10.0|     0.0|   10.0|Credit Card|\n",
            "|    2013|       1|       1639|       P|Berkowitz, Ceceil...|2013-07-31|     Beegan, Daniel|     Individual|        Other|   Beech Grove|   IN|  46107|               IN|  10.0|     0.0|    0.0|Credit Card|\n",
            "|    2013|       1|       1639|       P|Berkowitz, Ceceil...|2013-07-29|         Will, Eric|     Individual|        Other|     Knoxville|   TN|  37920|             null|  10.0|     0.0|    0.0|Credit Card|\n",
            "|    2013|       1|       1639|       P|Berkowitz, Ceceil...|2013-07-29|         Will, Eric|     Individual|        Other|     Knoxville|   TN|  37920|             null|  10.0|     0.0|    0.0|Credit Card|\n",
            "|    2013|       1|       1639|       P|Berkowitz, Ceceil...|2013-07-29|Monroe, Christopher|     Individual|        Other|   Mt. Lebanon|   PA|  15228|               NJ|  10.0|     0.0|    0.0|Credit Card|\n",
            "|    2013|       1|       1639|       P|Berkowitz, Ceceil...|2013-07-19|      Judd, Timothy|     Individual|        Other|       Houston|   TX|  77018|             null|  10.0|     0.0|    0.0|Credit Card|\n",
            "|    2013|       1|       1639|       P|Berkowitz, Ceceil...|2013-07-19|    Laohoo, William|     Individual|        Other|East Brunswick|   NJ|   8816|             null|  20.0|     0.0|    0.0|Credit Card|\n",
            "|    2013|       1|       1666|       P|    Salgado, Erick J|2012-12-13|    Acevedo, Alexie|     Individual|        Other|     Brentwood|   NY|  11717|               NY| 100.0|     0.0|    0.0|       Cash|\n",
            "|    2013|       1|       1666|       P|    Salgado, Erick J|2012-12-26|   Salgado, Erick J|      Candidate|Staten Island| Staten Island|   NY|  10302|               NJ|4000.0|   175.0|    0.0|      Check|\n",
            "|    2013|       1|       1666|       P|    Salgado, Erick J|2012-12-14|     Vargas, Lucino|     Individual|     Brooklyn|      Brooklyn|   NY|  11220|               NJ| 500.0|   175.0|    0.0|      Check|\n",
            "|    2013|       1|       1666|       P|    Salgado, Erick J|2012-12-13|    Torres, Marcial|     Individual|        Other|       Matawan|   NJ|   7747|               NJ| 500.0|     0.0|    0.0|      Check|\n",
            "+--------+--------+-----------+--------+--------------------+----------+-------------------+---------------+-------------+--------------+-----+-------+-----------------+------+--------+-------+-----------+\n",
            "only showing top 20 rows\n",
            "\n"
          ]
        }
      ]
    },
    {
      "cell_type": "code",
      "metadata": {
        "colab": {
          "base_uri": "https://localhost:8080/"
        },
        "id": "WmdLbDEzQAyc",
        "outputId": "3e885ae6-ac49-402c-fb86-ef516446f657"
      },
      "source": [
        "#Check the above dataframe to make sure only unique values between the OFFICECD is 1 \n",
        "df6.select('OFFICECD').distinct().show()"
      ],
      "execution_count": 16,
      "outputs": [
        {
          "output_type": "stream",
          "name": "stdout",
          "text": [
            "+--------+\n",
            "|OFFICECD|\n",
            "+--------+\n",
            "|       1|\n",
            "+--------+\n",
            "\n"
          ]
        }
      ]
    },
    {
      "cell_type": "code",
      "metadata": {
        "colab": {
          "base_uri": "https://localhost:8080/"
        },
        "id": "4kbDs5ApZtEu",
        "outputId": "d8e53e92-76a2-402f-b4f5-f1ddc6d55922"
      },
      "source": [
        "#Drop OFFICECD and CANCLASS\n",
        "list2 = ['OFFICECD', 'CANCLASS'] \n",
        "df7 = df6.drop(*list2)\n",
        "df7.show()"
      ],
      "execution_count": 17,
      "outputs": [
        {
          "output_type": "stream",
          "name": "stdout",
          "text": [
            "+--------+-----------+--------------------+----------+-------------------+---------------+-------------+--------------+-----+-------+-----------------+------+--------+-------+-----------+\n",
            "|Election|CandidateID|       CandidateName|      Date|               Name|ContributerType|  BoroughName|          City|State|ZipCode|ContributionState|Amount|MatchAmt|PrevAmt|  PayMethod|\n",
            "+--------+-----------+--------------------+----------+-------------------+---------------+-------------+--------------+-----+-------+-----------------+------+--------+-------+-----------+\n",
            "|    2013|       1286|Coenen, Jr., Kevin P|2013-01-25|    Coenen, Kevin P|      Candidate|        Other|     Nesconset|   NY|  11767|               NY|  10.0|     0.0|    0.0|Credit Card|\n",
            "|    2013|       1286|Coenen, Jr., Kevin P|2013-04-17|     Walter, Dorsey|     Individual|    Manhattan|      New York|   NY|  10150|             null| 175.0|   175.0|    0.0|Credit Card|\n",
            "|    2013|       1286|Coenen, Jr., Kevin P|2013-01-25|    Coenen, Kevin P|      Candidate|        Other|     Nesconset|   NY|  11767|             null| -10.0|     0.0|    0.0|    Unknown|\n",
            "|    2013|       1551|     Marks, Philip A|2012-02-13|      Marks, Philip|      Candidate|     Brooklyn|      Brooklyn|   NY|  11236|               NY| 400.0|   175.0|    0.0|      Check|\n",
            "|    2013|       1551|     Marks, Philip A|2013-02-28|      Marks, Philip|      Candidate|     Brooklyn|      Brooklyn|   NY|  11236|               NY| 100.0|     0.0|  400.0|       Cash|\n",
            "|    2013|       1639|Berkowitz, Ceceil...|2013-05-24|         Roc, Stacy|     Individual|        Other|     Uniondale|   NY|  11553|             null|  10.0|     0.0|    0.0|       Cash|\n",
            "|    2013|       1639|Berkowitz, Ceceil...|2013-05-18|         He, Yufeng|     Individual|     Brooklyn|      Brooklyn|   NY|  11220|             null|  10.0|    10.0|    0.0|       Cash|\n",
            "|    2013|       1639|Berkowitz, Ceceil...|2013-05-18|    Yaqoobi, Naseir|     Individual|        Other| Lake Hiawatha|   NJ|   7034|               NJ|  10.0|     0.0|    0.0|       Cash|\n",
            "|    2013|       1639|Berkowitz, Ceceil...|2013-07-12|        Fung, Kevin|     Individual|        Bronx|         Bronx|   NY|  10461|             null|  10.0|    10.0|    0.0|       Cash|\n",
            "|    2013|       1639|Berkowitz, Ceceil...|2013-08-01|Monroe, Christopher|     Individual|        Other|   Mt. Lebanon|   PA|  15228|               NJ|  10.0|     0.0|   10.0|Credit Card|\n",
            "|    2013|       1639|Berkowitz, Ceceil...|2013-07-31|     Beegan, Daniel|     Individual|        Other|   Beech Grove|   IN|  46107|               IN|  10.0|     0.0|    0.0|Credit Card|\n",
            "|    2013|       1639|Berkowitz, Ceceil...|2013-07-29|         Will, Eric|     Individual|        Other|     Knoxville|   TN|  37920|             null|  10.0|     0.0|    0.0|Credit Card|\n",
            "|    2013|       1639|Berkowitz, Ceceil...|2013-07-29|         Will, Eric|     Individual|        Other|     Knoxville|   TN|  37920|             null|  10.0|     0.0|    0.0|Credit Card|\n",
            "|    2013|       1639|Berkowitz, Ceceil...|2013-07-29|Monroe, Christopher|     Individual|        Other|   Mt. Lebanon|   PA|  15228|               NJ|  10.0|     0.0|    0.0|Credit Card|\n",
            "|    2013|       1639|Berkowitz, Ceceil...|2013-07-19|      Judd, Timothy|     Individual|        Other|       Houston|   TX|  77018|             null|  10.0|     0.0|    0.0|Credit Card|\n",
            "|    2013|       1639|Berkowitz, Ceceil...|2013-07-19|    Laohoo, William|     Individual|        Other|East Brunswick|   NJ|   8816|             null|  20.0|     0.0|    0.0|Credit Card|\n",
            "|    2013|       1666|    Salgado, Erick J|2012-12-13|    Acevedo, Alexie|     Individual|        Other|     Brentwood|   NY|  11717|               NY| 100.0|     0.0|    0.0|       Cash|\n",
            "|    2013|       1666|    Salgado, Erick J|2012-12-26|   Salgado, Erick J|      Candidate|Staten Island| Staten Island|   NY|  10302|               NJ|4000.0|   175.0|    0.0|      Check|\n",
            "|    2013|       1666|    Salgado, Erick J|2012-12-14|     Vargas, Lucino|     Individual|     Brooklyn|      Brooklyn|   NY|  11220|               NJ| 500.0|   175.0|    0.0|      Check|\n",
            "|    2013|       1666|    Salgado, Erick J|2012-12-13|    Torres, Marcial|     Individual|        Other|       Matawan|   NJ|   7747|               NJ| 500.0|     0.0|    0.0|      Check|\n",
            "+--------+-----------+--------------------+----------+-------------------+---------------+-------------+--------------+-----+-------+-----------------+------+--------+-------+-----------+\n",
            "only showing top 20 rows\n",
            "\n"
          ]
        }
      ]
    },
    {
      "cell_type": "code",
      "metadata": {
        "id": "j4uude7r_d_-"
      },
      "source": [
        "#Filter Dataframe removing the null CandidateID values\n",
        "df8 = df7.filter(df7.CandidateID.isNotNull())"
      ],
      "execution_count": 18,
      "outputs": []
    },
    {
      "cell_type": "code",
      "metadata": {
        "colab": {
          "base_uri": "https://localhost:8080/"
        },
        "id": "jKdRMcW-9mtO",
        "outputId": "1500c170-fd12-46ac-8d07-2af20743ba4c"
      },
      "source": [
        "# ADD AMNT and MATCHAMNT PrevAmnt\n",
        "from pyspark.sql.functions import col\n",
        "clean_indiv_2013_df = df8.withColumn(\"TotalAmount\", col(\"Amount\")+col(\"MatchAmt\")+col('PrevAmt'))\n",
        "clean_indiv_2013_df.show()"
      ],
      "execution_count": 19,
      "outputs": [
        {
          "output_type": "stream",
          "name": "stdout",
          "text": [
            "+--------+-----------+--------------------+----------+-------------------+---------------+-------------+--------------+-----+-------+-----------------+------+--------+-------+-----------+-----------+\n",
            "|Election|CandidateID|       CandidateName|      Date|               Name|ContributerType|  BoroughName|          City|State|ZipCode|ContributionState|Amount|MatchAmt|PrevAmt|  PayMethod|TotalAmount|\n",
            "+--------+-----------+--------------------+----------+-------------------+---------------+-------------+--------------+-----+-------+-----------------+------+--------+-------+-----------+-----------+\n",
            "|    2013|       1286|Coenen, Jr., Kevin P|2013-01-25|    Coenen, Kevin P|      Candidate|        Other|     Nesconset|   NY|  11767|               NY|  10.0|     0.0|    0.0|Credit Card|       10.0|\n",
            "|    2013|       1286|Coenen, Jr., Kevin P|2013-04-17|     Walter, Dorsey|     Individual|    Manhattan|      New York|   NY|  10150|             null| 175.0|   175.0|    0.0|Credit Card|      350.0|\n",
            "|    2013|       1286|Coenen, Jr., Kevin P|2013-01-25|    Coenen, Kevin P|      Candidate|        Other|     Nesconset|   NY|  11767|             null| -10.0|     0.0|    0.0|    Unknown|      -10.0|\n",
            "|    2013|       1551|     Marks, Philip A|2012-02-13|      Marks, Philip|      Candidate|     Brooklyn|      Brooklyn|   NY|  11236|               NY| 400.0|   175.0|    0.0|      Check|      575.0|\n",
            "|    2013|       1551|     Marks, Philip A|2013-02-28|      Marks, Philip|      Candidate|     Brooklyn|      Brooklyn|   NY|  11236|               NY| 100.0|     0.0|  400.0|       Cash|      500.0|\n",
            "|    2013|       1639|Berkowitz, Ceceil...|2013-05-24|         Roc, Stacy|     Individual|        Other|     Uniondale|   NY|  11553|             null|  10.0|     0.0|    0.0|       Cash|       10.0|\n",
            "|    2013|       1639|Berkowitz, Ceceil...|2013-05-18|         He, Yufeng|     Individual|     Brooklyn|      Brooklyn|   NY|  11220|             null|  10.0|    10.0|    0.0|       Cash|       20.0|\n",
            "|    2013|       1639|Berkowitz, Ceceil...|2013-05-18|    Yaqoobi, Naseir|     Individual|        Other| Lake Hiawatha|   NJ|   7034|               NJ|  10.0|     0.0|    0.0|       Cash|       10.0|\n",
            "|    2013|       1639|Berkowitz, Ceceil...|2013-07-12|        Fung, Kevin|     Individual|        Bronx|         Bronx|   NY|  10461|             null|  10.0|    10.0|    0.0|       Cash|       20.0|\n",
            "|    2013|       1639|Berkowitz, Ceceil...|2013-08-01|Monroe, Christopher|     Individual|        Other|   Mt. Lebanon|   PA|  15228|               NJ|  10.0|     0.0|   10.0|Credit Card|       20.0|\n",
            "|    2013|       1639|Berkowitz, Ceceil...|2013-07-31|     Beegan, Daniel|     Individual|        Other|   Beech Grove|   IN|  46107|               IN|  10.0|     0.0|    0.0|Credit Card|       10.0|\n",
            "|    2013|       1639|Berkowitz, Ceceil...|2013-07-29|         Will, Eric|     Individual|        Other|     Knoxville|   TN|  37920|             null|  10.0|     0.0|    0.0|Credit Card|       10.0|\n",
            "|    2013|       1639|Berkowitz, Ceceil...|2013-07-29|         Will, Eric|     Individual|        Other|     Knoxville|   TN|  37920|             null|  10.0|     0.0|    0.0|Credit Card|       10.0|\n",
            "|    2013|       1639|Berkowitz, Ceceil...|2013-07-29|Monroe, Christopher|     Individual|        Other|   Mt. Lebanon|   PA|  15228|               NJ|  10.0|     0.0|    0.0|Credit Card|       10.0|\n",
            "|    2013|       1639|Berkowitz, Ceceil...|2013-07-19|      Judd, Timothy|     Individual|        Other|       Houston|   TX|  77018|             null|  10.0|     0.0|    0.0|Credit Card|       10.0|\n",
            "|    2013|       1639|Berkowitz, Ceceil...|2013-07-19|    Laohoo, William|     Individual|        Other|East Brunswick|   NJ|   8816|             null|  20.0|     0.0|    0.0|Credit Card|       20.0|\n",
            "|    2013|       1666|    Salgado, Erick J|2012-12-13|    Acevedo, Alexie|     Individual|        Other|     Brentwood|   NY|  11717|               NY| 100.0|     0.0|    0.0|       Cash|      100.0|\n",
            "|    2013|       1666|    Salgado, Erick J|2012-12-26|   Salgado, Erick J|      Candidate|Staten Island| Staten Island|   NY|  10302|               NJ|4000.0|   175.0|    0.0|      Check|     4175.0|\n",
            "|    2013|       1666|    Salgado, Erick J|2012-12-14|     Vargas, Lucino|     Individual|     Brooklyn|      Brooklyn|   NY|  11220|               NJ| 500.0|   175.0|    0.0|      Check|      675.0|\n",
            "|    2013|       1666|    Salgado, Erick J|2012-12-13|    Torres, Marcial|     Individual|        Other|       Matawan|   NJ|   7747|               NJ| 500.0|     0.0|    0.0|      Check|      500.0|\n",
            "+--------+-----------+--------------------+----------+-------------------+---------------+-------------+--------------+-----+-------+-----------------+------+--------+-------+-----------+-----------+\n",
            "only showing top 20 rows\n",
            "\n"
          ]
        }
      ]
    },
    {
      "cell_type": "code",
      "metadata": {
        "id": "oAV3a6jXmJTP"
      },
      "source": [
        "#Export to Clean CSV\n",
        "#clean_indiv_2013_df.toPandas().to_csv(\"Clean_Individual_2013.csv\", header=True)"
      ],
      "execution_count": 20,
      "outputs": []
    },
    {
      "cell_type": "markdown",
      "metadata": {
        "id": "1t7gDM4IKH8Y"
      },
      "source": [
        "## **2013 Committee Contributions**"
      ]
    },
    {
      "cell_type": "code",
      "metadata": {
        "id": "hraQT1VmLOhL",
        "colab": {
          "base_uri": "https://localhost:8080/"
        },
        "outputId": "03425142-4352-4b91-9065-4786906cea3d"
      },
      "source": [
        "# Read in data from S3 Buckets\n",
        "from pyspark import SparkFiles\n",
        "url = \"https://databootcamp-final-05.s3.amazonaws.com/Resources/Committee+Contributions+2013+(UF).csv\"\n",
        "spark.sparkContext.addFile(url)\n",
        "df = spark.read.csv(SparkFiles.get(\"Committee+Contributions+2013+(UF).csv\"), sep=\",\", header=True)\n",
        "df.show()"
      ],
      "execution_count": 21,
      "outputs": [
        {
          "output_type": "stream",
          "name": "stdout",
          "text": [
            "+--------+--------+-------+--------+------------------+---------+------+--------+------+----------+--------+---------+----------+--------------------+------+-----+-------+---------+---------+------------+-----+-----+----------+-------+--------+----------+-------+--------+---------+---------+--------+----------+--------+------------+--------+--------+--------+--------+-----+------+--------------------+----------+-----------+----------+--------+-----------------+---------+--------+---------+------+-------+----------+\n",
            "|ELECTION|OFFICECD|RECIPID|CANCLASS|         RECIPNAME|COMMITTEE|FILING|SCHEDULE|PAGENO|SEQUENCENO|   REFNO|     DATE|REFUNDDATE|                NAME|C_CODE|STRNO|STRNAME|APARTMENT|BOROUGHCD|        CITY|STATE|  ZIP|OCCUPATION|EMPNAME|EMPSTRNO|EMPSTRNAME|EMPCITY|EMPSTATE|     AMNT|MATCHAMNT|PREVAMNT|PAY_METHOD|INTERMNO|  INTERMNAME|INTSTRNO|INTSTRNM|INTAPTNO| INTCITY|INTST|INTZIP|          INTEMPNAME|INTEMPSTNO| INTEMPSTNM|INTEMPCITY|INTEMPST|        INTOCCUPA|PURPOSECD|EXEMPTCD|ADJTYPECD|RR_IND|SEG_IND|INT_C_CODE|\n",
            "+--------+--------+-------+--------+------------------+---------+------+--------+------+----------+--------+---------+----------+--------------------+------+-----+-------+---------+---------+------------+-----+-----+----------+-------+--------+----------+-------+--------+---------+---------+--------+----------+--------+------------+--------+--------+--------+--------+-----+------+--------------------+----------+-----------+----------+--------+-----------------+---------+--------+---------+------+-------+----------+\n",
            "|    2013|       1|    204|       P|Quinn, Christine C|        M|     4|     ABC|  null|      null|R0011580|7/11/2011|      null|1199 SEIU PAC - N...| PCOMP| null|   null|     null|        M|    New York|   NY|10036|      null|   null|    null|      null|   null|    null|     1000|        0|       0|         2|    null|        null|    null|    null|    null|    null| null|  null|                null|      null|       null|      null|    null|             null|     null|    null|     null|     N|      N|      null|\n",
            "|    2013|       1|    204|       P|Quinn, Christine C|        M|     6|     ABC|  null|      null|R0018645|1/10/2013|      null|1199 SEIU PAC - N...| PCOMP| null|   null|     null|        M|    New York|   NY|10036|      null|   null|    null|      null|   null|    null|     3950|        0|    1000|         2|    null|        null|    null|    null|    null|    null| null|  null|                null|      null|       null|      null|    null|             null|     null|    null|     null|     N|      N|      null|\n",
            "|    2013|       1|    326|       P|   de Blasio, Bill|        N|     1|     ABC|  null|      null|R0005231|4/29/2010|      null|1199/SEIU NYS Pol...| PCOMP| null|   null|     null|        M|    New York|   NY|10036|      null|   null|    null|      null|   null|    null|     4950|        0|       0|         2|    null|        null|    null|    null|    null|    null| null|  null|                null|      null|       null|      null|    null|             null|     null|    null|     null|     N|      N|      null|\n",
            "|    2013|       1|    326|       P|   de Blasio, Bill|        N|    12|       D|  null|      null|R0028634| 9/8/2013|      null|1199/SEIU NYS Pol...| PCOMP| null|   null|     null|        M|    New York|   NY|10036|      null|   null|    null|      null|   null|    null| 19084.25|        0|       0|         0|    null|        null|    null|    null|    null|    null| null|  null|                null|      null|       null|      null|    null|             null|    OTHER|    null|     null|     N|   null|      null|\n",
            "|    2013|       1|    326|       P|   de Blasio, Bill|        N|    16|       D|  null|      null|R0042524| 9/8/2013|      null|1199/SEIU NYS Pol...| PCOMP| null|   null|     null|        M|    New York|   NY|10036|      null|   null|    null|      null|   null|    null|   168.31|        0|       0|         0|    null|        null|    null|    null|    null|    null| null|  null|                null|      null|       null|      null|    null|             null|    WAGES|    null|     null|     N|   null|      null|\n",
            "|    2013|       1|    326|       P|   de Blasio, Bill|        N|    16|       D|  null|      null|R0042526| 9/8/2013|      null|1199/SEIU NYS Pol...| PCOMP| null|   null|     null|        M|    New York|   NY|10036|      null|   null|    null|      null|   null|    null|       60|        0|       0|         0|    null|        null|    null|    null|    null|    null| null|  null|                null|      null|       null|      null|    null|             null|    PROFL|    null|     null|     N|   null|      null|\n",
            "|    2013|       1|    326|       P|   de Blasio, Bill|        N|    16|       M|  null|      null|R0028635| 9/8/2013|  9/9/2013|1199/SEIU NYS Pol...| PCOMP| null|   null|     null|        M|    New York|   NY|10036|      null|   null|    null|      null|   null|    null|-19084.25|        0|       0|         0|    null|        null|    null|    null|    null|    null| null|  null|                null|      null|       null|      null|    null|             null|     null|    null|        2|     N|      N|      null|\n",
            "|    2013|       1|    326|       P|   de Blasio, Bill|        N|    16|       M|  null|      null|R0042525| 9/8/2013|10/28/2013|1199/SEIU NYS Pol...| PCOMP| null|   null|     null|        M|    New York|   NY|10036|      null|   null|    null|      null|   null|    null|  -168.31|        0|       0|         0|    null|        null|    null|    null|    null|    null| null|  null|                null|      null|       null|      null|    null|             null|     null|    null|        2|     N|      N|      null|\n",
            "|    2013|       1|     FI|       P|       Liu, John C|        N|     3|     ABC|  null|      null|R0008939|7/11/2011|      null|1199SEIU NYS Poli...| PCOMP| null|   null|     null|        M|    New York|   NY|10036|      null|   null|    null|      null|   null|    null|      800|        0|       0|         2|    null|        null|    null|    null|    null|    null| null|  null|                null|      null|       null|      null|    null|             null|     null|    null|     null|     N|      N|      null|\n",
            "|    2013|       1|     FI|       P|       Liu, John C|        N|     4|     ABC|  null|      null|R0010257|1/11/2012|      null|1199SEIU NYS Poli...| PCOMP| null|   null|     null|        M|    New York|   NY|10036|      null|   null|    null|      null|   null|    null|     2500|        0|     800|         2|    null|        null|    null|    null|    null|    null| null|  null|                null|      null|       null|      null|    null|             null|     null|    null|     null|     N|      N|      null|\n",
            "|    2013|       1|     FI|       P|       Liu, John C|        N|     5|     ABC|  null|      null|R0012166|4/24/2012|      null|1199SEIU NYS Poli...| PCOMP| null|   null|     null|        M|    New York|   NY|10036|      null|   null|    null|      null|   null|    null|     1650|        0|    3300|         2|    null|        null|    null|    null|    null|    null| null|  null|                null|      null|       null|      null|    null|             null|     null|    null|     null|     N|      N|      null|\n",
            "|    2013|       1|   1757|      NP|    Person, Carl E|        H|    16|       N|  null|      null|R0000014|     null|      null|            123Print|  CORP| null|   null|     null|     null|   Frederick|   MD|21703|      null|   null|    null|      null|   null|    null|   115.95|        0|       0|         0|    null|        null|    null|    null|    null|    null| null|  null|                null|      null|       null|      null|    null|             null|     null|    null|     null|     N|      N|      null|\n",
            "|    2013|       1|     BB|       P| Weiner, Anthony D|        J|     1|     ABC|  null|      null|R0001858|7/11/2007|      null|   155 W 21st St LLC|   LLC| null|   null|     null|        Z|Lake Success|   NY|11042|      null|   null|    null|      null|   null|    null|     2000|        0|       0|         2|    null|        null|    null|    null|    null|    null| null|  null|                null|      null|       null|      null|    null|             null|     null|    null|     null|     N|      N|      null|\n",
            "|    2013|       1|     BB|       P| Weiner, Anthony D|        J|    16|       M|  null|      null|R0007358|7/11/2007| 3/11/2009|   155 W 21st St LLC|   LLC| null|   null|     null|        Z|Lake Success|   NY|11042|      null|   null|    null|      null|   null|    null|    -2000|        0|       0|         0|    null|        null|    null|    null|    null|    null| null|  null|                null|      null|       null|      null|    null|             null|     null|    null|        2|     N|      N|      null|\n",
            "|    2013|       1|     BB|       P| Weiner, Anthony D|        J|     1|     ABC|  null|      null|R0001860|7/11/2007|      null|    171 Mulberry LLC|   LLC| null|   null|     null|        M|    New York|   NY|10016|      null|   null|    null|      null|   null|    null|      500|        0|       0|         2|       6|Ross, Todd M|    null|    null|    null|New York|   NY| 10004|Ross Insurance Br...|       183|Madison Ave|  New York|      NY|Insurance Brokers|     null|    null|     null|     N|      N|       IND|\n",
            "|    2013|       1|     BB|       P| Weiner, Anthony D|        J|     1|     ABC|  null|      null|R0002276|7/23/2007|      null|1717 Dallas Partn...|   LLC| null|   null|     null|        Z|      Dallas|   TX|75201|      null|   null|    null|      null|   null|    null|     4950|        0|       0|         2|    null|        null|    null|    null|    null|    null| null|  null|                null|      null|       null|      null|    null|             null|     null|    null|     null|     N|      N|      null|\n",
            "|    2013|       1|     BB|       P| Weiner, Anthony D|        J|     1|     ABC|  null|      null|R0002281|7/23/2007|      null|1717 Main St Part...|   LLC| null|   null|     null|        Z|      Dallas|   TX|75201|      null|   null|    null|      null|   null|    null|     4950|        0|       0|         2|    null|        null|    null|    null|    null|    null| null|  null|                null|      null|       null|      null|    null|             null|     null|    null|     null|     N|      N|      null|\n",
            "|    2013|       1|     BB|       P| Weiner, Anthony D|        J|    16|       M|  null|      null|R0008221|7/23/2007|12/22/2010|1717 Main St Part...|   LLC| null|   null|     null|        Z|      Dallas|   TX|75201|      null|   null|    null|      null|   null|    null|    -4950|        0|       0|         0|    null|        null|    null|    null|    null|    null| null|  null|                null|      null|       null|      null|    null|             null|     null|    null|        2|     N|      N|      null|\n",
            "|    2013|       1|   1669|      NP|    Credico, Randy|        H|     8|     ABC|  null|      null|R0000104|1/14/2013|      null|220 WEST RESTAURA...|  CORP| null|   null|     null|        M|    New York|   NY|10019|      null|   null|    null|      null|   null|    null|      250|        0|       0|         2|    null|        null|    null|    null|    null|    null| null|  null|                null|      null|       null|      null|    null|             null|     null|    null|     null|     N|      N|      null|\n",
            "|    2013|       1|   1669|      NP|    Credico, Randy|        H|     8|       M|  null|      null|R0000152|1/14/2013| 1/22/2013|220 WEST RESTAURA...|  CORP| null|   null|     null|        M|    New York|   NY|10019|      null|   null|    null|      null|   null|    null|     -250|        0|       0|         0|    null|        null|    null|    null|    null|    null| null|  null|                null|      null|       null|      null|    null|             null|     null|    null|        2|     N|      N|      null|\n",
            "+--------+--------+-------+--------+------------------+---------+------+--------+------+----------+--------+---------+----------+--------------------+------+-----+-------+---------+---------+------------+-----+-----+----------+-------+--------+----------+-------+--------+---------+---------+--------+----------+--------+------------+--------+--------+--------+--------+-----+------+--------------------+----------+-----------+----------+--------+-----------------+---------+--------+---------+------+-------+----------+\n",
            "only showing top 20 rows\n",
            "\n"
          ]
        }
      ]
    },
    {
      "cell_type": "code",
      "metadata": {
        "id": "S-dAX_VzLOhL",
        "colab": {
          "base_uri": "https://localhost:8080/"
        },
        "outputId": "903acf9d-8e67-41d6-e0ac-c748cd171a64"
      },
      "source": [
        "# Remove multiple columns\n",
        "list = ['COMMITTEE', 'FILING', 'SCHEDULE', 'PAGENO', 'SEQUENCENO','REFNO', 'STRNO', 'STRNAME', 'APARTMENT', 'OCCUPATION', 'EMPNAME', 'EMPSTRNO', 'EMPSTRNAME',\n",
        "                'EMPCITY','REFUNDDATE','INTERMNO', 'INTERMNAME', 'INTSTRNO', 'INTSTRNM', 'INTSTRNM', 'INTAPTNO',\n",
        "                'INTCITY', 'INTST','INTZIP', 'INTEMPNAME', 'INTEMPSTNO', 'INTEMPSTNM', 'INTEMPCITY', 'INTEMPST', 'INTOCCUPA' ,'PURPOSECD', 'EXEMPTCD','ADJTYPECD', 'RR_IND', 'SEG_IND','INT_C_CODE'] \n",
        "df = df.drop(*list)\n",
        "df.show()"
      ],
      "execution_count": 22,
      "outputs": [
        {
          "output_type": "stream",
          "name": "stdout",
          "text": [
            "+--------+--------+-------+--------+------------------+---------+--------------------+------+---------+------------+-----+-----+--------+---------+---------+--------+----------+\n",
            "|ELECTION|OFFICECD|RECIPID|CANCLASS|         RECIPNAME|     DATE|                NAME|C_CODE|BOROUGHCD|        CITY|STATE|  ZIP|EMPSTATE|     AMNT|MATCHAMNT|PREVAMNT|PAY_METHOD|\n",
            "+--------+--------+-------+--------+------------------+---------+--------------------+------+---------+------------+-----+-----+--------+---------+---------+--------+----------+\n",
            "|    2013|       1|    204|       P|Quinn, Christine C|7/11/2011|1199 SEIU PAC - N...| PCOMP|        M|    New York|   NY|10036|    null|     1000|        0|       0|         2|\n",
            "|    2013|       1|    204|       P|Quinn, Christine C|1/10/2013|1199 SEIU PAC - N...| PCOMP|        M|    New York|   NY|10036|    null|     3950|        0|    1000|         2|\n",
            "|    2013|       1|    326|       P|   de Blasio, Bill|4/29/2010|1199/SEIU NYS Pol...| PCOMP|        M|    New York|   NY|10036|    null|     4950|        0|       0|         2|\n",
            "|    2013|       1|    326|       P|   de Blasio, Bill| 9/8/2013|1199/SEIU NYS Pol...| PCOMP|        M|    New York|   NY|10036|    null| 19084.25|        0|       0|         0|\n",
            "|    2013|       1|    326|       P|   de Blasio, Bill| 9/8/2013|1199/SEIU NYS Pol...| PCOMP|        M|    New York|   NY|10036|    null|   168.31|        0|       0|         0|\n",
            "|    2013|       1|    326|       P|   de Blasio, Bill| 9/8/2013|1199/SEIU NYS Pol...| PCOMP|        M|    New York|   NY|10036|    null|       60|        0|       0|         0|\n",
            "|    2013|       1|    326|       P|   de Blasio, Bill| 9/8/2013|1199/SEIU NYS Pol...| PCOMP|        M|    New York|   NY|10036|    null|-19084.25|        0|       0|         0|\n",
            "|    2013|       1|    326|       P|   de Blasio, Bill| 9/8/2013|1199/SEIU NYS Pol...| PCOMP|        M|    New York|   NY|10036|    null|  -168.31|        0|       0|         0|\n",
            "|    2013|       1|     FI|       P|       Liu, John C|7/11/2011|1199SEIU NYS Poli...| PCOMP|        M|    New York|   NY|10036|    null|      800|        0|       0|         2|\n",
            "|    2013|       1|     FI|       P|       Liu, John C|1/11/2012|1199SEIU NYS Poli...| PCOMP|        M|    New York|   NY|10036|    null|     2500|        0|     800|         2|\n",
            "|    2013|       1|     FI|       P|       Liu, John C|4/24/2012|1199SEIU NYS Poli...| PCOMP|        M|    New York|   NY|10036|    null|     1650|        0|    3300|         2|\n",
            "|    2013|       1|   1757|      NP|    Person, Carl E|     null|            123Print|  CORP|     null|   Frederick|   MD|21703|    null|   115.95|        0|       0|         0|\n",
            "|    2013|       1|     BB|       P| Weiner, Anthony D|7/11/2007|   155 W 21st St LLC|   LLC|        Z|Lake Success|   NY|11042|    null|     2000|        0|       0|         2|\n",
            "|    2013|       1|     BB|       P| Weiner, Anthony D|7/11/2007|   155 W 21st St LLC|   LLC|        Z|Lake Success|   NY|11042|    null|    -2000|        0|       0|         0|\n",
            "|    2013|       1|     BB|       P| Weiner, Anthony D|7/11/2007|    171 Mulberry LLC|   LLC|        M|    New York|   NY|10016|    null|      500|        0|       0|         2|\n",
            "|    2013|       1|     BB|       P| Weiner, Anthony D|7/23/2007|1717 Dallas Partn...|   LLC|        Z|      Dallas|   TX|75201|    null|     4950|        0|       0|         2|\n",
            "|    2013|       1|     BB|       P| Weiner, Anthony D|7/23/2007|1717 Main St Part...|   LLC|        Z|      Dallas|   TX|75201|    null|     4950|        0|       0|         2|\n",
            "|    2013|       1|     BB|       P| Weiner, Anthony D|7/23/2007|1717 Main St Part...|   LLC|        Z|      Dallas|   TX|75201|    null|    -4950|        0|       0|         0|\n",
            "|    2013|       1|   1669|      NP|    Credico, Randy|1/14/2013|220 WEST RESTAURA...|  CORP|        M|    New York|   NY|10019|    null|      250|        0|       0|         2|\n",
            "|    2013|       1|   1669|      NP|    Credico, Randy|1/14/2013|220 WEST RESTAURA...|  CORP|        M|    New York|   NY|10019|    null|     -250|        0|       0|         0|\n",
            "+--------+--------+-------+--------+------------------+---------+--------------------+------+---------+------------+-----+-----+--------+---------+---------+--------+----------+\n",
            "only showing top 20 rows\n",
            "\n"
          ]
        }
      ]
    },
    {
      "cell_type": "code",
      "metadata": {
        "id": "btba2GO-LOhL",
        "colab": {
          "base_uri": "https://localhost:8080/"
        },
        "outputId": "5a554614-2a02-40fb-cf7b-41f37d90f308"
      },
      "source": [
        "# check data types\n",
        "df.dtypes"
      ],
      "execution_count": 23,
      "outputs": [
        {
          "output_type": "execute_result",
          "data": {
            "text/plain": [
              "[('ELECTION', 'string'),\n",
              " ('OFFICECD', 'string'),\n",
              " ('RECIPID', 'string'),\n",
              " ('CANCLASS', 'string'),\n",
              " ('RECIPNAME', 'string'),\n",
              " ('DATE', 'string'),\n",
              " ('NAME', 'string'),\n",
              " ('C_CODE', 'string'),\n",
              " ('BOROUGHCD', 'string'),\n",
              " ('CITY', 'string'),\n",
              " ('STATE', 'string'),\n",
              " ('ZIP', 'string'),\n",
              " ('EMPSTATE', 'string'),\n",
              " ('AMNT', 'string'),\n",
              " ('MATCHAMNT', 'string'),\n",
              " ('PREVAMNT', 'string'),\n",
              " ('PAY_METHOD', 'string')]"
            ]
          },
          "metadata": {},
          "execution_count": 23
        }
      ]
    },
    {
      "cell_type": "code",
      "metadata": {
        "id": "U3HO9e01LOhL",
        "colab": {
          "base_uri": "https://localhost:8080/"
        },
        "outputId": "6155c607-cbbf-4816-e5d7-e877a9264544"
      },
      "source": [
        "#Change column names\n",
        "df1 = df \\\n",
        ".withColumnRenamed(\"ELECTION\", \"Election\") \\\n",
        ".withColumnRenamed(\"RECIPID\", \"CandidateID\") \\\n",
        ".withColumnRenamed(\"RECIPNAME\", \"CandidateName\") \\\n",
        ".withColumnRenamed(\"DATE\", \"Date\") \\\n",
        ".withColumnRenamed(\"NAME\", \"Name\") \\\n",
        ".withColumnRenamed(\"C_CODE\", \"ContributerType\") \\\n",
        ".withColumnRenamed(\"BOROUGHCD\", \"BoroughName\") \\\n",
        ".withColumnRenamed(\"CITY\", \"City\") \\\n",
        ".withColumnRenamed(\"STATE\", \"State\") \\\n",
        ".withColumnRenamed(\"ZIP\", \"ZipCode\") \\\n",
        ".withColumnRenamed(\"EMPSTATE\", \"ContributionState\") \\\n",
        ".withColumnRenamed(\"AMNT\", \"Amount\") \\\n",
        ".withColumnRenamed(\"MATCHAMNT\", \"MatchAmt\") \\\n",
        ".withColumnRenamed(\"PREVAMNT\", \"PrevAmt\") \\\n",
        ".withColumnRenamed(\"PAY_METHOD\", \"PayMethod\") \n",
        "\n",
        "df1.printSchema()"
      ],
      "execution_count": 24,
      "outputs": [
        {
          "output_type": "stream",
          "name": "stdout",
          "text": [
            "root\n",
            " |-- Election: string (nullable = true)\n",
            " |-- OFFICECD: string (nullable = true)\n",
            " |-- CandidateID: string (nullable = true)\n",
            " |-- CANCLASS: string (nullable = true)\n",
            " |-- CandidateName: string (nullable = true)\n",
            " |-- Date: string (nullable = true)\n",
            " |-- Name: string (nullable = true)\n",
            " |-- ContributerType: string (nullable = true)\n",
            " |-- BoroughName: string (nullable = true)\n",
            " |-- City: string (nullable = true)\n",
            " |-- State: string (nullable = true)\n",
            " |-- ZipCode: string (nullable = true)\n",
            " |-- ContributionState: string (nullable = true)\n",
            " |-- Amount: string (nullable = true)\n",
            " |-- MatchAmt: string (nullable = true)\n",
            " |-- PrevAmt: string (nullable = true)\n",
            " |-- PayMethod: string (nullable = true)\n",
            "\n"
          ]
        }
      ]
    },
    {
      "cell_type": "code",
      "metadata": {
        "id": "SAf4vA_5jTRM"
      },
      "source": [
        "from datetime import datetime\n",
        "from pyspark.sql.functions import col, udf\n",
        "from pyspark.sql.types import DateType"
      ],
      "execution_count": 25,
      "outputs": []
    },
    {
      "cell_type": "code",
      "metadata": {
        "id": "o8pcOHEWjVfK",
        "colab": {
          "base_uri": "https://localhost:8080/"
        },
        "outputId": "dc4f39e3-5ed9-4f23-d70e-2b5c411debbe"
      },
      "source": [
        "# using lambda function to convert date col to datetype\n",
        "# changing datatypes of columns\n",
        "func =  udf (lambda x: datetime.strptime(x, '%m/%d/%Y'), DateType())\n",
        "df2 = df1.withColumn(\"Election\",df1[\"Election\"].cast(\"Integer\")) \\\n",
        "  .withColumn(\"OFFICECD\", df1[\"OFFICECD\"].cast(\"Integer\")) \\\n",
        "  .withColumn(\"CandidateID\", df1[\"CandidateID\"].cast(\"Integer\")) \\\n",
        "  .withColumn(\"ZipCode\", df1[\"ZipCode\"].cast(\"Integer\")) \\\n",
        "  .withColumn(\"Amount\", df1[\"Amount\"].cast(\"Float\")) \\\n",
        "  .withColumn(\"MatchAmt\", df1[\"MatchAmt\"].cast(\"Float\")) \\\n",
        "  .withColumn(\"PrevAmt\", df1[\"PrevAmt\"].cast(\"Float\")) \\\n",
        "  .withColumn('Date', func(col('Date')))\n",
        "df2.printSchema()"
      ],
      "execution_count": 26,
      "outputs": [
        {
          "output_type": "stream",
          "name": "stdout",
          "text": [
            "root\n",
            " |-- Election: integer (nullable = true)\n",
            " |-- OFFICECD: integer (nullable = true)\n",
            " |-- CandidateID: integer (nullable = true)\n",
            " |-- CANCLASS: string (nullable = true)\n",
            " |-- CandidateName: string (nullable = true)\n",
            " |-- Date: date (nullable = true)\n",
            " |-- Name: string (nullable = true)\n",
            " |-- ContributerType: string (nullable = true)\n",
            " |-- BoroughName: string (nullable = true)\n",
            " |-- City: string (nullable = true)\n",
            " |-- State: string (nullable = true)\n",
            " |-- ZipCode: integer (nullable = true)\n",
            " |-- ContributionState: string (nullable = true)\n",
            " |-- Amount: float (nullable = true)\n",
            " |-- MatchAmt: float (nullable = true)\n",
            " |-- PrevAmt: float (nullable = true)\n",
            " |-- PayMethod: string (nullable = true)\n",
            "\n"
          ]
        }
      ]
    },
    {
      "cell_type": "code",
      "metadata": {
        "id": "qa6S4he5LOhM"
      },
      "source": [
        "#Change vaule name in ContributerType\n",
        "from pyspark.sql.functions import regexp_replace\n",
        "df3 = df2.withColumn('ContributerType', regexp_replace('ContributerType', 'CAN', 'Candidate')) \\\n",
        "  .withColumn('ContributerType', regexp_replace('ContributerType', 'CORP', 'Corporation')) \\\n",
        "  .withColumn('ContributerType', regexp_replace('ContributerType', 'EMPO', 'Labor Union')) \\\n",
        "  .withColumn('ContributerType', regexp_replace('ContributerType', 'FAM', 'Candidate Family')) \\\n",
        "  .withColumn('ContributerType', regexp_replace('ContributerType', 'IND', 'Individual')) \\\n",
        "  .withColumn('ContributerType', regexp_replace('ContributerType', 'PCOMZ', 'Party Committee')) \\\n",
        "  .withColumn('ContributerType', regexp_replace('ContributerType', 'ORG', 'Orgainization')) \\\n",
        "  .withColumn('ContributerType', regexp_replace('ContributerType', 'LLC', 'Limited Liability Company')) \\\n",
        "  .withColumn('ContributerType', regexp_replace('ContributerType', 'PCOMP', 'Political Action Committee')) \\\n",
        "  .withColumn('ContributerType', regexp_replace('ContributerType', 'SPO', 'Spouse')) \\\n",
        "  .withColumn('ContributerType', regexp_replace('ContributerType', 'OTHR', 'Other')) \\\n",
        "  .withColumn('ContributerType', regexp_replace('ContributerType', 'PCOMC', 'Candidate Committee')) \\\n",
        "  .withColumn('ContributerType', regexp_replace('ContributerType', 'PART', 'Individual')) \\\n"
      ],
      "execution_count": 27,
      "outputs": []
    },
    {
      "cell_type": "code",
      "metadata": {
        "id": "HKU4a2YeLOhM"
      },
      "source": [
        "#Change Payment Method Name\n",
        "df4=df3.withColumn('PayMethod', regexp_replace('PayMethod','0','Unknown')) \\\n",
        "  .withColumn('PayMethod', regexp_replace('PayMethod','1','Cash')) \\\n",
        "  .withColumn('PayMethod', regexp_replace('PayMethod','2','Check')) \\\n",
        "  .withColumn('PayMethod', regexp_replace('PayMethod','3','Other')) \\\n",
        "  .withColumn('PayMethod', regexp_replace('PayMethod','4','Credit Card')) \\\n",
        "  .withColumn('PayMethod', regexp_replace('PayMethod','5','Money Order')) \\"
      ],
      "execution_count": 28,
      "outputs": []
    },
    {
      "cell_type": "code",
      "metadata": {
        "id": "trH99qC5LOhM"
      },
      "source": [
        "#Change Borough name\n",
        "from pyspark.sql.functions import regexp_replace\n",
        "df5 = df4.withColumn('BoroughName', regexp_replace('BoroughName', 'K', 'Brooklyn')) \\\n",
        "  .withColumn('BoroughName', regexp_replace('BoroughName', 'M', 'Manhattan')) \\\n",
        "  .withColumn('BoroughName', regexp_replace('BoroughName', 'Q', 'Queens')) \\\n",
        "  .withColumn('BoroughName', regexp_replace('BoroughName', 'S', 'Staten Island')) \\\n",
        "  .withColumn('BoroughName', regexp_replace('BoroughName', 'X', 'Bronx')) \\\n",
        "  .withColumn('BoroughName', regexp_replace('BoroughName', 'Z', 'Other')) \\\n"
      ],
      "execution_count": 29,
      "outputs": []
    },
    {
      "cell_type": "code",
      "metadata": {
        "id": "wO9XHx_6LOhM",
        "colab": {
          "base_uri": "https://localhost:8080/"
        },
        "outputId": "59e83891-11e6-4c96-c19b-0749ae386fc3"
      },
      "source": [
        "#Call only Mayor (1) and particaptes (P) within Dataframe\n",
        "df6 = df5.filter((df5.OFFICECD==\"1\") & (df5.CANCLASS==\"P\"))\n",
        "df6.show()"
      ],
      "execution_count": 30,
      "outputs": [
        {
          "output_type": "stream",
          "name": "stdout",
          "text": [
            "+--------+--------+-----------+--------+------------------+----------+--------------------+--------------------+-----------+------------+-----+-------+-----------------+---------+--------+-------+---------+\n",
            "|Election|OFFICECD|CandidateID|CANCLASS|     CandidateName|      Date|                Name|     ContributerType|BoroughName|        City|State|ZipCode|ContributionState|   Amount|MatchAmt|PrevAmt|PayMethod|\n",
            "+--------+--------+-----------+--------+------------------+----------+--------------------+--------------------+-----------+------------+-----+-------+-----------------+---------+--------+-------+---------+\n",
            "|    2013|       1|        204|       P|Quinn, Christine C|2011-07-11|1199 SEIU PAC - N...|Political Action ...|  Manhattan|    New York|   NY|  10036|             null|   1000.0|     0.0|    0.0|    Check|\n",
            "|    2013|       1|        204|       P|Quinn, Christine C|2013-01-10|1199 SEIU PAC - N...|Political Action ...|  Manhattan|    New York|   NY|  10036|             null|   3950.0|     0.0| 1000.0|    Check|\n",
            "|    2013|       1|        326|       P|   de Blasio, Bill|2010-04-29|1199/SEIU NYS Pol...|Political Action ...|  Manhattan|    New York|   NY|  10036|             null|   4950.0|     0.0|    0.0|    Check|\n",
            "|    2013|       1|        326|       P|   de Blasio, Bill|2013-09-08|1199/SEIU NYS Pol...|Political Action ...|  Manhattan|    New York|   NY|  10036|             null| 19084.25|     0.0|    0.0|  Unknown|\n",
            "|    2013|       1|        326|       P|   de Blasio, Bill|2013-09-08|1199/SEIU NYS Pol...|Political Action ...|  Manhattan|    New York|   NY|  10036|             null|   168.31|     0.0|    0.0|  Unknown|\n",
            "|    2013|       1|        326|       P|   de Blasio, Bill|2013-09-08|1199/SEIU NYS Pol...|Political Action ...|  Manhattan|    New York|   NY|  10036|             null|     60.0|     0.0|    0.0|  Unknown|\n",
            "|    2013|       1|        326|       P|   de Blasio, Bill|2013-09-08|1199/SEIU NYS Pol...|Political Action ...|  Manhattan|    New York|   NY|  10036|             null|-19084.25|     0.0|    0.0|  Unknown|\n",
            "|    2013|       1|        326|       P|   de Blasio, Bill|2013-09-08|1199/SEIU NYS Pol...|Political Action ...|  Manhattan|    New York|   NY|  10036|             null|  -168.31|     0.0|    0.0|  Unknown|\n",
            "|    2013|       1|       null|       P|       Liu, John C|2011-07-11|1199SEIU NYS Poli...|Political Action ...|  Manhattan|    New York|   NY|  10036|             null|    800.0|     0.0|    0.0|    Check|\n",
            "|    2013|       1|       null|       P|       Liu, John C|2012-01-11|1199SEIU NYS Poli...|Political Action ...|  Manhattan|    New York|   NY|  10036|             null|   2500.0|     0.0|  800.0|    Check|\n",
            "|    2013|       1|       null|       P|       Liu, John C|2012-04-24|1199SEIU NYS Poli...|Political Action ...|  Manhattan|    New York|   NY|  10036|             null|   1650.0|     0.0| 3300.0|    Check|\n",
            "|    2013|       1|       null|       P| Weiner, Anthony D|2007-07-11|   155 W 21st St LLC|Limited Liability...|      Other|Lake Success|   NY|  11042|             null|   2000.0|     0.0|    0.0|    Check|\n",
            "|    2013|       1|       null|       P| Weiner, Anthony D|2007-07-11|   155 W 21st St LLC|Limited Liability...|      Other|Lake Success|   NY|  11042|             null|  -2000.0|     0.0|    0.0|  Unknown|\n",
            "|    2013|       1|       null|       P| Weiner, Anthony D|2007-07-11|    171 Mulberry LLC|Limited Liability...|  Manhattan|    New York|   NY|  10016|             null|    500.0|     0.0|    0.0|    Check|\n",
            "|    2013|       1|       null|       P| Weiner, Anthony D|2007-07-23|1717 Dallas Partn...|Limited Liability...|      Other|      Dallas|   TX|  75201|             null|   4950.0|     0.0|    0.0|    Check|\n",
            "|    2013|       1|       null|       P| Weiner, Anthony D|2007-07-23|1717 Main St Part...|Limited Liability...|      Other|      Dallas|   TX|  75201|             null|   4950.0|     0.0|    0.0|    Check|\n",
            "|    2013|       1|       null|       P| Weiner, Anthony D|2007-07-23|1717 Main St Part...|Limited Liability...|      Other|      Dallas|   TX|  75201|             null|  -4950.0|     0.0|    0.0|  Unknown|\n",
            "|    2013|       1|       null|       P| Weiner, Anthony D|2007-07-11|      30 Carmine LLC|Limited Liability...|  Manhattan|    New York|   NY|  10016|             null|    500.0|     0.0|    0.0|    Check|\n",
            "|    2013|       1|       null|       P| Weiner, Anthony D|2007-06-21|39-08 103rd Stree...|Limited Liability...|  Manhattan|    New York|   NY|  10030|             null|   2000.0|     0.0|    0.0|    Check|\n",
            "|    2013|       1|       null|       P| Weiner, Anthony D|2007-12-31|39-08 103rd Stree...|Limited Liability...|  Manhattan|    New York|   NY|  10030|             null|   4900.0|     0.0| 2000.0|    Check|\n",
            "+--------+--------+-----------+--------+------------------+----------+--------------------+--------------------+-----------+------------+-----+-------+-----------------+---------+--------+-------+---------+\n",
            "only showing top 20 rows\n",
            "\n"
          ]
        }
      ]
    },
    {
      "cell_type": "code",
      "metadata": {
        "id": "nEmNuKUFLOhM",
        "colab": {
          "base_uri": "https://localhost:8080/"
        },
        "outputId": "d3c1fdbc-6a9f-4d06-8787-3666c3926ece"
      },
      "source": [
        "#Check the above dataframe to make sure only unique values between the OFFICECD is 1 \n",
        "df6.select('OFFICECD').distinct().show()"
      ],
      "execution_count": 31,
      "outputs": [
        {
          "output_type": "stream",
          "name": "stdout",
          "text": [
            "+--------+\n",
            "|OFFICECD|\n",
            "+--------+\n",
            "|       1|\n",
            "+--------+\n",
            "\n"
          ]
        }
      ]
    },
    {
      "cell_type": "code",
      "metadata": {
        "id": "Myx_AWPaLOhM",
        "colab": {
          "base_uri": "https://localhost:8080/"
        },
        "outputId": "221d564d-f4a9-4df2-c853-66a750344bf4"
      },
      "source": [
        "#Drop OFFICECD and CANCLASS\n",
        "list2 = ['OFFICECD', 'CANCLASS'] \n",
        "df7 = df6.drop(*list2)\n",
        "df7.show()"
      ],
      "execution_count": 32,
      "outputs": [
        {
          "output_type": "stream",
          "name": "stdout",
          "text": [
            "+--------+-----------+------------------+----------+--------------------+--------------------+-----------+------------+-----+-------+-----------------+---------+--------+-------+---------+\n",
            "|Election|CandidateID|     CandidateName|      Date|                Name|     ContributerType|BoroughName|        City|State|ZipCode|ContributionState|   Amount|MatchAmt|PrevAmt|PayMethod|\n",
            "+--------+-----------+------------------+----------+--------------------+--------------------+-----------+------------+-----+-------+-----------------+---------+--------+-------+---------+\n",
            "|    2013|        204|Quinn, Christine C|2011-07-11|1199 SEIU PAC - N...|Political Action ...|  Manhattan|    New York|   NY|  10036|             null|   1000.0|     0.0|    0.0|    Check|\n",
            "|    2013|        204|Quinn, Christine C|2013-01-10|1199 SEIU PAC - N...|Political Action ...|  Manhattan|    New York|   NY|  10036|             null|   3950.0|     0.0| 1000.0|    Check|\n",
            "|    2013|        326|   de Blasio, Bill|2010-04-29|1199/SEIU NYS Pol...|Political Action ...|  Manhattan|    New York|   NY|  10036|             null|   4950.0|     0.0|    0.0|    Check|\n",
            "|    2013|        326|   de Blasio, Bill|2013-09-08|1199/SEIU NYS Pol...|Political Action ...|  Manhattan|    New York|   NY|  10036|             null| 19084.25|     0.0|    0.0|  Unknown|\n",
            "|    2013|        326|   de Blasio, Bill|2013-09-08|1199/SEIU NYS Pol...|Political Action ...|  Manhattan|    New York|   NY|  10036|             null|   168.31|     0.0|    0.0|  Unknown|\n",
            "|    2013|        326|   de Blasio, Bill|2013-09-08|1199/SEIU NYS Pol...|Political Action ...|  Manhattan|    New York|   NY|  10036|             null|     60.0|     0.0|    0.0|  Unknown|\n",
            "|    2013|        326|   de Blasio, Bill|2013-09-08|1199/SEIU NYS Pol...|Political Action ...|  Manhattan|    New York|   NY|  10036|             null|-19084.25|     0.0|    0.0|  Unknown|\n",
            "|    2013|        326|   de Blasio, Bill|2013-09-08|1199/SEIU NYS Pol...|Political Action ...|  Manhattan|    New York|   NY|  10036|             null|  -168.31|     0.0|    0.0|  Unknown|\n",
            "|    2013|       null|       Liu, John C|2011-07-11|1199SEIU NYS Poli...|Political Action ...|  Manhattan|    New York|   NY|  10036|             null|    800.0|     0.0|    0.0|    Check|\n",
            "|    2013|       null|       Liu, John C|2012-01-11|1199SEIU NYS Poli...|Political Action ...|  Manhattan|    New York|   NY|  10036|             null|   2500.0|     0.0|  800.0|    Check|\n",
            "|    2013|       null|       Liu, John C|2012-04-24|1199SEIU NYS Poli...|Political Action ...|  Manhattan|    New York|   NY|  10036|             null|   1650.0|     0.0| 3300.0|    Check|\n",
            "|    2013|       null| Weiner, Anthony D|2007-07-11|   155 W 21st St LLC|Limited Liability...|      Other|Lake Success|   NY|  11042|             null|   2000.0|     0.0|    0.0|    Check|\n",
            "|    2013|       null| Weiner, Anthony D|2007-07-11|   155 W 21st St LLC|Limited Liability...|      Other|Lake Success|   NY|  11042|             null|  -2000.0|     0.0|    0.0|  Unknown|\n",
            "|    2013|       null| Weiner, Anthony D|2007-07-11|    171 Mulberry LLC|Limited Liability...|  Manhattan|    New York|   NY|  10016|             null|    500.0|     0.0|    0.0|    Check|\n",
            "|    2013|       null| Weiner, Anthony D|2007-07-23|1717 Dallas Partn...|Limited Liability...|      Other|      Dallas|   TX|  75201|             null|   4950.0|     0.0|    0.0|    Check|\n",
            "|    2013|       null| Weiner, Anthony D|2007-07-23|1717 Main St Part...|Limited Liability...|      Other|      Dallas|   TX|  75201|             null|   4950.0|     0.0|    0.0|    Check|\n",
            "|    2013|       null| Weiner, Anthony D|2007-07-23|1717 Main St Part...|Limited Liability...|      Other|      Dallas|   TX|  75201|             null|  -4950.0|     0.0|    0.0|  Unknown|\n",
            "|    2013|       null| Weiner, Anthony D|2007-07-11|      30 Carmine LLC|Limited Liability...|  Manhattan|    New York|   NY|  10016|             null|    500.0|     0.0|    0.0|    Check|\n",
            "|    2013|       null| Weiner, Anthony D|2007-06-21|39-08 103rd Stree...|Limited Liability...|  Manhattan|    New York|   NY|  10030|             null|   2000.0|     0.0|    0.0|    Check|\n",
            "|    2013|       null| Weiner, Anthony D|2007-12-31|39-08 103rd Stree...|Limited Liability...|  Manhattan|    New York|   NY|  10030|             null|   4900.0|     0.0| 2000.0|    Check|\n",
            "+--------+-----------+------------------+----------+--------------------+--------------------+-----------+------------+-----+-------+-----------------+---------+--------+-------+---------+\n",
            "only showing top 20 rows\n",
            "\n"
          ]
        }
      ]
    },
    {
      "cell_type": "code",
      "metadata": {
        "id": "OEu2eqWaDg1J"
      },
      "source": [
        "#Filter Dataframe removing the null CandidateID values\n",
        "df8 = df7.filter(df7.CandidateID.isNotNull())"
      ],
      "execution_count": 33,
      "outputs": []
    },
    {
      "cell_type": "code",
      "metadata": {
        "id": "Uci_zuD5LOhM",
        "colab": {
          "base_uri": "https://localhost:8080/"
        },
        "outputId": "dfcea636-549d-46b8-8a2f-6faf0eea1f80"
      },
      "source": [
        "# ADD AMNT and MATCHAMNT PrevAmnt\n",
        "from pyspark.sql.functions import col\n",
        "clean_comm_2013_df = df8.withColumn(\"TotalAmount\", col(\"Amount\")+col(\"MatchAmt\")+col('PrevAmt'))\n",
        "clean_comm_2013_df.show()"
      ],
      "execution_count": 34,
      "outputs": [
        {
          "output_type": "stream",
          "name": "stdout",
          "text": [
            "+--------+-----------+--------------------+----------+--------------------+--------------------+-----------+----------+-----+-------+-----------------+---------+--------+-------+---------+-----------+\n",
            "|Election|CandidateID|       CandidateName|      Date|                Name|     ContributerType|BoroughName|      City|State|ZipCode|ContributionState|   Amount|MatchAmt|PrevAmt|PayMethod|TotalAmount|\n",
            "+--------+-----------+--------------------+----------+--------------------+--------------------+-----------+----------+-----+-------+-----------------+---------+--------+-------+---------+-----------+\n",
            "|    2013|        204|  Quinn, Christine C|2011-07-11|1199 SEIU PAC - N...|Political Action ...|  Manhattan|  New York|   NY|  10036|             null|   1000.0|     0.0|    0.0|    Check|     1000.0|\n",
            "|    2013|        204|  Quinn, Christine C|2013-01-10|1199 SEIU PAC - N...|Political Action ...|  Manhattan|  New York|   NY|  10036|             null|   3950.0|     0.0| 1000.0|    Check|     4950.0|\n",
            "|    2013|        326|     de Blasio, Bill|2010-04-29|1199/SEIU NYS Pol...|Political Action ...|  Manhattan|  New York|   NY|  10036|             null|   4950.0|     0.0|    0.0|    Check|     4950.0|\n",
            "|    2013|        326|     de Blasio, Bill|2013-09-08|1199/SEIU NYS Pol...|Political Action ...|  Manhattan|  New York|   NY|  10036|             null| 19084.25|     0.0|    0.0|  Unknown|   19084.25|\n",
            "|    2013|        326|     de Blasio, Bill|2013-09-08|1199/SEIU NYS Pol...|Political Action ...|  Manhattan|  New York|   NY|  10036|             null|   168.31|     0.0|    0.0|  Unknown|     168.31|\n",
            "|    2013|        326|     de Blasio, Bill|2013-09-08|1199/SEIU NYS Pol...|Political Action ...|  Manhattan|  New York|   NY|  10036|             null|     60.0|     0.0|    0.0|  Unknown|       60.0|\n",
            "|    2013|        326|     de Blasio, Bill|2013-09-08|1199/SEIU NYS Pol...|Political Action ...|  Manhattan|  New York|   NY|  10036|             null|-19084.25|     0.0|    0.0|  Unknown|  -19084.25|\n",
            "|    2013|        326|     de Blasio, Bill|2013-09-08|1199/SEIU NYS Pol...|Political Action ...|  Manhattan|  New York|   NY|  10036|             null|  -168.31|     0.0|    0.0|  Unknown|    -168.31|\n",
            "|    2013|        260|Thompson, Jr., Wi...|2013-01-11|A.L. Larrieux Con...|               Other|     Queens|   Jamaica|   NY|  11435|             null|    250.0|     0.0|    0.0|    Check|      250.0|\n",
            "|    2013|       1690|     Lhota, Joseph J|2013-10-12|ACEC NEW YORK CIT...|               Other|  Manhattan|  New York|   NY|  10018|             null|   1000.0|     0.0|    0.0|    Check|     1000.0|\n",
            "|    2013|        326|     de Blasio, Bill|2013-10-01|ACEC New York Cit...|Political Action ...|  Manhattan|  New York|   NY|  10018|             null|   1000.0|     0.0|    0.0|    Check|     1000.0|\n",
            "|    2013|        326|     de Blasio, Bill|2011-12-08|Advertising Devel...|Political Action ...|  Manhattan|  New York|   NY|  10019|             null|    500.0|     0.0|    0.0|    Check|      500.0|\n",
            "|    2013|        326|     de Blasio, Bill|2013-11-01|AFSCME International|         Labor Union|      Other|Washington|   DC|  20036|             null|   4950.0|     0.0|    0.0|    Check|     4950.0|\n",
            "|    2013|       1796|      Hidary, Jack D|2013-10-23|            Agent 99|         Corporation|      Other| Tarrytown|   Ne|  10591|             null|   1000.0|     0.0|    0.0|    Check|     1000.0|\n",
            "|    2013|       1796|      Hidary, Jack D|2013-10-29|            Agent 99|         Corporation|      Other| Tarrytown|   Ne|  10591|             null|    500.0|     0.0| 1000.0|    Check|     1500.0|\n",
            "|    2013|        260|Thompson, Jr., Wi...|2011-07-08|Alexander Durst 2...|               Other|  Manhattan|  New York|   NY|  10036|             null|   1685.0|     0.0|    0.0|    Check|     1685.0|\n",
            "|    2013|        260|Thompson, Jr., Wi...|2012-12-20|Alexander M Dudelson|               Other|   Brooklyn|  Brooklyn|   NY|  11242|             null|    175.0|     0.0|    0.0|    Check|      175.0|\n",
            "|    2013|       1690|     Lhota, Joseph J|2013-09-16|ALVARES & MARSAL PAC|               Other|      Other|WASHINGTON|   DC|  20004|             null|   1500.0|     0.0|    0.0|    Check|     1500.0|\n",
            "|    2013|        326|     de Blasio, Bill|2013-10-07|Alvarez & Marsal PAC|Political Action ...|      Other|Washington|   DC|  20004|             null|   1500.0|     0.0|    0.0|    Check|     1500.0|\n",
            "|    2013|        326|     de Blasio, Bill|2013-10-20|American Federati...|         Labor Union|      Other|Washington|   DC|  20001|             null|   4950.0|     0.0|    0.0|    Check|     4950.0|\n",
            "+--------+-----------+--------------------+----------+--------------------+--------------------+-----------+----------+-----+-------+-----------------+---------+--------+-------+---------+-----------+\n",
            "only showing top 20 rows\n",
            "\n"
          ]
        }
      ]
    },
    {
      "cell_type": "code",
      "metadata": {
        "colab": {
          "base_uri": "https://localhost:8080/"
        },
        "id": "aC4kpwVLg_eP",
        "outputId": "434a2b50-94dd-4117-e49e-fc0db73bc231"
      },
      "source": [
        "# import modules\n",
        "from pyspark.sql import SparkSession\n",
        "import functools\n",
        "  \n",
        "# explicit function\n",
        "def unionAll(dfs):\n",
        "    return functools.reduce(lambda clean_indiv_2013_df, clean_comm_2013_df: clean_indiv_2013_df.union(clean_comm_2013_df.select(clean_indiv_2013_df.columns)), dfs)\n",
        "\n",
        "unioned_df = unionAll([clean_indiv_2013_df, clean_comm_2013_df])\n",
        "unioned_df.show()"
      ],
      "execution_count": 35,
      "outputs": [
        {
          "output_type": "stream",
          "name": "stdout",
          "text": [
            "+--------+-----------+--------------------+----------+-------------------+---------------+-------------+--------------+-----+-------+-----------------+------+--------+-------+-----------+-----------+\n",
            "|Election|CandidateID|       CandidateName|      Date|               Name|ContributerType|  BoroughName|          City|State|ZipCode|ContributionState|Amount|MatchAmt|PrevAmt|  PayMethod|TotalAmount|\n",
            "+--------+-----------+--------------------+----------+-------------------+---------------+-------------+--------------+-----+-------+-----------------+------+--------+-------+-----------+-----------+\n",
            "|    2013|       1286|Coenen, Jr., Kevin P|2013-01-25|    Coenen, Kevin P|      Candidate|        Other|     Nesconset|   NY|  11767|               NY|  10.0|     0.0|    0.0|Credit Card|       10.0|\n",
            "|    2013|       1286|Coenen, Jr., Kevin P|2013-04-17|     Walter, Dorsey|     Individual|    Manhattan|      New York|   NY|  10150|             null| 175.0|   175.0|    0.0|Credit Card|      350.0|\n",
            "|    2013|       1286|Coenen, Jr., Kevin P|2013-01-25|    Coenen, Kevin P|      Candidate|        Other|     Nesconset|   NY|  11767|             null| -10.0|     0.0|    0.0|    Unknown|      -10.0|\n",
            "|    2013|       1551|     Marks, Philip A|2012-02-13|      Marks, Philip|      Candidate|     Brooklyn|      Brooklyn|   NY|  11236|               NY| 400.0|   175.0|    0.0|      Check|      575.0|\n",
            "|    2013|       1551|     Marks, Philip A|2013-02-28|      Marks, Philip|      Candidate|     Brooklyn|      Brooklyn|   NY|  11236|               NY| 100.0|     0.0|  400.0|       Cash|      500.0|\n",
            "|    2013|       1639|Berkowitz, Ceceil...|2013-05-24|         Roc, Stacy|     Individual|        Other|     Uniondale|   NY|  11553|             null|  10.0|     0.0|    0.0|       Cash|       10.0|\n",
            "|    2013|       1639|Berkowitz, Ceceil...|2013-05-18|         He, Yufeng|     Individual|     Brooklyn|      Brooklyn|   NY|  11220|             null|  10.0|    10.0|    0.0|       Cash|       20.0|\n",
            "|    2013|       1639|Berkowitz, Ceceil...|2013-05-18|    Yaqoobi, Naseir|     Individual|        Other| Lake Hiawatha|   NJ|   7034|               NJ|  10.0|     0.0|    0.0|       Cash|       10.0|\n",
            "|    2013|       1639|Berkowitz, Ceceil...|2013-07-12|        Fung, Kevin|     Individual|        Bronx|         Bronx|   NY|  10461|             null|  10.0|    10.0|    0.0|       Cash|       20.0|\n",
            "|    2013|       1639|Berkowitz, Ceceil...|2013-08-01|Monroe, Christopher|     Individual|        Other|   Mt. Lebanon|   PA|  15228|               NJ|  10.0|     0.0|   10.0|Credit Card|       20.0|\n",
            "|    2013|       1639|Berkowitz, Ceceil...|2013-07-31|     Beegan, Daniel|     Individual|        Other|   Beech Grove|   IN|  46107|               IN|  10.0|     0.0|    0.0|Credit Card|       10.0|\n",
            "|    2013|       1639|Berkowitz, Ceceil...|2013-07-29|         Will, Eric|     Individual|        Other|     Knoxville|   TN|  37920|             null|  10.0|     0.0|    0.0|Credit Card|       10.0|\n",
            "|    2013|       1639|Berkowitz, Ceceil...|2013-07-29|         Will, Eric|     Individual|        Other|     Knoxville|   TN|  37920|             null|  10.0|     0.0|    0.0|Credit Card|       10.0|\n",
            "|    2013|       1639|Berkowitz, Ceceil...|2013-07-29|Monroe, Christopher|     Individual|        Other|   Mt. Lebanon|   PA|  15228|               NJ|  10.0|     0.0|    0.0|Credit Card|       10.0|\n",
            "|    2013|       1639|Berkowitz, Ceceil...|2013-07-19|      Judd, Timothy|     Individual|        Other|       Houston|   TX|  77018|             null|  10.0|     0.0|    0.0|Credit Card|       10.0|\n",
            "|    2013|       1639|Berkowitz, Ceceil...|2013-07-19|    Laohoo, William|     Individual|        Other|East Brunswick|   NJ|   8816|             null|  20.0|     0.0|    0.0|Credit Card|       20.0|\n",
            "|    2013|       1666|    Salgado, Erick J|2012-12-13|    Acevedo, Alexie|     Individual|        Other|     Brentwood|   NY|  11717|               NY| 100.0|     0.0|    0.0|       Cash|      100.0|\n",
            "|    2013|       1666|    Salgado, Erick J|2012-12-26|   Salgado, Erick J|      Candidate|Staten Island| Staten Island|   NY|  10302|               NJ|4000.0|   175.0|    0.0|      Check|     4175.0|\n",
            "|    2013|       1666|    Salgado, Erick J|2012-12-14|     Vargas, Lucino|     Individual|     Brooklyn|      Brooklyn|   NY|  11220|               NJ| 500.0|   175.0|    0.0|      Check|      675.0|\n",
            "|    2013|       1666|    Salgado, Erick J|2012-12-13|    Torres, Marcial|     Individual|        Other|       Matawan|   NJ|   7747|               NJ| 500.0|     0.0|    0.0|      Check|      500.0|\n",
            "+--------+-----------+--------------------+----------+-------------------+---------------+-------------+--------------+-----+-------+-----------------+------+--------+-------+-----------+-----------+\n",
            "only showing top 20 rows\n",
            "\n"
          ]
        }
      ]
    },
    {
      "cell_type": "code",
      "metadata": {
        "colab": {
          "base_uri": "https://localhost:8080/",
          "height": 604
        },
        "id": "S_M9WwiHg_gb",
        "outputId": "33ca82af-3209-4d6a-d2c9-9df4565c03e2"
      },
      "source": [
        "#Export to new CSV\n",
        "unioned_df.toPandas().to_csv(\"Unioned_2013.csv\", header=True)"
      ],
      "execution_count": 36,
      "outputs": [
        {
          "output_type": "error",
          "ename": "PythonException",
          "evalue": "ignored",
          "traceback": [
            "\u001b[0;31m---------------------------------------------------------------------------\u001b[0m",
            "\u001b[0;31mPythonException\u001b[0m                           Traceback (most recent call last)",
            "\u001b[0;32m<ipython-input-36-ac9ea4a0d228>\u001b[0m in \u001b[0;36m<module>\u001b[0;34m()\u001b[0m\n\u001b[1;32m      1\u001b[0m \u001b[0;31m#Export to new CSV\u001b[0m\u001b[0;34m\u001b[0m\u001b[0;34m\u001b[0m\u001b[0;34m\u001b[0m\u001b[0m\n\u001b[0;32m----> 2\u001b[0;31m \u001b[0munioned_df\u001b[0m\u001b[0;34m.\u001b[0m\u001b[0mtoPandas\u001b[0m\u001b[0;34m(\u001b[0m\u001b[0;34m)\u001b[0m\u001b[0;34m.\u001b[0m\u001b[0mto_csv\u001b[0m\u001b[0;34m(\u001b[0m\u001b[0;34m\"Unioned_2013.csv\"\u001b[0m\u001b[0;34m,\u001b[0m \u001b[0mheader\u001b[0m\u001b[0;34m=\u001b[0m\u001b[0;32mTrue\u001b[0m\u001b[0;34m)\u001b[0m\u001b[0;34m\u001b[0m\u001b[0;34m\u001b[0m\u001b[0m\n\u001b[0m",
            "\u001b[0;32m/content/spark-3.0.3-bin-hadoop2.7/python/pyspark/sql/pandas/conversion.py\u001b[0m in \u001b[0;36mtoPandas\u001b[0;34m(self)\u001b[0m\n\u001b[1;32m    136\u001b[0m \u001b[0;34m\u001b[0m\u001b[0m\n\u001b[1;32m    137\u001b[0m         \u001b[0;31m# Below is toPandas without Arrow optimization.\u001b[0m\u001b[0;34m\u001b[0m\u001b[0;34m\u001b[0m\u001b[0;34m\u001b[0m\u001b[0m\n\u001b[0;32m--> 138\u001b[0;31m         \u001b[0mpdf\u001b[0m \u001b[0;34m=\u001b[0m \u001b[0mpd\u001b[0m\u001b[0;34m.\u001b[0m\u001b[0mDataFrame\u001b[0m\u001b[0;34m.\u001b[0m\u001b[0mfrom_records\u001b[0m\u001b[0;34m(\u001b[0m\u001b[0mself\u001b[0m\u001b[0;34m.\u001b[0m\u001b[0mcollect\u001b[0m\u001b[0;34m(\u001b[0m\u001b[0;34m)\u001b[0m\u001b[0;34m,\u001b[0m \u001b[0mcolumns\u001b[0m\u001b[0;34m=\u001b[0m\u001b[0mself\u001b[0m\u001b[0;34m.\u001b[0m\u001b[0mcolumns\u001b[0m\u001b[0;34m)\u001b[0m\u001b[0;34m\u001b[0m\u001b[0;34m\u001b[0m\u001b[0m\n\u001b[0m\u001b[1;32m    139\u001b[0m         \u001b[0mcolumn_counter\u001b[0m \u001b[0;34m=\u001b[0m \u001b[0mCounter\u001b[0m\u001b[0;34m(\u001b[0m\u001b[0mself\u001b[0m\u001b[0;34m.\u001b[0m\u001b[0mcolumns\u001b[0m\u001b[0;34m)\u001b[0m\u001b[0;34m\u001b[0m\u001b[0;34m\u001b[0m\u001b[0m\n\u001b[1;32m    140\u001b[0m \u001b[0;34m\u001b[0m\u001b[0m\n",
            "\u001b[0;32m/content/spark-3.0.3-bin-hadoop2.7/python/pyspark/sql/dataframe.py\u001b[0m in \u001b[0;36mcollect\u001b[0;34m(self)\u001b[0m\n\u001b[1;32m    594\u001b[0m         \"\"\"\n\u001b[1;32m    595\u001b[0m         \u001b[0;32mwith\u001b[0m \u001b[0mSCCallSiteSync\u001b[0m\u001b[0;34m(\u001b[0m\u001b[0mself\u001b[0m\u001b[0;34m.\u001b[0m\u001b[0m_sc\u001b[0m\u001b[0;34m)\u001b[0m \u001b[0;32mas\u001b[0m \u001b[0mcss\u001b[0m\u001b[0;34m:\u001b[0m\u001b[0;34m\u001b[0m\u001b[0;34m\u001b[0m\u001b[0m\n\u001b[0;32m--> 596\u001b[0;31m             \u001b[0msock_info\u001b[0m \u001b[0;34m=\u001b[0m \u001b[0mself\u001b[0m\u001b[0;34m.\u001b[0m\u001b[0m_jdf\u001b[0m\u001b[0;34m.\u001b[0m\u001b[0mcollectToPython\u001b[0m\u001b[0;34m(\u001b[0m\u001b[0;34m)\u001b[0m\u001b[0;34m\u001b[0m\u001b[0;34m\u001b[0m\u001b[0m\n\u001b[0m\u001b[1;32m    597\u001b[0m         \u001b[0;32mreturn\u001b[0m \u001b[0mlist\u001b[0m\u001b[0;34m(\u001b[0m\u001b[0m_load_from_socket\u001b[0m\u001b[0;34m(\u001b[0m\u001b[0msock_info\u001b[0m\u001b[0;34m,\u001b[0m \u001b[0mBatchedSerializer\u001b[0m\u001b[0;34m(\u001b[0m\u001b[0mPickleSerializer\u001b[0m\u001b[0;34m(\u001b[0m\u001b[0;34m)\u001b[0m\u001b[0;34m)\u001b[0m\u001b[0;34m)\u001b[0m\u001b[0;34m)\u001b[0m\u001b[0;34m\u001b[0m\u001b[0;34m\u001b[0m\u001b[0m\n\u001b[1;32m    598\u001b[0m \u001b[0;34m\u001b[0m\u001b[0m\n",
            "\u001b[0;32m/content/spark-3.0.3-bin-hadoop2.7/python/lib/py4j-0.10.9-src.zip/py4j/java_gateway.py\u001b[0m in \u001b[0;36m__call__\u001b[0;34m(self, *args)\u001b[0m\n\u001b[1;32m   1303\u001b[0m         \u001b[0manswer\u001b[0m \u001b[0;34m=\u001b[0m \u001b[0mself\u001b[0m\u001b[0;34m.\u001b[0m\u001b[0mgateway_client\u001b[0m\u001b[0;34m.\u001b[0m\u001b[0msend_command\u001b[0m\u001b[0;34m(\u001b[0m\u001b[0mcommand\u001b[0m\u001b[0;34m)\u001b[0m\u001b[0;34m\u001b[0m\u001b[0;34m\u001b[0m\u001b[0m\n\u001b[1;32m   1304\u001b[0m         return_value = get_return_value(\n\u001b[0;32m-> 1305\u001b[0;31m             answer, self.gateway_client, self.target_id, self.name)\n\u001b[0m\u001b[1;32m   1306\u001b[0m \u001b[0;34m\u001b[0m\u001b[0m\n\u001b[1;32m   1307\u001b[0m         \u001b[0;32mfor\u001b[0m \u001b[0mtemp_arg\u001b[0m \u001b[0;32min\u001b[0m \u001b[0mtemp_args\u001b[0m\u001b[0;34m:\u001b[0m\u001b[0;34m\u001b[0m\u001b[0;34m\u001b[0m\u001b[0m\n",
            "\u001b[0;32m/content/spark-3.0.3-bin-hadoop2.7/python/pyspark/sql/utils.py\u001b[0m in \u001b[0;36mdeco\u001b[0;34m(*a, **kw)\u001b[0m\n\u001b[1;32m    132\u001b[0m                 \u001b[0;31m# Hide where the exception came from that shows a non-Pythonic\u001b[0m\u001b[0;34m\u001b[0m\u001b[0;34m\u001b[0m\u001b[0;34m\u001b[0m\u001b[0m\n\u001b[1;32m    133\u001b[0m                 \u001b[0;31m# JVM exception message.\u001b[0m\u001b[0;34m\u001b[0m\u001b[0;34m\u001b[0m\u001b[0;34m\u001b[0m\u001b[0m\n\u001b[0;32m--> 134\u001b[0;31m                 \u001b[0mraise_from\u001b[0m\u001b[0;34m(\u001b[0m\u001b[0mconverted\u001b[0m\u001b[0;34m)\u001b[0m\u001b[0;34m\u001b[0m\u001b[0;34m\u001b[0m\u001b[0m\n\u001b[0m\u001b[1;32m    135\u001b[0m             \u001b[0;32melse\u001b[0m\u001b[0;34m:\u001b[0m\u001b[0;34m\u001b[0m\u001b[0;34m\u001b[0m\u001b[0m\n\u001b[1;32m    136\u001b[0m                 \u001b[0;32mraise\u001b[0m\u001b[0;34m\u001b[0m\u001b[0;34m\u001b[0m\u001b[0m\n",
            "\u001b[0;32m/content/spark-3.0.3-bin-hadoop2.7/python/pyspark/sql/utils.py\u001b[0m in \u001b[0;36mraise_from\u001b[0;34m(e)\u001b[0m\n",
            "\u001b[0;31mPythonException\u001b[0m: \n  An exception was thrown from the Python worker. Please see the stack trace below.\nTraceback (most recent call last):\n  File \"/content/spark-3.0.3-bin-hadoop2.7/python/lib/pyspark.zip/pyspark/worker.py\", line 605, in main\n    process()\n  File \"/content/spark-3.0.3-bin-hadoop2.7/python/lib/pyspark.zip/pyspark/worker.py\", line 597, in process\n    serializer.dump_stream(out_iter, outfile)\n  File \"/content/spark-3.0.3-bin-hadoop2.7/python/lib/pyspark.zip/pyspark/serializers.py\", line 223, in dump_stream\n    self.serializer.dump_stream(self._batched(iterator), stream)\n  File \"/content/spark-3.0.3-bin-hadoop2.7/python/lib/pyspark.zip/pyspark/serializers.py\", line 141, in dump_stream\n    for obj in iterator:\n  File \"/content/spark-3.0.3-bin-hadoop2.7/python/lib/pyspark.zip/pyspark/serializers.py\", line 212, in _batched\n    for item in iterator:\n  File \"/content/spark-3.0.3-bin-hadoop2.7/python/lib/pyspark.zip/pyspark/worker.py\", line 450, in mapper\n    result = tuple(f(*[a[o] for o in arg_offsets]) for (arg_offsets, f) in udfs)\n  File \"/content/spark-3.0.3-bin-hadoop2.7/python/lib/pyspark.zip/pyspark/worker.py\", line 450, in <genexpr>\n    result = tuple(f(*[a[o] for o in arg_offsets]) for (arg_offsets, f) in udfs)\n  File \"/content/spark-3.0.3-bin-hadoop2.7/python/lib/pyspark.zip/pyspark/worker.py\", line 88, in <lambda>\n    return lambda *a: toInternal(f(*a))\n  File \"/content/spark-3.0.3-bin-hadoop2.7/python/lib/pyspark.zip/pyspark/util.py\", line 107, in wrapper\n    return f(*args, **kwargs)\n  File \"<ipython-input-11-ab9f23780e70>\", line 3, in <lambda>\nTypeError: strptime() argument 1 must be str, not None\n"
          ]
        }
      ]
    },
    {
      "cell_type": "code",
      "metadata": {
        "id": "S3PsGBmTLOhN"
      },
      "source": [
        "# Store environmental variable\n",
        "from getpass import getpass\n",
        "#Configure settings for RDS\n",
        "mode = \"append\"\n",
        "jdbc_url=\"jdbc:postgresql://database-final.cjdbapst3wjf.us-east-1.rds.amazonaws.com:5432/postgres\"\n",
        "config = {\"user\":\"postgres\",\n",
        "          \"password\": \"*****\",\n",
        "          \"driver\":\"org.postgresql.Driver\"}"
      ],
      "execution_count": null,
      "outputs": []
    },
    {
      "cell_type": "code",
      "metadata": {
        "id": "JP38ou7rs5hY"
      },
      "source": [
        "#Export to new CSV\n",
        "#clean_comm_2013_df.toPandas().to_csv(\"Clean_Committee_2013.csv\", header=True)"
      ],
      "execution_count": null,
      "outputs": []
    },
    {
      "cell_type": "code",
      "metadata": {
        "id": "BJ4dBFJKSG5J"
      },
      "source": [
        "## Write DataFrame to active_user table in RDS\n",
        "#clean_indiv_2013_df.write.jdbc(url=jdbc_url, table='individual_2013', mode=mode, properties=config)"
      ],
      "execution_count": null,
      "outputs": []
    },
    {
      "cell_type": "code",
      "metadata": {
        "id": "SSpL71qCG1F2"
      },
      "source": [
        "# Write DataFrame to active_user table in RDS\n",
        "#clean_comm_2013_df.write.jdbc(url=jdbc_url, table='committee_2013', mode=mode, properties=config)"
      ],
      "execution_count": null,
      "outputs": []
    }
  ]
}