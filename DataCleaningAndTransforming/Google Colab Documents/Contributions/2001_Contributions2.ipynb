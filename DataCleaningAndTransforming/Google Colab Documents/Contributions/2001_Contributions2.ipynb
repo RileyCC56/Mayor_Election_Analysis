{
  "nbformat": 4,
  "nbformat_minor": 0,
  "metadata": {
    "colab": {
      "name": "2001_Contributions.ipynb",
      "provenance": [],
      "authorship_tag": "ABX9TyOKUXpm16IoXOQ5rIVV0sH6",
      "include_colab_link": true
    },
    "kernelspec": {
      "name": "python3",
      "display_name": "Python 3"
    },
    "language_info": {
      "name": "python"
    }
  },
  "cells": [
    {
      "cell_type": "markdown",
      "metadata": {
        "id": "view-in-github",
        "colab_type": "text"
      },
      "source": [
        "<a href=\"https://colab.research.google.com/github/ssheggrud/Mod_20_Project/blob/05_Riley/2001_Contributions.ipynb\" target=\"_parent\"><img src=\"https://colab.research.google.com/assets/colab-badge.svg\" alt=\"Open In Colab\"/></a>"
      ]
    },
    {
      "cell_type": "markdown",
      "metadata": {
        "id": "qo0_SOu8LIEc"
      },
      "source": [
        " ***2001 Indivdual Contributions***"
      ]
    },
    {
      "cell_type": "code",
      "metadata": {
        "colab": {
          "base_uri": "https://localhost:8080/"
        },
        "id": "ddn5mqQ0M_R3",
        "outputId": "d341bf98-f6f9-49df-a4a3-aea9b44eaead"
      },
      "source": [
        "import os\n",
        "# Find the latest version of spark 3.0 from http://www.apache.org/dist/spark/ and enter as the spark version\n",
        "# For example:\n",
        "spark_version = 'spark-3.0.3'\n",
        "#spark_version = 'spark-2.4.8'\n",
        "os.environ['SPARK_VERSION']=spark_version\n",
        "\n",
        "# Install Spark and Java\n",
        "!apt-get update\n",
        "!apt-get install openjdk-11-jdk-headless -qq > /dev/null\n",
        "!wget -q http://www.apache.org/dist/spark/$SPARK_VERSION/$SPARK_VERSION-bin-hadoop2.7.tgz\n",
        "!tar xf $SPARK_VERSION-bin-hadoop2.7.tgz\n",
        "!pip install -q findspark\n",
        "\n",
        "# Set Environment Variables\n",
        "import os\n",
        "os.environ[\"JAVA_HOME\"] = \"/usr/lib/jvm/java-11-openjdk-amd64\"\n",
        "os.environ[\"SPARK_HOME\"] = f\"/content/{spark_version}-bin-hadoop2.7\"\n",
        "\n",
        "# Start a SparkSession\n",
        "import findspark\n",
        "findspark.init()\n",
        "\n",
        "import pandas as pd\n"
      ],
      "execution_count": 1,
      "outputs": [
        {
          "output_type": "stream",
          "name": "stdout",
          "text": [
            "\r0% [Working]\r            \rIgn:1 https://developer.download.nvidia.com/compute/cuda/repos/ubuntu1804/x86_64  InRelease\n",
            "\r0% [Connecting to archive.ubuntu.com] [Connecting to security.ubuntu.com (91.18\r                                                                               \rIgn:2 https://developer.download.nvidia.com/compute/machine-learning/repos/ubuntu1804/x86_64  InRelease\n",
            "\r0% [Connecting to archive.ubuntu.com] [Connecting to security.ubuntu.com (91.18\r                                                                               \rHit:3 https://developer.download.nvidia.com/compute/cuda/repos/ubuntu1804/x86_64  Release\n",
            "\r0% [Connecting to archive.ubuntu.com (91.189.88.142)] [Waiting for headers] [Wa\r                                                                               \rHit:4 https://cloud.r-project.org/bin/linux/ubuntu bionic-cran40/ InRelease\n",
            "Hit:5 https://developer.download.nvidia.com/compute/machine-learning/repos/ubuntu1804/x86_64  Release\n",
            "Hit:6 http://security.ubuntu.com/ubuntu bionic-security InRelease\n",
            "Hit:8 http://archive.ubuntu.com/ubuntu bionic InRelease\n",
            "Hit:10 http://archive.ubuntu.com/ubuntu bionic-updates InRelease\n",
            "Hit:11 http://ppa.launchpad.net/c2d4u.team/c2d4u4.0+/ubuntu bionic InRelease\n",
            "Hit:12 http://archive.ubuntu.com/ubuntu bionic-backports InRelease\n",
            "Hit:13 http://ppa.launchpad.net/cran/libgit2/ubuntu bionic InRelease\n",
            "Hit:14 http://ppa.launchpad.net/deadsnakes/ppa/ubuntu bionic InRelease\n",
            "Hit:15 http://ppa.launchpad.net/graphics-drivers/ppa/ubuntu bionic InRelease\n",
            "Reading package lists... Done\n"
          ]
        }
      ]
    },
    {
      "cell_type": "code",
      "metadata": {
        "id": "jiP19KLKCpxR"
      },
      "source": [
        "import findspark\n",
        "findspark.add_packages('mysql:mysql-connector-java:8.0.11')"
      ],
      "execution_count": 2,
      "outputs": []
    },
    {
      "cell_type": "code",
      "metadata": {
        "colab": {
          "base_uri": "https://localhost:8080/"
        },
        "id": "B9Dd_JabNFZU",
        "outputId": "a639d96f-77ac-4549-a062-ab924b999c08"
      },
      "source": [
        "# Download the Postgres driver that will allow Spark to interact with Postgres.\n",
        "!wget https://jdbc.postgresql.org/download/postgresql-42.2.16.jar"
      ],
      "execution_count": 3,
      "outputs": [
        {
          "output_type": "stream",
          "name": "stdout",
          "text": [
            "--2021-09-17 20:13:04--  https://jdbc.postgresql.org/download/postgresql-42.2.16.jar\n",
            "Resolving jdbc.postgresql.org (jdbc.postgresql.org)... 72.32.157.228, 2001:4800:3e1:1::228\n",
            "Connecting to jdbc.postgresql.org (jdbc.postgresql.org)|72.32.157.228|:443... connected.\n",
            "HTTP request sent, awaiting response... 200 OK\n",
            "Length: 1002883 (979K) [application/java-archive]\n",
            "Saving to: ‘postgresql-42.2.16.jar.1’\n",
            "\n",
            "postgresql-42.2.16. 100%[===================>] 979.38K  5.96MB/s    in 0.2s    \n",
            "\n",
            "2021-09-17 20:13:05 (5.96 MB/s) - ‘postgresql-42.2.16.jar.1’ saved [1002883/1002883]\n",
            "\n"
          ]
        }
      ]
    },
    {
      "cell_type": "code",
      "metadata": {
        "id": "VrvolWKMNFbe"
      },
      "source": [
        "# Start Spark session\n",
        "#from pyspark.sql import SparkSession\n",
        "#from pyspark.sql.functions import col\n",
        "#spark = SparkSession.builder.appName(\"FinalProject\").getOrCreate()"
      ],
      "execution_count": 4,
      "outputs": []
    },
    {
      "cell_type": "code",
      "metadata": {
        "id": "M9RnA4W6GDS6"
      },
      "source": [
        "from pyspark.sql import SparkSession\n",
        "spark = SparkSession.builder.appName(\"CloudETL\").config(\"spark.driver.extraClassPath\",\"/content/postgresql-42.2.16.jar\").getOrCreate()"
      ],
      "execution_count": 5,
      "outputs": []
    },
    {
      "cell_type": "code",
      "metadata": {
        "colab": {
          "base_uri": "https://localhost:8080/"
        },
        "id": "W2uxnkAjNFeD",
        "outputId": "8f7a7546-ed9e-4d84-a64f-828f3231d048"
      },
      "source": [
        "# Read in data from S3 Buckets\n",
        "from pyspark import SparkFiles\n",
        "url = \"https://databootcamp-final-05.s3.amazonaws.com/Resources/Individual+Contributions+2001.csv\"\n",
        "spark.sparkContext.addFile(url)\n",
        "df = spark.read.csv(SparkFiles.get(\"Individual+Contributions+2001.csv\"), sep=\",\", header=True)\n",
        "df.show()"
      ],
      "execution_count": 6,
      "outputs": [
        {
          "output_type": "stream",
          "name": "stdout",
          "text": [
            "+--------+--------+------+--------+-----------+---------+------+---------+------+--------+------+----------+--------+---------------+----------+----+------+-----+-------+---------+---------+----+-----+-----+-----------------+--------------------+--------+------------------+--------+--------+----+---------+--------+----------+--------+----------+--------+--------+--------+-------+-----+------+----------+----------+----------+----------+--------+---------+---------+--------+---------+------+-------+----------+\n",
            "|ELECTION|OFFICECD|CANDID|CANCLASS|   CANDLAST|CANDFIRST|CANDMI|COMMITTEE|FILING|SCHEDULE|PAGENO|SEQUENCENO|   REFNO|           DATE|REFUNDDATE|NAME|C_CODE|STRNO|STRNAME|APARTMENT|BOROUGHCD|CITY|STATE|  ZIP|       OCCUPATION|             EMPNAME|EMPSTRNO|        EMPSTRNAME| EMPCITY|EMPSTATE|AMNT|MATCHAMNT|PREVAMNT|PAY_METHOD|INTERMNO|INTERMNAME|INTSTRNO|INTSTRNM|INTAPTNO|INTCITY|INTST|INTZIP|INTEMPNAME|INTEMPSTNO|INTEMPSTNM|INTEMPCITY|INTEMPST|INTOCCUPA|PURPOSECD|EXEMPTCD|ADJTYPECD|RR_IND|SEG_IND|INT_C_CODE|\n",
            "+--------+--------+------+--------+-----------+---------+------+---------+------+--------+------+----------+--------+---------------+----------+----+------+-----+-------+---------+---------+----+-----+-----+-----------------+--------------------+--------+------------------+--------+--------+----+---------+--------+----------+--------+----------+--------+--------+--------+-------+-----+------+----------+----------+----------+----------+--------+---------+---------+--------+---------+------+-------+----------+\n",
            "|    2001|       5|   579|       P|     Hughes|  Michael|     B|        H|    10|     ABC|  null|      null|P0009-05|  8/8/2001 0:00|      null|null|   IND| null|   null|     null|        M|  NY|   NY|10034|             null|                null|    null|              null|    null|    null|  10|       10|       0|         2|    null|      null|    null|    null|    null|   null| null|  null|      null|      null|      null|      null|    null|     null|     null|    null|     null|     N|      N|      null|\n",
            "|    2001|       5|   559|       P|     Wooten|   Donald|     T|        H|    10|       D|  null|      null|P0001-01| 8/31/2001 0:00|      null|null|  OTHR| null|   null|     null|     null|null| null| null|SOCIAL CLUB OWNER|       THE ELITE ARK|      48|       WORTMAN AVE|BROOKLYN|      NY|   1|        0|       0|         0|    null|      null|    null|    null|    null|   null| null|  null|      null|      null|      null|      null|    null|     null|    RENTO|    null|     null|     N|   null|      null|\n",
            "|    2001|       5|    C6|       P|    Fabozzi|   Albert|  null|        H|     6|     ABC|  null|      null|P0003-08|  8/1/2000 0:00|      null|null|  CORP| null|   null|     null|     null|null| null| null|             null|MYOPTIC S DIVISIO...|      82|CHRISTOPHER STREET|NEW YORK|      NY| 100|        0|       0|         2|    null|      null|    null|    null|    null|   null| null|  null|      null|      null|      null|      null|    null|     null|     null|    null|     null|     N|      N|      null|\n",
            "|    2001|       2|   366|       P|      Colon|   Willie|  null|        H|     9|     ABC|  null|      null|P0007-09|  7/5/2001 0:00|      null|null|  UNKN| null|   null|     null|     null|null| null| null|             null|                null|    null|              null|    null|    null|  25|        0|       0|         0|    null|      null|    null|    null|    null|   null| null|  null|      null|      null|      null|      null|    null|     null|     null|    null|     null|     N|      N|      null|\n",
            "|    2001|       2|   366|       P|      Colon|   Willie|  null|        H|     9|     ABC|  null|      null|P0007-10|  7/5/2001 0:00|      null|null|  UNKN| null|   null|     null|     null|null| null| null|             null|                null|    null|              null|    null|    null| 100|        0|       0|         0|    null|      null|    null|    null|    null|   null| null|  null|      null|      null|      null|      null|    null|     null|     null|    null|     null|     N|      N|      null|\n",
            "|    2001|       2|   366|       P|      Colon|   Willie|  null|        H|     9|     ABC|  null|      null|P0001-08| 3/20/2001 0:00|      null|null|  UNKN| null|   null|     null|        X|null| null| null|             null|                null|    null|              null|    null|    null| 260|        0|       0|         0|    null|      null|    null|    null|    null|   null| null|  null|      null|      null|      null|      null|    null|     null|     null|    null|     null|     N|      N|      null|\n",
            "|    2001|       2|   366|       P|      Colon|   Willie|  null|        H|     9|     ABC|  null|      null|P0001-05| 2/20/2001 0:00|      null|null|  UNKN| null|   null|     null|     null|null| null| null|             null|                null|    null|              null|    null|    null| 300|        0|       0|         0|    null|      null|    null|    null|    null|   null| null|  null|      null|      null|      null|      null|    null|     null|     null|    null|     null|     N|      N|      null|\n",
            "|    2001|       5|    MJ|       P|   Martinez|     Juan|     D|        H|     9|     ABC|  null|      null|P0001-10|           null|      null|null|  UNKN| null|   null|     null|     null|null| null| null|             null|                null|    null|              null|    null|    null|   0|        0|       0|         0|    null|      null|    null|    null|    null|   null| null|  null|      null|      null|      null|      null|    null|     null|     null|    null|     null|     N|      N|      null|\n",
            "|    2001|       5|   448|       P|    Ciafone|     John|     J|        H|    10|     ABC|  null|      null|P0003-04|           null|      null|null|  UNKN| null|   null|     null|     null|null| null| null|             null|                null|    null|              null|    null|    null|   0|        0|       0|         0|    null|      null|    null|    null|    null|   null| null|  null|      null|      null|      null|      null|    null|     null|     null|    null|     null|     N|      N|      null|\n",
            "|    2001|       2|   366|       P|      Colon|   Willie|  null|        H|     9|     ABC|  null|      null|P0002-06| 4/24/2001 0:00|      null|null|   IND| null|   null|     null|     null|null| null| null|             null|                null|    null|              null|    null|    null|1040|        0|       0|         0|    null|      null|    null|    null|    null|   null| null|  null|      null|      null|      null|      null|    null|     null|     null|    null|     null|     N|      N|      null|\n",
            "|    2001|       2|   366|       P|      Colon|   Willie|  null|        H|     9|     ABC|  null|      null|P0003-01| 4/24/2001 0:00|      null|null|   IND| null|   null|     null|     null|null| null| null|             null|       NOT AVAILABLE|    null|              null|    null|    null| 250|        0|       0|         0|    null|      null|    null|    null|    null|   null| null|  null|      null|      null|      null|      null|    null|     null|     null|    null|     null|     N|      N|      null|\n",
            "|    2001|       5|   553|       P|Atwood King|Elizabeth|  null|        H|     9|     ABC|  null|      null|P0002-01| 7/13/2001 0:00|      null|null|   IND| null|   null|     null|        K|null| null| null|             null|                null|    null|              null|    null|    null|  45|       45|       0|         2|    null|      null|    null|    null|    null|   null| null|  null|      null|      null|      null|      null|    null|     null|     null|    null|     null|     N|      N|      null|\n",
            "|    2001|       6|   230|      NP|     Siegal|  Bernice|     D|        H|     4|     ABC|  null|      null|P0005-07|10/12/1999 0:00|      null|null|  EMPO| null|   null|     null|     null|null| null| null|             null|DISTRICT 15 INTER...|    1455|       MAIN AVENUE| CLIFTON|      NJ| 200|        0|       0|         2|    null|      null|    null|    null|    null|   null| null|  null|      null|      null|      null|      null|    null|     null|     null|    null|     null|     N|      N|      null|\n",
            "|    2001|       6|   230|      NP|     Siegal|  Bernice|     D|        H|     4|     ABC|  null|      null|P0005-08|10/20/1999 0:00|      null|null|  EMPO| null|   null|     null|     null|null| null| null|             null|EUREKA LODGE NO 4...|   91-31|QUEENS BLVD RM 406|ELMHURST|      NY| 100|        0|       0|         2|    null|      null|    null|    null|    null|   null| null|  null|      null|      null|      null|      null|    null|     null|     null|    null|     null|     N|      N|      null|\n",
            "|    2001|       6|   230|      NP|     Siegal|  Bernice|     D|        H|     4|     ABC|  null|      null|P0006-01|10/13/1999 0:00|      null|null|  EMPO| null|   null|     null|     null|null| null| null|             null|DIST 15 INTERN L ...|    1455|       MAIN AVENUE| CLIFTON|      NJ| 150|        0|       0|         2|    null|      null|    null|    null|    null|   null| null|  null|      null|      null|      null|      null|    null|     null|     null|    null|     null|     N|      N|      null|\n",
            "|    2001|       5|   232|       P|     Weprin|    David|     I|        H|     8|     ABC|  null|      null|P0001-06|           null|      null|null|  UNKN| null|   null|     null|     null|null| null| null|             null|                null|    null|              null|    null|    null|   0|        0|       0|         0|    null|      null|    null|    null|    null|   null| null|  null|      null|      null|      null|      null|    null|     null|     null|    null|     null|     N|      N|      null|\n",
            "|    2001|       5|   553|       P|Atwood King|Elizabeth|  null|        H|     8|     ABC|  null|      null|P0007-10|           null|      null|null|  UNKN| null|   null|     null|     null|null| null| null|             null|                null|    null|              null|    null|    null|  50|        0|       0|         2|    null|      null|    null|    null|    null|   null| null|  null|      null|      null|      null|      null|    null|     null|     null|    null|     null|     N|      N|      null|\n",
            "|    2001|       5|    F5|       P|    Montano|  Armando|  null|        H|    15|     ABC|  null|      null|P0001-01| 10/5/2001 0:00|      null|null|  UNKN| null|   null|     null|     null|null| null| null|             null|                null|    null|              null|    null|    null|  25|        0|       0|         0|    null|      null|    null|    null|    null|   null| null|  null|      null|      null|      null|      null|    null|     null|     null|    null|     null|     N|      N|      null|\n",
            "|    2001|       5|   232|       P|     Weprin|    David|     I|        H|    12|     ABC|  null|      null|P0001-04| 8/23/2001 0:00|      null|null| PCOMP| null|   null|     null|     null|null| null| null|             null|                null|    null|              null|    null|    null|   0|        0|       0|         0|    null|      null|    null|    null|    null|   null| null|  null|      null|      null|      null|      null|    null|     null|     null|    null|     null|     N|      N|      null|\n",
            "|    2001|       5|   334|       P|  Gallagher|   Dennis|     P|        H|    11|     ABC|  null|      null|P0006-01| 9/12/2001 0:00|      null|null|   IND| null|   null|     null|     null|null| null| null|             null|  COVILLA ETHELRIDGE|     180|      CABRINI BLVD|NEW YORK|      NY| 200|        0|       0|         2|    null|      null|    null|    null|    null|   null| null|  null|      null|      null|      null|      null|    null|     null|     null|    null|     null|     N|      N|      null|\n",
            "+--------+--------+------+--------+-----------+---------+------+---------+------+--------+------+----------+--------+---------------+----------+----+------+-----+-------+---------+---------+----+-----+-----+-----------------+--------------------+--------+------------------+--------+--------+----+---------+--------+----------+--------+----------+--------+--------+--------+-------+-----+------+----------+----------+----------+----------+--------+---------+---------+--------+---------+------+-------+----------+\n",
            "only showing top 20 rows\n",
            "\n"
          ]
        }
      ]
    },
    {
      "cell_type": "code",
      "metadata": {
        "colab": {
          "base_uri": "https://localhost:8080/"
        },
        "id": "Av3OwibjbTCF",
        "outputId": "6d6d4e2c-f2d2-4dbd-8406-9de8bd707299"
      },
      "source": [
        "from pyspark.sql.functions import concat_ws\n",
        "df2 = df.withColumn(\"CandidateName\", concat_ws(\",\",\"CANDFIRST\",'CANDLAST')) \n",
        "df2.show()"
      ],
      "execution_count": 7,
      "outputs": [
        {
          "output_type": "stream",
          "name": "stdout",
          "text": [
            "+--------+--------+------+--------+-----------+---------+------+---------+------+--------+------+----------+--------+---------------+----------+----+------+-----+-------+---------+---------+----+-----+-----+-----------------+--------------------+--------+------------------+--------+--------+----+---------+--------+----------+--------+----------+--------+--------+--------+-------+-----+------+----------+----------+----------+----------+--------+---------+---------+--------+---------+------+-------+----------+--------------------+\n",
            "|ELECTION|OFFICECD|CANDID|CANCLASS|   CANDLAST|CANDFIRST|CANDMI|COMMITTEE|FILING|SCHEDULE|PAGENO|SEQUENCENO|   REFNO|           DATE|REFUNDDATE|NAME|C_CODE|STRNO|STRNAME|APARTMENT|BOROUGHCD|CITY|STATE|  ZIP|       OCCUPATION|             EMPNAME|EMPSTRNO|        EMPSTRNAME| EMPCITY|EMPSTATE|AMNT|MATCHAMNT|PREVAMNT|PAY_METHOD|INTERMNO|INTERMNAME|INTSTRNO|INTSTRNM|INTAPTNO|INTCITY|INTST|INTZIP|INTEMPNAME|INTEMPSTNO|INTEMPSTNM|INTEMPCITY|INTEMPST|INTOCCUPA|PURPOSECD|EXEMPTCD|ADJTYPECD|RR_IND|SEG_IND|INT_C_CODE|       CandidateName|\n",
            "+--------+--------+------+--------+-----------+---------+------+---------+------+--------+------+----------+--------+---------------+----------+----+------+-----+-------+---------+---------+----+-----+-----+-----------------+--------------------+--------+------------------+--------+--------+----+---------+--------+----------+--------+----------+--------+--------+--------+-------+-----+------+----------+----------+----------+----------+--------+---------+---------+--------+---------+------+-------+----------+--------------------+\n",
            "|    2001|       5|   579|       P|     Hughes|  Michael|     B|        H|    10|     ABC|  null|      null|P0009-05|  8/8/2001 0:00|      null|null|   IND| null|   null|     null|        M|  NY|   NY|10034|             null|                null|    null|              null|    null|    null|  10|       10|       0|         2|    null|      null|    null|    null|    null|   null| null|  null|      null|      null|      null|      null|    null|     null|     null|    null|     null|     N|      N|      null|      Michael,Hughes|\n",
            "|    2001|       5|   559|       P|     Wooten|   Donald|     T|        H|    10|       D|  null|      null|P0001-01| 8/31/2001 0:00|      null|null|  OTHR| null|   null|     null|     null|null| null| null|SOCIAL CLUB OWNER|       THE ELITE ARK|      48|       WORTMAN AVE|BROOKLYN|      NY|   1|        0|       0|         0|    null|      null|    null|    null|    null|   null| null|  null|      null|      null|      null|      null|    null|     null|    RENTO|    null|     null|     N|   null|      null|       Donald,Wooten|\n",
            "|    2001|       5|    C6|       P|    Fabozzi|   Albert|  null|        H|     6|     ABC|  null|      null|P0003-08|  8/1/2000 0:00|      null|null|  CORP| null|   null|     null|     null|null| null| null|             null|MYOPTIC S DIVISIO...|      82|CHRISTOPHER STREET|NEW YORK|      NY| 100|        0|       0|         2|    null|      null|    null|    null|    null|   null| null|  null|      null|      null|      null|      null|    null|     null|     null|    null|     null|     N|      N|      null|      Albert,Fabozzi|\n",
            "|    2001|       2|   366|       P|      Colon|   Willie|  null|        H|     9|     ABC|  null|      null|P0007-09|  7/5/2001 0:00|      null|null|  UNKN| null|   null|     null|     null|null| null| null|             null|                null|    null|              null|    null|    null|  25|        0|       0|         0|    null|      null|    null|    null|    null|   null| null|  null|      null|      null|      null|      null|    null|     null|     null|    null|     null|     N|      N|      null|        Willie,Colon|\n",
            "|    2001|       2|   366|       P|      Colon|   Willie|  null|        H|     9|     ABC|  null|      null|P0007-10|  7/5/2001 0:00|      null|null|  UNKN| null|   null|     null|     null|null| null| null|             null|                null|    null|              null|    null|    null| 100|        0|       0|         0|    null|      null|    null|    null|    null|   null| null|  null|      null|      null|      null|      null|    null|     null|     null|    null|     null|     N|      N|      null|        Willie,Colon|\n",
            "|    2001|       2|   366|       P|      Colon|   Willie|  null|        H|     9|     ABC|  null|      null|P0001-08| 3/20/2001 0:00|      null|null|  UNKN| null|   null|     null|        X|null| null| null|             null|                null|    null|              null|    null|    null| 260|        0|       0|         0|    null|      null|    null|    null|    null|   null| null|  null|      null|      null|      null|      null|    null|     null|     null|    null|     null|     N|      N|      null|        Willie,Colon|\n",
            "|    2001|       2|   366|       P|      Colon|   Willie|  null|        H|     9|     ABC|  null|      null|P0001-05| 2/20/2001 0:00|      null|null|  UNKN| null|   null|     null|     null|null| null| null|             null|                null|    null|              null|    null|    null| 300|        0|       0|         0|    null|      null|    null|    null|    null|   null| null|  null|      null|      null|      null|      null|    null|     null|     null|    null|     null|     N|      N|      null|        Willie,Colon|\n",
            "|    2001|       5|    MJ|       P|   Martinez|     Juan|     D|        H|     9|     ABC|  null|      null|P0001-10|           null|      null|null|  UNKN| null|   null|     null|     null|null| null| null|             null|                null|    null|              null|    null|    null|   0|        0|       0|         0|    null|      null|    null|    null|    null|   null| null|  null|      null|      null|      null|      null|    null|     null|     null|    null|     null|     N|      N|      null|       Juan,Martinez|\n",
            "|    2001|       5|   448|       P|    Ciafone|     John|     J|        H|    10|     ABC|  null|      null|P0003-04|           null|      null|null|  UNKN| null|   null|     null|     null|null| null| null|             null|                null|    null|              null|    null|    null|   0|        0|       0|         0|    null|      null|    null|    null|    null|   null| null|  null|      null|      null|      null|      null|    null|     null|     null|    null|     null|     N|      N|      null|        John,Ciafone|\n",
            "|    2001|       2|   366|       P|      Colon|   Willie|  null|        H|     9|     ABC|  null|      null|P0002-06| 4/24/2001 0:00|      null|null|   IND| null|   null|     null|     null|null| null| null|             null|                null|    null|              null|    null|    null|1040|        0|       0|         0|    null|      null|    null|    null|    null|   null| null|  null|      null|      null|      null|      null|    null|     null|     null|    null|     null|     N|      N|      null|        Willie,Colon|\n",
            "|    2001|       2|   366|       P|      Colon|   Willie|  null|        H|     9|     ABC|  null|      null|P0003-01| 4/24/2001 0:00|      null|null|   IND| null|   null|     null|     null|null| null| null|             null|       NOT AVAILABLE|    null|              null|    null|    null| 250|        0|       0|         0|    null|      null|    null|    null|    null|   null| null|  null|      null|      null|      null|      null|    null|     null|     null|    null|     null|     N|      N|      null|        Willie,Colon|\n",
            "|    2001|       5|   553|       P|Atwood King|Elizabeth|  null|        H|     9|     ABC|  null|      null|P0002-01| 7/13/2001 0:00|      null|null|   IND| null|   null|     null|        K|null| null| null|             null|                null|    null|              null|    null|    null|  45|       45|       0|         2|    null|      null|    null|    null|    null|   null| null|  null|      null|      null|      null|      null|    null|     null|     null|    null|     null|     N|      N|      null|Elizabeth,Atwood ...|\n",
            "|    2001|       6|   230|      NP|     Siegal|  Bernice|     D|        H|     4|     ABC|  null|      null|P0005-07|10/12/1999 0:00|      null|null|  EMPO| null|   null|     null|     null|null| null| null|             null|DISTRICT 15 INTER...|    1455|       MAIN AVENUE| CLIFTON|      NJ| 200|        0|       0|         2|    null|      null|    null|    null|    null|   null| null|  null|      null|      null|      null|      null|    null|     null|     null|    null|     null|     N|      N|      null|      Bernice,Siegal|\n",
            "|    2001|       6|   230|      NP|     Siegal|  Bernice|     D|        H|     4|     ABC|  null|      null|P0005-08|10/20/1999 0:00|      null|null|  EMPO| null|   null|     null|     null|null| null| null|             null|EUREKA LODGE NO 4...|   91-31|QUEENS BLVD RM 406|ELMHURST|      NY| 100|        0|       0|         2|    null|      null|    null|    null|    null|   null| null|  null|      null|      null|      null|      null|    null|     null|     null|    null|     null|     N|      N|      null|      Bernice,Siegal|\n",
            "|    2001|       6|   230|      NP|     Siegal|  Bernice|     D|        H|     4|     ABC|  null|      null|P0006-01|10/13/1999 0:00|      null|null|  EMPO| null|   null|     null|     null|null| null| null|             null|DIST 15 INTERN L ...|    1455|       MAIN AVENUE| CLIFTON|      NJ| 150|        0|       0|         2|    null|      null|    null|    null|    null|   null| null|  null|      null|      null|      null|      null|    null|     null|     null|    null|     null|     N|      N|      null|      Bernice,Siegal|\n",
            "|    2001|       5|   232|       P|     Weprin|    David|     I|        H|     8|     ABC|  null|      null|P0001-06|           null|      null|null|  UNKN| null|   null|     null|     null|null| null| null|             null|                null|    null|              null|    null|    null|   0|        0|       0|         0|    null|      null|    null|    null|    null|   null| null|  null|      null|      null|      null|      null|    null|     null|     null|    null|     null|     N|      N|      null|        David,Weprin|\n",
            "|    2001|       5|   553|       P|Atwood King|Elizabeth|  null|        H|     8|     ABC|  null|      null|P0007-10|           null|      null|null|  UNKN| null|   null|     null|     null|null| null| null|             null|                null|    null|              null|    null|    null|  50|        0|       0|         2|    null|      null|    null|    null|    null|   null| null|  null|      null|      null|      null|      null|    null|     null|     null|    null|     null|     N|      N|      null|Elizabeth,Atwood ...|\n",
            "|    2001|       5|    F5|       P|    Montano|  Armando|  null|        H|    15|     ABC|  null|      null|P0001-01| 10/5/2001 0:00|      null|null|  UNKN| null|   null|     null|     null|null| null| null|             null|                null|    null|              null|    null|    null|  25|        0|       0|         0|    null|      null|    null|    null|    null|   null| null|  null|      null|      null|      null|      null|    null|     null|     null|    null|     null|     N|      N|      null|     Armando,Montano|\n",
            "|    2001|       5|   232|       P|     Weprin|    David|     I|        H|    12|     ABC|  null|      null|P0001-04| 8/23/2001 0:00|      null|null| PCOMP| null|   null|     null|     null|null| null| null|             null|                null|    null|              null|    null|    null|   0|        0|       0|         0|    null|      null|    null|    null|    null|   null| null|  null|      null|      null|      null|      null|    null|     null|     null|    null|     null|     N|      N|      null|        David,Weprin|\n",
            "|    2001|       5|   334|       P|  Gallagher|   Dennis|     P|        H|    11|     ABC|  null|      null|P0006-01| 9/12/2001 0:00|      null|null|   IND| null|   null|     null|     null|null| null| null|             null|  COVILLA ETHELRIDGE|     180|      CABRINI BLVD|NEW YORK|      NY| 200|        0|       0|         2|    null|      null|    null|    null|    null|   null| null|  null|      null|      null|      null|      null|    null|     null|     null|    null|     null|     N|      N|      null|    Dennis,Gallagher|\n",
            "+--------+--------+------+--------+-----------+---------+------+---------+------+--------+------+----------+--------+---------------+----------+----+------+-----+-------+---------+---------+----+-----+-----+-----------------+--------------------+--------+------------------+--------+--------+----+---------+--------+----------+--------+----------+--------+--------+--------+-------+-----+------+----------+----------+----------+----------+--------+---------+---------+--------+---------+------+-------+----------+--------------------+\n",
            "only showing top 20 rows\n",
            "\n"
          ]
        }
      ]
    },
    {
      "cell_type": "code",
      "metadata": {
        "colab": {
          "base_uri": "https://localhost:8080/"
        },
        "id": "e2cRNc4wNFgt",
        "outputId": "b42d18c8-bb03-4366-d4c9-712e50d78619"
      },
      "source": [
        "# Remove multiple columns\n",
        "list = ['COMMITTEE', 'CANDMI', 'CANDLAST', 'CANDFIRST','FILING', 'SCHEDULE', 'PAGENO', 'SEQUENCENO','REFNO', 'STRNO', 'STRNAME', 'APARTMENT', 'OCCUPATION', 'EMPNAME', 'EMPSTATE', 'EMPSTRNO', 'EMPSTRNAME',\n",
        "                'EMPCITY','INTERMNO', 'REFUNDDATE', 'INTERMNAME', 'INTSTRNO', 'INTSTRNM', 'INTSTRNM', 'INTAPTNO',\n",
        "                'INTCITY', 'INTST','INTZIP', 'INTEMPNAME', 'INTEMPSTNO', 'INTEMPSTNM', 'INTEMPCITY', 'INTEMPST', 'INTOCCUPA' ,'PURPOSECD', 'EXEMPTCD','ADJTYPECD', 'RR_IND', 'SEG_IND','INT_C_CODE'] \n",
        "df3 = df2.drop(*list)\n",
        "df3.show()"
      ],
      "execution_count": 8,
      "outputs": [
        {
          "output_type": "stream",
          "name": "stdout",
          "text": [
            "+--------+--------+------+--------+---------------+----+------+---------+----+-----+-----+----+---------+--------+----------+--------------------+\n",
            "|ELECTION|OFFICECD|CANDID|CANCLASS|           DATE|NAME|C_CODE|BOROUGHCD|CITY|STATE|  ZIP|AMNT|MATCHAMNT|PREVAMNT|PAY_METHOD|       CandidateName|\n",
            "+--------+--------+------+--------+---------------+----+------+---------+----+-----+-----+----+---------+--------+----------+--------------------+\n",
            "|    2001|       5|   579|       P|  8/8/2001 0:00|null|   IND|        M|  NY|   NY|10034|  10|       10|       0|         2|      Michael,Hughes|\n",
            "|    2001|       5|   559|       P| 8/31/2001 0:00|null|  OTHR|     null|null| null| null|   1|        0|       0|         0|       Donald,Wooten|\n",
            "|    2001|       5|    C6|       P|  8/1/2000 0:00|null|  CORP|     null|null| null| null| 100|        0|       0|         2|      Albert,Fabozzi|\n",
            "|    2001|       2|   366|       P|  7/5/2001 0:00|null|  UNKN|     null|null| null| null|  25|        0|       0|         0|        Willie,Colon|\n",
            "|    2001|       2|   366|       P|  7/5/2001 0:00|null|  UNKN|     null|null| null| null| 100|        0|       0|         0|        Willie,Colon|\n",
            "|    2001|       2|   366|       P| 3/20/2001 0:00|null|  UNKN|        X|null| null| null| 260|        0|       0|         0|        Willie,Colon|\n",
            "|    2001|       2|   366|       P| 2/20/2001 0:00|null|  UNKN|     null|null| null| null| 300|        0|       0|         0|        Willie,Colon|\n",
            "|    2001|       5|    MJ|       P|           null|null|  UNKN|     null|null| null| null|   0|        0|       0|         0|       Juan,Martinez|\n",
            "|    2001|       5|   448|       P|           null|null|  UNKN|     null|null| null| null|   0|        0|       0|         0|        John,Ciafone|\n",
            "|    2001|       2|   366|       P| 4/24/2001 0:00|null|   IND|     null|null| null| null|1040|        0|       0|         0|        Willie,Colon|\n",
            "|    2001|       2|   366|       P| 4/24/2001 0:00|null|   IND|     null|null| null| null| 250|        0|       0|         0|        Willie,Colon|\n",
            "|    2001|       5|   553|       P| 7/13/2001 0:00|null|   IND|        K|null| null| null|  45|       45|       0|         2|Elizabeth,Atwood ...|\n",
            "|    2001|       6|   230|      NP|10/12/1999 0:00|null|  EMPO|     null|null| null| null| 200|        0|       0|         2|      Bernice,Siegal|\n",
            "|    2001|       6|   230|      NP|10/20/1999 0:00|null|  EMPO|     null|null| null| null| 100|        0|       0|         2|      Bernice,Siegal|\n",
            "|    2001|       6|   230|      NP|10/13/1999 0:00|null|  EMPO|     null|null| null| null| 150|        0|       0|         2|      Bernice,Siegal|\n",
            "|    2001|       5|   232|       P|           null|null|  UNKN|     null|null| null| null|   0|        0|       0|         0|        David,Weprin|\n",
            "|    2001|       5|   553|       P|           null|null|  UNKN|     null|null| null| null|  50|        0|       0|         2|Elizabeth,Atwood ...|\n",
            "|    2001|       5|    F5|       P| 10/5/2001 0:00|null|  UNKN|     null|null| null| null|  25|        0|       0|         0|     Armando,Montano|\n",
            "|    2001|       5|   232|       P| 8/23/2001 0:00|null| PCOMP|     null|null| null| null|   0|        0|       0|         0|        David,Weprin|\n",
            "|    2001|       5|   334|       P| 9/12/2001 0:00|null|   IND|     null|null| null| null| 200|        0|       0|         2|    Dennis,Gallagher|\n",
            "+--------+--------+------+--------+---------------+----+------+---------+----+-----+-----+----+---------+--------+----------+--------------------+\n",
            "only showing top 20 rows\n",
            "\n"
          ]
        }
      ]
    },
    {
      "cell_type": "code",
      "metadata": {
        "id": "LcGhryiVhUD7"
      },
      "source": [
        "#Rearrange columns\n",
        "df4=df3.select('ELECTION','OFFICECD','CANDID','CANCLASS','CandidateName', 'DATE', 'NAME','C_CODE','BOROUGHCD','CITY','STATE', 'ZIP', 'AMNT', 'MATCHAMNT', 'PREVAMNT', 'PAY_METHOD')"
      ],
      "execution_count": 9,
      "outputs": []
    },
    {
      "cell_type": "code",
      "metadata": {
        "colab": {
          "base_uri": "https://localhost:8080/"
        },
        "id": "g5aiRN5RNFjB",
        "outputId": "38bc72f6-3815-4997-e194-1848a678894d"
      },
      "source": [
        "# check data types\n",
        "df4.dtypes"
      ],
      "execution_count": 10,
      "outputs": [
        {
          "output_type": "execute_result",
          "data": {
            "text/plain": [
              "[('ELECTION', 'string'),\n",
              " ('OFFICECD', 'string'),\n",
              " ('CANDID', 'string'),\n",
              " ('CANCLASS', 'string'),\n",
              " ('CandidateName', 'string'),\n",
              " ('DATE', 'string'),\n",
              " ('NAME', 'string'),\n",
              " ('C_CODE', 'string'),\n",
              " ('BOROUGHCD', 'string'),\n",
              " ('CITY', 'string'),\n",
              " ('STATE', 'string'),\n",
              " ('ZIP', 'string'),\n",
              " ('AMNT', 'string'),\n",
              " ('MATCHAMNT', 'string'),\n",
              " ('PREVAMNT', 'string'),\n",
              " ('PAY_METHOD', 'string')]"
            ]
          },
          "metadata": {},
          "execution_count": 10
        }
      ]
    },
    {
      "cell_type": "code",
      "metadata": {
        "colab": {
          "base_uri": "https://localhost:8080/"
        },
        "id": "tIkq3wdqOzWV",
        "outputId": "1d090e6b-dc27-435f-8a3c-b52c50677079"
      },
      "source": [
        "#Change column names\n",
        "df5 = df4 \\\n",
        ".withColumnRenamed(\"ELECTION\", \"Election\") \\\n",
        ".withColumnRenamed(\"CANDID\", \"CandidateID\") \\\n",
        ".withColumnRenamed(\"DATE\", \"Date\") \\\n",
        ".withColumnRenamed(\"NAME\", \"Name\") \\\n",
        ".withColumnRenamed(\"C_CODE\", \"ContributorType\") \\\n",
        ".withColumnRenamed(\"BOROUGHCD\", \"BoroughName\") \\\n",
        ".withColumnRenamed(\"CITY\", \"City\") \\\n",
        ".withColumnRenamed(\"STATE\", \"State\") \\\n",
        ".withColumnRenamed(\"ZIP\", \"ZipCode\") \\\n",
        ".withColumnRenamed(\"EMPSTATE\", \"ContributionState\") \\\n",
        ".withColumnRenamed(\"AMNT\", \"Amount\") \\\n",
        ".withColumnRenamed(\"MATCHAMNT\", \"MatchAmt\") \\\n",
        ".withColumnRenamed(\"PREVAMNT\", \"PrevAmt\") \\\n",
        ".withColumnRenamed(\"PAY_METHOD\", \"PayMethod\")\n",
        "\n",
        "df5.printSchema()"
      ],
      "execution_count": 11,
      "outputs": [
        {
          "output_type": "stream",
          "name": "stdout",
          "text": [
            "root\n",
            " |-- Election: string (nullable = true)\n",
            " |-- OFFICECD: string (nullable = true)\n",
            " |-- CandidateID: string (nullable = true)\n",
            " |-- CANCLASS: string (nullable = true)\n",
            " |-- CandidateName: string (nullable = false)\n",
            " |-- Date: string (nullable = true)\n",
            " |-- Name: string (nullable = true)\n",
            " |-- ContributorType: string (nullable = true)\n",
            " |-- BoroughName: string (nullable = true)\n",
            " |-- City: string (nullable = true)\n",
            " |-- State: string (nullable = true)\n",
            " |-- ZipCode: string (nullable = true)\n",
            " |-- Amount: string (nullable = true)\n",
            " |-- MatchAmt: string (nullable = true)\n",
            " |-- PrevAmt: string (nullable = true)\n",
            " |-- PayMethod: string (nullable = true)\n",
            "\n"
          ]
        }
      ]
    },
    {
      "cell_type": "code",
      "metadata": {
        "colab": {
          "base_uri": "https://localhost:8080/"
        },
        "id": "SSDl8jYwX-5y",
        "outputId": "5e1ed5c1-cc96-488c-d7fa-940417e51434"
      },
      "source": [
        "df5.show()"
      ],
      "execution_count": 12,
      "outputs": [
        {
          "output_type": "stream",
          "name": "stdout",
          "text": [
            "+--------+--------+-----------+--------+--------------------+---------------+----+---------------+-----------+----+-----+-------+------+--------+-------+---------+\n",
            "|Election|OFFICECD|CandidateID|CANCLASS|       CandidateName|           Date|Name|ContributorType|BoroughName|City|State|ZipCode|Amount|MatchAmt|PrevAmt|PayMethod|\n",
            "+--------+--------+-----------+--------+--------------------+---------------+----+---------------+-----------+----+-----+-------+------+--------+-------+---------+\n",
            "|    2001|       5|        579|       P|      Michael,Hughes|  8/8/2001 0:00|null|            IND|          M|  NY|   NY|  10034|    10|      10|      0|        2|\n",
            "|    2001|       5|        559|       P|       Donald,Wooten| 8/31/2001 0:00|null|           OTHR|       null|null| null|   null|     1|       0|      0|        0|\n",
            "|    2001|       5|         C6|       P|      Albert,Fabozzi|  8/1/2000 0:00|null|           CORP|       null|null| null|   null|   100|       0|      0|        2|\n",
            "|    2001|       2|        366|       P|        Willie,Colon|  7/5/2001 0:00|null|           UNKN|       null|null| null|   null|    25|       0|      0|        0|\n",
            "|    2001|       2|        366|       P|        Willie,Colon|  7/5/2001 0:00|null|           UNKN|       null|null| null|   null|   100|       0|      0|        0|\n",
            "|    2001|       2|        366|       P|        Willie,Colon| 3/20/2001 0:00|null|           UNKN|          X|null| null|   null|   260|       0|      0|        0|\n",
            "|    2001|       2|        366|       P|        Willie,Colon| 2/20/2001 0:00|null|           UNKN|       null|null| null|   null|   300|       0|      0|        0|\n",
            "|    2001|       5|         MJ|       P|       Juan,Martinez|           null|null|           UNKN|       null|null| null|   null|     0|       0|      0|        0|\n",
            "|    2001|       5|        448|       P|        John,Ciafone|           null|null|           UNKN|       null|null| null|   null|     0|       0|      0|        0|\n",
            "|    2001|       2|        366|       P|        Willie,Colon| 4/24/2001 0:00|null|            IND|       null|null| null|   null|  1040|       0|      0|        0|\n",
            "|    2001|       2|        366|       P|        Willie,Colon| 4/24/2001 0:00|null|            IND|       null|null| null|   null|   250|       0|      0|        0|\n",
            "|    2001|       5|        553|       P|Elizabeth,Atwood ...| 7/13/2001 0:00|null|            IND|          K|null| null|   null|    45|      45|      0|        2|\n",
            "|    2001|       6|        230|      NP|      Bernice,Siegal|10/12/1999 0:00|null|           EMPO|       null|null| null|   null|   200|       0|      0|        2|\n",
            "|    2001|       6|        230|      NP|      Bernice,Siegal|10/20/1999 0:00|null|           EMPO|       null|null| null|   null|   100|       0|      0|        2|\n",
            "|    2001|       6|        230|      NP|      Bernice,Siegal|10/13/1999 0:00|null|           EMPO|       null|null| null|   null|   150|       0|      0|        2|\n",
            "|    2001|       5|        232|       P|        David,Weprin|           null|null|           UNKN|       null|null| null|   null|     0|       0|      0|        0|\n",
            "|    2001|       5|        553|       P|Elizabeth,Atwood ...|           null|null|           UNKN|       null|null| null|   null|    50|       0|      0|        2|\n",
            "|    2001|       5|         F5|       P|     Armando,Montano| 10/5/2001 0:00|null|           UNKN|       null|null| null|   null|    25|       0|      0|        0|\n",
            "|    2001|       5|        232|       P|        David,Weprin| 8/23/2001 0:00|null|          PCOMP|       null|null| null|   null|     0|       0|      0|        0|\n",
            "|    2001|       5|        334|       P|    Dennis,Gallagher| 9/12/2001 0:00|null|            IND|       null|null| null|   null|   200|       0|      0|        2|\n",
            "+--------+--------+-----------+--------+--------------------+---------------+----+---------------+-----------+----+-----+-------+------+--------+-------+---------+\n",
            "only showing top 20 rows\n",
            "\n"
          ]
        }
      ]
    },
    {
      "cell_type": "code",
      "metadata": {
        "id": "5p5HwOCEjlsd"
      },
      "source": [
        "from datetime import datetime\n",
        "from pyspark.sql.functions import col, udf\n",
        "from pyspark.sql.types import DateType"
      ],
      "execution_count": 13,
      "outputs": []
    },
    {
      "cell_type": "code",
      "metadata": {
        "id": "dbyFIRMwjlzM"
      },
      "source": [
        "# using lambda function to convert date col to datetype\n",
        "# changing datatypes of columns\n",
        "#func =  udf (lambda x: datetime.strptime(x, '%m/%d/%Y'), DateType())\n",
        "#df6 = df5.withColumn(\"Election\", df5[\"Election\"].cast(\"Integer\")) \\\n",
        " # .withColumn(\"OFFICECD\", df5[\"OFFICECD\"].cast(\"Integer\")) \\\n",
        "  #.withColumn(\"ZipCode\", df5[\"ZipCode\"].cast(\"Integer\")) \\\n",
        "  #.withColumn(\"Amount\", df5[\"Amount\"].cast(\"Float\")) \\\n",
        "  #.withColumn(\"MatchAmt\", df5[\"MatchAmt\"].cast(\"Float\")) \\\n",
        "  #.withColumn(\"PrevAmt\", df5[\"PrevAmt\"].cast(\"Float\")) \\\n",
        "  #.withColumn('Date', func(col('Date')))\n",
        "\n",
        "#df6.printSchema()\n",
        "\n",
        "#Keep CandidateID as string\n",
        "#.withColumn(\"CandidateID\", df4[\"CandidateID\"].cast(\"Integer\")) \\\n"
      ],
      "execution_count": 14,
      "outputs": []
    },
    {
      "cell_type": "code",
      "metadata": {
        "colab": {
          "base_uri": "https://localhost:8080/"
        },
        "id": "RmBZCyVOpt-C",
        "outputId": "08b5ba1c-6dda-4bbf-c3b5-09413e810fe8"
      },
      "source": [
        "df5.show()"
      ],
      "execution_count": 15,
      "outputs": [
        {
          "output_type": "stream",
          "name": "stdout",
          "text": [
            "+--------+--------+-----------+--------+--------------------+---------------+----+---------------+-----------+----+-----+-------+------+--------+-------+---------+\n",
            "|Election|OFFICECD|CandidateID|CANCLASS|       CandidateName|           Date|Name|ContributorType|BoroughName|City|State|ZipCode|Amount|MatchAmt|PrevAmt|PayMethod|\n",
            "+--------+--------+-----------+--------+--------------------+---------------+----+---------------+-----------+----+-----+-------+------+--------+-------+---------+\n",
            "|    2001|       5|        579|       P|      Michael,Hughes|  8/8/2001 0:00|null|            IND|          M|  NY|   NY|  10034|    10|      10|      0|        2|\n",
            "|    2001|       5|        559|       P|       Donald,Wooten| 8/31/2001 0:00|null|           OTHR|       null|null| null|   null|     1|       0|      0|        0|\n",
            "|    2001|       5|         C6|       P|      Albert,Fabozzi|  8/1/2000 0:00|null|           CORP|       null|null| null|   null|   100|       0|      0|        2|\n",
            "|    2001|       2|        366|       P|        Willie,Colon|  7/5/2001 0:00|null|           UNKN|       null|null| null|   null|    25|       0|      0|        0|\n",
            "|    2001|       2|        366|       P|        Willie,Colon|  7/5/2001 0:00|null|           UNKN|       null|null| null|   null|   100|       0|      0|        0|\n",
            "|    2001|       2|        366|       P|        Willie,Colon| 3/20/2001 0:00|null|           UNKN|          X|null| null|   null|   260|       0|      0|        0|\n",
            "|    2001|       2|        366|       P|        Willie,Colon| 2/20/2001 0:00|null|           UNKN|       null|null| null|   null|   300|       0|      0|        0|\n",
            "|    2001|       5|         MJ|       P|       Juan,Martinez|           null|null|           UNKN|       null|null| null|   null|     0|       0|      0|        0|\n",
            "|    2001|       5|        448|       P|        John,Ciafone|           null|null|           UNKN|       null|null| null|   null|     0|       0|      0|        0|\n",
            "|    2001|       2|        366|       P|        Willie,Colon| 4/24/2001 0:00|null|            IND|       null|null| null|   null|  1040|       0|      0|        0|\n",
            "|    2001|       2|        366|       P|        Willie,Colon| 4/24/2001 0:00|null|            IND|       null|null| null|   null|   250|       0|      0|        0|\n",
            "|    2001|       5|        553|       P|Elizabeth,Atwood ...| 7/13/2001 0:00|null|            IND|          K|null| null|   null|    45|      45|      0|        2|\n",
            "|    2001|       6|        230|      NP|      Bernice,Siegal|10/12/1999 0:00|null|           EMPO|       null|null| null|   null|   200|       0|      0|        2|\n",
            "|    2001|       6|        230|      NP|      Bernice,Siegal|10/20/1999 0:00|null|           EMPO|       null|null| null|   null|   100|       0|      0|        2|\n",
            "|    2001|       6|        230|      NP|      Bernice,Siegal|10/13/1999 0:00|null|           EMPO|       null|null| null|   null|   150|       0|      0|        2|\n",
            "|    2001|       5|        232|       P|        David,Weprin|           null|null|           UNKN|       null|null| null|   null|     0|       0|      0|        0|\n",
            "|    2001|       5|        553|       P|Elizabeth,Atwood ...|           null|null|           UNKN|       null|null| null|   null|    50|       0|      0|        2|\n",
            "|    2001|       5|         F5|       P|     Armando,Montano| 10/5/2001 0:00|null|           UNKN|       null|null| null|   null|    25|       0|      0|        0|\n",
            "|    2001|       5|        232|       P|        David,Weprin| 8/23/2001 0:00|null|          PCOMP|       null|null| null|   null|     0|       0|      0|        0|\n",
            "|    2001|       5|        334|       P|    Dennis,Gallagher| 9/12/2001 0:00|null|            IND|       null|null| null|   null|   200|       0|      0|        2|\n",
            "+--------+--------+-----------+--------+--------------------+---------------+----+---------------+-----------+----+-----+-------+------+--------+-------+---------+\n",
            "only showing top 20 rows\n",
            "\n"
          ]
        }
      ]
    },
    {
      "cell_type": "code",
      "metadata": {
        "id": "h1aCPuV3WPwC"
      },
      "source": [
        "#Change vaule name in ContributerType\n",
        "from pyspark.sql.functions import regexp_replace\n",
        "df7 = df5.withColumn('ContributorType', regexp_replace('ContributorType', 'CAN', 'Candidate')) \\\n",
        "  .withColumn('ContributorType', regexp_replace('ContributorType', 'CORP', 'Corporation')) \\\n",
        "  .withColumn('ContributorType', regexp_replace('ContributorType', 'EMPO', 'Labor Union')) \\\n",
        "  .withColumn('ContributorType', regexp_replace('ContributorType', 'FAM', 'Candidate Family')) \\\n",
        "  .withColumn('ContributorType', regexp_replace('ContributorType', 'IND', 'Individual')) \\\n",
        "  .withColumn('ContributorType', regexp_replace('ContributorType', 'PCOMZ', 'Party Committee')) \\\n",
        "  .withColumn('ContributorType', regexp_replace('ContributorType', 'ORG', 'Orgainization')) \\\n",
        "  .withColumn('ContributorType', regexp_replace('ContributorType', 'LLC', 'Limited Liability Company')) \\\n",
        "  .withColumn('ContributorType', regexp_replace('ContributorType', 'PCOMP', 'Political Action Committee')) \\\n",
        "  .withColumn('ContributorType', regexp_replace('ContributorType', 'SPO', 'Spouse')) \\\n",
        "  .withColumn('ContributorType', regexp_replace('ContributorType', 'OTHR', 'Other')) \\\n",
        "  .withColumn('ContributorType', regexp_replace('ContributorType', 'PCOMC', 'Candidate Committee')) \\\n",
        "  .withColumn('ContributorType', regexp_replace('ContributorType', 'PART', 'Individual')) \\\n"
      ],
      "execution_count": 16,
      "outputs": []
    },
    {
      "cell_type": "code",
      "metadata": {
        "colab": {
          "base_uri": "https://localhost:8080/"
        },
        "id": "b0wmwWLFrWpS",
        "outputId": "e4ee408b-4087-4bcb-f25d-32345a6a6d05"
      },
      "source": [
        "df7.show()"
      ],
      "execution_count": 17,
      "outputs": [
        {
          "output_type": "stream",
          "name": "stdout",
          "text": [
            "+--------+--------+-----------+--------+--------------------+---------------+----+--------------------+-----------+----+-----+-------+------+--------+-------+---------+\n",
            "|Election|OFFICECD|CandidateID|CANCLASS|       CandidateName|           Date|Name|     ContributorType|BoroughName|City|State|ZipCode|Amount|MatchAmt|PrevAmt|PayMethod|\n",
            "+--------+--------+-----------+--------+--------------------+---------------+----+--------------------+-----------+----+-----+-------+------+--------+-------+---------+\n",
            "|    2001|       5|        579|       P|      Michael,Hughes|  8/8/2001 0:00|null|          Individual|          M|  NY|   NY|  10034|    10|      10|      0|        2|\n",
            "|    2001|       5|        559|       P|       Donald,Wooten| 8/31/2001 0:00|null|               Other|       null|null| null|   null|     1|       0|      0|        0|\n",
            "|    2001|       5|         C6|       P|      Albert,Fabozzi|  8/1/2000 0:00|null|         Corporation|       null|null| null|   null|   100|       0|      0|        2|\n",
            "|    2001|       2|        366|       P|        Willie,Colon|  7/5/2001 0:00|null|                UNKN|       null|null| null|   null|    25|       0|      0|        0|\n",
            "|    2001|       2|        366|       P|        Willie,Colon|  7/5/2001 0:00|null|                UNKN|       null|null| null|   null|   100|       0|      0|        0|\n",
            "|    2001|       2|        366|       P|        Willie,Colon| 3/20/2001 0:00|null|                UNKN|          X|null| null|   null|   260|       0|      0|        0|\n",
            "|    2001|       2|        366|       P|        Willie,Colon| 2/20/2001 0:00|null|                UNKN|       null|null| null|   null|   300|       0|      0|        0|\n",
            "|    2001|       5|         MJ|       P|       Juan,Martinez|           null|null|                UNKN|       null|null| null|   null|     0|       0|      0|        0|\n",
            "|    2001|       5|        448|       P|        John,Ciafone|           null|null|                UNKN|       null|null| null|   null|     0|       0|      0|        0|\n",
            "|    2001|       2|        366|       P|        Willie,Colon| 4/24/2001 0:00|null|          Individual|       null|null| null|   null|  1040|       0|      0|        0|\n",
            "|    2001|       2|        366|       P|        Willie,Colon| 4/24/2001 0:00|null|          Individual|       null|null| null|   null|   250|       0|      0|        0|\n",
            "|    2001|       5|        553|       P|Elizabeth,Atwood ...| 7/13/2001 0:00|null|          Individual|          K|null| null|   null|    45|      45|      0|        2|\n",
            "|    2001|       6|        230|      NP|      Bernice,Siegal|10/12/1999 0:00|null|         Labor Union|       null|null| null|   null|   200|       0|      0|        2|\n",
            "|    2001|       6|        230|      NP|      Bernice,Siegal|10/20/1999 0:00|null|         Labor Union|       null|null| null|   null|   100|       0|      0|        2|\n",
            "|    2001|       6|        230|      NP|      Bernice,Siegal|10/13/1999 0:00|null|         Labor Union|       null|null| null|   null|   150|       0|      0|        2|\n",
            "|    2001|       5|        232|       P|        David,Weprin|           null|null|                UNKN|       null|null| null|   null|     0|       0|      0|        0|\n",
            "|    2001|       5|        553|       P|Elizabeth,Atwood ...|           null|null|                UNKN|       null|null| null|   null|    50|       0|      0|        2|\n",
            "|    2001|       5|         F5|       P|     Armando,Montano| 10/5/2001 0:00|null|                UNKN|       null|null| null|   null|    25|       0|      0|        0|\n",
            "|    2001|       5|        232|       P|        David,Weprin| 8/23/2001 0:00|null|Political Action ...|       null|null| null|   null|     0|       0|      0|        0|\n",
            "|    2001|       5|        334|       P|    Dennis,Gallagher| 9/12/2001 0:00|null|          Individual|       null|null| null|   null|   200|       0|      0|        2|\n",
            "+--------+--------+-----------+--------+--------------------+---------------+----+--------------------+-----------+----+-----+-------+------+--------+-------+---------+\n",
            "only showing top 20 rows\n",
            "\n"
          ]
        }
      ]
    },
    {
      "cell_type": "code",
      "metadata": {
        "id": "EDLKVpihXzJY"
      },
      "source": [
        "#Change Payment Method Name\n",
        "df8=df7.withColumn('PayMethod', regexp_replace('PayMethod','0','Unknown')) \\\n",
        "  .withColumn('PayMethod', regexp_replace('PayMethod','1','Cash')) \\\n",
        "  .withColumn('PayMethod', regexp_replace('PayMethod','2','Check')) \\\n",
        "  .withColumn('PayMethod', regexp_replace('PayMethod','3','Other')) \\\n",
        "  .withColumn('PayMethod', regexp_replace('PayMethod','4','Credit Card')) \\\n",
        "  .withColumn('PayMethod', regexp_replace('PayMethod','5','Money Order')) \\"
      ],
      "execution_count": 18,
      "outputs": []
    },
    {
      "cell_type": "code",
      "metadata": {
        "id": "88U4VeLJpV1Q",
        "colab": {
          "base_uri": "https://localhost:8080/"
        },
        "outputId": "8858ac8d-7c72-4767-ecd7-0ab6ddefa7c3"
      },
      "source": [
        "df8.show()"
      ],
      "execution_count": 19,
      "outputs": [
        {
          "output_type": "stream",
          "name": "stdout",
          "text": [
            "+--------+--------+-----------+--------+--------------------+---------------+----+--------------------+-----------+----+-----+-------+------+--------+-------+---------+\n",
            "|Election|OFFICECD|CandidateID|CANCLASS|       CandidateName|           Date|Name|     ContributorType|BoroughName|City|State|ZipCode|Amount|MatchAmt|PrevAmt|PayMethod|\n",
            "+--------+--------+-----------+--------+--------------------+---------------+----+--------------------+-----------+----+-----+-------+------+--------+-------+---------+\n",
            "|    2001|       5|        579|       P|      Michael,Hughes|  8/8/2001 0:00|null|          Individual|          M|  NY|   NY|  10034|    10|      10|      0|    Check|\n",
            "|    2001|       5|        559|       P|       Donald,Wooten| 8/31/2001 0:00|null|               Other|       null|null| null|   null|     1|       0|      0|  Unknown|\n",
            "|    2001|       5|         C6|       P|      Albert,Fabozzi|  8/1/2000 0:00|null|         Corporation|       null|null| null|   null|   100|       0|      0|    Check|\n",
            "|    2001|       2|        366|       P|        Willie,Colon|  7/5/2001 0:00|null|                UNKN|       null|null| null|   null|    25|       0|      0|  Unknown|\n",
            "|    2001|       2|        366|       P|        Willie,Colon|  7/5/2001 0:00|null|                UNKN|       null|null| null|   null|   100|       0|      0|  Unknown|\n",
            "|    2001|       2|        366|       P|        Willie,Colon| 3/20/2001 0:00|null|                UNKN|          X|null| null|   null|   260|       0|      0|  Unknown|\n",
            "|    2001|       2|        366|       P|        Willie,Colon| 2/20/2001 0:00|null|                UNKN|       null|null| null|   null|   300|       0|      0|  Unknown|\n",
            "|    2001|       5|         MJ|       P|       Juan,Martinez|           null|null|                UNKN|       null|null| null|   null|     0|       0|      0|  Unknown|\n",
            "|    2001|       5|        448|       P|        John,Ciafone|           null|null|                UNKN|       null|null| null|   null|     0|       0|      0|  Unknown|\n",
            "|    2001|       2|        366|       P|        Willie,Colon| 4/24/2001 0:00|null|          Individual|       null|null| null|   null|  1040|       0|      0|  Unknown|\n",
            "|    2001|       2|        366|       P|        Willie,Colon| 4/24/2001 0:00|null|          Individual|       null|null| null|   null|   250|       0|      0|  Unknown|\n",
            "|    2001|       5|        553|       P|Elizabeth,Atwood ...| 7/13/2001 0:00|null|          Individual|          K|null| null|   null|    45|      45|      0|    Check|\n",
            "|    2001|       6|        230|      NP|      Bernice,Siegal|10/12/1999 0:00|null|         Labor Union|       null|null| null|   null|   200|       0|      0|    Check|\n",
            "|    2001|       6|        230|      NP|      Bernice,Siegal|10/20/1999 0:00|null|         Labor Union|       null|null| null|   null|   100|       0|      0|    Check|\n",
            "|    2001|       6|        230|      NP|      Bernice,Siegal|10/13/1999 0:00|null|         Labor Union|       null|null| null|   null|   150|       0|      0|    Check|\n",
            "|    2001|       5|        232|       P|        David,Weprin|           null|null|                UNKN|       null|null| null|   null|     0|       0|      0|  Unknown|\n",
            "|    2001|       5|        553|       P|Elizabeth,Atwood ...|           null|null|                UNKN|       null|null| null|   null|    50|       0|      0|    Check|\n",
            "|    2001|       5|         F5|       P|     Armando,Montano| 10/5/2001 0:00|null|                UNKN|       null|null| null|   null|    25|       0|      0|  Unknown|\n",
            "|    2001|       5|        232|       P|        David,Weprin| 8/23/2001 0:00|null|Political Action ...|       null|null| null|   null|     0|       0|      0|  Unknown|\n",
            "|    2001|       5|        334|       P|    Dennis,Gallagher| 9/12/2001 0:00|null|          Individual|       null|null| null|   null|   200|       0|      0|    Check|\n",
            "+--------+--------+-----------+--------+--------------------+---------------+----+--------------------+-----------+----+-----+-------+------+--------+-------+---------+\n",
            "only showing top 20 rows\n",
            "\n"
          ]
        }
      ]
    },
    {
      "cell_type": "code",
      "metadata": {
        "id": "fy4JAvyQWRl7"
      },
      "source": [
        "#Change Borough name\n",
        "df9 = df8.withColumn('BoroughName', regexp_replace('BoroughName', 'K', 'Brooklyn')) \\\n",
        "  .withColumn('BoroughName', regexp_replace('BoroughName', 'M', 'Manhattan')) \\\n",
        "  .withColumn('BoroughName', regexp_replace('BoroughName', 'Q', 'Queens')) \\\n",
        "  .withColumn('BoroughName', regexp_replace('BoroughName', 'S', 'Staten Island')) \\\n",
        "  .withColumn('BoroughName', regexp_replace('BoroughName', 'X', 'Bronx')) \\\n",
        "  .withColumn('BoroughName', regexp_replace('BoroughName', 'Z', 'Other')) \\"
      ],
      "execution_count": 20,
      "outputs": []
    },
    {
      "cell_type": "code",
      "metadata": {
        "id": "fM_kC3ViNFqN"
      },
      "source": [
        "#Call only Mayor (1) and particaptes (P) within Dataframe\n",
        "df10 = df9.filter((df8.OFFICECD==\"1\") & (df8.CANCLASS==\"P\"))"
      ],
      "execution_count": 21,
      "outputs": []
    },
    {
      "cell_type": "code",
      "metadata": {
        "id": "WmdLbDEzQAyc",
        "colab": {
          "base_uri": "https://localhost:8080/"
        },
        "outputId": "af054f56-f071-4008-e0d7-9989a5cbf698"
      },
      "source": [
        "#Check the above dataframe to make sure only unique values between the OFFICECD is 1 \n",
        "df10.select('OFFICECD').distinct().show()"
      ],
      "execution_count": 22,
      "outputs": [
        {
          "output_type": "stream",
          "name": "stdout",
          "text": [
            "+--------+\n",
            "|OFFICECD|\n",
            "+--------+\n",
            "|       1|\n",
            "+--------+\n",
            "\n"
          ]
        }
      ]
    },
    {
      "cell_type": "code",
      "metadata": {
        "id": "4kbDs5ApZtEu"
      },
      "source": [
        "#Drop OFFICECD and CANCLASS\n",
        "list2 = ['OFFICECD', 'CANCLASS'] \n",
        "df11 = df10.drop(*list2)"
      ],
      "execution_count": 23,
      "outputs": []
    },
    {
      "cell_type": "code",
      "metadata": {
        "id": "j4uude7r_d_-"
      },
      "source": [
        "#Filter Dataframe removing the null CandidateID values\n",
        "df12 = df11.filter(df10.CandidateID.isNotNull())"
      ],
      "execution_count": 24,
      "outputs": []
    },
    {
      "cell_type": "code",
      "metadata": {
        "id": "jKdRMcW-9mtO",
        "colab": {
          "base_uri": "https://localhost:8080/"
        },
        "outputId": "8950281c-b926-4986-9e0b-3869a3a0002f"
      },
      "source": [
        "# ADD AMNT and MATCHAMNT PrevAmnt\n",
        "from pyspark.sql.functions import col\n",
        "clean_indiv_2001_df = df11.withColumn(\"TotalAmount\", col(\"Amount\")+col(\"MatchAmt\")+col('PrevAmt'))\n",
        "clean_indiv_2001_df.show()"
      ],
      "execution_count": 25,
      "outputs": [
        {
          "output_type": "stream",
          "name": "stdout",
          "text": [
            "+--------+-----------+---------------+---------------+--------------------+--------------------+-----------+----------+-----+-------+------+--------+-------+---------+-----------+\n",
            "|Election|CandidateID|  CandidateName|           Date|                Name|     ContributorType|BoroughName|      City|State|ZipCode|Amount|MatchAmt|PrevAmt|PayMethod|TotalAmount|\n",
            "+--------+-----------+---------------+---------------+--------------------+--------------------+-----------+----------+-----+-------+------+--------+-------+---------+-----------+\n",
            "|    2001|         AY|Fernando,Ferrer|10/22/2001 0:00|                null| Candidate Committee|       null|      null| null|   null|   500|       0|      0|    Check|      500.0|\n",
            "|    2001|         AY|Fernando,Ferrer|10/22/2001 0:00|                null| Candidate Committee|       null|      null| null|   null|  1000|       0|      0|    Check|     1000.0|\n",
            "|    2001|         AY|Fernando,Ferrer| 10/9/2001 0:00|                null| Candidate Committee|       null|      null| null|   null|  1000|       0|      0|    Check|     1000.0|\n",
            "|    2001|         A9|    Alan,Hevesi|  3/3/2000 0:00|             ?, SAUL|          Individual|      Other|LONG BEACH|   NY|  11561|    25|       0|      0|    Other|       25.0|\n",
            "|    2001|         A7|     Mark,Green| 11/1/2001 0:00|1-10 INDUSTRY ASS...|               Other|   Brooklyn|  BROOKLYN|   NY|  11222|  4500|       0|      0|    Check|     4500.0|\n",
            "|    2001|         B1|  Peter,Vallone|11/30/2000 0:00|     100  CHURCH LLC|               Other|  Manhattan|  NEW YORK|   NY|  10007|  2000|       0|      0|    Check|     2000.0|\n",
            "|    2001|         AY|Fernando,Ferrer| 8/17/2001 0:00| 103  REALTY COMPANY|          Individual|      Other|  LYNBROOK|   NY|  11563|   250|       0|      0|    Check|      250.0|\n",
            "|    2001|         B1|  Peter,Vallone|11/18/1999 0:00|1046 MADISON AVEN...|               Other|  Manhattan|  NEW YORK|   NY|  10022|   250|       0|      0|    Check|      250.0|\n",
            "|    2001|         AY|Fernando,Ferrer|  5/4/2001 0:00|11-13 HUBERT ST R...|               Other|  Manhattan|  NEW YORK|   NY|  10013|  1000|       0|      0|    Check|     1000.0|\n",
            "|    2001|         A7|     Mark,Green| 8/27/2001 0:00|11-13 HUBERT STRE...|               Other|  Manhattan|  NEW YORK|   NY|  10013|   250|       0|      0|    Check|      250.0|\n",
            "|    2001|         A7|     Mark,Green| 4/27/2001 0:00|    1113 COLGATE LLC|               Other|  Manhattan|  NEW YORK|   NY|  10001|   250|       0|      0|    Check|      250.0|\n",
            "|    2001|         AY|Fernando,Ferrer|12/10/1999 0:00|1162-4 SHERIDAN R...|          Individual|      Bronx|     BRONX|   NY|  10461|  1000|       0|      0|    Check|     1000.0|\n",
            "|    2001|         AY|Fernando,Ferrer|12/10/1999 0:00|1162-4 SHERIDAN R...|               Other|      Bronx|     BRONX|   NY|  10461| -1000|       0|      0|  Unknown|    -1000.0|\n",
            "|    2001|         A9|    Alan,Hevesi|12/21/2000 0:00| 117 POST AVENUE LLC|               Other|      Other|  LYNBROOK|   NY|  11563|   500|       0|      0|    Check|      500.0|\n",
            "|    2001|         AY|Fernando,Ferrer|12/20/2000 0:00|1180 LEBANON REAL...|               Other|      Other|   YONKERS|   NY|  10709|   200|       0|      0|    Check|      200.0|\n",
            "|    2001|         A7|     Mark,Green| 11/2/2001 0:00|1199 POLITCAL ACT...|               Other|  Manhattan|  NEW YORK|   NY|  10036|  4500|       0|      0|    Check|     4500.0|\n",
            "|    2001|         AY|Fernando,Ferrer|  7/5/2000 0:00|1199/SEIU NYS POL...|Political Action ...|  Manhattan|  NEW YORK|   NY|  10036|  4500|       0|      0|    Check|     4500.0|\n",
            "|    2001|         AY|Fernando,Ferrer| 10/5/2001 0:00|1199/SEIU NYS POL...|Political Action ...|  Manhattan|  NEW YORK|   NY|  10036|  2250|       0|   4500|    Check|     6750.0|\n",
            "|    2001|         AY|Fernando,Ferrer| 1/26/1998 0:00|1203-5 FINDLAY RE...|         Corporation|      Bronx|     BRONX|   NY|  10461|  1000|       0|      0|    Check|     1000.0|\n",
            "|    2001|         AY|Fernando,Ferrer| 1/26/1998 0:00|1203-5 FINDLAY RE...|               Other|      Bronx|     BRONX|   NY|  10461| -1000|       0|      0|  Unknown|    -1000.0|\n",
            "+--------+-----------+---------------+---------------+--------------------+--------------------+-----------+----------+-----+-------+------+--------+-------+---------+-----------+\n",
            "only showing top 20 rows\n",
            "\n"
          ]
        }
      ]
    },
    {
      "cell_type": "code",
      "metadata": {
        "id": "oAV3a6jXmJTP"
      },
      "source": [
        "#Export to Clean CSV\n",
        "#clean_indiv_2001_df.toPandas().to_csv(\"Clean_Indivdual_2005.csv\", header=True)"
      ],
      "execution_count": 26,
      "outputs": []
    },
    {
      "cell_type": "markdown",
      "metadata": {
        "id": "1t7gDM4IKH8Y"
      },
      "source": [
        "## **2001 Committee Contributions**"
      ]
    },
    {
      "cell_type": "code",
      "metadata": {
        "id": "hraQT1VmLOhL",
        "colab": {
          "base_uri": "https://localhost:8080/"
        },
        "outputId": "63d1b87e-490c-407e-bab4-7c35ab75557f"
      },
      "source": [
        "# Read in data from S3 Buckets\n",
        "from pyspark import SparkFiles\n",
        "url = \"https://databootcamp-final-05.s3.amazonaws.com/Resources/Committee+Contributions+2001+(X).csv\"\n",
        "spark.sparkContext.addFile(url)\n",
        "df = spark.read.csv(SparkFiles.get(\"Committee+Contributions+2001+(X).csv\"), sep=\",\", header=True)\n",
        "df.show()"
      ],
      "execution_count": 27,
      "outputs": [
        {
          "output_type": "stream",
          "name": "stdout",
          "text": [
            "+--------+--------+-------+--------+----------------+---------+------+--------+------+----------+--------+----------+----------+--------------------+------+-----+-------+---------+---------+--------+-----+-----+----------+--------------------+--------+--------------+------------+--------+-----+---------+--------+----------+--------+------------------+--------+--------+--------+---------------+-----+------+--------------------+----------+-------------------+----------+--------+--------------+---------+--------+---------+------+-------+----------+\n",
            "|ELECTION|OFFICECD|RECIPID|CANCLASS|       RECIPNAME|COMMITTEE|FILING|SCHEDULE|PAGENO|SEQUENCENO|   REFNO|      DATE|REFUNDDATE|                NAME|C_CODE|STRNO|STRNAME|APARTMENT|BOROUGHCD|    CITY|STATE|  ZIP|OCCUPATION|             EMPNAME|EMPSTRNO|    EMPSTRNAME|     EMPCITY|EMPSTATE| AMNT|MATCHAMNT|PREVAMNT|PAY_METHOD|INTERMNO|        INTERMNAME|INTSTRNO|INTSTRNM|INTAPTNO|        INTCITY|INTST|INTZIP|          INTEMPNAME|INTEMPSTNO|         INTEMPSTNM|INTEMPCITY|INTEMPST|     INTOCCUPA|PURPOSECD|EXEMPTCD|ADJTYPECD|RR_IND|SEG_IND|INT_C_CODE|\n",
            "+--------+--------+-------+--------+----------------+---------+------+--------+------+----------+--------+----------+----------+--------------------+------+-----+-------+---------+---------+--------+-----+-----+----------+--------------------+--------+--------------+------------+--------+-----+---------+--------+----------+--------+------------------+--------+--------+--------+---------------+-----+------+--------------------+----------+-------------------+----------+--------+--------------+---------+--------+---------+------+-------+----------+\n",
            "|    2001|       1|     AY|       P|Ferrer, Fernando|        H|    13|     ABC|  null|      null|R0012272| 10/9/2001|      null|                null| PCOMC| null|   null|     null|     null|    null| null| null|      null|FRIENDS OF LUIS M...|    1700|   D PURDY ST.|       BRONX|      NY| 1000|        0|       0|         2|     723|     RIVERA, PETER|    null|    null|    null|          BRONX|   NY| 10462|NEW YORK STATE AS...|      1506| CASTLE HILL AVENUE|     BRONX|      NY|   ASSEMBLYMAN|     null|    null|     null|     N|      N|       IND|\n",
            "|    2001|       1|     AY|       P|Ferrer, Fernando|        H|    13|     ABC|  null|      null|R0012640|10/22/2001|      null|                null| PCOMC| null|   null|     null|     null|    null| null| null|      null|FRIENDS OF LISA A...|    null|P. O. BOX 2444|MOUNT VERNON|      NY|  500|        0|       0|         2|    null|              null|    null|    null|    null|           null| null|  null|                null|      null|               null|      null|    null|          null|     null|    null|     null|     N|      N|      null|\n",
            "|    2001|       1|     AY|       P|Ferrer, Fernando|        H|    13|     ABC|  null|      null|R0012650|10/22/2001|      null|                null| PCOMC| null|   null|     null|     null|    null| null| null|      null|RUTH THOMPSON FOR...|     767|E. GUNHILL RD.|       BRONX|      NY| 1000|        0|       0|         2|    null|              null|    null|    null|    null|           null| null|  null|                null|      null|               null|      null|    null|          null|     null|    null|     null|     N|      N|      null|\n",
            "|    2001|       1|     A7|       P|     Green, Mark|        H|    14|     ABC|  null|      null|R0033847| 11/1/2001|      null|1-10 INDUSTRY ASS...|  OTHR| null|   null|     null|        K|BROOKLYN|   NY|11222|      null|                null|    null|          null|        null|    null| 4500|        0|       0|         2|    null|              null|    null|    null|    null|           null| null|  null|                null|      null|               null|      null|    null|          null|     null|    null|     null|     N|      N|      null|\n",
            "|    2001|       1|     B1|       P|Vallone, Peter F|        H|     6|     ABC|  null|      null|R0013104|11/30/2000|      null|     100  CHURCH LLC|  OTHR| null|   null|     null|        M|NEW YORK|   NY|10007|      null|                null|    null|          null|        null|    null| 2000|        0|       0|         2|    null|              null|    null|    null|    null|           null| null|  null|                null|      null|               null|      null|    null|          null|     null|    null|     null|     N|      N|      null|\n",
            "|    2001|       1|     AY|       P|Ferrer, Fernando|        H|    10|     ABC|  null|      null|R0010963| 8/17/2001|      null| 103  REALTY COMPANY|  PART| null|   null|     null|        Z|LYNBROOK|   NY|11563|      null|                null|    null|          null|        null|    null|  250|        0|       0|         2|    null|              null|    null|    null|    null|           null| null|  null|                null|      null|               null|      null|    null|          null|     null|    null|     null|     N|      N|      null|\n",
            "|    2001|       1|     B1|       P|Vallone, Peter F|        H|     4|     ABC|  null|      null|R0004252|11/18/1999|      null|1046 MADISON AVEN...|  OTHR| null|   null|     null|        M|NEW YORK|   NY|10022|      null|                null|    null|          null|        null|    null|  250|        0|       0|         2|      72|    SPINOLA, STEVE|    null|    null|    null|    GARDEN CITY|   NY| 11530|           REBNY INC|       570|   LEXINGTON AVENUE|  NEW YORK|      NY|     PRESIDENT|     null|    null|     null|     N|      N|       IND|\n",
            "|    2001|       1|     AY|       P|Ferrer, Fernando|        H|     8|     ABC|  null|      null|R0009862|  5/4/2001|      null|11-13 HUBERT ST R...|  OTHR| null|   null|     null|        M|NEW YORK|   NY|10013|      null|                null|    null|          null|        null|    null| 1000|        0|       0|         2|    null|              null|    null|    null|    null|           null| null|  null|                null|      null|               null|      null|    null|          null|     null|    null|     null|     N|      N|      null|\n",
            "|    2001|       1|     A7|       P|     Green, Mark|        H|    10|     ABC|  null|      null|R0028375| 8/27/2001|      null|11-13 HUBERT STRE...|  OTHR| null|   null|     null|        M|NEW YORK|   NY|10013|      null|                null|    null|          null|        null|    null|  250|        0|       0|         2|      48|COLLARONE, MICHAEL|    null|    null|    null|       BROOKLYN|   NY| 11220|          FLORA TECH|        51|       BEACH STREET|  BROOKLYN|      NY|       FLORIST|     null|    null|     null|     N|      N|       IND|\n",
            "|    2001|       1|     A7|       P|     Green, Mark|        H|     8|     ABC|  null|      null|R0018575| 4/27/2001|      null|    1113 COLGATE LLC|  OTHR| null|   null|     null|        M|NEW YORK|   NY|10001|      null|                null|    null|          null|        null|    null|  250|        0|       0|         2|    null|              null|    null|    null|    null|           null| null|  null|                null|      null|               null|      null|    null|          null|     null|    null|     null|     N|      N|      null|\n",
            "|    2001|       1|     AY|       P|Ferrer, Fernando|        H|     4|     ABC|  null|      null|R0005610|12/10/1999|      null|1162-4 SHERIDAN R...|  PART| null|   null|     null|        X|   BRONX|   NY|10461|      null|                null|    null|          null|        null|    null| 1000|        0|       0|         2|    null|              null|    null|    null|    null|           null| null|  null|                null|      null|               null|      null|    null|          null|     null|    null|     null|     N|      N|      null|\n",
            "|    2001|       1|     AY|       P|Ferrer, Fernando|        H|     8|       M|  null|      null|R0009451|12/10/1999| 3/16/2001|1162-4 SHERIDAN R...|  OTHR| null|   null|     null|        X|   BRONX|   NY|10461|      null|                null|    null|          null|        null|    null|-1000|        0|       0|         0|    null|              null|    null|    null|    null|           null| null|  null|                null|      null|               null|      null|    null|          null|     null|    null|        2|     N|      N|      null|\n",
            "|    2001|       1|     A9|       P|  Hevesi, Alan G|        H|     6|     ABC|  null|      null|R0023256|12/21/2000|      null| 117 POST AVENUE LLC|  OTHR| null|   null|     null|        Z|LYNBROOK|   NY|11563|      null|                null|    null|          null|        null|    null|  500|        0|       0|         2|      72|     PELMAN, SIMON|    null|    null|    null|       FLUSHING|   NY| 11367|UNION PLAZA NURSI...|       320|  WEST MERRICK ROAD|  FREEPORT|      NY|    HEALTHCARE|     null|    null|     null|     N|      N|       IND|\n",
            "|    2001|       1|     AY|       P|Ferrer, Fernando|        H|     6|     ABC|  null|      null|R0008623|12/20/2000|      null|1180 LEBANON REAL...|  OTHR| null|   null|     null|        Z| YONKERS|   NY|10709|      null|                null|    null|          null|        null|    null|  200|        0|       0|         2|     638|   HOULIHAN, JAMES|    null|    null|    null|HASTINGS ON HUD|   NY| 10706|HOULIHAN PARNES R...|       455|CENTRAL PARK AVENUE| SCARSDALE|      NY|SENIOR PARTNER|     null|    null|     null|     N|      N|       IND|\n",
            "|    2001|       1|     A7|       P|     Green, Mark|        H|    14|     ABC|  null|      null|R0035709| 11/2/2001|      null|1199 POLITCAL ACT...|  OTHR| null|   null|     null|        M|NEW YORK|   NY|10036|      null|                null|    null|          null|        null|      NY| 4500|        0|       0|         2|    null|              null|    null|    null|    null|           null| null|  null|                null|      null|               null|      null|    null|          null|     null|    null|     null|     N|      N|      null|\n",
            "|    2001|       1|     AY|       P|Ferrer, Fernando|        H|    13|     ABC|  null|      null|R0012036| 10/5/2001|      null|1199/SEIU NYS POL...| PCOMP| null|   null|     null|        M|NEW YORK|   NY|10036|      null|                null|    null|          null|        null|    null| 2250|        0|    4500|         2|    null|              null|    null|    null|    null|           null| null|  null|                null|      null|               null|      null|    null|          null|     null|    null|     null|     N|      N|      null|\n",
            "|    2001|       1|     AY|       P|Ferrer, Fernando|        H|     5|     ABC|  null|      null|R0007666|  7/5/2000|      null|1199/SEIU NYS POL...| PCOMP| null|   null|     null|        M|NEW YORK|   NY|10036|      null|                null|    null|          null|        null|    null| 4500|        0|       0|         2|    null|              null|    null|    null|    null|           null| null|  null|                null|      null|               null|      null|    null|          null|     null|    null|     null|     N|      N|      null|\n",
            "|    2001|       1|     AY|       P|Ferrer, Fernando|        H|     1|     ABC|  null|      null|R0000101| 1/26/1998|      null|1203-5 FINDLAY RE...|  CORP| null|   null|     null|        X|   BRONX|   NY|10461|      null|                null|    null|          null|        null|    null| 1000|        0|       0|         2|    null|              null|    null|    null|    null|           null| null|  null|                null|      null|               null|      null|    null|          null|     null|    null|     null|     N|      N|      null|\n",
            "|    2001|       1|     AY|       P|Ferrer, Fernando|        H|     8|       M|  null|      null|R0009453| 1/26/1998| 3/16/2001|1203-5 FINDLAY RE...|  OTHR| null|   null|     null|        X|   BRONX|   NY|10461|      null|                null|    null|          null|        null|    null|-1000|        0|       0|         0|    null|              null|    null|    null|    null|           null| null|  null|                null|      null|               null|      null|    null|          null|     null|    null|        2|     N|      N|      null|\n",
            "|    2001|       1|     B1|       P|Vallone, Peter F|        I|     4|     ABC|  null|      null|P0001-02|  1/3/2000|      null|1209 REALTY ASSOC...|  CORP| null|   null|     null|        K|   BKLYN|   NY|11221|      null|                null|    null|          null|        null|    null| 5000|        0|       0|         2|    null|              null|    null|    null|    null|           null| null|  null|                null|      null|               null|      null|    null|          null|     null|    null|     null|     N|      N|      null|\n",
            "+--------+--------+-------+--------+----------------+---------+------+--------+------+----------+--------+----------+----------+--------------------+------+-----+-------+---------+---------+--------+-----+-----+----------+--------------------+--------+--------------+------------+--------+-----+---------+--------+----------+--------+------------------+--------+--------+--------+---------------+-----+------+--------------------+----------+-------------------+----------+--------+--------------+---------+--------+---------+------+-------+----------+\n",
            "only showing top 20 rows\n",
            "\n"
          ]
        }
      ]
    },
    {
      "cell_type": "code",
      "metadata": {
        "id": "S-dAX_VzLOhL",
        "colab": {
          "base_uri": "https://localhost:8080/"
        },
        "outputId": "677c7985-7160-4d59-91af-0948d1a27dc6"
      },
      "source": [
        "# Remove multiple columns\n",
        "list = ['COMMITTEE', 'FILING', 'SCHEDULE', 'PAGENO', 'SEQUENCENO','REFNO', 'STRNO', 'STRNAME', 'APARTMENT', 'OCCUPATION', 'EMPNAME', 'EMPSTRNO', 'EMPSTRNAME',\n",
        "                'EMPCITY','REFUNDDATE','INTERMNO', 'INTERMNAME', 'INTSTRNO', 'INTSTRNM', 'INTSTRNM', 'INTAPTNO',\n",
        "                'INTCITY', 'INTST','INTZIP', 'INTEMPNAME', 'INTEMPSTNO', 'INTEMPSTNM', 'INTEMPCITY', 'INTEMPST', 'INTOCCUPA' ,'PURPOSECD', 'EXEMPTCD','ADJTYPECD', 'RR_IND', 'SEG_IND','INT_C_CODE'] \n",
        "df = df.drop(*list)\n",
        "df.show()"
      ],
      "execution_count": 28,
      "outputs": [
        {
          "output_type": "stream",
          "name": "stdout",
          "text": [
            "+--------+--------+-------+--------+----------------+----------+--------------------+------+---------+--------+-----+-----+--------+-----+---------+--------+----------+\n",
            "|ELECTION|OFFICECD|RECIPID|CANCLASS|       RECIPNAME|      DATE|                NAME|C_CODE|BOROUGHCD|    CITY|STATE|  ZIP|EMPSTATE| AMNT|MATCHAMNT|PREVAMNT|PAY_METHOD|\n",
            "+--------+--------+-------+--------+----------------+----------+--------------------+------+---------+--------+-----+-----+--------+-----+---------+--------+----------+\n",
            "|    2001|       1|     AY|       P|Ferrer, Fernando| 10/9/2001|                null| PCOMC|     null|    null| null| null|      NY| 1000|        0|       0|         2|\n",
            "|    2001|       1|     AY|       P|Ferrer, Fernando|10/22/2001|                null| PCOMC|     null|    null| null| null|      NY|  500|        0|       0|         2|\n",
            "|    2001|       1|     AY|       P|Ferrer, Fernando|10/22/2001|                null| PCOMC|     null|    null| null| null|      NY| 1000|        0|       0|         2|\n",
            "|    2001|       1|     A7|       P|     Green, Mark| 11/1/2001|1-10 INDUSTRY ASS...|  OTHR|        K|BROOKLYN|   NY|11222|    null| 4500|        0|       0|         2|\n",
            "|    2001|       1|     B1|       P|Vallone, Peter F|11/30/2000|     100  CHURCH LLC|  OTHR|        M|NEW YORK|   NY|10007|    null| 2000|        0|       0|         2|\n",
            "|    2001|       1|     AY|       P|Ferrer, Fernando| 8/17/2001| 103  REALTY COMPANY|  PART|        Z|LYNBROOK|   NY|11563|    null|  250|        0|       0|         2|\n",
            "|    2001|       1|     B1|       P|Vallone, Peter F|11/18/1999|1046 MADISON AVEN...|  OTHR|        M|NEW YORK|   NY|10022|    null|  250|        0|       0|         2|\n",
            "|    2001|       1|     AY|       P|Ferrer, Fernando|  5/4/2001|11-13 HUBERT ST R...|  OTHR|        M|NEW YORK|   NY|10013|    null| 1000|        0|       0|         2|\n",
            "|    2001|       1|     A7|       P|     Green, Mark| 8/27/2001|11-13 HUBERT STRE...|  OTHR|        M|NEW YORK|   NY|10013|    null|  250|        0|       0|         2|\n",
            "|    2001|       1|     A7|       P|     Green, Mark| 4/27/2001|    1113 COLGATE LLC|  OTHR|        M|NEW YORK|   NY|10001|    null|  250|        0|       0|         2|\n",
            "|    2001|       1|     AY|       P|Ferrer, Fernando|12/10/1999|1162-4 SHERIDAN R...|  PART|        X|   BRONX|   NY|10461|    null| 1000|        0|       0|         2|\n",
            "|    2001|       1|     AY|       P|Ferrer, Fernando|12/10/1999|1162-4 SHERIDAN R...|  OTHR|        X|   BRONX|   NY|10461|    null|-1000|        0|       0|         0|\n",
            "|    2001|       1|     A9|       P|  Hevesi, Alan G|12/21/2000| 117 POST AVENUE LLC|  OTHR|        Z|LYNBROOK|   NY|11563|    null|  500|        0|       0|         2|\n",
            "|    2001|       1|     AY|       P|Ferrer, Fernando|12/20/2000|1180 LEBANON REAL...|  OTHR|        Z| YONKERS|   NY|10709|    null|  200|        0|       0|         2|\n",
            "|    2001|       1|     A7|       P|     Green, Mark| 11/2/2001|1199 POLITCAL ACT...|  OTHR|        M|NEW YORK|   NY|10036|      NY| 4500|        0|       0|         2|\n",
            "|    2001|       1|     AY|       P|Ferrer, Fernando| 10/5/2001|1199/SEIU NYS POL...| PCOMP|        M|NEW YORK|   NY|10036|    null| 2250|        0|    4500|         2|\n",
            "|    2001|       1|     AY|       P|Ferrer, Fernando|  7/5/2000|1199/SEIU NYS POL...| PCOMP|        M|NEW YORK|   NY|10036|    null| 4500|        0|       0|         2|\n",
            "|    2001|       1|     AY|       P|Ferrer, Fernando| 1/26/1998|1203-5 FINDLAY RE...|  CORP|        X|   BRONX|   NY|10461|    null| 1000|        0|       0|         2|\n",
            "|    2001|       1|     AY|       P|Ferrer, Fernando| 1/26/1998|1203-5 FINDLAY RE...|  OTHR|        X|   BRONX|   NY|10461|    null|-1000|        0|       0|         0|\n",
            "|    2001|       1|     B1|       P|Vallone, Peter F|  1/3/2000|1209 REALTY ASSOC...|  CORP|        K|   BKLYN|   NY|11221|    null| 5000|        0|       0|         2|\n",
            "+--------+--------+-------+--------+----------------+----------+--------------------+------+---------+--------+-----+-----+--------+-----+---------+--------+----------+\n",
            "only showing top 20 rows\n",
            "\n"
          ]
        }
      ]
    },
    {
      "cell_type": "code",
      "metadata": {
        "id": "btba2GO-LOhL",
        "colab": {
          "base_uri": "https://localhost:8080/"
        },
        "outputId": "a28721a1-7804-4a30-e647-70e488a5ccdb"
      },
      "source": [
        "# check data types\n",
        "df.dtypes"
      ],
      "execution_count": 29,
      "outputs": [
        {
          "output_type": "execute_result",
          "data": {
            "text/plain": [
              "[('ELECTION', 'string'),\n",
              " ('OFFICECD', 'string'),\n",
              " ('RECIPID', 'string'),\n",
              " ('CANCLASS', 'string'),\n",
              " ('RECIPNAME', 'string'),\n",
              " ('DATE', 'string'),\n",
              " ('NAME', 'string'),\n",
              " ('C_CODE', 'string'),\n",
              " ('BOROUGHCD', 'string'),\n",
              " ('CITY', 'string'),\n",
              " ('STATE', 'string'),\n",
              " ('ZIP', 'string'),\n",
              " ('EMPSTATE', 'string'),\n",
              " ('AMNT', 'string'),\n",
              " ('MATCHAMNT', 'string'),\n",
              " ('PREVAMNT', 'string'),\n",
              " ('PAY_METHOD', 'string')]"
            ]
          },
          "metadata": {},
          "execution_count": 29
        }
      ]
    },
    {
      "cell_type": "code",
      "metadata": {
        "id": "U3HO9e01LOhL",
        "colab": {
          "base_uri": "https://localhost:8080/"
        },
        "outputId": "d264ff0f-d70f-4d53-f8a2-2c4a0a89b9b8"
      },
      "source": [
        "#Change column names\n",
        "df1 = df \\\n",
        ".withColumnRenamed(\"ELECTION\", \"Election\") \\\n",
        ".withColumnRenamed(\"RECIPID\", \"CandidateID\") \\\n",
        ".withColumnRenamed(\"RECIPNAME\", \"CandidateName\") \\\n",
        ".withColumnRenamed(\"DATE\", \"Date\") \\\n",
        ".withColumnRenamed(\"NAME\", \"Name\") \\\n",
        ".withColumnRenamed(\"C_CODE\", \"ContributorType\") \\\n",
        ".withColumnRenamed(\"BOROUGHCD\", \"BoroughName\") \\\n",
        ".withColumnRenamed(\"CITY\", \"City\") \\\n",
        ".withColumnRenamed(\"STATE\", \"State\") \\\n",
        ".withColumnRenamed(\"ZIP\", \"ZipCode\") \\\n",
        ".withColumnRenamed(\"EMPSTATE\", \"ContributionState\") \\\n",
        ".withColumnRenamed(\"AMNT\", \"Amount\") \\\n",
        ".withColumnRenamed(\"MATCHAMNT\", \"MatchAmt\") \\\n",
        ".withColumnRenamed(\"PREVAMNT\", \"PrevAmt\") \\\n",
        ".withColumnRenamed(\"PAY_METHOD\", \"PayMethod\") \n",
        "\n",
        "df1.printSchema()"
      ],
      "execution_count": 30,
      "outputs": [
        {
          "output_type": "stream",
          "name": "stdout",
          "text": [
            "root\n",
            " |-- Election: string (nullable = true)\n",
            " |-- OFFICECD: string (nullable = true)\n",
            " |-- CandidateID: string (nullable = true)\n",
            " |-- CANCLASS: string (nullable = true)\n",
            " |-- CandidateName: string (nullable = true)\n",
            " |-- Date: string (nullable = true)\n",
            " |-- Name: string (nullable = true)\n",
            " |-- ContributorType: string (nullable = true)\n",
            " |-- BoroughName: string (nullable = true)\n",
            " |-- City: string (nullable = true)\n",
            " |-- State: string (nullable = true)\n",
            " |-- ZipCode: string (nullable = true)\n",
            " |-- ContributionState: string (nullable = true)\n",
            " |-- Amount: string (nullable = true)\n",
            " |-- MatchAmt: string (nullable = true)\n",
            " |-- PrevAmt: string (nullable = true)\n",
            " |-- PayMethod: string (nullable = true)\n",
            "\n"
          ]
        }
      ]
    },
    {
      "cell_type": "code",
      "metadata": {
        "id": "SAf4vA_5jTRM"
      },
      "source": [
        "from datetime import datetime\n",
        "from pyspark.sql.functions import col, udf\n",
        "from pyspark.sql.types import DateType"
      ],
      "execution_count": 31,
      "outputs": []
    },
    {
      "cell_type": "code",
      "metadata": {
        "id": "vQV-cL8MT4Ui"
      },
      "source": [
        "# using lambda function to convert date col to datetype\n",
        "# changing datatypes of columns\n",
        "func =  udf (lambda x: datetime.strptime(x, '%m/%d/%Y'), DateType())"
      ],
      "execution_count": 32,
      "outputs": []
    },
    {
      "cell_type": "code",
      "metadata": {
        "id": "o8pcOHEWjVfK"
      },
      "source": [
        "#df2 = df1.withColumn(\"Election\",df1[\"Election\"].cast(\"Integer\")) \\\n",
        "  #.withColumn(\"OFFICECD\", df1[\"OFFICECD\"].cast(\"Integer\")) \\\n",
        "  #.withColumn(\"ZipCode\", df1[\"ZipCode\"].cast(\"Integer\")) \\\n",
        "  #.withColumn(\"Amount\", df1[\"Amount\"].cast(\"Float\")) \\\n",
        "  #.withColumn(\"MatchAmt\", df1[\"MatchAmt\"].cast(\"Float\")) \\\n",
        "  #.withColumn(\"PrevAmt\", df1[\"PrevAmt\"].cast(\"Float\")) \\\n",
        "  #.withColumn('Date', func(col('Date')))\n",
        "#df2.printSchema()\n",
        "\n",
        "#Keep Candidate ID as string\n",
        "#.withColumn(\"CandidateID\", df1[\"CandidateID\"].cast(\"Integer\")) \\"
      ],
      "execution_count": 33,
      "outputs": []
    },
    {
      "cell_type": "code",
      "metadata": {
        "colab": {
          "base_uri": "https://localhost:8080/"
        },
        "id": "WwPS2U0PbJCl",
        "outputId": "25ab960a-3cea-46b3-e74a-0c710cb21c69"
      },
      "source": [
        "df1.show()"
      ],
      "execution_count": 34,
      "outputs": [
        {
          "output_type": "stream",
          "name": "stdout",
          "text": [
            "+--------+--------+-----------+--------+----------------+----------+--------------------+---------------+-----------+--------+-----+-------+-----------------+------+--------+-------+---------+\n",
            "|Election|OFFICECD|CandidateID|CANCLASS|   CandidateName|      Date|                Name|ContributorType|BoroughName|    City|State|ZipCode|ContributionState|Amount|MatchAmt|PrevAmt|PayMethod|\n",
            "+--------+--------+-----------+--------+----------------+----------+--------------------+---------------+-----------+--------+-----+-------+-----------------+------+--------+-------+---------+\n",
            "|    2001|       1|         AY|       P|Ferrer, Fernando| 10/9/2001|                null|          PCOMC|       null|    null| null|   null|               NY|  1000|       0|      0|        2|\n",
            "|    2001|       1|         AY|       P|Ferrer, Fernando|10/22/2001|                null|          PCOMC|       null|    null| null|   null|               NY|   500|       0|      0|        2|\n",
            "|    2001|       1|         AY|       P|Ferrer, Fernando|10/22/2001|                null|          PCOMC|       null|    null| null|   null|               NY|  1000|       0|      0|        2|\n",
            "|    2001|       1|         A7|       P|     Green, Mark| 11/1/2001|1-10 INDUSTRY ASS...|           OTHR|          K|BROOKLYN|   NY|  11222|             null|  4500|       0|      0|        2|\n",
            "|    2001|       1|         B1|       P|Vallone, Peter F|11/30/2000|     100  CHURCH LLC|           OTHR|          M|NEW YORK|   NY|  10007|             null|  2000|       0|      0|        2|\n",
            "|    2001|       1|         AY|       P|Ferrer, Fernando| 8/17/2001| 103  REALTY COMPANY|           PART|          Z|LYNBROOK|   NY|  11563|             null|   250|       0|      0|        2|\n",
            "|    2001|       1|         B1|       P|Vallone, Peter F|11/18/1999|1046 MADISON AVEN...|           OTHR|          M|NEW YORK|   NY|  10022|             null|   250|       0|      0|        2|\n",
            "|    2001|       1|         AY|       P|Ferrer, Fernando|  5/4/2001|11-13 HUBERT ST R...|           OTHR|          M|NEW YORK|   NY|  10013|             null|  1000|       0|      0|        2|\n",
            "|    2001|       1|         A7|       P|     Green, Mark| 8/27/2001|11-13 HUBERT STRE...|           OTHR|          M|NEW YORK|   NY|  10013|             null|   250|       0|      0|        2|\n",
            "|    2001|       1|         A7|       P|     Green, Mark| 4/27/2001|    1113 COLGATE LLC|           OTHR|          M|NEW YORK|   NY|  10001|             null|   250|       0|      0|        2|\n",
            "|    2001|       1|         AY|       P|Ferrer, Fernando|12/10/1999|1162-4 SHERIDAN R...|           PART|          X|   BRONX|   NY|  10461|             null|  1000|       0|      0|        2|\n",
            "|    2001|       1|         AY|       P|Ferrer, Fernando|12/10/1999|1162-4 SHERIDAN R...|           OTHR|          X|   BRONX|   NY|  10461|             null| -1000|       0|      0|        0|\n",
            "|    2001|       1|         A9|       P|  Hevesi, Alan G|12/21/2000| 117 POST AVENUE LLC|           OTHR|          Z|LYNBROOK|   NY|  11563|             null|   500|       0|      0|        2|\n",
            "|    2001|       1|         AY|       P|Ferrer, Fernando|12/20/2000|1180 LEBANON REAL...|           OTHR|          Z| YONKERS|   NY|  10709|             null|   200|       0|      0|        2|\n",
            "|    2001|       1|         A7|       P|     Green, Mark| 11/2/2001|1199 POLITCAL ACT...|           OTHR|          M|NEW YORK|   NY|  10036|               NY|  4500|       0|      0|        2|\n",
            "|    2001|       1|         AY|       P|Ferrer, Fernando| 10/5/2001|1199/SEIU NYS POL...|          PCOMP|          M|NEW YORK|   NY|  10036|             null|  2250|       0|   4500|        2|\n",
            "|    2001|       1|         AY|       P|Ferrer, Fernando|  7/5/2000|1199/SEIU NYS POL...|          PCOMP|          M|NEW YORK|   NY|  10036|             null|  4500|       0|      0|        2|\n",
            "|    2001|       1|         AY|       P|Ferrer, Fernando| 1/26/1998|1203-5 FINDLAY RE...|           CORP|          X|   BRONX|   NY|  10461|             null|  1000|       0|      0|        2|\n",
            "|    2001|       1|         AY|       P|Ferrer, Fernando| 1/26/1998|1203-5 FINDLAY RE...|           OTHR|          X|   BRONX|   NY|  10461|             null| -1000|       0|      0|        0|\n",
            "|    2001|       1|         B1|       P|Vallone, Peter F|  1/3/2000|1209 REALTY ASSOC...|           CORP|          K|   BKLYN|   NY|  11221|             null|  5000|       0|      0|        2|\n",
            "+--------+--------+-----------+--------+----------------+----------+--------------------+---------------+-----------+--------+-----+-------+-----------------+------+--------+-------+---------+\n",
            "only showing top 20 rows\n",
            "\n"
          ]
        }
      ]
    },
    {
      "cell_type": "code",
      "metadata": {
        "id": "qa6S4he5LOhM"
      },
      "source": [
        "#Change vaule name in ContributerType\n",
        "from pyspark.sql.functions import regexp_replace\n",
        "df3 = df1.withColumn('ContributorType', regexp_replace('ContributorType', 'CAN', 'Candidate')) \\\n",
        "  .withColumn('ContributorType', regexp_replace('ContributorType', 'CORP', 'Corporation')) \\\n",
        "  .withColumn('ContributorType', regexp_replace('ContributorType', 'EMPO', 'Labor Union')) \\\n",
        "  .withColumn('ContributorType', regexp_replace('ContributorType', 'FAM', 'Candidate Family')) \\\n",
        "  .withColumn('ContributorType', regexp_replace('ContributorType', 'IND', 'Individual')) \\\n",
        "  .withColumn('ContributorType', regexp_replace('ContributorType', 'PCOMZ', 'Party Committee')) \\\n",
        "  .withColumn('ContributorType', regexp_replace('ContributorType', 'ORG', 'Orgainization')) \\\n",
        "  .withColumn('ContributorType', regexp_replace('ContributorType', 'LLC', 'Limited Liability Company')) \\\n",
        "  .withColumn('ContributorType', regexp_replace('ContributorType', 'PCOMP', 'Political Action Committee')) \\\n",
        "  .withColumn('ContributorType', regexp_replace('ContributorType', 'SPO', 'Spouse')) \\\n",
        "  .withColumn('ContributorType', regexp_replace('ContributorType', 'OTHR', 'Other')) \\\n",
        "  .withColumn('ContributorType', regexp_replace('ContributorType', 'PCOMC', 'Candidate Committee')) \\\n",
        "  .withColumn('ContributorType', regexp_replace('ContributorType', 'PART', 'Individual')) \\\n"
      ],
      "execution_count": 35,
      "outputs": []
    },
    {
      "cell_type": "code",
      "metadata": {
        "id": "HKU4a2YeLOhM"
      },
      "source": [
        "#Change Payment Method Name\n",
        "df4=df3.withColumn('PayMethod', regexp_replace('PayMethod','0','Unknown')) \\\n",
        "  .withColumn('PayMethod', regexp_replace('PayMethod','1','Cash')) \\\n",
        "  .withColumn('PayMethod', regexp_replace('PayMethod','2','Check')) \\\n",
        "  .withColumn('PayMethod', regexp_replace('PayMethod','3','Other')) \\\n",
        "  .withColumn('PayMethod', regexp_replace('PayMethod','4','Credit Card')) \\\n",
        "  .withColumn('PayMethod', regexp_replace('PayMethod','5','Money Order')) \\"
      ],
      "execution_count": 36,
      "outputs": []
    },
    {
      "cell_type": "code",
      "metadata": {
        "id": "trH99qC5LOhM"
      },
      "source": [
        "#Change Borough name\n",
        "from pyspark.sql.functions import regexp_replace\n",
        "df5 = df4.withColumn('BoroughName', regexp_replace('BoroughName', 'K', 'Brooklyn')) \\\n",
        "  .withColumn('BoroughName', regexp_replace('BoroughName', 'M', 'Manhattan')) \\\n",
        "  .withColumn('BoroughName', regexp_replace('BoroughName', 'Q', 'Queens')) \\\n",
        "  .withColumn('BoroughName', regexp_replace('BoroughName', 'S', 'Staten Island')) \\\n",
        "  .withColumn('BoroughName', regexp_replace('BoroughName', 'X', 'Bronx')) \\\n",
        "  .withColumn('BoroughName', regexp_replace('BoroughName', 'Z', 'Other')) \\\n"
      ],
      "execution_count": 37,
      "outputs": []
    },
    {
      "cell_type": "code",
      "metadata": {
        "id": "wO9XHx_6LOhM",
        "colab": {
          "base_uri": "https://localhost:8080/"
        },
        "outputId": "dd37cb53-45b2-4241-a0c8-75c7ad26ee2e"
      },
      "source": [
        "#Call only Mayor (1) and particaptes (P) within Dataframe\n",
        "df6 = df5.filter((df5.OFFICECD==\"1\") & (df5.CANCLASS==\"P\"))\n",
        "df6.show()"
      ],
      "execution_count": 38,
      "outputs": [
        {
          "output_type": "stream",
          "name": "stdout",
          "text": [
            "+--------+--------+-----------+--------+----------------+----------+--------------------+--------------------+-----------+--------+-----+-------+-----------------+------+--------+-------+---------+\n",
            "|Election|OFFICECD|CandidateID|CANCLASS|   CandidateName|      Date|                Name|     ContributorType|BoroughName|    City|State|ZipCode|ContributionState|Amount|MatchAmt|PrevAmt|PayMethod|\n",
            "+--------+--------+-----------+--------+----------------+----------+--------------------+--------------------+-----------+--------+-----+-------+-----------------+------+--------+-------+---------+\n",
            "|    2001|       1|         AY|       P|Ferrer, Fernando| 10/9/2001|                null| Candidate Committee|       null|    null| null|   null|               NY|  1000|       0|      0|    Check|\n",
            "|    2001|       1|         AY|       P|Ferrer, Fernando|10/22/2001|                null| Candidate Committee|       null|    null| null|   null|               NY|   500|       0|      0|    Check|\n",
            "|    2001|       1|         AY|       P|Ferrer, Fernando|10/22/2001|                null| Candidate Committee|       null|    null| null|   null|               NY|  1000|       0|      0|    Check|\n",
            "|    2001|       1|         A7|       P|     Green, Mark| 11/1/2001|1-10 INDUSTRY ASS...|               Other|   Brooklyn|BROOKLYN|   NY|  11222|             null|  4500|       0|      0|    Check|\n",
            "|    2001|       1|         B1|       P|Vallone, Peter F|11/30/2000|     100  CHURCH LLC|               Other|  Manhattan|NEW YORK|   NY|  10007|             null|  2000|       0|      0|    Check|\n",
            "|    2001|       1|         AY|       P|Ferrer, Fernando| 8/17/2001| 103  REALTY COMPANY|          Individual|      Other|LYNBROOK|   NY|  11563|             null|   250|       0|      0|    Check|\n",
            "|    2001|       1|         B1|       P|Vallone, Peter F|11/18/1999|1046 MADISON AVEN...|               Other|  Manhattan|NEW YORK|   NY|  10022|             null|   250|       0|      0|    Check|\n",
            "|    2001|       1|         AY|       P|Ferrer, Fernando|  5/4/2001|11-13 HUBERT ST R...|               Other|  Manhattan|NEW YORK|   NY|  10013|             null|  1000|       0|      0|    Check|\n",
            "|    2001|       1|         A7|       P|     Green, Mark| 8/27/2001|11-13 HUBERT STRE...|               Other|  Manhattan|NEW YORK|   NY|  10013|             null|   250|       0|      0|    Check|\n",
            "|    2001|       1|         A7|       P|     Green, Mark| 4/27/2001|    1113 COLGATE LLC|               Other|  Manhattan|NEW YORK|   NY|  10001|             null|   250|       0|      0|    Check|\n",
            "|    2001|       1|         AY|       P|Ferrer, Fernando|12/10/1999|1162-4 SHERIDAN R...|          Individual|      Bronx|   BRONX|   NY|  10461|             null|  1000|       0|      0|    Check|\n",
            "|    2001|       1|         AY|       P|Ferrer, Fernando|12/10/1999|1162-4 SHERIDAN R...|               Other|      Bronx|   BRONX|   NY|  10461|             null| -1000|       0|      0|  Unknown|\n",
            "|    2001|       1|         A9|       P|  Hevesi, Alan G|12/21/2000| 117 POST AVENUE LLC|               Other|      Other|LYNBROOK|   NY|  11563|             null|   500|       0|      0|    Check|\n",
            "|    2001|       1|         AY|       P|Ferrer, Fernando|12/20/2000|1180 LEBANON REAL...|               Other|      Other| YONKERS|   NY|  10709|             null|   200|       0|      0|    Check|\n",
            "|    2001|       1|         A7|       P|     Green, Mark| 11/2/2001|1199 POLITCAL ACT...|               Other|  Manhattan|NEW YORK|   NY|  10036|               NY|  4500|       0|      0|    Check|\n",
            "|    2001|       1|         AY|       P|Ferrer, Fernando| 10/5/2001|1199/SEIU NYS POL...|Political Action ...|  Manhattan|NEW YORK|   NY|  10036|             null|  2250|       0|   4500|    Check|\n",
            "|    2001|       1|         AY|       P|Ferrer, Fernando|  7/5/2000|1199/SEIU NYS POL...|Political Action ...|  Manhattan|NEW YORK|   NY|  10036|             null|  4500|       0|      0|    Check|\n",
            "|    2001|       1|         AY|       P|Ferrer, Fernando| 1/26/1998|1203-5 FINDLAY RE...|         Corporation|      Bronx|   BRONX|   NY|  10461|             null|  1000|       0|      0|    Check|\n",
            "|    2001|       1|         AY|       P|Ferrer, Fernando| 1/26/1998|1203-5 FINDLAY RE...|               Other|      Bronx|   BRONX|   NY|  10461|             null| -1000|       0|      0|  Unknown|\n",
            "|    2001|       1|         B1|       P|Vallone, Peter F|  1/3/2000|1209 REALTY ASSOC...|         Corporation|   Brooklyn|   BKLYN|   NY|  11221|             null|  5000|       0|      0|    Check|\n",
            "+--------+--------+-----------+--------+----------------+----------+--------------------+--------------------+-----------+--------+-----+-------+-----------------+------+--------+-------+---------+\n",
            "only showing top 20 rows\n",
            "\n"
          ]
        }
      ]
    },
    {
      "cell_type": "code",
      "metadata": {
        "id": "nEmNuKUFLOhM",
        "colab": {
          "base_uri": "https://localhost:8080/"
        },
        "outputId": "3dd24cf6-f605-4e81-ac45-b76ea57d234b"
      },
      "source": [
        "#Check the above dataframe to make sure only unique values between the OFFICECD is 1 \n",
        "df6.select('OFFICECD').distinct().show()"
      ],
      "execution_count": 39,
      "outputs": [
        {
          "output_type": "stream",
          "name": "stdout",
          "text": [
            "+--------+\n",
            "|OFFICECD|\n",
            "+--------+\n",
            "|       1|\n",
            "+--------+\n",
            "\n"
          ]
        }
      ]
    },
    {
      "cell_type": "code",
      "metadata": {
        "id": "Myx_AWPaLOhM",
        "colab": {
          "base_uri": "https://localhost:8080/"
        },
        "outputId": "9d836453-2af4-41ee-d359-af6909d9d129"
      },
      "source": [
        "#Drop OFFICECD and CANCLASS\n",
        "list2 = ['OFFICECD', 'CANCLASS'] \n",
        "df7 = df6.drop(*list2)\n",
        "df7.show()"
      ],
      "execution_count": 40,
      "outputs": [
        {
          "output_type": "stream",
          "name": "stdout",
          "text": [
            "+--------+-----------+----------------+----------+--------------------+--------------------+-----------+--------+-----+-------+-----------------+------+--------+-------+---------+\n",
            "|Election|CandidateID|   CandidateName|      Date|                Name|     ContributorType|BoroughName|    City|State|ZipCode|ContributionState|Amount|MatchAmt|PrevAmt|PayMethod|\n",
            "+--------+-----------+----------------+----------+--------------------+--------------------+-----------+--------+-----+-------+-----------------+------+--------+-------+---------+\n",
            "|    2001|         AY|Ferrer, Fernando| 10/9/2001|                null| Candidate Committee|       null|    null| null|   null|               NY|  1000|       0|      0|    Check|\n",
            "|    2001|         AY|Ferrer, Fernando|10/22/2001|                null| Candidate Committee|       null|    null| null|   null|               NY|   500|       0|      0|    Check|\n",
            "|    2001|         AY|Ferrer, Fernando|10/22/2001|                null| Candidate Committee|       null|    null| null|   null|               NY|  1000|       0|      0|    Check|\n",
            "|    2001|         A7|     Green, Mark| 11/1/2001|1-10 INDUSTRY ASS...|               Other|   Brooklyn|BROOKLYN|   NY|  11222|             null|  4500|       0|      0|    Check|\n",
            "|    2001|         B1|Vallone, Peter F|11/30/2000|     100  CHURCH LLC|               Other|  Manhattan|NEW YORK|   NY|  10007|             null|  2000|       0|      0|    Check|\n",
            "|    2001|         AY|Ferrer, Fernando| 8/17/2001| 103  REALTY COMPANY|          Individual|      Other|LYNBROOK|   NY|  11563|             null|   250|       0|      0|    Check|\n",
            "|    2001|         B1|Vallone, Peter F|11/18/1999|1046 MADISON AVEN...|               Other|  Manhattan|NEW YORK|   NY|  10022|             null|   250|       0|      0|    Check|\n",
            "|    2001|         AY|Ferrer, Fernando|  5/4/2001|11-13 HUBERT ST R...|               Other|  Manhattan|NEW YORK|   NY|  10013|             null|  1000|       0|      0|    Check|\n",
            "|    2001|         A7|     Green, Mark| 8/27/2001|11-13 HUBERT STRE...|               Other|  Manhattan|NEW YORK|   NY|  10013|             null|   250|       0|      0|    Check|\n",
            "|    2001|         A7|     Green, Mark| 4/27/2001|    1113 COLGATE LLC|               Other|  Manhattan|NEW YORK|   NY|  10001|             null|   250|       0|      0|    Check|\n",
            "|    2001|         AY|Ferrer, Fernando|12/10/1999|1162-4 SHERIDAN R...|          Individual|      Bronx|   BRONX|   NY|  10461|             null|  1000|       0|      0|    Check|\n",
            "|    2001|         AY|Ferrer, Fernando|12/10/1999|1162-4 SHERIDAN R...|               Other|      Bronx|   BRONX|   NY|  10461|             null| -1000|       0|      0|  Unknown|\n",
            "|    2001|         A9|  Hevesi, Alan G|12/21/2000| 117 POST AVENUE LLC|               Other|      Other|LYNBROOK|   NY|  11563|             null|   500|       0|      0|    Check|\n",
            "|    2001|         AY|Ferrer, Fernando|12/20/2000|1180 LEBANON REAL...|               Other|      Other| YONKERS|   NY|  10709|             null|   200|       0|      0|    Check|\n",
            "|    2001|         A7|     Green, Mark| 11/2/2001|1199 POLITCAL ACT...|               Other|  Manhattan|NEW YORK|   NY|  10036|               NY|  4500|       0|      0|    Check|\n",
            "|    2001|         AY|Ferrer, Fernando| 10/5/2001|1199/SEIU NYS POL...|Political Action ...|  Manhattan|NEW YORK|   NY|  10036|             null|  2250|       0|   4500|    Check|\n",
            "|    2001|         AY|Ferrer, Fernando|  7/5/2000|1199/SEIU NYS POL...|Political Action ...|  Manhattan|NEW YORK|   NY|  10036|             null|  4500|       0|      0|    Check|\n",
            "|    2001|         AY|Ferrer, Fernando| 1/26/1998|1203-5 FINDLAY RE...|         Corporation|      Bronx|   BRONX|   NY|  10461|             null|  1000|       0|      0|    Check|\n",
            "|    2001|         AY|Ferrer, Fernando| 1/26/1998|1203-5 FINDLAY RE...|               Other|      Bronx|   BRONX|   NY|  10461|             null| -1000|       0|      0|  Unknown|\n",
            "|    2001|         B1|Vallone, Peter F|  1/3/2000|1209 REALTY ASSOC...|         Corporation|   Brooklyn|   BKLYN|   NY|  11221|             null|  5000|       0|      0|    Check|\n",
            "+--------+-----------+----------------+----------+--------------------+--------------------+-----------+--------+-----+-------+-----------------+------+--------+-------+---------+\n",
            "only showing top 20 rows\n",
            "\n"
          ]
        }
      ]
    },
    {
      "cell_type": "code",
      "metadata": {
        "id": "OEu2eqWaDg1J"
      },
      "source": [
        "#Filter Dataframe removing the null CandidateID values\n",
        "df8 = df7.filter(df7.CandidateID.isNotNull())"
      ],
      "execution_count": 41,
      "outputs": []
    },
    {
      "cell_type": "code",
      "metadata": {
        "id": "Uci_zuD5LOhM",
        "colab": {
          "base_uri": "https://localhost:8080/"
        },
        "outputId": "4a01f53a-555e-4aaa-89c2-562ab862dc35"
      },
      "source": [
        "# ADD AMNT and MATCHAMNT PrevAmnt\n",
        "from pyspark.sql.functions import col\n",
        "clean_comm_2001_df = df8.withColumn(\"TotalAmount\", col(\"Amount\")+col(\"MatchAmt\")+col('PrevAmt'))\n",
        "clean_comm_2001_df.show()"
      ],
      "execution_count": 42,
      "outputs": [
        {
          "output_type": "stream",
          "name": "stdout",
          "text": [
            "+--------+-----------+----------------+----------+--------------------+--------------------+-----------+--------+-----+-------+-----------------+------+--------+-------+---------+-----------+\n",
            "|Election|CandidateID|   CandidateName|      Date|                Name|     ContributorType|BoroughName|    City|State|ZipCode|ContributionState|Amount|MatchAmt|PrevAmt|PayMethod|TotalAmount|\n",
            "+--------+-----------+----------------+----------+--------------------+--------------------+-----------+--------+-----+-------+-----------------+------+--------+-------+---------+-----------+\n",
            "|    2001|         AY|Ferrer, Fernando| 10/9/2001|                null| Candidate Committee|       null|    null| null|   null|               NY|  1000|       0|      0|    Check|     1000.0|\n",
            "|    2001|         AY|Ferrer, Fernando|10/22/2001|                null| Candidate Committee|       null|    null| null|   null|               NY|   500|       0|      0|    Check|      500.0|\n",
            "|    2001|         AY|Ferrer, Fernando|10/22/2001|                null| Candidate Committee|       null|    null| null|   null|               NY|  1000|       0|      0|    Check|     1000.0|\n",
            "|    2001|         A7|     Green, Mark| 11/1/2001|1-10 INDUSTRY ASS...|               Other|   Brooklyn|BROOKLYN|   NY|  11222|             null|  4500|       0|      0|    Check|     4500.0|\n",
            "|    2001|         B1|Vallone, Peter F|11/30/2000|     100  CHURCH LLC|               Other|  Manhattan|NEW YORK|   NY|  10007|             null|  2000|       0|      0|    Check|     2000.0|\n",
            "|    2001|         AY|Ferrer, Fernando| 8/17/2001| 103  REALTY COMPANY|          Individual|      Other|LYNBROOK|   NY|  11563|             null|   250|       0|      0|    Check|      250.0|\n",
            "|    2001|         B1|Vallone, Peter F|11/18/1999|1046 MADISON AVEN...|               Other|  Manhattan|NEW YORK|   NY|  10022|             null|   250|       0|      0|    Check|      250.0|\n",
            "|    2001|         AY|Ferrer, Fernando|  5/4/2001|11-13 HUBERT ST R...|               Other|  Manhattan|NEW YORK|   NY|  10013|             null|  1000|       0|      0|    Check|     1000.0|\n",
            "|    2001|         A7|     Green, Mark| 8/27/2001|11-13 HUBERT STRE...|               Other|  Manhattan|NEW YORK|   NY|  10013|             null|   250|       0|      0|    Check|      250.0|\n",
            "|    2001|         A7|     Green, Mark| 4/27/2001|    1113 COLGATE LLC|               Other|  Manhattan|NEW YORK|   NY|  10001|             null|   250|       0|      0|    Check|      250.0|\n",
            "|    2001|         AY|Ferrer, Fernando|12/10/1999|1162-4 SHERIDAN R...|          Individual|      Bronx|   BRONX|   NY|  10461|             null|  1000|       0|      0|    Check|     1000.0|\n",
            "|    2001|         AY|Ferrer, Fernando|12/10/1999|1162-4 SHERIDAN R...|               Other|      Bronx|   BRONX|   NY|  10461|             null| -1000|       0|      0|  Unknown|    -1000.0|\n",
            "|    2001|         A9|  Hevesi, Alan G|12/21/2000| 117 POST AVENUE LLC|               Other|      Other|LYNBROOK|   NY|  11563|             null|   500|       0|      0|    Check|      500.0|\n",
            "|    2001|         AY|Ferrer, Fernando|12/20/2000|1180 LEBANON REAL...|               Other|      Other| YONKERS|   NY|  10709|             null|   200|       0|      0|    Check|      200.0|\n",
            "|    2001|         A7|     Green, Mark| 11/2/2001|1199 POLITCAL ACT...|               Other|  Manhattan|NEW YORK|   NY|  10036|               NY|  4500|       0|      0|    Check|     4500.0|\n",
            "|    2001|         AY|Ferrer, Fernando| 10/5/2001|1199/SEIU NYS POL...|Political Action ...|  Manhattan|NEW YORK|   NY|  10036|             null|  2250|       0|   4500|    Check|     6750.0|\n",
            "|    2001|         AY|Ferrer, Fernando|  7/5/2000|1199/SEIU NYS POL...|Political Action ...|  Manhattan|NEW YORK|   NY|  10036|             null|  4500|       0|      0|    Check|     4500.0|\n",
            "|    2001|         AY|Ferrer, Fernando| 1/26/1998|1203-5 FINDLAY RE...|         Corporation|      Bronx|   BRONX|   NY|  10461|             null|  1000|       0|      0|    Check|     1000.0|\n",
            "|    2001|         AY|Ferrer, Fernando| 1/26/1998|1203-5 FINDLAY RE...|               Other|      Bronx|   BRONX|   NY|  10461|             null| -1000|       0|      0|  Unknown|    -1000.0|\n",
            "|    2001|         B1|Vallone, Peter F|  1/3/2000|1209 REALTY ASSOC...|         Corporation|   Brooklyn|   BKLYN|   NY|  11221|             null|  5000|       0|      0|    Check|     5000.0|\n",
            "+--------+-----------+----------------+----------+--------------------+--------------------+-----------+--------+-----+-------+-----------------+------+--------+-------+---------+-----------+\n",
            "only showing top 20 rows\n",
            "\n"
          ]
        }
      ]
    },
    {
      "cell_type": "code",
      "metadata": {
        "colab": {
          "base_uri": "https://localhost:8080/"
        },
        "id": "f96RFJy7cgzl",
        "outputId": "756902c3-11f5-47b4-91f5-c9e1a4cb2cc8"
      },
      "source": [
        "# import modules\n",
        "from pyspark.sql import SparkSession\n",
        "import functools\n",
        "  \n",
        "# explicit function\n",
        "def unionAll(dfs):\n",
        "    return functools.reduce(lambda clean_indiv_2001_df, clean_comm_2001_df: clean_indiv_2001_df.union(clean_comm_2001_df.select(clean_indiv_2001_df.columns)), dfs)\n",
        "\n",
        "unioned_df = unionAll([clean_indiv_2001_df, clean_comm_2001_df])\n",
        "unioned_df.show()"
      ],
      "execution_count": 43,
      "outputs": [
        {
          "output_type": "stream",
          "name": "stdout",
          "text": [
            "+--------+-----------+---------------+---------------+--------------------+--------------------+-----------+----------+-----+-------+------+--------+-------+---------+-----------+\n",
            "|Election|CandidateID|  CandidateName|           Date|                Name|     ContributorType|BoroughName|      City|State|ZipCode|Amount|MatchAmt|PrevAmt|PayMethod|TotalAmount|\n",
            "+--------+-----------+---------------+---------------+--------------------+--------------------+-----------+----------+-----+-------+------+--------+-------+---------+-----------+\n",
            "|    2001|         AY|Fernando,Ferrer|10/22/2001 0:00|                null| Candidate Committee|       null|      null| null|   null|   500|       0|      0|    Check|      500.0|\n",
            "|    2001|         AY|Fernando,Ferrer|10/22/2001 0:00|                null| Candidate Committee|       null|      null| null|   null|  1000|       0|      0|    Check|     1000.0|\n",
            "|    2001|         AY|Fernando,Ferrer| 10/9/2001 0:00|                null| Candidate Committee|       null|      null| null|   null|  1000|       0|      0|    Check|     1000.0|\n",
            "|    2001|         A9|    Alan,Hevesi|  3/3/2000 0:00|             ?, SAUL|          Individual|      Other|LONG BEACH|   NY|  11561|    25|       0|      0|    Other|       25.0|\n",
            "|    2001|         A7|     Mark,Green| 11/1/2001 0:00|1-10 INDUSTRY ASS...|               Other|   Brooklyn|  BROOKLYN|   NY|  11222|  4500|       0|      0|    Check|     4500.0|\n",
            "|    2001|         B1|  Peter,Vallone|11/30/2000 0:00|     100  CHURCH LLC|               Other|  Manhattan|  NEW YORK|   NY|  10007|  2000|       0|      0|    Check|     2000.0|\n",
            "|    2001|         AY|Fernando,Ferrer| 8/17/2001 0:00| 103  REALTY COMPANY|          Individual|      Other|  LYNBROOK|   NY|  11563|   250|       0|      0|    Check|      250.0|\n",
            "|    2001|         B1|  Peter,Vallone|11/18/1999 0:00|1046 MADISON AVEN...|               Other|  Manhattan|  NEW YORK|   NY|  10022|   250|       0|      0|    Check|      250.0|\n",
            "|    2001|         AY|Fernando,Ferrer|  5/4/2001 0:00|11-13 HUBERT ST R...|               Other|  Manhattan|  NEW YORK|   NY|  10013|  1000|       0|      0|    Check|     1000.0|\n",
            "|    2001|         A7|     Mark,Green| 8/27/2001 0:00|11-13 HUBERT STRE...|               Other|  Manhattan|  NEW YORK|   NY|  10013|   250|       0|      0|    Check|      250.0|\n",
            "|    2001|         A7|     Mark,Green| 4/27/2001 0:00|    1113 COLGATE LLC|               Other|  Manhattan|  NEW YORK|   NY|  10001|   250|       0|      0|    Check|      250.0|\n",
            "|    2001|         AY|Fernando,Ferrer|12/10/1999 0:00|1162-4 SHERIDAN R...|          Individual|      Bronx|     BRONX|   NY|  10461|  1000|       0|      0|    Check|     1000.0|\n",
            "|    2001|         AY|Fernando,Ferrer|12/10/1999 0:00|1162-4 SHERIDAN R...|               Other|      Bronx|     BRONX|   NY|  10461| -1000|       0|      0|  Unknown|    -1000.0|\n",
            "|    2001|         A9|    Alan,Hevesi|12/21/2000 0:00| 117 POST AVENUE LLC|               Other|      Other|  LYNBROOK|   NY|  11563|   500|       0|      0|    Check|      500.0|\n",
            "|    2001|         AY|Fernando,Ferrer|12/20/2000 0:00|1180 LEBANON REAL...|               Other|      Other|   YONKERS|   NY|  10709|   200|       0|      0|    Check|      200.0|\n",
            "|    2001|         A7|     Mark,Green| 11/2/2001 0:00|1199 POLITCAL ACT...|               Other|  Manhattan|  NEW YORK|   NY|  10036|  4500|       0|      0|    Check|     4500.0|\n",
            "|    2001|         AY|Fernando,Ferrer|  7/5/2000 0:00|1199/SEIU NYS POL...|Political Action ...|  Manhattan|  NEW YORK|   NY|  10036|  4500|       0|      0|    Check|     4500.0|\n",
            "|    2001|         AY|Fernando,Ferrer| 10/5/2001 0:00|1199/SEIU NYS POL...|Political Action ...|  Manhattan|  NEW YORK|   NY|  10036|  2250|       0|   4500|    Check|     6750.0|\n",
            "|    2001|         AY|Fernando,Ferrer| 1/26/1998 0:00|1203-5 FINDLAY RE...|         Corporation|      Bronx|     BRONX|   NY|  10461|  1000|       0|      0|    Check|     1000.0|\n",
            "|    2001|         AY|Fernando,Ferrer| 1/26/1998 0:00|1203-5 FINDLAY RE...|               Other|      Bronx|     BRONX|   NY|  10461| -1000|       0|      0|  Unknown|    -1000.0|\n",
            "+--------+-----------+---------------+---------------+--------------------+--------------------+-----------+----------+-----+-------+------+--------+-------+---------+-----------+\n",
            "only showing top 20 rows\n",
            "\n"
          ]
        }
      ]
    },
    {
      "cell_type": "code",
      "metadata": {
        "id": "oR81812gcqpI"
      },
      "source": [
        "#Export to new CSV\n",
        "unioned_df.toPandas().to_csv(\"Contributions_2001.csv\", header=True)"
      ],
      "execution_count": 44,
      "outputs": []
    },
    {
      "cell_type": "code",
      "metadata": {
        "id": "JP38ou7rs5hY"
      },
      "source": [
        "#Export to new CSV\n",
        "#clean_comm_2005_df.toPandas().to_csv(\"Clean_Committee_2005.csv\", header=True)"
      ],
      "execution_count": 45,
      "outputs": []
    },
    {
      "cell_type": "code",
      "metadata": {
        "id": "S3PsGBmTLOhN"
      },
      "source": [
        "# Store environmental variable\n",
        "from getpass import getpass\n",
        "#Configure settings for RDS\n",
        "mode = \"append\"\n",
        "jdbc_url=\"jdbc:postgresql://database-final.cjdbapst3wjf.us-east-1.rds.amazonaws.com:5432/postgres\"\n",
        "config = {\"user\":\"postgres\",\n",
        "          \"password\": \"******\",\n",
        "          \"driver\":\"org.postgresql.Driver\"}"
      ],
      "execution_count": 46,
      "outputs": []
    },
    {
      "cell_type": "code",
      "metadata": {
        "id": "BJ4dBFJKSG5J"
      },
      "source": [
        "# Write DataFrame to active_user table in RDS\n",
        "#clean_indiv_2001_df.write.jdbc(url=jdbc_url, table='individual_2001', mode=mode, properties=config)"
      ],
      "execution_count": 47,
      "outputs": []
    },
    {
      "cell_type": "code",
      "metadata": {
        "id": "SSpL71qCG1F2"
      },
      "source": [
        "# Write DataFrame to active_user table in RDS\n",
        "#clean_comm_2001_df.write.jdbc(url=jdbc_url, table='committee_2001', mode=mode, properties=config)"
      ],
      "execution_count": 48,
      "outputs": []
    }
  ]
}
