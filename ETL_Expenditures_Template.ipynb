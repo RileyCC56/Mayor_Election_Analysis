{
  "nbformat": 4,
  "nbformat_minor": 0,
  "metadata": {
    "colab": {
      "name": " ETL_Expenditures_Template.ipynb",
      "provenance": [],
      "collapsed_sections": [],
      "authorship_tag": "ABX9TyPNTR7Pp4FF9hQKIqPaR+lB",
      "include_colab_link": true
    },
    "kernelspec": {
      "name": "python3",
      "display_name": "Python 3"
    },
    "language_info": {
      "name": "python"
    }
  },
  "cells": [
    {
      "cell_type": "markdown",
      "metadata": {
        "id": "view-in-github",
        "colab_type": "text"
      },
      "source": [
        "<a href=\"https://colab.research.google.com/github/ssheggrud/Mod_20_Project/blob/05_Riley/ETL_Expenditures_Template.ipynb\" target=\"_parent\"><img src=\"https://colab.research.google.com/assets/colab-badge.svg\" alt=\"Open In Colab\"/></a>"
      ]
    },
    {
      "cell_type": "code",
      "metadata": {
        "colab": {
          "base_uri": "https://localhost:8080/"
        },
        "id": "ddn5mqQ0M_R3",
        "outputId": "62cdefe0-4713-408e-b543-e5a01464f4c8"
      },
      "source": [
        "import os\n",
        "# Find the latest version of spark 3.0 from http://www.apache.org/dist/spark/ and enter as the spark version\n",
        "# For example:\n",
        "# spark_version = 'spark-3.0.3'\n",
        "spark_version = 'spark-2.4.8'\n",
        "os.environ['SPARK_VERSION']=spark_version\n",
        "\n",
        "# Install Spark and Java\n",
        "!apt-get update\n",
        "!apt-get install openjdk-11-jdk-headless -qq > /dev/null\n",
        "!wget -q http://www.apache.org/dist/spark/$SPARK_VERSION/$SPARK_VERSION-bin-hadoop2.7.tgz\n",
        "!tar xf $SPARK_VERSION-bin-hadoop2.7.tgz\n",
        "!pip install -q findspark\n",
        "\n",
        "# Set Environment Variables\n",
        "import os\n",
        "os.environ[\"JAVA_HOME\"] = \"/usr/lib/jvm/java-11-openjdk-amd64\"\n",
        "os.environ[\"SPARK_HOME\"] = f\"/content/{spark_version}-bin-hadoop2.7\"\n",
        "\n",
        "# Start a SparkSession\n",
        "import findspark\n",
        "findspark.init()"
      ],
      "execution_count": 1,
      "outputs": [
        {
          "output_type": "stream",
          "name": "stdout",
          "text": [
            "\r0% [Working]\r            \rGet:1 http://security.ubuntu.com/ubuntu bionic-security InRelease [88.7 kB]\n",
            "\r0% [Connecting to archive.ubuntu.com] [1 InRelease 14.2 kB/88.7 kB 16%] [Waitin\r                                                                               \rHit:2 https://cloud.r-project.org/bin/linux/ubuntu bionic-cran40/ InRelease\n",
            "\r0% [Connecting to archive.ubuntu.com] [1 InRelease 14.2 kB/88.7 kB 16%] [Connec\r0% [2 InRelease gpgv 3,626 B] [Connecting to archive.ubuntu.com] [1 InRelease 1\r                                                                               \rIgn:3 https://developer.download.nvidia.com/compute/cuda/repos/ubuntu1804/x86_64  InRelease\n",
            "\r0% [2 InRelease gpgv 3,626 B] [Connecting to archive.ubuntu.com] [1 InRelease 3\r0% [2 InRelease gpgv 3,626 B] [Connecting to archive.ubuntu.com (91.189.88.152)\r                                                                               \rIgn:4 https://developer.download.nvidia.com/compute/machine-learning/repos/ubuntu1804/x86_64  InRelease\n",
            "Hit:5 https://developer.download.nvidia.com/compute/cuda/repos/ubuntu1804/x86_64  Release\n",
            "Hit:6 https://developer.download.nvidia.com/compute/machine-learning/repos/ubuntu1804/x86_64  Release\n",
            "Hit:7 http://archive.ubuntu.com/ubuntu bionic InRelease\n",
            "Get:8 http://archive.ubuntu.com/ubuntu bionic-updates InRelease [88.7 kB]\n",
            "Get:11 http://archive.ubuntu.com/ubuntu bionic-backports InRelease [74.6 kB]\n",
            "Hit:12 http://ppa.launchpad.net/c2d4u.team/c2d4u4.0+/ubuntu bionic InRelease\n",
            "Hit:13 http://ppa.launchpad.net/cran/libgit2/ubuntu bionic InRelease\n",
            "Get:14 http://archive.ubuntu.com/ubuntu bionic-updates/restricted amd64 Packages [594 kB]\n",
            "Hit:15 http://ppa.launchpad.net/deadsnakes/ppa/ubuntu bionic InRelease\n",
            "Hit:16 http://ppa.launchpad.net/graphics-drivers/ppa/ubuntu bionic InRelease\n",
            "Get:17 http://archive.ubuntu.com/ubuntu bionic-updates/main amd64 Packages [2,755 kB]\n",
            "Fetched 3,601 kB in 6s (607 kB/s)\n",
            "Reading package lists... Done\n"
          ]
        }
      ]
    },
    {
      "cell_type": "code",
      "metadata": {
        "colab": {
          "base_uri": "https://localhost:8080/"
        },
        "id": "B9Dd_JabNFZU",
        "outputId": "5367f438-bf8a-4b51-fe25-1273c45f4ea4"
      },
      "source": [
        "# Download the Postgres driver that will allow Spark to interact with Postgres.\n",
        "!wget https://jdbc.postgresql.org/download/postgresql-42.2.16.jar"
      ],
      "execution_count": 2,
      "outputs": [
        {
          "output_type": "stream",
          "name": "stdout",
          "text": [
            "--2021-09-07 17:50:48--  https://jdbc.postgresql.org/download/postgresql-42.2.16.jar\n",
            "Resolving jdbc.postgresql.org (jdbc.postgresql.org)... 72.32.157.228, 2001:4800:3e1:1::228\n",
            "Connecting to jdbc.postgresql.org (jdbc.postgresql.org)|72.32.157.228|:443... connected.\n",
            "HTTP request sent, awaiting response... 200 OK\n",
            "Length: 1002883 (979K) [application/java-archive]\n",
            "Saving to: ‘postgresql-42.2.16.jar.2’\n",
            "\n",
            "postgresql-42.2.16. 100%[===================>] 979.38K  --.-KB/s    in 0.08s   \n",
            "\n",
            "2021-09-07 17:50:48 (11.3 MB/s) - ‘postgresql-42.2.16.jar.2’ saved [1002883/1002883]\n",
            "\n"
          ]
        }
      ]
    },
    {
      "cell_type": "code",
      "metadata": {
        "id": "VrvolWKMNFbe"
      },
      "source": [
        "# Start Spark session\n",
        "from pyspark.sql import SparkSession\n",
        "from pyspark.sql.functions import col\n",
        "spark = SparkSession.builder.appName(\"FinalProject\").getOrCreate()"
      ],
      "execution_count": 3,
      "outputs": []
    },
    {
      "cell_type": "code",
      "metadata": {
        "colab": {
          "base_uri": "https://localhost:8080/"
        },
        "id": "W2uxnkAjNFeD",
        "outputId": "60473289-4494-4b42-b1f5-d26200032d4f"
      },
      "source": [
        "# Read in data from S3 Buckets\n",
        "from pyspark import SparkFiles\n",
        "url = \"https://databootcamp-final-05.s3.amazonaws.com/Resources/Expenditures+2021+(UF).csv\"\n",
        "spark.sparkContext.addFile(url)\n",
        "df = spark.read.csv(SparkFiles.get(\"Expenditures+2021+(UF).csv\"), sep=\",\", header=True)\n",
        "df.show()"
      ],
      "execution_count": 4,
      "outputs": [
        {
          "output_type": "stream",
          "name": "stdout",
          "text": [
            "+--------+--------+------+--------+--------+---------+------+---------+------+--------+------+----------+--------+---------+----------+--------------------+------+-------+-----+-------+---------+---------------+-----+-----+----------+--------+---------+----------------+-----------------+--------+------+-------+\n",
            "|ELECTION|OFFICECD|CANDID|CANCLASS|CANDLAST|CANDFIRST|CANDMI|COMMITTEE|FILING|SCHEDULE|PAGENO|SEQUENCENO|   REFNO| INV_DATE|      DATE|                NAME|C_CODE|ORG_IND|STRNO|STRNAME|APARTMENT|           CITY|STATE|  ZIP|PAY_METHOD|    AMNT|PURPOSECD|         PURPOSE|          EXPLAIN|EXEMPTCD|RR_IND|SEG_IND|\n",
            "+--------+--------+------+--------+--------+---------+------+---------+------+--------+------+----------+--------+---------+----------+--------------------+------+-------+-----+-------+---------+---------------+-----+-----+----------+--------+---------+----------------+-----------------+--------+------+-------+\n",
            "|    2021|       1|  2445|      NP| Francis|   Quanda|     S|        H|    11|       N|  null|      null|R0000330|     null|10/11/2020|             1 HOTEL|  CORP|      Y| null|   null|     null|       Brooklyn|   NY|11201|      null| 2001.16|    RENTO|     Office Rent|  rental location|    null|     N|      N|\n",
            "|    2021|      11|  2546|       P|    Yang|   Andrew|  null|        H|     9|       F|  null|      null|R0094567| 6/3/2021|  6/4/2021|    1-800flowers.com|  CORP|      Y| null|   null|     null|       Glendale|   NY|11385|   Unknown|   91.57|    OTHER|Other: explntion|          Flowers|    null|     N|      N|\n",
            "|    2021|      11|   148|       P|Stringer|    Scott|     M|        R|     8|       F|  null|      null|R0063906| 5/1/2021|  5/1/2021|115 Broadway Tena...|   LLC|      Y| null|   null|     null|       New York|   NY|10006|   Unknown| 3240.75|    RENTO|     Office Rent|             Rent|    null|     N|      N|\n",
            "|    2021|      11|   148|       P|Stringer|    Scott|     M|        R|     8|       F|  null|      null|R0066187| 5/4/2021|  5/4/2021|115 Broadway Tena...|   LLC|      Y| null|   null|     null|       New York|   NY|10006|   Unknown|13240.75|    RENTO|     Office Rent|             Rent|    null|     N|      N|\n",
            "|    2021|      11|   148|       P|Stringer|    Scott|     M|        R|     9|       F|  null|      null|R0070461| 6/1/2021|  6/7/2021|115 Broadway Tena...|   LLC|      Y| null|   null|     null|       New York|   NY|10006|   Unknown| 16762.5|    RENTO|     Office Rent|             Rent|    null|     N|      N|\n",
            "|    2021|      11|   148|       P|Stringer|    Scott|     M|        R|    11|       L|  null|      null|R0072010| 5/4/2021|  8/5/2021|115 Broadway Tena...|   LLC|      Y| null|   null|     null|       New York|   NY|10006|      null|  -10000|     null|            null|             null|    null|     N|      N|\n",
            "|    2021|      11|  2393|       P|   Wiley|     Maya|     D|        H|     8|       F|  null|      null|R0048292| 3/5/2021|  4/1/2021|1199 SEIU United ...| PCOMP|      Y| null|   null|     null|       New York|   NY|10036|   Unknown|    1500|    FUNDR|     Fundraising|Auditorium Rental|    null|     N|      N|\n",
            "|    2021|      11|  1545|       P|   Adams|     Eric|     L|        L|     9|       F|  null|      null|R0044751|5/26/2021| 5/31/2021|1389 Construction...|  CORP|      Y| null|   null|     null|       New York|   NY|10030|   Unknown|    4000|    RENTO|     Office Rent|    Office Rental|    null|     N|      N|\n",
            "|    2021|      11|   148|       P|Stringer|    Scott|     M|        R|    10|       F|  null|      null|R0071477|6/30/2021| 6/30/2021|       1800 Got Junk|  CORP|      Y| null|   null|     null|          Bronx|   NY|10451|   Unknown|  574.86|    PROFL|    Prof. Srvcs.|     Junk Removal|    null|     N|      N|\n",
            "|    2021|      11|  2546|       P|    Yang|   Andrew|  null|        H|    10|       F|  null|      null|R0104366| 7/1/2021|  7/1/2021|           1Password|  OTHR|      Y| null|   null|     null|Toronto, Canada| null| null|   Unknown|  529.97|    OFFCE| Office Expenses|   Cyber Security|    null|     N|      N|\n",
            "|    2021|      11|  2546|       P|    Yang|   Andrew|  null|        H|     7|       F|  null|      null|R0000685| 2/1/2021|  2/2/2021|           1Password|  OTHR|      Y| null|   null|     null|Toronto, Canada| null| null|   Unknown|  277.66|    OFFCE| Office Expenses|   Cyber Security|    null|     N|      N|\n",
            "|    2021|      11|  2546|       P|    Yang|   Andrew|  null|        H|     7|       F|  null|      null|R0037526| 3/1/2021|  3/2/2021|           1Password|  OTHR|      Y| null|   null|     null|Toronto, Canada| null| null|   Unknown|  369.74|    OFFCE| Office Expenses|   Cyber Security|    null|     N|      N|\n",
            "|    2021|      11|  2546|       P|    Yang|   Andrew|  null|        H|     8|       F|  null|      null|R0060767| 4/2/2021|  4/2/2021|           1Password|  OTHR|      Y| null|   null|     null|Toronto, Canada| null| null|   Unknown|   324.9|    OFFCE| Office Expenses|   Cyber Security|    null|     N|      N|\n",
            "|    2021|      11|  2546|       P|    Yang|   Andrew|  null|        H|     8|       F|  null|      null|R0069942| 5/1/2021|  5/3/2021|           1Password|  OTHR|      Y| null|   null|     null|Toronto, Canada| null| null|   Unknown|  463.28|    OFFCE| Office Expenses|   Cyber Security|    null|     N|      N|\n",
            "|    2021|      11|  2546|       P|    Yang|   Andrew|  null|        H|     9|       F|  null|      null|R0089688| 6/1/2021|  6/2/2021|           1Password|  OTHR|      Y| null|   null|     null|Toronto, Canada| null| null|   Unknown|  568.76|    OFFCE| Office Expenses|   Cyber Security|    null|     N|      N|\n",
            "|    2021|      11|  2366|       P|Pepitone|  William|  null|        H|    10|       F|  null|      null|R0001701|4/30/2021| 4/30/2021|2 Twins Digital P...|  CORP|      Y| null|   null|     null|  Staten Island|   NY|10312|   Unknown|  152.43|    OFFCE| Office Expenses|         Printing|    null|     N|      N|\n",
            "|    2021|      11|  2366|       P|Pepitone|  William|  null|        H|    10|       F|  null|      null|R0001721|5/14/2021| 5/14/2021|2 Twins Digital P...|  CORP|      Y| null|   null|     null|  Staten Island|   NY|10312|   Unknown|  1050.1|    OFFCE| Office Expenses|          Signage|    null|     N|      N|\n",
            "|    2021|      11|  2366|       P|Pepitone|  William|  null|        H|    10|       F|  null|      null|R0001733| 6/8/2021|  6/8/2021|2 Twins Digital P...|  CORP|      Y| null|   null|     null|  Staten Island|   NY|10312|   Unknown|   435.5|    OFFCE| Office Expenses|         Printing|    null|     N|      N|\n",
            "|    2021|      11|  2366|       P|Pepitone|  William|  null|        H|    10|       F|  null|      null|R0001735|6/14/2021| 6/14/2021|2 Twins Digital P...|  CORP|      Y| null|   null|     null|  Staten Island|   NY|10312|   Unknown|  152.43|    OFFCE| Office Expenses|         Printing|    null|     N|      N|\n",
            "|    2021|      11|  2366|       P|Pepitone|  William|  null|        H|    11|       F|  null|      null|R0002359| 8/5/2021|  8/5/2021|2 Twins Digital P...|  CORP|      Y| null|   null|     null|  Staten Island|   NY| null|   Unknown|  152.43|    LITER|     Campgn Lit.|       Palm Cards|    null|     N|      N|\n",
            "+--------+--------+------+--------+--------+---------+------+---------+------+--------+------+----------+--------+---------+----------+--------------------+------+-------+-----+-------+---------+---------------+-----+-----+----------+--------+---------+----------------+-----------------+--------+------+-------+\n",
            "only showing top 20 rows\n",
            "\n"
          ]
        }
      ]
    },
    {
      "cell_type": "code",
      "metadata": {
        "colab": {
          "base_uri": "https://localhost:8080/"
        },
        "id": "PauL98XATuOi",
        "outputId": "c806d24e-de70-4367-ca79-2100ea547091"
      },
      "source": [
        "df.columns"
      ],
      "execution_count": 5,
      "outputs": [
        {
          "output_type": "execute_result",
          "data": {
            "text/plain": [
              "['ELECTION',\n",
              " 'OFFICECD',\n",
              " 'CANDID',\n",
              " 'CANCLASS',\n",
              " 'CANDLAST',\n",
              " 'CANDFIRST',\n",
              " 'CANDMI',\n",
              " 'COMMITTEE',\n",
              " 'FILING',\n",
              " 'SCHEDULE',\n",
              " 'PAGENO',\n",
              " 'SEQUENCENO',\n",
              " 'REFNO',\n",
              " 'INV_DATE',\n",
              " 'DATE',\n",
              " 'NAME',\n",
              " 'C_CODE',\n",
              " 'ORG_IND',\n",
              " 'STRNO',\n",
              " 'STRNAME',\n",
              " 'APARTMENT',\n",
              " 'CITY',\n",
              " 'STATE',\n",
              " 'ZIP',\n",
              " 'PAY_METHOD',\n",
              " 'AMNT',\n",
              " 'PURPOSECD',\n",
              " 'PURPOSE',\n",
              " 'EXPLAIN',\n",
              " 'EXEMPTCD',\n",
              " 'RR_IND',\n",
              " 'SEG_IND']"
            ]
          },
          "metadata": {},
          "execution_count": 5
        }
      ]
    },
    {
      "cell_type": "code",
      "metadata": {
        "colab": {
          "base_uri": "https://localhost:8080/"
        },
        "id": "e2cRNc4wNFgt",
        "outputId": "ea6916b9-2026-49f1-bdf7-ef241cff0b25"
      },
      "source": [
        "# Remove multiple columns\n",
        "list = ['CANDMI','COMMITTEE',\n",
        " 'FILING',\n",
        " 'SCHEDULE',\n",
        " 'PAGENO',\n",
        " 'SEQUENCENO',\n",
        " 'REFNO',\n",
        " 'INV_DATE',\n",
        " 'DATE',\n",
        " 'NAME',\n",
        " 'ORG_IND',\n",
        " 'STRNO',\n",
        " 'STRNAME',\n",
        " 'APARTMENT',\n",
        "  'EXPLAIN',\n",
        " 'EXEMPTCD',\n",
        " 'RR_IND',\n",
        " 'SEG_IND'] \n",
        "df = df.drop(*list)\n",
        "df.show()"
      ],
      "execution_count": 6,
      "outputs": [
        {
          "output_type": "stream",
          "name": "stdout",
          "text": [
            "+--------+--------+------+--------+--------+---------+------+---------------+-----+-----+----------+--------+---------+----------------+\n",
            "|ELECTION|OFFICECD|CANDID|CANCLASS|CANDLAST|CANDFIRST|C_CODE|           CITY|STATE|  ZIP|PAY_METHOD|    AMNT|PURPOSECD|         PURPOSE|\n",
            "+--------+--------+------+--------+--------+---------+------+---------------+-----+-----+----------+--------+---------+----------------+\n",
            "|    2021|       1|  2445|      NP| Francis|   Quanda|  CORP|       Brooklyn|   NY|11201|      null| 2001.16|    RENTO|     Office Rent|\n",
            "|    2021|      11|  2546|       P|    Yang|   Andrew|  CORP|       Glendale|   NY|11385|   Unknown|   91.57|    OTHER|Other: explntion|\n",
            "|    2021|      11|   148|       P|Stringer|    Scott|   LLC|       New York|   NY|10006|   Unknown| 3240.75|    RENTO|     Office Rent|\n",
            "|    2021|      11|   148|       P|Stringer|    Scott|   LLC|       New York|   NY|10006|   Unknown|13240.75|    RENTO|     Office Rent|\n",
            "|    2021|      11|   148|       P|Stringer|    Scott|   LLC|       New York|   NY|10006|   Unknown| 16762.5|    RENTO|     Office Rent|\n",
            "|    2021|      11|   148|       P|Stringer|    Scott|   LLC|       New York|   NY|10006|      null|  -10000|     null|            null|\n",
            "|    2021|      11|  2393|       P|   Wiley|     Maya| PCOMP|       New York|   NY|10036|   Unknown|    1500|    FUNDR|     Fundraising|\n",
            "|    2021|      11|  1545|       P|   Adams|     Eric|  CORP|       New York|   NY|10030|   Unknown|    4000|    RENTO|     Office Rent|\n",
            "|    2021|      11|   148|       P|Stringer|    Scott|  CORP|          Bronx|   NY|10451|   Unknown|  574.86|    PROFL|    Prof. Srvcs.|\n",
            "|    2021|      11|  2546|       P|    Yang|   Andrew|  OTHR|Toronto, Canada| null| null|   Unknown|  529.97|    OFFCE| Office Expenses|\n",
            "|    2021|      11|  2546|       P|    Yang|   Andrew|  OTHR|Toronto, Canada| null| null|   Unknown|  277.66|    OFFCE| Office Expenses|\n",
            "|    2021|      11|  2546|       P|    Yang|   Andrew|  OTHR|Toronto, Canada| null| null|   Unknown|  369.74|    OFFCE| Office Expenses|\n",
            "|    2021|      11|  2546|       P|    Yang|   Andrew|  OTHR|Toronto, Canada| null| null|   Unknown|   324.9|    OFFCE| Office Expenses|\n",
            "|    2021|      11|  2546|       P|    Yang|   Andrew|  OTHR|Toronto, Canada| null| null|   Unknown|  463.28|    OFFCE| Office Expenses|\n",
            "|    2021|      11|  2546|       P|    Yang|   Andrew|  OTHR|Toronto, Canada| null| null|   Unknown|  568.76|    OFFCE| Office Expenses|\n",
            "|    2021|      11|  2366|       P|Pepitone|  William|  CORP|  Staten Island|   NY|10312|   Unknown|  152.43|    OFFCE| Office Expenses|\n",
            "|    2021|      11|  2366|       P|Pepitone|  William|  CORP|  Staten Island|   NY|10312|   Unknown|  1050.1|    OFFCE| Office Expenses|\n",
            "|    2021|      11|  2366|       P|Pepitone|  William|  CORP|  Staten Island|   NY|10312|   Unknown|   435.5|    OFFCE| Office Expenses|\n",
            "|    2021|      11|  2366|       P|Pepitone|  William|  CORP|  Staten Island|   NY|10312|   Unknown|  152.43|    OFFCE| Office Expenses|\n",
            "|    2021|      11|  2366|       P|Pepitone|  William|  CORP|  Staten Island|   NY| null|   Unknown|  152.43|    LITER|     Campgn Lit.|\n",
            "+--------+--------+------+--------+--------+---------+------+---------------+-----+-----+----------+--------+---------+----------------+\n",
            "only showing top 20 rows\n",
            "\n"
          ]
        }
      ]
    },
    {
      "cell_type": "code",
      "metadata": {
        "colab": {
          "base_uri": "https://localhost:8080/"
        },
        "id": "g5aiRN5RNFjB",
        "outputId": "3510e7c2-71b2-4046-bd0a-25d2856e19f9"
      },
      "source": [
        "# check data types\n",
        "df.dtypes"
      ],
      "execution_count": 7,
      "outputs": [
        {
          "output_type": "execute_result",
          "data": {
            "text/plain": [
              "[('ELECTION', 'string'),\n",
              " ('OFFICECD', 'string'),\n",
              " ('CANDID', 'string'),\n",
              " ('CANCLASS', 'string'),\n",
              " ('CANDLAST', 'string'),\n",
              " ('CANDFIRST', 'string'),\n",
              " ('C_CODE', 'string'),\n",
              " ('CITY', 'string'),\n",
              " ('STATE', 'string'),\n",
              " ('ZIP', 'string'),\n",
              " ('PAY_METHOD', 'string'),\n",
              " ('AMNT', 'string'),\n",
              " ('PURPOSECD', 'string'),\n",
              " ('PURPOSE', 'string')]"
            ]
          },
          "metadata": {},
          "execution_count": 7
        }
      ]
    },
    {
      "cell_type": "code",
      "metadata": {
        "colab": {
          "base_uri": "https://localhost:8080/"
        },
        "id": "sA6AAG4zYxSL",
        "outputId": "1dfa7205-417b-4044-aedd-78c38b0ba6f1"
      },
      "source": [
        "df.columns"
      ],
      "execution_count": 8,
      "outputs": [
        {
          "output_type": "execute_result",
          "data": {
            "text/plain": [
              "['ELECTION',\n",
              " 'OFFICECD',\n",
              " 'CANDID',\n",
              " 'CANCLASS',\n",
              " 'CANDLAST',\n",
              " 'CANDFIRST',\n",
              " 'C_CODE',\n",
              " 'CITY',\n",
              " 'STATE',\n",
              " 'ZIP',\n",
              " 'PAY_METHOD',\n",
              " 'AMNT',\n",
              " 'PURPOSECD',\n",
              " 'PURPOSE']"
            ]
          },
          "metadata": {},
          "execution_count": 8
        }
      ]
    },
    {
      "cell_type": "code",
      "metadata": {
        "colab": {
          "base_uri": "https://localhost:8080/"
        },
        "id": "tIkq3wdqOzWV",
        "outputId": "9e796e42-512d-4cc6-df23-a21fc5a710da"
      },
      "source": [
        "#Change column names\n",
        "df1 = df \\\n",
        ".withColumnRenamed(\"ELECTION\", \"Election\") \\\n",
        ".withColumnRenamed(\"CANDID\", \"CandidateID\") \\\n",
        ".withColumnRenamed(\"CANDLAST\", \"CandidateLastName\") \\\n",
        ".withColumnRenamed('CANDFIRST', \"CandidateFirstName\") \\\n",
        ".withColumnRenamed(\"C_CODE\", \"ContributionType\") \\\n",
        ".withColumnRenamed(\"CITY\", \"City\") \\\n",
        ".withColumnRenamed(\"STATE\", \"State\") \\\n",
        ".withColumnRenamed(\"ZIP\", \"ZipCode\") \\\n",
        ".withColumnRenamed(\"AMNT\", \"Amount\") \\\n",
        ".withColumnRenamed(\"PURPOSECD\", \"PurposeCode\") \\\n",
        ".withColumnRenamed(\"PURPOSE\", \"Purpose\") \\\n",
        ".withColumnRenamed(\"PAY_METHOD\", \"PaymentMethod\") \n",
        "\n",
        "df1.printSchema()"
      ],
      "execution_count": 9,
      "outputs": [
        {
          "output_type": "stream",
          "name": "stdout",
          "text": [
            "root\n",
            " |-- Election: string (nullable = true)\n",
            " |-- OFFICECD: string (nullable = true)\n",
            " |-- CandidateID: string (nullable = true)\n",
            " |-- CANCLASS: string (nullable = true)\n",
            " |-- CandidateLastName: string (nullable = true)\n",
            " |-- CandidateFirstName: string (nullable = true)\n",
            " |-- ContributionType: string (nullable = true)\n",
            " |-- City: string (nullable = true)\n",
            " |-- State: string (nullable = true)\n",
            " |-- ZipCode: string (nullable = true)\n",
            " |-- PaymentMethod: string (nullable = true)\n",
            " |-- Amount: string (nullable = true)\n",
            " |-- PurposeCode: string (nullable = true)\n",
            " |-- Purpose: string (nullable = true)\n",
            "\n"
          ]
        }
      ]
    },
    {
      "cell_type": "code",
      "metadata": {
        "colab": {
          "base_uri": "https://localhost:8080/"
        },
        "id": "SyWn9dANSi5l",
        "outputId": "c1d5a9f7-ff8b-436d-dbb9-dd5cc06f257c"
      },
      "source": [
        "# changing datatypes of columns\n",
        "df2 = df1 \\\n",
        "  .withColumn(\"Election\",df1[\"Election\"].cast(\"Integer\")) \\\n",
        "  .withColumn(\"OFFICECD\", df1[\"OFFICECD\"].cast(\"Integer\")) \\\n",
        "  .withColumn(\"CandidateID\", df1[\"CandidateID\"].cast(\"Integer\")) \\\n",
        "  .withColumn(\"ZipCode\", df1[\"ZipCode\"].cast(\"Integer\")) \\\n",
        "  .withColumn(\"Amount\", df1[\"Amount\"].cast(\"Float\")) \\\n",
        "  \n",
        "df2.printSchema()"
      ],
      "execution_count": 10,
      "outputs": [
        {
          "output_type": "stream",
          "name": "stdout",
          "text": [
            "root\n",
            " |-- Election: integer (nullable = true)\n",
            " |-- OFFICECD: integer (nullable = true)\n",
            " |-- CandidateID: integer (nullable = true)\n",
            " |-- CANCLASS: string (nullable = true)\n",
            " |-- CandidateLastName: string (nullable = true)\n",
            " |-- CandidateFirstName: string (nullable = true)\n",
            " |-- ContributionType: string (nullable = true)\n",
            " |-- City: string (nullable = true)\n",
            " |-- State: string (nullable = true)\n",
            " |-- ZipCode: integer (nullable = true)\n",
            " |-- PaymentMethod: string (nullable = true)\n",
            " |-- Amount: float (nullable = true)\n",
            " |-- PurposeCode: string (nullable = true)\n",
            " |-- Purpose: string (nullable = true)\n",
            "\n"
          ]
        }
      ]
    },
    {
      "cell_type": "code",
      "metadata": {
        "id": "h1aCPuV3WPwC"
      },
      "source": [
        "#Change vaule name in ContributerType\n",
        "from pyspark.sql.functions import regexp_replace\n",
        "df3 = df2.withColumn(\"ContributionType\", regexp_replace(\"ContributionType\", 'CAN', 'Candidate')) \\\n",
        "  .withColumn('ContributerType', regexp_replace(\"ContributionType\", 'CORP', 'Corporation')) \\\n",
        "  .withColumn('ContributerType', regexp_replace(\"ContributionType\", 'EMPO', 'Labor Union')) \\\n",
        "  .withColumn(\"ContributionType\", regexp_replace(\"ContributionType\", 'FAM', 'Candidate Family')) \\\n",
        "  .withColumn(\"ContributionType\", regexp_replace(\"ContributionType\", 'IND', 'Individual')) \\\n",
        "  .withColumn(\"ContributionType\", regexp_replace(\"ContributionType\", 'PCOMZ', 'Party Committee')) \\\n",
        "  .withColumn(\"ContributionType\", regexp_replace(\"ContributionType\", 'ORG', 'Orgainization')) \\\n",
        "  .withColumn(\"ContributionType\", regexp_replace(\"ContributionType\", 'LLC', 'Limited Liability Company')) \\\n",
        "  .withColumn(\"ContributionType\", regexp_replace(\"ContributionType\", 'PCOMP', 'Political Action Committee')) \\\n",
        "  .withColumn(\"ContributionType\", regexp_replace(\"ContributionType\", 'SPO', ' Candidates Spouse')) \\\n",
        "  .withColumn(\"ContributionType\", regexp_replace(\"ContributionType\", 'OTHR', 'Other')) \\\n",
        "  .withColumn(\"ContributionType\", regexp_replace(\"ContributionType\", 'PCOMC', 'Candidate Committee')) \\\n",
        "  .withColumn(\"ContributionType\", regexp_replace(\"ContributionType\", 'PART', 'Individual')) \\\n"
      ],
      "execution_count": 14,
      "outputs": []
    },
    {
      "cell_type": "code",
      "metadata": {
        "id": "EDLKVpihXzJY"
      },
      "source": [
        "#Change Payment Method Name\n",
        "df4=df3.withColumn('PayMethod', regexp_replace('PayMethod','0','Unknown')) \\\n",
        "  .withColumn('PayMethod', regexp_replace('PayMethod','1','Cash')) \\\n",
        "  .withColumn('PayMethod', regexp_replace('PayMethod','2','Check')) \\\n",
        "  .withColumn('PayMethod', regexp_replace('PayMethod','3','Other')) \\\n",
        "  .withColumn('PayMethod', regexp_replace('PayMethod','4','Credit Card')) \\\n",
        "  .withColumn('PayMethod', regexp_replace('PayMethod','5','Money Order')) \\"
      ],
      "execution_count": null,
      "outputs": []
    },
    {
      "cell_type": "code",
      "metadata": {
        "id": "fy4JAvyQWRl7"
      },
      "source": [
        "#Change Borough name\n",
        "from pyspark.sql.functions import regexp_replace\n",
        "df5 = df4.withColumn('BoroughName', regexp_replace('BoroughName', 'K', 'Brooklyn')) \\\n",
        "  .withColumn('BoroughName', regexp_replace('BoroughName', 'M', 'Manhattan')) \\\n",
        "  .withColumn('BoroughName', regexp_replace('BoroughName', 'Q', 'Queens')) \\\n",
        "  .withColumn('BoroughName', regexp_replace('BoroughName', 'S', 'Staten Island')) \\\n",
        "  .withColumn('BoroughName', regexp_replace('BoroughName', 'X', 'Bronx')) \\\n",
        "  .withColumn('BoroughName', regexp_replace('BoroughName', 'Z', 'Other')) \\\n"
      ],
      "execution_count": null,
      "outputs": []
    },
    {
      "cell_type": "code",
      "metadata": {
        "id": "fM_kC3ViNFqN"
      },
      "source": [
        "#Call only Mayor (1) and particaptes (P) within Dataframe\n",
        "df6 = df5.filter((df5.OFFICECD==\"1\") & (df5.CANCLASS==\"P\"))\n",
        "df6.show()"
      ],
      "execution_count": null,
      "outputs": []
    },
    {
      "cell_type": "code",
      "metadata": {
        "id": "WmdLbDEzQAyc"
      },
      "source": [
        "#Check the above dataframe to make sure only unique values between the OFFICECD is 1 \n",
        "df6.select('OFFICECD').distinct().show()"
      ],
      "execution_count": null,
      "outputs": []
    },
    {
      "cell_type": "code",
      "metadata": {
        "id": "4kbDs5ApZtEu"
      },
      "source": [
        "#Drop OFFICECD and CANCLASS\n",
        "list2 = ['OFFICECD', 'CANCLASS'] \n",
        "df7 = df6.drop(*list2)\n",
        "df7.show()"
      ],
      "execution_count": null,
      "outputs": []
    },
    {
      "cell_type": "code",
      "metadata": {
        "id": "jKdRMcW-9mtO"
      },
      "source": [
        "# ADD AMNT and MATCHAMNT PrevAmnt\n",
        "from pyspark.sql.functions import col\n",
        "df8 = df7.withColumn(\"TotalAmount\", col(\"Amount\")+col(\"MatchAmt\")+col('PrevAmt'))\n",
        "df8.show()"
      ],
      "execution_count": null,
      "outputs": []
    }
  ]
}