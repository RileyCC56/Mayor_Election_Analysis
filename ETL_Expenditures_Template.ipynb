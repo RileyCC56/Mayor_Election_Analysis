{
  "nbformat": 4,
  "nbformat_minor": 0,
  "metadata": {
    "colab": {
      "name": " ETL_Expenditures_Template.ipynb",
      "provenance": [],
      "collapsed_sections": [],
      "authorship_tag": "ABX9TyMNg9iaOTBlbIt4O9rDbY4E",
      "include_colab_link": true
    },
    "kernelspec": {
      "name": "python3",
      "display_name": "Python 3"
    },
    "language_info": {
      "name": "python"
    }
  },
  "cells": [
    {
      "cell_type": "markdown",
      "metadata": {
        "id": "view-in-github",
        "colab_type": "text"
      },
      "source": [
        "<a href=\"https://colab.research.google.com/github/ssheggrud/Mod_20_Project/blob/05_Riley/ETL_Expenditures_Template.ipynb\" target=\"_parent\"><img src=\"https://colab.research.google.com/assets/colab-badge.svg\" alt=\"Open In Colab\"/></a>"
      ]
    },
    {
      "cell_type": "code",
      "metadata": {
        "colab": {
          "base_uri": "https://localhost:8080/"
        },
        "id": "ddn5mqQ0M_R3",
        "outputId": "cbb1584a-04ea-46c7-84f8-b2933e25da07"
      },
      "source": [
        "import os\n",
        "# Find the latest version of spark 3.0 from http://www.apache.org/dist/spark/ and enter as the spark version\n",
        "# For example:\n",
        "# spark_version = 'spark-3.0.3'\n",
        "spark_version = 'spark-2.4.8'\n",
        "os.environ['SPARK_VERSION']=spark_version\n",
        "\n",
        "# Install Spark and Java\n",
        "!apt-get update\n",
        "!apt-get install openjdk-11-jdk-headless -qq > /dev/null\n",
        "!wget -q http://www.apache.org/dist/spark/$SPARK_VERSION/$SPARK_VERSION-bin-hadoop2.7.tgz\n",
        "!tar xf $SPARK_VERSION-bin-hadoop2.7.tgz\n",
        "!pip install -q findspark\n",
        "\n",
        "# Set Environment Variables\n",
        "import os\n",
        "os.environ[\"JAVA_HOME\"] = \"/usr/lib/jvm/java-11-openjdk-amd64\"\n",
        "os.environ[\"SPARK_HOME\"] = f\"/content/{spark_version}-bin-hadoop2.7\"\n",
        "\n",
        "# Start a SparkSession\n",
        "import findspark\n",
        "findspark.init()"
      ],
      "execution_count": 1,
      "outputs": [
        {
          "output_type": "stream",
          "name": "stdout",
          "text": [
            "\r0% [Working]\r            \rGet:1 http://security.ubuntu.com/ubuntu bionic-security InRelease [88.7 kB]\n",
            "\r0% [Connecting to archive.ubuntu.com (91.189.88.142)] [1 InRelease 14.2 kB/88.7\r                                                                               \rGet:2 https://cloud.r-project.org/bin/linux/ubuntu bionic-cran40/ InRelease [3,626 B]\n",
            "Ign:3 https://developer.download.nvidia.com/compute/cuda/repos/ubuntu1804/x86_64  InRelease\n",
            "Get:4 http://ppa.launchpad.net/c2d4u.team/c2d4u4.0+/ubuntu bionic InRelease [15.9 kB]\n",
            "Ign:5 https://developer.download.nvidia.com/compute/machine-learning/repos/ubuntu1804/x86_64  InRelease\n",
            "Get:6 https://developer.download.nvidia.com/compute/cuda/repos/ubuntu1804/x86_64  Release [696 B]\n",
            "Hit:7 https://developer.download.nvidia.com/compute/machine-learning/repos/ubuntu1804/x86_64  Release\n",
            "Get:8 https://developer.download.nvidia.com/compute/cuda/repos/ubuntu1804/x86_64  Release.gpg [836 B]\n",
            "Hit:9 http://archive.ubuntu.com/ubuntu bionic InRelease\n",
            "Get:10 http://archive.ubuntu.com/ubuntu bionic-updates InRelease [88.7 kB]\n",
            "Hit:11 http://ppa.launchpad.net/cran/libgit2/ubuntu bionic InRelease\n",
            "Hit:12 http://ppa.launchpad.net/deadsnakes/ppa/ubuntu bionic InRelease\n",
            "Get:13 http://archive.ubuntu.com/ubuntu bionic-backports InRelease [74.6 kB]\n",
            "Hit:14 http://ppa.launchpad.net/graphics-drivers/ppa/ubuntu bionic InRelease\n",
            "Get:15 http://security.ubuntu.com/ubuntu bionic-security/restricted amd64 Packages [561 kB]\n",
            "Get:16 http://security.ubuntu.com/ubuntu bionic-security/main amd64 Packages [2,320 kB]\n",
            "Get:17 http://security.ubuntu.com/ubuntu bionic-security/universe amd64 Packages [1,428 kB]\n",
            "Get:19 https://developer.download.nvidia.com/compute/cuda/repos/ubuntu1804/x86_64  Packages [717 kB]\n",
            "Get:20 http://ppa.launchpad.net/c2d4u.team/c2d4u4.0+/ubuntu bionic/main Sources [1,796 kB]\n",
            "Get:21 http://archive.ubuntu.com/ubuntu bionic-updates/restricted amd64 Packages [594 kB]\n",
            "Get:22 http://archive.ubuntu.com/ubuntu bionic-updates/universe amd64 Packages [2,202 kB]\n",
            "Get:23 http://ppa.launchpad.net/c2d4u.team/c2d4u4.0+/ubuntu bionic/main amd64 Packages [919 kB]\n",
            "Get:24 http://archive.ubuntu.com/ubuntu bionic-updates/main amd64 Packages [2,755 kB]\n",
            "Fetched 13.6 MB in 4s (3,056 kB/s)\n",
            "Reading package lists... Done\n"
          ]
        }
      ]
    },
    {
      "cell_type": "code",
      "metadata": {
        "colab": {
          "base_uri": "https://localhost:8080/"
        },
        "id": "B9Dd_JabNFZU",
        "outputId": "dce8e401-cb62-4fd6-f58e-2eca0f8a23ed"
      },
      "source": [
        "# Download the Postgres driver that will allow Spark to interact with Postgres.\n",
        "!wget https://jdbc.postgresql.org/download/postgresql-42.2.16.jar"
      ],
      "execution_count": 2,
      "outputs": [
        {
          "output_type": "stream",
          "name": "stdout",
          "text": [
            "--2021-09-09 16:39:43--  https://jdbc.postgresql.org/download/postgresql-42.2.16.jar\n",
            "Resolving jdbc.postgresql.org (jdbc.postgresql.org)... 72.32.157.228, 2001:4800:3e1:1::228\n",
            "Connecting to jdbc.postgresql.org (jdbc.postgresql.org)|72.32.157.228|:443... connected.\n",
            "HTTP request sent, awaiting response... 200 OK\n",
            "Length: 1002883 (979K) [application/java-archive]\n",
            "Saving to: ‘postgresql-42.2.16.jar’\n",
            "\n",
            "postgresql-42.2.16. 100%[===================>] 979.38K  --.-KB/s    in 0.08s   \n",
            "\n",
            "2021-09-09 16:39:43 (11.5 MB/s) - ‘postgresql-42.2.16.jar’ saved [1002883/1002883]\n",
            "\n"
          ]
        }
      ]
    },
    {
      "cell_type": "code",
      "metadata": {
        "id": "VrvolWKMNFbe"
      },
      "source": [
        "# Start Spark session\n",
        "from pyspark.sql import SparkSession\n",
        "from pyspark.sql.functions import col\n",
        "spark = SparkSession.builder.appName(\"FinalProject\").getOrCreate()"
      ],
      "execution_count": 3,
      "outputs": []
    },
    {
      "cell_type": "code",
      "metadata": {
        "colab": {
          "base_uri": "https://localhost:8080/"
        },
        "id": "W2uxnkAjNFeD",
        "outputId": "acda7a9c-1240-4f20-8b7a-e8054b6cec16"
      },
      "source": [
        "# Read in data from S3 Buckets\n",
        "from pyspark import SparkFiles\n",
        "url = \"https://databootcamp-final-05.s3.amazonaws.com/Resources/Expenditures+2021+(UF).csv\"\n",
        "spark.sparkContext.addFile(url)\n",
        "df = spark.read.csv(SparkFiles.get(\"Expenditures+2021+(UF).csv\"), sep=\",\", header=True)\n",
        "df.show()"
      ],
      "execution_count": 4,
      "outputs": [
        {
          "output_type": "stream",
          "name": "stdout",
          "text": [
            "+--------+--------+------+--------+--------+---------+------+---------+------+--------+------+----------+--------+---------+----------+--------------------+------+-------+-----+-------+---------+---------------+-----+-----+----------+--------+---------+----------------+-----------------+--------+------+-------+\n",
            "|ELECTION|OFFICECD|CANDID|CANCLASS|CANDLAST|CANDFIRST|CANDMI|COMMITTEE|FILING|SCHEDULE|PAGENO|SEQUENCENO|   REFNO| INV_DATE|      DATE|                NAME|C_CODE|ORG_IND|STRNO|STRNAME|APARTMENT|           CITY|STATE|  ZIP|PAY_METHOD|    AMNT|PURPOSECD|         PURPOSE|          EXPLAIN|EXEMPTCD|RR_IND|SEG_IND|\n",
            "+--------+--------+------+--------+--------+---------+------+---------+------+--------+------+----------+--------+---------+----------+--------------------+------+-------+-----+-------+---------+---------------+-----+-----+----------+--------+---------+----------------+-----------------+--------+------+-------+\n",
            "|    2021|       1|  2445|      NP| Francis|   Quanda|     S|        H|    11|       N|  null|      null|R0000330|     null|10/11/2020|             1 HOTEL|  CORP|      Y| null|   null|     null|       Brooklyn|   NY|11201|      null| 2001.16|    RENTO|     Office Rent|  rental location|    null|     N|      N|\n",
            "|    2021|      11|  2546|       P|    Yang|   Andrew|  null|        H|     9|       F|  null|      null|R0094567| 6/3/2021|  6/4/2021|    1-800flowers.com|  CORP|      Y| null|   null|     null|       Glendale|   NY|11385|   Unknown|   91.57|    OTHER|Other: explntion|          Flowers|    null|     N|      N|\n",
            "|    2021|      11|   148|       P|Stringer|    Scott|     M|        R|     8|       F|  null|      null|R0063906| 5/1/2021|  5/1/2021|115 Broadway Tena...|   LLC|      Y| null|   null|     null|       New York|   NY|10006|   Unknown| 3240.75|    RENTO|     Office Rent|             Rent|    null|     N|      N|\n",
            "|    2021|      11|   148|       P|Stringer|    Scott|     M|        R|     8|       F|  null|      null|R0066187| 5/4/2021|  5/4/2021|115 Broadway Tena...|   LLC|      Y| null|   null|     null|       New York|   NY|10006|   Unknown|13240.75|    RENTO|     Office Rent|             Rent|    null|     N|      N|\n",
            "|    2021|      11|   148|       P|Stringer|    Scott|     M|        R|     9|       F|  null|      null|R0070461| 6/1/2021|  6/7/2021|115 Broadway Tena...|   LLC|      Y| null|   null|     null|       New York|   NY|10006|   Unknown| 16762.5|    RENTO|     Office Rent|             Rent|    null|     N|      N|\n",
            "|    2021|      11|   148|       P|Stringer|    Scott|     M|        R|    11|       L|  null|      null|R0072010| 5/4/2021|  8/5/2021|115 Broadway Tena...|   LLC|      Y| null|   null|     null|       New York|   NY|10006|      null|  -10000|     null|            null|             null|    null|     N|      N|\n",
            "|    2021|      11|  2393|       P|   Wiley|     Maya|     D|        H|     8|       F|  null|      null|R0048292| 3/5/2021|  4/1/2021|1199 SEIU United ...| PCOMP|      Y| null|   null|     null|       New York|   NY|10036|   Unknown|    1500|    FUNDR|     Fundraising|Auditorium Rental|    null|     N|      N|\n",
            "|    2021|      11|  1545|       P|   Adams|     Eric|     L|        L|     9|       F|  null|      null|R0044751|5/26/2021| 5/31/2021|1389 Construction...|  CORP|      Y| null|   null|     null|       New York|   NY|10030|   Unknown|    4000|    RENTO|     Office Rent|    Office Rental|    null|     N|      N|\n",
            "|    2021|      11|   148|       P|Stringer|    Scott|     M|        R|    10|       F|  null|      null|R0071477|6/30/2021| 6/30/2021|       1800 Got Junk|  CORP|      Y| null|   null|     null|          Bronx|   NY|10451|   Unknown|  574.86|    PROFL|    Prof. Srvcs.|     Junk Removal|    null|     N|      N|\n",
            "|    2021|      11|  2546|       P|    Yang|   Andrew|  null|        H|    10|       F|  null|      null|R0104366| 7/1/2021|  7/1/2021|           1Password|  OTHR|      Y| null|   null|     null|Toronto, Canada| null| null|   Unknown|  529.97|    OFFCE| Office Expenses|   Cyber Security|    null|     N|      N|\n",
            "|    2021|      11|  2546|       P|    Yang|   Andrew|  null|        H|     7|       F|  null|      null|R0000685| 2/1/2021|  2/2/2021|           1Password|  OTHR|      Y| null|   null|     null|Toronto, Canada| null| null|   Unknown|  277.66|    OFFCE| Office Expenses|   Cyber Security|    null|     N|      N|\n",
            "|    2021|      11|  2546|       P|    Yang|   Andrew|  null|        H|     7|       F|  null|      null|R0037526| 3/1/2021|  3/2/2021|           1Password|  OTHR|      Y| null|   null|     null|Toronto, Canada| null| null|   Unknown|  369.74|    OFFCE| Office Expenses|   Cyber Security|    null|     N|      N|\n",
            "|    2021|      11|  2546|       P|    Yang|   Andrew|  null|        H|     8|       F|  null|      null|R0060767| 4/2/2021|  4/2/2021|           1Password|  OTHR|      Y| null|   null|     null|Toronto, Canada| null| null|   Unknown|   324.9|    OFFCE| Office Expenses|   Cyber Security|    null|     N|      N|\n",
            "|    2021|      11|  2546|       P|    Yang|   Andrew|  null|        H|     8|       F|  null|      null|R0069942| 5/1/2021|  5/3/2021|           1Password|  OTHR|      Y| null|   null|     null|Toronto, Canada| null| null|   Unknown|  463.28|    OFFCE| Office Expenses|   Cyber Security|    null|     N|      N|\n",
            "|    2021|      11|  2546|       P|    Yang|   Andrew|  null|        H|     9|       F|  null|      null|R0089688| 6/1/2021|  6/2/2021|           1Password|  OTHR|      Y| null|   null|     null|Toronto, Canada| null| null|   Unknown|  568.76|    OFFCE| Office Expenses|   Cyber Security|    null|     N|      N|\n",
            "|    2021|      11|  2366|       P|Pepitone|  William|  null|        H|    10|       F|  null|      null|R0001701|4/30/2021| 4/30/2021|2 Twins Digital P...|  CORP|      Y| null|   null|     null|  Staten Island|   NY|10312|   Unknown|  152.43|    OFFCE| Office Expenses|         Printing|    null|     N|      N|\n",
            "|    2021|      11|  2366|       P|Pepitone|  William|  null|        H|    10|       F|  null|      null|R0001721|5/14/2021| 5/14/2021|2 Twins Digital P...|  CORP|      Y| null|   null|     null|  Staten Island|   NY|10312|   Unknown|  1050.1|    OFFCE| Office Expenses|          Signage|    null|     N|      N|\n",
            "|    2021|      11|  2366|       P|Pepitone|  William|  null|        H|    10|       F|  null|      null|R0001733| 6/8/2021|  6/8/2021|2 Twins Digital P...|  CORP|      Y| null|   null|     null|  Staten Island|   NY|10312|   Unknown|   435.5|    OFFCE| Office Expenses|         Printing|    null|     N|      N|\n",
            "|    2021|      11|  2366|       P|Pepitone|  William|  null|        H|    10|       F|  null|      null|R0001735|6/14/2021| 6/14/2021|2 Twins Digital P...|  CORP|      Y| null|   null|     null|  Staten Island|   NY|10312|   Unknown|  152.43|    OFFCE| Office Expenses|         Printing|    null|     N|      N|\n",
            "|    2021|      11|  2366|       P|Pepitone|  William|  null|        H|    11|       F|  null|      null|R0002359| 8/5/2021|  8/5/2021|2 Twins Digital P...|  CORP|      Y| null|   null|     null|  Staten Island|   NY| null|   Unknown|  152.43|    LITER|     Campgn Lit.|       Palm Cards|    null|     N|      N|\n",
            "+--------+--------+------+--------+--------+---------+------+---------+------+--------+------+----------+--------+---------+----------+--------------------+------+-------+-----+-------+---------+---------------+-----+-----+----------+--------+---------+----------------+-----------------+--------+------+-------+\n",
            "only showing top 20 rows\n",
            "\n"
          ]
        }
      ]
    },
    {
      "cell_type": "code",
      "metadata": {
        "colab": {
          "base_uri": "https://localhost:8080/"
        },
        "id": "PauL98XATuOi",
        "outputId": "5cfd0b91-ad13-497f-f321-f8720c290ed7"
      },
      "source": [
        "df.columns"
      ],
      "execution_count": 5,
      "outputs": [
        {
          "output_type": "execute_result",
          "data": {
            "text/plain": [
              "['ELECTION',\n",
              " 'OFFICECD',\n",
              " 'CANDID',\n",
              " 'CANCLASS',\n",
              " 'CANDLAST',\n",
              " 'CANDFIRST',\n",
              " 'CANDMI',\n",
              " 'COMMITTEE',\n",
              " 'FILING',\n",
              " 'SCHEDULE',\n",
              " 'PAGENO',\n",
              " 'SEQUENCENO',\n",
              " 'REFNO',\n",
              " 'INV_DATE',\n",
              " 'DATE',\n",
              " 'NAME',\n",
              " 'C_CODE',\n",
              " 'ORG_IND',\n",
              " 'STRNO',\n",
              " 'STRNAME',\n",
              " 'APARTMENT',\n",
              " 'CITY',\n",
              " 'STATE',\n",
              " 'ZIP',\n",
              " 'PAY_METHOD',\n",
              " 'AMNT',\n",
              " 'PURPOSECD',\n",
              " 'PURPOSE',\n",
              " 'EXPLAIN',\n",
              " 'EXEMPTCD',\n",
              " 'RR_IND',\n",
              " 'SEG_IND']"
            ]
          },
          "metadata": {},
          "execution_count": 5
        }
      ]
    },
    {
      "cell_type": "code",
      "metadata": {
        "colab": {
          "base_uri": "https://localhost:8080/"
        },
        "id": "e2cRNc4wNFgt",
        "outputId": "871703be-5a30-4c91-f489-d81a4b5ffa7b"
      },
      "source": [
        "# Remove multiple columns\n",
        "list = ['CANDMI','COMMITTEE',\n",
        " 'FILING',\n",
        " 'SCHEDULE',\n",
        " 'PAGENO',\n",
        " 'SEQUENCENO',\n",
        " 'REFNO',\n",
        " 'INV_DATE',\n",
        " 'DATE',\n",
        " 'NAME',\n",
        " 'ORG_IND',\n",
        " 'STRNO',\n",
        " 'STRNAME',\n",
        " 'APARTMENT',\n",
        "  'EXPLAIN',\n",
        " 'EXEMPTCD',\n",
        " 'RR_IND',\n",
        " 'SEG_IND',\n",
        " 'PAY_METHOD'] \n",
        "df = df.drop(*list)\n",
        "df.show()"
      ],
      "execution_count": 6,
      "outputs": [
        {
          "output_type": "stream",
          "name": "stdout",
          "text": [
            "+--------+--------+------+--------+--------+---------+------+---------------+-----+-----+--------+---------+----------------+\n",
            "|ELECTION|OFFICECD|CANDID|CANCLASS|CANDLAST|CANDFIRST|C_CODE|           CITY|STATE|  ZIP|    AMNT|PURPOSECD|         PURPOSE|\n",
            "+--------+--------+------+--------+--------+---------+------+---------------+-----+-----+--------+---------+----------------+\n",
            "|    2021|       1|  2445|      NP| Francis|   Quanda|  CORP|       Brooklyn|   NY|11201| 2001.16|    RENTO|     Office Rent|\n",
            "|    2021|      11|  2546|       P|    Yang|   Andrew|  CORP|       Glendale|   NY|11385|   91.57|    OTHER|Other: explntion|\n",
            "|    2021|      11|   148|       P|Stringer|    Scott|   LLC|       New York|   NY|10006| 3240.75|    RENTO|     Office Rent|\n",
            "|    2021|      11|   148|       P|Stringer|    Scott|   LLC|       New York|   NY|10006|13240.75|    RENTO|     Office Rent|\n",
            "|    2021|      11|   148|       P|Stringer|    Scott|   LLC|       New York|   NY|10006| 16762.5|    RENTO|     Office Rent|\n",
            "|    2021|      11|   148|       P|Stringer|    Scott|   LLC|       New York|   NY|10006|  -10000|     null|            null|\n",
            "|    2021|      11|  2393|       P|   Wiley|     Maya| PCOMP|       New York|   NY|10036|    1500|    FUNDR|     Fundraising|\n",
            "|    2021|      11|  1545|       P|   Adams|     Eric|  CORP|       New York|   NY|10030|    4000|    RENTO|     Office Rent|\n",
            "|    2021|      11|   148|       P|Stringer|    Scott|  CORP|          Bronx|   NY|10451|  574.86|    PROFL|    Prof. Srvcs.|\n",
            "|    2021|      11|  2546|       P|    Yang|   Andrew|  OTHR|Toronto, Canada| null| null|  529.97|    OFFCE| Office Expenses|\n",
            "|    2021|      11|  2546|       P|    Yang|   Andrew|  OTHR|Toronto, Canada| null| null|  277.66|    OFFCE| Office Expenses|\n",
            "|    2021|      11|  2546|       P|    Yang|   Andrew|  OTHR|Toronto, Canada| null| null|  369.74|    OFFCE| Office Expenses|\n",
            "|    2021|      11|  2546|       P|    Yang|   Andrew|  OTHR|Toronto, Canada| null| null|   324.9|    OFFCE| Office Expenses|\n",
            "|    2021|      11|  2546|       P|    Yang|   Andrew|  OTHR|Toronto, Canada| null| null|  463.28|    OFFCE| Office Expenses|\n",
            "|    2021|      11|  2546|       P|    Yang|   Andrew|  OTHR|Toronto, Canada| null| null|  568.76|    OFFCE| Office Expenses|\n",
            "|    2021|      11|  2366|       P|Pepitone|  William|  CORP|  Staten Island|   NY|10312|  152.43|    OFFCE| Office Expenses|\n",
            "|    2021|      11|  2366|       P|Pepitone|  William|  CORP|  Staten Island|   NY|10312|  1050.1|    OFFCE| Office Expenses|\n",
            "|    2021|      11|  2366|       P|Pepitone|  William|  CORP|  Staten Island|   NY|10312|   435.5|    OFFCE| Office Expenses|\n",
            "|    2021|      11|  2366|       P|Pepitone|  William|  CORP|  Staten Island|   NY|10312|  152.43|    OFFCE| Office Expenses|\n",
            "|    2021|      11|  2366|       P|Pepitone|  William|  CORP|  Staten Island|   NY| null|  152.43|    LITER|     Campgn Lit.|\n",
            "+--------+--------+------+--------+--------+---------+------+---------------+-----+-----+--------+---------+----------------+\n",
            "only showing top 20 rows\n",
            "\n"
          ]
        }
      ]
    },
    {
      "cell_type": "code",
      "metadata": {
        "colab": {
          "base_uri": "https://localhost:8080/"
        },
        "id": "g5aiRN5RNFjB",
        "outputId": "53824a4d-5075-4339-aa19-58ec9e7d317d"
      },
      "source": [
        "# check data types\n",
        "df.dtypes"
      ],
      "execution_count": 7,
      "outputs": [
        {
          "output_type": "execute_result",
          "data": {
            "text/plain": [
              "[('ELECTION', 'string'),\n",
              " ('OFFICECD', 'string'),\n",
              " ('CANDID', 'string'),\n",
              " ('CANCLASS', 'string'),\n",
              " ('CANDLAST', 'string'),\n",
              " ('CANDFIRST', 'string'),\n",
              " ('C_CODE', 'string'),\n",
              " ('CITY', 'string'),\n",
              " ('STATE', 'string'),\n",
              " ('ZIP', 'string'),\n",
              " ('AMNT', 'string'),\n",
              " ('PURPOSECD', 'string'),\n",
              " ('PURPOSE', 'string')]"
            ]
          },
          "metadata": {},
          "execution_count": 7
        }
      ]
    },
    {
      "cell_type": "code",
      "metadata": {
        "colab": {
          "base_uri": "https://localhost:8080/"
        },
        "id": "sA6AAG4zYxSL",
        "outputId": "c9282ec0-8b3e-4148-bee2-7419851bfd0f"
      },
      "source": [
        "df.columns"
      ],
      "execution_count": 8,
      "outputs": [
        {
          "output_type": "execute_result",
          "data": {
            "text/plain": [
              "['ELECTION',\n",
              " 'OFFICECD',\n",
              " 'CANDID',\n",
              " 'CANCLASS',\n",
              " 'CANDLAST',\n",
              " 'CANDFIRST',\n",
              " 'C_CODE',\n",
              " 'CITY',\n",
              " 'STATE',\n",
              " 'ZIP',\n",
              " 'AMNT',\n",
              " 'PURPOSECD',\n",
              " 'PURPOSE']"
            ]
          },
          "metadata": {},
          "execution_count": 8
        }
      ]
    },
    {
      "cell_type": "code",
      "metadata": {
        "colab": {
          "base_uri": "https://localhost:8080/"
        },
        "id": "tIkq3wdqOzWV",
        "outputId": "9da6ca27-fd0a-4433-d262-40f7b65ea728"
      },
      "source": [
        "#Change column names\n",
        "df1 = df \\\n",
        ".withColumnRenamed(\"ELECTION\", \"Election\") \\\n",
        ".withColumnRenamed(\"CANDID\", \"CandidateID\") \\\n",
        ".withColumnRenamed(\"CANDLAST\", \"CandidateLastName\") \\\n",
        ".withColumnRenamed('CANDFIRST', \"CandidateFirstName\") \\\n",
        ".withColumnRenamed(\"C_CODE\", \"ContributionType\") \\\n",
        ".withColumnRenamed(\"CITY\", \"City\") \\\n",
        ".withColumnRenamed(\"STATE\", \"State\") \\\n",
        ".withColumnRenamed(\"ZIP\", \"ZipCode\") \\\n",
        ".withColumnRenamed(\"AMNT\", \"Amount\") \\\n",
        ".withColumnRenamed(\"PURPOSECD\", \"PurposeCode\") \\\n",
        ".withColumnRenamed(\"PURPOSE\", \"Purpose\") \\\n",
        "#.withColumnRenamed(\"PAY_METHOD\", \"PaymentMethod\") \n",
        "\n",
        "df1.printSchema()"
      ],
      "execution_count": 9,
      "outputs": [
        {
          "output_type": "stream",
          "name": "stdout",
          "text": [
            "root\n",
            " |-- Election: string (nullable = true)\n",
            " |-- OFFICECD: string (nullable = true)\n",
            " |-- CandidateID: string (nullable = true)\n",
            " |-- CANCLASS: string (nullable = true)\n",
            " |-- CandidateLastName: string (nullable = true)\n",
            " |-- CandidateFirstName: string (nullable = true)\n",
            " |-- ContributionType: string (nullable = true)\n",
            " |-- City: string (nullable = true)\n",
            " |-- State: string (nullable = true)\n",
            " |-- ZipCode: string (nullable = true)\n",
            " |-- Amount: string (nullable = true)\n",
            " |-- PurposeCode: string (nullable = true)\n",
            " |-- Purpose: string (nullable = true)\n",
            "\n"
          ]
        }
      ]
    },
    {
      "cell_type": "code",
      "metadata": {
        "colab": {
          "base_uri": "https://localhost:8080/"
        },
        "id": "SyWn9dANSi5l",
        "outputId": "f14aef5f-e9b0-47a7-9292-0314b4d571a9"
      },
      "source": [
        "# changing datatypes of columns\n",
        "df2 = df1 \\\n",
        "  .withColumn(\"Election\",df1[\"Election\"].cast(\"Integer\")) \\\n",
        "  .withColumn(\"OFFICECD\", df1[\"OFFICECD\"].cast(\"Integer\")) \\\n",
        "  .withColumn(\"CandidateID\", df1[\"CandidateID\"].cast(\"Integer\")) \\\n",
        "  .withColumn(\"ZipCode\", df1[\"ZipCode\"].cast(\"Integer\")) \\\n",
        "  .withColumn(\"Amount\", df1[\"Amount\"].cast(\"Float\")) \\\n",
        "  \n",
        "df2.printSchema()"
      ],
      "execution_count": 10,
      "outputs": [
        {
          "output_type": "stream",
          "name": "stdout",
          "text": [
            "root\n",
            " |-- Election: integer (nullable = true)\n",
            " |-- OFFICECD: integer (nullable = true)\n",
            " |-- CandidateID: integer (nullable = true)\n",
            " |-- CANCLASS: string (nullable = true)\n",
            " |-- CandidateLastName: string (nullable = true)\n",
            " |-- CandidateFirstName: string (nullable = true)\n",
            " |-- ContributionType: string (nullable = true)\n",
            " |-- City: string (nullable = true)\n",
            " |-- State: string (nullable = true)\n",
            " |-- ZipCode: integer (nullable = true)\n",
            " |-- Amount: float (nullable = true)\n",
            " |-- PurposeCode: string (nullable = true)\n",
            " |-- Purpose: string (nullable = true)\n",
            "\n"
          ]
        }
      ]
    },
    {
      "cell_type": "code",
      "metadata": {
        "id": "h1aCPuV3WPwC"
      },
      "source": [
        "#Change vaule name in ContributerType\n",
        "from pyspark.sql.functions import regexp_replace\n",
        "df3 = df2.withColumn(\"ContributionType\", regexp_replace(\"ContributionType\", 'CAN', 'Candidate')) \\\n",
        "  .withColumn('ContributerType', regexp_replace(\"ContributionType\", 'CORP', 'Corporation')) \\\n",
        "  .withColumn('ContributerType', regexp_replace(\"ContributionType\", 'EMPO', 'Labor Union')) \\\n",
        "  .withColumn(\"ContributionType\", regexp_replace(\"ContributionType\", 'FAM', 'Candidate Family')) \\\n",
        "  .withColumn(\"ContributionType\", regexp_replace(\"ContributionType\", 'IND', 'Individual')) \\\n",
        "  .withColumn(\"ContributionType\", regexp_replace(\"ContributionType\", 'PCOMZ', 'Party Committee')) \\\n",
        "  .withColumn(\"ContributionType\", regexp_replace(\"ContributionType\", 'ORG', 'Orgainization')) \\\n",
        "  .withColumn(\"ContributionType\", regexp_replace(\"ContributionType\", 'LLC', 'Limited Liability Company')) \\\n",
        "  .withColumn(\"ContributionType\", regexp_replace(\"ContributionType\", 'PCOMP', 'Political Action Committee')) \\\n",
        "  .withColumn(\"ContributionType\", regexp_replace(\"ContributionType\", 'SPO', ' Candidates Spouse')) \\\n",
        "  .withColumn(\"ContributionType\", regexp_replace(\"ContributionType\", 'OTHR', 'Other')) \\\n",
        "  .withColumn(\"ContributionType\", regexp_replace(\"ContributionType\", 'PCOMC', 'Candidate Committee')) \\\n",
        "  .withColumn(\"ContributionType\", regexp_replace(\"ContributionType\", 'PART', 'Individual')) \\\n"
      ],
      "execution_count": 11,
      "outputs": []
    },
    {
      "cell_type": "code",
      "metadata": {
        "id": "fy4JAvyQWRl7"
      },
      "source": [
        "#Change Purpose Code value names\n",
        "from pyspark.sql.functions import regexp_replace\n",
        "df4 = df3.withColumn('PurposeCode', regexp_replace('PurposeCode', 'ADVAN', 'Advance Repayment')) \\\n",
        "  .withColumn('PurposeCode', regexp_replace('PurposeCode', 'CMAIL', 'Campaign Mail')) \\\n",
        "  .withColumn('PurposeCode', regexp_replace('PurposeCode', 'CMISC', 'Miscellaneous')) \\\n",
        "  .withColumn('PurposeCode', regexp_replace('PurposeCode', 'CNTRB', 'Political Contributions')) \\\n",
        "  .withColumn('PurposeCode', regexp_replace('PurposeCode', 'COMPL', 'Compliance Cost')) \\\n",
        "  .withColumn('PurposeCode', regexp_replace('PurposeCode', 'CONSL', 'Campaign Consultants')) \\\n",
        "  .withColumn('PurposeCode', regexp_replace('PurposeCode', 'CONSV', 'Constituent Services')) \\\n",
        "  .withColumn('PurposeCode', regexp_replace('PurposeCode', 'FUNDR', 'Fundraising')) \\\n",
        "  .withColumn('PurposeCode', regexp_replace('PurposeCode', 'INTER', 'Interest Expenses')) \\\n",
        "  .withColumn('PurposeCode', regexp_replace('PurposeCode', 'LITER', 'Campaign Literature')) \\\n",
        "  .withColumn('PurposeCode', regexp_replace('PurposeCode', 'NQUAL', 'Non Qualified Expenditures')) \\\n",
        "  .withColumn('PurposeCode', regexp_replace('PurposeCode', 'OFFCE', 'Office Expenses')) \\\n",
        "  .withColumn('PurposeCode', regexp_replace('PurposeCode', 'OTHER', 'Other')) \\\n",
        "  .withColumn('PurposeCode', regexp_replace('PurposeCode', 'PETIT', 'Petition Expenses')) \\\n",
        "  .withColumn('PurposeCode', regexp_replace('PurposeCode', 'POLLS', 'Polling Costs')) \\\n",
        "  .withColumn('PurposeCode', regexp_replace('PurposeCode', 'POSTA', 'Postal Expenses')) \\\n",
        "  .withColumn('PurposeCode', regexp_replace('PurposeCode', 'PRINT', 'Printing Expenses')) \\\n",
        "  .withColumn('PurposeCode', regexp_replace('PurposeCode', 'PROFL', 'Professional Services')) \\\n",
        "  .withColumn('PurposeCode', regexp_replace('PurposeCode', 'RADIO', 'Radio Ads')) \\\n",
        "  .withColumn('PurposeCode', regexp_replace('PurposeCode', 'RENTO', 'Office Rent')) \\\n",
        "  .withColumn('PurposeCode', regexp_replace('PurposeCode', 'TVADS', 'Television Ads')) \\\n",
        "  .withColumn('PurposeCode', regexp_replace('PurposeCode', 'UNKN', 'Unknown')) \\\n",
        "  .withColumn('PurposeCode', regexp_replace('PurposeCode', 'VOTER', 'Voter Registration')) \\\n",
        "  .withColumn('PurposeCode', regexp_replace('PurposeCode', 'WAGES', 'Campaign Workers Salaries')) \\"
      ],
      "execution_count": 14,
      "outputs": []
    },
    {
      "cell_type": "code",
      "metadata": {
        "id": "fM_kC3ViNFqN",
        "colab": {
          "base_uri": "https://localhost:8080/"
        },
        "outputId": "d400a67e-a03e-4e69-a7c1-bf54f08d4177"
      },
      "source": [
        "#Call only Mayor (1) and particaptes (P) within Dataframe\n",
        "df5 = df4.filter((df4.OFFICECD==\"1\") & (df4.CANCLASS==\"P\"))\n",
        "df5.show()"
      ],
      "execution_count": 16,
      "outputs": [
        {
          "output_type": "stream",
          "name": "stdout",
          "text": [
            "+--------+--------+-----------+--------+-----------------+------------------+--------------------+----------+-----+-------+------+--------------------+----------------+---------------+\n",
            "|Election|OFFICECD|CandidateID|CANCLASS|CandidateLastName|CandidateFirstName|    ContributionType|      City|State|ZipCode|Amount|         PurposeCode|         Purpose|ContributerType|\n",
            "+--------+--------+-----------+--------+-----------------+------------------+--------------------+----------+-----+-------+------+--------------------+----------------+---------------+\n",
            "|    2021|       1|       1160|       P|         Diaz Jr.|             Ruben|                CORP|  New York|   NY|  10018|1300.0|         Fundraising|     Fundraising|           CORP|\n",
            "|    2021|       1|       1160|       P|         Diaz Jr.|             Ruben|                CORP|  New York|   NY|  10018| 500.0|               Other|Other: explntion|           CORP|\n",
            "|    2021|       1|       1160|       P|         Diaz Jr.|             Ruben|Limited Liability...|     Bronx|   NY|  10472| 350.0|               Other|Other: explntion|            LLC|\n",
            "|    2021|       1|       1991|       P|       Foldenauer|             Aaron|                CORP|Somerville|   MA|   2144|  5.39|Professional Serv...|    Prof. Srvcs.|           CORP|\n",
            "|    2021|       1|       1991|       P|       Foldenauer|             Aaron|                CORP|Somerville|   MA|   2144| 16.13|Professional Serv...|    Prof. Srvcs.|           CORP|\n",
            "|    2021|       1|       1991|       P|       Foldenauer|             Aaron|                CORP|Somerville|   MA|   2144| 38.26|Professional Serv...|    Prof. Srvcs.|           CORP|\n",
            "|    2021|       1|       1991|       P|       Foldenauer|             Aaron|                CORP|Somerville|   MA|   2144| 27.76|Professional Serv...|    Prof. Srvcs.|           CORP|\n",
            "|    2021|       1|       1991|       P|       Foldenauer|             Aaron|                CORP|Somerville|   MA|   2144|  5.25|Professional Serv...|    Prof. Srvcs.|           CORP|\n",
            "|    2021|       1|       1991|       P|       Foldenauer|             Aaron|                CORP|Somerville|   MA|   2144|   3.0|Professional Serv...|    Prof. Srvcs.|           CORP|\n",
            "|    2021|       1|       1991|       P|       Foldenauer|             Aaron|                CORP|Somerville|   MA|   2144|  2.25|Professional Serv...|    Prof. Srvcs.|           CORP|\n",
            "|    2021|       1|       1991|       P|       Foldenauer|             Aaron|                CORP|Somerville|   MA|   2144| 26.78|Professional Serv...|    Prof. Srvcs.|           CORP|\n",
            "|    2021|       1|       1991|       P|       Foldenauer|             Aaron|                CORP|Somerville|   MA|   2144|  1.65|Professional Serv...|    Prof. Srvcs.|           CORP|\n",
            "|    2021|       1|       1991|       P|       Foldenauer|             Aaron|                CORP|Somerville|   MA|   2144|  4.88|Professional Serv...|    Prof. Srvcs.|           CORP|\n",
            "|    2021|       1|       1991|       P|       Foldenauer|             Aaron|                CORP|Somerville|   MA|   2144|   3.0|Professional Serv...|    Prof. Srvcs.|           CORP|\n",
            "|    2021|       1|       1991|       P|       Foldenauer|             Aaron|                CORP|Somerville|   MA|   2144|  1.49|Professional Serv...|    Prof. Srvcs.|           CORP|\n",
            "|    2021|       1|       1991|       P|       Foldenauer|             Aaron|                CORP|Somerville|   MA|   2144|  1.49|Professional Serv...|    Prof. Srvcs.|           CORP|\n",
            "|    2021|       1|       1991|       P|       Foldenauer|             Aaron|                CORP|Somerville|   MA|   2144|  5.24|Professional Serv...|    Prof. Srvcs.|           CORP|\n",
            "|    2021|       1|       1991|       P|       Foldenauer|             Aaron|                CORP|Somerville|   MA|   2144|  3.74|Professional Serv...|    Prof. Srvcs.|           CORP|\n",
            "|    2021|       1|       1991|       P|       Foldenauer|             Aaron|                CORP|Somerville|   MA|   2144| 13.64|Professional Serv...|    Prof. Srvcs.|           CORP|\n",
            "|    2021|       1|       1991|       P|       Foldenauer|             Aaron|                CORP|Somerville|   MA|   2144|  8.99|Professional Serv...|    Prof. Srvcs.|           CORP|\n",
            "+--------+--------+-----------+--------+-----------------+------------------+--------------------+----------+-----+-------+------+--------------------+----------------+---------------+\n",
            "only showing top 20 rows\n",
            "\n"
          ]
        }
      ]
    },
    {
      "cell_type": "code",
      "metadata": {
        "id": "WmdLbDEzQAyc",
        "colab": {
          "base_uri": "https://localhost:8080/"
        },
        "outputId": "4a45c755-89b4-4d23-dfc0-125bdfefadfb"
      },
      "source": [
        "#Check the above dataframe to make sure only unique values between the OFFICECD is 1 \n",
        "df5.select('OFFICECD').distinct().show()"
      ],
      "execution_count": 17,
      "outputs": [
        {
          "output_type": "stream",
          "name": "stdout",
          "text": [
            "+--------+\n",
            "|OFFICECD|\n",
            "+--------+\n",
            "|       1|\n",
            "+--------+\n",
            "\n"
          ]
        }
      ]
    },
    {
      "cell_type": "code",
      "metadata": {
        "id": "4kbDs5ApZtEu",
        "colab": {
          "base_uri": "https://localhost:8080/"
        },
        "outputId": "661dd7c0-ca51-4e8c-8500-b6c28ab9e8e8"
      },
      "source": [
        "#Drop OFFICECD and CANCLASS\n",
        "list2 = ['OFFICECD', 'CANCLASS'] \n",
        "Expenditures_2017_df = df5.drop(*list2)\n",
        "Expenditures_2017_df.show()"
      ],
      "execution_count": 18,
      "outputs": [
        {
          "output_type": "stream",
          "name": "stdout",
          "text": [
            "+--------+-----------+-----------------+------------------+--------------------+----------+-----+-------+------+--------------------+----------------+---------------+\n",
            "|Election|CandidateID|CandidateLastName|CandidateFirstName|    ContributionType|      City|State|ZipCode|Amount|         PurposeCode|         Purpose|ContributerType|\n",
            "+--------+-----------+-----------------+------------------+--------------------+----------+-----+-------+------+--------------------+----------------+---------------+\n",
            "|    2021|       1160|         Diaz Jr.|             Ruben|                CORP|  New York|   NY|  10018|1300.0|         Fundraising|     Fundraising|           CORP|\n",
            "|    2021|       1160|         Diaz Jr.|             Ruben|                CORP|  New York|   NY|  10018| 500.0|               Other|Other: explntion|           CORP|\n",
            "|    2021|       1160|         Diaz Jr.|             Ruben|Limited Liability...|     Bronx|   NY|  10472| 350.0|               Other|Other: explntion|            LLC|\n",
            "|    2021|       1991|       Foldenauer|             Aaron|                CORP|Somerville|   MA|   2144|  5.39|Professional Serv...|    Prof. Srvcs.|           CORP|\n",
            "|    2021|       1991|       Foldenauer|             Aaron|                CORP|Somerville|   MA|   2144| 16.13|Professional Serv...|    Prof. Srvcs.|           CORP|\n",
            "|    2021|       1991|       Foldenauer|             Aaron|                CORP|Somerville|   MA|   2144| 38.26|Professional Serv...|    Prof. Srvcs.|           CORP|\n",
            "|    2021|       1991|       Foldenauer|             Aaron|                CORP|Somerville|   MA|   2144| 27.76|Professional Serv...|    Prof. Srvcs.|           CORP|\n",
            "|    2021|       1991|       Foldenauer|             Aaron|                CORP|Somerville|   MA|   2144|  5.25|Professional Serv...|    Prof. Srvcs.|           CORP|\n",
            "|    2021|       1991|       Foldenauer|             Aaron|                CORP|Somerville|   MA|   2144|   3.0|Professional Serv...|    Prof. Srvcs.|           CORP|\n",
            "|    2021|       1991|       Foldenauer|             Aaron|                CORP|Somerville|   MA|   2144|  2.25|Professional Serv...|    Prof. Srvcs.|           CORP|\n",
            "|    2021|       1991|       Foldenauer|             Aaron|                CORP|Somerville|   MA|   2144| 26.78|Professional Serv...|    Prof. Srvcs.|           CORP|\n",
            "|    2021|       1991|       Foldenauer|             Aaron|                CORP|Somerville|   MA|   2144|  1.65|Professional Serv...|    Prof. Srvcs.|           CORP|\n",
            "|    2021|       1991|       Foldenauer|             Aaron|                CORP|Somerville|   MA|   2144|  4.88|Professional Serv...|    Prof. Srvcs.|           CORP|\n",
            "|    2021|       1991|       Foldenauer|             Aaron|                CORP|Somerville|   MA|   2144|   3.0|Professional Serv...|    Prof. Srvcs.|           CORP|\n",
            "|    2021|       1991|       Foldenauer|             Aaron|                CORP|Somerville|   MA|   2144|  1.49|Professional Serv...|    Prof. Srvcs.|           CORP|\n",
            "|    2021|       1991|       Foldenauer|             Aaron|                CORP|Somerville|   MA|   2144|  1.49|Professional Serv...|    Prof. Srvcs.|           CORP|\n",
            "|    2021|       1991|       Foldenauer|             Aaron|                CORP|Somerville|   MA|   2144|  5.24|Professional Serv...|    Prof. Srvcs.|           CORP|\n",
            "|    2021|       1991|       Foldenauer|             Aaron|                CORP|Somerville|   MA|   2144|  3.74|Professional Serv...|    Prof. Srvcs.|           CORP|\n",
            "|    2021|       1991|       Foldenauer|             Aaron|                CORP|Somerville|   MA|   2144| 13.64|Professional Serv...|    Prof. Srvcs.|           CORP|\n",
            "|    2021|       1991|       Foldenauer|             Aaron|                CORP|Somerville|   MA|   2144|  8.99|Professional Serv...|    Prof. Srvcs.|           CORP|\n",
            "+--------+-----------+-----------------+------------------+--------------------+----------+-----+-------+------+--------------------+----------------+---------------+\n",
            "only showing top 20 rows\n",
            "\n"
          ]
        }
      ]
    },
    {
      "cell_type": "code",
      "metadata": {
        "id": "jKdRMcW-9mtO"
      },
      "source": [
        "#Export to new CSV\n",
        "#Expenditures_2017_df.toPandas().to_csv(\"Clean_Expenditures_2017.csv\", header=True)"
      ],
      "execution_count": null,
      "outputs": []
    },
    {
      "cell_type": "code",
      "metadata": {
        "id": "0xHPGZ5gcKff"
      },
      "source": [
        "# Store environmental variable\n",
        "#from getpass import getpass\n",
        "#Configure settings for RDS\n",
        "#mode = \"append\"\n",
        "#jdbc_url=\"jdbc:postgresql://database-final.cjdbapst3wjf.us-east-1.rds.amazonaws.com:5432/postgres\"\n",
        "#config = {\"user\":\"postgres\",\n",
        "          #\"password\": \"ADD PASSWORD WHEN READY\",\n",
        "          #\"driver\":\"org.postgresql.Driver\"}"
      ],
      "execution_count": null,
      "outputs": []
    },
    {
      "cell_type": "code",
      "metadata": {
        "id": "7BSEgJlTcLrD"
      },
      "source": [
        "# Write DataFrame to active_user table in RDS\n",
        "#Expenditures_2017_df.write.jdbc(url=jdbc_url, table='Expenditures_2017', mode=mode, properties=config)"
      ],
      "execution_count": null,
      "outputs": []
    }
  ]
}