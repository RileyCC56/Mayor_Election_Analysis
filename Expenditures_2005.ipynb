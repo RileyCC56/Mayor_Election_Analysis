{
  "nbformat": 4,
  "nbformat_minor": 0,
  "metadata": {
    "colab": {
      "name": "Expenditures_2005.ipynb",
      "provenance": [],
      "collapsed_sections": [],
      "authorship_tag": "ABX9TyOlOg+tWXkAf9jtGsDeBEcN",
      "include_colab_link": true
    },
    "kernelspec": {
      "name": "python3",
      "display_name": "Python 3"
    },
    "language_info": {
      "name": "python"
    }
  },
  "cells": [
    {
      "cell_type": "markdown",
      "metadata": {
        "id": "view-in-github",
        "colab_type": "text"
      },
      "source": [
        "<a href=\"https://colab.research.google.com/github/ssheggrud/Mod_20_Project/blob/05_Riley/Expenditures_2005.ipynb\" target=\"_parent\"><img src=\"https://colab.research.google.com/assets/colab-badge.svg\" alt=\"Open In Colab\"/></a>"
      ]
    },
    {
      "cell_type": "code",
      "metadata": {
        "colab": {
          "base_uri": "https://localhost:8080/"
        },
        "id": "ddn5mqQ0M_R3",
        "outputId": "e0760a9f-29ba-4024-f2fd-fafe2fd78665"
      },
      "source": [
        "import os\n",
        "# Find the latest version of spark 3.0 from http://www.apache.org/dist/spark/ and enter as the spark version\n",
        "# For example:\n",
        "spark_version = 'spark-3.0.3'\n",
        "#spark_version = 'spark-2.4.8'\n",
        "os.environ['SPARK_VERSION']=spark_version\n",
        "\n",
        "# Install Spark and Java\n",
        "!apt-get update\n",
        "!apt-get install openjdk-11-jdk-headless -qq > /dev/null\n",
        "!wget -q http://www.apache.org/dist/spark/$SPARK_VERSION/$SPARK_VERSION-bin-hadoop2.7.tgz\n",
        "!tar xf $SPARK_VERSION-bin-hadoop2.7.tgz\n",
        "!pip install -q findspark\n",
        "\n",
        "# Set Environment Variables\n",
        "import os\n",
        "os.environ[\"JAVA_HOME\"] = \"/usr/lib/jvm/java-11-openjdk-amd64\"\n",
        "os.environ[\"SPARK_HOME\"] = f\"/content/{spark_version}-bin-hadoop2.7\"\n",
        "\n",
        "# Start a SparkSession\n",
        "import findspark\n",
        "findspark.init()\n",
        "\n",
        "import pandas as pd\n"
      ],
      "execution_count": null,
      "outputs": [
        {
          "output_type": "stream",
          "name": "stdout",
          "text": [
            "\r0% [Working]\r            \rIgn:1 https://developer.download.nvidia.com/compute/cuda/repos/ubuntu1804/x86_64  InRelease\n",
            "\r0% [Connecting to archive.ubuntu.com] [Waiting for headers] [Waiting for header\r                                                                               \rGet:2 https://cloud.r-project.org/bin/linux/ubuntu bionic-cran40/ InRelease [3,626 B]\n",
            "\r0% [Connecting to archive.ubuntu.com] [Waiting for headers] [2 InRelease 0 B/3,\r0% [Connecting to archive.ubuntu.com] [Waiting for headers] [Connecting to ppa.\r                                                                               \rIgn:3 https://developer.download.nvidia.com/compute/machine-learning/repos/ubuntu1804/x86_64  InRelease\n",
            "\r0% [Connecting to archive.ubuntu.com] [Waiting for headers] [Connecting to ppa.\r0% [2 InRelease gpgv 3,626 B] [Connecting to archive.ubuntu.com] [Waiting for h\r                                                                               \rHit:4 https://developer.download.nvidia.com/compute/cuda/repos/ubuntu1804/x86_64  Release\n",
            "Hit:5 https://developer.download.nvidia.com/compute/machine-learning/repos/ubuntu1804/x86_64  Release\n",
            "Get:6 http://security.ubuntu.com/ubuntu bionic-security InRelease [88.7 kB]\n",
            "Get:7 http://ppa.launchpad.net/c2d4u.team/c2d4u4.0+/ubuntu bionic InRelease [15.9 kB]\n",
            "Hit:8 http://archive.ubuntu.com/ubuntu bionic InRelease\n",
            "Get:9 http://archive.ubuntu.com/ubuntu bionic-updates InRelease [88.7 kB]\n",
            "Hit:10 http://ppa.launchpad.net/cran/libgit2/ubuntu bionic InRelease\n",
            "Hit:12 http://ppa.launchpad.net/deadsnakes/ppa/ubuntu bionic InRelease\n",
            "Get:13 http://archive.ubuntu.com/ubuntu bionic-backports InRelease [74.6 kB]\n",
            "Hit:15 http://ppa.launchpad.net/graphics-drivers/ppa/ubuntu bionic InRelease\n",
            "Get:16 http://security.ubuntu.com/ubuntu bionic-security/universe amd64 Packages [1,428 kB]\n",
            "Get:17 http://security.ubuntu.com/ubuntu bionic-security/main amd64 Packages [2,326 kB]\n",
            "Get:18 http://ppa.launchpad.net/c2d4u.team/c2d4u4.0+/ubuntu bionic/main Sources [1,800 kB]\n",
            "Get:19 http://archive.ubuntu.com/ubuntu bionic-updates/universe amd64 Packages [2,202 kB]\n",
            "Get:20 http://ppa.launchpad.net/c2d4u.team/c2d4u4.0+/ubuntu bionic/main amd64 Packages [921 kB]\n",
            "Get:21 http://archive.ubuntu.com/ubuntu bionic-updates/main amd64 Packages [2,761 kB]\n",
            "Fetched 11.7 MB in 5s (2,506 kB/s)\n",
            "Reading package lists... Done\n"
          ]
        }
      ]
    },
    {
      "cell_type": "code",
      "metadata": {
        "colab": {
          "base_uri": "https://localhost:8080/"
        },
        "id": "B9Dd_JabNFZU",
        "outputId": "81981b41-d055-4b89-e2d8-9c77c2c0156f"
      },
      "source": [
        "# Download the Postgres driver that will allow Spark to interact with Postgres.\n",
        "!wget https://jdbc.postgresql.org/download/postgresql-42.2.16.jar"
      ],
      "execution_count": null,
      "outputs": [
        {
          "output_type": "stream",
          "name": "stdout",
          "text": [
            "--2021-09-19 01:46:30--  https://jdbc.postgresql.org/download/postgresql-42.2.16.jar\n",
            "Resolving jdbc.postgresql.org (jdbc.postgresql.org)... 72.32.157.228, 2001:4800:3e1:1::228\n",
            "Connecting to jdbc.postgresql.org (jdbc.postgresql.org)|72.32.157.228|:443... connected.\n",
            "HTTP request sent, awaiting response... 200 OK\n",
            "Length: 1002883 (979K) [application/java-archive]\n",
            "Saving to: ‘postgresql-42.2.16.jar’\n",
            "\n",
            "postgresql-42.2.16. 100%[===================>] 979.38K  6.00MB/s    in 0.2s    \n",
            "\n",
            "2021-09-19 01:46:31 (6.00 MB/s) - ‘postgresql-42.2.16.jar’ saved [1002883/1002883]\n",
            "\n"
          ]
        }
      ]
    },
    {
      "cell_type": "code",
      "metadata": {
        "id": "VrvolWKMNFbe"
      },
      "source": [
        "# Start Spark session\n",
        "from pyspark.sql import SparkSession\n",
        "from pyspark.sql.functions import col\n",
        "spark = SparkSession.builder.appName(\"FinalProject\").getOrCreate()"
      ],
      "execution_count": null,
      "outputs": []
    },
    {
      "cell_type": "code",
      "metadata": {
        "colab": {
          "base_uri": "https://localhost:8080/"
        },
        "id": "W2uxnkAjNFeD",
        "outputId": "dd0a6ea0-6277-4f17-fc79-6804a7b1bb41"
      },
      "source": [
        "# Read in data from S3 Buckets\n",
        "from pyspark import SparkFiles\n",
        "url = \"https://databootcamp-final-05.s3.amazonaws.com/Resources/2005_expenditure.csv\"\n",
        "spark.sparkContext.addFile(url)\n",
        "df = spark.read.csv(SparkFiles.get(\"2005_expenditure.csv\"), sep=\",\", header=True)\n",
        "df.show()"
      ],
      "execution_count": null,
      "outputs": [
        {
          "output_type": "stream",
          "name": "stdout",
          "text": [
            "+--------+--------+------+--------+------------+---------+------+---------+------+--------+------+----------+--------+-------------------+-------------------+--------------------+------+-------+-----+--------------------+---------+--------------+-----+-----+----------+--------+---------+----------------+----------------+--------+------+-------+\n",
            "|ELECTION|OFFICECD|CANDID|CANCLASS|    CANDLAST|CANDFIRST|CANDMI|COMMITTEE|FILING|SCHEDULE|PAGENO|SEQUENCENO|   REFNO|           INV_DATE|               DATE|                NAME|C_CODE|ORG_IND|STRNO|             STRNAME|APARTMENT|          CITY|STATE|  ZIP|PAY_METHOD|    AMNT|PURPOSECD|         PURPOSE|         EXPLAIN|EXEMPTCD|RR_IND|SEG_IND|\n",
            "+--------+--------+------+--------+------------+---------+------+---------+------+--------+------+----------+--------+-------------------+-------------------+--------------------+------+-------+-----+--------------------+---------+--------------+-----+-----+----------+--------+---------+----------------+----------------+--------+------+-------+\n",
            "|    2005|       4|   206|       P|     Manzano|   Carlos|  null|        K|     5|       F|  null|      null|R0002883| 5/23/2004 00:00:00| 5/23/2004 00:00:00|\"1050\" Restaurant...|  CORP|      Y|  735|        Tenth Avenue|     null|      New York|   NY|10019|     Final|  918.00|    FUNDR|     Fundraising|   Catered Event|    null|     N|      N|\n",
            "|    2005|       4|    ED|       P|Carrion, Jr.|   Adolfo|  null|        J|     8|       F|  null|      null|R0005654| 4/25/2005 00:00:00| 4/25/2005 00:00:00|Somos El Futuro Inc.|  CORP|      Y|  355|      Lexington Ave.|    3RDFL|      New York|   NY|10017|     Final| 3200.00|    CNTRB| Polit Contribs.|   EVENT TICKETS|    null|     N|      N|\n",
            "|    2005|       4|    ED|       P|Carrion, Jr.|   Adolfo|  null|        J|     5|       F|  null|      null|R0004585|  6/9/2004 00:00:00|  6/9/2004 00:00:00|Somos El Futuro Inc.|  CORP|      Y|  355|      Lexington Ave.|    3RDFL|      New York|   NY|10017|     Final| 1500.00|    OTHER|Other: explntion|   EVENT TICKETS|    null|     N|      N|\n",
            "|    2005|       4|    BW|       P|   Moskowitz|      Eva|     S|        A|    10|       F|  null|      null|R0005335| 5/22/2005 00:00:00| 6/24/2005 00:00:00|   1-800-FLOWERS.com|  CORP|      Y| null|                null|     null|          null| null| null|     Final|   55.00|    OTHER|Other: explntion|         Flowers|    null|     N|      N|\n",
            "|    2005|       5|   232|       P|      Weprin|    David|     I|        K|    17|       F|  null|      null|R0002854| 3/11/2005 00:00:00| 3/11/2005 00:00:00|   1-800-Flowers.Com|  CORP|      Y| null|                null|     null|            NY|   NY| null|     Final|  103.00|    OTHER|Other: explntion|    Flowers/Sick|    null|     N|      N|\n",
            "|    2005|       5|   837|       P|    Nocerino|   Joseph|     R|        H|     8|       F|  null|      null|R0000332| 4/15/2005 00:00:00| 4/18/2005 00:00:00|    1-800-My-Buttons|  OTHR|      Y| 5703|   Red Bug Lake Road|      187|Winter Springs|   FL|32708|     Final|  210.00|    LITER|     Campgn Lit.|Campaign Buttons|    null|     N|      N|\n",
            "|    2005|       5|   837|       P|    Nocerino|   Joseph|     R|        H|     8|       F|  null|      null|R0000222|  4/1/2005 00:00:00|  4/1/2005 00:00:00|    1-800-My-Buttons|  OTHR|      Y| 5703|   Red Bug Lake Road|      187|Winter Springs|   FL|32708|     Final|  538.00|    LITER|     Campgn Lit.|Campaign Buttons|    null|     N|      N|\n",
            "|    2005|       5|   837|       P|    Nocerino|   Joseph|     R|        H|     8|       F|  null|      null|R0000233|  4/4/2005 00:00:00|  4/4/2005 00:00:00|    1-800-My-Buttons|  OTHR|      Y| 5703|   Red Bug Lake Road|      187|Winter Springs|   FL|32708|     Final|  372.00|    LITER|     Campgn Lit.|Campaign Buttons|    null|     N|      N|\n",
            "|    2005|       5|   837|       P|    Nocerino|   Joseph|     R|        H|     8|       F|  null|      null|R0000366| 4/22/2005 00:00:00| 4/22/2005 00:00:00|    1-800-My-Buttons|  OTHR|      Y| 5703|   Red Bug Lake Road|      187|Winter Springs|   FL|32708|     Final|  373.00|    LITER|     Campgn Lit.|Campaign Buttons|    null|     N|      N|\n",
            "|    2005|       1|    AY|       P|      Ferrer| Fernando|  null|        I|    17|       F|  null|      null|R0033156| 11/7/2005 00:00:00|12/19/2005 00:00:00|        101 Car Park|  CORP|      Y|  101|    West 23rd Street|     null|      New York|   NY|10011|     Final|   23.00|    OTHER|Other: explntion|         Parking|    null|     N|      N|\n",
            "|    2005|       1|    AY|       P|      Ferrer| Fernando|  null|        I|    10|       F|  null|      null|R0017612| 4/25/2005 00:00:00| 5/20/2005 00:00:00|1010 6th Avenue G...|  CORP|      Y| 1010|Avenue of the Ame...|     null|      New York|   NY|10018|     Final|   35.00|    OTHER|Other: explntion|         Parking|    null|     N|      N|\n",
            "|    2005|       2|   310|       P|      Siegel|   Norman|     H|        I|    17|       N|  null|      null|R0012355|               null|11/11/2005 00:00:00|           1010 WINS|  CORP|      Y|  888|          7th Avenue|     null|      New York|   NY|10106|      null|  222.00|    RADIO|      Radio Ads.|excessive refund|    null|     N|      N|\n",
            "|    2005|       2|   310|       P|      Siegel|   Norman|     H|        I|    13|       F|  null|      null|R0008509|  9/8/2005 00:00:00|  9/8/2005 00:00:00|           1010 WINS|  CORP|      Y|  888|          7th Avenue|     null|      New York|   NY|10106|     Final| 7931.00|    RADIO|      Radio Ads.|    ads 9/9-9/11|    null|     N|      N|\n",
            "|    2005|       2|   310|       P|      Siegel|   Norman|     H|        I|    17|       L|  null|      null|R0012244|  9/8/2005 00:00:00| 10/4/2005 00:00:00|           1010 WINS|  CORP|      Y|  888|          7th Avenue|     null|      New York|   NY|10106|      null|-1365.00|     null|            null|            null|    null|     N|      N|\n",
            "|    2005|       5|   420|      NP|      Comrie|    Leroy|     G|        K|    15|       F|  null|      null|R0002849|10/20/2005 00:00:00|10/24/2005 00:00:00|1020 Park Plaza D...|  CORP|      Y| 1020|        Cadman Plaza|     null|      Brooklyn|   NY|11203|     Final|   25.00|    OFFCE| Office Expenses|           foods|    null|     N|      N|\n",
            "|    2005|       5|   420|      NP|      Comrie|    Leroy|     G|        K|    16|       F|  null|      null|R0002930|10/26/2005 00:00:00|10/26/2005 00:00:00|1023 Mojito Cuban...|  CORP|      Y| null|                null|     null|      Brooklyn|   NY| null|     Final|   74.00|    OFFCE| Office Expenses|         meeting|    null|     N|      N|\n",
            "|    2005|       5|   860|       P|        Doty|  Cynthia|     L|        H|    13|       F|  null|      null|R0000955| 9/13/2005 00:00:00| 9/13/2005 00:00:00| 107 West Restaurant|  OTHR|      Y| 2787|            Broadway|     null|      New York|   NY|10025|     Final|  483.00|    OTHER|Other: explntion|   Wrap-Up Party|    null|     N|      N|\n",
            "|    2005|       2|   263|       P|     Gotbaum|    Betsy|     F|        J|    14|       F|  null|      null|R0009379| 8/23/2005 00:00:00| 8/23/2005 00:00:00|        109 CJK Corp|  OTHR|      Y|  109|    West 39th Street|     null|      New York|   NY|10018|     Final|    9.00|    OTHER|Other: explntion|       amex bill|    null|     N|      N|\n",
            "|    2005|       2|   263|       P|     Gotbaum|    Betsy|     F|        J|    14|       F|  null|      null|R0009381| 8/23/2005 00:00:00| 8/23/2005 00:00:00|        109 CJK Corp|  OTHR|      Y|  109|    West 39th Street|     null|      New York|   NY|10018|     Final|   52.00|    OTHER|Other: explntion|       amex bill|    null|     N|      N|\n",
            "|    2005|       2|   263|       P|     Gotbaum|    Betsy|     F|        J|    14|       F|  null|      null|R0009400| 8/26/2005 00:00:00| 8/26/2005 00:00:00|        109 CJK Corp|  OTHR|      Y|  109|    West 39th Street|     null|      New York|   NY|10018|     Final|   13.00|    OTHER|Other: explntion|       amex bill|    null|     N|      N|\n",
            "+--------+--------+------+--------+------------+---------+------+---------+------+--------+------+----------+--------+-------------------+-------------------+--------------------+------+-------+-----+--------------------+---------+--------------+-----+-----+----------+--------+---------+----------------+----------------+--------+------+-------+\n",
            "only showing top 20 rows\n",
            "\n"
          ]
        }
      ]
    },
    {
      "cell_type": "code",
      "metadata": {
        "colab": {
          "base_uri": "https://localhost:8080/"
        },
        "id": "PauL98XATuOi",
        "outputId": "74e85d92-703d-4011-d859-04b7d940696c"
      },
      "source": [
        "df.columns"
      ],
      "execution_count": null,
      "outputs": [
        {
          "output_type": "execute_result",
          "data": {
            "text/plain": [
              "['ELECTION',\n",
              " 'OFFICECD',\n",
              " 'CANDID',\n",
              " 'CANCLASS',\n",
              " 'CANDLAST',\n",
              " 'CANDFIRST',\n",
              " 'CANDMI',\n",
              " 'COMMITTEE',\n",
              " 'FILING',\n",
              " 'SCHEDULE',\n",
              " 'PAGENO',\n",
              " 'SEQUENCENO',\n",
              " 'REFNO',\n",
              " 'INV_DATE',\n",
              " 'DATE',\n",
              " 'NAME',\n",
              " 'C_CODE',\n",
              " 'ORG_IND',\n",
              " 'STRNO',\n",
              " 'STRNAME',\n",
              " 'APARTMENT',\n",
              " 'CITY',\n",
              " 'STATE',\n",
              " 'ZIP',\n",
              " 'PAY_METHOD',\n",
              " 'AMNT',\n",
              " 'PURPOSECD',\n",
              " 'PURPOSE',\n",
              " 'EXPLAIN',\n",
              " 'EXEMPTCD',\n",
              " 'RR_IND',\n",
              " 'SEG_IND']"
            ]
          },
          "metadata": {},
          "execution_count": 5
        }
      ]
    },
    {
      "cell_type": "code",
      "metadata": {
        "colab": {
          "base_uri": "https://localhost:8080/"
        },
        "id": "e2cRNc4wNFgt",
        "outputId": "75334942-06f3-43a6-a12f-3e8c15cccb10"
      },
      "source": [
        "# Remove multiple columns\n",
        "list = ['CANDMI','COMMITTEE',\n",
        " 'FILING',\n",
        " 'SCHEDULE',\n",
        " 'PAGENO',\n",
        " 'SEQUENCENO',\n",
        " 'REFNO',\n",
        " 'INV_DATE',\n",
        " 'DATE',\n",
        " 'NAME',\n",
        " 'ORG_IND',\n",
        " 'STRNO',\n",
        " 'STRNAME',\n",
        " 'APARTMENT',\n",
        "  'EXPLAIN',\n",
        " 'EXEMPTCD',\n",
        " 'RR_IND',\n",
        " 'SEG_IND',\n",
        " 'PAY_METHOD'] \n",
        "df = df.drop(*list)\n",
        "df.show()"
      ],
      "execution_count": null,
      "outputs": [
        {
          "output_type": "stream",
          "name": "stdout",
          "text": [
            "+--------+--------+------+--------+------------+---------+------+--------------+-----+-----+--------+---------+----------------+\n",
            "|ELECTION|OFFICECD|CANDID|CANCLASS|    CANDLAST|CANDFIRST|C_CODE|          CITY|STATE|  ZIP|    AMNT|PURPOSECD|         PURPOSE|\n",
            "+--------+--------+------+--------+------------+---------+------+--------------+-----+-----+--------+---------+----------------+\n",
            "|    2005|       4|   206|       P|     Manzano|   Carlos|  CORP|      New York|   NY|10019|  918.00|    FUNDR|     Fundraising|\n",
            "|    2005|       4|    ED|       P|Carrion, Jr.|   Adolfo|  CORP|      New York|   NY|10017| 3200.00|    CNTRB| Polit Contribs.|\n",
            "|    2005|       4|    ED|       P|Carrion, Jr.|   Adolfo|  CORP|      New York|   NY|10017| 1500.00|    OTHER|Other: explntion|\n",
            "|    2005|       4|    BW|       P|   Moskowitz|      Eva|  CORP|          null| null| null|   55.00|    OTHER|Other: explntion|\n",
            "|    2005|       5|   232|       P|      Weprin|    David|  CORP|            NY|   NY| null|  103.00|    OTHER|Other: explntion|\n",
            "|    2005|       5|   837|       P|    Nocerino|   Joseph|  OTHR|Winter Springs|   FL|32708|  210.00|    LITER|     Campgn Lit.|\n",
            "|    2005|       5|   837|       P|    Nocerino|   Joseph|  OTHR|Winter Springs|   FL|32708|  538.00|    LITER|     Campgn Lit.|\n",
            "|    2005|       5|   837|       P|    Nocerino|   Joseph|  OTHR|Winter Springs|   FL|32708|  372.00|    LITER|     Campgn Lit.|\n",
            "|    2005|       5|   837|       P|    Nocerino|   Joseph|  OTHR|Winter Springs|   FL|32708|  373.00|    LITER|     Campgn Lit.|\n",
            "|    2005|       1|    AY|       P|      Ferrer| Fernando|  CORP|      New York|   NY|10011|   23.00|    OTHER|Other: explntion|\n",
            "|    2005|       1|    AY|       P|      Ferrer| Fernando|  CORP|      New York|   NY|10018|   35.00|    OTHER|Other: explntion|\n",
            "|    2005|       2|   310|       P|      Siegel|   Norman|  CORP|      New York|   NY|10106|  222.00|    RADIO|      Radio Ads.|\n",
            "|    2005|       2|   310|       P|      Siegel|   Norman|  CORP|      New York|   NY|10106| 7931.00|    RADIO|      Radio Ads.|\n",
            "|    2005|       2|   310|       P|      Siegel|   Norman|  CORP|      New York|   NY|10106|-1365.00|     null|            null|\n",
            "|    2005|       5|   420|      NP|      Comrie|    Leroy|  CORP|      Brooklyn|   NY|11203|   25.00|    OFFCE| Office Expenses|\n",
            "|    2005|       5|   420|      NP|      Comrie|    Leroy|  CORP|      Brooklyn|   NY| null|   74.00|    OFFCE| Office Expenses|\n",
            "|    2005|       5|   860|       P|        Doty|  Cynthia|  OTHR|      New York|   NY|10025|  483.00|    OTHER|Other: explntion|\n",
            "|    2005|       2|   263|       P|     Gotbaum|    Betsy|  OTHR|      New York|   NY|10018|    9.00|    OTHER|Other: explntion|\n",
            "|    2005|       2|   263|       P|     Gotbaum|    Betsy|  OTHR|      New York|   NY|10018|   52.00|    OTHER|Other: explntion|\n",
            "|    2005|       2|   263|       P|     Gotbaum|    Betsy|  OTHR|      New York|   NY|10018|   13.00|    OTHER|Other: explntion|\n",
            "+--------+--------+------+--------+------------+---------+------+--------------+-----+-----+--------+---------+----------------+\n",
            "only showing top 20 rows\n",
            "\n"
          ]
        }
      ]
    },
    {
      "cell_type": "code",
      "metadata": {
        "id": "jQjgDTZeqqf1",
        "colab": {
          "base_uri": "https://localhost:8080/"
        },
        "outputId": "8e7af375-2989-4196-fddc-c671feaa0012"
      },
      "source": [
        "#Combine the Candidate first and last name columns\n",
        "from pyspark.sql.functions import concat_ws\n",
        "df2 = df.withColumn(\"CandidateName\", concat_ws(\",\",\"CANDFIRST\",'CANDLAST'))\n",
        "df2.show()"
      ],
      "execution_count": null,
      "outputs": [
        {
          "output_type": "stream",
          "name": "stdout",
          "text": [
            "+--------+--------+------+--------+------------+---------+------+--------------+-----+-----+--------+---------+----------------+-------------------+\n",
            "|ELECTION|OFFICECD|CANDID|CANCLASS|    CANDLAST|CANDFIRST|C_CODE|          CITY|STATE|  ZIP|    AMNT|PURPOSECD|         PURPOSE|      CandidateName|\n",
            "+--------+--------+------+--------+------------+---------+------+--------------+-----+-----+--------+---------+----------------+-------------------+\n",
            "|    2005|       4|   206|       P|     Manzano|   Carlos|  CORP|      New York|   NY|10019|  918.00|    FUNDR|     Fundraising|     Carlos,Manzano|\n",
            "|    2005|       4|    ED|       P|Carrion, Jr.|   Adolfo|  CORP|      New York|   NY|10017| 3200.00|    CNTRB| Polit Contribs.|Adolfo,Carrion, Jr.|\n",
            "|    2005|       4|    ED|       P|Carrion, Jr.|   Adolfo|  CORP|      New York|   NY|10017| 1500.00|    OTHER|Other: explntion|Adolfo,Carrion, Jr.|\n",
            "|    2005|       4|    BW|       P|   Moskowitz|      Eva|  CORP|          null| null| null|   55.00|    OTHER|Other: explntion|      Eva,Moskowitz|\n",
            "|    2005|       5|   232|       P|      Weprin|    David|  CORP|            NY|   NY| null|  103.00|    OTHER|Other: explntion|       David,Weprin|\n",
            "|    2005|       5|   837|       P|    Nocerino|   Joseph|  OTHR|Winter Springs|   FL|32708|  210.00|    LITER|     Campgn Lit.|    Joseph,Nocerino|\n",
            "|    2005|       5|   837|       P|    Nocerino|   Joseph|  OTHR|Winter Springs|   FL|32708|  538.00|    LITER|     Campgn Lit.|    Joseph,Nocerino|\n",
            "|    2005|       5|   837|       P|    Nocerino|   Joseph|  OTHR|Winter Springs|   FL|32708|  372.00|    LITER|     Campgn Lit.|    Joseph,Nocerino|\n",
            "|    2005|       5|   837|       P|    Nocerino|   Joseph|  OTHR|Winter Springs|   FL|32708|  373.00|    LITER|     Campgn Lit.|    Joseph,Nocerino|\n",
            "|    2005|       1|    AY|       P|      Ferrer| Fernando|  CORP|      New York|   NY|10011|   23.00|    OTHER|Other: explntion|    Fernando,Ferrer|\n",
            "|    2005|       1|    AY|       P|      Ferrer| Fernando|  CORP|      New York|   NY|10018|   35.00|    OTHER|Other: explntion|    Fernando,Ferrer|\n",
            "|    2005|       2|   310|       P|      Siegel|   Norman|  CORP|      New York|   NY|10106|  222.00|    RADIO|      Radio Ads.|      Norman,Siegel|\n",
            "|    2005|       2|   310|       P|      Siegel|   Norman|  CORP|      New York|   NY|10106| 7931.00|    RADIO|      Radio Ads.|      Norman,Siegel|\n",
            "|    2005|       2|   310|       P|      Siegel|   Norman|  CORP|      New York|   NY|10106|-1365.00|     null|            null|      Norman,Siegel|\n",
            "|    2005|       5|   420|      NP|      Comrie|    Leroy|  CORP|      Brooklyn|   NY|11203|   25.00|    OFFCE| Office Expenses|       Leroy,Comrie|\n",
            "|    2005|       5|   420|      NP|      Comrie|    Leroy|  CORP|      Brooklyn|   NY| null|   74.00|    OFFCE| Office Expenses|       Leroy,Comrie|\n",
            "|    2005|       5|   860|       P|        Doty|  Cynthia|  OTHR|      New York|   NY|10025|  483.00|    OTHER|Other: explntion|       Cynthia,Doty|\n",
            "|    2005|       2|   263|       P|     Gotbaum|    Betsy|  OTHR|      New York|   NY|10018|    9.00|    OTHER|Other: explntion|      Betsy,Gotbaum|\n",
            "|    2005|       2|   263|       P|     Gotbaum|    Betsy|  OTHR|      New York|   NY|10018|   52.00|    OTHER|Other: explntion|      Betsy,Gotbaum|\n",
            "|    2005|       2|   263|       P|     Gotbaum|    Betsy|  OTHR|      New York|   NY|10018|   13.00|    OTHER|Other: explntion|      Betsy,Gotbaum|\n",
            "+--------+--------+------+--------+------------+---------+------+--------------+-----+-----+--------+---------+----------------+-------------------+\n",
            "only showing top 20 rows\n",
            "\n"
          ]
        }
      ]
    },
    {
      "cell_type": "code",
      "metadata": {
        "id": "qGVZ3I4hz1x6"
      },
      "source": [
        "#Rearrange column order\n",
        "df3=df2.select('ELECTION','OFFICECD', 'CANDID', 'CANCLASS', 'CandidateName', 'CANDLAST', 'CANDFIRST','C_CODE', 'CITY', 'STATE',  'ZIP', 'AMNT', 'PURPOSECD', 'PURPOSE')"
      ],
      "execution_count": null,
      "outputs": []
    },
    {
      "cell_type": "code",
      "metadata": {
        "colab": {
          "base_uri": "https://localhost:8080/"
        },
        "id": "LAcxTotHz2t-",
        "outputId": "5b71f8b8-3fe3-47da-ddab-b92370fa1bad"
      },
      "source": [
        "#Drop OFFICECD and CANCLASS\n",
        "list1 = ['CANDLAST', 'CANDFIRST'] \n",
        "df4 = df3.drop(*list1)\n",
        "df4.show()"
      ],
      "execution_count": null,
      "outputs": [
        {
          "output_type": "stream",
          "name": "stdout",
          "text": [
            "+--------+--------+------+--------+-------------------+------+--------------+-----+-----+--------+---------+----------------+\n",
            "|ELECTION|OFFICECD|CANDID|CANCLASS|      CandidateName|C_CODE|          CITY|STATE|  ZIP|    AMNT|PURPOSECD|         PURPOSE|\n",
            "+--------+--------+------+--------+-------------------+------+--------------+-----+-----+--------+---------+----------------+\n",
            "|    2005|       4|   206|       P|     Carlos,Manzano|  CORP|      New York|   NY|10019|  918.00|    FUNDR|     Fundraising|\n",
            "|    2005|       4|    ED|       P|Adolfo,Carrion, Jr.|  CORP|      New York|   NY|10017| 3200.00|    CNTRB| Polit Contribs.|\n",
            "|    2005|       4|    ED|       P|Adolfo,Carrion, Jr.|  CORP|      New York|   NY|10017| 1500.00|    OTHER|Other: explntion|\n",
            "|    2005|       4|    BW|       P|      Eva,Moskowitz|  CORP|          null| null| null|   55.00|    OTHER|Other: explntion|\n",
            "|    2005|       5|   232|       P|       David,Weprin|  CORP|            NY|   NY| null|  103.00|    OTHER|Other: explntion|\n",
            "|    2005|       5|   837|       P|    Joseph,Nocerino|  OTHR|Winter Springs|   FL|32708|  210.00|    LITER|     Campgn Lit.|\n",
            "|    2005|       5|   837|       P|    Joseph,Nocerino|  OTHR|Winter Springs|   FL|32708|  538.00|    LITER|     Campgn Lit.|\n",
            "|    2005|       5|   837|       P|    Joseph,Nocerino|  OTHR|Winter Springs|   FL|32708|  372.00|    LITER|     Campgn Lit.|\n",
            "|    2005|       5|   837|       P|    Joseph,Nocerino|  OTHR|Winter Springs|   FL|32708|  373.00|    LITER|     Campgn Lit.|\n",
            "|    2005|       1|    AY|       P|    Fernando,Ferrer|  CORP|      New York|   NY|10011|   23.00|    OTHER|Other: explntion|\n",
            "|    2005|       1|    AY|       P|    Fernando,Ferrer|  CORP|      New York|   NY|10018|   35.00|    OTHER|Other: explntion|\n",
            "|    2005|       2|   310|       P|      Norman,Siegel|  CORP|      New York|   NY|10106|  222.00|    RADIO|      Radio Ads.|\n",
            "|    2005|       2|   310|       P|      Norman,Siegel|  CORP|      New York|   NY|10106| 7931.00|    RADIO|      Radio Ads.|\n",
            "|    2005|       2|   310|       P|      Norman,Siegel|  CORP|      New York|   NY|10106|-1365.00|     null|            null|\n",
            "|    2005|       5|   420|      NP|       Leroy,Comrie|  CORP|      Brooklyn|   NY|11203|   25.00|    OFFCE| Office Expenses|\n",
            "|    2005|       5|   420|      NP|       Leroy,Comrie|  CORP|      Brooklyn|   NY| null|   74.00|    OFFCE| Office Expenses|\n",
            "|    2005|       5|   860|       P|       Cynthia,Doty|  OTHR|      New York|   NY|10025|  483.00|    OTHER|Other: explntion|\n",
            "|    2005|       2|   263|       P|      Betsy,Gotbaum|  OTHR|      New York|   NY|10018|    9.00|    OTHER|Other: explntion|\n",
            "|    2005|       2|   263|       P|      Betsy,Gotbaum|  OTHR|      New York|   NY|10018|   52.00|    OTHER|Other: explntion|\n",
            "|    2005|       2|   263|       P|      Betsy,Gotbaum|  OTHR|      New York|   NY|10018|   13.00|    OTHER|Other: explntion|\n",
            "+--------+--------+------+--------+-------------------+------+--------------+-----+-----+--------+---------+----------------+\n",
            "only showing top 20 rows\n",
            "\n"
          ]
        }
      ]
    },
    {
      "cell_type": "code",
      "metadata": {
        "colab": {
          "base_uri": "https://localhost:8080/"
        },
        "id": "g5aiRN5RNFjB",
        "outputId": "e727ad25-b44e-4e2b-c077-d2843da63c20"
      },
      "source": [
        "# check data types\n",
        "df4.dtypes"
      ],
      "execution_count": null,
      "outputs": [
        {
          "output_type": "execute_result",
          "data": {
            "text/plain": [
              "[('ELECTION', 'string'),\n",
              " ('OFFICECD', 'string'),\n",
              " ('CANDID', 'string'),\n",
              " ('CANCLASS', 'string'),\n",
              " ('CandidateName', 'string'),\n",
              " ('C_CODE', 'string'),\n",
              " ('CITY', 'string'),\n",
              " ('STATE', 'string'),\n",
              " ('ZIP', 'string'),\n",
              " ('AMNT', 'string'),\n",
              " ('PURPOSECD', 'string'),\n",
              " ('PURPOSE', 'string')]"
            ]
          },
          "metadata": {},
          "execution_count": 10
        }
      ]
    },
    {
      "cell_type": "code",
      "metadata": {
        "colab": {
          "base_uri": "https://localhost:8080/"
        },
        "id": "sA6AAG4zYxSL",
        "outputId": "3836899b-ae9a-4117-bda8-e1da9f2577ff"
      },
      "source": [
        "df4.columns"
      ],
      "execution_count": null,
      "outputs": [
        {
          "output_type": "execute_result",
          "data": {
            "text/plain": [
              "['ELECTION',\n",
              " 'OFFICECD',\n",
              " 'CANDID',\n",
              " 'CANCLASS',\n",
              " 'CandidateName',\n",
              " 'C_CODE',\n",
              " 'CITY',\n",
              " 'STATE',\n",
              " 'ZIP',\n",
              " 'AMNT',\n",
              " 'PURPOSECD',\n",
              " 'PURPOSE']"
            ]
          },
          "metadata": {},
          "execution_count": 11
        }
      ]
    },
    {
      "cell_type": "code",
      "metadata": {
        "colab": {
          "base_uri": "https://localhost:8080/"
        },
        "id": "tIkq3wdqOzWV",
        "outputId": "459670d0-08a0-4d72-bd32-da17e4b777bc"
      },
      "source": [
        "#Change column names\n",
        "df5 = df4 \\\n",
        ".withColumnRenamed(\"ELECTION\", \"Election\") \\\n",
        ".withColumnRenamed(\"CANDID\", \"CandidateID\") \\\n",
        ".withColumnRenamed(\"C_CODE\", \"ContributionType\") \\\n",
        ".withColumnRenamed(\"CITY\", \"City\") \\\n",
        ".withColumnRenamed(\"STATE\", \"State\") \\\n",
        ".withColumnRenamed(\"ZIP\", \"ZipCode\") \\\n",
        ".withColumnRenamed(\"AMNT\", \"Amount\") \\\n",
        ".withColumnRenamed(\"PURPOSECD\", \"PurposeCode\") \\\n",
        ".withColumnRenamed(\"PURPOSE\", \"Purpose\") \n",
        "\n",
        "df5.printSchema()"
      ],
      "execution_count": null,
      "outputs": [
        {
          "output_type": "stream",
          "name": "stdout",
          "text": [
            "root\n",
            " |-- Election: string (nullable = true)\n",
            " |-- OFFICECD: string (nullable = true)\n",
            " |-- CandidateID: string (nullable = true)\n",
            " |-- CANCLASS: string (nullable = true)\n",
            " |-- CandidateName: string (nullable = false)\n",
            " |-- ContributionType: string (nullable = true)\n",
            " |-- City: string (nullable = true)\n",
            " |-- State: string (nullable = true)\n",
            " |-- ZipCode: string (nullable = true)\n",
            " |-- Amount: string (nullable = true)\n",
            " |-- PurposeCode: string (nullable = true)\n",
            " |-- Purpose: string (nullable = true)\n",
            "\n"
          ]
        }
      ]
    },
    {
      "cell_type": "code",
      "metadata": {
        "colab": {
          "base_uri": "https://localhost:8080/"
        },
        "id": "SyWn9dANSi5l",
        "outputId": "b7e91b42-1644-4dc9-9882-81296888ce33"
      },
      "source": [
        "# changing datatypes of columns\n",
        "df6 = df5 \\\n",
        "  .withColumn(\"Election\",df5[\"Election\"].cast(\"Integer\")) \\\n",
        "  .withColumn(\"OFFICECD\", df5[\"OFFICECD\"].cast(\"Integer\")) \\\n",
        "  .withColumn(\"ZipCode\", df5[\"ZipCode\"].cast(\"Integer\")) \\\n",
        "  .withColumn(\"Amount\", df5[\"Amount\"].cast(\"Float\")) \\\n",
        "  \n",
        "df6.printSchema()\n",
        "\n",
        "#Removed from above code as ID is INT and TEXT within CSV\n",
        "#.withColumn(\"CandidateID\", df5[\"CandidateID\"].cast(\"Integer\")) \\"
      ],
      "execution_count": null,
      "outputs": [
        {
          "output_type": "stream",
          "name": "stdout",
          "text": [
            "root\n",
            " |-- Election: integer (nullable = true)\n",
            " |-- OFFICECD: integer (nullable = true)\n",
            " |-- CandidateID: string (nullable = true)\n",
            " |-- CANCLASS: string (nullable = true)\n",
            " |-- CandidateName: string (nullable = false)\n",
            " |-- ContributionType: string (nullable = true)\n",
            " |-- City: string (nullable = true)\n",
            " |-- State: string (nullable = true)\n",
            " |-- ZipCode: integer (nullable = true)\n",
            " |-- Amount: float (nullable = true)\n",
            " |-- PurposeCode: string (nullable = true)\n",
            " |-- Purpose: string (nullable = true)\n",
            "\n"
          ]
        }
      ]
    },
    {
      "cell_type": "code",
      "metadata": {
        "id": "h1aCPuV3WPwC"
      },
      "source": [
        "#Change vaule name in ContributerType\n",
        "from pyspark.sql.functions import regexp_replace\n",
        "df7 = df6.withColumn(\"ContributionType\", regexp_replace(\"ContributionType\", 'CAN', 'Candidate')) \\\n",
        "  .withColumn('ContributionType', regexp_replace(\"ContributionType\", 'CORP', 'Corporation')) \\\n",
        "  .withColumn('ContributionType', regexp_replace(\"ContributionType\", 'EMPO', 'Labor Union')) \\\n",
        "  .withColumn(\"ContributionType\", regexp_replace(\"ContributionType\", 'FAM', 'Candidate Family')) \\\n",
        "  .withColumn(\"ContributionType\", regexp_replace(\"ContributionType\", 'IND', 'Individual')) \\\n",
        "  .withColumn(\"ContributionType\", regexp_replace(\"ContributionType\", 'PCOMZ', 'Party Committee')) \\\n",
        "  .withColumn(\"ContributionType\", regexp_replace(\"ContributionType\", 'ORG', 'Orgainization')) \\\n",
        "  .withColumn(\"ContributionType\", regexp_replace(\"ContributionType\", 'LLC', 'Limited Liability Company')) \\\n",
        "  .withColumn(\"ContributionType\", regexp_replace(\"ContributionType\", 'PCOMP', 'Political Action Committee')) \\\n",
        "  .withColumn(\"ContributionType\", regexp_replace(\"ContributionType\", 'SPO', ' Candidates Spouse')) \\\n",
        "  .withColumn(\"ContributionType\", regexp_replace(\"ContributionType\", 'OTHR', 'Other')) \\\n",
        "  .withColumn(\"ContributionType\", regexp_replace(\"ContributionType\", 'PCOMC', 'Candidate Committee')) \\\n",
        "  .withColumn(\"ContributionType\", regexp_replace(\"ContributionType\", 'PART', 'Individual')) \\\n"
      ],
      "execution_count": null,
      "outputs": []
    },
    {
      "cell_type": "code",
      "metadata": {
        "id": "fy4JAvyQWRl7"
      },
      "source": [
        "#Change Purpose Code value names\n",
        "from pyspark.sql.functions import regexp_replace\n",
        "df8 = df7.withColumn('PurposeCode', regexp_replace('PurposeCode', 'ADVAN', 'Advance Repayment')) \\\n",
        "  .withColumn('PurposeCode', regexp_replace('PurposeCode', 'CMAIL', 'Campaign Mail')) \\\n",
        "  .withColumn('PurposeCode', regexp_replace('PurposeCode', 'CMISC', 'Miscellaneous')) \\\n",
        "  .withColumn('PurposeCode', regexp_replace('PurposeCode', 'CNTRB', 'Political Contributions')) \\\n",
        "  .withColumn('PurposeCode', regexp_replace('PurposeCode', 'COMPL', 'Compliance Cost')) \\\n",
        "  .withColumn('PurposeCode', regexp_replace('PurposeCode', 'CONSL', 'Campaign Consultants')) \\\n",
        "  .withColumn('PurposeCode', regexp_replace('PurposeCode', 'CONSV', 'Constituent Services')) \\\n",
        "  .withColumn('PurposeCode', regexp_replace('PurposeCode', 'FUNDR', 'Fundraising')) \\\n",
        "  .withColumn('PurposeCode', regexp_replace('PurposeCode', 'INTER', 'Interest Expenses')) \\\n",
        "  .withColumn('PurposeCode', regexp_replace('PurposeCode', 'LITER', 'Campaign Literature')) \\\n",
        "  .withColumn('PurposeCode', regexp_replace('PurposeCode', 'NQUAL', 'Non Qualified Expenditures')) \\\n",
        "  .withColumn('PurposeCode', regexp_replace('PurposeCode', 'OFFCE', 'Office Expenses')) \\\n",
        "  .withColumn('PurposeCode', regexp_replace('PurposeCode', 'OTHER', 'Other')) \\\n",
        "  .withColumn('PurposeCode', regexp_replace('PurposeCode', 'PETIT', 'Petition Expenses')) \\\n",
        "  .withColumn('PurposeCode', regexp_replace('PurposeCode', 'POLLS', 'Polling Costs')) \\\n",
        "  .withColumn('PurposeCode', regexp_replace('PurposeCode', 'POSTA', 'Postal Expenses')) \\\n",
        "  .withColumn('PurposeCode', regexp_replace('PurposeCode', 'PRINT', 'Printing Expenses')) \\\n",
        "  .withColumn('PurposeCode', regexp_replace('PurposeCode', 'PROFL', 'Professional Services')) \\\n",
        "  .withColumn('PurposeCode', regexp_replace('PurposeCode', 'RADIO', 'Radio Ads')) \\\n",
        "  .withColumn('PurposeCode', regexp_replace('PurposeCode', 'RENTO', 'Office Rent')) \\\n",
        "  .withColumn('PurposeCode', regexp_replace('PurposeCode', 'TVADS', 'Television Ads')) \\\n",
        "  .withColumn('PurposeCode', regexp_replace('PurposeCode', 'UNKN', 'Unknown')) \\\n",
        "  .withColumn('PurposeCode', regexp_replace('PurposeCode', 'VOTER', 'Voter Registration')) \\\n",
        "  .withColumn('PurposeCode', regexp_replace('PurposeCode', 'WAGES', 'Campaign Workers Salaries')) \\"
      ],
      "execution_count": null,
      "outputs": []
    },
    {
      "cell_type": "code",
      "metadata": {
        "id": "fM_kC3ViNFqN",
        "colab": {
          "base_uri": "https://localhost:8080/"
        },
        "outputId": "c19829e1-e970-474e-afcb-9eb6975675a3"
      },
      "source": [
        "#Call only Mayor (1) and particaptes (P) within Dataframe\n",
        "df9 = df8.filter((df8.OFFICECD==\"1\"))\n",
        "df9.show()"
      ],
      "execution_count": null,
      "outputs": [
        {
          "output_type": "stream",
          "name": "stdout",
          "text": [
            "+--------+--------+-----------+--------+-----------------+--------------------+--------+-----+-------+-------+---------------+----------------+\n",
            "|Election|OFFICECD|CandidateID|CANCLASS|    CandidateName|    ContributionType|    City|State|ZipCode| Amount|    PurposeCode|         Purpose|\n",
            "+--------+--------+-----------+--------+-----------------+--------------------+--------+-----+-------+-------+---------------+----------------+\n",
            "|    2005|       1|         AY|       P|  Fernando,Ferrer|         Corporation|New York|   NY|  10011|   23.0|          Other|Other: explntion|\n",
            "|    2005|       1|         AY|       P|  Fernando,Ferrer|         Corporation|New York|   NY|  10018|   35.0|          Other|Other: explntion|\n",
            "|    2005|       1|         BB|       P|   Anthony,Weiner|Limited Liability...|New York|   NY|  10021| 4660.0|    Office Rent|     Office Rent|\n",
            "|    2005|       1|         BB|       P|   Anthony,Weiner|Limited Liability...|New York|   NY|  10021| 7363.0|    Office Rent|     Office Rent|\n",
            "|    2005|       1|         BB|       P|   Anthony,Weiner|Limited Liability...|New York|   NY|  10021|  340.0|    Office Rent|     Office Rent|\n",
            "|    2005|       1|         BB|       P|   Anthony,Weiner|Limited Liability...|New York|   NY|  10021|  537.0|    Office Rent|     Office Rent|\n",
            "|    2005|       1|         BB|       P|   Anthony,Weiner|Limited Liability...|New York|   NY|  10021| 4048.0|    Office Rent|     Office Rent|\n",
            "|    2005|       1|         BB|       P|   Anthony,Weiner|Limited Liability...|New York|   NY|  10021| 4015.0|    Office Rent|     Office Rent|\n",
            "|    2005|       1|         BB|       P|   Anthony,Weiner|Limited Liability...|New York|   NY|  10021| 6220.0|    Office Rent|     Office Rent|\n",
            "|    2005|       1|         BB|       P|   Anthony,Weiner|Limited Liability...|New York|   NY|  10021| 8004.0|    Office Rent|     Office Rent|\n",
            "|    2005|       1|         BB|       P|   Anthony,Weiner|Limited Liability...|New York|   NY|  10021| 4058.0|    Office Rent|     Office Rent|\n",
            "|    2005|       1|         BB|       P|   Anthony,Weiner|Limited Liability...|New York|   NY|  10021|11985.0|    Office Rent|     Office Rent|\n",
            "|    2005|       1|         BB|       P|   Anthony,Weiner|Limited Liability...|New York|   NY|  10021|-3555.0|           null|            null|\n",
            "|    2005|       1|         AY|       P|  Fernando,Ferrer|         Labor Union|New York|   NY|  10036|   40.0|    Office Rent|     Office Rent|\n",
            "|    2005|       1|         AY|       P|  Fernando,Ferrer|         Labor Union|New York|   NY|  10036|  800.0|          Other|Other: explntion|\n",
            "|    2005|       1|        605|      NP|Michael,Bloomberg|Limited Liability...|New York|   NY|  10018|   90.0|Office Expenses| Office Expenses|\n",
            "|    2005|       1|        605|      NP|Michael,Bloomberg|Limited Liability...|New York|   NY|  10018|   87.0|Office Expenses| Office Expenses|\n",
            "|    2005|       1|         Y2|       P|A. Gifford,Miller|          Individual|New York|   NY|  10038| 4513.0|    Office Rent|     Office Rent|\n",
            "|    2005|       1|         Y2|       P|A. Gifford,Miller|          Individual|New York|   NY|  10038| 2257.0|    Office Rent|     Office Rent|\n",
            "|    2005|       1|         Y2|       P|A. Gifford,Miller|          Individual|New York|   NY|  10038| 1674.0|    Office Rent|     Office Rent|\n",
            "+--------+--------+-----------+--------+-----------------+--------------------+--------+-----+-------+-------+---------------+----------------+\n",
            "only showing top 20 rows\n",
            "\n"
          ]
        }
      ]
    },
    {
      "cell_type": "code",
      "metadata": {
        "id": "WmdLbDEzQAyc",
        "colab": {
          "base_uri": "https://localhost:8080/"
        },
        "outputId": "a44b14f2-0c5c-43a7-a592-b54925fa8da8"
      },
      "source": [
        "#Check the above dataframe to make sure only unique values between the OFFICECD is 1 \n",
        "df9.select('OFFICECD').distinct().show()"
      ],
      "execution_count": null,
      "outputs": [
        {
          "output_type": "stream",
          "name": "stdout",
          "text": [
            "+--------+\n",
            "|OFFICECD|\n",
            "+--------+\n",
            "|       1|\n",
            "+--------+\n",
            "\n"
          ]
        }
      ]
    },
    {
      "cell_type": "code",
      "metadata": {
        "id": "4kbDs5ApZtEu",
        "colab": {
          "base_uri": "https://localhost:8080/"
        },
        "outputId": "18a1825c-7b83-4cce-88ce-b207bed3b738"
      },
      "source": [
        "#Drop OFFICECD and CANCLASS\n",
        "list2 = ['OFFICECD', 'CANCLASS'] \n",
        "Expenditures_2005_df = df9.drop(*list2)\n",
        "Expenditures_2005_df.show()"
      ],
      "execution_count": null,
      "outputs": [
        {
          "output_type": "stream",
          "name": "stdout",
          "text": [
            "+--------+-----------+-----------------+--------------------+--------+-----+-------+-------+---------------+----------------+\n",
            "|Election|CandidateID|    CandidateName|    ContributionType|    City|State|ZipCode| Amount|    PurposeCode|         Purpose|\n",
            "+--------+-----------+-----------------+--------------------+--------+-----+-------+-------+---------------+----------------+\n",
            "|    2005|         AY|  Fernando,Ferrer|         Corporation|New York|   NY|  10011|   23.0|          Other|Other: explntion|\n",
            "|    2005|         AY|  Fernando,Ferrer|         Corporation|New York|   NY|  10018|   35.0|          Other|Other: explntion|\n",
            "|    2005|         BB|   Anthony,Weiner|Limited Liability...|New York|   NY|  10021| 4660.0|    Office Rent|     Office Rent|\n",
            "|    2005|         BB|   Anthony,Weiner|Limited Liability...|New York|   NY|  10021| 7363.0|    Office Rent|     Office Rent|\n",
            "|    2005|         BB|   Anthony,Weiner|Limited Liability...|New York|   NY|  10021|  340.0|    Office Rent|     Office Rent|\n",
            "|    2005|         BB|   Anthony,Weiner|Limited Liability...|New York|   NY|  10021|  537.0|    Office Rent|     Office Rent|\n",
            "|    2005|         BB|   Anthony,Weiner|Limited Liability...|New York|   NY|  10021| 4048.0|    Office Rent|     Office Rent|\n",
            "|    2005|         BB|   Anthony,Weiner|Limited Liability...|New York|   NY|  10021| 4015.0|    Office Rent|     Office Rent|\n",
            "|    2005|         BB|   Anthony,Weiner|Limited Liability...|New York|   NY|  10021| 6220.0|    Office Rent|     Office Rent|\n",
            "|    2005|         BB|   Anthony,Weiner|Limited Liability...|New York|   NY|  10021| 8004.0|    Office Rent|     Office Rent|\n",
            "|    2005|         BB|   Anthony,Weiner|Limited Liability...|New York|   NY|  10021| 4058.0|    Office Rent|     Office Rent|\n",
            "|    2005|         BB|   Anthony,Weiner|Limited Liability...|New York|   NY|  10021|11985.0|    Office Rent|     Office Rent|\n",
            "|    2005|         BB|   Anthony,Weiner|Limited Liability...|New York|   NY|  10021|-3555.0|           null|            null|\n",
            "|    2005|         AY|  Fernando,Ferrer|         Labor Union|New York|   NY|  10036|   40.0|    Office Rent|     Office Rent|\n",
            "|    2005|         AY|  Fernando,Ferrer|         Labor Union|New York|   NY|  10036|  800.0|          Other|Other: explntion|\n",
            "|    2005|        605|Michael,Bloomberg|Limited Liability...|New York|   NY|  10018|   90.0|Office Expenses| Office Expenses|\n",
            "|    2005|        605|Michael,Bloomberg|Limited Liability...|New York|   NY|  10018|   87.0|Office Expenses| Office Expenses|\n",
            "|    2005|         Y2|A. Gifford,Miller|          Individual|New York|   NY|  10038| 4513.0|    Office Rent|     Office Rent|\n",
            "|    2005|         Y2|A. Gifford,Miller|          Individual|New York|   NY|  10038| 2257.0|    Office Rent|     Office Rent|\n",
            "|    2005|         Y2|A. Gifford,Miller|          Individual|New York|   NY|  10038| 1674.0|    Office Rent|     Office Rent|\n",
            "+--------+-----------+-----------------+--------------------+--------+-----+-------+-------+---------------+----------------+\n",
            "only showing top 20 rows\n",
            "\n"
          ]
        }
      ]
    },
    {
      "cell_type": "code",
      "metadata": {
        "id": "jKdRMcW-9mtO"
      },
      "source": [
        "#Export to new CSV\n",
        "Expenditures_2005_df.toPandas().to_csv(\"Clean_Expenditures_2005.csv\", header=True)"
      ],
      "execution_count": null,
      "outputs": []
    },
    {
      "cell_type": "code",
      "metadata": {
        "id": "0xHPGZ5gcKff"
      },
      "source": [
        "# Store environmental variable\n",
        "from getpass import getpass\n",
        "#Configure settings for RDS\n",
        "mode = \"append\"\n",
        "jdbc_url=\"jdbc:postgresql://database-final.cjdbapst3wjf.us-east-1.rds.amazonaws.com:5432/postgres\"\n",
        "config = {\"user\":\"postgres\",\n",
        "          \"password\": \"88888\",\n",
        "          \"driver\":\"org.postgresql.Driver\"}"
      ],
      "execution_count": null,
      "outputs": []
    },
    {
      "cell_type": "code",
      "metadata": {
        "id": "7BSEgJlTcLrD"
      },
      "source": [
        "# Write DataFrame to active_user table in RDS\n",
        "#Expenditures_2009_df.write.jdbc(url=jdbc_url, table='expenditures_2009', mode=mode, properties=config)"
      ],
      "execution_count": null,
      "outputs": []
    }
  ]
}