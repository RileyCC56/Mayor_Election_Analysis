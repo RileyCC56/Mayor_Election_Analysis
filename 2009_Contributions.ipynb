{
  "nbformat": 4,
  "nbformat_minor": 0,
  "metadata": {
    "colab": {
      "name": "2009_Contributions.ipynb",
      "provenance": [],
      "authorship_tag": "ABX9TyNymK9HKf6nDMgyTDnx0n33",
      "include_colab_link": true
    },
    "kernelspec": {
      "name": "python3",
      "display_name": "Python 3"
    },
    "language_info": {
      "name": "python"
    }
  },
  "cells": [
    {
      "cell_type": "markdown",
      "metadata": {
        "id": "view-in-github",
        "colab_type": "text"
      },
      "source": [
        "<a href=\"https://colab.research.google.com/github/ssheggrud/Mod_20_Project/blob/05_Riley/2009_Contributions.ipynb\" target=\"_parent\"><img src=\"https://colab.research.google.com/assets/colab-badge.svg\" alt=\"Open In Colab\"/></a>"
      ]
    },
    {
      "cell_type": "code",
      "metadata": {
        "id": "7kIj0dVlmkb4"
      },
      "source": [
        ""
      ],
      "execution_count": null,
      "outputs": []
    },
    {
      "cell_type": "markdown",
      "metadata": {
        "id": "qo0_SOu8LIEc"
      },
      "source": [
        "## **2013 Indivdual Contributions**"
      ]
    },
    {
      "cell_type": "code",
      "metadata": {
        "colab": {
          "base_uri": "https://localhost:8080/"
        },
        "id": "ddn5mqQ0M_R3",
        "outputId": "91a03b2a-6e86-416e-ef47-20e692cd6168"
      },
      "source": [
        "import os\n",
        "# Find the latest version of spark 3.0 from http://www.apache.org/dist/spark/ and enter as the spark version\n",
        "# For example:\n",
        "# spark_version = 'spark-3.0.3'\n",
        "spark_version = 'spark-2.4.8'\n",
        "os.environ['SPARK_VERSION']=spark_version\n",
        "\n",
        "# Install Spark and Java\n",
        "!apt-get update\n",
        "!apt-get install openjdk-11-jdk-headless -qq > /dev/null\n",
        "!wget -q http://www.apache.org/dist/spark/$SPARK_VERSION/$SPARK_VERSION-bin-hadoop2.7.tgz\n",
        "!tar xf $SPARK_VERSION-bin-hadoop2.7.tgz\n",
        "!pip install -q findspark\n",
        "\n",
        "# Set Environment Variables\n",
        "import os\n",
        "os.environ[\"JAVA_HOME\"] = \"/usr/lib/jvm/java-11-openjdk-amd64\"\n",
        "os.environ[\"SPARK_HOME\"] = f\"/content/{spark_version}-bin-hadoop2.7\"\n",
        "\n",
        "# Start a SparkSession\n",
        "import findspark\n",
        "findspark.init()"
      ],
      "execution_count": 1,
      "outputs": [
        {
          "output_type": "stream",
          "name": "stdout",
          "text": [
            "\r0% [Working]\r            \rGet:1 https://cloud.r-project.org/bin/linux/ubuntu bionic-cran40/ InRelease [3,626 B]\n",
            "\r0% [Connecting to archive.ubuntu.com (91.189.88.142)] [Connecting to security.u\r0% [Connecting to archive.ubuntu.com (91.189.88.142)] [Connecting to security.u\r                                                                               \rIgn:2 https://developer.download.nvidia.com/compute/cuda/repos/ubuntu1804/x86_64  InRelease\n",
            "\r                                                                               \rIgn:3 https://developer.download.nvidia.com/compute/machine-learning/repos/ubuntu1804/x86_64  InRelease\n",
            "\r0% [Connecting to archive.ubuntu.com (91.189.88.142)] [Connecting to security.u\r0% [1 InRelease gpgv 3,626 B] [Connecting to archive.ubuntu.com (91.189.88.142)\r                                                                               \rGet:4 https://developer.download.nvidia.com/compute/cuda/repos/ubuntu1804/x86_64  Release [696 B]\n",
            "\r0% [1 InRelease gpgv 3,626 B] [Connecting to archive.ubuntu.com (91.189.88.142)\r                                                                               \rHit:5 https://developer.download.nvidia.com/compute/machine-learning/repos/ubuntu1804/x86_64  Release\n",
            "Get:6 https://developer.download.nvidia.com/compute/cuda/repos/ubuntu1804/x86_64  Release.gpg [836 B]\n",
            "Hit:7 http://archive.ubuntu.com/ubuntu bionic InRelease\n",
            "Get:8 http://security.ubuntu.com/ubuntu bionic-security InRelease [88.7 kB]\n",
            "Get:9 http://ppa.launchpad.net/c2d4u.team/c2d4u4.0+/ubuntu bionic InRelease [15.9 kB]\n",
            "Get:10 http://archive.ubuntu.com/ubuntu bionic-updates InRelease [88.7 kB]\n",
            "Hit:11 http://ppa.launchpad.net/cran/libgit2/ubuntu bionic InRelease\n",
            "Hit:13 http://ppa.launchpad.net/deadsnakes/ppa/ubuntu bionic InRelease\n",
            "Get:14 http://archive.ubuntu.com/ubuntu bionic-backports InRelease [74.6 kB]\n",
            "Get:15 https://developer.download.nvidia.com/compute/cuda/repos/ubuntu1804/x86_64  Packages [700 kB]\n",
            "Hit:16 http://ppa.launchpad.net/graphics-drivers/ppa/ubuntu bionic InRelease\n",
            "Get:17 http://ppa.launchpad.net/c2d4u.team/c2d4u4.0+/ubuntu bionic/main Sources [1,796 kB]\n",
            "Get:18 http://security.ubuntu.com/ubuntu bionic-security/main amd64 Packages [2,295 kB]\n",
            "Get:19 http://archive.ubuntu.com/ubuntu bionic-updates/main amd64 Packages [2,755 kB]\n",
            "Get:20 http://archive.ubuntu.com/ubuntu bionic-updates/universe amd64 Packages [2,202 kB]\n",
            "Get:21 http://archive.ubuntu.com/ubuntu bionic-updates/restricted amd64 Packages [594 kB]\n",
            "Get:22 http://ppa.launchpad.net/c2d4u.team/c2d4u4.0+/ubuntu bionic/main amd64 Packages [919 kB]\n",
            "Fetched 11.5 MB in 6s (1,857 kB/s)\n",
            "Reading package lists... Done\n"
          ]
        }
      ]
    },
    {
      "cell_type": "code",
      "metadata": {
        "colab": {
          "base_uri": "https://localhost:8080/"
        },
        "id": "B9Dd_JabNFZU",
        "outputId": "bc58c595-3e85-4851-b66f-b2c3a035b320"
      },
      "source": [
        "# Download the Postgres driver that will allow Spark to interact with Postgres.\n",
        "!wget https://jdbc.postgresql.org/download/postgresql-42.2.16.jar"
      ],
      "execution_count": 2,
      "outputs": [
        {
          "output_type": "stream",
          "name": "stdout",
          "text": [
            "--2021-09-07 18:53:53--  https://jdbc.postgresql.org/download/postgresql-42.2.16.jar\n",
            "Resolving jdbc.postgresql.org (jdbc.postgresql.org)... 72.32.157.228, 2001:4800:3e1:1::228\n",
            "Connecting to jdbc.postgresql.org (jdbc.postgresql.org)|72.32.157.228|:443... connected.\n",
            "HTTP request sent, awaiting response... 200 OK\n",
            "Length: 1002883 (979K) [application/java-archive]\n",
            "Saving to: ‘postgresql-42.2.16.jar’\n",
            "\n",
            "postgresql-42.2.16. 100%[===================>] 979.38K  6.05MB/s    in 0.2s    \n",
            "\n",
            "2021-09-07 18:53:54 (6.05 MB/s) - ‘postgresql-42.2.16.jar’ saved [1002883/1002883]\n",
            "\n"
          ]
        }
      ]
    },
    {
      "cell_type": "code",
      "metadata": {
        "id": "VrvolWKMNFbe"
      },
      "source": [
        "# Start Spark session\n",
        "from pyspark.sql import SparkSession\n",
        "from pyspark.sql.functions import col\n",
        "spark = SparkSession.builder.appName(\"FinalProject\").getOrCreate()"
      ],
      "execution_count": 3,
      "outputs": []
    },
    {
      "cell_type": "code",
      "metadata": {
        "colab": {
          "base_uri": "https://localhost:8080/"
        },
        "id": "W2uxnkAjNFeD",
        "outputId": "c685fe92-cee2-4622-9869-98333f7db48b"
      },
      "source": [
        "# Read in data from S3 Buckets\n",
        "from pyspark import SparkFiles\n",
        "url = \"https://databootcamp-final-05.s3.amazonaws.com/Resources/Individual+Contributions+2009+(UF).csv\"\n",
        "spark.sparkContext.addFile(url)\n",
        "df = spark.read.csv(SparkFiles.get(\"Individual+Contributions+2009+(UF).csv\"), sep=\",\", header=True)\n",
        "df.show()"
      ],
      "execution_count": 4,
      "outputs": [
        {
          "output_type": "stream",
          "name": "stdout",
          "text": [
            "+--------+--------+-------+--------+-------------+---------+------+--------+------+----------+--------+---------+----------+------------------+------+-----+-------+---------+---------+---------+-----+-----+--------------------+-------------------+--------+--------------------+----------------+--------+----+---------+--------+----------+--------+----------+--------+--------+--------+-------+-----+------+----------+----------+----------+----------+--------+---------+---------+--------+---------+------+-------+----------+\n",
            "|ELECTION|OFFICECD|RECIPID|CANCLASS|    RECIPNAME|COMMITTEE|FILING|SCHEDULE|PAGENO|SEQUENCENO|   REFNO|     DATE|REFUNDDATE|              NAME|C_CODE|STRNO|STRNAME|APARTMENT|BOROUGHCD|     CITY|STATE|  ZIP|          OCCUPATION|            EMPNAME|EMPSTRNO|          EMPSTRNAME|         EMPCITY|EMPSTATE|AMNT|MATCHAMNT|PREVAMNT|PAY_METHOD|INTERMNO|INTERMNAME|INTSTRNO|INTSTRNM|INTAPTNO|INTCITY|INTST|INTZIP|INTEMPNAME|INTEMPSTNO|INTEMPSTNM|INTEMPCITY|INTEMPST|INTOCCUPA|PURPOSECD|EXEMPTCD|ADJTYPECD|RR_IND|SEG_IND|INT_C_CODE|\n",
            "+--------+--------+-------+--------+-------------+---------+------+--------+------+----------+--------+---------+----------+------------------+------+-----+-------+---------+---------+---------+-----+-----+--------------------+-------------------+--------+--------------------+----------------+--------+----+---------+--------+----------+--------+----------+--------+--------+--------+-------+-----+------+----------+----------+----------+----------+--------+---------+---------+--------+---------+------+-------+----------+\n",
            "|    2009|       5|   1009|       P|Goodwin, Gwen|        H|     7|     ABC|  null|      null|R0000020|1/22/2009|      null|     Morris, Blake|   IND| null|   null|     null|        K| Brooklyn|   NY|11226|            Attorney|      Self-employed|    null|                null|        Brooklyn|      NY| 100|      100|       0|         2|    null|      null|    null|    null|    null|   null| null|  null|      null|      null|      null|      null|    null|     null|     null|    null|     null|     N|      N|      null|\n",
            "|    2009|       5|   1009|       P|Goodwin, Gwen|        H|     7|     ABC|  null|      null|R0000022| 2/3/2009|      null|     Pikttch, Ruth|   IND| null|   null|     null|        K| Brooklyn|   NY|11214|             Retired|               null|    null|                null|        Brooklyn|      NY|  50|       50|       0|         2|    null|      null|    null|    null|    null|   null| null|  null|      null|      null|      null|      null|    null|     null|     null|    null|     null|     N|      N|      null|\n",
            "|    2009|       5|   1009|       P|Goodwin, Gwen|        H|     7|     ABC|  null|      null|R0000024|1/22/2009|      null| Goldstein, Benita|   IND| null|   null|     null|        M| New York|   NY|10021|      Office Manager|  Mirrors by Jordan|   38-27|         28th Street|Long Island City|      NY|  40|       40|       0|         2|    null|      null|    null|    null|    null|   null| null|  null|      null|      null|      null|      null|    null|     null|     null|    null|     null|     N|      N|      null|\n",
            "|    2009|       5|   1009|       P|Goodwin, Gwen|        H|     7|     ABC|  null|      null|R0000025|11/6/2008|      null|     GOODWIN, GWEN|   CAN| null|   null|     null|        M| New York|   NY|10029|      Make-up Artist|      Self-employed|    null|                null|        New York|      NY|  25|        0|       0|         1|    null|      null|    null|    null|    null|   null| null|  null|      null|      null|      null|      null|    null|     null|     null|    null|     null|     N|      N|      null|\n",
            "|    2009|       5|   1009|       P|Goodwin, Gwen|        H|     7|     ABC|  null|      null|R0000035|2/26/2009|      null|   Anderson, Peter|   IND| null|   null|     null|        M| New York|   NY|10037|      Letter Carrier|U.S. Postal Service|     421|          8th Avenue|        New York|      NY|  40|       40|       0|         2|    null|      null|    null|    null|    null|   null| null|  null|      null|      null|      null|      null|    null|     null|     null|    null|     null|     N|      N|      null|\n",
            "|    2009|       5|   1009|       P|Goodwin, Gwen|        H|     7|     ABC|  null|      null|R0000041|11/6/2008|      null|     GOODWIN, GWEN|   CAN| null|   null|     null|        M| New York|   NY|10029|      Make-up Artist|      Self-employed|    null|                null|        New York|      NY|  25|        0|       0|         1|    null|      null|    null|    null|    null|   null| null|  null|      null|      null|      null|      null|    null|     null|     null|    null|     null|     N|      N|      null|\n",
            "|    2009|       5|   1009|       P|Goodwin, Gwen|        H|     8|     ABC|  null|      null|R0000048|3/28/2009|      null|     Perez, Andrew|   IND| null|   null|     null|        M| New York|   NY|10028|         Sales Clerk|        Barney's NY|     660|      Madison Avenue|        New York|      NY|  10|       10|       0|         1|    null|      null|    null|    null|    null|   null| null|  null|      null|      null|      null|      null|    null|     null|     null|    null|     null|     N|      N|      null|\n",
            "|    2009|       5|   1009|       P|Goodwin, Gwen|        H|     8|     ABC|  null|      null|R0000050| 5/4/2009|      null|    Rodriguez, Ana|   IND| null|   null|     null|        M| New York|   NY|10029|        Floor Person|       CVS Pharmacy|    1500|    Lexington Avenue|        New York|      NY|  15|       15|       0|         1|    null|      null|    null|    null|    null|   null| null|  null|      null|      null|      null|      null|    null|     null|     null|    null|     null|     N|      N|      null|\n",
            "|    2009|       5|   1009|       P|Goodwin, Gwen|        H|     8|     ABC|  null|      null|R0000052|4/14/2009|      null|  Bryant, Robert A|   IND| null|   null|     null|        Z|Hillcrest|   NY|10977|         Firefighter|            Retired|    null|                null|            null|    null| 100|        0|       0|         2|    null|      null|    null|    null|    null|   null| null|  null|      null|      null|      null|      null|    null|     null|     null|    null|     null|     N|      N|      null|\n",
            "|    2009|       5|   1009|       P|Goodwin, Gwen|        H|     8|     ABC|  null|      null|R0000054|3/16/2009|      null| Reinert, Pamela A|   IND| null|   null|     null|        M| New York|   NY|10029|                null|            Retired|    null|                null|            null|    null| 250|      175|       0|         2|    null|      null|    null|    null|    null|   null| null|  null|      null|      null|      null|      null|    null|     null|     null|    null|     null|     N|      N|      null|\n",
            "|    2009|       5|   1009|       P|Goodwin, Gwen|        H|     8|     ABC|  null|      null|R0000059| 5/4/2009|      null|Palmieri, Pasquale|   IND| null|   null|     null|        M| New York|   NY|10035|            Landlord|      Self-employed|    null|                null|        New York|      NY| 500|      175|       0|         2|    null|      null|    null|    null|    null|   null| null|  null|      null|      null|      null|      null|    null|     null|     null|    null|     null|     N|      N|      null|\n",
            "|    2009|       5|   1009|       P|Goodwin, Gwen|        H|     8|     ABC|  null|      null|R0000061| 5/2/2009|      null|       Bruno, Jo C|   IND| null|   null|     null|        M| New York|   NY|10017|             Teacher|            Retired|    null|                null|            null|    null|  25|       25|       0|         2|    null|      null|    null|    null|    null|   null| null|  null|      null|      null|      null|      null|    null|     null|     null|    null|     null|     N|      N|      null|\n",
            "|    2009|       5|   1009|       P|Goodwin, Gwen|        H|     9|     ABC|  null|      null|R0000073|5/14/2009|      null|    Epstein, Lorie|   IND| null|   null|     null|        M| New York|   NY|10128|             Teacher|            Retired|    null|                null|            null|    null|  10|       10|       0|         1|    null|      null|    null|    null|    null|   null| null|  null|      null|      null|      null|      null|    null|     null|     null|    null|     null|     N|      N|      null|\n",
            "|    2009|       5|   1009|       P|Goodwin, Gwen|        H|     9|     ABC|  null|      null|R0000081|5/23/2009|      null|   BROWN, FRANCINE|   IND| null|   null|     null|        M| New York|   NY|10037|    PERSONAL TRAINER|          92 St.  Y|    null|975 LEXINGTON AVENUE|        New York|      NY|  20|       20|       0|         2|    null|      null|    null|    null|    null|   null| null|  null|      null|      null|      null|      null|    null|     null|     null|    null|     null|     N|      N|      null|\n",
            "|    2009|       5|   1009|       P|Goodwin, Gwen|        H|     9|     ABC|  null|      null|R0000083|5/23/2009|      null|    ASHANTE, OMEGA|   IND| null|   null|     null|        K| Brooklyn|   NY|11226|            MUSICIAN|      SELF EMPLOYED|    null|                null|            null|    null|  10|       10|       0|         1|    null|      null|    null|    null|    null|   null| null|  null|      null|      null|      null|      null|    null|     null|     null|    null|     null|     N|      N|      null|\n",
            "|    2009|       5|   1009|       P|Goodwin, Gwen|        H|     9|     ABC|  null|      null|R0000085|5/23/2009|      null| Reinert, Pamela A|   IND| null|   null|     null|        M| New York|   NY|10029|                null|            Retired|    null|                null|            null|    null|  20|        0|     250|         1|    null|      null|    null|    null|    null|   null| null|  null|      null|      null|      null|      null|    null|     null|     null|    null|     null|     N|      N|      null|\n",
            "|    2009|       5|   1009|       P|Goodwin, Gwen|        H|     9|     ABC|  null|      null|R0000087|5/23/2009|      null|      SOLER, JAMES|   IND| null|   null|     null|        M| New York|   NY|10029|                null|            RETIRED|    null|                null|            null|    null|  50|       50|       0|         1|    null|      null|    null|    null|    null|   null| null|  null|      null|      null|      null|      null|    null|     null|     null|    null|     null|     N|      N|      null|\n",
            "|    2009|       5|   1009|       P|Goodwin, Gwen|        H|     9|     ABC|  null|      null|R0000089|5/23/2009|      null|   DELUCA, ANTHONY|   IND| null|   null|     null|        M| New York|   NY|10025|ART FABRICATION /...|      SELF-EMPLOYED|    null|                null|        New York|      NY|  25|       25|       0|         1|    null|      null|    null|    null|    null|   null| null|  null|      null|      null|      null|      null|    null|     null|     null|    null|     null|     N|      N|      null|\n",
            "|    2009|       5|   1009|       P|Goodwin, Gwen|        H|     9|     ABC|  null|      null|R0000092|5/23/2009|      null|  BERKLEY, CARLTON|   IND| null|   null|     null|        M| New York|   NY|10035|            SECURITY|   JOHN JAY COLLEGE|     899|         10TH AVENUE|        New York|      NY|  40|       40|       0|         1|    null|      null|    null|    null|    null|   null| null|  null|      null|      null|      null|      null|    null|     null|     null|    null|     null|     N|      N|      null|\n",
            "|    2009|       5|   1009|       P|Goodwin, Gwen|        H|     9|     ABC|  null|      null|R0000095|5/13/2009|      null|        KOCH, ERIC|   IND| null|   null|     null|        M| New York|   NY|10033|                null|            RETIRED|    null|                null|            null|    null|  20|       20|       0|         2|    null|      null|    null|    null|    null|   null| null|  null|      null|      null|      null|      null|    null|     null|     null|    null|     null|     N|      N|      null|\n",
            "+--------+--------+-------+--------+-------------+---------+------+--------+------+----------+--------+---------+----------+------------------+------+-----+-------+---------+---------+---------+-----+-----+--------------------+-------------------+--------+--------------------+----------------+--------+----+---------+--------+----------+--------+----------+--------+--------+--------+-------+-----+------+----------+----------+----------+----------+--------+---------+---------+--------+---------+------+-------+----------+\n",
            "only showing top 20 rows\n",
            "\n"
          ]
        }
      ]
    },
    {
      "cell_type": "code",
      "metadata": {
        "colab": {
          "base_uri": "https://localhost:8080/"
        },
        "id": "e2cRNc4wNFgt",
        "outputId": "accbda0b-292b-4dd0-bd42-67d76771bbe0"
      },
      "source": [
        "# Remove multiple columns\n",
        "list = ['COMMITTEE', 'FILING', 'SCHEDULE', 'PAGENO', 'SEQUENCENO','REFNO', 'STRNO', 'STRNAME', 'APARTMENT', 'OCCUPATION', 'EMPNAME', 'EMPSTRNO', 'EMPSTRNAME',\n",
        "                'EMPCITY','REFUNDDATE','INTERMNO', 'INTERMNAME', 'INTSTRNO', 'INTSTRNM', 'INTSTRNM', 'INTAPTNO',\n",
        "                'INTCITY', 'INTST','INTZIP', 'INTEMPNAME', 'INTEMPSTNO', 'INTEMPSTNM', 'INTEMPCITY', 'INTEMPST', 'INTOCCUPA' ,'PURPOSECD', 'EXEMPTCD','ADJTYPECD', 'RR_IND', 'SEG_IND','INT_C_CODE'] \n",
        "df = df.drop(*list)\n",
        "df.show()"
      ],
      "execution_count": 5,
      "outputs": [
        {
          "output_type": "stream",
          "name": "stdout",
          "text": [
            "+--------+--------+-------+--------+-------------+---------+------------------+------+---------+---------+-----+-----+--------+----+---------+--------+----------+\n",
            "|ELECTION|OFFICECD|RECIPID|CANCLASS|    RECIPNAME|     DATE|              NAME|C_CODE|BOROUGHCD|     CITY|STATE|  ZIP|EMPSTATE|AMNT|MATCHAMNT|PREVAMNT|PAY_METHOD|\n",
            "+--------+--------+-------+--------+-------------+---------+------------------+------+---------+---------+-----+-----+--------+----+---------+--------+----------+\n",
            "|    2009|       5|   1009|       P|Goodwin, Gwen|1/22/2009|     Morris, Blake|   IND|        K| Brooklyn|   NY|11226|      NY| 100|      100|       0|         2|\n",
            "|    2009|       5|   1009|       P|Goodwin, Gwen| 2/3/2009|     Pikttch, Ruth|   IND|        K| Brooklyn|   NY|11214|      NY|  50|       50|       0|         2|\n",
            "|    2009|       5|   1009|       P|Goodwin, Gwen|1/22/2009| Goldstein, Benita|   IND|        M| New York|   NY|10021|      NY|  40|       40|       0|         2|\n",
            "|    2009|       5|   1009|       P|Goodwin, Gwen|11/6/2008|     GOODWIN, GWEN|   CAN|        M| New York|   NY|10029|      NY|  25|        0|       0|         1|\n",
            "|    2009|       5|   1009|       P|Goodwin, Gwen|2/26/2009|   Anderson, Peter|   IND|        M| New York|   NY|10037|      NY|  40|       40|       0|         2|\n",
            "|    2009|       5|   1009|       P|Goodwin, Gwen|11/6/2008|     GOODWIN, GWEN|   CAN|        M| New York|   NY|10029|      NY|  25|        0|       0|         1|\n",
            "|    2009|       5|   1009|       P|Goodwin, Gwen|3/28/2009|     Perez, Andrew|   IND|        M| New York|   NY|10028|      NY|  10|       10|       0|         1|\n",
            "|    2009|       5|   1009|       P|Goodwin, Gwen| 5/4/2009|    Rodriguez, Ana|   IND|        M| New York|   NY|10029|      NY|  15|       15|       0|         1|\n",
            "|    2009|       5|   1009|       P|Goodwin, Gwen|4/14/2009|  Bryant, Robert A|   IND|        Z|Hillcrest|   NY|10977|    null| 100|        0|       0|         2|\n",
            "|    2009|       5|   1009|       P|Goodwin, Gwen|3/16/2009| Reinert, Pamela A|   IND|        M| New York|   NY|10029|    null| 250|      175|       0|         2|\n",
            "|    2009|       5|   1009|       P|Goodwin, Gwen| 5/4/2009|Palmieri, Pasquale|   IND|        M| New York|   NY|10035|      NY| 500|      175|       0|         2|\n",
            "|    2009|       5|   1009|       P|Goodwin, Gwen| 5/2/2009|       Bruno, Jo C|   IND|        M| New York|   NY|10017|    null|  25|       25|       0|         2|\n",
            "|    2009|       5|   1009|       P|Goodwin, Gwen|5/14/2009|    Epstein, Lorie|   IND|        M| New York|   NY|10128|    null|  10|       10|       0|         1|\n",
            "|    2009|       5|   1009|       P|Goodwin, Gwen|5/23/2009|   BROWN, FRANCINE|   IND|        M| New York|   NY|10037|      NY|  20|       20|       0|         2|\n",
            "|    2009|       5|   1009|       P|Goodwin, Gwen|5/23/2009|    ASHANTE, OMEGA|   IND|        K| Brooklyn|   NY|11226|    null|  10|       10|       0|         1|\n",
            "|    2009|       5|   1009|       P|Goodwin, Gwen|5/23/2009| Reinert, Pamela A|   IND|        M| New York|   NY|10029|    null|  20|        0|     250|         1|\n",
            "|    2009|       5|   1009|       P|Goodwin, Gwen|5/23/2009|      SOLER, JAMES|   IND|        M| New York|   NY|10029|    null|  50|       50|       0|         1|\n",
            "|    2009|       5|   1009|       P|Goodwin, Gwen|5/23/2009|   DELUCA, ANTHONY|   IND|        M| New York|   NY|10025|      NY|  25|       25|       0|         1|\n",
            "|    2009|       5|   1009|       P|Goodwin, Gwen|5/23/2009|  BERKLEY, CARLTON|   IND|        M| New York|   NY|10035|      NY|  40|       40|       0|         1|\n",
            "|    2009|       5|   1009|       P|Goodwin, Gwen|5/13/2009|        KOCH, ERIC|   IND|        M| New York|   NY|10033|    null|  20|       20|       0|         2|\n",
            "+--------+--------+-------+--------+-------------+---------+------------------+------+---------+---------+-----+-----+--------+----+---------+--------+----------+\n",
            "only showing top 20 rows\n",
            "\n"
          ]
        }
      ]
    },
    {
      "cell_type": "code",
      "metadata": {
        "colab": {
          "base_uri": "https://localhost:8080/"
        },
        "id": "g5aiRN5RNFjB",
        "outputId": "28483caa-bba2-4f8b-ff9b-c1ff89443f72"
      },
      "source": [
        "# check data types\n",
        "df.dtypes"
      ],
      "execution_count": 6,
      "outputs": [
        {
          "output_type": "execute_result",
          "data": {
            "text/plain": [
              "[('ELECTION', 'string'),\n",
              " ('OFFICECD', 'string'),\n",
              " ('RECIPID', 'string'),\n",
              " ('CANCLASS', 'string'),\n",
              " ('RECIPNAME', 'string'),\n",
              " ('DATE', 'string'),\n",
              " ('NAME', 'string'),\n",
              " ('C_CODE', 'string'),\n",
              " ('BOROUGHCD', 'string'),\n",
              " ('CITY', 'string'),\n",
              " ('STATE', 'string'),\n",
              " ('ZIP', 'string'),\n",
              " ('EMPSTATE', 'string'),\n",
              " ('AMNT', 'string'),\n",
              " ('MATCHAMNT', 'string'),\n",
              " ('PREVAMNT', 'string'),\n",
              " ('PAY_METHOD', 'string')]"
            ]
          },
          "metadata": {},
          "execution_count": 6
        }
      ]
    },
    {
      "cell_type": "code",
      "metadata": {
        "colab": {
          "base_uri": "https://localhost:8080/"
        },
        "id": "tIkq3wdqOzWV",
        "outputId": "c4b82d67-e95b-4c92-92f7-095102bf1711"
      },
      "source": [
        "#Change column names\n",
        "df1 = df \\\n",
        ".withColumnRenamed(\"ELECTION\", \"Election\") \\\n",
        ".withColumnRenamed(\"RECIPID\", \"CandidateID\") \\\n",
        ".withColumnRenamed(\"RECIPNAME\", \"CandidateName\") \\\n",
        ".withColumnRenamed(\"DATE\", \"Date\") \\\n",
        ".withColumnRenamed(\"NAME\", \"Name\") \\\n",
        ".withColumnRenamed(\"C_CODE\", \"ContributerType\") \\\n",
        ".withColumnRenamed(\"BOROUGHCD\", \"BoroughName\") \\\n",
        ".withColumnRenamed(\"CITY\", \"City\") \\\n",
        ".withColumnRenamed(\"STATE\", \"State\") \\\n",
        ".withColumnRenamed(\"ZIP\", \"ZipCode\") \\\n",
        ".withColumnRenamed(\"EMPSTATE\", \"ContributionState\") \\\n",
        ".withColumnRenamed(\"AMNT\", \"Amount\") \\\n",
        ".withColumnRenamed(\"MATCHAMNT\", \"MatchAmt\") \\\n",
        ".withColumnRenamed(\"PREVAMNT\", \"PrevAmt\") \\\n",
        ".withColumnRenamed(\"PAY_METHOD\", \"PayMethod\") \n",
        "\n",
        "df1.printSchema()"
      ],
      "execution_count": 7,
      "outputs": [
        {
          "output_type": "stream",
          "name": "stdout",
          "text": [
            "root\n",
            " |-- Election: string (nullable = true)\n",
            " |-- OFFICECD: string (nullable = true)\n",
            " |-- CandidateID: string (nullable = true)\n",
            " |-- CANCLASS: string (nullable = true)\n",
            " |-- CandidateName: string (nullable = true)\n",
            " |-- Date: string (nullable = true)\n",
            " |-- Name: string (nullable = true)\n",
            " |-- ContributerType: string (nullable = true)\n",
            " |-- BoroughName: string (nullable = true)\n",
            " |-- City: string (nullable = true)\n",
            " |-- State: string (nullable = true)\n",
            " |-- ZipCode: string (nullable = true)\n",
            " |-- ContributionState: string (nullable = true)\n",
            " |-- Amount: string (nullable = true)\n",
            " |-- MatchAmt: string (nullable = true)\n",
            " |-- PrevAmt: string (nullable = true)\n",
            " |-- PayMethod: string (nullable = true)\n",
            "\n"
          ]
        }
      ]
    },
    {
      "cell_type": "code",
      "metadata": {
        "colab": {
          "base_uri": "https://localhost:8080/"
        },
        "id": "SyWn9dANSi5l",
        "outputId": "4a491859-5da0-4aca-83ce-6669aaaaf3e1"
      },
      "source": [
        "# changing datatypes of columns\n",
        "df2 = df1 \\\n",
        "  .withColumn(\"Election\",df1[\"Election\"].cast(\"Integer\")) \\\n",
        "  .withColumn(\"OFFICECD\", df1[\"OFFICECD\"].cast(\"Integer\")) \\\n",
        "  .withColumn(\"CandidateID\", df1[\"CandidateID\"].cast(\"Integer\")) \\\n",
        "  .withColumn(\"ZipCode\", df1[\"ZipCode\"].cast(\"Integer\")) \\\n",
        "  .withColumn(\"Amount\", df1[\"Amount\"].cast(\"Float\")) \\\n",
        "  .withColumn(\"MatchAmt\", df1[\"MatchAmt\"].cast(\"Float\")) \\\n",
        "  .withColumn(\"PrevAmt\", df1[\"PrevAmt\"].cast(\"Float\")) \\\n",
        "  .withColumn(\"Date\", df1[\"Date\"].cast(\"Date\")) \\\n",
        "  \n",
        "df2.printSchema()"
      ],
      "execution_count": 8,
      "outputs": [
        {
          "output_type": "stream",
          "name": "stdout",
          "text": [
            "root\n",
            " |-- Election: integer (nullable = true)\n",
            " |-- OFFICECD: integer (nullable = true)\n",
            " |-- CandidateID: integer (nullable = true)\n",
            " |-- CANCLASS: string (nullable = true)\n",
            " |-- CandidateName: string (nullable = true)\n",
            " |-- Date: date (nullable = true)\n",
            " |-- Name: string (nullable = true)\n",
            " |-- ContributerType: string (nullable = true)\n",
            " |-- BoroughName: string (nullable = true)\n",
            " |-- City: string (nullable = true)\n",
            " |-- State: string (nullable = true)\n",
            " |-- ZipCode: integer (nullable = true)\n",
            " |-- ContributionState: string (nullable = true)\n",
            " |-- Amount: float (nullable = true)\n",
            " |-- MatchAmt: float (nullable = true)\n",
            " |-- PrevAmt: float (nullable = true)\n",
            " |-- PayMethod: string (nullable = true)\n",
            "\n"
          ]
        }
      ]
    },
    {
      "cell_type": "code",
      "metadata": {
        "id": "h1aCPuV3WPwC"
      },
      "source": [
        "#Change vaule name in ContributerType\n",
        "from pyspark.sql.functions import regexp_replace\n",
        "df3 = df2.withColumn('ContributerType', regexp_replace('ContributerType', 'CAN', 'Candidate')) \\\n",
        "  .withColumn('ContributerType', regexp_replace('ContributerType', 'CORP', 'Corporation')) \\\n",
        "  .withColumn('ContributerType', regexp_replace('ContributerType', 'EMPO', 'Labor Union')) \\\n",
        "  .withColumn('ContributerType', regexp_replace('ContributerType', 'FAM', 'Candidate Family')) \\\n",
        "  .withColumn('ContributerType', regexp_replace('ContributerType', 'IND', 'Individual')) \\\n",
        "  .withColumn('ContributerType', regexp_replace('ContributerType', 'PCOMZ', 'Party Committee')) \\\n",
        "  .withColumn('ContributerType', regexp_replace('ContributerType', 'ORG', 'Orgainization')) \\\n",
        "  .withColumn('ContributerType', regexp_replace('ContributerType', 'LLC', 'Limited Liability Company')) \\\n",
        "  .withColumn('ContributerType', regexp_replace('ContributerType', 'PCOMP', 'Political Action Committee')) \\\n",
        "  .withColumn('ContributerType', regexp_replace('ContributerType', 'SPO', 'Spouse')) \\\n",
        "  .withColumn('ContributerType', regexp_replace('ContributerType', 'OTHR', 'Other')) \\\n",
        "  .withColumn('ContributerType', regexp_replace('ContributerType', 'PCOMC', 'Candidate Committee')) \\\n",
        "  .withColumn('ContributerType', regexp_replace('ContributerType', 'PART', 'Individual')) \\\n"
      ],
      "execution_count": 9,
      "outputs": []
    },
    {
      "cell_type": "code",
      "metadata": {
        "id": "EDLKVpihXzJY"
      },
      "source": [
        "#Change Payment Method Name\n",
        "df4=df3.withColumn('PayMethod', regexp_replace('PayMethod','0','Unknown')) \\\n",
        "  .withColumn('PayMethod', regexp_replace('PayMethod','1','Cash')) \\\n",
        "  .withColumn('PayMethod', regexp_replace('PayMethod','2','Check')) \\\n",
        "  .withColumn('PayMethod', regexp_replace('PayMethod','3','Other')) \\\n",
        "  .withColumn('PayMethod', regexp_replace('PayMethod','4','Credit Card')) \\\n",
        "  .withColumn('PayMethod', regexp_replace('PayMethod','5','Money Order')) \\"
      ],
      "execution_count": 10,
      "outputs": []
    },
    {
      "cell_type": "code",
      "metadata": {
        "id": "fy4JAvyQWRl7"
      },
      "source": [
        "#Change Borough name\n",
        "from pyspark.sql.functions import regexp_replace\n",
        "df5 = df4.withColumn('BoroughName', regexp_replace('BoroughName', 'K', 'Brooklyn')) \\\n",
        "  .withColumn('BoroughName', regexp_replace('BoroughName', 'M', 'Manhattan')) \\\n",
        "  .withColumn('BoroughName', regexp_replace('BoroughName', 'Q', 'Queens')) \\\n",
        "  .withColumn('BoroughName', regexp_replace('BoroughName', 'S', 'Staten Island')) \\\n",
        "  .withColumn('BoroughName', regexp_replace('BoroughName', 'X', 'Bronx')) \\\n",
        "  .withColumn('BoroughName', regexp_replace('BoroughName', 'Z', 'Other')) \\\n"
      ],
      "execution_count": 11,
      "outputs": []
    },
    {
      "cell_type": "code",
      "metadata": {
        "colab": {
          "base_uri": "https://localhost:8080/"
        },
        "id": "fM_kC3ViNFqN",
        "outputId": "5791b9d3-2dce-4ee4-8214-f8d63d509f46"
      },
      "source": [
        "#Call only Mayor (1) and particaptes (P) within Dataframe\n",
        "df6 = df5.filter((df5.OFFICECD==\"1\") & (df5.CANCLASS==\"P\"))\n",
        "df6.show()"
      ],
      "execution_count": 12,
      "outputs": [
        {
          "output_type": "stream",
          "name": "stdout",
          "text": [
            "+--------+--------+-----------+--------+--------------------+----+--------------------+---------------+-----------+-------------+-----+-------+-----------------+------+--------+-------+-----------+\n",
            "|Election|OFFICECD|CandidateID|CANCLASS|       CandidateName|Date|                Name|ContributerType|BoroughName|         City|State|ZipCode|ContributionState|Amount|MatchAmt|PrevAmt|  PayMethod|\n",
            "+--------+--------+-----------+--------+--------------------+----+--------------------+---------------+-----------+-------------+-----+-------+-----------------+------+--------+-------+-----------+\n",
            "|    2009|       1|       1266|       P|Joiner-Eiland, Ty...|null|   Eiland, Tyrrell L|      Candidate|      Other| Port Chester|   NY|  10573|               NY|   9.0|     0.0|    0.0|       Cash|\n",
            "|    2009|       1|       1286|       P|Coenen, Jr., Kevin P|null|     Coenen, Kevin P|      Candidate|      Other|    Nesconset|   NY|  11767|               NY| 200.0|     0.0|    0.0|       Cash|\n",
            "|    2009|       1|       1286|       P|Coenen, Jr., Kevin P|null|     Coenen, Kevin P|      Candidate|      Other|    Nesconset|   NY|  11767|               NY|  46.1|     0.0|    0.0|    Unknown|\n",
            "|    2009|       1|       1286|       P|Coenen, Jr., Kevin P|null|     Coenen, Kevin P|      Candidate|      Other|    Nesconset|   NY|  11767|             null|-200.0|     0.0|    0.0|    Unknown|\n",
            "|    2009|       1|       1286|       P|Coenen, Jr., Kevin P|null|     Coenen, Kevin P|      Candidate|       null|    Nesconset|   NY|  11767|             null| 575.7|     0.0|    0.0|    Unknown|\n",
            "|    2009|       1|       1317|       P|        Talen, Billy|null|      Talen, William|      Candidate|   Brooklyn|     Brooklyn|   NY|  11218|               NY| 500.0|   175.0|    0.0|      Check|\n",
            "|    2009|       1|       1317|       P|        Talen, Billy|null|     Mattera, Gloria|     Individual|   Brooklyn|     Brooklyn|   NY|  11215|               NY| 175.0|   175.0|    0.0|      Check|\n",
            "|    2009|       1|       1317|       P|        Talen, Billy|null|        Read, Mark W|     Individual|   Brooklyn|     Brooklyn|   NY|  11238|               NY| 175.0|   175.0|    0.0|      Check|\n",
            "|    2009|       1|       1317|       P|        Talen, Billy|null|  Emperor, Michael D|     Individual|   Brooklyn|     Brooklyn|   NY|  11209|               NY| 175.0|   175.0|    0.0|Credit Card|\n",
            "|    2009|       1|       1317|       P|        Talen, Billy|null|  DeFilippo, Michael|     Individual|      Other|       Newark|   NJ|   7101|               NY|  20.0|     0.0|    0.0|Credit Card|\n",
            "|    2009|       1|       1317|       P|        Talen, Billy|null|       Baker, Brandy|     Individual|      Other|    Baltimore|   MD|  21218|               MD| 100.0|     0.0|    0.0|Credit Card|\n",
            "|    2009|       1|       1317|       P|        Talen, Billy|null| Mirarchi, Elizabeth|     Individual|  Manhattan|     New York|   NY|  10031|               NY|  10.0|    10.0|    0.0|Credit Card|\n",
            "|    2009|       1|       1317|       P|        Talen, Billy|null|  Emperor, Michael D|     Individual|   Brooklyn|     Brooklyn|   NY|  11209|               NY|   5.0|     0.0|    0.0|Credit Card|\n",
            "|    2009|       1|       1317|       P|        Talen, Billy|null|Oman-Reagan, Michael|     Individual|   Brooklyn|     Brooklyn|   NY|  11211|               NY|  50.0|    50.0|    0.0|Credit Card|\n",
            "|    2009|       1|       1317|       P|        Talen, Billy|null|       Brown, Hilary|     Individual|      Other|      Orlando|   FL|  32806|               FL|  50.0|     0.0|    0.0|Credit Card|\n",
            "|    2009|       1|       1317|       P|        Talen, Billy|null|     White, Jennifer|     Individual|   Brooklyn|     Brooklyn|   NY|  11206|               NY|  10.0|    10.0|    0.0|Credit Card|\n",
            "|    2009|       1|       1317|       P|        Talen, Billy|null|       Hoenig, Myles|     Individual|      Other|    Baltimore|   MD|  21218|               MD|  25.0|     0.0|    0.0|Credit Card|\n",
            "|    2009|       1|       1317|       P|        Talen, Billy|null|        Barnes, Mark|     Individual|      Other|San Francisco|   CA|  94108|               CA|  50.0|     0.0|    0.0|Credit Card|\n",
            "|    2009|       1|       1317|       P|        Talen, Billy|null|        Lawton, Sean|     Individual|      Other|    Arlington|   VA|  22206|               VA| 200.0|     0.0|    0.0|Credit Card|\n",
            "|    2009|       1|       1317|       P|        Talen, Billy|null|            Talen, W|     Individual|      Other|   Northfield|   MN|  55057|               MN| 175.0|     0.0|    0.0|Credit Card|\n",
            "+--------+--------+-----------+--------+--------------------+----+--------------------+---------------+-----------+-------------+-----+-------+-----------------+------+--------+-------+-----------+\n",
            "only showing top 20 rows\n",
            "\n"
          ]
        }
      ]
    },
    {
      "cell_type": "code",
      "metadata": {
        "colab": {
          "base_uri": "https://localhost:8080/"
        },
        "id": "WmdLbDEzQAyc",
        "outputId": "a6811b44-ffe8-443f-fd6b-48b1cdda71ee"
      },
      "source": [
        "#Check the above dataframe to make sure only unique values between the OFFICECD is 1 \n",
        "df6.select('OFFICECD').distinct().show()"
      ],
      "execution_count": 13,
      "outputs": [
        {
          "output_type": "stream",
          "name": "stdout",
          "text": [
            "+--------+\n",
            "|OFFICECD|\n",
            "+--------+\n",
            "|       1|\n",
            "+--------+\n",
            "\n"
          ]
        }
      ]
    },
    {
      "cell_type": "code",
      "metadata": {
        "colab": {
          "base_uri": "https://localhost:8080/"
        },
        "id": "4kbDs5ApZtEu",
        "outputId": "5264e2ba-dedc-4e36-ad24-41a181a321f1"
      },
      "source": [
        "#Drop OFFICECD and CANCLASS\n",
        "list2 = ['OFFICECD', 'CANCLASS'] \n",
        "df7 = df6.drop(*list2)\n",
        "df7.show()"
      ],
      "execution_count": 14,
      "outputs": [
        {
          "output_type": "stream",
          "name": "stdout",
          "text": [
            "+--------+-----------+--------------------+----+--------------------+---------------+-----------+-------------+-----+-------+-----------------+------+--------+-------+-----------+\n",
            "|Election|CandidateID|       CandidateName|Date|                Name|ContributerType|BoroughName|         City|State|ZipCode|ContributionState|Amount|MatchAmt|PrevAmt|  PayMethod|\n",
            "+--------+-----------+--------------------+----+--------------------+---------------+-----------+-------------+-----+-------+-----------------+------+--------+-------+-----------+\n",
            "|    2009|       1266|Joiner-Eiland, Ty...|null|   Eiland, Tyrrell L|      Candidate|      Other| Port Chester|   NY|  10573|               NY|   9.0|     0.0|    0.0|       Cash|\n",
            "|    2009|       1286|Coenen, Jr., Kevin P|null|     Coenen, Kevin P|      Candidate|      Other|    Nesconset|   NY|  11767|               NY| 200.0|     0.0|    0.0|       Cash|\n",
            "|    2009|       1286|Coenen, Jr., Kevin P|null|     Coenen, Kevin P|      Candidate|      Other|    Nesconset|   NY|  11767|               NY|  46.1|     0.0|    0.0|    Unknown|\n",
            "|    2009|       1286|Coenen, Jr., Kevin P|null|     Coenen, Kevin P|      Candidate|      Other|    Nesconset|   NY|  11767|             null|-200.0|     0.0|    0.0|    Unknown|\n",
            "|    2009|       1286|Coenen, Jr., Kevin P|null|     Coenen, Kevin P|      Candidate|       null|    Nesconset|   NY|  11767|             null| 575.7|     0.0|    0.0|    Unknown|\n",
            "|    2009|       1317|        Talen, Billy|null|      Talen, William|      Candidate|   Brooklyn|     Brooklyn|   NY|  11218|               NY| 500.0|   175.0|    0.0|      Check|\n",
            "|    2009|       1317|        Talen, Billy|null|     Mattera, Gloria|     Individual|   Brooklyn|     Brooklyn|   NY|  11215|               NY| 175.0|   175.0|    0.0|      Check|\n",
            "|    2009|       1317|        Talen, Billy|null|        Read, Mark W|     Individual|   Brooklyn|     Brooklyn|   NY|  11238|               NY| 175.0|   175.0|    0.0|      Check|\n",
            "|    2009|       1317|        Talen, Billy|null|  Emperor, Michael D|     Individual|   Brooklyn|     Brooklyn|   NY|  11209|               NY| 175.0|   175.0|    0.0|Credit Card|\n",
            "|    2009|       1317|        Talen, Billy|null|  DeFilippo, Michael|     Individual|      Other|       Newark|   NJ|   7101|               NY|  20.0|     0.0|    0.0|Credit Card|\n",
            "|    2009|       1317|        Talen, Billy|null|       Baker, Brandy|     Individual|      Other|    Baltimore|   MD|  21218|               MD| 100.0|     0.0|    0.0|Credit Card|\n",
            "|    2009|       1317|        Talen, Billy|null| Mirarchi, Elizabeth|     Individual|  Manhattan|     New York|   NY|  10031|               NY|  10.0|    10.0|    0.0|Credit Card|\n",
            "|    2009|       1317|        Talen, Billy|null|  Emperor, Michael D|     Individual|   Brooklyn|     Brooklyn|   NY|  11209|               NY|   5.0|     0.0|    0.0|Credit Card|\n",
            "|    2009|       1317|        Talen, Billy|null|Oman-Reagan, Michael|     Individual|   Brooklyn|     Brooklyn|   NY|  11211|               NY|  50.0|    50.0|    0.0|Credit Card|\n",
            "|    2009|       1317|        Talen, Billy|null|       Brown, Hilary|     Individual|      Other|      Orlando|   FL|  32806|               FL|  50.0|     0.0|    0.0|Credit Card|\n",
            "|    2009|       1317|        Talen, Billy|null|     White, Jennifer|     Individual|   Brooklyn|     Brooklyn|   NY|  11206|               NY|  10.0|    10.0|    0.0|Credit Card|\n",
            "|    2009|       1317|        Talen, Billy|null|       Hoenig, Myles|     Individual|      Other|    Baltimore|   MD|  21218|               MD|  25.0|     0.0|    0.0|Credit Card|\n",
            "|    2009|       1317|        Talen, Billy|null|        Barnes, Mark|     Individual|      Other|San Francisco|   CA|  94108|               CA|  50.0|     0.0|    0.0|Credit Card|\n",
            "|    2009|       1317|        Talen, Billy|null|        Lawton, Sean|     Individual|      Other|    Arlington|   VA|  22206|               VA| 200.0|     0.0|    0.0|Credit Card|\n",
            "|    2009|       1317|        Talen, Billy|null|            Talen, W|     Individual|      Other|   Northfield|   MN|  55057|               MN| 175.0|     0.0|    0.0|Credit Card|\n",
            "+--------+-----------+--------------------+----+--------------------+---------------+-----------+-------------+-----+-------+-----------------+------+--------+-------+-----------+\n",
            "only showing top 20 rows\n",
            "\n"
          ]
        }
      ]
    },
    {
      "cell_type": "code",
      "metadata": {
        "colab": {
          "base_uri": "https://localhost:8080/"
        },
        "id": "jKdRMcW-9mtO",
        "outputId": "ee9b8ca1-c536-4cdb-ab8a-7b1b5bbdd378"
      },
      "source": [
        "# ADD AMNT and MATCHAMNT PrevAmnt\n",
        "from pyspark.sql.functions import col\n",
        "df8 = df7.withColumn(\"TotalAmount\", col(\"Amount\")+col(\"MatchAmt\")+col('PrevAmt'))\n",
        "df8.show()"
      ],
      "execution_count": 15,
      "outputs": [
        {
          "output_type": "stream",
          "name": "stdout",
          "text": [
            "+--------+-----------+--------------------+----+--------------------+---------------+-----------+-------------+-----+-------+-----------------+------+--------+-------+-----------+-----------+\n",
            "|Election|CandidateID|       CandidateName|Date|                Name|ContributerType|BoroughName|         City|State|ZipCode|ContributionState|Amount|MatchAmt|PrevAmt|  PayMethod|TotalAmount|\n",
            "+--------+-----------+--------------------+----+--------------------+---------------+-----------+-------------+-----+-------+-----------------+------+--------+-------+-----------+-----------+\n",
            "|    2009|       1266|Joiner-Eiland, Ty...|null|   Eiland, Tyrrell L|      Candidate|      Other| Port Chester|   NY|  10573|               NY|   9.0|     0.0|    0.0|       Cash|        9.0|\n",
            "|    2009|       1286|Coenen, Jr., Kevin P|null|     Coenen, Kevin P|      Candidate|      Other|    Nesconset|   NY|  11767|               NY| 200.0|     0.0|    0.0|       Cash|      200.0|\n",
            "|    2009|       1286|Coenen, Jr., Kevin P|null|     Coenen, Kevin P|      Candidate|      Other|    Nesconset|   NY|  11767|               NY|  46.1|     0.0|    0.0|    Unknown|       46.1|\n",
            "|    2009|       1286|Coenen, Jr., Kevin P|null|     Coenen, Kevin P|      Candidate|      Other|    Nesconset|   NY|  11767|             null|-200.0|     0.0|    0.0|    Unknown|     -200.0|\n",
            "|    2009|       1286|Coenen, Jr., Kevin P|null|     Coenen, Kevin P|      Candidate|       null|    Nesconset|   NY|  11767|             null| 575.7|     0.0|    0.0|    Unknown|      575.7|\n",
            "|    2009|       1317|        Talen, Billy|null|      Talen, William|      Candidate|   Brooklyn|     Brooklyn|   NY|  11218|               NY| 500.0|   175.0|    0.0|      Check|      675.0|\n",
            "|    2009|       1317|        Talen, Billy|null|     Mattera, Gloria|     Individual|   Brooklyn|     Brooklyn|   NY|  11215|               NY| 175.0|   175.0|    0.0|      Check|      350.0|\n",
            "|    2009|       1317|        Talen, Billy|null|        Read, Mark W|     Individual|   Brooklyn|     Brooklyn|   NY|  11238|               NY| 175.0|   175.0|    0.0|      Check|      350.0|\n",
            "|    2009|       1317|        Talen, Billy|null|  Emperor, Michael D|     Individual|   Brooklyn|     Brooklyn|   NY|  11209|               NY| 175.0|   175.0|    0.0|Credit Card|      350.0|\n",
            "|    2009|       1317|        Talen, Billy|null|  DeFilippo, Michael|     Individual|      Other|       Newark|   NJ|   7101|               NY|  20.0|     0.0|    0.0|Credit Card|       20.0|\n",
            "|    2009|       1317|        Talen, Billy|null|       Baker, Brandy|     Individual|      Other|    Baltimore|   MD|  21218|               MD| 100.0|     0.0|    0.0|Credit Card|      100.0|\n",
            "|    2009|       1317|        Talen, Billy|null| Mirarchi, Elizabeth|     Individual|  Manhattan|     New York|   NY|  10031|               NY|  10.0|    10.0|    0.0|Credit Card|       20.0|\n",
            "|    2009|       1317|        Talen, Billy|null|  Emperor, Michael D|     Individual|   Brooklyn|     Brooklyn|   NY|  11209|               NY|   5.0|     0.0|    0.0|Credit Card|        5.0|\n",
            "|    2009|       1317|        Talen, Billy|null|Oman-Reagan, Michael|     Individual|   Brooklyn|     Brooklyn|   NY|  11211|               NY|  50.0|    50.0|    0.0|Credit Card|      100.0|\n",
            "|    2009|       1317|        Talen, Billy|null|       Brown, Hilary|     Individual|      Other|      Orlando|   FL|  32806|               FL|  50.0|     0.0|    0.0|Credit Card|       50.0|\n",
            "|    2009|       1317|        Talen, Billy|null|     White, Jennifer|     Individual|   Brooklyn|     Brooklyn|   NY|  11206|               NY|  10.0|    10.0|    0.0|Credit Card|       20.0|\n",
            "|    2009|       1317|        Talen, Billy|null|       Hoenig, Myles|     Individual|      Other|    Baltimore|   MD|  21218|               MD|  25.0|     0.0|    0.0|Credit Card|       25.0|\n",
            "|    2009|       1317|        Talen, Billy|null|        Barnes, Mark|     Individual|      Other|San Francisco|   CA|  94108|               CA|  50.0|     0.0|    0.0|Credit Card|       50.0|\n",
            "|    2009|       1317|        Talen, Billy|null|        Lawton, Sean|     Individual|      Other|    Arlington|   VA|  22206|               VA| 200.0|     0.0|    0.0|Credit Card|      200.0|\n",
            "|    2009|       1317|        Talen, Billy|null|            Talen, W|     Individual|      Other|   Northfield|   MN|  55057|               MN| 175.0|     0.0|    0.0|Credit Card|      175.0|\n",
            "+--------+-----------+--------------------+----+--------------------+---------------+-----------+-------------+-----+-------+-----------------+------+--------+-------+-----------+-----------+\n",
            "only showing top 20 rows\n",
            "\n"
          ]
        }
      ]
    },
    {
      "cell_type": "markdown",
      "metadata": {
        "id": "1t7gDM4IKH8Y"
      },
      "source": [
        "## **2013 Committee Contributions**"
      ]
    },
    {
      "cell_type": "code",
      "metadata": {
        "id": "mCGEhe_bLOhK"
      },
      "source": [
        "#import os\n",
        "# Find the latest version of spark 3.0 from http://www.apache.org/dist/spark/ and enter as the spark version\n",
        "# For example:\n",
        "# spark_version = 'spark-3.0.3'\n",
        "#spark_version = 'spark-2.4.8'\n",
        "#os.environ['SPARK_VERSION']=spark_version\n",
        "\n",
        "# Install Spark and Java\n",
        "#!apt-get update\n",
        "#!apt-get install openjdk-11-jdk-headless -qq > /dev/null\n",
        "#!wget -q http://www.apache.org/dist/spark/$SPARK_VERSION/$SPARK_VERSION-bin-hadoop2.7.tgz\n",
        "#!tar xf $SPARK_VERSION-bin-hadoop2.7.tgz\n",
        "#!pip install -q findspark\n",
        "\n",
        "# Set Environment Variables\n",
        "#import os\n",
        "#os.environ[\"JAVA_HOME\"] = \"/usr/lib/jvm/java-11-openjdk-amd64\"\n",
        "#os.environ[\"SPARK_HOME\"] = f\"/content/{spark_version}-bin-hadoop2.7\"\n",
        "\n",
        "# Start a SparkSession\n",
        "#import findspark\n",
        "#findspark.init()"
      ],
      "execution_count": 16,
      "outputs": []
    },
    {
      "cell_type": "code",
      "metadata": {
        "id": "Wg1igvJ9LOhL"
      },
      "source": [
        "# Download the Postgres driver that will allow Spark to interact with Postgres.\n",
        "#!wget https://jdbc.postgresql.org/download/postgresql-42.2.16.jar"
      ],
      "execution_count": 17,
      "outputs": []
    },
    {
      "cell_type": "code",
      "metadata": {
        "id": "5fFtyDxuLOhL"
      },
      "source": [
        "# Start Spark session\n",
        "#0from pyspark.sql import SparkSession\n",
        "#from pyspark.sql.functions import col\n",
        "#spark = SparkSession.builder.appName(\"FinalProject\").getOrCreate()"
      ],
      "execution_count": 18,
      "outputs": []
    },
    {
      "cell_type": "code",
      "metadata": {
        "colab": {
          "base_uri": "https://localhost:8080/"
        },
        "id": "hraQT1VmLOhL",
        "outputId": "fb70f1d8-dcc1-4079-b88c-9d8e1cdb4cbf"
      },
      "source": [
        "# Read in data from S3 Buckets\n",
        "from pyspark import SparkFiles\n",
        "url = \"https://databootcamp-final-05.s3.amazonaws.com/Resources/Committee+Contributions+2009+(X).csv\"\n",
        "spark.sparkContext.addFile(url)\n",
        "df = spark.read.csv(SparkFiles.get(\"Committee+Contributions+2009+(X).csv\"), sep=\",\", header=True)\n",
        "df.show()"
      ],
      "execution_count": 19,
      "outputs": [
        {
          "output_type": "stream",
          "name": "stdout",
          "text": [
            "+--------+--------+-------+--------+--------------------+---------+------+--------+------+----------+--------+----------+----------+--------------------+------+-----+-------+---------+---------+----------+-----+-----+----------+-------+--------+----------+-------+--------+-----+---------+--------+----------+--------+----------+--------+--------+--------+-------+-----+------+----------+----------+----------+----------+--------+---------+---------+--------+---------+------+-------+----------+\n",
            "|ELECTION|OFFICECD|RECIPID|CANCLASS|           RECIPNAME|COMMITTEE|FILING|SCHEDULE|PAGENO|SEQUENCENO|   REFNO|      DATE|REFUNDDATE|                NAME|C_CODE|STRNO|STRNAME|APARTMENT|BOROUGHCD|      CITY|STATE|  ZIP|OCCUPATION|EMPNAME|EMPSTRNO|EMPSTRNAME|EMPCITY|EMPSTATE| AMNT|MATCHAMNT|PREVAMNT|PAY_METHOD|INTERMNO|INTERMNAME|INTSTRNO|INTSTRNM|INTAPTNO|INTCITY|INTST|INTZIP|INTEMPNAME|INTEMPSTNO|INTEMPSTNM|INTEMPCITY|INTEMPST|INTOCCUPA|PURPOSECD|EXEMPTCD|ADJTYPECD|RR_IND|SEG_IND|INT_C_CODE|\n",
            "+--------+--------+-------+--------+--------------------+---------+------+--------+------+----------+--------+----------+----------+--------------------+------+-----+-------+---------+---------+----------+-----+-----+----------+-------+--------+----------+-------+--------+-----+---------+--------+----------+--------+----------+--------+--------+--------+-------+-----+------+----------+----------+----------+----------+--------+---------+---------+--------+---------+------+-------+----------+\n",
            "|    2009|       1|    260|       P|Thompson, Jr., Wi...|        K|     4|     ABC|  null|      null|R0012964| 12/1/2007|      null|1 Christopher Rea...|   LLC| null|   null|     null|        M|  New York|   NY|10014|      null|   null|    null|      null|   null|    null| 1000|        0|       0|         2|    null|      null|    null|    null|    null|   null| null|  null|      null|      null|      null|      null|    null|     null|     null|    null|     null|     N|      N|      null|\n",
            "|    2009|       1|    260|       P|Thompson, Jr., Wi...|        K|     1|     ABC|  null|      null|R0001965|  6/3/2006|      null|1199 SEIU NYS Pol...| PCOMP| null|   null|     null|        M|  New York|   NY|10036|      null|   null|    null|      null|   null|    null| 4950|        0|       0|         2|    null|      null|    null|    null|    null|   null| null|  null|      null|      null|      null|      null|    null|     null|     null|    null|     null|     N|      N|      null|\n",
            "|    2009|       1|     51|       P|        Avella, Tony|        K|     4|     ABC|  null|      null|R0001623|10/29/2007|      null|126th Place Realt...|   LLC| null|   null|     null|        Q|  Flushing|   NY|11368|      null|   null|    null|      null|   null|    null|  500|        0|       0|         2|    null|      null|    null|    null|    null|   null| null|  null|      null|      null|      null|      null|    null|     null|     null|    null|     null|     N|      N|      null|\n",
            "|    2009|       1|    260|       P|Thompson, Jr., Wi...|        K|     2|     ABC|  null|      null|R0003504|11/18/2006|      null|126th Place Realt...|   LLC| null|   null|     null|        Q|    Queens|   NY|11368|      null|   null|    null|      null|   null|    null| 1000|        0|       0|         2|    null|      null|    null|    null|    null|   null| null|  null|      null|      null|      null|      null|    null|     null|     null|    null|     null|     N|      N|      null|\n",
            "|    2009|       1|     51|       P|        Avella, Tony|        K|     2|     ABC|  null|      null|R0000537| 10/5/2006|      null|151-45 Sixth Rd W...|   LLC| null|   null|     null|        M|  New York|   NY|10022|      null|   null|    null|      null|   null|    null|  500|        0|       0|         2|    null|      null|    null|    null|    null|   null| null|  null|      null|      null|      null|      null|    null|     null|     null|    null|     null|     N|      N|      null|\n",
            "|    2009|       1|     51|       P|        Avella, Tony|        K|     2|     ABC|  null|      null|R0000871|11/20/2006|      null|151-45 Sixth Rd W...|   LLC| null|   null|     null|        M|  New York|   NY|10022|      null|   null|    null|      null|   null|    null|  500|        0|     500|         2|    null|      null|    null|    null|    null|   null| null|  null|      null|      null|      null|      null|    null|     null|     null|    null|     null|     N|      N|      null|\n",
            "|    2009|       1|    260|       P|Thompson, Jr., Wi...|        K|     2|     ABC|  null|      null|R0003386|11/11/2006|      null|21st Century Part...|  PART| null|   null|     null|        Z|    Dallas|   TX|75201|      null|   null|    null|      null|   null|    null| 3000|        0|       0|         2|    null|      null|    null|    null|    null|   null| null|  null|      null|      null|      null|      null|    null|     null|     null|    null|     null|     N|      N|      null|\n",
            "|    2009|       1|    260|       P|Thompson, Jr., Wi...|        K|     4|     ABC|  null|      null|R0012362| 10/6/2007|      null|         225 Oak LLC|   LLC| null|   null|     null|        M|  New York|   NY|10028|      null|   null|    null|      null|   null|    null| 1000|        0|       0|         2|    null|      null|    null|    null|    null|   null| null|  null|      null|      null|      null|      null|    null|     null|     null|    null|     null|     N|      N|      null|\n",
            "|    2009|       1|    260|       P|Thompson, Jr., Wi...|        K|     1|     ABC|  null|      null|R0002123|  6/9/2006|      null|260-261 Madison A...|   LLC| null|   null|     null|     null|  New York|   NY| null|      null|   null|    null|      null|   null|    null| 5000|        0|       0|         2|    null|      null|    null|    null|    null|   null| null|  null|      null|      null|      null|      null|    null|     null|     null|    null|     null|     N|      N|      null|\n",
            "|    2009|       1|    260|       P|Thompson, Jr., Wi...|        K|     2|       M|  null|      null|R0002671|  6/9/2006| 7/12/2006|260-261 Madison A...|   LLC| null|   null|     null|     null|  New York|   NY| null|      null|   null|    null|      null|   null|    null|  -50|        0|       0|         0|    null|      null|    null|    null|    null|   null| null|  null|      null|      null|      null|      null|    null|     null|     null|    null|        2|     N|      N|      null|\n",
            "|    2009|       1|     51|       P|        Avella, Tony|        K|     4|     ABC|  null|      null|R0001381| 9/18/2007|      null|346 West 46th Rea...|   LLC| null|   null|     null|        M|  New York|   NY|10036|      null|   null|    null|      null|   null|    null| 2000|        0|       0|         2|    null|      null|    null|    null|    null|   null| null|  null|      null|      null|      null|      null|    null|     null|     null|    null|     null|     N|      N|      null|\n",
            "|    2009|       1|     51|       P|        Avella, Tony|        K|     3|     ABC|  null|      null|R0001271| 6/25/2007|      null|34th Avenue Realt...|   LLC| null|   null|     null|        Q|  Flushing|   NY|11368|      null|   null|    null|      null|   null|    null|  250|        0|       0|         2|    null|      null|    null|    null|    null|   null| null|  null|      null|      null|      null|      null|    null|     null|     null|    null|     null|     N|      N|      null|\n",
            "|    2009|       1|     51|       P|        Avella, Tony|        K|     4|     ABC|  null|      null|R0001621|10/29/2007|      null|34th Avenue Realt...|   LLC| null|   null|     null|        Q|  Flushing|   NY|11368|      null|   null|    null|      null|   null|    null|  500|        0|     250|         2|    null|      null|    null|    null|    null|   null| null|  null|      null|      null|      null|      null|    null|     null|     null|    null|     null|     N|      N|      null|\n",
            "|    2009|       1|    260|       P|Thompson, Jr., Wi...|        K|     4|     ABC|  null|      null|R0012364| 10/6/2007|      null|39-08 103rd Stree...|   LLC| null|   null|     null|        M|  New York|   NY|10030|      null|   null|    null|      null|   null|    null| 1000|        0|       0|         2|    null|      null|    null|    null|    null|   null| null|  null|      null|      null|      null|      null|    null|     null|     null|    null|     null|     N|      N|      null|\n",
            "|    2009|       1|    260|       P|Thompson, Jr., Wi...|        K|     2|     ABC|  null|      null|R0002928| 10/7/2006|      null|      53 West 46 LLC|   LLC| null|   null|     null|        Z|Louisville|   KY|40220|      null|   null|    null|      null|   null|    null| 2000|        0|       0|         2|    null|      null|    null|    null|    null|   null| null|  null|      null|      null|      null|      null|    null|     null|     null|    null|     null|     N|      N|      null|\n",
            "|    2009|       1|    260|       P|Thompson, Jr., Wi...|        K|     2|     ABC|  null|      null|R0003547|11/23/2006|      null|      53 West 46 LLC|   LLC| null|   null|     null|        Z|Louisville|   KY|40220|      null|   null|    null|      null|   null|    null| 4000|        0|    2000|         2|    null|      null|    null|    null|    null|   null| null|  null|      null|      null|      null|      null|    null|     null|     null|    null|     null|     N|      N|      null|\n",
            "|    2009|       1|    260|       P|Thompson, Jr., Wi...|        K|     2|       M|  null|      null|R0003548|11/23/2006|12/20/2006|      53 West 46 LLC|   LLC| null|   null|     null|        Z|Louisville|   KY|40220|      null|   null|    null|      null|   null|    null|-1050|        0|       0|         0|    null|      null|    null|    null|    null|   null| null|  null|      null|      null|      null|      null|    null|     null|     null|    null|        2|     N|      N|      null|\n",
            "|    2009|       1|     51|       P|        Avella, Tony|        K|     2|     ABC|  null|      null|R0000685|10/16/2006|      null|      53 West 46 LLC|   LLC| null|   null|     null|        Z|Louisville|   KY|40220|      null|   null|    null|      null|   null|    null| 1000|        0|       0|         2|    null|      null|    null|    null|    null|   null| null|  null|      null|      null|      null|      null|    null|     null|     null|    null|     null|     N|      N|      null|\n",
            "|    2009|       1|    260|       P|Thompson, Jr., Wi...|        K|     1|     ABC|  null|      null|R0002167| 6/17/2006|      null|  ABO Build-PAC Inc.| PCOMP| null|   null|     null|        M|  New York|   NY|10038|      null|   null|    null|      null|   null|    null| 2500|        0|       0|         2|    null|      null|    null|    null|    null|   null| null|  null|      null|      null|      null|      null|    null|     null|     null|    null|     null|     N|      N|      null|\n",
            "|    2009|       1|    260|       P|Thompson, Jr., Wi...|        K|     2|     ABC|  null|      null|R0003368| 11/4/2006|      null|ACEC New York Cit...| PCOMP| null|   null|     null|        M|  New York|   NY|10165|      null|   null|    null|      null|   null|    null| 1000|        0|       0|         2|    null|      null|    null|    null|    null|   null| null|  null|      null|      null|      null|      null|    null|     null|     null|    null|     null|     N|      N|      null|\n",
            "+--------+--------+-------+--------+--------------------+---------+------+--------+------+----------+--------+----------+----------+--------------------+------+-----+-------+---------+---------+----------+-----+-----+----------+-------+--------+----------+-------+--------+-----+---------+--------+----------+--------+----------+--------+--------+--------+-------+-----+------+----------+----------+----------+----------+--------+---------+---------+--------+---------+------+-------+----------+\n",
            "only showing top 20 rows\n",
            "\n"
          ]
        }
      ]
    },
    {
      "cell_type": "code",
      "metadata": {
        "colab": {
          "base_uri": "https://localhost:8080/"
        },
        "id": "S-dAX_VzLOhL",
        "outputId": "3baa7ecd-574e-4199-9d70-0b5a6963d30f"
      },
      "source": [
        "# Remove multiple columns\n",
        "list = ['COMMITTEE', 'FILING', 'SCHEDULE', 'PAGENO', 'SEQUENCENO','REFNO', 'STRNO', 'STRNAME', 'APARTMENT', 'OCCUPATION', 'EMPNAME', 'EMPSTRNO', 'EMPSTRNAME',\n",
        "                'EMPCITY','REFUNDDATE','INTERMNO', 'INTERMNAME', 'INTSTRNO', 'INTSTRNM', 'INTSTRNM', 'INTAPTNO',\n",
        "                'INTCITY', 'INTST','INTZIP', 'INTEMPNAME', 'INTEMPSTNO', 'INTEMPSTNM', 'INTEMPCITY', 'INTEMPST', 'INTOCCUPA' ,'PURPOSECD', 'EXEMPTCD','ADJTYPECD', 'RR_IND', 'SEG_IND','INT_C_CODE'] \n",
        "df = df.drop(*list)\n",
        "df.show()"
      ],
      "execution_count": 20,
      "outputs": [
        {
          "output_type": "stream",
          "name": "stdout",
          "text": [
            "+--------+--------+-------+--------+--------------------+----------+--------------------+------+---------+----------+-----+-----+--------+-----+---------+--------+----------+\n",
            "|ELECTION|OFFICECD|RECIPID|CANCLASS|           RECIPNAME|      DATE|                NAME|C_CODE|BOROUGHCD|      CITY|STATE|  ZIP|EMPSTATE| AMNT|MATCHAMNT|PREVAMNT|PAY_METHOD|\n",
            "+--------+--------+-------+--------+--------------------+----------+--------------------+------+---------+----------+-----+-----+--------+-----+---------+--------+----------+\n",
            "|    2009|       1|    260|       P|Thompson, Jr., Wi...| 12/1/2007|1 Christopher Rea...|   LLC|        M|  New York|   NY|10014|    null| 1000|        0|       0|         2|\n",
            "|    2009|       1|    260|       P|Thompson, Jr., Wi...|  6/3/2006|1199 SEIU NYS Pol...| PCOMP|        M|  New York|   NY|10036|    null| 4950|        0|       0|         2|\n",
            "|    2009|       1|     51|       P|        Avella, Tony|10/29/2007|126th Place Realt...|   LLC|        Q|  Flushing|   NY|11368|    null|  500|        0|       0|         2|\n",
            "|    2009|       1|    260|       P|Thompson, Jr., Wi...|11/18/2006|126th Place Realt...|   LLC|        Q|    Queens|   NY|11368|    null| 1000|        0|       0|         2|\n",
            "|    2009|       1|     51|       P|        Avella, Tony| 10/5/2006|151-45 Sixth Rd W...|   LLC|        M|  New York|   NY|10022|    null|  500|        0|       0|         2|\n",
            "|    2009|       1|     51|       P|        Avella, Tony|11/20/2006|151-45 Sixth Rd W...|   LLC|        M|  New York|   NY|10022|    null|  500|        0|     500|         2|\n",
            "|    2009|       1|    260|       P|Thompson, Jr., Wi...|11/11/2006|21st Century Part...|  PART|        Z|    Dallas|   TX|75201|    null| 3000|        0|       0|         2|\n",
            "|    2009|       1|    260|       P|Thompson, Jr., Wi...| 10/6/2007|         225 Oak LLC|   LLC|        M|  New York|   NY|10028|    null| 1000|        0|       0|         2|\n",
            "|    2009|       1|    260|       P|Thompson, Jr., Wi...|  6/9/2006|260-261 Madison A...|   LLC|     null|  New York|   NY| null|    null| 5000|        0|       0|         2|\n",
            "|    2009|       1|    260|       P|Thompson, Jr., Wi...|  6/9/2006|260-261 Madison A...|   LLC|     null|  New York|   NY| null|    null|  -50|        0|       0|         0|\n",
            "|    2009|       1|     51|       P|        Avella, Tony| 9/18/2007|346 West 46th Rea...|   LLC|        M|  New York|   NY|10036|    null| 2000|        0|       0|         2|\n",
            "|    2009|       1|     51|       P|        Avella, Tony| 6/25/2007|34th Avenue Realt...|   LLC|        Q|  Flushing|   NY|11368|    null|  250|        0|       0|         2|\n",
            "|    2009|       1|     51|       P|        Avella, Tony|10/29/2007|34th Avenue Realt...|   LLC|        Q|  Flushing|   NY|11368|    null|  500|        0|     250|         2|\n",
            "|    2009|       1|    260|       P|Thompson, Jr., Wi...| 10/6/2007|39-08 103rd Stree...|   LLC|        M|  New York|   NY|10030|    null| 1000|        0|       0|         2|\n",
            "|    2009|       1|    260|       P|Thompson, Jr., Wi...| 10/7/2006|      53 West 46 LLC|   LLC|        Z|Louisville|   KY|40220|    null| 2000|        0|       0|         2|\n",
            "|    2009|       1|    260|       P|Thompson, Jr., Wi...|11/23/2006|      53 West 46 LLC|   LLC|        Z|Louisville|   KY|40220|    null| 4000|        0|    2000|         2|\n",
            "|    2009|       1|    260|       P|Thompson, Jr., Wi...|11/23/2006|      53 West 46 LLC|   LLC|        Z|Louisville|   KY|40220|    null|-1050|        0|       0|         0|\n",
            "|    2009|       1|     51|       P|        Avella, Tony|10/16/2006|      53 West 46 LLC|   LLC|        Z|Louisville|   KY|40220|    null| 1000|        0|       0|         2|\n",
            "|    2009|       1|    260|       P|Thompson, Jr., Wi...| 6/17/2006|  ABO Build-PAC Inc.| PCOMP|        M|  New York|   NY|10038|    null| 2500|        0|       0|         2|\n",
            "|    2009|       1|    260|       P|Thompson, Jr., Wi...| 11/4/2006|ACEC New York Cit...| PCOMP|        M|  New York|   NY|10165|    null| 1000|        0|       0|         2|\n",
            "+--------+--------+-------+--------+--------------------+----------+--------------------+------+---------+----------+-----+-----+--------+-----+---------+--------+----------+\n",
            "only showing top 20 rows\n",
            "\n"
          ]
        }
      ]
    },
    {
      "cell_type": "code",
      "metadata": {
        "colab": {
          "base_uri": "https://localhost:8080/"
        },
        "id": "btba2GO-LOhL",
        "outputId": "a381b4b4-b32d-43f1-ed72-16e669e97258"
      },
      "source": [
        "# check data types\n",
        "df.dtypes"
      ],
      "execution_count": 21,
      "outputs": [
        {
          "output_type": "execute_result",
          "data": {
            "text/plain": [
              "[('ELECTION', 'string'),\n",
              " ('OFFICECD', 'string'),\n",
              " ('RECIPID', 'string'),\n",
              " ('CANCLASS', 'string'),\n",
              " ('RECIPNAME', 'string'),\n",
              " ('DATE', 'string'),\n",
              " ('NAME', 'string'),\n",
              " ('C_CODE', 'string'),\n",
              " ('BOROUGHCD', 'string'),\n",
              " ('CITY', 'string'),\n",
              " ('STATE', 'string'),\n",
              " ('ZIP', 'string'),\n",
              " ('EMPSTATE', 'string'),\n",
              " ('AMNT', 'string'),\n",
              " ('MATCHAMNT', 'string'),\n",
              " ('PREVAMNT', 'string'),\n",
              " ('PAY_METHOD', 'string')]"
            ]
          },
          "metadata": {},
          "execution_count": 21
        }
      ]
    },
    {
      "cell_type": "code",
      "metadata": {
        "colab": {
          "base_uri": "https://localhost:8080/"
        },
        "id": "U3HO9e01LOhL",
        "outputId": "bfe9ae08-55ec-45e3-b572-17e12439a886"
      },
      "source": [
        "#Change column names\n",
        "df1 = df \\\n",
        ".withColumnRenamed(\"ELECTION\", \"Election\") \\\n",
        ".withColumnRenamed(\"RECIPID\", \"CandidateID\") \\\n",
        ".withColumnRenamed(\"RECIPNAME\", \"CandidateName\") \\\n",
        ".withColumnRenamed(\"DATE\", \"Date\") \\\n",
        ".withColumnRenamed(\"NAME\", \"Name\") \\\n",
        ".withColumnRenamed(\"C_CODE\", \"ContributerType\") \\\n",
        ".withColumnRenamed(\"BOROUGHCD\", \"BoroughName\") \\\n",
        ".withColumnRenamed(\"CITY\", \"City\") \\\n",
        ".withColumnRenamed(\"STATE\", \"State\") \\\n",
        ".withColumnRenamed(\"ZIP\", \"ZipCode\") \\\n",
        ".withColumnRenamed(\"EMPSTATE\", \"ContributionState\") \\\n",
        ".withColumnRenamed(\"AMNT\", \"Amount\") \\\n",
        ".withColumnRenamed(\"MATCHAMNT\", \"MatchAmt\") \\\n",
        ".withColumnRenamed(\"PREVAMNT\", \"PrevAmt\") \\\n",
        ".withColumnRenamed(\"PAY_METHOD\", \"PayMethod\") \n",
        "\n",
        "df1.printSchema()"
      ],
      "execution_count": 22,
      "outputs": [
        {
          "output_type": "stream",
          "name": "stdout",
          "text": [
            "root\n",
            " |-- Election: string (nullable = true)\n",
            " |-- OFFICECD: string (nullable = true)\n",
            " |-- CandidateID: string (nullable = true)\n",
            " |-- CANCLASS: string (nullable = true)\n",
            " |-- CandidateName: string (nullable = true)\n",
            " |-- Date: string (nullable = true)\n",
            " |-- Name: string (nullable = true)\n",
            " |-- ContributerType: string (nullable = true)\n",
            " |-- BoroughName: string (nullable = true)\n",
            " |-- City: string (nullable = true)\n",
            " |-- State: string (nullable = true)\n",
            " |-- ZipCode: string (nullable = true)\n",
            " |-- ContributionState: string (nullable = true)\n",
            " |-- Amount: string (nullable = true)\n",
            " |-- MatchAmt: string (nullable = true)\n",
            " |-- PrevAmt: string (nullable = true)\n",
            " |-- PayMethod: string (nullable = true)\n",
            "\n"
          ]
        }
      ]
    },
    {
      "cell_type": "code",
      "metadata": {
        "colab": {
          "base_uri": "https://localhost:8080/"
        },
        "id": "NuvQvwOFLOhM",
        "outputId": "2e2663ef-4338-4ec1-e8f3-f245160440f1"
      },
      "source": [
        "# changing datatypes of columns\n",
        "df2 = df1 \\\n",
        "  .withColumn(\"Election\",df1[\"Election\"].cast(\"Integer\")) \\\n",
        "  .withColumn(\"OFFICECD\", df1[\"OFFICECD\"].cast(\"Integer\")) \\\n",
        "  .withColumn(\"CandidateID\", df1[\"CandidateID\"].cast(\"Integer\")) \\\n",
        "  .withColumn(\"ZipCode\", df1[\"ZipCode\"].cast(\"Integer\")) \\\n",
        "  .withColumn(\"Amount\", df1[\"Amount\"].cast(\"Float\")) \\\n",
        "  .withColumn(\"MatchAmt\", df1[\"MatchAmt\"].cast(\"Float\")) \\\n",
        "  .withColumn(\"PrevAmt\", df1[\"PrevAmt\"].cast(\"Float\")) \\\n",
        "  .withColumn(\"Date\", df1[\"Date\"].cast(\"Date\")) \\\n",
        "  \n",
        "df2.printSchema()"
      ],
      "execution_count": 23,
      "outputs": [
        {
          "output_type": "stream",
          "name": "stdout",
          "text": [
            "root\n",
            " |-- Election: integer (nullable = true)\n",
            " |-- OFFICECD: integer (nullable = true)\n",
            " |-- CandidateID: integer (nullable = true)\n",
            " |-- CANCLASS: string (nullable = true)\n",
            " |-- CandidateName: string (nullable = true)\n",
            " |-- Date: date (nullable = true)\n",
            " |-- Name: string (nullable = true)\n",
            " |-- ContributerType: string (nullable = true)\n",
            " |-- BoroughName: string (nullable = true)\n",
            " |-- City: string (nullable = true)\n",
            " |-- State: string (nullable = true)\n",
            " |-- ZipCode: integer (nullable = true)\n",
            " |-- ContributionState: string (nullable = true)\n",
            " |-- Amount: float (nullable = true)\n",
            " |-- MatchAmt: float (nullable = true)\n",
            " |-- PrevAmt: float (nullable = true)\n",
            " |-- PayMethod: string (nullable = true)\n",
            "\n"
          ]
        }
      ]
    },
    {
      "cell_type": "code",
      "metadata": {
        "id": "qa6S4he5LOhM"
      },
      "source": [
        "#Change vaule name in ContributerType\n",
        "from pyspark.sql.functions import regexp_replace\n",
        "df3 = df2.withColumn('ContributerType', regexp_replace('ContributerType', 'CAN', 'Candidate')) \\\n",
        "  .withColumn('ContributerType', regexp_replace('ContributerType', 'CORP', 'Corporation')) \\\n",
        "  .withColumn('ContributerType', regexp_replace('ContributerType', 'EMPO', 'Labor Union')) \\\n",
        "  .withColumn('ContributerType', regexp_replace('ContributerType', 'FAM', 'Candidate Family')) \\\n",
        "  .withColumn('ContributerType', regexp_replace('ContributerType', 'IND', 'Individual')) \\\n",
        "  .withColumn('ContributerType', regexp_replace('ContributerType', 'PCOMZ', 'Party Committee')) \\\n",
        "  .withColumn('ContributerType', regexp_replace('ContributerType', 'ORG', 'Orgainization')) \\\n",
        "  .withColumn('ContributerType', regexp_replace('ContributerType', 'LLC', 'Limited Liability Company')) \\\n",
        "  .withColumn('ContributerType', regexp_replace('ContributerType', 'PCOMP', 'Political Action Committee')) \\\n",
        "  .withColumn('ContributerType', regexp_replace('ContributerType', 'SPO', 'Spouse')) \\\n",
        "  .withColumn('ContributerType', regexp_replace('ContributerType', 'OTHR', 'Other')) \\\n",
        "  .withColumn('ContributerType', regexp_replace('ContributerType', 'PCOMC', 'Candidate Committee')) \\\n",
        "  .withColumn('ContributerType', regexp_replace('ContributerType', 'PART', 'Individual')) \\\n"
      ],
      "execution_count": 24,
      "outputs": []
    },
    {
      "cell_type": "code",
      "metadata": {
        "id": "HKU4a2YeLOhM"
      },
      "source": [
        "#Change Payment Method Name\n",
        "df4=df3.withColumn('PayMethod', regexp_replace('PayMethod','0','Unknown')) \\\n",
        "  .withColumn('PayMethod', regexp_replace('PayMethod','1','Cash')) \\\n",
        "  .withColumn('PayMethod', regexp_replace('PayMethod','2','Check')) \\\n",
        "  .withColumn('PayMethod', regexp_replace('PayMethod','3','Other')) \\\n",
        "  .withColumn('PayMethod', regexp_replace('PayMethod','4','Credit Card')) \\\n",
        "  .withColumn('PayMethod', regexp_replace('PayMethod','5','Money Order')) \\"
      ],
      "execution_count": 25,
      "outputs": []
    },
    {
      "cell_type": "code",
      "metadata": {
        "id": "trH99qC5LOhM"
      },
      "source": [
        "#Change Borough name\n",
        "from pyspark.sql.functions import regexp_replace\n",
        "df5 = df4.withColumn('BoroughName', regexp_replace('BoroughName', 'K', 'Brooklyn')) \\\n",
        "  .withColumn('BoroughName', regexp_replace('BoroughName', 'M', 'Manhattan')) \\\n",
        "  .withColumn('BoroughName', regexp_replace('BoroughName', 'Q', 'Queens')) \\\n",
        "  .withColumn('BoroughName', regexp_replace('BoroughName', 'S', 'Staten Island')) \\\n",
        "  .withColumn('BoroughName', regexp_replace('BoroughName', 'X', 'Bronx')) \\\n",
        "  .withColumn('BoroughName', regexp_replace('BoroughName', 'Z', 'Other')) \\\n"
      ],
      "execution_count": 26,
      "outputs": []
    },
    {
      "cell_type": "code",
      "metadata": {
        "colab": {
          "base_uri": "https://localhost:8080/"
        },
        "id": "wO9XHx_6LOhM",
        "outputId": "f363385d-afde-41ee-8735-6ee2b981397b"
      },
      "source": [
        "#Call only Mayor (1) and particaptes (P) within Dataframe\n",
        "df6 = df5.filter((df5.OFFICECD==\"1\") & (df5.CANCLASS==\"P\"))\n",
        "df6.show()"
      ],
      "execution_count": 27,
      "outputs": [
        {
          "output_type": "stream",
          "name": "stdout",
          "text": [
            "+--------+--------+-----------+--------+--------------------+----+--------------------+--------------------+-----------+----------+-----+-------+-----------------+-------+--------+-------+---------+\n",
            "|Election|OFFICECD|CandidateID|CANCLASS|       CandidateName|Date|                Name|     ContributerType|BoroughName|      City|State|ZipCode|ContributionState| Amount|MatchAmt|PrevAmt|PayMethod|\n",
            "+--------+--------+-----------+--------+--------------------+----+--------------------+--------------------+-----------+----------+-----+-------+-----------------+-------+--------+-------+---------+\n",
            "|    2009|       1|        260|       P|Thompson, Jr., Wi...|null|1 Christopher Rea...|Limited Liability...|  Manhattan|  New York|   NY|  10014|             null| 1000.0|     0.0|    0.0|    Check|\n",
            "|    2009|       1|        260|       P|Thompson, Jr., Wi...|null|1199 SEIU NYS Pol...|Political Action ...|  Manhattan|  New York|   NY|  10036|             null| 4950.0|     0.0|    0.0|    Check|\n",
            "|    2009|       1|         51|       P|        Avella, Tony|null|126th Place Realt...|Limited Liability...|     Queens|  Flushing|   NY|  11368|             null|  500.0|     0.0|    0.0|    Check|\n",
            "|    2009|       1|        260|       P|Thompson, Jr., Wi...|null|126th Place Realt...|Limited Liability...|     Queens|    Queens|   NY|  11368|             null| 1000.0|     0.0|    0.0|    Check|\n",
            "|    2009|       1|         51|       P|        Avella, Tony|null|151-45 Sixth Rd W...|Limited Liability...|  Manhattan|  New York|   NY|  10022|             null|  500.0|     0.0|    0.0|    Check|\n",
            "|    2009|       1|         51|       P|        Avella, Tony|null|151-45 Sixth Rd W...|Limited Liability...|  Manhattan|  New York|   NY|  10022|             null|  500.0|     0.0|  500.0|    Check|\n",
            "|    2009|       1|        260|       P|Thompson, Jr., Wi...|null|21st Century Part...|          Individual|      Other|    Dallas|   TX|  75201|             null| 3000.0|     0.0|    0.0|    Check|\n",
            "|    2009|       1|        260|       P|Thompson, Jr., Wi...|null|         225 Oak LLC|Limited Liability...|  Manhattan|  New York|   NY|  10028|             null| 1000.0|     0.0|    0.0|    Check|\n",
            "|    2009|       1|        260|       P|Thompson, Jr., Wi...|null|260-261 Madison A...|Limited Liability...|       null|  New York|   NY|   null|             null| 5000.0|     0.0|    0.0|    Check|\n",
            "|    2009|       1|        260|       P|Thompson, Jr., Wi...|null|260-261 Madison A...|Limited Liability...|       null|  New York|   NY|   null|             null|  -50.0|     0.0|    0.0|  Unknown|\n",
            "|    2009|       1|         51|       P|        Avella, Tony|null|346 West 46th Rea...|Limited Liability...|  Manhattan|  New York|   NY|  10036|             null| 2000.0|     0.0|    0.0|    Check|\n",
            "|    2009|       1|         51|       P|        Avella, Tony|null|34th Avenue Realt...|Limited Liability...|     Queens|  Flushing|   NY|  11368|             null|  250.0|     0.0|    0.0|    Check|\n",
            "|    2009|       1|         51|       P|        Avella, Tony|null|34th Avenue Realt...|Limited Liability...|     Queens|  Flushing|   NY|  11368|             null|  500.0|     0.0|  250.0|    Check|\n",
            "|    2009|       1|        260|       P|Thompson, Jr., Wi...|null|39-08 103rd Stree...|Limited Liability...|  Manhattan|  New York|   NY|  10030|             null| 1000.0|     0.0|    0.0|    Check|\n",
            "|    2009|       1|        260|       P|Thompson, Jr., Wi...|null|      53 West 46 LLC|Limited Liability...|      Other|Louisville|   KY|  40220|             null| 2000.0|     0.0|    0.0|    Check|\n",
            "|    2009|       1|        260|       P|Thompson, Jr., Wi...|null|      53 West 46 LLC|Limited Liability...|      Other|Louisville|   KY|  40220|             null| 4000.0|     0.0| 2000.0|    Check|\n",
            "|    2009|       1|        260|       P|Thompson, Jr., Wi...|null|      53 West 46 LLC|Limited Liability...|      Other|Louisville|   KY|  40220|             null|-1050.0|     0.0|    0.0|  Unknown|\n",
            "|    2009|       1|         51|       P|        Avella, Tony|null|      53 West 46 LLC|Limited Liability...|      Other|Louisville|   KY|  40220|             null| 1000.0|     0.0|    0.0|    Check|\n",
            "|    2009|       1|        260|       P|Thompson, Jr., Wi...|null|  ABO Build-PAC Inc.|Political Action ...|  Manhattan|  New York|   NY|  10038|             null| 2500.0|     0.0|    0.0|    Check|\n",
            "|    2009|       1|        260|       P|Thompson, Jr., Wi...|null|ACEC New York Cit...|Political Action ...|  Manhattan|  New York|   NY|  10165|             null| 1000.0|     0.0|    0.0|    Check|\n",
            "+--------+--------+-----------+--------+--------------------+----+--------------------+--------------------+-----------+----------+-----+-------+-----------------+-------+--------+-------+---------+\n",
            "only showing top 20 rows\n",
            "\n"
          ]
        }
      ]
    },
    {
      "cell_type": "code",
      "metadata": {
        "colab": {
          "base_uri": "https://localhost:8080/"
        },
        "id": "nEmNuKUFLOhM",
        "outputId": "8db12777-5aea-4de1-ed50-eae9061e81b4"
      },
      "source": [
        "#Check the above dataframe to make sure only unique values between the OFFICECD is 1 \n",
        "df6.select('OFFICECD').distinct().show()"
      ],
      "execution_count": 28,
      "outputs": [
        {
          "output_type": "stream",
          "name": "stdout",
          "text": [
            "+--------+\n",
            "|OFFICECD|\n",
            "+--------+\n",
            "|       1|\n",
            "+--------+\n",
            "\n"
          ]
        }
      ]
    },
    {
      "cell_type": "code",
      "metadata": {
        "colab": {
          "base_uri": "https://localhost:8080/"
        },
        "id": "Myx_AWPaLOhM",
        "outputId": "465da81d-b32f-4a62-ed03-b80010f09307"
      },
      "source": [
        "#Drop OFFICECD and CANCLASS\n",
        "list2 = ['OFFICECD', 'CANCLASS'] \n",
        "df7 = df6.drop(*list2)\n",
        "df7.show()"
      ],
      "execution_count": 29,
      "outputs": [
        {
          "output_type": "stream",
          "name": "stdout",
          "text": [
            "+--------+-----------+--------------------+----+--------------------+--------------------+-----------+----------+-----+-------+-----------------+-------+--------+-------+---------+\n",
            "|Election|CandidateID|       CandidateName|Date|                Name|     ContributerType|BoroughName|      City|State|ZipCode|ContributionState| Amount|MatchAmt|PrevAmt|PayMethod|\n",
            "+--------+-----------+--------------------+----+--------------------+--------------------+-----------+----------+-----+-------+-----------------+-------+--------+-------+---------+\n",
            "|    2009|        260|Thompson, Jr., Wi...|null|1 Christopher Rea...|Limited Liability...|  Manhattan|  New York|   NY|  10014|             null| 1000.0|     0.0|    0.0|    Check|\n",
            "|    2009|        260|Thompson, Jr., Wi...|null|1199 SEIU NYS Pol...|Political Action ...|  Manhattan|  New York|   NY|  10036|             null| 4950.0|     0.0|    0.0|    Check|\n",
            "|    2009|         51|        Avella, Tony|null|126th Place Realt...|Limited Liability...|     Queens|  Flushing|   NY|  11368|             null|  500.0|     0.0|    0.0|    Check|\n",
            "|    2009|        260|Thompson, Jr., Wi...|null|126th Place Realt...|Limited Liability...|     Queens|    Queens|   NY|  11368|             null| 1000.0|     0.0|    0.0|    Check|\n",
            "|    2009|         51|        Avella, Tony|null|151-45 Sixth Rd W...|Limited Liability...|  Manhattan|  New York|   NY|  10022|             null|  500.0|     0.0|    0.0|    Check|\n",
            "|    2009|         51|        Avella, Tony|null|151-45 Sixth Rd W...|Limited Liability...|  Manhattan|  New York|   NY|  10022|             null|  500.0|     0.0|  500.0|    Check|\n",
            "|    2009|        260|Thompson, Jr., Wi...|null|21st Century Part...|          Individual|      Other|    Dallas|   TX|  75201|             null| 3000.0|     0.0|    0.0|    Check|\n",
            "|    2009|        260|Thompson, Jr., Wi...|null|         225 Oak LLC|Limited Liability...|  Manhattan|  New York|   NY|  10028|             null| 1000.0|     0.0|    0.0|    Check|\n",
            "|    2009|        260|Thompson, Jr., Wi...|null|260-261 Madison A...|Limited Liability...|       null|  New York|   NY|   null|             null| 5000.0|     0.0|    0.0|    Check|\n",
            "|    2009|        260|Thompson, Jr., Wi...|null|260-261 Madison A...|Limited Liability...|       null|  New York|   NY|   null|             null|  -50.0|     0.0|    0.0|  Unknown|\n",
            "|    2009|         51|        Avella, Tony|null|346 West 46th Rea...|Limited Liability...|  Manhattan|  New York|   NY|  10036|             null| 2000.0|     0.0|    0.0|    Check|\n",
            "|    2009|         51|        Avella, Tony|null|34th Avenue Realt...|Limited Liability...|     Queens|  Flushing|   NY|  11368|             null|  250.0|     0.0|    0.0|    Check|\n",
            "|    2009|         51|        Avella, Tony|null|34th Avenue Realt...|Limited Liability...|     Queens|  Flushing|   NY|  11368|             null|  500.0|     0.0|  250.0|    Check|\n",
            "|    2009|        260|Thompson, Jr., Wi...|null|39-08 103rd Stree...|Limited Liability...|  Manhattan|  New York|   NY|  10030|             null| 1000.0|     0.0|    0.0|    Check|\n",
            "|    2009|        260|Thompson, Jr., Wi...|null|      53 West 46 LLC|Limited Liability...|      Other|Louisville|   KY|  40220|             null| 2000.0|     0.0|    0.0|    Check|\n",
            "|    2009|        260|Thompson, Jr., Wi...|null|      53 West 46 LLC|Limited Liability...|      Other|Louisville|   KY|  40220|             null| 4000.0|     0.0| 2000.0|    Check|\n",
            "|    2009|        260|Thompson, Jr., Wi...|null|      53 West 46 LLC|Limited Liability...|      Other|Louisville|   KY|  40220|             null|-1050.0|     0.0|    0.0|  Unknown|\n",
            "|    2009|         51|        Avella, Tony|null|      53 West 46 LLC|Limited Liability...|      Other|Louisville|   KY|  40220|             null| 1000.0|     0.0|    0.0|    Check|\n",
            "|    2009|        260|Thompson, Jr., Wi...|null|  ABO Build-PAC Inc.|Political Action ...|  Manhattan|  New York|   NY|  10038|             null| 2500.0|     0.0|    0.0|    Check|\n",
            "|    2009|        260|Thompson, Jr., Wi...|null|ACEC New York Cit...|Political Action ...|  Manhattan|  New York|   NY|  10165|             null| 1000.0|     0.0|    0.0|    Check|\n",
            "+--------+-----------+--------------------+----+--------------------+--------------------+-----------+----------+-----+-------+-----------------+-------+--------+-------+---------+\n",
            "only showing top 20 rows\n",
            "\n"
          ]
        }
      ]
    },
    {
      "cell_type": "code",
      "metadata": {
        "colab": {
          "base_uri": "https://localhost:8080/"
        },
        "id": "Uci_zuD5LOhM",
        "outputId": "561f0d9c-d4e8-4596-bfab-4aa0483f6e53"
      },
      "source": [
        "# ADD AMNT and MATCHAMNT PrevAmnt\n",
        "from pyspark.sql.functions import col\n",
        "df8 = df7.withColumn(\"TotalAmount\", col(\"Amount\")+col(\"MatchAmt\")+col('PrevAmt'))\n",
        "df8.show()"
      ],
      "execution_count": 30,
      "outputs": [
        {
          "output_type": "stream",
          "name": "stdout",
          "text": [
            "+--------+-----------+--------------------+----+--------------------+--------------------+-----------+----------+-----+-------+-----------------+-------+--------+-------+---------+-----------+\n",
            "|Election|CandidateID|       CandidateName|Date|                Name|     ContributerType|BoroughName|      City|State|ZipCode|ContributionState| Amount|MatchAmt|PrevAmt|PayMethod|TotalAmount|\n",
            "+--------+-----------+--------------------+----+--------------------+--------------------+-----------+----------+-----+-------+-----------------+-------+--------+-------+---------+-----------+\n",
            "|    2009|        260|Thompson, Jr., Wi...|null|1 Christopher Rea...|Limited Liability...|  Manhattan|  New York|   NY|  10014|             null| 1000.0|     0.0|    0.0|    Check|     1000.0|\n",
            "|    2009|        260|Thompson, Jr., Wi...|null|1199 SEIU NYS Pol...|Political Action ...|  Manhattan|  New York|   NY|  10036|             null| 4950.0|     0.0|    0.0|    Check|     4950.0|\n",
            "|    2009|         51|        Avella, Tony|null|126th Place Realt...|Limited Liability...|     Queens|  Flushing|   NY|  11368|             null|  500.0|     0.0|    0.0|    Check|      500.0|\n",
            "|    2009|        260|Thompson, Jr., Wi...|null|126th Place Realt...|Limited Liability...|     Queens|    Queens|   NY|  11368|             null| 1000.0|     0.0|    0.0|    Check|     1000.0|\n",
            "|    2009|         51|        Avella, Tony|null|151-45 Sixth Rd W...|Limited Liability...|  Manhattan|  New York|   NY|  10022|             null|  500.0|     0.0|    0.0|    Check|      500.0|\n",
            "|    2009|         51|        Avella, Tony|null|151-45 Sixth Rd W...|Limited Liability...|  Manhattan|  New York|   NY|  10022|             null|  500.0|     0.0|  500.0|    Check|     1000.0|\n",
            "|    2009|        260|Thompson, Jr., Wi...|null|21st Century Part...|          Individual|      Other|    Dallas|   TX|  75201|             null| 3000.0|     0.0|    0.0|    Check|     3000.0|\n",
            "|    2009|        260|Thompson, Jr., Wi...|null|         225 Oak LLC|Limited Liability...|  Manhattan|  New York|   NY|  10028|             null| 1000.0|     0.0|    0.0|    Check|     1000.0|\n",
            "|    2009|        260|Thompson, Jr., Wi...|null|260-261 Madison A...|Limited Liability...|       null|  New York|   NY|   null|             null| 5000.0|     0.0|    0.0|    Check|     5000.0|\n",
            "|    2009|        260|Thompson, Jr., Wi...|null|260-261 Madison A...|Limited Liability...|       null|  New York|   NY|   null|             null|  -50.0|     0.0|    0.0|  Unknown|      -50.0|\n",
            "|    2009|         51|        Avella, Tony|null|346 West 46th Rea...|Limited Liability...|  Manhattan|  New York|   NY|  10036|             null| 2000.0|     0.0|    0.0|    Check|     2000.0|\n",
            "|    2009|         51|        Avella, Tony|null|34th Avenue Realt...|Limited Liability...|     Queens|  Flushing|   NY|  11368|             null|  250.0|     0.0|    0.0|    Check|      250.0|\n",
            "|    2009|         51|        Avella, Tony|null|34th Avenue Realt...|Limited Liability...|     Queens|  Flushing|   NY|  11368|             null|  500.0|     0.0|  250.0|    Check|      750.0|\n",
            "|    2009|        260|Thompson, Jr., Wi...|null|39-08 103rd Stree...|Limited Liability...|  Manhattan|  New York|   NY|  10030|             null| 1000.0|     0.0|    0.0|    Check|     1000.0|\n",
            "|    2009|        260|Thompson, Jr., Wi...|null|      53 West 46 LLC|Limited Liability...|      Other|Louisville|   KY|  40220|             null| 2000.0|     0.0|    0.0|    Check|     2000.0|\n",
            "|    2009|        260|Thompson, Jr., Wi...|null|      53 West 46 LLC|Limited Liability...|      Other|Louisville|   KY|  40220|             null| 4000.0|     0.0| 2000.0|    Check|     6000.0|\n",
            "|    2009|        260|Thompson, Jr., Wi...|null|      53 West 46 LLC|Limited Liability...|      Other|Louisville|   KY|  40220|             null|-1050.0|     0.0|    0.0|  Unknown|    -1050.0|\n",
            "|    2009|         51|        Avella, Tony|null|      53 West 46 LLC|Limited Liability...|      Other|Louisville|   KY|  40220|             null| 1000.0|     0.0|    0.0|    Check|     1000.0|\n",
            "|    2009|        260|Thompson, Jr., Wi...|null|  ABO Build-PAC Inc.|Political Action ...|  Manhattan|  New York|   NY|  10038|             null| 2500.0|     0.0|    0.0|    Check|     2500.0|\n",
            "|    2009|        260|Thompson, Jr., Wi...|null|ACEC New York Cit...|Political Action ...|  Manhattan|  New York|   NY|  10165|             null| 1000.0|     0.0|    0.0|    Check|     1000.0|\n",
            "+--------+-----------+--------------------+----+--------------------+--------------------+-----------+----------+-----+-------+-----------------+-------+--------+-------+---------+-----------+\n",
            "only showing top 20 rows\n",
            "\n"
          ]
        }
      ]
    },
    {
      "cell_type": "code",
      "metadata": {
        "id": "S3PsGBmTLOhN"
      },
      "source": [
        ""
      ],
      "execution_count": 30,
      "outputs": []
    }
  ]
}