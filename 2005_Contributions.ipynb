{
  "nbformat": 4,
  "nbformat_minor": 0,
  "metadata": {
    "colab": {
      "name": "2005_Contributions.ipynb",
      "provenance": [],
      "collapsed_sections": [],
      "authorship_tag": "ABX9TyM2Xd86dmjfevusL15miEk8",
      "include_colab_link": true
    },
    "kernelspec": {
      "name": "python3",
      "display_name": "Python 3"
    },
    "language_info": {
      "name": "python"
    }
  },
  "cells": [
    {
      "cell_type": "markdown",
      "metadata": {
        "id": "view-in-github",
        "colab_type": "text"
      },
      "source": [
        "<a href=\"https://colab.research.google.com/github/ssheggrud/Mod_20_Project/blob/05_Riley/2005_Contributions.ipynb\" target=\"_parent\"><img src=\"https://colab.research.google.com/assets/colab-badge.svg\" alt=\"Open In Colab\"/></a>"
      ]
    },
    {
      "cell_type": "markdown",
      "metadata": {
        "id": "qo0_SOu8LIEc"
      },
      "source": [
        "## **2005 Indivdual Contributions**"
      ]
    },
    {
      "cell_type": "code",
      "metadata": {
        "colab": {
          "base_uri": "https://localhost:8080/"
        },
        "id": "ddn5mqQ0M_R3",
        "outputId": "ae3ec194-3296-4fc3-94a5-a203529dd4f0"
      },
      "source": [
        "import os\n",
        "# Find the latest version of spark 3.0 from http://www.apache.org/dist/spark/ and enter as the spark version\n",
        "# For example:\n",
        "spark_version = 'spark-3.0.3'\n",
        "#spark_version = 'spark-2.4.8'\n",
        "os.environ['SPARK_VERSION']=spark_version\n",
        "\n",
        "# Install Spark and Java\n",
        "!apt-get update\n",
        "!apt-get install openjdk-11-jdk-headless -qq > /dev/null\n",
        "!wget -q http://www.apache.org/dist/spark/$SPARK_VERSION/$SPARK_VERSION-bin-hadoop2.7.tgz\n",
        "!tar xf $SPARK_VERSION-bin-hadoop2.7.tgz\n",
        "!pip install -q findspark\n",
        "\n",
        "# Set Environment Variables\n",
        "import os\n",
        "os.environ[\"JAVA_HOME\"] = \"/usr/lib/jvm/java-11-openjdk-amd64\"\n",
        "os.environ[\"SPARK_HOME\"] = f\"/content/{spark_version}-bin-hadoop2.7\"\n",
        "\n",
        "# Start a SparkSession\n",
        "import findspark\n",
        "findspark.init()\n",
        "\n",
        "import pandas as pd\n"
      ],
      "execution_count": 1,
      "outputs": [
        {
          "output_type": "stream",
          "name": "stdout",
          "text": [
            "Get:1 http://security.ubuntu.com/ubuntu bionic-security InRelease [88.7 kB]\n",
            "Ign:2 https://developer.download.nvidia.com/compute/cuda/repos/ubuntu1804/x86_64  InRelease\n",
            "Get:3 http://ppa.launchpad.net/c2d4u.team/c2d4u4.0+/ubuntu bionic InRelease [15.9 kB]\n",
            "Ign:4 https://developer.download.nvidia.com/compute/machine-learning/repos/ubuntu1804/x86_64  InRelease\n",
            "Get:5 https://cloud.r-project.org/bin/linux/ubuntu bionic-cran40/ InRelease [3,626 B]\n",
            "Hit:6 https://developer.download.nvidia.com/compute/cuda/repos/ubuntu1804/x86_64  Release\n",
            "Hit:7 https://developer.download.nvidia.com/compute/machine-learning/repos/ubuntu1804/x86_64  Release\n",
            "Hit:8 http://archive.ubuntu.com/ubuntu bionic InRelease\n",
            "Get:9 http://archive.ubuntu.com/ubuntu bionic-updates InRelease [88.7 kB]\n",
            "Hit:10 http://ppa.launchpad.net/cran/libgit2/ubuntu bionic InRelease\n",
            "Get:11 http://security.ubuntu.com/ubuntu bionic-security/main amd64 Packages [2,326 kB]\n",
            "Hit:12 http://ppa.launchpad.net/deadsnakes/ppa/ubuntu bionic InRelease\n",
            "Get:13 http://archive.ubuntu.com/ubuntu bionic-backports InRelease [74.6 kB]\n",
            "Get:14 http://security.ubuntu.com/ubuntu bionic-security/universe amd64 Packages [1,428 kB]\n",
            "Hit:15 http://ppa.launchpad.net/graphics-drivers/ppa/ubuntu bionic InRelease\n",
            "Get:18 http://ppa.launchpad.net/c2d4u.team/c2d4u4.0+/ubuntu bionic/main Sources [1,800 kB]\n",
            "Get:19 http://archive.ubuntu.com/ubuntu bionic-updates/main amd64 Packages [2,761 kB]\n",
            "Get:20 http://ppa.launchpad.net/c2d4u.team/c2d4u4.0+/ubuntu bionic/main amd64 Packages [921 kB]\n",
            "Get:21 http://archive.ubuntu.com/ubuntu bionic-updates/universe amd64 Packages [2,202 kB]\n",
            "Fetched 11.7 MB in 4s (2,680 kB/s)\n",
            "Reading package lists... Done\n"
          ]
        }
      ]
    },
    {
      "cell_type": "code",
      "metadata": {
        "id": "jiP19KLKCpxR"
      },
      "source": [
        "import findspark\n",
        "findspark.add_packages('mysql:mysql-connector-java:8.0.11')"
      ],
      "execution_count": 2,
      "outputs": []
    },
    {
      "cell_type": "code",
      "metadata": {
        "colab": {
          "base_uri": "https://localhost:8080/"
        },
        "id": "B9Dd_JabNFZU",
        "outputId": "889065ce-5d6d-4b6e-e901-bae7e8900087"
      },
      "source": [
        "# Download the Postgres driver that will allow Spark to interact with Postgres.\n",
        "!wget https://jdbc.postgresql.org/download/postgresql-42.2.16.jar"
      ],
      "execution_count": 3,
      "outputs": [
        {
          "output_type": "stream",
          "name": "stdout",
          "text": [
            "--2021-09-19 01:31:41--  https://jdbc.postgresql.org/download/postgresql-42.2.16.jar\n",
            "Resolving jdbc.postgresql.org (jdbc.postgresql.org)... 72.32.157.228, 2001:4800:3e1:1::228\n",
            "Connecting to jdbc.postgresql.org (jdbc.postgresql.org)|72.32.157.228|:443... connected.\n",
            "HTTP request sent, awaiting response... 200 OK\n",
            "Length: 1002883 (979K) [application/java-archive]\n",
            "Saving to: ‘postgresql-42.2.16.jar’\n",
            "\n",
            "postgresql-42.2.16. 100%[===================>] 979.38K  6.05MB/s    in 0.2s    \n",
            "\n",
            "2021-09-19 01:31:42 (6.05 MB/s) - ‘postgresql-42.2.16.jar’ saved [1002883/1002883]\n",
            "\n"
          ]
        }
      ]
    },
    {
      "cell_type": "code",
      "metadata": {
        "id": "VrvolWKMNFbe"
      },
      "source": [
        "# Start Spark session\n",
        "#from pyspark.sql import SparkSession\n",
        "#from pyspark.sql.functions import col\n",
        "#spark = SparkSession.builder.appName(\"FinalProject\").getOrCreate()"
      ],
      "execution_count": 4,
      "outputs": []
    },
    {
      "cell_type": "code",
      "metadata": {
        "id": "M9RnA4W6GDS6"
      },
      "source": [
        "from pyspark.sql import SparkSession\n",
        "spark = SparkSession.builder.appName(\"CloudETL\").config(\"spark.driver.extraClassPath\",\"/content/postgresql-42.2.16.jar\").getOrCreate()"
      ],
      "execution_count": 5,
      "outputs": []
    },
    {
      "cell_type": "code",
      "metadata": {
        "colab": {
          "base_uri": "https://localhost:8080/"
        },
        "id": "W2uxnkAjNFeD",
        "outputId": "b3598f1e-17f4-4174-c09f-a16fc5d08278"
      },
      "source": [
        "# Read in data from S3 Buckets\n",
        "from pyspark import SparkFiles\n",
        "url = \"https://databootcamp-final-05.s3.amazonaws.com/Resources/Individual+Contributions+2005.csv\"\n",
        "spark.sparkContext.addFile(url)\n",
        "df = spark.read.csv(SparkFiles.get(\"Individual+Contributions+2005.csv\"), sep=\",\", header=True)\n",
        "df.show()"
      ],
      "execution_count": 6,
      "outputs": [
        {
          "output_type": "stream",
          "name": "stdout",
          "text": [
            "+--------+--------+------+--------+-------------+----------+------+---------+------+--------+------+----------+--------+----------+--------------+--------------------+------+------+------------------+---------+---------+-------------+-----+-----+----------+-------+--------+----------+-------+--------+-----+---------+--------+----------+--------+----------+--------+--------+--------+-------+-----+------+----------+----------+----------+----------+--------+---------+---------+--------+---------+------+-------+----------+\n",
            "|ELECTION|OFFICECD|CANDID|CANCLASS|     CANDLAST| CANDFIRST|CANDMI|COMMITTEE|FILING|SCHEDULE|PAGENO|SEQUENCENO|   REFNO|      DATE|    REFUNDDATE|                NAME|C_CODE| STRNO|           STRNAME|APARTMENT|BOROUGHCD|         CITY|STATE|  ZIP|OCCUPATION|EMPNAME|EMPSTRNO|EMPSTRNAME|EMPCITY|EMPSTATE| AMNT|MATCHAMNT|PREVAMNT|PAY_METHOD|INTERMNO|INTERMNAME|INTSTRNO|INTSTRNM|INTAPTNO|INTCITY|INTST|INTZIP|INTEMPNAME|INTEMPSTNO|INTEMPSTNM|INTEMPCITY|INTEMPST|INTOCCUPA|PURPOSECD|EXEMPTCD|ADJTYPECD|RR_IND|SEG_IND|INT_C_CODE|\n",
            "+--------+--------+------+--------+-------------+----------+------+---------+------+--------+------+----------+--------+----------+--------------+--------------------+------+------+------------------+---------+---------+-------------+-----+-----+----------+-------+--------+----------+-------+--------+-----+---------+--------+----------+--------+----------+--------+--------+--------+-------+-----+------+----------+----------+----------+----------+--------+---------+---------+--------+---------+------+-------+----------+\n",
            "|    2005|       5|   863|       P|        Samad|    Maryam|     A|        H|    10|     ABC|  null|      null|R0000140| 5/13/2005|          null|(Head) Coach, Big...|   IND|  null|              null|     null|        K|     Brooklyn|   NY|11212|      null|   None|    null|      null|   null|    null|   10|       10|       0|         1|    null|      null|    null|    null|    null|   null| null|  null|      null|      null|      null|      null|    null|     null|     null|    null|     null|     N|      N|      null|\n",
            "|    2005|       4|    E9|       P|     Marshall|     Helen|     M|        J|     5|     ABC|  null|      null|R0002434| 4/27/2004|          null|     005 New Gen LLC|   LLC|136-26|      37th. Avenue|     null|        Q|       Queens|   NY|11354|      null|   null|    null|      null|   null|    null|  500|        0|       0|         2|    null|      null|    null|    null|    null|   null| null|  null|      null|      null|      null|      null|    null|     null|     null|    null|     null|     N|      N|      null|\n",
            "|    2005|       5|   758|       P|        Russo|Pasqualino|  null|        I|    13|     ABC|  null|      null|R0000852|  9/4/2005|          null|         02 LIFE LLC|   LLC|   156|   Bay 14th Street|     null|        K|     Brooklyn|   NY|11214|      null|   null|    null|      null|   null|    null|  200|        0|       0|         2|    null|      null|    null|    null|    null|   null| null|  null|      null|      null|      null|      null|    null|     null|     null|    null|     null|     N|      N|      null|\n",
            "|    2005|       3|   260|       P|Thompson, Jr.|   William|     C|        J|     4|     ABC|  null|      null|R0005598|10/12/2003|          null|1 Christopher Rea...|   LLC|     1|Christopher Street|     null|        M|     New York|   NY|10014|      null|   null|    null|      null|   null|    null|  500|        0|       0|         2|    null|      null|    null|    null|    null|   null| null|  null|      null|      null|      null|      null|    null|     null|     null|    null|     null|     N|      N|      null|\n",
            "|    2005|       1|    BB|       P|       Weiner|   Anthony|     D|        H|     8|     ABC|  null|      null|R0005497| 4/12/2005|          null|10 West 47th Stre...|   LLC|    10|      West 47th St|     null|        M|     New York|   NY|10036|      null|   null|    null|      null|   null|    null| 2500|        0|       0|         2|    null|      null|    null|    null|    null|   null| null|  null|      null|      null|      null|      null|    null|     null|     null|    null|     null|     N|      N|      null|\n",
            "|    2005|       4|    ED|       P| Carrion, Jr.|    Adolfo|  null|        J|     3|     ABC|  null|      null|R0002613|  5/7/2003|          null|100 Mosholu Parkw...|  PART|   145|      Huguenot St.|     null|        Z| New Rochelle|   NY|10801|      null|   null|    null|      null|   null|    null|  350|        0|       0|         2|    null|      null|    null|    null|    null|   null| null|  null|      null|      null|      null|      null|    null|     null|     null|    null|     null|     N|      N|      null|\n",
            "|    2005|       5|   280|       P|       Yassky|     David|  null|        K|     8|     ABC|  null|      null|R0004101| 7/15/2004|          null|101 West 75th St ...|   LLC|   101|         W 75th St|     null|        M|     New York|   NY|10023|      null|   null|    null|      null|   null|    null|  250|        0|       0|         2|    null|      null|    null|    null|    null|   null| null|  null|      null|      null|      null|      null|    null|     null|     null|    null|     null|     N|      N|      null|\n",
            "|    2005|       5|   758|       P|        Russo|Pasqualino|  null|        I|    10|     ABC|  null|      null|R0000548| 6/20/2005|          null|105 Street Associ...|   LLC|  3092|       Hull Avenue|      # 4|        X|        Bronx|   NY|10467|      null|   null|    null|      null|   null|    null|  100|        0|       0|         2|    null|      null|    null|    null|    null|   null| null|  null|      null|      null|      null|      null|    null|     null|     null|    null|     null|     N|      N|      null|\n",
            "|    2005|       5|   444|       P|        Dilan|      Erik|     M|        J|     8|     ABC|  null|      null|R0000482| 3/28/2005|          null|108 Central Assoc...|   LLC|    11|    Horseshoe Lane|     null|        Z|   Great Neck|   NY|11020|      null|   null|    null|      null|   null|    null|   75|        0|       0|         2|    null|      null|    null|    null|    null|   null| null|  null|      null|      null|      null|      null|    null|     null|     null|    null|     null|     N|      N|      null|\n",
            "|    2005|       5|   283|       P|      Gennaro|     James|     F|        J|    10|     ABC|  null|      null|R0001483| 5/25/2005|          null|108 Central Assoc...|   LLC|    11|    Horseshoe Lane|     null|        Z|   Great Neck|   NY|11020|      null|   null|    null|      null|   null|    null|   75|        0|       0|         2|    null|      null|    null|    null|    null|   null| null|  null|      null|      null|      null|      null|    null|     null|     null|    null|     null|     N|      N|      null|\n",
            "|    2005|       5|   280|       P|       Yassky|     David|  null|        K|     8|     ABC|  null|      null|R0002838| 5/12/2004|          null|     10th STreet LLC|   LLC|     5|    N. 11th Street|     null|        K|     Brooklyn|   NY|11211|      null|   null|    null|      null|   null|    null| 5000|        0|       0|         2|    null|      null|    null|    null|    null|   null| null|  null|      null|      null|      null|      null|    null|     null|     null|    null|     null|     N|      N|      null|\n",
            "|    2005|       4|   226|       P|    Markowitz|     Marty|  null|        H|     4|     ABC|  null|      null|R0004198|11/18/2003|          null|     10th Street LLC|   LLC|     5|      N. 11 Street|     null|        K|     Brooklyn|   NY|11211|      null|   null|    null|      null|   null|    null| 1000|        0|       0|         2|    null|      null|    null|    null|    null|   null| null|  null|      null|      null|      null|      null|    null|     null|     null|    null|     null|     N|      N|      null|\n",
            "|    2005|       4|   226|       P|    Markowitz|     Marty|  null|        H|     5|     ABC|  null|      null|R0006786| 6/24/2004|          null|     10th Street LLC|   LLC|     5|      N. 11 Street|     null|        K|     Brooklyn|   NY|11211|      null|   null|    null|      null|   null|    null| 2850|        0|    1000|         2|    null|      null|    null|    null|    null|   null| null|  null|      null|      null|      null|      null|    null|     null|     null|    null|     null|     N|      N|      null|\n",
            "|    2005|       5|   280|       P|       Yassky|     David|  null|        K|     8|       M|  null|      null|R0004390| 5/12/2004|5/11/2005 0:00|     10th STreet LLC|   LLC|     5|    N. 11th Street|     null|        K|     Brooklyn|   NY|11211|      null|   null|    null|      null|   null|    null|-2250|        0|       0|         0|    null|      null|    null|    null|    null|   null| null|  null|      null|      null|      null|      null|    null|     null|     null|    null|        5|     N|      N|      null|\n",
            "|    2005|       1|    AY|       P|       Ferrer|  Fernando|  null|        I|     8|     ABC|  null|      null|R0016541|  5/9/2005|          null|    10th Street, LLC|   LLC|     5| North 11th Street|     null|        K|     Brooklyn|   NY|11211|      null|   null|    null|      null|   null|    null| 2000|        0|       0|         2|    null|      null|    null|    null|    null|   null| null|  null|      null|      null|      null|      null|    null|     null|     null|    null|     null|     N|      N|      null|\n",
            "|    2005|       5|    51|       P|       Avella|      Tony|  null|        J|     5|     ABC|  null|      null|R0000548| 5/24/2004|          null|11-13 Hubert Stre...|   LLC|    11|     Hubert Street|     null|        M|     New York|   NY|10013|      null|   null|    null|      null|   null|    null|  500|        0|       0|         2|    null|      null|    null|    null|    null|   null| null|  null|      null|      null|      null|      null|    null|     null|     null|    null|     null|     N|      N|      null|\n",
            "|    2005|       5|    51|       P|       Avella|      Tony|  null|        J|     6|     ABC|  null|      null|R0000879|11/22/2004|          null|11-13 Hubert Stre...|   LLC|    11|     Hubert Street|     null|        M|     New York|   NY|10013|      null|   null|    null|      null|   null|    null|  250|        0|     500|         2|    null|      null|    null|    null|    null|   null| null|  null|      null|      null|      null|      null|    null|     null|     null|    null|     null|     N|      N|      null|\n",
            "|    2005|       5|   283|       P|      Gennaro|     James|     F|        J|     5|     ABC|  null|      null|R0000766| 5/20/2004|          null|11-13 Hubert Stre...|   LLC|    11|         Hubert St|     null|        M|     New York|   NY|10013|      null|   null|    null|      null|   null|    null|  250|        0|       0|         2|    null|      null|    null|    null|    null|   null| null|  null|      null|      null|      null|      null|    null|     null|     null|    null|     null|     N|      N|      null|\n",
            "|    2005|       5|   204|       P|        Quinn| Christine|     C|        K|     6|     ABC|  null|      null|R0001474|10/28/2004|          null|11-13 Hubert Stre...|   LLC|    11|     Hubert Street|     null|        M|     New York|   NY|10013|      null|   null|    null|      null|   null|    null|  500|        0|       0|         2|    null|      null|    null|    null|    null|   null| null|  null|      null|      null|      null|      null|    null|     null|     null|    null|     null|     N|      N|      null|\n",
            "|    2005|       1|    AY|       P|       Ferrer|  Fernando|  null|        I|    15|     ABC|  null|      null|R0026538|10/17/2005|          null|112 South Whitney...|   LLC|   106|       Kane Street|     null|        Z|West Hartford|   CT| 6119|      null|   null|    null|      null|   null|    null|  125|        0|       0|         2|    null|      null|    null|    null|    null|   null| null|  null|      null|      null|      null|      null|    null|     null|     null|    null|     null|     N|      N|      null|\n",
            "+--------+--------+------+--------+-------------+----------+------+---------+------+--------+------+----------+--------+----------+--------------+--------------------+------+------+------------------+---------+---------+-------------+-----+-----+----------+-------+--------+----------+-------+--------+-----+---------+--------+----------+--------+----------+--------+--------+--------+-------+-----+------+----------+----------+----------+----------+--------+---------+---------+--------+---------+------+-------+----------+\n",
            "only showing top 20 rows\n",
            "\n"
          ]
        }
      ]
    },
    {
      "cell_type": "code",
      "metadata": {
        "colab": {
          "base_uri": "https://localhost:8080/"
        },
        "id": "Av3OwibjbTCF",
        "outputId": "35a43fb4-dbb0-4266-e116-be4cdaf42e3d"
      },
      "source": [
        "from pyspark.sql.functions import concat_ws\n",
        "df2 = df.withColumn(\"CandidateName\", concat_ws(\",\",\"CANDFIRST\",'CANDLAST')) \n",
        "df2.show()"
      ],
      "execution_count": 7,
      "outputs": [
        {
          "output_type": "stream",
          "name": "stdout",
          "text": [
            "+--------+--------+------+--------+-------------+----------+------+---------+------+--------+------+----------+--------+----------+--------------+--------------------+------+------+------------------+---------+---------+-------------+-----+-----+----------+-------+--------+----------+-------+--------+-----+---------+--------+----------+--------+----------+--------+--------+--------+-------+-----+------+----------+----------+----------+----------+--------+---------+---------+--------+---------+------+-------+----------+--------------------+\n",
            "|ELECTION|OFFICECD|CANDID|CANCLASS|     CANDLAST| CANDFIRST|CANDMI|COMMITTEE|FILING|SCHEDULE|PAGENO|SEQUENCENO|   REFNO|      DATE|    REFUNDDATE|                NAME|C_CODE| STRNO|           STRNAME|APARTMENT|BOROUGHCD|         CITY|STATE|  ZIP|OCCUPATION|EMPNAME|EMPSTRNO|EMPSTRNAME|EMPCITY|EMPSTATE| AMNT|MATCHAMNT|PREVAMNT|PAY_METHOD|INTERMNO|INTERMNAME|INTSTRNO|INTSTRNM|INTAPTNO|INTCITY|INTST|INTZIP|INTEMPNAME|INTEMPSTNO|INTEMPSTNM|INTEMPCITY|INTEMPST|INTOCCUPA|PURPOSECD|EXEMPTCD|ADJTYPECD|RR_IND|SEG_IND|INT_C_CODE|       CandidateName|\n",
            "+--------+--------+------+--------+-------------+----------+------+---------+------+--------+------+----------+--------+----------+--------------+--------------------+------+------+------------------+---------+---------+-------------+-----+-----+----------+-------+--------+----------+-------+--------+-----+---------+--------+----------+--------+----------+--------+--------+--------+-------+-----+------+----------+----------+----------+----------+--------+---------+---------+--------+---------+------+-------+----------+--------------------+\n",
            "|    2005|       5|   863|       P|        Samad|    Maryam|     A|        H|    10|     ABC|  null|      null|R0000140| 5/13/2005|          null|(Head) Coach, Big...|   IND|  null|              null|     null|        K|     Brooklyn|   NY|11212|      null|   None|    null|      null|   null|    null|   10|       10|       0|         1|    null|      null|    null|    null|    null|   null| null|  null|      null|      null|      null|      null|    null|     null|     null|    null|     null|     N|      N|      null|        Maryam,Samad|\n",
            "|    2005|       4|    E9|       P|     Marshall|     Helen|     M|        J|     5|     ABC|  null|      null|R0002434| 4/27/2004|          null|     005 New Gen LLC|   LLC|136-26|      37th. Avenue|     null|        Q|       Queens|   NY|11354|      null|   null|    null|      null|   null|    null|  500|        0|       0|         2|    null|      null|    null|    null|    null|   null| null|  null|      null|      null|      null|      null|    null|     null|     null|    null|     null|     N|      N|      null|      Helen,Marshall|\n",
            "|    2005|       5|   758|       P|        Russo|Pasqualino|  null|        I|    13|     ABC|  null|      null|R0000852|  9/4/2005|          null|         02 LIFE LLC|   LLC|   156|   Bay 14th Street|     null|        K|     Brooklyn|   NY|11214|      null|   null|    null|      null|   null|    null|  200|        0|       0|         2|    null|      null|    null|    null|    null|   null| null|  null|      null|      null|      null|      null|    null|     null|     null|    null|     null|     N|      N|      null|    Pasqualino,Russo|\n",
            "|    2005|       3|   260|       P|Thompson, Jr.|   William|     C|        J|     4|     ABC|  null|      null|R0005598|10/12/2003|          null|1 Christopher Rea...|   LLC|     1|Christopher Street|     null|        M|     New York|   NY|10014|      null|   null|    null|      null|   null|    null|  500|        0|       0|         2|    null|      null|    null|    null|    null|   null| null|  null|      null|      null|      null|      null|    null|     null|     null|    null|     null|     N|      N|      null|William,Thompson,...|\n",
            "|    2005|       1|    BB|       P|       Weiner|   Anthony|     D|        H|     8|     ABC|  null|      null|R0005497| 4/12/2005|          null|10 West 47th Stre...|   LLC|    10|      West 47th St|     null|        M|     New York|   NY|10036|      null|   null|    null|      null|   null|    null| 2500|        0|       0|         2|    null|      null|    null|    null|    null|   null| null|  null|      null|      null|      null|      null|    null|     null|     null|    null|     null|     N|      N|      null|      Anthony,Weiner|\n",
            "|    2005|       4|    ED|       P| Carrion, Jr.|    Adolfo|  null|        J|     3|     ABC|  null|      null|R0002613|  5/7/2003|          null|100 Mosholu Parkw...|  PART|   145|      Huguenot St.|     null|        Z| New Rochelle|   NY|10801|      null|   null|    null|      null|   null|    null|  350|        0|       0|         2|    null|      null|    null|    null|    null|   null| null|  null|      null|      null|      null|      null|    null|     null|     null|    null|     null|     N|      N|      null| Adolfo,Carrion, Jr.|\n",
            "|    2005|       5|   280|       P|       Yassky|     David|  null|        K|     8|     ABC|  null|      null|R0004101| 7/15/2004|          null|101 West 75th St ...|   LLC|   101|         W 75th St|     null|        M|     New York|   NY|10023|      null|   null|    null|      null|   null|    null|  250|        0|       0|         2|    null|      null|    null|    null|    null|   null| null|  null|      null|      null|      null|      null|    null|     null|     null|    null|     null|     N|      N|      null|        David,Yassky|\n",
            "|    2005|       5|   758|       P|        Russo|Pasqualino|  null|        I|    10|     ABC|  null|      null|R0000548| 6/20/2005|          null|105 Street Associ...|   LLC|  3092|       Hull Avenue|      # 4|        X|        Bronx|   NY|10467|      null|   null|    null|      null|   null|    null|  100|        0|       0|         2|    null|      null|    null|    null|    null|   null| null|  null|      null|      null|      null|      null|    null|     null|     null|    null|     null|     N|      N|      null|    Pasqualino,Russo|\n",
            "|    2005|       5|   444|       P|        Dilan|      Erik|     M|        J|     8|     ABC|  null|      null|R0000482| 3/28/2005|          null|108 Central Assoc...|   LLC|    11|    Horseshoe Lane|     null|        Z|   Great Neck|   NY|11020|      null|   null|    null|      null|   null|    null|   75|        0|       0|         2|    null|      null|    null|    null|    null|   null| null|  null|      null|      null|      null|      null|    null|     null|     null|    null|     null|     N|      N|      null|          Erik,Dilan|\n",
            "|    2005|       5|   283|       P|      Gennaro|     James|     F|        J|    10|     ABC|  null|      null|R0001483| 5/25/2005|          null|108 Central Assoc...|   LLC|    11|    Horseshoe Lane|     null|        Z|   Great Neck|   NY|11020|      null|   null|    null|      null|   null|    null|   75|        0|       0|         2|    null|      null|    null|    null|    null|   null| null|  null|      null|      null|      null|      null|    null|     null|     null|    null|     null|     N|      N|      null|       James,Gennaro|\n",
            "|    2005|       5|   280|       P|       Yassky|     David|  null|        K|     8|     ABC|  null|      null|R0002838| 5/12/2004|          null|     10th STreet LLC|   LLC|     5|    N. 11th Street|     null|        K|     Brooklyn|   NY|11211|      null|   null|    null|      null|   null|    null| 5000|        0|       0|         2|    null|      null|    null|    null|    null|   null| null|  null|      null|      null|      null|      null|    null|     null|     null|    null|     null|     N|      N|      null|        David,Yassky|\n",
            "|    2005|       4|   226|       P|    Markowitz|     Marty|  null|        H|     4|     ABC|  null|      null|R0004198|11/18/2003|          null|     10th Street LLC|   LLC|     5|      N. 11 Street|     null|        K|     Brooklyn|   NY|11211|      null|   null|    null|      null|   null|    null| 1000|        0|       0|         2|    null|      null|    null|    null|    null|   null| null|  null|      null|      null|      null|      null|    null|     null|     null|    null|     null|     N|      N|      null|     Marty,Markowitz|\n",
            "|    2005|       4|   226|       P|    Markowitz|     Marty|  null|        H|     5|     ABC|  null|      null|R0006786| 6/24/2004|          null|     10th Street LLC|   LLC|     5|      N. 11 Street|     null|        K|     Brooklyn|   NY|11211|      null|   null|    null|      null|   null|    null| 2850|        0|    1000|         2|    null|      null|    null|    null|    null|   null| null|  null|      null|      null|      null|      null|    null|     null|     null|    null|     null|     N|      N|      null|     Marty,Markowitz|\n",
            "|    2005|       5|   280|       P|       Yassky|     David|  null|        K|     8|       M|  null|      null|R0004390| 5/12/2004|5/11/2005 0:00|     10th STreet LLC|   LLC|     5|    N. 11th Street|     null|        K|     Brooklyn|   NY|11211|      null|   null|    null|      null|   null|    null|-2250|        0|       0|         0|    null|      null|    null|    null|    null|   null| null|  null|      null|      null|      null|      null|    null|     null|     null|    null|        5|     N|      N|      null|        David,Yassky|\n",
            "|    2005|       1|    AY|       P|       Ferrer|  Fernando|  null|        I|     8|     ABC|  null|      null|R0016541|  5/9/2005|          null|    10th Street, LLC|   LLC|     5| North 11th Street|     null|        K|     Brooklyn|   NY|11211|      null|   null|    null|      null|   null|    null| 2000|        0|       0|         2|    null|      null|    null|    null|    null|   null| null|  null|      null|      null|      null|      null|    null|     null|     null|    null|     null|     N|      N|      null|     Fernando,Ferrer|\n",
            "|    2005|       5|    51|       P|       Avella|      Tony|  null|        J|     5|     ABC|  null|      null|R0000548| 5/24/2004|          null|11-13 Hubert Stre...|   LLC|    11|     Hubert Street|     null|        M|     New York|   NY|10013|      null|   null|    null|      null|   null|    null|  500|        0|       0|         2|    null|      null|    null|    null|    null|   null| null|  null|      null|      null|      null|      null|    null|     null|     null|    null|     null|     N|      N|      null|         Tony,Avella|\n",
            "|    2005|       5|    51|       P|       Avella|      Tony|  null|        J|     6|     ABC|  null|      null|R0000879|11/22/2004|          null|11-13 Hubert Stre...|   LLC|    11|     Hubert Street|     null|        M|     New York|   NY|10013|      null|   null|    null|      null|   null|    null|  250|        0|     500|         2|    null|      null|    null|    null|    null|   null| null|  null|      null|      null|      null|      null|    null|     null|     null|    null|     null|     N|      N|      null|         Tony,Avella|\n",
            "|    2005|       5|   283|       P|      Gennaro|     James|     F|        J|     5|     ABC|  null|      null|R0000766| 5/20/2004|          null|11-13 Hubert Stre...|   LLC|    11|         Hubert St|     null|        M|     New York|   NY|10013|      null|   null|    null|      null|   null|    null|  250|        0|       0|         2|    null|      null|    null|    null|    null|   null| null|  null|      null|      null|      null|      null|    null|     null|     null|    null|     null|     N|      N|      null|       James,Gennaro|\n",
            "|    2005|       5|   204|       P|        Quinn| Christine|     C|        K|     6|     ABC|  null|      null|R0001474|10/28/2004|          null|11-13 Hubert Stre...|   LLC|    11|     Hubert Street|     null|        M|     New York|   NY|10013|      null|   null|    null|      null|   null|    null|  500|        0|       0|         2|    null|      null|    null|    null|    null|   null| null|  null|      null|      null|      null|      null|    null|     null|     null|    null|     null|     N|      N|      null|     Christine,Quinn|\n",
            "|    2005|       1|    AY|       P|       Ferrer|  Fernando|  null|        I|    15|     ABC|  null|      null|R0026538|10/17/2005|          null|112 South Whitney...|   LLC|   106|       Kane Street|     null|        Z|West Hartford|   CT| 6119|      null|   null|    null|      null|   null|    null|  125|        0|       0|         2|    null|      null|    null|    null|    null|   null| null|  null|      null|      null|      null|      null|    null|     null|     null|    null|     null|     N|      N|      null|     Fernando,Ferrer|\n",
            "+--------+--------+------+--------+-------------+----------+------+---------+------+--------+------+----------+--------+----------+--------------+--------------------+------+------+------------------+---------+---------+-------------+-----+-----+----------+-------+--------+----------+-------+--------+-----+---------+--------+----------+--------+----------+--------+--------+--------+-------+-----+------+----------+----------+----------+----------+--------+---------+---------+--------+---------+------+-------+----------+--------------------+\n",
            "only showing top 20 rows\n",
            "\n"
          ]
        }
      ]
    },
    {
      "cell_type": "code",
      "metadata": {
        "colab": {
          "base_uri": "https://localhost:8080/"
        },
        "id": "e2cRNc4wNFgt",
        "outputId": "1f87ca32-cbf8-4205-ca6b-52d6e13b8826"
      },
      "source": [
        "# Remove multiple columns\n",
        "list = ['COMMITTEE', 'CANDMI', 'CANDLAST', 'CANDFIRST','FILING', 'SCHEDULE', 'PAGENO', 'SEQUENCENO','REFNO', 'STRNO', 'STRNAME', 'APARTMENT', 'OCCUPATION', 'EMPNAME', 'EMPSTATE', 'EMPSTRNO', 'EMPSTRNAME',\n",
        "                'EMPCITY','INTERMNO', 'REFUNDDATE', 'INTERMNAME', 'INTSTRNO', 'INTSTRNM', 'INTSTRNM', 'INTAPTNO',\n",
        "                'INTCITY', 'INTST','INTZIP', 'INTEMPNAME', 'INTEMPSTNO', 'INTEMPSTNM', 'INTEMPCITY', 'INTEMPST', 'INTOCCUPA' ,'PURPOSECD', 'EXEMPTCD','ADJTYPECD', 'RR_IND', 'SEG_IND','INT_C_CODE'] \n",
        "df3 = df2.drop(*list)\n",
        "df3.show()"
      ],
      "execution_count": 8,
      "outputs": [
        {
          "output_type": "stream",
          "name": "stdout",
          "text": [
            "+--------+--------+------+--------+----------+--------------------+------+---------+-------------+-----+-----+-----+---------+--------+----------+--------------------+\n",
            "|ELECTION|OFFICECD|CANDID|CANCLASS|      DATE|                NAME|C_CODE|BOROUGHCD|         CITY|STATE|  ZIP| AMNT|MATCHAMNT|PREVAMNT|PAY_METHOD|       CandidateName|\n",
            "+--------+--------+------+--------+----------+--------------------+------+---------+-------------+-----+-----+-----+---------+--------+----------+--------------------+\n",
            "|    2005|       5|   863|       P| 5/13/2005|(Head) Coach, Big...|   IND|        K|     Brooklyn|   NY|11212|   10|       10|       0|         1|        Maryam,Samad|\n",
            "|    2005|       4|    E9|       P| 4/27/2004|     005 New Gen LLC|   LLC|        Q|       Queens|   NY|11354|  500|        0|       0|         2|      Helen,Marshall|\n",
            "|    2005|       5|   758|       P|  9/4/2005|         02 LIFE LLC|   LLC|        K|     Brooklyn|   NY|11214|  200|        0|       0|         2|    Pasqualino,Russo|\n",
            "|    2005|       3|   260|       P|10/12/2003|1 Christopher Rea...|   LLC|        M|     New York|   NY|10014|  500|        0|       0|         2|William,Thompson,...|\n",
            "|    2005|       1|    BB|       P| 4/12/2005|10 West 47th Stre...|   LLC|        M|     New York|   NY|10036| 2500|        0|       0|         2|      Anthony,Weiner|\n",
            "|    2005|       4|    ED|       P|  5/7/2003|100 Mosholu Parkw...|  PART|        Z| New Rochelle|   NY|10801|  350|        0|       0|         2| Adolfo,Carrion, Jr.|\n",
            "|    2005|       5|   280|       P| 7/15/2004|101 West 75th St ...|   LLC|        M|     New York|   NY|10023|  250|        0|       0|         2|        David,Yassky|\n",
            "|    2005|       5|   758|       P| 6/20/2005|105 Street Associ...|   LLC|        X|        Bronx|   NY|10467|  100|        0|       0|         2|    Pasqualino,Russo|\n",
            "|    2005|       5|   444|       P| 3/28/2005|108 Central Assoc...|   LLC|        Z|   Great Neck|   NY|11020|   75|        0|       0|         2|          Erik,Dilan|\n",
            "|    2005|       5|   283|       P| 5/25/2005|108 Central Assoc...|   LLC|        Z|   Great Neck|   NY|11020|   75|        0|       0|         2|       James,Gennaro|\n",
            "|    2005|       5|   280|       P| 5/12/2004|     10th STreet LLC|   LLC|        K|     Brooklyn|   NY|11211| 5000|        0|       0|         2|        David,Yassky|\n",
            "|    2005|       4|   226|       P|11/18/2003|     10th Street LLC|   LLC|        K|     Brooklyn|   NY|11211| 1000|        0|       0|         2|     Marty,Markowitz|\n",
            "|    2005|       4|   226|       P| 6/24/2004|     10th Street LLC|   LLC|        K|     Brooklyn|   NY|11211| 2850|        0|    1000|         2|     Marty,Markowitz|\n",
            "|    2005|       5|   280|       P| 5/12/2004|     10th STreet LLC|   LLC|        K|     Brooklyn|   NY|11211|-2250|        0|       0|         0|        David,Yassky|\n",
            "|    2005|       1|    AY|       P|  5/9/2005|    10th Street, LLC|   LLC|        K|     Brooklyn|   NY|11211| 2000|        0|       0|         2|     Fernando,Ferrer|\n",
            "|    2005|       5|    51|       P| 5/24/2004|11-13 Hubert Stre...|   LLC|        M|     New York|   NY|10013|  500|        0|       0|         2|         Tony,Avella|\n",
            "|    2005|       5|    51|       P|11/22/2004|11-13 Hubert Stre...|   LLC|        M|     New York|   NY|10013|  250|        0|     500|         2|         Tony,Avella|\n",
            "|    2005|       5|   283|       P| 5/20/2004|11-13 Hubert Stre...|   LLC|        M|     New York|   NY|10013|  250|        0|       0|         2|       James,Gennaro|\n",
            "|    2005|       5|   204|       P|10/28/2004|11-13 Hubert Stre...|   LLC|        M|     New York|   NY|10013|  500|        0|       0|         2|     Christine,Quinn|\n",
            "|    2005|       1|    AY|       P|10/17/2005|112 South Whitney...|   LLC|        Z|West Hartford|   CT| 6119|  125|        0|       0|         2|     Fernando,Ferrer|\n",
            "+--------+--------+------+--------+----------+--------------------+------+---------+-------------+-----+-----+-----+---------+--------+----------+--------------------+\n",
            "only showing top 20 rows\n",
            "\n"
          ]
        }
      ]
    },
    {
      "cell_type": "code",
      "metadata": {
        "id": "LcGhryiVhUD7"
      },
      "source": [
        "#Rearrange columns\n",
        "df4=df3.select('ELECTION','OFFICECD','CANDID','CANCLASS','CandidateName', 'DATE', 'NAME','C_CODE','BOROUGHCD','CITY','STATE', 'ZIP', 'AMNT', 'MATCHAMNT', 'PREVAMNT', 'PAY_METHOD')"
      ],
      "execution_count": 9,
      "outputs": []
    },
    {
      "cell_type": "code",
      "metadata": {
        "colab": {
          "base_uri": "https://localhost:8080/"
        },
        "id": "g5aiRN5RNFjB",
        "outputId": "9a4ad2de-c137-4901-f59c-5179262b5a79"
      },
      "source": [
        "# check data types\n",
        "df4.dtypes"
      ],
      "execution_count": 10,
      "outputs": [
        {
          "output_type": "execute_result",
          "data": {
            "text/plain": [
              "[('ELECTION', 'string'),\n",
              " ('OFFICECD', 'string'),\n",
              " ('CANDID', 'string'),\n",
              " ('CANCLASS', 'string'),\n",
              " ('CandidateName', 'string'),\n",
              " ('DATE', 'string'),\n",
              " ('NAME', 'string'),\n",
              " ('C_CODE', 'string'),\n",
              " ('BOROUGHCD', 'string'),\n",
              " ('CITY', 'string'),\n",
              " ('STATE', 'string'),\n",
              " ('ZIP', 'string'),\n",
              " ('AMNT', 'string'),\n",
              " ('MATCHAMNT', 'string'),\n",
              " ('PREVAMNT', 'string'),\n",
              " ('PAY_METHOD', 'string')]"
            ]
          },
          "metadata": {},
          "execution_count": 10
        }
      ]
    },
    {
      "cell_type": "code",
      "metadata": {
        "colab": {
          "base_uri": "https://localhost:8080/"
        },
        "id": "tIkq3wdqOzWV",
        "outputId": "b0bd7484-e46b-42f8-a10b-779a634c77b5"
      },
      "source": [
        "#Change column names\n",
        "df5 = df4 \\\n",
        ".withColumnRenamed(\"ELECTION\", \"Election\") \\\n",
        ".withColumnRenamed(\"CANDID\", \"CandidateID\") \\\n",
        ".withColumnRenamed(\"DATE\", \"Date\") \\\n",
        ".withColumnRenamed(\"NAME\", \"Name\") \\\n",
        ".withColumnRenamed(\"C_CODE\", \"ContributorType\") \\\n",
        ".withColumnRenamed(\"BOROUGHCD\", \"BoroughName\") \\\n",
        ".withColumnRenamed(\"CITY\", \"City\") \\\n",
        ".withColumnRenamed(\"STATE\", \"State\") \\\n",
        ".withColumnRenamed(\"ZIP\", \"ZipCode\") \\\n",
        ".withColumnRenamed(\"EMPSTATE\", \"ContributionState\") \\\n",
        ".withColumnRenamed(\"AMNT\", \"Amount\") \\\n",
        ".withColumnRenamed(\"MATCHAMNT\", \"MatchAmt\") \\\n",
        ".withColumnRenamed(\"PREVAMNT\", \"PrevAmt\") \\\n",
        ".withColumnRenamed(\"PAY_METHOD\", \"PayMethod\")\n",
        "\n",
        "df5.printSchema()"
      ],
      "execution_count": 11,
      "outputs": [
        {
          "output_type": "stream",
          "name": "stdout",
          "text": [
            "root\n",
            " |-- Election: string (nullable = true)\n",
            " |-- OFFICECD: string (nullable = true)\n",
            " |-- CandidateID: string (nullable = true)\n",
            " |-- CANCLASS: string (nullable = true)\n",
            " |-- CandidateName: string (nullable = false)\n",
            " |-- Date: string (nullable = true)\n",
            " |-- Name: string (nullable = true)\n",
            " |-- ContributorType: string (nullable = true)\n",
            " |-- BoroughName: string (nullable = true)\n",
            " |-- City: string (nullable = true)\n",
            " |-- State: string (nullable = true)\n",
            " |-- ZipCode: string (nullable = true)\n",
            " |-- Amount: string (nullable = true)\n",
            " |-- MatchAmt: string (nullable = true)\n",
            " |-- PrevAmt: string (nullable = true)\n",
            " |-- PayMethod: string (nullable = true)\n",
            "\n"
          ]
        }
      ]
    },
    {
      "cell_type": "code",
      "metadata": {
        "colab": {
          "base_uri": "https://localhost:8080/"
        },
        "id": "SSDl8jYwX-5y",
        "outputId": "9945788d-5c02-4f5d-c23c-c332bf2439f8"
      },
      "source": [
        "df5.show()"
      ],
      "execution_count": 12,
      "outputs": [
        {
          "output_type": "stream",
          "name": "stdout",
          "text": [
            "+--------+--------+-----------+--------+--------------------+----------+--------------------+---------------+-----------+-------------+-----+-------+------+--------+-------+---------+\n",
            "|Election|OFFICECD|CandidateID|CANCLASS|       CandidateName|      Date|                Name|ContributorType|BoroughName|         City|State|ZipCode|Amount|MatchAmt|PrevAmt|PayMethod|\n",
            "+--------+--------+-----------+--------+--------------------+----------+--------------------+---------------+-----------+-------------+-----+-------+------+--------+-------+---------+\n",
            "|    2005|       5|        863|       P|        Maryam,Samad| 5/13/2005|(Head) Coach, Big...|            IND|          K|     Brooklyn|   NY|  11212|    10|      10|      0|        1|\n",
            "|    2005|       4|         E9|       P|      Helen,Marshall| 4/27/2004|     005 New Gen LLC|            LLC|          Q|       Queens|   NY|  11354|   500|       0|      0|        2|\n",
            "|    2005|       5|        758|       P|    Pasqualino,Russo|  9/4/2005|         02 LIFE LLC|            LLC|          K|     Brooklyn|   NY|  11214|   200|       0|      0|        2|\n",
            "|    2005|       3|        260|       P|William,Thompson,...|10/12/2003|1 Christopher Rea...|            LLC|          M|     New York|   NY|  10014|   500|       0|      0|        2|\n",
            "|    2005|       1|         BB|       P|      Anthony,Weiner| 4/12/2005|10 West 47th Stre...|            LLC|          M|     New York|   NY|  10036|  2500|       0|      0|        2|\n",
            "|    2005|       4|         ED|       P| Adolfo,Carrion, Jr.|  5/7/2003|100 Mosholu Parkw...|           PART|          Z| New Rochelle|   NY|  10801|   350|       0|      0|        2|\n",
            "|    2005|       5|        280|       P|        David,Yassky| 7/15/2004|101 West 75th St ...|            LLC|          M|     New York|   NY|  10023|   250|       0|      0|        2|\n",
            "|    2005|       5|        758|       P|    Pasqualino,Russo| 6/20/2005|105 Street Associ...|            LLC|          X|        Bronx|   NY|  10467|   100|       0|      0|        2|\n",
            "|    2005|       5|        444|       P|          Erik,Dilan| 3/28/2005|108 Central Assoc...|            LLC|          Z|   Great Neck|   NY|  11020|    75|       0|      0|        2|\n",
            "|    2005|       5|        283|       P|       James,Gennaro| 5/25/2005|108 Central Assoc...|            LLC|          Z|   Great Neck|   NY|  11020|    75|       0|      0|        2|\n",
            "|    2005|       5|        280|       P|        David,Yassky| 5/12/2004|     10th STreet LLC|            LLC|          K|     Brooklyn|   NY|  11211|  5000|       0|      0|        2|\n",
            "|    2005|       4|        226|       P|     Marty,Markowitz|11/18/2003|     10th Street LLC|            LLC|          K|     Brooklyn|   NY|  11211|  1000|       0|      0|        2|\n",
            "|    2005|       4|        226|       P|     Marty,Markowitz| 6/24/2004|     10th Street LLC|            LLC|          K|     Brooklyn|   NY|  11211|  2850|       0|   1000|        2|\n",
            "|    2005|       5|        280|       P|        David,Yassky| 5/12/2004|     10th STreet LLC|            LLC|          K|     Brooklyn|   NY|  11211| -2250|       0|      0|        0|\n",
            "|    2005|       1|         AY|       P|     Fernando,Ferrer|  5/9/2005|    10th Street, LLC|            LLC|          K|     Brooklyn|   NY|  11211|  2000|       0|      0|        2|\n",
            "|    2005|       5|         51|       P|         Tony,Avella| 5/24/2004|11-13 Hubert Stre...|            LLC|          M|     New York|   NY|  10013|   500|       0|      0|        2|\n",
            "|    2005|       5|         51|       P|         Tony,Avella|11/22/2004|11-13 Hubert Stre...|            LLC|          M|     New York|   NY|  10013|   250|       0|    500|        2|\n",
            "|    2005|       5|        283|       P|       James,Gennaro| 5/20/2004|11-13 Hubert Stre...|            LLC|          M|     New York|   NY|  10013|   250|       0|      0|        2|\n",
            "|    2005|       5|        204|       P|     Christine,Quinn|10/28/2004|11-13 Hubert Stre...|            LLC|          M|     New York|   NY|  10013|   500|       0|      0|        2|\n",
            "|    2005|       1|         AY|       P|     Fernando,Ferrer|10/17/2005|112 South Whitney...|            LLC|          Z|West Hartford|   CT|   6119|   125|       0|      0|        2|\n",
            "+--------+--------+-----------+--------+--------------------+----------+--------------------+---------------+-----------+-------------+-----+-------+------+--------+-------+---------+\n",
            "only showing top 20 rows\n",
            "\n"
          ]
        }
      ]
    },
    {
      "cell_type": "code",
      "metadata": {
        "id": "5p5HwOCEjlsd"
      },
      "source": [
        "from datetime import datetime\n",
        "from pyspark.sql.functions import col, udf\n",
        "from pyspark.sql.types import DateType"
      ],
      "execution_count": 13,
      "outputs": []
    },
    {
      "cell_type": "code",
      "metadata": {
        "id": "dbyFIRMwjlzM"
      },
      "source": [
        "# using lambda function to convert date col to datetype\n",
        "# changing datatypes of columns\n",
        "#func =  udf (lambda x: datetime.strptime(x, '%m/%d/%Y'), DateType())\n",
        "#df6 = df5.withColumn(\"Election\", df5[\"Election\"].cast(\"Integer\")) \\\n",
        " # .withColumn(\"OFFICECD\", df5[\"OFFICECD\"].cast(\"Integer\")) \\\n",
        "  #.withColumn(\"ZipCode\", df5[\"ZipCode\"].cast(\"Integer\")) \\\n",
        "  #.withColumn(\"Amount\", df5[\"Amount\"].cast(\"Float\")) \\\n",
        "  #.withColumn(\"MatchAmt\", df5[\"MatchAmt\"].cast(\"Float\")) \\\n",
        "  #.withColumn(\"PrevAmt\", df5[\"PrevAmt\"].cast(\"Float\")) \\\n",
        "  #.withColumn('Date', func(col('Date')))\n",
        "\n",
        "#df6.printSchema()\n",
        "\n",
        "#Keep CandidateID as string\n",
        "#.withColumn(\"CandidateID\", df4[\"CandidateID\"].cast(\"Integer\")) \\\n"
      ],
      "execution_count": 14,
      "outputs": []
    },
    {
      "cell_type": "code",
      "metadata": {
        "colab": {
          "base_uri": "https://localhost:8080/"
        },
        "id": "RmBZCyVOpt-C",
        "outputId": "39c876a2-cc17-478d-b205-35df7ede7521"
      },
      "source": [
        "df5.show()"
      ],
      "execution_count": 15,
      "outputs": [
        {
          "output_type": "stream",
          "name": "stdout",
          "text": [
            "+--------+--------+-----------+--------+--------------------+----------+--------------------+---------------+-----------+-------------+-----+-------+------+--------+-------+---------+\n",
            "|Election|OFFICECD|CandidateID|CANCLASS|       CandidateName|      Date|                Name|ContributorType|BoroughName|         City|State|ZipCode|Amount|MatchAmt|PrevAmt|PayMethod|\n",
            "+--------+--------+-----------+--------+--------------------+----------+--------------------+---------------+-----------+-------------+-----+-------+------+--------+-------+---------+\n",
            "|    2005|       5|        863|       P|        Maryam,Samad| 5/13/2005|(Head) Coach, Big...|            IND|          K|     Brooklyn|   NY|  11212|    10|      10|      0|        1|\n",
            "|    2005|       4|         E9|       P|      Helen,Marshall| 4/27/2004|     005 New Gen LLC|            LLC|          Q|       Queens|   NY|  11354|   500|       0|      0|        2|\n",
            "|    2005|       5|        758|       P|    Pasqualino,Russo|  9/4/2005|         02 LIFE LLC|            LLC|          K|     Brooklyn|   NY|  11214|   200|       0|      0|        2|\n",
            "|    2005|       3|        260|       P|William,Thompson,...|10/12/2003|1 Christopher Rea...|            LLC|          M|     New York|   NY|  10014|   500|       0|      0|        2|\n",
            "|    2005|       1|         BB|       P|      Anthony,Weiner| 4/12/2005|10 West 47th Stre...|            LLC|          M|     New York|   NY|  10036|  2500|       0|      0|        2|\n",
            "|    2005|       4|         ED|       P| Adolfo,Carrion, Jr.|  5/7/2003|100 Mosholu Parkw...|           PART|          Z| New Rochelle|   NY|  10801|   350|       0|      0|        2|\n",
            "|    2005|       5|        280|       P|        David,Yassky| 7/15/2004|101 West 75th St ...|            LLC|          M|     New York|   NY|  10023|   250|       0|      0|        2|\n",
            "|    2005|       5|        758|       P|    Pasqualino,Russo| 6/20/2005|105 Street Associ...|            LLC|          X|        Bronx|   NY|  10467|   100|       0|      0|        2|\n",
            "|    2005|       5|        444|       P|          Erik,Dilan| 3/28/2005|108 Central Assoc...|            LLC|          Z|   Great Neck|   NY|  11020|    75|       0|      0|        2|\n",
            "|    2005|       5|        283|       P|       James,Gennaro| 5/25/2005|108 Central Assoc...|            LLC|          Z|   Great Neck|   NY|  11020|    75|       0|      0|        2|\n",
            "|    2005|       5|        280|       P|        David,Yassky| 5/12/2004|     10th STreet LLC|            LLC|          K|     Brooklyn|   NY|  11211|  5000|       0|      0|        2|\n",
            "|    2005|       4|        226|       P|     Marty,Markowitz|11/18/2003|     10th Street LLC|            LLC|          K|     Brooklyn|   NY|  11211|  1000|       0|      0|        2|\n",
            "|    2005|       4|        226|       P|     Marty,Markowitz| 6/24/2004|     10th Street LLC|            LLC|          K|     Brooklyn|   NY|  11211|  2850|       0|   1000|        2|\n",
            "|    2005|       5|        280|       P|        David,Yassky| 5/12/2004|     10th STreet LLC|            LLC|          K|     Brooklyn|   NY|  11211| -2250|       0|      0|        0|\n",
            "|    2005|       1|         AY|       P|     Fernando,Ferrer|  5/9/2005|    10th Street, LLC|            LLC|          K|     Brooklyn|   NY|  11211|  2000|       0|      0|        2|\n",
            "|    2005|       5|         51|       P|         Tony,Avella| 5/24/2004|11-13 Hubert Stre...|            LLC|          M|     New York|   NY|  10013|   500|       0|      0|        2|\n",
            "|    2005|       5|         51|       P|         Tony,Avella|11/22/2004|11-13 Hubert Stre...|            LLC|          M|     New York|   NY|  10013|   250|       0|    500|        2|\n",
            "|    2005|       5|        283|       P|       James,Gennaro| 5/20/2004|11-13 Hubert Stre...|            LLC|          M|     New York|   NY|  10013|   250|       0|      0|        2|\n",
            "|    2005|       5|        204|       P|     Christine,Quinn|10/28/2004|11-13 Hubert Stre...|            LLC|          M|     New York|   NY|  10013|   500|       0|      0|        2|\n",
            "|    2005|       1|         AY|       P|     Fernando,Ferrer|10/17/2005|112 South Whitney...|            LLC|          Z|West Hartford|   CT|   6119|   125|       0|      0|        2|\n",
            "+--------+--------+-----------+--------+--------------------+----------+--------------------+---------------+-----------+-------------+-----+-------+------+--------+-------+---------+\n",
            "only showing top 20 rows\n",
            "\n"
          ]
        }
      ]
    },
    {
      "cell_type": "code",
      "metadata": {
        "id": "h1aCPuV3WPwC"
      },
      "source": [
        "#Change vaule name in ContributerType\n",
        "from pyspark.sql.functions import regexp_replace\n",
        "df7 = df5.withColumn('ContributorType', regexp_replace('ContributorType', 'CAN', 'Candidate')) \\\n",
        "  .withColumn('ContributorType', regexp_replace('ContributorType', 'CORP', 'Corporation')) \\\n",
        "  .withColumn('ContributorType', regexp_replace('ContributorType', 'EMPO', 'Labor Union')) \\\n",
        "  .withColumn('ContributorType', regexp_replace('ContributorType', 'FAM', 'Candidate Family')) \\\n",
        "  .withColumn('ContributorType', regexp_replace('ContributorType', 'IND', 'Individual')) \\\n",
        "  .withColumn('ContributorType', regexp_replace('ContributorType', 'PCOMZ', 'Party Committee')) \\\n",
        "  .withColumn('ContributorType', regexp_replace('ContributorType', 'ORG', 'Orgainization')) \\\n",
        "  .withColumn('ContributorType', regexp_replace('ContributorType', 'LLC', 'Limited Liability Company')) \\\n",
        "  .withColumn('ContributorType', regexp_replace('ContributorType', 'PCOMP', 'Political Action Committee')) \\\n",
        "  .withColumn('ContributorType', regexp_replace('ContributorType', 'SPO', 'Spouse')) \\\n",
        "  .withColumn('ContributorType', regexp_replace('ContributorType', 'OTHR', 'Other')) \\\n",
        "  .withColumn('ContributorType', regexp_replace('ContributorType', 'PCOMC', 'Candidate Committee')) \\\n",
        "  .withColumn('ContributorType', regexp_replace('ContributorType', 'PART', 'Individual')) \\\n"
      ],
      "execution_count": 16,
      "outputs": []
    },
    {
      "cell_type": "code",
      "metadata": {
        "colab": {
          "base_uri": "https://localhost:8080/"
        },
        "id": "b0wmwWLFrWpS",
        "outputId": "3dde0ef8-f592-40bd-ae08-64022349fe5c"
      },
      "source": [
        "df7.show()"
      ],
      "execution_count": 17,
      "outputs": [
        {
          "output_type": "stream",
          "name": "stdout",
          "text": [
            "+--------+--------+-----------+--------+--------------------+----------+--------------------+--------------------+-----------+-------------+-----+-------+------+--------+-------+---------+\n",
            "|Election|OFFICECD|CandidateID|CANCLASS|       CandidateName|      Date|                Name|     ContributorType|BoroughName|         City|State|ZipCode|Amount|MatchAmt|PrevAmt|PayMethod|\n",
            "+--------+--------+-----------+--------+--------------------+----------+--------------------+--------------------+-----------+-------------+-----+-------+------+--------+-------+---------+\n",
            "|    2005|       5|        863|       P|        Maryam,Samad| 5/13/2005|(Head) Coach, Big...|          Individual|          K|     Brooklyn|   NY|  11212|    10|      10|      0|        1|\n",
            "|    2005|       4|         E9|       P|      Helen,Marshall| 4/27/2004|     005 New Gen LLC|Limited Liability...|          Q|       Queens|   NY|  11354|   500|       0|      0|        2|\n",
            "|    2005|       5|        758|       P|    Pasqualino,Russo|  9/4/2005|         02 LIFE LLC|Limited Liability...|          K|     Brooklyn|   NY|  11214|   200|       0|      0|        2|\n",
            "|    2005|       3|        260|       P|William,Thompson,...|10/12/2003|1 Christopher Rea...|Limited Liability...|          M|     New York|   NY|  10014|   500|       0|      0|        2|\n",
            "|    2005|       1|         BB|       P|      Anthony,Weiner| 4/12/2005|10 West 47th Stre...|Limited Liability...|          M|     New York|   NY|  10036|  2500|       0|      0|        2|\n",
            "|    2005|       4|         ED|       P| Adolfo,Carrion, Jr.|  5/7/2003|100 Mosholu Parkw...|          Individual|          Z| New Rochelle|   NY|  10801|   350|       0|      0|        2|\n",
            "|    2005|       5|        280|       P|        David,Yassky| 7/15/2004|101 West 75th St ...|Limited Liability...|          M|     New York|   NY|  10023|   250|       0|      0|        2|\n",
            "|    2005|       5|        758|       P|    Pasqualino,Russo| 6/20/2005|105 Street Associ...|Limited Liability...|          X|        Bronx|   NY|  10467|   100|       0|      0|        2|\n",
            "|    2005|       5|        444|       P|          Erik,Dilan| 3/28/2005|108 Central Assoc...|Limited Liability...|          Z|   Great Neck|   NY|  11020|    75|       0|      0|        2|\n",
            "|    2005|       5|        283|       P|       James,Gennaro| 5/25/2005|108 Central Assoc...|Limited Liability...|          Z|   Great Neck|   NY|  11020|    75|       0|      0|        2|\n",
            "|    2005|       5|        280|       P|        David,Yassky| 5/12/2004|     10th STreet LLC|Limited Liability...|          K|     Brooklyn|   NY|  11211|  5000|       0|      0|        2|\n",
            "|    2005|       4|        226|       P|     Marty,Markowitz|11/18/2003|     10th Street LLC|Limited Liability...|          K|     Brooklyn|   NY|  11211|  1000|       0|      0|        2|\n",
            "|    2005|       4|        226|       P|     Marty,Markowitz| 6/24/2004|     10th Street LLC|Limited Liability...|          K|     Brooklyn|   NY|  11211|  2850|       0|   1000|        2|\n",
            "|    2005|       5|        280|       P|        David,Yassky| 5/12/2004|     10th STreet LLC|Limited Liability...|          K|     Brooklyn|   NY|  11211| -2250|       0|      0|        0|\n",
            "|    2005|       1|         AY|       P|     Fernando,Ferrer|  5/9/2005|    10th Street, LLC|Limited Liability...|          K|     Brooklyn|   NY|  11211|  2000|       0|      0|        2|\n",
            "|    2005|       5|         51|       P|         Tony,Avella| 5/24/2004|11-13 Hubert Stre...|Limited Liability...|          M|     New York|   NY|  10013|   500|       0|      0|        2|\n",
            "|    2005|       5|         51|       P|         Tony,Avella|11/22/2004|11-13 Hubert Stre...|Limited Liability...|          M|     New York|   NY|  10013|   250|       0|    500|        2|\n",
            "|    2005|       5|        283|       P|       James,Gennaro| 5/20/2004|11-13 Hubert Stre...|Limited Liability...|          M|     New York|   NY|  10013|   250|       0|      0|        2|\n",
            "|    2005|       5|        204|       P|     Christine,Quinn|10/28/2004|11-13 Hubert Stre...|Limited Liability...|          M|     New York|   NY|  10013|   500|       0|      0|        2|\n",
            "|    2005|       1|         AY|       P|     Fernando,Ferrer|10/17/2005|112 South Whitney...|Limited Liability...|          Z|West Hartford|   CT|   6119|   125|       0|      0|        2|\n",
            "+--------+--------+-----------+--------+--------------------+----------+--------------------+--------------------+-----------+-------------+-----+-------+------+--------+-------+---------+\n",
            "only showing top 20 rows\n",
            "\n"
          ]
        }
      ]
    },
    {
      "cell_type": "code",
      "metadata": {
        "id": "EDLKVpihXzJY"
      },
      "source": [
        "#Change Payment Method Name\n",
        "df8=df7.withColumn('PayMethod', regexp_replace('PayMethod','0','Unknown')) \\\n",
        "  .withColumn('PayMethod', regexp_replace('PayMethod','1','Cash')) \\\n",
        "  .withColumn('PayMethod', regexp_replace('PayMethod','2','Check')) \\\n",
        "  .withColumn('PayMethod', regexp_replace('PayMethod','3','Other')) \\\n",
        "  .withColumn('PayMethod', regexp_replace('PayMethod','4','Credit Card')) \\\n",
        "  .withColumn('PayMethod', regexp_replace('PayMethod','5','Money Order')) \\"
      ],
      "execution_count": 18,
      "outputs": []
    },
    {
      "cell_type": "code",
      "metadata": {
        "id": "88U4VeLJpV1Q",
        "colab": {
          "base_uri": "https://localhost:8080/"
        },
        "outputId": "ab646d20-0bfc-4d9c-e236-2aee54357e1f"
      },
      "source": [
        "df8.show()"
      ],
      "execution_count": 19,
      "outputs": [
        {
          "output_type": "stream",
          "name": "stdout",
          "text": [
            "+--------+--------+-----------+--------+--------------------+----------+--------------------+--------------------+-----------+-------------+-----+-------+------+--------+-------+---------+\n",
            "|Election|OFFICECD|CandidateID|CANCLASS|       CandidateName|      Date|                Name|     ContributorType|BoroughName|         City|State|ZipCode|Amount|MatchAmt|PrevAmt|PayMethod|\n",
            "+--------+--------+-----------+--------+--------------------+----------+--------------------+--------------------+-----------+-------------+-----+-------+------+--------+-------+---------+\n",
            "|    2005|       5|        863|       P|        Maryam,Samad| 5/13/2005|(Head) Coach, Big...|          Individual|          K|     Brooklyn|   NY|  11212|    10|      10|      0|     Cash|\n",
            "|    2005|       4|         E9|       P|      Helen,Marshall| 4/27/2004|     005 New Gen LLC|Limited Liability...|          Q|       Queens|   NY|  11354|   500|       0|      0|    Check|\n",
            "|    2005|       5|        758|       P|    Pasqualino,Russo|  9/4/2005|         02 LIFE LLC|Limited Liability...|          K|     Brooklyn|   NY|  11214|   200|       0|      0|    Check|\n",
            "|    2005|       3|        260|       P|William,Thompson,...|10/12/2003|1 Christopher Rea...|Limited Liability...|          M|     New York|   NY|  10014|   500|       0|      0|    Check|\n",
            "|    2005|       1|         BB|       P|      Anthony,Weiner| 4/12/2005|10 West 47th Stre...|Limited Liability...|          M|     New York|   NY|  10036|  2500|       0|      0|    Check|\n",
            "|    2005|       4|         ED|       P| Adolfo,Carrion, Jr.|  5/7/2003|100 Mosholu Parkw...|          Individual|          Z| New Rochelle|   NY|  10801|   350|       0|      0|    Check|\n",
            "|    2005|       5|        280|       P|        David,Yassky| 7/15/2004|101 West 75th St ...|Limited Liability...|          M|     New York|   NY|  10023|   250|       0|      0|    Check|\n",
            "|    2005|       5|        758|       P|    Pasqualino,Russo| 6/20/2005|105 Street Associ...|Limited Liability...|          X|        Bronx|   NY|  10467|   100|       0|      0|    Check|\n",
            "|    2005|       5|        444|       P|          Erik,Dilan| 3/28/2005|108 Central Assoc...|Limited Liability...|          Z|   Great Neck|   NY|  11020|    75|       0|      0|    Check|\n",
            "|    2005|       5|        283|       P|       James,Gennaro| 5/25/2005|108 Central Assoc...|Limited Liability...|          Z|   Great Neck|   NY|  11020|    75|       0|      0|    Check|\n",
            "|    2005|       5|        280|       P|        David,Yassky| 5/12/2004|     10th STreet LLC|Limited Liability...|          K|     Brooklyn|   NY|  11211|  5000|       0|      0|    Check|\n",
            "|    2005|       4|        226|       P|     Marty,Markowitz|11/18/2003|     10th Street LLC|Limited Liability...|          K|     Brooklyn|   NY|  11211|  1000|       0|      0|    Check|\n",
            "|    2005|       4|        226|       P|     Marty,Markowitz| 6/24/2004|     10th Street LLC|Limited Liability...|          K|     Brooklyn|   NY|  11211|  2850|       0|   1000|    Check|\n",
            "|    2005|       5|        280|       P|        David,Yassky| 5/12/2004|     10th STreet LLC|Limited Liability...|          K|     Brooklyn|   NY|  11211| -2250|       0|      0|  Unknown|\n",
            "|    2005|       1|         AY|       P|     Fernando,Ferrer|  5/9/2005|    10th Street, LLC|Limited Liability...|          K|     Brooklyn|   NY|  11211|  2000|       0|      0|    Check|\n",
            "|    2005|       5|         51|       P|         Tony,Avella| 5/24/2004|11-13 Hubert Stre...|Limited Liability...|          M|     New York|   NY|  10013|   500|       0|      0|    Check|\n",
            "|    2005|       5|         51|       P|         Tony,Avella|11/22/2004|11-13 Hubert Stre...|Limited Liability...|          M|     New York|   NY|  10013|   250|       0|    500|    Check|\n",
            "|    2005|       5|        283|       P|       James,Gennaro| 5/20/2004|11-13 Hubert Stre...|Limited Liability...|          M|     New York|   NY|  10013|   250|       0|      0|    Check|\n",
            "|    2005|       5|        204|       P|     Christine,Quinn|10/28/2004|11-13 Hubert Stre...|Limited Liability...|          M|     New York|   NY|  10013|   500|       0|      0|    Check|\n",
            "|    2005|       1|         AY|       P|     Fernando,Ferrer|10/17/2005|112 South Whitney...|Limited Liability...|          Z|West Hartford|   CT|   6119|   125|       0|      0|    Check|\n",
            "+--------+--------+-----------+--------+--------------------+----------+--------------------+--------------------+-----------+-------------+-----+-------+------+--------+-------+---------+\n",
            "only showing top 20 rows\n",
            "\n"
          ]
        }
      ]
    },
    {
      "cell_type": "code",
      "metadata": {
        "id": "fy4JAvyQWRl7"
      },
      "source": [
        "#Change Borough name\n",
        "df9 = df8.withColumn('BoroughName', regexp_replace('BoroughName', 'K', 'Brooklyn')) \\\n",
        "  .withColumn('BoroughName', regexp_replace('BoroughName', 'M', 'Manhattan')) \\\n",
        "  .withColumn('BoroughName', regexp_replace('BoroughName', 'Q', 'Queens')) \\\n",
        "  .withColumn('BoroughName', regexp_replace('BoroughName', 'S', 'Staten Island')) \\\n",
        "  .withColumn('BoroughName', regexp_replace('BoroughName', 'X', 'Bronx')) \\\n",
        "  .withColumn('BoroughName', regexp_replace('BoroughName', 'Z', 'Other')) \\"
      ],
      "execution_count": 20,
      "outputs": []
    },
    {
      "cell_type": "code",
      "metadata": {
        "id": "fM_kC3ViNFqN"
      },
      "source": [
        "#Call only Mayor (1) and particaptes (P) within Dataframe\n",
        "df10 = df9.filter((df8.OFFICECD==\"1\"))"
      ],
      "execution_count": 21,
      "outputs": []
    },
    {
      "cell_type": "code",
      "metadata": {
        "id": "WmdLbDEzQAyc",
        "colab": {
          "base_uri": "https://localhost:8080/"
        },
        "outputId": "e0f1fcb8-8efd-4445-f60e-b71ca6b5ed00"
      },
      "source": [
        "#Check the above dataframe to make sure only unique values between the OFFICECD is 1 \n",
        "df10.select('OFFICECD').distinct().show()"
      ],
      "execution_count": 22,
      "outputs": [
        {
          "output_type": "stream",
          "name": "stdout",
          "text": [
            "+--------+\n",
            "|OFFICECD|\n",
            "+--------+\n",
            "|       1|\n",
            "+--------+\n",
            "\n"
          ]
        }
      ]
    },
    {
      "cell_type": "code",
      "metadata": {
        "id": "4kbDs5ApZtEu"
      },
      "source": [
        "#Drop OFFICECD and CANCLASS\n",
        "list2 = ['OFFICECD', 'CANCLASS'] \n",
        "df11 = df10.drop(*list2)"
      ],
      "execution_count": 23,
      "outputs": []
    },
    {
      "cell_type": "code",
      "metadata": {
        "id": "j4uude7r_d_-"
      },
      "source": [
        "#Filter Dataframe removing the null CandidateID values\n",
        "df12 = df11.filter(df10.CandidateID.isNotNull())"
      ],
      "execution_count": 24,
      "outputs": []
    },
    {
      "cell_type": "code",
      "metadata": {
        "id": "jKdRMcW-9mtO",
        "colab": {
          "base_uri": "https://localhost:8080/"
        },
        "outputId": "19022fea-0be1-4e57-d56f-41eeb2ee9546"
      },
      "source": [
        "# ADD AMNT and MATCHAMNT PrevAmnt\n",
        "from pyspark.sql.functions import col\n",
        "clean_indiv_2005_df = df11.withColumn(\"TotalAmount\", col(\"Amount\")+col(\"MatchAmt\")+col('PrevAmt'))\n",
        "clean_indiv_2005_df.show()"
      ],
      "execution_count": 25,
      "outputs": [
        {
          "output_type": "stream",
          "name": "stdout",
          "text": [
            "+--------+-----------+------------------+----------+--------------------+--------------------+-----------+-------------+-----+-------+------+--------+-------+---------+-----------+\n",
            "|Election|CandidateID|     CandidateName|      Date|                Name|     ContributorType|BoroughName|         City|State|ZipCode|Amount|MatchAmt|PrevAmt|PayMethod|TotalAmount|\n",
            "+--------+-----------+------------------+----------+--------------------+--------------------+-----------+-------------+-----+-------+------+--------+-------+---------+-----------+\n",
            "|    2005|         BB|    Anthony,Weiner| 4/12/2005|10 West 47th Stre...|Limited Liability...|  Manhattan|     New York|   NY|  10036|  2500|       0|      0|    Check|     2500.0|\n",
            "|    2005|         AY|   Fernando,Ferrer|  5/9/2005|    10th Street, LLC|Limited Liability...|   Brooklyn|     Brooklyn|   NY|  11211|  2000|       0|      0|    Check|     2000.0|\n",
            "|    2005|         AY|   Fernando,Ferrer|10/17/2005|112 South Whitney...|Limited Liability...|      Other|West Hartford|   CT|   6119|   125|       0|      0|    Check|      125.0|\n",
            "|    2005|         B6|C. Virginia,Fields| 6/22/2004|119 East 35th Street|               Other|  Manhattan|     New York|   NY|  10006|   100|       0|      0|    Check|      100.0|\n",
            "|    2005|         BB|    Anthony,Weiner| 3/28/2004|           1199 SEIU|Political Action ...|  Manhattan|     New York|   NY|  10036|  4950|       0|      0|    Check|     4950.0|\n",
            "|    2005|         Y2| A. Gifford,Miller| 5/22/2003|   1199 SEIU NYS Paf|Political Action ...|  Manhattan|     New York|   NY|  10036|  2200|       0|   2750|    Check|     4950.0|\n",
            "|    2005|         Y2| A. Gifford,Miller| 5/17/2002|   1199 SEIU NYS Paf|Political Action ...|  Manhattan|     New York|   NY|  10036|  1000|       0|      0|    Check|     1000.0|\n",
            "|    2005|         Y2| A. Gifford,Miller| 7/11/2002|   1199 SEIU NYS Paf|Political Action ...|  Manhattan|     New York|   NY|  10036|  1750|       0|   1000|    Check|     2750.0|\n",
            "|    2005|         AY|   Fernando,Ferrer| 9/28/2005|1199/SEIU NYS Pol...|Political Action ...|  Manhattan|     New York|   NY|  10036|  4950|       0|      0|    Check|     4950.0|\n",
            "|    2005|         AY|   Fernando,Ferrer| 10/4/2004| 125 Kent Avenue LLC|Limited Liability...|   Brooklyn|     Brooklyn|   NY|  11211|   200|       0|      0|    Check|      200.0|\n",
            "|    2005|         BB|    Anthony,Weiner|  1/3/2005|125 North 10th St...|Limited Liability...|      Other|       Elmont|   NY|  11003|  4950|       0|      0|    Check|     4950.0|\n",
            "|    2005|         AY|   Fernando,Ferrer| 1/11/2005|1280 Commonwealth...|Limited Liability...|      Bronx|        Bronx|   NY|  10461|   500|       0|      0|    Check|      500.0|\n",
            "|    2005|         B6|C. Virginia,Fields| 6/12/2002|135 East 57th Str...|Limited Liability...|  Manhattan|     New York|   NY|  10022|  1000|       0|      0|    Check|     1000.0|\n",
            "|    2005|         AY|   Fernando,Ferrer| 1/11/2005|137 & 138 Realty LLC|Limited Liability...|  Manhattan|     New York|   NY|  10016|   500|       0|      0|    Check|      500.0|\n",
            "|    2005|         AY|   Fernando,Ferrer|10/20/2004|    1420 Realty, LLC|Limited Liability...|      Bronx|        Bronx|   NY|  10461|  1000|       0|      0|    Check|     1000.0|\n",
            "|    2005|         BB|    Anthony,Weiner| 6/27/2005|147 Group Realty LLC|Limited Liability...|      Other|   Searington|   NY|  11507|   250|       0|      0|    Check|      250.0|\n",
            "|    2005|         AY|   Fernando,Ferrer| 9/19/2005|151st Street Hold...|Limited Liability...|      Other|        Miami|   FL|  33142|  4950|       0|      0|    Check|     4950.0|\n",
            "|    2005|         AY|   Fernando,Ferrer| 7/11/2004|1628-1630 Broadwa...|Limited Liability...|  Manhattan|     New York|   NY|  10019|  4950|       0|      0|    Check|     4950.0|\n",
            "|    2005|         AY|   Fernando,Ferrer| 1/27/2005|1695 Eastchester LLC|Limited Liability...|      Bronx|        Bronx|   NY|  10461|  1000|       0|      0|    Check|     1000.0|\n",
            "|    2005|         B6|C. Virginia,Fields| 12/4/2003|   1800 Park Ave LLC|Limited Liability...|  Manhattan|     New York|   NY|  10022|  1000|       0|      0|    Check|     1000.0|\n",
            "+--------+-----------+------------------+----------+--------------------+--------------------+-----------+-------------+-----+-------+------+--------+-------+---------+-----------+\n",
            "only showing top 20 rows\n",
            "\n"
          ]
        }
      ]
    },
    {
      "cell_type": "code",
      "metadata": {
        "id": "oAV3a6jXmJTP"
      },
      "source": [
        "#Export to Clean CSV\n",
        "#clean_indiv_2005_df.toPandas().to_csv(\"Clean_Indivdual_2005.csv\", header=True)"
      ],
      "execution_count": 26,
      "outputs": []
    },
    {
      "cell_type": "markdown",
      "metadata": {
        "id": "1t7gDM4IKH8Y"
      },
      "source": [
        "## **2005 Committee Contributions**"
      ]
    },
    {
      "cell_type": "code",
      "metadata": {
        "id": "hraQT1VmLOhL",
        "colab": {
          "base_uri": "https://localhost:8080/"
        },
        "outputId": "d6d9866d-9f72-4a56-c687-b7481e203a8d"
      },
      "source": [
        "# Read in data from S3 Buckets\n",
        "from pyspark import SparkFiles\n",
        "url = \"https://databootcamp-final-05.s3.amazonaws.com/Resources/Committee+Contributions+2005+(X).csv\"\n",
        "spark.sparkContext.addFile(url)\n",
        "df = spark.read.csv(SparkFiles.get(\"Committee+Contributions+2005+(X).csv\"), sep=\",\", header=True)\n",
        "df.show()"
      ],
      "execution_count": 27,
      "outputs": [
        {
          "output_type": "stream",
          "name": "stdout",
          "text": [
            "+--------+--------+-------+--------+-------------------+---------+------+--------+------+----------+--------+----------+----------+--------------------+------+-----+-------+---------+---------+-------------+-----+-----+----------+-------+--------+----------+-------+--------+----+---------+--------+----------+--------+-------------+--------+--------+--------+--------+-----+------+----------------+----------+-------------+----------+--------+---------+---------+--------+---------+------+-------+----------+\n",
            "|ELECTION|OFFICECD|RECIPID|CANCLASS|          RECIPNAME|COMMITTEE|FILING|SCHEDULE|PAGENO|SEQUENCENO|   REFNO|      DATE|REFUNDDATE|                NAME|C_CODE|STRNO|STRNAME|APARTMENT|BOROUGHCD|         CITY|STATE|  ZIP|OCCUPATION|EMPNAME|EMPSTRNO|EMPSTRNAME|EMPCITY|EMPSTATE|AMNT|MATCHAMNT|PREVAMNT|PAY_METHOD|INTERMNO|   INTERMNAME|INTSTRNO|INTSTRNM|INTAPTNO| INTCITY|INTST|INTZIP|      INTEMPNAME|INTEMPSTNO|   INTEMPSTNM|INTEMPCITY|INTEMPST|INTOCCUPA|PURPOSECD|EXEMPTCD|ADJTYPECD|RR_IND|SEG_IND|INT_C_CODE|\n",
            "+--------+--------+-------+--------+-------------------+---------+------+--------+------+----------+--------+----------+----------+--------------------+------+-----+-------+---------+---------+-------------+-----+-----+----------+-------+--------+----------+-------+--------+----+---------+--------+----------+--------+-------------+--------+--------+--------+--------+-----+------+----------------+----------+-------------+----------+--------+---------+---------+--------+---------+------+-------+----------+\n",
            "|    2005|       1|     BB|       P|  Weiner, Anthony D|        H|     8|     ABC|  null|      null|R0005497| 4/12/2005|      null|10 West 47th Stre...|   LLC| null|   null|     null|        M|     New York|   NY|10036|      null|   null|    null|      null|   null|    null|2500|        0|       0|         2|    null|         null|    null|    null|    null|    null| null|  null|            null|      null|         null|      null|    null|     null|     null|    null|     null|     N|      N|      null|\n",
            "|    2005|       1|     AY|       P|   Ferrer, Fernando|        I|     8|     ABC|  null|      null|R0016541|  5/9/2005|      null|    10th Street, LLC|   LLC| null|   null|     null|        K|     Brooklyn|   NY|11211|      null|   null|    null|      null|   null|    null|2000|        0|       0|         2|    null|         null|    null|    null|    null|    null| null|  null|            null|      null|         null|      null|    null|     null|     null|    null|     null|     N|      N|      null|\n",
            "|    2005|       1|     AY|       P|   Ferrer, Fernando|        I|    15|     ABC|  null|      null|R0026538|10/17/2005|      null|112 South Whitney...|   LLC| null|   null|     null|        Z|West Hartford|   CT| 6119|      null|   null|    null|      null|   null|    null| 125|        0|       0|         2|    null|         null|    null|    null|    null|    null| null|  null|            null|      null|         null|      null|    null|     null|     null|    null|     null|     N|      N|      null|\n",
            "|    2005|       1|     B6|       P|Fields, C. Virginia|        J|     5|     ABC|  null|      null|R0005035| 6/22/2004|      null|119 East 35th Street|  OTHR| null|   null|     null|        M|     New York|   NY|10006|      null|   null|    null|      null|   null|    null| 100|        0|       0|         2|    null|         null|    null|    null|    null|    null| null|  null|            null|      null|         null|      null|    null|     null|     null|    null|     null|     N|      N|      null|\n",
            "|    2005|       1|     BB|       P|  Weiner, Anthony D|        H|     5|     ABC|  null|      null|R0000051| 3/28/2004|      null|           1199 SEIU| PCOMP| null|   null|     null|        M|     New York|   NY|10036|      null|   null|    null|      null|   null|    null|4950|        0|       0|         2|    null|         null|    null|    null|    null|    null| null|  null|            null|      null|         null|      null|    null|     null|     null|    null|     null|     N|      N|      null|\n",
            "|    2005|       1|     Y2|       P| Miller, A. Gifford|        H|     1|     ABC|  null|      null|R0000013| 5/17/2002|      null|   1199 SEIU NYS Paf| PCOMP| null|   null|     null|        M|     New York|   NY|10036|      null|   null|    null|      null|   null|    null|1000|        0|       0|         2|       1|Yoswein, Joni|    null|    null|    null|Brooklyn|   NY| 11201|Yoswein New York|        74|Trinity Place|  New York|      NY|President|     null|    null|     null|     N|      N|       IND|\n",
            "|    2005|       1|     Y2|       P| Miller, A. Gifford|        H|     1|     ABC|  null|      null|R0000684| 7/11/2002|      null|   1199 SEIU NYS Paf| PCOMP| null|   null|     null|        M|     New York|   NY|10036|      null|   null|    null|      null|   null|    null|1750|        0|    1000|         2|    null|         null|    null|    null|    null|    null| null|  null|            null|      null|         null|      null|    null|     null|     null|    null|     null|     N|      N|      null|\n",
            "|    2005|       1|     Y2|       P| Miller, A. Gifford|        H|     3|     ABC|  null|      null|R0004924| 5/22/2003|      null|   1199 SEIU NYS Paf| PCOMP| null|   null|     null|        M|     New York|   NY|10036|      null|   null|    null|      null|   null|    null|2200|        0|    2750|         2|    null|         null|    null|    null|    null|    null| null|  null|            null|      null|         null|      null|    null|     null|     null|    null|     null|     N|      N|      null|\n",
            "|    2005|       1|     AY|       P|   Ferrer, Fernando|        I|    14|     ABC|  null|      null|R0024353| 9/28/2005|      null|1199/SEIU NYS Pol...| PCOMP| null|   null|     null|        M|     New York|   NY|10036|      null|   null|    null|      null|   null|    null|4950|        0|       0|         2|    null|         null|    null|    null|    null|    null| null|  null|            null|      null|         null|      null|    null|     null|     null|    null|     null|     N|      N|      null|\n",
            "|    2005|       1|     AY|       P|   Ferrer, Fernando|        I|     6|     ABC|  null|      null|R0010602| 10/4/2004|      null| 125 Kent Avenue LLC|   LLC| null|   null|     null|        K|     Brooklyn|   NY|11211|      null|   null|    null|      null|   null|    null| 200|        0|       0|         2|    null|         null|    null|    null|    null|    null| null|  null|            null|      null|         null|      null|    null|     null|     null|    null|     null|     N|      N|      null|\n",
            "|    2005|       1|     BB|       P|  Weiner, Anthony D|        H|     6|     ABC|  null|      null|R0004084|  1/3/2005|      null|125 North 10th St...|   LLC| null|   null|     null|        Z|       Elmont|   NY|11003|      null|   null|    null|      null|   null|    null|4950|        0|       0|         2|    null|         null|    null|    null|    null|    null| null|  null|            null|      null|         null|      null|    null|     null|     null|    null|     null|     N|      N|      null|\n",
            "|    2005|       1|     AY|       P|   Ferrer, Fernando|        I|     6|     ABC|  null|      null|R0012712| 1/11/2005|      null|1280 Commonwealth...|   LLC| null|   null|     null|        X|        Bronx|   NY|10461|      null|   null|    null|      null|   null|    null| 500|        0|       0|         2|    null|         null|    null|    null|    null|    null| null|  null|            null|      null|         null|      null|    null|     null|     null|    null|     null|     N|      N|      null|\n",
            "|    2005|       1|     B6|       P|Fields, C. Virginia|        J|     3|     ABC|  null|      null|R0001677| 6/12/2002|      null|135 East 57th Str...|   LLC| null|   null|     null|        M|     New York|   NY|10022|      null|   null|    null|      null|   null|    null|1000|        0|       0|         2|    null|         null|    null|    null|    null|    null| null|  null|            null|      null|         null|      null|    null|     null|     null|    null|     null|     N|      N|      null|\n",
            "|    2005|       1|     AY|       P|   Ferrer, Fernando|        I|     6|     ABC|  null|      null|R0012664| 1/11/2005|      null|137 & 138 Realty LLC|   LLC| null|   null|     null|        M|     New York|   NY|10016|      null|   null|    null|      null|   null|    null| 500|        0|       0|         2|    null|         null|    null|    null|    null|    null| null|  null|            null|      null|         null|      null|    null|     null|     null|    null|     null|     N|      N|      null|\n",
            "|    2005|       1|     AY|       P|   Ferrer, Fernando|        I|     6|     ABC|  null|      null|R0010892|10/20/2004|      null|    1420 Realty, LLC|   LLC| null|   null|     null|        X|        Bronx|   NY|10461|      null|   null|    null|      null|   null|    null|1000|        0|       0|         2|    null|         null|    null|    null|    null|    null| null|  null|            null|      null|         null|      null|    null|     null|     null|    null|     null|     N|      N|      null|\n",
            "|    2005|       1|     BB|       P|  Weiner, Anthony D|        H|    10|     ABC|  null|      null|R0007730| 6/27/2005|      null|147 Group Realty LLC|   LLC| null|   null|     null|        Z|   Searington|   NY|11507|      null|   null|    null|      null|   null|    null| 250|        0|       0|         2|    null|         null|    null|    null|    null|    null| null|  null|            null|      null|         null|      null|    null|     null|     null|    null|     null|     N|      N|      null|\n",
            "|    2005|       1|     AY|       P|   Ferrer, Fernando|        I|    13|     ABC|  null|      null|R0023726| 9/19/2005|      null|151st Street Hold...|   LLC| null|   null|     null|        Z|        Miami|   FL|33142|      null|   null|    null|      null|   null|    null|4950|        0|       0|         2|    null|         null|    null|    null|    null|    null| null|  null|            null|      null|         null|      null|    null|     null|     null|    null|     null|     N|      N|      null|\n",
            "|    2005|       1|     AY|       P|   Ferrer, Fernando|        I|     5|     ABC|  null|      null|R0009796| 7/11/2004|      null|1628-1630 Broadwa...|   LLC| null|   null|     null|        M|     New York|   NY|10019|      null|   null|    null|      null|   null|    null|4950|        0|       0|         2|    null|         null|    null|    null|    null|    null| null|  null|            null|      null|         null|      null|    null|     null|     null|    null|     null|     N|      N|      null|\n",
            "|    2005|       1|     AY|       P|   Ferrer, Fernando|        I|     7|     ABC|  null|      null|R0013269| 1/27/2005|      null|1695 Eastchester LLC|   LLC| null|   null|     null|        X|        Bronx|   NY|10461|      null|   null|    null|      null|   null|    null|1000|        0|       0|         2|    null|         null|    null|    null|    null|    null| null|  null|            null|      null|         null|      null|    null|     null|     null|    null|     null|     N|      N|      null|\n",
            "|    2005|       1|     B6|       P|Fields, C. Virginia|        J|     4|     ABC|  null|      null|R0003085| 12/4/2003|      null|   1800 Park Ave LLC|   LLC| null|   null|     null|        M|     New York|   NY|10022|      null|   null|    null|      null|   null|    null|1000|        0|       0|         2|    null|         null|    null|    null|    null|    null| null|  null|            null|      null|         null|      null|    null|     null|     null|    null|     null|     N|      N|      null|\n",
            "+--------+--------+-------+--------+-------------------+---------+------+--------+------+----------+--------+----------+----------+--------------------+------+-----+-------+---------+---------+-------------+-----+-----+----------+-------+--------+----------+-------+--------+----+---------+--------+----------+--------+-------------+--------+--------+--------+--------+-----+------+----------------+----------+-------------+----------+--------+---------+---------+--------+---------+------+-------+----------+\n",
            "only showing top 20 rows\n",
            "\n"
          ]
        }
      ]
    },
    {
      "cell_type": "code",
      "metadata": {
        "id": "S-dAX_VzLOhL",
        "colab": {
          "base_uri": "https://localhost:8080/"
        },
        "outputId": "3e133098-25f6-446a-cb58-f8ee01b96141"
      },
      "source": [
        "# Remove multiple columns\n",
        "list = ['COMMITTEE', 'FILING', 'SCHEDULE', 'PAGENO', 'SEQUENCENO','REFNO', 'STRNO', 'STRNAME', 'APARTMENT', 'OCCUPATION', 'EMPNAME', 'EMPSTRNO', 'EMPSTRNAME',\n",
        "                'EMPCITY','REFUNDDATE','INTERMNO', 'INTERMNAME', 'INTSTRNO', 'INTSTRNM', 'INTSTRNM', 'INTAPTNO',\n",
        "                'INTCITY', 'INTST','INTZIP', 'INTEMPNAME', 'INTEMPSTNO', 'INTEMPSTNM', 'INTEMPCITY', 'INTEMPST', 'INTOCCUPA' ,'PURPOSECD', 'EXEMPTCD','ADJTYPECD', 'RR_IND', 'SEG_IND','INT_C_CODE'] \n",
        "df = df.drop(*list)\n",
        "df.show()"
      ],
      "execution_count": 28,
      "outputs": [
        {
          "output_type": "stream",
          "name": "stdout",
          "text": [
            "+--------+--------+-------+--------+-------------------+----------+--------------------+------+---------+-------------+-----+-----+--------+----+---------+--------+----------+\n",
            "|ELECTION|OFFICECD|RECIPID|CANCLASS|          RECIPNAME|      DATE|                NAME|C_CODE|BOROUGHCD|         CITY|STATE|  ZIP|EMPSTATE|AMNT|MATCHAMNT|PREVAMNT|PAY_METHOD|\n",
            "+--------+--------+-------+--------+-------------------+----------+--------------------+------+---------+-------------+-----+-----+--------+----+---------+--------+----------+\n",
            "|    2005|       1|     BB|       P|  Weiner, Anthony D| 4/12/2005|10 West 47th Stre...|   LLC|        M|     New York|   NY|10036|    null|2500|        0|       0|         2|\n",
            "|    2005|       1|     AY|       P|   Ferrer, Fernando|  5/9/2005|    10th Street, LLC|   LLC|        K|     Brooklyn|   NY|11211|    null|2000|        0|       0|         2|\n",
            "|    2005|       1|     AY|       P|   Ferrer, Fernando|10/17/2005|112 South Whitney...|   LLC|        Z|West Hartford|   CT| 6119|    null| 125|        0|       0|         2|\n",
            "|    2005|       1|     B6|       P|Fields, C. Virginia| 6/22/2004|119 East 35th Street|  OTHR|        M|     New York|   NY|10006|    null| 100|        0|       0|         2|\n",
            "|    2005|       1|     BB|       P|  Weiner, Anthony D| 3/28/2004|           1199 SEIU| PCOMP|        M|     New York|   NY|10036|    null|4950|        0|       0|         2|\n",
            "|    2005|       1|     Y2|       P| Miller, A. Gifford| 5/17/2002|   1199 SEIU NYS Paf| PCOMP|        M|     New York|   NY|10036|    null|1000|        0|       0|         2|\n",
            "|    2005|       1|     Y2|       P| Miller, A. Gifford| 7/11/2002|   1199 SEIU NYS Paf| PCOMP|        M|     New York|   NY|10036|    null|1750|        0|    1000|         2|\n",
            "|    2005|       1|     Y2|       P| Miller, A. Gifford| 5/22/2003|   1199 SEIU NYS Paf| PCOMP|        M|     New York|   NY|10036|    null|2200|        0|    2750|         2|\n",
            "|    2005|       1|     AY|       P|   Ferrer, Fernando| 9/28/2005|1199/SEIU NYS Pol...| PCOMP|        M|     New York|   NY|10036|    null|4950|        0|       0|         2|\n",
            "|    2005|       1|     AY|       P|   Ferrer, Fernando| 10/4/2004| 125 Kent Avenue LLC|   LLC|        K|     Brooklyn|   NY|11211|    null| 200|        0|       0|         2|\n",
            "|    2005|       1|     BB|       P|  Weiner, Anthony D|  1/3/2005|125 North 10th St...|   LLC|        Z|       Elmont|   NY|11003|    null|4950|        0|       0|         2|\n",
            "|    2005|       1|     AY|       P|   Ferrer, Fernando| 1/11/2005|1280 Commonwealth...|   LLC|        X|        Bronx|   NY|10461|    null| 500|        0|       0|         2|\n",
            "|    2005|       1|     B6|       P|Fields, C. Virginia| 6/12/2002|135 East 57th Str...|   LLC|        M|     New York|   NY|10022|    null|1000|        0|       0|         2|\n",
            "|    2005|       1|     AY|       P|   Ferrer, Fernando| 1/11/2005|137 & 138 Realty LLC|   LLC|        M|     New York|   NY|10016|    null| 500|        0|       0|         2|\n",
            "|    2005|       1|     AY|       P|   Ferrer, Fernando|10/20/2004|    1420 Realty, LLC|   LLC|        X|        Bronx|   NY|10461|    null|1000|        0|       0|         2|\n",
            "|    2005|       1|     BB|       P|  Weiner, Anthony D| 6/27/2005|147 Group Realty LLC|   LLC|        Z|   Searington|   NY|11507|    null| 250|        0|       0|         2|\n",
            "|    2005|       1|     AY|       P|   Ferrer, Fernando| 9/19/2005|151st Street Hold...|   LLC|        Z|        Miami|   FL|33142|    null|4950|        0|       0|         2|\n",
            "|    2005|       1|     AY|       P|   Ferrer, Fernando| 7/11/2004|1628-1630 Broadwa...|   LLC|        M|     New York|   NY|10019|    null|4950|        0|       0|         2|\n",
            "|    2005|       1|     AY|       P|   Ferrer, Fernando| 1/27/2005|1695 Eastchester LLC|   LLC|        X|        Bronx|   NY|10461|    null|1000|        0|       0|         2|\n",
            "|    2005|       1|     B6|       P|Fields, C. Virginia| 12/4/2003|   1800 Park Ave LLC|   LLC|        M|     New York|   NY|10022|    null|1000|        0|       0|         2|\n",
            "+--------+--------+-------+--------+-------------------+----------+--------------------+------+---------+-------------+-----+-----+--------+----+---------+--------+----------+\n",
            "only showing top 20 rows\n",
            "\n"
          ]
        }
      ]
    },
    {
      "cell_type": "code",
      "metadata": {
        "id": "btba2GO-LOhL",
        "colab": {
          "base_uri": "https://localhost:8080/"
        },
        "outputId": "bdc4bcab-d41f-4f13-fbb8-0cb184c0b68f"
      },
      "source": [
        "# check data types\n",
        "df.dtypes"
      ],
      "execution_count": 29,
      "outputs": [
        {
          "output_type": "execute_result",
          "data": {
            "text/plain": [
              "[('ELECTION', 'string'),\n",
              " ('OFFICECD', 'string'),\n",
              " ('RECIPID', 'string'),\n",
              " ('CANCLASS', 'string'),\n",
              " ('RECIPNAME', 'string'),\n",
              " ('DATE', 'string'),\n",
              " ('NAME', 'string'),\n",
              " ('C_CODE', 'string'),\n",
              " ('BOROUGHCD', 'string'),\n",
              " ('CITY', 'string'),\n",
              " ('STATE', 'string'),\n",
              " ('ZIP', 'string'),\n",
              " ('EMPSTATE', 'string'),\n",
              " ('AMNT', 'string'),\n",
              " ('MATCHAMNT', 'string'),\n",
              " ('PREVAMNT', 'string'),\n",
              " ('PAY_METHOD', 'string')]"
            ]
          },
          "metadata": {},
          "execution_count": 29
        }
      ]
    },
    {
      "cell_type": "code",
      "metadata": {
        "id": "U3HO9e01LOhL",
        "colab": {
          "base_uri": "https://localhost:8080/"
        },
        "outputId": "6b99eea1-a8e3-4623-dd46-232fbafe86f8"
      },
      "source": [
        "#Change column names\n",
        "df1 = df \\\n",
        ".withColumnRenamed(\"ELECTION\", \"Election\") \\\n",
        ".withColumnRenamed(\"RECIPID\", \"CandidateID\") \\\n",
        ".withColumnRenamed(\"RECIPNAME\", \"CandidateName\") \\\n",
        ".withColumnRenamed(\"DATE\", \"Date\") \\\n",
        ".withColumnRenamed(\"NAME\", \"Name\") \\\n",
        ".withColumnRenamed(\"C_CODE\", \"ContributorType\") \\\n",
        ".withColumnRenamed(\"BOROUGHCD\", \"BoroughName\") \\\n",
        ".withColumnRenamed(\"CITY\", \"City\") \\\n",
        ".withColumnRenamed(\"STATE\", \"State\") \\\n",
        ".withColumnRenamed(\"ZIP\", \"ZipCode\") \\\n",
        ".withColumnRenamed(\"EMPSTATE\", \"ContributionState\") \\\n",
        ".withColumnRenamed(\"AMNT\", \"Amount\") \\\n",
        ".withColumnRenamed(\"MATCHAMNT\", \"MatchAmt\") \\\n",
        ".withColumnRenamed(\"PREVAMNT\", \"PrevAmt\") \\\n",
        ".withColumnRenamed(\"PAY_METHOD\", \"PayMethod\") \n",
        "\n",
        "df1.printSchema()"
      ],
      "execution_count": 30,
      "outputs": [
        {
          "output_type": "stream",
          "name": "stdout",
          "text": [
            "root\n",
            " |-- Election: string (nullable = true)\n",
            " |-- OFFICECD: string (nullable = true)\n",
            " |-- CandidateID: string (nullable = true)\n",
            " |-- CANCLASS: string (nullable = true)\n",
            " |-- CandidateName: string (nullable = true)\n",
            " |-- Date: string (nullable = true)\n",
            " |-- Name: string (nullable = true)\n",
            " |-- ContributorType: string (nullable = true)\n",
            " |-- BoroughName: string (nullable = true)\n",
            " |-- City: string (nullable = true)\n",
            " |-- State: string (nullable = true)\n",
            " |-- ZipCode: string (nullable = true)\n",
            " |-- ContributionState: string (nullable = true)\n",
            " |-- Amount: string (nullable = true)\n",
            " |-- MatchAmt: string (nullable = true)\n",
            " |-- PrevAmt: string (nullable = true)\n",
            " |-- PayMethod: string (nullable = true)\n",
            "\n"
          ]
        }
      ]
    },
    {
      "cell_type": "code",
      "metadata": {
        "id": "SAf4vA_5jTRM"
      },
      "source": [
        "from datetime import datetime\n",
        "from pyspark.sql.functions import col, udf\n",
        "from pyspark.sql.types import DateType"
      ],
      "execution_count": 31,
      "outputs": []
    },
    {
      "cell_type": "code",
      "metadata": {
        "id": "vQV-cL8MT4Ui"
      },
      "source": [
        "# using lambda function to convert date col to datetype\n",
        "# changing datatypes of columns\n",
        "func =  udf (lambda x: datetime.strptime(x, '%m/%d/%Y'), DateType())"
      ],
      "execution_count": 32,
      "outputs": []
    },
    {
      "cell_type": "code",
      "metadata": {
        "id": "o8pcOHEWjVfK"
      },
      "source": [
        "#df2 = df1.withColumn(\"Election\",df1[\"Election\"].cast(\"Integer\")) \\\n",
        "  #.withColumn(\"OFFICECD\", df1[\"OFFICECD\"].cast(\"Integer\")) \\\n",
        "  #.withColumn(\"ZipCode\", df1[\"ZipCode\"].cast(\"Integer\")) \\\n",
        "  #.withColumn(\"Amount\", df1[\"Amount\"].cast(\"Float\")) \\\n",
        "  #.withColumn(\"MatchAmt\", df1[\"MatchAmt\"].cast(\"Float\")) \\\n",
        "  #.withColumn(\"PrevAmt\", df1[\"PrevAmt\"].cast(\"Float\")) \\\n",
        "  #.withColumn('Date', func(col('Date')))\n",
        "#df2.printSchema()\n",
        "\n",
        "#Keep Candidate ID as string\n",
        "#.withColumn(\"CandidateID\", df1[\"CandidateID\"].cast(\"Integer\")) \\"
      ],
      "execution_count": 33,
      "outputs": []
    },
    {
      "cell_type": "code",
      "metadata": {
        "colab": {
          "base_uri": "https://localhost:8080/"
        },
        "id": "WwPS2U0PbJCl",
        "outputId": "58df762c-8df9-4952-f84c-17032f727d7a"
      },
      "source": [
        "df1.show()"
      ],
      "execution_count": 34,
      "outputs": [
        {
          "output_type": "stream",
          "name": "stdout",
          "text": [
            "+--------+--------+-----------+--------+-------------------+----------+--------------------+---------------+-----------+-------------+-----+-------+-----------------+------+--------+-------+---------+\n",
            "|Election|OFFICECD|CandidateID|CANCLASS|      CandidateName|      Date|                Name|ContributorType|BoroughName|         City|State|ZipCode|ContributionState|Amount|MatchAmt|PrevAmt|PayMethod|\n",
            "+--------+--------+-----------+--------+-------------------+----------+--------------------+---------------+-----------+-------------+-----+-------+-----------------+------+--------+-------+---------+\n",
            "|    2005|       1|         BB|       P|  Weiner, Anthony D| 4/12/2005|10 West 47th Stre...|            LLC|          M|     New York|   NY|  10036|             null|  2500|       0|      0|        2|\n",
            "|    2005|       1|         AY|       P|   Ferrer, Fernando|  5/9/2005|    10th Street, LLC|            LLC|          K|     Brooklyn|   NY|  11211|             null|  2000|       0|      0|        2|\n",
            "|    2005|       1|         AY|       P|   Ferrer, Fernando|10/17/2005|112 South Whitney...|            LLC|          Z|West Hartford|   CT|   6119|             null|   125|       0|      0|        2|\n",
            "|    2005|       1|         B6|       P|Fields, C. Virginia| 6/22/2004|119 East 35th Street|           OTHR|          M|     New York|   NY|  10006|             null|   100|       0|      0|        2|\n",
            "|    2005|       1|         BB|       P|  Weiner, Anthony D| 3/28/2004|           1199 SEIU|          PCOMP|          M|     New York|   NY|  10036|             null|  4950|       0|      0|        2|\n",
            "|    2005|       1|         Y2|       P| Miller, A. Gifford| 5/17/2002|   1199 SEIU NYS Paf|          PCOMP|          M|     New York|   NY|  10036|             null|  1000|       0|      0|        2|\n",
            "|    2005|       1|         Y2|       P| Miller, A. Gifford| 7/11/2002|   1199 SEIU NYS Paf|          PCOMP|          M|     New York|   NY|  10036|             null|  1750|       0|   1000|        2|\n",
            "|    2005|       1|         Y2|       P| Miller, A. Gifford| 5/22/2003|   1199 SEIU NYS Paf|          PCOMP|          M|     New York|   NY|  10036|             null|  2200|       0|   2750|        2|\n",
            "|    2005|       1|         AY|       P|   Ferrer, Fernando| 9/28/2005|1199/SEIU NYS Pol...|          PCOMP|          M|     New York|   NY|  10036|             null|  4950|       0|      0|        2|\n",
            "|    2005|       1|         AY|       P|   Ferrer, Fernando| 10/4/2004| 125 Kent Avenue LLC|            LLC|          K|     Brooklyn|   NY|  11211|             null|   200|       0|      0|        2|\n",
            "|    2005|       1|         BB|       P|  Weiner, Anthony D|  1/3/2005|125 North 10th St...|            LLC|          Z|       Elmont|   NY|  11003|             null|  4950|       0|      0|        2|\n",
            "|    2005|       1|         AY|       P|   Ferrer, Fernando| 1/11/2005|1280 Commonwealth...|            LLC|          X|        Bronx|   NY|  10461|             null|   500|       0|      0|        2|\n",
            "|    2005|       1|         B6|       P|Fields, C. Virginia| 6/12/2002|135 East 57th Str...|            LLC|          M|     New York|   NY|  10022|             null|  1000|       0|      0|        2|\n",
            "|    2005|       1|         AY|       P|   Ferrer, Fernando| 1/11/2005|137 & 138 Realty LLC|            LLC|          M|     New York|   NY|  10016|             null|   500|       0|      0|        2|\n",
            "|    2005|       1|         AY|       P|   Ferrer, Fernando|10/20/2004|    1420 Realty, LLC|            LLC|          X|        Bronx|   NY|  10461|             null|  1000|       0|      0|        2|\n",
            "|    2005|       1|         BB|       P|  Weiner, Anthony D| 6/27/2005|147 Group Realty LLC|            LLC|          Z|   Searington|   NY|  11507|             null|   250|       0|      0|        2|\n",
            "|    2005|       1|         AY|       P|   Ferrer, Fernando| 9/19/2005|151st Street Hold...|            LLC|          Z|        Miami|   FL|  33142|             null|  4950|       0|      0|        2|\n",
            "|    2005|       1|         AY|       P|   Ferrer, Fernando| 7/11/2004|1628-1630 Broadwa...|            LLC|          M|     New York|   NY|  10019|             null|  4950|       0|      0|        2|\n",
            "|    2005|       1|         AY|       P|   Ferrer, Fernando| 1/27/2005|1695 Eastchester LLC|            LLC|          X|        Bronx|   NY|  10461|             null|  1000|       0|      0|        2|\n",
            "|    2005|       1|         B6|       P|Fields, C. Virginia| 12/4/2003|   1800 Park Ave LLC|            LLC|          M|     New York|   NY|  10022|             null|  1000|       0|      0|        2|\n",
            "+--------+--------+-----------+--------+-------------------+----------+--------------------+---------------+-----------+-------------+-----+-------+-----------------+------+--------+-------+---------+\n",
            "only showing top 20 rows\n",
            "\n"
          ]
        }
      ]
    },
    {
      "cell_type": "code",
      "metadata": {
        "id": "qa6S4he5LOhM"
      },
      "source": [
        "#Change vaule name in ContributerType\n",
        "from pyspark.sql.functions import regexp_replace\n",
        "df3 = df1.withColumn('ContributorType', regexp_replace('ContributorType', 'CAN', 'Candidate')) \\\n",
        "  .withColumn('ContributorType', regexp_replace('ContributorType', 'CORP', 'Corporation')) \\\n",
        "  .withColumn('ContributorType', regexp_replace('ContributorType', 'EMPO', 'Labor Union')) \\\n",
        "  .withColumn('ContributorType', regexp_replace('ContributorType', 'FAM', 'Candidate Family')) \\\n",
        "  .withColumn('ContributorType', regexp_replace('ContributorType', 'IND', 'Individual')) \\\n",
        "  .withColumn('ContributorType', regexp_replace('ContributorType', 'PCOMZ', 'Party Committee')) \\\n",
        "  .withColumn('ContributorType', regexp_replace('ContributorType', 'ORG', 'Orgainization')) \\\n",
        "  .withColumn('ContributorType', regexp_replace('ContributorType', 'LLC', 'Limited Liability Company')) \\\n",
        "  .withColumn('ContributorType', regexp_replace('ContributorType', 'PCOMP', 'Political Action Committee')) \\\n",
        "  .withColumn('ContributorType', regexp_replace('ContributorType', 'SPO', 'Spouse')) \\\n",
        "  .withColumn('ContributorType', regexp_replace('ContributorType', 'OTHR', 'Other')) \\\n",
        "  .withColumn('ContributorType', regexp_replace('ContributorType', 'PCOMC', 'Candidate Committee')) \\\n",
        "  .withColumn('ContributorType', regexp_replace('ContributorType', 'PART', 'Individual')) \\\n"
      ],
      "execution_count": 35,
      "outputs": []
    },
    {
      "cell_type": "code",
      "metadata": {
        "id": "HKU4a2YeLOhM"
      },
      "source": [
        "#Change Payment Method Name\n",
        "df4=df3.withColumn('PayMethod', regexp_replace('PayMethod','0','Unknown')) \\\n",
        "  .withColumn('PayMethod', regexp_replace('PayMethod','1','Cash')) \\\n",
        "  .withColumn('PayMethod', regexp_replace('PayMethod','2','Check')) \\\n",
        "  .withColumn('PayMethod', regexp_replace('PayMethod','3','Other')) \\\n",
        "  .withColumn('PayMethod', regexp_replace('PayMethod','4','Credit Card')) \\\n",
        "  .withColumn('PayMethod', regexp_replace('PayMethod','5','Money Order')) \\"
      ],
      "execution_count": 36,
      "outputs": []
    },
    {
      "cell_type": "code",
      "metadata": {
        "id": "trH99qC5LOhM"
      },
      "source": [
        "#Change Borough name\n",
        "from pyspark.sql.functions import regexp_replace\n",
        "df5 = df4.withColumn('BoroughName', regexp_replace('BoroughName', 'K', 'Brooklyn')) \\\n",
        "  .withColumn('BoroughName', regexp_replace('BoroughName', 'M', 'Manhattan')) \\\n",
        "  .withColumn('BoroughName', regexp_replace('BoroughName', 'Q', 'Queens')) \\\n",
        "  .withColumn('BoroughName', regexp_replace('BoroughName', 'S', 'Staten Island')) \\\n",
        "  .withColumn('BoroughName', regexp_replace('BoroughName', 'X', 'Bronx')) \\\n",
        "  .withColumn('BoroughName', regexp_replace('BoroughName', 'Z', 'Other')) \\\n"
      ],
      "execution_count": 37,
      "outputs": []
    },
    {
      "cell_type": "code",
      "metadata": {
        "id": "wO9XHx_6LOhM",
        "colab": {
          "base_uri": "https://localhost:8080/"
        },
        "outputId": "aca242af-3a7e-4f01-d799-b7aba7643fb0"
      },
      "source": [
        "#Call only Mayor (1) and particaptes (P) within Dataframe\n",
        "df6 = df5.filter((df5.OFFICECD==\"1\"))\n",
        "df6.show()"
      ],
      "execution_count": 49,
      "outputs": [
        {
          "output_type": "stream",
          "name": "stdout",
          "text": [
            "+--------+--------+-----------+--------+-------------------+----------+--------------------+--------------------+-----------+-------------+-----+-------+-----------------+------+--------+-------+---------+\n",
            "|Election|OFFICECD|CandidateID|CANCLASS|      CandidateName|      Date|                Name|     ContributorType|BoroughName|         City|State|ZipCode|ContributionState|Amount|MatchAmt|PrevAmt|PayMethod|\n",
            "+--------+--------+-----------+--------+-------------------+----------+--------------------+--------------------+-----------+-------------+-----+-------+-----------------+------+--------+-------+---------+\n",
            "|    2005|       1|         BB|       P|  Weiner, Anthony D| 4/12/2005|10 West 47th Stre...|Limited Liability...|  Manhattan|     New York|   NY|  10036|             null|  2500|       0|      0|    Check|\n",
            "|    2005|       1|         AY|       P|   Ferrer, Fernando|  5/9/2005|    10th Street, LLC|Limited Liability...|   Brooklyn|     Brooklyn|   NY|  11211|             null|  2000|       0|      0|    Check|\n",
            "|    2005|       1|         AY|       P|   Ferrer, Fernando|10/17/2005|112 South Whitney...|Limited Liability...|      Other|West Hartford|   CT|   6119|             null|   125|       0|      0|    Check|\n",
            "|    2005|       1|         B6|       P|Fields, C. Virginia| 6/22/2004|119 East 35th Street|               Other|  Manhattan|     New York|   NY|  10006|             null|   100|       0|      0|    Check|\n",
            "|    2005|       1|         BB|       P|  Weiner, Anthony D| 3/28/2004|           1199 SEIU|Political Action ...|  Manhattan|     New York|   NY|  10036|             null|  4950|       0|      0|    Check|\n",
            "|    2005|       1|         Y2|       P| Miller, A. Gifford| 5/17/2002|   1199 SEIU NYS Paf|Political Action ...|  Manhattan|     New York|   NY|  10036|             null|  1000|       0|      0|    Check|\n",
            "|    2005|       1|         Y2|       P| Miller, A. Gifford| 7/11/2002|   1199 SEIU NYS Paf|Political Action ...|  Manhattan|     New York|   NY|  10036|             null|  1750|       0|   1000|    Check|\n",
            "|    2005|       1|         Y2|       P| Miller, A. Gifford| 5/22/2003|   1199 SEIU NYS Paf|Political Action ...|  Manhattan|     New York|   NY|  10036|             null|  2200|       0|   2750|    Check|\n",
            "|    2005|       1|         AY|       P|   Ferrer, Fernando| 9/28/2005|1199/SEIU NYS Pol...|Political Action ...|  Manhattan|     New York|   NY|  10036|             null|  4950|       0|      0|    Check|\n",
            "|    2005|       1|         AY|       P|   Ferrer, Fernando| 10/4/2004| 125 Kent Avenue LLC|Limited Liability...|   Brooklyn|     Brooklyn|   NY|  11211|             null|   200|       0|      0|    Check|\n",
            "|    2005|       1|         BB|       P|  Weiner, Anthony D|  1/3/2005|125 North 10th St...|Limited Liability...|      Other|       Elmont|   NY|  11003|             null|  4950|       0|      0|    Check|\n",
            "|    2005|       1|         AY|       P|   Ferrer, Fernando| 1/11/2005|1280 Commonwealth...|Limited Liability...|      Bronx|        Bronx|   NY|  10461|             null|   500|       0|      0|    Check|\n",
            "|    2005|       1|         B6|       P|Fields, C. Virginia| 6/12/2002|135 East 57th Str...|Limited Liability...|  Manhattan|     New York|   NY|  10022|             null|  1000|       0|      0|    Check|\n",
            "|    2005|       1|         AY|       P|   Ferrer, Fernando| 1/11/2005|137 & 138 Realty LLC|Limited Liability...|  Manhattan|     New York|   NY|  10016|             null|   500|       0|      0|    Check|\n",
            "|    2005|       1|         AY|       P|   Ferrer, Fernando|10/20/2004|    1420 Realty, LLC|Limited Liability...|      Bronx|        Bronx|   NY|  10461|             null|  1000|       0|      0|    Check|\n",
            "|    2005|       1|         BB|       P|  Weiner, Anthony D| 6/27/2005|147 Group Realty LLC|Limited Liability...|      Other|   Searington|   NY|  11507|             null|   250|       0|      0|    Check|\n",
            "|    2005|       1|         AY|       P|   Ferrer, Fernando| 9/19/2005|151st Street Hold...|Limited Liability...|      Other|        Miami|   FL|  33142|             null|  4950|       0|      0|    Check|\n",
            "|    2005|       1|         AY|       P|   Ferrer, Fernando| 7/11/2004|1628-1630 Broadwa...|Limited Liability...|  Manhattan|     New York|   NY|  10019|             null|  4950|       0|      0|    Check|\n",
            "|    2005|       1|         AY|       P|   Ferrer, Fernando| 1/27/2005|1695 Eastchester LLC|Limited Liability...|      Bronx|        Bronx|   NY|  10461|             null|  1000|       0|      0|    Check|\n",
            "|    2005|       1|         B6|       P|Fields, C. Virginia| 12/4/2003|   1800 Park Ave LLC|Limited Liability...|  Manhattan|     New York|   NY|  10022|             null|  1000|       0|      0|    Check|\n",
            "+--------+--------+-----------+--------+-------------------+----------+--------------------+--------------------+-----------+-------------+-----+-------+-----------------+------+--------+-------+---------+\n",
            "only showing top 20 rows\n",
            "\n"
          ]
        }
      ]
    },
    {
      "cell_type": "code",
      "metadata": {
        "id": "nEmNuKUFLOhM",
        "colab": {
          "base_uri": "https://localhost:8080/"
        },
        "outputId": "3fc895ff-1758-4d17-f2de-e8a8b649b71e"
      },
      "source": [
        "#Check the above dataframe to make sure only unique values between the OFFICECD is 1 \n",
        "df6.select('OFFICECD').distinct().show()"
      ],
      "execution_count": 50,
      "outputs": [
        {
          "output_type": "stream",
          "name": "stdout",
          "text": [
            "+--------+\n",
            "|OFFICECD|\n",
            "+--------+\n",
            "|       1|\n",
            "+--------+\n",
            "\n"
          ]
        }
      ]
    },
    {
      "cell_type": "code",
      "metadata": {
        "id": "Myx_AWPaLOhM",
        "colab": {
          "base_uri": "https://localhost:8080/"
        },
        "outputId": "e368d061-95e9-464f-c8a6-2f0d05d88db7"
      },
      "source": [
        "#Drop OFFICECD and CANCLASS\n",
        "list2 = ['OFFICECD', 'CANCLASS'] \n",
        "df7 = df6.drop(*list2)\n",
        "df7.show()"
      ],
      "execution_count": 51,
      "outputs": [
        {
          "output_type": "stream",
          "name": "stdout",
          "text": [
            "+--------+-----------+-------------------+----------+--------------------+--------------------+-----------+-------------+-----+-------+-----------------+------+--------+-------+---------+\n",
            "|Election|CandidateID|      CandidateName|      Date|                Name|     ContributorType|BoroughName|         City|State|ZipCode|ContributionState|Amount|MatchAmt|PrevAmt|PayMethod|\n",
            "+--------+-----------+-------------------+----------+--------------------+--------------------+-----------+-------------+-----+-------+-----------------+------+--------+-------+---------+\n",
            "|    2005|         BB|  Weiner, Anthony D| 4/12/2005|10 West 47th Stre...|Limited Liability...|  Manhattan|     New York|   NY|  10036|             null|  2500|       0|      0|    Check|\n",
            "|    2005|         AY|   Ferrer, Fernando|  5/9/2005|    10th Street, LLC|Limited Liability...|   Brooklyn|     Brooklyn|   NY|  11211|             null|  2000|       0|      0|    Check|\n",
            "|    2005|         AY|   Ferrer, Fernando|10/17/2005|112 South Whitney...|Limited Liability...|      Other|West Hartford|   CT|   6119|             null|   125|       0|      0|    Check|\n",
            "|    2005|         B6|Fields, C. Virginia| 6/22/2004|119 East 35th Street|               Other|  Manhattan|     New York|   NY|  10006|             null|   100|       0|      0|    Check|\n",
            "|    2005|         BB|  Weiner, Anthony D| 3/28/2004|           1199 SEIU|Political Action ...|  Manhattan|     New York|   NY|  10036|             null|  4950|       0|      0|    Check|\n",
            "|    2005|         Y2| Miller, A. Gifford| 5/17/2002|   1199 SEIU NYS Paf|Political Action ...|  Manhattan|     New York|   NY|  10036|             null|  1000|       0|      0|    Check|\n",
            "|    2005|         Y2| Miller, A. Gifford| 7/11/2002|   1199 SEIU NYS Paf|Political Action ...|  Manhattan|     New York|   NY|  10036|             null|  1750|       0|   1000|    Check|\n",
            "|    2005|         Y2| Miller, A. Gifford| 5/22/2003|   1199 SEIU NYS Paf|Political Action ...|  Manhattan|     New York|   NY|  10036|             null|  2200|       0|   2750|    Check|\n",
            "|    2005|         AY|   Ferrer, Fernando| 9/28/2005|1199/SEIU NYS Pol...|Political Action ...|  Manhattan|     New York|   NY|  10036|             null|  4950|       0|      0|    Check|\n",
            "|    2005|         AY|   Ferrer, Fernando| 10/4/2004| 125 Kent Avenue LLC|Limited Liability...|   Brooklyn|     Brooklyn|   NY|  11211|             null|   200|       0|      0|    Check|\n",
            "|    2005|         BB|  Weiner, Anthony D|  1/3/2005|125 North 10th St...|Limited Liability...|      Other|       Elmont|   NY|  11003|             null|  4950|       0|      0|    Check|\n",
            "|    2005|         AY|   Ferrer, Fernando| 1/11/2005|1280 Commonwealth...|Limited Liability...|      Bronx|        Bronx|   NY|  10461|             null|   500|       0|      0|    Check|\n",
            "|    2005|         B6|Fields, C. Virginia| 6/12/2002|135 East 57th Str...|Limited Liability...|  Manhattan|     New York|   NY|  10022|             null|  1000|       0|      0|    Check|\n",
            "|    2005|         AY|   Ferrer, Fernando| 1/11/2005|137 & 138 Realty LLC|Limited Liability...|  Manhattan|     New York|   NY|  10016|             null|   500|       0|      0|    Check|\n",
            "|    2005|         AY|   Ferrer, Fernando|10/20/2004|    1420 Realty, LLC|Limited Liability...|      Bronx|        Bronx|   NY|  10461|             null|  1000|       0|      0|    Check|\n",
            "|    2005|         BB|  Weiner, Anthony D| 6/27/2005|147 Group Realty LLC|Limited Liability...|      Other|   Searington|   NY|  11507|             null|   250|       0|      0|    Check|\n",
            "|    2005|         AY|   Ferrer, Fernando| 9/19/2005|151st Street Hold...|Limited Liability...|      Other|        Miami|   FL|  33142|             null|  4950|       0|      0|    Check|\n",
            "|    2005|         AY|   Ferrer, Fernando| 7/11/2004|1628-1630 Broadwa...|Limited Liability...|  Manhattan|     New York|   NY|  10019|             null|  4950|       0|      0|    Check|\n",
            "|    2005|         AY|   Ferrer, Fernando| 1/27/2005|1695 Eastchester LLC|Limited Liability...|      Bronx|        Bronx|   NY|  10461|             null|  1000|       0|      0|    Check|\n",
            "|    2005|         B6|Fields, C. Virginia| 12/4/2003|   1800 Park Ave LLC|Limited Liability...|  Manhattan|     New York|   NY|  10022|             null|  1000|       0|      0|    Check|\n",
            "+--------+-----------+-------------------+----------+--------------------+--------------------+-----------+-------------+-----+-------+-----------------+------+--------+-------+---------+\n",
            "only showing top 20 rows\n",
            "\n"
          ]
        }
      ]
    },
    {
      "cell_type": "code",
      "metadata": {
        "id": "OEu2eqWaDg1J"
      },
      "source": [
        "#Filter Dataframe removing the null CandidateID values\n",
        "df8 = df7.filter(df7.CandidateID.isNotNull())"
      ],
      "execution_count": 52,
      "outputs": []
    },
    {
      "cell_type": "code",
      "metadata": {
        "id": "Uci_zuD5LOhM",
        "colab": {
          "base_uri": "https://localhost:8080/"
        },
        "outputId": "4c885b9c-cf4e-4ee3-87ce-bd0f8cca56eb"
      },
      "source": [
        "# ADD AMNT and MATCHAMNT PrevAmnt\n",
        "from pyspark.sql.functions import col\n",
        "clean_comm_2005_df = df8.withColumn(\"TotalAmount\", col(\"Amount\")+col(\"MatchAmt\")+col('PrevAmt'))\n",
        "clean_comm_2005_df.show()"
      ],
      "execution_count": 53,
      "outputs": [
        {
          "output_type": "stream",
          "name": "stdout",
          "text": [
            "+--------+-----------+-------------------+----------+--------------------+--------------------+-----------+-------------+-----+-------+-----------------+------+--------+-------+---------+-----------+\n",
            "|Election|CandidateID|      CandidateName|      Date|                Name|     ContributorType|BoroughName|         City|State|ZipCode|ContributionState|Amount|MatchAmt|PrevAmt|PayMethod|TotalAmount|\n",
            "+--------+-----------+-------------------+----------+--------------------+--------------------+-----------+-------------+-----+-------+-----------------+------+--------+-------+---------+-----------+\n",
            "|    2005|         BB|  Weiner, Anthony D| 4/12/2005|10 West 47th Stre...|Limited Liability...|  Manhattan|     New York|   NY|  10036|             null|  2500|       0|      0|    Check|     2500.0|\n",
            "|    2005|         AY|   Ferrer, Fernando|  5/9/2005|    10th Street, LLC|Limited Liability...|   Brooklyn|     Brooklyn|   NY|  11211|             null|  2000|       0|      0|    Check|     2000.0|\n",
            "|    2005|         AY|   Ferrer, Fernando|10/17/2005|112 South Whitney...|Limited Liability...|      Other|West Hartford|   CT|   6119|             null|   125|       0|      0|    Check|      125.0|\n",
            "|    2005|         B6|Fields, C. Virginia| 6/22/2004|119 East 35th Street|               Other|  Manhattan|     New York|   NY|  10006|             null|   100|       0|      0|    Check|      100.0|\n",
            "|    2005|         BB|  Weiner, Anthony D| 3/28/2004|           1199 SEIU|Political Action ...|  Manhattan|     New York|   NY|  10036|             null|  4950|       0|      0|    Check|     4950.0|\n",
            "|    2005|         Y2| Miller, A. Gifford| 5/17/2002|   1199 SEIU NYS Paf|Political Action ...|  Manhattan|     New York|   NY|  10036|             null|  1000|       0|      0|    Check|     1000.0|\n",
            "|    2005|         Y2| Miller, A. Gifford| 7/11/2002|   1199 SEIU NYS Paf|Political Action ...|  Manhattan|     New York|   NY|  10036|             null|  1750|       0|   1000|    Check|     2750.0|\n",
            "|    2005|         Y2| Miller, A. Gifford| 5/22/2003|   1199 SEIU NYS Paf|Political Action ...|  Manhattan|     New York|   NY|  10036|             null|  2200|       0|   2750|    Check|     4950.0|\n",
            "|    2005|         AY|   Ferrer, Fernando| 9/28/2005|1199/SEIU NYS Pol...|Political Action ...|  Manhattan|     New York|   NY|  10036|             null|  4950|       0|      0|    Check|     4950.0|\n",
            "|    2005|         AY|   Ferrer, Fernando| 10/4/2004| 125 Kent Avenue LLC|Limited Liability...|   Brooklyn|     Brooklyn|   NY|  11211|             null|   200|       0|      0|    Check|      200.0|\n",
            "|    2005|         BB|  Weiner, Anthony D|  1/3/2005|125 North 10th St...|Limited Liability...|      Other|       Elmont|   NY|  11003|             null|  4950|       0|      0|    Check|     4950.0|\n",
            "|    2005|         AY|   Ferrer, Fernando| 1/11/2005|1280 Commonwealth...|Limited Liability...|      Bronx|        Bronx|   NY|  10461|             null|   500|       0|      0|    Check|      500.0|\n",
            "|    2005|         B6|Fields, C. Virginia| 6/12/2002|135 East 57th Str...|Limited Liability...|  Manhattan|     New York|   NY|  10022|             null|  1000|       0|      0|    Check|     1000.0|\n",
            "|    2005|         AY|   Ferrer, Fernando| 1/11/2005|137 & 138 Realty LLC|Limited Liability...|  Manhattan|     New York|   NY|  10016|             null|   500|       0|      0|    Check|      500.0|\n",
            "|    2005|         AY|   Ferrer, Fernando|10/20/2004|    1420 Realty, LLC|Limited Liability...|      Bronx|        Bronx|   NY|  10461|             null|  1000|       0|      0|    Check|     1000.0|\n",
            "|    2005|         BB|  Weiner, Anthony D| 6/27/2005|147 Group Realty LLC|Limited Liability...|      Other|   Searington|   NY|  11507|             null|   250|       0|      0|    Check|      250.0|\n",
            "|    2005|         AY|   Ferrer, Fernando| 9/19/2005|151st Street Hold...|Limited Liability...|      Other|        Miami|   FL|  33142|             null|  4950|       0|      0|    Check|     4950.0|\n",
            "|    2005|         AY|   Ferrer, Fernando| 7/11/2004|1628-1630 Broadwa...|Limited Liability...|  Manhattan|     New York|   NY|  10019|             null|  4950|       0|      0|    Check|     4950.0|\n",
            "|    2005|         AY|   Ferrer, Fernando| 1/27/2005|1695 Eastchester LLC|Limited Liability...|      Bronx|        Bronx|   NY|  10461|             null|  1000|       0|      0|    Check|     1000.0|\n",
            "|    2005|         B6|Fields, C. Virginia| 12/4/2003|   1800 Park Ave LLC|Limited Liability...|  Manhattan|     New York|   NY|  10022|             null|  1000|       0|      0|    Check|     1000.0|\n",
            "+--------+-----------+-------------------+----------+--------------------+--------------------+-----------+-------------+-----+-------+-----------------+------+--------+-------+---------+-----------+\n",
            "only showing top 20 rows\n",
            "\n"
          ]
        }
      ]
    },
    {
      "cell_type": "code",
      "metadata": {
        "colab": {
          "base_uri": "https://localhost:8080/"
        },
        "id": "f96RFJy7cgzl",
        "outputId": "3d9c71b1-1594-47d8-a8f8-ff70c234bbdd"
      },
      "source": [
        "# import modules\n",
        "from pyspark.sql import SparkSession\n",
        "import functools\n",
        "  \n",
        "# explicit function\n",
        "def unionAll(dfs):\n",
        "    return functools.reduce(lambda clean_indiv_2005_df, clean_comm_2005_df: clean_indiv_2005_df.union(clean_comm_2005_df.select(clean_indiv_2005_df.columns)), dfs)\n",
        "\n",
        "unioned_df = unionAll([clean_indiv_2005_df, clean_comm_2005_df])\n",
        "unioned_df.show()"
      ],
      "execution_count": 54,
      "outputs": [
        {
          "output_type": "stream",
          "name": "stdout",
          "text": [
            "+--------+-----------+------------------+----------+--------------------+--------------------+-----------+-------------+-----+-------+------+--------+-------+---------+-----------+\n",
            "|Election|CandidateID|     CandidateName|      Date|                Name|     ContributorType|BoroughName|         City|State|ZipCode|Amount|MatchAmt|PrevAmt|PayMethod|TotalAmount|\n",
            "+--------+-----------+------------------+----------+--------------------+--------------------+-----------+-------------+-----+-------+------+--------+-------+---------+-----------+\n",
            "|    2005|         BB|    Anthony,Weiner| 4/12/2005|10 West 47th Stre...|Limited Liability...|  Manhattan|     New York|   NY|  10036|  2500|       0|      0|    Check|     2500.0|\n",
            "|    2005|         AY|   Fernando,Ferrer|  5/9/2005|    10th Street, LLC|Limited Liability...|   Brooklyn|     Brooklyn|   NY|  11211|  2000|       0|      0|    Check|     2000.0|\n",
            "|    2005|         AY|   Fernando,Ferrer|10/17/2005|112 South Whitney...|Limited Liability...|      Other|West Hartford|   CT|   6119|   125|       0|      0|    Check|      125.0|\n",
            "|    2005|         B6|C. Virginia,Fields| 6/22/2004|119 East 35th Street|               Other|  Manhattan|     New York|   NY|  10006|   100|       0|      0|    Check|      100.0|\n",
            "|    2005|         BB|    Anthony,Weiner| 3/28/2004|           1199 SEIU|Political Action ...|  Manhattan|     New York|   NY|  10036|  4950|       0|      0|    Check|     4950.0|\n",
            "|    2005|         Y2| A. Gifford,Miller| 5/22/2003|   1199 SEIU NYS Paf|Political Action ...|  Manhattan|     New York|   NY|  10036|  2200|       0|   2750|    Check|     4950.0|\n",
            "|    2005|         Y2| A. Gifford,Miller| 5/17/2002|   1199 SEIU NYS Paf|Political Action ...|  Manhattan|     New York|   NY|  10036|  1000|       0|      0|    Check|     1000.0|\n",
            "|    2005|         Y2| A. Gifford,Miller| 7/11/2002|   1199 SEIU NYS Paf|Political Action ...|  Manhattan|     New York|   NY|  10036|  1750|       0|   1000|    Check|     2750.0|\n",
            "|    2005|         AY|   Fernando,Ferrer| 9/28/2005|1199/SEIU NYS Pol...|Political Action ...|  Manhattan|     New York|   NY|  10036|  4950|       0|      0|    Check|     4950.0|\n",
            "|    2005|         AY|   Fernando,Ferrer| 10/4/2004| 125 Kent Avenue LLC|Limited Liability...|   Brooklyn|     Brooklyn|   NY|  11211|   200|       0|      0|    Check|      200.0|\n",
            "|    2005|         BB|    Anthony,Weiner|  1/3/2005|125 North 10th St...|Limited Liability...|      Other|       Elmont|   NY|  11003|  4950|       0|      0|    Check|     4950.0|\n",
            "|    2005|         AY|   Fernando,Ferrer| 1/11/2005|1280 Commonwealth...|Limited Liability...|      Bronx|        Bronx|   NY|  10461|   500|       0|      0|    Check|      500.0|\n",
            "|    2005|         B6|C. Virginia,Fields| 6/12/2002|135 East 57th Str...|Limited Liability...|  Manhattan|     New York|   NY|  10022|  1000|       0|      0|    Check|     1000.0|\n",
            "|    2005|         AY|   Fernando,Ferrer| 1/11/2005|137 & 138 Realty LLC|Limited Liability...|  Manhattan|     New York|   NY|  10016|   500|       0|      0|    Check|      500.0|\n",
            "|    2005|         AY|   Fernando,Ferrer|10/20/2004|    1420 Realty, LLC|Limited Liability...|      Bronx|        Bronx|   NY|  10461|  1000|       0|      0|    Check|     1000.0|\n",
            "|    2005|         BB|    Anthony,Weiner| 6/27/2005|147 Group Realty LLC|Limited Liability...|      Other|   Searington|   NY|  11507|   250|       0|      0|    Check|      250.0|\n",
            "|    2005|         AY|   Fernando,Ferrer| 9/19/2005|151st Street Hold...|Limited Liability...|      Other|        Miami|   FL|  33142|  4950|       0|      0|    Check|     4950.0|\n",
            "|    2005|         AY|   Fernando,Ferrer| 7/11/2004|1628-1630 Broadwa...|Limited Liability...|  Manhattan|     New York|   NY|  10019|  4950|       0|      0|    Check|     4950.0|\n",
            "|    2005|         AY|   Fernando,Ferrer| 1/27/2005|1695 Eastchester LLC|Limited Liability...|      Bronx|        Bronx|   NY|  10461|  1000|       0|      0|    Check|     1000.0|\n",
            "|    2005|         B6|C. Virginia,Fields| 12/4/2003|   1800 Park Ave LLC|Limited Liability...|  Manhattan|     New York|   NY|  10022|  1000|       0|      0|    Check|     1000.0|\n",
            "+--------+-----------+------------------+----------+--------------------+--------------------+-----------+-------------+-----+-------+------+--------+-------+---------+-----------+\n",
            "only showing top 20 rows\n",
            "\n"
          ]
        }
      ]
    },
    {
      "cell_type": "code",
      "metadata": {
        "id": "oR81812gcqpI"
      },
      "source": [
        "#Export to new CSV\n",
        "unioned_df.toPandas().to_csv(\"Contributions_2005.csv\", header=True)"
      ],
      "execution_count": 55,
      "outputs": []
    },
    {
      "cell_type": "code",
      "metadata": {
        "id": "JP38ou7rs5hY"
      },
      "source": [
        "#Export to new CSV\n",
        "#clean_comm_2005_df.toPandas().to_csv(\"Clean_Committee_2005.csv\", header=True)"
      ],
      "execution_count": 45,
      "outputs": []
    },
    {
      "cell_type": "code",
      "metadata": {
        "id": "S3PsGBmTLOhN"
      },
      "source": [
        "# Store environmental variable\n",
        "from getpass import getpass\n",
        "#Configure settings for RDS\n",
        "mode = \"append\"\n",
        "jdbc_url=\"jdbc:postgresql://database-final.cjdbapst3wjf.us-east-1.rds.amazonaws.com:5432/postgres\"\n",
        "config = {\"user\":\"postgres\",\n",
        "          \"password\": \"******\",\n",
        "          \"driver\":\"org.postgresql.Driver\"}"
      ],
      "execution_count": 46,
      "outputs": []
    },
    {
      "cell_type": "code",
      "metadata": {
        "id": "BJ4dBFJKSG5J"
      },
      "source": [
        "# Write DataFrame to active_user table in RDS\n",
        "#clean_indiv_2005_df.write.jdbc(url=jdbc_url, table='individual_2005', mode=mode, properties=config)"
      ],
      "execution_count": 47,
      "outputs": []
    },
    {
      "cell_type": "code",
      "metadata": {
        "id": "SSpL71qCG1F2"
      },
      "source": [
        "# Write DataFrame to active_user table in RDS\n",
        "#clean_comm_2005_df.write.jdbc(url=jdbc_url, table='committee_2005', mode=mode, properties=config)"
      ],
      "execution_count": 48,
      "outputs": []
    }
  ]
}